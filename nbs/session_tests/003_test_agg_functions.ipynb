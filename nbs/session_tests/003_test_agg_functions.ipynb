{
 "cells": [
  {
   "cell_type": "markdown",
   "metadata": {},
   "source": [
    "# Test aggregation functions"
   ]
  },
  {
   "cell_type": "code",
   "execution_count": null,
   "metadata": {},
   "outputs": [],
   "source": [
    "#| hide\n",
    "from nbdev.showdoc import show_doc\n",
    "\n",
    "%load_ext autoreload\n",
    "%autoreload 2"
   ]
  },
  {
   "cell_type": "code",
   "execution_count": null,
   "metadata": {},
   "outputs": [],
   "source": [
    "#| output: false\n",
    "import numpy as np\n",
    "import tempfile\n",
    "from pandas import DataFrame\n",
    "from pathlib import Path\n",
    "import pandas as pd\n",
    "\n",
    "from spannerlib.span import Span\n",
    "from spannerlib.session import Session,test_session"
   ]
  },
  {
   "cell_type": "code",
   "execution_count": null,
   "metadata": {},
   "outputs": [
    {
     "data": {
      "text/plain": [
       "'?Prompt(P)'"
      ]
     },
     "metadata": {},
     "output_type": "display_data"
    },
    {
     "data": {
      "text/html": [
       "<div>\n",
       "<style scoped>\n",
       "    .dataframe tbody tr th:only-of-type {\n",
       "        vertical-align: middle;\n",
       "    }\n",
       "\n",
       "    .dataframe tbody tr th {\n",
       "        vertical-align: top;\n",
       "    }\n",
       "\n",
       "    .dataframe thead th {\n",
       "        text-align: right;\n",
       "    }\n",
       "</style>\n",
       "<table border=\"1\" class=\"dataframe\">\n",
       "  <thead>\n",
       "    <tr style=\"text-align: right;\">\n",
       "      <th></th>\n",
       "      <th>P</th>\n",
       "    </tr>\n",
       "  </thead>\n",
       "  <tbody>\n",
       "    <tr>\n",
       "      <th>0</th>\n",
       "      <td>he ho llo</td>\n",
       "    </tr>\n",
       "  </tbody>\n",
       "</table>\n",
       "</div>"
      ],
      "text/plain": [
       "           P\n",
       "0  he ho llo"
      ]
     },
     "metadata": {},
     "output_type": "display_data"
    }
   ],
   "source": [
    "def lexic_concat(strings):\n",
    "    strings = list(strings)\n",
    "    return \" \".join(sorted(strings))\n",
    "\n",
    "test_session(\n",
    "    [\n",
    "        \"\"\"\n",
    "        new Text(str)\n",
    "        Text(\"he\")\n",
    "        Text(\"llo\")\n",
    "        Text(\"ho\")\n",
    "\n",
    "        Prompt(concat(P))<-Text(P)\n",
    "        \"\"\",\n",
    "    \n",
    "        \"\"\"\n",
    "        ?Prompt(P)\n",
    "        \"\"\"\n",
    "    ],\n",
    "    [\n",
    "        None,\n",
    "        DataFrame({'P': ['he ho llo']})\n",
    "    ],\n",
    "    agg_funcs=[\n",
    "        ['concat',lexic_concat,[str],[str]],\n",
    "    ],\n",
    ")\n"
   ]
  },
  {
   "cell_type": "code",
   "execution_count": null,
   "metadata": {},
   "outputs": [
    {
     "data": {
      "text/plain": [
       "'?Prompt(P)'"
      ]
     },
     "metadata": {},
     "output_type": "display_data"
    },
    {
     "data": {
      "text/html": [
       "<div>\n",
       "<style scoped>\n",
       "    .dataframe tbody tr th:only-of-type {\n",
       "        vertical-align: middle;\n",
       "    }\n",
       "\n",
       "    .dataframe tbody tr th {\n",
       "        vertical-align: top;\n",
       "    }\n",
       "\n",
       "    .dataframe thead th {\n",
       "        text-align: right;\n",
       "    }\n",
       "</style>\n",
       "<table border=\"1\" class=\"dataframe\">\n",
       "  <thead>\n",
       "    <tr style=\"text-align: right;\">\n",
       "      <th></th>\n",
       "      <th>P</th>\n",
       "    </tr>\n",
       "  </thead>\n",
       "  <tbody>\n",
       "    <tr>\n",
       "      <th>0</th>\n",
       "      <td>he ho llo</td>\n",
       "    </tr>\n",
       "  </tbody>\n",
       "</table>\n",
       "</div>"
      ],
      "text/plain": [
       "           P\n",
       "0  he ho llo"
      ]
     },
     "metadata": {},
     "output_type": "display_data"
    }
   ],
   "source": [
    "def lexic_concat(strings):\n",
    "    strings = list(strings)\n",
    "    return \" \".join(sorted(strings))\n",
    "\n",
    "test_session(\n",
    "    [\n",
    "        \"\"\"\n",
    "        new Text(str)\n",
    "        Text(\"he\")\n",
    "        Text(\"llo\")\n",
    "        Text(\"ho\")\n",
    "\n",
    "        Prompt(concat(P))<-Text(P)\n",
    "        \"\"\",\n",
    "    \n",
    "        \"\"\"\n",
    "        ?Prompt(P)\n",
    "        \"\"\"\n",
    "    ],\n",
    "    [\n",
    "        None,\n",
    "        DataFrame({'P': ['he ho llo']})\n",
    "    ],\n",
    "    agg_funcs=[\n",
    "        ['concat',lexic_concat,[str],[str]],\n",
    "    ],\n",
    ")\n"
   ]
  },
  {
   "cell_type": "code",
   "execution_count": null,
   "metadata": {},
   "outputs": [
    {
     "data": {
      "text/plain": [
       "'?aggregations(A,B,C)'"
      ]
     },
     "metadata": {},
     "output_type": "display_data"
    },
    {
     "data": {
      "text/html": [
       "<div>\n",
       "<style scoped>\n",
       "    .dataframe tbody tr th:only-of-type {\n",
       "        vertical-align: middle;\n",
       "    }\n",
       "\n",
       "    .dataframe tbody tr th {\n",
       "        vertical-align: top;\n",
       "    }\n",
       "\n",
       "    .dataframe thead th {\n",
       "        text-align: right;\n",
       "    }\n",
       "</style>\n",
       "<table border=\"1\" class=\"dataframe\">\n",
       "  <thead>\n",
       "    <tr style=\"text-align: right;\">\n",
       "      <th></th>\n",
       "      <th>A</th>\n",
       "      <th>B</th>\n",
       "      <th>C</th>\n",
       "    </tr>\n",
       "  </thead>\n",
       "  <tbody>\n",
       "    <tr>\n",
       "      <th>0</th>\n",
       "      <td>1</td>\n",
       "      <td>7</td>\n",
       "      <td>3</td>\n",
       "    </tr>\n",
       "    <tr>\n",
       "      <th>1</th>\n",
       "      <td>2</td>\n",
       "      <td>11</td>\n",
       "      <td>4</td>\n",
       "    </tr>\n",
       "  </tbody>\n",
       "</table>\n",
       "</div>"
      ],
      "text/plain": [
       "   A   B  C\n",
       "0  1   7  3\n",
       "1  2  11  4"
      ]
     },
     "metadata": {},
     "output_type": "display_data"
    }
   ],
   "source": [
    "test_session(\n",
    "    [\n",
    "        \"\"\"\n",
    "        new nums(int,int,int)\n",
    "        nums(1,2,3)\n",
    "        nums(1,5,6)\n",
    "        nums(2,3,4)\n",
    "        nums(2,8,9)\n",
    "        \n",
    "        aggregations(X,sum(Y),min(Z)) <- nums(X,Y,Z)\n",
    "        ?aggregations(A,B,C)\n",
    "        \"\"\",\n",
    "    \n",
    "    ],\n",
    "    [\n",
    "            DataFrame([\n",
    "                [1, 7, 3],\n",
    "                [2, 11, 4]]\n",
    "                , columns=['A','B','C'])\n",
    "    ],\n",
    "    agg_funcs=[\n",
    "        ['concat',lexic_concat,[str],[str]],\n",
    "    ],\n",
    ")"
   ]
  },
  {
   "cell_type": "code",
   "execution_count": null,
   "metadata": {},
   "outputs": [
    {
     "data": {
      "text/plain": [
       "'?aggregations(A,B,C)'"
      ]
     },
     "metadata": {},
     "output_type": "display_data"
    },
    {
     "data": {
      "text/html": [
       "<div>\n",
       "<style scoped>\n",
       "    .dataframe tbody tr th:only-of-type {\n",
       "        vertical-align: middle;\n",
       "    }\n",
       "\n",
       "    .dataframe tbody tr th {\n",
       "        vertical-align: top;\n",
       "    }\n",
       "\n",
       "    .dataframe thead th {\n",
       "        text-align: right;\n",
       "    }\n",
       "</style>\n",
       "<table border=\"1\" class=\"dataframe\">\n",
       "  <thead>\n",
       "    <tr style=\"text-align: right;\">\n",
       "      <th></th>\n",
       "      <th>A</th>\n",
       "      <th>B</th>\n",
       "      <th>C</th>\n",
       "    </tr>\n",
       "  </thead>\n",
       "  <tbody>\n",
       "    <tr>\n",
       "      <th>0</th>\n",
       "      <td>1</td>\n",
       "      <td>7</td>\n",
       "      <td>1</td>\n",
       "    </tr>\n",
       "    <tr>\n",
       "      <th>1</th>\n",
       "      <td>2</td>\n",
       "      <td>11</td>\n",
       "      <td>2</td>\n",
       "    </tr>\n",
       "  </tbody>\n",
       "</table>\n",
       "</div>"
      ],
      "text/plain": [
       "   A   B  C\n",
       "0  1   7  1\n",
       "1  2  11  2"
      ]
     },
     "metadata": {},
     "output_type": "display_data"
    }
   ],
   "source": [
    "test_session(\n",
    "    [\n",
    "        \"\"\"\n",
    "        new nums(int,int,int)\n",
    "        nums(1,2,3)\n",
    "        nums(1,5,6)\n",
    "        nums(2,3,4)\n",
    "        nums(2,8,9)\n",
    "        \n",
    "        aggregations(X,sum(Y),min(X)) <- nums(X,Y,Z)\n",
    "        ?aggregations(A,B,C)\n",
    "        \"\"\",\n",
    "    \n",
    "    ],\n",
    "    [\n",
    "            DataFrame([\n",
    "                [1, 7, 1],\n",
    "                [2, 11, 2]]\n",
    "                , columns=['A','B','C'])\n",
    "    ],\n",
    "    agg_funcs=[\n",
    "        ['concat',lexic_concat,[str],[str]],\n",
    "    ],\n",
    ")"
   ]
  }
 ],
 "metadata": {
  "kernelspec": {
   "display_name": "python3",
   "language": "python",
   "name": "python3"
  }
 },
 "nbformat": 4,
 "nbformat_minor": 2
}
