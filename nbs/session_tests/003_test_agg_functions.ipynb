{
 "cells": [
  {
   "cell_type": "markdown",
   "metadata": {},
   "source": [
    "# Test aggregation functions"
   ]
  },
  {
   "cell_type": "code",
   "execution_count": null,
   "metadata": {},
   "outputs": [],
   "source": [
    "#| hide\n",
    "from nbdev.showdoc import show_doc\n",
    "\n",
    "%load_ext autoreload\n",
    "%autoreload 2"
   ]
  },
  {
   "cell_type": "code",
   "execution_count": null,
   "metadata": {},
   "outputs": [],
   "source": [
    "#| output: false\n",
    "import numpy as np\n",
    "import tempfile\n",
    "from pandas import DataFrame\n",
    "from pathlib import Path\n",
    "import pandas as pd\n",
    "\n",
    "from spannerlib.span import Span\n",
    "from spannerlib.session import Session,test_session"
   ]
  },
  {
   "cell_type": "code",
   "execution_count": null,
   "metadata": {},
   "outputs": [
    {
     "data": {
      "text/plain": [
       "'?Prompt(P)'"
      ]
     },
     "metadata": {},
     "output_type": "display_data"
    },
    {
     "data": {
      "text/html": [
       "<style type=\"text/css\">\n",
       "#T_4adaa_row0_col0 {\n",
       "  overflow-wrap: break-word;\n",
       "  max-width: 800px;\n",
       "  text-align: left;\n",
       "}\n",
       "</style>\n",
       "<table id=\"T_4adaa\" class=\"display nowrap\"style=\"table-layout:auto;width:auto;margin:auto;caption-side:bottom\">\n",
       "  <thead>\n",
       "    <tr>\n",
       "      <th id=\"T_4adaa_level0_col0\" class=\"col_heading level0 col0\" >P</th>\n",
       "    </tr>\n",
       "  </thead>\n",
       "  <tbody>\n",
       "    <tr>\n",
       "      <td id=\"T_4adaa_row0_col0\" class=\"data row0 col0\" >he ho llo</td>\n",
       "    </tr>\n",
       "  </tbody>\n",
       "</table>\n",
       "\n",
       "<link href=\"https://www.unpkg.com/dt_for_itables@2.0.11/dt_bundle.css\" rel=\"stylesheet\">\n",
       "<script type=\"module\">\n",
       "    import {DataTable, jQuery as $} from 'https://www.unpkg.com/dt_for_itables@2.0.11/dt_bundle.js';\n",
       "\n",
       "    document.querySelectorAll(\"#T_4adaa:not(.dataTable)\").forEach(table => {\n",
       "        // Define the table data\n",
       "        \n",
       "\n",
       "        // Define the dt_args\n",
       "        let dt_args = {\"columnDefs\": [{\"targets\": [\"P\"], \"render\": function(data, type, row) {\n",
       "                    return '<div style=\"white-space: normal; word-wrap: break-word;\">' + data + '</div>';\n",
       "                }, \"width\": \"300px\"}], \"escape\": true, \"layout\": {\"topStart\": null, \"topEnd\": null, \"bottomStart\": null, \"bottomEnd\": null}, \"display_logo_when_loading\": true, \"order\": []};\n",
       "        \n",
       "\n",
       "        \n",
       "        new DataTable(table, dt_args);\n",
       "    });\n",
       "</script>\n"
      ],
      "text/plain": [
       "<IPython.core.display.HTML object>"
      ]
     },
     "metadata": {},
     "output_type": "display_data"
    },
    {
     "data": {
      "text/plain": [
       "<spannerlib.session.Session>"
      ]
     },
     "execution_count": null,
     "metadata": {},
     "output_type": "execute_result"
    }
   ],
   "source": [
    "def lexic_concat(strings):\n",
    "    strings = list(strings)\n",
    "    return \" \".join(sorted(strings))\n",
    "\n",
    "test_session(\n",
    "    [\n",
    "        \"\"\"\n",
    "        new Text(str)\n",
    "        Text(\"he\")\n",
    "        Text(\"llo\")\n",
    "        Text(\"ho\")\n",
    "\n",
    "        Prompt(concat(P))<-Text(P)\n",
    "        \"\"\",\n",
    "    \n",
    "        \"\"\"\n",
    "        ?Prompt(P)\n",
    "        \"\"\"\n",
    "    ],\n",
    "    [\n",
    "        None,\n",
    "        DataFrame({'P': ['he ho llo']})\n",
    "    ],\n",
    "    agg_funcs=[\n",
    "        ['concat',lexic_concat,[str],[str]],\n",
    "    ],\n",
    ")\n"
   ]
  },
  {
   "cell_type": "code",
   "execution_count": null,
   "metadata": {},
   "outputs": [
    {
     "data": {
      "text/plain": [
       "'?Prompt(P)'"
      ]
     },
     "metadata": {},
     "output_type": "display_data"
    },
    {
     "data": {
      "text/html": [
       "<style type=\"text/css\">\n",
       "#T_d961f_row0_col0 {\n",
       "  overflow-wrap: break-word;\n",
       "  max-width: 800px;\n",
       "  text-align: left;\n",
       "}\n",
       "</style>\n",
       "<table id=\"T_d961f\" class=\"display nowrap\"style=\"table-layout:auto;width:auto;margin:auto;caption-side:bottom\">\n",
       "  <thead>\n",
       "    <tr>\n",
       "      <th id=\"T_d961f_level0_col0\" class=\"col_heading level0 col0\" >P</th>\n",
       "    </tr>\n",
       "  </thead>\n",
       "  <tbody>\n",
       "    <tr>\n",
       "      <td id=\"T_d961f_row0_col0\" class=\"data row0 col0\" >he ho llo</td>\n",
       "    </tr>\n",
       "  </tbody>\n",
       "</table>\n",
       "\n",
       "<link href=\"https://www.unpkg.com/dt_for_itables@2.0.11/dt_bundle.css\" rel=\"stylesheet\">\n",
       "<script type=\"module\">\n",
       "    import {DataTable, jQuery as $} from 'https://www.unpkg.com/dt_for_itables@2.0.11/dt_bundle.js';\n",
       "\n",
       "    document.querySelectorAll(\"#T_d961f:not(.dataTable)\").forEach(table => {\n",
       "        // Define the table data\n",
       "        \n",
       "\n",
       "        // Define the dt_args\n",
       "        let dt_args = {\"columnDefs\": [{\"targets\": [\"P\"], \"render\": function(data, type, row) {\n",
       "                    return '<div style=\"white-space: normal; word-wrap: break-word;\">' + data + '</div>';\n",
       "                }, \"width\": \"300px\"}], \"escape\": true, \"layout\": {\"topStart\": null, \"topEnd\": null, \"bottomStart\": null, \"bottomEnd\": null}, \"display_logo_when_loading\": true, \"order\": []};\n",
       "        \n",
       "\n",
       "        \n",
       "        new DataTable(table, dt_args);\n",
       "    });\n",
       "</script>\n"
      ],
      "text/plain": [
       "<IPython.core.display.HTML object>"
      ]
     },
     "metadata": {},
     "output_type": "display_data"
    },
    {
     "data": {
      "text/plain": [
       "<spannerlib.session.Session>"
      ]
     },
     "execution_count": null,
     "metadata": {},
     "output_type": "execute_result"
    }
   ],
   "source": [
    "def lexic_concat(strings):\n",
    "    strings = list(strings)\n",
    "    return \" \".join(sorted(strings))\n",
    "\n",
    "test_session(\n",
    "    [\n",
    "        \"\"\"\n",
    "        new Text(str)\n",
    "        Text(\"he\")\n",
    "        Text(\"llo\")\n",
    "        Text(\"ho\")\n",
    "\n",
    "        Prompt(concat(P))<-Text(P)\n",
    "        \"\"\",\n",
    "    \n",
    "        \"\"\"\n",
    "        ?Prompt(P)\n",
    "        \"\"\"\n",
    "    ],\n",
    "    [\n",
    "        None,\n",
    "        DataFrame({'P': ['he ho llo']})\n",
    "    ],\n",
    "    agg_funcs=[\n",
    "        ['concat',lexic_concat,[str],[str]],\n",
    "    ],\n",
    ")\n"
   ]
  },
  {
   "cell_type": "code",
   "execution_count": null,
   "metadata": {},
   "outputs": [
    {
     "data": {
      "text/plain": [
       "'?aggregations(A,B,C)'"
      ]
     },
     "metadata": {},
     "output_type": "display_data"
    },
    {
     "data": {
      "text/html": [
       "<style type=\"text/css\">\n",
       "#T_f07e8_row0_col0, #T_f07e8_row0_col1, #T_f07e8_row0_col2, #T_f07e8_row1_col0, #T_f07e8_row1_col1, #T_f07e8_row1_col2 {\n",
       "  overflow-wrap: break-word;\n",
       "  max-width: 800px;\n",
       "  text-align: left;\n",
       "}\n",
       "</style>\n",
       "<table id=\"T_f07e8\" class=\"display nowrap\"style=\"table-layout:auto;width:auto;margin:auto;caption-side:bottom\">\n",
       "  <thead>\n",
       "    <tr>\n",
       "      <th id=\"T_f07e8_level0_col0\" class=\"col_heading level0 col0\" >A</th>\n",
       "      <th id=\"T_f07e8_level0_col1\" class=\"col_heading level0 col1\" >B</th>\n",
       "      <th id=\"T_f07e8_level0_col2\" class=\"col_heading level0 col2\" >C</th>\n",
       "    </tr>\n",
       "  </thead>\n",
       "  <tbody>\n",
       "    <tr>\n",
       "      <td id=\"T_f07e8_row0_col0\" class=\"data row0 col0\" >1</td>\n",
       "      <td id=\"T_f07e8_row0_col1\" class=\"data row0 col1\" >7</td>\n",
       "      <td id=\"T_f07e8_row0_col2\" class=\"data row0 col2\" >3</td>\n",
       "    </tr>\n",
       "    <tr>\n",
       "      <td id=\"T_f07e8_row1_col0\" class=\"data row1 col0\" >2</td>\n",
       "      <td id=\"T_f07e8_row1_col1\" class=\"data row1 col1\" >11</td>\n",
       "      <td id=\"T_f07e8_row1_col2\" class=\"data row1 col2\" >4</td>\n",
       "    </tr>\n",
       "  </tbody>\n",
       "</table>\n",
       "\n",
       "<link href=\"https://www.unpkg.com/dt_for_itables@2.0.11/dt_bundle.css\" rel=\"stylesheet\">\n",
       "<script type=\"module\">\n",
       "    import {DataTable, jQuery as $} from 'https://www.unpkg.com/dt_for_itables@2.0.11/dt_bundle.js';\n",
       "\n",
       "    document.querySelectorAll(\"#T_f07e8:not(.dataTable)\").forEach(table => {\n",
       "        // Define the table data\n",
       "        \n",
       "\n",
       "        // Define the dt_args\n",
       "        let dt_args = {\"columnDefs\": [{\"targets\": [\"A\", \"B\", \"C\"], \"render\": function(data, type, row) {\n",
       "                    return '<div style=\"white-space: normal; word-wrap: break-word;\">' + data + '</div>';\n",
       "                }, \"width\": \"300px\"}], \"escape\": true, \"layout\": {\"topStart\": null, \"topEnd\": null, \"bottomStart\": null, \"bottomEnd\": null}, \"display_logo_when_loading\": true, \"order\": []};\n",
       "        \n",
       "\n",
       "        \n",
       "        new DataTable(table, dt_args);\n",
       "    });\n",
       "</script>\n"
      ],
      "text/plain": [
       "<IPython.core.display.HTML object>"
      ]
     },
     "metadata": {},
     "output_type": "display_data"
    },
    {
     "data": {
      "text/plain": [
       "<spannerlib.session.Session>"
      ]
     },
     "execution_count": null,
     "metadata": {},
     "output_type": "execute_result"
    }
   ],
   "source": [
    "test_session(\n",
    "    [\n",
    "        \"\"\"\n",
    "        new nums(int,int,int)\n",
    "        nums(1,2,3)\n",
    "        nums(1,5,6)\n",
    "        nums(2,3,4)\n",
    "        nums(2,8,9)\n",
    "        \n",
    "        aggregations(X,sum(Y),min(Z)) <- nums(X,Y,Z)\n",
    "        ?aggregations(A,B,C)\n",
    "        \"\"\",\n",
    "    \n",
    "    ],\n",
    "    [\n",
    "            DataFrame([\n",
    "                [1, 7, 3],\n",
    "                [2, 11, 4]]\n",
    "                , columns=['A','B','C'])\n",
    "    ],\n",
    "    agg_funcs=[\n",
    "        ['concat',lexic_concat,[str],[str]],\n",
    "    ],\n",
    ")"
   ]
  },
  {
   "cell_type": "code",
   "execution_count": null,
   "metadata": {},
   "outputs": [
    {
     "data": {
      "text/html": [
       "<img src=\"https://mermaid.ink/img/CmZsb3djaGFydCBUQgpudW1zWyJudW1zCnJlbD0jcXVvdDtudW1zI3F1b3Q7LCBydWxlX2lkPXswLCAjcXVvdDtmYWN0I3F1b3Q7fSwgc2NoZW1hPVsjcXVvdDtjb2xfMCNxdW90OywgI3F1b3Q7Y29sXzEjcXVvdDssICNxdW90O2NvbF8yI3F1b3Q7XSwgb3A9I3F1b3Q7Z2V0X3JlbCNxdW90OywgZGI9REIobnVtcywgYWdncmVnYXRpb25zKSJdCmFnZ3JlZ2F0aW9uc1siYWdncmVnYXRpb25zCnJlbD0jcXVvdDthZ2dyZWdhdGlvbnMjcXVvdDssIHJ1bGVfaWQ9ezAsICNxdW90O2ZhY3QjcXVvdDt9LCBvcD0jcXVvdDt1bmlvbiNxdW90Oywgc2NoZW1hPVsjcXVvdDtjb2xfMCNxdW90OywgI3F1b3Q7Y29sXzEjcXVvdDssICNxdW90O2NvbF8yI3F1b3Q7XSJdCjBbIjAKb3A9I3F1b3Q7cmVuYW1lI3F1b3Q7LCBzY2hlbWE9WyNxdW90O1gjcXVvdDssICNxdW90O1kjcXVvdDssICNxdW90O1ojcXVvdDtdLCBydWxlX2lkPXswfSJdCjFbIjEKb3A9I3F1b3Q7cHJvamVjdCNxdW90Oywgc2NoZW1hPVsjcXVvdDtYI3F1b3Q7LCAjcXVvdDtZI3F1b3Q7LCAjcXVvdDtaI3F1b3Q7XSwgcnVsZV9pZD17MH0iXQoyWyIyCm9wPSNxdW90O3Byb2plY3QjcXVvdDssIHNjaGVtYT1bI3F1b3Q7WCNxdW90OywgI3F1b3Q7WSNxdW90OywgI3F1b3Q7WiNxdW90O10sIHJ1bGVfaWQ9ezB9Il0KM1siMwpvcD0jcXVvdDtncm91cGJ5I3F1b3Q7LCBzY2hlbWE9WyNxdW90O1gjcXVvdDssICNxdW90O1kjcXVvdDssICNxdW90O1ojcXVvdDtdLCBhZ2c9WyNxdW90O3N1bSNxdW90OywgTm9uZSwgI3F1b3Q7bWluI3F1b3Q7XSwgcmVsPSNxdW90O19hZ2dyZWdhdGlvbnNfMCNxdW90OywgcnVsZV9pZD17MH0iXQo0WyI0Cm9wPSNxdW90O3JlbmFtZSNxdW90Oywgc2NoZW1hPVsjcXVvdDtBI3F1b3Q7LCAjcXVvdDtCI3F1b3Q7LCAjcXVvdDtDI3F1b3Q7XSJdCjVbIjUKb3A9I3F1b3Q7cHJvamVjdCNxdW90Oywgc2NoZW1hPVsjcXVvdDtBI3F1b3Q7LCAjcXVvdDtCI3F1b3Q7LCAjcXVvdDtDI3F1b3Q7XSJdCmFnZ3JlZ2F0aW9ucyAtLT4gMwowIC0tPiBudW1zCjEgLS0+IDAKMiAtLT4gMQozIC0tPiAyCjQgLS0+IGFnZ3JlZ2F0aW9ucwo1IC0tPiA0Cg==\"/>"
      ],
      "text/plain": [
       "<IPython.core.display.Image object>"
      ]
     },
     "metadata": {},
     "output_type": "display_data"
    },
    {
     "data": {
      "text/plain": [
       "'?aggregations(A,B,C)'"
      ]
     },
     "metadata": {},
     "output_type": "display_data"
    },
    {
     "data": {
      "text/html": [
       "<style type=\"text/css\">\n",
       "#T_774ae_row0_col0, #T_774ae_row0_col1, #T_774ae_row0_col2, #T_774ae_row1_col0, #T_774ae_row1_col1, #T_774ae_row1_col2 {\n",
       "  overflow-wrap: break-word;\n",
       "  max-width: 800px;\n",
       "  text-align: left;\n",
       "}\n",
       "</style>\n",
       "<table id=\"T_774ae\" class=\"display nowrap\"style=\"table-layout:auto;width:auto;margin:auto;caption-side:bottom\">\n",
       "  <thead>\n",
       "    <tr>\n",
       "      <th id=\"T_774ae_level0_col0\" class=\"col_heading level0 col0\" >A</th>\n",
       "      <th id=\"T_774ae_level0_col1\" class=\"col_heading level0 col1\" >B</th>\n",
       "      <th id=\"T_774ae_level0_col2\" class=\"col_heading level0 col2\" >C</th>\n",
       "    </tr>\n",
       "  </thead>\n",
       "  <tbody>\n",
       "    <tr>\n",
       "      <td id=\"T_774ae_row0_col0\" class=\"data row0 col0\" >2</td>\n",
       "      <td id=\"T_774ae_row0_col1\" class=\"data row0 col1\" >2</td>\n",
       "      <td id=\"T_774ae_row0_col2\" class=\"data row0 col2\" >3</td>\n",
       "    </tr>\n",
       "    <tr>\n",
       "      <td id=\"T_774ae_row1_col0\" class=\"data row1 col0\" >4</td>\n",
       "      <td id=\"T_774ae_row1_col1\" class=\"data row1 col1\" >3</td>\n",
       "      <td id=\"T_774ae_row1_col2\" class=\"data row1 col2\" >4</td>\n",
       "    </tr>\n",
       "  </tbody>\n",
       "</table>\n",
       "\n",
       "<link href=\"https://www.unpkg.com/dt_for_itables@2.0.11/dt_bundle.css\" rel=\"stylesheet\">\n",
       "<script type=\"module\">\n",
       "    import {DataTable, jQuery as $} from 'https://www.unpkg.com/dt_for_itables@2.0.11/dt_bundle.js';\n",
       "\n",
       "    document.querySelectorAll(\"#T_774ae:not(.dataTable)\").forEach(table => {\n",
       "        // Define the table data\n",
       "        \n",
       "\n",
       "        // Define the dt_args\n",
       "        let dt_args = {\"columnDefs\": [{\"targets\": [\"A\", \"B\", \"C\"], \"render\": function(data, type, row) {\n",
       "                    return '<div style=\"white-space: normal; word-wrap: break-word;\">' + data + '</div>';\n",
       "                }, \"width\": \"300px\"}], \"escape\": true, \"layout\": {\"topStart\": null, \"topEnd\": null, \"bottomStart\": null, \"bottomEnd\": null}, \"display_logo_when_loading\": true, \"order\": []};\n",
       "        \n",
       "\n",
       "        \n",
       "        new DataTable(table, dt_args);\n",
       "    });\n",
       "</script>\n"
      ],
      "text/plain": [
       "<IPython.core.display.HTML object>"
      ]
     },
     "metadata": {},
     "output_type": "display_data"
    },
    {
     "data": {
      "text/plain": [
       "<spannerlib.session.Session>"
      ]
     },
     "execution_count": null,
     "metadata": {},
     "output_type": "execute_result"
    }
   ],
   "source": [
    "test_session(\n",
    "    [\n",
    "        \"\"\"\n",
    "        new nums(int,int,int)\n",
    "        nums(1,2,3)\n",
    "        nums(1,2,6)\n",
    "        nums(2,3,4)\n",
    "        nums(2,3,9)\n",
    "        \n",
    "        aggregations(sum(X),Y,min(Z)) <- nums(X,Y,Z)\n",
    "        \"\"\",\n",
    "        \"\"\"\n",
    "        ?aggregations(A,B,C)\n",
    "        \"\"\",\n",
    "    \n",
    "    ],\n",
    "    [ \n",
    "    None,\n",
    "    DataFrame([\n",
    "                [2, 2, 3],\n",
    "                [4, 3, 4]]\n",
    "                , columns=['A','B','C'])\n",
    "    ],\n",
    "    agg_funcs=[\n",
    "        ['concat',lexic_concat,[str],[str]],\n",
    "    ],\n",
    "    debug=True\n",
    ")"
   ]
  },
  {
   "cell_type": "code",
   "execution_count": null,
   "metadata": {},
   "outputs": [
    {
     "data": {
      "text/plain": [
       "'?aggregations(A,B,C)'"
      ]
     },
     "metadata": {},
     "output_type": "display_data"
    },
    {
     "data": {
      "text/html": [
       "<style type=\"text/css\">\n",
       "#T_6dcfd_row0_col0, #T_6dcfd_row0_col1, #T_6dcfd_row0_col2, #T_6dcfd_row1_col0, #T_6dcfd_row1_col1, #T_6dcfd_row1_col2 {\n",
       "  overflow-wrap: break-word;\n",
       "  max-width: 800px;\n",
       "  text-align: left;\n",
       "}\n",
       "</style>\n",
       "<table id=\"T_6dcfd\" class=\"display nowrap\"style=\"table-layout:auto;width:auto;margin:auto;caption-side:bottom\">\n",
       "  <thead>\n",
       "    <tr>\n",
       "      <th id=\"T_6dcfd_level0_col0\" class=\"col_heading level0 col0\" >A</th>\n",
       "      <th id=\"T_6dcfd_level0_col1\" class=\"col_heading level0 col1\" >B</th>\n",
       "      <th id=\"T_6dcfd_level0_col2\" class=\"col_heading level0 col2\" >C</th>\n",
       "    </tr>\n",
       "  </thead>\n",
       "  <tbody>\n",
       "    <tr>\n",
       "      <td id=\"T_6dcfd_row0_col0\" class=\"data row0 col0\" >1</td>\n",
       "      <td id=\"T_6dcfd_row0_col1\" class=\"data row0 col1\" >7</td>\n",
       "      <td id=\"T_6dcfd_row0_col2\" class=\"data row0 col2\" >1</td>\n",
       "    </tr>\n",
       "    <tr>\n",
       "      <td id=\"T_6dcfd_row1_col0\" class=\"data row1 col0\" >2</td>\n",
       "      <td id=\"T_6dcfd_row1_col1\" class=\"data row1 col1\" >11</td>\n",
       "      <td id=\"T_6dcfd_row1_col2\" class=\"data row1 col2\" >2</td>\n",
       "    </tr>\n",
       "  </tbody>\n",
       "</table>\n",
       "\n",
       "<link href=\"https://www.unpkg.com/dt_for_itables@2.0.11/dt_bundle.css\" rel=\"stylesheet\">\n",
       "<script type=\"module\">\n",
       "    import {DataTable, jQuery as $} from 'https://www.unpkg.com/dt_for_itables@2.0.11/dt_bundle.js';\n",
       "\n",
       "    document.querySelectorAll(\"#T_6dcfd:not(.dataTable)\").forEach(table => {\n",
       "        // Define the table data\n",
       "        \n",
       "\n",
       "        // Define the dt_args\n",
       "        let dt_args = {\"columnDefs\": [{\"targets\": [\"A\", \"B\", \"C\"], \"render\": function(data, type, row) {\n",
       "                    return '<div style=\"white-space: normal; word-wrap: break-word;\">' + data + '</div>';\n",
       "                }, \"width\": \"300px\"}], \"escape\": true, \"layout\": {\"topStart\": null, \"topEnd\": null, \"bottomStart\": null, \"bottomEnd\": null}, \"display_logo_when_loading\": true, \"order\": []};\n",
       "        \n",
       "\n",
       "        \n",
       "        new DataTable(table, dt_args);\n",
       "    });\n",
       "</script>\n"
      ],
      "text/plain": [
       "<IPython.core.display.HTML object>"
      ]
     },
     "metadata": {},
     "output_type": "display_data"
    },
    {
     "data": {
      "text/plain": [
       "<spannerlib.session.Session>"
      ]
     },
     "execution_count": null,
     "metadata": {},
     "output_type": "execute_result"
    }
   ],
   "source": [
    "test_session(\n",
    "    [\n",
    "        \"\"\"\n",
    "        new nums(int,int,int)\n",
    "        nums(1,2,3)\n",
    "        nums(1,5,6)\n",
    "        nums(2,3,4)\n",
    "        nums(2,8,9)\n",
    "        \n",
    "        aggregations(X,sum(Y),min(X)) <- nums(X,Y,Z)\n",
    "        ?aggregations(A,B,C)\n",
    "        \"\"\",\n",
    "    \n",
    "    ],\n",
    "    [\n",
    "            DataFrame([\n",
    "                [1, 7, 1],\n",
    "                [2, 11, 2]]\n",
    "                , columns=['A','B','C'])\n",
    "    ],\n",
    "    agg_funcs=[\n",
    "        ['concat',lexic_concat,[str],[str]],\n",
    "    ],\n",
    ")"
   ]
  }
 ],
 "metadata": {
  "kernelspec": {
   "display_name": "python3",
   "language": "python",
   "name": "python3"
  }
 },
 "nbformat": 4,
 "nbformat_minor": 2
}
