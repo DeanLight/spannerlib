{
 "cells": [
  {
   "cell_type": "code",
   "execution_count": null,
   "metadata": {},
   "outputs": [],
   "source": [
    "#| hide\n",
    "from nbdev.showdoc import show_doc\n",
    "\n",
    "%load_ext autoreload\n",
    "%autoreload 2"
   ]
  },
  {
   "cell_type": "code",
   "execution_count": null,
   "metadata": {},
   "outputs": [],
   "source": [
    "#| output: false\n",
    "import numpy as np\n",
    "import tempfile\n",
    "from pandas import DataFrame\n",
    "from pathlib import Path\n",
    "import pandas as pd\n",
    "\n",
    "from spannerlib.utils import checkLogs\n",
    "from spannerlib.span import Span\n",
    "from spannerlib.session import Session,test_session"
   ]
  },
  {
   "cell_type": "code",
   "execution_count": null,
   "metadata": {},
   "outputs": [
    {
     "data": {
      "text/plain": [
       "'?uncle(X,Y)'"
      ]
     },
     "metadata": {},
     "output_type": "display_data"
    },
    {
     "data": {
      "text/html": [
       "<style type=\"text/css\">\n",
       "#T_05eb4_row0_col0, #T_05eb4_row0_col1 {\n",
       "  overflow-wrap: break-word;\n",
       "  max-width: 800px;\n",
       "  text-align: left;\n",
       "}\n",
       "</style>\n",
       "<table id=\"T_05eb4\" class=\"display nowrap\"style=\"table-layout:auto;width:auto;margin:auto;caption-side:bottom\">\n",
       "  <thead>\n",
       "    <tr>\n",
       "      <th id=\"T_05eb4_level0_col0\" class=\"col_heading level0 col0\" >X</th>\n",
       "      <th id=\"T_05eb4_level0_col1\" class=\"col_heading level0 col1\" >Y</th>\n",
       "    </tr>\n",
       "  </thead>\n",
       "  <tbody>\n",
       "    <tr>\n",
       "      <td id=\"T_05eb4_row0_col0\" class=\"data row0 col0\" >bob</td>\n",
       "      <td id=\"T_05eb4_row0_col1\" class=\"data row0 col1\" >greg</td>\n",
       "    </tr>\n",
       "  </tbody>\n",
       "</table>\n",
       "\n",
       "<link href=\"https://www.unpkg.com/dt_for_itables@2.0.11/dt_bundle.css\" rel=\"stylesheet\">\n",
       "<script type=\"module\">\n",
       "    import {DataTable, jQuery as $} from 'https://www.unpkg.com/dt_for_itables@2.0.11/dt_bundle.js';\n",
       "\n",
       "    document.querySelectorAll(\"#T_05eb4:not(.dataTable)\").forEach(table => {\n",
       "        // Define the table data\n",
       "        \n",
       "\n",
       "        // Define the dt_args\n",
       "        let dt_args = {\"columnDefs\": [{\"targets\": [\"X\", \"Y\"], \"render\": function(data, type, row) {\n",
       "                    return '<div style=\"white-space: normal; word-wrap: break-word;\">' + data + '</div>';\n",
       "                }, \"width\": \"300px\"}], \"escape\": true, \"layout\": {\"topStart\": null, \"topEnd\": null, \"bottomStart\": null, \"bottomEnd\": null}, \"display_logo_when_loading\": true, \"order\": []};\n",
       "        \n",
       "\n",
       "        \n",
       "        new DataTable(table, dt_args);\n",
       "    });\n",
       "</script>\n"
      ],
      "text/plain": [
       "<IPython.core.display.HTML object>"
      ]
     },
     "metadata": {},
     "output_type": "display_data"
    },
    {
     "data": {
      "text/plain": [
       "<spannerlib.session.Session>"
      ]
     },
     "execution_count": null,
     "metadata": {},
     "output_type": "execute_result"
    }
   ],
   "source": [
    "test_session(\n",
    "    \"\"\"\n",
    "    new uncle(str, str)\n",
    "    uncle(\"bob\", \"greg\")\n",
    "    ?uncle(X,Y)\n",
    "    \"\"\",\n",
    "    pd.DataFrame(data={\"X\": [\"bob\"], \"Y\": [\"greg\"]})\n",
    ")\n"
   ]
  },
  {
   "cell_type": "code",
   "execution_count": null,
   "metadata": {},
   "outputs": [
    {
     "data": {
      "text/plain": [
       "'?enrolled_in_chemistry(\"jordan\")'"
      ]
     },
     "metadata": {},
     "output_type": "display_data"
    },
    {
     "data": {
      "text/plain": [
       "True"
      ]
     },
     "metadata": {},
     "output_type": "display_data"
    },
    {
     "data": {
      "text/plain": [
       "'?enrolled_in_chemistry(\"gale\")'"
      ]
     },
     "metadata": {},
     "output_type": "display_data"
    },
    {
     "data": {
      "text/plain": [
       "False"
      ]
     },
     "metadata": {},
     "output_type": "display_data"
    },
    {
     "data": {
      "text/plain": [
       "'?enrolled_in_chemistry(X)'"
      ]
     },
     "metadata": {},
     "output_type": "display_data"
    },
    {
     "data": {
      "text/html": [
       "<style type=\"text/css\">\n",
       "#T_254b7_row0_col0, #T_254b7_row1_col0, #T_254b7_row2_col0 {\n",
       "  overflow-wrap: break-word;\n",
       "  max-width: 800px;\n",
       "  text-align: left;\n",
       "}\n",
       "</style>\n",
       "<table id=\"T_254b7\" class=\"display nowrap\"style=\"table-layout:auto;width:auto;margin:auto;caption-side:bottom\">\n",
       "  <thead>\n",
       "    <tr>\n",
       "      <th id=\"T_254b7_level0_col0\" class=\"col_heading level0 col0\" >X</th>\n",
       "    </tr>\n",
       "  </thead>\n",
       "  <tbody>\n",
       "    <tr>\n",
       "      <td id=\"T_254b7_row0_col0\" class=\"data row0 col0\" >abigail</td>\n",
       "    </tr>\n",
       "    <tr>\n",
       "      <td id=\"T_254b7_row1_col0\" class=\"data row1 col0\" >howard</td>\n",
       "    </tr>\n",
       "    <tr>\n",
       "      <td id=\"T_254b7_row2_col0\" class=\"data row2 col0\" >jordan</td>\n",
       "    </tr>\n",
       "  </tbody>\n",
       "</table>\n",
       "\n",
       "<link href=\"https://www.unpkg.com/dt_for_itables@2.0.11/dt_bundle.css\" rel=\"stylesheet\">\n",
       "<script type=\"module\">\n",
       "    import {DataTable, jQuery as $} from 'https://www.unpkg.com/dt_for_itables@2.0.11/dt_bundle.js';\n",
       "\n",
       "    document.querySelectorAll(\"#T_254b7:not(.dataTable)\").forEach(table => {\n",
       "        // Define the table data\n",
       "        \n",
       "\n",
       "        // Define the dt_args\n",
       "        let dt_args = {\"columnDefs\": [{\"targets\": [\"X\"], \"render\": function(data, type, row) {\n",
       "                    return '<div style=\"white-space: normal; word-wrap: break-word;\">' + data + '</div>';\n",
       "                }, \"width\": \"300px\"}], \"escape\": true, \"layout\": {\"topStart\": null, \"topEnd\": null, \"bottomStart\": null, \"bottomEnd\": null}, \"display_logo_when_loading\": true, \"order\": []};\n",
       "        \n",
       "\n",
       "        \n",
       "        new DataTable(table, dt_args);\n",
       "    });\n",
       "</script>\n"
      ],
      "text/plain": [
       "<IPython.core.display.HTML object>"
      ]
     },
     "metadata": {},
     "output_type": "display_data"
    },
    {
     "data": {
      "text/plain": [
       "'?enrolled_in_physics_and_chemistry(X)'"
      ]
     },
     "metadata": {},
     "output_type": "display_data"
    },
    {
     "data": {
      "text/html": [
       "<style type=\"text/css\">\n",
       "#T_3e3f6_row0_col0 {\n",
       "  overflow-wrap: break-word;\n",
       "  max-width: 800px;\n",
       "  text-align: left;\n",
       "}\n",
       "</style>\n",
       "<table id=\"T_3e3f6\" class=\"display nowrap\"style=\"table-layout:auto;width:auto;margin:auto;caption-side:bottom\">\n",
       "  <thead>\n",
       "    <tr>\n",
       "      <th id=\"T_3e3f6_level0_col0\" class=\"col_heading level0 col0\" >X</th>\n",
       "    </tr>\n",
       "  </thead>\n",
       "  <tbody>\n",
       "    <tr>\n",
       "      <td id=\"T_3e3f6_row0_col0\" class=\"data row0 col0\" >howard</td>\n",
       "    </tr>\n",
       "  </tbody>\n",
       "</table>\n",
       "\n",
       "<link href=\"https://www.unpkg.com/dt_for_itables@2.0.11/dt_bundle.css\" rel=\"stylesheet\">\n",
       "<script type=\"module\">\n",
       "    import {DataTable, jQuery as $} from 'https://www.unpkg.com/dt_for_itables@2.0.11/dt_bundle.js';\n",
       "\n",
       "    document.querySelectorAll(\"#T_3e3f6:not(.dataTable)\").forEach(table => {\n",
       "        // Define the table data\n",
       "        \n",
       "\n",
       "        // Define the dt_args\n",
       "        let dt_args = {\"columnDefs\": [{\"targets\": [\"X\"], \"render\": function(data, type, row) {\n",
       "                    return '<div style=\"white-space: normal; word-wrap: break-word;\">' + data + '</div>';\n",
       "                }, \"width\": \"300px\"}], \"escape\": true, \"layout\": {\"topStart\": null, \"topEnd\": null, \"bottomStart\": null, \"bottomEnd\": null}, \"display_logo_when_loading\": true, \"order\": []};\n",
       "        \n",
       "\n",
       "        \n",
       "        new DataTable(table, dt_args);\n",
       "    });\n",
       "</script>\n"
      ],
      "text/plain": [
       "<IPython.core.display.HTML object>"
      ]
     },
     "metadata": {},
     "output_type": "display_data"
    },
    {
     "data": {
      "text/plain": [
       "'?lecturer_of(X,\"abigail\")'"
      ]
     },
     "metadata": {},
     "output_type": "display_data"
    },
    {
     "data": {
      "text/html": [
       "<style type=\"text/css\">\n",
       "#T_5f114_row0_col0, #T_5f114_row1_col0 {\n",
       "  overflow-wrap: break-word;\n",
       "  max-width: 800px;\n",
       "  text-align: left;\n",
       "}\n",
       "</style>\n",
       "<table id=\"T_5f114\" class=\"display nowrap\"style=\"table-layout:auto;width:auto;margin:auto;caption-side:bottom\">\n",
       "  <thead>\n",
       "    <tr>\n",
       "      <th id=\"T_5f114_level0_col0\" class=\"col_heading level0 col0\" >X</th>\n",
       "    </tr>\n",
       "  </thead>\n",
       "  <tbody>\n",
       "    <tr>\n",
       "      <td id=\"T_5f114_row0_col0\" class=\"data row0 col0\" >linus</td>\n",
       "    </tr>\n",
       "    <tr>\n",
       "      <td id=\"T_5f114_row1_col0\" class=\"data row1 col0\" >walter</td>\n",
       "    </tr>\n",
       "  </tbody>\n",
       "</table>\n",
       "\n",
       "<link href=\"https://www.unpkg.com/dt_for_itables@2.0.11/dt_bundle.css\" rel=\"stylesheet\">\n",
       "<script type=\"module\">\n",
       "    import {DataTable, jQuery as $} from 'https://www.unpkg.com/dt_for_itables@2.0.11/dt_bundle.js';\n",
       "\n",
       "    document.querySelectorAll(\"#T_5f114:not(.dataTable)\").forEach(table => {\n",
       "        // Define the table data\n",
       "        \n",
       "\n",
       "        // Define the dt_args\n",
       "        let dt_args = {\"columnDefs\": [{\"targets\": [\"X\"], \"render\": function(data, type, row) {\n",
       "                    return '<div style=\"white-space: normal; word-wrap: break-word;\">' + data + '</div>';\n",
       "                }, \"width\": \"300px\"}], \"escape\": true, \"layout\": {\"topStart\": null, \"topEnd\": null, \"bottomStart\": null, \"bottomEnd\": null}, \"display_logo_when_loading\": true, \"order\": []};\n",
       "        \n",
       "\n",
       "        \n",
       "        new DataTable(table, dt_args);\n",
       "    });\n",
       "</script>\n"
      ],
      "text/plain": [
       "<IPython.core.display.HTML object>"
      ]
     },
     "metadata": {},
     "output_type": "display_data"
    },
    {
     "data": {
      "text/plain": [
       "'?gpa_of_chemistry_students(X,\"100\")'"
      ]
     },
     "metadata": {},
     "output_type": "display_data"
    },
    {
     "data": {
      "text/html": [
       "<style type=\"text/css\">\n",
       "#T_eabaa_row0_col0 {\n",
       "  overflow-wrap: break-word;\n",
       "  max-width: 800px;\n",
       "  text-align: left;\n",
       "}\n",
       "</style>\n",
       "<table id=\"T_eabaa\" class=\"display nowrap\"style=\"table-layout:auto;width:auto;margin:auto;caption-side:bottom\">\n",
       "  <thead>\n",
       "    <tr>\n",
       "      <th id=\"T_eabaa_level0_col0\" class=\"col_heading level0 col0\" >X</th>\n",
       "    </tr>\n",
       "  </thead>\n",
       "  <tbody>\n",
       "    <tr>\n",
       "      <td id=\"T_eabaa_row0_col0\" class=\"data row0 col0\" >abigail</td>\n",
       "    </tr>\n",
       "  </tbody>\n",
       "</table>\n",
       "\n",
       "<link href=\"https://www.unpkg.com/dt_for_itables@2.0.11/dt_bundle.css\" rel=\"stylesheet\">\n",
       "<script type=\"module\">\n",
       "    import {DataTable, jQuery as $} from 'https://www.unpkg.com/dt_for_itables@2.0.11/dt_bundle.js';\n",
       "\n",
       "    document.querySelectorAll(\"#T_eabaa:not(.dataTable)\").forEach(table => {\n",
       "        // Define the table data\n",
       "        \n",
       "\n",
       "        // Define the dt_args\n",
       "        let dt_args = {\"columnDefs\": [{\"targets\": [\"X\"], \"render\": function(data, type, row) {\n",
       "                    return '<div style=\"white-space: normal; word-wrap: break-word;\">' + data + '</div>';\n",
       "                }, \"width\": \"300px\"}], \"escape\": true, \"layout\": {\"topStart\": null, \"topEnd\": null, \"bottomStart\": null, \"bottomEnd\": null}, \"display_logo_when_loading\": true, \"order\": []};\n",
       "        \n",
       "\n",
       "        \n",
       "        new DataTable(table, dt_args);\n",
       "    });\n",
       "</script>\n"
      ],
      "text/plain": [
       "<IPython.core.display.HTML object>"
      ]
     },
     "metadata": {},
     "output_type": "display_data"
    }
   ],
   "source": [
    "_= test_session(\n",
    "    [\n",
    "    \"\"\"\n",
    "    new lecturer(str, str)\n",
    "    lecturer(\"walter\", \"chemistry\")\n",
    "    lecturer(\"linus\", \"operation systems\")\n",
    "    lecturer(\"rick\", \"physics\")\n",
    "\n",
    "    new enrolled(str, str)\n",
    "    enrolled(\"abigail\", \"chemistry\")\n",
    "    enrolled(\"abigail\", \"operation systems\")\n",
    "    enrolled(\"jordan\", \"chemistry\")\n",
    "    enrolled(\"gale\", \"operation systems\")\n",
    "    enrolled(\"howard\", \"chemistry\")\n",
    "    enrolled(\"howard\", \"physics\")\n",
    "\n",
    "    enrolled_in_chemistry(X) <- enrolled(X, \"chemistry\").\n",
    "    ?enrolled_in_chemistry(\"jordan\")\n",
    "    \"\"\",\n",
    "    \"\"\"\n",
    "    ?enrolled_in_chemistry(\"gale\")\n",
    "    \"\"\",\n",
    "    \"\"\"\n",
    "    ?enrolled_in_chemistry(X)\n",
    "    \"\"\",\n",
    "    \"\"\"\n",
    "    enrolled_in_physics_and_chemistry(X) <- enrolled(X, \"chemistry\"), enrolled(X, \"physics\").\n",
    "    ?enrolled_in_physics_and_chemistry(X)\n",
    "    \"\"\",\n",
    "    \"\"\"\n",
    "    lecturer_of(X, Z) <- lecturer(X, Y), enrolled(Z, Y).\n",
    "    ?lecturer_of(X, \"abigail\")\n",
    "    \"\"\",\n",
    "    \"\"\"\n",
    "    gpa_doc = \"abigail 100 jordan 80 gale 79 howard 60\"\n",
    "    student_gpas(Student, Grade) <- rgx(\"(\\w+).*?(\\d+)\",$gpa_doc)->(StudentSpan, GradeSpan),\n",
    "        as_str(StudentSpan)->(Student), as_str(GradeSpan)->(Grade).\n",
    "    gpa_of_chemistry_students(X, Grade) <- student_gpas(X, Grade), enrolled(X, \"chemistry\").\n",
    "    ?gpa_of_chemistry_students(X, \"100\")\n",
    "    \"\"\"],\n",
    "    [\n",
    "        True,\n",
    "        False,\n",
    "        pd.DataFrame(data={\"X\": [\"howard\", \"jordan\", \"abigail\"]}),\n",
    "        pd.DataFrame(data={\"X\": [\"howard\"]}),\n",
    "        pd.DataFrame(data={\"X\": [\"linus\", \"walter\"]}),\n",
    "        pd.DataFrame(data={\"X\": [\"abigail\"]}),\n",
    "    ]\n",
    ")\n"
   ]
  },
  {
   "cell_type": "code",
   "execution_count": null,
   "metadata": {},
   "outputs": [
    {
     "data": {
      "text/plain": [
       "'?simple_1(X)'"
      ]
     },
     "metadata": {},
     "output_type": "display_data"
    },
    {
     "data": {
      "text/html": [
       "<style type=\"text/css\">\n",
       "#T_7dd6c_row0_col0, #T_7dd6c_row1_col0 {\n",
       "  overflow-wrap: break-word;\n",
       "  max-width: 800px;\n",
       "  text-align: left;\n",
       "}\n",
       "</style>\n",
       "<table id=\"T_7dd6c\" class=\"display nowrap\"style=\"table-layout:auto;width:auto;margin:auto;caption-side:bottom\">\n",
       "  <thead>\n",
       "    <tr>\n",
       "      <th id=\"T_7dd6c_level0_col0\" class=\"col_heading level0 col0\" >X</th>\n",
       "    </tr>\n",
       "  </thead>\n",
       "  <tbody>\n",
       "    <tr>\n",
       "      <td id=\"T_7dd6c_row0_col0\" class=\"data row0 col0\" >1</td>\n",
       "    </tr>\n",
       "    <tr>\n",
       "      <td id=\"T_7dd6c_row1_col0\" class=\"data row1 col0\" >2</td>\n",
       "    </tr>\n",
       "  </tbody>\n",
       "</table>\n",
       "\n",
       "<link href=\"https://www.unpkg.com/dt_for_itables@2.0.11/dt_bundle.css\" rel=\"stylesheet\">\n",
       "<script type=\"module\">\n",
       "    import {DataTable, jQuery as $} from 'https://www.unpkg.com/dt_for_itables@2.0.11/dt_bundle.js';\n",
       "\n",
       "    document.querySelectorAll(\"#T_7dd6c:not(.dataTable)\").forEach(table => {\n",
       "        // Define the table data\n",
       "        \n",
       "\n",
       "        // Define the dt_args\n",
       "        let dt_args = {\"columnDefs\": [{\"targets\": [\"X\"], \"render\": function(data, type, row) {\n",
       "                    return '<div style=\"white-space: normal; word-wrap: break-word;\">' + data + '</div>';\n",
       "                }, \"width\": \"300px\"}], \"escape\": true, \"layout\": {\"topStart\": null, \"topEnd\": null, \"bottomStart\": null, \"bottomEnd\": null}, \"display_logo_when_loading\": true, \"order\": []};\n",
       "        \n",
       "\n",
       "        \n",
       "        new DataTable(table, dt_args);\n",
       "    });\n",
       "</script>\n"
      ],
      "text/plain": [
       "<IPython.core.display.HTML object>"
      ]
     },
     "metadata": {},
     "output_type": "display_data"
    },
    {
     "data": {
      "text/plain": [
       "'?simple_2(X)'"
      ]
     },
     "metadata": {},
     "output_type": "display_data"
    },
    {
     "data": {
      "text/html": [
       "<style type=\"text/css\">\n",
       "#T_ba2e5_row0_col0, #T_ba2e5_row1_col0 {\n",
       "  overflow-wrap: break-word;\n",
       "  max-width: 800px;\n",
       "  text-align: left;\n",
       "}\n",
       "</style>\n",
       "<table id=\"T_ba2e5\" class=\"display nowrap\"style=\"table-layout:auto;width:auto;margin:auto;caption-side:bottom\">\n",
       "  <thead>\n",
       "    <tr>\n",
       "      <th id=\"T_ba2e5_level0_col0\" class=\"col_heading level0 col0\" >X</th>\n",
       "    </tr>\n",
       "  </thead>\n",
       "  <tbody>\n",
       "    <tr>\n",
       "      <td id=\"T_ba2e5_row0_col0\" class=\"data row0 col0\" >number one</td>\n",
       "    </tr>\n",
       "    <tr>\n",
       "      <td id=\"T_ba2e5_row1_col0\" class=\"data row1 col0\" >number two</td>\n",
       "    </tr>\n",
       "  </tbody>\n",
       "</table>\n",
       "\n",
       "<link href=\"https://www.unpkg.com/dt_for_itables@2.0.11/dt_bundle.css\" rel=\"stylesheet\">\n",
       "<script type=\"module\">\n",
       "    import {DataTable, jQuery as $} from 'https://www.unpkg.com/dt_for_itables@2.0.11/dt_bundle.js';\n",
       "\n",
       "    document.querySelectorAll(\"#T_ba2e5:not(.dataTable)\").forEach(table => {\n",
       "        // Define the table data\n",
       "        \n",
       "\n",
       "        // Define the dt_args\n",
       "        let dt_args = {\"columnDefs\": [{\"targets\": [\"X\"], \"render\": function(data, type, row) {\n",
       "                    return '<div style=\"white-space: normal; word-wrap: break-word;\">' + data + '</div>';\n",
       "                }, \"width\": \"300px\"}], \"escape\": true, \"layout\": {\"topStart\": null, \"topEnd\": null, \"bottomStart\": null, \"bottomEnd\": null}, \"display_logo_when_loading\": true, \"order\": []};\n",
       "        \n",
       "\n",
       "        \n",
       "        new DataTable(table, dt_args);\n",
       "    });\n",
       "</script>\n"
      ],
      "text/plain": [
       "<IPython.core.display.HTML object>"
      ]
     },
     "metadata": {},
     "output_type": "display_data"
    },
    {
     "data": {
      "text/plain": [
       "'?advanced(X)'"
      ]
     },
     "metadata": {},
     "output_type": "display_data"
    },
    {
     "data": {
      "text/html": [
       "<style type=\"text/css\">\n",
       "#T_8a768_row0_col0, #T_8a768_row1_col0 {\n",
       "  overflow-wrap: break-word;\n",
       "  max-width: 800px;\n",
       "  text-align: left;\n",
       "}\n",
       "</style>\n",
       "<table id=\"T_8a768\" class=\"display nowrap\"style=\"table-layout:auto;width:auto;margin:auto;caption-side:bottom\">\n",
       "  <thead>\n",
       "    <tr>\n",
       "      <th id=\"T_8a768_level0_col0\" class=\"col_heading level0 col0\" >X</th>\n",
       "    </tr>\n",
       "  </thead>\n",
       "  <tbody>\n",
       "    <tr>\n",
       "      <td id=\"T_8a768_row0_col0\" class=\"data row0 col0\" >1</td>\n",
       "    </tr>\n",
       "    <tr>\n",
       "      <td id=\"T_8a768_row1_col0\" class=\"data row1 col0\" >{'foo': [{'baz': 1}, {'baz': 2}]}</td>\n",
       "    </tr>\n",
       "  </tbody>\n",
       "</table>\n",
       "\n",
       "<link href=\"https://www.unpkg.com/dt_for_itables@2.0.11/dt_bundle.css\" rel=\"stylesheet\">\n",
       "<script type=\"module\">\n",
       "    import {DataTable, jQuery as $} from 'https://www.unpkg.com/dt_for_itables@2.0.11/dt_bundle.js';\n",
       "\n",
       "    document.querySelectorAll(\"#T_8a768:not(.dataTable)\").forEach(table => {\n",
       "        // Define the table data\n",
       "        \n",
       "\n",
       "        // Define the dt_args\n",
       "        let dt_args = {\"columnDefs\": [{\"targets\": [\"X\"], \"render\": function(data, type, row) {\n",
       "                    return '<div style=\"white-space: normal; word-wrap: break-word;\">' + data + '</div>';\n",
       "                }, \"width\": \"300px\"}], \"escape\": true, \"layout\": {\"topStart\": null, \"topEnd\": null, \"bottomStart\": null, \"bottomEnd\": null}, \"display_logo_when_loading\": true, \"order\": []};\n",
       "        \n",
       "\n",
       "        \n",
       "        new DataTable(table, dt_args);\n",
       "    });\n",
       "</script>\n"
      ],
      "text/plain": [
       "<IPython.core.display.HTML object>"
      ]
     },
     "metadata": {},
     "output_type": "display_data"
    }
   ],
   "source": [
    "_=test_session(\n",
    "    [\"\"\"\n",
    "    jsonpath_simple_1 = \"foo[*].baz\"\n",
    "    json_ds_simple_1  = \"{'foo': [{'baz': 1}, {'baz': 2}]}\"\n",
    "    simple_1(X) <- json_path($json_ds_simple_1, $jsonpath_simple_1) -> (Path,X).\n",
    "    ?simple_1(X)\n",
    "    \"\"\",\"\"\"\n",
    "    jsonpath_simple_2 = \"a.*.b.`parent`.c\"\n",
    "    json_ds_simple_2 = \"{'a': {'x': {'b': 1, 'c': 'number one'}, 'y': {'b': 2, 'c': 'number two'}}}\"\n",
    "    simple_2(X) <- json_path($json_ds_simple_2, $jsonpath_simple_2) -> (Path,X).\n",
    "    ?simple_2(X)\n",
    "    \"\"\",\"\"\"\n",
    "    json_ds_advanced  = \"{'foo': [{'baz': 1}, {'baz': {'foo': [{'baz': 1}, {'baz': 2}]}}]}\"\n",
    "    advanced(X) <- json_path($json_ds_advanced, $jsonpath_simple_1) -> (Path,X).\n",
    "    ?advanced(X)\n",
    "    \"\"\"],\n",
    "    [\n",
    "        pd.DataFrame(data={\"X\": ['2', '1']}),\n",
    "        pd.DataFrame(data={\"X\": [\"number two\", \"number one\"]}),\n",
    "        pd.DataFrame(data={\"X\": ['1','''{'foo': [{'baz': 1}, {'baz': 2}]}''']})\n",
    "    ]\n",
    ")"
   ]
  }
 ],
 "metadata": {
  "kernelspec": {
   "display_name": "python3",
   "language": "python",
   "name": "python3"
  }
 },
 "nbformat": 4,
 "nbformat_minor": 2
}
