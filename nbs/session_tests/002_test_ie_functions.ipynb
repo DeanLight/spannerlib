{
 "cells": [
  {
   "cell_type": "markdown",
   "metadata": {},
   "source": [
    "# Test IE functions"
   ]
  },
  {
   "cell_type": "code",
   "execution_count": null,
   "metadata": {},
   "outputs": [],
   "source": [
    "#| hide\n",
    "from nbdev.showdoc import show_doc\n",
    "\n",
    "%load_ext autoreload\n",
    "%autoreload 2"
   ]
  },
  {
   "cell_type": "code",
   "execution_count": null,
   "metadata": {},
   "outputs": [],
   "source": [
    "#| output: false\n",
    "import numpy as np\n",
    "import tempfile\n",
    "from pandas import DataFrame\n",
    "from pathlib import Path\n",
    "import pandas as pd\n",
    "\n",
    "from spannerlib.span import Span\n",
    "from spannerlib.session import Session,test_session\n",
    "from spannerlib.utils import assert_df_equals"
   ]
  },
  {
   "cell_type": "code",
   "execution_count": null,
   "metadata": {},
   "outputs": [
    {
     "data": {
      "text/plain": [
       "'?test_range(X)'"
      ]
     },
     "metadata": {},
     "output_type": "display_data"
    },
    {
     "data": {
      "text/html": [
       "<style type=\"text/css\">\n",
       "#T_4b8a9_row0_col0, #T_4b8a9_row1_col0, #T_4b8a9_row2_col0, #T_4b8a9_row3_col0, #T_4b8a9_row4_col0 {\n",
       "  overflow-wrap: break-word;\n",
       "  max-width: 800px;\n",
       "  text-align: left;\n",
       "}\n",
       "</style>\n",
       "<table id=\"T_4b8a9\" class=\"display nowrap\"style=\"table-layout:auto;width:auto;margin:auto;caption-side:bottom\">\n",
       "  <thead>\n",
       "    <tr>\n",
       "      <th id=\"T_4b8a9_level0_col0\" class=\"col_heading level0 col0\" >X</th>\n",
       "    </tr>\n",
       "  </thead>\n",
       "  <tbody>\n",
       "    <tr>\n",
       "      <td id=\"T_4b8a9_row0_col0\" class=\"data row0 col0\" >0</td>\n",
       "    </tr>\n",
       "    <tr>\n",
       "      <td id=\"T_4b8a9_row1_col0\" class=\"data row1 col0\" >1</td>\n",
       "    </tr>\n",
       "    <tr>\n",
       "      <td id=\"T_4b8a9_row2_col0\" class=\"data row2 col0\" >2</td>\n",
       "    </tr>\n",
       "    <tr>\n",
       "      <td id=\"T_4b8a9_row3_col0\" class=\"data row3 col0\" >3</td>\n",
       "    </tr>\n",
       "    <tr>\n",
       "      <td id=\"T_4b8a9_row4_col0\" class=\"data row4 col0\" >4</td>\n",
       "    </tr>\n",
       "  </tbody>\n",
       "</table>\n",
       "\n",
       "<link href=\"https://www.unpkg.com/dt_for_itables@2.0.11/dt_bundle.css\" rel=\"stylesheet\">\n",
       "<script type=\"module\">\n",
       "    import {DataTable, jQuery as $} from 'https://www.unpkg.com/dt_for_itables@2.0.11/dt_bundle.js';\n",
       "\n",
       "    document.querySelectorAll(\"#T_4b8a9:not(.dataTable)\").forEach(table => {\n",
       "        // Define the table data\n",
       "        \n",
       "\n",
       "        // Define the dt_args\n",
       "        let dt_args = {\"columnDefs\": [{\"targets\": [\"X\"], \"render\": function(data, type, row) {\n",
       "                    return '<div style=\"white-space: normal; word-wrap: break-word;\">' + data + '</div>';\n",
       "                }, \"width\": \"300px\"}], \"escape\": true, \"layout\": {\"topStart\": null, \"topEnd\": null, \"bottomStart\": null, \"bottomEnd\": null}, \"display_logo_when_loading\": true, \"order\": []};\n",
       "        \n",
       "\n",
       "        \n",
       "        new DataTable(table, dt_args);\n",
       "    });\n",
       "</script>\n"
      ],
      "text/plain": [
       "<IPython.core.display.HTML object>"
      ]
     },
     "metadata": {},
     "output_type": "display_data"
    },
    {
     "data": {
      "text/plain": [
       "'?test_range_str(X)'"
      ]
     },
     "metadata": {},
     "output_type": "display_data"
    },
    {
     "data": {
      "text/html": [
       "<style type=\"text/css\">\n",
       "#T_cd047_row0_col0, #T_cd047_row1_col0, #T_cd047_row2_col0, #T_cd047_row3_col0, #T_cd047_row4_col0 {\n",
       "  overflow-wrap: break-word;\n",
       "  max-width: 800px;\n",
       "  text-align: left;\n",
       "}\n",
       "</style>\n",
       "<table id=\"T_cd047\" class=\"display nowrap\"style=\"table-layout:auto;width:auto;margin:auto;caption-side:bottom\">\n",
       "  <thead>\n",
       "    <tr>\n",
       "      <th id=\"T_cd047_level0_col0\" class=\"col_heading level0 col0\" >X</th>\n",
       "    </tr>\n",
       "  </thead>\n",
       "  <tbody>\n",
       "    <tr>\n",
       "      <td id=\"T_cd047_row0_col0\" class=\"data row0 col0\" >string0</td>\n",
       "    </tr>\n",
       "    <tr>\n",
       "      <td id=\"T_cd047_row1_col0\" class=\"data row1 col0\" >string1</td>\n",
       "    </tr>\n",
       "    <tr>\n",
       "      <td id=\"T_cd047_row2_col0\" class=\"data row2 col0\" >string2</td>\n",
       "    </tr>\n",
       "    <tr>\n",
       "      <td id=\"T_cd047_row3_col0\" class=\"data row3 col0\" >string3</td>\n",
       "    </tr>\n",
       "    <tr>\n",
       "      <td id=\"T_cd047_row4_col0\" class=\"data row4 col0\" >string4</td>\n",
       "    </tr>\n",
       "  </tbody>\n",
       "</table>\n",
       "\n",
       "<link href=\"https://www.unpkg.com/dt_for_itables@2.0.11/dt_bundle.css\" rel=\"stylesheet\">\n",
       "<script type=\"module\">\n",
       "    import {DataTable, jQuery as $} from 'https://www.unpkg.com/dt_for_itables@2.0.11/dt_bundle.js';\n",
       "\n",
       "    document.querySelectorAll(\"#T_cd047:not(.dataTable)\").forEach(table => {\n",
       "        // Define the table data\n",
       "        \n",
       "\n",
       "        // Define the dt_args\n",
       "        let dt_args = {\"columnDefs\": [{\"targets\": [\"X\"], \"render\": function(data, type, row) {\n",
       "                    return '<div style=\"white-space: normal; word-wrap: break-word;\">' + data + '</div>';\n",
       "                }, \"width\": \"300px\"}], \"escape\": true, \"layout\": {\"topStart\": null, \"topEnd\": null, \"bottomStart\": null, \"bottomEnd\": null}, \"display_logo_when_loading\": true, \"order\": []};\n",
       "        \n",
       "\n",
       "        \n",
       "        new DataTable(table, dt_args);\n",
       "    });\n",
       "</script>\n"
      ],
      "text/plain": [
       "<IPython.core.display.HTML object>"
      ]
     },
     "metadata": {},
     "output_type": "display_data"
    },
    {
     "data": {
      "text/plain": [
       "'?test_range_span(S)'"
      ]
     },
     "metadata": {},
     "output_type": "display_data"
    },
    {
     "data": {
      "text/html": [
       "<style type=\"text/css\">\n",
       "#T_dea81_row0_col0, #T_dea81_row1_col0, #T_dea81_row2_col0, #T_dea81_row3_col0, #T_dea81_row4_col0 {\n",
       "  overflow-wrap: break-word;\n",
       "  max-width: 800px;\n",
       "  text-align: left;\n",
       "}\n",
       "</style>\n",
       "<table id=\"T_dea81\" class=\"display nowrap\"style=\"table-layout:auto;width:auto;margin:auto;caption-side:bottom\">\n",
       "  <thead>\n",
       "    <tr>\n",
       "      <th id=\"T_dea81_level0_col0\" class=\"col_heading level0 col0\" >S</th>\n",
       "    </tr>\n",
       "  </thead>\n",
       "  <tbody>\n",
       "    <tr>\n",
       "      <td id=\"T_dea81_row0_col0\" class=\"data row0 col0\" >h</td>\n",
       "    </tr>\n",
       "    <tr>\n",
       "      <td id=\"T_dea81_row1_col0\" class=\"data row1 col0\" >he</td>\n",
       "    </tr>\n",
       "    <tr>\n",
       "      <td id=\"T_dea81_row2_col0\" class=\"data row2 col0\" >hel</td>\n",
       "    </tr>\n",
       "    <tr>\n",
       "      <td id=\"T_dea81_row3_col0\" class=\"data row3 col0\" >hell</td>\n",
       "    </tr>\n",
       "    <tr>\n",
       "      <td id=\"T_dea81_row4_col0\" class=\"data row4 col0\" >hello</td>\n",
       "    </tr>\n",
       "  </tbody>\n",
       "</table>\n",
       "\n",
       "<link href=\"https://www.unpkg.com/dt_for_itables@2.0.11/dt_bundle.css\" rel=\"stylesheet\">\n",
       "<script type=\"module\">\n",
       "    import {DataTable, jQuery as $} from 'https://www.unpkg.com/dt_for_itables@2.0.11/dt_bundle.js';\n",
       "\n",
       "    document.querySelectorAll(\"#T_dea81:not(.dataTable)\").forEach(table => {\n",
       "        // Define the table data\n",
       "        \n",
       "\n",
       "        // Define the dt_args\n",
       "        let dt_args = {\"columnDefs\": [{\"targets\": [\"S\"], \"render\": function(data, type, row) {\n",
       "                    return '<div style=\"white-space: normal; word-wrap: break-word;\">' + data + '</div>';\n",
       "                }, \"width\": \"300px\"}], \"escape\": true, \"layout\": {\"topStart\": null, \"topEnd\": null, \"bottomStart\": null, \"bottomEnd\": null}, \"display_logo_when_loading\": true, \"order\": []};\n",
       "        \n",
       "\n",
       "        \n",
       "        new DataTable(table, dt_args);\n",
       "    });\n",
       "</script>\n"
      ],
      "text/plain": [
       "<IPython.core.display.HTML object>"
      ]
     },
     "metadata": {},
     "output_type": "display_data"
    }
   ],
   "source": [
    "def yield_range(num: int):\n",
    "        for i in range(num):\n",
    "            yield i,\n",
    "\n",
    "def yield_range_span(text: str,name:str):\n",
    "    for i in range(len(text)):\n",
    "        yield Span(text,0,i+1,name=name)\n",
    "    \n",
    "def yield_range_str(num: int):\n",
    "    for i in range(num):\n",
    "        yield \"string\" + str(i),\n",
    "\n",
    "\n",
    "sess = test_session(\n",
    "    [\n",
    "        \"\"\"\n",
    "        test_range(X) <- yield_range(5) -> (X).\n",
    "        ?test_range(X)\n",
    "        \"\"\",\n",
    "\n",
    "        \"\"\"\n",
    "        test_range_str(X) <- yield_range_str(5) -> (X).\n",
    "        ?test_range_str(X)\n",
    "        \"\"\",\n",
    "        \"\"\"\n",
    "        test_range_raw(X) <- yield_range_span(\"hello\",\"doc\") -> (X).\n",
    "        test_range_span(S) <- yield_range_span(\"hello\",\"doc\") -> (X), as_str(X)->(S).\n",
    "        ?test_range_span(S)\n",
    "        \"\"\",\n",
    "    ],\n",
    "    [\n",
    "        pd.DataFrame({'X':range(5)}),\n",
    "        pd.DataFrame({'X':[\"string0\",\"string1\",\"string2\",\"string3\",\"string4\"]}),\n",
    "        pd.DataFrame({'S':[\"h\",\"he\",\"hel\",\"hell\",\"hello\"]})\n",
    "    ],\n",
    "    ie_funcs=[\n",
    "        ['yield_range',yield_range,[int],[int]],\n",
    "        ['yield_range_span',yield_range_span,[str,str],[Span]],\n",
    "        ['yield_range_str',yield_range_str,[int],[str]]\n",
    "    ],\n",
    ")\n"
   ]
  },
  {
   "cell_type": "code",
   "execution_count": null,
   "metadata": {},
   "outputs": [
    {
     "data": {
      "text/plain": [
       "'?test_range_raw(S)'"
      ]
     },
     "metadata": {},
     "output_type": "display_data"
    },
    {
     "data": {
      "text/html": [
       "<style type=\"text/css\">\n",
       "#T_4a987_row0_col0, #T_4a987_row1_col0, #T_4a987_row2_col0, #T_4a987_row3_col0, #T_4a987_row4_col0 {\n",
       "  overflow-wrap: break-word;\n",
       "  max-width: 800px;\n",
       "  text-align: left;\n",
       "}\n",
       "</style>\n",
       "<table id=\"T_4a987\" class=\"display nowrap\"style=\"table-layout:auto;width:auto;margin:auto;caption-side:bottom\">\n",
       "  <thead>\n",
       "    <tr>\n",
       "      <th id=\"T_4a987_level0_col0\" class=\"col_heading level0 col0\" >S</th>\n",
       "    </tr>\n",
       "  </thead>\n",
       "  <tbody>\n",
       "    <tr>\n",
       "      <td id=\"T_4a987_row0_col0\" class=\"data row0 col0\" >[@doc,0,1) \"h\"</td>\n",
       "    </tr>\n",
       "    <tr>\n",
       "      <td id=\"T_4a987_row1_col0\" class=\"data row1 col0\" >[@doc,0,2) \"he\"</td>\n",
       "    </tr>\n",
       "    <tr>\n",
       "      <td id=\"T_4a987_row2_col0\" class=\"data row2 col0\" >[@doc,0,3) \"hel\"</td>\n",
       "    </tr>\n",
       "    <tr>\n",
       "      <td id=\"T_4a987_row3_col0\" class=\"data row3 col0\" >[@doc,0,4) \"hell\"</td>\n",
       "    </tr>\n",
       "    <tr>\n",
       "      <td id=\"T_4a987_row4_col0\" class=\"data row4 col0\" >[@doc,0,5) \"hello\"</td>\n",
       "    </tr>\n",
       "  </tbody>\n",
       "</table>\n",
       "\n",
       "<link href=\"https://www.unpkg.com/dt_for_itables@2.0.11/dt_bundle.css\" rel=\"stylesheet\">\n",
       "<script type=\"module\">\n",
       "    import {DataTable, jQuery as $} from 'https://www.unpkg.com/dt_for_itables@2.0.11/dt_bundle.js';\n",
       "\n",
       "    document.querySelectorAll(\"#T_4a987:not(.dataTable)\").forEach(table => {\n",
       "        // Define the table data\n",
       "        \n",
       "\n",
       "        // Define the dt_args\n",
       "        let dt_args = {\"columnDefs\": [{\"targets\": [\"S\"], \"render\": function(data, type, row) {\n",
       "                    return '<div style=\"white-space: normal; word-wrap: break-word;\">' + data + '</div>';\n",
       "                }, \"width\": \"300px\"}], \"escape\": true, \"layout\": {\"topStart\": null, \"topEnd\": null, \"bottomStart\": null, \"bottomEnd\": null}, \"display_logo_when_loading\": true, \"order\": []};\n",
       "        \n",
       "\n",
       "        \n",
       "        new DataTable(table, dt_args);\n",
       "    });\n",
       "</script>\n"
      ],
      "text/plain": [
       "<IPython.core.display.HTML object>"
      ]
     },
     "metadata": {},
     "output_type": "display_data"
    },
    {
     "data": {
      "text/html": [
       "<div>\n",
       "<style scoped>\n",
       "    .dataframe tbody tr th:only-of-type {\n",
       "        vertical-align: middle;\n",
       "    }\n",
       "\n",
       "    .dataframe tbody tr th {\n",
       "        vertical-align: top;\n",
       "    }\n",
       "\n",
       "    .dataframe thead th {\n",
       "        text-align: right;\n",
       "    }\n",
       "</style>\n",
       "<table border=\"1\" class=\"dataframe\">\n",
       "  <thead>\n",
       "    <tr style=\"text-align: right;\">\n",
       "      <th></th>\n",
       "      <th>S</th>\n",
       "    </tr>\n",
       "  </thead>\n",
       "  <tbody>\n",
       "    <tr>\n",
       "      <th>0</th>\n",
       "      <td>(h)</td>\n",
       "    </tr>\n",
       "    <tr>\n",
       "      <th>1</th>\n",
       "      <td>(h, e)</td>\n",
       "    </tr>\n",
       "    <tr>\n",
       "      <th>2</th>\n",
       "      <td>(h, e, l)</td>\n",
       "    </tr>\n",
       "    <tr>\n",
       "      <th>3</th>\n",
       "      <td>(h, e, l, l)</td>\n",
       "    </tr>\n",
       "    <tr>\n",
       "      <th>4</th>\n",
       "      <td>(h, e, l, l, o)</td>\n",
       "    </tr>\n",
       "  </tbody>\n",
       "</table>\n",
       "</div>"
      ],
      "text/plain": [
       "                 S\n",
       "0              (h)\n",
       "1           (h, e)\n",
       "2        (h, e, l)\n",
       "3     (h, e, l, l)\n",
       "4  (h, e, l, l, o)"
      ]
     },
     "execution_count": null,
     "metadata": {},
     "output_type": "execute_result"
    }
   ],
   "source": [
    "\n",
    "sess.export('?test_range_raw(S)',display_results=True)"
   ]
  },
  {
   "cell_type": "code",
   "execution_count": null,
   "metadata": {},
   "outputs": [],
   "source": [
    "from spannerlib.ie_func.basic import rgx"
   ]
  },
  {
   "cell_type": "code",
   "execution_count": null,
   "metadata": {},
   "outputs": [
    {
     "data": {
      "text/plain": [
       "True"
      ]
     },
     "execution_count": null,
     "metadata": {},
     "output_type": "execute_result"
    }
   ],
   "source": [
    "list(rgx('.*',\"aa\")) == ['aa',\"\"]"
   ]
  },
  {
   "cell_type": "code",
   "execution_count": null,
   "metadata": {},
   "outputs": [
    {
     "data": {
      "text/plain": [
       "True"
      ]
     },
     "execution_count": null,
     "metadata": {},
     "output_type": "execute_result"
    }
   ],
   "source": [
    "{(Span(\"aa\",0,2),)} != {('aa',)}"
   ]
  },
  {
   "cell_type": "code",
   "execution_count": null,
   "metadata": {},
   "outputs": [
    {
     "data": {
      "text/plain": [
       "'?py_span_rel(X)'"
      ]
     },
     "metadata": {},
     "output_type": "display_data"
    },
    {
     "data": {
      "text/html": [
       "<style type=\"text/css\">\n",
       "#T_e92ba_row0_col0 {\n",
       "  overflow-wrap: break-word;\n",
       "  max-width: 800px;\n",
       "  text-align: left;\n",
       "}\n",
       "</style>\n",
       "<table id=\"T_e92ba\" class=\"display nowrap\"style=\"table-layout:auto;width:auto;margin:auto;caption-side:bottom\">\n",
       "  <thead>\n",
       "    <tr>\n",
       "      <th id=\"T_e92ba_level0_col0\" class=\"col_heading level0 col0\" >X</th>\n",
       "    </tr>\n",
       "  </thead>\n",
       "  <tbody>\n",
       "    <tr>\n",
       "      <td id=\"T_e92ba_row0_col0\" class=\"data row0 col0\" >[@e0c903,0,2) \"aa\"</td>\n",
       "    </tr>\n",
       "  </tbody>\n",
       "</table>\n",
       "\n",
       "<link href=\"https://www.unpkg.com/dt_for_itables@2.0.11/dt_bundle.css\" rel=\"stylesheet\">\n",
       "<script type=\"module\">\n",
       "    import {DataTable, jQuery as $} from 'https://www.unpkg.com/dt_for_itables@2.0.11/dt_bundle.js';\n",
       "\n",
       "    document.querySelectorAll(\"#T_e92ba:not(.dataTable)\").forEach(table => {\n",
       "        // Define the table data\n",
       "        \n",
       "\n",
       "        // Define the dt_args\n",
       "        let dt_args = {\"columnDefs\": [{\"targets\": [\"X\"], \"render\": function(data, type, row) {\n",
       "                    return '<div style=\"white-space: normal; word-wrap: break-word;\">' + data + '</div>';\n",
       "                }, \"width\": \"300px\"}], \"escape\": true, \"layout\": {\"topStart\": null, \"topEnd\": null, \"bottomStart\": null, \"bottomEnd\": null}, \"display_logo_when_loading\": true, \"order\": []};\n",
       "        \n",
       "\n",
       "        \n",
       "        new DataTable(table, dt_args);\n",
       "    });\n",
       "</script>\n"
      ],
      "text/plain": [
       "<IPython.core.display.HTML object>"
      ]
     },
     "metadata": {},
     "output_type": "display_data"
    },
    {
     "data": {
      "text/plain": [
       "'?py_string_rel(X)'"
      ]
     },
     "metadata": {},
     "output_type": "display_data"
    },
    {
     "data": {
      "text/html": [
       "<style type=\"text/css\">\n",
       "#T_e00fc_row0_col0 {\n",
       "  overflow-wrap: break-word;\n",
       "  max-width: 800px;\n",
       "  text-align: left;\n",
       "}\n",
       "</style>\n",
       "<table id=\"T_e00fc\" class=\"display nowrap\"style=\"table-layout:auto;width:auto;margin:auto;caption-side:bottom\">\n",
       "  <thead>\n",
       "    <tr>\n",
       "      <th id=\"T_e00fc_level0_col0\" class=\"col_heading level0 col0\" >X</th>\n",
       "    </tr>\n",
       "  </thead>\n",
       "  <tbody>\n",
       "    <tr>\n",
       "      <td id=\"T_e00fc_row0_col0\" class=\"data row0 col0\" >aa</td>\n",
       "    </tr>\n",
       "  </tbody>\n",
       "</table>\n",
       "\n",
       "<link href=\"https://www.unpkg.com/dt_for_itables@2.0.11/dt_bundle.css\" rel=\"stylesheet\">\n",
       "<script type=\"module\">\n",
       "    import {DataTable, jQuery as $} from 'https://www.unpkg.com/dt_for_itables@2.0.11/dt_bundle.js';\n",
       "\n",
       "    document.querySelectorAll(\"#T_e00fc:not(.dataTable)\").forEach(table => {\n",
       "        // Define the table data\n",
       "        \n",
       "\n",
       "        // Define the dt_args\n",
       "        let dt_args = {\"columnDefs\": [{\"targets\": [\"X\"], \"render\": function(data, type, row) {\n",
       "                    return '<div style=\"white-space: normal; word-wrap: break-word;\">' + data + '</div>';\n",
       "                }, \"width\": \"300px\"}], \"escape\": true, \"layout\": {\"topStart\": null, \"topEnd\": null, \"bottomStart\": null, \"bottomEnd\": null}, \"display_logo_when_loading\": true, \"order\": []};\n",
       "        \n",
       "\n",
       "        \n",
       "        new DataTable(table, dt_args);\n",
       "    });\n",
       "</script>\n"
      ],
      "text/plain": [
       "<IPython.core.display.HTML object>"
      ]
     },
     "metadata": {},
     "output_type": "display_data"
    }
   ],
   "source": [
    "sess = test_session(\n",
    "[\n",
    "    \"\"\"\n",
    "    py_span_rel(X) <- rgx(\".+\",\"aa\") -> (X).\n",
    "    py_string_rel(X) <- rgx(\".+\",\"aa\") -> (S), as_str(S)->(X).\n",
    "    ?py_span_rel(X)\n",
    "    \"\"\",\n",
    "    \"\"\"\n",
    "    ?py_string_rel(X)\n",
    "    \"\"\"\n",
    "],\n",
    "[\n",
    "    pd.DataFrame([\n",
    "        [\"aa\"],\n",
    "    ],columns=['X']),\n",
    "    pd.DataFrame([\n",
    "        [\"aa\"],\n",
    "    ],columns=['X']),\n",
    "],\n",
    ")\n",
    "# _ = sess.export('?py_span_rel(X)',display_results=True)"
   ]
  },
  {
   "cell_type": "code",
   "execution_count": null,
   "metadata": {},
   "outputs": [
    {
     "name": "stdout",
     "output_type": "stream",
     "text": [
      "X=aa, const=aa\n"
     ]
    },
    {
     "data": {
      "text/plain": [
       "'?py_span_rel(X,DEBUG)'"
      ]
     },
     "metadata": {},
     "output_type": "display_data"
    },
    {
     "data": {
      "text/html": [
       "<style type=\"text/css\">\n",
       "#T_4cd1d_row0_col0, #T_4cd1d_row0_col1 {\n",
       "  overflow-wrap: break-word;\n",
       "  max-width: 800px;\n",
       "  text-align: left;\n",
       "}\n",
       "</style>\n",
       "<table id=\"T_4cd1d\" class=\"display nowrap\"style=\"table-layout:auto;width:auto;margin:auto;caption-side:bottom\">\n",
       "  <thead>\n",
       "    <tr>\n",
       "      <th id=\"T_4cd1d_level0_col0\" class=\"col_heading level0 col0\" >X</th>\n",
       "      <th id=\"T_4cd1d_level0_col1\" class=\"col_heading level0 col1\" >DEBUG</th>\n",
       "    </tr>\n",
       "  </thead>\n",
       "  <tbody>\n",
       "    <tr>\n",
       "      <td id=\"T_4cd1d_row0_col0\" class=\"data row0 col0\" >[@e0c903,0,2) \"aa\"</td>\n",
       "      <td id=\"T_4cd1d_row0_col1\" class=\"data row0 col1\" >X=aa, const=aa</td>\n",
       "    </tr>\n",
       "  </tbody>\n",
       "</table>\n",
       "\n",
       "<link href=\"https://www.unpkg.com/dt_for_itables@2.0.11/dt_bundle.css\" rel=\"stylesheet\">\n",
       "<script type=\"module\">\n",
       "    import {DataTable, jQuery as $} from 'https://www.unpkg.com/dt_for_itables@2.0.11/dt_bundle.js';\n",
       "\n",
       "    document.querySelectorAll(\"#T_4cd1d:not(.dataTable)\").forEach(table => {\n",
       "        // Define the table data\n",
       "        \n",
       "\n",
       "        // Define the dt_args\n",
       "        let dt_args = {\"columnDefs\": [{\"targets\": [\"X\", \"DEBUG\"], \"render\": function(data, type, row) {\n",
       "                    return '<div style=\"white-space: normal; word-wrap: break-word;\">' + data + '</div>';\n",
       "                }, \"width\": \"300px\"}], \"escape\": true, \"layout\": {\"topStart\": null, \"topEnd\": null, \"bottomStart\": null, \"bottomEnd\": null}, \"display_logo_when_loading\": true, \"order\": []};\n",
       "        \n",
       "\n",
       "        \n",
       "        new DataTable(table, dt_args);\n",
       "    });\n",
       "</script>\n"
      ],
      "text/plain": [
       "<IPython.core.display.HTML object>"
      ]
     },
     "metadata": {},
     "output_type": "display_data"
    }
   ],
   "source": [
    "sess = test_session(\n",
    "[\n",
    "    \"\"\"\n",
    "    py_span_rel(X,DEBUG) <- rgx(\".+\",\"aa\") -> (X), print(\"X={0}, const={1}\",X,\"aa\")->(DEBUG).\n",
    "    ?py_span_rel(X,DEBUG)\n",
    "    \"\"\",\n",
    "\n",
    "],\n",
    "[\n",
    "\n",
    "    pd.DataFrame([\n",
    "        [\"aa\",\"X=aa, const=aa\"],\n",
    "    ],columns=['X','DEBUG']),\n",
    "],\n",
    ")\n",
    "# _ = sess.export('?py_span_rel(X)',display_results=True)"
   ]
  },
  {
   "cell_type": "code",
   "execution_count": null,
   "metadata": {},
   "outputs": [],
   "source": [
    "# TODO add tests of extracting spans from spans once we have a way to treat spans as strings in the type system"
   ]
  },
  {
   "cell_type": "code",
   "execution_count": null,
   "metadata": {},
   "outputs": [],
   "source": [
    "# uncomment these once we decide how to support rust regexs"
   ]
  },
  {
   "cell_type": "code",
   "execution_count": null,
   "metadata": {},
   "outputs": [],
   "source": [
    "# test_session(\n",
    "# [\n",
    "#     \"\"\"\n",
    "#     string_rel(X) <- rgx_string(\"aa\",\".+\") -> (X).\n",
    "#     span_rel(X) <- rgx_span(\"aa\",\".+\") -> (X).\n",
    "#     ?string_rel(X)\n",
    "#     \"\"\"\n",
    "#     \"\"\"\n",
    "#     ?span_rel(X)\n",
    "#     \"\"\"\n",
    "# ],[\n",
    "#     pd.DataFrame([\n",
    "#         ['a'],\n",
    "#         ['aa'],\n",
    "#     ],columns=['X']),\n",
    "#     pd.DataFrame([\n",
    "#         [Span(0,1)],\n",
    "#         [Span(0,2)],\n",
    "#         [Span(1,2)]\n",
    "#     ],columns=['X']),\n",
    "# ],\n",
    "# )"
   ]
  },
  {
   "cell_type": "code",
   "execution_count": null,
   "metadata": {},
   "outputs": [],
   "source": [
    "# with tempfile.TemporaryDirectory() as temp_dir:\n",
    "#         rgx_text_file = Path(temp_dir) / \"temp\"\n",
    "#         with open(rgx_text_file, \"w\") as f:\n",
    "#             f.write(\"aa\")\n",
    "\n",
    "# test_session(\n",
    "# [\n",
    "#     \"\"\"\n",
    "#     string_rel(X) <- rgx_string_from_file(\"tests/rgx_text_file\",\".+\") -> (X).\n",
    "#     span_rel(X) <- rgx_span_from_file(\"tests/rgx_text_file\",\".+\") -> (X).\n",
    "#     ?string_rel(X)\n",
    "#     \"\"\"\n",
    "#     \"\"\"\n",
    "#     ?span_rel(X)\n",
    "#     \"\"\"\n",
    "# ],[\n",
    "#     pd.DataFrame([\n",
    "#         ['a'],\n",
    "#         ['aa'],\n",
    "#     ],columns=['X']),\n",
    "#     pd.DataFrame([\n",
    "#         [Span(0,1)],\n",
    "#         [Span(0,2)],\n",
    "#         [Span(1,2)]\n",
    "#     ],columns=['X']),\n",
    "# ],\n",
    "# )"
   ]
  },
  {
   "cell_type": "code",
   "execution_count": null,
   "metadata": {},
   "outputs": [],
   "source": [
    "# text = \"aab\"\n",
    "# pattern = \"(?P<group_all>(?P<group_a>a+)(?P<group_b>b+))\"\n",
    "# test_session(\n",
    "# [\n",
    "#     f\"\"\"\n",
    "#     group_string_rel(X,Y,Z) <- rgx_string(\"{text}\",\"{pattern}\") -> (X,Y,Z).\n",
    "#     ?group_string_rel(X, Y, Z)\n",
    "#     \"\"\"\n",
    "# ],[\n",
    "#     pd.DataFrame([\n",
    "#         ['aa','b','aab'],\n",
    "#         ['a','b','ab'],\n",
    "#     ],columns=['X','Y','Z']),\n",
    "# ],\n",
    "# )"
   ]
  },
  {
   "cell_type": "code",
   "execution_count": null,
   "metadata": {},
   "outputs": [],
   "source": [
    "# TODO add tests for ie functions from stdlib, do this only for the ones we leave in the final demo version"
   ]
  }
 ],
 "metadata": {
  "kernelspec": {
   "display_name": "python3",
   "language": "python",
   "name": "python3"
  }
 },
 "nbformat": 4,
 "nbformat_minor": 2
}
