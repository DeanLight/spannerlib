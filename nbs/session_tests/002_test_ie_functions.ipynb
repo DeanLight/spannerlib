{
 "cells": [
  {
   "cell_type": "markdown",
   "metadata": {},
   "source": [
    "# Test IE functions"
   ]
  },
  {
   "cell_type": "code",
   "execution_count": 1,
   "metadata": {},
   "outputs": [],
   "source": [
    "#| hide\n",
    "from nbdev.showdoc import show_doc\n",
    "\n",
    "%load_ext autoreload\n",
    "%autoreload 2"
   ]
  },
  {
   "cell_type": "code",
   "execution_count": 2,
   "metadata": {},
   "outputs": [],
   "source": [
    "#| output: false\n",
    "import numpy as np\n",
    "import tempfile\n",
    "from pandas import DataFrame\n",
    "from pathlib import Path\n",
    "import pandas as pd\n",
    "\n",
    "from spannerflow.span import Span\n",
    "from spannerlib.session import Session,test_session\n",
    "from spannerlib.utils import assert_df_equals"
   ]
  },
  {
   "cell_type": "code",
   "execution_count": 3,
   "metadata": {},
   "outputs": [
    {
     "data": {
      "text/plain": [
       "[[@doc,0,1) \"h\",\n",
       " [@doc,0,2) \"he\",\n",
       " [@doc,0,3) \"hel\",\n",
       " [@doc,0,4) \"hell\",\n",
       " [@doc,0,5) \"hello\"]"
      ]
     },
     "execution_count": 3,
     "metadata": {},
     "output_type": "execute_result"
    }
   ],
   "source": [
    "def yield_range_span(text: str,name:str):\n",
    "    for i in range(len(text)):\n",
    "        yield Span(text,0,i+1,name=name)\n",
    "\n",
    "list(yield_range_span(\"hello\",\"doc\"))"
   ]
  },
  {
   "cell_type": "code",
   "execution_count": 4,
   "metadata": {},
   "outputs": [
    {
     "name": "stderr",
     "output_type": "stream",
     "text": [
      "WARNING: All log messages before absl::InitializeLog() is called are written to STDERR\n",
      "I0000 00:00:1732644923.528662 7967395 fork_posix.cc:75] Other threads are currently calling into gRPC, skipping fork() handlers\n"
     ]
    },
    {
     "data": {
      "text/plain": [
       "'?test_range(X)'"
      ]
     },
     "metadata": {},
     "output_type": "display_data"
    },
    {
     "data": {
      "text/html": [
       "<style type=\"text/css\">\n",
       "#T_8d197_row0_col0, #T_8d197_row1_col0, #T_8d197_row2_col0, #T_8d197_row3_col0, #T_8d197_row4_col0 {\n",
       "  overflow-wrap: break-word;\n",
       "  max-width: 800px;\n",
       "  text-align: left;\n",
       "}\n",
       "</style>\n",
       "<table id=\"T_8d197\" class=\"display nowrap\"style=\"table-layout:auto;width:auto;margin:auto;caption-side:bottom\">\n",
       "  <thead>\n",
       "    <tr>\n",
       "      <th id=\"T_8d197_level0_col0\" class=\"col_heading level0 col0\" >X</th>\n",
       "    </tr>\n",
       "  </thead>\n",
       "  <tbody>\n",
       "    <tr>\n",
       "      <td id=\"T_8d197_row0_col0\" class=\"data row0 col0\" >0</td>\n",
       "    </tr>\n",
       "    <tr>\n",
       "      <td id=\"T_8d197_row1_col0\" class=\"data row1 col0\" >1</td>\n",
       "    </tr>\n",
       "    <tr>\n",
       "      <td id=\"T_8d197_row2_col0\" class=\"data row2 col0\" >2</td>\n",
       "    </tr>\n",
       "    <tr>\n",
       "      <td id=\"T_8d197_row3_col0\" class=\"data row3 col0\" >3</td>\n",
       "    </tr>\n",
       "    <tr>\n",
       "      <td id=\"T_8d197_row4_col0\" class=\"data row4 col0\" >4</td>\n",
       "    </tr>\n",
       "  </tbody>\n",
       "</table>\n",
       "\n",
       "<link href=\"https://www.unpkg.com/dt_for_itables@2.0.13/dt_bundle.css\" rel=\"stylesheet\">\n",
       "<script type=\"module\">\n",
       "    import {DataTable, jQuery as $} from 'https://www.unpkg.com/dt_for_itables@2.0.13/dt_bundle.js';\n",
       "\n",
       "    document.querySelectorAll(\"#T_8d197:not(.dataTable)\").forEach(table => {\n",
       "        if (!(table instanceof HTMLTableElement))\n",
       "            return;\n",
       "\n",
       "        // Define the table data\n",
       "        \n",
       "\n",
       "        // Define the dt_args\n",
       "        let dt_args = {\"columnDefs\": [{\"targets\": [\"X\"], \"render\": function(data, type, row) {\n",
       "                    return '<div style=\"white-space: normal; word-wrap: break-word;\">' + data + '</div>';\n",
       "                }, \"width\": \"300px\"}], \"escape\": true, \"layout\": {\"topStart\": null, \"topEnd\": null, \"bottomStart\": null, \"bottomEnd\": null}, \"display_logo_when_loading\": true, \"order\": [], \"warn_on_selected_rows_not_rendered\": true};\n",
       "        \n",
       "\n",
       "        \n",
       "        new DataTable(table, dt_args);\n",
       "    });\n",
       "</script>\n"
      ],
      "text/plain": [
       "<IPython.core.display.HTML object>"
      ]
     },
     "metadata": {},
     "output_type": "display_data"
    },
    {
     "name": "stderr",
     "output_type": "stream",
     "text": [
      "I0000 00:00:1732644927.191288 7967395 fork_posix.cc:75] Other threads are currently calling into gRPC, skipping fork() handlers\n"
     ]
    },
    {
     "data": {
      "text/plain": [
       "'?test_range_str(X)'"
      ]
     },
     "metadata": {},
     "output_type": "display_data"
    },
    {
     "data": {
      "text/html": [
       "<style type=\"text/css\">\n",
       "#T_6b76c_row0_col0, #T_6b76c_row1_col0, #T_6b76c_row2_col0, #T_6b76c_row3_col0, #T_6b76c_row4_col0 {\n",
       "  overflow-wrap: break-word;\n",
       "  max-width: 800px;\n",
       "  text-align: left;\n",
       "}\n",
       "</style>\n",
       "<table id=\"T_6b76c\" class=\"display nowrap\"style=\"table-layout:auto;width:auto;margin:auto;caption-side:bottom\">\n",
       "  <thead>\n",
       "    <tr>\n",
       "      <th id=\"T_6b76c_level0_col0\" class=\"col_heading level0 col0\" >X</th>\n",
       "    </tr>\n",
       "  </thead>\n",
       "  <tbody>\n",
       "    <tr>\n",
       "      <td id=\"T_6b76c_row0_col0\" class=\"data row0 col0\" >string0</td>\n",
       "    </tr>\n",
       "    <tr>\n",
       "      <td id=\"T_6b76c_row1_col0\" class=\"data row1 col0\" >string1</td>\n",
       "    </tr>\n",
       "    <tr>\n",
       "      <td id=\"T_6b76c_row2_col0\" class=\"data row2 col0\" >string2</td>\n",
       "    </tr>\n",
       "    <tr>\n",
       "      <td id=\"T_6b76c_row3_col0\" class=\"data row3 col0\" >string3</td>\n",
       "    </tr>\n",
       "    <tr>\n",
       "      <td id=\"T_6b76c_row4_col0\" class=\"data row4 col0\" >string4</td>\n",
       "    </tr>\n",
       "  </tbody>\n",
       "</table>\n",
       "\n",
       "<link href=\"https://www.unpkg.com/dt_for_itables@2.0.13/dt_bundle.css\" rel=\"stylesheet\">\n",
       "<script type=\"module\">\n",
       "    import {DataTable, jQuery as $} from 'https://www.unpkg.com/dt_for_itables@2.0.13/dt_bundle.js';\n",
       "\n",
       "    document.querySelectorAll(\"#T_6b76c:not(.dataTable)\").forEach(table => {\n",
       "        if (!(table instanceof HTMLTableElement))\n",
       "            return;\n",
       "\n",
       "        // Define the table data\n",
       "        \n",
       "\n",
       "        // Define the dt_args\n",
       "        let dt_args = {\"columnDefs\": [{\"targets\": [\"X\"], \"render\": function(data, type, row) {\n",
       "                    return '<div style=\"white-space: normal; word-wrap: break-word;\">' + data + '</div>';\n",
       "                }, \"width\": \"300px\"}], \"escape\": true, \"layout\": {\"topStart\": null, \"topEnd\": null, \"bottomStart\": null, \"bottomEnd\": null}, \"display_logo_when_loading\": true, \"order\": [], \"warn_on_selected_rows_not_rendered\": true};\n",
       "        \n",
       "\n",
       "        \n",
       "        new DataTable(table, dt_args);\n",
       "    });\n",
       "</script>\n"
      ],
      "text/plain": [
       "<IPython.core.display.HTML object>"
      ]
     },
     "metadata": {},
     "output_type": "display_data"
    },
    {
     "name": "stderr",
     "output_type": "stream",
     "text": [
      "I0000 00:00:1732644929.744600 7967395 fork_posix.cc:75] Other threads are currently calling into gRPC, skipping fork() handlers\n"
     ]
    },
    {
     "data": {
      "text/plain": [
       "'?test_range_span(S)'"
      ]
     },
     "metadata": {},
     "output_type": "display_data"
    },
    {
     "data": {
      "text/html": [
       "<style type=\"text/css\">\n",
       "#T_706ca_row0_col0, #T_706ca_row1_col0, #T_706ca_row2_col0, #T_706ca_row3_col0, #T_706ca_row4_col0 {\n",
       "  overflow-wrap: break-word;\n",
       "  max-width: 800px;\n",
       "  text-align: left;\n",
       "}\n",
       "</style>\n",
       "<table id=\"T_706ca\" class=\"display nowrap\"style=\"table-layout:auto;width:auto;margin:auto;caption-side:bottom\">\n",
       "  <thead>\n",
       "    <tr>\n",
       "      <th id=\"T_706ca_level0_col0\" class=\"col_heading level0 col0\" >S</th>\n",
       "    </tr>\n",
       "  </thead>\n",
       "  <tbody>\n",
       "    <tr>\n",
       "      <td id=\"T_706ca_row0_col0\" class=\"data row0 col0\" >h</td>\n",
       "    </tr>\n",
       "    <tr>\n",
       "      <td id=\"T_706ca_row1_col0\" class=\"data row1 col0\" >he</td>\n",
       "    </tr>\n",
       "    <tr>\n",
       "      <td id=\"T_706ca_row2_col0\" class=\"data row2 col0\" >hel</td>\n",
       "    </tr>\n",
       "    <tr>\n",
       "      <td id=\"T_706ca_row3_col0\" class=\"data row3 col0\" >hell</td>\n",
       "    </tr>\n",
       "    <tr>\n",
       "      <td id=\"T_706ca_row4_col0\" class=\"data row4 col0\" >hello</td>\n",
       "    </tr>\n",
       "  </tbody>\n",
       "</table>\n",
       "\n",
       "<link href=\"https://www.unpkg.com/dt_for_itables@2.0.13/dt_bundle.css\" rel=\"stylesheet\">\n",
       "<script type=\"module\">\n",
       "    import {DataTable, jQuery as $} from 'https://www.unpkg.com/dt_for_itables@2.0.13/dt_bundle.js';\n",
       "\n",
       "    document.querySelectorAll(\"#T_706ca:not(.dataTable)\").forEach(table => {\n",
       "        if (!(table instanceof HTMLTableElement))\n",
       "            return;\n",
       "\n",
       "        // Define the table data\n",
       "        \n",
       "\n",
       "        // Define the dt_args\n",
       "        let dt_args = {\"columnDefs\": [{\"targets\": [\"S\"], \"render\": function(data, type, row) {\n",
       "                    return '<div style=\"white-space: normal; word-wrap: break-word;\">' + data + '</div>';\n",
       "                }, \"width\": \"300px\"}], \"escape\": true, \"layout\": {\"topStart\": null, \"topEnd\": null, \"bottomStart\": null, \"bottomEnd\": null}, \"display_logo_when_loading\": true, \"order\": [], \"warn_on_selected_rows_not_rendered\": true};\n",
       "        \n",
       "\n",
       "        \n",
       "        new DataTable(table, dt_args);\n",
       "    });\n",
       "</script>\n"
      ],
      "text/plain": [
       "<IPython.core.display.HTML object>"
      ]
     },
     "metadata": {},
     "output_type": "display_data"
    }
   ],
   "source": [
    "def yield_range(num: int):\n",
    "        for i in range(num):\n",
    "            yield i,\n",
    "\n",
    "def yield_range_span(text: str,name:str):\n",
    "    for i in range(len(text)):\n",
    "        yield Span(text,0,i+1,name=name)\n",
    "         \n",
    "def yield_range_str(num: int):\n",
    "    for i in range(num):\n",
    "        yield \"string\" + str(i),\n",
    "\n",
    "\n",
    "sess = test_session(\n",
    "    [\n",
    "        \"\"\"\n",
    "        test_range(X) <- yield_range(5) -> (X).\n",
    "        ?test_range(X)\n",
    "        \"\"\",\n",
    "\n",
    "        \"\"\"\n",
    "        test_range_str(X) <- yield_range_str(5) -> (X).\n",
    "        ?test_range_str(X)\n",
    "        \"\"\",\n",
    "        \"\"\"\n",
    "        test_range_raw(X) <- yield_range_span(\"hello\",\"doc\") -> (X).\n",
    "        test_range_span(S) <- yield_range_span(\"hello\",\"doc\") -> (X), as_str(X)->(S).\n",
    "        ?test_range_span(S)\n",
    "        \"\"\",\n",
    "    ],\n",
    "    [\n",
    "        pd.DataFrame({'X':range(5)}),\n",
    "        pd.DataFrame({'X':[\"string0\",\"string1\",\"string2\",\"string3\",\"string4\"]}),\n",
    "        pd.DataFrame({'S':[\"h\",\"he\",\"hel\",\"hell\",\"hello\"]})\n",
    "    ],\n",
    "    ie_funcs=[\n",
    "        ['yield_range',yield_range,[int],[int]],\n",
    "        ['yield_range_span',yield_range_span,[str,str],[Span]],\n",
    "        ['yield_range_str',yield_range_str,[int],[str]]\n",
    "    ],\n",
    "    csvs=[[\"Test\", pd.DataFrame([[Span(\"hello\", name=\"doc\")]])]]\n",
    "    \n",
    ")\n"
   ]
  },
  {
   "cell_type": "code",
   "execution_count": 5,
   "metadata": {},
   "outputs": [
    {
     "data": {
      "text/plain": [
       "'?test_range_raw(S)'"
      ]
     },
     "metadata": {},
     "output_type": "display_data"
    },
    {
     "data": {
      "text/html": [
       "<style type=\"text/css\">\n",
       "#T_3d80d_row0_col0, #T_3d80d_row1_col0, #T_3d80d_row2_col0, #T_3d80d_row3_col0, #T_3d80d_row4_col0 {\n",
       "  overflow-wrap: break-word;\n",
       "  max-width: 800px;\n",
       "  text-align: left;\n",
       "}\n",
       "</style>\n",
       "<table id=\"T_3d80d\" class=\"display nowrap\"style=\"table-layout:auto;width:auto;margin:auto;caption-side:bottom\">\n",
       "  <thead>\n",
       "    <tr>\n",
       "      <th id=\"T_3d80d_level0_col0\" class=\"col_heading level0 col0\" >S</th>\n",
       "    </tr>\n",
       "  </thead>\n",
       "  <tbody>\n",
       "    <tr>\n",
       "      <td id=\"T_3d80d_row0_col0\" class=\"data row0 col0\" >[@doc,0,1) \"h\"</td>\n",
       "    </tr>\n",
       "    <tr>\n",
       "      <td id=\"T_3d80d_row1_col0\" class=\"data row1 col0\" >[@doc,0,2) \"he\"</td>\n",
       "    </tr>\n",
       "    <tr>\n",
       "      <td id=\"T_3d80d_row2_col0\" class=\"data row2 col0\" >[@doc,0,3) \"hel\"</td>\n",
       "    </tr>\n",
       "    <tr>\n",
       "      <td id=\"T_3d80d_row3_col0\" class=\"data row3 col0\" >[@doc,0,4) \"hell\"</td>\n",
       "    </tr>\n",
       "    <tr>\n",
       "      <td id=\"T_3d80d_row4_col0\" class=\"data row4 col0\" >[@doc,0,5) \"hello\"</td>\n",
       "    </tr>\n",
       "  </tbody>\n",
       "</table>\n",
       "\n",
       "<link href=\"https://www.unpkg.com/dt_for_itables@2.0.13/dt_bundle.css\" rel=\"stylesheet\">\n",
       "<script type=\"module\">\n",
       "    import {DataTable, jQuery as $} from 'https://www.unpkg.com/dt_for_itables@2.0.13/dt_bundle.js';\n",
       "\n",
       "    document.querySelectorAll(\"#T_3d80d:not(.dataTable)\").forEach(table => {\n",
       "        if (!(table instanceof HTMLTableElement))\n",
       "            return;\n",
       "\n",
       "        // Define the table data\n",
       "        \n",
       "\n",
       "        // Define the dt_args\n",
       "        let dt_args = {\"columnDefs\": [{\"targets\": [\"S\"], \"render\": function(data, type, row) {\n",
       "                    return '<div style=\"white-space: normal; word-wrap: break-word;\">' + data + '</div>';\n",
       "                }, \"width\": \"300px\"}], \"escape\": true, \"layout\": {\"topStart\": null, \"topEnd\": null, \"bottomStart\": null, \"bottomEnd\": null}, \"display_logo_when_loading\": true, \"order\": [], \"warn_on_selected_rows_not_rendered\": true};\n",
       "        \n",
       "\n",
       "        \n",
       "        new DataTable(table, dt_args);\n",
       "    });\n",
       "</script>\n"
      ],
      "text/plain": [
       "<IPython.core.display.HTML object>"
      ]
     },
     "metadata": {},
     "output_type": "display_data"
    },
    {
     "data": {
      "text/html": [
       "<div>\n",
       "<style scoped>\n",
       "    .dataframe tbody tr th:only-of-type {\n",
       "        vertical-align: middle;\n",
       "    }\n",
       "\n",
       "    .dataframe tbody tr th {\n",
       "        vertical-align: top;\n",
       "    }\n",
       "\n",
       "    .dataframe thead th {\n",
       "        text-align: right;\n",
       "    }\n",
       "</style>\n",
       "<table border=\"1\" class=\"dataframe\">\n",
       "  <thead>\n",
       "    <tr style=\"text-align: right;\">\n",
       "      <th></th>\n",
       "      <th>S</th>\n",
       "    </tr>\n",
       "  </thead>\n",
       "  <tbody>\n",
       "    <tr>\n",
       "      <th>0</th>\n",
       "      <td>(h)</td>\n",
       "    </tr>\n",
       "    <tr>\n",
       "      <th>1</th>\n",
       "      <td>(h, e)</td>\n",
       "    </tr>\n",
       "    <tr>\n",
       "      <th>2</th>\n",
       "      <td>(h, e, l)</td>\n",
       "    </tr>\n",
       "    <tr>\n",
       "      <th>3</th>\n",
       "      <td>(h, e, l, l)</td>\n",
       "    </tr>\n",
       "    <tr>\n",
       "      <th>4</th>\n",
       "      <td>(h, e, l, l, o)</td>\n",
       "    </tr>\n",
       "  </tbody>\n",
       "</table>\n",
       "</div>"
      ],
      "text/plain": [
       "                 S\n",
       "0              (h)\n",
       "1           (h, e)\n",
       "2        (h, e, l)\n",
       "3     (h, e, l, l)\n",
       "4  (h, e, l, l, o)"
      ]
     },
     "execution_count": 5,
     "metadata": {},
     "output_type": "execute_result"
    }
   ],
   "source": [
    "\n",
    "sess.export('?test_range_raw(S)',display_results=True)"
   ]
  },
  {
   "cell_type": "code",
   "execution_count": null,
   "metadata": {},
   "outputs": [],
   "source": [
    "from spannerlib.ie_func.basic import rgx"
   ]
  },
  {
   "cell_type": "code",
   "execution_count": null,
   "metadata": {},
   "outputs": [],
   "source": [
    "list(rgx('.*',\"aa\")) == ['aa',\"\"]"
   ]
  },
  {
   "cell_type": "code",
   "execution_count": null,
   "metadata": {},
   "outputs": [],
   "source": [
    "{(Span(\"aa\",0,2),)} != {('aa',)}"
   ]
  },
  {
   "cell_type": "code",
   "execution_count": 8,
   "metadata": {},
   "outputs": [
    {
     "name": "stderr",
     "output_type": "stream",
     "text": [
      "I0000 00:00:1732645425.758613 8004413 fork_posix.cc:75] Other threads are currently calling into gRPC, skipping fork() handlers\n",
      "I0000 00:00:1732645426.997195 7967395 fork_posix.cc:75] Other threads are currently calling into gRPC, skipping fork() handlers\n"
     ]
    },
    {
     "data": {
      "text/plain": [
       "'?py_span_rel(X)'"
      ]
     },
     "metadata": {},
     "output_type": "display_data"
    },
    {
     "data": {
      "text/html": [
       "<style type=\"text/css\">\n",
       "#T_6d2a1_row0_col0 {\n",
       "  overflow-wrap: break-word;\n",
       "  max-width: 800px;\n",
       "  text-align: left;\n",
       "}\n",
       "</style>\n",
       "<table id=\"T_6d2a1\" class=\"display nowrap\"style=\"table-layout:auto;width:auto;margin:auto;caption-side:bottom\">\n",
       "  <thead>\n",
       "    <tr>\n",
       "      <th id=\"T_6d2a1_level0_col0\" class=\"col_heading level0 col0\" >X</th>\n",
       "    </tr>\n",
       "  </thead>\n",
       "  <tbody>\n",
       "    <tr>\n",
       "      <td id=\"T_6d2a1_row0_col0\" class=\"data row0 col0\" >[@e0c903,0,2) \"aa\"</td>\n",
       "    </tr>\n",
       "  </tbody>\n",
       "</table>\n",
       "\n",
       "<link href=\"https://www.unpkg.com/dt_for_itables@2.0.13/dt_bundle.css\" rel=\"stylesheet\">\n",
       "<script type=\"module\">\n",
       "    import {DataTable, jQuery as $} from 'https://www.unpkg.com/dt_for_itables@2.0.13/dt_bundle.js';\n",
       "\n",
       "    document.querySelectorAll(\"#T_6d2a1:not(.dataTable)\").forEach(table => {\n",
       "        if (!(table instanceof HTMLTableElement))\n",
       "            return;\n",
       "\n",
       "        // Define the table data\n",
       "        \n",
       "\n",
       "        // Define the dt_args\n",
       "        let dt_args = {\"columnDefs\": [{\"targets\": [\"X\"], \"render\": function(data, type, row) {\n",
       "                    return '<div style=\"white-space: normal; word-wrap: break-word;\">' + data + '</div>';\n",
       "                }, \"width\": \"300px\"}], \"escape\": true, \"layout\": {\"topStart\": null, \"topEnd\": null, \"bottomStart\": null, \"bottomEnd\": null}, \"display_logo_when_loading\": true, \"order\": [], \"warn_on_selected_rows_not_rendered\": true};\n",
       "        \n",
       "\n",
       "        \n",
       "        new DataTable(table, dt_args);\n",
       "    });\n",
       "</script>\n"
      ],
      "text/plain": [
       "<IPython.core.display.HTML object>"
      ]
     },
     "metadata": {},
     "output_type": "display_data"
    },
    {
     "name": "stderr",
     "output_type": "stream",
     "text": [
      "I0000 00:00:1732645444.780671 7967395 fork_posix.cc:75] Other threads are currently calling into gRPC, skipping fork() handlers\n"
     ]
    },
    {
     "data": {
      "text/plain": [
       "'?py_string_rel(X)'"
      ]
     },
     "metadata": {},
     "output_type": "display_data"
    },
    {
     "data": {
      "text/html": [
       "<style type=\"text/css\">\n",
       "#T_38ad4_row0_col0 {\n",
       "  overflow-wrap: break-word;\n",
       "  max-width: 800px;\n",
       "  text-align: left;\n",
       "}\n",
       "</style>\n",
       "<table id=\"T_38ad4\" class=\"display nowrap\"style=\"table-layout:auto;width:auto;margin:auto;caption-side:bottom\">\n",
       "  <thead>\n",
       "    <tr>\n",
       "      <th id=\"T_38ad4_level0_col0\" class=\"col_heading level0 col0\" >X</th>\n",
       "    </tr>\n",
       "  </thead>\n",
       "  <tbody>\n",
       "    <tr>\n",
       "      <td id=\"T_38ad4_row0_col0\" class=\"data row0 col0\" >aa</td>\n",
       "    </tr>\n",
       "  </tbody>\n",
       "</table>\n",
       "\n",
       "<link href=\"https://www.unpkg.com/dt_for_itables@2.0.13/dt_bundle.css\" rel=\"stylesheet\">\n",
       "<script type=\"module\">\n",
       "    import {DataTable, jQuery as $} from 'https://www.unpkg.com/dt_for_itables@2.0.13/dt_bundle.js';\n",
       "\n",
       "    document.querySelectorAll(\"#T_38ad4:not(.dataTable)\").forEach(table => {\n",
       "        if (!(table instanceof HTMLTableElement))\n",
       "            return;\n",
       "\n",
       "        // Define the table data\n",
       "        \n",
       "\n",
       "        // Define the dt_args\n",
       "        let dt_args = {\"columnDefs\": [{\"targets\": [\"X\"], \"render\": function(data, type, row) {\n",
       "                    return '<div style=\"white-space: normal; word-wrap: break-word;\">' + data + '</div>';\n",
       "                }, \"width\": \"300px\"}], \"escape\": true, \"layout\": {\"topStart\": null, \"topEnd\": null, \"bottomStart\": null, \"bottomEnd\": null}, \"display_logo_when_loading\": true, \"order\": [], \"warn_on_selected_rows_not_rendered\": true};\n",
       "        \n",
       "\n",
       "        \n",
       "        new DataTable(table, dt_args);\n",
       "    });\n",
       "</script>\n"
      ],
      "text/plain": [
       "<IPython.core.display.HTML object>"
      ]
     },
     "metadata": {},
     "output_type": "display_data"
    }
   ],
   "source": [
    "sess = test_session(\n",
    "[\n",
    "    \"\"\"\n",
    "    py_span_rel(X) <- rgx(\".+\",\"aa\") -> (X).\n",
    "    py_string_rel(X) <- rgx(\".+\",\"aa\") -> (S), as_str(S)->(X).\n",
    "    ?py_span_rel(X)\n",
    "    \"\"\",\n",
    "    \"\"\"\n",
    "    ?py_string_rel(X)\n",
    "    \"\"\"\n",
    "],\n",
    "[\n",
    "    pd.DataFrame([\n",
    "        [\"aa\"],\n",
    "    ],columns=['X']),\n",
    "    pd.DataFrame([\n",
    "        [\"aa\"],\n",
    "    ],columns=['X']),\n",
    "],\n",
    ")\n",
    "# _ = sess.export('?py_span_rel(X)',display_results=True)"
   ]
  },
  {
   "cell_type": "code",
   "execution_count": 9,
   "metadata": {},
   "outputs": [
    {
     "name": "stderr",
     "output_type": "stream",
     "text": [
      "I0000 00:00:1732645470.038415 8011530 fork_posix.cc:75] Other threads are currently calling into gRPC, skipping fork() handlers\n",
      "I0000 00:00:1732645471.258000 7967395 fork_posix.cc:75] Other threads are currently calling into gRPC, skipping fork() handlers\n"
     ]
    },
    {
     "data": {
      "text/plain": [
       "'?py_span_rel(X,DEBUG)'"
      ]
     },
     "metadata": {},
     "output_type": "display_data"
    },
    {
     "data": {
      "text/html": [
       "<style type=\"text/css\">\n",
       "</style>\n",
       "<table id=\"T_7793a\" class=\"display nowrap\"style=\"table-layout:auto;width:auto;margin:auto;caption-side:bottom\">\n",
       "  <thead>\n",
       "    <tr>\n",
       "      <th id=\"T_7793a_level0_col0\" class=\"col_heading level0 col0\" >X</th>\n",
       "      <th id=\"T_7793a_level0_col1\" class=\"col_heading level0 col1\" >DEBUG</th>\n",
       "    </tr>\n",
       "  </thead>\n",
       "  <tbody>\n",
       "  </tbody>\n",
       "</table>\n",
       "\n",
       "<link href=\"https://www.unpkg.com/dt_for_itables@2.0.13/dt_bundle.css\" rel=\"stylesheet\">\n",
       "<script type=\"module\">\n",
       "    import {DataTable, jQuery as $} from 'https://www.unpkg.com/dt_for_itables@2.0.13/dt_bundle.js';\n",
       "\n",
       "    document.querySelectorAll(\"#T_7793a:not(.dataTable)\").forEach(table => {\n",
       "        if (!(table instanceof HTMLTableElement))\n",
       "            return;\n",
       "\n",
       "        // Define the table data\n",
       "        \n",
       "\n",
       "        // Define the dt_args\n",
       "        let dt_args = {\"columnDefs\": [{\"targets\": [\"X\", \"DEBUG\"], \"render\": function(data, type, row) {\n",
       "                    return '<div style=\"white-space: normal; word-wrap: break-word;\">' + data + '</div>';\n",
       "                }, \"width\": \"300px\"}], \"escape\": true, \"layout\": {\"topStart\": null, \"topEnd\": null, \"bottomStart\": null, \"bottomEnd\": null}, \"display_logo_when_loading\": true, \"order\": [], \"warn_on_selected_rows_not_rendered\": true};\n",
       "        \n",
       "\n",
       "        \n",
       "        new DataTable(table, dt_args);\n",
       "    });\n",
       "</script>\n"
      ],
      "text/plain": [
       "<IPython.core.display.HTML object>"
      ]
     },
     "metadata": {},
     "output_type": "display_data"
    },
    {
     "ename": "AssertionError",
     "evalue": "values: set() != {('aa', 'X=aa, const=aa')}\nvalues only in df1: set()\nvalues only in df2: {('aa', 'X=aa, const=aa')}",
     "output_type": "error",
     "traceback": [
      "\u001b[0;31m---------------------------------------------------------------------------\u001b[0m",
      "\u001b[0;31mAssertionError\u001b[0m                            Traceback (most recent call last)",
      "Cell \u001b[0;32mIn[9], line 1\u001b[0m\n\u001b[0;32m----> 1\u001b[0m sess \u001b[38;5;241m=\u001b[39m \u001b[43mtest_session\u001b[49m\u001b[43m(\u001b[49m\n\u001b[1;32m      2\u001b[0m \u001b[43m[\u001b[49m\n\u001b[1;32m      3\u001b[0m \u001b[38;5;250;43m    \u001b[39;49m\u001b[38;5;124;43;03m\"\"\"\u001b[39;49;00m\n\u001b[1;32m      4\u001b[0m \u001b[38;5;124;43;03m    py_span_rel(X,DEBUG) <- rgx(\".+\",\"aa\") -> (X), print(\"X={0}, const={1}\",X,\"aa\")->(DEBUG).\u001b[39;49;00m\n\u001b[1;32m      5\u001b[0m \u001b[38;5;124;43;03m    ?py_span_rel(X,DEBUG)\u001b[39;49;00m\n\u001b[1;32m      6\u001b[0m \u001b[38;5;124;43;03m    \"\"\"\u001b[39;49;00m\u001b[43m,\u001b[49m\n\u001b[1;32m      7\u001b[0m \n\u001b[1;32m      8\u001b[0m \u001b[43m]\u001b[49m\u001b[43m,\u001b[49m\n\u001b[1;32m      9\u001b[0m \u001b[43m[\u001b[49m\n\u001b[1;32m     10\u001b[0m \n\u001b[1;32m     11\u001b[0m \u001b[43m    \u001b[49m\u001b[43mpd\u001b[49m\u001b[38;5;241;43m.\u001b[39;49m\u001b[43mDataFrame\u001b[49m\u001b[43m(\u001b[49m\u001b[43m[\u001b[49m\n\u001b[1;32m     12\u001b[0m \u001b[43m        \u001b[49m\u001b[43m[\u001b[49m\u001b[38;5;124;43m\"\u001b[39;49m\u001b[38;5;124;43maa\u001b[39;49m\u001b[38;5;124;43m\"\u001b[39;49m\u001b[43m,\u001b[49m\u001b[38;5;124;43m\"\u001b[39;49m\u001b[38;5;124;43mX=aa, const=aa\u001b[39;49m\u001b[38;5;124;43m\"\u001b[39;49m\u001b[43m]\u001b[49m\u001b[43m,\u001b[49m\n\u001b[1;32m     13\u001b[0m \u001b[43m    \u001b[49m\u001b[43m]\u001b[49m\u001b[43m,\u001b[49m\u001b[43mcolumns\u001b[49m\u001b[38;5;241;43m=\u001b[39;49m\u001b[43m[\u001b[49m\u001b[38;5;124;43m'\u001b[39;49m\u001b[38;5;124;43mX\u001b[39;49m\u001b[38;5;124;43m'\u001b[39;49m\u001b[43m,\u001b[49m\u001b[38;5;124;43m'\u001b[39;49m\u001b[38;5;124;43mDEBUG\u001b[39;49m\u001b[38;5;124;43m'\u001b[39;49m\u001b[43m]\u001b[49m\u001b[43m)\u001b[49m\u001b[43m,\u001b[49m\n\u001b[1;32m     14\u001b[0m \u001b[43m]\u001b[49m\u001b[43m,\u001b[49m\n\u001b[1;32m     15\u001b[0m \u001b[43m)\u001b[49m\n\u001b[1;32m     16\u001b[0m \u001b[38;5;66;03m# _ = sess.export('?py_span_rel(X)',display_results=True)\u001b[39;00m\n",
      "File \u001b[0;32m~/Documents/Technion/spanner/spannerlib/spannerlib/session.py:508\u001b[0m, in \u001b[0;36mtest_session\u001b[0;34m(code_strings, expected_outputs, ie_funcs, agg_funcs, csvs, debug, display_results)\u001b[0m\n\u001b[1;32m    506\u001b[0m     \u001b[38;5;28;01mcontinue\u001b[39;00m\n\u001b[1;32m    507\u001b[0m \u001b[38;5;28;01mif\u001b[39;00m \u001b[38;5;28misinstance\u001b[39m(expected,pd\u001b[38;5;241m.\u001b[39mDataFrame) \u001b[38;5;129;01mand\u001b[39;00m \u001b[38;5;28misinstance\u001b[39m(res,pd\u001b[38;5;241m.\u001b[39mDataFrame):\n\u001b[0;32m--> 508\u001b[0m     \u001b[43massert_df_equals\u001b[49m\u001b[43m(\u001b[49m\u001b[43mres\u001b[49m\u001b[43m,\u001b[49m\u001b[43mexpected\u001b[49m\u001b[43m)\u001b[49m\n\u001b[1;32m    509\u001b[0m \u001b[38;5;28;01melse\u001b[39;00m:\n\u001b[1;32m    510\u001b[0m     \u001b[38;5;28;01massert\u001b[39;00m res \u001b[38;5;241m==\u001b[39m expected, \u001b[38;5;124mf\u001b[39m\u001b[38;5;124m\"\u001b[39m\u001b[38;5;124mexpected \u001b[39m\u001b[38;5;132;01m{\u001b[39;00mexpected\u001b[38;5;132;01m}\u001b[39;00m\u001b[38;5;124m, got \u001b[39m\u001b[38;5;132;01m{\u001b[39;00mres\u001b[38;5;132;01m}\u001b[39;00m\u001b[38;5;124m\"\u001b[39m\n",
      "File \u001b[0;32m~/Documents/Technion/spanner/spannerlib/spannerlib/utils.py:196\u001b[0m, in \u001b[0;36massert_df_equals\u001b[0;34m(df1, df2)\u001b[0m\n\u001b[1;32m    194\u001b[0m vals1 \u001b[38;5;241m=\u001b[39m serialize_df_values(df1)\n\u001b[1;32m    195\u001b[0m vals2 \u001b[38;5;241m=\u001b[39m serialize_df_values(df2) \n\u001b[0;32m--> 196\u001b[0m \u001b[38;5;28;01massert\u001b[39;00m vals1\u001b[38;5;241m==\u001b[39mvals2 , (\n\u001b[1;32m    197\u001b[0m     \u001b[38;5;124mf\u001b[39m\u001b[38;5;124m\"\u001b[39m\u001b[38;5;124mvalues: \u001b[39m\u001b[38;5;132;01m{\u001b[39;00mvals1\u001b[38;5;132;01m}\u001b[39;00m\u001b[38;5;124m != \u001b[39m\u001b[38;5;132;01m{\u001b[39;00mvals2\u001b[38;5;132;01m}\u001b[39;00m\u001b[38;5;130;01m\\n\u001b[39;00m\u001b[38;5;124m\"\u001b[39m\n\u001b[1;32m    198\u001b[0m     \u001b[38;5;124mf\u001b[39m\u001b[38;5;124m\"\u001b[39m\u001b[38;5;124mvalues only in df1: \u001b[39m\u001b[38;5;132;01m{\u001b[39;00mvals1\u001b[38;5;241m-\u001b[39mvals2\u001b[38;5;132;01m}\u001b[39;00m\u001b[38;5;130;01m\\n\u001b[39;00m\u001b[38;5;124m\"\u001b[39m\n\u001b[1;32m    199\u001b[0m     \u001b[38;5;124mf\u001b[39m\u001b[38;5;124m\"\u001b[39m\u001b[38;5;124mvalues only in df2: \u001b[39m\u001b[38;5;132;01m{\u001b[39;00mvals2\u001b[38;5;241m-\u001b[39mvals1\u001b[38;5;132;01m}\u001b[39;00m\u001b[38;5;124m\"\u001b[39m\n\u001b[1;32m    200\u001b[0m )\n\u001b[1;32m    201\u001b[0m \u001b[38;5;28;01mreturn\u001b[39;00m df1\n",
      "\u001b[0;31mAssertionError\u001b[0m: values: set() != {('aa', 'X=aa, const=aa')}\nvalues only in df1: set()\nvalues only in df2: {('aa', 'X=aa, const=aa')}"
     ]
    }
   ],
   "source": [
    "sess = test_session(\n",
    "[\n",
    "    \"\"\"\n",
    "    py_span_rel(X,DEBUG) <- rgx(\".+\",\"aa\") -> (X), print(\"X={0}, const={1}\",X,\"aa\")->(DEBUG).\n",
    "    ?py_span_rel(X,DEBUG)\n",
    "    \"\"\",\n",
    "\n",
    "],\n",
    "[\n",
    "\n",
    "    pd.DataFrame([\n",
    "        [\"aa\",\"X=aa, const=aa\"],\n",
    "    ],columns=['X','DEBUG']),\n",
    "],\n",
    ")\n",
    "# _ = sess.export('?py_span_rel(X)',display_results=True)"
   ]
  },
  {
   "cell_type": "code",
   "execution_count": null,
   "metadata": {},
   "outputs": [],
   "source": [
    "# TODO add tests of extracting spans from spans once we have a way to treat spans as strings in the type system"
   ]
  },
  {
   "cell_type": "code",
   "execution_count": null,
   "metadata": {},
   "outputs": [],
   "source": [
    "# uncomment these once we decide how to support rust regexs"
   ]
  },
  {
   "cell_type": "code",
   "execution_count": null,
   "metadata": {},
   "outputs": [],
   "source": [
    "# test_session(\n",
    "# [\n",
    "#     \"\"\"\n",
    "#     string_rel(X) <- rgx_string(\"aa\",\".+\") -> (X).\n",
    "#     span_rel(X) <- rgx_span(\"aa\",\".+\") -> (X).\n",
    "#     ?string_rel(X)\n",
    "#     \"\"\"\n",
    "#     \"\"\"\n",
    "#     ?span_rel(X)\n",
    "#     \"\"\"\n",
    "# ],[\n",
    "#     pd.DataFrame([\n",
    "#         ['a'],\n",
    "#         ['aa'],\n",
    "#     ],columns=['X']),\n",
    "#     pd.DataFrame([\n",
    "#         [Span(0,1)],\n",
    "#         [Span(0,2)],\n",
    "#         [Span(1,2)]\n",
    "#     ],columns=['X']),\n",
    "# ],\n",
    "# )"
   ]
  },
  {
   "cell_type": "code",
   "execution_count": null,
   "metadata": {},
   "outputs": [],
   "source": [
    "# with tempfile.TemporaryDirectory() as temp_dir:\n",
    "#         rgx_text_file = Path(temp_dir) / \"temp\"\n",
    "#         with open(rgx_text_file, \"w\") as f:\n",
    "#             f.write(\"aa\")\n",
    "\n",
    "# test_session(\n",
    "# [\n",
    "#     \"\"\"\n",
    "#     string_rel(X) <- rgx_string_from_file(\"tests/rgx_text_file\",\".+\") -> (X).\n",
    "#     span_rel(X) <- rgx_span_from_file(\"tests/rgx_text_file\",\".+\") -> (X).\n",
    "#     ?string_rel(X)\n",
    "#     \"\"\"\n",
    "#     \"\"\"\n",
    "#     ?span_rel(X)\n",
    "#     \"\"\"\n",
    "# ],[\n",
    "#     pd.DataFrame([\n",
    "#         ['a'],\n",
    "#         ['aa'],\n",
    "#     ],columns=['X']),\n",
    "#     pd.DataFrame([\n",
    "#         [Span(0,1)],\n",
    "#         [Span(0,2)],\n",
    "#         [Span(1,2)]\n",
    "#     ],columns=['X']),\n",
    "# ],\n",
    "# )"
   ]
  },
  {
   "cell_type": "code",
   "execution_count": null,
   "metadata": {},
   "outputs": [],
   "source": [
    "# text = \"aab\"\n",
    "# pattern = \"(?P<group_all>(?P<group_a>a+)(?P<group_b>b+))\"\n",
    "# test_session(\n",
    "# [\n",
    "#     f\"\"\"\n",
    "#     group_string_rel(X,Y,Z) <- rgx_string(\"{text}\",\"{pattern}\") -> (X,Y,Z).\n",
    "#     ?group_string_rel(X, Y, Z)\n",
    "#     \"\"\"\n",
    "# ],[\n",
    "#     pd.DataFrame([\n",
    "#         ['aa','b','aab'],\n",
    "#         ['a','b','ab'],\n",
    "#     ],columns=['X','Y','Z']),\n",
    "# ],\n",
    "# )"
   ]
  },
  {
   "cell_type": "code",
   "execution_count": null,
   "metadata": {},
   "outputs": [],
   "source": [
    "# TODO add tests for ie functions from stdlib, do this only for the ones we leave in the final demo version"
   ]
  }
 ],
 "metadata": {
  "kernelspec": {
   "display_name": ".env",
   "language": "python",
   "name": "python3"
  },
  "language_info": {
   "codemirror_mode": {
    "name": "ipython",
    "version": 3
   },
   "file_extension": ".py",
   "mimetype": "text/x-python",
   "name": "python",
   "nbconvert_exporter": "python",
   "pygments_lexer": "ipython3",
   "version": "3.13.0"
  }
 },
 "nbformat": 4,
 "nbformat_minor": 2
}
