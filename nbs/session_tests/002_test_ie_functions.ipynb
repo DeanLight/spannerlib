{
 "cells": [
  {
   "cell_type": "markdown",
   "metadata": {},
   "source": [
    "# Test IE functions"
   ]
  },
  {
   "cell_type": "code",
   "execution_count": null,
   "metadata": {},
   "outputs": [],
   "source": [
    "#| hide\n",
    "from nbdev.showdoc import show_doc\n",
    "\n",
    "%load_ext autoreload\n",
    "%autoreload 2"
   ]
  },
  {
   "cell_type": "code",
   "execution_count": null,
   "metadata": {},
   "outputs": [],
   "source": [
    "#| output: false\n",
    "import numpy as np\n",
    "import tempfile\n",
    "from pandas import DataFrame\n",
    "from pathlib import Path\n",
    "import pandas as pd\n",
    "\n",
    "from spannerflow.span import Span\n",
    "from spannerlib.session import Session,test_session\n",
    "from spannerlib.utils import assert_df_equals"
   ]
  },
  {
   "cell_type": "code",
   "execution_count": null,
   "metadata": {},
   "outputs": [],
   "source": [
    "def yield_range_span(text: str,name:str):\n",
    "    for i in range(len(text)):\n",
    "        yield Span(text,0,i+1,name=name)\n",
    "\n",
    "list(yield_range_span(\"hello\",\"doc\"))"
   ]
  },
  {
   "cell_type": "code",
   "execution_count": null,
   "metadata": {},
   "outputs": [],
   "source": [
    "def yield_range(num: int):\n",
    "        for i in range(num):\n",
    "            yield i,\n",
    "\n",
    "def yield_range_span(text: str,name:str):\n",
    "    for i in range(len(text)):\n",
    "        yield Span(text,0,i+1,name=name)\n",
    "         \n",
    "def yield_range_str(num: int):\n",
    "    for i in range(num):\n",
    "        yield \"string\" + str(i),\n",
    "\n",
    "\n",
    "sess = test_session(\n",
    "    [\n",
    "        \"\"\"\n",
    "        test_range(X) <- yield_range(5) -> (X).\n",
    "        ?test_range(X)\n",
    "        \"\"\",\n",
    "\n",
    "        \"\"\"\n",
    "        test_range_str(X) <- yield_range_str(5) -> (X).\n",
    "        ?test_range_str(X)\n",
    "        \"\"\",\n",
    "        \"\"\"\n",
    "        test_range_raw(X) <- yield_range_span(\"hello\",\"doc\") -> (X).\n",
    "        test_range_span(S) <- yield_range_span(\"hello\",\"doc\") -> (X), as_str(X)->(S).\n",
    "        ?test_range_span(S)\n",
    "        \"\"\",\n",
    "    ],\n",
    "    [\n",
    "        pd.DataFrame({'X':range(5)}),\n",
    "        pd.DataFrame({'X':[\"string0\",\"string1\",\"string2\",\"string3\",\"string4\"]}),\n",
    "        pd.DataFrame({'S':[\"h\",\"he\",\"hel\",\"hell\",\"hello\"]})\n",
    "    ],\n",
    "    ie_funcs=[\n",
    "        ['yield_range',yield_range,[int],[int]],\n",
    "        ['yield_range_span',yield_range_span,[str,str],[Span]],\n",
    "        ['yield_range_str',yield_range_str,[int],[str]]\n",
    "    ],\n",
    ")\n"
   ]
  },
  {
   "cell_type": "code",
   "execution_count": null,
   "metadata": {},
   "outputs": [],
   "source": [
    "\n",
    "sess.export('?test_range_raw(S)',display_results=True)"
   ]
  },
  {
   "cell_type": "code",
   "execution_count": null,
   "metadata": {},
   "outputs": [],
   "source": [
    "from spannerlib.ie_func.basic import rgx"
   ]
  },
  {
   "cell_type": "code",
   "execution_count": null,
   "metadata": {},
   "outputs": [],
   "source": [
    "list(rgx('.*',\"aa\")) == ['aa',\"\"]"
   ]
  },
  {
   "cell_type": "code",
   "execution_count": null,
   "metadata": {},
   "outputs": [],
   "source": [
    "{(Span(\"aa\",0,2),)} != {('aa',)}"
   ]
  },
  {
   "cell_type": "code",
   "execution_count": null,
   "metadata": {},
   "outputs": [],
   "source": [
    "sess = test_session(\n",
    "[\n",
    "    \"\"\"\n",
    "    py_span_rel(X) <- rgx(\".+\",\"aa\") -> (X).\n",
    "    py_string_rel(X) <- rgx(\".+\",\"aa\") -> (S), as_str(S)->(X).\n",
    "    ?py_span_rel(X)\n",
    "    \"\"\",\n",
    "    \"\"\"\n",
    "    ?py_string_rel(X)\n",
    "    \"\"\"\n",
    "],\n",
    "[\n",
    "    pd.DataFrame([\n",
    "        [\"aa\"],\n",
    "    ],columns=['X']),\n",
    "    pd.DataFrame([\n",
    "        [\"aa\"],\n",
    "    ],columns=['X']),\n",
    "],\n",
    ")\n",
    "# _ = sess.export('?py_span_rel(X)',display_results=True)"
   ]
  },
  {
   "cell_type": "code",
   "execution_count": null,
   "metadata": {},
   "outputs": [],
   "source": [
    "sess = test_session(\n",
    "[\n",
    "    \"\"\"\n",
    "    py_span_rel(X,DEBUG) <- rgx(\".+\",\"aa\") -> (X), print(\"X={0}, const={1}\",X,\"aa\")->(DEBUG).\n",
    "    ?py_span_rel(X,DEBUG)\n",
    "    \"\"\",\n",
    "\n",
    "],\n",
    "[\n",
    "\n",
    "    pd.DataFrame([\n",
    "        [\"aa\",\"X=aa, const=aa\"],\n",
    "    ],columns=['X','DEBUG']),\n",
    "],\n",
    ")\n",
    "# _ = sess.export('?py_span_rel(X)',display_results=True)"
   ]
  },
  {
   "cell_type": "code",
   "execution_count": null,
   "metadata": {},
   "outputs": [],
   "source": [
    "# TODO add tests of extracting spans from spans once we have a way to treat spans as strings in the type system"
   ]
  },
  {
   "cell_type": "code",
   "execution_count": null,
   "metadata": {},
   "outputs": [],
   "source": [
    "# uncomment these once we decide how to support rust regexs"
   ]
  },
  {
   "cell_type": "code",
   "execution_count": null,
   "metadata": {},
   "outputs": [],
   "source": [
    "# test_session(\n",
    "# [\n",
    "#     \"\"\"\n",
    "#     string_rel(X) <- rgx_string(\"aa\",\".+\") -> (X).\n",
    "#     span_rel(X) <- rgx_span(\"aa\",\".+\") -> (X).\n",
    "#     ?string_rel(X)\n",
    "#     \"\"\"\n",
    "#     \"\"\"\n",
    "#     ?span_rel(X)\n",
    "#     \"\"\"\n",
    "# ],[\n",
    "#     pd.DataFrame([\n",
    "#         ['a'],\n",
    "#         ['aa'],\n",
    "#     ],columns=['X']),\n",
    "#     pd.DataFrame([\n",
    "#         [Span(0,1)],\n",
    "#         [Span(0,2)],\n",
    "#         [Span(1,2)]\n",
    "#     ],columns=['X']),\n",
    "# ],\n",
    "# )"
   ]
  },
  {
   "cell_type": "code",
   "execution_count": null,
   "metadata": {},
   "outputs": [],
   "source": [
    "# with tempfile.TemporaryDirectory() as temp_dir:\n",
    "#         rgx_text_file = Path(temp_dir) / \"temp\"\n",
    "#         with open(rgx_text_file, \"w\") as f:\n",
    "#             f.write(\"aa\")\n",
    "\n",
    "# test_session(\n",
    "# [\n",
    "#     \"\"\"\n",
    "#     string_rel(X) <- rgx_string_from_file(\"tests/rgx_text_file\",\".+\") -> (X).\n",
    "#     span_rel(X) <- rgx_span_from_file(\"tests/rgx_text_file\",\".+\") -> (X).\n",
    "#     ?string_rel(X)\n",
    "#     \"\"\"\n",
    "#     \"\"\"\n",
    "#     ?span_rel(X)\n",
    "#     \"\"\"\n",
    "# ],[\n",
    "#     pd.DataFrame([\n",
    "#         ['a'],\n",
    "#         ['aa'],\n",
    "#     ],columns=['X']),\n",
    "#     pd.DataFrame([\n",
    "#         [Span(0,1)],\n",
    "#         [Span(0,2)],\n",
    "#         [Span(1,2)]\n",
    "#     ],columns=['X']),\n",
    "# ],\n",
    "# )"
   ]
  },
  {
   "cell_type": "code",
   "execution_count": null,
   "metadata": {},
   "outputs": [],
   "source": [
    "# text = \"aab\"\n",
    "# pattern = \"(?P<group_all>(?P<group_a>a+)(?P<group_b>b+))\"\n",
    "# test_session(\n",
    "# [\n",
    "#     f\"\"\"\n",
    "#     group_string_rel(X,Y,Z) <- rgx_string(\"{text}\",\"{pattern}\") -> (X,Y,Z).\n",
    "#     ?group_string_rel(X, Y, Z)\n",
    "#     \"\"\"\n",
    "# ],[\n",
    "#     pd.DataFrame([\n",
    "#         ['aa','b','aab'],\n",
    "#         ['a','b','ab'],\n",
    "#     ],columns=['X','Y','Z']),\n",
    "# ],\n",
    "# )"
   ]
  },
  {
   "cell_type": "code",
   "execution_count": null,
   "metadata": {},
   "outputs": [],
   "source": [
    "# TODO add tests for ie functions from stdlib, do this only for the ones we leave in the final demo version"
   ]
  }
 ],
 "metadata": {
  "kernelspec": {
   "display_name": "python3",
   "language": "python",
   "name": "python3"
  }
 },
 "nbformat": 4,
 "nbformat_minor": 2
}
