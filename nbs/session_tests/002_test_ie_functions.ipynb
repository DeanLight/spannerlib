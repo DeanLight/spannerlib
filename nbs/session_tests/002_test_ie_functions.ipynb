{
 "cells": [
  {
   "cell_type": "markdown",
   "metadata": {},
   "source": [
    "# Test IE functions"
   ]
  },
  {
   "cell_type": "code",
   "execution_count": null,
   "metadata": {},
   "outputs": [],
   "source": [
    "#| hide\n",
    "from nbdev.showdoc import show_doc\n",
    "\n",
    "%load_ext autoreload\n",
    "%autoreload 2"
   ]
  },
  {
   "cell_type": "code",
   "execution_count": null,
   "metadata": {},
   "outputs": [],
   "source": [
    "#| output: false\n",
    "import numpy as np\n",
    "import tempfile\n",
    "from pandas import DataFrame\n",
    "from pathlib import Path\n",
    "import pandas as pd\n",
    "\n",
    "from spannerlib.span import Span\n",
    "from spannerlib.session import Session,test_session"
   ]
  },
  {
   "cell_type": "code",
   "execution_count": null,
   "metadata": {},
   "outputs": [
    {
     "data": {
      "text/plain": [
       "'?test_range(X)'"
      ]
     },
     "metadata": {},
     "output_type": "display_data"
    },
    {
     "data": {
      "text/html": [
       "<div>\n",
       "<style scoped>\n",
       "    .dataframe tbody tr th:only-of-type {\n",
       "        vertical-align: middle;\n",
       "    }\n",
       "\n",
       "    .dataframe tbody tr th {\n",
       "        vertical-align: top;\n",
       "    }\n",
       "\n",
       "    .dataframe thead th {\n",
       "        text-align: right;\n",
       "    }\n",
       "</style>\n",
       "<table border=\"1\" class=\"dataframe\">\n",
       "  <thead>\n",
       "    <tr style=\"text-align: right;\">\n",
       "      <th></th>\n",
       "      <th>X</th>\n",
       "    </tr>\n",
       "  </thead>\n",
       "  <tbody>\n",
       "    <tr>\n",
       "      <th>0</th>\n",
       "      <td>0</td>\n",
       "    </tr>\n",
       "    <tr>\n",
       "      <th>1</th>\n",
       "      <td>1</td>\n",
       "    </tr>\n",
       "    <tr>\n",
       "      <th>2</th>\n",
       "      <td>2</td>\n",
       "    </tr>\n",
       "    <tr>\n",
       "      <th>3</th>\n",
       "      <td>3</td>\n",
       "    </tr>\n",
       "    <tr>\n",
       "      <th>4</th>\n",
       "      <td>4</td>\n",
       "    </tr>\n",
       "  </tbody>\n",
       "</table>\n",
       "</div>"
      ],
      "text/plain": [
       "   X\n",
       "0  0\n",
       "1  1\n",
       "2  2\n",
       "3  3\n",
       "4  4"
      ]
     },
     "metadata": {},
     "output_type": "display_data"
    },
    {
     "data": {
      "text/plain": [
       "'?test_range_str(X)'"
      ]
     },
     "metadata": {},
     "output_type": "display_data"
    },
    {
     "data": {
      "text/html": [
       "<div>\n",
       "<style scoped>\n",
       "    .dataframe tbody tr th:only-of-type {\n",
       "        vertical-align: middle;\n",
       "    }\n",
       "\n",
       "    .dataframe tbody tr th {\n",
       "        vertical-align: top;\n",
       "    }\n",
       "\n",
       "    .dataframe thead th {\n",
       "        text-align: right;\n",
       "    }\n",
       "</style>\n",
       "<table border=\"1\" class=\"dataframe\">\n",
       "  <thead>\n",
       "    <tr style=\"text-align: right;\">\n",
       "      <th></th>\n",
       "      <th>X</th>\n",
       "    </tr>\n",
       "  </thead>\n",
       "  <tbody>\n",
       "    <tr>\n",
       "      <th>0</th>\n",
       "      <td>string0</td>\n",
       "    </tr>\n",
       "    <tr>\n",
       "      <th>1</th>\n",
       "      <td>string1</td>\n",
       "    </tr>\n",
       "    <tr>\n",
       "      <th>2</th>\n",
       "      <td>string2</td>\n",
       "    </tr>\n",
       "    <tr>\n",
       "      <th>3</th>\n",
       "      <td>string3</td>\n",
       "    </tr>\n",
       "    <tr>\n",
       "      <th>4</th>\n",
       "      <td>string4</td>\n",
       "    </tr>\n",
       "  </tbody>\n",
       "</table>\n",
       "</div>"
      ],
      "text/plain": [
       "         X\n",
       "0  string0\n",
       "1  string1\n",
       "2  string2\n",
       "3  string3\n",
       "4  string4"
      ]
     },
     "metadata": {},
     "output_type": "display_data"
    }
   ],
   "source": [
    "def yield_range(num: int):\n",
    "        for i in range(num):\n",
    "            yield i,\n",
    "\n",
    "    \n",
    "def yield_range_str(num: int):\n",
    "    for i in range(num):\n",
    "        yield \"string\" + str(i),\n",
    "\n",
    "\n",
    "test_session(\n",
    "    [\n",
    "        \"\"\"\n",
    "        test_range(X) <- yield_range(5) -> (X)\n",
    "        ?test_range(X)\n",
    "        \"\"\",\n",
    "\n",
    "        \"\"\"\n",
    "        test_range_str(X) <- yield_range_str(5) -> (X)\n",
    "        ?test_range_str(X)\n",
    "        \"\"\",\n",
    "    ],\n",
    "    [\n",
    "        pd.DataFrame({'X':range(5)}),\n",
    "        pd.DataFrame({'X':[\"string0\",\"string1\",\"string2\",\"string3\",\"string4\"]}),\n",
    "    ],\n",
    "    ie_funcs=[\n",
    "        ['yield_range',yield_range,[int],[int]],\n",
    "        ['yield_range_str',yield_range_str,[int],[str]]\n",
    "    ],\n",
    ")\n"
   ]
  },
  {
   "cell_type": "code",
   "execution_count": null,
   "metadata": {},
   "outputs": [
    {
     "data": {
      "text/plain": [
       "'?py_string_rel(X)'"
      ]
     },
     "metadata": {},
     "output_type": "display_data"
    },
    {
     "data": {
      "text/html": [
       "<div>\n",
       "<style scoped>\n",
       "    .dataframe tbody tr th:only-of-type {\n",
       "        vertical-align: middle;\n",
       "    }\n",
       "\n",
       "    .dataframe tbody tr th {\n",
       "        vertical-align: top;\n",
       "    }\n",
       "\n",
       "    .dataframe thead th {\n",
       "        text-align: right;\n",
       "    }\n",
       "</style>\n",
       "<table border=\"1\" class=\"dataframe\">\n",
       "  <thead>\n",
       "    <tr style=\"text-align: right;\">\n",
       "      <th></th>\n",
       "      <th>X</th>\n",
       "    </tr>\n",
       "  </thead>\n",
       "  <tbody>\n",
       "    <tr>\n",
       "      <th>0</th>\n",
       "      <td>aa</td>\n",
       "    </tr>\n",
       "  </tbody>\n",
       "</table>\n",
       "</div>"
      ],
      "text/plain": [
       "    X\n",
       "0  aa"
      ]
     },
     "metadata": {},
     "output_type": "display_data"
    },
    {
     "data": {
      "text/plain": [
       "'?py_span_rel(X)'"
      ]
     },
     "metadata": {},
     "output_type": "display_data"
    },
    {
     "data": {
      "text/html": [
       "<div>\n",
       "<style scoped>\n",
       "    .dataframe tbody tr th:only-of-type {\n",
       "        vertical-align: middle;\n",
       "    }\n",
       "\n",
       "    .dataframe tbody tr th {\n",
       "        vertical-align: top;\n",
       "    }\n",
       "\n",
       "    .dataframe thead th {\n",
       "        text-align: right;\n",
       "    }\n",
       "</style>\n",
       "<table border=\"1\" class=\"dataframe\">\n",
       "  <thead>\n",
       "    <tr style=\"text-align: right;\">\n",
       "      <th></th>\n",
       "      <th>X</th>\n",
       "    </tr>\n",
       "  </thead>\n",
       "  <tbody>\n",
       "    <tr>\n",
       "      <th>0</th>\n",
       "      <td>aa</td>\n",
       "    </tr>\n",
       "  </tbody>\n",
       "</table>\n",
       "</div>"
      ],
      "text/plain": [
       "    X\n",
       "0  aa"
      ]
     },
     "metadata": {},
     "output_type": "display_data"
    },
    {
     "data": {
      "text/plain": [
       "'?py_span_rel_raw(X)'"
      ]
     },
     "metadata": {},
     "output_type": "display_data"
    },
    {
     "data": {
      "text/html": [
       "<div>\n",
       "<style scoped>\n",
       "    .dataframe tbody tr th:only-of-type {\n",
       "        vertical-align: middle;\n",
       "    }\n",
       "\n",
       "    .dataframe tbody tr th {\n",
       "        vertical-align: top;\n",
       "    }\n",
       "\n",
       "    .dataframe thead th {\n",
       "        text-align: right;\n",
       "    }\n",
       "</style>\n",
       "<table border=\"1\" class=\"dataframe\">\n",
       "  <thead>\n",
       "    <tr style=\"text-align: right;\">\n",
       "      <th></th>\n",
       "      <th>X</th>\n",
       "    </tr>\n",
       "  </thead>\n",
       "  <tbody>\n",
       "    <tr>\n",
       "      <th>0</th>\n",
       "      <td>[@e0c903,0,2) \"aa\"</td>\n",
       "    </tr>\n",
       "  </tbody>\n",
       "</table>\n",
       "</div>"
      ],
      "text/plain": [
       "                    X\n",
       "0  [@e0c903,0,2) \"aa\""
      ]
     },
     "metadata": {},
     "output_type": "display_data"
    }
   ],
   "source": [
    "sess = test_session(\n",
    "[\n",
    "    \"\"\"\n",
    "    py_string_rel(X) <- rgx(\"aa\",\".+\") -> (X)\n",
    "    py_span_rel_raw(X) <- rgx_span(\"aa\",\".+\") -> (X)\n",
    "    py_span_rel(X) <- rgx_span(\"aa\",\".+\") -> (S), as_str(S)->(X)\n",
    "    ?py_string_rel(X)\n",
    "    \"\"\",\n",
    "    \"\"\"\n",
    "    ?py_span_rel(X)\n",
    "    \"\"\"\n",
    "],\n",
    "[\n",
    "    pd.DataFrame([\n",
    "        ['aa'],\n",
    "    ],columns=['X']),\n",
    "    pd.DataFrame([\n",
    "        ['aa'],\n",
    "    ],columns=['X']),\n",
    "],\n",
    "ret_sess=True,\n",
    ")\n",
    "_ = sess.export('?py_span_rel_raw(X)',display_results=True)"
   ]
  },
  {
   "cell_type": "code",
   "execution_count": null,
   "metadata": {},
   "outputs": [],
   "source": [
    "# uncomment these once we decide how to support rust regexs"
   ]
  },
  {
   "cell_type": "code",
   "execution_count": null,
   "metadata": {},
   "outputs": [],
   "source": [
    "# test_session(\n",
    "# [\n",
    "#     \"\"\"\n",
    "#     string_rel(X) <- rgx_string(\"aa\",\".+\") -> (X)\n",
    "#     span_rel(X) <- rgx_span(\"aa\",\".+\") -> (X)\n",
    "#     ?string_rel(X)\n",
    "#     \"\"\"\n",
    "#     \"\"\"\n",
    "#     ?span_rel(X)\n",
    "#     \"\"\"\n",
    "# ],[\n",
    "#     pd.DataFrame([\n",
    "#         ['a'],\n",
    "#         ['aa'],\n",
    "#     ],columns=['X']),\n",
    "#     pd.DataFrame([\n",
    "#         [Span(0,1)],\n",
    "#         [Span(0,2)],\n",
    "#         [Span(1,2)]\n",
    "#     ],columns=['X']),\n",
    "# ],\n",
    "# )"
   ]
  },
  {
   "cell_type": "code",
   "execution_count": null,
   "metadata": {},
   "outputs": [],
   "source": [
    "# with tempfile.TemporaryDirectory() as temp_dir:\n",
    "#         rgx_text_file = Path(temp_dir) / \"temp\"\n",
    "#         with open(rgx_text_file, \"w\") as f:\n",
    "#             f.write(\"aa\")\n",
    "\n",
    "# test_session(\n",
    "# [\n",
    "#     \"\"\"\n",
    "#     string_rel(X) <- rgx_string_from_file(\"tests/rgx_text_file\",\".+\") -> (X)\n",
    "#     span_rel(X) <- rgx_span_from_file(\"tests/rgx_text_file\",\".+\") -> (X)\n",
    "#     ?string_rel(X)\n",
    "#     \"\"\"\n",
    "#     \"\"\"\n",
    "#     ?span_rel(X)\n",
    "#     \"\"\"\n",
    "# ],[\n",
    "#     pd.DataFrame([\n",
    "#         ['a'],\n",
    "#         ['aa'],\n",
    "#     ],columns=['X']),\n",
    "#     pd.DataFrame([\n",
    "#         [Span(0,1)],\n",
    "#         [Span(0,2)],\n",
    "#         [Span(1,2)]\n",
    "#     ],columns=['X']),\n",
    "# ],\n",
    "# )"
   ]
  },
  {
   "cell_type": "code",
   "execution_count": null,
   "metadata": {},
   "outputs": [],
   "source": [
    "# text = \"aab\"\n",
    "# pattern = \"(?P<group_all>(?P<group_a>a+)(?P<group_b>b+))\"\n",
    "# test_session(\n",
    "# [\n",
    "#     f\"\"\"\n",
    "#     group_string_rel(X,Y,Z) <- rgx_string(\"{text}\",\"{pattern}\") -> (X,Y,Z)\n",
    "#     ?group_string_rel(X, Y, Z)\n",
    "#     \"\"\"\n",
    "# ],[\n",
    "#     pd.DataFrame([\n",
    "#         ['aa','b','aab'],\n",
    "#         ['a','b','ab'],\n",
    "#     ],columns=['X','Y','Z']),\n",
    "# ],\n",
    "# )"
   ]
  },
  {
   "cell_type": "code",
   "execution_count": null,
   "metadata": {},
   "outputs": [],
   "source": [
    "# TODO add tests for ie functions from stdlib, do this only for the ones we leave in the final demo version"
   ]
  }
 ],
 "metadata": {
  "kernelspec": {
   "display_name": "python3",
   "language": "python",
   "name": "python3"
  }
 },
 "nbformat": 4,
 "nbformat_minor": 2
}
