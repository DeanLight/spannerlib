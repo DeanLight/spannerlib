{
 "cells": [
  {
   "cell_type": "code",
   "execution_count": null,
   "metadata": {},
   "outputs": [],
   "source": [
    "#| hide\n",
    "from nbdev.showdoc import show_doc\n",
    "\n",
    "%load_ext autoreload\n",
    "%autoreload 2"
   ]
  },
  {
   "cell_type": "code",
   "execution_count": null,
   "metadata": {},
   "outputs": [],
   "source": [
    "#| output: false\n",
    "import numpy as np\n",
    "import tempfile\n",
    "from pandas import DataFrame\n",
    "from pathlib import Path\n",
    "import pandas as pd\n",
    "\n",
    "from spannerlib.utils import checkLogs\n",
    "from spannerlib.span import Span\n",
    "from spannerlib.session import Session,test_session"
   ]
  },
  {
   "cell_type": "code",
   "execution_count": null,
   "metadata": {},
   "outputs": [
    {
     "name": "stdout",
     "output_type": "stream",
     "text": [
      "?R2(X,Y,Z)\n"
     ]
    },
    {
     "data": {
      "text/html": [
       "<img src=\"https://mermaid.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\"/>"
      ],
      "text/plain": [
       "<IPython.core.display.Image object>"
      ]
     },
     "metadata": {},
     "output_type": "display_data"
    }
   ],
   "source": [
    "test_session(\n",
    "    [\"\"\"\n",
    "    new S(int,int)\n",
    "    new S2(int,int)\n",
    "    R(X,Y)<-S(X,Y)\n",
    "    R(X,Y)<-S(X,Z),R(Z,Y)\n",
    "    R2(X,Y,Z)<-S2(X,Y),R(Y,Z)\n",
    "    R2(X,Y,Z)<-S2(X,Y),R(X,Y),R2(X,Y,Y),S(X,Z)\n",
    "    \"\"\",\n",
    "    \"\"\"?R2(X,Y,Z)\"\"\"\n",
    "    ],\n",
    "    [\n",
    "        None,\n",
    "        pd.DataFrame(columns=['X','Y','Z'])\n",
    "    ],\n",
    "    debug=True\n",
    ")"
   ]
  },
  {
   "cell_type": "code",
   "execution_count": null,
   "metadata": {},
   "outputs": [],
   "source": [
    "# test_session(\n",
    "#     [\n",
    "#         \"\"\"\n",
    "#         test_range(X) <- yield_range(5) -> (X)\n",
    "#         ?test_range(X)\n",
    "#         \"\"\",\n",
    "#         \"\"\"\n",
    "#         test_range_span(X) <- yield_range_span(5) -> (X)\n",
    "#         ?test_range_span(X)\n",
    "#         \"\"\",\n",
    "#         \"\"\"\n",
    "#         test_range_str(X) <- yield_range_str(5) -> (X)\n",
    "#         ?test_range_str(X)\n",
    "#         \"\"\",\n",
    "#     ],\n",
    "#     [\n",
    "#         pd.DataFrame({'X':range(5)}),\n",
    "#         pd.DataFrame({'X':[Span(0,0),Span(0,1),Span(0,2),Span(0,3),Span(0,4)]}),\n",
    "#         pd.DataFrame({'X':[\"string0\",\"string1\",\"string2\",\"string3\",\"string4\"]}),\n",
    "#     ],\n",
    "\n",
    "# )\n"
   ]
  },
  {
   "cell_type": "code",
   "execution_count": null,
   "metadata": {},
   "outputs": [
    {
     "data": {
      "text/plain": [
       "'?ancestor(\"Liam\",X)'"
      ]
     },
     "metadata": {},
     "output_type": "display_data"
    },
    {
     "data": {
      "text/html": [
       "<div>\n",
       "<style scoped>\n",
       "    .dataframe tbody tr th:only-of-type {\n",
       "        vertical-align: middle;\n",
       "    }\n",
       "\n",
       "    .dataframe tbody tr th {\n",
       "        vertical-align: top;\n",
       "    }\n",
       "\n",
       "    .dataframe thead th {\n",
       "        text-align: right;\n",
       "    }\n",
       "</style>\n",
       "<table border=\"1\" class=\"dataframe\">\n",
       "  <thead>\n",
       "    <tr style=\"text-align: right;\">\n",
       "      <th></th>\n",
       "      <th>X</th>\n",
       "    </tr>\n",
       "  </thead>\n",
       "  <tbody>\n",
       "    <tr>\n",
       "      <th>0</th>\n",
       "      <td>Noah</td>\n",
       "    </tr>\n",
       "    <tr>\n",
       "      <th>5</th>\n",
       "      <td>Oliver</td>\n",
       "    </tr>\n",
       "    <tr>\n",
       "      <th>6</th>\n",
       "      <td>Benjamin</td>\n",
       "    </tr>\n",
       "    <tr>\n",
       "      <th>7</th>\n",
       "      <td>Mason</td>\n",
       "    </tr>\n",
       "  </tbody>\n",
       "</table>\n",
       "</div>"
      ],
      "text/plain": [
       "          X\n",
       "0      Noah\n",
       "5    Oliver\n",
       "6  Benjamin\n",
       "7     Mason"
      ]
     },
     "metadata": {},
     "output_type": "display_data"
    }
   ],
   "source": [
    "# with checkLogs(name='spannerlib.engine'):\n",
    "test_session(\n",
    "    [\n",
    "        \"\"\"\n",
    "            new parent(str, str)\n",
    "            parent(\"Liam\", \"Noah\")\n",
    "            parent(\"Noah\", \"Oliver\")\n",
    "            parent(\"James\", \"Lucas\")\n",
    "            parent(\"Noah\", \"Benjamin\")\n",
    "            parent(\"Benjamin\", \"Mason\")\n",
    "            ancestor(X,Y) <- parent(X,Y)\n",
    "            ancestor(X,Y) <- parent(X,Z), ancestor(Z,Y)\n",
    "        \"\"\",\n",
    "        \"\"\"\n",
    "            ?ancestor(\"Liam\", X)\n",
    "        \"\"\"\n",
    "\n",
    "    ],\n",
    "    [   None,\n",
    "        pd.DataFrame({'X':['Mason','Oliver','Benjamin','Noah']}),\n",
    "    ],\n",
    "    # debug=True\n",
    ")\n"
   ]
  },
  {
   "cell_type": "code",
   "execution_count": null,
   "metadata": {},
   "outputs": [
    {
     "data": {
      "text/plain": [
       "'?ancestor(\"Liam\",X)'"
      ]
     },
     "metadata": {},
     "output_type": "display_data"
    },
    {
     "data": {
      "text/html": [
       "<div>\n",
       "<style scoped>\n",
       "    .dataframe tbody tr th:only-of-type {\n",
       "        vertical-align: middle;\n",
       "    }\n",
       "\n",
       "    .dataframe tbody tr th {\n",
       "        vertical-align: top;\n",
       "    }\n",
       "\n",
       "    .dataframe thead th {\n",
       "        text-align: right;\n",
       "    }\n",
       "</style>\n",
       "<table border=\"1\" class=\"dataframe\">\n",
       "  <thead>\n",
       "    <tr style=\"text-align: right;\">\n",
       "      <th></th>\n",
       "      <th>X</th>\n",
       "    </tr>\n",
       "  </thead>\n",
       "  <tbody>\n",
       "    <tr>\n",
       "      <th>0</th>\n",
       "      <td>Noah</td>\n",
       "    </tr>\n",
       "    <tr>\n",
       "      <th>5</th>\n",
       "      <td>Oliver</td>\n",
       "    </tr>\n",
       "    <tr>\n",
       "      <th>6</th>\n",
       "      <td>Benjamin</td>\n",
       "    </tr>\n",
       "    <tr>\n",
       "      <th>7</th>\n",
       "      <td>Mason</td>\n",
       "    </tr>\n",
       "  </tbody>\n",
       "</table>\n",
       "</div>"
      ],
      "text/plain": [
       "          X\n",
       "0      Noah\n",
       "5    Oliver\n",
       "6  Benjamin\n",
       "7     Mason"
      ]
     },
     "metadata": {},
     "output_type": "display_data"
    },
    {
     "data": {
      "text/plain": [
       "'?ancestor(X,\"Mason\")'"
      ]
     },
     "metadata": {},
     "output_type": "display_data"
    },
    {
     "data": {
      "text/html": [
       "<div>\n",
       "<style scoped>\n",
       "    .dataframe tbody tr th:only-of-type {\n",
       "        vertical-align: middle;\n",
       "    }\n",
       "\n",
       "    .dataframe tbody tr th {\n",
       "        vertical-align: top;\n",
       "    }\n",
       "\n",
       "    .dataframe thead th {\n",
       "        text-align: right;\n",
       "    }\n",
       "</style>\n",
       "<table border=\"1\" class=\"dataframe\">\n",
       "  <thead>\n",
       "    <tr style=\"text-align: right;\">\n",
       "      <th></th>\n",
       "      <th>X</th>\n",
       "    </tr>\n",
       "  </thead>\n",
       "  <tbody>\n",
       "    <tr>\n",
       "      <th>4</th>\n",
       "      <td>Benjamin</td>\n",
       "    </tr>\n",
       "    <tr>\n",
       "      <th>7</th>\n",
       "      <td>Liam</td>\n",
       "    </tr>\n",
       "    <tr>\n",
       "      <th>8</th>\n",
       "      <td>Noah</td>\n",
       "    </tr>\n",
       "  </tbody>\n",
       "</table>\n",
       "</div>"
      ],
      "text/plain": [
       "          X\n",
       "4  Benjamin\n",
       "7      Liam\n",
       "8      Noah"
      ]
     },
     "metadata": {},
     "output_type": "display_data"
    },
    {
     "data": {
      "text/plain": [
       "'?ancestor(\"Mason\",X)'"
      ]
     },
     "metadata": {},
     "output_type": "display_data"
    },
    {
     "data": {
      "text/html": [
       "<div>\n",
       "<style scoped>\n",
       "    .dataframe tbody tr th:only-of-type {\n",
       "        vertical-align: middle;\n",
       "    }\n",
       "\n",
       "    .dataframe tbody tr th {\n",
       "        vertical-align: top;\n",
       "    }\n",
       "\n",
       "    .dataframe thead th {\n",
       "        text-align: right;\n",
       "    }\n",
       "</style>\n",
       "<table border=\"1\" class=\"dataframe\">\n",
       "  <thead>\n",
       "    <tr style=\"text-align: right;\">\n",
       "      <th></th>\n",
       "      <th>X</th>\n",
       "    </tr>\n",
       "  </thead>\n",
       "  <tbody>\n",
       "  </tbody>\n",
       "</table>\n",
       "</div>"
      ],
      "text/plain": [
       "Empty DataFrame\n",
       "Columns: [X]\n",
       "Index: []"
      ]
     },
     "metadata": {},
     "output_type": "display_data"
    }
   ],
   "source": [
    "test_session(\n",
    "    [\n",
    "        \"\"\"\n",
    "            new parent(str, str)\n",
    "            parent(\"Liam\", \"Noah\")\n",
    "            parent(\"Noah\", \"Oliver\")\n",
    "            parent(\"James\", \"Lucas\")\n",
    "            parent(\"Noah\", \"Benjamin\")\n",
    "            parent(\"Benjamin\", \"Mason\")\n",
    "            ancestor(X,Y) <- parent(X,Y)\n",
    "            ancestor(X,Y) <- parent(X,Z), ancestor(Z,Y)\n",
    "\n",
    "            ?ancestor(\"Liam\", X)\n",
    "        \"\"\",\n",
    "        \"\"\"\n",
    "            ?ancestor(X, \"Mason\")\n",
    "\n",
    "        \"\"\",\n",
    "        \"\"\"\n",
    "            ?ancestor(\"Mason\", X)\n",
    "\n",
    "        \"\"\",\n",
    "    ],\n",
    "    [\n",
    "        pd.DataFrame({'X':['Mason','Oliver','Benjamin','Noah']}),\n",
    "        pd.DataFrame({'X':['Noah','Liam','Benjamin']}),\n",
    "        pd.DataFrame({'X':[]}),\n",
    "    ],\n",
    "\n",
    ")\n"
   ]
  },
  {
   "cell_type": "code",
   "execution_count": null,
   "metadata": {},
   "outputs": [
    {
     "name": "stdout",
     "output_type": "stream",
     "text": [
      "printing results for query 'A(X)':\n",
      "   X\n",
      "-----\n",
      "   1\n",
      "   2\n",
      "   3\n",
      "\n"
     ]
    }
   ],
   "source": [
    "def test_mutually_recursive_basic() -> None:\n",
    "    commands = \"\"\"\n",
    "            new C(int)\n",
    "            C(1)\n",
    "            C(2)\n",
    "            C(3)\n",
    "\n",
    "            B(X) <- C(X)\n",
    "            A(X) <- B(X)\n",
    "            B(X) <- A(X)\n",
    "\n",
    "            ?A(X)\n",
    "            \"\"\"\n",
    "\n",
    "    expected_result = f\"\"\"{QUERY_RESULT_PREFIX}'A(X)':\n",
    "        X\n",
    "        -----\n",
    "        1\n",
    "        2\n",
    "        3\n",
    "    \"\"\"\n",
    "\n",
    "    run_test(commands, expected_result)\n",
    "\n",
    "test_mutually_recursive_basic()"
   ]
  }
 ],
 "metadata": {
  "kernelspec": {
   "display_name": "python3",
   "language": "python",
   "name": "python3"
  }
 },
 "nbformat": 4,
 "nbformat_minor": 2
}
