{
 "cells": [
  {
   "cell_type": "code",
   "execution_count": null,
   "metadata": {},
   "outputs": [],
   "source": [
    "#| hide\n",
    "from nbdev.showdoc import show_doc\n",
    "\n",
    "%load_ext autoreload\n",
    "%autoreload 2"
   ]
  },
  {
   "cell_type": "code",
   "execution_count": null,
   "metadata": {},
   "outputs": [],
   "source": [
    "#| output: false\n",
    "import numpy as np\n",
    "import tempfile\n",
    "from pandas import DataFrame\n",
    "from pathlib import Path\n",
    "import pandas as pd\n",
    "\n",
    "from spannerlib.utils import checkLogs\n",
    "from spannerlib.span import Span\n",
    "from spannerlib.session import Session,test_session"
   ]
  },
  {
   "cell_type": "code",
   "execution_count": null,
   "metadata": {},
   "outputs": [
    {
     "data": {
      "text/plain": [
       "'?uncle(X,Y)'"
      ]
     },
     "metadata": {},
     "output_type": "display_data"
    },
    {
     "data": {
      "text/html": [
       "<style type=\"text/css\">\n",
       "#T_32493_row0_col0, #T_32493_row0_col1 {\n",
       "  overflow-wrap: break-word;\n",
       "  max-width: 800px;\n",
       "  text-align: left;\n",
       "}\n",
       "</style>\n",
       "<table id=\"T_32493\">\n",
       "  <thead>\n",
       "    <tr>\n",
       "      <th class=\"blank level0\" >&nbsp;</th>\n",
       "      <th id=\"T_32493_level0_col0\" class=\"col_heading level0 col0\" >X</th>\n",
       "      <th id=\"T_32493_level0_col1\" class=\"col_heading level0 col1\" >Y</th>\n",
       "    </tr>\n",
       "  </thead>\n",
       "  <tbody>\n",
       "    <tr>\n",
       "      <th id=\"T_32493_level0_row0\" class=\"row_heading level0 row0\" >0</th>\n",
       "      <td id=\"T_32493_row0_col0\" class=\"data row0 col0\" >bob</td>\n",
       "      <td id=\"T_32493_row0_col1\" class=\"data row0 col1\" >greg</td>\n",
       "    </tr>\n",
       "  </tbody>\n",
       "</table>\n"
      ],
      "text/plain": [
       "<pandas.io.formats.style.Styler>"
      ]
     },
     "metadata": {},
     "output_type": "display_data"
    },
    {
     "data": {
      "text/plain": [
       "<spannerlib.session.Session>"
      ]
     },
     "execution_count": null,
     "metadata": {},
     "output_type": "execute_result"
    }
   ],
   "source": [
    "test_session(\n",
    "    \"\"\"\n",
    "    new uncle(str, str)\n",
    "    uncle(\"bob\", \"greg\")\n",
    "    ?uncle(X,Y)\n",
    "    \"\"\",\n",
    "    pd.DataFrame(data={\"X\": [\"bob\"], \"Y\": [\"greg\"]})\n",
    ")\n"
   ]
  },
  {
   "cell_type": "code",
   "execution_count": null,
   "metadata": {},
   "outputs": [
    {
     "data": {
      "text/plain": [
       "'?enrolled_in_chemistry(\"jordan\")'"
      ]
     },
     "metadata": {},
     "output_type": "display_data"
    },
    {
     "data": {
      "text/plain": [
       "True"
      ]
     },
     "metadata": {},
     "output_type": "display_data"
    },
    {
     "data": {
      "text/plain": [
       "'?enrolled_in_chemistry(\"gale\")'"
      ]
     },
     "metadata": {},
     "output_type": "display_data"
    },
    {
     "data": {
      "text/plain": [
       "False"
      ]
     },
     "metadata": {},
     "output_type": "display_data"
    },
    {
     "data": {
      "text/plain": [
       "'?enrolled_in_chemistry(X)'"
      ]
     },
     "metadata": {},
     "output_type": "display_data"
    },
    {
     "data": {
      "text/html": [
       "<style type=\"text/css\">\n",
       "#T_6f13a_row0_col0, #T_6f13a_row1_col0, #T_6f13a_row2_col0 {\n",
       "  overflow-wrap: break-word;\n",
       "  max-width: 800px;\n",
       "  text-align: left;\n",
       "}\n",
       "</style>\n",
       "<table id=\"T_6f13a\">\n",
       "  <thead>\n",
       "    <tr>\n",
       "      <th class=\"blank level0\" >&nbsp;</th>\n",
       "      <th id=\"T_6f13a_level0_col0\" class=\"col_heading level0 col0\" >X</th>\n",
       "    </tr>\n",
       "  </thead>\n",
       "  <tbody>\n",
       "    <tr>\n",
       "      <th id=\"T_6f13a_level0_row0\" class=\"row_heading level0 row0\" >0</th>\n",
       "      <td id=\"T_6f13a_row0_col0\" class=\"data row0 col0\" >abigail</td>\n",
       "    </tr>\n",
       "    <tr>\n",
       "      <th id=\"T_6f13a_level0_row1\" class=\"row_heading level0 row1\" >1</th>\n",
       "      <td id=\"T_6f13a_row1_col0\" class=\"data row1 col0\" >howard</td>\n",
       "    </tr>\n",
       "    <tr>\n",
       "      <th id=\"T_6f13a_level0_row2\" class=\"row_heading level0 row2\" >2</th>\n",
       "      <td id=\"T_6f13a_row2_col0\" class=\"data row2 col0\" >jordan</td>\n",
       "    </tr>\n",
       "  </tbody>\n",
       "</table>\n"
      ],
      "text/plain": [
       "<pandas.io.formats.style.Styler>"
      ]
     },
     "metadata": {},
     "output_type": "display_data"
    },
    {
     "data": {
      "text/plain": [
       "'?enrolled_in_physics_and_chemistry(X)'"
      ]
     },
     "metadata": {},
     "output_type": "display_data"
    },
    {
     "data": {
      "text/html": [
       "<style type=\"text/css\">\n",
       "#T_9bf57_row0_col0 {\n",
       "  overflow-wrap: break-word;\n",
       "  max-width: 800px;\n",
       "  text-align: left;\n",
       "}\n",
       "</style>\n",
       "<table id=\"T_9bf57\">\n",
       "  <thead>\n",
       "    <tr>\n",
       "      <th class=\"blank level0\" >&nbsp;</th>\n",
       "      <th id=\"T_9bf57_level0_col0\" class=\"col_heading level0 col0\" >X</th>\n",
       "    </tr>\n",
       "  </thead>\n",
       "  <tbody>\n",
       "    <tr>\n",
       "      <th id=\"T_9bf57_level0_row0\" class=\"row_heading level0 row0\" >0</th>\n",
       "      <td id=\"T_9bf57_row0_col0\" class=\"data row0 col0\" >howard</td>\n",
       "    </tr>\n",
       "  </tbody>\n",
       "</table>\n"
      ],
      "text/plain": [
       "<pandas.io.formats.style.Styler>"
      ]
     },
     "metadata": {},
     "output_type": "display_data"
    },
    {
     "data": {
      "text/plain": [
       "'?lecturer_of(X,\"abigail\")'"
      ]
     },
     "metadata": {},
     "output_type": "display_data"
    },
    {
     "data": {
      "text/html": [
       "<style type=\"text/css\">\n",
       "#T_cc95d_row0_col0, #T_cc95d_row1_col0 {\n",
       "  overflow-wrap: break-word;\n",
       "  max-width: 800px;\n",
       "  text-align: left;\n",
       "}\n",
       "</style>\n",
       "<table id=\"T_cc95d\">\n",
       "  <thead>\n",
       "    <tr>\n",
       "      <th class=\"blank level0\" >&nbsp;</th>\n",
       "      <th id=\"T_cc95d_level0_col0\" class=\"col_heading level0 col0\" >X</th>\n",
       "    </tr>\n",
       "  </thead>\n",
       "  <tbody>\n",
       "    <tr>\n",
       "      <th id=\"T_cc95d_level0_row0\" class=\"row_heading level0 row0\" >0</th>\n",
       "      <td id=\"T_cc95d_row0_col0\" class=\"data row0 col0\" >linus</td>\n",
       "    </tr>\n",
       "    <tr>\n",
       "      <th id=\"T_cc95d_level0_row1\" class=\"row_heading level0 row1\" >1</th>\n",
       "      <td id=\"T_cc95d_row1_col0\" class=\"data row1 col0\" >walter</td>\n",
       "    </tr>\n",
       "  </tbody>\n",
       "</table>\n"
      ],
      "text/plain": [
       "<pandas.io.formats.style.Styler>"
      ]
     },
     "metadata": {},
     "output_type": "display_data"
    },
    {
     "data": {
      "text/plain": [
       "'?gpa_of_chemistry_students(X,\"100\")'"
      ]
     },
     "metadata": {},
     "output_type": "display_data"
    },
    {
     "data": {
      "text/html": [
       "<style type=\"text/css\">\n",
       "#T_a1c3c_row0_col0 {\n",
       "  overflow-wrap: break-word;\n",
       "  max-width: 800px;\n",
       "  text-align: left;\n",
       "}\n",
       "</style>\n",
       "<table id=\"T_a1c3c\">\n",
       "  <thead>\n",
       "    <tr>\n",
       "      <th class=\"blank level0\" >&nbsp;</th>\n",
       "      <th id=\"T_a1c3c_level0_col0\" class=\"col_heading level0 col0\" >X</th>\n",
       "    </tr>\n",
       "  </thead>\n",
       "  <tbody>\n",
       "    <tr>\n",
       "      <th id=\"T_a1c3c_level0_row0\" class=\"row_heading level0 row0\" >0</th>\n",
       "      <td id=\"T_a1c3c_row0_col0\" class=\"data row0 col0\" >abigail</td>\n",
       "    </tr>\n",
       "  </tbody>\n",
       "</table>\n"
      ],
      "text/plain": [
       "<pandas.io.formats.style.Styler>"
      ]
     },
     "metadata": {},
     "output_type": "display_data"
    }
   ],
   "source": [
    "_= test_session(\n",
    "    [\n",
    "    \"\"\"\n",
    "    new lecturer(str, str)\n",
    "    lecturer(\"walter\", \"chemistry\")\n",
    "    lecturer(\"linus\", \"operation systems\")\n",
    "    lecturer(\"rick\", \"physics\")\n",
    "\n",
    "    new enrolled(str, str)\n",
    "    enrolled(\"abigail\", \"chemistry\")\n",
    "    enrolled(\"abigail\", \"operation systems\")\n",
    "    enrolled(\"jordan\", \"chemistry\")\n",
    "    enrolled(\"gale\", \"operation systems\")\n",
    "    enrolled(\"howard\", \"chemistry\")\n",
    "    enrolled(\"howard\", \"physics\")\n",
    "\n",
    "    enrolled_in_chemistry(X) <- enrolled(X, \"chemistry\")\n",
    "    ?enrolled_in_chemistry(\"jordan\")\n",
    "    \"\"\",\n",
    "    \"\"\"\n",
    "    ?enrolled_in_chemistry(\"gale\")\n",
    "    \"\"\",\n",
    "    \"\"\"\n",
    "    ?enrolled_in_chemistry(X)\n",
    "    \"\"\",\n",
    "    \"\"\"\n",
    "    enrolled_in_physics_and_chemistry(X) <- enrolled(X, \"chemistry\"), enrolled(X, \"physics\")\n",
    "    ?enrolled_in_physics_and_chemistry(X)\n",
    "    \"\"\",\n",
    "    \"\"\"\n",
    "    lecturer_of(X, Z) <- lecturer(X, Y), enrolled(Z, Y)\n",
    "    ?lecturer_of(X, \"abigail\")\n",
    "    \"\"\",\n",
    "    \"\"\"\n",
    "    gpa_doc = \"abigail 100 jordan 80 gale 79 howard 60\"\n",
    "    student_gpas(Student, Grade) <- rgx(\"(\\w+).*?(\\d+)\",$gpa_doc)->(StudentSpan, GradeSpan),\\\n",
    "        as_str(StudentSpan)->(Student), as_str(GradeSpan)->(Grade)\n",
    "    gpa_of_chemistry_students(X, Grade) <- student_gpas(X, Grade), enrolled(X, \"chemistry\")\n",
    "    ?gpa_of_chemistry_students(X, \"100\")\n",
    "    \"\"\"],\n",
    "    [\n",
    "        True,\n",
    "        False,\n",
    "        pd.DataFrame(data={\"X\": [\"howard\", \"jordan\", \"abigail\"]}),\n",
    "        pd.DataFrame(data={\"X\": [\"howard\"]}),\n",
    "        pd.DataFrame(data={\"X\": [\"linus\", \"walter\"]}),\n",
    "        pd.DataFrame(data={\"X\": [\"abigail\"]}),\n",
    "    ]\n",
    ")\n"
   ]
  },
  {
   "cell_type": "code",
   "execution_count": null,
   "metadata": {},
   "outputs": [
    {
     "data": {
      "text/plain": [
       "'?simple_1(X)'"
      ]
     },
     "metadata": {},
     "output_type": "display_data"
    },
    {
     "data": {
      "text/html": [
       "<style type=\"text/css\">\n",
       "#T_517e1_row0_col0, #T_517e1_row1_col0 {\n",
       "  overflow-wrap: break-word;\n",
       "  max-width: 800px;\n",
       "  text-align: left;\n",
       "}\n",
       "</style>\n",
       "<table id=\"T_517e1\">\n",
       "  <thead>\n",
       "    <tr>\n",
       "      <th class=\"blank level0\" >&nbsp;</th>\n",
       "      <th id=\"T_517e1_level0_col0\" class=\"col_heading level0 col0\" >X</th>\n",
       "    </tr>\n",
       "  </thead>\n",
       "  <tbody>\n",
       "    <tr>\n",
       "      <th id=\"T_517e1_level0_row0\" class=\"row_heading level0 row0\" >0</th>\n",
       "      <td id=\"T_517e1_row0_col0\" class=\"data row0 col0\" >1</td>\n",
       "    </tr>\n",
       "    <tr>\n",
       "      <th id=\"T_517e1_level0_row1\" class=\"row_heading level0 row1\" >1</th>\n",
       "      <td id=\"T_517e1_row1_col0\" class=\"data row1 col0\" >2</td>\n",
       "    </tr>\n",
       "  </tbody>\n",
       "</table>\n"
      ],
      "text/plain": [
       "<pandas.io.formats.style.Styler>"
      ]
     },
     "metadata": {},
     "output_type": "display_data"
    },
    {
     "data": {
      "text/plain": [
       "'?simple_2(X)'"
      ]
     },
     "metadata": {},
     "output_type": "display_data"
    },
    {
     "data": {
      "text/html": [
       "<style type=\"text/css\">\n",
       "#T_85b34_row0_col0, #T_85b34_row1_col0 {\n",
       "  overflow-wrap: break-word;\n",
       "  max-width: 800px;\n",
       "  text-align: left;\n",
       "}\n",
       "</style>\n",
       "<table id=\"T_85b34\">\n",
       "  <thead>\n",
       "    <tr>\n",
       "      <th class=\"blank level0\" >&nbsp;</th>\n",
       "      <th id=\"T_85b34_level0_col0\" class=\"col_heading level0 col0\" >X</th>\n",
       "    </tr>\n",
       "  </thead>\n",
       "  <tbody>\n",
       "    <tr>\n",
       "      <th id=\"T_85b34_level0_row0\" class=\"row_heading level0 row0\" >0</th>\n",
       "      <td id=\"T_85b34_row0_col0\" class=\"data row0 col0\" >number one</td>\n",
       "    </tr>\n",
       "    <tr>\n",
       "      <th id=\"T_85b34_level0_row1\" class=\"row_heading level0 row1\" >1</th>\n",
       "      <td id=\"T_85b34_row1_col0\" class=\"data row1 col0\" >number two</td>\n",
       "    </tr>\n",
       "  </tbody>\n",
       "</table>\n"
      ],
      "text/plain": [
       "<pandas.io.formats.style.Styler>"
      ]
     },
     "metadata": {},
     "output_type": "display_data"
    },
    {
     "data": {
      "text/plain": [
       "'?advanced(X)'"
      ]
     },
     "metadata": {},
     "output_type": "display_data"
    },
    {
     "data": {
      "text/html": [
       "<style type=\"text/css\">\n",
       "#T_f62e9_row0_col0, #T_f62e9_row1_col0 {\n",
       "  overflow-wrap: break-word;\n",
       "  max-width: 800px;\n",
       "  text-align: left;\n",
       "}\n",
       "</style>\n",
       "<table id=\"T_f62e9\">\n",
       "  <thead>\n",
       "    <tr>\n",
       "      <th class=\"blank level0\" >&nbsp;</th>\n",
       "      <th id=\"T_f62e9_level0_col0\" class=\"col_heading level0 col0\" >X</th>\n",
       "    </tr>\n",
       "  </thead>\n",
       "  <tbody>\n",
       "    <tr>\n",
       "      <th id=\"T_f62e9_level0_row0\" class=\"row_heading level0 row0\" >0</th>\n",
       "      <td id=\"T_f62e9_row0_col0\" class=\"data row0 col0\" >1</td>\n",
       "    </tr>\n",
       "    <tr>\n",
       "      <th id=\"T_f62e9_level0_row1\" class=\"row_heading level0 row1\" >1</th>\n",
       "      <td id=\"T_f62e9_row1_col0\" class=\"data row1 col0\" >{'foo': [{'baz': 1}, {'baz': 2}]}</td>\n",
       "    </tr>\n",
       "  </tbody>\n",
       "</table>\n"
      ],
      "text/plain": [
       "<pandas.io.formats.style.Styler>"
      ]
     },
     "metadata": {},
     "output_type": "display_data"
    }
   ],
   "source": [
    "_=test_session(\n",
    "    [\"\"\"\n",
    "    jsonpath_simple_1 = \"foo[*].baz\"\n",
    "    json_ds_simple_1  = \"{'foo': [{'baz': 1}, {'baz': 2}]}\"\n",
    "    simple_1(X) <- JsonPath($json_ds_simple_1, $jsonpath_simple_1) -> (X)\n",
    "    ?simple_1(X)\n",
    "    \"\"\",\"\"\"\n",
    "    jsonpath_simple_2 = \"a.*.b.`parent`.c\"\n",
    "    json_ds_simple_2 = \"{'a': {'x': {'b': 1, 'c': 'number one'}, 'y': {'b': 2, 'c': 'number two'}}}\"\n",
    "    simple_2(X) <- JsonPath($json_ds_simple_2, $jsonpath_simple_2) -> (X)\n",
    "    ?simple_2(X)\n",
    "    \"\"\",\"\"\"\n",
    "    json_ds_advanced  = \"{'foo': [{'baz': 1}, {'baz': {'foo': [{'baz': 1}, {'baz': 2}]}}]}\"\n",
    "    advanced(X) <- JsonPath($json_ds_advanced, $jsonpath_simple_1) -> (X)\n",
    "    ?advanced(X)\n",
    "    \"\"\"],\n",
    "    [\n",
    "        pd.DataFrame(data={\"X\": ['2', '1']}),\n",
    "        pd.DataFrame(data={\"X\": [\"number two\", \"number one\"]}),\n",
    "        pd.DataFrame(data={\"X\": ['1','''{'foo': [{'baz': 1}, {'baz': 2}]}''']})\n",
    "    ]\n",
    ")"
   ]
  }
 ],
 "metadata": {
  "kernelspec": {
   "display_name": "python3",
   "language": "python",
   "name": "python3"
  }
 },
 "nbformat": 4,
 "nbformat_minor": 2
}
