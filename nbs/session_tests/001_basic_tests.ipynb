{
 "cells": [
  {
   "cell_type": "markdown",
   "metadata": {},
   "source": [
    "# Basic tests\n"
   ]
  },
  {
   "cell_type": "code",
   "execution_count": null,
   "metadata": {},
   "outputs": [],
   "source": [
    "#| hide\n",
    "from nbdev.showdoc import show_doc\n",
    "\n",
    "%load_ext autoreload\n",
    "%autoreload 2"
   ]
  },
  {
   "cell_type": "code",
   "execution_count": null,
   "metadata": {},
   "outputs": [],
   "source": [
    "#| output: false\n",
    "import numpy as np\n",
    "import tempfile\n",
    "from pandas import DataFrame\n",
    "from pathlib import Path\n",
    "import pandas as pd\n",
    "\n",
    "from spannerlib.span import Span\n",
    "from spannerlib.session import Session,test_session"
   ]
  },
  {
   "cell_type": "code",
   "execution_count": null,
   "metadata": {},
   "outputs": [
    {
     "data": {
      "text/html": [
       "<div>\n",
       "<style scoped>\n",
       "    .dataframe tbody tr th:only-of-type {\n",
       "        vertical-align: middle;\n",
       "    }\n",
       "\n",
       "    .dataframe tbody tr th {\n",
       "        vertical-align: top;\n",
       "    }\n",
       "\n",
       "    .dataframe thead th {\n",
       "        text-align: right;\n",
       "    }\n",
       "</style>\n",
       "<table border=\"1\" class=\"dataframe\">\n",
       "  <thead>\n",
       "    <tr style=\"text-align: right;\">\n",
       "      <th></th>\n",
       "      <th>0</th>\n",
       "      <th>1</th>\n",
       "    </tr>\n",
       "  </thead>\n",
       "  <tbody>\n",
       "    <tr>\n",
       "      <th>0</th>\n",
       "      <td>1</td>\n",
       "      <td>1</td>\n",
       "    </tr>\n",
       "  </tbody>\n",
       "</table>\n",
       "</div>"
      ],
      "text/plain": [
       "   0  1\n",
       "0  1  1"
      ]
     },
     "execution_count": null,
     "metadata": {},
     "output_type": "execute_result"
    }
   ],
   "source": [
    "pd.DataFrame([\n",
    "    [1,1]\n",
    "]).sort_values(by=0)"
   ]
  },
  {
   "cell_type": "code",
   "execution_count": null,
   "metadata": {},
   "outputs": [
    {
     "data": {
      "text/plain": [
       "'?Relation(X,$x)'"
      ]
     },
     "metadata": {},
     "output_type": "display_data"
    },
    {
     "data": {
      "text/html": [
       "<style type=\"text/css\">\n",
       "#T_39459_row0_col0 {\n",
       "  overflow-wrap: break-word;\n",
       "  max-width: 800px;\n",
       "  text-align: left;\n",
       "}\n",
       "</style>\n",
       "<table id=\"T_39459\">\n",
       "  <thead>\n",
       "    <tr>\n",
       "      <th class=\"blank level0\" >&nbsp;</th>\n",
       "      <th id=\"T_39459_level0_col0\" class=\"col_heading level0 col0\" >X</th>\n",
       "    </tr>\n",
       "  </thead>\n",
       "  <tbody>\n",
       "    <tr>\n",
       "      <th id=\"T_39459_level0_row0\" class=\"row_heading level0 row0\" >0</th>\n",
       "      <td id=\"T_39459_row0_col0\" class=\"data row0 col0\" >2</td>\n",
       "    </tr>\n",
       "  </tbody>\n",
       "</table>\n"
      ],
      "text/plain": [
       "<pandas.io.formats.style.Styler>"
      ]
     },
     "metadata": {},
     "output_type": "display_data"
    },
    {
     "data": {
      "text/plain": [
       "<spannerlib.session.Session>"
      ]
     },
     "execution_count": null,
     "metadata": {},
     "output_type": "execute_result"
    }
   ],
   "source": [
    "# test assignment\n",
    "test_session(\n",
    "    \"\"\"\n",
    "        new Relation(int, int)\n",
    "        x = 1\n",
    "        y = 2\n",
    "        z = y\n",
    "        Relation($x, $y)\n",
    "        Relation($y, $x)\n",
    "        ?Relation(X, $x)\n",
    "    \"\"\",\n",
    "    pd.DataFrame([[2]],columns=['X']),\n",
    ")"
   ]
  },
  {
   "cell_type": "code",
   "execution_count": null,
   "metadata": {},
   "outputs": [
    {
     "data": {
      "text/plain": [
       "'?A(X,Y)'"
      ]
     },
     "metadata": {},
     "output_type": "display_data"
    },
    {
     "data": {
      "text/html": [
       "<style type=\"text/css\">\n",
       "#T_6d295_row0_col0, #T_6d295_row0_col1, #T_6d295_row1_col0, #T_6d295_row1_col1, #T_6d295_row2_col0, #T_6d295_row2_col1 {\n",
       "  overflow-wrap: break-word;\n",
       "  max-width: 800px;\n",
       "  text-align: left;\n",
       "}\n",
       "</style>\n",
       "<table id=\"T_6d295\">\n",
       "  <thead>\n",
       "    <tr>\n",
       "      <th class=\"blank level0\" >&nbsp;</th>\n",
       "      <th id=\"T_6d295_level0_col0\" class=\"col_heading level0 col0\" >X</th>\n",
       "      <th id=\"T_6d295_level0_col1\" class=\"col_heading level0 col1\" >Y</th>\n",
       "    </tr>\n",
       "  </thead>\n",
       "  <tbody>\n",
       "    <tr>\n",
       "      <th id=\"T_6d295_level0_row0\" class=\"row_heading level0 row0\" >0</th>\n",
       "      <td id=\"T_6d295_row0_col0\" class=\"data row0 col0\" >1</td>\n",
       "      <td id=\"T_6d295_row0_col1\" class=\"data row0 col1\" >1</td>\n",
       "    </tr>\n",
       "    <tr>\n",
       "      <th id=\"T_6d295_level0_row1\" class=\"row_heading level0 row1\" >1</th>\n",
       "      <td id=\"T_6d295_row1_col0\" class=\"data row1 col0\" >1</td>\n",
       "      <td id=\"T_6d295_row1_col1\" class=\"data row1 col1\" >2</td>\n",
       "    </tr>\n",
       "    <tr>\n",
       "      <th id=\"T_6d295_level0_row2\" class=\"row_heading level0 row2\" >2</th>\n",
       "      <td id=\"T_6d295_row2_col0\" class=\"data row2 col0\" >2</td>\n",
       "      <td id=\"T_6d295_row2_col1\" class=\"data row2 col1\" >3</td>\n",
       "    </tr>\n",
       "  </tbody>\n",
       "</table>\n"
      ],
      "text/plain": [
       "<pandas.io.formats.style.Styler>"
      ]
     },
     "metadata": {},
     "output_type": "display_data"
    },
    {
     "data": {
      "text/plain": [
       "<spannerlib.session.Session>"
      ]
     },
     "execution_count": null,
     "metadata": {},
     "output_type": "execute_result"
    }
   ],
   "source": [
    "# test copy table rule\n",
    "test_session(\n",
    "    \"\"\"\n",
    "        new B(int, int)\n",
    "        B(1, 1)\n",
    "        B(1, 2)\n",
    "        B(2, 3)\n",
    "        A(X, Y) <- B(X, Y)\n",
    "        ?A(X, Y)\n",
    "    \"\"\",\n",
    "    pd.DataFrame(\n",
    "        [[1,1],[1,2],[2,3]],\n",
    "        columns=['X','Y']\n",
    "    )\n",
    ")"
   ]
  },
  {
   "cell_type": "code",
   "execution_count": null,
   "metadata": {},
   "outputs": [
    {
     "data": {
      "text/plain": [
       "'?D(X,Y,Z)'"
      ]
     },
     "metadata": {},
     "output_type": "display_data"
    },
    {
     "data": {
      "text/html": [
       "<style type=\"text/css\">\n",
       "#T_27f51_row0_col0, #T_27f51_row0_col1, #T_27f51_row0_col2, #T_27f51_row1_col0, #T_27f51_row1_col1, #T_27f51_row1_col2 {\n",
       "  overflow-wrap: break-word;\n",
       "  max-width: 800px;\n",
       "  text-align: left;\n",
       "}\n",
       "</style>\n",
       "<table id=\"T_27f51\">\n",
       "  <thead>\n",
       "    <tr>\n",
       "      <th class=\"blank level0\" >&nbsp;</th>\n",
       "      <th id=\"T_27f51_level0_col0\" class=\"col_heading level0 col0\" >X</th>\n",
       "      <th id=\"T_27f51_level0_col1\" class=\"col_heading level0 col1\" >Y</th>\n",
       "      <th id=\"T_27f51_level0_col2\" class=\"col_heading level0 col2\" >Z</th>\n",
       "    </tr>\n",
       "  </thead>\n",
       "  <tbody>\n",
       "    <tr>\n",
       "      <th id=\"T_27f51_level0_row0\" class=\"row_heading level0 row0\" >0</th>\n",
       "      <td id=\"T_27f51_row0_col0\" class=\"data row0 col0\" >1</td>\n",
       "      <td id=\"T_27f51_row0_col1\" class=\"data row0 col1\" >1</td>\n",
       "      <td id=\"T_27f51_row0_col2\" class=\"data row0 col2\" >1</td>\n",
       "    </tr>\n",
       "    <tr>\n",
       "      <th id=\"T_27f51_level0_row1\" class=\"row_heading level0 row1\" >1</th>\n",
       "      <td id=\"T_27f51_row1_col0\" class=\"data row1 col0\" >1</td>\n",
       "      <td id=\"T_27f51_row1_col1\" class=\"data row1 col1\" >2</td>\n",
       "      <td id=\"T_27f51_row1_col2\" class=\"data row1 col2\" >2</td>\n",
       "    </tr>\n",
       "  </tbody>\n",
       "</table>\n"
      ],
      "text/plain": [
       "<pandas.io.formats.style.Styler>"
      ]
     },
     "metadata": {},
     "output_type": "display_data"
    },
    {
     "data": {
      "text/plain": [
       "<spannerlib.session.Session>"
      ]
     },
     "execution_count": null,
     "metadata": {},
     "output_type": "execute_result"
    }
   ],
   "source": [
    "# test join 2 tables\n",
    "test_session(\n",
    "    \"\"\"\n",
    "        new B(int, int)\n",
    "        new C(int, int)\n",
    "        B(1, 1)\n",
    "        B(1, 2)\n",
    "        B(2, 3)\n",
    "        C(2, 2)\n",
    "        C(1, 1)\n",
    "        D(X, Y, Z) <- B(X, Y), C(Y, Z)\n",
    "        ?D(X, Y, Z)\n",
    "    \"\"\",\n",
    "    pd.DataFrame(\n",
    "        [[1,2,2],[1,1,1]],\n",
    "        columns=['X','Y','Z']\n",
    "    )\n",
    ")"
   ]
  },
  {
   "cell_type": "code",
   "execution_count": null,
   "metadata": {},
   "outputs": [
    {
     "data": {
      "text/plain": [
       "'?A(X)'"
      ]
     },
     "metadata": {},
     "output_type": "display_data"
    },
    {
     "data": {
      "text/html": [
       "<style type=\"text/css\">\n",
       "#T_8af22_row0_col0, #T_8af22_row1_col0 {\n",
       "  overflow-wrap: break-word;\n",
       "  max-width: 800px;\n",
       "  text-align: left;\n",
       "}\n",
       "</style>\n",
       "<table id=\"T_8af22\">\n",
       "  <thead>\n",
       "    <tr>\n",
       "      <th class=\"blank level0\" >&nbsp;</th>\n",
       "      <th id=\"T_8af22_level0_col0\" class=\"col_heading level0 col0\" >X</th>\n",
       "    </tr>\n",
       "  </thead>\n",
       "  <tbody>\n",
       "    <tr>\n",
       "      <th id=\"T_8af22_level0_row0\" class=\"row_heading level0 row0\" >0</th>\n",
       "      <td id=\"T_8af22_row0_col0\" class=\"data row0 col0\" >1</td>\n",
       "    </tr>\n",
       "    <tr>\n",
       "      <th id=\"T_8af22_level0_row1\" class=\"row_heading level0 row1\" >1</th>\n",
       "      <td id=\"T_8af22_row1_col0\" class=\"data row1 col0\" >2</td>\n",
       "    </tr>\n",
       "  </tbody>\n",
       "</table>\n"
      ],
      "text/plain": [
       "<pandas.io.formats.style.Styler>"
      ]
     },
     "metadata": {},
     "output_type": "display_data"
    },
    {
     "data": {
      "text/plain": [
       "<spannerlib.session.Session>"
      ]
     },
     "execution_count": null,
     "metadata": {},
     "output_type": "execute_result"
    }
   ],
   "source": [
    "# rel with same free var\n",
    "test_session(\n",
    "    \"\"\"\n",
    "        new B(int, int)\n",
    "        B(1, 1)\n",
    "        B(1, 2)\n",
    "        B(2, 2)\n",
    "        A(X) <- B(X, X)\n",
    "        ?A(X)\n",
    "    \"\"\",\n",
    "    pd.DataFrame(\n",
    "        [[1],[2]],\n",
    "        columns=['X']\n",
    "    )\n",
    ")"
   ]
  },
  {
   "cell_type": "code",
   "execution_count": null,
   "metadata": {},
   "outputs": [
    {
     "data": {
      "text/plain": [
       "'?A(X,Y)'"
      ]
     },
     "metadata": {},
     "output_type": "display_data"
    },
    {
     "data": {
      "text/html": [
       "<style type=\"text/css\">\n",
       "#T_cb54b_row0_col0, #T_cb54b_row0_col1, #T_cb54b_row1_col0, #T_cb54b_row1_col1, #T_cb54b_row2_col0, #T_cb54b_row2_col1, #T_cb54b_row3_col0, #T_cb54b_row3_col1 {\n",
       "  overflow-wrap: break-word;\n",
       "  max-width: 800px;\n",
       "  text-align: left;\n",
       "}\n",
       "</style>\n",
       "<table id=\"T_cb54b\">\n",
       "  <thead>\n",
       "    <tr>\n",
       "      <th class=\"blank level0\" >&nbsp;</th>\n",
       "      <th id=\"T_cb54b_level0_col0\" class=\"col_heading level0 col0\" >X</th>\n",
       "      <th id=\"T_cb54b_level0_col1\" class=\"col_heading level0 col1\" >Y</th>\n",
       "    </tr>\n",
       "  </thead>\n",
       "  <tbody>\n",
       "    <tr>\n",
       "      <th id=\"T_cb54b_level0_row0\" class=\"row_heading level0 row0\" >0</th>\n",
       "      <td id=\"T_cb54b_row0_col0\" class=\"data row0 col0\" >1</td>\n",
       "      <td id=\"T_cb54b_row0_col1\" class=\"data row0 col1\" >1</td>\n",
       "    </tr>\n",
       "    <tr>\n",
       "      <th id=\"T_cb54b_level0_row1\" class=\"row_heading level0 row1\" >1</th>\n",
       "      <td id=\"T_cb54b_row1_col0\" class=\"data row1 col0\" >1</td>\n",
       "      <td id=\"T_cb54b_row1_col1\" class=\"data row1 col1\" >2</td>\n",
       "    </tr>\n",
       "    <tr>\n",
       "      <th id=\"T_cb54b_level0_row2\" class=\"row_heading level0 row2\" >2</th>\n",
       "      <td id=\"T_cb54b_row2_col0\" class=\"data row2 col0\" >2</td>\n",
       "      <td id=\"T_cb54b_row2_col1\" class=\"data row2 col1\" >2</td>\n",
       "    </tr>\n",
       "    <tr>\n",
       "      <th id=\"T_cb54b_level0_row3\" class=\"row_heading level0 row3\" >3</th>\n",
       "      <td id=\"T_cb54b_row3_col0\" class=\"data row3 col0\" >2</td>\n",
       "      <td id=\"T_cb54b_row3_col1\" class=\"data row3 col1\" >3</td>\n",
       "    </tr>\n",
       "  </tbody>\n",
       "</table>\n"
      ],
      "text/plain": [
       "<pandas.io.formats.style.Styler>"
      ]
     },
     "metadata": {},
     "output_type": "display_data"
    },
    {
     "data": {
      "text/plain": [
       "<spannerlib.session.Session>"
      ]
     },
     "execution_count": null,
     "metadata": {},
     "output_type": "execute_result"
    }
   ],
   "source": [
    "# union with same vars\n",
    "test_session(\n",
    "    \"\"\"\n",
    "        new B(int, int)\n",
    "        new C(int, int)\n",
    "        B(1, 1)\n",
    "        B(1, 2)\n",
    "        B(2, 3)\n",
    "        C(2, 2)\n",
    "        C(1, 1)\n",
    "\n",
    "        A(X, Y) <- B(X, Y)\n",
    "        A(X, Y) <- C(X, Y)\n",
    "        ?A(X, Y)\n",
    "    \"\"\",\n",
    "    pd.DataFrame(\n",
    "        [[1,1],[1,2],[2,2],[2,3]],\n",
    "        columns=['X','Y']\n",
    "    )\n",
    ")"
   ]
  },
  {
   "cell_type": "code",
   "execution_count": null,
   "metadata": {},
   "outputs": [
    {
     "data": {
      "text/plain": [
       "'?A(X,Y)'"
      ]
     },
     "metadata": {},
     "output_type": "display_data"
    },
    {
     "data": {
      "text/html": [
       "<style type=\"text/css\">\n",
       "#T_c6203_row0_col0, #T_c6203_row0_col1, #T_c6203_row1_col0, #T_c6203_row1_col1, #T_c6203_row2_col0, #T_c6203_row2_col1, #T_c6203_row3_col0, #T_c6203_row3_col1 {\n",
       "  overflow-wrap: break-word;\n",
       "  max-width: 800px;\n",
       "  text-align: left;\n",
       "}\n",
       "</style>\n",
       "<table id=\"T_c6203\">\n",
       "  <thead>\n",
       "    <tr>\n",
       "      <th class=\"blank level0\" >&nbsp;</th>\n",
       "      <th id=\"T_c6203_level0_col0\" class=\"col_heading level0 col0\" >X</th>\n",
       "      <th id=\"T_c6203_level0_col1\" class=\"col_heading level0 col1\" >Y</th>\n",
       "    </tr>\n",
       "  </thead>\n",
       "  <tbody>\n",
       "    <tr>\n",
       "      <th id=\"T_c6203_level0_row0\" class=\"row_heading level0 row0\" >0</th>\n",
       "      <td id=\"T_c6203_row0_col0\" class=\"data row0 col0\" >1</td>\n",
       "      <td id=\"T_c6203_row0_col1\" class=\"data row0 col1\" >1</td>\n",
       "    </tr>\n",
       "    <tr>\n",
       "      <th id=\"T_c6203_level0_row1\" class=\"row_heading level0 row1\" >1</th>\n",
       "      <td id=\"T_c6203_row1_col0\" class=\"data row1 col0\" >1</td>\n",
       "      <td id=\"T_c6203_row1_col1\" class=\"data row1 col1\" >2</td>\n",
       "    </tr>\n",
       "    <tr>\n",
       "      <th id=\"T_c6203_level0_row2\" class=\"row_heading level0 row2\" >2</th>\n",
       "      <td id=\"T_c6203_row2_col0\" class=\"data row2 col0\" >2</td>\n",
       "      <td id=\"T_c6203_row2_col1\" class=\"data row2 col1\" >2</td>\n",
       "    </tr>\n",
       "    <tr>\n",
       "      <th id=\"T_c6203_level0_row3\" class=\"row_heading level0 row3\" >3</th>\n",
       "      <td id=\"T_c6203_row3_col0\" class=\"data row3 col0\" >2</td>\n",
       "      <td id=\"T_c6203_row3_col1\" class=\"data row3 col1\" >3</td>\n",
       "    </tr>\n",
       "  </tbody>\n",
       "</table>\n"
      ],
      "text/plain": [
       "<pandas.io.formats.style.Styler>"
      ]
     },
     "metadata": {},
     "output_type": "display_data"
    },
    {
     "data": {
      "text/plain": [
       "<spannerlib.session.Session>"
      ]
     },
     "execution_count": null,
     "metadata": {},
     "output_type": "execute_result"
    }
   ],
   "source": [
    "# union with different vars\n",
    "test_session(\n",
    "    \"\"\"\n",
    "        new B(int, int)\n",
    "        new C(int, int)\n",
    "        B(1, 1)\n",
    "        B(1, 2)\n",
    "        B(2, 3)\n",
    "        C(2, 2)\n",
    "        C(1, 1)\n",
    "\n",
    "        A(X, Y) <- B(X, Y)\n",
    "        A(Z, W) <- C(Z, W)\n",
    "        ?A(X, Y)\n",
    "    \"\"\",\n",
    "    pd.DataFrame(\n",
    "        [[1,1],[1,2],[2,2],[2,3]],\n",
    "        columns=['X','Y']\n",
    "    )\n",
    ")"
   ]
  },
  {
   "cell_type": "code",
   "execution_count": null,
   "metadata": {},
   "outputs": [
    {
     "data": {
      "text/plain": [
       "'?A(X)'"
      ]
     },
     "metadata": {},
     "output_type": "display_data"
    },
    {
     "data": {
      "text/html": [
       "<style type=\"text/css\">\n",
       "#T_c43fe_row0_col0 {\n",
       "  overflow-wrap: break-word;\n",
       "  max-width: 800px;\n",
       "  text-align: left;\n",
       "}\n",
       "</style>\n",
       "<table id=\"T_c43fe\">\n",
       "  <thead>\n",
       "    <tr>\n",
       "      <th class=\"blank level0\" >&nbsp;</th>\n",
       "      <th id=\"T_c43fe_level0_col0\" class=\"col_heading level0 col0\" >X</th>\n",
       "    </tr>\n",
       "  </thead>\n",
       "  <tbody>\n",
       "    <tr>\n",
       "      <th id=\"T_c43fe_level0_row0\" class=\"row_heading level0 row0\" >0</th>\n",
       "      <td id=\"T_c43fe_row0_col0\" class=\"data row0 col0\" >1</td>\n",
       "    </tr>\n",
       "  </tbody>\n",
       "</table>\n"
      ],
      "text/plain": [
       "<pandas.io.formats.style.Styler>"
      ]
     },
     "metadata": {},
     "output_type": "display_data"
    },
    {
     "data": {
      "text/plain": [
       "<spannerlib.session.Session>"
      ]
     },
     "execution_count": null,
     "metadata": {},
     "output_type": "execute_result"
    }
   ],
   "source": [
    "# test project\n",
    "test_session(\n",
    "    \"\"\"\n",
    "            new B(int, int)\n",
    "            B(1, 1)\n",
    "            B(1, 2)\n",
    "\n",
    "            A(X) <- B(X, Y)\n",
    "            ?A(X)\n",
    "    \"\"\",\n",
    "    pd.DataFrame(\n",
    "        [[1]],\n",
    "        columns=['X']\n",
    "    )\n",
    ")"
   ]
  },
  {
   "cell_type": "code",
   "execution_count": null,
   "metadata": {},
   "outputs": [
    {
     "data": {
      "text/plain": [
       "'?A(Z,W)'"
      ]
     },
     "metadata": {},
     "output_type": "display_data"
    },
    {
     "data": {
      "text/html": [
       "<style type=\"text/css\">\n",
       "#T_6c034_row0_col0, #T_6c034_row0_col1, #T_6c034_row1_col0, #T_6c034_row1_col1 {\n",
       "  overflow-wrap: break-word;\n",
       "  max-width: 800px;\n",
       "  text-align: left;\n",
       "}\n",
       "</style>\n",
       "<table id=\"T_6c034\">\n",
       "  <thead>\n",
       "    <tr>\n",
       "      <th class=\"blank level0\" >&nbsp;</th>\n",
       "      <th id=\"T_6c034_level0_col0\" class=\"col_heading level0 col0\" >Z</th>\n",
       "      <th id=\"T_6c034_level0_col1\" class=\"col_heading level0 col1\" >W</th>\n",
       "    </tr>\n",
       "  </thead>\n",
       "  <tbody>\n",
       "    <tr>\n",
       "      <th id=\"T_6c034_level0_row0\" class=\"row_heading level0 row0\" >0</th>\n",
       "      <td id=\"T_6c034_row0_col0\" class=\"data row0 col0\" >1</td>\n",
       "      <td id=\"T_6c034_row0_col1\" class=\"data row0 col1\" >1</td>\n",
       "    </tr>\n",
       "    <tr>\n",
       "      <th id=\"T_6c034_level0_row1\" class=\"row_heading level0 row1\" >1</th>\n",
       "      <td id=\"T_6c034_row1_col0\" class=\"data row1 col0\" >1</td>\n",
       "      <td id=\"T_6c034_row1_col1\" class=\"data row1 col1\" >2</td>\n",
       "    </tr>\n",
       "  </tbody>\n",
       "</table>\n"
      ],
      "text/plain": [
       "<pandas.io.formats.style.Styler>"
      ]
     },
     "metadata": {},
     "output_type": "display_data"
    },
    {
     "data": {
      "text/plain": [
       "<spannerlib.session.Session>"
      ]
     },
     "execution_count": null,
     "metadata": {},
     "output_type": "execute_result"
    }
   ],
   "source": [
    "# add fact after rule\n",
    "test_session(\n",
    "    \"\"\"\n",
    "            new B(int, int)\n",
    "            B(1, 1)\n",
    "            A(X, Y) <- B(X, Y)\n",
    "            B(1, 2)\n",
    "            ?A(Z, W)\n",
    "    \"\"\",\n",
    "    pd.DataFrame(\n",
    "        [[1,1],[1,2]],\n",
    "        columns=['Z','W']\n",
    "    )\n",
    ")"
   ]
  },
  {
   "cell_type": "code",
   "execution_count": null,
   "metadata": {},
   "outputs": [
    {
     "data": {
      "text/plain": [
       "'?B(X,Y,Z,W)'"
      ]
     },
     "metadata": {},
     "output_type": "display_data"
    },
    {
     "data": {
      "text/html": [
       "<style type=\"text/css\">\n",
       "#T_f731e_row0_col0, #T_f731e_row0_col1, #T_f731e_row0_col2, #T_f731e_row0_col3 {\n",
       "  overflow-wrap: break-word;\n",
       "  max-width: 800px;\n",
       "  text-align: left;\n",
       "}\n",
       "</style>\n",
       "<table id=\"T_f731e\">\n",
       "  <thead>\n",
       "    <tr>\n",
       "      <th class=\"blank level0\" >&nbsp;</th>\n",
       "      <th id=\"T_f731e_level0_col0\" class=\"col_heading level0 col0\" >X</th>\n",
       "      <th id=\"T_f731e_level0_col1\" class=\"col_heading level0 col1\" >Y</th>\n",
       "      <th id=\"T_f731e_level0_col2\" class=\"col_heading level0 col2\" >Z</th>\n",
       "      <th id=\"T_f731e_level0_col3\" class=\"col_heading level0 col3\" >W</th>\n",
       "    </tr>\n",
       "  </thead>\n",
       "  <tbody>\n",
       "    <tr>\n",
       "      <th id=\"T_f731e_level0_row0\" class=\"row_heading level0 row0\" >0</th>\n",
       "      <td id=\"T_f731e_row0_col0\" class=\"data row0 col0\" >1</td>\n",
       "      <td id=\"T_f731e_row0_col1\" class=\"data row0 col1\" >2</td>\n",
       "      <td id=\"T_f731e_row0_col2\" class=\"data row0 col2\" >-3.500000</td>\n",
       "      <td id=\"T_f731e_row0_col3\" class=\"data row0 col3\" >False</td>\n",
       "    </tr>\n",
       "  </tbody>\n",
       "</table>\n"
      ],
      "text/plain": [
       "<pandas.io.formats.style.Styler>"
      ]
     },
     "metadata": {},
     "output_type": "display_data"
    },
    {
     "data": {
      "text/plain": [
       "<spannerlib.session.Session>"
      ]
     },
     "execution_count": null,
     "metadata": {},
     "output_type": "execute_result"
    }
   ],
   "source": [
    "# test data types\n",
    "test_session(\n",
    "    \"\"\"\n",
    "            new B(int, str, float,bool)\n",
    "            B(1, \"2\", -3.5,False)\n",
    "            ?B(X, Y, Z,W)\n",
    "    \"\"\",\n",
    "    pd.DataFrame(\n",
    "        [[1,\"2\",-3.5,False]],\n",
    "        columns=['X','Y','Z','W']\n",
    "    )\n",
    ")"
   ]
  },
  {
   "cell_type": "code",
   "execution_count": null,
   "metadata": {},
   "outputs": [
    {
     "data": {
      "text/plain": [
       "'?GrandParent(X,\"Austin\")'"
      ]
     },
     "metadata": {},
     "output_type": "display_data"
    },
    {
     "data": {
      "text/html": [
       "<style type=\"text/css\">\n",
       "#T_2d2cc_row0_col0 {\n",
       "  overflow-wrap: break-word;\n",
       "  max-width: 800px;\n",
       "  text-align: left;\n",
       "}\n",
       "</style>\n",
       "<table id=\"T_2d2cc\">\n",
       "  <thead>\n",
       "    <tr>\n",
       "      <th class=\"blank level0\" >&nbsp;</th>\n",
       "      <th id=\"T_2d2cc_level0_col0\" class=\"col_heading level0 col0\" >X</th>\n",
       "    </tr>\n",
       "  </thead>\n",
       "  <tbody>\n",
       "    <tr>\n",
       "      <th id=\"T_2d2cc_level0_row0\" class=\"row_heading level0 row0\" >0</th>\n",
       "      <td id=\"T_2d2cc_row0_col0\" class=\"data row0 col0\" >Sam</td>\n",
       "    </tr>\n",
       "  </tbody>\n",
       "</table>\n"
      ],
      "text/plain": [
       "<pandas.io.formats.style.Styler>"
      ]
     },
     "metadata": {},
     "output_type": "display_data"
    },
    {
     "data": {
      "text/plain": [
       "<spannerlib.session.Session>"
      ]
     },
     "execution_count": null,
     "metadata": {},
     "output_type": "execute_result"
    }
   ],
   "source": [
    "# join same relation\n",
    "test_session(\n",
    "    \"\"\"\n",
    "            new Parent(str, str)\n",
    "            Parent(\"Sam\", \"Noah\")\n",
    "            Parent(\"Noah\", \"Austin\")\n",
    "            Parent(\"Austin\", \"Stephen\")\n",
    "\n",
    "\n",
    "            GrandParent(G, C) <- Parent(G, M), Parent(M, C)\n",
    "            ?GrandParent(X, \"Austin\")\n",
    "    \"\"\",\n",
    "    pd.DataFrame(\n",
    "        [['Sam']],\n",
    "        columns=['X']\n",
    "    )\n",
    ")"
   ]
  },
  {
   "cell_type": "code",
   "execution_count": null,
   "metadata": {},
   "outputs": [
    {
     "data": {
      "text/plain": [
       "'?A(X)'"
      ]
     },
     "metadata": {},
     "output_type": "display_data"
    },
    {
     "data": {
      "text/html": [
       "<style type=\"text/css\">\n",
       "#T_f5b6d_row0_col0, #T_f5b6d_row1_col0 {\n",
       "  overflow-wrap: break-word;\n",
       "  max-width: 800px;\n",
       "  text-align: left;\n",
       "}\n",
       "</style>\n",
       "<table id=\"T_f5b6d\">\n",
       "  <thead>\n",
       "    <tr>\n",
       "      <th class=\"blank level0\" >&nbsp;</th>\n",
       "      <th id=\"T_f5b6d_level0_col0\" class=\"col_heading level0 col0\" >X</th>\n",
       "    </tr>\n",
       "  </thead>\n",
       "  <tbody>\n",
       "    <tr>\n",
       "      <th id=\"T_f5b6d_level0_row0\" class=\"row_heading level0 row0\" >0</th>\n",
       "      <td id=\"T_f5b6d_row0_col0\" class=\"data row0 col0\" >1</td>\n",
       "    </tr>\n",
       "    <tr>\n",
       "      <th id=\"T_f5b6d_level0_row1\" class=\"row_heading level0 row1\" >1</th>\n",
       "      <td id=\"T_f5b6d_row1_col0\" class=\"data row1 col0\" >2</td>\n",
       "    </tr>\n",
       "  </tbody>\n",
       "</table>\n"
      ],
      "text/plain": [
       "<pandas.io.formats.style.Styler>"
      ]
     },
     "metadata": {},
     "output_type": "display_data"
    },
    {
     "data": {
      "text/plain": [
       "<spannerlib.session.Session>"
      ]
     },
     "execution_count": null,
     "metadata": {},
     "output_type": "execute_result"
    }
   ],
   "source": [
    "# test_rule_with_constant\n",
    "test_session(\n",
    "\"\"\"\n",
    "    new B(int, int)\n",
    "    new C(int, int)\n",
    "    B(1, 1)\n",
    "    B(1, 2)\n",
    "    B(2, 3)\n",
    "    C(2, 2)\n",
    "    C(1, 1)\n",
    "    A(X) <- B(1, X)\n",
    "    ?A(X)\n",
    "\"\"\",\n",
    "pd.DataFrame([[1],[2]],columns=['X'])\n",
    ")"
   ]
  },
  {
   "cell_type": "code",
   "execution_count": null,
   "metadata": {},
   "outputs": [
    {
     "name": "stdout",
     "output_type": "stream",
     "text": [
      "\n",
      "    ?A(X, Y)\n",
      "    \n"
     ]
    },
    {
     "data": {
      "text/html": [
       "<img src=\"https://mermaid.ink/img/CmZsb3djaGFydCBUQgpCWyJCCnJlbD0jcXVvdDtCI3F1b3Q7LCBydWxlX2lkPXswLCAjcXVvdDtmYWN0I3F1b3Q7fSwgc2NoZW1hPVsjcXVvdDtjb2xfMCNxdW90OywgI3F1b3Q7Y29sXzEjcXVvdDtdLCBvcD0jcXVvdDtnZXRfcmVsI3F1b3Q7LCBkYj1EQihCLCBDLCBBKSJdCkNbIkMKcmVsPSNxdW90O0MjcXVvdDssIHJ1bGVfaWQ9ezAsICNxdW90O2ZhY3QjcXVvdDt9LCBzY2hlbWE9WyNxdW90O2NvbF8wI3F1b3Q7LCAjcXVvdDtjb2xfMSNxdW90O10sIG9wPSNxdW90O2dldF9yZWwjcXVvdDssIGRiPURCKEIsIEMsIEEpIl0KQVsiQQpyZWw9I3F1b3Q7QSNxdW90OywgcnVsZV9pZD17MCwgI3F1b3Q7ZmFjdCNxdW90O30sIG9wPSNxdW90O3VuaW9uI3F1b3Q7LCBzY2hlbWE9WyNxdW90O2NvbF8wI3F1b3Q7LCAjcXVvdDtjb2xfMSNxdW90O10iXQowWyIwCm9wPSNxdW90O3JlbmFtZSNxdW90Oywgc2NoZW1hPVsjcXVvdDtYI3F1b3Q7LCAjcXVvdDtZI3F1b3Q7XSwgcnVsZV9pZD17MH0iXQoxWyIxCm9wPSNxdW90O3Byb2plY3QjcXVvdDssIHNjaGVtYT1bI3F1b3Q7WCNxdW90OywgI3F1b3Q7WSNxdW90O10sIHJ1bGVfaWQ9ezB9Il0KMlsiMgpvcD0jcXVvdDtzZWxlY3QjcXVvdDssIHRoZXRhPVRoZXRhKGNvbF8wPTEsIGNvbF8xPTEpLCBzY2hlbWE9WyNxdW90O2NvbF8wI3F1b3Q7LCAjcXVvdDtjb2xfMSNxdW90O10sIHJ1bGVfaWQ9ezB9Il0KM1siMwpvcD0jcXVvdDtyZW5hbWUjcXVvdDssIHNjaGVtYT1bI3F1b3Q7X0YwI3F1b3Q7LCAjcXVvdDtfRjEjcXVvdDtdLCBydWxlX2lkPXswfSJdCjRbIjQKb3A9I3F1b3Q7cHJvamVjdCNxdW90Oywgc2NoZW1hPVtdLCBydWxlX2lkPXswfSJdCjVbIjUKb3A9I3F1b3Q7am9pbiNxdW90Oywgc2NoZW1hPVsjcXVvdDtYI3F1b3Q7LCAjcXVvdDtZI3F1b3Q7XSwgcnVsZV9pZD17MH0iXQo2WyI2Cm9wPSNxdW90O3Byb2plY3QjcXVvdDssIHNjaGVtYT1bI3F1b3Q7WCNxdW90OywgI3F1b3Q7WSNxdW90O10sIHJlbD0jcXVvdDtfQV8wI3F1b3Q7LCBydWxlX2lkPXswfSJdCjdbIjcKb3A9I3F1b3Q7cmVuYW1lI3F1b3Q7LCBzY2hlbWE9WyNxdW90O1gjcXVvdDssICNxdW90O1kjcXVvdDtdIl0KOFsiOApvcD0jcXVvdDtwcm9qZWN0I3F1b3Q7LCBzY2hlbWE9WyNxdW90O1gjcXVvdDssICNxdW90O1kjcXVvdDtdIl0KQSAtLT4gNgowIC0tPiBCCjEgLS0+IDAKMiAtLT4gQwozIC0tPiAyCjQgLS0+IDMKNSAtLT4gMQo1IC0tPiA0CjYgLS0+IDUKNyAtLT4gQQo4IC0tPiA3Cg==\"/>"
      ],
      "text/plain": [
       "<IPython.core.display.Image object>"
      ]
     },
     "metadata": {},
     "output_type": "display_data"
    },
    {
     "data": {
      "text/plain": [
       "(   X  Y\n",
       " 0  1  1\n",
       " 1  1  2\n",
       " 2  2  3,\n",
       " defaultdict(<function spannerlib.engine.compute_node.<locals>.<lambda>()>,\n",
       "             {'C': [None,\n",
       "                  0  1\n",
       "               0  1  1\n",
       "               1  2  2],\n",
       "              2: [None,\n",
       "                  0  1\n",
       "               0  1  1],\n",
       "              'B': [None,\n",
       "                  0  1\n",
       "               0  2  3\n",
       "               1  1  1\n",
       "               2  1  2],\n",
       "              3: [None,\n",
       "                  _F0  _F1\n",
       "               0    1    1],\n",
       "              0: [None,\n",
       "                  X  Y\n",
       "               0  2  3\n",
       "               1  1  1\n",
       "               2  1  2],\n",
       "              4: [None,\n",
       "               Empty DataFrame\n",
       "               Columns: []\n",
       "               Index: [0]],\n",
       "              1: [None,\n",
       "                  X  Y\n",
       "               0  2  3\n",
       "               1  1  1\n",
       "               2  1  2],\n",
       "              5: [None,\n",
       "                  X  Y\n",
       "               0  2  3\n",
       "               1  1  1\n",
       "               2  1  2],\n",
       "              6: [None,\n",
       "                  X  Y\n",
       "               0  2  3\n",
       "               1  1  1\n",
       "               2  1  2],\n",
       "              'A': [None,\n",
       "                  col_0  col_1\n",
       "               0      2      3\n",
       "               1      1      1\n",
       "               2      1      2],\n",
       "              7: [None,\n",
       "                  X  Y\n",
       "               0  2  3\n",
       "               1  1  1\n",
       "               2  1  2],\n",
       "              8: [None,\n",
       "                  X  Y\n",
       "               0  2  3\n",
       "               1  1  1\n",
       "               2  1  2]}),\n",
       " <spannerlib.session.Session>)"
      ]
     },
     "execution_count": null,
     "metadata": {},
     "output_type": "execute_result"
    }
   ],
   "source": [
    "# test_rule_with_true_value\n",
    "test_session(\n",
    "[\n",
    "    \"\"\"\n",
    "    new B(int, int)\n",
    "    new C(int, int)\n",
    "    B(1, 1)\n",
    "    B(1, 2)\n",
    "    B(2, 3)\n",
    "    C(2, 2)\n",
    "    C(1, 1)\n",
    "\n",
    "    A(X, Y) <- B(X, Y), C(1, 1)\n",
    "    \"\"\",\n",
    "    \"\"\"\n",
    "    ?A(X, Y)\n",
    "    \"\"\"\n",
    "],\n",
    "[\n",
    "    None,   \n",
    "    pd.DataFrame([[1,1],[1,2],[2,3]],columns=['X','Y'])\n",
    "],debug=True\n",
    ")"
   ]
  },
  {
   "cell_type": "code",
   "execution_count": null,
   "metadata": {},
   "outputs": [
    {
     "data": {
      "text/plain": [
       "'?A(X,Y)'"
      ]
     },
     "metadata": {},
     "output_type": "display_data"
    },
    {
     "data": {
      "text/html": [
       "<style type=\"text/css\">\n",
       "</style>\n",
       "<table id=\"T_45732\">\n",
       "  <thead>\n",
       "    <tr>\n",
       "      <th class=\"blank level0\" >&nbsp;</th>\n",
       "      <th id=\"T_45732_level0_col0\" class=\"col_heading level0 col0\" >X</th>\n",
       "      <th id=\"T_45732_level0_col1\" class=\"col_heading level0 col1\" >Y</th>\n",
       "    </tr>\n",
       "  </thead>\n",
       "  <tbody>\n",
       "  </tbody>\n",
       "</table>\n"
      ],
      "text/plain": [
       "<pandas.io.formats.style.Styler>"
      ]
     },
     "metadata": {},
     "output_type": "display_data"
    },
    {
     "data": {
      "text/plain": [
       "<spannerlib.session.Session>"
      ]
     },
     "execution_count": null,
     "metadata": {},
     "output_type": "execute_result"
    }
   ],
   "source": [
    "# test_rule_with_false_value\n",
    "test_session(\n",
    "\"\"\"\n",
    "    new B(int, int)\n",
    "    new C(int, int)\n",
    "    B(1, 1)\n",
    "    B(1, 2)\n",
    "    B(2, 3)\n",
    "    C(2, 2)\n",
    "    C(1, 1)\n",
    "\n",
    "    A(X, Y) <- B(X, Y), C(0, 0)\n",
    "    ?A(X, Y)\n",
    "\"\"\",\n",
    "pd.DataFrame([],columns=['X','Y'])\n",
    ")"
   ]
  },
  {
   "cell_type": "code",
   "execution_count": null,
   "metadata": {},
   "outputs": [
    {
     "data": {
      "text/plain": [
       "'?A(X,Y)'"
      ]
     },
     "metadata": {},
     "output_type": "display_data"
    },
    {
     "data": {
      "text/html": [
       "<style type=\"text/css\">\n",
       "#T_a17a7_row0_col0, #T_a17a7_row0_col1, #T_a17a7_row1_col0, #T_a17a7_row1_col1, #T_a17a7_row2_col0, #T_a17a7_row2_col1 {\n",
       "  overflow-wrap: break-word;\n",
       "  max-width: 800px;\n",
       "  text-align: left;\n",
       "}\n",
       "</style>\n",
       "<table id=\"T_a17a7\">\n",
       "  <thead>\n",
       "    <tr>\n",
       "      <th class=\"blank level0\" >&nbsp;</th>\n",
       "      <th id=\"T_a17a7_level0_col0\" class=\"col_heading level0 col0\" >X</th>\n",
       "      <th id=\"T_a17a7_level0_col1\" class=\"col_heading level0 col1\" >Y</th>\n",
       "    </tr>\n",
       "  </thead>\n",
       "  <tbody>\n",
       "    <tr>\n",
       "      <th id=\"T_a17a7_level0_row0\" class=\"row_heading level0 row0\" >0</th>\n",
       "      <td id=\"T_a17a7_row0_col0\" class=\"data row0 col0\" >1</td>\n",
       "      <td id=\"T_a17a7_row0_col1\" class=\"data row0 col1\" >1</td>\n",
       "    </tr>\n",
       "    <tr>\n",
       "      <th id=\"T_a17a7_level0_row1\" class=\"row_heading level0 row1\" >1</th>\n",
       "      <td id=\"T_a17a7_row1_col0\" class=\"data row1 col0\" >1</td>\n",
       "      <td id=\"T_a17a7_row1_col1\" class=\"data row1 col1\" >2</td>\n",
       "    </tr>\n",
       "    <tr>\n",
       "      <th id=\"T_a17a7_level0_row2\" class=\"row_heading level0 row2\" >2</th>\n",
       "      <td id=\"T_a17a7_row2_col0\" class=\"data row2 col0\" >2</td>\n",
       "      <td id=\"T_a17a7_row2_col1\" class=\"data row2 col1\" >3</td>\n",
       "    </tr>\n",
       "  </tbody>\n",
       "</table>\n"
      ],
      "text/plain": [
       "<pandas.io.formats.style.Styler>"
      ]
     },
     "metadata": {},
     "output_type": "display_data"
    },
    {
     "data": {
      "text/plain": [
       "'?A(X,X)'"
      ]
     },
     "metadata": {},
     "output_type": "display_data"
    },
    {
     "data": {
      "text/html": [
       "<style type=\"text/css\">\n",
       "#T_b9608_row0_col0 {\n",
       "  overflow-wrap: break-word;\n",
       "  max-width: 800px;\n",
       "  text-align: left;\n",
       "}\n",
       "</style>\n",
       "<table id=\"T_b9608\">\n",
       "  <thead>\n",
       "    <tr>\n",
       "      <th class=\"blank level0\" >&nbsp;</th>\n",
       "      <th id=\"T_b9608_level0_col0\" class=\"col_heading level0 col0\" >X</th>\n",
       "    </tr>\n",
       "  </thead>\n",
       "  <tbody>\n",
       "    <tr>\n",
       "      <th id=\"T_b9608_level0_row0\" class=\"row_heading level0 row0\" >0</th>\n",
       "      <td id=\"T_b9608_row0_col0\" class=\"data row0 col0\" >1</td>\n",
       "    </tr>\n",
       "  </tbody>\n",
       "</table>\n"
      ],
      "text/plain": [
       "<pandas.io.formats.style.Styler>"
      ]
     },
     "metadata": {},
     "output_type": "display_data"
    },
    {
     "data": {
      "text/plain": [
       "<spannerlib.session.Session>"
      ]
     },
     "execution_count": null,
     "metadata": {},
     "output_type": "execute_result"
    }
   ],
   "source": [
    "# test_query_with_same_var\n",
    "test_session(\n",
    "[\n",
    "    \"\"\"\n",
    "    new B(int, int)\n",
    "    B(1, 1)\n",
    "    B(1, 2)\n",
    "    B(2, 3)\n",
    "\n",
    "    A(X, Y) <- B(X, Y)\n",
    "    ?A(X,Y)\n",
    "    \"\"\",\n",
    "    \"\"\"\n",
    "    ?A(X, X)\n",
    "\"\"\"\n",
    "],[\n",
    "    pd.DataFrame([[1,1],[1,2],[2,3]],columns=['X','Y']),\n",
    "    pd.DataFrame([[1]],columns=['X']),\n",
    "],\n",
    ")"
   ]
  },
  {
   "cell_type": "code",
   "execution_count": null,
   "metadata": {},
   "outputs": [
    {
     "data": {
      "text/plain": [
       "'?A(X)'"
      ]
     },
     "metadata": {},
     "output_type": "display_data"
    },
    {
     "data": {
      "text/html": [
       "<style type=\"text/css\">\n",
       "#T_21291_row0_col0, #T_21291_row1_col0 {\n",
       "  overflow-wrap: break-word;\n",
       "  max-width: 800px;\n",
       "  text-align: left;\n",
       "}\n",
       "</style>\n",
       "<table id=\"T_21291\">\n",
       "  <thead>\n",
       "    <tr>\n",
       "      <th class=\"blank level0\" >&nbsp;</th>\n",
       "      <th id=\"T_21291_level0_col0\" class=\"col_heading level0 col0\" >X</th>\n",
       "    </tr>\n",
       "  </thead>\n",
       "  <tbody>\n",
       "    <tr>\n",
       "      <th id=\"T_21291_level0_row0\" class=\"row_heading level0 row0\" >0</th>\n",
       "      <td id=\"T_21291_row0_col0\" class=\"data row0 col0\" >1</td>\n",
       "    </tr>\n",
       "    <tr>\n",
       "      <th id=\"T_21291_level0_row1\" class=\"row_heading level0 row1\" >1</th>\n",
       "      <td id=\"T_21291_row1_col0\" class=\"data row1 col0\" >2</td>\n",
       "    </tr>\n",
       "  </tbody>\n",
       "</table>\n"
      ],
      "text/plain": [
       "<pandas.io.formats.style.Styler>"
      ]
     },
     "metadata": {},
     "output_type": "display_data"
    },
    {
     "data": {
      "text/plain": [
       "<spannerlib.session.Session>"
      ]
     },
     "execution_count": null,
     "metadata": {},
     "output_type": "execute_result"
    }
   ],
   "source": [
    "# test_rule_with_constant\n",
    "test_session(\n",
    "[\n",
    "    \"\"\"\n",
    "    new B(int, int)\n",
    "    new C(int, int)\n",
    "    B(1, 1)\n",
    "    B(1, 2)\n",
    "    B(2, 3)\n",
    "    C(2, 2)\n",
    "    C(1, 1)\n",
    "\n",
    "    A(X) <- B(1, X)\n",
    "    ?A(X)\n",
    "\"\"\"\n",
    "],[\n",
    "    pd.DataFrame([[1],[2]],columns=['X']),\n",
    "],\n",
    ")"
   ]
  },
  {
   "cell_type": "code",
   "execution_count": null,
   "metadata": {},
   "outputs": [
    {
     "data": {
      "text/plain": [
       "'?A(X)'"
      ]
     },
     "metadata": {},
     "output_type": "display_data"
    },
    {
     "data": {
      "text/html": [
       "<style type=\"text/css\">\n",
       "#T_cc289_row0_col0 {\n",
       "  overflow-wrap: break-word;\n",
       "  max-width: 800px;\n",
       "  text-align: left;\n",
       "}\n",
       "</style>\n",
       "<table id=\"T_cc289\">\n",
       "  <thead>\n",
       "    <tr>\n",
       "      <th class=\"blank level0\" >&nbsp;</th>\n",
       "      <th id=\"T_cc289_level0_col0\" class=\"col_heading level0 col0\" >X</th>\n",
       "    </tr>\n",
       "  </thead>\n",
       "  <tbody>\n",
       "    <tr>\n",
       "      <th id=\"T_cc289_level0_row0\" class=\"row_heading level0 row0\" >0</th>\n",
       "      <td id=\"T_cc289_row0_col0\" class=\"data row0 col0\" >2</td>\n",
       "    </tr>\n",
       "  </tbody>\n",
       "</table>\n"
      ],
      "text/plain": [
       "<pandas.io.formats.style.Styler>"
      ]
     },
     "metadata": {},
     "output_type": "display_data"
    },
    {
     "data": {
      "text/plain": [
       "<spannerlib.session.Session>"
      ]
     },
     "execution_count": null,
     "metadata": {},
     "output_type": "execute_result"
    }
   ],
   "source": [
    "# test_select_and_join\n",
    "test_session(\n",
    "[\n",
    "    \"\"\"\n",
    "            new B(int)\n",
    "            new C(int, int)\n",
    "            B(2)\n",
    "            C(1, 4)\n",
    "            C(2, 5)\n",
    "            A(X) <- B(X), C(X, 5)\n",
    "            ?A(X)\n",
    "\"\"\"\n",
    "],[\n",
    "    pd.DataFrame([[2]],columns=['X']),\n",
    "],\n",
    ")"
   ]
  },
  {
   "cell_type": "code",
   "execution_count": null,
   "metadata": {},
   "outputs": [
    {
     "data": {
      "text/plain": [
       "'?A(1)'"
      ]
     },
     "metadata": {},
     "output_type": "display_data"
    },
    {
     "data": {
      "text/plain": [
       "True"
      ]
     },
     "metadata": {},
     "output_type": "display_data"
    },
    {
     "data": {
      "text/plain": [
       "'?A(2)'"
      ]
     },
     "metadata": {},
     "output_type": "display_data"
    },
    {
     "data": {
      "text/plain": [
       "False"
      ]
     },
     "metadata": {},
     "output_type": "display_data"
    },
    {
     "data": {
      "text/plain": [
       "<spannerlib.session.Session>"
      ]
     },
     "execution_count": null,
     "metadata": {},
     "output_type": "execute_result"
    }
   ],
   "source": [
    "# test Boolean values\n",
    "test_session(\n",
    "[\n",
    "    \"\"\"\n",
    "            new A(int)\n",
    "            A(1)\n",
    "            ?A(1)\n",
    "\"\"\",\n",
    "\"\"\"?A(2)\"\"\"\n",
    "],[\n",
    "    True,\n",
    "    False\n",
    "],\n",
    ")"
   ]
  },
  {
   "cell_type": "code",
   "execution_count": null,
   "metadata": {},
   "outputs": [
    {
     "data": {
      "text/plain": [
       "<spannerlib.session.Session>"
      ]
     },
     "execution_count": null,
     "metadata": {},
     "output_type": "execute_result"
    }
   ],
   "source": [
    "# test no code doesnt break\n",
    "test_session(\n",
    "[\n",
    "    \"\"\"\"\"\",\n",
    "],[\n",
    "    None,\n",
    "],\n",
    ")"
   ]
  },
  {
   "cell_type": "code",
   "execution_count": null,
   "metadata": {},
   "outputs": [
    {
     "data": {
      "text/plain": [
       "'?rel(X)'"
      ]
     },
     "metadata": {},
     "output_type": "display_data"
    },
    {
     "data": {
      "text/html": [
       "<style type=\"text/css\">\n",
       "#T_fa788_row0_col0, #T_fa788_row1_col0 {\n",
       "  overflow-wrap: break-word;\n",
       "  max-width: 800px;\n",
       "  text-align: left;\n",
       "}\n",
       "</style>\n",
       "<table id=\"T_fa788\">\n",
       "  <thead>\n",
       "    <tr>\n",
       "      <th class=\"blank level0\" >&nbsp;</th>\n",
       "      <th id=\"T_fa788_level0_col0\" class=\"col_heading level0 col0\" >X</th>\n",
       "    </tr>\n",
       "  </thead>\n",
       "  <tbody>\n",
       "    <tr>\n",
       "      <th id=\"T_fa788_level0_row0\" class=\"row_heading level0 row0\" >0</th>\n",
       "      <td id=\"T_fa788_row0_col0\" class=\"data row0 col0\" >8</td>\n",
       "    </tr>\n",
       "    <tr>\n",
       "      <th id=\"T_fa788_level0_row1\" class=\"row_heading level0 row1\" >1</th>\n",
       "      <td id=\"T_fa788_row1_col0\" class=\"data row1 col0\" >16</td>\n",
       "    </tr>\n",
       "  </tbody>\n",
       "</table>\n"
      ],
      "text/plain": [
       "<pandas.io.formats.style.Styler>"
      ]
     },
     "metadata": {},
     "output_type": "display_data"
    },
    {
     "data": {
      "text/plain": [
       "<spannerlib.session.Session>"
      ]
     },
     "execution_count": null,
     "metadata": {},
     "output_type": "execute_result"
    }
   ],
   "source": [
    "# test_add and remove fact\n",
    "test_session(\n",
    "[\n",
    "    \"\"\"\n",
    "    new rel(int)\n",
    "    +rel(8)\n",
    "    rel(16)\n",
    "    -rel(16)\n",
    "    rel(32)\n",
    "    rel(16)\n",
    "    -rel(32)\n",
    "    ?rel(X)\n",
    "\"\"\"\n",
    "],[\n",
    "    pd.DataFrame([[8],[16]],columns=['X']),\n",
    "],\n",
    ")"
   ]
  },
  {
   "cell_type": "code",
   "execution_count": null,
   "metadata": {},
   "outputs": [
    {
     "data": {
      "text/plain": [
       "'?PeopleAffinity(Name,Aff)'"
      ]
     },
     "metadata": {},
     "output_type": "display_data"
    },
    {
     "data": {
      "text/html": [
       "<style type=\"text/css\">\n",
       "#T_37c38_row0_col0, #T_37c38_row0_col1, #T_37c38_row1_col0, #T_37c38_row1_col1 {\n",
       "  overflow-wrap: break-word;\n",
       "  max-width: 800px;\n",
       "  text-align: left;\n",
       "}\n",
       "</style>\n",
       "<table id=\"T_37c38\">\n",
       "  <thead>\n",
       "    <tr>\n",
       "      <th class=\"blank level0\" >&nbsp;</th>\n",
       "      <th id=\"T_37c38_level0_col0\" class=\"col_heading level0 col0\" >Name</th>\n",
       "      <th id=\"T_37c38_level0_col1\" class=\"col_heading level0 col1\" >Aff</th>\n",
       "    </tr>\n",
       "  </thead>\n",
       "  <tbody>\n",
       "    <tr>\n",
       "      <th id=\"T_37c38_level0_row0\" class=\"row_heading level0 row0\" >0</th>\n",
       "      <td id=\"T_37c38_row0_col0\" class=\"data row0 col0\" >Bob</td>\n",
       "      <td id=\"T_37c38_row0_col1\" class=\"data row0 col1\" >good</td>\n",
       "    </tr>\n",
       "    <tr>\n",
       "      <th id=\"T_37c38_level0_row1\" class=\"row_heading level0 row1\" >1</th>\n",
       "      <td id=\"T_37c38_row1_col0\" class=\"data row1 col0\" >John</td>\n",
       "      <td id=\"T_37c38_row1_col1\" class=\"data row1 col1\" >bad</td>\n",
       "    </tr>\n",
       "  </tbody>\n",
       "</table>\n"
      ],
      "text/plain": [
       "<pandas.io.formats.style.Styler>"
      ]
     },
     "metadata": {},
     "output_type": "display_data"
    },
    {
     "data": {
      "text/plain": [
       "<spannerlib.session.Session>"
      ]
     },
     "execution_count": null,
     "metadata": {},
     "output_type": "execute_result"
    }
   ],
   "source": [
    "# combine constants in head with regular heads\n",
    "test_session(\n",
    "[\n",
    "    \"\"\"\n",
    "    new BadPeople(str,str)\n",
    "    BadPeople(\"John\",\"bad\")\n",
    "    \n",
    "    new GoodPeople(str)\n",
    "    GoodPeople(\"Bob\")\n",
    "    \n",
    "    PeopleAffinity(Name,Aff)<-BadPeople(Name,Aff)\n",
    "    PeopleAffinity(Name,\"good\")<-GoodPeople(Name)\n",
    "    ?PeopleAffinity(Name,Aff)\n",
    "\"\"\"\n",
    "],[\n",
    "    pd.DataFrame([\n",
    "        ['John','bad'],\n",
    "        ['Bob','good']\n",
    "    ],columns=['Name', 'Aff']),\n",
    "],\n",
    ")"
   ]
  },
  {
   "cell_type": "code",
   "execution_count": null,
   "metadata": {},
   "outputs": [
    {
     "data": {
      "text/plain": [
       "'?GoodSentences(Sentence)'"
      ]
     },
     "metadata": {},
     "output_type": "display_data"
    },
    {
     "data": {
      "text/html": [
       "<style type=\"text/css\">\n",
       "#T_dd308_row0_col0 {\n",
       "  overflow-wrap: break-word;\n",
       "  max-width: 800px;\n",
       "  text-align: left;\n",
       "}\n",
       "</style>\n",
       "<table id=\"T_dd308\">\n",
       "  <thead>\n",
       "    <tr>\n",
       "      <th class=\"blank level0\" >&nbsp;</th>\n",
       "      <th id=\"T_dd308_level0_col0\" class=\"col_heading level0 col0\" >Sentence</th>\n",
       "    </tr>\n",
       "  </thead>\n",
       "  <tbody>\n",
       "    <tr>\n",
       "      <th id=\"T_dd308_level0_row0\" class=\"row_heading level0 row0\" >0</th>\n",
       "      <td id=\"T_dd308_row0_col0\" class=\"data row0 col0\" >Im walking on sunshine</td>\n",
       "    </tr>\n",
       "  </tbody>\n",
       "</table>\n"
      ],
      "text/plain": [
       "<pandas.io.formats.style.Styler>"
      ]
     },
     "metadata": {},
     "output_type": "display_data"
    },
    {
     "data": {
      "text/plain": [
       "'?BadWords(Word)'"
      ]
     },
     "metadata": {},
     "output_type": "display_data"
    },
    {
     "data": {
      "text/html": [
       "<style type=\"text/css\">\n",
       "#T_fb1ea_row0_col0, #T_fb1ea_row1_col0, #T_fb1ea_row2_col0, #T_fb1ea_row3_col0, #T_fb1ea_row4_col0 {\n",
       "  overflow-wrap: break-word;\n",
       "  max-width: 800px;\n",
       "  text-align: left;\n",
       "}\n",
       "</style>\n",
       "<table id=\"T_fb1ea\">\n",
       "  <thead>\n",
       "    <tr>\n",
       "      <th class=\"blank level0\" >&nbsp;</th>\n",
       "      <th id=\"T_fb1ea_level0_col0\" class=\"col_heading level0 col0\" >Word</th>\n",
       "    </tr>\n",
       "  </thead>\n",
       "  <tbody>\n",
       "    <tr>\n",
       "      <th id=\"T_fb1ea_level0_row0\" class=\"row_heading level0 row0\" >0</th>\n",
       "      <td id=\"T_fb1ea_row0_col0\" class=\"data row0 col0\" >darkness</td>\n",
       "    </tr>\n",
       "    <tr>\n",
       "      <th id=\"T_fb1ea_level0_row1\" class=\"row_heading level0 row1\" >1</th>\n",
       "      <td id=\"T_fb1ea_row1_col0\" class=\"data row1 col0\" >friend</td>\n",
       "    </tr>\n",
       "    <tr>\n",
       "      <th id=\"T_fb1ea_level0_row2\" class=\"row_heading level0 row2\" >2</th>\n",
       "      <td id=\"T_fb1ea_row2_col0\" class=\"data row2 col0\" >hello</td>\n",
       "    </tr>\n",
       "    <tr>\n",
       "      <th id=\"T_fb1ea_level0_row3\" class=\"row_heading level0 row3\" >3</th>\n",
       "      <td id=\"T_fb1ea_row3_col0\" class=\"data row3 col0\" >my</td>\n",
       "    </tr>\n",
       "    <tr>\n",
       "      <th id=\"T_fb1ea_level0_row4\" class=\"row_heading level0 row4\" >4</th>\n",
       "      <td id=\"T_fb1ea_row4_col0\" class=\"data row4 col0\" >old</td>\n",
       "    </tr>\n",
       "  </tbody>\n",
       "</table>\n"
      ],
      "text/plain": [
       "<pandas.io.formats.style.Styler>"
      ]
     },
     "metadata": {},
     "output_type": "display_data"
    },
    {
     "data": {
      "text/plain": [
       "'?GoodWords(Word)'"
      ]
     },
     "metadata": {},
     "output_type": "display_data"
    },
    {
     "data": {
      "text/html": [
       "<style type=\"text/css\">\n",
       "#T_01f2b_row0_col0, #T_01f2b_row1_col0, #T_01f2b_row2_col0, #T_01f2b_row3_col0 {\n",
       "  overflow-wrap: break-word;\n",
       "  max-width: 800px;\n",
       "  text-align: left;\n",
       "}\n",
       "</style>\n",
       "<table id=\"T_01f2b\">\n",
       "  <thead>\n",
       "    <tr>\n",
       "      <th class=\"blank level0\" >&nbsp;</th>\n",
       "      <th id=\"T_01f2b_level0_col0\" class=\"col_heading level0 col0\" >Word</th>\n",
       "    </tr>\n",
       "  </thead>\n",
       "  <tbody>\n",
       "    <tr>\n",
       "      <th id=\"T_01f2b_level0_row0\" class=\"row_heading level0 row0\" >0</th>\n",
       "      <td id=\"T_01f2b_row0_col0\" class=\"data row0 col0\" >Im</td>\n",
       "    </tr>\n",
       "    <tr>\n",
       "      <th id=\"T_01f2b_level0_row1\" class=\"row_heading level0 row1\" >1</th>\n",
       "      <td id=\"T_01f2b_row1_col0\" class=\"data row1 col0\" >on</td>\n",
       "    </tr>\n",
       "    <tr>\n",
       "      <th id=\"T_01f2b_level0_row2\" class=\"row_heading level0 row2\" >2</th>\n",
       "      <td id=\"T_01f2b_row2_col0\" class=\"data row2 col0\" >sunshine</td>\n",
       "    </tr>\n",
       "    <tr>\n",
       "      <th id=\"T_01f2b_level0_row3\" class=\"row_heading level0 row3\" >3</th>\n",
       "      <td id=\"T_01f2b_row3_col0\" class=\"data row3 col0\" >walking</td>\n",
       "    </tr>\n",
       "  </tbody>\n",
       "</table>\n"
      ],
      "text/plain": [
       "<pandas.io.formats.style.Styler>"
      ]
     },
     "metadata": {},
     "output_type": "display_data"
    },
    {
     "data": {
      "text/plain": [
       "<spannerlib.session.Session>"
      ]
     },
     "execution_count": null,
     "metadata": {},
     "output_type": "execute_result"
    }
   ],
   "source": [
    "# combine constants in head with regular heads\n",
    "test_session(\n",
    "[\n",
    "\"\"\"\n",
    "darkness_sentence = \"hello darkness my old friend\"\n",
    "sunshine_sentence = \"Im walking on sunshine\"\n",
    "\n",
    "new SentenceSentiment(str,bool)\n",
    "SentenceSentiment($darkness_sentence, False)\n",
    "SentenceSentiment($sunshine_sentence, True)\n",
    "\n",
    "word_pattern = \"(\\w+)\"\n",
    "GoodSentences(Sentence) <- SentenceSentiment(Sentence, True)\n",
    "BadWords(Word) <- SentenceSentiment(Sentence, False), rgx($word_pattern, Sentence)->(WordSpan),as_str(WordSpan)->(Word)\n",
    "GoodWords(Word) <- SentenceSentiment(Sentence, True), rgx($word_pattern, Sentence)->(WordSpan),as_str(WordSpan)->(Word)\n",
    "\n",
    "\"\"\",\n",
    "\"\"\"\n",
    "?GoodSentences(Sentence)\n",
    "\"\"\",\n",
    "\"\"\"\n",
    "?BadWords(Word)\n",
    "\"\"\",\n",
    "\"\"\"\n",
    "?GoodWords(Word)\n",
    "\"\"\"\n",
    "],[None,\n",
    "    pd.DataFrame([\n",
    "        ['Im walking on sunshine']\n",
    "    ],columns=['Sentence']),\n",
    "    pd.DataFrame([\n",
    "        ['hello'],\n",
    "        ['darkness'],\n",
    "        ['my'],\n",
    "        ['old'],\n",
    "        ['friend']\n",
    "    ],columns=['Word']),\n",
    "    pd.DataFrame([\n",
    "        ['Im'],\n",
    "        ['walking'],\n",
    "        ['on'],\n",
    "        ['sunshine']\n",
    "    ],columns=['Word']),\n",
    "],\n",
    "# debug=True\n",
    ")"
   ]
  }
 ],
 "metadata": {
  "kernelspec": {
   "display_name": "python3",
   "language": "python",
   "name": "python3"
  }
 },
 "nbformat": 4,
 "nbformat_minor": 4
}
