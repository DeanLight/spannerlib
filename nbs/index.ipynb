{
 "cells": [
  {
   "cell_type": "markdown",
   "metadata": {},
   "source": [
    "# Welcome to Spannerlib"
   ]
  },
  {
   "cell_type": "markdown",
   "metadata": {},
   "source": [
    "Welcome to the spannerlib project.\n",
    "\n",
    "The spannerlib is a framework for building programming languages that are a combination of imperative and declarative languages.\n",
    "This combination is based off of derivations of the document spanner model.\n",
    "\n",
    "Currently, we implement a language called spannerlog over python. spannerlog is an extension of statically types datalog which allows users to define their own ie functions which can be used to derive new structured information from relations.\n",
    "\n",
    "The spannerlog repl, shown bellow is served using the [jupyter magic commands](https://opensarlab-docs.asf.alaska.edu/user-guides/jupyter_magic/)\n",
    "\n",
    "Bellow, we will show you how to install and use spannerlog through Spannerlib.\n",
    "\n",
    "For more comprehensive walkthroughs, see our tutorials section."
   ]
  },
  {
   "cell_type": "markdown",
   "metadata": {},
   "source": [
    "\n",
    "## Installation\n"
   ]
  },
  {
   "cell_type": "markdown",
   "metadata": {},
   "source": [
    "### Unix\n"
   ]
  },
  {
   "cell_type": "markdown",
   "metadata": {},
   "source": [
    "\n",
    "To download and install RGXLog run the following commands in your terminal:\n",
    "\n",
    "```bash\n",
    "git clone https://github.com/DeanLight/spannerlib\n",
    "cd spannerlib\n",
    "\n",
    "pip install -e .\n",
    "```\n",
    "\n",
    "download corenlp to\n",
    "`spannerlib/rgxlog/`\n",
    "\n",
    "from [this link](https://drive.google.com/u/0/uc?export=download&id=1QixGiHD2mHKuJtB69GHDQA0wTyXtHzjl)\n",
    "\n",
    "```bash\n",
    "# verify everything worked\n",
    "# first time might take a couple of minutes since run time assets are being configured\n",
    "python nbdev_test.py\n",
    "\n",
    "```\n"
   ]
  },
  {
   "cell_type": "markdown",
   "metadata": {},
   "source": [
    "\n",
    "### docker\n"
   ]
  },
  {
   "cell_type": "markdown",
   "metadata": {},
   "source": [
    "\n",
    "```bash\n",
    "git clone https://github.com/DeanLight/spannerlib\n",
    "cd spannerlib\n",
    "```\n",
    "\n",
    "download corenlp to\n",
    "`spannerlib/rgxlog/`\n",
    "\n",
    "from [this link](https://drive.google.com/u/0/uc?export=download&id=1QixGiHD2mHKuJtB69GHDQA0wTyXtHzjl)\n",
    "\n",
    "```bash\n",
    "docker build . -t spannerlib_image\n",
    "\n",
    "# on windows, change `pwd to current working directory`\n",
    "# to get a bash terminal to the container\n",
    "docker run --name swc --rm -it \\\n",
    "  -v `pwd`:/spannerlib:Z \\\n",
    "  spannerlib_image bash\n",
    "\n",
    "# to run an interactive notebook on host port 8891\n",
    "docker run --name swc --rm -it \\\n",
    "  -v `pwd`:/spannerlib:Z \\\n",
    "  -p8891:8888 \\\n",
    "  spannerlib_image jupyter notebook --no-browser --allow-root\n",
    "\n",
    "#Verify tests inside the container\n",
    "python /spannerlib/nbdev_test.py\n",
    "\n",
    "```\n"
   ]
  },
  {
   "cell_type": "markdown",
   "metadata": {},
   "source": [
    "\n",
    "## Getting started - TLDR\n",
    "\n",
    "Here is a TLDR intro, for a more comprehensive tutorial, please see the introduction section of the tutorials.\n"
   ]
  },
  {
   "cell_type": "code",
   "execution_count": null,
   "metadata": {},
   "outputs": [],
   "source": [
    "import spannerlib\n",
    "import pandas as pd\n",
    "# get dynamic access to the session running through the jupyter magic system\n",
    "from spannerlib import get_magic_session\n",
    "session = get_magic_session()"
   ]
  },
  {
   "cell_type": "markdown",
   "metadata": {},
   "source": [
    "Get a dataframe"
   ]
  },
  {
   "cell_type": "code",
   "execution_count": null,
   "metadata": {},
   "outputs": [
    {
     "data": {
      "text/html": [
       "<div>\n",
       "<style scoped>\n",
       "    .dataframe tbody tr th:only-of-type {\n",
       "        vertical-align: middle;\n",
       "    }\n",
       "\n",
       "    .dataframe tbody tr th {\n",
       "        vertical-align: top;\n",
       "    }\n",
       "\n",
       "    .dataframe thead th {\n",
       "        text-align: right;\n",
       "    }\n",
       "</style>\n",
       "<table border=\"1\" class=\"dataframe\">\n",
       "  <thead>\n",
       "    <tr style=\"text-align: right;\">\n",
       "      <th></th>\n",
       "      <th>name</th>\n",
       "      <th>course</th>\n",
       "    </tr>\n",
       "  </thead>\n",
       "  <tbody>\n",
       "    <tr>\n",
       "      <th>0</th>\n",
       "      <td>walter</td>\n",
       "      <td>chemistry</td>\n",
       "    </tr>\n",
       "    <tr>\n",
       "      <th>1</th>\n",
       "      <td>linus</td>\n",
       "      <td>operating_systems</td>\n",
       "    </tr>\n",
       "    <tr>\n",
       "      <th>2</th>\n",
       "      <td>rick</td>\n",
       "      <td>physics</td>\n",
       "    </tr>\n",
       "  </tbody>\n",
       "</table>\n",
       "</div>"
      ],
      "text/plain": [
       "     name             course\n",
       "0  walter          chemistry\n",
       "1   linus  operating_systems\n",
       "2    rick            physics"
      ]
     },
     "execution_count": null,
     "metadata": {},
     "output_type": "execute_result"
    }
   ],
   "source": [
    "lecturer_df = pd.DataFrame(\n",
    "    [[\"walter\",\"chemistry\"],\n",
    "     [\"linus\", \"operating_systems\"],\n",
    "     ['rick', 'physics']\n",
    "    ],columns=[\"name\",\"course\"])\n",
    "lecturer_df"
   ]
  },
  {
   "cell_type": "markdown",
   "metadata": {},
   "source": [
    "Or a CSV"
   ]
  },
  {
   "cell_type": "code",
   "execution_count": null,
   "metadata": {},
   "outputs": [
    {
     "data": {
      "text/html": [
       "<div>\n",
       "<style scoped>\n",
       "    .dataframe tbody tr th:only-of-type {\n",
       "        vertical-align: middle;\n",
       "    }\n",
       "\n",
       "    .dataframe tbody tr th {\n",
       "        vertical-align: top;\n",
       "    }\n",
       "\n",
       "    .dataframe thead th {\n",
       "        text-align: right;\n",
       "    }\n",
       "</style>\n",
       "<table border=\"1\" class=\"dataframe\">\n",
       "  <thead>\n",
       "    <tr style=\"text-align: right;\">\n",
       "      <th></th>\n",
       "      <th>name</th>\n",
       "      <th>course</th>\n",
       "    </tr>\n",
       "  </thead>\n",
       "  <tbody>\n",
       "    <tr>\n",
       "      <th>0</th>\n",
       "      <td>abigail</td>\n",
       "      <td>chemistry</td>\n",
       "    </tr>\n",
       "    <tr>\n",
       "      <th>1</th>\n",
       "      <td>abigail</td>\n",
       "      <td>operation systems</td>\n",
       "    </tr>\n",
       "    <tr>\n",
       "      <th>2</th>\n",
       "      <td>jordan</td>\n",
       "      <td>chemistry</td>\n",
       "    </tr>\n",
       "    <tr>\n",
       "      <th>3</th>\n",
       "      <td>gale</td>\n",
       "      <td>operation systems</td>\n",
       "    </tr>\n",
       "    <tr>\n",
       "      <th>4</th>\n",
       "      <td>howard</td>\n",
       "      <td>chemistry</td>\n",
       "    </tr>\n",
       "    <tr>\n",
       "      <th>5</th>\n",
       "      <td>howard</td>\n",
       "      <td>physics</td>\n",
       "    </tr>\n",
       "  </tbody>\n",
       "</table>\n",
       "</div>"
      ],
      "text/plain": [
       "      name             course\n",
       "0  abigail          chemistry\n",
       "1  abigail  operation systems\n",
       "2   jordan          chemistry\n",
       "3     gale  operation systems\n",
       "4   howard          chemistry\n",
       "5   howard            physics"
      ]
     },
     "execution_count": null,
     "metadata": {},
     "output_type": "execute_result"
    }
   ],
   "source": [
    "pd.read_csv('sample_data/example_students.csv',names=[\"name\",\"course\"])"
   ]
  },
  {
   "cell_type": "markdown",
   "metadata": {},
   "source": [
    "Import them to the session"
   ]
  },
  {
   "cell_type": "code",
   "execution_count": null,
   "metadata": {},
   "outputs": [],
   "source": [
    "session.import_rel(\"lecturer\",lecturer_df)\n",
    "session.import_rel(\"enrolled\",\"sample_data/enrolled.csv\",delim=\",\")"
   ]
  },
  {
   "cell_type": "markdown",
   "metadata": {},
   "source": [
    "They can even be documents"
   ]
  },
  {
   "cell_type": "code",
   "execution_count": null,
   "metadata": {},
   "outputs": [],
   "source": [
    "documents = pd.DataFrame([\n",
    "    [\"abigail is happy, but walter did not approve\"],\n",
    "    [\"howard is happy, gale is happy, but jordan is sad\"]\n",
    "])\n",
    "session.import_rel(\"documents\",documents)"
   ]
  },
  {
   "cell_type": "code",
   "execution_count": null,
   "metadata": {},
   "outputs": [
    {
     "data": {
      "text/plain": [
       "'?documents(X)'"
      ]
     },
     "metadata": {},
     "output_type": "display_data"
    },
    {
     "data": {
      "text/html": [
       "<style type=\"text/css\">\n",
       "#T_dec8a_row0_col0, #T_dec8a_row1_col0 {\n",
       "  overflow-wrap: break-word;\n",
       "  max-width: 800px;\n",
       "  text-align: left;\n",
       "}\n",
       "</style>\n",
       "<table id=\"T_dec8a\" class=\"display nowrap\"style=\"table-layout:auto;width:auto;margin:auto;caption-side:bottom\">\n",
       "  <thead>\n",
       "    <tr>\n",
       "      <th id=\"T_dec8a_level0_col0\" class=\"col_heading level0 col0\" >X</th>\n",
       "    </tr>\n",
       "  </thead>\n",
       "  <tbody>\n",
       "    <tr>\n",
       "      <td id=\"T_dec8a_row0_col0\" class=\"data row0 col0\" >abigail is happy, but walter did not approve</td>\n",
       "    </tr>\n",
       "    <tr>\n",
       "      <td id=\"T_dec8a_row1_col0\" class=\"data row1 col0\" >howard is happy, gale is happy, but jordan is sad</td>\n",
       "    </tr>\n",
       "  </tbody>\n",
       "</table>\n",
       "\n",
       "<link href=\"https://www.unpkg.com/dt_for_itables@2.0.11/dt_bundle.css\" rel=\"stylesheet\">\n",
       "<script type=\"module\">\n",
       "    import {DataTable, jQuery as $} from 'https://www.unpkg.com/dt_for_itables@2.0.11/dt_bundle.js';\n",
       "\n",
       "    document.querySelectorAll(\"#T_dec8a:not(.dataTable)\").forEach(table => {\n",
       "        // Define the table data\n",
       "        \n",
       "\n",
       "        // Define the dt_args\n",
       "        let dt_args = {\"columnDefs\": [{\"targets\": [\"X\"], \"render\": function(data, type, row) {\n",
       "                    return '<div style=\"white-space: normal; word-wrap: break-word;\">' + data + '</div>';\n",
       "                }, \"width\": \"300px\"}], \"escape\": true, \"layout\": {\"topStart\": null, \"topEnd\": null, \"bottomStart\": null, \"bottomEnd\": null}, \"display_logo_when_loading\": true, \"order\": []};\n",
       "        \n",
       "\n",
       "        \n",
       "        new DataTable(table, dt_args);\n",
       "    });\n",
       "</script>\n"
      ],
      "text/plain": [
       "<IPython.core.display.HTML object>"
      ]
     },
     "metadata": {},
     "output_type": "display_data"
    }
   ],
   "source": [
    "%%spannerlog\n",
    "?documents(X)"
   ]
  },
  {
   "cell_type": "markdown",
   "metadata": {},
   "source": [
    "Define your own IE functions to extract information from relations"
   ]
  },
  {
   "cell_type": "code",
   "execution_count": null,
   "metadata": {},
   "outputs": [],
   "source": [
    "# the function itself, writing it as a python generator makes your data processing lazy\n",
    "def get_happy(text):\n",
    "    \"\"\"\n",
    "    get the names of people who are happy in `text`\n",
    "    \"\"\"\n",
    "    import re\n",
    "\n",
    "    compiled_rgx = re.compile(\"(\\w+) is happy\")\n",
    "    num_groups = compiled_rgx.groups\n",
    "    for match in re.finditer(compiled_rgx, text):\n",
    "        if num_groups == 0:\n",
    "            matched_strings = [match.group()]\n",
    "        else:\n",
    "            matched_strings = [group for group in match.groups()]\n",
    "        yield matched_strings\n",
    "\n",
    "# register the ie function with the session\n",
    "session.register(\n",
    "    \"get_happy\", # name of the function\n",
    "    get_happy, # the function itself\n",
    "    [str], # input types\n",
    "    [str] # output types\n",
    ")"
   ]
  },
  {
   "cell_type": "markdown",
   "metadata": {},
   "source": [
    "rgxlog supports relations over the following primitive types\n",
    "* strings\n",
    "* spans\n",
    "* integers"
   ]
  },
  {
   "cell_type": "markdown",
   "metadata": {},
   "source": [
    "Write a rgxlog program (like datalog but you can use your own ie functions)"
   ]
  },
  {
   "cell_type": "code",
   "execution_count": null,
   "metadata": {},
   "outputs": [],
   "source": [
    "session.remove_all_rules()"
   ]
  },
  {
   "cell_type": "code",
   "execution_count": null,
   "metadata": {},
   "outputs": [],
   "source": [
    "%%spannerlog\n",
    "\n",
    "# you can also define data inline via a statically typed variant of datalog syntax\n",
    "new sad_lecturers(str)\n",
    "sad_lecturers(\"walter\")\n",
    "sad_lecturers(\"linus\")\n",
    "\n",
    "# and include primitive variable\n",
    "gpa_doc = \"abigail 100 jordan 80 gale 79 howard 60\"\n",
    "\n",
    "# define datalog rules\n",
    "enrolled_in_chemistry(X) <- enrolled(X, \"chemistry\").\n",
    "enrolled_in_physics_and_chemistry(X) <- enrolled_in_chemistry(X), enrolled(X, \"physics\").\n",
    "\n",
    "# and query them inline (to print to screen)\n",
    "# ?enrolled_in_chemistry(\"jordan\") # returns empty tuple ()\n",
    "# ?enrolled_in_chemistry(\"gale\") # returns nothing\n",
    "# ?enrolled_in_chemistry(X) # returns \"abigail\", \"jordan\" and \"howard\"\n",
    "# ?enrolled_in_physics_and_chemistry(X) # returns \"howard\"\n",
    "\n",
    "lecturer_of(X,Z) <- lecturer(X,Y), enrolled(Z,Y).\n",
    "\n",
    "# use ie functions in body clauses to extract structured data from unstructured data\n",
    "\n",
    "# standard ie functions like regex are already registered\n",
    "student_gpas(Student, Grade) <- \n",
    "    rgx(\"(\\w+).*?(\\d+)\",$gpa_doc)->(StudentSpan, GradeSpan),\n",
    "    as_str(StudentSpan)->(Student), as_str(GradeSpan)->(Grade).\n",
    "\n",
    "# and you can use your defined functions as well\n",
    "happy_students_with_sad_lecturers_and_their_gpas(Student, Grade, Lecturer) <-\n",
    "    documents(Doc),\n",
    "    get_happy(Doc)->(Student),\n",
    "    sad_lecturers(Lecturer),\n",
    "    lecturer_of(Lecturer,Student),\n",
    "    student_gpas(Student, Grade)."
   ]
  },
  {
   "cell_type": "markdown",
   "metadata": {},
   "source": [
    "And query it"
   ]
  },
  {
   "cell_type": "code",
   "execution_count": null,
   "metadata": {},
   "outputs": [
    {
     "data": {
      "text/plain": [
       "'?happy_students_with_sad_lecturers_and_their_gpas(Stu,Gpa,Lec)'"
      ]
     },
     "metadata": {},
     "output_type": "display_data"
    },
    {
     "data": {
      "text/html": [
       "<style type=\"text/css\">\n",
       "#T_d313a_row0_col0, #T_d313a_row0_col1, #T_d313a_row0_col2, #T_d313a_row1_col0, #T_d313a_row1_col1, #T_d313a_row1_col2, #T_d313a_row2_col0, #T_d313a_row2_col1, #T_d313a_row2_col2 {\n",
       "  overflow-wrap: break-word;\n",
       "  max-width: 800px;\n",
       "  text-align: left;\n",
       "}\n",
       "</style>\n",
       "<table id=\"T_d313a\" class=\"display nowrap\"style=\"table-layout:auto;width:auto;margin:auto;caption-side:bottom\">\n",
       "  <thead>\n",
       "    <tr>\n",
       "      <th id=\"T_d313a_level0_col0\" class=\"col_heading level0 col0\" >Stu</th>\n",
       "      <th id=\"T_d313a_level0_col1\" class=\"col_heading level0 col1\" >Gpa</th>\n",
       "      <th id=\"T_d313a_level0_col2\" class=\"col_heading level0 col2\" >Lec</th>\n",
       "    </tr>\n",
       "  </thead>\n",
       "  <tbody>\n",
       "    <tr>\n",
       "      <td id=\"T_d313a_row0_col0\" class=\"data row0 col0\" >abigail</td>\n",
       "      <td id=\"T_d313a_row0_col1\" class=\"data row0 col1\" >100</td>\n",
       "      <td id=\"T_d313a_row0_col2\" class=\"data row0 col2\" >linus</td>\n",
       "    </tr>\n",
       "    <tr>\n",
       "      <td id=\"T_d313a_row1_col0\" class=\"data row1 col0\" >gale</td>\n",
       "      <td id=\"T_d313a_row1_col1\" class=\"data row1 col1\" >79</td>\n",
       "      <td id=\"T_d313a_row1_col2\" class=\"data row1 col2\" >linus</td>\n",
       "    </tr>\n",
       "    <tr>\n",
       "      <td id=\"T_d313a_row2_col0\" class=\"data row2 col0\" >howard</td>\n",
       "      <td id=\"T_d313a_row2_col1\" class=\"data row2 col1\" >60</td>\n",
       "      <td id=\"T_d313a_row2_col2\" class=\"data row2 col2\" >walter</td>\n",
       "    </tr>\n",
       "  </tbody>\n",
       "</table>\n",
       "\n",
       "<link href=\"https://www.unpkg.com/dt_for_itables@2.0.11/dt_bundle.css\" rel=\"stylesheet\">\n",
       "<script type=\"module\">\n",
       "    import {DataTable, jQuery as $} from 'https://www.unpkg.com/dt_for_itables@2.0.11/dt_bundle.js';\n",
       "\n",
       "    document.querySelectorAll(\"#T_d313a:not(.dataTable)\").forEach(table => {\n",
       "        // Define the table data\n",
       "        \n",
       "\n",
       "        // Define the dt_args\n",
       "        let dt_args = {\"columnDefs\": [{\"targets\": [\"Stu\", \"Gpa\", \"Lec\"], \"render\": function(data, type, row) {\n",
       "                    return '<div style=\"white-space: normal; word-wrap: break-word;\">' + data + '</div>';\n",
       "                }, \"width\": \"300px\"}], \"escape\": true, \"layout\": {\"topStart\": null, \"topEnd\": null, \"bottomStart\": null, \"bottomEnd\": null}, \"display_logo_when_loading\": true, \"order\": []};\n",
       "        \n",
       "\n",
       "        \n",
       "        new DataTable(table, dt_args);\n",
       "    });\n",
       "</script>\n"
      ],
      "text/plain": [
       "<IPython.core.display.HTML object>"
      ]
     },
     "metadata": {},
     "output_type": "display_data"
    }
   ],
   "source": [
    "%%spannerlog\n",
    "?happy_students_with_sad_lecturers_and_their_gpas(Stu,Gpa,Lec)"
   ]
  },
  {
   "cell_type": "markdown",
   "metadata": {},
   "source": [
    "You can also get query results as Dataframes for downstream processing"
   ]
  },
  {
   "cell_type": "code",
   "execution_count": null,
   "metadata": {},
   "outputs": [
    {
     "data": {
      "text/html": [
       "<div>\n",
       "<style scoped>\n",
       "    .dataframe tbody tr th:only-of-type {\n",
       "        vertical-align: middle;\n",
       "    }\n",
       "\n",
       "    .dataframe tbody tr th {\n",
       "        vertical-align: top;\n",
       "    }\n",
       "\n",
       "    .dataframe thead th {\n",
       "        text-align: right;\n",
       "    }\n",
       "</style>\n",
       "<table border=\"1\" class=\"dataframe\">\n",
       "  <thead>\n",
       "    <tr style=\"text-align: right;\">\n",
       "      <th></th>\n",
       "      <th>Stu</th>\n",
       "      <th>Gpa</th>\n",
       "      <th>Lec</th>\n",
       "    </tr>\n",
       "  </thead>\n",
       "  <tbody>\n",
       "    <tr>\n",
       "      <th>0</th>\n",
       "      <td>abigail</td>\n",
       "      <td>100</td>\n",
       "      <td>linus</td>\n",
       "    </tr>\n",
       "    <tr>\n",
       "      <th>1</th>\n",
       "      <td>gale</td>\n",
       "      <td>79</td>\n",
       "      <td>linus</td>\n",
       "    </tr>\n",
       "    <tr>\n",
       "      <th>2</th>\n",
       "      <td>howard</td>\n",
       "      <td>60</td>\n",
       "      <td>walter</td>\n",
       "    </tr>\n",
       "  </tbody>\n",
       "</table>\n",
       "</div>"
      ],
      "text/plain": [
       "       Stu  Gpa     Lec\n",
       "0  abigail  100   linus\n",
       "1     gale   79   linus\n",
       "2   howard   60  walter"
      ]
     },
     "execution_count": null,
     "metadata": {},
     "output_type": "execute_result"
    }
   ],
   "source": [
    "df = session.export(\n",
    "    \"?happy_students_with_sad_lecturers_and_their_gpas(Stu,Gpa,Lec)\")\n",
    "df"
   ]
  },
  {
   "cell_type": "markdown",
   "metadata": {},
   "source": [
    "## Additional Resources\n",
    "### Relevant papers\n",
    "\n",
    "* [spannerlog](https://dl.acm.org/doi/10.1145/2932194.2932200)\n",
    "* [Recursive RGXLog](https://drops.dagstuhl.de/opus/volltexte/2019/10315/pdf/LIPIcs-ICDT-2019-13.pdf)\n"
   ]
  }
 ],
 "metadata": {
  "kernelspec": {
   "display_name": "python3",
   "language": "python",
   "name": "python3"
  }
 },
 "nbformat": 4,
 "nbformat_minor": 4
}
