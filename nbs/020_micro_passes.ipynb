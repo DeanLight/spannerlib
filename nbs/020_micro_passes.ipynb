{
 "cells": [
  {
   "cell_type": "markdown",
   "metadata": {},
   "source": [
    "# Micro Passes\n",
    "> passes over the AST of a statement to do semantic checks and register state in the session object"
   ]
  },
  {
   "cell_type": "code",
   "execution_count": null,
   "metadata": {},
   "outputs": [],
   "source": [
    "#| default_exp micro_passes"
   ]
  },
  {
   "cell_type": "code",
   "execution_count": null,
   "metadata": {},
   "outputs": [],
   "source": [
    "#| hide\n",
    "from nbdev.showdoc import show_doc\n",
    "\n",
    "%load_ext autoreload\n",
    "%autoreload 2"
   ]
  },
  {
   "cell_type": "code",
   "execution_count": null,
   "metadata": {},
   "outputs": [],
   "source": [
    "#| export\n",
    "import os\n",
    "import pytest\n",
    "from pathlib import Path\n",
    "from typing import no_type_check, Set, Sequence, Any,Optional,List,Callable,Dict,Union\n",
    "from pydantic import BaseModel\n",
    "import networkx as nx\n",
    "from deepdiff import DeepDiff\n",
    "from numbers import Real\n",
    "import logging\n",
    "logger = logging.getLogger(__name__)\n",
    "\n",
    "from graph_rewrite import draw, draw_match, rewrite, rewrite_iter\n",
    "from spannerlib.utils import (\n",
    "    checkLogs,serialize_df_values,serialize_tree,\n",
    "    schema_match,is_of_schema,type_merge,schema_merge\n",
    ")\n",
    "from spannerlib.grammar import parse_spannerlog\n",
    "from spannerlib.span import Span\n",
    "from spannerlib.engine import (\n",
    "    Engine,\n",
    "    Var,\n",
    "    FreeVar,\n",
    "    RelationDefinition,\n",
    "    Relation,\n",
    "    IEFunction,\n",
    "    AGGFunction,\n",
    "    IERelation,\n",
    "    Rule,\n",
    "    pretty,\n",
    "    )"
   ]
  },
  {
   "cell_type": "markdown",
   "metadata": {},
   "source": [
    "## Scaffolding"
   ]
  },
  {
   "cell_type": "code",
   "execution_count": null,
   "metadata": {},
   "outputs": [],
   "source": [
    "class DummySession():\n",
    "    def __init__(self,passes=None,execution_function=None):\n",
    "        if passes is None:\n",
    "            passes = []\n",
    "        self.passes = passes\n",
    "        self.engine=Engine()\n",
    "        self.should_execute = execution_function is not None\n",
    "        self.execution_function = execution_function\n",
    "\n",
    "    def run_query(self,query):\n",
    "        statements = parse_spannerlog(query,split_statements=True)\n",
    "        clean_asts = []\n",
    "        results = []\n",
    "        for statement_nx,statement_lark in statements:\n",
    "            ast = statement_nx\n",
    "            for pass_ in self.passes:\n",
    "                pass_(ast,self.engine)\n",
    "            clean_asts.append(ast)\n",
    "\n",
    "            if self.should_execute:\n",
    "                results.append(self.execution_function(ast,self.engine))\n",
    "        if self.should_execute:\n",
    "            return results\n",
    "        else:\n",
    "            return clean_asts\n",
    "\n",
    "    "
   ]
  },
  {
   "cell_type": "code",
   "execution_count": null,
   "metadata": {},
   "outputs": [],
   "source": [
    "def assert_asts(asts,expected=None):\n",
    "    if expected is None:\n",
    "        return [serialize_tree(ast) for ast in asts]\n",
    "    for i,(ast,expected_ast) in enumerate(zip(asts,expected)):\n",
    "        serialized = serialize_tree(ast)\n",
    "        assert serialized == expected_ast,(f\"AST {i} does not match expected\"\n",
    "            f\"\\nAST:\\n{serialized}\\nExpected:\\n{expected_ast}\\n\"\n",
    "            f\"Diff is:{DeepDiff(serialized,expected_ast)}\")\n",
    "            \n",
    "        "
   ]
  },
  {
   "cell_type": "code",
   "execution_count": null,
   "metadata": {},
   "outputs": [
    {
     "data": {
      "text/html": [
       "<img src=\"https://mermaid.ink/img/CmZsb3djaGFydCBUQgowWyIwCnR5cGU9I3F1b3Q7cmVsYXRpb25fZGVjbGFyYXRpb24jcXVvdDsiXQoxWyIxCnR5cGU9I3F1b3Q7cmVsYXRpb25fbmFtZSNxdW90OyJdCjJbIjIKdmFsPSNxdW90O3N0cmluZyNxdW90OyJdCjNbIjMKdHlwZT0jcXVvdDtkZWNsX3Rlcm1fbGlzdCNxdW90OyJdCjRbIjQKdmFsPSNxdW90O2RlY2xfc3RyaW5nI3F1b3Q7Il0KMCAtLT58ImlkeD0wInwgMQowIC0tPnwiaWR4PTEifCAzCjEgLS0+fCJpZHg9MCJ8IDIKMyAtLT58ImlkeD0wInwgNAo=\"/>"
      ],
      "text/plain": [
       "<IPython.core.display.Image object>"
      ]
     },
     "metadata": {},
     "output_type": "display_data"
    },
    {
     "data": {
      "text/html": [
       "<img src=\"https://mermaid.ink/img/CmZsb3djaGFydCBUQgowWyIwCnR5cGU9I3F1b3Q7YWRkX2ZhY3QjcXVvdDsiXQoxWyIxCnR5cGU9I3F1b3Q7cmVsYXRpb25fbmFtZSNxdW90OyJdCjJbIjIKdmFsPSNxdW90O3N0cmluZyNxdW90OyJdCjNbIjMKdHlwZT0jcXVvdDt0ZXJtX2xpc3QjcXVvdDsiXQo0WyI0CnR5cGU9I3F1b3Q7c3RyaW5nI3F1b3Q7Il0KNVsiNQp2YWw9I3F1b3Q7I3F1b3Q7YSNxdW90OyNxdW90OyJdCjAgLS0+fCJpZHg9MCJ8IDEKMCAtLT58ImlkeD0xInwgMwoxIC0tPnwiaWR4PTAifCAyCjMgLS0+fCJpZHg9MCJ8IDQKNCAtLT58ImlkeD0wInwgNQo=\"/>"
      ],
      "text/plain": [
       "<IPython.core.display.Image object>"
      ]
     },
     "metadata": {},
     "output_type": "display_data"
    },
    {
     "data": {
      "text/html": [
       "<img src=\"https://mermaid.ink/img/CmZsb3djaGFydCBUQgowWyIwCnR5cGU9I3F1b3Q7cnVsZSNxdW90OyJdCjFbIjEKdHlwZT0jcXVvdDtydWxlX2hlYWQjcXVvdDsiXQoyWyIyCnR5cGU9I3F1b3Q7cmVsYXRpb25fbmFtZSNxdW90OyJdCjNbIjMKdmFsPSNxdW90O3N0cmluZ19sZW5ndGgjcXVvdDsiXQo0WyI0CnR5cGU9I3F1b3Q7dGVybV9saXN0I3F1b3Q7Il0KNVsiNQp0eXBlPSNxdW90O2ZyZWVfdmFyX25hbWUjcXVvdDsiXQo2WyI2CnZhbD0jcXVvdDtTdHIjcXVvdDsiXQo3WyI3CnR5cGU9I3F1b3Q7ZnJlZV92YXJfbmFtZSNxdW90OyJdCjhbIjgKdmFsPSNxdW90O0xlbiNxdW90OyJdCjlbIjkKdHlwZT0jcXVvdDtydWxlX2JvZHlfcmVsYXRpb25fbGlzdCNxdW90OyJdCjEwWyIxMAp0eXBlPSNxdW90O3JlbGF0aW9uI3F1b3Q7Il0KMTFbIjExCnR5cGU9I3F1b3Q7cmVsYXRpb25fbmFtZSNxdW90OyJdCjEyWyIxMgp2YWw9I3F1b3Q7c3RyaW5nI3F1b3Q7Il0KMTNbIjEzCnR5cGU9I3F1b3Q7dGVybV9saXN0I3F1b3Q7Il0KMTRbIjE0CnR5cGU9I3F1b3Q7ZnJlZV92YXJfbmFtZSNxdW90OyJdCjE1WyIxNQp2YWw9I3F1b3Q7U3RyI3F1b3Q7Il0KMTZbIjE2CnR5cGU9I3F1b3Q7aWVfcmVsYXRpb24jcXVvdDsiXQoxN1siMTcKdHlwZT0jcXVvdDtyZWxhdGlvbl9uYW1lI3F1b3Q7Il0KMThbIjE4CnZhbD0jcXVvdDtMZW5ndGgjcXVvdDsiXQoxOVsiMTkKdHlwZT0jcXVvdDt0ZXJtX2xpc3QjcXVvdDsiXQoyMFsiMjAKdHlwZT0jcXVvdDtmcmVlX3Zhcl9uYW1lI3F1b3Q7Il0KMjFbIjIxCnZhbD0jcXVvdDtTdHIjcXVvdDsiXQoyMlsiMjIKdHlwZT0jcXVvdDt0ZXJtX2xpc3QjcXVvdDsiXQoyM1siMjMKdHlwZT0jcXVvdDtmcmVlX3Zhcl9uYW1lI3F1b3Q7Il0KMjRbIjI0CnZhbD0jcXVvdDtMZW4jcXVvdDsiXQowIC0tPnwiaWR4PTAifCAxCjAgLS0+fCJpZHg9MSJ8IDkKMSAtLT58ImlkeD0wInwgMgoxIC0tPnwiaWR4PTEifCA0CjIgLS0+fCJpZHg9MCJ8IDMKNCAtLT58ImlkeD0wInwgNQo0IC0tPnwiaWR4PTEifCA3CjUgLS0+fCJpZHg9MCJ8IDYKNyAtLT58ImlkeD0wInwgOAo5IC0tPnwiaWR4PTAifCAxMAo5IC0tPnwiaWR4PTEifCAxNgoxMCAtLT58ImlkeD0wInwgMTEKMTAgLS0+fCJpZHg9MSJ8IDEzCjExIC0tPnwiaWR4PTAifCAxMgoxMyAtLT58ImlkeD0wInwgMTQKMTQgLS0+fCJpZHg9MCJ8IDE1CjE2IC0tPnwiaWR4PTAifCAxNwoxNiAtLT58ImlkeD0xInwgMTkKMTYgLS0+fCJpZHg9MiJ8IDIyCjE3IC0tPnwiaWR4PTAifCAxOAoxOSAtLT58ImlkeD0wInwgMjAKMjAgLS0+fCJpZHg9MCJ8IDIxCjIyIC0tPnwiaWR4PTAifCAyMwoyMyAtLT58ImlkeD0wInwgMjQK\"/>"
      ],
      "text/plain": [
       "<IPython.core.display.Image object>"
      ]
     },
     "metadata": {},
     "output_type": "display_data"
    }
   ],
   "source": [
    "\n",
    "sess = DummySession()\n",
    "asts = sess.run_query(\"\"\"\n",
    "            new string(str)\n",
    "            string(\"a\")\n",
    "            string_length(Str, Len) <- string(Str), Length(Str) -> (Len)\n",
    "            \"\"\")\n",
    "for ast in asts:\n",
    "    draw(ast)"
   ]
  },
  {
   "cell_type": "markdown",
   "metadata": {},
   "source": [
    "# Semantic Checks"
   ]
  },
  {
   "cell_type": "markdown",
   "metadata": {},
   "source": [
    "## convert_primitive_values_to_objects"
   ]
  },
  {
   "cell_type": "code",
   "execution_count": null,
   "metadata": {},
   "outputs": [
    {
     "data": {
      "text/plain": [
       "True"
      ]
     },
     "execution_count": null,
     "metadata": {},
     "output_type": "execute_result"
    }
   ],
   "source": [
    "bool('False')"
   ]
  },
  {
   "cell_type": "code",
   "execution_count": null,
   "metadata": {},
   "outputs": [],
   "source": [
    "#| export\n",
    "def convert_primitive_values_to_objects(ast,session):\n",
    "\n",
    "    # primitive values\n",
    "    def cast_new_value(match):\n",
    "        val_type = match['var']['type']\n",
    "        value = match['val_node']['val']\n",
    "        match val_type:\n",
    "            case 'var_name':\n",
    "                value = Var(name=value)\n",
    "            case 'free_var_name':\n",
    "                value = FreeVar(name=value)\n",
    "            case 'string':\n",
    "                # remove the quotes\n",
    "                value = str(value)[1:-1]\n",
    "            case 'int':\n",
    "                value = int(value)\n",
    "            case 'int_neg':\n",
    "                value = -int(value)\n",
    "            case 'float':\n",
    "                value = float(value)\n",
    "            case 'float_neg':\n",
    "                value = -float(value)\n",
    "            case 'bool':\n",
    "                value = True if value == 'True' else False\n",
    "            case _:\n",
    "                return value\n",
    "        return value\n",
    "    \n",
    "    primitive_node_types = [\n",
    "        'string','int','int_neg',\n",
    "        'float','float_neg',\"bool\",\n",
    "        'var_name','relation_name',\n",
    "        'free_var_name','agg_name'\n",
    "    ]\n",
    "    #TODO FROM HERE\n",
    "    rewrite(ast,\n",
    "        lhs='var[type]->val_node[val]',\n",
    "        p='var[type]',\n",
    "        rhs='var[type,val={{new_val}}]',\n",
    "        condition= lambda match: match['var']['type'] in primitive_node_types,\n",
    "        render_rhs={'new_val': cast_new_value},\n",
    "        # display_matches=True\n",
    "        )\n",
    "\n",
    "\n",
    "    # schema types into class types\n",
    "    decl_type_to_class = {\n",
    "        'decl_string':str,\n",
    "        'decl_int':int,\n",
    "        'decl_float':float,\n",
    "        'decl_bool':bool,\n",
    "    }\n",
    "\n",
    "    for decl_type,decl_class in decl_type_to_class.items():\n",
    "        for match in rewrite_iter(ast,lhs=f'x[val=\"{decl_type}\"]'):\n",
    "            match['x']['val']=decl_class\n"
   ]
  },
  {
   "cell_type": "code",
   "execution_count": null,
   "metadata": {},
   "outputs": [
    {
     "data": {
      "text/html": [
       "<img src=\"https://mermaid.ink/img/CmZsb3djaGFydCBUQgowWyIwCnR5cGU9I3F1b3Q7YXNzaWdubWVudCNxdW90OyJdCjFbIjEKdHlwZT0jcXVvdDt2YXJfbmFtZSNxdW90OywgdmFsPVZhcihuYW1lPSNxdW90O3gjcXVvdDspIl0KM1siMwp0eXBlPSNxdW90O3N0cmluZyNxdW90OywgdmFsPSNxdW90O2EjcXVvdDsiXQowIC0tPnwiaWR4PTAifCAxCjAgLS0+fCJpZHg9MSJ8IDMK\"/>"
      ],
      "text/plain": [
       "<IPython.core.display.Image object>"
      ]
     },
     "metadata": {},
     "output_type": "display_data"
    },
    {
     "data": {
      "text/html": [
       "<img src=\"https://mermaid.ink/img/CmZsb3djaGFydCBUQgowWyIwCnR5cGU9I3F1b3Q7YXNzaWdubWVudCNxdW90OyJdCjFbIjEKdHlwZT0jcXVvdDt2YXJfbmFtZSNxdW90OywgdmFsPVZhcihuYW1lPSNxdW90O3gjcXVvdDspIl0KM1siMwp0eXBlPSNxdW90O2Jvb2wjcXVvdDssIHZhbD1UcnVlIl0KMCAtLT58ImlkeD0wInwgMQowIC0tPnwiaWR4PTEifCAzCg==\"/>"
      ],
      "text/plain": [
       "<IPython.core.display.Image object>"
      ]
     },
     "metadata": {},
     "output_type": "display_data"
    },
    {
     "data": {
      "text/html": [
       "<img src=\"https://mermaid.ink/img/CmZsb3djaGFydCBUQgowWyIwCnR5cGU9I3F1b3Q7YXNzaWdubWVudCNxdW90OyJdCjFbIjEKdHlwZT0jcXVvdDt2YXJfbmFtZSNxdW90OywgdmFsPVZhcihuYW1lPSNxdW90O3gjcXVvdDspIl0KM1siMwp0eXBlPSNxdW90O2Jvb2wjcXVvdDssIHZhbD1GYWxzZSJdCjAgLS0+fCJpZHg9MCJ8IDEKMCAtLT58ImlkeD0xInwgMwo=\"/>"
      ],
      "text/plain": [
       "<IPython.core.display.Image object>"
      ]
     },
     "metadata": {},
     "output_type": "display_data"
    },
    {
     "data": {
      "text/html": [
       "<img src=\"https://mermaid.ink/img/CmZsb3djaGFydCBUQgowWyIwCnR5cGU9I3F1b3Q7YXNzaWdubWVudCNxdW90OyJdCjFbIjEKdHlwZT0jcXVvdDt2YXJfbmFtZSNxdW90OywgdmFsPVZhcihuYW1lPSNxdW90O3gjcXVvdDspIl0KM1siMwp0eXBlPSNxdW90O2Zsb2F0I3F1b3Q7LCB2YWw9MS4zIl0KMCAtLT58ImlkeD0wInwgMQowIC0tPnwiaWR4PTEifCAzCg==\"/>"
      ],
      "text/plain": [
       "<IPython.core.display.Image object>"
      ]
     },
     "metadata": {},
     "output_type": "display_data"
    },
    {
     "data": {
      "text/html": [
       "<img src=\"https://mermaid.ink/img/CmZsb3djaGFydCBUQgowWyIwCnR5cGU9I3F1b3Q7YXNzaWdubWVudCNxdW90OyJdCjFbIjEKdHlwZT0jcXVvdDt2YXJfbmFtZSNxdW90OywgdmFsPVZhcihuYW1lPSNxdW90O3gjcXVvdDspIl0KM1siMwp0eXBlPSNxdW90O2Zsb2F0X25lZyNxdW90OywgdmFsPS0zLjUiXQowIC0tPnwiaWR4PTAifCAxCjAgLS0+fCJpZHg9MSJ8IDMK\"/>"
      ],
      "text/plain": [
       "<IPython.core.display.Image object>"
      ]
     },
     "metadata": {},
     "output_type": "display_data"
    },
    {
     "data": {
      "text/html": [
       "<img src=\"https://mermaid.ink/img/CmZsb3djaGFydCBUQgowWyIwCnR5cGU9I3F1b3Q7YXNzaWdubWVudCNxdW90OyJdCjFbIjEKdHlwZT0jcXVvdDt2YXJfbmFtZSNxdW90OywgdmFsPVZhcihuYW1lPSNxdW90O3gjcXVvdDspIl0KM1siMwp0eXBlPSNxdW90O2ludCNxdW90OywgdmFsPTEiXQowIC0tPnwiaWR4PTAifCAxCjAgLS0+fCJpZHg9MSJ8IDMK\"/>"
      ],
      "text/plain": [
       "<IPython.core.display.Image object>"
      ]
     },
     "metadata": {},
     "output_type": "display_data"
    },
    {
     "data": {
      "text/html": [
       "<img src=\"https://mermaid.ink/img/CmZsb3djaGFydCBUQgowWyIwCnR5cGU9I3F1b3Q7YXNzaWdubWVudCNxdW90OyJdCjFbIjEKdHlwZT0jcXVvdDt2YXJfbmFtZSNxdW90OywgdmFsPVZhcihuYW1lPSNxdW90O3gjcXVvdDspIl0KM1siMwp0eXBlPSNxdW90O2ludF9uZWcjcXVvdDssIHZhbD0tMiJdCjAgLS0+fCJpZHg9MCJ8IDEKMCAtLT58ImlkeD0xInwgMwo=\"/>"
      ],
      "text/plain": [
       "<IPython.core.display.Image object>"
      ]
     },
     "metadata": {},
     "output_type": "display_data"
    },
    {
     "data": {
      "text/html": [
       "<img src=\"https://mermaid.ink/img/CmZsb3djaGFydCBUQgowWyIwCnR5cGU9I3F1b3Q7YXNzaWdubWVudCNxdW90OyJdCjFbIjEKdHlwZT0jcXVvdDt2YXJfbmFtZSNxdW90OywgdmFsPVZhcihuYW1lPSNxdW90O3gjcXVvdDspIl0KM1siMwp0eXBlPSNxdW90O3Zhcl9uYW1lI3F1b3Q7LCB2YWw9VmFyKG5hbWU9I3F1b3Q7eSNxdW90OykiXQowIC0tPnwiaWR4PTAifCAxCjAgLS0+fCJpZHg9MSJ8IDMK\"/>"
      ],
      "text/plain": [
       "<IPython.core.display.Image object>"
      ]
     },
     "metadata": {},
     "output_type": "display_data"
    },
    {
     "data": {
      "text/html": [
       "<img src=\"https://mermaid.ink/img/CmZsb3djaGFydCBUQgowWyIwCnR5cGU9I3F1b3Q7YXNzaWdubWVudCNxdW90OyJdCjFbIjEKdHlwZT0jcXVvdDt2YXJfbmFtZSNxdW90OywgdmFsPVZhcihuYW1lPSNxdW90O3gjcXVvdDspIl0KM1siMwp0eXBlPSNxdW90O3N0cmluZyNxdW90OywgdmFsPSNxdW90O2hlbGxvIHdvcmxkI3F1b3Q7Il0KMCAtLT58ImlkeD0wInwgMQowIC0tPnwiaWR4PTEifCAzCg==\"/>"
      ],
      "text/plain": [
       "<IPython.core.display.Image object>"
      ]
     },
     "metadata": {},
     "output_type": "display_data"
    }
   ],
   "source": [
    "sess = DummySession(passes=[\n",
    "  convert_primitive_values_to_objects\n",
    "  ])\n",
    "asts = sess.run_query(\"\"\"\n",
    "x=\"a\"\n",
    "x=True\n",
    "x=False\n",
    "x=1.3\n",
    "x=-3.5\n",
    "x=1\n",
    "x=-2\n",
    "x=y\n",
    "x= \"hello \\\n",
    "world\"\n",
    "            \"\"\")\n",
    "for ast in asts:\n",
    "    draw(ast)\n",
    "\n"
   ]
  },
  {
   "cell_type": "code",
   "execution_count": null,
   "metadata": {},
   "outputs": [
    {
     "data": {
      "text/html": [
       "<img src=\"https://mermaid.ink/img/CmZsb3djaGFydCBUQgowWyIwCnR5cGU9I3F1b3Q7YXNzaWdubWVudCNxdW90OyJdCjFbIjEKdHlwZT0jcXVvdDt2YXJfbmFtZSNxdW90OywgdmFsPVZhcihuYW1lPSNxdW90O3gjcXVvdDspIl0KM1siMwp0eXBlPSNxdW90O2ludCNxdW90OywgdmFsPTEiXQowIC0tPnwiaWR4PTAifCAxCjAgLS0+fCJpZHg9MSJ8IDMK\"/>"
      ],
      "text/plain": [
       "<IPython.core.display.Image object>"
      ]
     },
     "metadata": {},
     "output_type": "display_data"
    },
    {
     "data": {
      "text/html": [
       "<img src=\"https://mermaid.ink/img/CmZsb3djaGFydCBUQgowWyIwCnR5cGU9I3F1b3Q7YWRkX2ZhY3QjcXVvdDsiXQoxWyIxCnR5cGU9I3F1b3Q7cmVsYXRpb25fbmFtZSNxdW90OywgdmFsPSNxdW90O1MjcXVvdDsiXQozWyIzCnR5cGU9I3F1b3Q7dGVybV9saXN0I3F1b3Q7Il0KNFsiNAp0eXBlPSNxdW90O3N0cmluZyNxdW90OywgdmFsPSNxdW90O2EjcXVvdDsiXQo2WyI2CnR5cGU9I3F1b3Q7aW50I3F1b3Q7LCB2YWw9MSJdCjhbIjgKdHlwZT0jcXVvdDtpbnQjcXVvdDssIHZhbD0yIl0KMCAtLT58ImlkeD0wInwgMQowIC0tPnwiaWR4PTEifCAzCjMgLS0+fCJpZHg9MCJ8IDQKMyAtLT58ImlkeD0xInwgNgozIC0tPnwiaWR4PTIifCA4Cg==\"/>"
      ],
      "text/plain": [
       "<IPython.core.display.Image object>"
      ]
     },
     "metadata": {},
     "output_type": "display_data"
    },
    {
     "data": {
      "text/html": [
       "<img src=\"https://mermaid.ink/img/CmZsb3djaGFydCBUQgowWyIwCnR5cGU9I3F1b3Q7cmVsYXRpb25fZGVjbGFyYXRpb24jcXVvdDsiXQoxWyIxCnR5cGU9I3F1b3Q7cmVsYXRpb25fbmFtZSNxdW90OywgdmFsPSNxdW90O1IjcXVvdDsiXQozWyIzCnR5cGU9I3F1b3Q7ZGVjbF90ZXJtX2xpc3QjcXVvdDsiXQo0WyI0CnZhbD0jbHQ7Y2xhc3MgI3F1b3Q7aW50I3F1b3Q7I2d0OyJdCjVbIjUKdmFsPSNsdDtjbGFzcyAjcXVvdDtzdHIjcXVvdDsjZ3Q7Il0KMCAtLT58ImlkeD0wInwgMQowIC0tPnwiaWR4PTEifCAzCjMgLS0+fCJpZHg9MCJ8IDQKMyAtLT58ImlkeD0xInwgNQo=\"/>"
      ],
      "text/plain": [
       "<IPython.core.display.Image object>"
      ]
     },
     "metadata": {},
     "output_type": "display_data"
    },
    {
     "data": {
      "text/html": [
       "<img src=\"https://mermaid.ink/img/CmZsb3djaGFydCBUQgowWyIwCnR5cGU9I3F1b3Q7cXVlcnkjcXVvdDsiXQoxWyIxCnR5cGU9I3F1b3Q7cmVsYXRpb25fbmFtZSNxdW90OywgdmFsPSNxdW90O1IjcXVvdDsiXQozWyIzCnR5cGU9I3F1b3Q7dGVybV9saXN0I3F1b3Q7Il0KNFsiNAp0eXBlPSNxdW90O3Zhcl9uYW1lI3F1b3Q7LCB2YWw9VmFyKG5hbWU9I3F1b3Q7eCNxdW90OykiXQo2WyI2CnR5cGU9I3F1b3Q7ZnJlZV92YXJfbmFtZSNxdW90OywgdmFsPUZyZWVWYXIobmFtZT0jcXVvdDtYI3F1b3Q7KSJdCjAgLS0+fCJpZHg9MCJ8IDEKMCAtLT58ImlkeD0xInwgMwozIC0tPnwiaWR4PTAifCA0CjMgLS0+fCJpZHg9MSJ8IDYK\"/>"
      ],
      "text/plain": [
       "<IPython.core.display.Image object>"
      ]
     },
     "metadata": {},
     "output_type": "display_data"
    },
    {
     "data": {
      "text/html": [
       "<img src=\"https://mermaid.ink/img/CmZsb3djaGFydCBUQgowWyIwCnR5cGU9I3F1b3Q7cnVsZSNxdW90OyJdCjFbIjEKdHlwZT0jcXVvdDtydWxlX2hlYWQjcXVvdDsiXQoyWyIyCnR5cGU9I3F1b3Q7cmVsYXRpb25fbmFtZSNxdW90OywgdmFsPSNxdW90O1IjcXVvdDsiXQo0WyI0CnR5cGU9I3F1b3Q7dGVybV9saXN0I3F1b3Q7Il0KNVsiNQp0eXBlPSNxdW90O2ZyZWVfdmFyX25hbWUjcXVvdDssIHZhbD1GcmVlVmFyKG5hbWU9I3F1b3Q7WCNxdW90OykiXQo3WyI3CnR5cGU9I3F1b3Q7YWdncmVnYXRlZF9mcmVlX3ZhciNxdW90OyJdCjhbIjgKdHlwZT0jcXVvdDthZ2dfbmFtZSNxdW90OywgdmFsPSNxdW90O3N1bSNxdW90OyJdCjEwWyIxMAp0eXBlPSNxdW90O2ZyZWVfdmFyX25hbWUjcXVvdDssIHZhbD1GcmVlVmFyKG5hbWU9I3F1b3Q7WSNxdW90OykiXQoxMlsiMTIKdHlwZT0jcXVvdDtydWxlX2JvZHlfcmVsYXRpb25fbGlzdCNxdW90OyJdCjEzWyIxMwp0eXBlPSNxdW90O3JlbGF0aW9uI3F1b3Q7Il0KMTRbIjE0CnR5cGU9I3F1b3Q7cmVsYXRpb25fbmFtZSNxdW90OywgdmFsPSNxdW90O1MjcXVvdDsiXQoxNlsiMTYKdHlwZT0jcXVvdDt0ZXJtX2xpc3QjcXVvdDsiXQoxN1siMTcKdHlwZT0jcXVvdDtmcmVlX3Zhcl9uYW1lI3F1b3Q7LCB2YWw9RnJlZVZhcihuYW1lPSNxdW90O1gjcXVvdDspIl0KMTlbIjE5CnR5cGU9I3F1b3Q7ZnJlZV92YXJfbmFtZSNxdW90OywgdmFsPUZyZWVWYXIobmFtZT0jcXVvdDtZI3F1b3Q7KSJdCjAgLS0+fCJpZHg9MCJ8IDEKMCAtLT58ImlkeD0xInwgMTIKMSAtLT58ImlkeD0wInwgMgoxIC0tPnwiaWR4PTEifCA0CjQgLS0+fCJpZHg9MCJ8IDUKNCAtLT58ImlkeD0xInwgNwo3IC0tPnwiaWR4PTAifCA4CjcgLS0+fCJpZHg9MSJ8IDEwCjEyIC0tPnwiaWR4PTAifCAxMwoxMyAtLT58ImlkeD0wInwgMTQKMTMgLS0+fCJpZHg9MSJ8IDE2CjE2IC0tPnwiaWR4PTAifCAxNwoxNiAtLT58ImlkeD0xInwgMTkK\"/>"
      ],
      "text/plain": [
       "<IPython.core.display.Image object>"
      ]
     },
     "metadata": {},
     "output_type": "display_data"
    }
   ],
   "source": [
    "sess = DummySession(passes=[convert_primitive_values_to_objects])\n",
    "asts = sess.run_query(\"\"\"\n",
    "            x=1\n",
    "            S(\"a\",1,2)\n",
    "            new R(int,str)\n",
    "            ?R($x,X)\n",
    "            R(X,sum(Y))<-S(X,Y)\n",
    "            \"\"\")\n",
    "for ast in asts:\n",
    "    draw(ast)\n",
    "\n",
    "assert_asts(asts,[{'type': 'assignment',\n",
    "  'id': 0,\n",
    "  'children': [{'type': 'var_name', 'val': Var(name='x'), 'id': 1},\n",
    "   {'type': 'int', 'val': 1, 'id': 3}]},\n",
    " {'type': 'add_fact',\n",
    "  'id': 0,\n",
    "  'children': [{'type': 'relation_name', 'val': 'S', 'id': 1},\n",
    "   {'type': 'term_list',\n",
    "    'id': 3,\n",
    "    'children': [{'type': 'string', 'val': 'a', 'id': 4},\n",
    "     {'type': 'int', 'val': 1, 'id': 6},\n",
    "     {'type': 'int', 'val': 2, 'id': 8}]}]},\n",
    " {'type': 'relation_declaration',\n",
    "  'id': 0,\n",
    "  'children': [{'type': 'relation_name', 'val': 'R', 'id': 1},\n",
    "   {'type': 'decl_term_list',\n",
    "    'id': 3,\n",
    "    'children': [{'val': int, 'id': 4}, {'val': str, 'id': 5}]}]},\n",
    " {'type': 'query',\n",
    "  'id': 0,\n",
    "  'children': [{'type': 'relation_name', 'val': 'R', 'id': 1},\n",
    "   {'type': 'term_list',\n",
    "    'id': 3,\n",
    "    'children': [{'type': 'var_name', 'val': Var(name='x'), 'id': 4},\n",
    "     {'type': 'free_var_name', 'val': FreeVar(name='X'), 'id': 6}]}]},\n",
    " {'type': 'rule',\n",
    "  'id': 0,\n",
    "  'children': [{'type': 'rule_head',\n",
    "    'id': 1,\n",
    "    'children': [{'type': 'relation_name', 'val': 'R', 'id': 2},\n",
    "     {'type': 'term_list',\n",
    "      'id': 4,\n",
    "      'children': [{'type': 'free_var_name',\n",
    "        'val': FreeVar(name='X'),\n",
    "        'id': 5},\n",
    "       {'type': 'aggregated_free_var',\n",
    "        'id': 7,\n",
    "        'children': [{'type': 'agg_name', 'val': 'sum', 'id': 8},\n",
    "         {'type': 'free_var_name', 'val': FreeVar(name='Y'), 'id': 10}]}]}]},\n",
    "   {'type': 'rule_body_relation_list',\n",
    "    'id': 12,\n",
    "    'children': [{'type': 'relation',\n",
    "      'id': 13,\n",
    "      'children': [{'type': 'relation_name', 'val': 'S', 'id': 14},\n",
    "       {'type': 'term_list',\n",
    "        'id': 16,\n",
    "        'children': [{'type': 'free_var_name',\n",
    "          'val': FreeVar(name='X'),\n",
    "          'id': 17},\n",
    "         {'type': 'free_var_name', 'val': FreeVar(name='Y'), 'id': 19}]}]}]}]}])\n"
   ]
  },
  {
   "cell_type": "markdown",
   "metadata": {},
   "source": [
    "## Check reserved relation names"
   ]
  },
  {
   "cell_type": "code",
   "execution_count": null,
   "metadata": {},
   "outputs": [],
   "source": [
    "#| export\n",
    "class CheckReservedRelationNames():\n",
    "    def __init__(self,reserved_prefix):\n",
    "        self.reserved_prefix = reserved_prefix\n",
    "    def __call__(self,ast,engine):\n",
    "        for match in rewrite_iter(ast,lhs='X[type=\"relation_name\",val]'):\n",
    "            relation_name = match['X']['val']\n",
    "            if relation_name.startswith(self.reserved_prefix):\n",
    "                raise ValueError(f\"Relation name '{relation_name}' starts with reserved prefix '{self.reserved_prefix}'\")"
   ]
  },
  {
   "cell_type": "code",
   "execution_count": null,
   "metadata": {},
   "outputs": [
    {
     "name": "stdout",
     "output_type": "stream",
     "text": [
      "Relation name 'spanner_S' starts with reserved prefix 'spanner_'\n"
     ]
    }
   ],
   "source": [
    "sess = DummySession(passes=[\n",
    "    convert_primitive_values_to_objects,\n",
    "    # remove_new_lines_from_strings,\n",
    "    CheckReservedRelationNames('spanner_'),\n",
    "    ])\n",
    "asts = sess.run_query(\"\"\"\n",
    "            S(\"a\",1)\n",
    "            R(X,Y)<-S(X,Y),T(X,Y)\n",
    "            \"\"\")\n",
    "\n",
    "with pytest.raises(ValueError) as exc_info:\n",
    "    asts = sess.run_query(\"\"\"\n",
    "            spanner_S(\"a\",1)\n",
    "            \"\"\")\n",
    "print(exc_info.value)\n"
   ]
  },
  {
   "cell_type": "code",
   "execution_count": null,
   "metadata": {},
   "outputs": [
    {
     "data": {
      "text/html": [
       "<img src=\"https://mermaid.ink/img/CmZsb3djaGFydCBUQgowWyIwCnR5cGU9I3F1b3Q7YWRkX2ZhY3QjcXVvdDsiXQoxWyIxCnR5cGU9I3F1b3Q7cmVsYXRpb25fbmFtZSNxdW90OywgdmFsPSNxdW90O1MjcXVvdDsiXQozWyIzCnR5cGU9I3F1b3Q7dGVybV9saXN0I3F1b3Q7Il0KNFsiNAp0eXBlPSNxdW90O3N0cmluZyNxdW90OywgdmFsPSNxdW90O2EjcXVvdDsiXQo2WyI2CnR5cGU9I3F1b3Q7aW50I3F1b3Q7LCB2YWw9MSJdCjAgLS0+fCJpZHg9MCJ8IDEKMCAtLT58ImlkeD0xInwgMwozIC0tPnwiaWR4PTAifCA0CjMgLS0+fCJpZHg9MSJ8IDYK\"/>"
      ],
      "text/plain": [
       "<IPython.core.display.Image object>"
      ]
     },
     "metadata": {},
     "output_type": "display_data"
    }
   ],
   "source": [
    "draw(asts[0])"
   ]
  },
  {
   "cell_type": "markdown",
   "metadata": {},
   "source": [
    "## derefrence vars"
   ]
  },
  {
   "cell_type": "code",
   "execution_count": null,
   "metadata": {},
   "outputs": [],
   "source": [
    "#| export\n",
    "def dereference_vars(ast,engine):\n",
    "\n",
    "    # first rename all left hand sign variables \n",
    "    # as type \"var_name_lhs\"\n",
    "    # so we can seperate them from reference variables\n",
    "    for assignment_type in [\"assignment\",\"read_assignment\"]:\n",
    "        for match in rewrite_iter(ast,\n",
    "                lhs=f\"\"\"X[type=\"{assignment_type}\"]-[idx=0]->LHS[type=\"var_name\",val]\"\"\"\n",
    "                ):\n",
    "            match['LHS']['type'] = \"var_name_lhs\"\n",
    "\n",
    "    # now for each reference variable check if it is in the symbol table and replace it with the value\n",
    "    for match in rewrite_iter(ast,lhs=f\"\"\"X[type=\"var_name\",val]\"\"\"):\n",
    "        var_name = match['X']['val'].name\n",
    "        if not engine.get_var(var_name):\n",
    "            raise ValueError(f'Variable {var_name} is not defined')\n",
    "        var_type,var_value = engine.get_var(var_name)\n",
    "        match['X']['type'] = var_type\n",
    "        match['X']['val'] = var_value\n"
   ]
  },
  {
   "cell_type": "code",
   "execution_count": null,
   "metadata": {},
   "outputs": [
    {
     "data": {
      "text/html": [
       "<img src=\"https://mermaid.ink/img/CmZsb3djaGFydCBUQgowWyIwCnR5cGU9I3F1b3Q7YXNzaWdubWVudCNxdW90OyJdCjFbIjEKdHlwZT0jcXVvdDt2YXJfbmFtZV9saHMjcXVvdDssIHZhbD1WYXIobmFtZT0jcXVvdDt6I3F1b3Q7KSJdCjNbIjMKdHlwZT0jcXVvdDtpbnQjcXVvdDssIHZhbD0xIl0KMCAtLT58ImlkeD0wInwgMQowIC0tPnwiaWR4PTEifCAzCg==\"/>"
      ],
      "text/plain": [
       "<IPython.core.display.Image object>"
      ]
     },
     "metadata": {},
     "output_type": "display_data"
    },
    {
     "data": {
      "text/html": [
       "<img src=\"https://mermaid.ink/img/CmZsb3djaGFydCBUQgowWyIwCnR5cGU9I3F1b3Q7YXNzaWdubWVudCNxdW90OyJdCjFbIjEKdHlwZT0jcXVvdDt2YXJfbmFtZV9saHMjcXVvdDssIHZhbD1WYXIobmFtZT0jcXVvdDt4I3F1b3Q7KSJdCjNbIjMKdHlwZT0jbHQ7Y2xhc3MgI3F1b3Q7aW50I3F1b3Q7I2d0OywgdmFsPTEiXQowIC0tPnwiaWR4PTAifCAxCjAgLS0+fCJpZHg9MSJ8IDMK\"/>"
      ],
      "text/plain": [
       "<IPython.core.display.Image object>"
      ]
     },
     "metadata": {},
     "output_type": "display_data"
    },
    {
     "data": {
      "text/html": [
       "<img src=\"https://mermaid.ink/img/CmZsb3djaGFydCBUQgowWyIwCnR5cGU9I3F1b3Q7YWRkX2ZhY3QjcXVvdDsiXQoxWyIxCnR5cGU9I3F1b3Q7cmVsYXRpb25fbmFtZSNxdW90OywgdmFsPSNxdW90O1IjcXVvdDsiXQozWyIzCnR5cGU9I3F1b3Q7dGVybV9saXN0I3F1b3Q7Il0KNFsiNAp0eXBlPSNsdDtjbGFzcyAjcXVvdDtzdHIjcXVvdDsjZ3Q7LCB2YWw9I3F1b3Q7aGVsbG8jcXVvdDsiXQo2WyI2CnR5cGU9I2x0O2NsYXNzICNxdW90O2ludCNxdW90OyNndDssIHZhbD0xIl0KMCAtLT58ImlkeD0wInwgMQowIC0tPnwiaWR4PTEifCAzCjMgLS0+fCJpZHg9MCJ8IDQKMyAtLT58ImlkeD0xInwgNgo=\"/>"
      ],
      "text/plain": [
       "<IPython.core.display.Image object>"
      ]
     },
     "metadata": {},
     "output_type": "display_data"
    },
    {
     "name": "stdout",
     "output_type": "stream",
     "text": [
      "Variable z is not defined\n"
     ]
    }
   ],
   "source": [
    "sess = DummySession(passes=[\n",
    "    convert_primitive_values_to_objects,\n",
    "    # remove_new_lines_from_strings,\n",
    "    CheckReservedRelationNames('spanner_'),\n",
    "    dereference_vars,\n",
    "    ])\n",
    "\n",
    "sess.engine.set_var('y',1)\n",
    "sess.engine.set_var('x',\"hello\")\n",
    "\n",
    "asts = sess.run_query(f\"\"\"\n",
    "            z=1\n",
    "            x=$y\n",
    "            R($x,$y)\n",
    "            \"\"\")\n",
    "for ast in asts:\n",
    "    draw(ast)\n",
    "\n",
    "assert_asts(asts,[{'type': 'assignment',\n",
    "  'id': 0,\n",
    "  'children': [{'type': 'var_name_lhs', 'val': Var(name='z'), 'id': 1},\n",
    "   {'type': 'int', 'val': 1, 'id': 3}]},\n",
    " {'type': 'assignment',\n",
    "  'id': 0,\n",
    "  'children': [{'type': 'var_name_lhs', 'val': Var(name='x'), 'id': 1},\n",
    "   {'type': int, 'val': 1, 'id': 3}]},\n",
    " {'type': 'add_fact',\n",
    "  'id': 0,\n",
    "  'children': [{'type': 'relation_name', 'val': 'R', 'id': 1},\n",
    "   {'type': 'term_list',\n",
    "    'id': 3,\n",
    "    'children': [{'type': str, 'val': 'hello', 'id': 4},\n",
    "     {'type': int, 'val': 1, 'id': 6}]}]}])\n",
    "\n",
    "\n",
    "with pytest.raises(ValueError) as exc_info:\n",
    "    _ = sess.run_query(f\"\"\"\n",
    "                R($x,$z)\n",
    "                \"\"\")\n",
    "assert 'Variable z is not defined' in str(exc_info.value)\n",
    "print(exc_info.value)\n",
    "\n",
    "\n"
   ]
  },
  {
   "cell_type": "markdown",
   "metadata": {},
   "source": [
    "## Check read assignments got existing path"
   ]
  },
  {
   "cell_type": "code",
   "execution_count": null,
   "metadata": {},
   "outputs": [],
   "source": [
    "#| export\n",
    "def check_referenced_paths_exist(ast,engine):\n",
    "    for match in rewrite_iter(ast,\n",
    "    lhs='X[type=\"read_assignment\"]-[idx=1]->PathNode[val]',\n",
    "    # display_matches=True\n",
    "    ):\n",
    "        path = Path(match['PathNode']['val'])\n",
    "        print(repr(path))\n",
    "        if not path.exists():\n",
    "            raise ValueError(f'path {path} was not found in {os.getcwd()}')\n"
   ]
  },
  {
   "cell_type": "code",
   "execution_count": null,
   "metadata": {},
   "outputs": [
    {
     "name": "stdout",
     "output_type": "stream",
     "text": [
      "Path('file.txt')\n",
      "Path('file.txt')\n",
      "Path('not_existing_file.txt')\n",
      "path not_existing_file.txt was not found in /Users/dean/tdk/spannerlib/nbs\n",
      "Path('not_existing_file.txt')\n",
      "path not_existing_file.txt was not found in /Users/dean/tdk/spannerlib/nbs\n"
     ]
    }
   ],
   "source": [
    "# check that read assignments got a string which is an existing path\n",
    "sess = DummySession(passes=[\n",
    "    convert_primitive_values_to_objects,\n",
    "    # remove_new_lines_from_strings,\n",
    "    CheckReservedRelationNames('spanner_'),\n",
    "    dereference_vars,\n",
    "    check_referenced_paths_exist,\n",
    "    ])\n",
    "\n",
    "sess.engine.set_var('y','file.txt')\n",
    "\n",
    "\n",
    "file = Path(\"file.txt\")\n",
    "file.touch()\n",
    "\n",
    "# TODO figure out why this doesnt work\n",
    "asts = sess.run_query(f\"\"\"\n",
    "            x=read(\"file.txt\")\n",
    "            z=read(y)\n",
    "            \"\"\")\n",
    "\n",
    "\n",
    "with pytest.raises(ValueError) as exc_info:\n",
    "    asts = sess.run_query(\"\"\"\n",
    "            x=read(\"not_existing_file.txt\")\n",
    "            \"\"\")\n",
    "print(exc_info.value)\n",
    "\n",
    "\n",
    "sess.engine.set_var('w','not_existing_file.txt')\n",
    "with pytest.raises(ValueError) as exc_info:\n",
    "    asts = sess.run_query(\"\"\"\n",
    "            x=read(w)\n",
    "            \"\"\")\n",
    "print(exc_info.value)\n",
    "\n",
    "file.unlink()"
   ]
  },
  {
   "cell_type": "markdown",
   "metadata": {},
   "source": [
    "## Inline aggregation func names on free var nodes"
   ]
  },
  {
   "cell_type": "code",
   "execution_count": null,
   "metadata": {},
   "outputs": [],
   "source": [
    "#| export\n",
    "def inline_aggregation(ast,engine):\n",
    "    for match in rewrite_iter(ast,\n",
    "        lhs='''\n",
    "        agg_marker[type=\"aggregated_free_var\"];\n",
    "        agg_marker->agg_func[type=\"agg_name\",val];\n",
    "        agg_marker->agg_var[type=\"free_var_name\",val]\n",
    "        ''',\n",
    "        #rhs='agg_marker[type=\"free_var_name\",val=agg_var.val,agg=agg_func.val]',\n",
    "        p='agg_marker[type]',\n",
    "        # display_matches=True\n",
    "        ):\n",
    "        match['agg_marker']['type'] = 'free_var_name'\n",
    "        match['agg_marker']['val'] = match['agg_var']['val']\n",
    "        match['agg_marker']['agg'] = match['agg_func']['val']\n"
   ]
  },
  {
   "cell_type": "code",
   "execution_count": null,
   "metadata": {},
   "outputs": [
    {
     "data": {
      "text/html": [
       "<img src=\"https://mermaid.ink/img/CmZsb3djaGFydCBUQgowWyIwCnR5cGU9I3F1b3Q7cnVsZSNxdW90OyJdCjFbIjEKdHlwZT0jcXVvdDtydWxlX2hlYWQjcXVvdDsiXQoyWyIyCnR5cGU9I3F1b3Q7cmVsYXRpb25fbmFtZSNxdW90OywgdmFsPSNxdW90O1IjcXVvdDsiXQo0WyI0CnR5cGU9I3F1b3Q7dGVybV9saXN0I3F1b3Q7Il0KNVsiNQp0eXBlPSNxdW90O2ZyZWVfdmFyX25hbWUjcXVvdDssIHZhbD1GcmVlVmFyKG5hbWU9I3F1b3Q7WCNxdW90OykiXQo3WyI3CnR5cGU9I3F1b3Q7ZnJlZV92YXJfbmFtZSNxdW90OywgdmFsPUZyZWVWYXIobmFtZT0jcXVvdDtZI3F1b3Q7KSwgYWdnPSNxdW90O3N1bSNxdW90OyJdCjEyWyIxMgp0eXBlPSNxdW90O2ZyZWVfdmFyX25hbWUjcXVvdDssIHZhbD1GcmVlVmFyKG5hbWU9I3F1b3Q7WiNxdW90OyksIGFnZz0jcXVvdDtjb3VudCNxdW90OyJdCjE3WyIxNwp0eXBlPSNxdW90O3J1bGVfYm9keV9yZWxhdGlvbl9saXN0I3F1b3Q7Il0KMThbIjE4CnR5cGU9I3F1b3Q7cmVsYXRpb24jcXVvdDsiXQoxOVsiMTkKdHlwZT0jcXVvdDtyZWxhdGlvbl9uYW1lI3F1b3Q7LCB2YWw9I3F1b3Q7UyNxdW90OyJdCjIxWyIyMQp0eXBlPSNxdW90O3Rlcm1fbGlzdCNxdW90OyJdCjIyWyIyMgp0eXBlPSNxdW90O2ZyZWVfdmFyX25hbWUjcXVvdDssIHZhbD1GcmVlVmFyKG5hbWU9I3F1b3Q7WCNxdW90OykiXQoyNFsiMjQKdHlwZT0jcXVvdDtmcmVlX3Zhcl9uYW1lI3F1b3Q7LCB2YWw9RnJlZVZhcihuYW1lPSNxdW90O1kjcXVvdDspIl0KMjZbIjI2CnR5cGU9I3F1b3Q7ZnJlZV92YXJfbmFtZSNxdW90OywgdmFsPUZyZWVWYXIobmFtZT0jcXVvdDtaI3F1b3Q7KSJdCjAgLS0+fCJpZHg9MCJ8IDEKMCAtLT58ImlkeD0xInwgMTcKMSAtLT58ImlkeD0wInwgMgoxIC0tPnwiaWR4PTEifCA0CjQgLS0+fCJpZHg9MCJ8IDUKNCAtLT58ImlkeD0xInwgNwo0IC0tPnwiaWR4PTIifCAxMgoxNyAtLT58ImlkeD0wInwgMTgKMTggLS0+fCJpZHg9MCJ8IDE5CjE4IC0tPnwiaWR4PTEifCAyMQoyMSAtLT58ImlkeD0wInwgMjIKMjEgLS0+fCJpZHg9MSJ8IDI0CjIxIC0tPnwiaWR4PTIifCAyNgo=\"/>"
      ],
      "text/plain": [
       "<IPython.core.display.Image object>"
      ]
     },
     "metadata": {},
     "output_type": "display_data"
    }
   ],
   "source": [
    "sess = DummySession(passes=[\n",
    "    convert_primitive_values_to_objects,\n",
    "    CheckReservedRelationNames('spanner_'),\n",
    "    check_referenced_paths_exist,\n",
    "    dereference_vars,\n",
    "    inline_aggregation,\n",
    "    ])\n",
    "\n",
    "with checkLogs():\n",
    "    asts = sess.run_query(\"\"\"\n",
    "    R(X,sum(Y),count(Z))<-S(X,Y,Z)\n",
    "    \"\"\")\n",
    "for ast in asts:\n",
    "    draw(ast)\n",
    "\n",
    "assert_asts(asts,[{'type': 'rule',\n",
    "  'id': 0,\n",
    "  'children': [{'type': 'rule_head',\n",
    "    'id': 1,\n",
    "    'children': [{'type': 'relation_name', 'val': 'R', 'id': 2},\n",
    "     {'type': 'term_list',\n",
    "      'id': 4,\n",
    "      'children': [{'type': 'free_var_name',\n",
    "        'val': FreeVar(name='X'),\n",
    "        'id': 5},\n",
    "       {'type': 'free_var_name',\n",
    "        'val': FreeVar(name='Y'),\n",
    "        'agg': 'sum',\n",
    "        'id': 7},\n",
    "       {'type': 'free_var_name',\n",
    "        'val': FreeVar(name='Z'),\n",
    "        'agg': 'count',\n",
    "        'id': 12}]}]},\n",
    "   {'type': 'rule_body_relation_list',\n",
    "    'id': 17,\n",
    "    'children': [{'type': 'relation',\n",
    "      'id': 18,\n",
    "      'children': [{'type': 'relation_name', 'val': 'S', 'id': 19},\n",
    "       {'type': 'term_list',\n",
    "        'id': 21,\n",
    "        'children': [{'type': 'free_var_name',\n",
    "          'val': FreeVar(name='X'),\n",
    "          'id': 22},\n",
    "         {'type': 'free_var_name', 'val': FreeVar(name='Y'), 'id': 24},\n",
    "         {'type': 'free_var_name', 'val': FreeVar(name='Z'), 'id': 26}]}]}]}]}])"
   ]
  },
  {
   "cell_type": "code",
   "execution_count": null,
   "metadata": {},
   "outputs": [
    {
     "data": {
      "text/html": [
       "<img src=\"https://mermaid.ink/img/CmZsb3djaGFydCBUQgowWyIwCnR5cGU9I3F1b3Q7cnVsZSNxdW90OyJdCjFbIjEKdHlwZT0jcXVvdDtydWxlX2hlYWQjcXVvdDsiXQoyWyIyCnR5cGU9I3F1b3Q7cmVsYXRpb25fbmFtZSNxdW90OywgdmFsPSNxdW90O1IjcXVvdDsiXQo0WyI0CnR5cGU9I3F1b3Q7dGVybV9saXN0I3F1b3Q7Il0KNVsiNQp0eXBlPSNxdW90O2ZyZWVfdmFyX25hbWUjcXVvdDssIHZhbD1GcmVlVmFyKG5hbWU9I3F1b3Q7WCNxdW90OykiXQo3WyI3CnR5cGU9I3F1b3Q7ZnJlZV92YXJfbmFtZSNxdW90OywgdmFsPUZyZWVWYXIobmFtZT0jcXVvdDtZI3F1b3Q7KSwgYWdnPSNxdW90O3N1bSNxdW90OyJdCjEyWyIxMgp0eXBlPSNxdW90O2ZyZWVfdmFyX25hbWUjcXVvdDssIHZhbD1GcmVlVmFyKG5hbWU9I3F1b3Q7WiNxdW90OyksIGFnZz0jcXVvdDtjb3VudCNxdW90OyJdCjE3WyIxNwp0eXBlPSNxdW90O3J1bGVfYm9keV9yZWxhdGlvbl9saXN0I3F1b3Q7Il0KMThbIjE4CnR5cGU9I3F1b3Q7cmVsYXRpb24jcXVvdDsiXQoxOVsiMTkKdHlwZT0jcXVvdDtyZWxhdGlvbl9uYW1lI3F1b3Q7LCB2YWw9I3F1b3Q7UyNxdW90OyJdCjIxWyIyMQp0eXBlPSNxdW90O3Rlcm1fbGlzdCNxdW90OyJdCjIyWyIyMgp0eXBlPSNxdW90O2ZyZWVfdmFyX25hbWUjcXVvdDssIHZhbD1GcmVlVmFyKG5hbWU9I3F1b3Q7WCNxdW90OykiXQoyNFsiMjQKdHlwZT0jcXVvdDtmcmVlX3Zhcl9uYW1lI3F1b3Q7LCB2YWw9RnJlZVZhcihuYW1lPSNxdW90O1kjcXVvdDspIl0KMjZbIjI2CnR5cGU9I3F1b3Q7aWVfcmVsYXRpb24jcXVvdDsiXQoyN1siMjcKdHlwZT0jcXVvdDtyZWxhdGlvbl9uYW1lI3F1b3Q7LCB2YWw9I3F1b3Q7VCNxdW90OyJdCjI5WyIyOQp0eXBlPSNxdW90O3Rlcm1fbGlzdCNxdW90OyJdCjMwWyIzMAp0eXBlPSNxdW90O2ZyZWVfdmFyX25hbWUjcXVvdDssIHZhbD1GcmVlVmFyKG5hbWU9I3F1b3Q7WCNxdW90OykiXQozMlsiMzIKdHlwZT0jcXVvdDtmcmVlX3Zhcl9uYW1lI3F1b3Q7LCB2YWw9RnJlZVZhcihuYW1lPSNxdW90O1kjcXVvdDspIl0KMzRbIjM0CnR5cGU9I3F1b3Q7dGVybV9saXN0I3F1b3Q7Il0KMzVbIjM1CnR5cGU9I3F1b3Q7ZnJlZV92YXJfbmFtZSNxdW90OywgdmFsPUZyZWVWYXIobmFtZT0jcXVvdDtaI3F1b3Q7KSJdCjAgLS0+fCJpZHg9MCJ8IDEKMCAtLT58ImlkeD0xInwgMTcKMSAtLT58ImlkeD0wInwgMgoxIC0tPnwiaWR4PTEifCA0CjQgLS0+fCJpZHg9MCJ8IDUKNCAtLT58ImlkeD0xInwgNwo0IC0tPnwiaWR4PTIifCAxMgoxNyAtLT58ImlkeD0wInwgMTgKMTcgLS0+fCJpZHg9MSJ8IDI2CjE4IC0tPnwiaWR4PTAifCAxOQoxOCAtLT58ImlkeD0xInwgMjEKMjEgLS0+fCJpZHg9MCJ8IDIyCjIxIC0tPnwiaWR4PTEifCAyNAoyNiAtLT58ImlkeD0wInwgMjcKMjYgLS0+fCJpZHg9MSJ8IDI5CjI2IC0tPnwiaWR4PTIifCAzNAoyOSAtLT58ImlkeD0wInwgMzAKMjkgLS0+fCJpZHg9MSJ8IDMyCjM0IC0tPnwiaWR4PTAifCAzNQo=\"/>"
      ],
      "text/plain": [
       "<IPython.core.display.Image object>"
      ]
     },
     "metadata": {},
     "output_type": "display_data"
    },
    {
     "data": {
      "text/html": [
       "<img src=\"https://mermaid.ink/img/CmZsb3djaGFydCBUQgowWyIwCnR5cGU9I3F1b3Q7cnVsZSNxdW90OyJdCjFbIjEKdHlwZT0jcXVvdDtydWxlX2hlYWQjcXVvdDsiXQoyWyIyCnR5cGU9I3F1b3Q7cmVsYXRpb25fbmFtZSNxdW90OywgdmFsPSNxdW90O1IjcXVvdDsiXQo0WyI0CnR5cGU9I3F1b3Q7dGVybV9saXN0I3F1b3Q7Il0KNVsiNQp0eXBlPSNxdW90O2ZyZWVfdmFyX25hbWUjcXVvdDssIHZhbD1GcmVlVmFyKG5hbWU9I3F1b3Q7WCNxdW90OykiXQo3WyI3CnR5cGU9I3F1b3Q7ZnJlZV92YXJfbmFtZSNxdW90OywgdmFsPUZyZWVWYXIobmFtZT0jcXVvdDtZI3F1b3Q7KSwgYWdnPSNxdW90O3N1bSNxdW90OyJdCjEyWyIxMgp0eXBlPSNxdW90O2ZyZWVfdmFyX25hbWUjcXVvdDssIHZhbD1GcmVlVmFyKG5hbWU9I3F1b3Q7WiNxdW90OyksIGFnZz0jcXVvdDtjb3VudCNxdW90OyJdCjE3WyIxNwp0eXBlPSNxdW90O3N0cmluZyNxdW90OywgdmFsPSNxdW90O3llcyNxdW90OyJdCjE5WyIxOQp0eXBlPSNxdW90O3J1bGVfYm9keV9yZWxhdGlvbl9saXN0I3F1b3Q7Il0KMjBbIjIwCnR5cGU9I3F1b3Q7cmVsYXRpb24jcXVvdDsiXQoyMVsiMjEKdHlwZT0jcXVvdDtyZWxhdGlvbl9uYW1lI3F1b3Q7LCB2YWw9I3F1b3Q7UyNxdW90OyJdCjIzWyIyMwp0eXBlPSNxdW90O3Rlcm1fbGlzdCNxdW90OyJdCjI0WyIyNAp0eXBlPSNxdW90O2ZyZWVfdmFyX25hbWUjcXVvdDssIHZhbD1GcmVlVmFyKG5hbWU9I3F1b3Q7WCNxdW90OykiXQoyNlsiMjYKdHlwZT0jcXVvdDtmcmVlX3Zhcl9uYW1lI3F1b3Q7LCB2YWw9RnJlZVZhcihuYW1lPSNxdW90O1kjcXVvdDspIl0KMjhbIjI4CnR5cGU9I3F1b3Q7ZnJlZV92YXJfbmFtZSNxdW90OywgdmFsPUZyZWVWYXIobmFtZT0jcXVvdDtaI3F1b3Q7KSJdCjAgLS0+fCJpZHg9MCJ8IDEKMCAtLT58ImlkeD0xInwgMTkKMSAtLT58ImlkeD0wInwgMgoxIC0tPnwiaWR4PTEifCA0CjQgLS0+fCJpZHg9MCJ8IDUKNCAtLT58ImlkeD0xInwgNwo0IC0tPnwiaWR4PTIifCAxMgo0IC0tPnwiaWR4PTMifCAxNwoxOSAtLT58ImlkeD0wInwgMjAKMjAgLS0+fCJpZHg9MCJ8IDIxCjIwIC0tPnwiaWR4PTEifCAyMwoyMyAtLT58ImlkeD0wInwgMjQKMjMgLS0+fCJpZHg9MSJ8IDI2CjIzIC0tPnwiaWR4PTIifCAyOAo=\"/>"
      ],
      "text/plain": [
       "<IPython.core.display.Image object>"
      ]
     },
     "metadata": {},
     "output_type": "display_data"
    }
   ],
   "source": [
    "sess = DummySession(passes=[\n",
    "    convert_primitive_values_to_objects,\n",
    "    CheckReservedRelationNames('spanner_'),\n",
    "    check_referenced_paths_exist,\n",
    "    dereference_vars,\n",
    "    inline_aggregation,\n",
    "    ])\n",
    "\n",
    "with checkLogs():\n",
    "    asts = sess.run_query(\"\"\"\n",
    "    R(X,sum(Y),count(Z))<-S(X,Y),T(X,Y)->(Z)\n",
    "    R(X,sum(Y),count(Z),\"yes\")<-S(X,Y,Z)\n",
    "    \"\"\")\n",
    "for ast in asts:\n",
    "    draw(ast)\n",
    "\n"
   ]
  },
  {
   "cell_type": "markdown",
   "metadata": {},
   "source": [
    "## Cast relations to dataclasses"
   ]
  },
  {
   "cell_type": "code",
   "execution_count": null,
   "metadata": {},
   "outputs": [],
   "source": [
    "#| export\n",
    "def relations_to_dataclasses(ast,engine):\n",
    "\n",
    "   # regular relations\n",
    "   #TODO another example where i need to edit the graph imperatively because i dont have horizontal recursion in LHS\n",
    "   for match in rewrite_iter(ast,\n",
    "      lhs='''\n",
    "         statement[type]->name[type=\"relation_name\",val];\n",
    "         statement->terms[type]\n",
    "         ''',\n",
    "         #TODO i expect to be able to put an rhs here only, and if a p is not given, assume it is the identity over nodes in LHS\n",
    "         p='statement[type]',\n",
    "         condition=lambda match: (match['statement']['type'] in ['add_fact','remove_fact','relation','rule_head','query']\n",
    "                                   and match['terms']['type'] in ['term_list','free_var_name_list',]),\n",
    "         # display_matches=True,\n",
    "         ):\n",
    "      term_nodes = list(ast.successors(match.mapping['terms']))\n",
    "      #TODO check we iterate in order on the children\n",
    "      logger.debug(f\"casting relation to dataclasses - term_nodes: {term_nodes}\")\n",
    "      terms = [ast.nodes[term_node]['val'] for term_node in term_nodes]\n",
    "      \n",
    "      has_agg = any('agg' in ast.nodes[term_node] for term_node in term_nodes)\n",
    "      if has_agg:\n",
    "         agg_by_term = [ast.nodes[term_node].get('agg',None) for term_node in term_nodes]\n",
    "      else:\n",
    "         agg_by_term = None\n",
    "\n",
    "      rel_object = Relation(name=match['name']['val'],terms=terms,agg=agg_by_term)\n",
    "      if has_agg and match['statement']['type'] != 'rule_head':\n",
    "            raise ValueError(f'''Aggregations are only allowed in rule heads, not in {match['statement']['type']}, found in {pretty(rel_object)}''')\n",
    "      match['statement']['val'] = rel_object\n",
    "      ast.remove_nodes_from(term_nodes)\n",
    "   # relation declerations\n",
    "   for match in rewrite_iter(ast,\n",
    "      lhs='''\n",
    "         statement[type=\"relation_declaration\"]->name[type=\"relation_name\",val];\n",
    "         statement->terms[type=\"decl_term_list\"]\n",
    "         ''',\n",
    "         p='statement[type]'):\n",
    "      term_nodes = list(ast.successors(match.mapping['terms']))\n",
    "      match['statement']['val'] = RelationDefinition(name=match['name']['val'],scheme=[ast.nodes[term_node]['val'] for term_node in term_nodes])\n",
    "      ast.remove_nodes_from(term_nodes)\n",
    "\n",
    "   # ie relations\n",
    "   for match in rewrite_iter(ast,\n",
    "      lhs='''\n",
    "         statement[type=\"ie_relation\"]->name[type=\"relation_name\",val];\n",
    "         statement-[idx=1]->in_terms[type=\"term_list\"];\n",
    "         statement-[idx=2]->out_terms[type=\"term_list\"]\n",
    "      ''',p='statement[type]'):\n",
    "      in_term_nodes = list(ast.successors(match.mapping['in_terms']))\n",
    "      out_term_nodes = list(ast.successors(match.mapping['out_terms']))\n",
    "\n",
    "\n",
    "\n",
    "      ie_obj = IERelation(name=match['name']['val'],\n",
    "                                             in_terms=[ast.nodes[term_node]['val'] for term_node in in_term_nodes],\n",
    "                                             out_terms=[ast.nodes[term_node]['val'] for term_node in out_term_nodes]\n",
    "                                             )\n",
    "      for term_node in in_term_nodes+out_term_nodes:\n",
    "         if 'agg' in ast.nodes[term_node]:\n",
    "            raise ValueError(f'Aggregations are not allowed in IE relations, found in {pretty(ie_obj)}')\n",
    "      match['statement']['val'] = ie_obj\n",
    "      ast.remove_nodes_from(in_term_nodes+out_term_nodes)"
   ]
  },
  {
   "cell_type": "code",
   "execution_count": null,
   "metadata": {},
   "outputs": [
    {
     "data": {
      "text/html": [
       "<img src=\"https://mermaid.ink/img/CmZsb3djaGFydCBUQgowWyIwCnR5cGU9I3F1b3Q7cnVsZSNxdW90OyJdCjFbIjEKdHlwZT0jcXVvdDtydWxlX2hlYWQjcXVvdDssIHZhbD1SZWxhdGlvbihuYW1lPSNxdW90O1IjcXVvdDssIHRlcm1zPVtGcmVlVmFyKG5hbWU9I3F1b3Q7WCNxdW90OyksIEZyZWVWYXIobmFtZT0jcXVvdDtZI3F1b3Q7KV0sIGFnZz1Ob25lKSJdCjlbIjkKdHlwZT0jcXVvdDtydWxlX2JvZHlfcmVsYXRpb25fbGlzdCNxdW90OyJdCjEwWyIxMAp0eXBlPSNxdW90O3JlbGF0aW9uI3F1b3Q7LCB2YWw9UmVsYXRpb24obmFtZT0jcXVvdDtTI3F1b3Q7LCB0ZXJtcz1bRnJlZVZhcihuYW1lPSNxdW90O1gjcXVvdDspLCBGcmVlVmFyKG5hbWU9I3F1b3Q7WSNxdW90OyldLCBhZ2c9Tm9uZSkiXQoxOFsiMTgKdHlwZT0jcXVvdDtpZV9yZWxhdGlvbiNxdW90OywgdmFsPUlFUmVsYXRpb24obmFtZT0jcXVvdDtUI3F1b3Q7LCBpbl90ZXJtcz1bRnJlZVZhcihuYW1lPSNxdW90O1gjcXVvdDspLCBGcmVlVmFyKG5hbWU9I3F1b3Q7WSNxdW90OyldLCBvdXRfdGVybXM9W0ZyZWVWYXIobmFtZT0jcXVvdDtZI3F1b3Q7KSwgRnJlZVZhcihuYW1lPSNxdW90O1ojcXVvdDspXSkiXQowIC0tPnwiaWR4PTAifCAxCjAgLS0+fCJpZHg9MSJ8IDkKOSAtLT58ImlkeD0wInwgMTAKOSAtLT58ImlkeD0xInwgMTgK\"/>"
      ],
      "text/plain": [
       "<IPython.core.display.Image object>"
      ]
     },
     "metadata": {},
     "output_type": "display_data"
    },
    {
     "data": {
      "text/html": [
       "<img src=\"https://mermaid.ink/img/CmZsb3djaGFydCBUQgowWyIwCnR5cGU9I3F1b3Q7cnVsZSNxdW90OyJdCjFbIjEKdHlwZT0jcXVvdDtydWxlX2hlYWQjcXVvdDssIHZhbD1SZWxhdGlvbihuYW1lPSNxdW90O1IjcXVvdDssIHRlcm1zPVtGcmVlVmFyKG5hbWU9I3F1b3Q7WCNxdW90OyksIEZyZWVWYXIobmFtZT0jcXVvdDtZI3F1b3Q7KV0sIGFnZz1bTm9uZSwgI3F1b3Q7c3VtI3F1b3Q7XSkiXQoxMlsiMTIKdHlwZT0jcXVvdDtydWxlX2JvZHlfcmVsYXRpb25fbGlzdCNxdW90OyJdCjEzWyIxMwp0eXBlPSNxdW90O3JlbGF0aW9uI3F1b3Q7LCB2YWw9UmVsYXRpb24obmFtZT0jcXVvdDtTI3F1b3Q7LCB0ZXJtcz1bRnJlZVZhcihuYW1lPSNxdW90O1gjcXVvdDspLCBGcmVlVmFyKG5hbWU9I3F1b3Q7WSNxdW90OyldLCBhZ2c9Tm9uZSkiXQowIC0tPnwiaWR4PTAifCAxCjAgLS0+fCJpZHg9MSJ8IDEyCjEyIC0tPnwiaWR4PTAifCAxMwo=\"/>"
      ],
      "text/plain": [
       "<IPython.core.display.Image object>"
      ]
     },
     "metadata": {},
     "output_type": "display_data"
    },
    {
     "data": {
      "text/html": [
       "<img src=\"https://mermaid.ink/img/CmZsb3djaGFydCBUQgowWyIwCnR5cGU9I3F1b3Q7cnVsZSNxdW90OyJdCjFbIjEKdHlwZT0jcXVvdDtydWxlX2hlYWQjcXVvdDssIHZhbD1SZWxhdGlvbihuYW1lPSNxdW90O1IjcXVvdDssIHRlcm1zPVtGcmVlVmFyKG5hbWU9I3F1b3Q7WCNxdW90OyksIEZyZWVWYXIobmFtZT0jcXVvdDtZI3F1b3Q7KSwgI3F1b3Q7eWVzI3F1b3Q7XSwgYWdnPVtOb25lLCAjcXVvdDtzdW0jcXVvdDssIE5vbmVdKSJdCjE0WyIxNAp0eXBlPSNxdW90O3J1bGVfYm9keV9yZWxhdGlvbl9saXN0I3F1b3Q7Il0KMTVbIjE1CnR5cGU9I3F1b3Q7cmVsYXRpb24jcXVvdDssIHZhbD1SZWxhdGlvbihuYW1lPSNxdW90O1MjcXVvdDssIHRlcm1zPVtGcmVlVmFyKG5hbWU9I3F1b3Q7WCNxdW90OyksIEZyZWVWYXIobmFtZT0jcXVvdDtZI3F1b3Q7KV0sIGFnZz1Ob25lKSJdCjAgLS0+fCJpZHg9MCJ8IDEKMCAtLT58ImlkeD0xInwgMTQKMTQgLS0+fCJpZHg9MCJ8IDE1Cg==\"/>"
      ],
      "text/plain": [
       "<IPython.core.display.Image object>"
      ]
     },
     "metadata": {},
     "output_type": "display_data"
    }
   ],
   "source": [
    "sess = DummySession(passes=[\n",
    "    convert_primitive_values_to_objects,\n",
    "    CheckReservedRelationNames('spanner_'),\n",
    "    check_referenced_paths_exist,\n",
    "    dereference_vars,\n",
    "    inline_aggregation,\n",
    "    relations_to_dataclasses\n",
    "    ])\n",
    "\n",
    "# with checkLogs():\n",
    "asts = sess.run_query(\"\"\"\n",
    "# R(\"hello\",6)\n",
    "# R(\"hello\",[4,5))<-True\n",
    "# R(\"hello\",[4,5))<-False\n",
    "# new R(str,span,int,int)\n",
    "# ?R(\"hello\",Y)\n",
    "R(X,Y)<-S(X,Y),T(X,Y)->(Y,Z)\n",
    "R(X,sum(Y))<-S(X,Y)\n",
    "R(X,sum(Y),\"yes\")<-S(X,Y)\n",
    "\"\"\")\n",
    "for ast in asts:\n",
    "    draw(ast)\n"
   ]
  },
  {
   "cell_type": "code",
   "execution_count": null,
   "metadata": {},
   "outputs": [
    {
     "name": "stdout",
     "output_type": "stream",
     "text": [
      "Aggregations are only allowed in rule heads, not in relation, found in S(X,sum(Y))\n",
      "Aggregations are not allowed in IE relations, found in T(X,Y) -> (Y,Z)\n"
     ]
    }
   ],
   "source": [
    "\n",
    "with pytest.raises(ValueError) as exc_info:\n",
    "    asts = sess.run_query(\"\"\"\n",
    "        R(X,Y)<-S(X,sum(Y)),T(X,Y)->(Y,Z)\n",
    "            \"\"\")\n",
    "print(exc_info.value)\n",
    "assert \"Aggregations are only allowed in rule heads, not in relation\" in str(exc_info.value)\n",
    "\n",
    "with pytest.raises(ValueError) as exc_info:\n",
    "    asts = sess.run_query(\"\"\"\n",
    "        R(X,Y)<-S(X,Y),T(X,sum(Y))->(Y,Z)\n",
    "            \"\"\")\n",
    "print(exc_info.value)\n",
    "assert \"Aggregations are not allowed in IE relations, found in T(X,Y) -> (Y,Z)\" in str(exc_info.value)\n"
   ]
  },
  {
   "cell_type": "code",
   "execution_count": null,
   "metadata": {},
   "outputs": [
    {
     "data": {
      "text/html": [
       "<img src=\"https://mermaid.ink/img/CmZsb3djaGFydCBUQgowWyIwCnR5cGU9I3F1b3Q7YWRkX2ZhY3QjcXVvdDssIHZhbD1SZWxhdGlvbihuYW1lPSNxdW90O1IjcXVvdDssIHRlcm1zPVsjcXVvdDtoZWxsbyNxdW90OywgNl0sIGFnZz1Ob25lKSJdCg==\"/>"
      ],
      "text/plain": [
       "<IPython.core.display.Image object>"
      ]
     },
     "metadata": {},
     "output_type": "display_data"
    },
    {
     "data": {
      "text/html": [
       "<img src=\"https://mermaid.ink/img/CmZsb3djaGFydCBUQgowWyIwCnR5cGU9I3F1b3Q7YWRkX2ZhY3QjcXVvdDssIHZhbD1SZWxhdGlvbihuYW1lPSNxdW90O1IjcXVvdDssIHRlcm1zPVsjcXVvdDtoZWxsbyNxdW90OywgNl0sIGFnZz1Ob25lKSJdCg==\"/>"
      ],
      "text/plain": [
       "<IPython.core.display.Image object>"
      ]
     },
     "metadata": {},
     "output_type": "display_data"
    },
    {
     "data": {
      "text/html": [
       "<img src=\"https://mermaid.ink/img/CmZsb3djaGFydCBUQgowWyIwCnR5cGU9I3F1b3Q7cmVtb3ZlX2ZhY3QjcXVvdDssIHZhbD1SZWxhdGlvbihuYW1lPSNxdW90O1IjcXVvdDssIHRlcm1zPVsjcXVvdDtoZWxsbyNxdW90OywgNl0sIGFnZz1Ob25lKSJdCg==\"/>"
      ],
      "text/plain": [
       "<IPython.core.display.Image object>"
      ]
     },
     "metadata": {},
     "output_type": "display_data"
    },
    {
     "data": {
      "text/html": [
       "<img src=\"https://mermaid.ink/img/CmZsb3djaGFydCBUQgowWyIwCnR5cGU9I3F1b3Q7cmVsYXRpb25fZGVjbGFyYXRpb24jcXVvdDssIHZhbD1SZWxhdGlvbkRlZmluaXRpb24obmFtZT0jcXVvdDtSI3F1b3Q7LCBzY2hlbWU9WyNsdDtjbGFzcyAjcXVvdDtzdHIjcXVvdDsjZ3Q7LCAjbHQ7Y2xhc3MgI3F1b3Q7c3RyI3F1b3Q7I2d0OywgI2x0O2NsYXNzICNxdW90O2ludCNxdW90OyNndDssICNsdDtjbGFzcyAjcXVvdDtpbnQjcXVvdDsjZ3Q7XSkiXQo=\"/>"
      ],
      "text/plain": [
       "<IPython.core.display.Image object>"
      ]
     },
     "metadata": {},
     "output_type": "display_data"
    },
    {
     "data": {
      "text/html": [
       "<img src=\"https://mermaid.ink/img/CmZsb3djaGFydCBUQgowWyIwCnR5cGU9I3F1b3Q7cXVlcnkjcXVvdDssIHZhbD1SZWxhdGlvbihuYW1lPSNxdW90O1IjcXVvdDssIHRlcm1zPVsjcXVvdDtoZWxsbyNxdW90OywgRnJlZVZhcihuYW1lPSNxdW90O1kjcXVvdDspXSwgYWdnPU5vbmUpIl0K\"/>"
      ],
      "text/plain": [
       "<IPython.core.display.Image object>"
      ]
     },
     "metadata": {},
     "output_type": "display_data"
    },
    {
     "data": {
      "text/html": [
       "<img src=\"https://mermaid.ink/img/CmZsb3djaGFydCBUQgowWyIwCnR5cGU9I3F1b3Q7cnVsZSNxdW90OyJdCjFbIjEKdHlwZT0jcXVvdDtydWxlX2hlYWQjcXVvdDssIHZhbD1SZWxhdGlvbihuYW1lPSNxdW90O1IjcXVvdDssIHRlcm1zPVtGcmVlVmFyKG5hbWU9I3F1b3Q7WCNxdW90OyksIEZyZWVWYXIobmFtZT0jcXVvdDtZI3F1b3Q7KV0sIGFnZz1Ob25lKSJdCjlbIjkKdHlwZT0jcXVvdDtydWxlX2JvZHlfcmVsYXRpb25fbGlzdCNxdW90OyJdCjEwWyIxMAp0eXBlPSNxdW90O3JlbGF0aW9uI3F1b3Q7LCB2YWw9UmVsYXRpb24obmFtZT0jcXVvdDtTI3F1b3Q7LCB0ZXJtcz1bRnJlZVZhcihuYW1lPSNxdW90O1gjcXVvdDspLCBGcmVlVmFyKG5hbWU9I3F1b3Q7WSNxdW90OyldLCBhZ2c9Tm9uZSkiXQoxOFsiMTgKdHlwZT0jcXVvdDtpZV9yZWxhdGlvbiNxdW90OywgdmFsPUlFUmVsYXRpb24obmFtZT0jcXVvdDtUI3F1b3Q7LCBpbl90ZXJtcz1bRnJlZVZhcihuYW1lPSNxdW90O1gjcXVvdDspLCBGcmVlVmFyKG5hbWU9I3F1b3Q7WSNxdW90OyldLCBvdXRfdGVybXM9W0ZyZWVWYXIobmFtZT0jcXVvdDtZI3F1b3Q7KSwgRnJlZVZhcihuYW1lPSNxdW90O1ojcXVvdDspXSkiXQowIC0tPnwiaWR4PTAifCAxCjAgLS0+fCJpZHg9MSJ8IDkKOSAtLT58ImlkeD0wInwgMTAKOSAtLT58ImlkeD0xInwgMTgK\"/>"
      ],
      "text/plain": [
       "<IPython.core.display.Image object>"
      ]
     },
     "metadata": {},
     "output_type": "display_data"
    },
    {
     "data": {
      "text/html": [
       "<img src=\"https://mermaid.ink/img/CmZsb3djaGFydCBUQgowWyIwCnR5cGU9I3F1b3Q7cnVsZSNxdW90OyJdCjFbIjEKdHlwZT0jcXVvdDtydWxlX2hlYWQjcXVvdDssIHZhbD1SZWxhdGlvbihuYW1lPSNxdW90O1IjcXVvdDssIHRlcm1zPVtGcmVlVmFyKG5hbWU9I3F1b3Q7WCNxdW90OyksIEZyZWVWYXIobmFtZT0jcXVvdDtZI3F1b3Q7KV0sIGFnZz1bTm9uZSwgI3F1b3Q7c3VtI3F1b3Q7XSkiXQoxMlsiMTIKdHlwZT0jcXVvdDtydWxlX2JvZHlfcmVsYXRpb25fbGlzdCNxdW90OyJdCjEzWyIxMwp0eXBlPSNxdW90O3JlbGF0aW9uI3F1b3Q7LCB2YWw9UmVsYXRpb24obmFtZT0jcXVvdDtTI3F1b3Q7LCB0ZXJtcz1bRnJlZVZhcihuYW1lPSNxdW90O1gjcXVvdDspLCBGcmVlVmFyKG5hbWU9I3F1b3Q7WSNxdW90OyldLCBhZ2c9Tm9uZSkiXQowIC0tPnwiaWR4PTAifCAxCjAgLS0+fCJpZHg9MSJ8IDEyCjEyIC0tPnwiaWR4PTAifCAxMwo=\"/>"
      ],
      "text/plain": [
       "<IPython.core.display.Image object>"
      ]
     },
     "metadata": {},
     "output_type": "display_data"
    },
    {
     "data": {
      "text/html": [
       "<img src=\"https://mermaid.ink/img/CmZsb3djaGFydCBUQgowWyIwCnR5cGU9I3F1b3Q7cnVsZSNxdW90OyJdCjFbIjEKdHlwZT0jcXVvdDtydWxlX2hlYWQjcXVvdDssIHZhbD1SZWxhdGlvbihuYW1lPSNxdW90O1IjcXVvdDssIHRlcm1zPVtGcmVlVmFyKG5hbWU9I3F1b3Q7WCNxdW90OyksIEZyZWVWYXIobmFtZT0jcXVvdDtZI3F1b3Q7KSwgI3F1b3Q7eWVzI3F1b3Q7XSwgYWdnPVtOb25lLCAjcXVvdDtzdW0jcXVvdDssIE5vbmVdKSJdCjE0WyIxNAp0eXBlPSNxdW90O3J1bGVfYm9keV9yZWxhdGlvbl9saXN0I3F1b3Q7Il0KMTVbIjE1CnR5cGU9I3F1b3Q7cmVsYXRpb24jcXVvdDssIHZhbD1SZWxhdGlvbihuYW1lPSNxdW90O1MjcXVvdDssIHRlcm1zPVtGcmVlVmFyKG5hbWU9I3F1b3Q7WCNxdW90OyksIEZyZWVWYXIobmFtZT0jcXVvdDtZI3F1b3Q7KV0sIGFnZz1Ob25lKSJdCjAgLS0+fCJpZHg9MCJ8IDEKMCAtLT58ImlkeD0xInwgMTQKMTQgLS0+fCJpZHg9MCJ8IDE1Cg==\"/>"
      ],
      "text/plain": [
       "<IPython.core.display.Image object>"
      ]
     },
     "metadata": {},
     "output_type": "display_data"
    }
   ],
   "source": [
    "sess = DummySession(passes=[\n",
    "    convert_primitive_values_to_objects,\n",
    "    CheckReservedRelationNames('spanner_'),\n",
    "    check_referenced_paths_exist,\n",
    "    dereference_vars,\n",
    "    inline_aggregation,\n",
    "    relations_to_dataclasses\n",
    "    ])\n",
    "asts = sess.run_query(\"\"\"\n",
    "R(\"hello\",6)\n",
    "+R(\"hello\",6)\n",
    "-R(\"hello\",6)\n",
    "new R(str,str,int,int)\n",
    "?R(\"hello\",Y)\n",
    "R(X,Y)<-S(X,Y),T(X,Y)->(Y,Z)\n",
    "R(X,sum(Y))<-S(X,Y)\n",
    "R(X,sum(Y),\"yes\")<-S(X,Y)\n",
    "\n",
    "\"\"\")\n",
    "for ast in asts:\n",
    "    draw(ast)\n",
    "\n",
    "assert_asts(asts,[{'type': 'add_fact',\n",
    "  'val': Relation(name='R', terms=['hello', 6], agg=None),\n",
    "  'id': 0,\n",
    "  'children': []},\n",
    " {'type': 'add_fact',\n",
    "  'val': Relation(name='R', terms=['hello', 6], agg=None),\n",
    "  'id': 0,\n",
    "  'children': []},\n",
    " {'type': 'remove_fact',\n",
    "  'val': Relation(name='R', terms=['hello', 6], agg=None),\n",
    "  'id': 0,\n",
    "  'children': []},\n",
    " {'type': 'relation_declaration',\n",
    "  'val': RelationDefinition(name='R', scheme=[str,str,int,int]),\n",
    "  'id': 0,\n",
    "  'children': []},\n",
    " {'type': 'query',\n",
    "  'val': Relation(name='R', terms=['hello', FreeVar(name='Y')], agg=None),\n",
    "  'id': 0,\n",
    "  'children': []},\n",
    " {'type': 'rule',\n",
    "  'id': 0,\n",
    "  'children': [{'type': 'rule_head',\n",
    "    'val': Relation(name='R', terms=[FreeVar(name='X'), FreeVar(name='Y')], agg=None),\n",
    "    'id': 1},\n",
    "   {'type': 'rule_body_relation_list',\n",
    "    'id': 9,\n",
    "    'children': [{'type': 'relation',\n",
    "      'val': Relation(name='S', terms=[FreeVar(name='X'), FreeVar(name='Y')], agg=None),\n",
    "      'id': 10},\n",
    "     {'type': 'ie_relation',\n",
    "      'val': IERelation(name='T', in_terms=[FreeVar(name='X'), FreeVar(name='Y')], out_terms=[FreeVar(name='Y'), FreeVar(name='Z')]),\n",
    "      'id': 18}]}]},\n",
    " {'type': 'rule',\n",
    "  'id': 0,\n",
    "  'children': [{'type': 'rule_head',\n",
    "    'val': Relation(name='R', terms=[FreeVar(name='X'), FreeVar(name='Y')], agg=[None, 'sum']),\n",
    "    'id': 1},\n",
    "   {'type': 'rule_body_relation_list',\n",
    "    'id': 12,\n",
    "    'children': [{'type': 'relation',\n",
    "      'val': Relation(name='S', terms=[FreeVar(name='X'), FreeVar(name='Y')], agg=None),\n",
    "      'id': 13}]}]},\n",
    " {'type': 'rule',\n",
    "  'id': 0,\n",
    "  'children': [{'type': 'rule_head',\n",
    "    'val': Relation(name='R', terms=[FreeVar(name='X'), FreeVar(name='Y'), 'yes'], agg=[None, 'sum', None]),\n",
    "    'id': 1},\n",
    "   {'type': 'rule_body_relation_list',\n",
    "    'id': 14,\n",
    "    'children': [{'type': 'relation',\n",
    "      'val': Relation(name='S', terms=[FreeVar(name='X'), FreeVar(name='Y')], agg=None),\n",
    "      'id': 15}]}]}]\n",
    "    )\n",
    "\n"
   ]
  },
  {
   "cell_type": "markdown",
   "metadata": {},
   "source": [
    "## verify referenced relations and functions"
   ]
  },
  {
   "cell_type": "markdown",
   "metadata": {},
   "source": [
    "* check that referenced relations and ie relations:\n",
    "  * exist in the symbol table \n",
    "  * are called with the correct arity\n",
    "  * are called with correct constants or vars types"
   ]
  },
  {
   "cell_type": "code",
   "execution_count": null,
   "metadata": {},
   "outputs": [],
   "source": [
    "#| export\n",
    "def verify_referenced_relations_and_functions(ast,engine):\n",
    "\n",
    "    def resolve_var_types(terms):\n",
    "        return [engine.get_var(term.name)[0] if isinstance(term,Var) else term for term in terms]\n",
    "\n",
    "    # check no free vars in adding or removing facts\n",
    "    for match in rewrite_iter(ast,\n",
    "            lhs='''rel[type]''',\n",
    "            condition=lambda match: match['rel']['type'] in ['add_fact','remove_fact'],\n",
    "            ):\n",
    "        if any(isinstance(term,FreeVar) for term in match['rel']['val'].terms):\n",
    "            raise ValueError(f\"Adding or removing facts cannot have free variables, found in {pretty(match['rel']['val'])}\")\n",
    "\n",
    "    # regular relations\n",
    "    for match in rewrite_iter(ast,\n",
    "            lhs='''rel[type]''',\n",
    "            condition=lambda match: match['rel']['type'] in ['add_fact','remove_fact','relation','query'],\n",
    "            ):\n",
    "        rel:Relation = match['rel']['val']\n",
    "        if not engine.get_relation(rel.name):\n",
    "            raise ValueError(f\"Relation '{rel.name}' is not defined\")\n",
    "        expected_schema = engine.get_relation(rel.name).scheme\n",
    "        if not is_of_schema(rel.terms,expected_schema,ignore_types=[FreeVar]):\n",
    "            raise ValueError(f\"Relation '{rel.name}' expected schema {pretty(engine.get_relation(rel.name))} but got called with {pretty(rel)}\")\n",
    "\n",
    "    # ie relations\n",
    "    for match in rewrite_iter(ast,\n",
    "            lhs='''rel[type=\"ie_relation\"]''',\n",
    "            ):\n",
    "        rel:IERelation = match['rel']['val']\n",
    "        if not engine.get_ie_function(rel.name):\n",
    "            raise ValueError(f\"ie function '{rel.name}' was not registered, registered functions are {list(engine.ie_functions.keys())}\")\n",
    "        in_schema = engine.get_ie_function(rel.name).in_schema\n",
    "        if callable(in_schema):\n",
    "            in_schema = in_schema(len(rel.in_terms))\n",
    "        out_schema = engine.get_ie_function(rel.name).out_schema\n",
    "        if callable(out_schema):\n",
    "            out_schema = out_schema(len(rel.out_terms))\n",
    "        if not is_of_schema(rel.in_terms,in_schema,ignore_types=[FreeVar]):\n",
    "            raise ValueError(f\"IERelation '{rel.name}' input expected schema {pretty(in_schema)} but got called with {pretty(rel.in_terms)}\")\n",
    "        if not is_of_schema(rel.out_terms,out_schema,ignore_types=[FreeVar]):\n",
    "            raise ValueError(f\"IERelation '{rel.name}' output expected schema {pretty(out_schema)} but got called with {pretty(rel.out_terms)}\")\n",
    "      \n",
    "    # aggregation functions\n",
    "    for match in rewrite_iter(ast,\n",
    "        lhs='''rel[type=\"rule_head\"]''',\n",
    "        # display_matches=True\n",
    "        ):\n",
    "        rel = match['rel']['val']\n",
    "        if rel.agg is None:\n",
    "            continue\n",
    "        agg_funcs = [func for func in rel.agg if func is not None]\n",
    "        for agg_func in agg_funcs:\n",
    "            if not engine.get_agg_function(agg_func):\n",
    "                raise ValueError(f\"agg function '{agg_func}' was not registered, registered functions are {list(engine.agg_functions.keys())}\")\n"
   ]
  },
  {
   "cell_type": "code",
   "execution_count": null,
   "metadata": {},
   "outputs": [],
   "source": [
    "sess.engine.get_agg_function('sums')"
   ]
  },
  {
   "cell_type": "code",
   "execution_count": null,
   "metadata": {},
   "outputs": [
    {
     "name": "stdout",
     "output_type": "stream",
     "text": [
      "Adding or removing facts cannot have free variables, found in Z(hello,x)\n",
      "Relation 'Z' is not defined\n",
      "Relation 'R' expected schema R(str,int) but got called with R(hello,4,3)\n",
      "Relation 'R' expected schema R(str,int) but got called with R(4,4)\n",
      "Relation 'R' expected schema R(str,int) but got called with R(hello,hello)\n",
      "Relation 'R' expected schema R(str,int) but got called with R(4,Y)\n",
      "IERelation 'T' input expected schema [str,Real] but got called with [X,Y,X]\n",
      "IERelation 'T' output expected schema [Real,str] but got called with [Y,2]\n",
      "ie function 'T3' was not registered, registered functions are ['T', 'T2']\n",
      "agg function 'sums' was not registered, registered functions are ['sum', 'count']\n"
     ]
    }
   ],
   "source": [
    "sess = DummySession(passes=[\n",
    "    convert_primitive_values_to_objects,\n",
    "    CheckReservedRelationNames('spanner_'),\n",
    "    check_referenced_paths_exist,\n",
    "    dereference_vars,\n",
    "    inline_aggregation,\n",
    "    relations_to_dataclasses,\n",
    "    verify_referenced_relations_and_functions\n",
    "    ])\n",
    "\n",
    "\n",
    "def string_schema(n):\n",
    "    return [str]*n\n",
    "\n",
    "sess.engine.set_var('a',1)\n",
    "sess.engine.set_var('b','hello')\n",
    "sess.engine.set_relation(RelationDefinition(name='R',scheme=[str,int]))\n",
    "sess.engine.set_relation(RelationDefinition(name='F',scheme=[float,Real]))\n",
    "sess.engine.set_relation(RelationDefinition(name='S',scheme=[str,int,int]))\n",
    "sess.engine.add_fact(Relation(name='R',terms=[Span(\"hello\"),5]))\n",
    "sess.engine.set_ie_function(IEFunction(name='T',in_schema=[str,Real],out_schema=[Real,str],func=lambda x,y:(y,x)))\n",
    "sess.engine.set_ie_function(IEFunction(name='T2',in_schema=string_schema,out_schema=string_schema,func=lambda x,y:(y,x)))\n",
    "sess.engine.set_agg_function(AGGFunction(name='sum',func='sum',in_schema=[int],out_schema=[int]))\n",
    "sess.engine.set_agg_function(AGGFunction(name='count',func='count',in_schema=[object],out_schema=[int]))\n",
    "\n",
    "\n",
    "asts = sess.run_query(\"\"\"\n",
    "R(\"hello\",6)\n",
    "R(\"hello\",$a)\n",
    "?R(\"hello\",Y)\n",
    "F(1.3,5)\n",
    "F(1.3,5.5)\n",
    "NewRel(X,Y)<-S(X,Y,3),T(X,Y)->(Y,Z)\n",
    "NewRel2(X,Y)<-S(X,Y,3),T2(X,Y)->(Y,Z)\n",
    "NewRel3(X,sum(Y))<-R(X,Y)\n",
    "NewRel4(X,count(Y))<-R(X,Y)\n",
    "NewRel5(count(X),Y)<-R(X,Y)\n",
    "\"\"\")\n",
    "\n",
    "# for ast in asts:\n",
    "#     draw(ast)\n",
    "\n",
    "with pytest.raises(ValueError) as exc_info:\n",
    "    asts = sess.run_query(f\"\"\"\n",
    "                x=3\n",
    "                Z(\"hello\",x)\n",
    "                \"\"\")\n",
    "print(exc_info.value)\n",
    "assert \"Adding or removing facts cannot have free variables\" in str(exc_info.value)\n",
    "\n",
    "with pytest.raises(ValueError) as exc_info:\n",
    "    asts = sess.run_query(f\"\"\"\n",
    "                Z(\"hello\",4)\n",
    "                \"\"\")\n",
    "print(exc_info.value)\n",
    "assert \"Relation 'Z' is not defined\" in str(exc_info.value)\n",
    "\n",
    "with pytest.raises(ValueError) as exc_info:\n",
    "    asts = sess.run_query(f\"\"\"\n",
    "                R(\"hello\",4,3)\n",
    "                \"\"\")\n",
    "print(exc_info.value)\n",
    "assert \"Relation 'R' expected schema R(str,int) but got called with R(hello,4,3)\" in str(exc_info.value)\n",
    "\n",
    "with pytest.raises(ValueError) as exc_info:\n",
    "    asts = sess.run_query(f\"\"\"\n",
    "                R(4,4)\n",
    "                \"\"\")\n",
    "print(exc_info.value)\n",
    "assert \"Relation 'R' expected schema R(str,int) but got called with R(4,4)\" in str(exc_info.value)\n",
    "\n",
    "\n",
    "with pytest.raises(ValueError) as exc_info:\n",
    "    asts = sess.run_query(f\"\"\"\n",
    "                R(\"hello\",$b)\n",
    "                \"\"\")\n",
    "print(exc_info.value)\n",
    "assert \"Relation 'R' expected schema R(str,int) but got called with R(hello,hello)\" in str(exc_info.value)\n",
    "\n",
    "\n",
    "with pytest.raises(ValueError) as exc_info:\n",
    "    asts = sess.run_query(f\"\"\"\n",
    "                ?R(4,Y)\n",
    "                \"\"\")\n",
    "print(exc_info.value)\n",
    "assert \"Relation 'R' expected schema R(str,int) but got called with R(4,Y)\" in str(exc_info.value)\n",
    "\n",
    "with pytest.raises(ValueError) as exc_info:\n",
    "    asts = sess.run_query(f\"\"\"\n",
    "                NewRel(X,Y)<-S(X,Y,3),T(X,Y,X)->(Y,Z)\n",
    "                \"\"\")\n",
    "print(exc_info.value)\n",
    "assert \"IERelation 'T' input expected schema\" in str(exc_info.value)\n",
    "\n",
    "with pytest.raises(ValueError) as exc_info:\n",
    "    asts = sess.run_query(f\"\"\"\n",
    "                NewRel(X,Y)<-S(X,Y,3),T(X,Y)->(Y,2)\n",
    "                \"\"\")\n",
    "print(exc_info.value)\n",
    "assert \"IERelation 'T' output expected schema\" in str(exc_info.value)\n",
    "\n",
    "with pytest.raises(ValueError) as exc_info:\n",
    "    asts = sess.run_query(f\"\"\"\n",
    "                NewRel(X,Y)<-S(X,Y,3),T3(X,Y)->(Y,X)\n",
    "                \"\"\")\n",
    "print(exc_info.value)\n",
    "assert \"ie function 'T3' was not registered\" in str(exc_info.value)\n",
    "\n",
    "with pytest.raises(ValueError) as exc_info:\n",
    "    asts = sess.run_query(f\"\"\"\n",
    "            NewRel3(X,sums(Y))<-R(X,Y)\n",
    "            \"\"\")\n",
    "print(exc_info.value)\n",
    "assert \"agg function 'sums' was not registered\" in str(exc_info.value)\n",
    "\n",
    "\n",
    "# assert  [serialize_tree(ast) for ast in asts] \n",
    "# [serialize_tree(ast) for ast in asts]"
   ]
  },
  {
   "cell_type": "markdown",
   "metadata": {},
   "source": [
    "## cast rules to data classes"
   ]
  },
  {
   "cell_type": "code",
   "execution_count": null,
   "metadata": {},
   "outputs": [],
   "source": [
    "#| export\n",
    "def rules_to_dataclasses(ast,engine):\n",
    "   for match in rewrite_iter(ast,\n",
    "      lhs='''\n",
    "         statement[type=\"rule\"]->head[type=\"rule_head\",val];\n",
    "         statement->body[type=\"rule_body_relation_list\"]\n",
    "      ''',p='statement[type]'):\n",
    "      body_nodes = list(ast.successors(match.mapping['body']))\n",
    "      head = match['head']['val']\n",
    "      match['statement']['val'] = Rule(head=match['head']['val'],body=[ast.nodes[body_node]['val'] for body_node in body_nodes])\n",
    "      ast.remove_nodes_from(body_nodes)\n",
    "   return ast"
   ]
  },
  {
   "cell_type": "code",
   "execution_count": null,
   "metadata": {},
   "outputs": [
    {
     "data": {
      "text/html": [
       "<img src=\"https://mermaid.ink/img/CmZsb3djaGFydCBUQgowWyIwCnR5cGU9I3F1b3Q7cnVsZSNxdW90OywgdmFsPVJ1bGUoaGVhZD1SZWxhdGlvbihuYW1lPSNxdW90O1IjcXVvdDssIHRlcm1zPVtGcmVlVmFyKG5hbWU9I3F1b3Q7WCNxdW90OyksIEZyZWVWYXIobmFtZT0jcXVvdDtZI3F1b3Q7KSwgRnJlZVZhcihuYW1lPSNxdW90O1ojcXVvdDspXSwgYWdnPU5vbmUpLCBib2R5PVtSZWxhdGlvbihuYW1lPSNxdW90O1MjcXVvdDssIHRlcm1zPVtGcmVlVmFyKG5hbWU9I3F1b3Q7WCNxdW90OyksIEZyZWVWYXIobmFtZT0jcXVvdDtZI3F1b3Q7KV0sIGFnZz1Ob25lKSwgUmVsYXRpb24obmFtZT0jcXVvdDtUI3F1b3Q7LCB0ZXJtcz1bRnJlZVZhcihuYW1lPSNxdW90O1gjcXVvdDspLCBGcmVlVmFyKG5hbWU9I3F1b3Q7WSNxdW90OyldLCBhZ2c9Tm9uZSldKSJdCg==\"/>"
      ],
      "text/plain": [
       "<IPython.core.display.Image object>"
      ]
     },
     "metadata": {},
     "output_type": "display_data"
    },
    {
     "data": {
      "text/html": [
       "<img src=\"https://mermaid.ink/img/CmZsb3djaGFydCBUQgowWyIwCnR5cGU9I3F1b3Q7cnVsZSNxdW90OywgdmFsPVJ1bGUoaGVhZD1SZWxhdGlvbihuYW1lPSNxdW90O1IjcXVvdDssIHRlcm1zPVtGcmVlVmFyKG5hbWU9I3F1b3Q7WCNxdW90OyksIEZyZWVWYXIobmFtZT0jcXVvdDtZI3F1b3Q7KSwgRnJlZVZhcihuYW1lPSNxdW90O1ojcXVvdDspXSwgYWdnPU5vbmUpLCBib2R5PVtSZWxhdGlvbihuYW1lPSNxdW90O1MjcXVvdDssIHRlcm1zPVtGcmVlVmFyKG5hbWU9I3F1b3Q7WCNxdW90OyksIEZyZWVWYXIobmFtZT0jcXVvdDtZI3F1b3Q7KV0sIGFnZz1Ob25lKSwgSUVSZWxhdGlvbihuYW1lPSNxdW90O1QjcXVvdDssIGluX3Rlcm1zPVtGcmVlVmFyKG5hbWU9I3F1b3Q7WCNxdW90OyksIEZyZWVWYXIobmFtZT0jcXVvdDtZI3F1b3Q7KV0sIG91dF90ZXJtcz1bRnJlZVZhcihuYW1lPSNxdW90O1kjcXVvdDspLCBGcmVlVmFyKG5hbWU9I3F1b3Q7WiNxdW90OyldKV0pIl0K\"/>"
      ],
      "text/plain": [
       "<IPython.core.display.Image object>"
      ]
     },
     "metadata": {},
     "output_type": "display_data"
    }
   ],
   "source": [
    "sess = DummySession(passes=[\n",
    "    convert_primitive_values_to_objects,\n",
    "    CheckReservedRelationNames('spanner_'),\n",
    "    check_referenced_paths_exist,\n",
    "    dereference_vars,\n",
    "    inline_aggregation,\n",
    "    relations_to_dataclasses,\n",
    "    # verify_referenced_relations_and_functions,\n",
    "    rules_to_dataclasses\n",
    "    ])\n",
    "\n",
    "asts = sess.run_query(\"\"\"\n",
    "R(X,Y,Z)<-S(X,Y),T(X,Y)\n",
    "R(X,Y,Z)<-S(X,Y),T(X,Y)->(Y,Z)\n",
    "\"\"\")\n",
    "for ast in asts:\n",
    "    draw(ast)\n",
    "\n",
    "assert  [serialize_tree(ast) for ast in asts] == [{'type': 'rule',\n",
    "  'val': Rule(head=Relation(name='R', terms=[FreeVar(name='X'), FreeVar(name='Y'), FreeVar(name='Z')]),\n",
    "               body=[Relation(name='S', terms=[FreeVar(name='X'), FreeVar(name='Y')]), \n",
    "                     Relation(name='T', terms=[FreeVar(name='X'), FreeVar(name='Y')])]),\n",
    "  'id': 0,\n",
    "  'children': []},\n",
    " {'type': 'rule',\n",
    "  'val': Rule(head=Relation(name='R', terms=[FreeVar(name='X'), FreeVar(name='Y'), FreeVar(name='Z')]), \n",
    "              body=[Relation(name='S', terms=[FreeVar(name='X'), FreeVar(name='Y')]), \n",
    "                    IERelation(name='T', in_terms=[FreeVar(name='X'), FreeVar(name='Y')], out_terms=[FreeVar(name='Y'), FreeVar(name='Z')])]),\n",
    "  'id': 0,\n",
    "  'children': []}]"
   ]
  },
  {
   "cell_type": "markdown",
   "metadata": {},
   "source": [
    "## Rule safety"
   ]
  },
  {
   "cell_type": "code",
   "execution_count": null,
   "metadata": {},
   "outputs": [],
   "source": [
    "#| export\n",
    "def is_rule_safe(rule:Rule):\n",
    "    \"\"\"\n",
    "    Checks that the Spannerlog Rule is safe\n",
    "    ---\n",
    "    In spannerlog, rule safety is a semantic property that ensures that IE relation's inputs are limited \n",
    "    in the values they can be assigned to by other relations in the rule body.\n",
    "    This could include outputs of other IE relations.\n",
    "\n",
    "    We call a free variable in a rule body \"bound\" if it exists in the output of any safe relation in the rule body.\n",
    "    For normal relations, they only have output terms, so all their free variables are considered bound.\n",
    "\n",
    "    We call a relation in a rule's body safe if all its input free variables are bound.\n",
    "    For normal relations, they don't have input relations, so they are always considered safe.\n",
    "\n",
    "    We call a rule safe if all of its body relations are safe.\n",
    "\n",
    "    This basically means that we need to make sure there is at least one order of IE relation evaluation, in which\n",
    "    each IE relation input variables is bound by the normal relations and the output relation of the previous IE relations.\n",
    "\n",
    "    Examples:\n",
    "    * `rel2(X,Y) <- rel1(X,Z), ie1(X)->(Y)` is a safe rule as the only input free variable, `X`, exists in the output of the safe relation `rel1(X, Z)`.  \n",
    "    * `rel2(Y) <- ie1(Z)->(Y)` is not safe as the input free variable `Z` does not exist in the output of any safe relation.\n",
    "    * `rel2(Z,W) <- rel1(X,Y),ie1(Z,Y)->(W),ie2(W,Y)->Z` is not safe as both ie functions require each other's output as input, creating a circular dependency.\n",
    "    ---\n",
    "    \"\"\"\n",
    "\n",
    "    # get all free vars in regular relations\n",
    "    normal_relations_free_vars = set()\n",
    "    for body in rule.body:\n",
    "        if isinstance(body,Relation):\n",
    "            for term in body.terms:\n",
    "                if isinstance(term,FreeVar):\n",
    "                    normal_relations_free_vars.add(term.name)\n",
    "    \n",
    "    # get list of form [(ie_rel,{input_vars},{output_vars})]\n",
    "    free_vars_per_ie_relation = {}\n",
    "    for body in rule.body:\n",
    "        if isinstance(body,IERelation):\n",
    "            input_vars = set(term.name for term in body.in_terms if isinstance(term,FreeVar))\n",
    "            output_vars = set(term.name for term in body.out_terms if isinstance(term,FreeVar))\n",
    "            free_vars_per_ie_relation[body]=(input_vars,output_vars)\n",
    "        \n",
    "    # iteratively go over all previously unsafe ie relations and check if they are now safe\n",
    "\n",
    "    safe_vars = normal_relations_free_vars.copy()\n",
    "    safe_ie_relations = set()\n",
    "\n",
    "    while True:\n",
    "        if len(free_vars_per_ie_relation)==0:\n",
    "            break\n",
    "        \n",
    "        safe_ie_relations_in_this_iteration = set()\n",
    "        for ie_relation,(input_vars,output_vars) in free_vars_per_ie_relation.items():\n",
    "            if input_vars.issubset(safe_vars):\n",
    "                safe_ie_relations_in_this_iteration.add(ie_relation)\n",
    "        \n",
    "        if len(safe_ie_relations_in_this_iteration)== 0 :\n",
    "            raise ValueError(f\"Rule \\'{pretty(rule)}\\' is not safe:\\n\"\n",
    "                            f\"the following free vars where bound by normal relations: {normal_relations_free_vars}\\n\"\n",
    "                            f\"the following ie relations where safe: {safe_ie_relations}\\n\"\n",
    "                            f\"leading to the following free vars being bound: {safe_vars}\\n\"\n",
    "                            f\"However the following ie relations could not be bound: {[pretty(ie) for ie in free_vars_per_ie_relation.keys()]}\\n\"\n",
    "                             )\n",
    "    \n",
    "        for ie_relation in safe_ie_relations_in_this_iteration:\n",
    "            input_vars,output_vars = free_vars_per_ie_relation[ie_relation]\n",
    "            safe_vars.update(output_vars)\n",
    "            safe_ie_relations.add(ie_relation)\n",
    "            del free_vars_per_ie_relation[ie_relation]\n",
    "\n",
    "\n",
    "\n",
    "    return True"
   ]
  },
  {
   "cell_type": "code",
   "execution_count": null,
   "metadata": {},
   "outputs": [],
   "source": [
    "#| export\n",
    "def check_rule_safety(ast,engine):\n",
    "    for match in rewrite_iter(ast,lhs='X[type=\"rule\",val]'):\n",
    "        rule = match['X']['val']\n",
    "        is_rule_safe(rule)\n",
    "    return ast"
   ]
  },
  {
   "cell_type": "code",
   "execution_count": null,
   "metadata": {},
   "outputs": [
    {
     "name": "stdout",
     "output_type": "stream",
     "text": [
      "Rule 'rel2(Y) <- ie1(Z) -> (Y)' is not safe:\n",
      "the following free vars where bound by normal relations: set()\n",
      "the following ie relations where safe: set()\n",
      "leading to the following free vars being bound: set()\n",
      "However the following ie relations could not be bound: ['ie1(Z) -> (Y)']\n",
      "\n",
      "Rule 'rel2(Z,W) <- rel1(X,Y),ie1(Z,Y) -> (W),ie2(W,Y) -> (Z)' is not safe:\n",
      "the following free vars where bound by normal relations: {'X', 'Y'}\n",
      "the following ie relations where safe: set()\n",
      "leading to the following free vars being bound: {'X', 'Y'}\n",
      "However the following ie relations could not be bound: ['ie1(Z,Y) -> (W)', 'ie2(W,Y) -> (Z)']\n",
      "\n"
     ]
    }
   ],
   "source": [
    "sess = DummySession(passes=[\n",
    "    convert_primitive_values_to_objects,\n",
    "    relations_to_dataclasses,\n",
    "    rules_to_dataclasses,\n",
    "    check_rule_safety,\n",
    "    ])\n",
    "\n",
    "\n",
    "# safe rules\n",
    "asts = sess.run_query(\"\"\"\n",
    "S(X,Y)<-R(X,Y)    \n",
    "rel2(X,Y) <- rel1(X,Z), ie1(X)->(Y)\n",
    "rel2(X,Y) <- rel1(X,Z), ie1(X)->(Y), ie2(Y)->(Z)\n",
    "rel2(X,Y) <- rel1(X), ie1(X)->(Y), ie2(Y)->(Z)\n",
    "\"\"\")\n",
    "t = serialize_tree(asts[0])\n",
    "\n",
    "# change types of R to make it illegal\n",
    "with pytest.raises(ValueError) as exc_info:\n",
    "    asts = sess.run_query(\"\"\"\n",
    "    rel2(Y) <- ie1(Z)->(Y)\n",
    "    \"\"\")\n",
    "print(exc_info.value)\n",
    "assert \"is not safe\" in str(exc_info.value)\n",
    "\n",
    "\n",
    "with pytest.raises(ValueError) as exc_info:\n",
    "    asts = sess.run_query(\"\"\"\n",
    "    rel2(Z,W) <- rel1(X,Y),ie1(Z,Y)->(W),ie2(W,Y)->(Z)    \n",
    "    \"\"\")\n",
    "print(exc_info.value)\n",
    "assert \"is not safe\" in str(exc_info.value)\n",
    "\n",
    "\n",
    "\n"
   ]
  },
  {
   "cell_type": "markdown",
   "metadata": {},
   "source": [
    "## Consistent Free Var types"
   ]
  },
  {
   "cell_type": "code",
   "execution_count": null,
   "metadata": {},
   "outputs": [
    {
     "name": "stdout",
     "output_type": "stream",
     "text": [
      "\u001b[0;31mSignature:\u001b[0m \u001b[0mget_bounding_order\u001b[0m\u001b[0;34m(\u001b[0m\u001b[0mrule\u001b[0m\u001b[0;34m:\u001b[0m \u001b[0mspannerlib\u001b[0m\u001b[0;34m.\u001b[0m\u001b[0mdata_types\u001b[0m\u001b[0;34m.\u001b[0m\u001b[0mRule\u001b[0m\u001b[0;34m)\u001b[0m\u001b[0;34m\u001b[0m\u001b[0;34m\u001b[0m\u001b[0m\n",
      "\u001b[0;31mDocstring:\u001b[0m\n",
      "Get an order of evaluation for the body of a rule\n",
      "this is a very naive ordering that can be heavily optimized\n",
      "\u001b[0;31mFile:\u001b[0m      ~/tdk/spannerlib/spannerlib/term_graph.py\n",
      "\u001b[0;31mType:\u001b[0m      function"
     ]
    }
   ],
   "source": [
    "#TODO from here, add tests with complex data types and sub types using the utils\n",
    "from spannerlib.term_graph import get_bounding_order\n",
    "get_bounding_order?"
   ]
  },
  {
   "cell_type": "code",
   "execution_count": null,
   "metadata": {},
   "outputs": [],
   "source": [
    "#| export\n",
    "\n",
    "from spannerlib.term_graph import get_bounding_order\n",
    "\n",
    "def _check_rule_consistency(rule,engine):\n",
    "    # for each free var we encounter, what is the type is is according to the relation schema\n",
    "    free_var_to_type = {}\n",
    "    # what is the first relation we found each var in, useful for error messages\n",
    "    first_rel_to_define_free_var = {}\n",
    "\n",
    "    \n",
    "    def verify_freevar_type(free_var,col_type):\n",
    "        if free_var.name in free_var_to_type:\n",
    "            try:\n",
    "                new_type = type_merge(free_var_to_type[free_var.name],col_type)\n",
    "                free_var_to_type[free_var.name] = new_type\n",
    "            except:\n",
    "                raise ValueError(f\"FreeVar {free_var.name} is used with type {pretty(col_type)}\\n\"\n",
    "                        f\"but was previously defined with type {pretty(free_var_to_type[free_var.name])}\\n\"\n",
    "                        f\"in relation {first_rel_to_define_free_var[free_var.name]}\")\n",
    "        else:\n",
    "            free_var_to_type[free_var.name] = col_type\n",
    "            first_rel_to_define_free_var[free_var.name] = relation.name\n",
    "\n",
    "\n",
    "\n",
    "    def verify_relation_types(rel_type,terms,expected_schema):\n",
    "        logger.debug(f\"verifying relation types for {rel_type} {pretty(relation)} expected_schema={pretty(expected_schema)}\")\n",
    "        if callable(expected_schema):\n",
    "            expected_schema = expected_schema(len(terms))\n",
    "        # for each term in the relation that is a free var\n",
    "        for term,expected_type in zip(terms,expected_schema):\n",
    "            if isinstance(term,FreeVar):\n",
    "                try:\n",
    "                    logger.debug(f\"verifying free var type for {term} with type {expected_type}\")\n",
    "                    verify_freevar_type(term,expected_type)\n",
    "                except ValueError as e:\n",
    "                    raise ValueError(f\"In rule {pretty(rule)}\\nin {rel_type} {relation.name}\\n{e}\")\n",
    "                \n",
    "\n",
    "    for relation in get_bounding_order(rule):\n",
    "        if isinstance(relation,Relation):\n",
    "            verify_relation_types('relation',relation.terms,engine.get_relation(relation.name).scheme)\n",
    "        elif isinstance(relation,IERelation):\n",
    "            verify_relation_types('ie input relation',relation.in_terms,engine.get_ie_function(relation.name).in_schema)\n",
    "            verify_relation_types('ie output relation',relation.out_terms,engine.get_ie_function(relation.name).out_schema)\n",
    "\n",
    "    logger.debug(f\"after deriving types from body clauses:free_var_to_type={free_var_to_type}\")\n",
    "           \n",
    "    # for rule head, make sure all free vars are defined in the body\n",
    "    # and if the rule head was used in another rule, make sure it has the same types\n",
    "    head_name, head_terms = rule.head.name, rule.head.terms\n",
    "    head_agg = rule.head.agg\n",
    "    for term in head_terms:\n",
    "        if isinstance(term,FreeVar) and not term.name in free_var_to_type:\n",
    "            raise ValueError(f\"In rule {pretty(rule)}\\nFreeVar {term.name}\\n\"\n",
    "                f\"is used in the head but was not defined in the body\")\n",
    "    \n",
    "\n",
    "    # if no aggregations, the head schema is the same as the free var types\n",
    "    if head_agg is None:\n",
    "        head_scheme = [free_var_to_type[term.name] if isinstance(term,FreeVar) else type(term) for term in head_terms]\n",
    "    \n",
    "    # if we do have aggregation, than we need to change the type of the free var to the type of the aggregation's output\n",
    "    else:\n",
    "        head_scheme = []\n",
    "        for term,agg_name in zip(head_terms,head_agg):\n",
    "            if not isinstance(term,FreeVar):\n",
    "                head_scheme.append(type(term))\n",
    "                continue\n",
    "\n",
    "            if agg_name is not None:\n",
    "                agg_func = engine.get_agg_function(agg_name)\n",
    "                in_schema = agg_func.in_schema\n",
    "                out_schema = agg_func.out_schema\n",
    "                if not schema_match([free_var_to_type[term.name]],in_schema):\n",
    "                    raise ValueError(f\"In rule {pretty(rule)}\\n\"\n",
    "                        f\"in head clause {head_name}\\n\"\n",
    "                        f\"FreeVar {term.name} is aggregated with {agg_name}\\n\"\n",
    "                        f\"which expects input type {pretty(in_schema[0])}\\n\"\n",
    "                        f\"but got {pretty(free_var_to_type[term.name])}\")\n",
    "                head_scheme.append(out_schema[0])\n",
    "            else:\n",
    "                head_scheme.append(free_var_to_type[term.name])\n",
    "\n",
    "    current_head_schema = RelationDefinition(name=head_name,scheme=head_scheme)\n",
    "\n",
    "    if engine.get_relation(head_name):\n",
    "        expected_head_schema = engine.get_relation(head_name)\n",
    "        if expected_head_schema != current_head_schema:\n",
    "            raise ValueError(f\"In rule {pretty(rule)}\\n\"\n",
    "                f\"expected schema {pretty(expected_head_schema)}\\n\"\n",
    "                f\"from a previously defined rule to {head_name}\\n\"\n",
    "                f\"but got {pretty(current_head_schema)}\")\n",
    "    else:\n",
    "        engine.set_relation(current_head_schema)\n"
   ]
  },
  {
   "cell_type": "code",
   "execution_count": null,
   "metadata": {},
   "outputs": [],
   "source": [
    "#| export\n",
    "def consistent_free_var_types_in_rule(ast,engine):\n",
    "    for match in rewrite_iter(ast,lhs='X[type=\"rule\",val]'):\n",
    "        rule = match['X']['val']\n",
    "        _check_rule_consistency(rule,engine)\n",
    "    return ast"
   ]
  },
  {
   "cell_type": "code",
   "execution_count": null,
   "metadata": {},
   "outputs": [
    {
     "name": "stdout",
     "output_type": "stream",
     "text": [
      "In rule NewRel(X,Y) <- S(X,Y,3),T(X,Y) -> (Y,Z),R(Y,Z) in relation R FreeVar Y is used with type str but was previously defined with type int in relation S\n",
      "In rule NewRel(X,Y) <- S(X,Y,3),T(X,Y) -> (Y,Y) in ie output relation T FreeVar Y is used with type str but was previously defined with type int in relation S\n",
      "In rule NewRel(X,Y,W) <- S(X,Y,3),T(X,Y) -> (Y,Z),R(Z,Y) FreeVar W is used in the head but was not defined in the body\n",
      "In rule NewRel(Y,X) <- S(X,Y,3),T(X,Y) -> (Y,Z),R(Z,Y) expected schema NewRel(str,int) from a previously defined rule to NewRel but got NewRel(int,str)\n",
      "In rule NewRel(sum(X),Y) <- S(X,Y,3),T(X,Y) -> (Y,Z),R(Z,Y) in head clause NewRel FreeVar X is aggregated with sum which expects input type int but got str\n",
      "In rule NewRel(count(X),Y) <- S(X,Y,3),T(X,Y) -> (Y,Z),R(Z,Y) expected schema NewRel(str,int) from a previously defined rule to NewRel but got NewRel(int,int)\n"
     ]
    }
   ],
   "source": [
    "sess = DummySession(passes=[\n",
    "    convert_primitive_values_to_objects,\n",
    "    CheckReservedRelationNames('spanner_'),\n",
    "    check_referenced_paths_exist,\n",
    "    dereference_vars,\n",
    "    inline_aggregation,\n",
    "    relations_to_dataclasses,\n",
    "    verify_referenced_relations_and_functions,\n",
    "    rules_to_dataclasses,\n",
    "    check_rule_safety,\n",
    "    consistent_free_var_types_in_rule,\n",
    "    ])\n",
    "\n",
    "\n",
    "sess.engine.set_var('a',1)\n",
    "sess.engine.set_var('b','hello')\n",
    "sess.engine.set_relation(RelationDefinition(name='R',scheme=[str,int]))\n",
    "sess.engine.set_relation(RelationDefinition(name='S',scheme=[str,int,int]))\n",
    "sess.engine.set_relation(RelationDefinition(name='S2',scheme=[str,float,float]))\n",
    "sess.engine.set_relation(RelationDefinition(name='NewRel',scheme=[str,int]))\n",
    "sess.engine.set_ie_function(IEFunction(name='T',in_schema=[str,Real],out_schema=[Real,str],func=lambda x,y:(y,x)))\n",
    "sess.engine.set_agg_function(AGGFunction(name='sum',func='sum',in_schema=[int],out_schema=[int]))\n",
    "sess.engine.set_agg_function(AGGFunction(name='count',func='count',in_schema=[object],out_schema=[int]))\n",
    "\n",
    "# legal query\n",
    "# with checkLogs():\n",
    "asts = sess.run_query(\"\"\"\n",
    "NewRel(X,Y)<-S(X,Y,3),T(X,Y)->(Y,Z),R(Z,Y)\n",
    "NewRel(X,sum(Y))<-S(X,Y,3),T(X,Y)->(Y,Z),R(Z,Y)\n",
    "NewRel2(X,sum(Y),\"yes\")<-S(X,Y,3),T(X,Y)->(Y,Z),R(Z,Y)\n",
    "S3(X,Y,'yes')<-R(X,Y)    \n",
    "\"\"\")\n",
    "t = serialize_tree(asts[0])\n",
    "\n",
    "assert sess.engine.get_relation('NewRel').scheme == [str,int]\n",
    "assert sess.engine.get_relation('NewRel2').scheme == [str,int,str]\n",
    "assert sess.engine.get_relation('S3').scheme == [str,int,str]\n",
    "\n",
    "# change types of R to make it illegal\n",
    "with pytest.raises(ValueError) as exc_info:\n",
    "    asts = sess.run_query(\"\"\"\n",
    "    NewRel(X,Y)<-S(X,Y,3),T(X,Y)->(Y,Z),R(Y,Z)\n",
    "    \"\"\")\n",
    "exc_msg = str(exc_info.value).replace('\\n',' ')\n",
    "print(exc_msg)\n",
    "assert \"FreeVar Y is used with type str but was previously defined with type int in relation S\" in exc_msg\n",
    "\n",
    "# change types of R to make it illegal\n",
    "with pytest.raises(ValueError) as exc_info:\n",
    "    asts = sess.run_query(\"\"\"\n",
    "    NewRel(X,Y)<-S(X,Y,3),T(X,Y)->(Y,Y)\n",
    "    \"\"\")\n",
    "exc_msg = str(exc_info.value).replace('\\n',' ')\n",
    "print(exc_msg)\n",
    "assert \"Y is used with type str but was previously defined with type int in relation S\" in exc_msg\n",
    "\n",
    "# free var in head, bound by body\n",
    "with pytest.raises(ValueError) as exc_info:\n",
    "    asts = sess.run_query(\"\"\"\n",
    "    NewRel(X,Y,W)<-S(X,Y,3),T(X,Y)->(Y,Z),R(Z,Y)\n",
    "    \"\"\")\n",
    "exc_msg = str(exc_info.value).replace('\\n',' ')\n",
    "print(exc_msg)\n",
    "assert \"FreeVar W is used in the head but was not defined in the body\" in exc_msg\n",
    "\n",
    "# head free var type mismatch\n",
    "with pytest.raises(ValueError) as exc_info:\n",
    "    asts = sess.run_query(\"\"\"\n",
    "    NewRel(Y,X)<-S(X,Y,3),T(X,Y)->(Y,Z),R(Z,Y)\n",
    "    \"\"\")\n",
    "exc_msg = str(exc_info.value).replace('\\n',' ')\n",
    "print(exc_msg)\n",
    "assert \"expected schema NewRel(str,int) from a previously defined rule to NewRel but got NewRel(int,str)\" in exc_msg\n",
    "t\n",
    "\n",
    "# aggregation got wrong input type\n",
    "with pytest.raises(ValueError) as exc_info:\n",
    "    asts = sess.run_query(\"\"\"\n",
    "    NewRel(sum(X),Y)<-S(X,Y,3),T(X,Y)->(Y,Z),R(Z,Y)\n",
    "    \"\"\")\n",
    "exc_msg = str(exc_info.value).replace('\\n',' ')\n",
    "print(exc_msg)\n",
    "assert \"FreeVar X is aggregated with sum which expects input type int but got str\" in exc_msg\n",
    "\n",
    "# aggregation caused conflict with previous type\n",
    "with pytest.raises(ValueError) as exc_info:\n",
    "    asts = sess.run_query(\"\"\"\n",
    "    NewRel(count(X),Y)<-S(X,Y,3),T(X,Y)->(Y,Z),R(Z,Y)\n",
    "    \"\"\")\n",
    "exc_msg = str(exc_info.value).replace('\\n',' ')\n",
    "print(exc_msg)\n",
    "assert \"expected schema NewRel(str,int) from a previously defined rule to NewRel but got NewRel(int,int)\" in exc_msg"
   ]
  },
  {
   "cell_type": "markdown",
   "metadata": {},
   "source": [
    "## Preprocess assignments"
   ]
  },
  {
   "cell_type": "code",
   "execution_count": null,
   "metadata": {},
   "outputs": [],
   "source": [
    "#| export\n",
    "def assignments_to_name_val_tuple(ast,engine):\n",
    "    for match in rewrite_iter(ast,lhs='''\n",
    "                                statement[type]-[idx=0]->var_name_node[val];\n",
    "                                statement-[idx=1]->val_node[val]''',p='statement[type]',\n",
    "                                condition=lambda match: match['statement']['type'] in ['assignment','read_assignment'],\n",
    "                                # display_matches=True\n",
    "                                ):\n",
    "        match['statement']['val'] = (\n",
    "            match['var_name_node']['val'].name,\n",
    "            match['val_node']['val']\n",
    "        )\n",
    "    return ast"
   ]
  },
  {
   "cell_type": "code",
   "execution_count": null,
   "metadata": {},
   "outputs": [
    {
     "data": {
      "text/html": [
       "<img src=\"https://mermaid.ink/img/CmZsb3djaGFydCBUQgowWyIwCnR5cGU9I3F1b3Q7YXNzaWdubWVudCNxdW90OywgdmFsPSgjcXVvdDt4I3F1b3Q7LCAzKSJdCg==\"/>"
      ],
      "text/plain": [
       "<IPython.core.display.Image object>"
      ]
     },
     "metadata": {},
     "output_type": "display_data"
    },
    {
     "data": {
      "text/html": [
       "<img src=\"https://mermaid.ink/img/CmZsb3djaGFydCBUQgowWyIwCnR5cGU9I3F1b3Q7YXNzaWdubWVudCNxdW90OywgdmFsPSgjcXVvdDt5I3F1b3Q7LCAjcXVvdDtoZWxsbyNxdW90OykiXQo=\"/>"
      ],
      "text/plain": [
       "<IPython.core.display.Image object>"
      ]
     },
     "metadata": {},
     "output_type": "display_data"
    },
    {
     "data": {
      "text/html": [
       "<img src=\"https://mermaid.ink/img/CmZsb3djaGFydCBUQgowWyIwCnR5cGU9I3F1b3Q7YXNzaWdubWVudCNxdW90OywgdmFsPSgjcXVvdDt6I3F1b3Q7LCAjcXVvdDtoZWxsbyB3b3JsZCNxdW90OykiXQo=\"/>"
      ],
      "text/plain": [
       "<IPython.core.display.Image object>"
      ]
     },
     "metadata": {},
     "output_type": "display_data"
    },
    {
     "data": {
      "text/html": [
       "<img src=\"https://mermaid.ink/img/CmZsb3djaGFydCBUQgowWyIwCnR5cGU9I3F1b3Q7cmVhZF9hc3NpZ25tZW50I3F1b3Q7LCB2YWw9KCNxdW90O2YjcXVvdDssICNxdW90O2ZpbGUudHh0I3F1b3Q7KSJdCg==\"/>"
      ],
      "text/plain": [
       "<IPython.core.display.Image object>"
      ]
     },
     "metadata": {},
     "output_type": "display_data"
    }
   ],
   "source": [
    "sess = DummySession(passes=[\n",
    "    convert_primitive_values_to_objects,\n",
    "    CheckReservedRelationNames('spanner_'),\n",
    "    # check_referenced_paths_exist,\n",
    "    # dereference_vars,\n",
    "    inline_aggregation,\n",
    "    relations_to_dataclasses,\n",
    "    # verify_referenced_relations_and_functions,\n",
    "    rules_to_dataclasses,\n",
    "    check_rule_safety,\n",
    "    # consistent_free_var_types_in_rule,\n",
    "    assignments_to_name_val_tuple\n",
    "    ])\n",
    "\n",
    "\n",
    "file = Path(\"file.txt\")\n",
    "file.write_text(\"hello file\")\n",
    "\n",
    "# safe rules\n",
    "asts = sess.run_query(\"\"\"\n",
    "x=3\n",
    "y=\"hello\"\n",
    "z=\"hello \\\n",
    "world\"\n",
    "f=read(\"file.txt\")\n",
    "\"\"\")\n",
    "\n",
    "for ast in asts:\n",
    "    draw(ast)\n",
    "assert [serialize_tree(ast) for ast in asts] == [{'type': 'assignment', 'val': ('x', 3), 'id': 0, 'children': []},\n",
    " {'type': 'assignment', 'val': ('y', 'hello'), 'id': 0, 'children': []},\n",
    " {'type': 'assignment', 'val': ('z', 'hello world'), 'id': 0, 'children': []},\n",
    " {'type': 'read_assignment',\n",
    "  'val': ('f', 'file.txt'),\n",
    "  'id': 0,\n",
    "  'children': []}]"
   ]
  },
  {
   "cell_type": "markdown",
   "metadata": {},
   "source": [
    "# Execution passes"
   ]
  },
  {
   "cell_type": "code",
   "execution_count": null,
   "metadata": {},
   "outputs": [],
   "source": [
    "#| export\n",
    "def statement_type_and_value(ast):\n",
    "    statement_node = list(ast.nodes)[0]\n",
    "    node_data = ast.nodes[statement_node]\n",
    "    statement = node_data['type']\n",
    "    value = node_data['val']\n",
    "    return statement,value\n",
    "\n",
    "\n",
    "def execute_statement(ast,engine):\n",
    "    statement,value = statement_type_and_value(ast)\n",
    "    match statement:\n",
    "        case 'assignment':\n",
    "            engine.set_var(*value)\n",
    "        case 'read_assignment':\n",
    "            engine.set_var(*value,read_from_file=True)\n",
    "        case 'add_fact':\n",
    "            engine.add_fact(value)\n",
    "        case 'remove_fact':\n",
    "            engine.del_fact(value)\n",
    "        case 'relation_declaration':\n",
    "            engine.set_relation(value)\n",
    "        case 'rule':\n",
    "            engine.add_rule(value)\n",
    "        case 'query':\n",
    "            return engine.run_query(value)\n",
    "        case _:\n",
    "            raise ValueError(f\"Unknown statement type {statement}\")\n",
    "    return None\n",
    "\n",
    "    "
   ]
  },
  {
   "cell_type": "code",
   "execution_count": null,
   "metadata": {},
   "outputs": [
    {
     "data": {
      "text/plain": [
       "{}"
      ]
     },
     "execution_count": null,
     "metadata": {},
     "output_type": "execute_result"
    }
   ],
   "source": [
    "# sess.engine.set_relation(RelationDefinition(name='R',scheme=[str,int]))\n",
    "sess.engine.Relation_defs"
   ]
  },
  {
   "cell_type": "code",
   "execution_count": null,
   "metadata": {},
   "outputs": [
    {
     "name": "stdout",
     "output_type": "stream",
     "text": [
      "Path('file.txt')\n"
     ]
    },
    {
     "data": {
      "text/plain": [
       "[None,\n",
       " Empty DataFrame\n",
       " Columns: [X, Y, A]\n",
       " Index: []]"
      ]
     },
     "execution_count": null,
     "metadata": {},
     "output_type": "execute_result"
    }
   ],
   "source": [
    "sess = DummySession(passes=[\n",
    "    convert_primitive_values_to_objects,\n",
    "    CheckReservedRelationNames('spanner_'),\n",
    "    check_referenced_paths_exist,\n",
    "    dereference_vars,\n",
    "    inline_aggregation,\n",
    "    relations_to_dataclasses,\n",
    "    verify_referenced_relations_and_functions,\n",
    "    rules_to_dataclasses,\n",
    "    consistent_free_var_types_in_rule,\n",
    "    check_rule_safety,\n",
    "    assignments_to_name_val_tuple,\n",
    "    ],\n",
    "    execution_function=execute_statement\n",
    "    )\n",
    "\n",
    "sess.symbol_table ={}\n",
    "\n",
    "file = Path(\"file.txt\")\n",
    "file.write_text(\"hello file\")\n",
    "\n",
    "# safe rules\n",
    "results = sess.run_query(\"\"\"\n",
    "x=3\n",
    "y=read(\"file.txt\")\n",
    "new R(str,int)\n",
    "R(\"hello\",4)\n",
    "?R(\"hello\",x)\n",
    "S(X,Y)<-R(X,Y)    \n",
    "?R(X,Y)\n",
    "-R(\"hello\",4)\n",
    "?S(X,Y)\n",
    "\"\"\")\n",
    "file.unlink()\n",
    "\n",
    "assert serialize_df_values(results[-3])=={('hello',4)}\n",
    "assert serialize_df_values(results[-1])==set()\n",
    "\n",
    "results = sess.run_query(\"\"\"\n",
    "S2(X,Y,'yes')<-R(X,Y)    \n",
    "?S2(X,Y,A)\n",
    "\"\"\")\n",
    "results"
   ]
  },
  {
   "cell_type": "code",
   "execution_count": null,
   "metadata": {},
   "outputs": [
    {
     "name": "stdout",
     "output_type": "stream",
     "text": [
      "Path('file.txt')\n"
     ]
    },
    {
     "data": {
      "text/html": [
       "<img src=\"https://mermaid.ink/img/CmZsb3djaGFydCBUQgowWyIwCnR5cGU9I3F1b3Q7YXNzaWdubWVudCNxdW90OywgdmFsPSgjcXVvdDt4I3F1b3Q7LCAzKSJdCg==\"/>"
      ],
      "text/plain": [
       "<IPython.core.display.Image object>"
      ]
     },
     "metadata": {},
     "output_type": "display_data"
    },
    {
     "data": {
      "text/html": [
       "<img src=\"https://mermaid.ink/img/CmZsb3djaGFydCBUQgowWyIwCnR5cGU9I3F1b3Q7cmVhZF9hc3NpZ25tZW50I3F1b3Q7LCB2YWw9KCNxdW90O3kjcXVvdDssICNxdW90O2ZpbGUudHh0I3F1b3Q7KSJdCg==\"/>"
      ],
      "text/plain": [
       "<IPython.core.display.Image object>"
      ]
     },
     "metadata": {},
     "output_type": "display_data"
    },
    {
     "data": {
      "text/html": [
       "<img src=\"https://mermaid.ink/img/CmZsb3djaGFydCBUQgowWyIwCnR5cGU9I3F1b3Q7cmVsYXRpb25fZGVjbGFyYXRpb24jcXVvdDssIHZhbD1SZWxhdGlvbkRlZmluaXRpb24obmFtZT0jcXVvdDtSI3F1b3Q7LCBzY2hlbWU9WyNsdDtjbGFzcyAjcXVvdDtzdHIjcXVvdDsjZ3Q7LCAjbHQ7Y2xhc3MgI3F1b3Q7aW50I3F1b3Q7I2d0O10pIl0K\"/>"
      ],
      "text/plain": [
       "<IPython.core.display.Image object>"
      ]
     },
     "metadata": {},
     "output_type": "display_data"
    },
    {
     "data": {
      "text/html": [
       "<img src=\"https://mermaid.ink/img/CmZsb3djaGFydCBUQgowWyIwCnR5cGU9I3F1b3Q7YWRkX2ZhY3QjcXVvdDssIHZhbD1SZWxhdGlvbihuYW1lPSNxdW90O1IjcXVvdDssIHRlcm1zPVsjcXVvdDtoZWxsbyNxdW90OywgNF0sIGFnZz1Ob25lKSJdCg==\"/>"
      ],
      "text/plain": [
       "<IPython.core.display.Image object>"
      ]
     },
     "metadata": {},
     "output_type": "display_data"
    },
    {
     "data": {
      "text/html": [
       "<img src=\"https://mermaid.ink/img/CmZsb3djaGFydCBUQgowWyIwCnR5cGU9I3F1b3Q7cXVlcnkjcXVvdDssIHZhbD1SZWxhdGlvbihuYW1lPSNxdW90O1IjcXVvdDssIHRlcm1zPVsjcXVvdDtoZWxsbyNxdW90OywgRnJlZVZhcihuYW1lPSNxdW90O3gjcXVvdDspXSwgYWdnPU5vbmUpIl0K\"/>"
      ],
      "text/plain": [
       "<IPython.core.display.Image object>"
      ]
     },
     "metadata": {},
     "output_type": "display_data"
    },
    {
     "data": {
      "text/html": [
       "<img src=\"https://mermaid.ink/img/CmZsb3djaGFydCBUQgowWyIwCnR5cGU9I3F1b3Q7cnVsZSNxdW90OywgdmFsPVJ1bGUoaGVhZD1SZWxhdGlvbihuYW1lPSNxdW90O1MjcXVvdDssIHRlcm1zPVtGcmVlVmFyKG5hbWU9I3F1b3Q7WCNxdW90OyksIEZyZWVWYXIobmFtZT0jcXVvdDtZI3F1b3Q7KV0sIGFnZz1Ob25lKSwgYm9keT1bUmVsYXRpb24obmFtZT0jcXVvdDtSI3F1b3Q7LCB0ZXJtcz1bRnJlZVZhcihuYW1lPSNxdW90O1gjcXVvdDspLCBGcmVlVmFyKG5hbWU9I3F1b3Q7WSNxdW90OyldLCBhZ2c9Tm9uZSldKSJdCg==\"/>"
      ],
      "text/plain": [
       "<IPython.core.display.Image object>"
      ]
     },
     "metadata": {},
     "output_type": "display_data"
    },
    {
     "data": {
      "text/html": [
       "<img src=\"https://mermaid.ink/img/CmZsb3djaGFydCBUQgowWyIwCnR5cGU9I3F1b3Q7cnVsZSNxdW90OywgdmFsPVJ1bGUoaGVhZD1SZWxhdGlvbihuYW1lPSNxdW90O1MyI3F1b3Q7LCB0ZXJtcz1bRnJlZVZhcihuYW1lPSNxdW90O1gjcXVvdDspLCBGcmVlVmFyKG5hbWU9I3F1b3Q7WSNxdW90OyksICNxdW90O3llcyNxdW90O10sIGFnZz1Ob25lKSwgYm9keT1bUmVsYXRpb24obmFtZT0jcXVvdDtSI3F1b3Q7LCB0ZXJtcz1bRnJlZVZhcihuYW1lPSNxdW90O1gjcXVvdDspLCBGcmVlVmFyKG5hbWU9I3F1b3Q7WSNxdW90OyldLCBhZ2c9Tm9uZSldKSJdCg==\"/>"
      ],
      "text/plain": [
       "<IPython.core.display.Image object>"
      ]
     },
     "metadata": {},
     "output_type": "display_data"
    },
    {
     "data": {
      "text/html": [
       "<img src=\"https://mermaid.ink/img/CmZsb3djaGFydCBUQgowWyIwCnR5cGU9I3F1b3Q7cXVlcnkjcXVvdDssIHZhbD1SZWxhdGlvbihuYW1lPSNxdW90O1IjcXVvdDssIHRlcm1zPVtGcmVlVmFyKG5hbWU9I3F1b3Q7WCNxdW90OyksIEZyZWVWYXIobmFtZT0jcXVvdDtZI3F1b3Q7KV0sIGFnZz1Ob25lKSJdCg==\"/>"
      ],
      "text/plain": [
       "<IPython.core.display.Image object>"
      ]
     },
     "metadata": {},
     "output_type": "display_data"
    },
    {
     "data": {
      "text/html": [
       "<img src=\"https://mermaid.ink/img/CmZsb3djaGFydCBUQgowWyIwCnR5cGU9I3F1b3Q7cmVtb3ZlX2ZhY3QjcXVvdDssIHZhbD1SZWxhdGlvbihuYW1lPSNxdW90O1IjcXVvdDssIHRlcm1zPVsjcXVvdDtoZWxsbyNxdW90OywgNF0sIGFnZz1Ob25lKSJdCg==\"/>"
      ],
      "text/plain": [
       "<IPython.core.display.Image object>"
      ]
     },
     "metadata": {},
     "output_type": "display_data"
    },
    {
     "data": {
      "text/html": [
       "<img src=\"https://mermaid.ink/img/CmZsb3djaGFydCBUQgowWyIwCnR5cGU9I3F1b3Q7cXVlcnkjcXVvdDssIHZhbD1SZWxhdGlvbihuYW1lPSNxdW90O1MjcXVvdDssIHRlcm1zPVtGcmVlVmFyKG5hbWU9I3F1b3Q7WCNxdW90OyksIEZyZWVWYXIobmFtZT0jcXVvdDtZI3F1b3Q7KV0sIGFnZz1Ob25lKSJdCg==\"/>"
      ],
      "text/plain": [
       "<IPython.core.display.Image object>"
      ]
     },
     "metadata": {},
     "output_type": "display_data"
    },
    {
     "data": {
      "text/html": [
       "<img src=\"https://mermaid.ink/img/CmZsb3djaGFydCBUQgowWyIwCnR5cGU9I3F1b3Q7cXVlcnkjcXVvdDssIHZhbD1SZWxhdGlvbihuYW1lPSNxdW90O1MyI3F1b3Q7LCB0ZXJtcz1bRnJlZVZhcihuYW1lPSNxdW90O1gjcXVvdDspLCBGcmVlVmFyKG5hbWU9I3F1b3Q7WSNxdW90OyksIEZyZWVWYXIobmFtZT0jcXVvdDtBI3F1b3Q7KV0sIGFnZz1Ob25lKSJdCg==\"/>"
      ],
      "text/plain": [
       "<IPython.core.display.Image object>"
      ]
     },
     "metadata": {},
     "output_type": "display_data"
    }
   ],
   "source": [
    "sess = DummySession(passes=[\n",
    "    convert_primitive_values_to_objects,\n",
    "    CheckReservedRelationNames('spanner_'),\n",
    "    check_referenced_paths_exist,\n",
    "    # dereference_vars,\n",
    "    inline_aggregation,\n",
    "    relations_to_dataclasses,\n",
    "    # verify_referenced_relations_and_functions,\n",
    "    rules_to_dataclasses,\n",
    "    # consistent_free_var_types_in_rule,\n",
    "    check_rule_safety,\n",
    "    assignments_to_name_val_tuple,\n",
    "    ],\n",
    "    # execution_function=execute_statement\n",
    "    )\n",
    "\n",
    "sess.symbol_table ={}\n",
    "\n",
    "file = Path(\"file.txt\")\n",
    "file.write_text(\"hello file\")\n",
    "\n",
    "# safe rules\n",
    "asts = sess.run_query(\"\"\"\n",
    "x=3\n",
    "y=read(\"file.txt\")\n",
    "new R(str,int)\n",
    "R(\"hello\",4)\n",
    "?R(\"hello\",x)\n",
    "S(X,Y)<-R(X,Y)    \n",
    "S2(X,Y,\"yes\")<-R(X,Y)\n",
    "?R(X,Y)\n",
    "-R(\"hello\",4)\n",
    "?S(X,Y)\n",
    "?S2(X,Y,A)\n",
    "\"\"\")\n",
    "file.unlink()\n",
    "\n",
    "for ast in asts:\n",
    "    draw(ast)\n"
   ]
  },
  {
   "cell_type": "code",
   "execution_count": null,
   "metadata": {},
   "outputs": [],
   "source": [
    "#|hide\n",
    "import nbdev; nbdev.nbdev_export()\n",
    "     "
   ]
  }
 ],
 "metadata": {
  "kernelspec": {
   "display_name": "python3",
   "language": "python",
   "name": "python3"
  }
 },
 "nbformat": 4,
 "nbformat_minor": 4
}
