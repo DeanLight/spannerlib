{
 "cells": [
  {
   "cell_type": "markdown",
   "metadata": {},
   "source": [
    "# Code Documentation Task\n"
   ]
  },
  {
   "cell_type": "raw",
   "metadata": {},
   "source": [
    "---\n",
    "skip_exec: true\n",
    "---"
   ]
  },
  {
   "cell_type": "code",
   "execution_count": null,
   "metadata": {},
   "outputs": [],
   "source": [
    "#| default_exp tutorials.copilot"
   ]
  },
  {
   "cell_type": "code",
   "execution_count": null,
   "metadata": {},
   "outputs": [],
   "source": [
    "#| hide\n",
    "from nbdev.showdoc import show_doc\n",
    "from IPython.display import display, HTML\n",
    "%load_ext autoreload\n",
    "%autoreload 2"
   ]
  },
  {
   "cell_type": "code",
   "execution_count": null,
   "metadata": {},
   "outputs": [],
   "source": [
    "#| export\n",
    "# importing dependencies\n",
    "import re\n",
    "import pandas as pd\n",
    "from pandas import DataFrame\n",
    "from pathlib import Path\n",
    "from spannerlib import get_magic_session,Session,Span\n"
   ]
  },
  {
   "cell_type": "markdown",
   "metadata": {},
   "source": [
    "In this tutorial we will show how to augment LLM context using formal rule based ie techniques, by presenting a copilot like code documentation pipeline.\n",
    "\n",
    "Normally, when running a model like copilot in an IDE like pycharm or vs-code, it is given the context of the last $k$ files in our editor history as context for the code completion.\n",
    "\n",
    "In this tutorial, we will see how we can use infromation extraction of spans of code based on the structure of the code to improve the context of the LLM.\n",
    "First, let us get the `llm` and `format` ie function from the basic tutorial."
   ]
  },
  {
   "cell_type": "code",
   "execution_count": null,
   "metadata": {},
   "outputs": [],
   "source": [
    "#| export\n",
    "from spannerlib.tutorials.basic import llm_ie,format_ie,string_schema"
   ]
  },
  {
   "cell_type": "code",
   "execution_count": null,
   "metadata": {},
   "outputs": [],
   "source": [
    "sess = get_magic_session()\n",
    "sess.register('llm',llm_ie,[str,str],[str])\n",
    "sess.register('format', format_ie, string_schema,[str])\n"
   ]
  },
  {
   "cell_type": "markdown",
   "metadata": {},
   "source": [
    "In order to analyze the structure of the code, we will be using python's `ast` module.\n",
    "We will write a very generic ie function that gets a piece of code, and an xpath query string returns the spans of all matches of the query over the ast of the given code.\n",
    "\n",
    "To do so we will use the `pyastgrep` library that allows us to look for xpath matches in python ast's.\n",
    "We will write a modified version of it's main function that returns Spans of the ast nodes."
   ]
  },
  {
   "cell_type": "code",
   "execution_count": null,
   "metadata": {},
   "outputs": [],
   "source": [
    "#| export\n",
    "# ! pip install pyastgrep\n",
    "import ast\n",
    "from functools import cache\n",
    "from pyastgrep.search import search_python_files,Match\n",
    "from pyastgrep.asts import ast_to_xml\n",
    "from lxml import etree\n"
   ]
  },
  {
   "cell_type": "code",
   "execution_count": null,
   "metadata": {},
   "outputs": [],
   "source": [
    "#| export\n",
    "@cache\n",
    "def py_to_xml(py:str)->str:\n",
    "    ast_tree = ast.parse(py)\n",
    "    node_mappings = {}\n",
    "    xml_tree = ast_to_xml(ast_tree, node_mappings)\n",
    "    return xml_tree,ast_tree,node_mappings\n",
    "\n",
    "def xml_to_string(xml_tree):\n",
    "    return etree.tostring(xml_tree, pretty_print=True).decode('utf-8')\n",
    "\n",
    "def print_file_xml(file_path):\n",
    "    text = Path(file_path).read_text()\n",
    "    xml_tree,_,_ = py_to_xml(text)\n",
    "    print(xml_to_string(xml_tree))\n",
    "\n",
    "\n",
    "def ast_to_string(ast_tree):\n",
    "    if isinstance(ast_tree,ast.AST):\n",
    "        return ast.unparse(ast_tree)\n",
    "    else:\n",
    "        return ast_tree\n",
    "\n",
    "def ast_xpath(py_str,xpath_query):\n",
    "    if isinstance(py_str,Path):\n",
    "        py_str = py_str.read_text()\n",
    "    if isinstance(py_str,Span):\n",
    "        py_str = str(py_str)\n",
    "    xml_tree,ast_tree,node_mappings = py_to_xml(py_str)\n",
    "    xml_matches = xml_tree.xpath(xpath_query)\n",
    "    ast_matches = [node_mappings[match] if match in node_mappings else match for match in xml_matches]\n",
    "    return ast_matches"
   ]
  },
  {
   "cell_type": "code",
   "execution_count": null,
   "metadata": {},
   "outputs": [
    {
     "data": {
      "text/plain": [
       "'def f(x,y):\\n    x+y \\n\\ndef g(x,y):\\n    return f(x,y)**2\\n\\nclass A:\\n    def __init__(self, x):\\n        self.x = x\\n    def method(self, y):\\n        return f(self.x, y)\\n\\nprint(f(2,3))'"
      ]
     },
     "execution_count": null,
     "metadata": {},
     "output_type": "execute_result"
    }
   ],
   "source": [
    "code_file = Path('copilot_data/example_code.py')\n",
    "code_text = code_file.read_text()\n",
    "code_text"
   ]
  },
  {
   "cell_type": "code",
   "execution_count": null,
   "metadata": {},
   "outputs": [],
   "source": [
    "x_t,a_t,n_m = py_to_xml(code_text)\n",
    "# print_file_xml(code_file)"
   ]
  },
  {
   "cell_type": "code",
   "execution_count": null,
   "metadata": {},
   "outputs": [
    {
     "name": "stdout",
     "output_type": "stream",
     "text": [
      "def f(x, y):\n",
      "    x + y\n",
      "\n",
      "def g(x, y):\n",
      "    return f(x, y) ** 2\n",
      "\n",
      "class A:\n",
      "\n",
      "    def __init__(self, x):\n",
      "        self.x = x\n",
      "\n",
      "    def method(self, y):\n",
      "        return f(self.x, y)\n",
      "print(f(2, 3))\n"
     ]
    }
   ],
   "source": [
    "print(ast_to_string(a_t))"
   ]
  },
  {
   "cell_type": "code",
   "execution_count": null,
   "metadata": {},
   "outputs": [
    {
     "name": "stdout",
     "output_type": "stream",
     "text": [
      "def f(x, y):\n",
      "    x + y\n",
      "def g(x, y):\n",
      "    return f(x, y) ** 2\n",
      "def __init__(self, x):\n",
      "    self.x = x\n",
      "def method(self, y):\n",
      "    return f(self.x, y)\n",
      "f\n",
      "g\n",
      "__init__\n",
      "method\n"
     ]
    }
   ],
   "source": [
    "for match in ast_xpath(code_file,'//FunctionDef'):\n",
    "    print(ast_to_string(match))\n",
    "\n",
    "for match in ast_xpath(code_text,'//FunctionDef/@name'):\n",
    "    print(ast_to_string(match))\n"
   ]
  },
  {
   "cell_type": "code",
   "execution_count": null,
   "metadata": {},
   "outputs": [],
   "source": [
    "#| export\n",
    "@cache\n",
    "def _get_lines(path):\n",
    "    if isinstance(path,Path):\n",
    "        tuple(path.read_text().split('\\n'))\n",
    "    else:\n",
    "        return tuple(path.split('\\n'))\n",
    "\n",
    "def get_character_position(path, line_number, column_offset):\n",
    "    \"\"\"gets a character position from a line number and column offset\"\"\"\n",
    "    lines = _get_lines(path)\n",
    "    if line_number < 1 or line_number > len(lines):\n",
    "        raise ValueError(\"Invalid line number\")\n",
    "    line = lines[line_number - 1]\n",
    "    if column_offset < 0 or column_offset > len(line):\n",
    "        raise ValueError(\"Invalid column offset\")\n",
    "    return sum(len(lines[i]) + 1 for i in range(line_number - 1)) + column_offset\n",
    "\n",
    "def ast_to_span(string,node):\n",
    "    \"\"\"given a node <node> of an ast from file <path>,\n",
    "    returns the location of the node in the file as a Span object\"\"\"\n",
    "    if isinstance(string,Path):\n",
    "        text = string.read_text()\n",
    "        name = string.name\n",
    "    else:\n",
    "        text = string\n",
    "        name = None\n",
    "    start = get_character_position(str(text),node.lineno,node.col_offset)\n",
    "    if hasattr(node,'end_lineno') and hasattr(node,'end_col_offset'):\n",
    "        end = get_character_position(str(text),node.end_lineno,node.end_col_offset)\n",
    "    else:\n",
    "        end = start + len(ast.unparse(node))\n",
    "    return [Span(text,start,end,name=name)]"
   ]
  },
  {
   "cell_type": "code",
   "execution_count": null,
   "metadata": {},
   "outputs": [],
   "source": [
    "matches = ast_xpath(code_text,'//FunctionDef')\n",
    "m = matches[0]"
   ]
  },
  {
   "cell_type": "code",
   "execution_count": null,
   "metadata": {},
   "outputs": [
    {
     "data": {
      "text/plain": [
       "([@example_code.py,0,19) \"def f(x,y)...\", 'def f(x,y):\\n    x+y')"
      ]
     },
     "execution_count": null,
     "metadata": {},
     "output_type": "execute_result"
    }
   ],
   "source": [
    "span = ast_to_span(code_file,m)[0]\n",
    "span,str(span)"
   ]
  },
  {
   "cell_type": "code",
   "execution_count": null,
   "metadata": {},
   "outputs": [],
   "source": [
    "sess.register('ast_xpath',ast_xpath,[(str,Path,Span),str],[ast.AST])\n",
    "sess.register('ast_to_span',ast_to_span,[(str,Span,Path),ast.AST],[Span])"
   ]
  },
  {
   "cell_type": "code",
   "execution_count": null,
   "metadata": {},
   "outputs": [
    {
     "data": {
      "text/plain": [
       "Path('copilot_data/example_code.py')"
      ]
     },
     "execution_count": null,
     "metadata": {},
     "output_type": "execute_result"
    }
   ],
   "source": [
    "code_file"
   ]
  },
  {
   "cell_type": "code",
   "execution_count": null,
   "metadata": {},
   "outputs": [
    {
     "data": {
      "text/html": [
       "<div>\n",
       "<style scoped>\n",
       "    .dataframe tbody tr th:only-of-type {\n",
       "        vertical-align: middle;\n",
       "    }\n",
       "\n",
       "    .dataframe tbody tr th {\n",
       "        vertical-align: top;\n",
       "    }\n",
       "\n",
       "    .dataframe thead th {\n",
       "        text-align: right;\n",
       "    }\n",
       "</style>\n",
       "<table border=\"1\" class=\"dataframe\">\n",
       "  <thead>\n",
       "    <tr style=\"text-align: right;\">\n",
       "      <th></th>\n",
       "      <th>0</th>\n",
       "    </tr>\n",
       "  </thead>\n",
       "  <tbody>\n",
       "    <tr>\n",
       "      <th>0</th>\n",
       "      <td>[@example_code.py,0,178) \"def f(x,y)...\"</td>\n",
       "    </tr>\n",
       "  </tbody>\n",
       "</table>\n",
       "</div>"
      ],
      "text/plain": [
       "                                          0\n",
       "0  [@example_code.py,0,178) \"def f(x,y)...\""
      ]
     },
     "execution_count": null,
     "metadata": {},
     "output_type": "execute_result"
    }
   ],
   "source": [
    "example_files = pd.DataFrame(\n",
    "    [(Span(code_file),)]\n",
    ")\n",
    "example_files.map(repr)"
   ]
  },
  {
   "cell_type": "code",
   "execution_count": null,
   "metadata": {},
   "outputs": [
    {
     "data": {
      "text/html": [
       "<div>\n",
       "<style scoped>\n",
       "    .dataframe tbody tr th:only-of-type {\n",
       "        vertical-align: middle;\n",
       "    }\n",
       "\n",
       "    .dataframe tbody tr th {\n",
       "        vertical-align: top;\n",
       "    }\n",
       "\n",
       "    .dataframe thead th {\n",
       "        text-align: right;\n",
       "    }\n",
       "</style>\n",
       "<table border=\"1\" class=\"dataframe\">\n",
       "  <thead>\n",
       "    <tr style=\"text-align: right;\">\n",
       "      <th></th>\n",
       "      <th>0</th>\n",
       "    </tr>\n",
       "  </thead>\n",
       "  <tbody>\n",
       "    <tr>\n",
       "      <th>0</th>\n",
       "      <td>[@example_code.py,16,17) \"x\"</td>\n",
       "    </tr>\n",
       "  </tbody>\n",
       "</table>\n",
       "</div>"
      ],
      "text/plain": [
       "                              0\n",
       "0  [@example_code.py,16,17) \"x\""
      ]
     },
     "execution_count": null,
     "metadata": {},
     "output_type": "execute_result"
    }
   ],
   "source": [
    "cursors =pd.DataFrame([(Span(code_file,16,17),)])\n",
    "cursors.map(repr)\n"
   ]
  },
  {
   "cell_type": "code",
   "execution_count": null,
   "metadata": {},
   "outputs": [],
   "source": [
    "sess.import_rel('Files',example_files)\n",
    "sess.import_rel('Cursors',cursors)"
   ]
  },
  {
   "cell_type": "code",
   "execution_count": null,
   "metadata": {},
   "outputs": [],
   "source": [
    "#| hide\n",
    "# used when debugging to delete rules\n",
    "sess.remove_all_rules()"
   ]
  },
  {
   "cell_type": "code",
   "execution_count": null,
   "metadata": {},
   "outputs": [
    {
     "data": {
      "text/plain": [
       "'?FuncDefSpan(span,name)'"
      ]
     },
     "metadata": {},
     "output_type": "display_data"
    },
    {
     "data": {
      "text/html": [
       "<style type=\"text/css\">\n",
       "#T_1ecf9_row0_col0, #T_1ecf9_row0_col1, #T_1ecf9_row1_col0, #T_1ecf9_row1_col1, #T_1ecf9_row2_col0, #T_1ecf9_row2_col1, #T_1ecf9_row3_col0, #T_1ecf9_row3_col1 {\n",
       "  overflow-wrap: break-word;\n",
       "  max-width: 800px;\n",
       "  text-align: left;\n",
       "}\n",
       "</style>\n",
       "<table id=\"T_1ecf9\">\n",
       "  <thead>\n",
       "    <tr>\n",
       "      <th class=\"blank level0\" >&nbsp;</th>\n",
       "      <th id=\"T_1ecf9_level0_col0\" class=\"col_heading level0 col0\" >span</th>\n",
       "      <th id=\"T_1ecf9_level0_col1\" class=\"col_heading level0 col1\" >name</th>\n",
       "    </tr>\n",
       "  </thead>\n",
       "  <tbody>\n",
       "    <tr>\n",
       "      <th id=\"T_1ecf9_level0_row0\" class=\"row_heading level0 row0\" >0</th>\n",
       "      <td id=\"T_1ecf9_row0_col0\" class=\"data row0 col0\" >[@example_code.py,0,19) \"def f(x,y)...\"</td>\n",
       "      <td id=\"T_1ecf9_row0_col1\" class=\"data row0 col1\" >f</td>\n",
       "    </tr>\n",
       "    <tr>\n",
       "      <th id=\"T_1ecf9_level0_row1\" class=\"row_heading level0 row1\" >1</th>\n",
       "      <td id=\"T_1ecf9_row1_col0\" class=\"data row1 col0\" >[@example_code.py,22,54) \"def g(x,y)...\"</td>\n",
       "      <td id=\"T_1ecf9_row1_col1\" class=\"data row1 col1\" >g</td>\n",
       "    </tr>\n",
       "    <tr>\n",
       "      <th id=\"T_1ecf9_level0_row2\" class=\"row_heading level0 row2\" >2</th>\n",
       "      <td id=\"T_1ecf9_row2_col0\" class=\"data row2 col0\" >[@example_code.py,69,110) \"def __init...\"</td>\n",
       "      <td id=\"T_1ecf9_row2_col1\" class=\"data row2 col1\" >__init__</td>\n",
       "    </tr>\n",
       "    <tr>\n",
       "      <th id=\"T_1ecf9_level0_row3\" class=\"row_heading level0 row3\" >3</th>\n",
       "      <td id=\"T_1ecf9_row3_col0\" class=\"data row3 col0\" >[@example_code.py,115,163) \"def method...\"</td>\n",
       "      <td id=\"T_1ecf9_row3_col1\" class=\"data row3 col1\" >method</td>\n",
       "    </tr>\n",
       "  </tbody>\n",
       "</table>\n"
      ],
      "text/plain": [
       "<pandas.io.formats.style.Styler>"
      ]
     },
     "metadata": {},
     "output_type": "display_data"
    }
   ],
   "source": [
    "%%spannerlog\n",
    "\n",
    "FuncDefSpan(span,name)<-\\\n",
    "    Files(text),\\\n",
    "    ast_xpath(text, \"//FunctionDef\")->(node),\\\n",
    "    ast_to_span(text,node)->(span),\\\n",
    "    expr_eval(\"{0}.name\",node)->(name)\n",
    "\n",
    "?FuncDefSpan(span,name)\n"
   ]
  },
  {
   "cell_type": "code",
   "execution_count": null,
   "metadata": {},
   "outputs": [
    {
     "data": {
      "text/plain": [
       "'?FuncCallSpan(span,name)'"
      ]
     },
     "metadata": {},
     "output_type": "display_data"
    },
    {
     "data": {
      "text/html": [
       "<style type=\"text/css\">\n",
       "#T_1dc72_row0_col0, #T_1dc72_row0_col1, #T_1dc72_row1_col0, #T_1dc72_row1_col1, #T_1dc72_row2_col0, #T_1dc72_row2_col1, #T_1dc72_row3_col0, #T_1dc72_row3_col1 {\n",
       "  overflow-wrap: break-word;\n",
       "  max-width: 800px;\n",
       "  text-align: left;\n",
       "}\n",
       "</style>\n",
       "<table id=\"T_1dc72\">\n",
       "  <thead>\n",
       "    <tr>\n",
       "      <th class=\"blank level0\" >&nbsp;</th>\n",
       "      <th id=\"T_1dc72_level0_col0\" class=\"col_heading level0 col0\" >span</th>\n",
       "      <th id=\"T_1dc72_level0_col1\" class=\"col_heading level0 col1\" >name</th>\n",
       "    </tr>\n",
       "  </thead>\n",
       "  <tbody>\n",
       "    <tr>\n",
       "      <th id=\"T_1dc72_level0_row0\" class=\"row_heading level0 row0\" >0</th>\n",
       "      <td id=\"T_1dc72_row0_col0\" class=\"data row0 col0\" >[@example_code.py,45,46) \"f\"</td>\n",
       "      <td id=\"T_1dc72_row0_col1\" class=\"data row0 col1\" >f</td>\n",
       "    </tr>\n",
       "    <tr>\n",
       "      <th id=\"T_1dc72_level0_row1\" class=\"row_heading level0 row1\" >1</th>\n",
       "      <td id=\"T_1dc72_row1_col0\" class=\"data row1 col0\" >[@example_code.py,151,152) \"f\"</td>\n",
       "      <td id=\"T_1dc72_row1_col1\" class=\"data row1 col1\" >f</td>\n",
       "    </tr>\n",
       "    <tr>\n",
       "      <th id=\"T_1dc72_level0_row2\" class=\"row_heading level0 row2\" >2</th>\n",
       "      <td id=\"T_1dc72_row2_col0\" class=\"data row2 col0\" >[@example_code.py,165,170) \"print\"</td>\n",
       "      <td id=\"T_1dc72_row2_col1\" class=\"data row2 col1\" >print</td>\n",
       "    </tr>\n",
       "    <tr>\n",
       "      <th id=\"T_1dc72_level0_row3\" class=\"row_heading level0 row3\" >3</th>\n",
       "      <td id=\"T_1dc72_row3_col0\" class=\"data row3 col0\" >[@example_code.py,171,172) \"f\"</td>\n",
       "      <td id=\"T_1dc72_row3_col1\" class=\"data row3 col1\" >f</td>\n",
       "    </tr>\n",
       "  </tbody>\n",
       "</table>\n"
      ],
      "text/plain": [
       "<pandas.io.formats.style.Styler>"
      ]
     },
     "metadata": {},
     "output_type": "display_data"
    }
   ],
   "source": [
    "%%spannerlog\n",
    "\n",
    "FuncCallSpan(span,name)<-\\\n",
    "    Files(text),\\\n",
    "    ast_xpath(text, \"//Call/func/Name\")->(node),\\\n",
    "    ast_to_span(text,node)->(span),\\\n",
    "    as_str(span)->(name)\n",
    "\n",
    "?FuncCallSpan(span,name)"
   ]
  },
  {
   "cell_type": "code",
   "execution_count": null,
   "metadata": {},
   "outputs": [
    {
     "data": {
      "text/plain": [
       "'?CallingFunc(cursor,name)'"
      ]
     },
     "metadata": {},
     "output_type": "display_data"
    },
    {
     "data": {
      "text/html": [
       "<style type=\"text/css\">\n",
       "#T_a0431_row0_col0, #T_a0431_row0_col1 {\n",
       "  overflow-wrap: break-word;\n",
       "  max-width: 800px;\n",
       "  text-align: left;\n",
       "}\n",
       "</style>\n",
       "<table id=\"T_a0431\">\n",
       "  <thead>\n",
       "    <tr>\n",
       "      <th class=\"blank level0\" >&nbsp;</th>\n",
       "      <th id=\"T_a0431_level0_col0\" class=\"col_heading level0 col0\" >cursor</th>\n",
       "      <th id=\"T_a0431_level0_col1\" class=\"col_heading level0 col1\" >name</th>\n",
       "    </tr>\n",
       "  </thead>\n",
       "  <tbody>\n",
       "    <tr>\n",
       "      <th id=\"T_a0431_level0_row0\" class=\"row_heading level0 row0\" >0</th>\n",
       "      <td id=\"T_a0431_row0_col0\" class=\"data row0 col0\" >[@example_code.py,16,17) \"x\"</td>\n",
       "      <td id=\"T_a0431_row0_col1\" class=\"data row0 col1\" >f</td>\n",
       "    </tr>\n",
       "  </tbody>\n",
       "</table>\n"
      ],
      "text/plain": [
       "<pandas.io.formats.style.Styler>"
      ]
     },
     "metadata": {},
     "output_type": "display_data"
    }
   ],
   "source": [
    "%%spannerlog\n",
    "\n",
    "CallingFunc(cursor,name)<-\\\n",
    "    Cursors(cursor),\\\n",
    "    FuncDefSpan(span,name),\\\n",
    "    span_contained(cursor,span)->(True)\n",
    "\n",
    "?CallingFunc(cursor,name)"
   ]
  },
  {
   "cell_type": "code",
   "execution_count": null,
   "metadata": {},
   "outputs": [],
   "source": [
    "#| export\n",
    "def lex_concat(strings):\n",
    "    return '\\n'.join(sorted([str(s) for s in strings]))"
   ]
  },
  {
   "cell_type": "code",
   "execution_count": null,
   "metadata": {},
   "outputs": [],
   "source": [
    "sess.register_agg('lex_concat',lex_concat,[(str,Span)],[str])"
   ]
  },
  {
   "cell_type": "code",
   "execution_count": null,
   "metadata": {},
   "outputs": [],
   "source": [
    "sess.remove_head('Mentions')"
   ]
  },
  {
   "cell_type": "code",
   "execution_count": null,
   "metadata": {},
   "outputs": [
    {
     "data": {
      "text/plain": [
       "'?Mentions(caller,called)'"
      ]
     },
     "metadata": {},
     "output_type": "display_data"
    },
    {
     "data": {
      "text/html": [
       "<style type=\"text/css\">\n",
       "#T_5169f_row0_col0, #T_5169f_row0_col1 {\n",
       "  overflow-wrap: break-word;\n",
       "  max-width: 800px;\n",
       "  text-align: left;\n",
       "}\n",
       "</style>\n",
       "<table id=\"T_5169f\">\n",
       "  <thead>\n",
       "    <tr>\n",
       "      <th class=\"blank level0\" >&nbsp;</th>\n",
       "      <th id=\"T_5169f_level0_col0\" class=\"col_heading level0 col0\" >caller</th>\n",
       "      <th id=\"T_5169f_level0_col1\" class=\"col_heading level0 col1\" >called</th>\n",
       "    </tr>\n",
       "  </thead>\n",
       "  <tbody>\n",
       "    <tr>\n",
       "      <th id=\"T_5169f_level0_row0\" class=\"row_heading level0 row0\" >0</th>\n",
       "      <td id=\"T_5169f_row0_col0\" class=\"data row0 col0\" >def g(x,y):\n",
       "    return f(x,y)**2\n",
       "def method(self, y):\n",
       "        return f(self.x, y)</td>\n",
       "      <td id=\"T_5169f_row0_col1\" class=\"data row0 col1\" >f</td>\n",
       "    </tr>\n",
       "  </tbody>\n",
       "</table>\n"
      ],
      "text/plain": [
       "<pandas.io.formats.style.Styler>"
      ]
     },
     "metadata": {},
     "output_type": "display_data"
    }
   ],
   "source": [
    "%%spannerlog\n",
    "Mentions(lex_concat(caller_span),called_name)<-\\\n",
    "    FuncCallSpan(called_span,called_name),\\\n",
    "    FuncDefSpan(caller_span,caller_name),\\\n",
    "    span_contained(called_span,caller_span)->(True)\n",
    "\n",
    "?Mentions(caller,called)\n",
    "\n",
    "#TODO from here debug of relation, do it in an agg func where the first column is agged\n",
    "    "
   ]
  },
  {
   "cell_type": "code",
   "execution_count": null,
   "metadata": {},
   "outputs": [],
   "source": [
    "# TODO error checking on roles in prompt string"
   ]
  },
  {
   "cell_type": "code",
   "execution_count": null,
   "metadata": {},
   "outputs": [],
   "source": [
    "func_document_prompt = \"\"\"\n",
    "system: based on the following context:\n",
    "{}\n",
    "Explain the following function:\n",
    "{}\n",
    "In the format of a doc string.\n",
    "\"\"\"\n",
    "sess.import_var('func_document_prompt',func_document_prompt)"
   ]
  },
  {
   "cell_type": "code",
   "execution_count": null,
   "metadata": {},
   "outputs": [],
   "source": [
    "sess.remove_head('DocumentFunction')"
   ]
  },
  {
   "cell_type": "code",
   "execution_count": null,
   "metadata": {},
   "outputs": [
    {
     "data": {
      "text/plain": [
       "'?DocumentFunction(cursor,prompt,doc_string)'"
      ]
     },
     "metadata": {},
     "output_type": "display_data"
    },
    {
     "data": {
      "text/html": [
       "<style type=\"text/css\">\n",
       "#T_c92f6_row0_col0, #T_c92f6_row0_col1, #T_c92f6_row0_col2 {\n",
       "  overflow-wrap: break-word;\n",
       "  max-width: 800px;\n",
       "  text-align: left;\n",
       "}\n",
       "</style>\n",
       "<table id=\"T_c92f6\">\n",
       "  <thead>\n",
       "    <tr>\n",
       "      <th class=\"blank level0\" >&nbsp;</th>\n",
       "      <th id=\"T_c92f6_level0_col0\" class=\"col_heading level0 col0\" >cursor</th>\n",
       "      <th id=\"T_c92f6_level0_col1\" class=\"col_heading level0 col1\" >prompt</th>\n",
       "      <th id=\"T_c92f6_level0_col2\" class=\"col_heading level0 col2\" >doc_string</th>\n",
       "    </tr>\n",
       "  </thead>\n",
       "  <tbody>\n",
       "    <tr>\n",
       "      <th id=\"T_c92f6_level0_row0\" class=\"row_heading level0 row0\" >0</th>\n",
       "      <td id=\"T_c92f6_row0_col0\" class=\"data row0 col0\" >[@example_code.py,16,17) \"x\"</td>\n",
       "      <td id=\"T_c92f6_row0_col1\" class=\"data row0 col1\" >\n",
       "system: based on the following context:\n",
       "def g(x,y):\n",
       "    return f(x,y)**2\n",
       "def method(self, y):\n",
       "        return f(self.x, y)\n",
       "Explain the following function:\n",
       "def f(x,y):\n",
       "    x+y\n",
       "In the format of a doc string.\n",
       "</td>\n",
       "      <td id=\"T_c92f6_row0_col2\" class=\"data row0 col2\" >\"\"\"\n",
       "This function calculates the sum of two inputs x and y.\n",
       "\"\"\"\n",
       "</td>\n",
       "    </tr>\n",
       "  </tbody>\n",
       "</table>\n"
      ],
      "text/plain": [
       "<pandas.io.formats.style.Styler>"
      ]
     },
     "metadata": {},
     "output_type": "display_data"
    }
   ],
   "source": [
    "%%spannerlog\n",
    "\n",
    "model = 'gpt-3.5-turbo'\n",
    "DocumentFunction(cursor,prompt,string)<-\\\n",
    "    CallingFunc(cursor,name),\\\n",
    "    Mentions(mentions,name),\\\n",
    "    FuncDefSpan(def_span,name),\\\n",
    "    as_str(def_span)->(def_string),\\\n",
    "    format($func_document_prompt,mentions,def_string)->(prompt),\\\n",
    "    llm($model,prompt)->(string)\n",
    "\n",
    "?DocumentFunction(cursor,prompt,doc_string)"
   ]
  },
  {
   "cell_type": "code",
   "execution_count": null,
   "metadata": {},
   "outputs": [],
   "source": [
    "#|hide\n",
    "import nbdev; nbdev.nbdev_export()"
   ]
  }
 ],
 "metadata": {
  "kernelspec": {
   "display_name": "python3",
   "language": "python",
   "name": "python3"
  }
 },
 "nbformat": 4,
 "nbformat_minor": 4
}
