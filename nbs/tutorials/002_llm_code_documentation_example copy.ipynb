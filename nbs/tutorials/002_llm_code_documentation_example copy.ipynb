{
 "cells": [
  {
   "cell_type": "markdown",
   "metadata": {},
   "source": [
    "# Code Documentation Task\n"
   ]
  },
  {
   "cell_type": "raw",
   "metadata": {},
   "source": [
    "---\n",
    "skip_exec: true\n",
    "---"
   ]
  },
  {
   "cell_type": "code",
   "execution_count": null,
   "metadata": {},
   "outputs": [],
   "source": [
    "#| default_exp tutorials.copilot"
   ]
  },
  {
   "cell_type": "code",
   "execution_count": null,
   "metadata": {},
   "outputs": [],
   "source": [
    "#| hide\n",
    "from nbdev.showdoc import show_doc\n",
    "from IPython.display import display, HTML\n",
    "%load_ext autoreload\n",
    "%autoreload 2"
   ]
  },
  {
   "cell_type": "code",
   "execution_count": null,
   "metadata": {},
   "outputs": [],
   "source": [
    "#| export\n",
    "# importing dependencies\n",
    "import re\n",
    "import pandas as pd\n",
    "from pandas import DataFrame\n",
    "from pathlib import Path\n",
    "from spannerlib import get_magic_session,Session,Span\n"
   ]
  },
  {
   "cell_type": "markdown",
   "metadata": {},
   "source": [
    "### Motivation"
   ]
  },
  {
   "cell_type": "markdown",
   "metadata": {},
   "source": [
    "In the previous tutorial, we showed how Spannerlib can make composing control logic for LLM agents, easy and lead to elegant code.\n",
    "In this tutorial we will show the power of combining the compositional abilities of a language like Spannerlog with Document Spanners.\n",
    "Document Spanners allow us to combine deep learning based ML techniques with structured text mining seamlessly.\n",
    "\n",
    "Our use case will be building a copilot-like code documentation agent, with smarted input context as the prompt to the LLM.\n",
    "Normally, when running a model like copilot in an IDE like pycharm or vs-code, the prompt sent to the LLM consists of:\n",
    "* Our question.\n",
    "* The last $k$ files in our editor history.\n",
    "\n",
    "In our agent, instead, we would like to leverage our understanding of the structure of code to:\n",
    "* Limit our context only to relevant code snippets from our code base\n",
    "  * Avoiding large prompts filled with irrelevant fata\n",
    "* Not limit ourselves to the last $k$ files in our editor history\n"
   ]
  },
  {
   "cell_type": "markdown",
   "metadata": {},
   "source": [
    "## Problem definition"
   ]
  },
  {
   "cell_type": "markdown",
   "metadata": {},
   "source": [
    "Given:\n",
    "* A collection of python files.\n",
    "* A cursor position in a python file.\n",
    "\n",
    "Return:\n",
    "* A doc string of the python function that wraps the position of our cursor.\n"
   ]
  },
  {
   "cell_type": "markdown",
   "metadata": {},
   "source": [
    "\n",
    "We will reuse our `llm` and `format` ie function from the basic tutorial.\n",
    "and introduce some new ie functions, namely:\n",
    "* `ast_xpath(file,xpath_query)->(ast_node)` that allows us to select ast nodes using xpath queries.\n",
    "* `ast_to_span(file,ast_node)->(ast_span)` that allows us to get the document spanner of an ast node of a given file.\n",
    "We will also use an ie functions from the standard libraries.\n",
    "* `expr_eval(expression_template,val_1,...,val_n)->(expression_result)` allows us to given a template string for a python expression in a `printf` like format. \n",
    "  * used to generate small ie functions easily\n",
    "  * the usage will become clear when writting our agent bellow.\n",
    "* Span comparison ie functions such as `span_contained(span1,span2)->(bool)` which return true if `span1` is a sub span of `span2`. \n",
    "\n",
    "We will also add a text specific aggregation function:\n",
    "* `lex_concat(strings)->(string)` takes a set of strings and concatenate them when they are sorted by lexicographic order.\n",
    "  * We must sort them lexicogrphically since aggregation functions in Datalog must operate under the set semantics\n",
    "  * This is a limitation of the declerative lanuage we chose for this demo, but it can be overcome by using the spannerlib framework on a callback extension of a richer declerative language list SQL."
   ]
  },
  {
   "cell_type": "markdown",
   "metadata": {},
   "source": [
    "### Importing code from previous tutorial"
   ]
  },
  {
   "cell_type": "code",
   "execution_count": null,
   "metadata": {},
   "outputs": [],
   "source": [
    "#| export\n",
    "from spannerlib.tutorials.basic import llm_ie,format_ie,string_schema"
   ]
  },
  {
   "cell_type": "code",
   "execution_count": null,
   "metadata": {},
   "outputs": [],
   "source": [
    "sess = get_magic_session()\n",
    "sess.register('llm',llm_ie,[str,str],[str])\n",
    "sess.register('format', format_ie, string_schema,[str])\n"
   ]
  },
  {
   "cell_type": "markdown",
   "metadata": {},
   "source": [
    "### Implementing novel Callback functions"
   ]
  },
  {
   "cell_type": "markdown",
   "metadata": {},
   "source": [
    "If the implementation details are not of interest, feel free to move to the next section."
   ]
  },
  {
   "cell_type": "markdown",
   "metadata": {},
   "source": [
    "In order to analyze the structure of the code, we will be using python's `ast` module.\n",
    "We will write a very generic ie function that gets a piece of code, and an xpath query string returns the spans of all matches of the query over the ast of the given code.\n",
    "\n",
    "To do so we will use the `pyastgrep` library that allows us to look for xpath matches in python ast's.\n",
    "We will write a modified version of it's main function that returns Spans of the ast nodes."
   ]
  },
  {
   "cell_type": "code",
   "execution_count": null,
   "metadata": {},
   "outputs": [],
   "source": [
    "#| export\n",
    "# ! pip install pyastgrep\n",
    "import ast\n",
    "from functools import cache\n",
    "from pyastgrep.search import search_python_files,Match\n",
    "from pyastgrep.asts import ast_to_xml\n",
    "from lxml import etree\n"
   ]
  },
  {
   "cell_type": "code",
   "execution_count": null,
   "metadata": {},
   "outputs": [],
   "source": [
    "#| export\n",
    "@cache\n",
    "def py_to_xml(py:str)->str:\n",
    "    ast_tree = ast.parse(py)\n",
    "    node_mappings = {}\n",
    "    xml_tree = ast_to_xml(ast_tree, node_mappings)\n",
    "    return xml_tree,ast_tree,node_mappings\n",
    "\n",
    "def xml_to_string(xml_tree):\n",
    "    return etree.tostring(xml_tree, pretty_print=True).decode('utf-8')\n",
    "\n",
    "def print_file_xml(file_path):\n",
    "    text = Path(file_path).read_text()\n",
    "    xml_tree,_,_ = py_to_xml(text)\n",
    "    print(xml_to_string(xml_tree))\n",
    "\n",
    "\n",
    "def ast_to_string(ast_tree):\n",
    "    if isinstance(ast_tree,ast.AST):\n",
    "        return ast.unparse(ast_tree)\n",
    "    else:\n",
    "        return ast_tree\n",
    "\n",
    "def ast_xpath(py_str,xpath_query):\n",
    "    if isinstance(py_str,Path):\n",
    "        py_str = py_str.read_text()\n",
    "    if isinstance(py_str,Span):\n",
    "        py_str = str(py_str)\n",
    "    xml_tree,ast_tree,node_mappings = py_to_xml(py_str)\n",
    "    xml_matches = xml_tree.xpath(xpath_query)\n",
    "    ast_matches = [node_mappings[match] if match in node_mappings else match for match in xml_matches]\n",
    "    return ast_matches"
   ]
  },
  {
   "cell_type": "code",
   "execution_count": null,
   "metadata": {},
   "outputs": [
    {
     "data": {
      "text/plain": [
       "'def f(x,y):\\n    x+y \\n\\ndef g(x,y):\\n    return f(x,y)**2\\n\\nclass A:\\n    def __init__(self, x):\\n        self.x = x\\n    def method(self, y):\\n        return f(self.x, y)\\n\\nprint(f(2,3))'"
      ]
     },
     "execution_count": null,
     "metadata": {},
     "output_type": "execute_result"
    }
   ],
   "source": [
    "code_file = Path('copilot_data/example_code.py')\n",
    "code_text = code_file.read_text()\n",
    "code_text"
   ]
  },
  {
   "cell_type": "code",
   "execution_count": null,
   "metadata": {},
   "outputs": [
    {
     "name": "stdout",
     "output_type": "stream",
     "text": [
      "<Module>\n",
      "  <body>\n",
      "    <FunctionDef lineno=\"1\" col_offset=\"0\" type=\"str\" name=\"f\">\n",
      "      <args>\n",
      "        <arguments>\n",
      "          <posonlyargs/>\n",
      "          <args>\n",
      "            <arg lineno=\"1\" col_offset=\"6\" type=\"str\" arg=\"x\"/>\n",
      "            <arg lineno=\"1\" col_offset=\"8\" type=\"str\" arg=\"y\"/>\n",
      "          </args>\n",
      "          <kwonlyargs/>\n",
      "          <kw_defaults/>\n",
      "          <defaults/>\n",
      "        </arguments>\n",
      "      </args>\n",
      "      <body>\n",
      "        <Expr lineno=\"2\" col_offset=\"4\">\n",
      "          <value>\n",
      "            <BinOp lineno=\"2\" col_offset=\"4\">\n",
      "              <left>\n",
      "                <Name lineno=\"2\" col_offset=\"4\" type=\"str\" id=\"x\">\n",
      "                  <ctx>\n",
      "                    <Load/>\n",
      "                  </ctx>\n",
      "                </Name>\n",
      "              </left>\n",
      "              <op>\n",
      "                <Add/>\n",
      "              </op>\n",
      "              <right>\n",
      "                <Name lineno=\"2\" col_offset=\"6\" type=\"str\" id=\"y\">\n",
      "                  <ctx>\n",
      "                    <Load/>\n",
      "                  </ctx>\n",
      "                </Name>\n",
      "              </right>\n",
      "            </BinOp>\n",
      "          </value>\n",
      "        </Expr>\n",
      "      </body>\n",
      "      <decorator_list/>\n",
      "    </FunctionDef>\n",
      "    <FunctionDef lineno=\"4\" col_offset=\"0\" type=\"str\" name=\"g\">\n",
      "      <args>\n",
      "        <arguments>\n",
      "          <posonlyargs/>\n",
      "          <args>\n",
      "            <arg lineno=\"4\" col_offset=\"6\" type=\"str\" arg=\"x\"/>\n",
      "            <arg lineno=\"4\" col_offset=\"8\" type=\"str\" arg=\"y\"/>\n",
      "          </args>\n",
      "          <kwonlyargs/>\n",
      "          <kw_defaults/>\n",
      "          <defaults/>\n",
      "        </arguments>\n",
      "      </args>\n",
      "      <body>\n",
      "        <Return lineno=\"5\" col_offset=\"4\">\n",
      "          <value>\n",
      "            <BinOp lineno=\"5\" col_offset=\"11\">\n",
      "              <left>\n",
      "                <Call lineno=\"5\" col_offset=\"11\">\n",
      "                  <func>\n",
      "                    <Name lineno=\"5\" col_offset=\"11\" type=\"str\" id=\"f\">\n",
      "                      <ctx>\n",
      "                        <Load/>\n",
      "                      </ctx>\n",
      "                    </Name>\n",
      "                  </func>\n",
      "                  <args>\n",
      "                    <Name lineno=\"5\" col_offset=\"13\" type=\"str\" id=\"x\">\n",
      "                      <ctx>\n",
      "                        <Load/>\n",
      "                      </ctx>\n",
      "                    </Name>\n",
      "                    <Name lineno=\"5\" col_offset=\"15\" type=\"str\" id=\"y\">\n",
      "                      <ctx>\n",
      "                        <Load/>\n",
      "                      </ctx>\n",
      "                    </Name>\n",
      "                  </args>\n",
      "                  <keywords/>\n",
      "                </Call>\n",
      "              </left>\n",
      "              <op>\n",
      "                <Pow/>\n",
      "              </op>\n",
      "              <right>\n",
      "                <Constant lineno=\"5\" col_offset=\"19\" type=\"int\" value=\"2\"/>\n",
      "              </right>\n",
      "            </BinOp>\n",
      "          </value>\n",
      "        </Return>\n",
      "      </body>\n",
      "      <decorator_list/>\n",
      "    </FunctionDef>\n",
      "    <ClassDef lineno=\"7\" col_offset=\"0\" type=\"str\" name=\"A\">\n",
      "      <bases/>\n",
      "      <keywords/>\n",
      "      <body>\n",
      "        <FunctionDef lineno=\"8\" col_offset=\"4\" type=\"str\" name=\"__init__\">\n",
      "          <args>\n",
      "            <arguments>\n",
      "              <posonlyargs/>\n",
      "              <args>\n",
      "                <arg lineno=\"8\" col_offset=\"17\" type=\"str\" arg=\"self\"/>\n",
      "                <arg lineno=\"8\" col_offset=\"23\" type=\"str\" arg=\"x\"/>\n",
      "              </args>\n",
      "              <kwonlyargs/>\n",
      "              <kw_defaults/>\n",
      "              <defaults/>\n",
      "            </arguments>\n",
      "          </args>\n",
      "          <body>\n",
      "            <Assign lineno=\"9\" col_offset=\"8\">\n",
      "              <targets>\n",
      "                <Attribute lineno=\"9\" col_offset=\"8\" type=\"str\" attr=\"x\">\n",
      "                  <value>\n",
      "                    <Name lineno=\"9\" col_offset=\"8\" type=\"str\" id=\"self\">\n",
      "                      <ctx>\n",
      "                        <Load/>\n",
      "                      </ctx>\n",
      "                    </Name>\n",
      "                  </value>\n",
      "                  <ctx>\n",
      "                    <Store/>\n",
      "                  </ctx>\n",
      "                </Attribute>\n",
      "              </targets>\n",
      "              <value>\n",
      "                <Name lineno=\"9\" col_offset=\"17\" type=\"str\" id=\"x\">\n",
      "                  <ctx>\n",
      "                    <Load/>\n",
      "                  </ctx>\n",
      "                </Name>\n",
      "              </value>\n",
      "            </Assign>\n",
      "          </body>\n",
      "          <decorator_list/>\n",
      "        </FunctionDef>\n",
      "        <FunctionDef lineno=\"10\" col_offset=\"4\" type=\"str\" name=\"method\">\n",
      "          <args>\n",
      "            <arguments>\n",
      "              <posonlyargs/>\n",
      "              <args>\n",
      "                <arg lineno=\"10\" col_offset=\"15\" type=\"str\" arg=\"self\"/>\n",
      "                <arg lineno=\"10\" col_offset=\"21\" type=\"str\" arg=\"y\"/>\n",
      "              </args>\n",
      "              <kwonlyargs/>\n",
      "              <kw_defaults/>\n",
      "              <defaults/>\n",
      "            </arguments>\n",
      "          </args>\n",
      "          <body>\n",
      "            <Return lineno=\"11\" col_offset=\"8\">\n",
      "              <value>\n",
      "                <Call lineno=\"11\" col_offset=\"15\">\n",
      "                  <func>\n",
      "                    <Name lineno=\"11\" col_offset=\"15\" type=\"str\" id=\"f\">\n",
      "                      <ctx>\n",
      "                        <Load/>\n",
      "                      </ctx>\n",
      "                    </Name>\n",
      "                  </func>\n",
      "                  <args>\n",
      "                    <Attribute lineno=\"11\" col_offset=\"17\" type=\"str\" attr=\"x\">\n",
      "                      <value>\n",
      "                        <Name lineno=\"11\" col_offset=\"17\" type=\"str\" id=\"self\">\n",
      "                          <ctx>\n",
      "                            <Load/>\n",
      "                          </ctx>\n",
      "                        </Name>\n",
      "                      </value>\n",
      "                      <ctx>\n",
      "                        <Load/>\n",
      "                      </ctx>\n",
      "                    </Attribute>\n",
      "                    <Name lineno=\"11\" col_offset=\"25\" type=\"str\" id=\"y\">\n",
      "                      <ctx>\n",
      "                        <Load/>\n",
      "                      </ctx>\n",
      "                    </Name>\n",
      "                  </args>\n",
      "                  <keywords/>\n",
      "                </Call>\n",
      "              </value>\n",
      "            </Return>\n",
      "          </body>\n",
      "          <decorator_list/>\n",
      "        </FunctionDef>\n",
      "      </body>\n",
      "      <decorator_list/>\n",
      "    </ClassDef>\n",
      "    <Expr lineno=\"13\" col_offset=\"0\">\n",
      "      <value>\n",
      "        <Call lineno=\"13\" col_offset=\"0\">\n",
      "          <func>\n",
      "            <Name lineno=\"13\" col_offset=\"0\" type=\"str\" id=\"print\">\n",
      "              <ctx>\n",
      "                <Load/>\n",
      "              </ctx>\n",
      "            </Name>\n",
      "          </func>\n",
      "          <args>\n",
      "            <Call lineno=\"13\" col_offset=\"6\">\n",
      "              <func>\n",
      "                <Name lineno=\"13\" col_offset=\"6\" type=\"str\" id=\"f\">\n",
      "                  <ctx>\n",
      "                    <Load/>\n",
      "                  </ctx>\n",
      "                </Name>\n",
      "              </func>\n",
      "              <args>\n",
      "                <Constant lineno=\"13\" col_offset=\"8\" type=\"int\" value=\"2\"/>\n",
      "                <Constant lineno=\"13\" col_offset=\"10\" type=\"int\" value=\"3\"/>\n",
      "              </args>\n",
      "              <keywords/>\n",
      "            </Call>\n",
      "          </args>\n",
      "          <keywords/>\n",
      "        </Call>\n",
      "      </value>\n",
      "    </Expr>\n",
      "  </body>\n",
      "  <type_ignores/>\n",
      "</Module>\n",
      "\n"
     ]
    }
   ],
   "source": [
    "x_t,a_t,n_m = py_to_xml(code_text)\n",
    "print_file_xml(code_file)"
   ]
  },
  {
   "cell_type": "code",
   "execution_count": null,
   "metadata": {},
   "outputs": [
    {
     "name": "stdout",
     "output_type": "stream",
     "text": [
      "def f(x, y):\n",
      "    x + y\n",
      "\n",
      "def g(x, y):\n",
      "    return f(x, y) ** 2\n",
      "\n",
      "class A:\n",
      "\n",
      "    def __init__(self, x):\n",
      "        self.x = x\n",
      "\n",
      "    def method(self, y):\n",
      "        return f(self.x, y)\n",
      "print(f(2, 3))\n"
     ]
    }
   ],
   "source": [
    "print(ast_to_string(a_t))"
   ]
  },
  {
   "cell_type": "code",
   "execution_count": null,
   "metadata": {},
   "outputs": [
    {
     "name": "stdout",
     "output_type": "stream",
     "text": [
      "def f(x, y):\n",
      "    x + y\n",
      "def g(x, y):\n",
      "    return f(x, y) ** 2\n",
      "def __init__(self, x):\n",
      "    self.x = x\n",
      "def method(self, y):\n",
      "    return f(self.x, y)\n",
      "f\n",
      "g\n",
      "__init__\n",
      "method\n"
     ]
    }
   ],
   "source": [
    "for match in ast_xpath(code_file,'//FunctionDef'):\n",
    "    print(ast_to_string(match))\n",
    "\n",
    "for match in ast_xpath(code_text,'//FunctionDef/@name'):\n",
    "    print(ast_to_string(match))\n"
   ]
  },
  {
   "cell_type": "code",
   "execution_count": null,
   "metadata": {},
   "outputs": [],
   "source": [
    "#| export\n",
    "@cache\n",
    "def _get_lines(path):\n",
    "    if isinstance(path,Path):\n",
    "        tuple(path.read_text().split('\\n'))\n",
    "    else:\n",
    "        return tuple(path.split('\\n'))\n",
    "\n",
    "def get_character_position(path, line_number, column_offset):\n",
    "    \"\"\"gets a character position from a line number and column offset\"\"\"\n",
    "    lines = _get_lines(path)\n",
    "    if line_number < 1 or line_number > len(lines):\n",
    "        raise ValueError(\"Invalid line number\")\n",
    "    line = lines[line_number - 1]\n",
    "    if column_offset < 0 or column_offset > len(line):\n",
    "        raise ValueError(\"Invalid column offset\")\n",
    "    return sum(len(lines[i]) + 1 for i in range(line_number - 1)) + column_offset\n",
    "\n",
    "def ast_to_span(string,node):\n",
    "    \"\"\"given a node <node> of an ast from file <path>,\n",
    "    returns the location of the node in the file as a Span object\"\"\"\n",
    "    if isinstance(string,Path):\n",
    "        text = string.read_text()\n",
    "        name = string.name\n",
    "    else:\n",
    "        text = string\n",
    "        name = None\n",
    "    start = get_character_position(str(text),node.lineno,node.col_offset)\n",
    "    if hasattr(node,'end_lineno') and hasattr(node,'end_col_offset'):\n",
    "        end = get_character_position(str(text),node.end_lineno,node.end_col_offset)\n",
    "    else:\n",
    "        end = start + len(ast.unparse(node))\n",
    "    return [Span(text,start,end,name=name)]"
   ]
  },
  {
   "cell_type": "code",
   "execution_count": null,
   "metadata": {},
   "outputs": [],
   "source": [
    "matches = ast_xpath(code_text,'//FunctionDef')\n",
    "m = matches[0]"
   ]
  },
  {
   "cell_type": "code",
   "execution_count": null,
   "metadata": {},
   "outputs": [
    {
     "data": {
      "text/plain": [
       "([@example_code.py,0,19) \"def f(x,y)...\", 'def f(x,y):\\n    x+y')"
      ]
     },
     "execution_count": null,
     "metadata": {},
     "output_type": "execute_result"
    }
   ],
   "source": [
    "span = ast_to_span(code_file,m)[0]\n",
    "span,str(span)"
   ]
  },
  {
   "cell_type": "code",
   "execution_count": null,
   "metadata": {},
   "outputs": [],
   "source": [
    "#| export\n",
    "def lex_concat(strings):\n",
    "    return '\\n'.join(sorted([str(s) for s in strings]))"
   ]
  },
  {
   "cell_type": "code",
   "execution_count": null,
   "metadata": {},
   "outputs": [],
   "source": [
    "# note that we use the ast node class directly in spannerlib since we want to access node attributes as well\n",
    "sess.register('ast_xpath',ast_xpath,[(str,Path,Span),str],[ast.AST])\n",
    "sess.register('ast_to_span',ast_to_span,[(str,Span,Path),ast.AST],[Span])\n",
    "sess.register_agg('lex_concat',lex_concat,[(str,Span)],[str])"
   ]
  },
  {
   "cell_type": "markdown",
   "metadata": {},
   "source": [
    "### Using our ie functions"
   ]
  },
  {
   "cell_type": "code",
   "execution_count": null,
   "metadata": {},
   "outputs": [],
   "source": [
    "# non primitve variables cannot be initiallzed from within spannerlob, so we define\n",
    "# a path variable from the outside.\n",
    "sess.import_var('code_file',code_file)"
   ]
  },
  {
   "cell_type": "code",
   "execution_count": null,
   "metadata": {},
   "outputs": [
    {
     "data": {
      "text/plain": [
       "'?ExampleAST(span,string)'"
      ]
     },
     "metadata": {},
     "output_type": "display_data"
    },
    {
     "data": {
      "text/html": [
       "<style type=\"text/css\">\n",
       "#T_13a53_row0_col0, #T_13a53_row0_col1, #T_13a53_row1_col0, #T_13a53_row1_col1, #T_13a53_row2_col0, #T_13a53_row2_col1, #T_13a53_row3_col0, #T_13a53_row3_col1 {\n",
       "  overflow-wrap: break-word;\n",
       "  max-width: 800px;\n",
       "  text-align: left;\n",
       "}\n",
       "</style>\n",
       "<table id=\"T_13a53\">\n",
       "  <thead>\n",
       "    <tr>\n",
       "      <th class=\"blank level0\" >&nbsp;</th>\n",
       "      <th id=\"T_13a53_level0_col0\" class=\"col_heading level0 col0\" >span</th>\n",
       "      <th id=\"T_13a53_level0_col1\" class=\"col_heading level0 col1\" >string</th>\n",
       "    </tr>\n",
       "  </thead>\n",
       "  <tbody>\n",
       "    <tr>\n",
       "      <th id=\"T_13a53_level0_row0\" class=\"row_heading level0 row0\" >0</th>\n",
       "      <td id=\"T_13a53_row0_col0\" class=\"data row0 col0\" >[@example_code.py,0,19) \"def f(x,y)...\"</td>\n",
       "      <td id=\"T_13a53_row0_col1\" class=\"data row0 col1\" >def f(x,y):\n",
       "    x+y</td>\n",
       "    </tr>\n",
       "    <tr>\n",
       "      <th id=\"T_13a53_level0_row1\" class=\"row_heading level0 row1\" >1</th>\n",
       "      <td id=\"T_13a53_row1_col0\" class=\"data row1 col0\" >[@example_code.py,22,54) \"def g(x,y)...\"</td>\n",
       "      <td id=\"T_13a53_row1_col1\" class=\"data row1 col1\" >def g(x,y):\n",
       "    return f(x,y)**2</td>\n",
       "    </tr>\n",
       "    <tr>\n",
       "      <th id=\"T_13a53_level0_row2\" class=\"row_heading level0 row2\" >2</th>\n",
       "      <td id=\"T_13a53_row2_col0\" class=\"data row2 col0\" >[@example_code.py,69,110) \"def __init...\"</td>\n",
       "      <td id=\"T_13a53_row2_col1\" class=\"data row2 col1\" >def __init__(self, x):\n",
       "        self.x = x</td>\n",
       "    </tr>\n",
       "    <tr>\n",
       "      <th id=\"T_13a53_level0_row3\" class=\"row_heading level0 row3\" >3</th>\n",
       "      <td id=\"T_13a53_row3_col0\" class=\"data row3 col0\" >[@example_code.py,115,163) \"def method...\"</td>\n",
       "      <td id=\"T_13a53_row3_col1\" class=\"data row3 col1\" >def method(self, y):\n",
       "        return f(self.x, y)</td>\n",
       "    </tr>\n",
       "  </tbody>\n",
       "</table>\n"
      ],
      "text/plain": [
       "<pandas.io.formats.style.Styler>"
      ]
     },
     "metadata": {},
     "output_type": "display_data"
    }
   ],
   "source": [
    "%%spannerlog\n",
    "\n",
    "ExampleAST(span,string)<-\\\n",
    "    ast_xpath($code_file,'//FunctionDef')->(node),\\\n",
    "    ast_to_span($code_file,node)->(span),\\\n",
    "    as_str(span)->(string)\n",
    "\n",
    "?ExampleAST(span,string)"
   ]
  },
  {
   "cell_type": "markdown",
   "metadata": {},
   "source": [
    "### Bringing in data"
   ]
  },
  {
   "cell_type": "markdown",
   "metadata": {},
   "source": [
    "To keep the outputs readable, we will only load a single python file\n"
   ]
  },
  {
   "cell_type": "code",
   "execution_count": null,
   "metadata": {},
   "outputs": [
    {
     "data": {
      "text/html": [
       "<div>\n",
       "<style scoped>\n",
       "    .dataframe tbody tr th:only-of-type {\n",
       "        vertical-align: middle;\n",
       "    }\n",
       "\n",
       "    .dataframe tbody tr th {\n",
       "        vertical-align: top;\n",
       "    }\n",
       "\n",
       "    .dataframe thead th {\n",
       "        text-align: right;\n",
       "    }\n",
       "</style>\n",
       "<table border=\"1\" class=\"dataframe\">\n",
       "  <thead>\n",
       "    <tr style=\"text-align: right;\">\n",
       "      <th></th>\n",
       "      <th>0</th>\n",
       "    </tr>\n",
       "  </thead>\n",
       "  <tbody>\n",
       "    <tr>\n",
       "      <th>0</th>\n",
       "      <td>[@example_code.py,0,178) \"def f(x,y)...\"</td>\n",
       "    </tr>\n",
       "  </tbody>\n",
       "</table>\n",
       "</div>"
      ],
      "text/plain": [
       "                                          0\n",
       "0  [@example_code.py,0,178) \"def f(x,y)...\""
      ]
     },
     "execution_count": null,
     "metadata": {},
     "output_type": "execute_result"
    }
   ],
   "source": [
    "example_files = pd.DataFrame(\n",
    "    [(Span(code_file),)]\n",
    ")\n",
    "example_files.map(repr)"
   ]
  },
  {
   "cell_type": "code",
   "execution_count": null,
   "metadata": {},
   "outputs": [
    {
     "name": "stdout",
     "output_type": "stream",
     "text": [
      "def f(x,y):\n",
      "    x+y \n",
      "\n",
      "def g(x,y):\n",
      "    return f(x,y)**2\n",
      "\n",
      "class A:\n",
      "    def __init__(self, x):\n",
      "        self.x = x\n",
      "    def method(self, y):\n",
      "        return f(self.x, y)\n",
      "\n",
      "print(f(2,3))\n"
     ]
    }
   ],
   "source": [
    "print(code_file.read_text())"
   ]
  },
  {
   "cell_type": "markdown",
   "metadata": {},
   "source": [
    "We will simulate a cursor position inside the function `f`"
   ]
  },
  {
   "cell_type": "code",
   "execution_count": null,
   "metadata": {},
   "outputs": [
    {
     "data": {
      "text/html": [
       "<div>\n",
       "<style scoped>\n",
       "    .dataframe tbody tr th:only-of-type {\n",
       "        vertical-align: middle;\n",
       "    }\n",
       "\n",
       "    .dataframe tbody tr th {\n",
       "        vertical-align: top;\n",
       "    }\n",
       "\n",
       "    .dataframe thead th {\n",
       "        text-align: right;\n",
       "    }\n",
       "</style>\n",
       "<table border=\"1\" class=\"dataframe\">\n",
       "  <thead>\n",
       "    <tr style=\"text-align: right;\">\n",
       "      <th></th>\n",
       "      <th>0</th>\n",
       "    </tr>\n",
       "  </thead>\n",
       "  <tbody>\n",
       "    <tr>\n",
       "      <th>0</th>\n",
       "      <td>[@example_code.py,16,17) \"x\"</td>\n",
       "    </tr>\n",
       "  </tbody>\n",
       "</table>\n",
       "</div>"
      ],
      "text/plain": [
       "                              0\n",
       "0  [@example_code.py,16,17) \"x\""
      ]
     },
     "execution_count": null,
     "metadata": {},
     "output_type": "execute_result"
    }
   ],
   "source": [
    "cursors =pd.DataFrame([(Span(code_file,16,17),)])\n",
    "cursors.map(repr)"
   ]
  },
  {
   "cell_type": "markdown",
   "metadata": {},
   "source": [
    "We import this data to our session."
   ]
  },
  {
   "cell_type": "code",
   "execution_count": null,
   "metadata": {},
   "outputs": [],
   "source": [
    "sess.import_rel('Files',example_files)\n",
    "sess.import_rel('Cursors',cursors)"
   ]
  },
  {
   "cell_type": "code",
   "execution_count": null,
   "metadata": {},
   "outputs": [],
   "source": [
    "#| hide\n",
    "# used when debugging to delete rules\n",
    "sess.remove_all_rules()"
   ]
  },
  {
   "cell_type": "markdown",
   "metadata": {},
   "source": [
    "And now we can incrementally build our rules from the bottom up"
   ]
  },
  {
   "cell_type": "code",
   "execution_count": null,
   "metadata": {},
   "outputs": [
    {
     "data": {
      "text/plain": [
       "'?FuncDefSpan(span,name)'"
      ]
     },
     "metadata": {},
     "output_type": "display_data"
    },
    {
     "data": {
      "text/html": [
       "<style type=\"text/css\">\n",
       "#T_02340_row0_col0, #T_02340_row0_col1, #T_02340_row1_col0, #T_02340_row1_col1, #T_02340_row2_col0, #T_02340_row2_col1, #T_02340_row3_col0, #T_02340_row3_col1 {\n",
       "  overflow-wrap: break-word;\n",
       "  max-width: 800px;\n",
       "  text-align: left;\n",
       "}\n",
       "</style>\n",
       "<table id=\"T_02340\">\n",
       "  <thead>\n",
       "    <tr>\n",
       "      <th class=\"blank level0\" >&nbsp;</th>\n",
       "      <th id=\"T_02340_level0_col0\" class=\"col_heading level0 col0\" >span</th>\n",
       "      <th id=\"T_02340_level0_col1\" class=\"col_heading level0 col1\" >name</th>\n",
       "    </tr>\n",
       "  </thead>\n",
       "  <tbody>\n",
       "    <tr>\n",
       "      <th id=\"T_02340_level0_row0\" class=\"row_heading level0 row0\" >0</th>\n",
       "      <td id=\"T_02340_row0_col0\" class=\"data row0 col0\" >[@example_code.py,0,19) \"def f(x,y)...\"</td>\n",
       "      <td id=\"T_02340_row0_col1\" class=\"data row0 col1\" >f</td>\n",
       "    </tr>\n",
       "    <tr>\n",
       "      <th id=\"T_02340_level0_row1\" class=\"row_heading level0 row1\" >1</th>\n",
       "      <td id=\"T_02340_row1_col0\" class=\"data row1 col0\" >[@example_code.py,22,54) \"def g(x,y)...\"</td>\n",
       "      <td id=\"T_02340_row1_col1\" class=\"data row1 col1\" >g</td>\n",
       "    </tr>\n",
       "    <tr>\n",
       "      <th id=\"T_02340_level0_row2\" class=\"row_heading level0 row2\" >2</th>\n",
       "      <td id=\"T_02340_row2_col0\" class=\"data row2 col0\" >[@example_code.py,69,110) \"def __init...\"</td>\n",
       "      <td id=\"T_02340_row2_col1\" class=\"data row2 col1\" >__init__</td>\n",
       "    </tr>\n",
       "    <tr>\n",
       "      <th id=\"T_02340_level0_row3\" class=\"row_heading level0 row3\" >3</th>\n",
       "      <td id=\"T_02340_row3_col0\" class=\"data row3 col0\" >[@example_code.py,115,163) \"def method...\"</td>\n",
       "      <td id=\"T_02340_row3_col1\" class=\"data row3 col1\" >method</td>\n",
       "    </tr>\n",
       "  </tbody>\n",
       "</table>\n"
      ],
      "text/plain": [
       "<pandas.io.formats.style.Styler>"
      ]
     },
     "metadata": {},
     "output_type": "display_data"
    }
   ],
   "source": [
    "%%spannerlog\n",
    "# get all spans of function definitions and their name\n",
    "# note we use expr_eval to get the name attribute of the ast Node we assigned to the free variable 'node'.\n",
    "FuncDefSpan(span,name)<-\\\n",
    "    Files(text),\\\n",
    "    ast_xpath(text, \"//FunctionDef\")->(node),\\\n",
    "    ast_to_span(text,node)->(span),\\\n",
    "    expr_eval(\"{0}.name\",node)->(name)\n",
    "\n",
    "?FuncDefSpan(span,name)\n"
   ]
  },
  {
   "cell_type": "code",
   "execution_count": null,
   "metadata": {},
   "outputs": [
    {
     "data": {
      "text/plain": [
       "'?FuncCallSpan(span,name)'"
      ]
     },
     "metadata": {},
     "output_type": "display_data"
    },
    {
     "data": {
      "text/html": [
       "<style type=\"text/css\">\n",
       "#T_e078b_row0_col0, #T_e078b_row0_col1, #T_e078b_row1_col0, #T_e078b_row1_col1, #T_e078b_row2_col0, #T_e078b_row2_col1, #T_e078b_row3_col0, #T_e078b_row3_col1 {\n",
       "  overflow-wrap: break-word;\n",
       "  max-width: 800px;\n",
       "  text-align: left;\n",
       "}\n",
       "</style>\n",
       "<table id=\"T_e078b\">\n",
       "  <thead>\n",
       "    <tr>\n",
       "      <th class=\"blank level0\" >&nbsp;</th>\n",
       "      <th id=\"T_e078b_level0_col0\" class=\"col_heading level0 col0\" >span</th>\n",
       "      <th id=\"T_e078b_level0_col1\" class=\"col_heading level0 col1\" >name</th>\n",
       "    </tr>\n",
       "  </thead>\n",
       "  <tbody>\n",
       "    <tr>\n",
       "      <th id=\"T_e078b_level0_row0\" class=\"row_heading level0 row0\" >0</th>\n",
       "      <td id=\"T_e078b_row0_col0\" class=\"data row0 col0\" >[@example_code.py,45,46) \"f\"</td>\n",
       "      <td id=\"T_e078b_row0_col1\" class=\"data row0 col1\" >f</td>\n",
       "    </tr>\n",
       "    <tr>\n",
       "      <th id=\"T_e078b_level0_row1\" class=\"row_heading level0 row1\" >1</th>\n",
       "      <td id=\"T_e078b_row1_col0\" class=\"data row1 col0\" >[@example_code.py,151,152) \"f\"</td>\n",
       "      <td id=\"T_e078b_row1_col1\" class=\"data row1 col1\" >f</td>\n",
       "    </tr>\n",
       "    <tr>\n",
       "      <th id=\"T_e078b_level0_row2\" class=\"row_heading level0 row2\" >2</th>\n",
       "      <td id=\"T_e078b_row2_col0\" class=\"data row2 col0\" >[@example_code.py,165,170) \"print\"</td>\n",
       "      <td id=\"T_e078b_row2_col1\" class=\"data row2 col1\" >print</td>\n",
       "    </tr>\n",
       "    <tr>\n",
       "      <th id=\"T_e078b_level0_row3\" class=\"row_heading level0 row3\" >3</th>\n",
       "      <td id=\"T_e078b_row3_col0\" class=\"data row3 col0\" >[@example_code.py,171,172) \"f\"</td>\n",
       "      <td id=\"T_e078b_row3_col1\" class=\"data row3 col1\" >f</td>\n",
       "    </tr>\n",
       "  </tbody>\n",
       "</table>\n"
      ],
      "text/plain": [
       "<pandas.io.formats.style.Styler>"
      ]
     },
     "metadata": {},
     "output_type": "display_data"
    }
   ],
   "source": [
    "%%spannerlog\n",
    "# get all spans of function calls and their names\n",
    "FuncCallSpan(span,name)<-\\\n",
    "    Files(text),\\\n",
    "    ast_xpath(text, \"//Call/func/Name\")->(node),\\\n",
    "    ast_to_span(text,node)->(span),\\\n",
    "    as_str(span)->(name)\n",
    "\n",
    "?FuncCallSpan(span,name)"
   ]
  },
  {
   "cell_type": "code",
   "execution_count": null,
   "metadata": {},
   "outputs": [
    {
     "data": {
      "text/plain": [
       "'?CursorWrappingFunc(cursor,name)'"
      ]
     },
     "metadata": {},
     "output_type": "display_data"
    },
    {
     "data": {
      "text/html": [
       "<style type=\"text/css\">\n",
       "#T_c73a1_row0_col0, #T_c73a1_row0_col1 {\n",
       "  overflow-wrap: break-word;\n",
       "  max-width: 800px;\n",
       "  text-align: left;\n",
       "}\n",
       "</style>\n",
       "<table id=\"T_c73a1\">\n",
       "  <thead>\n",
       "    <tr>\n",
       "      <th class=\"blank level0\" >&nbsp;</th>\n",
       "      <th id=\"T_c73a1_level0_col0\" class=\"col_heading level0 col0\" >cursor</th>\n",
       "      <th id=\"T_c73a1_level0_col1\" class=\"col_heading level0 col1\" >name</th>\n",
       "    </tr>\n",
       "  </thead>\n",
       "  <tbody>\n",
       "    <tr>\n",
       "      <th id=\"T_c73a1_level0_row0\" class=\"row_heading level0 row0\" >0</th>\n",
       "      <td id=\"T_c73a1_row0_col0\" class=\"data row0 col0\" >[@example_code.py,16,17) \"x\"</td>\n",
       "      <td id=\"T_c73a1_row0_col1\" class=\"data row0 col1\" >f</td>\n",
       "    </tr>\n",
       "  </tbody>\n",
       "</table>\n"
      ],
      "text/plain": [
       "<pandas.io.formats.style.Styler>"
      ]
     },
     "metadata": {},
     "output_type": "display_data"
    }
   ],
   "source": [
    "%%spannerlog\n",
    "# we compute the func wrapping a cursor by checking with function def span contains our cursor\n",
    "CursorWrappingFunc(cursor,name)<-\\\n",
    "    Cursors(cursor),\\\n",
    "    FuncDefSpan(span,name),\\\n",
    "    span_contained(cursor,span)->(True)\n",
    "\n",
    "?CursorWrappingFunc(cursor,name)"
   ]
  },
  {
   "cell_type": "code",
   "execution_count": null,
   "metadata": {},
   "outputs": [],
   "source": [
    "#| hide\n",
    "sess.remove_head('Mentions')\n",
    "sess.remove_head('DocumentFunction')"
   ]
  },
  {
   "cell_type": "code",
   "execution_count": null,
   "metadata": {},
   "outputs": [
    {
     "data": {
      "text/plain": [
       "'?Mentions(mentions,func)'"
      ]
     },
     "metadata": {},
     "output_type": "display_data"
    },
    {
     "data": {
      "text/html": [
       "<style type=\"text/css\">\n",
       "#T_926b7_row0_col0, #T_926b7_row0_col1 {\n",
       "  overflow-wrap: break-word;\n",
       "  max-width: 800px;\n",
       "  text-align: left;\n",
       "}\n",
       "</style>\n",
       "<table id=\"T_926b7\">\n",
       "  <thead>\n",
       "    <tr>\n",
       "      <th class=\"blank level0\" >&nbsp;</th>\n",
       "      <th id=\"T_926b7_level0_col0\" class=\"col_heading level0 col0\" >mentions</th>\n",
       "      <th id=\"T_926b7_level0_col1\" class=\"col_heading level0 col1\" >func</th>\n",
       "    </tr>\n",
       "  </thead>\n",
       "  <tbody>\n",
       "    <tr>\n",
       "      <th id=\"T_926b7_level0_row0\" class=\"row_heading level0 row0\" >0</th>\n",
       "      <td id=\"T_926b7_row0_col0\" class=\"data row0 col0\" >def g(x,y):\n",
       "    return f(x,y)**2\n",
       "def method(self, y):\n",
       "        return f(self.x, y)</td>\n",
       "      <td id=\"T_926b7_row0_col1\" class=\"data row0 col1\" >f</td>\n",
       "    </tr>\n",
       "  </tbody>\n",
       "</table>\n"
      ],
      "text/plain": [
       "<pandas.io.formats.style.Styler>"
      ]
     },
     "metadata": {},
     "output_type": "display_data"
    }
   ],
   "source": [
    "%%spannerlog\n",
    "# we get all mentions of a function by looking for function calls of it that are sub spans of func definitions\n",
    "# we aggregate our mentions using lex_concat to get a single mention context per function.\n",
    "Mentions(lex_concat(caller_span),called_name)<-\\\n",
    "    FuncCallSpan(called_span,called_name),\\\n",
    "    FuncDefSpan(caller_span,caller_name),\\\n",
    "    span_contained(called_span,caller_span)->(True)\n",
    "\n",
    "?Mentions(mentions,func)    "
   ]
  },
  {
   "cell_type": "markdown",
   "metadata": {},
   "source": [
    "Now to piece this together to an LLM prompt we can call, lets define our prompt template:"
   ]
  },
  {
   "cell_type": "code",
   "execution_count": null,
   "metadata": {},
   "outputs": [],
   "source": [
    "func_document_template = \"\"\"\n",
    "system: based on the following context:\n",
    "{}\n",
    "Explain the following function:\n",
    "{}\n",
    "In the format of a doc string.\n",
    "\"\"\"\n",
    "sess.import_var('func_document_template',func_document_template)"
   ]
  },
  {
   "cell_type": "markdown",
   "metadata": {},
   "source": [
    "And just like in our basic agent tutorial, we get our strings from our lowlevel rules and compose them using the `format` ie function."
   ]
  },
  {
   "cell_type": "code",
   "execution_count": null,
   "metadata": {},
   "outputs": [
    {
     "data": {
      "text/plain": [
       "'?DocumentFunctionPrompt(cursor,prompt)'"
      ]
     },
     "metadata": {},
     "output_type": "display_data"
    },
    {
     "data": {
      "text/html": [
       "<style type=\"text/css\">\n",
       "#T_5c80c_row0_col0, #T_5c80c_row0_col1 {\n",
       "  overflow-wrap: break-word;\n",
       "  max-width: 800px;\n",
       "  text-align: left;\n",
       "}\n",
       "</style>\n",
       "<table id=\"T_5c80c\">\n",
       "  <thead>\n",
       "    <tr>\n",
       "      <th class=\"blank level0\" >&nbsp;</th>\n",
       "      <th id=\"T_5c80c_level0_col0\" class=\"col_heading level0 col0\" >cursor</th>\n",
       "      <th id=\"T_5c80c_level0_col1\" class=\"col_heading level0 col1\" >prompt</th>\n",
       "    </tr>\n",
       "  </thead>\n",
       "  <tbody>\n",
       "    <tr>\n",
       "      <th id=\"T_5c80c_level0_row0\" class=\"row_heading level0 row0\" >0</th>\n",
       "      <td id=\"T_5c80c_row0_col0\" class=\"data row0 col0\" >[@example_code.py,16,17) \"x\"</td>\n",
       "      <td id=\"T_5c80c_row0_col1\" class=\"data row0 col1\" >\n",
       "system: based on the following context:\n",
       "def g(x,y):\n",
       "    return f(x,y)**2\n",
       "def method(self, y):\n",
       "        return f(self.x, y)\n",
       "Explain the following function:\n",
       "def f(x,y):\n",
       "    x+y\n",
       "In the format of a doc string.\n",
       "</td>\n",
       "    </tr>\n",
       "  </tbody>\n",
       "</table>\n"
      ],
      "text/plain": [
       "<pandas.io.formats.style.Styler>"
      ]
     },
     "metadata": {},
     "output_type": "display_data"
    },
    {
     "data": {
      "text/plain": [
       "'?DocumentFunction(cursor,answer)'"
      ]
     },
     "metadata": {},
     "output_type": "display_data"
    },
    {
     "data": {
      "text/html": [
       "<style type=\"text/css\">\n",
       "#T_3457b_row0_col0, #T_3457b_row0_col1 {\n",
       "  overflow-wrap: break-word;\n",
       "  max-width: 800px;\n",
       "  text-align: left;\n",
       "}\n",
       "</style>\n",
       "<table id=\"T_3457b\">\n",
       "  <thead>\n",
       "    <tr>\n",
       "      <th class=\"blank level0\" >&nbsp;</th>\n",
       "      <th id=\"T_3457b_level0_col0\" class=\"col_heading level0 col0\" >cursor</th>\n",
       "      <th id=\"T_3457b_level0_col1\" class=\"col_heading level0 col1\" >answer</th>\n",
       "    </tr>\n",
       "  </thead>\n",
       "  <tbody>\n",
       "    <tr>\n",
       "      <th id=\"T_3457b_level0_row0\" class=\"row_heading level0 row0\" >0</th>\n",
       "      <td id=\"T_3457b_row0_col0\" class=\"data row0 col0\" >[@example_code.py,16,17) \"x\"</td>\n",
       "      <td id=\"T_3457b_row0_col1\" class=\"data row0 col1\" >\"\"\"\n",
       "This function calculates the sum of two inputs x and y.\n",
       "\"\"\"\n",
       "</td>\n",
       "    </tr>\n",
       "  </tbody>\n",
       "</table>\n"
      ],
      "text/plain": [
       "<pandas.io.formats.style.Styler>"
      ]
     },
     "metadata": {},
     "output_type": "display_data"
    }
   ],
   "source": [
    "%%spannerlog\n",
    "\n",
    "model = 'gpt-3.5-turbo'\n",
    "DocumentFunctionPrompt(cursor,prompt)<-\\\n",
    "    CursorWrappingFunc(cursor,name),\\\n",
    "    Mentions(mentions,name),\\\n",
    "    FuncDefSpan(def_span,name),\\\n",
    "    as_str(def_span)->(def_string),\\\n",
    "    format($func_document_template,mentions,def_string)->(prompt)\n",
    "\n",
    "?DocumentFunctionPrompt(cursor,prompt)\n",
    "\n",
    "DocumentFunction(cursor,answer)<-\\\n",
    "    DocumentFunctionPrompt(cursor,prompt),\\\n",
    "    llm($model,prompt)->(answer)\n",
    "\n",
    "?DocumentFunction(cursor,answer)"
   ]
  },
  {
   "cell_type": "markdown",
   "metadata": {},
   "source": [
    "Putting all of our spannerlog together, we get:"
   ]
  },
  {
   "cell_type": "code",
   "execution_count": null,
   "metadata": {},
   "outputs": [],
   "source": [
    "%%spannerlog\n",
    "FuncDefSpan(span,name)<-\\\n",
    "    Files(text),\\\n",
    "    ast_xpath(text, \"//FunctionDef\")->(node),\\\n",
    "    ast_to_span(text,node)->(span),\\\n",
    "    expr_eval(\"{0}.name\",node)->(name)\n",
    "\n",
    "FuncCallSpan(span,name)<-\\\n",
    "    Files(text),\\\n",
    "    ast_xpath(text, \"//Call/func/Name\")->(node),\\\n",
    "    ast_to_span(text,node)->(span),\\\n",
    "    as_str(span)->(name)\n",
    "\n",
    "CursorWrappingFunc(cursor,name)<-\\\n",
    "    Cursors(cursor),\\\n",
    "    FuncDefSpan(span,name),\\\n",
    "    span_contained(cursor,span)->(True)\n",
    "\n",
    "Mentions(lex_concat(caller_span),called_name)<-\\\n",
    "    FuncCallSpan(called_span,called_name),\\\n",
    "    FuncDefSpan(caller_span,caller_name),\\\n",
    "    span_contained(called_span,caller_span)->(True)\n",
    "\n",
    "model = 'gpt-3.5-turbo'\n",
    "DocumentFunctionPrompt(cursor,prompt)<-\\\n",
    "    CursorWrappingFunc(cursor,name),\\\n",
    "    Mentions(mentions,name),\\\n",
    "    FuncDefSpan(def_span,name),\\\n",
    "    as_str(def_span)->(def_string),\\\n",
    "    format($func_document_template,mentions,def_string)->(prompt)\n",
    "\n",
    "DocumentFunction(cursor,answer)<-\\\n",
    "    DocumentFunctionPrompt(cursor,prompt),\\\n",
    "    llm($model,prompt)->(answer)\n"
   ]
  },
  {
   "cell_type": "markdown",
   "metadata": {},
   "source": [
    "Note how short and elegant, a complex pipeline can be when we decompose our code into:\n",
    "* powerful and generic callbacks\n",
    "* declerative compositional logic\n",
    "\n",
    "And the ease with which we can combine formal IE extractions and LLMs to get the best of both:\n",
    "* structured analysis\n",
    "* NLP via LLMs"
   ]
  },
  {
   "cell_type": "code",
   "execution_count": null,
   "metadata": {},
   "outputs": [],
   "source": [
    "#|hide\n",
    "import nbdev; nbdev.nbdev_export()"
   ]
  }
 ],
 "metadata": {
  "kernelspec": {
   "display_name": "python3",
   "language": "python",
   "name": "python3"
  }
 },
 "nbformat": 4,
 "nbformat_minor": 4
}
