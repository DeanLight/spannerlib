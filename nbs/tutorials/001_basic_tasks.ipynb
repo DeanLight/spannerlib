{
 "cells": [
  {
   "cell_type": "markdown",
   "metadata": {},
   "source": [
    "# Basic Tasks using spannerlib\n"
   ]
  },
  {
   "cell_type": "raw",
   "metadata": {},
   "source": [
    "---\n",
    "skip_exec: true\n",
    "---"
   ]
  },
  {
   "cell_type": "code",
   "execution_count": null,
   "metadata": {},
   "outputs": [],
   "source": [
    "#| default_exp tutorials.basic"
   ]
  },
  {
   "cell_type": "code",
   "execution_count": null,
   "metadata": {},
   "outputs": [
    {
     "data": {
      "text/html": [
       "<script>\n",
       "    if (document.body.dataset.jpThemeLight == \"false\" || // Jupyter Lab\n",
       "        document.body.dataset.vscodeThemeKind == \"vscode-dark\" || // VS Code\n",
       "        document.documentElement.dataset.theme == \"dark\" || // Jupyter Book\n",
       "        window.matchMedia('(prefers-color-scheme: dark)').matches) {\n",
       "        document.documentElement.classList.add('dark');\n",
       "    }\n",
       "    else {\n",
       "        document.documentElement.classList.remove('dark');\n",
       "    }\n",
       "</script>\n"
      ],
      "text/plain": [
       "<IPython.core.display.HTML object>"
      ]
     },
     "metadata": {},
     "output_type": "display_data"
    }
   ],
   "source": [
    "#| hide\n",
    "from nbdev.showdoc import show_doc\n",
    "from IPython.display import display, HTML\n",
    "%load_ext autoreload\n",
    "%autoreload 2\n",
    "from itables import init_notebook_mode,show\n",
    "init_notebook_mode(all_interactive=False,connected=True)"
   ]
  },
  {
   "cell_type": "code",
   "execution_count": null,
   "metadata": {},
   "outputs": [],
   "source": [
    "#| exports\n",
    "# importing dependencies\n",
    "import re\n",
    "import pandas as pd\n",
    "from pandas import DataFrame\n",
    "from pathlib import Path\n",
    "from spannerlib.utils import load_env\n",
    "from spannerlib import get_magic_session,Session,Span"
   ]
  },
  {
   "cell_type": "code",
   "execution_count": null,
   "metadata": {},
   "outputs": [
    {
     "name": "stderr",
     "output_type": "stream",
     "text": [
      "Loaded env from .env.dev\n"
     ]
    }
   ],
   "source": [
    "#| output: false\n",
    "# load openAI api key\n",
    "load_env()"
   ]
  },
  {
   "cell_type": "markdown",
   "metadata": {},
   "source": [
    "This tutorials aim to show how to use the spannerlib framework for simple use cases.\n",
    "To illustrate the simplicity of using spannerlib, all required IE functions will be implemented from scratch."
   ]
  },
  {
   "cell_type": "markdown",
   "metadata": {},
   "source": [
    "## Finding identical sentences in a corpus of documents"
   ]
  },
  {
   "cell_type": "markdown",
   "metadata": {},
   "source": [
    "In this example, we would like to get a collection of documents. And find identical sentences among them.\n",
    "For example, given the following documents:"
   ]
  },
  {
   "cell_type": "code",
   "execution_count": null,
   "metadata": {},
   "outputs": [
    {
     "data": {
      "text/html": [
       "<div>\n",
       "<style scoped>\n",
       "    .dataframe tbody tr th:only-of-type {\n",
       "        vertical-align: middle;\n",
       "    }\n",
       "\n",
       "    .dataframe tbody tr th {\n",
       "        vertical-align: top;\n",
       "    }\n",
       "\n",
       "    .dataframe thead th {\n",
       "        text-align: right;\n",
       "    }\n",
       "</style>\n",
       "<table border=\"1\" class=\"dataframe\">\n",
       "  <thead>\n",
       "    <tr style=\"text-align: right;\">\n",
       "      <th></th>\n",
       "      <th>0</th>\n",
       "      <th>1</th>\n",
       "    </tr>\n",
       "  </thead>\n",
       "  <tbody>\n",
       "    <tr>\n",
       "      <th>0</th>\n",
       "      <td>doc1</td>\n",
       "      <td>The quick brown fox jumps over the lazy dog. I...</td>\n",
       "    </tr>\n",
       "    <tr>\n",
       "      <th>1</th>\n",
       "      <td>doc2</td>\n",
       "      <td>Im walking on Sunshine. Lorem ipsum. Im walkin...</td>\n",
       "    </tr>\n",
       "    <tr>\n",
       "      <th>2</th>\n",
       "      <td>doc3</td>\n",
       "      <td>All you need is love. The quick brown fox jump...</td>\n",
       "    </tr>\n",
       "  </tbody>\n",
       "</table>\n",
       "</div>"
      ],
      "text/plain": [
       "      0                                                  1\n",
       "0  doc1  The quick brown fox jumps over the lazy dog. I...\n",
       "1  doc2  Im walking on Sunshine. Lorem ipsum. Im walkin...\n",
       "2  doc3  All you need is love. The quick brown fox jump..."
      ]
     },
     "execution_count": null,
     "metadata": {},
     "output_type": "execute_result"
    }
   ],
   "source": [
    "input_documents = pd.DataFrame([\n",
    "    ('doc1', 'The quick brown fox jumps over the lazy dog. Im walking on Sunshine.'),\n",
    "    ('doc2', 'Im walking on Sunshine. Lorem ipsum. Im walking on Sunshine.'),\n",
    "    ('doc3', 'All you need is love. The quick brown fox jumps over the lazy dog.'),\n",
    "])\n",
    "input_documents"
   ]
  },
  {
   "cell_type": "markdown",
   "metadata": {},
   "source": [
    "We would like to compute that the first sentence of `doc1` is equal to the second sentence of `doc3` etc.. "
   ]
  },
  {
   "cell_type": "markdown",
   "metadata": {},
   "source": [
    "### Building IE functions"
   ]
  },
  {
   "cell_type": "markdown",
   "metadata": {},
   "source": [
    "To do so, we would need 2 IE functions,\n",
    "* Ones that extract the Span of a sentence from a document, called `split`\n",
    "* The other which would let us know when sentences have identical content but are not actually the same sentence.\n",
    "  * this will require them to have the same content when ignoring whitespace\n",
    "  * but not be equal spans. Lets call this function `eq_content_spans`\n",
    "\n",
    "Lets implement them and register them to our session object. We will use the `Span` class to save indexed substrings.\n",
    "\n"
   ]
  },
  {
   "cell_type": "code",
   "execution_count": null,
   "metadata": {},
   "outputs": [],
   "source": [
    "#| exports\n",
    "# this implementation is naive\n",
    "# the standard library has a rgx_split ie function that does this in a more efficient way\n",
    "def split(text):\n",
    "    split_indices = [ pos for pos,char in enumerate(text) if char == '.' ]\n",
    "    start = 0\n",
    "    for pos,char in enumerate(text):\n",
    "        if char == '.':\n",
    "            yield Span(text, start, pos)\n",
    "            start = pos+1"
   ]
  },
  {
   "cell_type": "code",
   "execution_count": null,
   "metadata": {},
   "outputs": [],
   "source": [
    "#| exports\n",
    "def eq_content_spans(span1, span2):\n",
    "    # notice that we are yielding a boolean value\n",
    "    yield span1 != span2 and str(span1).strip() == str(span2).strip()"
   ]
  },
  {
   "cell_type": "code",
   "execution_count": null,
   "metadata": {},
   "outputs": [
    {
     "name": "stdout",
     "output_type": "stream",
     "text": [
      "[[@3ba775,0,43) \"The quick ...\", [@3ba775,44,67) \" Im walkin...\"]\n"
     ]
    }
   ],
   "source": [
    "print(list(split('The quick brown fox jumps over the lazy dog. Im walking on Sunshine.')))\n"
   ]
  },
  {
   "cell_type": "markdown",
   "metadata": {},
   "source": [
    "### Building spannerlog rules"
   ]
  },
  {
   "cell_type": "code",
   "execution_count": null,
   "metadata": {},
   "outputs": [],
   "source": [
    "# we register the functions and their input and output schema\n",
    "sess = get_magic_session()\n",
    "sess.register('split', split, [str],[Span])\n",
    "sess.register('eq_content_spans', eq_content_spans,[Span,Span],[bool])"
   ]
  },
  {
   "cell_type": "markdown",
   "metadata": {},
   "source": [
    "Now let us import our data"
   ]
  },
  {
   "cell_type": "code",
   "execution_count": null,
   "metadata": {},
   "outputs": [],
   "source": [
    "sess.import_rel('Docs', input_documents)"
   ]
  },
  {
   "cell_type": "markdown",
   "metadata": {},
   "source": [
    "Lets make sure we can see our data in using Spannerlog"
   ]
  },
  {
   "cell_type": "code",
   "execution_count": null,
   "metadata": {},
   "outputs": [
    {
     "data": {
      "text/plain": [
       "'?Docs(doc_id,text)'"
      ]
     },
     "metadata": {},
     "output_type": "display_data"
    },
    {
     "data": {
      "text/html": [
       "<style type=\"text/css\">\n",
       "#T_4e66b_row0_col0, #T_4e66b_row0_col1, #T_4e66b_row1_col0, #T_4e66b_row1_col1, #T_4e66b_row2_col0, #T_4e66b_row2_col1 {\n",
       "  overflow-wrap: break-word;\n",
       "  max-width: 800px;\n",
       "  text-align: left;\n",
       "}\n",
       "</style>\n",
       "<table id=\"T_4e66b\" class=\"display nowrap\"style=\"table-layout:auto;width:auto;margin:auto;caption-side:bottom\">\n",
       "  <thead>\n",
       "    <tr>\n",
       "      <th id=\"T_4e66b_level0_col0\" class=\"col_heading level0 col0\" >doc_id</th>\n",
       "      <th id=\"T_4e66b_level0_col1\" class=\"col_heading level0 col1\" >text</th>\n",
       "    </tr>\n",
       "  </thead>\n",
       "  <tbody>\n",
       "    <tr>\n",
       "      <td id=\"T_4e66b_row0_col0\" class=\"data row0 col0\" >doc1</td>\n",
       "      <td id=\"T_4e66b_row0_col1\" class=\"data row0 col1\" >The quick brown fox jumps over the lazy dog. Im walking on Sunshine.</td>\n",
       "    </tr>\n",
       "    <tr>\n",
       "      <td id=\"T_4e66b_row1_col0\" class=\"data row1 col0\" >doc2</td>\n",
       "      <td id=\"T_4e66b_row1_col1\" class=\"data row1 col1\" >Im walking on Sunshine. Lorem ipsum. Im walking on Sunshine.</td>\n",
       "    </tr>\n",
       "    <tr>\n",
       "      <td id=\"T_4e66b_row2_col0\" class=\"data row2 col0\" >doc3</td>\n",
       "      <td id=\"T_4e66b_row2_col1\" class=\"data row2 col1\" >All you need is love. The quick brown fox jumps over the lazy dog.</td>\n",
       "    </tr>\n",
       "  </tbody>\n",
       "</table>\n",
       "\n",
       "<link href=\"https://www.unpkg.com/dt_for_itables@2.0.11/dt_bundle.css\" rel=\"stylesheet\">\n",
       "<script type=\"module\">\n",
       "    import {DataTable, jQuery as $} from 'https://www.unpkg.com/dt_for_itables@2.0.11/dt_bundle.js';\n",
       "\n",
       "    document.querySelectorAll(\"#T_4e66b:not(.dataTable)\").forEach(table => {\n",
       "        // Define the table data\n",
       "        \n",
       "\n",
       "        // Define the dt_args\n",
       "        let dt_args = {\"columnDefs\": [{\"targets\": [\"doc_id\", \"text\"], \"render\": function(data, type, row) {\n",
       "                            return '<div style=\"white-space: normal; word-wrap: break-word;\">' + data + '</div>';\n",
       "                        }, \"width\": \"300px\"}], \"escape\": true, \"layout\": {\"topStart\": null, \"topEnd\": null, \"bottomStart\": null, \"bottomEnd\": null}, \"display_logo_when_loading\": true, \"order\": []};\n",
       "        \n",
       "\n",
       "        \n",
       "        new DataTable(table, dt_args);\n",
       "    });\n",
       "</script>\n"
      ],
      "text/plain": [
       "<IPython.core.display.HTML object>"
      ]
     },
     "metadata": {},
     "output_type": "display_data"
    }
   ],
   "source": [
    "%%spannerlog\n",
    "?Docs(doc_id,text)"
   ]
  },
  {
   "cell_type": "markdown",
   "metadata": {},
   "source": [
    "Now let us build rules that allow us to find identical sentences:"
   ]
  },
  {
   "cell_type": "code",
   "execution_count": null,
   "metadata": {},
   "outputs": [
    {
     "data": {
      "text/plain": [
       "'?Sents(doc_id,sent)'"
      ]
     },
     "metadata": {},
     "output_type": "display_data"
    },
    {
     "data": {
      "text/html": [
       "<style type=\"text/css\">\n",
       "#T_45e97_row0_col0, #T_45e97_row0_col1, #T_45e97_row1_col0, #T_45e97_row1_col1, #T_45e97_row2_col0, #T_45e97_row2_col1, #T_45e97_row3_col0, #T_45e97_row3_col1, #T_45e97_row4_col0, #T_45e97_row4_col1, #T_45e97_row5_col0, #T_45e97_row5_col1, #T_45e97_row6_col0, #T_45e97_row6_col1 {\n",
       "  overflow-wrap: break-word;\n",
       "  max-width: 800px;\n",
       "  text-align: left;\n",
       "}\n",
       "</style>\n",
       "<table id=\"T_45e97\" class=\"display nowrap\"style=\"table-layout:auto;width:auto;margin:auto;caption-side:bottom\">\n",
       "  <thead>\n",
       "    <tr>\n",
       "      <th id=\"T_45e97_level0_col0\" class=\"col_heading level0 col0\" >doc_id</th>\n",
       "      <th id=\"T_45e97_level0_col1\" class=\"col_heading level0 col1\" >sent</th>\n",
       "    </tr>\n",
       "  </thead>\n",
       "  <tbody>\n",
       "    <tr>\n",
       "      <td id=\"T_45e97_row0_col0\" class=\"data row0 col0\" >doc1</td>\n",
       "      <td id=\"T_45e97_row0_col1\" class=\"data row0 col1\" >[@3ba775,0,43) \"The quick ...\"</td>\n",
       "    </tr>\n",
       "    <tr>\n",
       "      <td id=\"T_45e97_row1_col0\" class=\"data row1 col0\" >doc1</td>\n",
       "      <td id=\"T_45e97_row1_col1\" class=\"data row1 col1\" >[@3ba775,44,67) \" Im walkin...\"</td>\n",
       "    </tr>\n",
       "    <tr>\n",
       "      <td id=\"T_45e97_row2_col0\" class=\"data row2 col0\" >doc2</td>\n",
       "      <td id=\"T_45e97_row2_col1\" class=\"data row2 col1\" >[@06bc2d,0,22) \"Im walking...\"</td>\n",
       "    </tr>\n",
       "    <tr>\n",
       "      <td id=\"T_45e97_row3_col0\" class=\"data row3 col0\" >doc2</td>\n",
       "      <td id=\"T_45e97_row3_col1\" class=\"data row3 col1\" >[@06bc2d,23,35) \" Lorem ips...\"</td>\n",
       "    </tr>\n",
       "    <tr>\n",
       "      <td id=\"T_45e97_row4_col0\" class=\"data row4 col0\" >doc2</td>\n",
       "      <td id=\"T_45e97_row4_col1\" class=\"data row4 col1\" >[@06bc2d,36,59) \" Im walkin...\"</td>\n",
       "    </tr>\n",
       "    <tr>\n",
       "      <td id=\"T_45e97_row5_col0\" class=\"data row5 col0\" >doc3</td>\n",
       "      <td id=\"T_45e97_row5_col1\" class=\"data row5 col1\" >[@9c32df,0,20) \"All you ne...\"</td>\n",
       "    </tr>\n",
       "    <tr>\n",
       "      <td id=\"T_45e97_row6_col0\" class=\"data row6 col0\" >doc3</td>\n",
       "      <td id=\"T_45e97_row6_col1\" class=\"data row6 col1\" >[@9c32df,21,65) \" The quick...\"</td>\n",
       "    </tr>\n",
       "  </tbody>\n",
       "</table>\n",
       "\n",
       "<link href=\"https://www.unpkg.com/dt_for_itables@2.0.11/dt_bundle.css\" rel=\"stylesheet\">\n",
       "<script type=\"module\">\n",
       "    import {DataTable, jQuery as $} from 'https://www.unpkg.com/dt_for_itables@2.0.11/dt_bundle.js';\n",
       "\n",
       "    document.querySelectorAll(\"#T_45e97:not(.dataTable)\").forEach(table => {\n",
       "        // Define the table data\n",
       "        \n",
       "\n",
       "        // Define the dt_args\n",
       "        let dt_args = {\"columnDefs\": [{\"targets\": [\"doc_id\", \"sent\"], \"render\": function(data, type, row) {\n",
       "                            return '<div style=\"white-space: normal; word-wrap: break-word;\">' + data + '</div>';\n",
       "                        }, \"width\": \"300px\"}], \"escape\": true, \"layout\": {\"topStart\": null, \"topEnd\": null, \"bottomStart\": null, \"bottomEnd\": null}, \"display_logo_when_loading\": true, \"order\": []};\n",
       "        \n",
       "\n",
       "        \n",
       "        new DataTable(table, dt_args);\n",
       "    });\n",
       "</script>\n"
      ],
      "text/plain": [
       "<IPython.core.display.HTML object>"
      ]
     },
     "metadata": {},
     "output_type": "display_data"
    },
    {
     "data": {
      "text/plain": [
       "'?EqualSents(doc_id1,sent1,doc_id2,sent2)'"
      ]
     },
     "metadata": {},
     "output_type": "display_data"
    },
    {
     "data": {
      "text/html": [
       "<style type=\"text/css\">\n",
       "#T_bb8b6_row0_col0, #T_bb8b6_row0_col1, #T_bb8b6_row0_col2, #T_bb8b6_row0_col3, #T_bb8b6_row1_col0, #T_bb8b6_row1_col1, #T_bb8b6_row1_col2, #T_bb8b6_row1_col3, #T_bb8b6_row2_col0, #T_bb8b6_row2_col1, #T_bb8b6_row2_col2, #T_bb8b6_row2_col3, #T_bb8b6_row3_col0, #T_bb8b6_row3_col1, #T_bb8b6_row3_col2, #T_bb8b6_row3_col3, #T_bb8b6_row4_col0, #T_bb8b6_row4_col1, #T_bb8b6_row4_col2, #T_bb8b6_row4_col3, #T_bb8b6_row5_col0, #T_bb8b6_row5_col1, #T_bb8b6_row5_col2, #T_bb8b6_row5_col3, #T_bb8b6_row6_col0, #T_bb8b6_row6_col1, #T_bb8b6_row6_col2, #T_bb8b6_row6_col3, #T_bb8b6_row7_col0, #T_bb8b6_row7_col1, #T_bb8b6_row7_col2, #T_bb8b6_row7_col3 {\n",
       "  overflow-wrap: break-word;\n",
       "  max-width: 800px;\n",
       "  text-align: left;\n",
       "}\n",
       "</style>\n",
       "<table id=\"T_bb8b6\" class=\"display nowrap\"style=\"table-layout:auto;width:auto;margin:auto;caption-side:bottom\">\n",
       "  <thead>\n",
       "    <tr>\n",
       "      <th id=\"T_bb8b6_level0_col0\" class=\"col_heading level0 col0\" >doc_id1</th>\n",
       "      <th id=\"T_bb8b6_level0_col1\" class=\"col_heading level0 col1\" >sent1</th>\n",
       "      <th id=\"T_bb8b6_level0_col2\" class=\"col_heading level0 col2\" >doc_id2</th>\n",
       "      <th id=\"T_bb8b6_level0_col3\" class=\"col_heading level0 col3\" >sent2</th>\n",
       "    </tr>\n",
       "  </thead>\n",
       "  <tbody>\n",
       "    <tr>\n",
       "      <td id=\"T_bb8b6_row0_col0\" class=\"data row0 col0\" >doc1</td>\n",
       "      <td id=\"T_bb8b6_row0_col1\" class=\"data row0 col1\" >[@3ba775,0,43) \"The quick ...\"</td>\n",
       "      <td id=\"T_bb8b6_row0_col2\" class=\"data row0 col2\" >doc3</td>\n",
       "      <td id=\"T_bb8b6_row0_col3\" class=\"data row0 col3\" >[@9c32df,21,65) \" The quick...\"</td>\n",
       "    </tr>\n",
       "    <tr>\n",
       "      <td id=\"T_bb8b6_row1_col0\" class=\"data row1 col0\" >doc1</td>\n",
       "      <td id=\"T_bb8b6_row1_col1\" class=\"data row1 col1\" >[@3ba775,44,67) \" Im walkin...\"</td>\n",
       "      <td id=\"T_bb8b6_row1_col2\" class=\"data row1 col2\" >doc2</td>\n",
       "      <td id=\"T_bb8b6_row1_col3\" class=\"data row1 col3\" >[@06bc2d,0,22) \"Im walking...\"</td>\n",
       "    </tr>\n",
       "    <tr>\n",
       "      <td id=\"T_bb8b6_row2_col0\" class=\"data row2 col0\" >doc1</td>\n",
       "      <td id=\"T_bb8b6_row2_col1\" class=\"data row2 col1\" >[@3ba775,44,67) \" Im walkin...\"</td>\n",
       "      <td id=\"T_bb8b6_row2_col2\" class=\"data row2 col2\" >doc2</td>\n",
       "      <td id=\"T_bb8b6_row2_col3\" class=\"data row2 col3\" >[@06bc2d,36,59) \" Im walkin...\"</td>\n",
       "    </tr>\n",
       "    <tr>\n",
       "      <td id=\"T_bb8b6_row3_col0\" class=\"data row3 col0\" >doc2</td>\n",
       "      <td id=\"T_bb8b6_row3_col1\" class=\"data row3 col1\" >[@06bc2d,0,22) \"Im walking...\"</td>\n",
       "      <td id=\"T_bb8b6_row3_col2\" class=\"data row3 col2\" >doc1</td>\n",
       "      <td id=\"T_bb8b6_row3_col3\" class=\"data row3 col3\" >[@3ba775,44,67) \" Im walkin...\"</td>\n",
       "    </tr>\n",
       "    <tr>\n",
       "      <td id=\"T_bb8b6_row4_col0\" class=\"data row4 col0\" >doc2</td>\n",
       "      <td id=\"T_bb8b6_row4_col1\" class=\"data row4 col1\" >[@06bc2d,0,22) \"Im walking...\"</td>\n",
       "      <td id=\"T_bb8b6_row4_col2\" class=\"data row4 col2\" >doc2</td>\n",
       "      <td id=\"T_bb8b6_row4_col3\" class=\"data row4 col3\" >[@06bc2d,36,59) \" Im walkin...\"</td>\n",
       "    </tr>\n",
       "    <tr>\n",
       "      <td id=\"T_bb8b6_row5_col0\" class=\"data row5 col0\" >doc2</td>\n",
       "      <td id=\"T_bb8b6_row5_col1\" class=\"data row5 col1\" >[@06bc2d,36,59) \" Im walkin...\"</td>\n",
       "      <td id=\"T_bb8b6_row5_col2\" class=\"data row5 col2\" >doc1</td>\n",
       "      <td id=\"T_bb8b6_row5_col3\" class=\"data row5 col3\" >[@3ba775,44,67) \" Im walkin...\"</td>\n",
       "    </tr>\n",
       "    <tr>\n",
       "      <td id=\"T_bb8b6_row6_col0\" class=\"data row6 col0\" >doc2</td>\n",
       "      <td id=\"T_bb8b6_row6_col1\" class=\"data row6 col1\" >[@06bc2d,36,59) \" Im walkin...\"</td>\n",
       "      <td id=\"T_bb8b6_row6_col2\" class=\"data row6 col2\" >doc2</td>\n",
       "      <td id=\"T_bb8b6_row6_col3\" class=\"data row6 col3\" >[@06bc2d,0,22) \"Im walking...\"</td>\n",
       "    </tr>\n",
       "    <tr>\n",
       "      <td id=\"T_bb8b6_row7_col0\" class=\"data row7 col0\" >doc3</td>\n",
       "      <td id=\"T_bb8b6_row7_col1\" class=\"data row7 col1\" >[@9c32df,21,65) \" The quick...\"</td>\n",
       "      <td id=\"T_bb8b6_row7_col2\" class=\"data row7 col2\" >doc1</td>\n",
       "      <td id=\"T_bb8b6_row7_col3\" class=\"data row7 col3\" >[@3ba775,0,43) \"The quick ...\"</td>\n",
       "    </tr>\n",
       "  </tbody>\n",
       "</table>\n",
       "\n",
       "<link href=\"https://www.unpkg.com/dt_for_itables@2.0.11/dt_bundle.css\" rel=\"stylesheet\">\n",
       "<script type=\"module\">\n",
       "    import {DataTable, jQuery as $} from 'https://www.unpkg.com/dt_for_itables@2.0.11/dt_bundle.js';\n",
       "\n",
       "    document.querySelectorAll(\"#T_bb8b6:not(.dataTable)\").forEach(table => {\n",
       "        // Define the table data\n",
       "        \n",
       "\n",
       "        // Define the dt_args\n",
       "        let dt_args = {\"columnDefs\": [{\"targets\": [\"doc_id1\", \"sent1\", \"doc_id2\", \"sent2\"], \"render\": function(data, type, row) {\n",
       "                            return '<div style=\"white-space: normal; word-wrap: break-word;\">' + data + '</div>';\n",
       "                        }, \"width\": \"300px\"}], \"escape\": true, \"layout\": {\"topStart\": null, \"topEnd\": null, \"bottomStart\": null, \"bottomEnd\": null}, \"display_logo_when_loading\": true, \"order\": []};\n",
       "        \n",
       "\n",
       "        \n",
       "        new DataTable(table, dt_args);\n",
       "    });\n",
       "</script>\n"
      ],
      "text/plain": [
       "<IPython.core.display.HTML object>"
      ]
     },
     "metadata": {},
     "output_type": "display_data"
    }
   ],
   "source": [
    "%%spannerlog\n",
    "# this rule gives us\n",
    "Sents(doc_id,sent)<-\\\n",
    "    Docs(doc_id,text),split(text)->(sent)\n",
    "?Sents(doc_id,sent)\n",
    "\n",
    "# this rule find equal pairs of sentences\n",
    "EqualSents(doc_id1,sent1,doc_id2,sent2)<-\\\n",
    "    Sents(doc_id1,sent1),\\\n",
    "    Sents(doc_id2,sent2),\\\n",
    "    eq_content_spans(sent1,sent2)->(True)\n",
    "?EqualSents(doc_id1,sent1,doc_id2,sent2)"
   ]
  },
  {
   "cell_type": "markdown",
   "metadata": {},
   "source": [
    "### Oops, handling symmetric queries"
   ]
  },
  {
   "cell_type": "markdown",
   "metadata": {},
   "source": [
    "Notice that we got each pair twice. This is because while we think of a sentence pair as a set with two sentences,\n",
    "the tuples `(x,y)` and `(y,x)` are actually different. To remedy this we can limit our pairs to pairs where the first sentence is in a smaller position (ie position in memory).\n",
    "\n",
    "We can do that by introducing a `span_lt` ie function"
   ]
  },
  {
   "cell_type": "code",
   "execution_count": null,
   "metadata": {},
   "outputs": [],
   "source": [
    "#| exports\n",
    "def span_lt(span1, span2):\n",
    "    yield span1 < span2\n"
   ]
  },
  {
   "cell_type": "code",
   "execution_count": null,
   "metadata": {},
   "outputs": [],
   "source": [
    "sess.register('span_lt', span_lt, [Span,Span],[bool])"
   ]
  },
  {
   "cell_type": "code",
   "execution_count": null,
   "metadata": {},
   "outputs": [
    {
     "data": {
      "text/plain": [
       "'?EqualSentsUniqe(doc_id1,sent1,doc_id2,sent2)'"
      ]
     },
     "metadata": {},
     "output_type": "display_data"
    },
    {
     "data": {
      "text/html": [
       "<style type=\"text/css\">\n",
       "#T_dfe6a_row0_col0, #T_dfe6a_row0_col1, #T_dfe6a_row0_col2, #T_dfe6a_row0_col3, #T_dfe6a_row1_col0, #T_dfe6a_row1_col1, #T_dfe6a_row1_col2, #T_dfe6a_row1_col3, #T_dfe6a_row2_col0, #T_dfe6a_row2_col1, #T_dfe6a_row2_col2, #T_dfe6a_row2_col3, #T_dfe6a_row3_col0, #T_dfe6a_row3_col1, #T_dfe6a_row3_col2, #T_dfe6a_row3_col3 {\n",
       "  overflow-wrap: break-word;\n",
       "  max-width: 800px;\n",
       "  text-align: left;\n",
       "}\n",
       "</style>\n",
       "<table id=\"T_dfe6a\" class=\"display nowrap\"style=\"table-layout:auto;width:auto;margin:auto;caption-side:bottom\">\n",
       "  <thead>\n",
       "    <tr>\n",
       "      <th id=\"T_dfe6a_level0_col0\" class=\"col_heading level0 col0\" >doc_id1</th>\n",
       "      <th id=\"T_dfe6a_level0_col1\" class=\"col_heading level0 col1\" >sent1</th>\n",
       "      <th id=\"T_dfe6a_level0_col2\" class=\"col_heading level0 col2\" >doc_id2</th>\n",
       "      <th id=\"T_dfe6a_level0_col3\" class=\"col_heading level0 col3\" >sent2</th>\n",
       "    </tr>\n",
       "  </thead>\n",
       "  <tbody>\n",
       "    <tr>\n",
       "      <td id=\"T_dfe6a_row0_col0\" class=\"data row0 col0\" >doc2</td>\n",
       "      <td id=\"T_dfe6a_row0_col1\" class=\"data row0 col1\" >[@06bc2d,0,22) \"Im walking...\"</td>\n",
       "      <td id=\"T_dfe6a_row0_col2\" class=\"data row0 col2\" >doc1</td>\n",
       "      <td id=\"T_dfe6a_row0_col3\" class=\"data row0 col3\" >[@3ba775,44,67) \" Im walkin...\"</td>\n",
       "    </tr>\n",
       "    <tr>\n",
       "      <td id=\"T_dfe6a_row1_col0\" class=\"data row1 col0\" >doc2</td>\n",
       "      <td id=\"T_dfe6a_row1_col1\" class=\"data row1 col1\" >[@06bc2d,0,22) \"Im walking...\"</td>\n",
       "      <td id=\"T_dfe6a_row1_col2\" class=\"data row1 col2\" >doc2</td>\n",
       "      <td id=\"T_dfe6a_row1_col3\" class=\"data row1 col3\" >[@06bc2d,36,59) \" Im walkin...\"</td>\n",
       "    </tr>\n",
       "    <tr>\n",
       "      <td id=\"T_dfe6a_row2_col0\" class=\"data row2 col0\" >doc2</td>\n",
       "      <td id=\"T_dfe6a_row2_col1\" class=\"data row2 col1\" >[@06bc2d,36,59) \" Im walkin...\"</td>\n",
       "      <td id=\"T_dfe6a_row2_col2\" class=\"data row2 col2\" >doc1</td>\n",
       "      <td id=\"T_dfe6a_row2_col3\" class=\"data row2 col3\" >[@3ba775,44,67) \" Im walkin...\"</td>\n",
       "    </tr>\n",
       "    <tr>\n",
       "      <td id=\"T_dfe6a_row3_col0\" class=\"data row3 col0\" >doc3</td>\n",
       "      <td id=\"T_dfe6a_row3_col1\" class=\"data row3 col1\" >[@9c32df,21,65) \" The quick...\"</td>\n",
       "      <td id=\"T_dfe6a_row3_col2\" class=\"data row3 col2\" >doc1</td>\n",
       "      <td id=\"T_dfe6a_row3_col3\" class=\"data row3 col3\" >[@3ba775,0,43) \"The quick ...\"</td>\n",
       "    </tr>\n",
       "  </tbody>\n",
       "</table>\n",
       "\n",
       "<link href=\"https://www.unpkg.com/dt_for_itables@2.0.11/dt_bundle.css\" rel=\"stylesheet\">\n",
       "<script type=\"module\">\n",
       "    import {DataTable, jQuery as $} from 'https://www.unpkg.com/dt_for_itables@2.0.11/dt_bundle.js';\n",
       "\n",
       "    document.querySelectorAll(\"#T_dfe6a:not(.dataTable)\").forEach(table => {\n",
       "        // Define the table data\n",
       "        \n",
       "\n",
       "        // Define the dt_args\n",
       "        let dt_args = {\"columnDefs\": [{\"targets\": [\"doc_id1\", \"sent1\", \"doc_id2\", \"sent2\"], \"render\": function(data, type, row) {\n",
       "                            return '<div style=\"white-space: normal; word-wrap: break-word;\">' + data + '</div>';\n",
       "                        }, \"width\": \"300px\"}], \"escape\": true, \"layout\": {\"topStart\": null, \"topEnd\": null, \"bottomStart\": null, \"bottomEnd\": null}, \"display_logo_when_loading\": true, \"order\": []};\n",
       "        \n",
       "\n",
       "        \n",
       "        new DataTable(table, dt_args);\n",
       "    });\n",
       "</script>\n"
      ],
      "text/plain": [
       "<IPython.core.display.HTML object>"
      ]
     },
     "metadata": {},
     "output_type": "display_data"
    }
   ],
   "source": [
    "%%spannerlog\n",
    "EqualSentsUniqe(doc_id1,sent1,doc_id2,sent2)<-\\\n",
    "    Sents(doc_id1,sent1),\\\n",
    "    Sents(doc_id2,sent2),\\\n",
    "    span_lt(sent1,sent2)->(True),\\\n",
    "    eq_content_spans(sent1,sent2)->(True)\n",
    "    \n",
    "?EqualSentsUniqe(doc_id1,sent1,doc_id2,sent2)"
   ]
  },
  {
   "cell_type": "markdown",
   "metadata": {},
   "source": [
    "## Building LLM agents using spannerlib"
   ]
  },
  {
   "cell_type": "markdown",
   "metadata": {},
   "source": [
    "### Motivation"
   ]
  },
  {
   "cell_type": "markdown",
   "metadata": {},
   "source": [
    "Recall, that most LLM based applications do not include a single call to an LLM, but are rather built using LLM agents.\n",
    "LLM agents are programs that\n",
    "* Wrap LLMs in control logic.\n",
    "  * Either deterministic\n",
    "  * Or decided by an LLM\n",
    "* Offloads structured reasoning to tools, whose output is fed into some of the Prompts that are used by the agent's LLMs."
   ]
  },
  {
   "cell_type": "markdown",
   "metadata": {},
   "source": [
    "In this tutorial we will show how to build a simple agent that might be used to build the backend of a more nuanced chatgpt like system.\n",
    "\n",
    "Our agent takes:\n",
    "* A question from a user\n",
    "\n",
    "And has previous knowledge encoding\n",
    "* How to best answer questions on different topics.\n",
    "* How to a user prefers his answers to be formatted."
   ]
  },
  {
   "cell_type": "markdown",
   "metadata": {},
   "source": [
    "For example, given the question \"How do we measure the distance between starts\" we might note that in cases of scientific questions, it is better to answer using mathematical notation and formulas, rather than pure english.\n",
    "Moreover, some users would like the answer to be styled in an academic way, with dense prose ending with citations, like so:\n",
    "<blockquote>\n",
    "The distance between stars is measured in astronomical units (AU), parsecs (pc), or light-years (ly). \n",
    "\n",
    "1. **Astronomical Unit (AU)**: An AU is the average distance between the Earth and the Sun, which is approximately 93 million miles or 150 million kilometers. It is more commonly used to measure distances within our solar system.\n",
    "\n",
    "2. **Parsec (pc)**: A parsec is a unit of distance used in astronomy, defined as the distance at which an object would have a parallax angle of one arcsecond. One parsec is equal to approximately 3.26 light-years or 3.09 x 10^13 kilometers.\n",
    "\n",
    "3. **Light-year (ly)**: A light-year is the distance that light travels in one year, which is approximately 9.46 trillion kilometers or about 5.88 trillion miles.\n",
    "\n",
    "To measure the distance to a star, astronomers use methods such as parallax and spectroscopic parallax. Parallax involves observing a star from two different points in Earth's orbit and measuring the apparent shift in position. Spectroscopic parallax uses the star's spectral type and luminosity to estimate its distance.\n",
    "\n",
    "In summary, astronomers use a combination of trigonometric and spectroscopic methods to measure the distance between stars in order to better understand the vastness of our universe.\n",
    "\n",
    "**References:**\n",
    "1. Carroll, B. W., & Ostlie, D. A. (2007). *An introduction to modern astrophysics* (2nd ed.). Pearson Addison-Wesley.\n",
    "2. Bennett, J., Donahue, M., Schneider, N., & Voit, M. (2014). *The cosmic perspective* (7th ed.). Pearson.\n",
    "</blockquote>\n"
   ]
  },
  {
   "cell_type": "markdown",
   "metadata": {},
   "source": [
    "While other users will like a shorter answer in simple language like so:\n",
    "<blockquote>\n",
    "One common way to measure the distance between stars is through parallax. Parallax is the apparent shift in position of an object when viewed from two different points. \n",
    "\n",
    "The parallax angle, denoted by p, is the angle formed between a line from the observer to the nearer star and a line from the observer to the farther star. The parallax angle is related to the distance to the star (d) by the formula:\n",
    "\n",
    "d = 1 / p\n",
    "\n",
    "where d is the distance to the star in parsecs (pc) and p is the parallax angle in arcseconds (\"). \n",
    "\n",
    "A parsec is a unit of distance often used in astronomy, equal to about 3.26 light-years. So when we measure the parallax angle of a star, we can use the formula above to calculate its distance from Earth.\n",
    "</blockquote>\n"
   ]
  },
  {
   "cell_type": "markdown",
   "metadata": {},
   "source": [
    "### Problem definition"
   ]
  },
  {
   "cell_type": "markdown",
   "metadata": {},
   "source": [
    "So given:\n",
    "* A relation of the form `(user,question)`\n",
    "* A relation of the form `(topic,topicSpecificIntructions)`\n",
    "* A relation of the form `(user,userSpecificInstructions)`\n",
    "\n",
    "We would like to output for each user and question, an answer that fits both the user's specified preferences and the instructions fitting for that topic."
   ]
  },
  {
   "cell_type": "markdown",
   "metadata": {},
   "source": [
    "### Defining our IE functions"
   ]
  },
  {
   "cell_type": "markdown",
   "metadata": {},
   "source": [
    "For building agent we need 2 basic building blocks as IE functions:\n",
    "* an `llm` function of the form `llm(model:str,prompt:str)->(answer:str)`\n",
    "* a `printf` like function `format` for formatting a prompt from template and other strings \n",
    "which will be of the form `format(template:str,s_1:str,...s_n:str)->(prompt:str)`\n",
    "\n",
    "The following section will involve technical details such as data type conversions and interfacing with openai's API.\n",
    "If this is not of interest to the reader, please skip to the next section."
   ]
  },
  {
   "cell_type": "markdown",
   "metadata": {},
   "source": [
    "To implement the llm ie function, we need to wrap some llm api as an IE function.\n",
    "We want an ie function that takes a string and returns a string.\n",
    "Since most LLM api expect a dict of the form `{'role':role,'content':message}`\n",
    "we will right converters that parse them from prompt strings of the form \n",
    "```txt\n",
    "role: content\n",
    "role: content\n",
    "```\n",
    "\n",
    "Here is the implemetation:"
   ]
  },
  {
   "cell_type": "code",
   "execution_count": null,
   "metadata": {},
   "outputs": [],
   "source": [
    "#| exports\n",
    "from spannerlib.ie_func.basic import rgx_split\n",
    "from functools import cache\n",
    "import openai\n",
    "from joblib import Memory\n",
    "memory = Memory(\"cachedir\", verbose=0)"
   ]
  },
  {
   "cell_type": "code",
   "execution_count": null,
   "metadata": {},
   "outputs": [],
   "source": [
    "#| exports\n",
    "@cache\n",
    "def _get_client():\n",
    "    return openai.Client()\n",
    "\n",
    "# we use the rgx_split function to split the string into messages\n",
    "def _str_to_messages (string_prompt):\n",
    "    return [\n",
    "        {\n",
    "            'role': str(role).replace(': ',''),\n",
    "            'content': str(content)\n",
    "        } for role,content in rgx_split('system:\\s|assistant:\\s|user:\\s', string_prompt.strip())\n",
    "    ]\n",
    "def _messages_to_string(msgs):\n",
    "    return ''.join([f\"{msg['content']}\" for msg in msgs])\n",
    "\n",
    "# the specific API we are going to call using the messages interface\n",
    "def _openai_chat(model, messages):\n",
    "    client = _get_client()\n",
    "    respone = client.chat.completions.create(\n",
    "        model=model,\n",
    "        messages=messages,\n",
    "        seed=42\n",
    "    )\n",
    "    return [dict(respone.choices[0].message)]\n",
    "\n",
    "# we disk cache our function to spare my openAI credits\n",
    "@memory.cache\n",
    "def llm(model, question):\n",
    "    q_msgs = _str_to_messages(question)\n",
    "    a_msgs = _openai_chat(model, q_msgs)\n",
    "    answer = _messages_to_string(a_msgs)\n",
    "    # avoid bad fromatting of the answer in the notebook due to nested code blocks\n",
    "    answer = answer.replace('```','')\n",
    "    return [answer]"
   ]
  },
  {
   "cell_type": "code",
   "execution_count": null,
   "metadata": {},
   "outputs": [
    {
     "data": {
      "text/plain": [
       "['Hello! I am a AI-powered virtual assistant designed to help and provide information to users. How can I assist you today?']"
      ]
     },
     "execution_count": null,
     "metadata": {},
     "output_type": "execute_result"
    }
   ],
   "source": [
    "llm('gpt-3.5-turbo','user: Hello, who are you?')"
   ]
  },
  {
   "cell_type": "markdown",
   "metadata": {},
   "source": [
    "Now we can register the llm function as an ie function and use it from in spannerlog code."
   ]
  },
  {
   "cell_type": "markdown",
   "metadata": {},
   "source": [
    "Now let see how we can use spannerlib to build a simple pipeline that varries the LLM prompt in a data dependant way.\n",
    "Imagine that we have a chatbot that we want to act differently based on the topic of conversation and the user preference."
   ]
  },
  {
   "cell_type": "markdown",
   "metadata": {},
   "source": [
    "To enable us to format prompts from data, we will use a prompt formatting function with a `printf` like syntax.\n",
    "It is available in spannerlib's stdlib, but we will reproduce it here."
   ]
  },
  {
   "cell_type": "code",
   "execution_count": null,
   "metadata": {},
   "outputs": [],
   "source": [
    "#| exports\n",
    "def format_ie(f_string,*params):\n",
    "    yield f_string.format(*params)\n",
    "\n",
    "# note that since the schema is dynamic we need to define a function that returns the schema based on the arity\n",
    "string_schema = lambda x: ([str]*x)"
   ]
  },
  {
   "cell_type": "code",
   "execution_count": null,
   "metadata": {},
   "outputs": [],
   "source": [
    "sess.register('llm', llm, [str,str],[str])\n",
    "sess.register('format', format_ie, string_schema,[str])"
   ]
  },
  {
   "cell_type": "markdown",
   "metadata": {},
   "source": [
    "### Seeing our llm IE function in action"
   ]
  },
  {
   "cell_type": "code",
   "execution_count": null,
   "metadata": {},
   "outputs": [
    {
     "data": {
      "text/plain": [
       "'?TestLLM(answer)'"
      ]
     },
     "metadata": {},
     "output_type": "display_data"
    },
    {
     "data": {
      "text/html": [
       "<style type=\"text/css\">\n",
       "#T_c0b91_row0_col0 {\n",
       "  overflow-wrap: break-word;\n",
       "  max-width: 800px;\n",
       "  text-align: left;\n",
       "}\n",
       "</style>\n",
       "<table id=\"T_c0b91\" class=\"display nowrap\"style=\"table-layout:auto;width:auto;margin:auto;caption-side:bottom\">\n",
       "  <thead>\n",
       "    <tr>\n",
       "      <th id=\"T_c0b91_level0_col0\" class=\"col_heading level0 col0\" >answer</th>\n",
       "    </tr>\n",
       "  </thead>\n",
       "  <tbody>\n",
       "    <tr>\n",
       "      <td id=\"T_c0b91_row0_col0\" class=\"data row0 col0\" >Absolutely nothing!</td>\n",
       "    </tr>\n",
       "  </tbody>\n",
       "</table>\n",
       "\n",
       "<link href=\"https://www.unpkg.com/dt_for_itables@2.0.11/dt_bundle.css\" rel=\"stylesheet\">\n",
       "<script type=\"module\">\n",
       "    import {DataTable, jQuery as $} from 'https://www.unpkg.com/dt_for_itables@2.0.11/dt_bundle.js';\n",
       "\n",
       "    document.querySelectorAll(\"#T_c0b91:not(.dataTable)\").forEach(table => {\n",
       "        // Define the table data\n",
       "        \n",
       "\n",
       "        // Define the dt_args\n",
       "        let dt_args = {\"columnDefs\": [{\"targets\": [\"answer\"], \"render\": function(data, type, row) {\n",
       "                            return '<div style=\"white-space: normal; word-wrap: break-word;\">' + data + '</div>';\n",
       "                        }, \"width\": \"300px\"}], \"escape\": true, \"layout\": {\"topStart\": null, \"topEnd\": null, \"bottomStart\": null, \"bottomEnd\": null}, \"display_logo_when_loading\": true, \"order\": []};\n",
       "        \n",
       "\n",
       "        \n",
       "        new DataTable(table, dt_args);\n",
       "    });\n",
       "</script>\n"
      ],
      "text/plain": [
       "<IPython.core.display.HTML object>"
      ]
     },
     "metadata": {},
     "output_type": "display_data"
    }
   ],
   "source": [
    "%%spannerlog\n",
    "\n",
    "model = 'gpt-3.5-turbo'\n",
    "prompt = \"user: sing it with me, love, what is it good for?\"\n",
    "\n",
    "TestLLM(answer)<-\\\n",
    "    llm($model,$prompt)->(answer)\n",
    "\n",
    "?TestLLM(answer)\n"
   ]
  },
  {
   "cell_type": "markdown",
   "metadata": {},
   "source": [
    "### Example data"
   ]
  },
  {
   "cell_type": "markdown",
   "metadata": {},
   "source": [
    "\n",
    "We will model our data as follows:"
   ]
  },
  {
   "cell_type": "code",
   "execution_count": null,
   "metadata": {},
   "outputs": [],
   "source": [
    "\n",
    "# a binary relation that stores how the user prefers the formatted\n",
    "user_answer_prefernce = pd.DataFrame([\n",
    "    ('Bob', 'please answer in prose. Make sure you add references in the end like a bibliography.'),\n",
    "    ('Joe', 'Prose is hard for me to read quickly. Format the answer in bullet points.'),\n",
    "    ('Sally', 'Try to avoid complicated jargon and use simple language.'),\n",
    "])\n",
    "\n",
    "# relation that stores per topic style\n",
    "topic_specific_style = pd.DataFrame([\n",
    "    ('history', 'please answer in a narrative form, use shakespearing language and lots of examples'),\n",
    "    ('science', 'Use mathematical notation and formulas to explain the concepts.'),\n",
    "    ('hiphop', 'introduce the answer with a rap verse.'),\n",
    "    ('other', 'Be polite and neutral in your answer. Avoid controversial topics.'),\n",
    "])\n",
    "\n",
    "sess.import_rel('UserAnswerPreference', user_answer_prefernce)\n",
    "sess.import_rel('TopicSpecificStyle', topic_specific_style)"
   ]
  },
  {
   "cell_type": "markdown",
   "metadata": {},
   "source": [
    "### Buliding the agent logic in spannerlog"
   ]
  },
  {
   "cell_type": "markdown",
   "metadata": {},
   "source": [
    "Now we will build our pipeline as follows:\n",
    "* We will make an llm call to help us decide the topic of the question\n",
    "* Based on the topic and the user, we will formulate the final prompt for the llm to answer.\n"
   ]
  },
  {
   "cell_type": "code",
   "execution_count": null,
   "metadata": {},
   "outputs": [
    {
     "data": {
      "text/html": [
       "<div>\n",
       "<style scoped>\n",
       "    .dataframe tbody tr th:only-of-type {\n",
       "        vertical-align: middle;\n",
       "    }\n",
       "\n",
       "    .dataframe tbody tr th {\n",
       "        vertical-align: top;\n",
       "    }\n",
       "\n",
       "    .dataframe thead th {\n",
       "        text-align: right;\n",
       "    }\n",
       "</style>\n",
       "<table border=\"1\" class=\"dataframe\">\n",
       "  <thead>\n",
       "    <tr style=\"text-align: right;\">\n",
       "      <th></th>\n",
       "      <th>0</th>\n",
       "      <th>1</th>\n",
       "    </tr>\n",
       "  </thead>\n",
       "  <tbody>\n",
       "    <tr>\n",
       "      <th>0</th>\n",
       "      <td>topic_selection</td>\n",
       "      <td>system: Please select a topic from the follow...</td>\n",
       "    </tr>\n",
       "    <tr>\n",
       "      <th>1</th>\n",
       "      <td>custom_style_prompt</td>\n",
       "      <td>system: Answer the question of the user in th...</td>\n",
       "    </tr>\n",
       "  </tbody>\n",
       "</table>\n",
       "</div>"
      ],
      "text/plain": [
       "                     0                                                  1\n",
       "0      topic_selection  \n",
       "system: Please select a topic from the follow...\n",
       "1  custom_style_prompt  \n",
       "system: Answer the question of the user in th..."
      ]
     },
     "execution_count": null,
     "metadata": {},
     "output_type": "execute_result"
    }
   ],
   "source": [
    "prompts = pd.DataFrame([\n",
    "    ('topic_selection',\n",
    "\"\"\"\n",
    "system: Please select a topic from the following list: [history, science, hiphop, other]\n",
    "based on the question provided by the user. You are only allwed to say the topic name, nothing else.\n",
    "\n",
    "user: {}\n",
    "\"\"\"),\n",
    "    ('custom_style_prompt',\n",
    "\"\"\"\n",
    "system: Answer the question of the user in the following style:\n",
    "\n",
    "topic specific style instructions: {}\n",
    "\n",
    "user specific style instructions: {}\n",
    "\n",
    "user: {}\n",
    "\"\"\"\n",
    ")\n",
    "])\n",
    "sess.import_rel('Prompts', prompts)\n",
    "prompts"
   ]
  },
  {
   "cell_type": "code",
   "execution_count": null,
   "metadata": {},
   "outputs": [
    {
     "data": {
      "text/plain": [
       "'?Prompts(prompt_id,prompt)'"
      ]
     },
     "metadata": {},
     "output_type": "display_data"
    },
    {
     "data": {
      "text/html": [
       "<style type=\"text/css\">\n",
       "#T_75e5e_row0_col0, #T_75e5e_row0_col1, #T_75e5e_row1_col0, #T_75e5e_row1_col1 {\n",
       "  overflow-wrap: break-word;\n",
       "  max-width: 800px;\n",
       "  text-align: left;\n",
       "}\n",
       "</style>\n",
       "<table id=\"T_75e5e\" class=\"display nowrap\"style=\"table-layout:auto;width:auto;margin:auto;caption-side:bottom\">\n",
       "  <thead>\n",
       "    <tr>\n",
       "      <th id=\"T_75e5e_level0_col0\" class=\"col_heading level0 col0\" >prompt_id</th>\n",
       "      <th id=\"T_75e5e_level0_col1\" class=\"col_heading level0 col1\" >prompt</th>\n",
       "    </tr>\n",
       "  </thead>\n",
       "  <tbody>\n",
       "    <tr>\n",
       "      <td id=\"T_75e5e_row0_col0\" class=\"data row0 col0\" >custom_style_prompt</td>\n",
       "      <td id=\"T_75e5e_row0_col1\" class=\"data row0 col1\" >\n",
       "system: Answer the question of the user in the following style:\n",
       "\n",
       "topic specific style instructions: {}\n",
       "\n",
       "user specific style instructions: {}\n",
       "\n",
       "user: {}\n",
       "</td>\n",
       "    </tr>\n",
       "    <tr>\n",
       "      <td id=\"T_75e5e_row1_col0\" class=\"data row1 col0\" >topic_selection</td>\n",
       "      <td id=\"T_75e5e_row1_col1\" class=\"data row1 col1\" >\n",
       "system: Please select a topic from the following list: [history, science, hiphop, other]\n",
       "based on the question provided by the user. You are only allwed to say the topic name, nothing else.\n",
       "\n",
       "user: {}\n",
       "</td>\n",
       "    </tr>\n",
       "  </tbody>\n",
       "</table>\n",
       "\n",
       "<link href=\"https://www.unpkg.com/dt_for_itables@2.0.11/dt_bundle.css\" rel=\"stylesheet\">\n",
       "<script type=\"module\">\n",
       "    import {DataTable, jQuery as $} from 'https://www.unpkg.com/dt_for_itables@2.0.11/dt_bundle.js';\n",
       "\n",
       "    document.querySelectorAll(\"#T_75e5e:not(.dataTable)\").forEach(table => {\n",
       "        // Define the table data\n",
       "        \n",
       "\n",
       "        // Define the dt_args\n",
       "        let dt_args = {\"columnDefs\": [{\"targets\": [\"prompt_id\", \"prompt\"], \"render\": function(data, type, row) {\n",
       "                            return '<div style=\"white-space: normal; word-wrap: break-word;\">' + data + '</div>';\n",
       "                        }, \"width\": \"300px\"}], \"escape\": true, \"layout\": {\"topStart\": null, \"topEnd\": null, \"bottomStart\": null, \"bottomEnd\": null}, \"display_logo_when_loading\": true, \"order\": []};\n",
       "        \n",
       "\n",
       "        \n",
       "        new DataTable(table, dt_args);\n",
       "    });\n",
       "</script>\n"
      ],
      "text/plain": [
       "<IPython.core.display.HTML object>"
      ]
     },
     "metadata": {},
     "output_type": "display_data"
    }
   ],
   "source": [
    "%%spannerlog\n",
    "?Prompts(prompt_id,prompt)"
   ]
  },
  {
   "cell_type": "markdown",
   "metadata": {},
   "source": [
    "Now given a relation of user and question"
   ]
  },
  {
   "cell_type": "code",
   "execution_count": null,
   "metadata": {},
   "outputs": [],
   "source": [
    "questions= pd.DataFrame([\n",
    "    ('Bob', 'Who won the civil war?'),\n",
    "    ('Joe', 'Who won the civil war?'),\n",
    "    ('Sally', 'Who won the civil war?'),\n",
    "    ('Bob', 'How do we measure the distance between stars?'),\n",
    "    ('Joe', 'How do we measure the distance between stars?'),\n",
    "    ('Sally', 'How do we measure the distance between stars?'),\n",
    "    ('Bob', 'Who are the most well known rappers?'),\n",
    "    ('Joe', 'Who are the most well known rappers?'),\n",
    "    ('Sally', 'Who are the most well known rappers?'),\n",
    "])\n",
    "sess.import_rel('Questions', questions)"
   ]
  },
  {
   "cell_type": "markdown",
   "metadata": {},
   "source": [
    "Now lets combine all of this into a pipeline.\n"
   ]
  },
  {
   "cell_type": "code",
   "execution_count": null,
   "metadata": {},
   "outputs": [
    {
     "data": {
      "text/plain": [
       "'?TopicPrompt(q,p)'"
      ]
     },
     "metadata": {},
     "output_type": "display_data"
    },
    {
     "data": {
      "text/html": [
       "<style type=\"text/css\">\n",
       "#T_2993d_row0_col0, #T_2993d_row0_col1, #T_2993d_row1_col0, #T_2993d_row1_col1, #T_2993d_row2_col0, #T_2993d_row2_col1 {\n",
       "  overflow-wrap: break-word;\n",
       "  max-width: 800px;\n",
       "  text-align: left;\n",
       "}\n",
       "</style>\n",
       "<table id=\"T_2993d\" class=\"display nowrap\"style=\"table-layout:auto;width:auto;margin:auto;caption-side:bottom\">\n",
       "  <thead>\n",
       "    <tr>\n",
       "      <th id=\"T_2993d_level0_col0\" class=\"col_heading level0 col0\" >q</th>\n",
       "      <th id=\"T_2993d_level0_col1\" class=\"col_heading level0 col1\" >p</th>\n",
       "    </tr>\n",
       "  </thead>\n",
       "  <tbody>\n",
       "    <tr>\n",
       "      <td id=\"T_2993d_row0_col0\" class=\"data row0 col0\" >How do we measure the distance between stars?</td>\n",
       "      <td id=\"T_2993d_row0_col1\" class=\"data row0 col1\" >\n",
       "system: Please select a topic from the following list: [history, science, hiphop, other]\n",
       "based on the question provided by the user. You are only allwed to say the topic name, nothing else.\n",
       "\n",
       "user: How do we measure the distance between stars?\n",
       "</td>\n",
       "    </tr>\n",
       "    <tr>\n",
       "      <td id=\"T_2993d_row1_col0\" class=\"data row1 col0\" >Who are the most well known rappers?</td>\n",
       "      <td id=\"T_2993d_row1_col1\" class=\"data row1 col1\" >\n",
       "system: Please select a topic from the following list: [history, science, hiphop, other]\n",
       "based on the question provided by the user. You are only allwed to say the topic name, nothing else.\n",
       "\n",
       "user: Who are the most well known rappers?\n",
       "</td>\n",
       "    </tr>\n",
       "    <tr>\n",
       "      <td id=\"T_2993d_row2_col0\" class=\"data row2 col0\" >Who won the civil war?</td>\n",
       "      <td id=\"T_2993d_row2_col1\" class=\"data row2 col1\" >\n",
       "system: Please select a topic from the following list: [history, science, hiphop, other]\n",
       "based on the question provided by the user. You are only allwed to say the topic name, nothing else.\n",
       "\n",
       "user: Who won the civil war?\n",
       "</td>\n",
       "    </tr>\n",
       "  </tbody>\n",
       "</table>\n",
       "\n",
       "<link href=\"https://www.unpkg.com/dt_for_itables@2.0.11/dt_bundle.css\" rel=\"stylesheet\">\n",
       "<script type=\"module\">\n",
       "    import {DataTable, jQuery as $} from 'https://www.unpkg.com/dt_for_itables@2.0.11/dt_bundle.js';\n",
       "\n",
       "    document.querySelectorAll(\"#T_2993d:not(.dataTable)\").forEach(table => {\n",
       "        // Define the table data\n",
       "        \n",
       "\n",
       "        // Define the dt_args\n",
       "        let dt_args = {\"columnDefs\": [{\"targets\": [\"q\", \"p\"], \"render\": function(data, type, row) {\n",
       "                            return '<div style=\"white-space: normal; word-wrap: break-word;\">' + data + '</div>';\n",
       "                        }, \"width\": \"300px\"}], \"escape\": true, \"layout\": {\"topStart\": null, \"topEnd\": null, \"bottomStart\": null, \"bottomEnd\": null}, \"display_logo_when_loading\": true, \"order\": []};\n",
       "        \n",
       "\n",
       "        \n",
       "        new DataTable(table, dt_args);\n",
       "    });\n",
       "</script>\n"
      ],
      "text/plain": [
       "<IPython.core.display.HTML object>"
      ]
     },
     "metadata": {},
     "output_type": "display_data"
    },
    {
     "data": {
      "text/plain": [
       "'?TopicSelection(q,t)'"
      ]
     },
     "metadata": {},
     "output_type": "display_data"
    },
    {
     "data": {
      "text/html": [
       "<style type=\"text/css\">\n",
       "#T_bc129_row0_col0, #T_bc129_row0_col1, #T_bc129_row1_col0, #T_bc129_row1_col1, #T_bc129_row2_col0, #T_bc129_row2_col1 {\n",
       "  overflow-wrap: break-word;\n",
       "  max-width: 800px;\n",
       "  text-align: left;\n",
       "}\n",
       "</style>\n",
       "<table id=\"T_bc129\" class=\"display nowrap\"style=\"table-layout:auto;width:auto;margin:auto;caption-side:bottom\">\n",
       "  <thead>\n",
       "    <tr>\n",
       "      <th id=\"T_bc129_level0_col0\" class=\"col_heading level0 col0\" >q</th>\n",
       "      <th id=\"T_bc129_level0_col1\" class=\"col_heading level0 col1\" >t</th>\n",
       "    </tr>\n",
       "  </thead>\n",
       "  <tbody>\n",
       "    <tr>\n",
       "      <td id=\"T_bc129_row0_col0\" class=\"data row0 col0\" >How do we measure the distance between stars?</td>\n",
       "      <td id=\"T_bc129_row0_col1\" class=\"data row0 col1\" >science</td>\n",
       "    </tr>\n",
       "    <tr>\n",
       "      <td id=\"T_bc129_row1_col0\" class=\"data row1 col0\" >Who are the most well known rappers?</td>\n",
       "      <td id=\"T_bc129_row1_col1\" class=\"data row1 col1\" >hiphop</td>\n",
       "    </tr>\n",
       "    <tr>\n",
       "      <td id=\"T_bc129_row2_col0\" class=\"data row2 col0\" >Who won the civil war?</td>\n",
       "      <td id=\"T_bc129_row2_col1\" class=\"data row2 col1\" >history</td>\n",
       "    </tr>\n",
       "  </tbody>\n",
       "</table>\n",
       "\n",
       "<link href=\"https://www.unpkg.com/dt_for_itables@2.0.11/dt_bundle.css\" rel=\"stylesheet\">\n",
       "<script type=\"module\">\n",
       "    import {DataTable, jQuery as $} from 'https://www.unpkg.com/dt_for_itables@2.0.11/dt_bundle.js';\n",
       "\n",
       "    document.querySelectorAll(\"#T_bc129:not(.dataTable)\").forEach(table => {\n",
       "        // Define the table data\n",
       "        \n",
       "\n",
       "        // Define the dt_args\n",
       "        let dt_args = {\"columnDefs\": [{\"targets\": [\"q\", \"t\"], \"render\": function(data, type, row) {\n",
       "                            return '<div style=\"white-space: normal; word-wrap: break-word;\">' + data + '</div>';\n",
       "                        }, \"width\": \"300px\"}], \"escape\": true, \"layout\": {\"topStart\": null, \"topEnd\": null, \"bottomStart\": null, \"bottomEnd\": null}, \"display_logo_when_loading\": true, \"order\": []};\n",
       "        \n",
       "\n",
       "        \n",
       "        new DataTable(table, dt_args);\n",
       "    });\n",
       "</script>\n"
      ],
      "text/plain": [
       "<IPython.core.display.HTML object>"
      ]
     },
     "metadata": {},
     "output_type": "display_data"
    }
   ],
   "source": [
    "%%spannerlog\n",
    "model = 'gpt-3.5-turbo'\n",
    "\n",
    "TopicPrompt(q,p)<-\\\n",
    "    Questions(user,q),\\\n",
    "    Prompts('topic_selection',template),\\\n",
    "    format(template,q)->(p)\n",
    "    \n",
    "?TopicPrompt(q,p)\n",
    "\n",
    "TopicSelection(q,t)<-\\\n",
    "    TopicPrompt(q,p),\\\n",
    "    llm($model,p)->(t)\n",
    "\n",
    "?TopicSelection(q,t)\n",
    "StylePrompt(q,p,topic,user)<-\\\n",
    "    Questions(user,q),\\\n",
    "    TopicSelection(q,topic),\\\n",
    "    UserAnswerPreference(user,user_style),\\\n",
    "    TopicSpecificStyle(topic,topic_style),\\\n",
    "    Prompts('custom_style_prompt',prompt_template),\\\n",
    "    format(prompt_template,topic_style,user_style,q)->(p)\n",
    "\n",
    "\n",
    "Style_Based_QA(question,topic,user,prompt,answer)<-\\\n",
    "    StylePrompt(question,prompt,topic,user),\\\n",
    "    llm($model,prompt)->(answer)\n",
    "\n"
   ]
  },
  {
   "cell_type": "markdown",
   "metadata": {},
   "source": [
    "### Executing our agent and returning the results to python"
   ]
  },
  {
   "cell_type": "code",
   "execution_count": null,
   "metadata": {},
   "outputs": [
    {
     "data": {
      "text/html": [
       "<div>\n",
       "<style scoped>\n",
       "    .dataframe tbody tr th:only-of-type {\n",
       "        vertical-align: middle;\n",
       "    }\n",
       "\n",
       "    .dataframe tbody tr th {\n",
       "        vertical-align: top;\n",
       "    }\n",
       "\n",
       "    .dataframe thead th {\n",
       "        text-align: right;\n",
       "    }\n",
       "</style>\n",
       "<table border=\"1\" class=\"dataframe\">\n",
       "  <thead>\n",
       "    <tr style=\"text-align: right;\">\n",
       "      <th></th>\n",
       "      <th>question</th>\n",
       "      <th>topic</th>\n",
       "      <th>user</th>\n",
       "      <th>prompt</th>\n",
       "      <th>answer</th>\n",
       "    </tr>\n",
       "  </thead>\n",
       "  <tbody>\n",
       "    <tr>\n",
       "      <th>0</th>\n",
       "      <td>How do we measure the distance between stars?</td>\n",
       "      <td>science</td>\n",
       "      <td>Bob</td>\n",
       "      <td>system: Answer the question of the user in th...</td>\n",
       "      <td>The distance between stars is measured in astr...</td>\n",
       "    </tr>\n",
       "    <tr>\n",
       "      <th>1</th>\n",
       "      <td>How do we measure the distance between stars?</td>\n",
       "      <td>science</td>\n",
       "      <td>Joe</td>\n",
       "      <td>system: Answer the question of the user in th...</td>\n",
       "      <td>- To measure the distance between stars, astro...</td>\n",
       "    </tr>\n",
       "    <tr>\n",
       "      <th>2</th>\n",
       "      <td>How do we measure the distance between stars?</td>\n",
       "      <td>science</td>\n",
       "      <td>Sally</td>\n",
       "      <td>system: Answer the question of the user in th...</td>\n",
       "      <td>One common way to measure the distance between...</td>\n",
       "    </tr>\n",
       "    <tr>\n",
       "      <th>3</th>\n",
       "      <td>Who are the most well known rappers?</td>\n",
       "      <td>hiphop</td>\n",
       "      <td>Bob</td>\n",
       "      <td>system: Answer the question of the user in th...</td>\n",
       "      <td>Straight outta Compton, a city so gritty,\n",
       "Let ...</td>\n",
       "    </tr>\n",
       "    <tr>\n",
       "      <th>4</th>\n",
       "      <td>Who are the most well known rappers?</td>\n",
       "      <td>hiphop</td>\n",
       "      <td>Joe</td>\n",
       "      <td>system: Answer the question of the user in th...</td>\n",
       "      <td>Yo, when it comes to rappers, there's a whole ...</td>\n",
       "    </tr>\n",
       "    <tr>\n",
       "      <th>5</th>\n",
       "      <td>Who are the most well known rappers?</td>\n",
       "      <td>hiphop</td>\n",
       "      <td>Sally</td>\n",
       "      <td>system: Answer the question of the user in th...</td>\n",
       "      <td>Yo, when it comes to rappers, there's a whole ...</td>\n",
       "    </tr>\n",
       "    <tr>\n",
       "      <th>6</th>\n",
       "      <td>Who won the civil war?</td>\n",
       "      <td>history</td>\n",
       "      <td>Bob</td>\n",
       "      <td>system: Answer the question of the user in th...</td>\n",
       "      <td>In truth, good sir, the answer to thy query ma...</td>\n",
       "    </tr>\n",
       "    <tr>\n",
       "      <th>7</th>\n",
       "      <td>Who won the civil war?</td>\n",
       "      <td>history</td>\n",
       "      <td>Joe</td>\n",
       "      <td>system: Answer the question of the user in th...</td>\n",
       "      <td>- The Civil War, a great conflict betwixt the ...</td>\n",
       "    </tr>\n",
       "    <tr>\n",
       "      <th>8</th>\n",
       "      <td>Who won the civil war?</td>\n",
       "      <td>history</td>\n",
       "      <td>Sally</td>\n",
       "      <td>system: Answer the question of the user in th...</td>\n",
       "      <td>In sooth, good sir, the Civil War wrought much...</td>\n",
       "    </tr>\n",
       "  </tbody>\n",
       "</table>\n",
       "</div>"
      ],
      "text/plain": [
       "                                        question    topic   user  \\\n",
       "0  How do we measure the distance between stars?  science    Bob   \n",
       "1  How do we measure the distance between stars?  science    Joe   \n",
       "2  How do we measure the distance between stars?  science  Sally   \n",
       "3           Who are the most well known rappers?   hiphop    Bob   \n",
       "4           Who are the most well known rappers?   hiphop    Joe   \n",
       "5           Who are the most well known rappers?   hiphop  Sally   \n",
       "6                         Who won the civil war?  history    Bob   \n",
       "7                         Who won the civil war?  history    Joe   \n",
       "8                         Who won the civil war?  history  Sally   \n",
       "\n",
       "                                              prompt  \\\n",
       "0  \n",
       "system: Answer the question of the user in th...   \n",
       "1  \n",
       "system: Answer the question of the user in th...   \n",
       "2  \n",
       "system: Answer the question of the user in th...   \n",
       "3  \n",
       "system: Answer the question of the user in th...   \n",
       "4  \n",
       "system: Answer the question of the user in th...   \n",
       "5  \n",
       "system: Answer the question of the user in th...   \n",
       "6  \n",
       "system: Answer the question of the user in th...   \n",
       "7  \n",
       "system: Answer the question of the user in th...   \n",
       "8  \n",
       "system: Answer the question of the user in th...   \n",
       "\n",
       "                                              answer  \n",
       "0  The distance between stars is measured in astr...  \n",
       "1  - To measure the distance between stars, astro...  \n",
       "2  One common way to measure the distance between...  \n",
       "3  Straight outta Compton, a city so gritty,\n",
       "Let ...  \n",
       "4  Yo, when it comes to rappers, there's a whole ...  \n",
       "5  Yo, when it comes to rappers, there's a whole ...  \n",
       "6  In truth, good sir, the answer to thy query ma...  \n",
       "7  - The Civil War, a great conflict betwixt the ...  \n",
       "8  In sooth, good sir, the Civil War wrought much...  "
      ]
     },
     "execution_count": null,
     "metadata": {},
     "output_type": "execute_result"
    }
   ],
   "source": [
    "completions = sess.export('?Style_Based_QA(question,topic,user,prompt,answer)')\n",
    "completions"
   ]
  },
  {
   "cell_type": "markdown",
   "metadata": {},
   "source": [
    "And as you can see, we have our agent running."
   ]
  },
  {
   "cell_type": "code",
   "execution_count": null,
   "metadata": {},
   "outputs": [
    {
     "name": "stdout",
     "output_type": "stream",
     "text": [
      "Bob: How do we measure the distance between stars?\n",
      "assistant: The distance between stars is measured in astronomical units (AU), parsecs (pc), or light-years (ly). \n",
      "\n",
      "1. **Astronomical Unit (AU)**: An AU is the average distance between the Earth and the Sun, which is approximately 93 million miles or 150 million kilometers. It is more commonly used to measure distances within our solar system.\n",
      "\n",
      "2. **Parsec (pc)**: A parsec is a unit of distance used in astronomy, defined as the distance at which an object would have a parallax angle of one arcsecond. One parsec is equal to approximately 3.26 light-years or 3.09 x 10^13 kilometers.\n",
      "\n",
      "3. **Light-year (ly)**: A light-year is the distance that light travels in one year, which is approximately 9.46 trillion kilometers or about 5.88 trillion miles.\n",
      "\n",
      "To measure the distance to a star, astronomers use methods such as parallax and spectroscopic parallax. Parallax involves measuring the apparent shift of a star against its background as the Earth orbits the Sun. Spectroscopic parallax measures the star's luminosity and temperature to determine its distance.\n",
      "\n",
      "In summary, the distance between stars is measured in AU, parsecs, or light-years, using methods such as parallax and spectroscopic techniques.\n",
      "\n",
      "References:\n",
      "- Carroll, B. W., & Ostlie, D. A. (2007). An Introduction to Modern Astrophysics (2nd ed.). Pearson.\n",
      "- Binney, J., & Merrifield, M. (1998). Galactic Astronomy. Princeton University Press.\n",
      "\n",
      "\n",
      "================================================================================\n",
      "Joe: How do we measure the distance between stars?\n",
      "assistant: - To measure the distance between stars, astronomers use a method called parallax, which is based on trigonometry.\n",
      "- Parallax involves observing a star from two different points in Earth's orbit and measuring the angle, known as the parallax angle, that the star appears to move.\n",
      "- The distance to the star can be calculated using the formula: distance (in parsecs) = 1 / parallax angle (in arcseconds).\n",
      "- Astronomers also use the concept of luminosity and apparent brightness to calculate distances to stars through methods such as the luminosity-distance relationship.\n",
      "- Other methods used to measure distances to stars include spectroscopic parallax, which involves analyzing a star's spectrum, and the period-luminosity relationship for certain types of variable stars like Cepheid variables.\n",
      "\n",
      "\n",
      "================================================================================\n",
      "Sally: How do we measure the distance between stars?\n",
      "assistant: One common way to measure the distance between stars is through parallax. Parallax is the apparent shift in position of an object when viewed from two different points. \n",
      "\n",
      "The parallax angle, denoted by p, is the angle formed between the line of sight to the star from the two different viewing points. The distance to the star, d, can be calculated using the formula:\n",
      "\n",
      "d = 1 / tan(p)\n",
      "\n",
      "where d is the distance to the star in parsecs and p is the parallax angle in radians. The distance in parsecs is a common unit used in astronomy to measure large distances. \n",
      "\n",
      "Astronomers use telescopes to measure the small parallax angles of stars and then calculate their distances using the parallax formula.\n",
      "\n",
      "\n",
      "================================================================================\n",
      "Bob: Who are the most well known rappers?\n",
      "assistant: Straight outta Compton, a city so gritty,\n",
      "Let me tell you about the rappers who made it to the top, no pity.\n",
      "From the East Coast to the West, they've all left a mark,\n",
      "Icons like Tupac, Biggie, and Jay-Z, they're the ones that spark.\n",
      "\n",
      "When it comes to fame, their names are known far and wide,\n",
      "Drake, Kendrick Lamar, and Eminem, they all have pride.\n",
      "Nicki Minaj and Cardi B, queens of the rap game,\n",
      "Their talent and success have brought them fame.\n",
      "\n",
      "From the old school to the new, these rappers reign supreme,\n",
      "Their impact on the industry is like a never-ending stream.\n",
      "So if you want to know the most well-known rappers of all time,\n",
      "Just take a look at this list, they're the ones in their prime.\n",
      "\n",
      "References:\n",
      "- Pache, Victor. \"The 25 Most Important Rappers in 2019.\" Complex, 2019, www.complex.com/music/2019/09/the-25-most-important-rappers-in-2019.\n",
      "- NKE Media. \"The Greatest Rappers of All Time.\" NME, 2020, www.nme.com/features/the-greatest-rappers-of-all-time-2062085.\n",
      "\n",
      "\n",
      "================================================================================\n",
      "Joe: Who are the most well known rappers?\n",
      "assistant: Yo, when it comes to rappers, there's a whole crew,  \n",
      "Let me drop some names that you might already knew:\n",
      "\n",
      "- Eminem, with his lyrical genius and flows so tight,\n",
      "- Tupac, a legend in the game who shared wisdom and insight,\n",
      "- Jay-Z, the business mogul who's always on top,\n",
      "- Nicki Minaj, breaking barriers, making sure she don't stop,\n",
      "- Kendrick Lamar, poetic rhymes that hit you deep,\n",
      "- Drake, with catchy hooks and beats that make you wanna leap.\n",
      "\n",
      "These are just a few of the many names in the rap game,\n",
      "But they've left their mark and earned themselves some fame.\n",
      "\n",
      "\n",
      "================================================================================\n",
      "Sally: Who are the most well known rappers?\n",
      "assistant: Yo, when it comes to rappers, there's a whole lot in the game,\n",
      "From OGs like Tupac and Biggie, to new stars on their rise to fame.\n",
      "Eminem's known for his lyrical skill and flow that's so clean,\n",
      "And Jay-Z's the blueprint for success in this hip-hop scene.\n",
      "\n",
      "Drake's got the hits that stay bumpin' everywhere you go,\n",
      "While Kendrick Lamar's deep rhymes speak truths we all need to know.\n",
      "Nicki Minaj's fierce bars and style keep heads turning in awe,\n",
      "And Cardi B's unapologetic attitude breaks through every law.\n",
      "\n",
      "From legends to newcomers, the rap game's always evolving,\n",
      "But these rappers stand out with rhymes that are always revolving.\n",
      "\n",
      "\n",
      "================================================================================\n",
      "Bob: Who won the civil war?\n",
      "assistant: In truth, good sir, the answer to thy query may not be as simple as a mere declaration of victory. With banners flying and warriors valiantly clashing, the English Civil War waged on for many a year, tearing the nation asunder with its quarrels of loyalty and power. On one side stood the Royalists, loyal to King Charles I, whilst on the other were the Parliamentarians, led by the doughty Oliver Cromwell.\n",
      "\n",
      "Verily, after much bloodshed and toil, it was the Parliamentarians who emerged triumphant from the fray. With the execution of King Charles I in 1649 and the establishment of the Commonwealth under Cromwell's rule, the Royalists were vanquished and the power of the crown diminished. Yet, the war's legacy would leave a mark on the pages of history for centuries to come, shaping the very fabric of England's governance and society.\n",
      "\n",
      "But let us not forget the complexities of such a conflict, for even in victory there lay seeds of discord. The restoration of the monarchy in 1660 with Charles II marked a return to the old ways, yet the memory of the Civil War lingered like a specter, reminding all of the perils of unchecked power and division.\n",
      "\n",
      "So, dear friend, whilst the Parliamentarians may be deemed the victors of the Civil War, the true outcome of this tumultuous time may be found in the scars it left upon the nation's soul, a reminder of the fragility of peace and the cost of conflict.\n",
      "\n",
      "References:\n",
      "- Hibbert, Christopher. The English Civil War. Penguin Books, 1993.\n",
      "- Morrill, John. The Nature of the English Revolution. Routledge, 2013.\n",
      "\n",
      "\n",
      "================================================================================\n",
      "Joe: Who won the civil war?\n",
      "assistant: - The Civil War, a great conflict betwixt the Union and the Confederacy, did conclude with the victory of the Union forces led by the noble General Ulysses S. Grant.\n",
      "- The Union, under the wise leadership of President Abraham Lincoln, did vanquish the Confederate forces after many years of bloody battle.\n",
      "- The surrender of General Robert E. Lee at Appomattox Court House in 1865 did mark the end of the war, bringing peace and unity to the land once more.\n",
      "\n",
      "\n",
      "================================================================================\n",
      "Sally: Who won the civil war?\n",
      "assistant: In sooth, good sir, the Civil War wrought much turmoil and strife in our fair land. 'Twas a conflict betwixt the noble Union, led by President Abraham Lincoln, and the valiant Confederacy, led by General Robert E. Lee.\n",
      "\n",
      "Verily, after many a battle and much bloodshed, the Union did emerge victorious. With the surrender of General Lee at Appomattox Court House in 1865, the Civil War did draw to a close. The Union's army did triumph over the forces of the Confederacy, thus bringing an end to the war that had torn our nation asunder.\n",
      "\n",
      "Thus, the Union did stand strong and united, with President Lincoln's leadership guiding the way. The Confederate states did lay down their arms and rejoin the Union, as peace did return to our great land once more.\n",
      "\n",
      "\n",
      "================================================================================\n"
     ]
    }
   ],
   "source": [
    "for (question,topic,user,prompt,answer) in completions.itertuples(name=None, index=False):\n",
    "    print(f\"{user}: {question}\\nassistant: {answer}\\n\\n\")\n",
    "    print(\"=\"*80)"
   ]
  },
  {
   "cell_type": "code",
   "execution_count": null,
   "metadata": {},
   "outputs": [],
   "source": [
    "#|hide\n",
    "import nbdev; nbdev.nbdev_export()"
   ]
  }
 ],
 "metadata": {
  "kernelspec": {
   "display_name": "python3",
   "language": "python",
   "name": "python3"
  }
 },
 "nbformat": 4,
 "nbformat_minor": 4
}
