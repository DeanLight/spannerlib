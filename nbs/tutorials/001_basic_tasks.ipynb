{
 "cells": [
  {
   "cell_type": "markdown",
   "metadata": {},
   "source": [
    "# Basic Tasks using spannerlib\n"
   ]
  },
  {
   "cell_type": "raw",
   "metadata": {},
   "source": [
    "---\n",
    "skip_exec: true\n",
    "---"
   ]
  },
  {
   "cell_type": "code",
   "execution_count": null,
   "metadata": {},
   "outputs": [],
   "source": [
    "#| default_exp tutorials.basic"
   ]
  },
  {
   "cell_type": "code",
   "execution_count": null,
   "metadata": {},
   "outputs": [],
   "source": [
    "#| hide\n",
    "from nbdev.showdoc import show_doc\n",
    "from IPython.display import display, HTML\n",
    "%load_ext autoreload\n",
    "%autoreload 2"
   ]
  },
  {
   "cell_type": "code",
   "execution_count": null,
   "metadata": {},
   "outputs": [],
   "source": [
    "#| export\n",
    "# importing dependencies\n",
    "import re\n",
    "import pandas as pd\n",
    "from pandas import DataFrame\n",
    "from pathlib import Path\n",
    "from spannerlib.utils import load_env\n",
    "from spannerlib import get_magic_session,Session,Span"
   ]
  },
  {
   "cell_type": "code",
   "execution_count": null,
   "metadata": {},
   "outputs": [
    {
     "name": "stderr",
     "output_type": "stream",
     "text": [
      "Loaded env from .env.dev\n"
     ]
    }
   ],
   "source": [
    "# load openAI api key\n",
    "load_env()"
   ]
  },
  {
   "cell_type": "markdown",
   "metadata": {},
   "source": [
    "This tutorials aim to show how to use the spannerlib framework for simple use cases.\n",
    "To illustrate the simplicity of using spannerlib, all required IE functions will be implemented from scratch."
   ]
  },
  {
   "cell_type": "markdown",
   "metadata": {},
   "source": [
    "## Finding identical sentences in a corpus of documents"
   ]
  },
  {
   "cell_type": "markdown",
   "metadata": {},
   "source": [
    "In this example, we would like to get a collection of documents. And find identical sentences among them.\n",
    "For example, given the following documents:"
   ]
  },
  {
   "cell_type": "code",
   "execution_count": null,
   "metadata": {},
   "outputs": [
    {
     "data": {
      "text/html": [
       "<div>\n",
       "<style scoped>\n",
       "    .dataframe tbody tr th:only-of-type {\n",
       "        vertical-align: middle;\n",
       "    }\n",
       "\n",
       "    .dataframe tbody tr th {\n",
       "        vertical-align: top;\n",
       "    }\n",
       "\n",
       "    .dataframe thead th {\n",
       "        text-align: right;\n",
       "    }\n",
       "</style>\n",
       "<table border=\"1\" class=\"dataframe\">\n",
       "  <thead>\n",
       "    <tr style=\"text-align: right;\">\n",
       "      <th></th>\n",
       "      <th>0</th>\n",
       "      <th>1</th>\n",
       "    </tr>\n",
       "  </thead>\n",
       "  <tbody>\n",
       "    <tr>\n",
       "      <th>0</th>\n",
       "      <td>doc1</td>\n",
       "      <td>The quick brown fox jumps over the lazy dog. I...</td>\n",
       "    </tr>\n",
       "    <tr>\n",
       "      <th>1</th>\n",
       "      <td>doc2</td>\n",
       "      <td>Im walking on Sunshine. Lorem ipsum. Im walkin...</td>\n",
       "    </tr>\n",
       "    <tr>\n",
       "      <th>2</th>\n",
       "      <td>doc3</td>\n",
       "      <td>All you need is love. The quick brown fox jump...</td>\n",
       "    </tr>\n",
       "  </tbody>\n",
       "</table>\n",
       "</div>"
      ],
      "text/plain": [
       "      0                                                  1\n",
       "0  doc1  The quick brown fox jumps over the lazy dog. I...\n",
       "1  doc2  Im walking on Sunshine. Lorem ipsum. Im walkin...\n",
       "2  doc3  All you need is love. The quick brown fox jump..."
      ]
     },
     "execution_count": null,
     "metadata": {},
     "output_type": "execute_result"
    }
   ],
   "source": [
    "input_documents = pd.DataFrame([\n",
    "    ('doc1', 'The quick brown fox jumps over the lazy dog. Im walking on Sunshine.'),\n",
    "    ('doc2', 'Im walking on Sunshine. Lorem ipsum. Im walking on Sunshine.'),\n",
    "    ('doc3', 'All you need is love. The quick brown fox jumps over the lazy dog.'),\n",
    "])\n",
    "input_documents"
   ]
  },
  {
   "cell_type": "markdown",
   "metadata": {},
   "source": [
    "We would like to compute that the first sentence of `doc1` is equal to the second sentence of `doc3` etc.. "
   ]
  },
  {
   "cell_type": "markdown",
   "metadata": {},
   "source": [
    "### Building IE functions"
   ]
  },
  {
   "cell_type": "markdown",
   "metadata": {},
   "source": [
    "To do so, we would need 2 IE functions,\n",
    "* Ones that extract the Span of a sentence from a document, called `split`\n",
    "* The other which would let us know when sentences have identical content but are not actually the same sentence.\n",
    "  * this will require them to have the same content when ignoring whitespace\n",
    "  * but not be equal spans. Lets call this function `eq_content_spans`\n",
    "\n",
    "Lets implement them and register them to our session object. We will use the `Span` class to save indexed substrings.\n",
    "\n"
   ]
  },
  {
   "cell_type": "code",
   "execution_count": null,
   "metadata": {},
   "outputs": [],
   "source": [
    "#| export\n",
    "# this implementation is naive\n",
    "# the standard library has a rgx_split ie function that does this in a more efficient way\n",
    "def split(text):\n",
    "    split_indices = [ pos for pos,char in enumerate(text) if char == '.' ]\n",
    "    start = 0\n",
    "    for pos,char in enumerate(text):\n",
    "        if char == '.':\n",
    "            yield Span(text, start, pos)\n",
    "            start = pos+1\n",
    "\n",
    "\n",
    "def eq_content_spans(span1, span2):\n",
    "    # notice that we are yielding a boolean value\n",
    "    yield span1 != span2 and str(span1).strip() == str(span2).strip()"
   ]
  },
  {
   "cell_type": "code",
   "execution_count": null,
   "metadata": {},
   "outputs": [
    {
     "name": "stdout",
     "output_type": "stream",
     "text": [
      "[[@3ba775,0,43) \"The quick ...\", [@3ba775,44,67) \" Im walkin...\"]\n"
     ]
    }
   ],
   "source": [
    "print(list(split('The quick brown fox jumps over the lazy dog. Im walking on Sunshine.')))\n"
   ]
  },
  {
   "cell_type": "markdown",
   "metadata": {},
   "source": [
    "### Building spannerlog rules"
   ]
  },
  {
   "cell_type": "code",
   "execution_count": null,
   "metadata": {},
   "outputs": [],
   "source": [
    "# we register the functions and their input and output schema\n",
    "sess = get_magic_session()\n",
    "sess.register('split', split, [str],[Span])\n",
    "sess.register('eq_content_spans', eq_content_spans,[Span,Span],[bool])"
   ]
  },
  {
   "cell_type": "markdown",
   "metadata": {},
   "source": [
    "Now let us import our data"
   ]
  },
  {
   "cell_type": "code",
   "execution_count": null,
   "metadata": {},
   "outputs": [],
   "source": [
    "sess.import_rel('Docs', input_documents)"
   ]
  },
  {
   "cell_type": "markdown",
   "metadata": {},
   "source": [
    "Lets make sure we can see our data in using Spannerlog"
   ]
  },
  {
   "cell_type": "code",
   "execution_count": null,
   "metadata": {},
   "outputs": [
    {
     "data": {
      "text/plain": [
       "'?Docs(doc_id,text)'"
      ]
     },
     "metadata": {},
     "output_type": "display_data"
    },
    {
     "data": {
      "text/html": [
       "<style type=\"text/css\">\n",
       "#T_87f83_row0_col0, #T_87f83_row0_col1, #T_87f83_row1_col0, #T_87f83_row1_col1, #T_87f83_row2_col0, #T_87f83_row2_col1 {\n",
       "  overflow-wrap: break-word;\n",
       "  max-width: 800px;\n",
       "  text-align: left;\n",
       "}\n",
       "</style>\n",
       "<table id=\"T_87f83\">\n",
       "  <thead>\n",
       "    <tr>\n",
       "      <th class=\"blank level0\" >&nbsp;</th>\n",
       "      <th id=\"T_87f83_level0_col0\" class=\"col_heading level0 col0\" >doc_id</th>\n",
       "      <th id=\"T_87f83_level0_col1\" class=\"col_heading level0 col1\" >text</th>\n",
       "    </tr>\n",
       "  </thead>\n",
       "  <tbody>\n",
       "    <tr>\n",
       "      <th id=\"T_87f83_level0_row0\" class=\"row_heading level0 row0\" >0</th>\n",
       "      <td id=\"T_87f83_row0_col0\" class=\"data row0 col0\" >doc1</td>\n",
       "      <td id=\"T_87f83_row0_col1\" class=\"data row0 col1\" >The quick brown fox jumps over the lazy dog. Im walking on Sunshine.</td>\n",
       "    </tr>\n",
       "    <tr>\n",
       "      <th id=\"T_87f83_level0_row1\" class=\"row_heading level0 row1\" >1</th>\n",
       "      <td id=\"T_87f83_row1_col0\" class=\"data row1 col0\" >doc2</td>\n",
       "      <td id=\"T_87f83_row1_col1\" class=\"data row1 col1\" >Im walking on Sunshine. Lorem ipsum. Im walking on Sunshine.</td>\n",
       "    </tr>\n",
       "    <tr>\n",
       "      <th id=\"T_87f83_level0_row2\" class=\"row_heading level0 row2\" >2</th>\n",
       "      <td id=\"T_87f83_row2_col0\" class=\"data row2 col0\" >doc3</td>\n",
       "      <td id=\"T_87f83_row2_col1\" class=\"data row2 col1\" >All you need is love. The quick brown fox jumps over the lazy dog.</td>\n",
       "    </tr>\n",
       "  </tbody>\n",
       "</table>\n"
      ],
      "text/plain": [
       "<pandas.io.formats.style.Styler>"
      ]
     },
     "metadata": {},
     "output_type": "display_data"
    }
   ],
   "source": [
    "%%spannerlog\n",
    "?Docs(doc_id,text)"
   ]
  },
  {
   "cell_type": "markdown",
   "metadata": {},
   "source": [
    "Now let us build rules that allow us to find identical sentences:"
   ]
  },
  {
   "cell_type": "code",
   "execution_count": null,
   "metadata": {},
   "outputs": [
    {
     "data": {
      "text/plain": [
       "'?Sents(doc_id,sent)'"
      ]
     },
     "metadata": {},
     "output_type": "display_data"
    },
    {
     "data": {
      "text/html": [
       "<style type=\"text/css\">\n",
       "#T_9c4ec_row0_col0, #T_9c4ec_row0_col1, #T_9c4ec_row1_col0, #T_9c4ec_row1_col1, #T_9c4ec_row2_col0, #T_9c4ec_row2_col1, #T_9c4ec_row3_col0, #T_9c4ec_row3_col1, #T_9c4ec_row4_col0, #T_9c4ec_row4_col1, #T_9c4ec_row5_col0, #T_9c4ec_row5_col1, #T_9c4ec_row6_col0, #T_9c4ec_row6_col1 {\n",
       "  overflow-wrap: break-word;\n",
       "  max-width: 800px;\n",
       "  text-align: left;\n",
       "}\n",
       "</style>\n",
       "<table id=\"T_9c4ec\">\n",
       "  <thead>\n",
       "    <tr>\n",
       "      <th class=\"blank level0\" >&nbsp;</th>\n",
       "      <th id=\"T_9c4ec_level0_col0\" class=\"col_heading level0 col0\" >doc_id</th>\n",
       "      <th id=\"T_9c4ec_level0_col1\" class=\"col_heading level0 col1\" >sent</th>\n",
       "    </tr>\n",
       "  </thead>\n",
       "  <tbody>\n",
       "    <tr>\n",
       "      <th id=\"T_9c4ec_level0_row0\" class=\"row_heading level0 row0\" >0</th>\n",
       "      <td id=\"T_9c4ec_row0_col0\" class=\"data row0 col0\" >doc1</td>\n",
       "      <td id=\"T_9c4ec_row0_col1\" class=\"data row0 col1\" >[@3ba775,0,43) \"The quick ...\"</td>\n",
       "    </tr>\n",
       "    <tr>\n",
       "      <th id=\"T_9c4ec_level0_row1\" class=\"row_heading level0 row1\" >1</th>\n",
       "      <td id=\"T_9c4ec_row1_col0\" class=\"data row1 col0\" >doc1</td>\n",
       "      <td id=\"T_9c4ec_row1_col1\" class=\"data row1 col1\" >[@3ba775,44,67) \" Im walkin...\"</td>\n",
       "    </tr>\n",
       "    <tr>\n",
       "      <th id=\"T_9c4ec_level0_row2\" class=\"row_heading level0 row2\" >2</th>\n",
       "      <td id=\"T_9c4ec_row2_col0\" class=\"data row2 col0\" >doc2</td>\n",
       "      <td id=\"T_9c4ec_row2_col1\" class=\"data row2 col1\" >[@06bc2d,0,22) \"Im walking...\"</td>\n",
       "    </tr>\n",
       "    <tr>\n",
       "      <th id=\"T_9c4ec_level0_row3\" class=\"row_heading level0 row3\" >3</th>\n",
       "      <td id=\"T_9c4ec_row3_col0\" class=\"data row3 col0\" >doc2</td>\n",
       "      <td id=\"T_9c4ec_row3_col1\" class=\"data row3 col1\" >[@06bc2d,23,35) \" Lorem ips...\"</td>\n",
       "    </tr>\n",
       "    <tr>\n",
       "      <th id=\"T_9c4ec_level0_row4\" class=\"row_heading level0 row4\" >4</th>\n",
       "      <td id=\"T_9c4ec_row4_col0\" class=\"data row4 col0\" >doc2</td>\n",
       "      <td id=\"T_9c4ec_row4_col1\" class=\"data row4 col1\" >[@06bc2d,36,59) \" Im walkin...\"</td>\n",
       "    </tr>\n",
       "    <tr>\n",
       "      <th id=\"T_9c4ec_level0_row5\" class=\"row_heading level0 row5\" >5</th>\n",
       "      <td id=\"T_9c4ec_row5_col0\" class=\"data row5 col0\" >doc3</td>\n",
       "      <td id=\"T_9c4ec_row5_col1\" class=\"data row5 col1\" >[@9c32df,0,20) \"All you ne...\"</td>\n",
       "    </tr>\n",
       "    <tr>\n",
       "      <th id=\"T_9c4ec_level0_row6\" class=\"row_heading level0 row6\" >6</th>\n",
       "      <td id=\"T_9c4ec_row6_col0\" class=\"data row6 col0\" >doc3</td>\n",
       "      <td id=\"T_9c4ec_row6_col1\" class=\"data row6 col1\" >[@9c32df,21,65) \" The quick...\"</td>\n",
       "    </tr>\n",
       "  </tbody>\n",
       "</table>\n"
      ],
      "text/plain": [
       "<pandas.io.formats.style.Styler>"
      ]
     },
     "metadata": {},
     "output_type": "display_data"
    },
    {
     "data": {
      "text/plain": [
       "'?EqualSents(doc_id1,sent1,doc_id2,sent2)'"
      ]
     },
     "metadata": {},
     "output_type": "display_data"
    },
    {
     "data": {
      "text/html": [
       "<style type=\"text/css\">\n",
       "#T_9fe8e_row0_col0, #T_9fe8e_row0_col1, #T_9fe8e_row0_col2, #T_9fe8e_row0_col3, #T_9fe8e_row1_col0, #T_9fe8e_row1_col1, #T_9fe8e_row1_col2, #T_9fe8e_row1_col3, #T_9fe8e_row2_col0, #T_9fe8e_row2_col1, #T_9fe8e_row2_col2, #T_9fe8e_row2_col3, #T_9fe8e_row3_col0, #T_9fe8e_row3_col1, #T_9fe8e_row3_col2, #T_9fe8e_row3_col3, #T_9fe8e_row4_col0, #T_9fe8e_row4_col1, #T_9fe8e_row4_col2, #T_9fe8e_row4_col3, #T_9fe8e_row5_col0, #T_9fe8e_row5_col1, #T_9fe8e_row5_col2, #T_9fe8e_row5_col3, #T_9fe8e_row6_col0, #T_9fe8e_row6_col1, #T_9fe8e_row6_col2, #T_9fe8e_row6_col3, #T_9fe8e_row7_col0, #T_9fe8e_row7_col1, #T_9fe8e_row7_col2, #T_9fe8e_row7_col3 {\n",
       "  overflow-wrap: break-word;\n",
       "  max-width: 800px;\n",
       "  text-align: left;\n",
       "}\n",
       "</style>\n",
       "<table id=\"T_9fe8e\">\n",
       "  <thead>\n",
       "    <tr>\n",
       "      <th class=\"blank level0\" >&nbsp;</th>\n",
       "      <th id=\"T_9fe8e_level0_col0\" class=\"col_heading level0 col0\" >doc_id1</th>\n",
       "      <th id=\"T_9fe8e_level0_col1\" class=\"col_heading level0 col1\" >sent1</th>\n",
       "      <th id=\"T_9fe8e_level0_col2\" class=\"col_heading level0 col2\" >doc_id2</th>\n",
       "      <th id=\"T_9fe8e_level0_col3\" class=\"col_heading level0 col3\" >sent2</th>\n",
       "    </tr>\n",
       "  </thead>\n",
       "  <tbody>\n",
       "    <tr>\n",
       "      <th id=\"T_9fe8e_level0_row0\" class=\"row_heading level0 row0\" >0</th>\n",
       "      <td id=\"T_9fe8e_row0_col0\" class=\"data row0 col0\" >doc1</td>\n",
       "      <td id=\"T_9fe8e_row0_col1\" class=\"data row0 col1\" >[@3ba775,0,43) \"The quick ...\"</td>\n",
       "      <td id=\"T_9fe8e_row0_col2\" class=\"data row0 col2\" >doc3</td>\n",
       "      <td id=\"T_9fe8e_row0_col3\" class=\"data row0 col3\" >[@9c32df,21,65) \" The quick...\"</td>\n",
       "    </tr>\n",
       "    <tr>\n",
       "      <th id=\"T_9fe8e_level0_row1\" class=\"row_heading level0 row1\" >1</th>\n",
       "      <td id=\"T_9fe8e_row1_col0\" class=\"data row1 col0\" >doc1</td>\n",
       "      <td id=\"T_9fe8e_row1_col1\" class=\"data row1 col1\" >[@3ba775,44,67) \" Im walkin...\"</td>\n",
       "      <td id=\"T_9fe8e_row1_col2\" class=\"data row1 col2\" >doc2</td>\n",
       "      <td id=\"T_9fe8e_row1_col3\" class=\"data row1 col3\" >[@06bc2d,0,22) \"Im walking...\"</td>\n",
       "    </tr>\n",
       "    <tr>\n",
       "      <th id=\"T_9fe8e_level0_row2\" class=\"row_heading level0 row2\" >2</th>\n",
       "      <td id=\"T_9fe8e_row2_col0\" class=\"data row2 col0\" >doc1</td>\n",
       "      <td id=\"T_9fe8e_row2_col1\" class=\"data row2 col1\" >[@3ba775,44,67) \" Im walkin...\"</td>\n",
       "      <td id=\"T_9fe8e_row2_col2\" class=\"data row2 col2\" >doc2</td>\n",
       "      <td id=\"T_9fe8e_row2_col3\" class=\"data row2 col3\" >[@06bc2d,36,59) \" Im walkin...\"</td>\n",
       "    </tr>\n",
       "    <tr>\n",
       "      <th id=\"T_9fe8e_level0_row3\" class=\"row_heading level0 row3\" >3</th>\n",
       "      <td id=\"T_9fe8e_row3_col0\" class=\"data row3 col0\" >doc2</td>\n",
       "      <td id=\"T_9fe8e_row3_col1\" class=\"data row3 col1\" >[@06bc2d,0,22) \"Im walking...\"</td>\n",
       "      <td id=\"T_9fe8e_row3_col2\" class=\"data row3 col2\" >doc1</td>\n",
       "      <td id=\"T_9fe8e_row3_col3\" class=\"data row3 col3\" >[@3ba775,44,67) \" Im walkin...\"</td>\n",
       "    </tr>\n",
       "    <tr>\n",
       "      <th id=\"T_9fe8e_level0_row4\" class=\"row_heading level0 row4\" >4</th>\n",
       "      <td id=\"T_9fe8e_row4_col0\" class=\"data row4 col0\" >doc2</td>\n",
       "      <td id=\"T_9fe8e_row4_col1\" class=\"data row4 col1\" >[@06bc2d,0,22) \"Im walking...\"</td>\n",
       "      <td id=\"T_9fe8e_row4_col2\" class=\"data row4 col2\" >doc2</td>\n",
       "      <td id=\"T_9fe8e_row4_col3\" class=\"data row4 col3\" >[@06bc2d,36,59) \" Im walkin...\"</td>\n",
       "    </tr>\n",
       "    <tr>\n",
       "      <th id=\"T_9fe8e_level0_row5\" class=\"row_heading level0 row5\" >5</th>\n",
       "      <td id=\"T_9fe8e_row5_col0\" class=\"data row5 col0\" >doc2</td>\n",
       "      <td id=\"T_9fe8e_row5_col1\" class=\"data row5 col1\" >[@06bc2d,36,59) \" Im walkin...\"</td>\n",
       "      <td id=\"T_9fe8e_row5_col2\" class=\"data row5 col2\" >doc1</td>\n",
       "      <td id=\"T_9fe8e_row5_col3\" class=\"data row5 col3\" >[@3ba775,44,67) \" Im walkin...\"</td>\n",
       "    </tr>\n",
       "    <tr>\n",
       "      <th id=\"T_9fe8e_level0_row6\" class=\"row_heading level0 row6\" >6</th>\n",
       "      <td id=\"T_9fe8e_row6_col0\" class=\"data row6 col0\" >doc2</td>\n",
       "      <td id=\"T_9fe8e_row6_col1\" class=\"data row6 col1\" >[@06bc2d,36,59) \" Im walkin...\"</td>\n",
       "      <td id=\"T_9fe8e_row6_col2\" class=\"data row6 col2\" >doc2</td>\n",
       "      <td id=\"T_9fe8e_row6_col3\" class=\"data row6 col3\" >[@06bc2d,0,22) \"Im walking...\"</td>\n",
       "    </tr>\n",
       "    <tr>\n",
       "      <th id=\"T_9fe8e_level0_row7\" class=\"row_heading level0 row7\" >7</th>\n",
       "      <td id=\"T_9fe8e_row7_col0\" class=\"data row7 col0\" >doc3</td>\n",
       "      <td id=\"T_9fe8e_row7_col1\" class=\"data row7 col1\" >[@9c32df,21,65) \" The quick...\"</td>\n",
       "      <td id=\"T_9fe8e_row7_col2\" class=\"data row7 col2\" >doc1</td>\n",
       "      <td id=\"T_9fe8e_row7_col3\" class=\"data row7 col3\" >[@3ba775,0,43) \"The quick ...\"</td>\n",
       "    </tr>\n",
       "  </tbody>\n",
       "</table>\n"
      ],
      "text/plain": [
       "<pandas.io.formats.style.Styler>"
      ]
     },
     "metadata": {},
     "output_type": "display_data"
    }
   ],
   "source": [
    "%%spannerlog\n",
    "# this rule gives us\n",
    "Sents(doc_id,sent)<-\\\n",
    "    Docs(doc_id,text),split(text)->(sent)\n",
    "?Sents(doc_id,sent)\n",
    "\n",
    "# this rule find equal pairs of sentences\n",
    "EqualSents(doc_id1,sent1,doc_id2,sent2)<-\\\n",
    "    Sents(doc_id1,sent1),\\\n",
    "    Sents(doc_id2,sent2),\\\n",
    "    eq_content_spans(sent1,sent2)->(True)\n",
    "?EqualSents(doc_id1,sent1,doc_id2,sent2)"
   ]
  },
  {
   "cell_type": "markdown",
   "metadata": {},
   "source": [
    "### Oops, handling symmetric queries"
   ]
  },
  {
   "cell_type": "markdown",
   "metadata": {},
   "source": [
    "Notice that we got each pair twice. This is because while we think of a sentence pair as a set with two sentences,\n",
    "the tuples `(x,y)` and `(y,x)` are actually different. To remedy this we can limit our pairs to pairs where the first sentence is in a smaller position (ie position in memory).\n",
    "\n",
    "We can do that by introducing a `span_lt` ie function"
   ]
  },
  {
   "cell_type": "code",
   "execution_count": null,
   "metadata": {},
   "outputs": [],
   "source": [
    "#| export\n",
    "def span_lt(span1, span2):\n",
    "    yield span1 < span2\n"
   ]
  },
  {
   "cell_type": "code",
   "execution_count": null,
   "metadata": {},
   "outputs": [],
   "source": [
    "sess.register('span_lt', span_lt, [Span,Span],[bool])"
   ]
  },
  {
   "cell_type": "code",
   "execution_count": null,
   "metadata": {},
   "outputs": [
    {
     "data": {
      "text/plain": [
       "'?EqualSentsUniqe(doc_id1,sent1,doc_id2,sent2)'"
      ]
     },
     "metadata": {},
     "output_type": "display_data"
    },
    {
     "data": {
      "text/html": [
       "<style type=\"text/css\">\n",
       "#T_be6e0_row0_col0, #T_be6e0_row0_col1, #T_be6e0_row0_col2, #T_be6e0_row0_col3, #T_be6e0_row1_col0, #T_be6e0_row1_col1, #T_be6e0_row1_col2, #T_be6e0_row1_col3, #T_be6e0_row2_col0, #T_be6e0_row2_col1, #T_be6e0_row2_col2, #T_be6e0_row2_col3, #T_be6e0_row3_col0, #T_be6e0_row3_col1, #T_be6e0_row3_col2, #T_be6e0_row3_col3 {\n",
       "  overflow-wrap: break-word;\n",
       "  max-width: 800px;\n",
       "  text-align: left;\n",
       "}\n",
       "</style>\n",
       "<table id=\"T_be6e0\">\n",
       "  <thead>\n",
       "    <tr>\n",
       "      <th class=\"blank level0\" >&nbsp;</th>\n",
       "      <th id=\"T_be6e0_level0_col0\" class=\"col_heading level0 col0\" >doc_id1</th>\n",
       "      <th id=\"T_be6e0_level0_col1\" class=\"col_heading level0 col1\" >sent1</th>\n",
       "      <th id=\"T_be6e0_level0_col2\" class=\"col_heading level0 col2\" >doc_id2</th>\n",
       "      <th id=\"T_be6e0_level0_col3\" class=\"col_heading level0 col3\" >sent2</th>\n",
       "    </tr>\n",
       "  </thead>\n",
       "  <tbody>\n",
       "    <tr>\n",
       "      <th id=\"T_be6e0_level0_row0\" class=\"row_heading level0 row0\" >0</th>\n",
       "      <td id=\"T_be6e0_row0_col0\" class=\"data row0 col0\" >doc2</td>\n",
       "      <td id=\"T_be6e0_row0_col1\" class=\"data row0 col1\" >[@06bc2d,0,22) \"Im walking...\"</td>\n",
       "      <td id=\"T_be6e0_row0_col2\" class=\"data row0 col2\" >doc1</td>\n",
       "      <td id=\"T_be6e0_row0_col3\" class=\"data row0 col3\" >[@3ba775,44,67) \" Im walkin...\"</td>\n",
       "    </tr>\n",
       "    <tr>\n",
       "      <th id=\"T_be6e0_level0_row1\" class=\"row_heading level0 row1\" >1</th>\n",
       "      <td id=\"T_be6e0_row1_col0\" class=\"data row1 col0\" >doc2</td>\n",
       "      <td id=\"T_be6e0_row1_col1\" class=\"data row1 col1\" >[@06bc2d,0,22) \"Im walking...\"</td>\n",
       "      <td id=\"T_be6e0_row1_col2\" class=\"data row1 col2\" >doc2</td>\n",
       "      <td id=\"T_be6e0_row1_col3\" class=\"data row1 col3\" >[@06bc2d,36,59) \" Im walkin...\"</td>\n",
       "    </tr>\n",
       "    <tr>\n",
       "      <th id=\"T_be6e0_level0_row2\" class=\"row_heading level0 row2\" >2</th>\n",
       "      <td id=\"T_be6e0_row2_col0\" class=\"data row2 col0\" >doc2</td>\n",
       "      <td id=\"T_be6e0_row2_col1\" class=\"data row2 col1\" >[@06bc2d,36,59) \" Im walkin...\"</td>\n",
       "      <td id=\"T_be6e0_row2_col2\" class=\"data row2 col2\" >doc1</td>\n",
       "      <td id=\"T_be6e0_row2_col3\" class=\"data row2 col3\" >[@3ba775,44,67) \" Im walkin...\"</td>\n",
       "    </tr>\n",
       "    <tr>\n",
       "      <th id=\"T_be6e0_level0_row3\" class=\"row_heading level0 row3\" >3</th>\n",
       "      <td id=\"T_be6e0_row3_col0\" class=\"data row3 col0\" >doc3</td>\n",
       "      <td id=\"T_be6e0_row3_col1\" class=\"data row3 col1\" >[@9c32df,21,65) \" The quick...\"</td>\n",
       "      <td id=\"T_be6e0_row3_col2\" class=\"data row3 col2\" >doc1</td>\n",
       "      <td id=\"T_be6e0_row3_col3\" class=\"data row3 col3\" >[@3ba775,0,43) \"The quick ...\"</td>\n",
       "    </tr>\n",
       "  </tbody>\n",
       "</table>\n"
      ],
      "text/plain": [
       "<pandas.io.formats.style.Styler>"
      ]
     },
     "metadata": {},
     "output_type": "display_data"
    }
   ],
   "source": [
    "%%spannerlog\n",
    "EqualSentsUniqe(doc_id1,sent1,doc_id2,sent2)<-\\\n",
    "    Sents(doc_id1,sent1),\\\n",
    "    Sents(doc_id2,sent2),\\\n",
    "    span_lt(sent1,sent2)->(True),\\\n",
    "    eq_content_spans(sent1,sent2)->(True)\n",
    "    \n",
    "?EqualSentsUniqe(doc_id1,sent1,doc_id2,sent2)"
   ]
  },
  {
   "cell_type": "markdown",
   "metadata": {},
   "source": [
    "## Building LLM agents using spannerlib"
   ]
  },
  {
   "cell_type": "markdown",
   "metadata": {},
   "source": [
    "### Motivation"
   ]
  },
  {
   "cell_type": "markdown",
   "metadata": {},
   "source": [
    "Recall, that most LLM based applications do not include a single call to an LLM, but are rather built using LLM agents.\n",
    "LLM agents are programs that\n",
    "* Wrap LLMs in control logic.\n",
    "  * Either deterministic\n",
    "  * Or decided by an LLM\n",
    "* Offloads structured reasoning to tools, whose output is fed into some of the Prompts that are used by the agent's LLMs."
   ]
  },
  {
   "cell_type": "markdown",
   "metadata": {},
   "source": [
    "In this tutorial we will show how to build a simple agent that might be used to build the backend of a more nuanced chatgpt like system.\n",
    "\n",
    "Our agent takes:\n",
    "* A question from a user\n",
    "\n",
    "And has previous knowledge encoding\n",
    "* How to best answer questions on different topics.\n",
    "* How to a user prefers his answers to be formatted."
   ]
  },
  {
   "cell_type": "markdown",
   "metadata": {},
   "source": [
    "For example, given the question `How do we measure the distance between starts` we might note that:\n",
    "* in cases of scientific questions, it is better to answer using mathematical notation and formulas, rather than pure english.\n",
    "\n",
    "Moreover, some users would like the answer to be styled in an academic way, with dense prose ending with citations, like so:\n",
    "<blockquote>\n",
    "The distance between stars is measured in astronomical units (AU), parsecs (pc), or light-years (ly). \n",
    "\n",
    "1. **Astronomical Unit (AU)**: An AU is the average distance between the Earth and the Sun, which is approximately 93 million miles or 150 million kilometers. It is more commonly used to measure distances within our solar system.\n",
    "\n",
    "2. **Parsec (pc)**: A parsec is a unit of distance used in astronomy, defined as the distance at which an object would have a parallax angle of one arcsecond. One parsec is equal to approximately 3.26 light-years or 3.09 x 10^13 kilometers.\n",
    "\n",
    "3. **Light-year (ly)**: A light-year is the distance that light travels in one year, which is approximately 9.46 trillion kilometers or about 5.88 trillion miles.\n",
    "\n",
    "To measure the distance to a star, astronomers use methods such as parallax and spectroscopic parallax. Parallax involves observing a star from two different points in Earth's orbit and measuring the apparent shift in position. Spectroscopic parallax uses the star's spectral type and luminosity to estimate its distance.\n",
    "\n",
    "In summary, astronomers use a combination of trigonometric and spectroscopic methods to measure the distance between stars in order to better understand the vastness of our universe.\n",
    "\n",
    "**References:**\n",
    "1. Carroll, B. W., & Ostlie, D. A. (2007). *An introduction to modern astrophysics* (2nd ed.). Pearson Addison-Wesley.\n",
    "2. Bennett, J., Donahue, M., Schneider, N., & Voit, M. (2014). *The cosmic perspective* (7th ed.). Pearson.\n",
    "</blockquote>\n"
   ]
  },
  {
   "cell_type": "markdown",
   "metadata": {},
   "source": [
    "While other users will like a shorter answer in simple language like so:\n",
    "<blockquote>\n",
    "One common way to measure the distance between stars is through parallax. Parallax is the apparent shift in position of an object when viewed from two different points. \n",
    "\n",
    "The parallax angle, denoted by p, is the angle formed between a line from the observer to the nearer star and a line from the observer to the farther star. The parallax angle is related to the distance to the star (d) by the formula:\n",
    "\n",
    "d = 1 / p\n",
    "\n",
    "where d is the distance to the star in parsecs (pc) and p is the parallax angle in arcseconds (\"). \n",
    "\n",
    "A parsec is a unit of distance often used in astronomy, equal to about 3.26 light-years. So when we measure the parallax angle of a star, we can use the formula above to calculate its distance from Earth.\n",
    "</blockquote>\n"
   ]
  },
  {
   "cell_type": "markdown",
   "metadata": {},
   "source": [
    "### Problem definition"
   ]
  },
  {
   "cell_type": "markdown",
   "metadata": {},
   "source": [
    "So given:\n",
    "* A relation of the form `(user,question)`\n",
    "* A relation of the form `(topic,topicSpecificIntructions)`\n",
    "* A relation of the form `(user,userSpecificInstructions)`\n",
    "\n",
    "We would like to output for each user and question, an answer that fits both the user's specified preferences and the instructions fitting for that topic."
   ]
  },
  {
   "cell_type": "markdown",
   "metadata": {},
   "source": [
    "### Defining our IE functions"
   ]
  },
  {
   "cell_type": "markdown",
   "metadata": {},
   "source": [
    "For building agent we need 2 basic building blocks as IE functions:\n",
    "* an `llm` function of the form `llm(model:str,prompt:str)->(answer:str)`\n",
    "* a `printf` like function `format` for formatting a prompt from template and other strings \n",
    "which will be of the form `format(template:str,s_1:str,...s_n:str)->(prompt:str)`\n",
    "\n",
    "The following section will involve technical details such as data type conversions and interfacing with openai's API.\n",
    "If this is not of interest to the reader, please skip to the next section."
   ]
  },
  {
   "cell_type": "markdown",
   "metadata": {},
   "source": [
    "To implement the llm ie function, we need to wrap some llm api as an IE function.\n",
    "We want an ie function that takes a string and returns a string.\n",
    "Since most LLM api expect a dict of the form `{'role':role,'content':message}`\n",
    "we will right converters that parse them from prompt strings of the form \n",
    "```txt\n",
    "role: content\n",
    "role: content\n",
    "```"
   ]
  },
  {
   "cell_type": "code",
   "execution_count": null,
   "metadata": {},
   "outputs": [],
   "source": [
    "#| export\n",
    "from spannerlib.ie_func.basic import rgx_split\n",
    "from functools import cache\n",
    "import openai\n",
    "from joblib import Memory\n",
    "memory = Memory(\"cachedir\", verbose=0)\n",
    "\n",
    "@cache\n",
    "def get_client():\n",
    "    return openai.Client()\n",
    "\n",
    "# we use the rgx_split function to split the string into messages\n",
    "def str_to_messages (string_prompt):\n",
    "    return [\n",
    "        {\n",
    "            'role': str(role).replace(': ',''),\n",
    "            'content': str(content)\n",
    "        } for role,content in rgx_split('system:\\s|assistant:\\s|user:\\s', string_prompt.strip())\n",
    "    ]\n",
    "def messages_to_string(msgs):\n",
    "    return ''.join([f\"{msg['content']}\" for msg in msgs])\n",
    "\n",
    "# the specific API we are going to call using the messages interface\n",
    "def openai_chat(model, messages):\n",
    "    client = get_client()\n",
    "    respone = client.chat.completions.create(\n",
    "        model=model,\n",
    "        messages=messages,\n",
    "        seed=42\n",
    "    )\n",
    "    return [dict(respone.choices[0].message)]\n",
    "\n",
    "# we disk cache our function to spare my openAI credits\n",
    "@memory.cache\n",
    "def llm(model, question):\n",
    "    q_msgs = str_to_messages(question)\n",
    "    a_msgs = openai_chat(model, q_msgs)\n",
    "    answer = messages_to_string(a_msgs)\n",
    "    return answer\n",
    "\n",
    "def llm_ie(model, question):\n",
    "    return [llm(model, question)]\n",
    "\n",
    "\n"
   ]
  },
  {
   "cell_type": "code",
   "execution_count": null,
   "metadata": {},
   "outputs": [
    {
     "data": {
      "text/plain": [
       "'Hello! I am a AI digital assistant here to help answer any questions you may have. How can I assist you today?'"
      ]
     },
     "execution_count": null,
     "metadata": {},
     "output_type": "execute_result"
    }
   ],
   "source": [
    "llm('gpt-3.5-turbo','user: Hello, who are you?')"
   ]
  },
  {
   "cell_type": "markdown",
   "metadata": {},
   "source": [
    "Now we can register the llm function as an ie function and use it from in spannerlog code."
   ]
  },
  {
   "cell_type": "markdown",
   "metadata": {},
   "source": [
    "Now let see how we can use spannerlib to build a simple pipeline that varries the LLM prompt in a data dependant way.\n",
    "Imagine that we have a chatbot that we want to act differently based on the topic of conversation and the user preference."
   ]
  },
  {
   "cell_type": "markdown",
   "metadata": {},
   "source": [
    "To enable us to format prompts from data, we will use a prompt formatting function with a `printf` like syntax.\n",
    "It is available in spannerlib's stdlib, but we will reproduce it here."
   ]
  },
  {
   "cell_type": "code",
   "execution_count": null,
   "metadata": {},
   "outputs": [],
   "source": [
    "#| export\n",
    "def format_ie(f_string,*params):\n",
    "    yield f_string.format(*params),\n",
    "\n",
    "# note that since the schema is dynamic we need to define a function that returns the schema based on the arity\n",
    "string_schema = lambda x: ([str]*x)"
   ]
  },
  {
   "cell_type": "code",
   "execution_count": null,
   "metadata": {},
   "outputs": [],
   "source": [
    "sess.register('llm', llm_ie, [str,str],[str])\n",
    "sess.register('format', format_ie, string_schema,[str])"
   ]
  },
  {
   "cell_type": "markdown",
   "metadata": {},
   "source": [
    "### Seeing our llm IE function in action"
   ]
  },
  {
   "cell_type": "code",
   "execution_count": null,
   "metadata": {},
   "outputs": [
    {
     "data": {
      "text/plain": [
       "'?TestLLM(answer)'"
      ]
     },
     "metadata": {},
     "output_type": "display_data"
    },
    {
     "data": {
      "text/html": [
       "<style type=\"text/css\">\n",
       "#T_b0628_row0_col0 {\n",
       "  overflow-wrap: break-word;\n",
       "  max-width: 800px;\n",
       "  text-align: left;\n",
       "}\n",
       "</style>\n",
       "<table id=\"T_b0628\">\n",
       "  <thead>\n",
       "    <tr>\n",
       "      <th class=\"blank level0\" >&nbsp;</th>\n",
       "      <th id=\"T_b0628_level0_col0\" class=\"col_heading level0 col0\" >answer</th>\n",
       "    </tr>\n",
       "  </thead>\n",
       "  <tbody>\n",
       "    <tr>\n",
       "      <th id=\"T_b0628_level0_row0\" class=\"row_heading level0 row0\" >0</th>\n",
       "      <td id=\"T_b0628_row0_col0\" class=\"data row0 col0\" >Absolutely nothing!</td>\n",
       "    </tr>\n",
       "  </tbody>\n",
       "</table>\n"
      ],
      "text/plain": [
       "<pandas.io.formats.style.Styler>"
      ]
     },
     "metadata": {},
     "output_type": "display_data"
    }
   ],
   "source": [
    "%%spannerlog\n",
    "\n",
    "model = 'gpt-3.5-turbo'\n",
    "prompt = \"user: sing it with me, love, what is it good for?\"\n",
    "\n",
    "TestLLM(answer)<-\\\n",
    "    llm($model,$prompt)->(answer)\n",
    "\n",
    "?TestLLM(answer)\n"
   ]
  },
  {
   "cell_type": "markdown",
   "metadata": {},
   "source": [
    "### Example data"
   ]
  },
  {
   "cell_type": "markdown",
   "metadata": {},
   "source": [
    "\n",
    "We will model our data as follows:"
   ]
  },
  {
   "cell_type": "code",
   "execution_count": null,
   "metadata": {},
   "outputs": [],
   "source": [
    "\n",
    "# a binary relation that stores how the user prefers the formatted\n",
    "user_answer_prefernce = pd.DataFrame([\n",
    "    ('Bob', 'please answer in prose. Make sure you add references in the end like a bibliography.'),\n",
    "    ('Joe', 'Prose is hard for me to read quickly. Format the answer in bullet points.'),\n",
    "    ('Sally', 'Try to avoid complicated jargon and use simple language.'),\n",
    "])\n",
    "\n",
    "# relation that stores per topic style\n",
    "topic_specific_style = pd.DataFrame([\n",
    "    ('history', 'please answer in a narrative form, use shakespearing language and lots of examples'),\n",
    "    ('science', 'Use mathematical notation and formulas to explain the concepts.'),\n",
    "    ('hiphop', 'introduce the answer with a rap verse.'),\n",
    "    ('other', 'Be polite and neutral in your answer. Avoid controversial topics.'),\n",
    "])\n",
    "\n",
    "sess.import_rel('UserAnswerPreference', user_answer_prefernce)\n",
    "sess.import_rel('TopicSpecificStyle', topic_specific_style)"
   ]
  },
  {
   "cell_type": "markdown",
   "metadata": {},
   "source": [
    "### Buliding the agent logic in spannerlog"
   ]
  },
  {
   "cell_type": "markdown",
   "metadata": {},
   "source": [
    "Now we will build our pipeline as follows:\n",
    "* We will make an llm call to help us decide the topic of the question\n",
    "* Based on the topic and the user, we will formulate the final prompt for the llm to answer.\n"
   ]
  },
  {
   "cell_type": "code",
   "execution_count": null,
   "metadata": {},
   "outputs": [
    {
     "data": {
      "text/html": [
       "<div>\n",
       "<style scoped>\n",
       "    .dataframe tbody tr th:only-of-type {\n",
       "        vertical-align: middle;\n",
       "    }\n",
       "\n",
       "    .dataframe tbody tr th {\n",
       "        vertical-align: top;\n",
       "    }\n",
       "\n",
       "    .dataframe thead th {\n",
       "        text-align: right;\n",
       "    }\n",
       "</style>\n",
       "<table border=\"1\" class=\"dataframe\">\n",
       "  <thead>\n",
       "    <tr style=\"text-align: right;\">\n",
       "      <th></th>\n",
       "      <th>0</th>\n",
       "      <th>1</th>\n",
       "    </tr>\n",
       "  </thead>\n",
       "  <tbody>\n",
       "    <tr>\n",
       "      <th>0</th>\n",
       "      <td>topic_selection</td>\n",
       "      <td>system: Please select a topic from the follow...</td>\n",
       "    </tr>\n",
       "    <tr>\n",
       "      <th>1</th>\n",
       "      <td>custom_style_prompt</td>\n",
       "      <td>system: Answer the question of the user in th...</td>\n",
       "    </tr>\n",
       "  </tbody>\n",
       "</table>\n",
       "</div>"
      ],
      "text/plain": [
       "                     0                                                  1\n",
       "0      topic_selection  \n",
       "system: Please select a topic from the follow...\n",
       "1  custom_style_prompt  \n",
       "system: Answer the question of the user in th..."
      ]
     },
     "execution_count": null,
     "metadata": {},
     "output_type": "execute_result"
    }
   ],
   "source": [
    "prompts = pd.DataFrame([\n",
    "    ('topic_selection',\n",
    "\"\"\"\n",
    "system: Please select a topic from the following list: [history, science, hiphop, other]\n",
    "based on the question provided by the user. You are only allwed to say the topic name, nothing else.\n",
    "\n",
    "user: {}\n",
    "\"\"\"),\n",
    "    ('custom_style_prompt',\n",
    "\"\"\"\n",
    "system: Answer the question of the user in the following style:\n",
    "\n",
    "topic specific style instructions: {}\n",
    "\n",
    "user specific style instructions: {}\n",
    "\n",
    "user: {}\n",
    "\"\"\"\n",
    ")\n",
    "])\n",
    "sess.import_rel('Prompts', prompts)\n",
    "prompts"
   ]
  },
  {
   "cell_type": "code",
   "execution_count": null,
   "metadata": {},
   "outputs": [
    {
     "data": {
      "text/plain": [
       "'?Prompts(prompt_id,prompt)'"
      ]
     },
     "metadata": {},
     "output_type": "display_data"
    },
    {
     "data": {
      "text/html": [
       "<style type=\"text/css\">\n",
       "#T_2e79e_row0_col0, #T_2e79e_row0_col1, #T_2e79e_row1_col0, #T_2e79e_row1_col1 {\n",
       "  overflow-wrap: break-word;\n",
       "  max-width: 800px;\n",
       "  text-align: left;\n",
       "}\n",
       "</style>\n",
       "<table id=\"T_2e79e\">\n",
       "  <thead>\n",
       "    <tr>\n",
       "      <th class=\"blank level0\" >&nbsp;</th>\n",
       "      <th id=\"T_2e79e_level0_col0\" class=\"col_heading level0 col0\" >prompt_id</th>\n",
       "      <th id=\"T_2e79e_level0_col1\" class=\"col_heading level0 col1\" >prompt</th>\n",
       "    </tr>\n",
       "  </thead>\n",
       "  <tbody>\n",
       "    <tr>\n",
       "      <th id=\"T_2e79e_level0_row0\" class=\"row_heading level0 row0\" >0</th>\n",
       "      <td id=\"T_2e79e_row0_col0\" class=\"data row0 col0\" >custom_style_prompt</td>\n",
       "      <td id=\"T_2e79e_row0_col1\" class=\"data row0 col1\" >\n",
       "system: Answer the question of the user in the following style:\n",
       "\n",
       "topic specific style instructions: {}\n",
       "\n",
       "user specific style instructions: {}\n",
       "\n",
       "user: {}\n",
       "</td>\n",
       "    </tr>\n",
       "    <tr>\n",
       "      <th id=\"T_2e79e_level0_row1\" class=\"row_heading level0 row1\" >1</th>\n",
       "      <td id=\"T_2e79e_row1_col0\" class=\"data row1 col0\" >topic_selection</td>\n",
       "      <td id=\"T_2e79e_row1_col1\" class=\"data row1 col1\" >\n",
       "system: Please select a topic from the following list: [history, science, hiphop, other]\n",
       "based on the question provided by the user. You are only allwed to say the topic name, nothing else.\n",
       "\n",
       "user: {}\n",
       "</td>\n",
       "    </tr>\n",
       "  </tbody>\n",
       "</table>\n"
      ],
      "text/plain": [
       "<pandas.io.formats.style.Styler>"
      ]
     },
     "metadata": {},
     "output_type": "display_data"
    }
   ],
   "source": [
    "%%spannerlog\n",
    "?Prompts(prompt_id,prompt)"
   ]
  },
  {
   "cell_type": "markdown",
   "metadata": {},
   "source": [
    "Now given a relation of user and question"
   ]
  },
  {
   "cell_type": "code",
   "execution_count": null,
   "metadata": {},
   "outputs": [],
   "source": [
    "questions= pd.DataFrame([\n",
    "    ('Bob', 'Who won the civil war?'),\n",
    "    ('Joe', 'Who won the civil war?'),\n",
    "    ('Sally', 'Who won the civil war?'),\n",
    "    ('Bob', 'How do we measure the distance between stars?'),\n",
    "    ('Joe', 'How do we measure the distance between stars?'),\n",
    "    ('Sally', 'How do we measure the distance between stars?'),\n",
    "    ('Bob', 'Who are the most well known rappers?'),\n",
    "    ('Joe', 'Who are the most well known rappers?'),\n",
    "    ('Sally', 'Who are the most well known rappers?'),\n",
    "])\n",
    "sess.import_rel('Questions', questions)"
   ]
  },
  {
   "cell_type": "markdown",
   "metadata": {},
   "source": [
    "Now lets combine all of this into a pipeline.\n"
   ]
  },
  {
   "cell_type": "code",
   "execution_count": null,
   "metadata": {},
   "outputs": [
    {
     "data": {
      "text/plain": [
       "'?TopicPrompt(q,p)'"
      ]
     },
     "metadata": {},
     "output_type": "display_data"
    },
    {
     "data": {
      "text/html": [
       "<style type=\"text/css\">\n",
       "#T_25ede_row0_col0, #T_25ede_row0_col1, #T_25ede_row1_col0, #T_25ede_row1_col1, #T_25ede_row2_col0, #T_25ede_row2_col1 {\n",
       "  overflow-wrap: break-word;\n",
       "  max-width: 800px;\n",
       "  text-align: left;\n",
       "}\n",
       "</style>\n",
       "<table id=\"T_25ede\">\n",
       "  <thead>\n",
       "    <tr>\n",
       "      <th class=\"blank level0\" >&nbsp;</th>\n",
       "      <th id=\"T_25ede_level0_col0\" class=\"col_heading level0 col0\" >q</th>\n",
       "      <th id=\"T_25ede_level0_col1\" class=\"col_heading level0 col1\" >p</th>\n",
       "    </tr>\n",
       "  </thead>\n",
       "  <tbody>\n",
       "    <tr>\n",
       "      <th id=\"T_25ede_level0_row0\" class=\"row_heading level0 row0\" >0</th>\n",
       "      <td id=\"T_25ede_row0_col0\" class=\"data row0 col0\" >How do we measure the distance between stars?</td>\n",
       "      <td id=\"T_25ede_row0_col1\" class=\"data row0 col1\" >\n",
       "system: Please select a topic from the following list: [history, science, hiphop, other]\n",
       "based on the question provided by the user. You are only allwed to say the topic name, nothing else.\n",
       "\n",
       "user: How do we measure the distance between stars?\n",
       "</td>\n",
       "    </tr>\n",
       "    <tr>\n",
       "      <th id=\"T_25ede_level0_row1\" class=\"row_heading level0 row1\" >1</th>\n",
       "      <td id=\"T_25ede_row1_col0\" class=\"data row1 col0\" >Who are the most well known rappers?</td>\n",
       "      <td id=\"T_25ede_row1_col1\" class=\"data row1 col1\" >\n",
       "system: Please select a topic from the following list: [history, science, hiphop, other]\n",
       "based on the question provided by the user. You are only allwed to say the topic name, nothing else.\n",
       "\n",
       "user: Who are the most well known rappers?\n",
       "</td>\n",
       "    </tr>\n",
       "    <tr>\n",
       "      <th id=\"T_25ede_level0_row2\" class=\"row_heading level0 row2\" >2</th>\n",
       "      <td id=\"T_25ede_row2_col0\" class=\"data row2 col0\" >Who won the civil war?</td>\n",
       "      <td id=\"T_25ede_row2_col1\" class=\"data row2 col1\" >\n",
       "system: Please select a topic from the following list: [history, science, hiphop, other]\n",
       "based on the question provided by the user. You are only allwed to say the topic name, nothing else.\n",
       "\n",
       "user: Who won the civil war?\n",
       "</td>\n",
       "    </tr>\n",
       "  </tbody>\n",
       "</table>\n"
      ],
      "text/plain": [
       "<pandas.io.formats.style.Styler>"
      ]
     },
     "metadata": {},
     "output_type": "display_data"
    },
    {
     "data": {
      "text/plain": [
       "'?TopicSelection(q,t)'"
      ]
     },
     "metadata": {},
     "output_type": "display_data"
    },
    {
     "data": {
      "text/html": [
       "<style type=\"text/css\">\n",
       "#T_fbed8_row0_col0, #T_fbed8_row0_col1, #T_fbed8_row1_col0, #T_fbed8_row1_col1, #T_fbed8_row2_col0, #T_fbed8_row2_col1 {\n",
       "  overflow-wrap: break-word;\n",
       "  max-width: 800px;\n",
       "  text-align: left;\n",
       "}\n",
       "</style>\n",
       "<table id=\"T_fbed8\">\n",
       "  <thead>\n",
       "    <tr>\n",
       "      <th class=\"blank level0\" >&nbsp;</th>\n",
       "      <th id=\"T_fbed8_level0_col0\" class=\"col_heading level0 col0\" >q</th>\n",
       "      <th id=\"T_fbed8_level0_col1\" class=\"col_heading level0 col1\" >t</th>\n",
       "    </tr>\n",
       "  </thead>\n",
       "  <tbody>\n",
       "    <tr>\n",
       "      <th id=\"T_fbed8_level0_row0\" class=\"row_heading level0 row0\" >0</th>\n",
       "      <td id=\"T_fbed8_row0_col0\" class=\"data row0 col0\" >How do we measure the distance between stars?</td>\n",
       "      <td id=\"T_fbed8_row0_col1\" class=\"data row0 col1\" >science</td>\n",
       "    </tr>\n",
       "    <tr>\n",
       "      <th id=\"T_fbed8_level0_row1\" class=\"row_heading level0 row1\" >1</th>\n",
       "      <td id=\"T_fbed8_row1_col0\" class=\"data row1 col0\" >Who are the most well known rappers?</td>\n",
       "      <td id=\"T_fbed8_row1_col1\" class=\"data row1 col1\" >hiphop</td>\n",
       "    </tr>\n",
       "    <tr>\n",
       "      <th id=\"T_fbed8_level0_row2\" class=\"row_heading level0 row2\" >2</th>\n",
       "      <td id=\"T_fbed8_row2_col0\" class=\"data row2 col0\" >Who won the civil war?</td>\n",
       "      <td id=\"T_fbed8_row2_col1\" class=\"data row2 col1\" >history</td>\n",
       "    </tr>\n",
       "  </tbody>\n",
       "</table>\n"
      ],
      "text/plain": [
       "<pandas.io.formats.style.Styler>"
      ]
     },
     "metadata": {},
     "output_type": "display_data"
    }
   ],
   "source": [
    "%%spannerlog\n",
    "model = 'gpt-3.5-turbo'\n",
    "\n",
    "TopicPrompt(q,p)<-\\\n",
    "    Questions(user,q),\\\n",
    "    Prompts('topic_selection',template),\\\n",
    "    format(template,q)->(p)\n",
    "    \n",
    "?TopicPrompt(q,p)\n",
    "\n",
    "TopicSelection(q,t)<-\\\n",
    "    TopicPrompt(q,p),\\\n",
    "    llm($model,p)->(t)\n",
    "\n",
    "?TopicSelection(q,t)\n",
    "StylePrompt(q,p,topic,user)<-\\\n",
    "    Questions(user,q),\\\n",
    "    TopicSelection(q,topic),\\\n",
    "    UserAnswerPreference(user,user_style),\\\n",
    "    TopicSpecificStyle(topic,topic_style),\\\n",
    "    Prompts('custom_style_prompt',prompt_template),\\\n",
    "    format(prompt_template,topic_style,user_style,q)->(p)\n",
    "\n",
    "\n",
    "Style_Based_QA(question,topic,user,prompt,answer)<-\\\n",
    "    StylePrompt(question,prompt,topic,user),\\\n",
    "    llm($model,prompt)->(answer)\n",
    "\n"
   ]
  },
  {
   "cell_type": "markdown",
   "metadata": {},
   "source": [
    "### Executing our agent and returning the results to python"
   ]
  },
  {
   "cell_type": "code",
   "execution_count": null,
   "metadata": {},
   "outputs": [
    {
     "data": {
      "text/html": [
       "<div>\n",
       "<style scoped>\n",
       "    .dataframe tbody tr th:only-of-type {\n",
       "        vertical-align: middle;\n",
       "    }\n",
       "\n",
       "    .dataframe tbody tr th {\n",
       "        vertical-align: top;\n",
       "    }\n",
       "\n",
       "    .dataframe thead th {\n",
       "        text-align: right;\n",
       "    }\n",
       "</style>\n",
       "<table border=\"1\" class=\"dataframe\">\n",
       "  <thead>\n",
       "    <tr style=\"text-align: right;\">\n",
       "      <th></th>\n",
       "      <th>question</th>\n",
       "      <th>topic</th>\n",
       "      <th>user</th>\n",
       "      <th>prompt</th>\n",
       "      <th>answer</th>\n",
       "    </tr>\n",
       "  </thead>\n",
       "  <tbody>\n",
       "    <tr>\n",
       "      <th>0</th>\n",
       "      <td>How do we measure the distance between stars?</td>\n",
       "      <td>science</td>\n",
       "      <td>Bob</td>\n",
       "      <td>system: Answer the question of the user in th...</td>\n",
       "      <td>The distance between stars is measured in astr...</td>\n",
       "    </tr>\n",
       "    <tr>\n",
       "      <th>1</th>\n",
       "      <td>How do we measure the distance between stars?</td>\n",
       "      <td>science</td>\n",
       "      <td>Joe</td>\n",
       "      <td>system: Answer the question of the user in th...</td>\n",
       "      <td>- To measure the distance between stars, astro...</td>\n",
       "    </tr>\n",
       "    <tr>\n",
       "      <th>2</th>\n",
       "      <td>How do we measure the distance between stars?</td>\n",
       "      <td>science</td>\n",
       "      <td>Sally</td>\n",
       "      <td>system: Answer the question of the user in th...</td>\n",
       "      <td>One common method to measure the distance betw...</td>\n",
       "    </tr>\n",
       "    <tr>\n",
       "      <th>3</th>\n",
       "      <td>Who are the most well known rappers?</td>\n",
       "      <td>hiphop</td>\n",
       "      <td>Bob</td>\n",
       "      <td>system: Answer the question of the user in th...</td>\n",
       "      <td>Straight outta Compton, a city so gritty,\n",
       "Let ...</td>\n",
       "    </tr>\n",
       "    <tr>\n",
       "      <th>4</th>\n",
       "      <td>Who are the most well known rappers?</td>\n",
       "      <td>hiphop</td>\n",
       "      <td>Joe</td>\n",
       "      <td>system: Answer the question of the user in th...</td>\n",
       "      <td>Yo, when it comes to rappers, there's a whole ...</td>\n",
       "    </tr>\n",
       "    <tr>\n",
       "      <th>5</th>\n",
       "      <td>Who are the most well known rappers?</td>\n",
       "      <td>hiphop</td>\n",
       "      <td>Sally</td>\n",
       "      <td>system: Answer the question of the user in th...</td>\n",
       "      <td>Yo, when it comes to rappers, there's a whole ...</td>\n",
       "    </tr>\n",
       "    <tr>\n",
       "      <th>6</th>\n",
       "      <td>Who won the civil war?</td>\n",
       "      <td>history</td>\n",
       "      <td>Bob</td>\n",
       "      <td>system: Answer the question of the user in th...</td>\n",
       "      <td>In sooth, fair user, the question of the victo...</td>\n",
       "    </tr>\n",
       "    <tr>\n",
       "      <th>7</th>\n",
       "      <td>Who won the civil war?</td>\n",
       "      <td>history</td>\n",
       "      <td>Joe</td>\n",
       "      <td>system: Answer the question of the user in th...</td>\n",
       "      <td>- The Civil War, dear user, was a bloody confl...</td>\n",
       "    </tr>\n",
       "    <tr>\n",
       "      <th>8</th>\n",
       "      <td>Who won the civil war?</td>\n",
       "      <td>history</td>\n",
       "      <td>Sally</td>\n",
       "      <td>system: Answer the question of the user in th...</td>\n",
       "      <td>In sooth, good sir, the Civil War didst end wi...</td>\n",
       "    </tr>\n",
       "  </tbody>\n",
       "</table>\n",
       "</div>"
      ],
      "text/plain": [
       "                                        question    topic   user  \\\n",
       "0  How do we measure the distance between stars?  science    Bob   \n",
       "1  How do we measure the distance between stars?  science    Joe   \n",
       "2  How do we measure the distance between stars?  science  Sally   \n",
       "3           Who are the most well known rappers?   hiphop    Bob   \n",
       "4           Who are the most well known rappers?   hiphop    Joe   \n",
       "5           Who are the most well known rappers?   hiphop  Sally   \n",
       "6                         Who won the civil war?  history    Bob   \n",
       "7                         Who won the civil war?  history    Joe   \n",
       "8                         Who won the civil war?  history  Sally   \n",
       "\n",
       "                                              prompt  \\\n",
       "0  \n",
       "system: Answer the question of the user in th...   \n",
       "1  \n",
       "system: Answer the question of the user in th...   \n",
       "2  \n",
       "system: Answer the question of the user in th...   \n",
       "3  \n",
       "system: Answer the question of the user in th...   \n",
       "4  \n",
       "system: Answer the question of the user in th...   \n",
       "5  \n",
       "system: Answer the question of the user in th...   \n",
       "6  \n",
       "system: Answer the question of the user in th...   \n",
       "7  \n",
       "system: Answer the question of the user in th...   \n",
       "8  \n",
       "system: Answer the question of the user in th...   \n",
       "\n",
       "                                              answer  \n",
       "0  The distance between stars is measured in astr...  \n",
       "1  - To measure the distance between stars, astro...  \n",
       "2  One common method to measure the distance betw...  \n",
       "3  Straight outta Compton, a city so gritty,\n",
       "Let ...  \n",
       "4  Yo, when it comes to rappers, there's a whole ...  \n",
       "5  Yo, when it comes to rappers, there's a whole ...  \n",
       "6  In sooth, fair user, the question of the victo...  \n",
       "7  - The Civil War, dear user, was a bloody confl...  \n",
       "8  In sooth, good sir, the Civil War didst end wi...  "
      ]
     },
     "execution_count": null,
     "metadata": {},
     "output_type": "execute_result"
    }
   ],
   "source": [
    "completions = sess.export('?Style_Based_QA(question,topic,user,prompt,answer)')\n",
    "completions"
   ]
  },
  {
   "cell_type": "markdown",
   "metadata": {},
   "source": [
    "And as you can see, we have our agent running."
   ]
  },
  {
   "cell_type": "code",
   "execution_count": null,
   "metadata": {},
   "outputs": [
    {
     "name": "stdout",
     "output_type": "stream",
     "text": [
      "Bob: How do we measure the distance between stars?\n",
      "assistant: The distance between stars is measured in astronomical units called parsecs (pc) or light-years (ly). One parsec is equal to 3.26 light-years. To measure the distance to a nearby star, astronomers often use the method of parallax.\n",
      "\n",
      "Parallax is the apparent shift of an object against a background when viewed from different positions. In the case of measuring stellar distances, astronomers observe a star from two different points along Earth's orbit around the Sun, which is about 93 million miles apart. By measuring the angle of the star's apparent shift against the background of more distant stars, astronomers can calculate the distance to that star using trigonometry.\n",
      "\n",
      "The formula used to calculate the distance to a star using parallax is:\n",
      "\n",
      "Distance (in parsecs) = 1 / parallax angle (in arcseconds)\n",
      "\n",
      "Where the parallax angle is the angle subtended by Earth's orbit as seen from the star (measured in arcseconds). The smaller the parallax angle, the greater the distance to the star.\n",
      "\n",
      "For stars beyond our closest neighbors, other methods such as spectral luminosity and standard candles are used to estimate distances. Spectral luminosity compares the observed brightness of a star with its known absolute brightness to infer the distance. Standard candles, such as Cepheid variables or supernovae, are stars with known luminosities that can be used to calibrate distance measurements in astronomy.\n",
      "\n",
      "These methods, along with advancements in technology like space telescopes and interferometry, have allowed astronomers to accurately measure distances to stars and map the structure of our galaxy and beyond.\n",
      "\n",
      "References:\n",
      "1. Carroll, Bradley W., and Dale A. Ostlie. \"An Introduction to Modern Astrophysics.\" Pearson, 2017.\n",
      "2. Ryden, Barbara. \"Introduction to Cosmology.\" Cambridge University Press, 2017.\n",
      "\n",
      "\n",
      "================================================================================\n",
      "Joe: How do we measure the distance between stars?\n",
      "assistant: - To measure the distance between stars, astronomers use a method called parallax, which is based on trigonometry.\n",
      "- Parallax involves observing a star from two different points in Earth's orbit and measuring the angle, known as the parallax angle, that the star appears to move.\n",
      "- The distance to the star can be calculated using the formula: distance (in parsecs) = 1 / parallax angle (in arcseconds).\n",
      "- One parsec is equivalent to 3.26 light-years.\n",
      "\n",
      "\n",
      "================================================================================\n",
      "Sally: How do we measure the distance between stars?\n",
      "assistant: One common method to measure the distance between stars is through parallax. Parallax is the apparent shift in position of an object when viewed from two different points. \n",
      "\n",
      "The parallax angle, denoted by p, is the angle formed between a line from the observer to the nearer star and a line from the observer to the farther star. The parallax angle is inversely proportional to the distance to the star, d, as shown in the formula:\n",
      "\n",
      "d = 1/p\n",
      "\n",
      "By measuring the parallax angle of a star from different points in Earth's orbit around the Sun (about 6 months apart), astronomers can calculate the distance to the star using parallax formula. This method is effective for stars within a few hundred light-years of Earth.\n",
      "\n",
      "\n",
      "================================================================================\n",
      "Bob: Who are the most well known rappers?\n",
      "assistant: Straight outta Compton, a city so gritty,\n",
      "Let me introduce thee to the rap elite committee.\n",
      "Eminem, with his lyrical finesse,\n",
      "Jay-Z, the blueprint of success.\n",
      "Kendrick Lamar, with his conscious words,\n",
      "And Nicki Minaj, who always stirs.\n",
      "Drake, with hits that never tire,\n",
      "And Tupac, whose legacy will never expire.\n",
      "\n",
      "Some other well-known rappers include Nas, Kanye West, Lil Wayne, Notorious B.I.G., Snoop Dogg, and Missy Elliott.\n",
      "\n",
      "References:\n",
      "- \"50 Greatest Rappers of All Time\" by Rolling Stone\n",
      "- \"100 Greatest Hip-Hop Songs of All Time\" by Rolling Stone\n",
      "\n",
      "\n",
      "================================================================================\n",
      "Joe: Who are the most well known rappers?\n",
      "assistant: Yo, when it comes to rappers, there's a whole crew,  \n",
      "So let me break it down for you, on who's who:  \n",
      "\n",
      "- Tupac Shakur, legend of the game and a true rhyme slayer  \n",
      "- Notorious B.I.G., with flow so smooth, he's a true player  \n",
      "- Eminem, with his rapid-fire words and lyrical finesse  \n",
      "- Jay-Z, the businessman with bars that impress  \n",
      "- Kanye West, known for his controversial ways  \n",
      "- Kendrick Lamar, spitting truth in every phrase  \n",
      "- Nicki Minaj, queen of the female MCs  \n",
      "- Lil Wayne, with his unique sound that's sure to please  \n",
      "- Drake, topping charts with hits after hits  \n",
      "- Snoop Dogg, staying cool with his laid-back wit  \n",
      "\n",
      "So there you have it, some of the most well-known rappers in the industry,  \n",
      "Each with their own style and legacy for all to see.\n",
      "\n",
      "\n",
      "================================================================================\n",
      "Sally: Who are the most well known rappers?\n",
      "assistant: Yo, when it comes to rappers, there's a whole lot in the game,\n",
      "From OGs like Tupac and Biggie, to new stars on their rise to fame.\n",
      "Eminem's known for his lyrical prowess and flow,\n",
      "While Jay-Z's the blueprint for success, yo.\n",
      "\n",
      "Drake stays topping charts with his catchy hooks,\n",
      "And Kendrick Lamar's powerful rhymes earn him critical looks.\n",
      "Cardi B, Nicki Minaj, and Megan Thee Stallion slay,\n",
      "Each carving their own path in their own unique way.\n",
      "\n",
      "So if you ask who's well-known in the rap scene,\n",
      "These names be the ones that you've likely seen.\n",
      "\n",
      "\n",
      "================================================================================\n",
      "Bob: Who won the civil war?\n",
      "assistant: In sooth, fair user, the question of the victor of the civil war doth require a careful examination of history's pages. The great conflict betwixt the Royalists, who did favor the King, and the Parliamentarians, who did champion the cause of the people's rights, did culminate in a most fierce and bloody clash that raged across our fair land. \n",
      "\n",
      "Verily, after many a battle and much strife, the Parliamentarians did emerge victorious under the command of the noble Oliver Cromwell. 'Twas with great courage and valour that they did prevail, their New Model Army proving to be a formidable force against the Royalist forces. The battle of Naseby, where the Royalist army was decisively defeated, did mark a turning point in the conflict.\n",
      "\n",
      "With the capture of the King, Charles I, and his subsequent trial and execution, the Parliamentarians did solidify their power and bring the civil war to a bloody end. The establishment of the Commonwealth under Cromwell did mark a new era in our nation's history, one where the power of the monarchy was greatly diminished and the authority of Parliament was greatly enhanced.\n",
      "\n",
      "Thus, fair user, it was the Parliamentarians who emerged triumphant in the civil war, their cause of liberty and justice prevailing over the forces of tyranny and oppression. Let us remember this dark chapter in our history, and strive to learn from its lessons as we seek to build a better future for all.\n",
      "\n",
      "References:\n",
      "- The English Civil War: A People's History by Diane Purkiss\n",
      "- The English Civil Wars 1642-1651 by Blair Worden\n",
      "\n",
      "\n",
      "================================================================================\n",
      "Joe: Who won the civil war?\n",
      "assistant: - The Civil War, dear user, was a bloody conflict\n",
      "- In this great struggle, Armies clashed and did afflict\n",
      "- 'Twas the North against the South, a divided land indeed\n",
      "- Brother fought against brother, a sad tale indeed\n",
      "\n",
      "- The Union, led by President Abraham Lincoln, did fight\n",
      "- To preserve the Union, to keep the states united and right\n",
      "- With their blue coats and their steadfast resolve\n",
      "- They battled valiantly, their courage they did solve\n",
      "\n",
      "- But the Confederacy, led by General Robert E. Lee\n",
      "- Fought fiercely for their cause, for their independence free\n",
      "- With their gray uniforms and their Confederate flag\n",
      "- They fought with honor, their spirits never did sag\n",
      "\n",
      "- In the end, after four long years of strife\n",
      "- The Union emerged victorious in the battle of life\n",
      "- The Confederacy surrendered, their cause was lost\n",
      "- The Union's triumph came at a great cost\n",
      "\n",
      "- So in answer to your question, dear user of mine\n",
      "- The Union won the Civil War, in history it will shine\n",
      "- But let us not forget the lives lost and the pain\n",
      "- Of that tragic conflict, never to happen again.\n",
      "\n",
      "\n",
      "================================================================================\n",
      "Sally: Who won the civil war?\n",
      "assistant: In sooth, good sir, the Civil War didst end with the victory of the Union forces led by General Ulysses S. Grant over the Confederate troops under General Robert E. Lee. Verily, after many a fierce battle and much bloodshed, the Union did emerge triumphant o'er the Confederate armies.\n",
      "\n",
      "'Twas in the year of 1865, when General Lee did yield his sword to General Grant at Appomattox Court House, marking the official end of the war. The Union's cause to preserve the United States and abolish slavery did prevail o'er the Confederacy's desire for secession and continued enslavement of Africans.\n",
      "\n",
      "Thus, the Union didst emerge victorious from the fiery crucible of war, ensuring the preservation of the United States as one nation, indivisible, under God. The triumph of the Union was a turning point in the history of our great nation, shaping the course of events for generations to come.\n",
      "\n",
      "\n",
      "================================================================================\n"
     ]
    }
   ],
   "source": [
    "for (question,topic,user,prompt,answer) in completions.itertuples(name=None, index=False):\n",
    "    print(f\"{user}: {question}\\nassistant: {answer}\\n\\n\")\n",
    "    print(\"=\"*80)"
   ]
  },
  {
   "cell_type": "code",
   "execution_count": null,
   "metadata": {},
   "outputs": [],
   "source": [
    "#|hide\n",
    "import nbdev; nbdev.nbdev_export()"
   ]
  },
  {
   "cell_type": "code",
   "execution_count": null,
   "metadata": {},
   "outputs": [
    {
     "name": "stdout",
     "output_type": "stream",
     "text": [
      "000_spannerlog_grammar.ipynb\n",
      "001_utils.ipynb\n",
      "005_spans_and_pandas.ipynb\n",
      "006_primitive_data_types.ipynb\n",
      "008_extended_RA_operations.ipynb\n",
      "009_term_graphs.ipynb\n",
      "010_engine.ipynb\n",
      "020_micro_passes.ipynb\n",
      "025_query_optimizations.ipynb\n",
      "030_session.ipynb\n",
      "040_magic_system.ipynb\n",
      "050_stdlib.ipynb\n",
      "building_your_optimization.ipynb\n",
      "extended_version.ipynb\n",
      "index.ipynb\n",
      "sample_question.ipynb\n"
     ]
    }
   ],
   "source": [
    "!ls ../ | grep ipynb\n"
   ]
  }
 ],
 "metadata": {
  "kernelspec": {
   "display_name": "python3",
   "language": "python",
   "name": "python3"
  }
 },
 "nbformat": 4,
 "nbformat_minor": 4
}
