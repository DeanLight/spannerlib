{
 "cells": [
  {
   "cell_type": "markdown",
   "metadata": {},
   "source": [
    "# Basic Tasks using spannerlib\n"
   ]
  },
  {
   "cell_type": "raw",
   "metadata": {},
   "source": [
    "---\n",
    "skip_exec: true\n",
    "---"
   ]
  },
  {
   "cell_type": "code",
   "execution_count": null,
   "metadata": {},
   "outputs": [],
   "source": [
    "#| hide\n",
    "from nbdev.showdoc import show_doc\n",
    "from IPython.display import display, HTML\n",
    "%load_ext autoreload\n",
    "%autoreload 2"
   ]
  },
  {
   "cell_type": "code",
   "execution_count": null,
   "metadata": {},
   "outputs": [],
   "source": [
    "# importing dependencies\n",
    "import re\n",
    "import pandas as pd\n",
    "from pandas import DataFrame\n",
    "from pathlib import Path\n",
    "from spannerlib import get_magic_session,Session,Span\n"
   ]
  },
  {
   "cell_type": "markdown",
   "metadata": {},
   "source": [
    "This tutorials aim to show how to use the spannerlib framework for simple use cases.\n",
    "To illustrate the simplicity of using spannerlib, all required IE functions will be implemented from scratch."
   ]
  },
  {
   "cell_type": "markdown",
   "metadata": {},
   "source": [
    "## Finding identical sentences in a corpus of documents"
   ]
  },
  {
   "cell_type": "markdown",
   "metadata": {},
   "source": [
    "Imagine we have a collection of documents, which have a document id (perhaps identified by a path on a file system),\n",
    "and a content. And imaging we would like to find identical sentences in different in these documents.\n",
    "\n",
    "Finding identical sentences is a toy example that can be extended to finding identical entity mentions etc..."
   ]
  },
  {
   "cell_type": "code",
   "execution_count": null,
   "metadata": {},
   "outputs": [
    {
     "data": {
      "text/html": [
       "<div>\n",
       "<style scoped>\n",
       "    .dataframe tbody tr th:only-of-type {\n",
       "        vertical-align: middle;\n",
       "    }\n",
       "\n",
       "    .dataframe tbody tr th {\n",
       "        vertical-align: top;\n",
       "    }\n",
       "\n",
       "    .dataframe thead th {\n",
       "        text-align: right;\n",
       "    }\n",
       "</style>\n",
       "<table border=\"1\" class=\"dataframe\">\n",
       "  <thead>\n",
       "    <tr style=\"text-align: right;\">\n",
       "      <th></th>\n",
       "      <th>0</th>\n",
       "      <th>1</th>\n",
       "    </tr>\n",
       "  </thead>\n",
       "  <tbody>\n",
       "    <tr>\n",
       "      <th>0</th>\n",
       "      <td>doc1</td>\n",
       "      <td>The quick brown fox jumps over the lazy dog. I...</td>\n",
       "    </tr>\n",
       "    <tr>\n",
       "      <th>1</th>\n",
       "      <td>doc2</td>\n",
       "      <td>Im walking on Sunshine. Lorem ipsum. Im walkin...</td>\n",
       "    </tr>\n",
       "    <tr>\n",
       "      <th>2</th>\n",
       "      <td>doc3</td>\n",
       "      <td>All you need is love. The quick brown fox jump...</td>\n",
       "    </tr>\n",
       "  </tbody>\n",
       "</table>\n",
       "</div>"
      ],
      "text/plain": [
       "      0                                                  1\n",
       "0  doc1  The quick brown fox jumps over the lazy dog. I...\n",
       "1  doc2  Im walking on Sunshine. Lorem ipsum. Im walkin...\n",
       "2  doc3  All you need is love. The quick brown fox jump..."
      ]
     },
     "execution_count": null,
     "metadata": {},
     "output_type": "execute_result"
    }
   ],
   "source": [
    "input_documents = pd.DataFrame([\n",
    "    ('doc1', 'The quick brown fox jumps over the lazy dog. Im walking on Sunshine.'),\n",
    "    ('doc2', 'Im walking on Sunshine. Lorem ipsum. Im walking on Sunshine.'),\n",
    "    ('doc3', 'All you need is love. The quick brown fox jumps over the lazy dog.'),\n",
    "])\n",
    "input_documents"
   ]
  },
  {
   "cell_type": "markdown",
   "metadata": {},
   "source": [
    "To do so, we would need 2 IE functions,\n",
    "* Ones that extract the Span of a sentence from a document, called `split`\n",
    "* The other which would let us know when sentences have identical content but are not actually the same sentence.\n",
    "  * this will require them to have the same content when ignoring whitespace\n",
    "  * but not be equal spans. Lets call this function `eq_content_spans`\n",
    "\n",
    "Lets implement them and register them to our session object. We will use the `Span` class to save indexed substrings.\n",
    "\n"
   ]
  },
  {
   "cell_type": "code",
   "execution_count": null,
   "metadata": {},
   "outputs": [
    {
     "data": {
      "text/plain": [
       "'Im walking on Sunshine.'"
      ]
     },
     "execution_count": null,
     "metadata": {},
     "output_type": "execute_result"
    }
   ],
   "source": [
    "' Im walking on Sunshine. '.strip()"
   ]
  },
  {
   "cell_type": "code",
   "execution_count": null,
   "metadata": {},
   "outputs": [
    {
     "name": "stdout",
     "output_type": "stream",
     "text": [
      "[[@3ba775,0,43) \"The quick ...\", [@3ba775,44,67) \" Im walkin...\"]\n"
     ]
    }
   ],
   "source": [
    "# this implementation is naive\n",
    "# the standard library has a rgx_split ie function that does this in a more efficient way\n",
    "def split(text):\n",
    "    split_indices = [ pos for pos,char in enumerate(text) if char == '.' ]\n",
    "    start = 0\n",
    "    for pos,char in enumerate(text):\n",
    "        if char == '.':\n",
    "            yield Span(text, start, pos)\n",
    "            start = pos+1\n",
    "\n",
    "print(list(split('The quick brown fox jumps over the lazy dog. Im walking on Sunshine.')))\n",
    "\n",
    "def eq_content_spans(span1, span2):\n",
    "    # notice that we are yielding a boolean value\n",
    "    yield span1 != span2 and str(span1).strip() == str(span2).strip()\n",
    "\n",
    "# we register the functions and their input and output schema\n",
    "sess = get_magic_session()\n",
    "sess.register('split', split, [str],[Span])\n",
    "sess.register('eq_content_spans', eq_content_spans,[Span,Span],[bool])\n"
   ]
  },
  {
   "cell_type": "markdown",
   "metadata": {},
   "source": [
    "Now let us import our data"
   ]
  },
  {
   "cell_type": "code",
   "execution_count": null,
   "metadata": {},
   "outputs": [],
   "source": [
    "sess.import_rel('Docs', input_documents)"
   ]
  },
  {
   "cell_type": "markdown",
   "metadata": {},
   "source": [
    "Lets make sure we can see our data in using Spannerlog"
   ]
  },
  {
   "cell_type": "code",
   "execution_count": null,
   "metadata": {},
   "outputs": [
    {
     "data": {
      "text/plain": [
       "'?Docs(doc_id,text)'"
      ]
     },
     "metadata": {},
     "output_type": "display_data"
    },
    {
     "data": {
      "text/html": [
       "<style type=\"text/css\">\n",
       "#T_c44ab_row0_col0, #T_c44ab_row0_col1, #T_c44ab_row1_col0, #T_c44ab_row1_col1, #T_c44ab_row2_col0, #T_c44ab_row2_col1 {\n",
       "  overflow-wrap: break-word;\n",
       "  max-width: 800px;\n",
       "  text-align: left;\n",
       "}\n",
       "</style>\n",
       "<table id=\"T_c44ab\">\n",
       "  <thead>\n",
       "    <tr>\n",
       "      <th class=\"blank level0\" >&nbsp;</th>\n",
       "      <th id=\"T_c44ab_level0_col0\" class=\"col_heading level0 col0\" >doc_id</th>\n",
       "      <th id=\"T_c44ab_level0_col1\" class=\"col_heading level0 col1\" >text</th>\n",
       "    </tr>\n",
       "  </thead>\n",
       "  <tbody>\n",
       "    <tr>\n",
       "      <th id=\"T_c44ab_level0_row0\" class=\"row_heading level0 row0\" >0</th>\n",
       "      <td id=\"T_c44ab_row0_col0\" class=\"data row0 col0\" >doc1</td>\n",
       "      <td id=\"T_c44ab_row0_col1\" class=\"data row0 col1\" >The quick brown fox jumps over the lazy dog. Im walking on Sunshine.</td>\n",
       "    </tr>\n",
       "    <tr>\n",
       "      <th id=\"T_c44ab_level0_row1\" class=\"row_heading level0 row1\" >1</th>\n",
       "      <td id=\"T_c44ab_row1_col0\" class=\"data row1 col0\" >doc2</td>\n",
       "      <td id=\"T_c44ab_row1_col1\" class=\"data row1 col1\" >Im walking on Sunshine. Lorem ipsum. Im walking on Sunshine.</td>\n",
       "    </tr>\n",
       "    <tr>\n",
       "      <th id=\"T_c44ab_level0_row2\" class=\"row_heading level0 row2\" >2</th>\n",
       "      <td id=\"T_c44ab_row2_col0\" class=\"data row2 col0\" >doc3</td>\n",
       "      <td id=\"T_c44ab_row2_col1\" class=\"data row2 col1\" >All you need is love. The quick brown fox jumps over the lazy dog.</td>\n",
       "    </tr>\n",
       "  </tbody>\n",
       "</table>\n"
      ],
      "text/plain": [
       "<pandas.io.formats.style.Styler>"
      ]
     },
     "metadata": {},
     "output_type": "display_data"
    }
   ],
   "source": [
    "%%spannerlog\n",
    "?Docs(doc_id,text)"
   ]
  },
  {
   "cell_type": "markdown",
   "metadata": {},
   "source": [
    "Now let us build rules that allow us to find identical sentences:"
   ]
  },
  {
   "cell_type": "code",
   "execution_count": null,
   "metadata": {},
   "outputs": [
    {
     "data": {
      "text/plain": [
       "'?Sents(doc_id,sent)'"
      ]
     },
     "metadata": {},
     "output_type": "display_data"
    },
    {
     "data": {
      "text/html": [
       "<style type=\"text/css\">\n",
       "#T_f647a_row0_col0, #T_f647a_row0_col1, #T_f647a_row1_col0, #T_f647a_row1_col1, #T_f647a_row2_col0, #T_f647a_row2_col1, #T_f647a_row3_col0, #T_f647a_row3_col1, #T_f647a_row4_col0, #T_f647a_row4_col1, #T_f647a_row5_col0, #T_f647a_row5_col1, #T_f647a_row6_col0, #T_f647a_row6_col1 {\n",
       "  overflow-wrap: break-word;\n",
       "  max-width: 800px;\n",
       "  text-align: left;\n",
       "}\n",
       "</style>\n",
       "<table id=\"T_f647a\">\n",
       "  <thead>\n",
       "    <tr>\n",
       "      <th class=\"blank level0\" >&nbsp;</th>\n",
       "      <th id=\"T_f647a_level0_col0\" class=\"col_heading level0 col0\" >doc_id</th>\n",
       "      <th id=\"T_f647a_level0_col1\" class=\"col_heading level0 col1\" >sent</th>\n",
       "    </tr>\n",
       "  </thead>\n",
       "  <tbody>\n",
       "    <tr>\n",
       "      <th id=\"T_f647a_level0_row0\" class=\"row_heading level0 row0\" >0</th>\n",
       "      <td id=\"T_f647a_row0_col0\" class=\"data row0 col0\" >doc1</td>\n",
       "      <td id=\"T_f647a_row0_col1\" class=\"data row0 col1\" >[@3ba775,0,43) \"The quick ...\"</td>\n",
       "    </tr>\n",
       "    <tr>\n",
       "      <th id=\"T_f647a_level0_row1\" class=\"row_heading level0 row1\" >1</th>\n",
       "      <td id=\"T_f647a_row1_col0\" class=\"data row1 col0\" >doc1</td>\n",
       "      <td id=\"T_f647a_row1_col1\" class=\"data row1 col1\" >[@3ba775,44,67) \" Im walkin...\"</td>\n",
       "    </tr>\n",
       "    <tr>\n",
       "      <th id=\"T_f647a_level0_row2\" class=\"row_heading level0 row2\" >2</th>\n",
       "      <td id=\"T_f647a_row2_col0\" class=\"data row2 col0\" >doc2</td>\n",
       "      <td id=\"T_f647a_row2_col1\" class=\"data row2 col1\" >[@06bc2d,0,22) \"Im walking...\"</td>\n",
       "    </tr>\n",
       "    <tr>\n",
       "      <th id=\"T_f647a_level0_row3\" class=\"row_heading level0 row3\" >3</th>\n",
       "      <td id=\"T_f647a_row3_col0\" class=\"data row3 col0\" >doc2</td>\n",
       "      <td id=\"T_f647a_row3_col1\" class=\"data row3 col1\" >[@06bc2d,23,35) \" Lorem ips...\"</td>\n",
       "    </tr>\n",
       "    <tr>\n",
       "      <th id=\"T_f647a_level0_row4\" class=\"row_heading level0 row4\" >4</th>\n",
       "      <td id=\"T_f647a_row4_col0\" class=\"data row4 col0\" >doc2</td>\n",
       "      <td id=\"T_f647a_row4_col1\" class=\"data row4 col1\" >[@06bc2d,36,59) \" Im walkin...\"</td>\n",
       "    </tr>\n",
       "    <tr>\n",
       "      <th id=\"T_f647a_level0_row5\" class=\"row_heading level0 row5\" >5</th>\n",
       "      <td id=\"T_f647a_row5_col0\" class=\"data row5 col0\" >doc3</td>\n",
       "      <td id=\"T_f647a_row5_col1\" class=\"data row5 col1\" >[@9c32df,0,20) \"All you ne...\"</td>\n",
       "    </tr>\n",
       "    <tr>\n",
       "      <th id=\"T_f647a_level0_row6\" class=\"row_heading level0 row6\" >6</th>\n",
       "      <td id=\"T_f647a_row6_col0\" class=\"data row6 col0\" >doc3</td>\n",
       "      <td id=\"T_f647a_row6_col1\" class=\"data row6 col1\" >[@9c32df,21,65) \" The quick...\"</td>\n",
       "    </tr>\n",
       "  </tbody>\n",
       "</table>\n"
      ],
      "text/plain": [
       "<pandas.io.formats.style.Styler>"
      ]
     },
     "metadata": {},
     "output_type": "display_data"
    },
    {
     "data": {
      "text/plain": [
       "'?EqualSents(doc_id1,sent1,doc_id2,sent2)'"
      ]
     },
     "metadata": {},
     "output_type": "display_data"
    },
    {
     "data": {
      "text/html": [
       "<style type=\"text/css\">\n",
       "#T_cc507_row0_col0, #T_cc507_row0_col1, #T_cc507_row0_col2, #T_cc507_row0_col3, #T_cc507_row1_col0, #T_cc507_row1_col1, #T_cc507_row1_col2, #T_cc507_row1_col3, #T_cc507_row2_col0, #T_cc507_row2_col1, #T_cc507_row2_col2, #T_cc507_row2_col3, #T_cc507_row3_col0, #T_cc507_row3_col1, #T_cc507_row3_col2, #T_cc507_row3_col3, #T_cc507_row4_col0, #T_cc507_row4_col1, #T_cc507_row4_col2, #T_cc507_row4_col3, #T_cc507_row5_col0, #T_cc507_row5_col1, #T_cc507_row5_col2, #T_cc507_row5_col3, #T_cc507_row6_col0, #T_cc507_row6_col1, #T_cc507_row6_col2, #T_cc507_row6_col3, #T_cc507_row7_col0, #T_cc507_row7_col1, #T_cc507_row7_col2, #T_cc507_row7_col3 {\n",
       "  overflow-wrap: break-word;\n",
       "  max-width: 800px;\n",
       "  text-align: left;\n",
       "}\n",
       "</style>\n",
       "<table id=\"T_cc507\">\n",
       "  <thead>\n",
       "    <tr>\n",
       "      <th class=\"blank level0\" >&nbsp;</th>\n",
       "      <th id=\"T_cc507_level0_col0\" class=\"col_heading level0 col0\" >doc_id1</th>\n",
       "      <th id=\"T_cc507_level0_col1\" class=\"col_heading level0 col1\" >sent1</th>\n",
       "      <th id=\"T_cc507_level0_col2\" class=\"col_heading level0 col2\" >doc_id2</th>\n",
       "      <th id=\"T_cc507_level0_col3\" class=\"col_heading level0 col3\" >sent2</th>\n",
       "    </tr>\n",
       "  </thead>\n",
       "  <tbody>\n",
       "    <tr>\n",
       "      <th id=\"T_cc507_level0_row0\" class=\"row_heading level0 row0\" >0</th>\n",
       "      <td id=\"T_cc507_row0_col0\" class=\"data row0 col0\" >doc1</td>\n",
       "      <td id=\"T_cc507_row0_col1\" class=\"data row0 col1\" >[@3ba775,0,43) \"The quick ...\"</td>\n",
       "      <td id=\"T_cc507_row0_col2\" class=\"data row0 col2\" >doc3</td>\n",
       "      <td id=\"T_cc507_row0_col3\" class=\"data row0 col3\" >[@9c32df,21,65) \" The quick...\"</td>\n",
       "    </tr>\n",
       "    <tr>\n",
       "      <th id=\"T_cc507_level0_row1\" class=\"row_heading level0 row1\" >1</th>\n",
       "      <td id=\"T_cc507_row1_col0\" class=\"data row1 col0\" >doc1</td>\n",
       "      <td id=\"T_cc507_row1_col1\" class=\"data row1 col1\" >[@3ba775,44,67) \" Im walkin...\"</td>\n",
       "      <td id=\"T_cc507_row1_col2\" class=\"data row1 col2\" >doc2</td>\n",
       "      <td id=\"T_cc507_row1_col3\" class=\"data row1 col3\" >[@06bc2d,0,22) \"Im walking...\"</td>\n",
       "    </tr>\n",
       "    <tr>\n",
       "      <th id=\"T_cc507_level0_row2\" class=\"row_heading level0 row2\" >2</th>\n",
       "      <td id=\"T_cc507_row2_col0\" class=\"data row2 col0\" >doc1</td>\n",
       "      <td id=\"T_cc507_row2_col1\" class=\"data row2 col1\" >[@3ba775,44,67) \" Im walkin...\"</td>\n",
       "      <td id=\"T_cc507_row2_col2\" class=\"data row2 col2\" >doc2</td>\n",
       "      <td id=\"T_cc507_row2_col3\" class=\"data row2 col3\" >[@06bc2d,36,59) \" Im walkin...\"</td>\n",
       "    </tr>\n",
       "    <tr>\n",
       "      <th id=\"T_cc507_level0_row3\" class=\"row_heading level0 row3\" >3</th>\n",
       "      <td id=\"T_cc507_row3_col0\" class=\"data row3 col0\" >doc2</td>\n",
       "      <td id=\"T_cc507_row3_col1\" class=\"data row3 col1\" >[@06bc2d,0,22) \"Im walking...\"</td>\n",
       "      <td id=\"T_cc507_row3_col2\" class=\"data row3 col2\" >doc1</td>\n",
       "      <td id=\"T_cc507_row3_col3\" class=\"data row3 col3\" >[@3ba775,44,67) \" Im walkin...\"</td>\n",
       "    </tr>\n",
       "    <tr>\n",
       "      <th id=\"T_cc507_level0_row4\" class=\"row_heading level0 row4\" >4</th>\n",
       "      <td id=\"T_cc507_row4_col0\" class=\"data row4 col0\" >doc2</td>\n",
       "      <td id=\"T_cc507_row4_col1\" class=\"data row4 col1\" >[@06bc2d,0,22) \"Im walking...\"</td>\n",
       "      <td id=\"T_cc507_row4_col2\" class=\"data row4 col2\" >doc2</td>\n",
       "      <td id=\"T_cc507_row4_col3\" class=\"data row4 col3\" >[@06bc2d,36,59) \" Im walkin...\"</td>\n",
       "    </tr>\n",
       "    <tr>\n",
       "      <th id=\"T_cc507_level0_row5\" class=\"row_heading level0 row5\" >5</th>\n",
       "      <td id=\"T_cc507_row5_col0\" class=\"data row5 col0\" >doc2</td>\n",
       "      <td id=\"T_cc507_row5_col1\" class=\"data row5 col1\" >[@06bc2d,36,59) \" Im walkin...\"</td>\n",
       "      <td id=\"T_cc507_row5_col2\" class=\"data row5 col2\" >doc1</td>\n",
       "      <td id=\"T_cc507_row5_col3\" class=\"data row5 col3\" >[@3ba775,44,67) \" Im walkin...\"</td>\n",
       "    </tr>\n",
       "    <tr>\n",
       "      <th id=\"T_cc507_level0_row6\" class=\"row_heading level0 row6\" >6</th>\n",
       "      <td id=\"T_cc507_row6_col0\" class=\"data row6 col0\" >doc2</td>\n",
       "      <td id=\"T_cc507_row6_col1\" class=\"data row6 col1\" >[@06bc2d,36,59) \" Im walkin...\"</td>\n",
       "      <td id=\"T_cc507_row6_col2\" class=\"data row6 col2\" >doc2</td>\n",
       "      <td id=\"T_cc507_row6_col3\" class=\"data row6 col3\" >[@06bc2d,0,22) \"Im walking...\"</td>\n",
       "    </tr>\n",
       "    <tr>\n",
       "      <th id=\"T_cc507_level0_row7\" class=\"row_heading level0 row7\" >7</th>\n",
       "      <td id=\"T_cc507_row7_col0\" class=\"data row7 col0\" >doc3</td>\n",
       "      <td id=\"T_cc507_row7_col1\" class=\"data row7 col1\" >[@9c32df,21,65) \" The quick...\"</td>\n",
       "      <td id=\"T_cc507_row7_col2\" class=\"data row7 col2\" >doc1</td>\n",
       "      <td id=\"T_cc507_row7_col3\" class=\"data row7 col3\" >[@3ba775,0,43) \"The quick ...\"</td>\n",
       "    </tr>\n",
       "  </tbody>\n",
       "</table>\n"
      ],
      "text/plain": [
       "<pandas.io.formats.style.Styler>"
      ]
     },
     "metadata": {},
     "output_type": "display_data"
    }
   ],
   "source": [
    "%%spannerlog\n",
    "# this rule gives us\n",
    "Sents(doc_id,sent)<-\\\n",
    "    Docs(doc_id,text),split(text)->(sent)\n",
    "?Sents(doc_id,sent)\n",
    "\n",
    "# this rule find equal pairs of sentences\n",
    "EqualSents(doc_id1,sent1,doc_id2,sent2)<-\\\n",
    "    Sents(doc_id1,sent1),\\\n",
    "    Sents(doc_id2,sent2),\\\n",
    "    eq_content_spans(sent1,sent2)->(True)\n",
    "?EqualSents(doc_id1,sent1,doc_id2,sent2)"
   ]
  },
  {
   "cell_type": "markdown",
   "metadata": {},
   "source": [
    "Notice that we got each pair twice. This is because while we think of a sentence pair as a set with two sentences,\n",
    "the tuples `(x,y)` and `(y,x)` are actually different. To remedy this we can limit our pairs to pairs where the first sentence is in a smaller position (ie position in memory).\n",
    "\n",
    "We can do that by introducing a `span_lt` ie function"
   ]
  },
  {
   "cell_type": "code",
   "execution_count": null,
   "metadata": {},
   "outputs": [],
   "source": [
    "def span_lt(span1, span2):\n",
    "    yield span1 < span2\n",
    "\n",
    "sess.register('span_lt', span_lt, [Span,Span],[bool])"
   ]
  },
  {
   "cell_type": "code",
   "execution_count": null,
   "metadata": {},
   "outputs": [
    {
     "data": {
      "text/plain": [
       "'?EqualSentsUniqe(doc_id1,sent1,doc_id2,sent2)'"
      ]
     },
     "metadata": {},
     "output_type": "display_data"
    },
    {
     "data": {
      "text/html": [
       "<style type=\"text/css\">\n",
       "#T_bfc1a_row0_col0, #T_bfc1a_row0_col1, #T_bfc1a_row0_col2, #T_bfc1a_row0_col3, #T_bfc1a_row1_col0, #T_bfc1a_row1_col1, #T_bfc1a_row1_col2, #T_bfc1a_row1_col3, #T_bfc1a_row2_col0, #T_bfc1a_row2_col1, #T_bfc1a_row2_col2, #T_bfc1a_row2_col3, #T_bfc1a_row3_col0, #T_bfc1a_row3_col1, #T_bfc1a_row3_col2, #T_bfc1a_row3_col3 {\n",
       "  overflow-wrap: break-word;\n",
       "  max-width: 800px;\n",
       "  text-align: left;\n",
       "}\n",
       "</style>\n",
       "<table id=\"T_bfc1a\">\n",
       "  <thead>\n",
       "    <tr>\n",
       "      <th class=\"blank level0\" >&nbsp;</th>\n",
       "      <th id=\"T_bfc1a_level0_col0\" class=\"col_heading level0 col0\" >doc_id1</th>\n",
       "      <th id=\"T_bfc1a_level0_col1\" class=\"col_heading level0 col1\" >sent1</th>\n",
       "      <th id=\"T_bfc1a_level0_col2\" class=\"col_heading level0 col2\" >doc_id2</th>\n",
       "      <th id=\"T_bfc1a_level0_col3\" class=\"col_heading level0 col3\" >sent2</th>\n",
       "    </tr>\n",
       "  </thead>\n",
       "  <tbody>\n",
       "    <tr>\n",
       "      <th id=\"T_bfc1a_level0_row0\" class=\"row_heading level0 row0\" >0</th>\n",
       "      <td id=\"T_bfc1a_row0_col0\" class=\"data row0 col0\" >doc2</td>\n",
       "      <td id=\"T_bfc1a_row0_col1\" class=\"data row0 col1\" >[@06bc2d,0,22) \"Im walking...\"</td>\n",
       "      <td id=\"T_bfc1a_row0_col2\" class=\"data row0 col2\" >doc1</td>\n",
       "      <td id=\"T_bfc1a_row0_col3\" class=\"data row0 col3\" >[@3ba775,44,67) \" Im walkin...\"</td>\n",
       "    </tr>\n",
       "    <tr>\n",
       "      <th id=\"T_bfc1a_level0_row1\" class=\"row_heading level0 row1\" >1</th>\n",
       "      <td id=\"T_bfc1a_row1_col0\" class=\"data row1 col0\" >doc2</td>\n",
       "      <td id=\"T_bfc1a_row1_col1\" class=\"data row1 col1\" >[@06bc2d,0,22) \"Im walking...\"</td>\n",
       "      <td id=\"T_bfc1a_row1_col2\" class=\"data row1 col2\" >doc2</td>\n",
       "      <td id=\"T_bfc1a_row1_col3\" class=\"data row1 col3\" >[@06bc2d,36,59) \" Im walkin...\"</td>\n",
       "    </tr>\n",
       "    <tr>\n",
       "      <th id=\"T_bfc1a_level0_row2\" class=\"row_heading level0 row2\" >2</th>\n",
       "      <td id=\"T_bfc1a_row2_col0\" class=\"data row2 col0\" >doc2</td>\n",
       "      <td id=\"T_bfc1a_row2_col1\" class=\"data row2 col1\" >[@06bc2d,36,59) \" Im walkin...\"</td>\n",
       "      <td id=\"T_bfc1a_row2_col2\" class=\"data row2 col2\" >doc1</td>\n",
       "      <td id=\"T_bfc1a_row2_col3\" class=\"data row2 col3\" >[@3ba775,44,67) \" Im walkin...\"</td>\n",
       "    </tr>\n",
       "    <tr>\n",
       "      <th id=\"T_bfc1a_level0_row3\" class=\"row_heading level0 row3\" >3</th>\n",
       "      <td id=\"T_bfc1a_row3_col0\" class=\"data row3 col0\" >doc3</td>\n",
       "      <td id=\"T_bfc1a_row3_col1\" class=\"data row3 col1\" >[@9c32df,21,65) \" The quick...\"</td>\n",
       "      <td id=\"T_bfc1a_row3_col2\" class=\"data row3 col2\" >doc1</td>\n",
       "      <td id=\"T_bfc1a_row3_col3\" class=\"data row3 col3\" >[@3ba775,0,43) \"The quick ...\"</td>\n",
       "    </tr>\n",
       "  </tbody>\n",
       "</table>\n"
      ],
      "text/plain": [
       "<pandas.io.formats.style.Styler>"
      ]
     },
     "metadata": {},
     "output_type": "display_data"
    }
   ],
   "source": [
    "%%spannerlog\n",
    "EqualSentsUniqe(doc_id1,sent1,doc_id2,sent2)<-\\\n",
    "    Sents(doc_id1,sent1),\\\n",
    "    Sents(doc_id2,sent2),\\\n",
    "    span_lt(sent1,sent2)->(True),\\\n",
    "    eq_content_spans(sent1,sent2)->(True)\n",
    "    \n",
    "?EqualSentsUniqe(doc_id1,sent1,doc_id2,sent2)"
   ]
  },
  {
   "cell_type": "code",
   "execution_count": null,
   "metadata": {},
   "outputs": [],
   "source": [
    "# # cleaning the session before the next use case\n",
    "# sess.clear()"
   ]
  },
  {
   "cell_type": "markdown",
   "metadata": {},
   "source": [
    "### Calling an LLMs as part of a data dependant pipeline"
   ]
  },
  {
   "cell_type": "markdown",
   "metadata": {},
   "source": [
    "In this use case, we will implement basic llm based pipelines using spannerlib.\n",
    "\n",
    "First of all, we need to wrap some llm api as an IE function.\n",
    "We want an ie function that takes a string and returns a string.\n",
    "Since most LLM api expect a dict of the form `{'role':role,'content':message}`\n",
    "we will right converters that parse them from prompt strings of the form \n",
    "```txt\n",
    "role: content\n",
    "role: content\n",
    "```"
   ]
  },
  {
   "cell_type": "code",
   "execution_count": null,
   "metadata": {},
   "outputs": [],
   "source": [
    "# load openAI api key for env file\n",
    "\n",
    "from dotenv import load_dotenv\n",
    "load_dotenv('.env_dev')\n",
    "import os\n",
    "assert os.getenv('OPENAI_API_KEY') is not None"
   ]
  },
  {
   "cell_type": "code",
   "execution_count": null,
   "metadata": {},
   "outputs": [],
   "source": [
    "from spannerlib.ie_func.basic import rgx_split\n",
    "from functools import cache\n",
    "import openai\n",
    "from joblib import Memory\n",
    "memory = Memory(\"cachedir\", verbose=0)\n",
    "client = openai.Client()\n",
    "\n",
    "# we use the rgx_split function to split the string into messages\n",
    "def str_to_messages (string_prompt):\n",
    "    return [\n",
    "        {\n",
    "            'role': str(role).replace(': ',''),\n",
    "            'content': str(content)\n",
    "        } for role,content in rgx_split('system:\\s|assistant:\\s|user:\\s', string_prompt.strip())\n",
    "    ]\n",
    "def messages_to_string(msgs):\n",
    "    return ''.join([f\"{msg['content']}\" for msg in msgs])\n",
    "\n",
    "# the specific API we are going to call using the messages interface\n",
    "def openai_chat(model, messages):\n",
    "    respone = client.chat.completions.create(\n",
    "        model=model,\n",
    "        messages=messages,\n",
    "        seed=42\n",
    "    )\n",
    "    return [dict(respone.choices[0].message)]\n",
    "\n",
    "# we disk cache our function to spare my openAI credits\n",
    "@memory.cache\n",
    "def llm(model, question):\n",
    "    q_msgs = str_to_messages(question)\n",
    "    a_msgs = openai_chat(model, q_msgs)\n",
    "    answer = messages_to_string(a_msgs)\n",
    "    return answer\n",
    "\n",
    "def llm_ie(model, question):\n",
    "    return [llm(model, question)]\n",
    "\n",
    "\n"
   ]
  },
  {
   "cell_type": "code",
   "execution_count": null,
   "metadata": {},
   "outputs": [
    {
     "data": {
      "text/plain": [
       "'Hello! I am a AI-powered virtual assistant designed to help and provide information to users. How can I assist you today?'"
      ]
     },
     "execution_count": null,
     "metadata": {},
     "output_type": "execute_result"
    }
   ],
   "source": [
    "llm('gpt-3.5-turbo','user: Hello, who are you?')"
   ]
  },
  {
   "cell_type": "markdown",
   "metadata": {},
   "source": [
    "Now we can register the llm function as an ie function and use it from in spannerlog code."
   ]
  },
  {
   "cell_type": "code",
   "execution_count": null,
   "metadata": {},
   "outputs": [],
   "source": [
    "sess.register('llm', llm_ie, [str,str],[str])"
   ]
  },
  {
   "cell_type": "code",
   "execution_count": null,
   "metadata": {},
   "outputs": [
    {
     "data": {
      "text/plain": [
       "'?TestLLM(answer)'"
      ]
     },
     "metadata": {},
     "output_type": "display_data"
    },
    {
     "data": {
      "text/html": [
       "<style type=\"text/css\">\n",
       "#T_925b1_row0_col0 {\n",
       "  overflow-wrap: break-word;\n",
       "  max-width: 800px;\n",
       "  text-align: left;\n",
       "}\n",
       "</style>\n",
       "<table id=\"T_925b1\">\n",
       "  <thead>\n",
       "    <tr>\n",
       "      <th class=\"blank level0\" >&nbsp;</th>\n",
       "      <th id=\"T_925b1_level0_col0\" class=\"col_heading level0 col0\" >answer</th>\n",
       "    </tr>\n",
       "  </thead>\n",
       "  <tbody>\n",
       "    <tr>\n",
       "      <th id=\"T_925b1_level0_row0\" class=\"row_heading level0 row0\" >0</th>\n",
       "      <td id=\"T_925b1_row0_col0\" class=\"data row0 col0\" >Absolutely nothing!</td>\n",
       "    </tr>\n",
       "  </tbody>\n",
       "</table>\n"
      ],
      "text/plain": [
       "<pandas.io.formats.style.Styler>"
      ]
     },
     "metadata": {},
     "output_type": "display_data"
    }
   ],
   "source": [
    "%%spannerlog\n",
    "\n",
    "model = 'gpt-3.5-turbo'\n",
    "prompt = \"user: sing it with me, love, what is it good for?\"\n",
    "\n",
    "TestLLM(answer)<-\\\n",
    "    llm($model,$prompt)->(answer)\n",
    "\n",
    "?TestLLM(answer)\n"
   ]
  },
  {
   "cell_type": "markdown",
   "metadata": {},
   "source": [
    "Now let see how we can use spannerlib to build a simple pipeline that varries the LLM prompt in a data dependant way.\n",
    "Imagine that we have a chatbot that we want to act differently based on the topic of conversation and the user preference."
   ]
  },
  {
   "cell_type": "markdown",
   "metadata": {},
   "source": [
    "To enable us to format prompts from data, we will use a prompt formatting function with a `printf` like syntax.\n",
    "It is available in spannerlib's stdlib, but we will reproduce it here."
   ]
  },
  {
   "cell_type": "code",
   "execution_count": null,
   "metadata": {},
   "outputs": [],
   "source": [
    "def format_ie(f_string,*params):\n",
    "    yield f_string.format(*params),\n",
    "\n",
    "# note that since the schema is dynamic we need to define a function that returns the schema based on the arity\n",
    "string_schema = lambda x: ([str]*x)\n",
    "\n",
    "sess.register('format', format_ie, string_schema,[str])\n"
   ]
  },
  {
   "cell_type": "markdown",
   "metadata": {},
   "source": [
    "\n",
    "We will model our data as follows:"
   ]
  },
  {
   "cell_type": "code",
   "execution_count": null,
   "metadata": {},
   "outputs": [],
   "source": [
    "\n",
    "# a binary relation that stores how the user prefers the formatted\n",
    "user_answer_prefernce = pd.DataFrame([\n",
    "    ('Bob', 'please answer in prose. Make sure you add references in the end like a bibliography.'),\n",
    "    ('Joe', 'Prose is hard for me to read quickly. Format the answer in bullet points.'),\n",
    "    ('Sally', 'Try to avoid complicated jargon and use simple language.'),\n",
    "])\n",
    "\n",
    "# relation that stores per topic style\n",
    "topic_specific_style = pd.DataFrame([\n",
    "    ('history', 'please answer in a narrative form, use shakespearing language and lots of examples'),\n",
    "    ('science', 'Use mathematical notation and formulas to explain the concepts.'),\n",
    "    ('hiphop', 'introduce the answer with a rap verse.'),\n",
    "    ('other', 'Be polite and neutral in your answer. Avoid controversial topics.'),\n",
    "])\n",
    "\n",
    "sess.import_rel('UserAnswerPreference', user_answer_prefernce)\n",
    "sess.import_rel('TopicSpecificStyle', topic_specific_style)"
   ]
  },
  {
   "cell_type": "markdown",
   "metadata": {},
   "source": [
    "Now we will build our pipeline as follows:\n",
    "* We will make an llm call to help us decide the topic of the question\n",
    "* Based on the topic and the user, we will formulate the final prompt for the llm to answer.\n"
   ]
  },
  {
   "cell_type": "code",
   "execution_count": null,
   "metadata": {},
   "outputs": [
    {
     "data": {
      "text/html": [
       "<div>\n",
       "<style scoped>\n",
       "    .dataframe tbody tr th:only-of-type {\n",
       "        vertical-align: middle;\n",
       "    }\n",
       "\n",
       "    .dataframe tbody tr th {\n",
       "        vertical-align: top;\n",
       "    }\n",
       "\n",
       "    .dataframe thead th {\n",
       "        text-align: right;\n",
       "    }\n",
       "</style>\n",
       "<table border=\"1\" class=\"dataframe\">\n",
       "  <thead>\n",
       "    <tr style=\"text-align: right;\">\n",
       "      <th></th>\n",
       "      <th>0</th>\n",
       "      <th>1</th>\n",
       "    </tr>\n",
       "  </thead>\n",
       "  <tbody>\n",
       "    <tr>\n",
       "      <th>0</th>\n",
       "      <td>topic_selection</td>\n",
       "      <td>system: Please select a topic from the follow...</td>\n",
       "    </tr>\n",
       "    <tr>\n",
       "      <th>1</th>\n",
       "      <td>custom_style_prompt</td>\n",
       "      <td>system: Answer the question of the user in th...</td>\n",
       "    </tr>\n",
       "  </tbody>\n",
       "</table>\n",
       "</div>"
      ],
      "text/plain": [
       "                     0                                                  1\n",
       "0      topic_selection  \n",
       "system: Please select a topic from the follow...\n",
       "1  custom_style_prompt  \n",
       "system: Answer the question of the user in th..."
      ]
     },
     "execution_count": null,
     "metadata": {},
     "output_type": "execute_result"
    }
   ],
   "source": [
    "prompts = pd.DataFrame([\n",
    "    ('topic_selection',\n",
    "\"\"\"\n",
    "system: Please select a topic from the following list: [history, science, hiphop, other]\n",
    "based on the question provided by the user. You are only allwed to say the topic name, nothing else.\n",
    "\n",
    "user: {}\n",
    "\"\"\"),\n",
    "    ('custom_style_prompt',\n",
    "\"\"\"\n",
    "system: Answer the question of the user in the following style:\n",
    "\n",
    "topic specific style instructions: {}\n",
    "\n",
    "user specific style instructions: {}\n",
    "\n",
    "user: {}\n",
    "\"\"\"\n",
    ")\n",
    "])\n",
    "sess.import_rel('Prompts', prompts)\n",
    "prompts"
   ]
  },
  {
   "cell_type": "code",
   "execution_count": null,
   "metadata": {},
   "outputs": [
    {
     "data": {
      "text/plain": [
       "'?Prompts(prompt_id,prompt)'"
      ]
     },
     "metadata": {},
     "output_type": "display_data"
    },
    {
     "data": {
      "text/html": [
       "<style type=\"text/css\">\n",
       "#T_111b7_row0_col0, #T_111b7_row0_col1, #T_111b7_row1_col0, #T_111b7_row1_col1 {\n",
       "  overflow-wrap: break-word;\n",
       "  max-width: 800px;\n",
       "  text-align: left;\n",
       "}\n",
       "</style>\n",
       "<table id=\"T_111b7\">\n",
       "  <thead>\n",
       "    <tr>\n",
       "      <th class=\"blank level0\" >&nbsp;</th>\n",
       "      <th id=\"T_111b7_level0_col0\" class=\"col_heading level0 col0\" >prompt_id</th>\n",
       "      <th id=\"T_111b7_level0_col1\" class=\"col_heading level0 col1\" >prompt</th>\n",
       "    </tr>\n",
       "  </thead>\n",
       "  <tbody>\n",
       "    <tr>\n",
       "      <th id=\"T_111b7_level0_row0\" class=\"row_heading level0 row0\" >0</th>\n",
       "      <td id=\"T_111b7_row0_col0\" class=\"data row0 col0\" >custom_style_prompt</td>\n",
       "      <td id=\"T_111b7_row0_col1\" class=\"data row0 col1\" >\n",
       "system: Answer the question of the user in the following style:\n",
       "\n",
       "topic specific style instructions: {}\n",
       "\n",
       "user specific style instructions: {}\n",
       "\n",
       "user: {}\n",
       "</td>\n",
       "    </tr>\n",
       "    <tr>\n",
       "      <th id=\"T_111b7_level0_row1\" class=\"row_heading level0 row1\" >1</th>\n",
       "      <td id=\"T_111b7_row1_col0\" class=\"data row1 col0\" >topic_selection</td>\n",
       "      <td id=\"T_111b7_row1_col1\" class=\"data row1 col1\" >\n",
       "system: Please select a topic from the following list: [history, science, hiphop, other]\n",
       "based on the question provided by the user. You are only allwed to say the topic name, nothing else.\n",
       "\n",
       "user: {}\n",
       "</td>\n",
       "    </tr>\n",
       "  </tbody>\n",
       "</table>\n"
      ],
      "text/plain": [
       "<pandas.io.formats.style.Styler>"
      ]
     },
     "metadata": {},
     "output_type": "display_data"
    }
   ],
   "source": [
    "%%spannerlog\n",
    "?Prompts(prompt_id,prompt)"
   ]
  },
  {
   "cell_type": "markdown",
   "metadata": {},
   "source": [
    "Now given a relation of user and question"
   ]
  },
  {
   "cell_type": "code",
   "execution_count": null,
   "metadata": {},
   "outputs": [],
   "source": [
    "questions= pd.DataFrame([\n",
    "    ('Bob', 'Who won the civil war?'),\n",
    "    ('Joe', 'Who won the civil war?'),\n",
    "    ('Sally', 'Who won the civil war?'),\n",
    "    ('Bob', 'How do we measure the distance between stars?'),\n",
    "    ('Joe', 'How do we measure the distance between stars?'),\n",
    "    ('Sally', 'How do we measure the distance between stars?'),\n",
    "    ('Bob', 'Who are the most well known rappers?'),\n",
    "    ('Joe', 'Who are the most well known rappers?'),\n",
    "    ('Sally', 'Who are the most well known rappers?'),\n",
    "])\n",
    "sess.import_rel('Questions', questions)"
   ]
  },
  {
   "cell_type": "code",
   "execution_count": null,
   "metadata": {},
   "outputs": [
    {
     "data": {
      "text/plain": [
       "'?TopicPrompt(Q,P)'"
      ]
     },
     "metadata": {},
     "output_type": "display_data"
    },
    {
     "data": {
      "text/html": [
       "<style type=\"text/css\">\n",
       "#T_c5073_row0_col0, #T_c5073_row0_col1, #T_c5073_row1_col0, #T_c5073_row1_col1, #T_c5073_row2_col0, #T_c5073_row2_col1 {\n",
       "  overflow-wrap: break-word;\n",
       "  max-width: 800px;\n",
       "  text-align: left;\n",
       "}\n",
       "</style>\n",
       "<table id=\"T_c5073\">\n",
       "  <thead>\n",
       "    <tr>\n",
       "      <th class=\"blank level0\" >&nbsp;</th>\n",
       "      <th id=\"T_c5073_level0_col0\" class=\"col_heading level0 col0\" >Q</th>\n",
       "      <th id=\"T_c5073_level0_col1\" class=\"col_heading level0 col1\" >P</th>\n",
       "    </tr>\n",
       "  </thead>\n",
       "  <tbody>\n",
       "    <tr>\n",
       "      <th id=\"T_c5073_level0_row0\" class=\"row_heading level0 row0\" >0</th>\n",
       "      <td id=\"T_c5073_row0_col0\" class=\"data row0 col0\" >How do we measure the distance between stars?</td>\n",
       "      <td id=\"T_c5073_row0_col1\" class=\"data row0 col1\" >\n",
       "system: Please select a topic from the following list: [history, science, hiphop, other]\n",
       "based on the question provided by the user. You are only allwed to say the topic name, nothing else.\n",
       "\n",
       "user: How do we measure the distance between stars?\n",
       "</td>\n",
       "    </tr>\n",
       "    <tr>\n",
       "      <th id=\"T_c5073_level0_row1\" class=\"row_heading level0 row1\" >1</th>\n",
       "      <td id=\"T_c5073_row1_col0\" class=\"data row1 col0\" >Who are the most well known rappers?</td>\n",
       "      <td id=\"T_c5073_row1_col1\" class=\"data row1 col1\" >\n",
       "system: Please select a topic from the following list: [history, science, hiphop, other]\n",
       "based on the question provided by the user. You are only allwed to say the topic name, nothing else.\n",
       "\n",
       "user: Who are the most well known rappers?\n",
       "</td>\n",
       "    </tr>\n",
       "    <tr>\n",
       "      <th id=\"T_c5073_level0_row2\" class=\"row_heading level0 row2\" >2</th>\n",
       "      <td id=\"T_c5073_row2_col0\" class=\"data row2 col0\" >Who won the civil war?</td>\n",
       "      <td id=\"T_c5073_row2_col1\" class=\"data row2 col1\" >\n",
       "system: Please select a topic from the following list: [history, science, hiphop, other]\n",
       "based on the question provided by the user. You are only allwed to say the topic name, nothing else.\n",
       "\n",
       "user: Who won the civil war?\n",
       "</td>\n",
       "    </tr>\n",
       "  </tbody>\n",
       "</table>\n"
      ],
      "text/plain": [
       "<pandas.io.formats.style.Styler>"
      ]
     },
     "metadata": {},
     "output_type": "display_data"
    }
   ],
   "source": []
  },
  {
   "cell_type": "markdown",
   "metadata": {},
   "source": [
    "Now lets combine all of this into a pipeline.\n"
   ]
  },
  {
   "cell_type": "code",
   "execution_count": null,
   "metadata": {},
   "outputs": [],
   "source": [
    "%%spannerlog\n",
    "model = 'gpt-3.5-turbo'\n",
    "\n",
    "TopicPrompt(Q,P)<-\\\n",
    "    Questions(user,Q),\\\n",
    "    Prompts('topic_selection',Template),\\\n",
    "    format(Template,Q)->(P)\n",
    "    \n",
    "?TopicPrompt(Q,P)\n",
    "\n",
    "TopicSelection(Q,T)<-\\\n",
    "    TopicPrompt(Q,P),\\\n",
    "    llm($model,P)->(T)\n",
    "\n",
    "?TopicSelection(Q,T)\n",
    "StylePrompt(Q,P,Topic,user)<-\\\n",
    "    Questions(user,Q),\\\n",
    "    TopicSelection(Q,Topic),\\\n",
    "    UserAnswerPreference(user,UserStyle),\\\n",
    "    TopicSpecificStyle(Topic,TopicStyle),\\\n",
    "    Prompts('custom_style_prompt',promptTemplate),\\\n",
    "    format(promptTemplate,TopicStyle,UserStyle,Q)->(P)\n",
    "\n",
    "\n",
    "Style_Based_QA(Q,Topic,user,P,A)<-\\\n",
    "    StylePrompt(Q,P,Topic,user),\\\n",
    "    llm($model,P)->(A)\n",
    "\n"
   ]
  },
  {
   "cell_type": "markdown",
   "metadata": {},
   "source": [
    "And as you can see, we have a topic and user dependant LLM pipeline"
   ]
  },
  {
   "cell_type": "code",
   "execution_count": null,
   "metadata": {},
   "outputs": [
    {
     "data": {
      "text/plain": [
       "'?Style_Based_QA(Q,Topic,user,Prompt,Answer)'"
      ]
     },
     "metadata": {},
     "output_type": "display_data"
    },
    {
     "data": {
      "text/html": [
       "<style type=\"text/css\">\n",
       "#T_036e3_row0_col0, #T_036e3_row0_col1, #T_036e3_row0_col2, #T_036e3_row0_col3, #T_036e3_row0_col4, #T_036e3_row1_col0, #T_036e3_row1_col1, #T_036e3_row1_col2, #T_036e3_row1_col3, #T_036e3_row1_col4, #T_036e3_row2_col0, #T_036e3_row2_col1, #T_036e3_row2_col2, #T_036e3_row2_col3, #T_036e3_row2_col4, #T_036e3_row3_col0, #T_036e3_row3_col1, #T_036e3_row3_col2, #T_036e3_row3_col3, #T_036e3_row3_col4, #T_036e3_row4_col0, #T_036e3_row4_col1, #T_036e3_row4_col2, #T_036e3_row4_col3, #T_036e3_row4_col4, #T_036e3_row5_col0, #T_036e3_row5_col1, #T_036e3_row5_col2, #T_036e3_row5_col3, #T_036e3_row5_col4, #T_036e3_row6_col0, #T_036e3_row6_col1, #T_036e3_row6_col2, #T_036e3_row6_col3, #T_036e3_row6_col4, #T_036e3_row7_col0, #T_036e3_row7_col1, #T_036e3_row7_col2, #T_036e3_row7_col3, #T_036e3_row7_col4, #T_036e3_row8_col0, #T_036e3_row8_col1, #T_036e3_row8_col2, #T_036e3_row8_col3, #T_036e3_row8_col4 {\n",
       "  overflow-wrap: break-word;\n",
       "  max-width: 800px;\n",
       "  text-align: left;\n",
       "}\n",
       "</style>\n",
       "<table id=\"T_036e3\">\n",
       "  <thead>\n",
       "    <tr>\n",
       "      <th class=\"blank level0\" >&nbsp;</th>\n",
       "      <th id=\"T_036e3_level0_col0\" class=\"col_heading level0 col0\" >Q</th>\n",
       "      <th id=\"T_036e3_level0_col1\" class=\"col_heading level0 col1\" >Topic</th>\n",
       "      <th id=\"T_036e3_level0_col2\" class=\"col_heading level0 col2\" >user</th>\n",
       "      <th id=\"T_036e3_level0_col3\" class=\"col_heading level0 col3\" >Prompt</th>\n",
       "      <th id=\"T_036e3_level0_col4\" class=\"col_heading level0 col4\" >Answer</th>\n",
       "    </tr>\n",
       "  </thead>\n",
       "  <tbody>\n",
       "    <tr>\n",
       "      <th id=\"T_036e3_level0_row0\" class=\"row_heading level0 row0\" >0</th>\n",
       "      <td id=\"T_036e3_row0_col0\" class=\"data row0 col0\" >How do we measure the distance between stars?</td>\n",
       "      <td id=\"T_036e3_row0_col1\" class=\"data row0 col1\" >science</td>\n",
       "      <td id=\"T_036e3_row0_col2\" class=\"data row0 col2\" >Bob</td>\n",
       "      <td id=\"T_036e3_row0_col3\" class=\"data row0 col3\" >\n",
       "system: Answer the question of the user in the following style:\n",
       "\n",
       "topic specific style instructions: Use mathematical notation and formulas to explain the concepts.\n",
       "\n",
       "user specific style instructions: please answer in prose. Make sure you add references in the end like a bibliography.\n",
       "\n",
       "user: How do we measure the distance between stars?\n",
       "</td>\n",
       "      <td id=\"T_036e3_row0_col4\" class=\"data row0 col4\" >The distance between stars is measured in astronomical units (AU), parsecs (pc), or light-years (ly). \n",
       "\n",
       "1. **Astronomical Unit (AU)**: An AU is the average distance between the Earth and the Sun, which is approximately 93 million miles or 150 million kilometers. It is more commonly used to measure distances within our solar system.\n",
       "\n",
       "2. **Parsec (pc)**: A parsec is a unit of distance used in astronomy, defined as the distance at which an object would have a parallax angle of one arcsecond. One parsec is equal to about 3.26 light-years or 3.09 x 10^13 kilometers.\n",
       "\n",
       "3. **Light-year (ly)**: A light-year is the distance that light travels in one year, which is approximately 9.46 trillion kilometers or about 5.88 trillion miles.\n",
       "\n",
       "To measure the distance to nearby stars, astronomers use a method called parallax. This involves observing a star from two different points in Earth's orbit around the Sun, which causes the star to appear to shift slightly against the background of more distant stars. By measuring the angle of this shift (the parallax angle), astronomers can calculate the distance to the star using trigonometry.\n",
       "\n",
       "For more distant stars, astronomers use other methods such as spectroscopic parallax, standard candles (like Cepheid variables), and the cosmic distance ladder which combines various distance measurement techniques to determine distances to faraway objects in the universe.\n",
       "\n",
       "References:\n",
       "1. \"Astronomical unit\" - NASA, https://solarsystem.nasa.gov/solar-system/our-solar-system/overview/\n",
       "2. \"Parsec\" - European Space Agency, https://www.spacetelescope.org/about/general/parallax/\n",
       "3. \"Light-year\" - Space.com, https://www.space.com/15830-light-years.html\n",
       "4. \"Parallax\" - European Southern Observatory, https://www.eso.org/public/usa/news/eso1718/</td>\n",
       "    </tr>\n",
       "    <tr>\n",
       "      <th id=\"T_036e3_level0_row1\" class=\"row_heading level0 row1\" >1</th>\n",
       "      <td id=\"T_036e3_row1_col0\" class=\"data row1 col0\" >How do we measure the distance between stars?</td>\n",
       "      <td id=\"T_036e3_row1_col1\" class=\"data row1 col1\" >science</td>\n",
       "      <td id=\"T_036e3_row1_col2\" class=\"data row1 col2\" >Joe</td>\n",
       "      <td id=\"T_036e3_row1_col3\" class=\"data row1 col3\" >\n",
       "system: Answer the question of the user in the following style:\n",
       "\n",
       "topic specific style instructions: Use mathematical notation and formulas to explain the concepts.\n",
       "\n",
       "user specific style instructions: Prose is hard for me to read quickly. Format the answer in bullet points.\n",
       "\n",
       "user: How do we measure the distance between stars?\n",
       "</td>\n",
       "      <td id=\"T_036e3_row1_col4\" class=\"data row1 col4\" >- To measure the distance between stars, astronomers use a method called parallax, which is based on trigonometry.\n",
       "- Parallax involves observing a star from two different points in Earth's orbit and measuring the angle, known as the parallax angle, that the star appears to move.\n",
       "- The distance to the star can be calculated using the formula: distance = 1 / parallax angle.\n",
       "- The unit typically used for measuring stellar distances is the parsec (pc), where 1 parsec is equivalent to about 3.26 light years.\n",
       "- Other methods like photometric distance and spectroscopic parallax are also used to measure distances to stars that are much farther away.</td>\n",
       "    </tr>\n",
       "    <tr>\n",
       "      <th id=\"T_036e3_level0_row2\" class=\"row_heading level0 row2\" >2</th>\n",
       "      <td id=\"T_036e3_row2_col0\" class=\"data row2 col0\" >How do we measure the distance between stars?</td>\n",
       "      <td id=\"T_036e3_row2_col1\" class=\"data row2 col1\" >science</td>\n",
       "      <td id=\"T_036e3_row2_col2\" class=\"data row2 col2\" >Sally</td>\n",
       "      <td id=\"T_036e3_row2_col3\" class=\"data row2 col3\" >\n",
       "system: Answer the question of the user in the following style:\n",
       "\n",
       "topic specific style instructions: Use mathematical notation and formulas to explain the concepts.\n",
       "\n",
       "user specific style instructions: Try to avoid complicated jargon and use simple language.\n",
       "\n",
       "user: How do we measure the distance between stars?\n",
       "</td>\n",
       "      <td id=\"T_036e3_row2_col4\" class=\"data row2 col4\" >One common way to measure the distance between stars is through parallax. Parallax is the apparent shift in position of an object when viewed from two different points. \n",
       "\n",
       "The parallax angle, denoted by p, is the angle formed between a line from the observer to the star at two different times when Earth is on opposite sides of its orbit. The distance to the star, denoted by d, can be calculated using the formula:\n",
       "\n",
       "\\[ d = \\frac{1}{\\tan(p)} \\]\n",
       "\n",
       "By measuring the parallax angle and using this formula, astronomers can determine the distance to nearby stars.</td>\n",
       "    </tr>\n",
       "    <tr>\n",
       "      <th id=\"T_036e3_level0_row3\" class=\"row_heading level0 row3\" >3</th>\n",
       "      <td id=\"T_036e3_row3_col0\" class=\"data row3 col0\" >Who are the most well known rappers?</td>\n",
       "      <td id=\"T_036e3_row3_col1\" class=\"data row3 col1\" >hiphop</td>\n",
       "      <td id=\"T_036e3_row3_col2\" class=\"data row3 col2\" >Bob</td>\n",
       "      <td id=\"T_036e3_row3_col3\" class=\"data row3 col3\" >\n",
       "system: Answer the question of the user in the following style:\n",
       "\n",
       "topic specific style instructions: introduce the answer with a rap verse.\n",
       "\n",
       "user specific style instructions: please answer in prose. Make sure you add references in the end like a bibliography.\n",
       "\n",
       "user: Who are the most well known rappers?\n",
       "</td>\n",
       "      <td id=\"T_036e3_row3_col4\" class=\"data row3 col4\" >Straight outta Compton, a city so gritty,\n",
       "Let me introduce thee to the rap elite committee.\n",
       "Eminem, with his lyrical finesse,\n",
       "Jay-Z, the blueprint of success.\n",
       "Kendrick Lamar, with his socially conscious flow,\n",
       "And Tupac, whose words still resonate, yo.\n",
       "These artists have left a mark on the game,\n",
       "Their names forever etched in the hall of fame.\n",
       "\n",
       "Some of the most well-known rappers in the music industry include Eminem, Jay-Z, Kendrick Lamar, and Tupac Shakur. Each of these artists has had a significant impact on the genre of rap through their unique styles and powerful lyrics. Their influence can be seen in the way they have shaped the culture of hip-hop and inspired countless artists to follow in their footsteps.\n",
       "\n",
       "1. Eminem: An American rapper known for his intricate wordplay and controversial lyrics. His albums, such as \"The Marshall Mathers LP\" and \"The Eminem Show,\" have garnered critical acclaim and commercial success.\n",
       "\n",
       "2. Jay-Z: A legendary rapper and businessman, Jay-Z is renowned for his storytelling abilities and entrepreneurial ventures. His albums, including \"The Blueprint\" and \"4:44,\" have solidified his status as one of the greatest rappers of all time.\n",
       "\n",
       "3. Kendrick Lamar: Hailing from Compton, California, Kendrick Lamar is celebrated for his socially conscious lyrics and complex rhyme schemes. His albums, like \"good kid, m.A.A.d city\" and \"To Pimp a Butterfly,\" have won numerous awards and accolades.\n",
       "\n",
       "4. Tupac Shakur: A cultural icon, Tupac Shakur left a lasting legacy through his music and activism. His albums, such as \"All Eyez on Me\" and \"Me Against the World,\" continue to resonate with audiences around the world even decades after his death.\n",
       "\n",
       "These rappers have not only achieved commercial success but have also made a lasting impact on the music industry and popular culture as a whole. Their contributions to the rap genre are undeniable and continue to be celebrated by fans and fellow artists alike.\n",
       "\n",
       "References:\n",
       "- \"Eminem Biography.\" Biography.com\n",
       "- \"Jay-Z - Biography.\" Biography.com\n",
       "- \"Kendrick Lamar - Biography.\" Biography.com\n",
       "- \"Tupac Shakur - Biography.\" Biography.com</td>\n",
       "    </tr>\n",
       "    <tr>\n",
       "      <th id=\"T_036e3_level0_row4\" class=\"row_heading level0 row4\" >4</th>\n",
       "      <td id=\"T_036e3_row4_col0\" class=\"data row4 col0\" >Who are the most well known rappers?</td>\n",
       "      <td id=\"T_036e3_row4_col1\" class=\"data row4 col1\" >hiphop</td>\n",
       "      <td id=\"T_036e3_row4_col2\" class=\"data row4 col2\" >Joe</td>\n",
       "      <td id=\"T_036e3_row4_col3\" class=\"data row4 col3\" >\n",
       "system: Answer the question of the user in the following style:\n",
       "\n",
       "topic specific style instructions: introduce the answer with a rap verse.\n",
       "\n",
       "user specific style instructions: Prose is hard for me to read quickly. Format the answer in bullet points.\n",
       "\n",
       "user: Who are the most well known rappers?\n",
       "</td>\n",
       "      <td id=\"T_036e3_row4_col4\" class=\"data row4 col4\" >Yo, when it comes to rappers, there's a whole crew,\n",
       "Here are some of the most well-known for you:\n",
       "\n",
       "- Eminem: Known for his lyrical genius and raw talent\n",
       "- Jay-Z: Business mogul and rap legend with a smooth flow\n",
       "- Tupac Shakur: Iconic figure known for his powerful lyrics and impact on the industry\n",
       "- Notorious B.I.G.: Legendary rapper with a unique flow and storytelling abilities\n",
       "- Kendrick Lamar: Modern-day artist known for his socially conscious lyrics and innovative sound\n",
       "- Drake: Chart-topping rapper with a versatile style and massive commercial success\n",
       "- Kanye West: Controversial yet influential artist known for pushing boundaries in music\n",
       "- Nicki Minaj: Female rap superstar known for her bold persona and rapid-fire delivery\n",
       "- Lil Wayne: Veteran rapper with a long-standing career and influential impact on the genre\n",
       "- Cardi B: Breakout star known for her charisma, humor, and hit songs</td>\n",
       "    </tr>\n",
       "    <tr>\n",
       "      <th id=\"T_036e3_level0_row5\" class=\"row_heading level0 row5\" >5</th>\n",
       "      <td id=\"T_036e3_row5_col0\" class=\"data row5 col0\" >Who are the most well known rappers?</td>\n",
       "      <td id=\"T_036e3_row5_col1\" class=\"data row5 col1\" >hiphop</td>\n",
       "      <td id=\"T_036e3_row5_col2\" class=\"data row5 col2\" >Sally</td>\n",
       "      <td id=\"T_036e3_row5_col3\" class=\"data row5 col3\" >\n",
       "system: Answer the question of the user in the following style:\n",
       "\n",
       "topic specific style instructions: introduce the answer with a rap verse.\n",
       "\n",
       "user specific style instructions: Try to avoid complicated jargon and use simple language.\n",
       "\n",
       "user: Who are the most well known rappers?\n",
       "</td>\n",
       "      <td id=\"T_036e3_row5_col4\" class=\"data row5 col4\" >Yo, when it comes to rappers, there's a whole lot in the game,\n",
       "From OGs like Tupac and Biggie, to new stars on their rise to fame.\n",
       "Eminem's known for his lyrical prowess and flow,\n",
       "While Jay-Z's the blueprint for success, yo.\n",
       "\n",
       "Drake stays topping charts with hits in every season,\n",
       "And Kendrick Lamar speaks truth, shedding light on social reason.\n",
       "Cardi B's making waves with her bold and fierce style,\n",
       "While Nicki Minaj's been reigning as the queen for a while.\n",
       "\n",
       "So if you're looking for the most well-known in the rap scene,\n",
       "These artists are the ones that truly reign supreme.</td>\n",
       "    </tr>\n",
       "    <tr>\n",
       "      <th id=\"T_036e3_level0_row6\" class=\"row_heading level0 row6\" >6</th>\n",
       "      <td id=\"T_036e3_row6_col0\" class=\"data row6 col0\" >Who won the civil war?</td>\n",
       "      <td id=\"T_036e3_row6_col1\" class=\"data row6 col1\" >history</td>\n",
       "      <td id=\"T_036e3_row6_col2\" class=\"data row6 col2\" >Bob</td>\n",
       "      <td id=\"T_036e3_row6_col3\" class=\"data row6 col3\" >\n",
       "system: Answer the question of the user in the following style:\n",
       "\n",
       "topic specific style instructions: please answer in a narrative form, use shakespearing language and lots of examples\n",
       "\n",
       "user specific style instructions: please answer in prose. Make sure you add references in the end like a bibliography.\n",
       "\n",
       "user: Who won the civil war?\n",
       "</td>\n",
       "      <td id=\"T_036e3_row6_col4\" class=\"data row6 col4\" >In sooth, fair user, the tale of the Civil War is a tumultuous one, where brother fought against brother, and the land was torn asunder by the clash of arms. Verily, 'twas a war of great import that shook the very foundations of our fair nation.\n",
       "\n",
       "In the end, it was the valiant forces of the Union, led by the noble General Ulysses S. Grant, that emerged victorious over the Confederate armies. The Confederate army, under the command of the gallant General Robert E. Lee, bravely fought to defend their cause, but in the final battles at Gettysburg and Appomattox, they were bested by the Union forces.\n",
       "\n",
       "'Twas a bitter victory, for the toll of the conflict was great, with countless lives lost and cities laid to waste. But in the end, the Union prevailed, and the forces of unity and freedom triumphed over those of division and oppression.\n",
       "\n",
       "And so, dear user, history records that the Civil War was won by the Union, and the nation was preserved under one flag, one nation indivisible.\n",
       "\n",
       "References:\n",
       "- McPherson, James M. Battle cry of freedom: The Civil War era. Oxford University Press, 2003.\n",
       "- Foote, Shelby. The Civil War: A Narrative. Vol. 3. Vintage, 1986.</td>\n",
       "    </tr>\n",
       "    <tr>\n",
       "      <th id=\"T_036e3_level0_row7\" class=\"row_heading level0 row7\" >7</th>\n",
       "      <td id=\"T_036e3_row7_col0\" class=\"data row7 col0\" >Who won the civil war?</td>\n",
       "      <td id=\"T_036e3_row7_col1\" class=\"data row7 col1\" >history</td>\n",
       "      <td id=\"T_036e3_row7_col2\" class=\"data row7 col2\" >Joe</td>\n",
       "      <td id=\"T_036e3_row7_col3\" class=\"data row7 col3\" >\n",
       "system: Answer the question of the user in the following style:\n",
       "\n",
       "topic specific style instructions: please answer in a narrative form, use shakespearing language and lots of examples\n",
       "\n",
       "user specific style instructions: Prose is hard for me to read quickly. Format the answer in bullet points.\n",
       "\n",
       "user: Who won the civil war?\n",
       "</td>\n",
       "      <td id=\"T_036e3_row7_col4\" class=\"data row7 col4\" >- The Civil War, a great conflict betwixt the Union and the Confederacy, did conclude with the victory of the Union forces led by the noble General Ulysses S. Grant.\n",
       "- The Union, under the wise leadership of President Abraham Lincoln, did vanquish the Confederate forces after many years of bloody battle.\n",
       "- The surrender of General Robert E. Lee at Appomattox Court House in 1865 did mark the end of the war, bringing peace and unity to the land once more.</td>\n",
       "    </tr>\n",
       "    <tr>\n",
       "      <th id=\"T_036e3_level0_row8\" class=\"row_heading level0 row8\" >8</th>\n",
       "      <td id=\"T_036e3_row8_col0\" class=\"data row8 col0\" >Who won the civil war?</td>\n",
       "      <td id=\"T_036e3_row8_col1\" class=\"data row8 col1\" >history</td>\n",
       "      <td id=\"T_036e3_row8_col2\" class=\"data row8 col2\" >Sally</td>\n",
       "      <td id=\"T_036e3_row8_col3\" class=\"data row8 col3\" >\n",
       "system: Answer the question of the user in the following style:\n",
       "\n",
       "topic specific style instructions: please answer in a narrative form, use shakespearing language and lots of examples\n",
       "\n",
       "user specific style instructions: Try to avoid complicated jargon and use simple language.\n",
       "\n",
       "user: Who won the civil war?\n",
       "</td>\n",
       "      <td id=\"T_036e3_row8_col4\" class=\"data row8 col4\" >In sooth, good sir, the Civil War didst end with the victory of the Union forces led by General Ulysses S. Grant over the Confederate troops under General Robert E. Lee. Verily, after many a fierce battle and much bloodshed, the Union did emerge triumphant o'er the Confederate armies.\n",
       "\n",
       "'Twas in the year of 1865, when General Lee did yield his sword to General Grant at Appomattox Court House, marking the official end of the war. The Union's cause of preserving the United States and abolishing the scourge of slavery did prevail.\n",
       "\n",
       "'Tis oft said that the pen is mightier than the sword, and in this case, 'twas the Union's determination and unity that did carry them to victory over the Confederate forces. Yet, the scars of war did linger on, as the nation sought to heal and rebuild in the aftermath of such a tumultuous conflict.</td>\n",
       "    </tr>\n",
       "  </tbody>\n",
       "</table>\n"
      ],
      "text/plain": [
       "<pandas.io.formats.style.Styler>"
      ]
     },
     "metadata": {},
     "output_type": "display_data"
    }
   ],
   "source": [
    "%%spannerlog\n",
    "?Style_Based_QA(Q,Topic,user,Prompt,Answer)"
   ]
  }
 ],
 "metadata": {
  "kernelspec": {
   "display_name": "python3",
   "language": "python",
   "name": "python3"
  }
 },
 "nbformat": 4,
 "nbformat_minor": 4
}
