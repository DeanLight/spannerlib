{
 "cells": [
  {
   "cell_type": "markdown",
   "metadata": {},
   "source": [
    "# Code Documentation Task\n"
   ]
  },
  {
   "cell_type": "raw",
   "metadata": {},
   "source": [
    "---\n",
    "skip_exec: true\n",
    "---"
   ]
  },
  {
   "cell_type": "code",
   "execution_count": null,
   "metadata": {},
   "outputs": [],
   "source": [
    "#| default_exp tutorials.copilot"
   ]
  },
  {
   "cell_type": "code",
   "execution_count": null,
   "metadata": {},
   "outputs": [],
   "source": [
    "#| hide\n",
    "from nbdev.showdoc import show_doc\n",
    "from IPython.display import display, HTML\n",
    "%load_ext autoreload\n",
    "%autoreload 2"
   ]
  },
  {
   "cell_type": "code",
   "execution_count": null,
   "metadata": {},
   "outputs": [],
   "source": [
    "#| export\n",
    "# importing dependencies\n",
    "import re\n",
    "import pandas as pd\n",
    "from pandas import DataFrame\n",
    "from pathlib import Path\n",
    "from spannerlib import get_magic_session,Session,Span\n"
   ]
  },
  {
   "cell_type": "markdown",
   "metadata": {},
   "source": [
    "In this tutorial we will show how to augment LLM context using formal rule based ie techniques, by presenting a copilot like code documentation pipeline.\n",
    "\n",
    "Normally, when running a model like copilot in an IDE like pycharm or vs-code, it is given the context of the last $k$ files in our editor history as context for the code completion.\n",
    "\n",
    "In this tutorial, we will see how we can use infromation extraction of spans of code based on the structure of the code to improve the context of the LLM.\n",
    "First, let us get the `llm` and `format` ie function from the basic tutorial."
   ]
  },
  {
   "cell_type": "code",
   "execution_count": null,
   "metadata": {},
   "outputs": [],
   "source": [
    "# load openAI api key for env file\n",
    "\n",
    "from dotenv import load_dotenv\n",
    "load_dotenv('.env_dev')\n",
    "import os\n",
    "assert os.getenv('OPENAI_API_KEY') is not None"
   ]
  },
  {
   "cell_type": "code",
   "execution_count": null,
   "metadata": {},
   "outputs": [],
   "source": [
    "from spannerlib.ie_func.basic import rgx_split\n",
    "from functools import cache\n",
    "import openai\n",
    "from joblib import Memory\n",
    "memory = Memory(\"cachedir\", verbose=0)\n",
    "client = openai.Client()\n",
    "\n",
    "def str_to_messages (string_prompt):\n",
    "    return [\n",
    "        {\n",
    "            'role': str(role).replace(': ',''),\n",
    "            'content': str(content)\n",
    "        } for role,content in rgx_split('system:\\s|assistant:\\s|user:\\s', string_prompt.strip())\n",
    "    ]\n",
    "def messages_to_string(msgs):\n",
    "    return ''.join([f\"{msg['content']}\" for msg in msgs])\n",
    "\n",
    "def openai_chat(model, messages):\n",
    "    respone = client.chat.completions.create(\n",
    "        model=model,\n",
    "        messages=messages,\n",
    "        seed=42\n",
    "    )\n",
    "    return [dict(respone.choices[0].message)]\n",
    "\n",
    "@memory.cache\n",
    "def llm(model, question):\n",
    "    q_msgs = str_to_messages(question)\n",
    "    a_msgs = openai_chat(model, q_msgs)\n",
    "    answer = messages_to_string(a_msgs)\n",
    "    return answer\n",
    "\n",
    "def llm_ie(model, question):\n",
    "    return [llm(model, question)]\n",
    "\n",
    "\n"
   ]
  },
  {
   "cell_type": "code",
   "execution_count": null,
   "metadata": {},
   "outputs": [],
   "source": [
    "def format_ie(f_string,*params):\n",
    "    yield f_string.format(*params),\n",
    "\n",
    "string_schema = lambda x: ([str]*x)"
   ]
  },
  {
   "cell_type": "code",
   "execution_count": null,
   "metadata": {},
   "outputs": [],
   "source": [
    "sess.register('llm', llm_ie, [str,str],[str])\n",
    "sess.register('format', format_ie, string_schema,[str])\n"
   ]
  },
  {
   "cell_type": "markdown",
   "metadata": {},
   "source": [
    "In order to analyze the structure of the code, we will be using python's `ast` module.\n",
    "We will write a very generic ie function that gets a piece of code, and an xpath query string returns the spans of all matches of the query over the ast of the given code.\n",
    "\n",
    "To do so we will use the `pyastgrep` library that allows us to look for xpath matches in python ast's.\n",
    "We will write a modified version of it's main function that returns Spans of the ast nodes."
   ]
  },
  {
   "cell_type": "code",
   "execution_count": null,
   "metadata": {},
   "outputs": [],
   "source": [
    "#TODO from here\n",
    "# make previous tutorials export, but not register ie function in export\n",
    "# clean the ast ie code and make a test\n",
    "# move test to code test folder\n",
    "# move covid samples to covid sample inputs dir\n",
    "# make sure we have a tmp dir that is in gitignore that we can clone pandas to\n",
    "\n",
    "\n",
    "# ! pip install ast2json json2ast\n",
    "from jsonpath_ng import jsonpath, parse\n",
    "import ast\n",
    "from ast2json import ast2json,str2json\n",
    "from json2ast import json2ast"
   ]
  },
  {
   "cell_type": "code",
   "execution_count": null,
   "metadata": {},
   "outputs": [],
   "source": [
    "from astpath import search,convert_to_xml,find_in_ast"
   ]
  },
  {
   "cell_type": "code",
   "execution_count": null,
   "metadata": {},
   "outputs": [],
   "source": [
    "from astpath.search import _tostring_factory\n",
    "tostring = _tostring_factory()"
   ]
  },
  {
   "cell_type": "code",
   "execution_count": null,
   "metadata": {},
   "outputs": [],
   "source": [
    "# ! pip install \"astpath[xpath]\"\n"
   ]
  },
  {
   "cell_type": "code",
   "execution_count": null,
   "metadata": {},
   "outputs": [],
   "source": [
    "def print_ast(tree):\n",
    "    print(ast.dump(tree, indent=2))\n"
   ]
  },
  {
   "cell_type": "code",
   "execution_count": null,
   "metadata": {},
   "outputs": [
    {
     "name": "stdout",
     "output_type": "stream",
     "text": [
      "Collecting pyastgrep\n",
      "  Downloading pyastgrep-1.3.2-py3-none-any.whl.metadata (2.3 kB)\n",
      "Requirement already satisfied: lxml>=3.3.5 in /Users/dean/miniconda3/envs/span/lib/python3.11/site-packages (from pyastgrep) (5.2.2)\n",
      "Collecting elementpath (from pyastgrep)\n",
      "  Downloading elementpath-4.4.0-py3-none-any.whl.metadata (6.7 kB)\n",
      "Collecting astpretty (from pyastgrep)\n",
      "  Downloading astpretty-3.0.0-py2.py3-none-any.whl.metadata (5.5 kB)\n",
      "Collecting pathspec (from pyastgrep)\n",
      "  Using cached pathspec-0.12.1-py3-none-any.whl.metadata (21 kB)\n",
      "Collecting cssselect>=1.2 (from pyastgrep)\n",
      "  Downloading cssselect-1.2.0-py2.py3-none-any.whl.metadata (2.2 kB)\n",
      "Downloading pyastgrep-1.3.2-py3-none-any.whl (21 kB)\n",
      "Downloading cssselect-1.2.0-py2.py3-none-any.whl (18 kB)\n",
      "Downloading astpretty-3.0.0-py2.py3-none-any.whl (4.9 kB)\n",
      "Downloading elementpath-4.4.0-py3-none-any.whl (219 kB)\n",
      "\u001b[2K   \u001b[90m━━━━━━━━━━━━━━━━━━━━━━━━━━━━━━━━━━━━━━━━\u001b[0m \u001b[32m219.8/219.8 kB\u001b[0m \u001b[31m1.2 MB/s\u001b[0m eta \u001b[36m0:00:00\u001b[0m00:01\u001b[0m00:01\u001b[0m\n",
      "\u001b[?25hUsing cached pathspec-0.12.1-py3-none-any.whl (31 kB)\n",
      "Installing collected packages: pathspec, elementpath, cssselect, astpretty, pyastgrep\n",
      "Successfully installed astpretty-3.0.0 cssselect-1.2.0 elementpath-4.4.0 pathspec-0.12.1 pyastgrep-1.3.2\n"
     ]
    }
   ],
   "source": [
    "! pip install pyastgrep"
   ]
  },
  {
   "cell_type": "code",
   "execution_count": null,
   "metadata": {},
   "outputs": [],
   "source": [
    "from pyastgrep.search import search_python_files,Match"
   ]
  },
  {
   "cell_type": "code",
   "execution_count": null,
   "metadata": {},
   "outputs": [],
   "source": [
    "matches = [m for m in search_python_files([Path('example_code.py')], '*/FunctionDef') if isinstance(m,Match)]\n",
    "m = matches[0]"
   ]
  },
  {
   "cell_type": "code",
   "execution_count": null,
   "metadata": {},
   "outputs": [
    {
     "data": {
      "text/plain": [
       "2"
      ]
     },
     "execution_count": null,
     "metadata": {},
     "output_type": "execute_result"
    }
   ],
   "source": [
    "m.ast_node.end_lineno"
   ]
  },
  {
   "cell_type": "code",
   "execution_count": null,
   "metadata": {},
   "outputs": [
    {
     "data": {
      "text/plain": [
       "Path('example_code.py')"
      ]
     },
     "execution_count": null,
     "metadata": {},
     "output_type": "execute_result"
    }
   ],
   "source": [
    "m.path"
   ]
  },
  {
   "cell_type": "code",
   "execution_count": null,
   "metadata": {},
   "outputs": [
    {
     "data": {
      "text/plain": [
       "'def f(x, y):\\n    x + y'"
      ]
     },
     "execution_count": null,
     "metadata": {},
     "output_type": "execute_result"
    }
   ],
   "source": [
    "ast.unparse(m.ast_node)"
   ]
  },
  {
   "cell_type": "code",
   "execution_count": null,
   "metadata": {},
   "outputs": [],
   "source": []
  },
  {
   "cell_type": "code",
   "execution_count": null,
   "metadata": {},
   "outputs": [],
   "source": [
    "from functools import cache\n",
    "\n",
    "def get_matching_nodes(path,expr):\n",
    "    \"\"\"get all ast nodes of the file path that matches the xpath expression expr\"\"\"\n",
    "    for match in search_python_files([Path(path)], expr):\n",
    "        if isinstance(match,Match):\n",
    "            yield match.ast_node\n",
    "\n",
    "@cache\n",
    "def _get_lines(path):\n",
    "    if not isinstance(path,Path):\n",
    "        path = Path(path)\n",
    "    return tuple(path.read_text().split('\\n'))\n",
    "\n",
    "def get_character_position(path, line_number, column_offset):\n",
    "    \"\"\"gets a character position from a line number and column offset\"\"\"\n",
    "    lines = _get_lines(path)\n",
    "    if line_number < 1 or line_number > len(lines):\n",
    "        raise ValueError(\"Invalid line number\")\n",
    "    line = lines[line_number - 1]\n",
    "    if column_offset < 0 or column_offset > len(line):\n",
    "        raise ValueError(\"Invalid column offset\")\n",
    "    return sum(len(lines[i]) + 1 for i in range(line_number - 1)) + column_offset\n",
    "\n",
    "def node_to_span(path,node):\n",
    "    \"\"\"given a node <node> of an ast from file <path>,\n",
    "    returns the location of the node in the file as a Span object\"\"\"\n",
    "    file_text = Path(path).read_text()\n",
    "    start = get_character_position(path,node.lineno,node.col_offset)\n",
    "    if hasattr(node,'end_lineno') and hasattr(node,'end_col_offset'):\n",
    "        end = get_character_position(path,node.end_lineno,node.end_col_offset)\n",
    "    else:\n",
    "        end = start + len(ast.unparse(node))\n",
    "    return Span(text,start,end)\n"
   ]
  },
  {
   "cell_type": "code",
   "execution_count": null,
   "metadata": {},
   "outputs": [],
   "source": [
    "def ast_ie(path,expr):\n",
    "    \"\"\"returns a list of spans of the nodes that match the xpath expression <expr> in the file <path>\"\"\"\n",
    "    for node in get_matching_nodes(path,expr):\n",
    "        yield node_to_span(path,node)"
   ]
  },
  {
   "cell_type": "code",
   "execution_count": null,
   "metadata": {},
   "outputs": [
    {
     "data": {
      "text/plain": [
       "[[@25a789,0,19) \"def f(x,y)...\", [@25a789,22,54) \"def g(x,y)...\"]"
      ]
     },
     "execution_count": null,
     "metadata": {},
     "output_type": "execute_result"
    }
   ],
   "source": [
    "list(ast_ie('example_code.py','*/FunctionDef'))"
   ]
  },
  {
   "cell_type": "code",
   "execution_count": null,
   "metadata": {},
   "outputs": [],
   "source": []
  },
  {
   "cell_type": "code",
   "execution_count": null,
   "metadata": {},
   "outputs": [
    {
     "name": "stdout",
     "output_type": "stream",
     "text": [
      "\u001b[0;31mSignature:\u001b[0m \u001b[0mconvert_to_xml\u001b[0m\u001b[0;34m(\u001b[0m\u001b[0mnode\u001b[0m\u001b[0;34m,\u001b[0m \u001b[0momit_docstrings\u001b[0m\u001b[0;34m=\u001b[0m\u001b[0;32mFalse\u001b[0m\u001b[0;34m,\u001b[0m \u001b[0mnode_mappings\u001b[0m\u001b[0;34m=\u001b[0m\u001b[0;32mNone\u001b[0m\u001b[0;34m)\u001b[0m\u001b[0;34m\u001b[0m\u001b[0;34m\u001b[0m\u001b[0m\n",
      "\u001b[0;31mDocstring:\u001b[0m Convert supplied AST node to XML.\n",
      "\u001b[0;31mFile:\u001b[0m      ~/miniconda3/envs/span/lib/python3.11/site-packages/astpath/asts.py\n",
      "\u001b[0;31mType:\u001b[0m      function"
     ]
    }
   ],
   "source": [
    "convert_to_xml?"
   ]
  },
  {
   "cell_type": "code",
   "execution_count": null,
   "metadata": {},
   "outputs": [
    {
     "name": "stdout",
     "output_type": "stream",
     "text": [
      "\u001b[0;31mSignature:\u001b[0m\n",
      "\u001b[0mfind_in_ast\u001b[0m\u001b[0;34m(\u001b[0m\u001b[0;34m\u001b[0m\n",
      "\u001b[0;34m\u001b[0m    \u001b[0mxml_ast\u001b[0m\u001b[0;34m,\u001b[0m\u001b[0;34m\u001b[0m\n",
      "\u001b[0;34m\u001b[0m    \u001b[0mexpr\u001b[0m\u001b[0;34m,\u001b[0m\u001b[0;34m\u001b[0m\n",
      "\u001b[0;34m\u001b[0m    \u001b[0mquery\u001b[0m\u001b[0;34m=\u001b[0m\u001b[0;34m<\u001b[0m\u001b[0mfunction\u001b[0m \u001b[0m_query_factory\u001b[0m\u001b[0;34m.\u001b[0m\u001b[0;34m<\u001b[0m\u001b[0mlocals\u001b[0m\u001b[0;34m>\u001b[0m\u001b[0;34m.\u001b[0m\u001b[0mlxml_query\u001b[0m \u001b[0mat\u001b[0m \u001b[0;36m0x12b2cf600\u001b[0m\u001b[0;34m>\u001b[0m\u001b[0;34m,\u001b[0m\u001b[0;34m\u001b[0m\n",
      "\u001b[0;34m\u001b[0m    \u001b[0mnode_mappings\u001b[0m\u001b[0;34m=\u001b[0m\u001b[0;32mNone\u001b[0m\u001b[0;34m,\u001b[0m\u001b[0;34m\u001b[0m\n",
      "\u001b[0;34m\u001b[0m\u001b[0;34m)\u001b[0m\u001b[0;34m\u001b[0m\u001b[0;34m\u001b[0m\u001b[0m\n",
      "\u001b[0;31mDocstring:\u001b[0m Find items matching expression expr in an XML AST.\n",
      "\u001b[0;31mFile:\u001b[0m      ~/miniconda3/envs/span/lib/python3.11/site-packages/astpath/search.py\n",
      "\u001b[0;31mType:\u001b[0m      function"
     ]
    }
   ],
   "source": [
    "find_in_ast?"
   ]
  },
  {
   "cell_type": "code",
   "execution_count": null,
   "metadata": {},
   "outputs": [
    {
     "name": "stdout",
     "output_type": "stream",
     "text": [
      "Module(\n",
      "  body=[\n",
      "    FunctionDef(\n",
      "      name='f',\n",
      "      args=arguments(\n",
      "        posonlyargs=[],\n",
      "        args=[\n",
      "          arg(arg='x'),\n",
      "          arg(arg='y')],\n",
      "        kwonlyargs=[],\n",
      "        kw_defaults=[],\n",
      "        defaults=[]),\n",
      "      body=[\n",
      "        Expr(\n",
      "          value=BinOp(\n",
      "            left=Name(id='x', ctx=Load()),\n",
      "            op=Add(),\n",
      "            right=Name(id='y', ctx=Load())))],\n",
      "      decorator_list=[]),\n",
      "    FunctionDef(\n",
      "      name='g',\n",
      "      args=arguments(\n",
      "        posonlyargs=[],\n",
      "        args=[\n",
      "          arg(arg='x'),\n",
      "          arg(arg='y')],\n",
      "        kwonlyargs=[],\n",
      "        kw_defaults=[],\n",
      "        defaults=[]),\n",
      "      body=[\n",
      "        Return(\n",
      "          value=BinOp(\n",
      "            left=Call(\n",
      "              func=Name(id='f', ctx=Load()),\n",
      "              args=[\n",
      "                Name(id='x', ctx=Load()),\n",
      "                Name(id='y', ctx=Load())],\n",
      "              keywords=[]),\n",
      "            op=Pow(),\n",
      "            right=Constant(value=2)))],\n",
      "      decorator_list=[]),\n",
      "    Expr(\n",
      "      value=Call(\n",
      "        func=Name(id='print', ctx=Load()),\n",
      "        args=[\n",
      "          Call(\n",
      "            func=Name(id='g', ctx=Load()),\n",
      "            args=[\n",
      "              Constant(value=2),\n",
      "              Constant(value=3)],\n",
      "            keywords=[])],\n",
      "        keywords=[]))],\n",
      "  type_ignores=[])\n"
     ]
    }
   ],
   "source": [
    "print_ast(ast_tree)"
   ]
  },
  {
   "cell_type": "code",
   "execution_count": null,
   "metadata": {},
   "outputs": [
    {
     "data": {
      "text/plain": [
       "['__class__',\n",
       " '__delattr__',\n",
       " '__dict__',\n",
       " '__dir__',\n",
       " '__doc__',\n",
       " '__eq__',\n",
       " '__format__',\n",
       " '__ge__',\n",
       " '__getattribute__',\n",
       " '__getstate__',\n",
       " '__gt__',\n",
       " '__hash__',\n",
       " '__init__',\n",
       " '__init_subclass__',\n",
       " '__le__',\n",
       " '__lt__',\n",
       " '__match_args__',\n",
       " '__module__',\n",
       " '__ne__',\n",
       " '__new__',\n",
       " '__reduce__',\n",
       " '__reduce_ex__',\n",
       " '__repr__',\n",
       " '__setattr__',\n",
       " '__sizeof__',\n",
       " '__str__',\n",
       " '__subclasshook__',\n",
       " '__weakref__',\n",
       " '_attributes',\n",
       " '_fields',\n",
       " 'body',\n",
       " 'type_ignores']"
      ]
     },
     "execution_count": null,
     "metadata": {},
     "output_type": "execute_result"
    }
   ],
   "source": [
    "dir(ast_tree)"
   ]
  },
  {
   "cell_type": "code",
   "execution_count": null,
   "metadata": {},
   "outputs": [],
   "source": []
  },
  {
   "cell_type": "code",
   "execution_count": null,
   "metadata": {},
   "outputs": [],
   "source": []
  },
  {
   "cell_type": "code",
   "execution_count": null,
   "metadata": {},
   "outputs": [
    {
     "data": {
      "text/plain": [
       "'?TestLLM(answer)'"
      ]
     },
     "metadata": {},
     "output_type": "display_data"
    },
    {
     "data": {
      "text/html": [
       "<style type=\"text/css\">\n",
       "#T_925b1_row0_col0 {\n",
       "  overflow-wrap: break-word;\n",
       "  max-width: 800px;\n",
       "  text-align: left;\n",
       "}\n",
       "</style>\n",
       "<table id=\"T_925b1\">\n",
       "  <thead>\n",
       "    <tr>\n",
       "      <th class=\"blank level0\" >&nbsp;</th>\n",
       "      <th id=\"T_925b1_level0_col0\" class=\"col_heading level0 col0\" >answer</th>\n",
       "    </tr>\n",
       "  </thead>\n",
       "  <tbody>\n",
       "    <tr>\n",
       "      <th id=\"T_925b1_level0_row0\" class=\"row_heading level0 row0\" >0</th>\n",
       "      <td id=\"T_925b1_row0_col0\" class=\"data row0 col0\" >Absolutely nothing!</td>\n",
       "    </tr>\n",
       "  </tbody>\n",
       "</table>\n"
      ],
      "text/plain": [
       "<pandas.io.formats.style.Styler>"
      ]
     },
     "metadata": {},
     "output_type": "display_data"
    }
   ],
   "source": [
    "%%spannerlog\n",
    "\n",
    "model = 'gpt-3.5-turbo'\n",
    "prompt = \"user: sing it with me, love, what is it good for?\"\n",
    "\n",
    "TestLLM(answer)<-\\\n",
    "    llm($model,$prompt)->(answer)\n",
    "\n",
    "?TestLLM(answer)\n"
   ]
  },
  {
   "cell_type": "markdown",
   "metadata": {},
   "source": [
    "Now let see how we can use spannerlib to build a simple pipeline that varries the LLM prompt in a data dependant way.\n",
    "Imagine that we have a chatbot that we want to act differently based on the topic of conversation and the user preference."
   ]
  },
  {
   "cell_type": "markdown",
   "metadata": {},
   "source": [
    "To enable us to format prompts from data, we will use a prompt formatting function with a `printf` like syntax.\n",
    "It is available in spannerlib's stdlib, but we will reproduce it here."
   ]
  },
  {
   "cell_type": "markdown",
   "metadata": {},
   "source": [
    "\n",
    "We will model our data as follows:"
   ]
  },
  {
   "cell_type": "code",
   "execution_count": null,
   "metadata": {},
   "outputs": [],
   "source": [
    "\n",
    "# a binary relation that stores how the user prefers the formatted\n",
    "user_answer_prefernce = pd.DataFrame([\n",
    "    ('Bob', 'please answer in prose. Make sure you add references in the end like a bibliography.'),\n",
    "    ('Joe', 'Prose is hard for me to read quickly. Format the answer in bullet points.'),\n",
    "    ('Sally', 'Try to avoid complicated jargon and use simple language.'),\n",
    "])\n",
    "\n",
    "# relation that stores per topic style\n",
    "topic_specific_style = pd.DataFrame([\n",
    "    ('history', 'please answer in a narrative form, use shakespearing language and lots of examples'),\n",
    "    ('science', 'Use mathematical notation and formulas to explain the concepts.'),\n",
    "    ('hiphop', 'introduce the answer with a rap verse.'),\n",
    "    ('other', 'Be polite and neutral in your answer. Avoid controversial topics.'),\n",
    "])\n",
    "\n",
    "sess.import_rel('UserAnswerPreference', user_answer_prefernce)\n",
    "sess.import_rel('TopicSpecificStyle', topic_specific_style)"
   ]
  },
  {
   "cell_type": "markdown",
   "metadata": {},
   "source": [
    "Now we will build our pipeline as follows:\n",
    "* We will make an llm call to help us decide the topic of the question\n",
    "* Based on the topic and the user, we will formulate the final prompt for the llm to answer.\n"
   ]
  },
  {
   "cell_type": "code",
   "execution_count": null,
   "metadata": {},
   "outputs": [
    {
     "data": {
      "text/html": [
       "<div>\n",
       "<style scoped>\n",
       "    .dataframe tbody tr th:only-of-type {\n",
       "        vertical-align: middle;\n",
       "    }\n",
       "\n",
       "    .dataframe tbody tr th {\n",
       "        vertical-align: top;\n",
       "    }\n",
       "\n",
       "    .dataframe thead th {\n",
       "        text-align: right;\n",
       "    }\n",
       "</style>\n",
       "<table border=\"1\" class=\"dataframe\">\n",
       "  <thead>\n",
       "    <tr style=\"text-align: right;\">\n",
       "      <th></th>\n",
       "      <th>0</th>\n",
       "      <th>1</th>\n",
       "    </tr>\n",
       "  </thead>\n",
       "  <tbody>\n",
       "    <tr>\n",
       "      <th>0</th>\n",
       "      <td>topic_selection</td>\n",
       "      <td>system: Please select a topic from the follow...</td>\n",
       "    </tr>\n",
       "    <tr>\n",
       "      <th>1</th>\n",
       "      <td>custom_style_prompt</td>\n",
       "      <td>system: Answer the question of the user in th...</td>\n",
       "    </tr>\n",
       "  </tbody>\n",
       "</table>\n",
       "</div>"
      ],
      "text/plain": [
       "                     0                                                  1\n",
       "0      topic_selection  \n",
       "system: Please select a topic from the follow...\n",
       "1  custom_style_prompt  \n",
       "system: Answer the question of the user in th..."
      ]
     },
     "execution_count": null,
     "metadata": {},
     "output_type": "execute_result"
    }
   ],
   "source": [
    "prompts = pd.DataFrame([\n",
    "    ('topic_selection',\n",
    "\"\"\"\n",
    "system: Please select a topic from the following list: [history, science, hiphop, other]\n",
    "based on the question provided by the user. You are only allwed to say the topic name, nothing else.\n",
    "\n",
    "user: {}\n",
    "\"\"\"),\n",
    "    ('custom_style_prompt',\n",
    "\"\"\"\n",
    "system: Answer the question of the user in the following style:\n",
    "\n",
    "topic specific style instructions: {}\n",
    "\n",
    "user specific style instructions: {}\n",
    "\n",
    "user: {}\n",
    "\"\"\"\n",
    ")\n",
    "])\n",
    "sess.import_rel('Prompts', prompts)\n",
    "prompts"
   ]
  },
  {
   "cell_type": "code",
   "execution_count": null,
   "metadata": {},
   "outputs": [
    {
     "data": {
      "text/plain": [
       "'?Prompts(prompt_id,prompt)'"
      ]
     },
     "metadata": {},
     "output_type": "display_data"
    },
    {
     "data": {
      "text/html": [
       "<style type=\"text/css\">\n",
       "#T_111b7_row0_col0, #T_111b7_row0_col1, #T_111b7_row1_col0, #T_111b7_row1_col1 {\n",
       "  overflow-wrap: break-word;\n",
       "  max-width: 800px;\n",
       "  text-align: left;\n",
       "}\n",
       "</style>\n",
       "<table id=\"T_111b7\">\n",
       "  <thead>\n",
       "    <tr>\n",
       "      <th class=\"blank level0\" >&nbsp;</th>\n",
       "      <th id=\"T_111b7_level0_col0\" class=\"col_heading level0 col0\" >prompt_id</th>\n",
       "      <th id=\"T_111b7_level0_col1\" class=\"col_heading level0 col1\" >prompt</th>\n",
       "    </tr>\n",
       "  </thead>\n",
       "  <tbody>\n",
       "    <tr>\n",
       "      <th id=\"T_111b7_level0_row0\" class=\"row_heading level0 row0\" >0</th>\n",
       "      <td id=\"T_111b7_row0_col0\" class=\"data row0 col0\" >custom_style_prompt</td>\n",
       "      <td id=\"T_111b7_row0_col1\" class=\"data row0 col1\" >\n",
       "system: Answer the question of the user in the following style:\n",
       "\n",
       "topic specific style instructions: {}\n",
       "\n",
       "user specific style instructions: {}\n",
       "\n",
       "user: {}\n",
       "</td>\n",
       "    </tr>\n",
       "    <tr>\n",
       "      <th id=\"T_111b7_level0_row1\" class=\"row_heading level0 row1\" >1</th>\n",
       "      <td id=\"T_111b7_row1_col0\" class=\"data row1 col0\" >topic_selection</td>\n",
       "      <td id=\"T_111b7_row1_col1\" class=\"data row1 col1\" >\n",
       "system: Please select a topic from the following list: [history, science, hiphop, other]\n",
       "based on the question provided by the user. You are only allwed to say the topic name, nothing else.\n",
       "\n",
       "user: {}\n",
       "</td>\n",
       "    </tr>\n",
       "  </tbody>\n",
       "</table>\n"
      ],
      "text/plain": [
       "<pandas.io.formats.style.Styler>"
      ]
     },
     "metadata": {},
     "output_type": "display_data"
    }
   ],
   "source": [
    "%%spannerlog\n",
    "?Prompts(prompt_id,prompt)"
   ]
  },
  {
   "cell_type": "markdown",
   "metadata": {},
   "source": [
    "Now given a relation of user and question"
   ]
  },
  {
   "cell_type": "code",
   "execution_count": null,
   "metadata": {},
   "outputs": [],
   "source": [
    "questions= pd.DataFrame([\n",
    "    ('Bob', 'Who won the civil war?'),\n",
    "    ('Joe', 'Who won the civil war?'),\n",
    "    ('Sally', 'Who won the civil war?'),\n",
    "    ('Bob', 'How do we measure the distance between stars?'),\n",
    "    ('Joe', 'How do we measure the distance between stars?'),\n",
    "    ('Sally', 'How do we measure the distance between stars?'),\n",
    "    ('Bob', 'Who are the most well known rappers?'),\n",
    "    ('Joe', 'Who are the most well known rappers?'),\n",
    "    ('Sally', 'Who are the most well known rappers?'),\n",
    "])\n",
    "sess.import_rel('Questions', questions)"
   ]
  },
  {
   "cell_type": "code",
   "execution_count": null,
   "metadata": {},
   "outputs": [
    {
     "data": {
      "text/plain": [
       "'?TopicPrompt(Q,P)'"
      ]
     },
     "metadata": {},
     "output_type": "display_data"
    },
    {
     "data": {
      "text/html": [
       "<style type=\"text/css\">\n",
       "#T_c5073_row0_col0, #T_c5073_row0_col1, #T_c5073_row1_col0, #T_c5073_row1_col1, #T_c5073_row2_col0, #T_c5073_row2_col1 {\n",
       "  overflow-wrap: break-word;\n",
       "  max-width: 800px;\n",
       "  text-align: left;\n",
       "}\n",
       "</style>\n",
       "<table id=\"T_c5073\">\n",
       "  <thead>\n",
       "    <tr>\n",
       "      <th class=\"blank level0\" >&nbsp;</th>\n",
       "      <th id=\"T_c5073_level0_col0\" class=\"col_heading level0 col0\" >Q</th>\n",
       "      <th id=\"T_c5073_level0_col1\" class=\"col_heading level0 col1\" >P</th>\n",
       "    </tr>\n",
       "  </thead>\n",
       "  <tbody>\n",
       "    <tr>\n",
       "      <th id=\"T_c5073_level0_row0\" class=\"row_heading level0 row0\" >0</th>\n",
       "      <td id=\"T_c5073_row0_col0\" class=\"data row0 col0\" >How do we measure the distance between stars?</td>\n",
       "      <td id=\"T_c5073_row0_col1\" class=\"data row0 col1\" >\n",
       "system: Please select a topic from the following list: [history, science, hiphop, other]\n",
       "based on the question provided by the user. You are only allwed to say the topic name, nothing else.\n",
       "\n",
       "user: How do we measure the distance between stars?\n",
       "</td>\n",
       "    </tr>\n",
       "    <tr>\n",
       "      <th id=\"T_c5073_level0_row1\" class=\"row_heading level0 row1\" >1</th>\n",
       "      <td id=\"T_c5073_row1_col0\" class=\"data row1 col0\" >Who are the most well known rappers?</td>\n",
       "      <td id=\"T_c5073_row1_col1\" class=\"data row1 col1\" >\n",
       "system: Please select a topic from the following list: [history, science, hiphop, other]\n",
       "based on the question provided by the user. You are only allwed to say the topic name, nothing else.\n",
       "\n",
       "user: Who are the most well known rappers?\n",
       "</td>\n",
       "    </tr>\n",
       "    <tr>\n",
       "      <th id=\"T_c5073_level0_row2\" class=\"row_heading level0 row2\" >2</th>\n",
       "      <td id=\"T_c5073_row2_col0\" class=\"data row2 col0\" >Who won the civil war?</td>\n",
       "      <td id=\"T_c5073_row2_col1\" class=\"data row2 col1\" >\n",
       "system: Please select a topic from the following list: [history, science, hiphop, other]\n",
       "based on the question provided by the user. You are only allwed to say the topic name, nothing else.\n",
       "\n",
       "user: Who won the civil war?\n",
       "</td>\n",
       "    </tr>\n",
       "  </tbody>\n",
       "</table>\n"
      ],
      "text/plain": [
       "<pandas.io.formats.style.Styler>"
      ]
     },
     "metadata": {},
     "output_type": "display_data"
    }
   ],
   "source": []
  },
  {
   "cell_type": "markdown",
   "metadata": {},
   "source": [
    "Now lets combine all of this into a pipeline.\n"
   ]
  },
  {
   "cell_type": "code",
   "execution_count": null,
   "metadata": {},
   "outputs": [],
   "source": [
    "%%spannerlog\n",
    "model = 'gpt-3.5-turbo'\n",
    "\n",
    "TopicPrompt(Q,P)<-\\\n",
    "    Questions(user,Q),\\\n",
    "    Prompts('topic_selection',Template),\\\n",
    "    format(Template,Q)->(P)\n",
    "    \n",
    "?TopicPrompt(Q,P)\n",
    "\n",
    "TopicSelection(Q,T)<-\\\n",
    "    TopicPrompt(Q,P),\\\n",
    "    llm($model,P)->(T)\n",
    "\n",
    "?TopicSelection(Q,T)\n",
    "StylePrompt(Q,P,Topic,user)<-\\\n",
    "    Questions(user,Q),\\\n",
    "    TopicSelection(Q,Topic),\\\n",
    "    UserAnswerPreference(user,UserStyle),\\\n",
    "    TopicSpecificStyle(Topic,TopicStyle),\\\n",
    "    Prompts('custom_style_prompt',promptTemplate),\\\n",
    "    format(promptTemplate,TopicStyle,UserStyle,Q)->(P)\n",
    "\n",
    "\n",
    "Style_Based_QA(Q,Topic,user,P,A)<-\\\n",
    "    StylePrompt(Q,P,Topic,user),\\\n",
    "    llm($model,P)->(A)\n",
    "\n"
   ]
  },
  {
   "cell_type": "markdown",
   "metadata": {},
   "source": [
    "And as you can see, we have a topic and user dependant LLM pipeline"
   ]
  },
  {
   "cell_type": "code",
   "execution_count": null,
   "metadata": {},
   "outputs": [
    {
     "data": {
      "text/plain": [
       "'?Style_Based_QA(Q,Topic,user,Prompt,Answer)'"
      ]
     },
     "metadata": {},
     "output_type": "display_data"
    },
    {
     "data": {
      "text/html": [
       "<style type=\"text/css\">\n",
       "#T_036e3_row0_col0, #T_036e3_row0_col1, #T_036e3_row0_col2, #T_036e3_row0_col3, #T_036e3_row0_col4, #T_036e3_row1_col0, #T_036e3_row1_col1, #T_036e3_row1_col2, #T_036e3_row1_col3, #T_036e3_row1_col4, #T_036e3_row2_col0, #T_036e3_row2_col1, #T_036e3_row2_col2, #T_036e3_row2_col3, #T_036e3_row2_col4, #T_036e3_row3_col0, #T_036e3_row3_col1, #T_036e3_row3_col2, #T_036e3_row3_col3, #T_036e3_row3_col4, #T_036e3_row4_col0, #T_036e3_row4_col1, #T_036e3_row4_col2, #T_036e3_row4_col3, #T_036e3_row4_col4, #T_036e3_row5_col0, #T_036e3_row5_col1, #T_036e3_row5_col2, #T_036e3_row5_col3, #T_036e3_row5_col4, #T_036e3_row6_col0, #T_036e3_row6_col1, #T_036e3_row6_col2, #T_036e3_row6_col3, #T_036e3_row6_col4, #T_036e3_row7_col0, #T_036e3_row7_col1, #T_036e3_row7_col2, #T_036e3_row7_col3, #T_036e3_row7_col4, #T_036e3_row8_col0, #T_036e3_row8_col1, #T_036e3_row8_col2, #T_036e3_row8_col3, #T_036e3_row8_col4 {\n",
       "  overflow-wrap: break-word;\n",
       "  max-width: 800px;\n",
       "  text-align: left;\n",
       "}\n",
       "</style>\n",
       "<table id=\"T_036e3\">\n",
       "  <thead>\n",
       "    <tr>\n",
       "      <th class=\"blank level0\" >&nbsp;</th>\n",
       "      <th id=\"T_036e3_level0_col0\" class=\"col_heading level0 col0\" >Q</th>\n",
       "      <th id=\"T_036e3_level0_col1\" class=\"col_heading level0 col1\" >Topic</th>\n",
       "      <th id=\"T_036e3_level0_col2\" class=\"col_heading level0 col2\" >user</th>\n",
       "      <th id=\"T_036e3_level0_col3\" class=\"col_heading level0 col3\" >Prompt</th>\n",
       "      <th id=\"T_036e3_level0_col4\" class=\"col_heading level0 col4\" >Answer</th>\n",
       "    </tr>\n",
       "  </thead>\n",
       "  <tbody>\n",
       "    <tr>\n",
       "      <th id=\"T_036e3_level0_row0\" class=\"row_heading level0 row0\" >0</th>\n",
       "      <td id=\"T_036e3_row0_col0\" class=\"data row0 col0\" >How do we measure the distance between stars?</td>\n",
       "      <td id=\"T_036e3_row0_col1\" class=\"data row0 col1\" >science</td>\n",
       "      <td id=\"T_036e3_row0_col2\" class=\"data row0 col2\" >Bob</td>\n",
       "      <td id=\"T_036e3_row0_col3\" class=\"data row0 col3\" >\n",
       "system: Answer the question of the user in the following style:\n",
       "\n",
       "topic specific style instructions: Use mathematical notation and formulas to explain the concepts.\n",
       "\n",
       "user specific style instructions: please answer in prose. Make sure you add references in the end like a bibliography.\n",
       "\n",
       "user: How do we measure the distance between stars?\n",
       "</td>\n",
       "      <td id=\"T_036e3_row0_col4\" class=\"data row0 col4\" >The distance between stars is measured in astronomical units (AU), parsecs (pc), or light-years (ly). \n",
       "\n",
       "1. **Astronomical Unit (AU)**: An AU is the average distance between the Earth and the Sun, which is approximately 93 million miles or 150 million kilometers. It is more commonly used to measure distances within our solar system.\n",
       "\n",
       "2. **Parsec (pc)**: A parsec is a unit of distance used in astronomy, defined as the distance at which an object would have a parallax angle of one arcsecond. One parsec is equal to about 3.26 light-years or 3.09 x 10^13 kilometers.\n",
       "\n",
       "3. **Light-year (ly)**: A light-year is the distance that light travels in one year, which is approximately 9.46 trillion kilometers or about 5.88 trillion miles.\n",
       "\n",
       "To measure the distance to nearby stars, astronomers use a method called parallax. This involves observing a star from two different points in Earth's orbit around the Sun, which causes the star to appear to shift slightly against the background of more distant stars. By measuring the angle of this shift (the parallax angle), astronomers can calculate the distance to the star using trigonometry.\n",
       "\n",
       "For more distant stars, astronomers use other methods such as spectroscopic parallax, standard candles (like Cepheid variables), and the cosmic distance ladder which combines various distance measurement techniques to determine distances to faraway objects in the universe.\n",
       "\n",
       "References:\n",
       "1. \"Astronomical unit\" - NASA, https://solarsystem.nasa.gov/solar-system/our-solar-system/overview/\n",
       "2. \"Parsec\" - European Space Agency, https://www.spacetelescope.org/about/general/parallax/\n",
       "3. \"Light-year\" - Space.com, https://www.space.com/15830-light-years.html\n",
       "4. \"Parallax\" - European Southern Observatory, https://www.eso.org/public/usa/news/eso1718/</td>\n",
       "    </tr>\n",
       "    <tr>\n",
       "      <th id=\"T_036e3_level0_row1\" class=\"row_heading level0 row1\" >1</th>\n",
       "      <td id=\"T_036e3_row1_col0\" class=\"data row1 col0\" >How do we measure the distance between stars?</td>\n",
       "      <td id=\"T_036e3_row1_col1\" class=\"data row1 col1\" >science</td>\n",
       "      <td id=\"T_036e3_row1_col2\" class=\"data row1 col2\" >Joe</td>\n",
       "      <td id=\"T_036e3_row1_col3\" class=\"data row1 col3\" >\n",
       "system: Answer the question of the user in the following style:\n",
       "\n",
       "topic specific style instructions: Use mathematical notation and formulas to explain the concepts.\n",
       "\n",
       "user specific style instructions: Prose is hard for me to read quickly. Format the answer in bullet points.\n",
       "\n",
       "user: How do we measure the distance between stars?\n",
       "</td>\n",
       "      <td id=\"T_036e3_row1_col4\" class=\"data row1 col4\" >- To measure the distance between stars, astronomers use a method called parallax, which is based on trigonometry.\n",
       "- Parallax involves observing a star from two different points in Earth's orbit and measuring the angle, known as the parallax angle, that the star appears to move.\n",
       "- The distance to the star can be calculated using the formula: distance = 1 / parallax angle.\n",
       "- The unit typically used for measuring stellar distances is the parsec (pc), where 1 parsec is equivalent to about 3.26 light years.\n",
       "- Other methods like photometric distance and spectroscopic parallax are also used to measure distances to stars that are much farther away.</td>\n",
       "    </tr>\n",
       "    <tr>\n",
       "      <th id=\"T_036e3_level0_row2\" class=\"row_heading level0 row2\" >2</th>\n",
       "      <td id=\"T_036e3_row2_col0\" class=\"data row2 col0\" >How do we measure the distance between stars?</td>\n",
       "      <td id=\"T_036e3_row2_col1\" class=\"data row2 col1\" >science</td>\n",
       "      <td id=\"T_036e3_row2_col2\" class=\"data row2 col2\" >Sally</td>\n",
       "      <td id=\"T_036e3_row2_col3\" class=\"data row2 col3\" >\n",
       "system: Answer the question of the user in the following style:\n",
       "\n",
       "topic specific style instructions: Use mathematical notation and formulas to explain the concepts.\n",
       "\n",
       "user specific style instructions: Try to avoid complicated jargon and use simple language.\n",
       "\n",
       "user: How do we measure the distance between stars?\n",
       "</td>\n",
       "      <td id=\"T_036e3_row2_col4\" class=\"data row2 col4\" >One common way to measure the distance between stars is through parallax. Parallax is the apparent shift in position of an object when viewed from two different points. \n",
       "\n",
       "The parallax angle, denoted by p, is the angle formed between a line from the observer to the star at two different times when Earth is on opposite sides of its orbit. The distance to the star, denoted by d, can be calculated using the formula:\n",
       "\n",
       "\\[ d = \\frac{1}{\\tan(p)} \\]\n",
       "\n",
       "By measuring the parallax angle and using this formula, astronomers can determine the distance to nearby stars.</td>\n",
       "    </tr>\n",
       "    <tr>\n",
       "      <th id=\"T_036e3_level0_row3\" class=\"row_heading level0 row3\" >3</th>\n",
       "      <td id=\"T_036e3_row3_col0\" class=\"data row3 col0\" >Who are the most well known rappers?</td>\n",
       "      <td id=\"T_036e3_row3_col1\" class=\"data row3 col1\" >hiphop</td>\n",
       "      <td id=\"T_036e3_row3_col2\" class=\"data row3 col2\" >Bob</td>\n",
       "      <td id=\"T_036e3_row3_col3\" class=\"data row3 col3\" >\n",
       "system: Answer the question of the user in the following style:\n",
       "\n",
       "topic specific style instructions: introduce the answer with a rap verse.\n",
       "\n",
       "user specific style instructions: please answer in prose. Make sure you add references in the end like a bibliography.\n",
       "\n",
       "user: Who are the most well known rappers?\n",
       "</td>\n",
       "      <td id=\"T_036e3_row3_col4\" class=\"data row3 col4\" >Straight outta Compton, a city so gritty,\n",
       "Let me introduce thee to the rap elite committee.\n",
       "Eminem, with his lyrical finesse,\n",
       "Jay-Z, the blueprint of success.\n",
       "Kendrick Lamar, with his socially conscious flow,\n",
       "And Tupac, whose words still resonate, yo.\n",
       "These artists have left a mark on the game,\n",
       "Their names forever etched in the hall of fame.\n",
       "\n",
       "Some of the most well-known rappers in the music industry include Eminem, Jay-Z, Kendrick Lamar, and Tupac Shakur. Each of these artists has had a significant impact on the genre of rap through their unique styles and powerful lyrics. Their influence can be seen in the way they have shaped the culture of hip-hop and inspired countless artists to follow in their footsteps.\n",
       "\n",
       "1. Eminem: An American rapper known for his intricate wordplay and controversial lyrics. His albums, such as \"The Marshall Mathers LP\" and \"The Eminem Show,\" have garnered critical acclaim and commercial success.\n",
       "\n",
       "2. Jay-Z: A legendary rapper and businessman, Jay-Z is renowned for his storytelling abilities and entrepreneurial ventures. His albums, including \"The Blueprint\" and \"4:44,\" have solidified his status as one of the greatest rappers of all time.\n",
       "\n",
       "3. Kendrick Lamar: Hailing from Compton, California, Kendrick Lamar is celebrated for his socially conscious lyrics and complex rhyme schemes. His albums, like \"good kid, m.A.A.d city\" and \"To Pimp a Butterfly,\" have won numerous awards and accolades.\n",
       "\n",
       "4. Tupac Shakur: A cultural icon, Tupac Shakur left a lasting legacy through his music and activism. His albums, such as \"All Eyez on Me\" and \"Me Against the World,\" continue to resonate with audiences around the world even decades after his death.\n",
       "\n",
       "These rappers have not only achieved commercial success but have also made a lasting impact on the music industry and popular culture as a whole. Their contributions to the rap genre are undeniable and continue to be celebrated by fans and fellow artists alike.\n",
       "\n",
       "References:\n",
       "- \"Eminem Biography.\" Biography.com\n",
       "- \"Jay-Z - Biography.\" Biography.com\n",
       "- \"Kendrick Lamar - Biography.\" Biography.com\n",
       "- \"Tupac Shakur - Biography.\" Biography.com</td>\n",
       "    </tr>\n",
       "    <tr>\n",
       "      <th id=\"T_036e3_level0_row4\" class=\"row_heading level0 row4\" >4</th>\n",
       "      <td id=\"T_036e3_row4_col0\" class=\"data row4 col0\" >Who are the most well known rappers?</td>\n",
       "      <td id=\"T_036e3_row4_col1\" class=\"data row4 col1\" >hiphop</td>\n",
       "      <td id=\"T_036e3_row4_col2\" class=\"data row4 col2\" >Joe</td>\n",
       "      <td id=\"T_036e3_row4_col3\" class=\"data row4 col3\" >\n",
       "system: Answer the question of the user in the following style:\n",
       "\n",
       "topic specific style instructions: introduce the answer with a rap verse.\n",
       "\n",
       "user specific style instructions: Prose is hard for me to read quickly. Format the answer in bullet points.\n",
       "\n",
       "user: Who are the most well known rappers?\n",
       "</td>\n",
       "      <td id=\"T_036e3_row4_col4\" class=\"data row4 col4\" >Yo, when it comes to rappers, there's a whole crew,\n",
       "Here are some of the most well-known for you:\n",
       "\n",
       "- Eminem: Known for his lyrical genius and raw talent\n",
       "- Jay-Z: Business mogul and rap legend with a smooth flow\n",
       "- Tupac Shakur: Iconic figure known for his powerful lyrics and impact on the industry\n",
       "- Notorious B.I.G.: Legendary rapper with a unique flow and storytelling abilities\n",
       "- Kendrick Lamar: Modern-day artist known for his socially conscious lyrics and innovative sound\n",
       "- Drake: Chart-topping rapper with a versatile style and massive commercial success\n",
       "- Kanye West: Controversial yet influential artist known for pushing boundaries in music\n",
       "- Nicki Minaj: Female rap superstar known for her bold persona and rapid-fire delivery\n",
       "- Lil Wayne: Veteran rapper with a long-standing career and influential impact on the genre\n",
       "- Cardi B: Breakout star known for her charisma, humor, and hit songs</td>\n",
       "    </tr>\n",
       "    <tr>\n",
       "      <th id=\"T_036e3_level0_row5\" class=\"row_heading level0 row5\" >5</th>\n",
       "      <td id=\"T_036e3_row5_col0\" class=\"data row5 col0\" >Who are the most well known rappers?</td>\n",
       "      <td id=\"T_036e3_row5_col1\" class=\"data row5 col1\" >hiphop</td>\n",
       "      <td id=\"T_036e3_row5_col2\" class=\"data row5 col2\" >Sally</td>\n",
       "      <td id=\"T_036e3_row5_col3\" class=\"data row5 col3\" >\n",
       "system: Answer the question of the user in the following style:\n",
       "\n",
       "topic specific style instructions: introduce the answer with a rap verse.\n",
       "\n",
       "user specific style instructions: Try to avoid complicated jargon and use simple language.\n",
       "\n",
       "user: Who are the most well known rappers?\n",
       "</td>\n",
       "      <td id=\"T_036e3_row5_col4\" class=\"data row5 col4\" >Yo, when it comes to rappers, there's a whole lot in the game,\n",
       "From OGs like Tupac and Biggie, to new stars on their rise to fame.\n",
       "Eminem's known for his lyrical prowess and flow,\n",
       "While Jay-Z's the blueprint for success, yo.\n",
       "\n",
       "Drake stays topping charts with hits in every season,\n",
       "And Kendrick Lamar speaks truth, shedding light on social reason.\n",
       "Cardi B's making waves with her bold and fierce style,\n",
       "While Nicki Minaj's been reigning as the queen for a while.\n",
       "\n",
       "So if you're looking for the most well-known in the rap scene,\n",
       "These artists are the ones that truly reign supreme.</td>\n",
       "    </tr>\n",
       "    <tr>\n",
       "      <th id=\"T_036e3_level0_row6\" class=\"row_heading level0 row6\" >6</th>\n",
       "      <td id=\"T_036e3_row6_col0\" class=\"data row6 col0\" >Who won the civil war?</td>\n",
       "      <td id=\"T_036e3_row6_col1\" class=\"data row6 col1\" >history</td>\n",
       "      <td id=\"T_036e3_row6_col2\" class=\"data row6 col2\" >Bob</td>\n",
       "      <td id=\"T_036e3_row6_col3\" class=\"data row6 col3\" >\n",
       "system: Answer the question of the user in the following style:\n",
       "\n",
       "topic specific style instructions: please answer in a narrative form, use shakespearing language and lots of examples\n",
       "\n",
       "user specific style instructions: please answer in prose. Make sure you add references in the end like a bibliography.\n",
       "\n",
       "user: Who won the civil war?\n",
       "</td>\n",
       "      <td id=\"T_036e3_row6_col4\" class=\"data row6 col4\" >In sooth, fair user, the tale of the Civil War is a tumultuous one, where brother fought against brother, and the land was torn asunder by the clash of arms. Verily, 'twas a war of great import that shook the very foundations of our fair nation.\n",
       "\n",
       "In the end, it was the valiant forces of the Union, led by the noble General Ulysses S. Grant, that emerged victorious over the Confederate armies. The Confederate army, under the command of the gallant General Robert E. Lee, bravely fought to defend their cause, but in the final battles at Gettysburg and Appomattox, they were bested by the Union forces.\n",
       "\n",
       "'Twas a bitter victory, for the toll of the conflict was great, with countless lives lost and cities laid to waste. But in the end, the Union prevailed, and the forces of unity and freedom triumphed over those of division and oppression.\n",
       "\n",
       "And so, dear user, history records that the Civil War was won by the Union, and the nation was preserved under one flag, one nation indivisible.\n",
       "\n",
       "References:\n",
       "- McPherson, James M. Battle cry of freedom: The Civil War era. Oxford University Press, 2003.\n",
       "- Foote, Shelby. The Civil War: A Narrative. Vol. 3. Vintage, 1986.</td>\n",
       "    </tr>\n",
       "    <tr>\n",
       "      <th id=\"T_036e3_level0_row7\" class=\"row_heading level0 row7\" >7</th>\n",
       "      <td id=\"T_036e3_row7_col0\" class=\"data row7 col0\" >Who won the civil war?</td>\n",
       "      <td id=\"T_036e3_row7_col1\" class=\"data row7 col1\" >history</td>\n",
       "      <td id=\"T_036e3_row7_col2\" class=\"data row7 col2\" >Joe</td>\n",
       "      <td id=\"T_036e3_row7_col3\" class=\"data row7 col3\" >\n",
       "system: Answer the question of the user in the following style:\n",
       "\n",
       "topic specific style instructions: please answer in a narrative form, use shakespearing language and lots of examples\n",
       "\n",
       "user specific style instructions: Prose is hard for me to read quickly. Format the answer in bullet points.\n",
       "\n",
       "user: Who won the civil war?\n",
       "</td>\n",
       "      <td id=\"T_036e3_row7_col4\" class=\"data row7 col4\" >- The Civil War, a great conflict betwixt the Union and the Confederacy, did conclude with the victory of the Union forces led by the noble General Ulysses S. Grant.\n",
       "- The Union, under the wise leadership of President Abraham Lincoln, did vanquish the Confederate forces after many years of bloody battle.\n",
       "- The surrender of General Robert E. Lee at Appomattox Court House in 1865 did mark the end of the war, bringing peace and unity to the land once more.</td>\n",
       "    </tr>\n",
       "    <tr>\n",
       "      <th id=\"T_036e3_level0_row8\" class=\"row_heading level0 row8\" >8</th>\n",
       "      <td id=\"T_036e3_row8_col0\" class=\"data row8 col0\" >Who won the civil war?</td>\n",
       "      <td id=\"T_036e3_row8_col1\" class=\"data row8 col1\" >history</td>\n",
       "      <td id=\"T_036e3_row8_col2\" class=\"data row8 col2\" >Sally</td>\n",
       "      <td id=\"T_036e3_row8_col3\" class=\"data row8 col3\" >\n",
       "system: Answer the question of the user in the following style:\n",
       "\n",
       "topic specific style instructions: please answer in a narrative form, use shakespearing language and lots of examples\n",
       "\n",
       "user specific style instructions: Try to avoid complicated jargon and use simple language.\n",
       "\n",
       "user: Who won the civil war?\n",
       "</td>\n",
       "      <td id=\"T_036e3_row8_col4\" class=\"data row8 col4\" >In sooth, good sir, the Civil War didst end with the victory of the Union forces led by General Ulysses S. Grant over the Confederate troops under General Robert E. Lee. Verily, after many a fierce battle and much bloodshed, the Union did emerge triumphant o'er the Confederate armies.\n",
       "\n",
       "'Twas in the year of 1865, when General Lee did yield his sword to General Grant at Appomattox Court House, marking the official end of the war. The Union's cause of preserving the United States and abolishing the scourge of slavery did prevail.\n",
       "\n",
       "'Tis oft said that the pen is mightier than the sword, and in this case, 'twas the Union's determination and unity that did carry them to victory over the Confederate forces. Yet, the scars of war did linger on, as the nation sought to heal and rebuild in the aftermath of such a tumultuous conflict.</td>\n",
       "    </tr>\n",
       "  </tbody>\n",
       "</table>\n"
      ],
      "text/plain": [
       "<pandas.io.formats.style.Styler>"
      ]
     },
     "metadata": {},
     "output_type": "display_data"
    }
   ],
   "source": [
    "%%spannerlog\n",
    "?Style_Based_QA(Q,Topic,user,Prompt,Answer)"
   ]
  }
 ],
 "metadata": {
  "kernelspec": {
   "display_name": "python3",
   "language": "python",
   "name": "python3"
  }
 },
 "nbformat": 4,
 "nbformat_minor": 4
}
