{
 "cells": [
  {
   "cell_type": "markdown",
   "metadata": {},
   "source": [
    "# Extending an existing pipeline\n"
   ]
  },
  {
   "cell_type": "raw",
   "metadata": {},
   "source": [
    "---\n",
    "skip_exec: true\n",
    "---"
   ]
  },
  {
   "cell_type": "code",
   "execution_count": null,
   "metadata": {},
   "outputs": [],
   "source": [
    "#| default_exp tutorials.extend"
   ]
  },
  {
   "cell_type": "code",
   "execution_count": null,
   "metadata": {},
   "outputs": [],
   "source": [
    "#| hide\n",
    "from nbdev.showdoc import show_doc\n",
    "from IPython.display import display, HTML\n",
    "%load_ext autoreload\n",
    "%autoreload 2"
   ]
  },
  {
   "cell_type": "code",
   "execution_count": null,
   "metadata": {},
   "outputs": [],
   "source": [
    "#| export\n",
    "# importing dependencies\n",
    "import re\n",
    "import pandas as pd\n",
    "from pandas import DataFrame\n",
    "from pathlib import Path\n",
    "from spannerlib import get_magic_session,Session,Span\n",
    "import ast"
   ]
  },
  {
   "cell_type": "markdown",
   "metadata": {},
   "source": [
    "## IE functions and logic from previous implementations\n",
    "\n"
   ]
  },
  {
   "cell_type": "code",
   "execution_count": null,
   "metadata": {},
   "outputs": [],
   "source": [
    "#| export\n",
    "from spannerlib.tutorials.basic import llm_ie,format_ie,string_schema\n",
    "from spannerlib.tutorials.copilot import ast_xpath,ast_to_span,lex_concat"
   ]
  },
  {
   "cell_type": "code",
   "execution_count": null,
   "metadata": {},
   "outputs": [],
   "source": [
    "sess = get_magic_session()\n",
    "sess.register('llm',llm_ie,[str,str],[str])\n",
    "sess.register('format', format_ie, string_schema,[str])\n",
    "sess.register('ast_xpath',ast_xpath,[(str,Path,Span),str],[ast.AST])\n",
    "sess.register('ast_to_span',ast_to_span,[(str,Span,Path),ast.AST],[Span])\n",
    "sess.register_agg('lex_concat',lex_concat,[(str,Span)],[str])"
   ]
  },
  {
   "cell_type": "code",
   "execution_count": null,
   "metadata": {},
   "outputs": [],
   "source": [
    "code_file = Path('copilot_data/example_code.py')\n",
    "\n",
    "example_files = pd.DataFrame([(Span(code_file),)])\n",
    "cursors =pd.DataFrame([(Span(code_file,16,17),)])\n",
    "\n",
    "sess.import_rel('Files',example_files)\n",
    "sess.import_rel('Cursors',cursors)\n",
    "\n",
    "func_document_prompt = \"\"\"system: based on the following context:\n",
    "{}\n",
    "Explain the following function:\n",
    "{}\n",
    "In the format of a doc string.\n",
    "\"\"\"\n",
    "sess.import_var('func_document_prompt',func_document_prompt)"
   ]
  },
  {
   "cell_type": "code",
   "execution_count": null,
   "metadata": {},
   "outputs": [],
   "source": [
    "sess.remove_all_rules()"
   ]
  },
  {
   "cell_type": "code",
   "execution_count": null,
   "metadata": {},
   "outputs": [],
   "source": [
    "%%spannerlog\n",
    "FuncDefSpan(span,name)<-\\\n",
    "    Files(text),\\\n",
    "    ast_xpath(text, \"//FunctionDef\")->(node),\\\n",
    "    ast_to_span(text,node)->(span),\\\n",
    "    expr_eval(\"{0}.name\",node)->(name)\n",
    "\n",
    "FuncCallSpan(span,name)<-\\\n",
    "    Files(text),\\\n",
    "    ast_xpath(text, \"//Call/func/Name\")->(node),\\\n",
    "    ast_to_span(text,node)->(span),\\\n",
    "    as_str(span)->(name)\n",
    "\n",
    "CallingFunc(cursor,name)<-\\\n",
    "    Cursors(cursor),\\\n",
    "    FuncDefSpan(span,name),\\\n",
    "    span_contained(cursor,span)->(True)\n",
    "\n",
    "Mentions(lex_concat(caller_span),called_name)<-\\\n",
    "    FuncCallSpan(called_span,called_name),\\\n",
    "    FuncDefSpan(caller_span,caller_name),\\\n",
    "    span_contained(called_span,caller_span)->(True)\n",
    "\n",
    "model = 'gpt-3.5-turbo'\n",
    "DocumentFunctionPrompt(cursor,prompt)<-\\\n",
    "    CallingFunc(cursor,name),\\\n",
    "    Mentions(mentions,name),\\\n",
    "    FuncDefSpan(def_span,name),\\\n",
    "    as_str(def_span)->(def_string),\\\n",
    "    format($func_document_prompt,mentions,def_string)->(prompt)\n",
    "\n",
    "DocumentFunction(cursor,answer)<-\\\n",
    "    DocumentFunctionPrompt(cursor,prompt),\\\n",
    "    llm($model,prompt)->(answer)\n"
   ]
  },
  {
   "cell_type": "markdown",
   "metadata": {},
   "source": [
    "## Adding RAG"
   ]
  },
  {
   "cell_type": "markdown",
   "metadata": {},
   "source": [
    "### building a vecdb IE function"
   ]
  },
  {
   "cell_type": "code",
   "execution_count": null,
   "metadata": {},
   "outputs": [],
   "source": [
    "#| export\n",
    "import faiss\n",
    "import numpy as np\n",
    "import openai\n",
    "from collections import defaultdict\n",
    "from openai import OpenAI\n",
    "client = OpenAI()\n",
    "\n",
    "\n",
    "def get_openai_embeddings(texts):\n",
    "    response = client.embeddings.create(\n",
    "        model=\"text-embedding-ada-002\",  # or another embedding model\n",
    "        input=texts\n",
    "    )\n",
    "    embeddings = [item.embedding for item in response.data]\n",
    "    return np.array(embeddings)"
   ]
  },
  {
   "cell_type": "code",
   "execution_count": null,
   "metadata": {},
   "outputs": [],
   "source": [
    "#| export\n",
    "class VecDB():\n",
    "    def __init__(self):\n",
    "        self.index_map={}# namespace: index\n",
    "        self.doc_map=defaultdict(list)# namespace: list of docs\n",
    "        self.dim = 1536\n",
    "    def add_index(self,namespace):\n",
    "        self.index_map[namespace] = faiss.IndexFlatL2(self.dim)\n",
    "\n",
    "    def add_docs(self,documents,namespace='default'):\n",
    "        if not namespace in self.index_map:\n",
    "            self.add_index(namespace)\n",
    "        documents = [str(doc) for doc in documents]\n",
    "        embeddings = get_openai_embeddings(documents)\n",
    "        self.index_map[namespace].add(embeddings.astype('float32'))\n",
    "        self.doc_map[namespace].extend(documents)\n",
    "\n",
    "    def search(self, query, k=1,namespace='default'):\n",
    "        query_embedding = get_openai_embeddings([query])[0]\n",
    "        index = self.index_map[namespace]\n",
    "        documents = self.doc_map[namespace]\n",
    "        D, I = index.search(np.array([query_embedding]).astype('float32'), k)\n",
    "        return [(documents[i], float(D[0][j])) for j, i in enumerate(I[0])]"
   ]
  },
  {
   "cell_type": "code",
   "execution_count": null,
   "metadata": {},
   "outputs": [],
   "source": [
    "documents = [\n",
    "    \"FAISS is a library for efficient similarity search.\",\n",
    "    \"Vector databases are crucial for RAG pipelines.\",\n",
    "    \"FAISS was developed by Facebook AI Research.\",\n",
    "    \"RAG combines retrieval and generation for better results.\"\n",
    "]"
   ]
  },
  {
   "cell_type": "code",
   "execution_count": null,
   "metadata": {},
   "outputs": [],
   "source": [
    "db=VecDB()"
   ]
  },
  {
   "cell_type": "code",
   "execution_count": null,
   "metadata": {},
   "outputs": [],
   "source": [
    "db.add_docs(documents)"
   ]
  },
  {
   "cell_type": "code",
   "execution_count": null,
   "metadata": {},
   "outputs": [
    {
     "data": {
      "text/plain": [
       "[('RAG combines retrieval and generation for better results.',\n",
       "  0.22323353588581085),\n",
       " ('Vector databases are crucial for RAG pipelines.', 0.3760342001914978),\n",
       " ('FAISS was developed by Facebook AI Research.', 0.5168014168739319),\n",
       " ('FAISS is a library for efficient similarity search.', 0.5336617231369019)]"
      ]
     },
     "execution_count": null,
     "metadata": {},
     "output_type": "execute_result"
    }
   ],
   "source": [
    "db.search(\"RAG?\",4)"
   ]
  },
  {
   "cell_type": "code",
   "execution_count": null,
   "metadata": {},
   "outputs": [],
   "source": [
    "sess.register('vector_search',db.search,[(str,Span),int,str],[str,float])"
   ]
  },
  {
   "cell_type": "markdown",
   "metadata": {},
   "source": [
    "### Adding stack overflow posts to vector DB"
   ]
  },
  {
   "cell_type": "code",
   "execution_count": null,
   "metadata": {},
   "outputs": [
    {
     "data": {
      "text/plain": [
       "['1. **Use clear and concise language**\\n   Always strive for clarity in your documentation. Use simple, straightforward language and provide examples:\\n\\n   ```python\\n   def calculate_area(length, width):\\n       \"\"\"\\n       Calculate the area of a rectangle.\\n\\n       :param length: The length of the rectangle\\n       :param width: The width of the rectangle\\n       :return: The area of the rectangle\\n       \"\"\"\\n       return length * width\\n   ```',\n",
       " '2. **Include code examples with comments**\\n   Provide relevant code snippets with inline comments to explain each step:\\n\\n   ```javascript\\n   // Function to calculate factorial\\n   function factorial(n) {\\n       if (n === 0 || n === 1) {\\n           return 1; // Base case: 0! and 1! are 1\\n       } else {\\n           return n * factorial(n - 1); // Recursive case\\n       }\\n   }\\n   ```',\n",
       " \"3. **Structure your documentation with markdown**\\n   Use markdown to structure your documentation for better readability:\\n\\n   ```markdown\\n   # My Project\\n\\n   ## Installation\\n   ```bash\\n   npm install my-project\\n   ```\\n\\n   ## Usage\\n   ```javascript\\n   const myProject = require('my-project');\\n   myProject.doSomething();\\n   ```\\n   ```\",\n",
       " '4. **Write for your audience with examples**\\n   Adjust your language and examples based on your audience:\\n\\n   ```python\\n   # For beginners\\n   name = input(\"What\\'s your name? \")\\n   print(f\"Hello, {name}!\")\\n\\n   # For advanced users\\n   def greet(name: str) -> str:\\n       return f\"Hello, {name}!\"\\n   ```',\n",
       " '5. **Keep it up-to-date with version information**\\n   Include version information and update logs:\\n\\n   ```python\\n   \"\"\"\\n   MyModule - A helpful utility\\n\\n   Version: 1.2.3\\n   Last Updated: 2024-07-30\\n\\n   Changelog:\\n   - 1.2.3: Fixed bug in process_data function\\n   - 1.2.2: Added new feature X\\n   \"\"\"\\n\\n   def process_data(data):\\n       # Implementation here\\n       pass\\n   ```',\n",
       " '6. **Use diagrams and visuals with code**\\n   Include ASCII diagrams or links to visual aids in your code comments:\\n\\n   ```python\\n   def binary_search(arr, target):\\n       \"\"\"\\n       Performs binary search.\\n\\n       ASCII Diagram:\\n       [1, 3, 5, 7, 9]\\n        ^     ^     ^\\n       low   mid   high\\n\\n       :param arr: Sorted array\\n       :param target: Target value\\n       :return: Index of target or -1 if not found\\n       \"\"\"\\n       # Implementation here\\n       pass\\n   ```',\n",
       " '7. **Provide a table of contents with code sections**\\n   For longer documents, include a table of contents with links to code sections:\\n\\n   ```markdown\\n   # Table of Contents\\n   1. [Installation](#installation)\\n   2. [Usage](#usage)\\n   3. [API Reference](#api-reference)\\n\\n   ## Installation\\n   ```bash\\n   pip install mypackage\\n   ```\\n\\n   ## Usage\\n   ```python\\n   import mypackage\\n   mypackage.function()\\n   ```\\n\\n   ## API Reference\\n   ```python\\n   def function(param1, param2):\\n       \"\"\"Detailed function description\"\"\"\\n       pass\\n   ```\\n   ```',\n",
       " '8. **Use consistent formatting**\\n   Maintain consistent formatting throughout your documentation:\\n\\n   ```python\\n   def function_one(param1: int, param2: str) -> bool:\\n       \"\"\"Does something.\"\"\"\\n       pass\\n\\n   def function_two(param1: float, param2: list) -> dict:\\n       \"\"\"Does something else.\"\"\"\\n       pass\\n   ```',\n",
       " '9. **Include a \"Getting Started\" section with code**\\n   Provide a quick start guide with simple code examples:\\n\\n   ```python\\n   # Getting Started with MyLibrary\\n\\n   # 1. Import the library\\n   import mylibrary\\n\\n   # 2. Create an instance\\n   my_instance = mylibrary.MyClass()\\n\\n   # 3. Use a basic function\\n   result = my_instance.do_something()\\n\\n   # 4. Print the result\\n   print(result)\\n   ```',\n",
       " '10. **Document error messages and troubleshooting steps**\\n    Include common error messages and their solutions:\\n\\n    ```python\\n    try:\\n        result = 10 / 0\\n    except ZeroDivisionError as e:\\n        print(f\"Error: {e}\")\\n        print(\"Solution: Ensure the divisor is not zero.\")\\n    ```',\n",
       " '11. **Use version control for documentation**\\n    Show how to include documentation in version control:\\n\\n    ```bash\\n    # Add documentation to git\\n    git add docs/\\n\\n    # Commit changes\\n    git commit -m \"Updated API documentation for v2.0\"\\n\\n    # Push to remote repository\\n    git push origin main\\n    ```',\n",
       " '12. **Provide examples of input and output**\\n    When documenting functions or APIs, include examples of expected inputs and outputs:\\n\\n    ```python\\n    def square(n):\\n        \"\"\"\\n        Return the square of a number.\\n\\n        :param n: The number to square\\n        :return: The square of the input number\\n\\n        Example:\\n        >>> square(4)\\n        16\\n        >>> square(-3)\\n        9\\n        \"\"\"\\n        return n ** 2\\n    ```',\n",
       " '13. **Use docstrings for inline documentation**\\n    Use docstrings to provide inline documentation:\\n\\n    ```python\\n    class MyClass:\\n        \"\"\"\\n        A class that represents MyClass.\\n\\n        Attributes:\\n            attr1 (int): Description of attr1\\n            attr2 (str): Description of attr2\\n        \"\"\"\\n\\n        def __init__(self, attr1, attr2):\\n            self.attr1 = attr1\\n            self.attr2 = attr2\\n\\n        def my_method(self, param1):\\n            \"\"\"\\n            Description of my_method.\\n\\n            :param param1: Description of param1\\n            :return: Description of return value\\n            \"\"\"\\n            pass\\n    ```',\n",
       " '14. **Include a changelog in your code**\\n    Maintain a changelog to track major changes:\\n\\n    ```python\\n    \"\"\"\\n    Changelog:\\n\\n    v1.1.0 (2024-07-30):\\n    - Added new feature X\\n    - Fixed bug in function Y\\n\\n    v1.0.1 (2024-07-15):\\n    - Updated documentation\\n    - Performance improvements\\n\\n    v1.0.0 (2024-07-01):\\n    - Initial release\\n    \"\"\"\\n\\n    # Your code here\\n    ```',\n",
       " \"15. **Provide context and explanations in comments**\\n    Don't just describe what something does, explain why it's important:\\n\\n    ```python\\n    # We use a cache to store expensive computation results\\n    # This significantly improves performance for repeated calls\\n    cache = {}\\n\\n    def expensive_function(n):\\n        if n in cache:\\n            return cache[n]\\n        result = # ... some expensive computation\\n        cache[n] = result\\n        return result\\n    ```\",\n",
       " '16. **Use links effectively in documentation**\\n    Link to related sections or external resources:\\n\\n    ```python\\n    \"\"\"\\n    For more information on this module, see:\\n    - [API Documentation](https://example.com/api-docs)\\n    - [Usage Examples](https://example.com/examples)\\n    - Related function: `other_function()`\\n    \"\"\"\\n\\n    def my_function():\\n        pass\\n\\n    def other_function():\\n        pass\\n    ```',\n",
       " \"17. **Include a search function (for online docs)**\\n    For online documentation, implement a search feature. Here's a simple JavaScript example:\\n\\n    ```javascript\\n    function searchDocs() {\\n        var input = document.getElementById('searchInput').value.toLowerCase();\\n        var elements = document.getElementsByClassName('searchable');\\n        \\n        for (var i = 0; i < elements.length; i++) {\\n            var content = elements[i].textContent.toLowerCase();\\n            if (content.includes(input)) {\\n                elements[i].style.display = 'block';\\n            } else {\\n                elements[i].style.display = 'none';\\n            }\\n        }\\n    }\\n    ```\",\n",
       " '18. **Write clear method and function signatures**\\n    Clearly document the parameters, return values, and any exceptions:\\n\\n    ```python\\n    def process_data(data: List[Dict[str, Any]],\\n                     options: Optional[Dict[str, Any]] = None) -> Tuple[List[Any], int]:\\n        \"\"\"\\n        Process the input data according to specified options.\\n\\n        :param data: A list of dictionaries containing the input data\\n        :param options: Optional dictionary of processing options\\n        :return: A tuple containing the processed data and a status code\\n        :raises ValueError: If the input data is empty or invalid\\n        \"\"\"\\n        if not data:\\n            raise ValueError(\"Input data cannot be empty\")\\n        \\n        # Processing logic here\\n        \\n        return processed_data, status_code\\n    ```',\n",
       " '19. **Use meaningful variable and function names**\\n    Choose descriptive names that convey the purpose or functionality:\\n\\n    ```python\\n    def calculate_total_price(item_prices: List[float], tax_rate: float) -> float:\\n        \"\"\"\\n        Calculate the total price including tax.\\n\\n        :param item_prices: List of individual item prices\\n        :param tax_rate: The tax rate as a decimal (e.g., 0.08 for 8%)\\n        :return: The total price including tax\\n        \"\"\"\\n        subtotal = sum(item_prices)\\n        tax_amount = subtotal * tax_rate\\n        total_price = subtotal + tax_amount\\n        return total_price\\n    ```',\n",
       " '20. **Include a license and contribution guidelines**\\n    For open-source projects, clearly state the license and provide contribution guidelines:\\n\\n    ```python\\n    \"\"\"\\n    MyProject - A helpful Python utility\\n\\n    Copyright (c) 2024 Your Name\\n\\n    Licensed under the MIT License.\\n    See LICENSE file for details.\\n\\n    Contribution Guidelines:\\n    1. Fork the repository\\n    2. Create a new branch for your feature\\n    3. Write tests for your changes\\n    4. Ensure all tests pass\\n    5. Submit a pull request\\n\\n    For more details, see CONTRIBUTING.md\\n    \"\"\"\\n\\n    # Your code here\\n    ```']"
      ]
     },
     "execution_count": null,
     "metadata": {},
     "output_type": "execute_result"
    }
   ],
   "source": [
    "docs = Path('copilot_data/stackoverflow_posts.txt').read_text().split('DELIM')\n",
    "docs = [doc.strip() for doc in docs]\n",
    "docs"
   ]
  },
  {
   "cell_type": "code",
   "execution_count": null,
   "metadata": {},
   "outputs": [],
   "source": [
    "db.add_docs(docs,namespace='stackoverflow')"
   ]
  },
  {
   "cell_type": "markdown",
   "metadata": {},
   "source": [
    "### Extending our pipeline"
   ]
  },
  {
   "cell_type": "code",
   "execution_count": null,
   "metadata": {},
   "outputs": [
    {
     "data": {
      "text/plain": [
       "'?DocumentFunctionPrompt(C,P)'"
      ]
     },
     "metadata": {},
     "output_type": "display_data"
    },
    {
     "data": {
      "text/html": [
       "<style type=\"text/css\">\n",
       "#T_26704_row0_col0, #T_26704_row0_col1 {\n",
       "  overflow-wrap: break-word;\n",
       "  max-width: 800px;\n",
       "  text-align: left;\n",
       "}\n",
       "</style>\n",
       "<table id=\"T_26704\">\n",
       "  <thead>\n",
       "    <tr>\n",
       "      <th class=\"blank level0\" >&nbsp;</th>\n",
       "      <th id=\"T_26704_level0_col0\" class=\"col_heading level0 col0\" >C</th>\n",
       "      <th id=\"T_26704_level0_col1\" class=\"col_heading level0 col1\" >P</th>\n",
       "    </tr>\n",
       "  </thead>\n",
       "  <tbody>\n",
       "    <tr>\n",
       "      <th id=\"T_26704_level0_row0\" class=\"row_heading level0 row0\" >0</th>\n",
       "      <td id=\"T_26704_row0_col0\" class=\"data row0 col0\" >[@example_code.py,16,17) \"x\"</td>\n",
       "      <td id=\"T_26704_row0_col1\" class=\"data row0 col1\" >system: based on the following context:\n",
       "def g(x,y):\n",
       "    return f(x,y)**2\n",
       "def method(self, y):\n",
       "        return f(self.x, y)\n",
       "Explain the following function:\n",
       "def f(x,y):\n",
       "    x+y\n",
       "In the format of a doc string.\n",
       "</td>\n",
       "    </tr>\n",
       "  </tbody>\n",
       "</table>\n"
      ],
      "text/plain": [
       "<pandas.io.formats.style.Styler>"
      ]
     },
     "metadata": {},
     "output_type": "display_data"
    }
   ],
   "source": [
    "%%spannerlog\n",
    "?DocumentFunctionPrompt(C,P)"
   ]
  },
  {
   "cell_type": "code",
   "execution_count": null,
   "metadata": {},
   "outputs": [],
   "source": [
    "sess.remove_head('Test')"
   ]
  },
  {
   "cell_type": "code",
   "execution_count": null,
   "metadata": {},
   "outputs": [
    {
     "data": {
      "text/plain": [
       "'?RagContext(C,context)'"
      ]
     },
     "metadata": {},
     "output_type": "display_data"
    },
    {
     "data": {
      "text/html": [
       "<style type=\"text/css\">\n",
       "#T_8970e_row0_col0, #T_8970e_row0_col1 {\n",
       "  overflow-wrap: break-word;\n",
       "  max-width: 800px;\n",
       "  text-align: left;\n",
       "}\n",
       "</style>\n",
       "<table id=\"T_8970e\">\n",
       "  <thead>\n",
       "    <tr>\n",
       "      <th class=\"blank level0\" >&nbsp;</th>\n",
       "      <th id=\"T_8970e_level0_col0\" class=\"col_heading level0 col0\" >C</th>\n",
       "      <th id=\"T_8970e_level0_col1\" class=\"col_heading level0 col1\" >context</th>\n",
       "    </tr>\n",
       "  </thead>\n",
       "  <tbody>\n",
       "    <tr>\n",
       "      <th id=\"T_8970e_level0_row0\" class=\"row_heading level0 row0\" >0</th>\n",
       "      <td id=\"T_8970e_row0_col0\" class=\"data row0 col0\" >[@example_code.py,16,17) \"x\"</td>\n",
       "      <td id=\"T_8970e_row0_col1\" class=\"data row0 col1\" >1. **Use clear and concise language**\n",
       "   Always strive for clarity in your documentation. Use simple, straightforward language and provide examples:\n",
       "\n",
       "   ```python\n",
       "   def calculate_area(length, width):\n",
       "       \"\"\"\n",
       "       Calculate the area of a rectangle.\n",
       "\n",
       "       :param length: The length of the rectangle\n",
       "       :param width: The width of the rectangle\n",
       "       :return: The area of the rectangle\n",
       "       \"\"\"\n",
       "       return length * width\n",
       "   ```\n",
       "12. **Provide examples of input and output**\n",
       "    When documenting functions or APIs, include examples of expected inputs and outputs:\n",
       "\n",
       "    ```python\n",
       "    def square(n):\n",
       "        \"\"\"\n",
       "        Return the square of a number.\n",
       "\n",
       "        :param n: The number to square\n",
       "        :return: The square of the input number\n",
       "\n",
       "        Example:\n",
       "        >>> square(4)\n",
       "        16\n",
       "        >>> square(-3)\n",
       "        9\n",
       "        \"\"\"\n",
       "        return n ** 2\n",
       "    ```\n",
       "13. **Use docstrings for inline documentation**\n",
       "    Use docstrings to provide inline documentation:\n",
       "\n",
       "    ```python\n",
       "    class MyClass:\n",
       "        \"\"\"\n",
       "        A class that represents MyClass.\n",
       "\n",
       "        Attributes:\n",
       "            attr1 (int): Description of attr1\n",
       "            attr2 (str): Description of attr2\n",
       "        \"\"\"\n",
       "\n",
       "        def __init__(self, attr1, attr2):\n",
       "            self.attr1 = attr1\n",
       "            self.attr2 = attr2\n",
       "\n",
       "        def my_method(self, param1):\n",
       "            \"\"\"\n",
       "            Description of my_method.\n",
       "\n",
       "            :param param1: Description of param1\n",
       "            :return: Description of return value\n",
       "            \"\"\"\n",
       "            pass\n",
       "    ```\n",
       "15. **Provide context and explanations in comments**\n",
       "    Don't just describe what something does, explain why it's important:\n",
       "\n",
       "    ```python\n",
       "    # We use a cache to store expensive computation results\n",
       "    # This significantly improves performance for repeated calls\n",
       "    cache = {}\n",
       "\n",
       "    def expensive_function(n):\n",
       "        if n in cache:\n",
       "            return cache[n]\n",
       "        result = # ... some expensive computation\n",
       "        cache[n] = result\n",
       "        return result\n",
       "    ```</td>\n",
       "    </tr>\n",
       "  </tbody>\n",
       "</table>\n"
      ],
      "text/plain": [
       "<pandas.io.formats.style.Styler>"
      ]
     },
     "metadata": {},
     "output_type": "display_data"
    }
   ],
   "source": [
    "%%spannerlog\n",
    "RagContext(cursor,lex_concat(context))<-\\\n",
    "    DocumentFunctionPrompt(cursor,prompt),\\\n",
    "    vector_search(prompt,4,'stackoverflow')->(context,similarity_score)\n",
    "?RagContext(C,context)"
   ]
  },
  {
   "cell_type": "code",
   "execution_count": null,
   "metadata": {},
   "outputs": [],
   "source": [
    "rag_prompt = \"\"\"system: Based on the following context\n",
    "{}\n",
    "answer the following question\n",
    "{}\n",
    "\"\"\"\n",
    "\n",
    "sess.import_var('rag_prompt',rag_prompt)"
   ]
  },
  {
   "cell_type": "code",
   "execution_count": null,
   "metadata": {},
   "outputs": [],
   "source": [
    "%%spannerlog\n",
    "RagPrompt(cursor,prompt)<-\\\n",
    "    RagContext(cursor,context),\\\n",
    "    DocumentFunctionPrompt(cursor,document_promps),\\\n",
    "    format($rag_prompt,context,document_promps)->(prompt)\n",
    "\n",
    "RagCompletion(cursor,answer)<-\\\n",
    "    RagPrompt(cursor,prompt),\\\n",
    "    llm($model,prompt)->(answer)\n",
    "\n",
    "?RagCompletion(cursor,answer)"
   ]
  },
  {
   "cell_type": "code",
   "execution_count": null,
   "metadata": {},
   "outputs": [],
   "source": [
    "# TODO from here rag done, now show Few shot"
   ]
  },
  {
   "cell_type": "code",
   "execution_count": null,
   "metadata": {},
   "outputs": [],
   "source": [
    "raise Exception(\"Stop here\")"
   ]
  },
  {
   "cell_type": "code",
   "execution_count": null,
   "metadata": {},
   "outputs": [],
   "source": [
    "#|hide\n",
    "import nbdev; nbdev.nbdev_export()"
   ]
  }
 ],
 "metadata": {
  "kernelspec": {
   "display_name": "python3",
   "language": "python",
   "name": "python3"
  }
 },
 "nbformat": 4,
 "nbformat_minor": 4
}
