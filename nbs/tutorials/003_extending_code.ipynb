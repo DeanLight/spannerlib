{
 "cells": [
  {
   "cell_type": "markdown",
   "metadata": {},
   "source": [
    "# Extending an existing pipeline\n"
   ]
  },
  {
   "cell_type": "markdown",
   "metadata": {},
   "source": [
    "## Motivation"
   ]
  },
  {
   "cell_type": "markdown",
   "metadata": {},
   "source": [
    "In the previous tutorial, we showed how Spannerlib can be used to build sophisticated LLM agents by combining LLMs with structured IE functions.\n",
    "The agent was able to be elegantly described by a small number of logical statements using spannerlog with the use of very generic IE functions.\n",
    "\n",
    "However, an elegant codebase is not worth much if it is hard to extend. \n",
    "In this tutorial, we will show how easy it is to extend spannerlib code, demonstrating that the spannerlib framework can be used to create modular code that is easily modifiable.\n",
    "\n",
    "Our usecase will be to extend our previous code documentation agent with two of the most commonly used prompt augmentation techniques used when building LLM agents. Namely:\n",
    "* Retrival Augmented Generation (RAG)\n",
    "* Few-shot Prompting\n",
    "\n",
    "We will introduce both briefly here.\n",
    "\n",
    "\n",
    "RAG - is a technique that utilized a vector database to dynamically augment an LLM prompt with information that might be relevant and helpful for the LLM in answering the prompt well. RAG requires a vector database, in which documents are stored along side an embedded vector representation of themselves.\n",
    "In RAG, before calling an LLM with a given quetion/task, we:\n",
    "* Embed the question as a vector.\n",
    "* Look for similar document in our database, based on vector similarity measures.\n",
    "* Add these documents to the prompt.\n",
    "* Call the LLM function.\n",
    "\n",
    "In our use-case, we will demonstrate how to add RAG over stackoverflow posts to add better context to our code completion agent.\n",
    "\n",
    "Few-shot Prompting - is a technique for tweaking a prompt to elicit answers that use the type of semantics/style/reasoning that we would like the LLM to perform.\n",
    "To do so, for a given task, we augment the prompt by adding question answer pairs of similar tasks to the prompt. This will help condition the activation of the LLMs towards similar answer that are relevant for our question.\n",
    "\n",
    "In our use-case, we will demonstrate how to add Few-shot Prompting using a database that collected question answer pairs that were given a positive review by a given user, to implement a userfeed back system. This system will enable us to improve our system per user without requiring any fine tuning of the model's weights.\n",
    "\n"
   ]
  },
  {
   "cell_type": "markdown",
   "metadata": {},
   "source": [
    "## Problem definition"
   ]
  },
  {
   "cell_type": "markdown",
   "metadata": {},
   "source": [
    "Given:\n",
    "* A collection of python files.\n",
    "* A cursor position in a python file.\n",
    "* A vector database populated with high quality answers from stack overflow\n",
    "* A database that contains question answer pairs from previous tasks that got positive feedback from users\n",
    "\n",
    "Return:\n",
    "* A doc string of the python function that wraps the position of our cursor.\n"
   ]
  },
  {
   "cell_type": "markdown",
   "metadata": {},
   "source": [
    "\n",
    "We will reuse all previously introduced IE functions and add a new one:\n",
    "* `vector_search(query_document,k,namespace)->(similar_document)` which uses an external vector database and given a query document and a number $k$ returns $k$ similar documents from a given namespace in the vector database.\n",
    "  * Note that vector DBs include namespaces for their data to enable categorising vectors and querying per category."
   ]
  },
  {
   "cell_type": "markdown",
   "metadata": {},
   "source": [
    "## Importing IE functions and Logic from previous tutorials"
   ]
  },
  {
   "cell_type": "raw",
   "metadata": {},
   "source": [
    "---\n",
    "skip_exec: true\n",
    "---"
   ]
  },
  {
   "cell_type": "code",
   "execution_count": null,
   "metadata": {},
   "outputs": [],
   "source": [
    "#| default_exp tutorials.extend"
   ]
  },
  {
   "cell_type": "code",
   "execution_count": null,
   "metadata": {},
   "outputs": [],
   "source": [
    "#| hide\n",
    "from nbdev.showdoc import show_doc\n",
    "from IPython.display import display, HTML\n",
    "%load_ext autoreload\n",
    "%autoreload 2"
   ]
  },
  {
   "cell_type": "code",
   "execution_count": null,
   "metadata": {},
   "outputs": [],
   "source": [
    "#| export\n",
    "# importing dependencies\n",
    "import re\n",
    "import pandas as pd\n",
    "from pandas import DataFrame\n",
    "from pathlib import Path\n",
    "from spannerlib.utils import load_env\n",
    "from spannerlib import get_magic_session,Session,Span\n",
    "import ast"
   ]
  },
  {
   "cell_type": "code",
   "execution_count": null,
   "metadata": {},
   "outputs": [
    {
     "name": "stderr",
     "output_type": "stream",
     "text": [
      "Loaded env from .env.dev\n"
     ]
    }
   ],
   "source": [
    "# load openAI api key for env file\n",
    "load_env()"
   ]
  },
  {
   "cell_type": "markdown",
   "metadata": {},
   "source": [
    "## IE functions and logic from previous implementations\n",
    "\n"
   ]
  },
  {
   "cell_type": "code",
   "execution_count": null,
   "metadata": {},
   "outputs": [],
   "source": [
    "#| export\n",
    "from spannerlib.tutorials.basic import llm_ie,format_ie,string_schema,get_client\n",
    "from spannerlib.tutorials.copilot import ast_xpath,ast_to_span,lex_concat"
   ]
  },
  {
   "cell_type": "code",
   "execution_count": null,
   "metadata": {},
   "outputs": [],
   "source": [
    "sess = get_magic_session()\n",
    "sess.register('llm',llm_ie,[str,str],[str])\n",
    "sess.register('format', format_ie, string_schema,[str])\n",
    "sess.register('ast_xpath',ast_xpath,[(str,Path,Span),str],[ast.AST])\n",
    "sess.register('ast_to_span',ast_to_span,[(str,Span,Path),ast.AST],[Span])\n",
    "sess.register_agg('lex_concat',lex_concat,[(str,Span)],[str])"
   ]
  },
  {
   "cell_type": "code",
   "execution_count": null,
   "metadata": {},
   "outputs": [],
   "source": [
    "code_file = Path('copilot_data/example_code.py')\n",
    "\n",
    "example_files = pd.DataFrame([(Span(code_file),)])\n",
    "cursors =pd.DataFrame([(Span(code_file,16,17),)])\n",
    "\n",
    "sess.import_rel('Files',example_files)\n",
    "sess.import_rel('Cursors',cursors)\n",
    "\n",
    "func_document_template = \"\"\"system: based on the following context:\n",
    "{}\n",
    "Explain the following function:\n",
    "{}\n",
    "In the format of a doc string.\n",
    "\"\"\"\n",
    "sess.import_var('func_document_template',func_document_template)"
   ]
  },
  {
   "cell_type": "code",
   "execution_count": null,
   "metadata": {},
   "outputs": [],
   "source": [
    "#| hide\n",
    "sess.remove_all_rules()"
   ]
  },
  {
   "cell_type": "code",
   "execution_count": null,
   "metadata": {},
   "outputs": [],
   "source": [
    "%%spannerlog\n",
    "FuncDefSpan(span,name)<-\\\n",
    "    Files(text),\\\n",
    "    ast_xpath(text, \"//FunctionDef\")->(node),\\\n",
    "    ast_to_span(text,node)->(span),\\\n",
    "    expr_eval(\"{0}.name\",node)->(name)\n",
    "\n",
    "FuncCallSpan(span,name)<-\\\n",
    "    Files(text),\\\n",
    "    ast_xpath(text, \"//Call/func/Name\")->(node),\\\n",
    "    ast_to_span(text,node)->(span),\\\n",
    "    as_str(span)->(name)\n",
    "\n",
    "CursorWrappingFunc(cursor,name)<-\\\n",
    "    Cursors(cursor),\\\n",
    "    FuncDefSpan(span,name),\\\n",
    "    span_contained(cursor,span)->(True)\n",
    "\n",
    "Mentions(lex_concat(caller_span),called_name)<-\\\n",
    "    FuncCallSpan(called_span,called_name),\\\n",
    "    FuncDefSpan(caller_span,caller_name),\\\n",
    "    span_contained(called_span,caller_span)->(True)\n",
    "\n",
    "model = 'gpt-3.5-turbo'\n",
    "DocumentFunctionPrompt(cursor,prompt)<-\\\n",
    "    CursorWrappingFunc(cursor,name),\\\n",
    "    Mentions(mentions,name),\\\n",
    "    FuncDefSpan(def_span,name),\\\n",
    "    as_str(def_span)->(def_string),\\\n",
    "    format($func_document_template,mentions,def_string)->(prompt)\n",
    "\n",
    "DocumentFunction(cursor,answer)<-\\\n",
    "    DocumentFunctionPrompt(cursor,prompt),\\\n",
    "    llm($model,prompt)->(answer)\n"
   ]
  },
  {
   "cell_type": "markdown",
   "metadata": {},
   "source": [
    "## Adding RAG"
   ]
  },
  {
   "cell_type": "markdown",
   "metadata": {},
   "source": [
    "### building a vecdb IE function"
   ]
  },
  {
   "cell_type": "markdown",
   "metadata": {},
   "source": [
    "If the implementation details are not of interest, feel free to move to the next section."
   ]
  },
  {
   "cell_type": "code",
   "execution_count": null,
   "metadata": {},
   "outputs": [],
   "source": [
    "#| export\n",
    "import faiss\n",
    "import numpy as np\n",
    "import openai\n",
    "from collections import defaultdict\n",
    "from openai import OpenAI\n",
    "\n",
    "def get_openai_embeddings(texts):\n",
    "    client = get_client()\n",
    "    response = client.embeddings.create(\n",
    "        model=\"text-embedding-ada-002\",  # or another embedding model\n",
    "        input=texts\n",
    "    )\n",
    "    embeddings = [item.embedding for item in response.data]\n",
    "    return np.array(embeddings)"
   ]
  },
  {
   "cell_type": "code",
   "execution_count": null,
   "metadata": {},
   "outputs": [],
   "source": [
    "#| export\n",
    "class VecDB():\n",
    "    def __init__(self):\n",
    "        self.index_map={}# namespace: index\n",
    "        self.doc_map=defaultdict(list)# namespace: list of docs\n",
    "        self.dim = 1536\n",
    "    def add_index(self,namespace):\n",
    "        self.index_map[namespace] = faiss.IndexFlatL2(self.dim)\n",
    "\n",
    "    def add_docs(self,documents,namespace='default'):\n",
    "        if not namespace in self.index_map:\n",
    "            self.add_index(namespace)\n",
    "        documents = [str(doc) for doc in documents]\n",
    "        embeddings = get_openai_embeddings(documents)\n",
    "        self.index_map[namespace].add(embeddings.astype('float32'))\n",
    "        self.doc_map[namespace].extend(documents)\n",
    "\n",
    "    def search(self, query, k=1,namespace='default'):\n",
    "        query_embedding = get_openai_embeddings([query])[0]\n",
    "        index = self.index_map[namespace]\n",
    "        documents = self.doc_map[namespace]\n",
    "        D, I = index.search(np.array([query_embedding]).astype('float32'), k)\n",
    "        return [(documents[i], float(D[0][j])) for j, i in enumerate(I[0])]"
   ]
  },
  {
   "cell_type": "code",
   "execution_count": null,
   "metadata": {},
   "outputs": [],
   "source": [
    "documents = [\n",
    "    \"FAISS is a library for efficient similarity search.\",\n",
    "    \"Vector databases are crucial for RAG pipelines.\",\n",
    "    \"FAISS was developed by Facebook AI Research.\",\n",
    "    \"RAG combines retrieval and generation for better results.\"\n",
    "]"
   ]
  },
  {
   "cell_type": "code",
   "execution_count": null,
   "metadata": {},
   "outputs": [],
   "source": [
    "db=VecDB()"
   ]
  },
  {
   "cell_type": "code",
   "execution_count": null,
   "metadata": {},
   "outputs": [],
   "source": [
    "db.add_docs(documents)"
   ]
  },
  {
   "cell_type": "code",
   "execution_count": null,
   "metadata": {},
   "outputs": [
    {
     "data": {
      "text/plain": [
       "[('RAG combines retrieval and generation for better results.',\n",
       "  0.2230152040719986),\n",
       " ('Vector databases are crucial for RAG pipelines.', 0.3758752644062042),\n",
       " ('FAISS was developed by Facebook AI Research.', 0.5164598226547241),\n",
       " ('FAISS is a library for efficient similarity search.', 0.5333598852157593)]"
      ]
     },
     "execution_count": null,
     "metadata": {},
     "output_type": "execute_result"
    }
   ],
   "source": [
    "db.search(\"RAG?\",4)"
   ]
  },
  {
   "cell_type": "code",
   "execution_count": null,
   "metadata": {},
   "outputs": [],
   "source": [
    "sess.register('vector_search',db.search,[(str,Span),int,str],[str,float])"
   ]
  },
  {
   "cell_type": "markdown",
   "metadata": {},
   "source": [
    "### Adding stack overflow posts to vector DB"
   ]
  },
  {
   "cell_type": "code",
   "execution_count": null,
   "metadata": {},
   "outputs": [
    {
     "data": {
      "text/plain": [
       "['1. **Use clear and concise language**\\n   Always strive for clarity in your documentation. Use simple, straightforward language and provide examples:\\n\\n   ```python\\n   def calculate_area(length, width):\\n       \"\"\"\\n       Calculate the area of a rectangle.\\n\\n       :param length: The length of the rectangle\\n       :param width: The width of the rectangle\\n       :return: The area of the rectangle\\n       \"\"\"\\n       return length * width\\n   ```',\n",
       " '2. **Include code examples with comments**\\n   Provide relevant code snippets with inline comments to explain each step:\\n\\n   ```javascript\\n   // Function to calculate factorial\\n   function factorial(n) {\\n       if (n === 0 || n === 1) {\\n           return 1; // Base case: 0! and 1! are 1\\n       } else {\\n           return n * factorial(n - 1); // Recursive case\\n       }\\n   }\\n   ```',\n",
       " \"3. **Structure your documentation with markdown**\\n   Use markdown to structure your documentation for better readability:\\n\\n   ```markdown\\n   # My Project\\n\\n   ## Installation\\n   ```bash\\n   npm install my-project\\n   ```\\n\\n   ## Usage\\n   ```javascript\\n   const myProject = require('my-project');\\n   myProject.doSomething();\\n   ```\\n   ```\",\n",
       " '4. **Write for your audience with examples**\\n   Adjust your language and examples based on your audience:\\n\\n   ```python\\n   # For beginners\\n   name = input(\"What\\'s your name? \")\\n   print(f\"Hello, {name}!\")\\n\\n   # For advanced users\\n   def greet(name: str) -> str:\\n       return f\"Hello, {name}!\"\\n   ```',\n",
       " '5. **Keep it up-to-date with version information**\\n   Include version information and update logs:\\n\\n   ```python\\n   \"\"\"\\n   MyModule - A helpful utility\\n\\n   Version: 1.2.3\\n   Last Updated: 2024-07-30\\n\\n   Changelog:\\n   - 1.2.3: Fixed bug in process_data function\\n   - 1.2.2: Added new feature X\\n   \"\"\"\\n\\n   def process_data(data):\\n       # Implementation here\\n       pass\\n   ```',\n",
       " '6. **Use diagrams and visuals with code**\\n   Include ASCII diagrams or links to visual aids in your code comments:\\n\\n   ```python\\n   def binary_search(arr, target):\\n       \"\"\"\\n       Performs binary search.\\n\\n       ASCII Diagram:\\n       [1, 3, 5, 7, 9]\\n        ^     ^     ^\\n       low   mid   high\\n\\n       :param arr: Sorted array\\n       :param target: Target value\\n       :return: Index of target or -1 if not found\\n       \"\"\"\\n       # Implementation here\\n       pass\\n   ```',\n",
       " '7. **Provide a table of contents with code sections**\\n   For longer documents, include a table of contents with links to code sections:\\n\\n   ```markdown\\n   # Table of Contents\\n   1. [Installation](#installation)\\n   2. [Usage](#usage)\\n   3. [API Reference](#api-reference)\\n\\n   ## Installation\\n   ```bash\\n   pip install mypackage\\n   ```\\n\\n   ## Usage\\n   ```python\\n   import mypackage\\n   mypackage.function()\\n   ```\\n\\n   ## API Reference\\n   ```python\\n   def function(param1, param2):\\n       \"\"\"Detailed function description\"\"\"\\n       pass\\n   ```\\n   ```',\n",
       " '8. **Use consistent formatting**\\n   Maintain consistent formatting throughout your documentation:\\n\\n   ```python\\n   def function_one(param1: int, param2: str) -> bool:\\n       \"\"\"Does something.\"\"\"\\n       pass\\n\\n   def function_two(param1: float, param2: list) -> dict:\\n       \"\"\"Does something else.\"\"\"\\n       pass\\n   ```',\n",
       " '9. **Include a \"Getting Started\" section with code**\\n   Provide a quick start guide with simple code examples:\\n\\n   ```python\\n   # Getting Started with MyLibrary\\n\\n   # 1. Import the library\\n   import mylibrary\\n\\n   # 2. Create an instance\\n   my_instance = mylibrary.MyClass()\\n\\n   # 3. Use a basic function\\n   result = my_instance.do_something()\\n\\n   # 4. Print the result\\n   print(result)\\n   ```',\n",
       " '10. **Document error messages and troubleshooting steps**\\n    Include common error messages and their solutions:\\n\\n    ```python\\n    try:\\n        result = 10 / 0\\n    except ZeroDivisionError as e:\\n        print(f\"Error: {e}\")\\n        print(\"Solution: Ensure the divisor is not zero.\")\\n    ```',\n",
       " '11. **Use version control for documentation**\\n    Show how to include documentation in version control:\\n\\n    ```bash\\n    # Add documentation to git\\n    git add docs/\\n\\n    # Commit changes\\n    git commit -m \"Updated API documentation for v2.0\"\\n\\n    # Push to remote repository\\n    git push origin main\\n    ```',\n",
       " '12. **Provide examples of input and output**\\n    When documenting functions or APIs, include examples of expected inputs and outputs:\\n\\n    ```python\\n    def square(n):\\n        \"\"\"\\n        Return the square of a number.\\n\\n        :param n: The number to square\\n        :return: The square of the input number\\n\\n        Example:\\n        >>> square(4)\\n        16\\n        >>> square(-3)\\n        9\\n        \"\"\"\\n        return n ** 2\\n    ```',\n",
       " '13. **Use docstrings for inline documentation**\\n    Use docstrings to provide inline documentation:\\n\\n    ```python\\n    class MyClass:\\n        \"\"\"\\n        A class that represents MyClass.\\n\\n        Attributes:\\n            attr1 (int): Description of attr1\\n            attr2 (str): Description of attr2\\n        \"\"\"\\n\\n        def __init__(self, attr1, attr2):\\n            self.attr1 = attr1\\n            self.attr2 = attr2\\n\\n        def my_method(self, param1):\\n            \"\"\"\\n            Description of my_method.\\n\\n            :param param1: Description of param1\\n            :return: Description of return value\\n            \"\"\"\\n            pass\\n    ```',\n",
       " '14. **Include a changelog in your code**\\n    Maintain a changelog to track major changes:\\n\\n    ```python\\n    \"\"\"\\n    Changelog:\\n\\n    v1.1.0 (2024-07-30):\\n    - Added new feature X\\n    - Fixed bug in function Y\\n\\n    v1.0.1 (2024-07-15):\\n    - Updated documentation\\n    - Performance improvements\\n\\n    v1.0.0 (2024-07-01):\\n    - Initial release\\n    \"\"\"\\n\\n    # Your code here\\n    ```',\n",
       " \"15. **Provide context and explanations in comments**\\n    Don't just describe what something does, explain why it's important:\\n\\n    ```python\\n    # We use a cache to store expensive computation results\\n    # This significantly improves performance for repeated calls\\n    cache = {}\\n\\n    def expensive_function(n):\\n        if n in cache:\\n            return cache[n]\\n        result = # ... some expensive computation\\n        cache[n] = result\\n        return result\\n    ```\",\n",
       " '16. **Use links effectively in documentation**\\n    Link to related sections or external resources:\\n\\n    ```python\\n    \"\"\"\\n    For more information on this module, see:\\n    - [API Documentation](https://example.com/api-docs)\\n    - [Usage Examples](https://example.com/examples)\\n    - Related function: `other_function()`\\n    \"\"\"\\n\\n    def my_function():\\n        pass\\n\\n    def other_function():\\n        pass\\n    ```',\n",
       " \"17. **Include a search function (for online docs)**\\n    For online documentation, implement a search feature. Here's a simple JavaScript example:\\n\\n    ```javascript\\n    function searchDocs() {\\n        var input = document.getElementById('searchInput').value.toLowerCase();\\n        var elements = document.getElementsByClassName('searchable');\\n        \\n        for (var i = 0; i < elements.length; i++) {\\n            var content = elements[i].textContent.toLowerCase();\\n            if (content.includes(input)) {\\n                elements[i].style.display = 'block';\\n            } else {\\n                elements[i].style.display = 'none';\\n            }\\n        }\\n    }\\n    ```\",\n",
       " '18. **Write clear method and function signatures**\\n    Clearly document the parameters, return values, and any exceptions:\\n\\n    ```python\\n    def process_data(data: List[Dict[str, Any]],\\n                     options: Optional[Dict[str, Any]] = None) -> Tuple[List[Any], int]:\\n        \"\"\"\\n        Process the input data according to specified options.\\n\\n        :param data: A list of dictionaries containing the input data\\n        :param options: Optional dictionary of processing options\\n        :return: A tuple containing the processed data and a status code\\n        :raises ValueError: If the input data is empty or invalid\\n        \"\"\"\\n        if not data:\\n            raise ValueError(\"Input data cannot be empty\")\\n        \\n        # Processing logic here\\n        \\n        return processed_data, status_code\\n    ```',\n",
       " '19. **Use meaningful variable and function names**\\n    Choose descriptive names that convey the purpose or functionality:\\n\\n    ```python\\n    def calculate_total_price(item_prices: List[float], tax_rate: float) -> float:\\n        \"\"\"\\n        Calculate the total price including tax.\\n\\n        :param item_prices: List of individual item prices\\n        :param tax_rate: The tax rate as a decimal (e.g., 0.08 for 8%)\\n        :return: The total price including tax\\n        \"\"\"\\n        subtotal = sum(item_prices)\\n        tax_amount = subtotal * tax_rate\\n        total_price = subtotal + tax_amount\\n        return total_price\\n    ```',\n",
       " '20. **Include a license and contribution guidelines**\\n    For open-source projects, clearly state the license and provide contribution guidelines:\\n\\n    ```python\\n    \"\"\"\\n    MyProject - A helpful Python utility\\n\\n    Copyright (c) 2024 Your Name\\n\\n    Licensed under the MIT License.\\n    See LICENSE file for details.\\n\\n    Contribution Guidelines:\\n    1. Fork the repository\\n    2. Create a new branch for your feature\\n    3. Write tests for your changes\\n    4. Ensure all tests pass\\n    5. Submit a pull request\\n\\n    For more details, see CONTRIBUTING.md\\n    \"\"\"\\n\\n    # Your code here\\n    ```']"
      ]
     },
     "execution_count": null,
     "metadata": {},
     "output_type": "execute_result"
    }
   ],
   "source": [
    "docs = Path('copilot_data/stackoverflow_posts.txt').read_text().split('DELIM')\n",
    "docs = [doc.strip() for doc in docs]\n",
    "docs"
   ]
  },
  {
   "cell_type": "code",
   "execution_count": null,
   "metadata": {},
   "outputs": [],
   "source": [
    "db.add_docs(docs,namespace='stackoverflow')"
   ]
  },
  {
   "cell_type": "code",
   "execution_count": null,
   "metadata": {},
   "outputs": [],
   "source": [
    "sess.remove_head('VecDBQueryExample')"
   ]
  },
  {
   "cell_type": "code",
   "execution_count": null,
   "metadata": {},
   "outputs": [
    {
     "data": {
      "text/plain": [
       "'?VecDBQueryExample(relevant_docs,similarity_score)'"
      ]
     },
     "metadata": {},
     "output_type": "display_data"
    },
    {
     "data": {
      "text/html": [
       "<style type=\"text/css\">\n",
       "#T_f9669_row0_col0, #T_f9669_row0_col1, #T_f9669_row1_col0, #T_f9669_row1_col1, #T_f9669_row2_col0, #T_f9669_row2_col1, #T_f9669_row3_col0, #T_f9669_row3_col1 {\n",
       "  overflow-wrap: break-word;\n",
       "  max-width: 800px;\n",
       "  text-align: left;\n",
       "}\n",
       "</style>\n",
       "<table id=\"T_f9669\">\n",
       "  <thead>\n",
       "    <tr>\n",
       "      <th class=\"blank level0\" >&nbsp;</th>\n",
       "      <th id=\"T_f9669_level0_col0\" class=\"col_heading level0 col0\" >relevant_docs</th>\n",
       "      <th id=\"T_f9669_level0_col1\" class=\"col_heading level0 col1\" >similarity_score</th>\n",
       "    </tr>\n",
       "  </thead>\n",
       "  <tbody>\n",
       "    <tr>\n",
       "      <th id=\"T_f9669_level0_row0\" class=\"row_heading level0 row0\" >0</th>\n",
       "      <td id=\"T_f9669_row0_col0\" class=\"data row0 col0\" >16. **Use links effectively in documentation**\n",
       "    Link to related sections or external resources:\n",
       "\n",
       "    ```python\n",
       "    \"\"\"\n",
       "    For more information on this module, see:\n",
       "    - [API Documentation](https://example.com/api-docs)\n",
       "    - [Usage Examples](https://example.com/examples)\n",
       "    - Related function: `other_function()`\n",
       "    \"\"\"\n",
       "\n",
       "    def my_function():\n",
       "        pass\n",
       "\n",
       "    def other_function():\n",
       "        pass\n",
       "    ```</td>\n",
       "      <td id=\"T_f9669_row0_col1\" class=\"data row0 col1\" >0.463158</td>\n",
       "    </tr>\n",
       "    <tr>\n",
       "      <th id=\"T_f9669_level0_row1\" class=\"row_heading level0 row1\" >1</th>\n",
       "      <td id=\"T_f9669_row1_col0\" class=\"data row1 col0\" >20. **Include a license and contribution guidelines**\n",
       "    For open-source projects, clearly state the license and provide contribution guidelines:\n",
       "\n",
       "    ```python\n",
       "    \"\"\"\n",
       "    MyProject - A helpful Python utility\n",
       "\n",
       "    Copyright (c) 2024 Your Name\n",
       "\n",
       "    Licensed under the MIT License.\n",
       "    See LICENSE file for details.\n",
       "\n",
       "    Contribution Guidelines:\n",
       "    1. Fork the repository\n",
       "    2. Create a new branch for your feature\n",
       "    3. Write tests for your changes\n",
       "    4. Ensure all tests pass\n",
       "    5. Submit a pull request\n",
       "\n",
       "    For more details, see CONTRIBUTING.md\n",
       "    \"\"\"\n",
       "\n",
       "    # Your code here\n",
       "    ```</td>\n",
       "      <td id=\"T_f9669_row1_col1\" class=\"data row1 col1\" >0.474433</td>\n",
       "    </tr>\n",
       "    <tr>\n",
       "      <th id=\"T_f9669_level0_row2\" class=\"row_heading level0 row2\" >2</th>\n",
       "      <td id=\"T_f9669_row2_col0\" class=\"data row2 col0\" >4. **Write for your audience with examples**\n",
       "   Adjust your language and examples based on your audience:\n",
       "\n",
       "   ```python\n",
       "   # For beginners\n",
       "   name = input(\"What's your name? \")\n",
       "   print(f\"Hello, {name}!\")\n",
       "\n",
       "   # For advanced users\n",
       "   def greet(name: str) -> str:\n",
       "       return f\"Hello, {name}!\"\n",
       "   ```</td>\n",
       "      <td id=\"T_f9669_row2_col1\" class=\"data row2 col1\" >0.479981</td>\n",
       "    </tr>\n",
       "    <tr>\n",
       "      <th id=\"T_f9669_level0_row3\" class=\"row_heading level0 row3\" >3</th>\n",
       "      <td id=\"T_f9669_row3_col0\" class=\"data row3 col0\" >9. **Include a \"Getting Started\" section with code**\n",
       "   Provide a quick start guide with simple code examples:\n",
       "\n",
       "   ```python\n",
       "   # Getting Started with MyLibrary\n",
       "\n",
       "   # 1. Import the library\n",
       "   import mylibrary\n",
       "\n",
       "   # 2. Create an instance\n",
       "   my_instance = mylibrary.MyClass()\n",
       "\n",
       "   # 3. Use a basic function\n",
       "   result = my_instance.do_something()\n",
       "\n",
       "   # 4. Print the result\n",
       "   print(result)\n",
       "   ```</td>\n",
       "      <td id=\"T_f9669_row3_col1\" class=\"data row3 col1\" >0.455388</td>\n",
       "    </tr>\n",
       "  </tbody>\n",
       "</table>\n"
      ],
      "text/plain": [
       "<pandas.io.formats.style.Styler>"
      ]
     },
     "metadata": {},
     "output_type": "display_data"
    }
   ],
   "source": [
    "%%spannerlog\n",
    "VecDBQueryExample(relevant_docs,similarity_score)<-\\\n",
    "    vector_search('python',4,'stackoverflow')->(relevant_docs,similarity_score)\n",
    "\n",
    "?VecDBQueryExample(relevant_docs,similarity_score)"
   ]
  },
  {
   "cell_type": "markdown",
   "metadata": {},
   "source": [
    "### Extending our pipeline"
   ]
  },
  {
   "cell_type": "code",
   "execution_count": null,
   "metadata": {},
   "outputs": [],
   "source": [
    "# let us recall the prompt we get from the original implementation"
   ]
  },
  {
   "cell_type": "code",
   "execution_count": null,
   "metadata": {},
   "outputs": [
    {
     "data": {
      "text/plain": [
       "'?DocumentFunctionPrompt(C,P)'"
      ]
     },
     "metadata": {},
     "output_type": "display_data"
    },
    {
     "data": {
      "text/html": [
       "<style type=\"text/css\">\n",
       "#T_5aa7d_row0_col0, #T_5aa7d_row0_col1 {\n",
       "  overflow-wrap: break-word;\n",
       "  max-width: 800px;\n",
       "  text-align: left;\n",
       "}\n",
       "</style>\n",
       "<table id=\"T_5aa7d\">\n",
       "  <thead>\n",
       "    <tr>\n",
       "      <th class=\"blank level0\" >&nbsp;</th>\n",
       "      <th id=\"T_5aa7d_level0_col0\" class=\"col_heading level0 col0\" >C</th>\n",
       "      <th id=\"T_5aa7d_level0_col1\" class=\"col_heading level0 col1\" >P</th>\n",
       "    </tr>\n",
       "  </thead>\n",
       "  <tbody>\n",
       "    <tr>\n",
       "      <th id=\"T_5aa7d_level0_row0\" class=\"row_heading level0 row0\" >0</th>\n",
       "      <td id=\"T_5aa7d_row0_col0\" class=\"data row0 col0\" >[@example_code.py,16,17) \"x\"</td>\n",
       "      <td id=\"T_5aa7d_row0_col1\" class=\"data row0 col1\" >system: based on the following context:\n",
       "def g(x,y):\n",
       "    return f(x,y)**2\n",
       "def method(self, y):\n",
       "        return f(self.x, y)\n",
       "Explain the following function:\n",
       "def f(x,y):\n",
       "    x+y\n",
       "In the format of a doc string.\n",
       "</td>\n",
       "    </tr>\n",
       "  </tbody>\n",
       "</table>\n"
      ],
      "text/plain": [
       "<pandas.io.formats.style.Styler>"
      ]
     },
     "metadata": {},
     "output_type": "display_data"
    }
   ],
   "source": [
    "%%spannerlog\n",
    "?DocumentFunctionPrompt(C,P)"
   ]
  },
  {
   "cell_type": "markdown",
   "metadata": {},
   "source": [
    "We use our previous prompt to query our stackoverflow database for relevant posts.\n",
    "We concat our relevant documents to one string so we can format them in a new prompt."
   ]
  },
  {
   "cell_type": "code",
   "execution_count": null,
   "metadata": {},
   "outputs": [
    {
     "data": {
      "text/plain": [
       "'?RagContext(cursor,context)'"
      ]
     },
     "metadata": {},
     "output_type": "display_data"
    },
    {
     "data": {
      "text/html": [
       "<style type=\"text/css\">\n",
       "#T_1c40b_row0_col0, #T_1c40b_row0_col1 {\n",
       "  overflow-wrap: break-word;\n",
       "  max-width: 800px;\n",
       "  text-align: left;\n",
       "}\n",
       "</style>\n",
       "<table id=\"T_1c40b\">\n",
       "  <thead>\n",
       "    <tr>\n",
       "      <th class=\"blank level0\" >&nbsp;</th>\n",
       "      <th id=\"T_1c40b_level0_col0\" class=\"col_heading level0 col0\" >cursor</th>\n",
       "      <th id=\"T_1c40b_level0_col1\" class=\"col_heading level0 col1\" >context</th>\n",
       "    </tr>\n",
       "  </thead>\n",
       "  <tbody>\n",
       "    <tr>\n",
       "      <th id=\"T_1c40b_level0_row0\" class=\"row_heading level0 row0\" >0</th>\n",
       "      <td id=\"T_1c40b_row0_col0\" class=\"data row0 col0\" >[@example_code.py,16,17) \"x\"</td>\n",
       "      <td id=\"T_1c40b_row0_col1\" class=\"data row0 col1\" >1. **Use clear and concise language**\n",
       "   Always strive for clarity in your documentation. Use simple, straightforward language and provide examples:\n",
       "\n",
       "   ```python\n",
       "   def calculate_area(length, width):\n",
       "       \"\"\"\n",
       "       Calculate the area of a rectangle.\n",
       "\n",
       "       :param length: The length of the rectangle\n",
       "       :param width: The width of the rectangle\n",
       "       :return: The area of the rectangle\n",
       "       \"\"\"\n",
       "       return length * width\n",
       "   ```\n",
       "12. **Provide examples of input and output**\n",
       "    When documenting functions or APIs, include examples of expected inputs and outputs:\n",
       "\n",
       "    ```python\n",
       "    def square(n):\n",
       "        \"\"\"\n",
       "        Return the square of a number.\n",
       "\n",
       "        :param n: The number to square\n",
       "        :return: The square of the input number\n",
       "\n",
       "        Example:\n",
       "        >>> square(4)\n",
       "        16\n",
       "        >>> square(-3)\n",
       "        9\n",
       "        \"\"\"\n",
       "        return n ** 2\n",
       "    ```\n",
       "13. **Use docstrings for inline documentation**\n",
       "    Use docstrings to provide inline documentation:\n",
       "\n",
       "    ```python\n",
       "    class MyClass:\n",
       "        \"\"\"\n",
       "        A class that represents MyClass.\n",
       "\n",
       "        Attributes:\n",
       "            attr1 (int): Description of attr1\n",
       "            attr2 (str): Description of attr2\n",
       "        \"\"\"\n",
       "\n",
       "        def __init__(self, attr1, attr2):\n",
       "            self.attr1 = attr1\n",
       "            self.attr2 = attr2\n",
       "\n",
       "        def my_method(self, param1):\n",
       "            \"\"\"\n",
       "            Description of my_method.\n",
       "\n",
       "            :param param1: Description of param1\n",
       "            :return: Description of return value\n",
       "            \"\"\"\n",
       "            pass\n",
       "    ```\n",
       "15. **Provide context and explanations in comments**\n",
       "    Don't just describe what something does, explain why it's important:\n",
       "\n",
       "    ```python\n",
       "    # We use a cache to store expensive computation results\n",
       "    # This significantly improves performance for repeated calls\n",
       "    cache = {}\n",
       "\n",
       "    def expensive_function(n):\n",
       "        if n in cache:\n",
       "            return cache[n]\n",
       "        result = # ... some expensive computation\n",
       "        cache[n] = result\n",
       "        return result\n",
       "    ```</td>\n",
       "    </tr>\n",
       "  </tbody>\n",
       "</table>\n"
      ],
      "text/plain": [
       "<pandas.io.formats.style.Styler>"
      ]
     },
     "metadata": {},
     "output_type": "display_data"
    }
   ],
   "source": [
    "%%spannerlog\n",
    "RagContext(cursor,lex_concat(context))<-\\\n",
    "    DocumentFunctionPrompt(cursor,prompt),\\\n",
    "    vector_search(prompt,4,'stackoverflow')->(context,similarity_score)\n",
    "?RagContext(cursor,context)"
   ]
  },
  {
   "cell_type": "markdown",
   "metadata": {},
   "source": [
    "Now we will build a rag template"
   ]
  },
  {
   "cell_type": "code",
   "execution_count": null,
   "metadata": {},
   "outputs": [],
   "source": [
    "rag_prompt = \"\"\"system: Based on the following context\n",
    "{}\n",
    "answer the following question\n",
    "{}\n",
    "\"\"\"\n",
    "\n",
    "sess.import_var('rag_prompt',rag_prompt)"
   ]
  },
  {
   "cell_type": "markdown",
   "metadata": {},
   "source": [
    "And compose our old prompt with the context we got,\n",
    "ultimately sending it to our llm."
   ]
  },
  {
   "cell_type": "code",
   "execution_count": null,
   "metadata": {},
   "outputs": [
    {
     "data": {
      "text/plain": [
       "'?RagCompletion(cursor,answer)'"
      ]
     },
     "metadata": {},
     "output_type": "display_data"
    },
    {
     "data": {
      "text/html": [
       "<style type=\"text/css\">\n",
       "#T_7e70a_row0_col0, #T_7e70a_row0_col1 {\n",
       "  overflow-wrap: break-word;\n",
       "  max-width: 800px;\n",
       "  text-align: left;\n",
       "}\n",
       "</style>\n",
       "<table id=\"T_7e70a\">\n",
       "  <thead>\n",
       "    <tr>\n",
       "      <th class=\"blank level0\" >&nbsp;</th>\n",
       "      <th id=\"T_7e70a_level0_col0\" class=\"col_heading level0 col0\" >cursor</th>\n",
       "      <th id=\"T_7e70a_level0_col1\" class=\"col_heading level0 col1\" >answer</th>\n",
       "    </tr>\n",
       "  </thead>\n",
       "  <tbody>\n",
       "    <tr>\n",
       "      <th id=\"T_7e70a_level0_row0\" class=\"row_heading level0 row0\" >0</th>\n",
       "      <td id=\"T_7e70a_row0_col0\" class=\"data row0 col0\" >[@example_code.py,16,17) \"x\"</td>\n",
       "      <td id=\"T_7e70a_row0_col1\" class=\"data row0 col1\" >```python\n",
       "def f(x, y):\n",
       "    \"\"\"\n",
       "    Calculate the sum of two numbers.\n",
       "\n",
       "    :param x: The first number to be added\n",
       "    :param y: The second number to be added\n",
       "    :return: The sum of x and y\n",
       "\n",
       "    Example:\n",
       "    >>> f(2, 3)\n",
       "    5\n",
       "    >>> f(-1, 5)\n",
       "    4\n",
       "    \"\"\"\n",
       "    return x + y\n",
       "```\n",
       "</td>\n",
       "    </tr>\n",
       "  </tbody>\n",
       "</table>\n"
      ],
      "text/plain": [
       "<pandas.io.formats.style.Styler>"
      ]
     },
     "metadata": {},
     "output_type": "display_data"
    }
   ],
   "source": [
    "%%spannerlog\n",
    "RagPrompt(cursor,prompt)<-\\\n",
    "    RagContext(cursor,context),\\\n",
    "    DocumentFunctionPrompt(cursor,document_promps),\\\n",
    "    format($rag_prompt,context,document_promps)->(prompt)\n",
    "\n",
    "RagCompletion(cursor,answer)<-\\\n",
    "    RagPrompt(cursor,prompt),\\\n",
    "    llm($model,prompt)->(answer)\n",
    "\n",
    "?RagCompletion(cursor,answer)"
   ]
  },
  {
   "cell_type": "markdown",
   "metadata": {},
   "source": [
    "## Adding user feedback"
   ]
  },
  {
   "cell_type": "markdown",
   "metadata": {},
   "source": [
    "### Getting positive user feedback data."
   ]
  },
  {
   "cell_type": "code",
   "execution_count": null,
   "metadata": {},
   "outputs": [
    {
     "data": {
      "text/html": [
       "<div>\n",
       "<style scoped>\n",
       "    .dataframe tbody tr th:only-of-type {\n",
       "        vertical-align: middle;\n",
       "    }\n",
       "\n",
       "    .dataframe tbody tr th {\n",
       "        vertical-align: top;\n",
       "    }\n",
       "\n",
       "    .dataframe thead th {\n",
       "        text-align: right;\n",
       "    }\n",
       "</style>\n",
       "<table border=\"1\" class=\"dataframe\">\n",
       "  <thead>\n",
       "    <tr style=\"text-align: right;\">\n",
       "      <th></th>\n",
       "      <th>user</th>\n",
       "      <th>q</th>\n",
       "      <th>a</th>\n",
       "    </tr>\n",
       "  </thead>\n",
       "  <tbody>\n",
       "    <tr>\n",
       "      <th>0</th>\n",
       "      <td>bob</td>\n",
       "      <td>def calculate_area(length, width):\n",
       "    return...</td>\n",
       "      <td>Calculate the area of a rectangle.\n",
       "\n",
       "Args:\n",
       "    ...</td>\n",
       "    </tr>\n",
       "    <tr>\n",
       "      <th>1</th>\n",
       "      <td>joe</td>\n",
       "      <td>def factorial(n):\n",
       "    if n &lt; 0:\n",
       "        raise...</td>\n",
       "      <td>Calculate the factorial of a non-negative...</td>\n",
       "    </tr>\n",
       "  </tbody>\n",
       "</table>\n",
       "</div>"
      ],
      "text/plain": [
       "  user                                                  q  \\\n",
       "0  bob  \n",
       "def calculate_area(length, width):\n",
       "    return...   \n",
       "1  joe  \n",
       "def factorial(n):\n",
       "    if n < 0:\n",
       "        raise...   \n",
       "\n",
       "                                                   a  \n",
       "0  Calculate the area of a rectangle.\n",
       "\n",
       "Args:\n",
       "    ...  \n",
       "1  \n",
       "    Calculate the factorial of a non-negative...  "
      ]
     },
     "execution_count": null,
     "metadata": {},
     "output_type": "execute_result"
    }
   ],
   "source": [
    "positive_feedback =pd.DataFrame([\n",
    "    ['bob',\"\"\"\n",
    "def calculate_area(length, width):\n",
    "    return length * width\n",
    "\"\"\",\n",
    "\"\"\"Calculate the area of a rectangle.\n",
    "\n",
    "Args:\n",
    "    length (float): The length of the rectangle.\n",
    "    width (float): The width of the rectangle.\n",
    "\n",
    "Returns:\n",
    "    float: The area of the rectangle.\n",
    "\n",
    "Example:\n",
    "    >>> calculate_area(5, 3)\n",
    "    15.0\n",
    "\"\"\"],\n",
    "['joe',\"\"\"\n",
    "def factorial(n):\n",
    "    if n < 0:\n",
    "        raise ValueError(\"Factorial is not defined for negative numbers\")\n",
    "    if n == 0 or n == 1:\n",
    "        return 1\n",
    "    return n * factorial(n - 1)\n",
    "\n",
    "\"\"\",\n",
    "\"\"\"\n",
    "    Calculate the factorial of a non-negative integer.\n",
    "\n",
    "    This function computes the factorial of a given non-negative integer using\n",
    "    a recursive approach.\n",
    "\n",
    "    :param n: The non-negative integer to calculate the factorial for.\n",
    "    :type n: int\n",
    "    :returns: The factorial of the input number.\n",
    "    :rtype: int\n",
    "    :raises ValueError: If the input is negative.\n",
    "\n",
    "    :Example:\n",
    "\n",
    "    >>> factorial(5)\n",
    "    120\n",
    "    >>> factorial(0)\n",
    "    1\n",
    "\n",
    "    .. note::\n",
    "       The factorial of 0 is defined to be 1.\n",
    "\n",
    "    .. warning::\n",
    "       This function may cause a stack overflow for very large inputs due to its recursive nature.\n",
    "    \"\"\"]\n",
    "],columns=['user','q','a'])\n",
    "positive_feedback"
   ]
  },
  {
   "cell_type": "code",
   "execution_count": null,
   "metadata": {},
   "outputs": [],
   "source": [
    "sess.import_rel('PositiveFeedback',positive_feedback)"
   ]
  },
  {
   "cell_type": "markdown",
   "metadata": {},
   "source": [
    "### Building a few shot prompt and pipeline"
   ]
  },
  {
   "cell_type": "code",
   "execution_count": null,
   "metadata": {},
   "outputs": [],
   "source": [
    "fewshot_prompt_template = \"\"\"system: answer similar to the following:\n",
    "{}\"\"\"\n",
    "\n",
    "few_shot_single_example_prompt_template = \"\"\"\n",
    "user: {}\n",
    "assistant: {}\n",
    "\"\"\"\n",
    "\n",
    "sess.import_var('fewshot_template',fewshot_prompt_template)\n",
    "sess.import_var('single_example_template',few_shot_single_example_prompt_template)"
   ]
  },
  {
   "cell_type": "code",
   "execution_count": null,
   "metadata": {},
   "outputs": [],
   "source": [
    "sess.remove_head('FewShotRagDocumentPrompt')"
   ]
  },
  {
   "cell_type": "markdown",
   "metadata": {},
   "source": [
    "Now we simply get the feedback of the relevant user and compose it into a prompt"
   ]
  },
  {
   "cell_type": "code",
   "execution_count": null,
   "metadata": {},
   "outputs": [
    {
     "data": {
      "text/plain": [
       "\"?FewShotExamples('bob',Q)\""
      ]
     },
     "metadata": {},
     "output_type": "display_data"
    },
    {
     "data": {
      "text/html": [
       "<style type=\"text/css\">\n",
       "#T_e6460_row0_col0 {\n",
       "  overflow-wrap: break-word;\n",
       "  max-width: 800px;\n",
       "  text-align: left;\n",
       "}\n",
       "</style>\n",
       "<table id=\"T_e6460\">\n",
       "  <thead>\n",
       "    <tr>\n",
       "      <th class=\"blank level0\" >&nbsp;</th>\n",
       "      <th id=\"T_e6460_level0_col0\" class=\"col_heading level0 col0\" >Q</th>\n",
       "    </tr>\n",
       "  </thead>\n",
       "  <tbody>\n",
       "    <tr>\n",
       "      <th id=\"T_e6460_level0_row0\" class=\"row_heading level0 row0\" >0</th>\n",
       "      <td id=\"T_e6460_row0_col0\" class=\"data row0 col0\" >\n",
       "user: \n",
       "def calculate_area(length, width):\n",
       "    return length * width\n",
       "\n",
       "assistant: Calculate the area of a rectangle.\n",
       "\n",
       "Args:\n",
       "    length (float): The length of the rectangle.\n",
       "    width (float): The width of the rectangle.\n",
       "\n",
       "Returns:\n",
       "    float: The area of the rectangle.\n",
       "\n",
       "Example:\n",
       "    >>> calculate_area(5, 3)\n",
       "    15.0\n",
       "\n",
       "</td>\n",
       "    </tr>\n",
       "  </tbody>\n",
       "</table>\n"
      ],
      "text/plain": [
       "<pandas.io.formats.style.Styler>"
      ]
     },
     "metadata": {},
     "output_type": "display_data"
    },
    {
     "data": {
      "text/plain": [
       "\"?FewShotPrompt('bob',prompt)\""
      ]
     },
     "metadata": {},
     "output_type": "display_data"
    },
    {
     "data": {
      "text/html": [
       "<style type=\"text/css\">\n",
       "#T_f498c_row0_col0 {\n",
       "  overflow-wrap: break-word;\n",
       "  max-width: 800px;\n",
       "  text-align: left;\n",
       "}\n",
       "</style>\n",
       "<table id=\"T_f498c\">\n",
       "  <thead>\n",
       "    <tr>\n",
       "      <th class=\"blank level0\" >&nbsp;</th>\n",
       "      <th id=\"T_f498c_level0_col0\" class=\"col_heading level0 col0\" >prompt</th>\n",
       "    </tr>\n",
       "  </thead>\n",
       "  <tbody>\n",
       "    <tr>\n",
       "      <th id=\"T_f498c_level0_row0\" class=\"row_heading level0 row0\" >0</th>\n",
       "      <td id=\"T_f498c_row0_col0\" class=\"data row0 col0\" >system: answer similar to the following:\n",
       "\n",
       "user: \n",
       "def calculate_area(length, width):\n",
       "    return length * width\n",
       "\n",
       "assistant: Calculate the area of a rectangle.\n",
       "\n",
       "Args:\n",
       "    length (float): The length of the rectangle.\n",
       "    width (float): The width of the rectangle.\n",
       "\n",
       "Returns:\n",
       "    float: The area of the rectangle.\n",
       "\n",
       "Example:\n",
       "    >>> calculate_area(5, 3)\n",
       "    15.0\n",
       "\n",
       "</td>\n",
       "    </tr>\n",
       "  </tbody>\n",
       "</table>\n"
      ],
      "text/plain": [
       "<pandas.io.formats.style.Styler>"
      ]
     },
     "metadata": {},
     "output_type": "display_data"
    }
   ],
   "source": [
    "%%spannerlog\n",
    "FewShotExamples(user,lex_concat(qa_pair))<-\\\n",
    "    PositiveFeedback(user,q,a),\\\n",
    "    format($single_example_template,q,a)->(qa_pair)\n",
    "\n",
    "?FewShotExamples('bob',Q)\n",
    "\n",
    "FewShotPrompt(user,prompt)<-\\\n",
    "    FewShotExamples(user,examples),\\\n",
    "    format($fewshot_template,examples)->(prompt)\n",
    "\n",
    "?FewShotPrompt('bob',prompt)"
   ]
  },
  {
   "cell_type": "markdown",
   "metadata": {},
   "source": [
    "Finally we compose our RAG and Few-shot prompt to get one single prompt."
   ]
  },
  {
   "cell_type": "code",
   "execution_count": null,
   "metadata": {},
   "outputs": [],
   "source": [
    "%%spannerlog\n",
    "\n",
    "FewShotRagDocumentPrompt(user,cursor,prompt)<-\\\n",
    "    FewShotPrompt(user,few_shot_prompt),\\\n",
    "    RagPrompt(cursor,rag_prompt),\\\n",
    "    format(\"{} {}\",rag_prompt,few_shot_prompt)->(prompt)"
   ]
  },
  {
   "cell_type": "code",
   "execution_count": null,
   "metadata": {},
   "outputs": [
    {
     "name": "stdout",
     "output_type": "stream",
     "text": [
      "system: Based on the following context\n",
      "1. **Use clear and concise language**\n",
      "   Always strive for clarity in your documentation. Use simple, straightforward language and provide examples:\n",
      "\n",
      "   ```python\n",
      "   def calculate_area(length, width):\n",
      "       \"\"\"\n",
      "       Calculate the area of a rectangle.\n",
      "\n",
      "       :param length: The length of the rectangle\n",
      "       :param width: The width of the rectangle\n",
      "       :return: The area of the rectangle\n",
      "       \"\"\"\n",
      "       return length * width\n",
      "   ```\n",
      "12. **Provide examples of input and output**\n",
      "    When documenting functions or APIs, include examples of expected inputs and outputs:\n",
      "\n",
      "    ```python\n",
      "    def square(n):\n",
      "        \"\"\"\n",
      "        Return the square of a number.\n",
      "\n",
      "        :param n: The number to square\n",
      "        :return: The square of the input number\n",
      "\n",
      "        Example:\n",
      "        >>> square(4)\n",
      "        16\n",
      "        >>> square(-3)\n",
      "        9\n",
      "        \"\"\"\n",
      "        return n ** 2\n",
      "    ```\n",
      "13. **Use docstrings for inline documentation**\n",
      "    Use docstrings to provide inline documentation:\n",
      "\n",
      "    ```python\n",
      "    class MyClass:\n",
      "        \"\"\"\n",
      "        A class that represents MyClass.\n",
      "\n",
      "        Attributes:\n",
      "            attr1 (int): Description of attr1\n",
      "            attr2 (str): Description of attr2\n",
      "        \"\"\"\n",
      "\n",
      "        def __init__(self, attr1, attr2):\n",
      "            self.attr1 = attr1\n",
      "            self.attr2 = attr2\n",
      "\n",
      "        def my_method(self, param1):\n",
      "            \"\"\"\n",
      "            Description of my_method.\n",
      "\n",
      "            :param param1: Description of param1\n",
      "            :return: Description of return value\n",
      "            \"\"\"\n",
      "            pass\n",
      "    ```\n",
      "15. **Provide context and explanations in comments**\n",
      "    Don't just describe what something does, explain why it's important:\n",
      "\n",
      "    ```python\n",
      "    # We use a cache to store expensive computation results\n",
      "    # This significantly improves performance for repeated calls\n",
      "    cache = {}\n",
      "\n",
      "    def expensive_function(n):\n",
      "        if n in cache:\n",
      "            return cache[n]\n",
      "        result = # ... some expensive computation\n",
      "        cache[n] = result\n",
      "        return result\n",
      "    ```\n",
      "answer the following question\n",
      "system: based on the following context:\n",
      "def g(x,y):\n",
      "    return f(x,y)**2\n",
      "def method(self, y):\n",
      "        return f(self.x, y)\n",
      "Explain the following function:\n",
      "def f(x,y):\n",
      "    x+y\n",
      "In the format of a doc string.\n",
      "\n",
      " system: answer similar to the following:\n",
      "\n",
      "user: \n",
      "def calculate_area(length, width):\n",
      "    return length * width\n",
      "\n",
      "assistant: Calculate the area of a rectangle.\n",
      "\n",
      "Args:\n",
      "    length (float): The length of the rectangle.\n",
      "    width (float): The width of the rectangle.\n",
      "\n",
      "Returns:\n",
      "    float: The area of the rectangle.\n",
      "\n",
      "Example:\n",
      "    >>> calculate_area(5, 3)\n",
      "    15.0\n",
      "\n",
      "\n"
     ]
    }
   ],
   "source": [
    "print(sess.export('?FewShotRagDocumentPrompt(\"bob\",C,P)')['P'][0])"
   ]
  },
  {
   "cell_type": "markdown",
   "metadata": {},
   "source": [
    "Now lets assume we have completion requests reaching our agents from multiple users."
   ]
  },
  {
   "cell_type": "code",
   "execution_count": null,
   "metadata": {},
   "outputs": [],
   "source": [
    "per_user_completion = pd.DataFrame(\n",
    "    [['bob',Span(code_file,16,17)]]\n",
    ")\n",
    "sess.import_rel('PerUserCompletion',per_user_completion)"
   ]
  },
  {
   "cell_type": "markdown",
   "metadata": {},
   "source": [
    "We Generate the prompt based on the user and their cursor position and call the llm."
   ]
  },
  {
   "cell_type": "code",
   "execution_count": null,
   "metadata": {},
   "outputs": [],
   "source": [
    "%%spannerlog\n",
    "FewShotCompletion(user,cursor,answer)<-\\\n",
    "    PerUserCompletion(user,cursor),\\\n",
    "    FewShotRagDocumentPrompt(user,cursor,prompt),\\\n",
    "    llm($model,prompt)->(answer)\n"
   ]
  },
  {
   "cell_type": "code",
   "execution_count": null,
   "metadata": {},
   "outputs": [
    {
     "name": "stdout",
     "output_type": "stream",
     "text": [
      "Calculate the sum of two values.\n",
      "\n",
      "Args:\n",
      "    x (float): The first value.\n",
      "    y (float): The second value.\n",
      "\n",
      "Returns:\n",
      "    float: The sum of x and y.\n",
      "\n",
      "Example:\n",
      "    >>> f(2, 3)\n",
      "    5\n"
     ]
    }
   ],
   "source": [
    "print(sess.export(\"?FewShotCompletion('bob',C,A)\")['A'][0])"
   ]
  },
  {
   "cell_type": "markdown",
   "metadata": {},
   "source": [
    "## Putting it all together"
   ]
  },
  {
   "cell_type": "markdown",
   "metadata": {},
   "source": [
    "So with the addition of a single simple IE function, we extended our pipeline's logic:"
   ]
  },
  {
   "cell_type": "code",
   "execution_count": null,
   "metadata": {},
   "outputs": [],
   "source": [
    "%%spannerlog\n",
    "FuncDefSpan(span,name)<-\\\n",
    "    Files(text),\\\n",
    "    ast_xpath(text, \"//FunctionDef\")->(node),\\\n",
    "    ast_to_span(text,node)->(span),\\\n",
    "    expr_eval(\"{0}.name\",node)->(name)\n",
    "\n",
    "FuncCallSpan(span,name)<-\\\n",
    "    Files(text),\\\n",
    "    ast_xpath(text, \"//Call/func/Name\")->(node),\\\n",
    "    ast_to_span(text,node)->(span),\\\n",
    "    as_str(span)->(name)\n",
    "\n",
    "CursorWrappingFunc(cursor,name)<-\\\n",
    "    Cursors(cursor),\\\n",
    "    FuncDefSpan(span,name),\\\n",
    "    span_contained(cursor,span)->(True)\n",
    "\n",
    "Mentions(lex_concat(caller_span),called_name)<-\\\n",
    "    FuncCallSpan(called_span,called_name),\\\n",
    "    FuncDefSpan(caller_span,caller_name),\\\n",
    "    span_contained(called_span,caller_span)->(True)\n",
    "\n",
    "model = 'gpt-3.5-turbo'\n",
    "DocumentFunctionPrompt(cursor,prompt)<-\\\n",
    "    CursorWrappingFunc(cursor,name),\\\n",
    "    Mentions(mentions,name),\\\n",
    "    FuncDefSpan(def_span,name),\\\n",
    "    as_str(def_span)->(def_string),\\\n",
    "    format($func_document_template,mentions,def_string)->(prompt)\n",
    "\n",
    "DocumentFunction(cursor,answer)<-\\\n",
    "    DocumentFunctionPrompt(cursor,prompt),\\\n",
    "    llm($model,prompt)->(answer)\n"
   ]
  },
  {
   "cell_type": "markdown",
   "metadata": {},
   "source": [
    "By adding the following rules"
   ]
  },
  {
   "cell_type": "code",
   "execution_count": null,
   "metadata": {},
   "outputs": [],
   "source": [
    "%%spannerlog\n",
    "RagContext(cursor,lex_concat(context))<-\\\n",
    "    DocumentFunctionPrompt(cursor,prompt),\\\n",
    "    vector_search(prompt,4,'stackoverflow')->(context,similarity_score)\n",
    "\n",
    "RagPrompt(cursor,prompt)<-\\\n",
    "    RagContext(cursor,context),\\\n",
    "    DocumentFunctionPrompt(cursor,document_promps),\\\n",
    "    format($rag_prompt,context,document_promps)->(prompt)\n",
    "\n",
    "RagCompletion(cursor,answer)<-\\\n",
    "    RagPrompt(cursor,prompt),\\\n",
    "    llm($model,prompt)->(answer)\n",
    "\n",
    "FewShotExamples(user,lex_concat(qa_pair))<-\\\n",
    "    PositiveFeedback(user,q,a),\\\n",
    "    format($single_example_template,q,a)->(qa_pair)\n",
    "\n",
    "FewShotPrompt(user,prompt)<-\\\n",
    "    FewShotExamples(user,examples),\\\n",
    "    format($fewshot_template,examples)->(prompt)\n",
    "\n",
    "FewShotRagDocumentPrompt(user,cursor,prompt)<-\\\n",
    "    FewShotPrompt(user,few_shot_prompt),\\\n",
    "    RagPrompt(cursor,rag_prompt),\\\n",
    "    format(\"{} {}\",rag_prompt,few_shot_prompt)->(prompt)\n",
    "\n",
    "FewShotCompletion(user,cursor,answer)<-\\\n",
    "    PerUserCompletion(user,cursor),\\\n",
    "    FewShotRagDocumentPrompt(user,cursor,prompt),\\\n",
    "    llm($model,prompt)->(answer)"
   ]
  },
  {
   "cell_type": "markdown",
   "metadata": {},
   "source": [
    "And that was all it took to add RAG and FewShot prompting to our pipeline."
   ]
  },
  {
   "cell_type": "markdown",
   "metadata": {},
   "source": [
    "Note that since we kept our different completion rules, we can also compare them easily.\n",
    "We went from smart addition of context from our code base."
   ]
  },
  {
   "cell_type": "code",
   "execution_count": null,
   "metadata": {},
   "outputs": [
    {
     "name": "stdout",
     "output_type": "stream",
     "text": [
      "\"\"\"\n",
      "This function calculates the sum of two inputs x and y.\n",
      "\"\"\"\n",
      "\n"
     ]
    }
   ],
   "source": [
    "for cursor,answer in sess.export('?DocumentFunction(cursor,answer)').itertuples(index=False,name=None):\n",
    "    print(answer)"
   ]
  },
  {
   "cell_type": "markdown",
   "metadata": {},
   "source": [
    "To adding context to stack overflow, resulting in a docstring the follows best practice:"
   ]
  },
  {
   "cell_type": "code",
   "execution_count": null,
   "metadata": {},
   "outputs": [
    {
     "name": "stdout",
     "output_type": "stream",
     "text": [
      "```python\n",
      "def f(x, y):\n",
      "    \"\"\"\n",
      "    Calculate the sum of two numbers.\n",
      "\n",
      "    :param x: The first number to be added\n",
      "    :param y: The second number to be added\n",
      "    :return: The sum of x and y\n",
      "\n",
      "    Example:\n",
      "    >>> f(2, 3)\n",
      "    5\n",
      "    >>> f(-1, 5)\n",
      "    4\n",
      "    \"\"\"\n",
      "    return x + y\n",
      "```\n",
      "\n"
     ]
    }
   ],
   "source": [
    "for cursor,answer in sess.export('?RagCompletion(cursor,answer)').itertuples(index=False,name=None):\n",
    "    print(answer)"
   ]
  },
  {
   "cell_type": "markdown",
   "metadata": {},
   "source": [
    "To adding user feedback, resulting in a docstring for bob that follows his preffered doc string formatting style:"
   ]
  },
  {
   "cell_type": "code",
   "execution_count": null,
   "metadata": {},
   "outputs": [
    {
     "name": "stdout",
     "output_type": "stream",
     "text": [
      "Calculate the sum of two values.\n",
      "\n",
      "Args:\n",
      "    x (float): The first value.\n",
      "    y (float): The second value.\n",
      "\n",
      "Returns:\n",
      "    float: The sum of x and y.\n",
      "\n",
      "Example:\n",
      "    >>> f(2, 3)\n",
      "    5\n"
     ]
    }
   ],
   "source": [
    "for cursor,answer in sess.export('?FewShotCompletion(\"bob\",cursor,answer)').itertuples(index=False,name=None):\n",
    "    print(answer)"
   ]
  },
  {
   "cell_type": "markdown",
   "metadata": {},
   "source": [
    "This is by no means a production ready agent, but it does demonstrate that complex agents can be programmed and modified easily using few generic IE functions and small elegnat chunks of declerative logic."
   ]
  },
  {
   "cell_type": "code",
   "execution_count": null,
   "metadata": {},
   "outputs": [],
   "source": [
    "#|hide\n",
    "import nbdev; nbdev.nbdev_export()"
   ]
  }
 ],
 "metadata": {
  "kernelspec": {
   "display_name": "python3",
   "language": "python",
   "name": "python3"
  }
 },
 "nbformat": 4,
 "nbformat_minor": 4
}
