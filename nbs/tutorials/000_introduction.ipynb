{
 "cells": [
  {
   "cell_type": "markdown",
   "metadata": {},
   "source": [
    "# Introduction"
   ]
  },
  {
   "cell_type": "markdown",
   "metadata": {},
   "source": [
    ":::{.callout-note}\n",
    "this project is built with nbdev, which is a full literate programming environment built on Jupyter Notebooks. That means that every piece of documentation, including the page you’re reading now, can be accessed as interactive Jupyter notebook. <br>\n",
    "[![Open In Colab](https://colab.research.google.com/assets/colab-badge.svg)](https://colab.research.google.com/github/DeanLight/spannerlib/blob/master/nbs/introduction.ipynb)\n",
    ":::"
   ]
  },
  {
   "cell_type": "markdown",
   "metadata": {},
   "source": [
    "This tutorial will teach you the basics of the spannerlog language and the spannerlib framework.\n",
    "\n",
    "Spannerlog is:\n",
    "* Similar to Datalog, but has type safety features\n",
    "* Has support for aggregation functions\n",
    "* Enables using stateless user defined function called IE functions to derive new relations from existing relations\n",
    "* has some DRY features to help you write spannerlog code effectively\n",
    "* comes with support for Document Spanners using the `Span` class.\n",
    "\n",
    "Spannerlib, via its `Session` object, enables:\n",
    "* registering IE functions, and aggregations functions to be used as callbacks in spannerlog.\n",
    "* executing spannerlog code programmatically"
   ]
  },
  {
   "cell_type": "markdown",
   "metadata": {},
   "source": [
    "## Installation"
   ]
  },
  {
   "cell_type": "markdown",
   "metadata": {},
   "source": [
    "prerequisites:\n",
    "\n",
    "* Have [Python](https://www.python.org/downloads/) version 3.8 or above installed\n",
    "\n",
    "To download and install spannerlog run the following commands in your terminal:\n",
    "\n",
    "```bash\n",
    "git clone https://github.com/DeanLight/spannerlib\n",
    "cd spannerlib\n",
    "pip install . \n",
    "```"
   ]
  },
  {
   "cell_type": "markdown",
   "metadata": {},
   "source": [
    "Make sure you are calling the pip version of your current python environment.\n",
    "To install with another python interpreter, run"
   ]
  },
  {
   "cell_type": "markdown",
   "metadata": {},
   "source": [
    "```bash\n",
    "<path_to_python_interpreter> -m pip install .\n",
    "```"
   ]
  },
  {
   "cell_type": "markdown",
   "metadata": {},
   "source": [
    "You can also install spannerlib in the current Jupyter kernel:\n",
    "<!-- #endregion -->"
   ]
  },
  {
   "cell_type": "markdown",
   "metadata": {},
   "source": [
    "```python\n",
    "!git clone https://github.com/DeanLight/spannerlib\n",
    "!pip install spannerlib\n",
    "```"
   ]
  },
  {
   "cell_type": "markdown",
   "metadata": {},
   "source": [
    "In order to use spannerlib in jupyter notebooks, you must first load it:\n"
   ]
  },
  {
   "cell_type": "code",
   "execution_count": null,
   "metadata": {},
   "outputs": [],
   "source": [
    "#| output: false\n",
    "import spannerlib"
   ]
  },
  {
   "cell_type": "markdown",
   "metadata": {},
   "source": [
    "Importing the spannerlog library automatically loads the `%%spannerlog` cell magic which accepts spannerlog queries as shown below."
   ]
  },
  {
   "cell_type": "code",
   "execution_count": null,
   "metadata": {},
   "outputs": [
    {
     "data": {
      "text/plain": [
       "'?uncle(X,Y)'"
      ]
     },
     "metadata": {},
     "output_type": "display_data"
    },
    {
     "data": {
      "text/html": [
       "<style type=\"text/css\">\n",
       "#T_53a73_row0_col0, #T_53a73_row0_col1 {\n",
       "  overflow-wrap: break-word;\n",
       "  max-width: 800px;\n",
       "  text-align: left;\n",
       "}\n",
       "</style>\n",
       "<table id=\"T_53a73\">\n",
       "  <thead>\n",
       "    <tr>\n",
       "      <th class=\"blank level0\" >&nbsp;</th>\n",
       "      <th id=\"T_53a73_level0_col0\" class=\"col_heading level0 col0\" >X</th>\n",
       "      <th id=\"T_53a73_level0_col1\" class=\"col_heading level0 col1\" >Y</th>\n",
       "    </tr>\n",
       "  </thead>\n",
       "  <tbody>\n",
       "    <tr>\n",
       "      <th id=\"T_53a73_level0_row0\" class=\"row_heading level0 row0\" >0</th>\n",
       "      <td id=\"T_53a73_row0_col0\" class=\"data row0 col0\" >bob</td>\n",
       "      <td id=\"T_53a73_row0_col1\" class=\"data row0 col1\" >greg</td>\n",
       "    </tr>\n",
       "  </tbody>\n",
       "</table>\n"
      ],
      "text/plain": [
       "<pandas.io.formats.style.Styler>"
      ]
     },
     "metadata": {},
     "output_type": "display_data"
    }
   ],
   "source": [
    "%%spannerlog\n",
    "new uncle(str, str)\n",
    "uncle(\"bob\", \"greg\")\n",
    "?uncle(X,Y)"
   ]
  },
  {
   "cell_type": "markdown",
   "metadata": {},
   "source": [
    "## The Spannerlog Language"
   ]
  },
  {
   "cell_type": "markdown",
   "metadata": {},
   "source": [
    "### Type safe Datalog"
   ]
  },
  {
   "cell_type": "markdown",
   "metadata": {},
   "source": [
    "Spannerlog syntax is very similar to datalog, but relations and their types must be declared using the `new` keyword.\n"
   ]
  },
  {
   "cell_type": "code",
   "execution_count": null,
   "metadata": {},
   "outputs": [],
   "source": [
    "%%spannerlog\n",
    "# defining relations\n",
    "new parent(str,str)\n",
    "# defining initial facts\n",
    "parent('xerces', 'brooke')\n",
    "parent('brooke', 'damocles')"
   ]
  },
  {
   "cell_type": "markdown",
   "metadata": {},
   "source": [
    "Rules can be defined that describe how to derive new facts from existing facts.\n",
    "* We call the part to the left of the `<-` the rule's head (or head clause).\n",
    "* We call the part to the right of the `<-` the rule's body (made up of body clauses)."
   ]
  },
  {
   "cell_type": "code",
   "execution_count": null,
   "metadata": {},
   "outputs": [],
   "source": [
    "%%spannerlog\n",
    "# you can define relations recursively\n",
    "# and use line escapes for long rules to make them more readable\n",
    "ancestor(X, Y) <- parent(X, Y)\n",
    "ancestor(X, Y) <- parent(X, Z),\\\n",
    "     ancestor(Z, Y)"
   ]
  },
  {
   "cell_type": "markdown",
   "metadata": {},
   "source": [
    "derived and existing facts can be queried using the `?` operator, with either Free Variables such as `X` or constants."
   ]
  },
  {
   "cell_type": "code",
   "execution_count": null,
   "metadata": {},
   "outputs": [
    {
     "data": {
      "text/plain": [
       "'?parent(X,Y)'"
      ]
     },
     "metadata": {},
     "output_type": "display_data"
    },
    {
     "data": {
      "text/html": [
       "<style type=\"text/css\">\n",
       "#T_e0ba2_row0_col0, #T_e0ba2_row0_col1, #T_e0ba2_row1_col0, #T_e0ba2_row1_col1 {\n",
       "  overflow-wrap: break-word;\n",
       "  max-width: 800px;\n",
       "  text-align: left;\n",
       "}\n",
       "</style>\n",
       "<table id=\"T_e0ba2\">\n",
       "  <thead>\n",
       "    <tr>\n",
       "      <th class=\"blank level0\" >&nbsp;</th>\n",
       "      <th id=\"T_e0ba2_level0_col0\" class=\"col_heading level0 col0\" >X</th>\n",
       "      <th id=\"T_e0ba2_level0_col1\" class=\"col_heading level0 col1\" >Y</th>\n",
       "    </tr>\n",
       "  </thead>\n",
       "  <tbody>\n",
       "    <tr>\n",
       "      <th id=\"T_e0ba2_level0_row0\" class=\"row_heading level0 row0\" >0</th>\n",
       "      <td id=\"T_e0ba2_row0_col0\" class=\"data row0 col0\" >brooke</td>\n",
       "      <td id=\"T_e0ba2_row0_col1\" class=\"data row0 col1\" >damocles</td>\n",
       "    </tr>\n",
       "    <tr>\n",
       "      <th id=\"T_e0ba2_level0_row1\" class=\"row_heading level0 row1\" >1</th>\n",
       "      <td id=\"T_e0ba2_row1_col0\" class=\"data row1 col0\" >xerces</td>\n",
       "      <td id=\"T_e0ba2_row1_col1\" class=\"data row1 col1\" >brooke</td>\n",
       "    </tr>\n",
       "  </tbody>\n",
       "</table>\n"
      ],
      "text/plain": [
       "<pandas.io.formats.style.Styler>"
      ]
     },
     "metadata": {},
     "output_type": "display_data"
    },
    {
     "data": {
      "text/plain": [
       "\"?ancestor('xerces',Y)\""
      ]
     },
     "metadata": {},
     "output_type": "display_data"
    },
    {
     "data": {
      "text/html": [
       "<style type=\"text/css\">\n",
       "#T_0d9ac_row0_col0, #T_0d9ac_row1_col0 {\n",
       "  overflow-wrap: break-word;\n",
       "  max-width: 800px;\n",
       "  text-align: left;\n",
       "}\n",
       "</style>\n",
       "<table id=\"T_0d9ac\">\n",
       "  <thead>\n",
       "    <tr>\n",
       "      <th class=\"blank level0\" >&nbsp;</th>\n",
       "      <th id=\"T_0d9ac_level0_col0\" class=\"col_heading level0 col0\" >Y</th>\n",
       "    </tr>\n",
       "  </thead>\n",
       "  <tbody>\n",
       "    <tr>\n",
       "      <th id=\"T_0d9ac_level0_row0\" class=\"row_heading level0 row0\" >0</th>\n",
       "      <td id=\"T_0d9ac_row0_col0\" class=\"data row0 col0\" >brooke</td>\n",
       "    </tr>\n",
       "    <tr>\n",
       "      <th id=\"T_0d9ac_level0_row1\" class=\"row_heading level0 row1\" >1</th>\n",
       "      <td id=\"T_0d9ac_row1_col0\" class=\"data row1 col0\" >damocles</td>\n",
       "    </tr>\n",
       "  </tbody>\n",
       "</table>\n"
      ],
      "text/plain": [
       "<pandas.io.formats.style.Styler>"
      ]
     },
     "metadata": {},
     "output_type": "display_data"
    },
    {
     "data": {
      "text/plain": [
       "\"?ancestor('xerces','brooke')\""
      ]
     },
     "metadata": {},
     "output_type": "display_data"
    },
    {
     "data": {
      "text/plain": [
       "True"
      ]
     },
     "metadata": {},
     "output_type": "display_data"
    }
   ],
   "source": [
    "%%spannerlog\n",
    "?parent(X,Y)\n",
    "\n",
    "?ancestor('xerces',Y)\n",
    "\n",
    "?ancestor('xerces','brooke')"
   ]
  },
  {
   "cell_type": "markdown",
   "metadata": {},
   "source": [
    "Spannerlog has built in support for declaring relations for primitive types:\n",
    "* `int`\n",
    "* `str`\n",
    "* `float`\n",
    "* `bool`\n",
    "\n",
    "But programatically, you can define relations and add facts of any pythonic data type."
   ]
  },
  {
   "cell_type": "markdown",
   "metadata": {},
   "source": [
    "### Aggregation"
   ]
  },
  {
   "cell_type": "markdown",
   "metadata": {},
   "source": [
    "You can use aggregation function in rule's head to express groupby logic.\n",
    "Non aggregated Variables are used to group and the rest are aggregated by their respective functions."
   ]
  },
  {
   "cell_type": "code",
   "execution_count": null,
   "metadata": {},
   "outputs": [
    {
     "data": {
      "text/plain": [
       "'?numDescendants(X,N)'"
      ]
     },
     "metadata": {},
     "output_type": "display_data"
    },
    {
     "data": {
      "text/html": [
       "<style type=\"text/css\">\n",
       "#T_67572_row0_col0, #T_67572_row0_col1, #T_67572_row1_col0, #T_67572_row1_col1 {\n",
       "  overflow-wrap: break-word;\n",
       "  max-width: 800px;\n",
       "  text-align: left;\n",
       "}\n",
       "</style>\n",
       "<table id=\"T_67572\">\n",
       "  <thead>\n",
       "    <tr>\n",
       "      <th class=\"blank level0\" >&nbsp;</th>\n",
       "      <th id=\"T_67572_level0_col0\" class=\"col_heading level0 col0\" >X</th>\n",
       "      <th id=\"T_67572_level0_col1\" class=\"col_heading level0 col1\" >N</th>\n",
       "    </tr>\n",
       "  </thead>\n",
       "  <tbody>\n",
       "    <tr>\n",
       "      <th id=\"T_67572_level0_row0\" class=\"row_heading level0 row0\" >0</th>\n",
       "      <td id=\"T_67572_row0_col0\" class=\"data row0 col0\" >brooke</td>\n",
       "      <td id=\"T_67572_row0_col1\" class=\"data row0 col1\" >1</td>\n",
       "    </tr>\n",
       "    <tr>\n",
       "      <th id=\"T_67572_level0_row1\" class=\"row_heading level0 row1\" >1</th>\n",
       "      <td id=\"T_67572_row1_col0\" class=\"data row1 col0\" >xerces</td>\n",
       "      <td id=\"T_67572_row1_col1\" class=\"data row1 col1\" >2</td>\n",
       "    </tr>\n",
       "  </tbody>\n",
       "</table>\n"
      ],
      "text/plain": [
       "<pandas.io.formats.style.Styler>"
      ]
     },
     "metadata": {},
     "output_type": "display_data"
    }
   ],
   "source": [
    "%%spannerlog\n",
    "numDescendants(X,count(Y)) <- ancestor(X,Y)\n",
    "\n",
    "?numDescendants(X,N)"
   ]
  },
  {
   "cell_type": "markdown",
   "metadata": {},
   "source": [
    "Built in aggregations include:\n",
    "* min\n",
    "* max\n",
    "* sum\n",
    "* avg\n",
    "* count\n",
    "\n",
    "But you will see in later sections that external aggregation functions can be defined."
   ]
  },
  {
   "cell_type": "markdown",
   "metadata": {},
   "source": [
    "### IE functions"
   ]
  },
  {
   "cell_type": "markdown",
   "metadata": {},
   "source": [
    "Given a pure (stateless) function `f(X,Y)->(Z)` we can think of `f` as deriving information from `(x,y)` values to generate `(z)` values.\n",
    "In the relational settings, IE functions are pure functions that take tuples over some input schema and deriv a number of new tuples from them over some output schema.\n",
    "We can use IE functions as body clauses to derive new facts.\n",
    "\n",
    "IE functions are invoked using the `func_name(InputVars...)->(OutputVars...)` syntax."
   ]
  },
  {
   "cell_type": "code",
   "execution_count": null,
   "metadata": {},
   "outputs": [
    {
     "data": {
      "text/plain": [
       "'?Words(W)'"
      ]
     },
     "metadata": {},
     "output_type": "display_data"
    },
    {
     "data": {
      "text/html": [
       "<style type=\"text/css\">\n",
       "#T_854c3_row0_col0, #T_854c3_row1_col0, #T_854c3_row2_col0, #T_854c3_row3_col0, #T_854c3_row4_col0, #T_854c3_row5_col0, #T_854c3_row6_col0, #T_854c3_row7_col0, #T_854c3_row8_col0, #T_854c3_row9_col0, #T_854c3_row10_col0, #T_854c3_row11_col0, #T_854c3_row12_col0 {\n",
       "  overflow-wrap: break-word;\n",
       "  max-width: 800px;\n",
       "  text-align: left;\n",
       "}\n",
       "</style>\n",
       "<table id=\"T_854c3\">\n",
       "  <thead>\n",
       "    <tr>\n",
       "      <th class=\"blank level0\" >&nbsp;</th>\n",
       "      <th id=\"T_854c3_level0_col0\" class=\"col_heading level0 col0\" >W</th>\n",
       "    </tr>\n",
       "  </thead>\n",
       "  <tbody>\n",
       "    <tr>\n",
       "      <th id=\"T_854c3_level0_row0\" class=\"row_heading level0 row0\" >0</th>\n",
       "      <td id=\"T_854c3_row0_col0\" class=\"data row0 col0\" >[@9a1d0f,0,5) \"Hello\"</td>\n",
       "    </tr>\n",
       "    <tr>\n",
       "      <th id=\"T_854c3_level0_row1\" class=\"row_heading level0 row1\" >1</th>\n",
       "      <td id=\"T_854c3_row1_col0\" class=\"data row1 col0\" >[@9a1d0f,6,14) \"darkness\"</td>\n",
       "    </tr>\n",
       "    <tr>\n",
       "      <th id=\"T_854c3_level0_row2\" class=\"row_heading level0 row2\" >2</th>\n",
       "      <td id=\"T_854c3_row2_col0\" class=\"data row2 col0\" >[@9a1d0f,15,17) \"my\"</td>\n",
       "    </tr>\n",
       "    <tr>\n",
       "      <th id=\"T_854c3_level0_row3\" class=\"row_heading level0 row3\" >3</th>\n",
       "      <td id=\"T_854c3_row3_col0\" class=\"data row3 col0\" >[@9a1d0f,18,21) \"old\"</td>\n",
       "    </tr>\n",
       "    <tr>\n",
       "      <th id=\"T_854c3_level0_row4\" class=\"row_heading level0 row4\" >4</th>\n",
       "      <td id=\"T_854c3_row4_col0\" class=\"data row4 col0\" >[@9a1d0f,22,28) \"friend\"</td>\n",
       "    </tr>\n",
       "    <tr>\n",
       "      <th id=\"T_854c3_level0_row5\" class=\"row_heading level0 row5\" >5</th>\n",
       "      <td id=\"T_854c3_row5_col0\" class=\"data row5 col0\" >[@c7e66d,0,1) \"I\"</td>\n",
       "    </tr>\n",
       "    <tr>\n",
       "      <th id=\"T_854c3_level0_row6\" class=\"row_heading level0 row6\" >6</th>\n",
       "      <td id=\"T_854c3_row6_col0\" class=\"data row6 col0\" >[@c7e66d,2,4) \"ve\"</td>\n",
       "    </tr>\n",
       "    <tr>\n",
       "      <th id=\"T_854c3_level0_row7\" class=\"row_heading level0 row7\" >7</th>\n",
       "      <td id=\"T_854c3_row7_col0\" class=\"data row7 col0\" >[@c7e66d,5,9) \"come\"</td>\n",
       "    </tr>\n",
       "    <tr>\n",
       "      <th id=\"T_854c3_level0_row8\" class=\"row_heading level0 row8\" >8</th>\n",
       "      <td id=\"T_854c3_row8_col0\" class=\"data row8 col0\" >[@c7e66d,10,12) \"to\"</td>\n",
       "    </tr>\n",
       "    <tr>\n",
       "      <th id=\"T_854c3_level0_row9\" class=\"row_heading level0 row9\" >9</th>\n",
       "      <td id=\"T_854c3_row9_col0\" class=\"data row9 col0\" >[@c7e66d,13,17) \"talk\"</td>\n",
       "    </tr>\n",
       "    <tr>\n",
       "      <th id=\"T_854c3_level0_row10\" class=\"row_heading level0 row10\" >10</th>\n",
       "      <td id=\"T_854c3_row10_col0\" class=\"data row10 col0\" >[@c7e66d,18,22) \"with\"</td>\n",
       "    </tr>\n",
       "    <tr>\n",
       "      <th id=\"T_854c3_level0_row11\" class=\"row_heading level0 row11\" >11</th>\n",
       "      <td id=\"T_854c3_row11_col0\" class=\"data row11 col0\" >[@c7e66d,23,26) \"you\"</td>\n",
       "    </tr>\n",
       "    <tr>\n",
       "      <th id=\"T_854c3_level0_row12\" class=\"row_heading level0 row12\" >12</th>\n",
       "      <td id=\"T_854c3_row12_col0\" class=\"data row12 col0\" >[@c7e66d,27,32) \"again\"</td>\n",
       "    </tr>\n",
       "  </tbody>\n",
       "</table>\n"
      ],
      "text/plain": [
       "<pandas.io.formats.style.Styler>"
      ]
     },
     "metadata": {},
     "output_type": "display_data"
    }
   ],
   "source": [
    "%%spannerlog\n",
    "\n",
    "new Texts(str)\n",
    "Texts(\"Hello darkness my old friend\")\n",
    "Texts(\"I've come to talk with you again\")\n",
    "\n",
    "Words(Word) <- Texts(X), rgx(\"(\\w+)\",X)->(Word)\n",
    "\n",
    "?Words(W)"
   ]
  },
  {
   "cell_type": "markdown",
   "metadata": {},
   "source": [
    "`rgx` is part of the built in IE functions. It returns Spans over the original text. We will learn more Spans later."
   ]
  },
  {
   "cell_type": "markdown",
   "metadata": {},
   "source": [
    "### DRY with variables."
   ]
  },
  {
   "cell_type": "markdown",
   "metadata": {},
   "source": [
    "Variable that appear in rule's and queries are called free variables.\n",
    "To help make our code more DRY and easier to read we can also include variables and dereference them in rules and in facts using the `$` operator.\n",
    "As follows:"
   ]
  },
  {
   "cell_type": "code",
   "execution_count": null,
   "metadata": {},
   "outputs": [
    {
     "data": {
      "text/plain": [
       "'?SentenceSentiment($darkness_sentence,Y)'"
      ]
     },
     "metadata": {},
     "output_type": "display_data"
    },
    {
     "data": {
      "text/html": [
       "<style type=\"text/css\">\n",
       "#T_ed1f4_row0_col0 {\n",
       "  overflow-wrap: break-word;\n",
       "  max-width: 800px;\n",
       "  text-align: left;\n",
       "}\n",
       "</style>\n",
       "<table id=\"T_ed1f4\">\n",
       "  <thead>\n",
       "    <tr>\n",
       "      <th class=\"blank level0\" >&nbsp;</th>\n",
       "      <th id=\"T_ed1f4_level0_col0\" class=\"col_heading level0 col0\" >Y</th>\n",
       "    </tr>\n",
       "  </thead>\n",
       "  <tbody>\n",
       "    <tr>\n",
       "      <th id=\"T_ed1f4_level0_row0\" class=\"row_heading level0 row0\" >0</th>\n",
       "      <td id=\"T_ed1f4_row0_col0\" class=\"data row0 col0\" >False</td>\n",
       "    </tr>\n",
       "  </tbody>\n",
       "</table>\n"
      ],
      "text/plain": [
       "<pandas.io.formats.style.Styler>"
      ]
     },
     "metadata": {},
     "output_type": "display_data"
    },
    {
     "data": {
      "text/plain": [
       "'?BadWords(W)'"
      ]
     },
     "metadata": {},
     "output_type": "display_data"
    },
    {
     "data": {
      "text/html": [
       "<style type=\"text/css\">\n",
       "#T_d0b5f_row0_col0, #T_d0b5f_row1_col0, #T_d0b5f_row2_col0, #T_d0b5f_row3_col0, #T_d0b5f_row4_col0 {\n",
       "  overflow-wrap: break-word;\n",
       "  max-width: 800px;\n",
       "  text-align: left;\n",
       "}\n",
       "</style>\n",
       "<table id=\"T_d0b5f\">\n",
       "  <thead>\n",
       "    <tr>\n",
       "      <th class=\"blank level0\" >&nbsp;</th>\n",
       "      <th id=\"T_d0b5f_level0_col0\" class=\"col_heading level0 col0\" >W</th>\n",
       "    </tr>\n",
       "  </thead>\n",
       "  <tbody>\n",
       "    <tr>\n",
       "      <th id=\"T_d0b5f_level0_row0\" class=\"row_heading level0 row0\" >0</th>\n",
       "      <td id=\"T_d0b5f_row0_col0\" class=\"data row0 col0\" >[@42bf20,0,5) \"hello\"</td>\n",
       "    </tr>\n",
       "    <tr>\n",
       "      <th id=\"T_d0b5f_level0_row1\" class=\"row_heading level0 row1\" >1</th>\n",
       "      <td id=\"T_d0b5f_row1_col0\" class=\"data row1 col0\" >[@42bf20,6,14) \"darkness\"</td>\n",
       "    </tr>\n",
       "    <tr>\n",
       "      <th id=\"T_d0b5f_level0_row2\" class=\"row_heading level0 row2\" >2</th>\n",
       "      <td id=\"T_d0b5f_row2_col0\" class=\"data row2 col0\" >[@42bf20,15,17) \"my\"</td>\n",
       "    </tr>\n",
       "    <tr>\n",
       "      <th id=\"T_d0b5f_level0_row3\" class=\"row_heading level0 row3\" >3</th>\n",
       "      <td id=\"T_d0b5f_row3_col0\" class=\"data row3 col0\" >[@42bf20,18,21) \"old\"</td>\n",
       "    </tr>\n",
       "    <tr>\n",
       "      <th id=\"T_d0b5f_level0_row4\" class=\"row_heading level0 row4\" >4</th>\n",
       "      <td id=\"T_d0b5f_row4_col0\" class=\"data row4 col0\" >[@42bf20,22,28) \"friend\"</td>\n",
       "    </tr>\n",
       "  </tbody>\n",
       "</table>\n"
      ],
      "text/plain": [
       "<pandas.io.formats.style.Styler>"
      ]
     },
     "metadata": {},
     "output_type": "display_data"
    }
   ],
   "source": [
    "%%spannerlog\n",
    "\n",
    "darkness_sentence = \"hello darkness my old friend\"\n",
    "sunshine_sentence = \"Im walking on sunshine\"\n",
    "\n",
    "new SentenceSentiment(str,bool)\n",
    "SentenceSentiment($darkness_sentence, False)\n",
    "SentenceSentiment($sunshine_sentence, True)\n",
    "\n",
    "?SentenceSentiment($darkness_sentence,Y)\n",
    "\n",
    "word_pattern = \"(\\w+)\"\n",
    "\n",
    "BadWords(Word) <- SentenceSentiment(Sentence, False), rgx($word_pattern, Sentence)->(Word)\n",
    "\n",
    "?BadWords(W)"
   ]
  },
  {
   "cell_type": "markdown",
   "metadata": {},
   "source": [
    "### Spans"
   ]
  },
  {
   "cell_type": "markdown",
   "metadata": {},
   "source": [
    "Spans, or document spanners, are object that describe an interval of a string. They are available as part of the library and can be used as such:"
   ]
  },
  {
   "cell_type": "code",
   "execution_count": null,
   "metadata": {},
   "outputs": [],
   "source": [
    "from pathlib import Path\n",
    "from spannerlib import Span"
   ]
  },
  {
   "cell_type": "code",
   "execution_count": null,
   "metadata": {},
   "outputs": [
    {
     "data": {
      "text/plain": [
       "([@42bf20,0,28) \"hello dark...\", 'hello darkness my old friend')"
      ]
     },
     "execution_count": null,
     "metadata": {},
     "output_type": "execute_result"
    }
   ],
   "source": [
    "some_text = \"hello darkness my old friend\"\n",
    "full_span = Span(some_text)\n",
    "full_span,str(full_span)"
   ]
  },
  {
   "cell_type": "markdown",
   "metadata": {},
   "source": [
    "Note that Spans are represented by a triple of `[doc_id,i,j)`.\n",
    "They encode the string `doc_id[i:j]`.\n",
    "\n",
    "You can control the `doc_id` with the `name` parameter, it is also initialized automatically as a file's name when a Path object is fed to a span."
   ]
  },
  {
   "cell_type": "code",
   "execution_count": null,
   "metadata": {},
   "outputs": [
    {
     "data": {
      "text/plain": [
       "[@greeting,0,28) \"hello dark...\""
      ]
     },
     "execution_count": null,
     "metadata": {},
     "output_type": "execute_result"
    }
   ],
   "source": [
    "Span(some_text,name=\"greeting\")"
   ]
  },
  {
   "cell_type": "code",
   "execution_count": null,
   "metadata": {},
   "outputs": [
    {
     "data": {
      "text/plain": [
       "[@example_code.py,0,178) \"def f(x,y)...\""
      ]
     },
     "execution_count": null,
     "metadata": {},
     "output_type": "execute_result"
    }
   ],
   "source": [
    "file_path = Path(\"copilot_data/example_code.py\")\n",
    "file_span = Span(file_path)\n",
    "file_span"
   ]
  },
  {
   "cell_type": "markdown",
   "metadata": {},
   "source": [
    "Spans can be initialized with specific indices:"
   ]
  },
  {
   "cell_type": "code",
   "execution_count": null,
   "metadata": {},
   "outputs": [
    {
     "data": {
      "text/plain": [
       "([@42bf20,0,14) \"hello dark...\", 'hello darkness')"
      ]
     },
     "execution_count": null,
     "metadata": {},
     "output_type": "execute_result"
    }
   ],
   "source": [
    "first_2_words = Span(some_text, start=0, end=14)\n",
    "first_2_words,str(first_2_words)"
   ]
  },
  {
   "cell_type": "markdown",
   "metadata": {},
   "source": [
    "And can be sliced like a string to produce new spans with matching indices."
   ]
  },
  {
   "cell_type": "code",
   "execution_count": null,
   "metadata": {},
   "outputs": [
    {
     "data": {
      "text/plain": [
       "[@42bf20,6,14) \"darkness\""
      ]
     },
     "execution_count": null,
     "metadata": {},
     "output_type": "execute_result"
    }
   ],
   "source": [
    "darkness = first_2_words[6:14]\n",
    "darkness"
   ]
  },
  {
   "cell_type": "code",
   "execution_count": null,
   "metadata": {},
   "outputs": [
    {
     "data": {
      "text/plain": [
       "[@42bf20,6,10) \"dark\""
      ]
     },
     "execution_count": null,
     "metadata": {},
     "output_type": "execute_result"
    }
   ],
   "source": [
    "dark = darkness[:4]\n",
    "dark"
   ]
  },
  {
   "cell_type": "markdown",
   "metadata": {},
   "source": [
    "Due to an open [issue](https://github.com/pandas-dev/pandas/issues/46744) in `pandas`, Spans and other classes are not printed properly in dataframes."
   ]
  },
  {
   "cell_type": "code",
   "execution_count": null,
   "metadata": {},
   "outputs": [
    {
     "data": {
      "text/html": [
       "<div>\n",
       "<style scoped>\n",
       "    .dataframe tbody tr th:only-of-type {\n",
       "        vertical-align: middle;\n",
       "    }\n",
       "\n",
       "    .dataframe tbody tr th {\n",
       "        vertical-align: top;\n",
       "    }\n",
       "\n",
       "    .dataframe thead th {\n",
       "        text-align: right;\n",
       "    }\n",
       "</style>\n",
       "<table border=\"1\" class=\"dataframe\">\n",
       "  <thead>\n",
       "    <tr style=\"text-align: right;\">\n",
       "      <th></th>\n",
       "      <th>0</th>\n",
       "      <th>1</th>\n",
       "    </tr>\n",
       "  </thead>\n",
       "  <tbody>\n",
       "    <tr>\n",
       "      <th>0</th>\n",
       "      <td>(h, e, l, l, o,  , d, a, r, k, n, e, s, s,  , ...</td>\n",
       "      <td>hello darkness my old friend</td>\n",
       "    </tr>\n",
       "    <tr>\n",
       "      <th>1</th>\n",
       "      <td>(d, e, f,  , f, (, x, ,, y, ), :, \\n,  ,  ,  ,...</td>\n",
       "      <td>def f(x,y):\n",
       "    x+y \n",
       "\n",
       "def g(x,y):\n",
       "    return f...</td>\n",
       "    </tr>\n",
       "    <tr>\n",
       "      <th>2</th>\n",
       "      <td>(h, e, l, l, o,  , d, a, r, k, n, e, s, s)</td>\n",
       "      <td>hello darkness</td>\n",
       "    </tr>\n",
       "    <tr>\n",
       "      <th>3</th>\n",
       "      <td>(d, a, r, k, n, e, s, s)</td>\n",
       "      <td>darkness</td>\n",
       "    </tr>\n",
       "    <tr>\n",
       "      <th>4</th>\n",
       "      <td>(d, a, r, k)</td>\n",
       "      <td>dark</td>\n",
       "    </tr>\n",
       "  </tbody>\n",
       "</table>\n",
       "</div>"
      ],
      "text/plain": [
       "                                                   0  \\\n",
       "0  (h, e, l, l, o,  , d, a, r, k, n, e, s, s,  , ...   \n",
       "1  (d, e, f,  , f, (, x, ,, y, ), :, \\n,  ,  ,  ,...   \n",
       "2         (h, e, l, l, o,  , d, a, r, k, n, e, s, s)   \n",
       "3                           (d, a, r, k, n, e, s, s)   \n",
       "4                                       (d, a, r, k)   \n",
       "\n",
       "                                                   1  \n",
       "0                       hello darkness my old friend  \n",
       "1  def f(x,y):\n",
       "    x+y \n",
       "\n",
       "def g(x,y):\n",
       "    return f...  \n",
       "2                                     hello darkness  \n",
       "3                                           darkness  \n",
       "4                                               dark  "
      ]
     },
     "execution_count": null,
     "metadata": {},
     "output_type": "execute_result"
    }
   ],
   "source": [
    "import pandas as pd\n",
    "\n",
    "df = pd.DataFrame([\n",
    "    [full_span, str(full_span)],\n",
    "    [file_span, str(file_span)],\n",
    "    [first_2_words, str(first_2_words)],\n",
    "    [darkness, str(darkness)],\n",
    "    [dark, str(dark)]\n",
    "])\n",
    "df"
   ]
  },
  {
   "cell_type": "markdown",
   "metadata": {},
   "source": [
    "Which is why we need to use the `map(repr)` workaround to see them clearly.\n",
    "This is also done behond the scene by spannerlog."
   ]
  },
  {
   "cell_type": "code",
   "execution_count": null,
   "metadata": {},
   "outputs": [
    {
     "data": {
      "text/html": [
       "<div>\n",
       "<style scoped>\n",
       "    .dataframe tbody tr th:only-of-type {\n",
       "        vertical-align: middle;\n",
       "    }\n",
       "\n",
       "    .dataframe tbody tr th {\n",
       "        vertical-align: top;\n",
       "    }\n",
       "\n",
       "    .dataframe thead th {\n",
       "        text-align: right;\n",
       "    }\n",
       "</style>\n",
       "<table border=\"1\" class=\"dataframe\">\n",
       "  <thead>\n",
       "    <tr style=\"text-align: right;\">\n",
       "      <th></th>\n",
       "      <th>0</th>\n",
       "      <th>1</th>\n",
       "    </tr>\n",
       "  </thead>\n",
       "  <tbody>\n",
       "    <tr>\n",
       "      <th>0</th>\n",
       "      <td>[@42bf20,0,28) \"hello dark...\"</td>\n",
       "      <td>'hello darkness my old friend'</td>\n",
       "    </tr>\n",
       "    <tr>\n",
       "      <th>1</th>\n",
       "      <td>[@example_code.py,0,178) \"def f(x,y)...\"</td>\n",
       "      <td>'def f(x,y):\\n    x+y \\n\\ndef g(x,y):\\n    ret...</td>\n",
       "    </tr>\n",
       "    <tr>\n",
       "      <th>2</th>\n",
       "      <td>[@42bf20,0,14) \"hello dark...\"</td>\n",
       "      <td>'hello darkness'</td>\n",
       "    </tr>\n",
       "    <tr>\n",
       "      <th>3</th>\n",
       "      <td>[@42bf20,6,14) \"darkness\"</td>\n",
       "      <td>'darkness'</td>\n",
       "    </tr>\n",
       "    <tr>\n",
       "      <th>4</th>\n",
       "      <td>[@42bf20,6,10) \"dark\"</td>\n",
       "      <td>'dark'</td>\n",
       "    </tr>\n",
       "  </tbody>\n",
       "</table>\n",
       "</div>"
      ],
      "text/plain": [
       "                                          0  \\\n",
       "0            [@42bf20,0,28) \"hello dark...\"   \n",
       "1  [@example_code.py,0,178) \"def f(x,y)...\"   \n",
       "2            [@42bf20,0,14) \"hello dark...\"   \n",
       "3                 [@42bf20,6,14) \"darkness\"   \n",
       "4                     [@42bf20,6,10) \"dark\"   \n",
       "\n",
       "                                                   1  \n",
       "0                     'hello darkness my old friend'  \n",
       "1  'def f(x,y):\\n    x+y \\n\\ndef g(x,y):\\n    ret...  \n",
       "2                                   'hello darkness'  \n",
       "3                                         'darkness'  \n",
       "4                                             'dark'  "
      ]
     },
     "execution_count": null,
     "metadata": {},
     "output_type": "execute_result"
    }
   ],
   "source": [
    "df.map(repr)"
   ]
  },
  {
   "cell_type": "markdown",
   "metadata": {},
   "source": [
    "Many default IE functions use Spans as their return types. To convert a Span (or anything else) to a string, we can use the `as_str` IE function."
   ]
  },
  {
   "cell_type": "code",
   "execution_count": null,
   "metadata": {},
   "outputs": [
    {
     "data": {
      "text/plain": [
       "'?BadWordStrings(W)'"
      ]
     },
     "metadata": {},
     "output_type": "display_data"
    },
    {
     "data": {
      "text/html": [
       "<style type=\"text/css\">\n",
       "#T_d22ee_row0_col0, #T_d22ee_row1_col0, #T_d22ee_row2_col0, #T_d22ee_row3_col0, #T_d22ee_row4_col0 {\n",
       "  overflow-wrap: break-word;\n",
       "  max-width: 800px;\n",
       "  text-align: left;\n",
       "}\n",
       "</style>\n",
       "<table id=\"T_d22ee\">\n",
       "  <thead>\n",
       "    <tr>\n",
       "      <th class=\"blank level0\" >&nbsp;</th>\n",
       "      <th id=\"T_d22ee_level0_col0\" class=\"col_heading level0 col0\" >W</th>\n",
       "    </tr>\n",
       "  </thead>\n",
       "  <tbody>\n",
       "    <tr>\n",
       "      <th id=\"T_d22ee_level0_row0\" class=\"row_heading level0 row0\" >0</th>\n",
       "      <td id=\"T_d22ee_row0_col0\" class=\"data row0 col0\" >darkness</td>\n",
       "    </tr>\n",
       "    <tr>\n",
       "      <th id=\"T_d22ee_level0_row1\" class=\"row_heading level0 row1\" >1</th>\n",
       "      <td id=\"T_d22ee_row1_col0\" class=\"data row1 col0\" >friend</td>\n",
       "    </tr>\n",
       "    <tr>\n",
       "      <th id=\"T_d22ee_level0_row2\" class=\"row_heading level0 row2\" >2</th>\n",
       "      <td id=\"T_d22ee_row2_col0\" class=\"data row2 col0\" >hello</td>\n",
       "    </tr>\n",
       "    <tr>\n",
       "      <th id=\"T_d22ee_level0_row3\" class=\"row_heading level0 row3\" >3</th>\n",
       "      <td id=\"T_d22ee_row3_col0\" class=\"data row3 col0\" >my</td>\n",
       "    </tr>\n",
       "    <tr>\n",
       "      <th id=\"T_d22ee_level0_row4\" class=\"row_heading level0 row4\" >4</th>\n",
       "      <td id=\"T_d22ee_row4_col0\" class=\"data row4 col0\" >old</td>\n",
       "    </tr>\n",
       "  </tbody>\n",
       "</table>\n"
      ],
      "text/plain": [
       "<pandas.io.formats.style.Styler>"
      ]
     },
     "metadata": {},
     "output_type": "display_data"
    }
   ],
   "source": [
    "%%spannerlog\n",
    "BadWordStrings(Word) <- BadWords(WordSpan),as_str(WordSpan)->(Word)\n",
    "?BadWordStrings(W) "
   ]
  },
  {
   "cell_type": "markdown",
   "metadata": {},
   "source": [
    "## Python Spannerlog Interactions"
   ]
  },
  {
   "cell_type": "markdown",
   "metadata": {},
   "source": [
    "### Exporting query results and changing sessions."
   ]
  },
  {
   "cell_type": "markdown",
   "metadata": {},
   "source": [
    "All interactions between the spannerlog and python, is mediated through a `Session` object.\n",
    "For example, calling the `export` method with a string with spannerlog code will execute it."
   ]
  },
  {
   "cell_type": "code",
   "execution_count": null,
   "metadata": {},
   "outputs": [
    {
     "data": {
      "text/html": [
       "<div>\n",
       "<style scoped>\n",
       "    .dataframe tbody tr th:only-of-type {\n",
       "        vertical-align: middle;\n",
       "    }\n",
       "\n",
       "    .dataframe tbody tr th {\n",
       "        vertical-align: top;\n",
       "    }\n",
       "\n",
       "    .dataframe thead th {\n",
       "        text-align: right;\n",
       "    }\n",
       "</style>\n",
       "<table border=\"1\" class=\"dataframe\">\n",
       "  <thead>\n",
       "    <tr style=\"text-align: right;\">\n",
       "      <th></th>\n",
       "      <th>X</th>\n",
       "      <th>Y</th>\n",
       "    </tr>\n",
       "  </thead>\n",
       "  <tbody>\n",
       "    <tr>\n",
       "      <th>0</th>\n",
       "      <td>bob</td>\n",
       "      <td>greg</td>\n",
       "    </tr>\n",
       "  </tbody>\n",
       "</table>\n",
       "</div>"
      ],
      "text/plain": [
       "     X     Y\n",
       "0  bob  greg"
      ]
     },
     "execution_count": null,
     "metadata": {},
     "output_type": "execute_result"
    }
   ],
   "source": [
    "from spannerlib import Session\n",
    "\n",
    "sess=Session()\n",
    "# exports returns the value of the last statement in our code, which is the query in this case.\n",
    "uncle_df = sess.export(\"\"\"\n",
    "new uncle(str, str)\n",
    "uncle(\"bob\", \"greg\")\n",
    "?uncle(X,Y)\n",
    "\"\"\")\n",
    "uncle_df"
   ]
  },
  {
   "cell_type": "markdown",
   "metadata": {},
   "source": [
    "In fact, the magic system that allows us to use `%%spannerlog` cells, simply sends initializes a session object and runs the code we put in `%%spannerlog` cells through it. The magic system also prints the results of queries to the string for ease of debugging.\n",
    "\n",
    "To get or change the session that the magic system uses, do the following:"
   ]
  },
  {
   "cell_type": "code",
   "execution_count": null,
   "metadata": {},
   "outputs": [
    {
     "data": {
      "text/html": [
       "<div>\n",
       "<style scoped>\n",
       "    .dataframe tbody tr th:only-of-type {\n",
       "        vertical-align: middle;\n",
       "    }\n",
       "\n",
       "    .dataframe tbody tr th {\n",
       "        vertical-align: top;\n",
       "    }\n",
       "\n",
       "    .dataframe thead th {\n",
       "        text-align: right;\n",
       "    }\n",
       "</style>\n",
       "<table border=\"1\" class=\"dataframe\">\n",
       "  <thead>\n",
       "    <tr style=\"text-align: right;\">\n",
       "      <th></th>\n",
       "      <th>W</th>\n",
       "    </tr>\n",
       "  </thead>\n",
       "  <tbody>\n",
       "    <tr>\n",
       "      <th>0</th>\n",
       "      <td>darkness</td>\n",
       "    </tr>\n",
       "    <tr>\n",
       "      <th>1</th>\n",
       "      <td>friend</td>\n",
       "    </tr>\n",
       "    <tr>\n",
       "      <th>2</th>\n",
       "      <td>hello</td>\n",
       "    </tr>\n",
       "    <tr>\n",
       "      <th>3</th>\n",
       "      <td>my</td>\n",
       "    </tr>\n",
       "    <tr>\n",
       "      <th>4</th>\n",
       "      <td>old</td>\n",
       "    </tr>\n",
       "  </tbody>\n",
       "</table>\n",
       "</div>"
      ],
      "text/plain": [
       "          W\n",
       "0  darkness\n",
       "1    friend\n",
       "2     hello\n",
       "3        my\n",
       "4       old"
      ]
     },
     "execution_count": null,
     "metadata": {},
     "output_type": "execute_result"
    }
   ],
   "source": [
    "from spannerlib import get_magic_session,set_magic_session\n",
    "\n",
    "magic_sess = get_magic_session()\n",
    "magic_sess.export(\"?BadWordStrings(W)\")"
   ]
  },
  {
   "cell_type": "markdown",
   "metadata": {},
   "source": [
    "As you can see, rules run in the magic cells where executed inside the `magic_sess` object we now have access to.\n",
    "Now lets set the magic system to use the `Session` bound to the `sess` variable."
   ]
  },
  {
   "cell_type": "code",
   "execution_count": null,
   "metadata": {},
   "outputs": [],
   "source": [
    "set_magic_session(sess)"
   ]
  },
  {
   "cell_type": "markdown",
   "metadata": {},
   "source": [
    "Now we can query `uncle` from the magic system."
   ]
  },
  {
   "cell_type": "code",
   "execution_count": null,
   "metadata": {},
   "outputs": [
    {
     "data": {
      "text/plain": [
       "'?uncle(X,Y)'"
      ]
     },
     "metadata": {},
     "output_type": "display_data"
    },
    {
     "data": {
      "text/html": [
       "<style type=\"text/css\">\n",
       "#T_b5362_row0_col0, #T_b5362_row0_col1 {\n",
       "  overflow-wrap: break-word;\n",
       "  max-width: 800px;\n",
       "  text-align: left;\n",
       "}\n",
       "</style>\n",
       "<table id=\"T_b5362\">\n",
       "  <thead>\n",
       "    <tr>\n",
       "      <th class=\"blank level0\" >&nbsp;</th>\n",
       "      <th id=\"T_b5362_level0_col0\" class=\"col_heading level0 col0\" >X</th>\n",
       "      <th id=\"T_b5362_level0_col1\" class=\"col_heading level0 col1\" >Y</th>\n",
       "    </tr>\n",
       "  </thead>\n",
       "  <tbody>\n",
       "    <tr>\n",
       "      <th id=\"T_b5362_level0_row0\" class=\"row_heading level0 row0\" >0</th>\n",
       "      <td id=\"T_b5362_row0_col0\" class=\"data row0 col0\" >bob</td>\n",
       "      <td id=\"T_b5362_row0_col1\" class=\"data row0 col1\" >greg</td>\n",
       "    </tr>\n",
       "  </tbody>\n",
       "</table>\n"
      ],
      "text/plain": [
       "<pandas.io.formats.style.Styler>"
      ]
     },
     "metadata": {},
     "output_type": "display_data"
    }
   ],
   "source": [
    "%%spannerlog\n",
    "?uncle(X,Y)"
   ]
  },
  {
   "cell_type": "markdown",
   "metadata": {},
   "source": [
    "Using sessions programatically, we can not only get results into python, allowing us to post process them, we can also run spannerlog code outside of a jupyter notebook."
   ]
  },
  {
   "cell_type": "markdown",
   "metadata": {},
   "source": [
    "### Importing data to spannerlog"
   ]
  },
  {
   "cell_type": "markdown",
   "metadata": {},
   "source": [
    "Usually, our data doesnt come as spannerlog facts, but rather from other relational sources.\n",
    "We can import our data into a session as follows:"
   ]
  },
  {
   "cell_type": "code",
   "execution_count": null,
   "metadata": {},
   "outputs": [],
   "source": [
    "# either a path to a csv file, or a dataframe\n",
    "aunts_data = pd.DataFrame([\n",
    "    [\"susan\", \"greg\"],\n",
    "    [\"susan\", \"jerry\"]\n",
    "], columns=[\"Aunt\", \"Of\"])\n",
    "\n",
    "sess.import_rel(name=\"Aunts\", data=aunts_data)"
   ]
  },
  {
   "cell_type": "code",
   "execution_count": null,
   "metadata": {},
   "outputs": [
    {
     "data": {
      "text/plain": [
       "'?Aunts(X,Y)'"
      ]
     },
     "metadata": {},
     "output_type": "display_data"
    },
    {
     "data": {
      "text/html": [
       "<style type=\"text/css\">\n",
       "#T_d757e_row0_col0, #T_d757e_row0_col1, #T_d757e_row1_col0, #T_d757e_row1_col1 {\n",
       "  overflow-wrap: break-word;\n",
       "  max-width: 800px;\n",
       "  text-align: left;\n",
       "}\n",
       "</style>\n",
       "<table id=\"T_d757e\">\n",
       "  <thead>\n",
       "    <tr>\n",
       "      <th class=\"blank level0\" >&nbsp;</th>\n",
       "      <th id=\"T_d757e_level0_col0\" class=\"col_heading level0 col0\" >X</th>\n",
       "      <th id=\"T_d757e_level0_col1\" class=\"col_heading level0 col1\" >Y</th>\n",
       "    </tr>\n",
       "  </thead>\n",
       "  <tbody>\n",
       "    <tr>\n",
       "      <th id=\"T_d757e_level0_row0\" class=\"row_heading level0 row0\" >0</th>\n",
       "      <td id=\"T_d757e_row0_col0\" class=\"data row0 col0\" >susan</td>\n",
       "      <td id=\"T_d757e_row0_col1\" class=\"data row0 col1\" >greg</td>\n",
       "    </tr>\n",
       "    <tr>\n",
       "      <th id=\"T_d757e_level0_row1\" class=\"row_heading level0 row1\" >1</th>\n",
       "      <td id=\"T_d757e_row1_col0\" class=\"data row1 col0\" >susan</td>\n",
       "      <td id=\"T_d757e_row1_col1\" class=\"data row1 col1\" >jerry</td>\n",
       "    </tr>\n",
       "  </tbody>\n",
       "</table>\n"
      ],
      "text/plain": [
       "<pandas.io.formats.style.Styler>"
      ]
     },
     "metadata": {},
     "output_type": "display_data"
    }
   ],
   "source": [
    "%%spannerlog \n",
    "?Aunts(X,Y)"
   ]
  },
  {
   "cell_type": "markdown",
   "metadata": {},
   "source": [
    "We can also import variables from python into spannerlog."
   ]
  },
  {
   "cell_type": "code",
   "execution_count": null,
   "metadata": {},
   "outputs": [],
   "source": [
    "sess.import_var(name='fox_sent', value='what does the fox say?')"
   ]
  },
  {
   "cell_type": "code",
   "execution_count": null,
   "metadata": {},
   "outputs": [
    {
     "data": {
      "text/plain": [
       "'?FoxyWords(W)'"
      ]
     },
     "metadata": {},
     "output_type": "display_data"
    },
    {
     "data": {
      "text/html": [
       "<style type=\"text/css\">\n",
       "#T_5807b_row0_col0, #T_5807b_row1_col0, #T_5807b_row2_col0, #T_5807b_row3_col0, #T_5807b_row4_col0 {\n",
       "  overflow-wrap: break-word;\n",
       "  max-width: 800px;\n",
       "  text-align: left;\n",
       "}\n",
       "</style>\n",
       "<table id=\"T_5807b\">\n",
       "  <thead>\n",
       "    <tr>\n",
       "      <th class=\"blank level0\" >&nbsp;</th>\n",
       "      <th id=\"T_5807b_level0_col0\" class=\"col_heading level0 col0\" >W</th>\n",
       "    </tr>\n",
       "  </thead>\n",
       "  <tbody>\n",
       "    <tr>\n",
       "      <th id=\"T_5807b_level0_row0\" class=\"row_heading level0 row0\" >0</th>\n",
       "      <td id=\"T_5807b_row0_col0\" class=\"data row0 col0\" >[@0ffcc6,0,4) \"what\"</td>\n",
       "    </tr>\n",
       "    <tr>\n",
       "      <th id=\"T_5807b_level0_row1\" class=\"row_heading level0 row1\" >1</th>\n",
       "      <td id=\"T_5807b_row1_col0\" class=\"data row1 col0\" >[@0ffcc6,5,9) \"does\"</td>\n",
       "    </tr>\n",
       "    <tr>\n",
       "      <th id=\"T_5807b_level0_row2\" class=\"row_heading level0 row2\" >2</th>\n",
       "      <td id=\"T_5807b_row2_col0\" class=\"data row2 col0\" >[@0ffcc6,10,13) \"the\"</td>\n",
       "    </tr>\n",
       "    <tr>\n",
       "      <th id=\"T_5807b_level0_row3\" class=\"row_heading level0 row3\" >3</th>\n",
       "      <td id=\"T_5807b_row3_col0\" class=\"data row3 col0\" >[@0ffcc6,14,17) \"fox\"</td>\n",
       "    </tr>\n",
       "    <tr>\n",
       "      <th id=\"T_5807b_level0_row4\" class=\"row_heading level0 row4\" >4</th>\n",
       "      <td id=\"T_5807b_row4_col0\" class=\"data row4 col0\" >[@0ffcc6,18,21) \"say\"</td>\n",
       "    </tr>\n",
       "  </tbody>\n",
       "</table>\n"
      ],
      "text/plain": [
       "<pandas.io.formats.style.Styler>"
      ]
     },
     "metadata": {},
     "output_type": "display_data"
    }
   ],
   "source": [
    "%%spannerlog\n",
    "FoxyWords(Word) <- rgx(\"(\\w+)\",$fox_sent)->(Word)\n",
    "\n",
    "?FoxyWords(W)"
   ]
  },
  {
   "cell_type": "markdown",
   "metadata": {},
   "source": [
    "There are also auxilary methods that help deleting rules if you made an error when defining a rule and do not want to restart the session,\n",
    "such as:\n",
    "* `remove_all_rules`\n",
    "* `remove_rule`\n",
    "* `remode_head`\n",
    "\n",
    "For a full list of methods and options, see the Session class in the reference guide."
   ]
  },
  {
   "cell_type": "markdown",
   "metadata": {},
   "source": [
    "### Defining and registering IE and Aggregation functions"
   ]
  },
  {
   "cell_type": "markdown",
   "metadata": {},
   "source": [
    "Part of what makes spannerlib powerful, is that you can define your own callbacks as python functions and register them for use right away.\n",
    "* An IE function is a stateless function that takes a tuple over an input schema and returns as `Iterable` over an output schema.\n",
    "* An Aggregation function (Agg function for short) is a stateless function that takes a set/list of values and returns a single value.\n",
    "To register our functions we need to tell the session what input/output schema to expect."
   ]
  },
  {
   "cell_type": "code",
   "execution_count": null,
   "metadata": {},
   "outputs": [
    {
     "data": {
      "text/plain": [
       "2"
      ]
     },
     "execution_count": null,
     "metadata": {},
     "output_type": "execute_result"
    }
   ],
   "source": [
    "\"hello $ world $#\".count(\"$\")"
   ]
  },
  {
   "cell_type": "code",
   "execution_count": null,
   "metadata": {},
   "outputs": [],
   "source": [
    "def char_positions(text,char):\n",
    "    # here we return a list of tuples\n",
    "    return [(i,) for i,letter in enumerate(text) if char==letter]\n",
    "\n",
    "def char_positions_iter(text,char):\n",
    "    # we can also return a lazy iterable using python generators\n",
    "    for i,letter in enumerate(text):\n",
    "        if letter==char:\n",
    "            # spannerlib knows to wrap single values in a tuple\n",
    "            yield i \n",
    "\n",
    "# We register our function's input/output schema as a list of pythonic types\n",
    "sess.register('char_pos',char_positions_iter,[str,str],[int])\n",
    "\n",
    "\n",
    "def count_twice(positions):\n",
    "    return 2*len(positions)\n",
    "\n",
    "sess.register_agg('count_twice',count_twice,[int],[int])"
   ]
  },
  {
   "cell_type": "code",
   "execution_count": null,
   "metadata": {},
   "outputs": [
    {
     "data": {
      "text/plain": [
       "'?DollarPos(T,P)'"
      ]
     },
     "metadata": {},
     "output_type": "display_data"
    },
    {
     "data": {
      "text/html": [
       "<style type=\"text/css\">\n",
       "#T_23bb8_row0_col0, #T_23bb8_row0_col1, #T_23bb8_row1_col0, #T_23bb8_row1_col1, #T_23bb8_row2_col0, #T_23bb8_row2_col1, #T_23bb8_row3_col0, #T_23bb8_row3_col1 {\n",
       "  overflow-wrap: break-word;\n",
       "  max-width: 800px;\n",
       "  text-align: left;\n",
       "}\n",
       "</style>\n",
       "<table id=\"T_23bb8\">\n",
       "  <thead>\n",
       "    <tr>\n",
       "      <th class=\"blank level0\" >&nbsp;</th>\n",
       "      <th id=\"T_23bb8_level0_col0\" class=\"col_heading level0 col0\" >T</th>\n",
       "      <th id=\"T_23bb8_level0_col1\" class=\"col_heading level0 col1\" >P</th>\n",
       "    </tr>\n",
       "  </thead>\n",
       "  <tbody>\n",
       "    <tr>\n",
       "      <th id=\"T_23bb8_level0_row0\" class=\"row_heading level0 row0\" >0</th>\n",
       "      <td id=\"T_23bb8_row0_col0\" class=\"data row0 col0\" >I need a $ $ $ is what i need</td>\n",
       "      <td id=\"T_23bb8_row0_col1\" class=\"data row0 col1\" >9</td>\n",
       "    </tr>\n",
       "    <tr>\n",
       "      <th id=\"T_23bb8_level0_row1\" class=\"row_heading level0 row1\" >1</th>\n",
       "      <td id=\"T_23bb8_row1_col0\" class=\"data row1 col0\" >I need a $ $ $ is what i need</td>\n",
       "      <td id=\"T_23bb8_row1_col1\" class=\"data row1 col1\" >11</td>\n",
       "    </tr>\n",
       "    <tr>\n",
       "      <th id=\"T_23bb8_level0_row2\" class=\"row_heading level0 row2\" >2</th>\n",
       "      <td id=\"T_23bb8_row2_col0\" class=\"data row2 col0\" >I need a $ $ $ is what i need</td>\n",
       "      <td id=\"T_23bb8_row2_col1\" class=\"data row2 col1\" >13</td>\n",
       "    </tr>\n",
       "    <tr>\n",
       "      <th id=\"T_23bb8_level0_row3\" class=\"row_heading level0 row3\" >3</th>\n",
       "      <td id=\"T_23bb8_row3_col0\" class=\"data row3 col0\" >hello darkness my old friend$</td>\n",
       "      <td id=\"T_23bb8_row3_col1\" class=\"data row3 col1\" >28</td>\n",
       "    </tr>\n",
       "  </tbody>\n",
       "</table>\n"
      ],
      "text/plain": [
       "<pandas.io.formats.style.Styler>"
      ]
     },
     "metadata": {},
     "output_type": "display_data"
    },
    {
     "data": {
      "text/plain": [
       "'?TwiceTotalDollars(T,N)'"
      ]
     },
     "metadata": {},
     "output_type": "display_data"
    },
    {
     "data": {
      "text/html": [
       "<style type=\"text/css\">\n",
       "#T_20c3d_row0_col0, #T_20c3d_row0_col1, #T_20c3d_row1_col0, #T_20c3d_row1_col1 {\n",
       "  overflow-wrap: break-word;\n",
       "  max-width: 800px;\n",
       "  text-align: left;\n",
       "}\n",
       "</style>\n",
       "<table id=\"T_20c3d\">\n",
       "  <thead>\n",
       "    <tr>\n",
       "      <th class=\"blank level0\" >&nbsp;</th>\n",
       "      <th id=\"T_20c3d_level0_col0\" class=\"col_heading level0 col0\" >T</th>\n",
       "      <th id=\"T_20c3d_level0_col1\" class=\"col_heading level0 col1\" >N</th>\n",
       "    </tr>\n",
       "  </thead>\n",
       "  <tbody>\n",
       "    <tr>\n",
       "      <th id=\"T_20c3d_level0_row0\" class=\"row_heading level0 row0\" >0</th>\n",
       "      <td id=\"T_20c3d_row0_col0\" class=\"data row0 col0\" >I need a $ $ $ is what i need</td>\n",
       "      <td id=\"T_20c3d_row0_col1\" class=\"data row0 col1\" >6</td>\n",
       "    </tr>\n",
       "    <tr>\n",
       "      <th id=\"T_20c3d_level0_row1\" class=\"row_heading level0 row1\" >1</th>\n",
       "      <td id=\"T_20c3d_row1_col0\" class=\"data row1 col0\" >hello darkness my old friend$</td>\n",
       "      <td id=\"T_20c3d_row1_col1\" class=\"data row1 col1\" >2</td>\n",
       "    </tr>\n",
       "  </tbody>\n",
       "</table>\n"
      ],
      "text/plain": [
       "<pandas.io.formats.style.Styler>"
      ]
     },
     "metadata": {},
     "output_type": "display_data"
    }
   ],
   "source": [
    "%%spannerlog\n",
    "new Texts(str)\n",
    "Texts(\"hello darkness my old friend$\")\n",
    "Texts(\"I need a $ $ $ is what i need\")\n",
    "\n",
    "DollarPos(Text,Pos) <- Texts(Text),char_pos(Text,\"$\")->(Pos)\n",
    "\n",
    "?DollarPos(T,P)\n",
    "\n",
    "TwiceTotalDollars(Text,count_twice(Pos)) <- DollarPos(Text,Pos)\n",
    "?TwiceTotalDollars(T,N)\n"
   ]
  },
  {
   "cell_type": "markdown",
   "metadata": {},
   "source": [
    "If we want a callback function to work with multiple types, we can either register it with a common super type, or put a tuple of types.\n",
    "For example:"
   ]
  },
  {
   "cell_type": "code",
   "execution_count": null,
   "metadata": {},
   "outputs": [],
   "source": [
    "# object is a super type of all python objects, so count will work on anything\n",
    "sess.register_agg('count_twice',count_twice,[object],[int])\n",
    "\n",
    "# now we support Paths as well\n",
    "def char_positions_iter(text,char):\n",
    "    if isinstance(text,Path):\n",
    "        text = text.read_text()\n",
    "    for i,letter in enumerate(text):\n",
    "        if letter==char:\n",
    "            yield i\n",
    "\n",
    "sess.register('char_pos',char_positions_iter,[(Path,str),str],[int])"
   ]
  },
  {
   "cell_type": "markdown",
   "metadata": {},
   "source": [
    "To inspect which callback functions are available in a sess, we can do:"
   ]
  },
  {
   "cell_type": "code",
   "execution_count": null,
   "metadata": {},
   "outputs": [
    {
     "data": {
      "text/plain": [
       "{'ie': {'JsonPath': IEFunction(name='JsonPath', func=<function json_path>, in_schema=[<class 'str'>, <class 'str'>], out_schema=[<class 'str'>]),\n",
       "  'JsonPathFull': IEFunction(name='JsonPathFull', func=<function json_path_full>, in_schema=[<class 'str'>, <class 'str'>], out_schema=<function <lambda>>),\n",
       "  'print': IEFunction(name='print', func=<function print_ie>, in_schema=<function <lambda>>, out_schema=[<class 'object'>]),\n",
       "  'rgx': IEFunction(name='rgx', func=<function rgx>, in_schema=[<class 'str'>, (<class 'str'>, <class 'spannerlib.span.Span'>)], out_schema=<function <lambda>>),\n",
       "  'rgx_split': IEFunction(name='rgx_split', func=<function rgx_split>, in_schema=[<class 'str'>, (<class 'str'>, <class 'spannerlib.span.Span'>)], out_schema=[<class 'spannerlib.span.Span'>, <class 'spannerlib.span.Span'>]),\n",
       "  'expr_eval': IEFunction(name='expr_eval', func=<function expr_eval>, in_schema=<function <lambda>>, out_schema=[<class 'object'>]),\n",
       "  'as_str': IEFunction(name='as_str', func=<function as_str>, in_schema=[<class 'object'>], out_schema=[<class 'str'>]),\n",
       "  'span_contained': IEFunction(name='span_contained', func=<function span_contained>, in_schema=[<class 'spannerlib.span.Span'>, <class 'spannerlib.span.Span'>], out_schema=[<class 'bool'>]),\n",
       "  'deconstruct_span': IEFunction(name='deconstruct_span', func=<function deconstruct_span>, in_schema=[<class 'spannerlib.span.Span'>], out_schema=[<class 'str'>, <class 'int'>, <class 'int'>]),\n",
       "  'read': IEFunction(name='read', func=<function read>, in_schema=[<class 'str'>], out_schema=[<class 'str'>]),\n",
       "  'read_span': IEFunction(name='read_span', func=<function read_span>, in_schema=[<class 'str'>], out_schema=[<class 'spannerlib.span.Span'>]),\n",
       "  'char_pos': IEFunction(name='char_pos', func=<function char_positions_iter>, in_schema=[(<class 'pathlib.Path'>, <class 'str'>), <class 'str'>], out_schema=[<class 'int'>])},\n",
       " 'agg': {'count': AGGFunction(name='count', func='count', in_schema=[<class 'object'>], out_schema=[<class 'int'>]),\n",
       "  'sum': AGGFunction(name='sum', func='sum', in_schema=[<class 'numbers.Real'>], out_schema=[<class 'numbers.Real'>]),\n",
       "  'avg': AGGFunction(name='avg', func='avg', in_schema=[<class 'numbers.Real'>], out_schema=[<class 'numbers.Real'>]),\n",
       "  'max': AGGFunction(name='max', func='max', in_schema=[<class 'numbers.Real'>], out_schema=[<class 'numbers.Real'>]),\n",
       "  'min': AGGFunction(name='min', func='min', in_schema=[<class 'numbers.Real'>], out_schema=[<class 'numbers.Real'>]),\n",
       "  'count_twice': AGGFunction(name='count_twice', func=<function count_twice>, in_schema=[<class 'object'>], out_schema=[<class 'int'>])}}"
      ]
     },
     "execution_count": null,
     "metadata": {},
     "output_type": "execute_result"
    }
   ],
   "source": [
    "sess.get_all_functions()"
   ]
  },
  {
   "cell_type": "markdown",
   "metadata": {},
   "source": [
    "To get a nested dict with all callbacks. To see the list of default IE function and their documentation, go to the standard ie function section in the documentation."
   ]
  }
 ],
 "metadata": {
  "jupytext": {
   "formats": "ipynb,md"
  },
  "kernelspec": {
   "display_name": "python3",
   "language": "python",
   "name": "python3"
  }
 },
 "nbformat": 4,
 "nbformat_minor": 4
}
