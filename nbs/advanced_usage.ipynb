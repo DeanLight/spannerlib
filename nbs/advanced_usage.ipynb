{
 "cells": [
  {
   "cell_type": "markdown",
   "metadata": {},
   "source": [
    "# Advanced Usage"
   ]
  },
  {
   "cell_type": "raw",
   "metadata": {},
   "source": [
    "---\n",
    "skip_showdoc: true\n",
    "skip_exec: true\n",
    "---"
   ]
  },
  {
   "cell_type": "code",
   "execution_count": null,
   "metadata": {},
   "outputs": [],
   "source": [
    "# TODO redo this entire section after we finished the demo."
   ]
  },
  {
   "cell_type": "markdown",
   "metadata": {},
   "source": [
    "## Default session"
   ]
  },
  {
   "cell_type": "markdown",
   "metadata": {},
   "source": [
    "When spannerlog is loaded, a default session (`spannerlog.magic_session`) is created behind the scenes. This is the session that %%spannerlog uses."
   ]
  },
  {
   "cell_type": "markdown",
   "metadata": {},
   "source": [
    "Using a session manually enables one to dynamically generate queries, facts, and rules"
   ]
  },
  {
   "cell_type": "code",
   "execution_count": null,
   "metadata": {},
   "outputs": [],
   "source": [
    "\n",
    "#| output: false\n",
    "import spannerlib\n",
    "session = spannerlib.magic_session"
   ]
  },
  {
   "cell_type": "code",
   "execution_count": null,
   "metadata": {},
   "outputs": [],
   "source": [
    "#| hide\n",
    "from nbdev.showdoc import show_doc"
   ]
  },
  {
   "cell_type": "code",
   "execution_count": null,
   "metadata": {},
   "outputs": [],
   "source": [
    "result = session.run_commands('''\n",
    "    new uncle(str, str)\n",
    "    uncle(\"benjen\", \"jon\")\n",
    "                              ''')"
   ]
  },
  {
   "cell_type": "code",
   "execution_count": null,
   "metadata": {},
   "outputs": [
    {
     "name": "stdout",
     "output_type": "stream",
     "text": [
      "printing results for query 'uncle(\"ned\", Y)':\n",
      "[]\n",
      "\n",
      "printing results for query 'uncle(\"robb\", Y)':\n",
      "[]\n",
      "\n",
      "printing results for query 'uncle(\"benjen\", Y)':\n",
      "  Y\n",
      "-----\n",
      " jon\n",
      "\n"
     ]
    }
   ],
   "source": [
    "for maybe_uncle in ['ned', 'robb', 'benjen']:\n",
    "    result = session.run_commands(f'?uncle(\"{maybe_uncle}\",Y)')"
   ]
  },
  {
   "cell_type": "markdown",
   "metadata": {},
   "source": [
    "## Changing the session of the magic cells<a class=\"anchor\" id=\"changing_session\"></a>"
   ]
  },
  {
   "cell_type": "markdown",
   "metadata": {},
   "source": [
    "In cases where you want to work with a custom session, but still make use of the magic system, you can overide the session used by the magic system"
   ]
  },
  {
   "cell_type": "code",
   "execution_count": null,
   "metadata": {},
   "outputs": [],
   "source": [
    "import spannerlib  # default session starts here\n",
    "from spannerlib import Session\n",
    "\n",
    "another_session=Session()\n",
    "old_magic_session = spannerlib.magic_session\n",
    "spannerlib.magic_session = another_session"
   ]
  },
  {
   "cell_type": "code",
   "execution_count": null,
   "metadata": {},
   "outputs": [
    {
     "name": "stdout",
     "output_type": "stream",
     "text": [
      "printing results for query 'uncle(X, Y)':\n",
      "  X  |  Y\n",
      "-----+------\n",
      " bob | greg\n",
      "\n"
     ]
    }
   ],
   "source": [
    "%%spannerlog\n",
    "# we're now using the new session\n",
    "new uncle(str, str)\n",
    "uncle(\"bob\", \"greg\")\n",
    "?uncle(X,Y)"
   ]
  },
  {
   "cell_type": "code",
   "execution_count": null,
   "metadata": {},
   "outputs": [],
   "source": [
    "# back to the old session\n",
    "spannerlib.magic_session = old_magic_session\n",
    "%spannerlog uncle(\"jim\", \"dwight\")"
   ]
  },
  {
   "cell_type": "code",
   "execution_count": null,
   "metadata": {},
   "outputs": [
    {
     "name": "stdout",
     "output_type": "stream",
     "text": [
      "(__spannerlog_root) (computed) root\n",
      "    (0) (computed) relation_declaration: uncle(str, str)\n",
      "    (1) (computed) add_fact: uncle(\"benjen\", \"jon\")\n",
      "    (2) (computed) query: uncle(\"ned\", Y)\n",
      "    (3) (computed) query: uncle(\"robb\", Y)\n",
      "    (4) (computed) query: uncle(\"benjen\", Y)\n",
      "    (5) (computed) add_fact: uncle(\"jim\", \"dwight\")\n",
      "\n",
      "(__spannerlog_root) (computed) root\n",
      "    (0) (computed) relation_declaration: uncle(str, str)\n",
      "    (1) (computed) add_fact: uncle(\"bob\", \"greg\")\n",
      "    (2) (computed) query: uncle(X, Y)\n",
      "\n"
     ]
    }
   ],
   "source": [
    "print(spannerlib.magic_session._parse_graph)\n",
    "print(another_session._parse_graph)"
   ]
  },
  {
   "cell_type": "markdown",
   "metadata": {},
   "source": [
    "## Mixing magics with dynamic session calls<a class=\"anchor\" id=\"dynmaic_calls\"></a>"
   ]
  },
  {
   "cell_type": "markdown",
   "metadata": {},
   "source": [
    "Lets take the GPA example from the introductory tutorial.\n",
    "What if we want to have multiple rules each looking for GPAs of students in different classes.\n",
    "We wouldnt want to manually write a rule for every single subject."
   ]
  },
  {
   "cell_type": "markdown",
   "metadata": {},
   "source": [
    "### python-spannerlog interface functions"
   ]
  },
  {
   "cell_type": "markdown",
   "metadata": {},
   "source": [
    "we can either write our data manually, or import it from a csv/dataframe:"
   ]
  },
  {
   "cell_type": "code",
   "execution_count": null,
   "metadata": {},
   "outputs": [],
   "source": [
    "%%spannerlog\n",
    "new lecturer(str, str)\n",
    "lecturer(\"rick\", \"physics\")"
   ]
  },
  {
   "cell_type": "code",
   "execution_count": null,
   "metadata": {},
   "outputs": [],
   "source": [
    "from pandas import DataFrame\n",
    "lecturer_df = DataFrame(([[\"walter\",\"chemistry\"], [\"linus\", \"operating_systems\"]]))\n",
    "session.import_rel(lecturer_df, relation_name=\"lecturer\")"
   ]
  },
  {
   "cell_type": "code",
   "execution_count": null,
   "metadata": {},
   "outputs": [],
   "source": [
    "session.import_rel(\"sample_data/enrolled.csv\", relation_name=\"enrolled\", delimiter=\",\")"
   ]
  },
  {
   "cell_type": "code",
   "execution_count": null,
   "metadata": {},
   "outputs": [
    {
     "name": "stdout",
     "output_type": "stream",
     "text": [
      "printing results for query 'gpa(X, Y)':\n",
      "    X    |   Y\n",
      "---------+-----\n",
      " abigail | 100\n",
      " jordan  |  80\n",
      "  gale   |  79\n",
      " howard  |  60\n",
      "\n"
     ]
    }
   ],
   "source": [
    "%%spannerlog\n",
    "enrolled(\"abigail\", \"chemistry\")\n",
    "gpa_str = \"abigail 100 jordan 80 gale 79 howard 60\"\n",
    "\n",
    "gpa(Student,Grade) <- py_rgx_string(gpa_str, \"(\\w+).*?(\\d+)\")->(Student, Grade),enrolled(Student,X)\n",
    "\n",
    "?gpa(X,Y)"
   ]
  },
  {
   "cell_type": "markdown",
   "metadata": {},
   "source": [
    "### using spannerlog in python loops"
   ]
  },
  {
   "cell_type": "markdown",
   "metadata": {},
   "source": [
    "Now we are going to define the rules using a for loop"
   ]
  },
  {
   "cell_type": "code",
   "execution_count": null,
   "metadata": {},
   "outputs": [
    {
     "name": "stdout",
     "output_type": "stream",
     "text": [
      "\n",
      "    gpa_of_chemistry_students(Student, Grade) <- gpa(Student, Grade), enrolled(Student, \"chemistry\")\n",
      "    \n",
      "\n",
      "    gpa_of_physics_students(Student, Grade) <- gpa(Student, Grade), enrolled(Student, \"physics\")\n",
      "    \n",
      "\n",
      "    gpa_of_operation_systems_students(Student, Grade) <- gpa(Student, Grade), enrolled(Student, \"operation_systems\")\n",
      "    \n",
      "\n",
      "    gpa_of_magic_students(Student, Grade) <- gpa(Student, Grade), enrolled(Student, \"magic\")\n",
      "    \n"
     ]
    }
   ],
   "source": [
    "subjects = [\n",
    "    \"chemistry\",\n",
    "    \"physics\",\n",
    "    \"operation_systems\",\n",
    "    \"magic\",\n",
    "]\n",
    "\n",
    "for subject in subjects:\n",
    "    rule = f\"\"\"\n",
    "    gpa_of_{subject}_students(Student, Grade) <- gpa(Student, Grade), enrolled(Student, \"{subject}\")\n",
    "    \"\"\"\n",
    "    session.run_commands(rule)\n",
    "    print(rule)  # we print the rule here to show you what strings are sent to the session"
   ]
  },
  {
   "cell_type": "markdown",
   "metadata": {},
   "source": [
    "As you can see, we can use the dynamically defined rules in a magic cell"
   ]
  },
  {
   "cell_type": "code",
   "execution_count": null,
   "metadata": {},
   "outputs": [
    {
     "name": "stdout",
     "output_type": "stream",
     "text": [
      "printing results for query 'gpa_of_operation_systems_students(X, Y)':\n",
      "[]\n",
      "\n"
     ]
    }
   ],
   "source": [
    "%%spannerlog\n",
    "?gpa_of_operation_systems_students(X,Y)"
   ]
  },
  {
   "cell_type": "markdown",
   "metadata": {},
   "source": [
    "And we can also query dynamically"
   ]
  },
  {
   "cell_type": "code",
   "execution_count": null,
   "metadata": {},
   "outputs": [
    {
     "name": "stdout",
     "output_type": "stream",
     "text": [
      "printing results for query 'gpa_of_chemistry_students(Student, Grade)':\n",
      "  Student  |   Grade\n",
      "-----------+---------\n",
      "  abigail  |     100\n",
      "  jordan   |      80\n",
      "  howard   |      60\n",
      "\n",
      "printing results for query 'gpa_of_physics_students(Student, Grade)':\n",
      "  Student  |   Grade\n",
      "-----------+---------\n",
      "  howard   |      60\n",
      "\n",
      "printing results for query 'gpa_of_operation_systems_students(Student, Grade)':\n",
      "[]\n",
      "\n",
      "printing results for query 'gpa_of_magic_students(Student, Grade)':\n",
      "[]\n",
      "\n"
     ]
    }
   ],
   "source": [
    "subjects = [\n",
    "    \"chemistry\",\n",
    "    \"physics\",\n",
    "    \"operation_systems\",\n",
    "    \"magic\",\n",
    "]\n",
    "\n",
    "for subject in subjects:\n",
    "    query = f\"\"\"\n",
    "    ?gpa_of_{subject}_students(Student, Grade)\n",
    "    \"\"\"\n",
    "    session.run_commands(query)"
   ]
  },
  {
   "cell_type": "markdown",
   "metadata": {},
   "source": [
    "## Creating rules Dynamically"
   ]
  },
  {
   "cell_type": "markdown",
   "metadata": {},
   "source": [
    "here's a more complicated example where we create spannerlog code dynamically:"
   ]
  },
  {
   "cell_type": "code",
   "execution_count": null,
   "metadata": {},
   "outputs": [
    {
     "name": "stdout",
     "output_type": "stream",
     "text": [
      "running: uncle_aunt(A,Z) <- sibling(A,B), parent(B,Z)\n",
      "printing results for query 'uncle_aunt(X, Y)':\n",
      "  X  |   Y\n",
      "-----+--------\n",
      " dio | george\n",
      "\n",
      "running: grandparent(A,Z) <- parent(A,B), parent(B,Z)\n",
      "printing results for query 'grandparent(X, Y)':\n",
      "    X     |   Y\n",
      "----------+--------\n",
      " jonathan | joseph\n",
      "  george  |  holy\n",
      "  joseph  | jotaro\n",
      "\n",
      "running: great_aunt_uncle(A,Z) <- sibling(A,B), parent(B,C), parent(C,Z)\n",
      "printing results for query 'great_aunt_uncle(X, Y)':\n",
      "  X  |   Y\n",
      "-----+--------\n",
      " dio | joseph\n",
      "\n"
     ]
    }
   ],
   "source": [
    "from spannerlib import magic_session\n",
    "\n",
    "%spannerlog new sibling(str, str)\n",
    "%spannerlog new parent(str, str)\n",
    "%spannerlog parent(\"jonathan\", \"george\")\n",
    "%spannerlog parent(\"george\", \"joseph\")\n",
    "%spannerlog parent(\"joseph\", \"holy\")\n",
    "%spannerlog parent(\"holy\", \"jotaro\")\n",
    "%spannerlog sibling(\"dio\", \"jonathan\")\n",
    "\n",
    "a = [\"parent\", \"uncle_aunt\", \"grandparent\", \"sibling\"]\n",
    "d = {\"uncle_aunt\": [\"sibling\", \"parent\"], \"grandparent\": [\"parent\", \"parent\"], \"great_aunt_uncle\": [\"sibling\", \"parent\", \"parent\"]}\n",
    "\n",
    "for key, steps in d.items():\n",
    "    # add the start of the rule\n",
    "    result = key + \"(A,Z) <- \"\n",
    "    for num, step in enumerate(steps):\n",
    "        # for every step in the list, add the condition: step(letter, next letter).\n",
    "        #  the first letter is always `A`, and the last is always `Z`\n",
    "        curr_letter = chr(num + ord(\"A\"))\n",
    "        result += step + \"(\" + curr_letter + \",\"\n",
    "        if (num == len(steps) - 1):\n",
    "            result += \"Z)\"\n",
    "        else:\n",
    "            result += chr(1 + ord(curr_letter)) + \"), \"\n",
    "    print(\"running:\", result)\n",
    "    magic_session.run_commands(result)\n",
    "    magic_session.run_commands(f\"?{key}(X,Y)\")"
   ]
  },
  {
   "cell_type": "markdown",
   "metadata": {},
   "source": [
    "## Processing the result of a query in python and using the result in a new query<a class=\"anchor\" id=\"query_result_processing\"></a>"
   ]
  },
  {
   "cell_type": "markdown",
   "metadata": {},
   "source": [
    "we can add `format_results=True` to `run_statements` to get the output as one of the following:\n",
    "1. `[]`, if the result is false,\n",
    "2. `[tuple()]`, if the result if true (the tuple is empty), or\n",
    "3. `pandas.DataFrame`, otherwise-"
   ]
  },
  {
   "cell_type": "code",
   "execution_count": null,
   "metadata": {},
   "outputs": [
    {
     "name": "stdout",
     "output_type": "stream",
     "text": [
      "printing results for query 'buddies(First, Second)':\n",
      "  First  |  Second\n",
      "---------+----------\n",
      "   bob   |   greg\n",
      "  lenny  |  homer\n",
      "\n"
     ]
    }
   ],
   "source": [
    "results = session.run_commands(f'''\n",
    "    new friends(str, str, str)\n",
    "    friends(\"bob\", \"greg\", \"clyde\")\n",
    "    friends(\"steven\", \"benny\", \"horace\")\n",
    "    friends(\"lenny\", \"homer\", \"toby\")\n",
    "    ?friends(X,Y,Z)''', print_results=False, format_results=True)\n",
    "\n",
    "# now we'll showcase processing the result with native python...\n",
    "# lets filter our tuples with some predicate:\n",
    "res = results[0].values.tolist()\n",
    "filtered = tuple(filter(lambda friends: 'bob' in friends or 'lenny' in friends, res))\n",
    "\n",
    "# and feed the matching tuples into a new query:\n",
    "session.run_commands('new buddies(str, str)')\n",
    "\n",
    "for first, second, _ in filtered:\n",
    "    session.run_commands(f'buddies(\"{first}\", \"{second}\")')\n",
    "\n",
    "result = session.run_commands(\"?buddies(First, Second)\")"
   ]
  },
  {
   "cell_type": "markdown",
   "metadata": {},
   "source": [
    "## Import a relation from a `DataFrame`<a class=\"anchor\" id=\"import_from_df\"></a>"
   ]
  },
  {
   "cell_type": "markdown",
   "metadata": {},
   "source": [
    "By default, non-boolean query results are saved as a `DataFrame`.\n",
    "A relation can also be imported from a `DataFrame`, like this:"
   ]
  },
  {
   "cell_type": "code",
   "execution_count": null,
   "metadata": {},
   "outputs": [
    {
     "name": "stdout",
     "output_type": "stream",
     "text": [
      "printing results for query 'ogres(X, Y)':\n",
      "   X   |    Y\n",
      "-------+------\n",
      " Shrek |   42\n",
      " Fiona | 1337\n",
      "\n"
     ]
    }
   ],
   "source": [
    "from pandas import DataFrame\n",
    "\n",
    "df = DataFrame([[\"Shrek\",42], [\"Fiona\", 1337]], columns=[\"name\", \"number\"])\n",
    "session.import_rel(df, relation_name=\"ogres\")\n",
    "%spannerlog ?ogres(X,Y)\n"
   ]
  },
  {
   "cell_type": "code",
   "execution_count": null,
   "metadata": {},
   "outputs": [],
   "source": []
  }
 ],
 "metadata": {
  "jupytext": {
   "formats": "ipynb,md"
  },
  "kernelspec": {
   "display_name": "python3",
   "language": "python",
   "name": "python3"
  }
 },
 "nbformat": 4,
 "nbformat_minor": 4
}
