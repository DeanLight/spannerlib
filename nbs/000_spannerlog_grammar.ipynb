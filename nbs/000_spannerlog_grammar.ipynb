{
 "cells": [
  {
   "cell_type": "markdown",
   "metadata": {},
   "source": [
    "# Grammar"
   ]
  },
  {
   "cell_type": "markdown",
   "metadata": {},
   "source": [
    "\n",
    "> This module contains the spannerlog grammar plus utilities that will help the developer assert that the ast he received matches the grammar\n",
    "that he expects to work with.\n",
    "\n",
    ">These asserts are useful as a general safety check, and also for finding places in the code that need to change\n",
    "should the spannerlog grammar be changed."
   ]
  },
  {
   "cell_type": "code",
   "execution_count": null,
   "metadata": {},
   "outputs": [],
   "source": [
    "#| default_exp grammar"
   ]
  },
  {
   "cell_type": "code",
   "execution_count": null,
   "metadata": {},
   "outputs": [],
   "source": [
    "#| hide\n",
    "from nbdev.showdoc import show_doc\n",
    "\n",
    "%load_ext autoreload\n",
    "%autoreload 2"
   ]
  },
  {
   "cell_type": "code",
   "execution_count": null,
   "metadata": {},
   "outputs": [],
   "source": [
    "#| export\n",
    "from typing import no_type_check, Set, Sequence, Any, Callable\n",
    "from typing import Sequence, Dict\n",
    "from lark import Lark,Token, Tree, Transformer\n",
    "import yaml\n",
    "import networkx as nx\n",
    "\n",
    "import logging\n",
    "logger = logging.getLogger(__name__)\n",
    "from graph_rewrite import rewrite,rewrite_iter,draw\n",
    "\n",
    "from spannerlib.utils import checkLogs\n"
   ]
  },
  {
   "cell_type": "markdown",
   "metadata": {},
   "source": [
    "## Formal grammar"
   ]
  },
  {
   "cell_type": "code",
   "execution_count": null,
   "metadata": {},
   "outputs": [],
   "source": [
    "#| export\n",
    "SpannerlogGrammar = r\"\"\"\n",
    "// basic text types\n",
    "%import common (INT,FLOAT,CNAME,WS,WS_INLINE,NEWLINE,SH_COMMENT)\n",
    "%ignore WS_INLINE\n",
    "%ignore SH_COMMENT\n",
    "\n",
    "_LINE_OVERFLOW_ESCAPE: \"\\\\\" NEWLINE\n",
    "%ignore _LINE_OVERFLOW_ESCAPE\n",
    "\n",
    "_SEPARATOR: (WS_INLINE | _LINE_OVERFLOW_ESCAPE)+\n",
    "_STRING_INNER: /.+?/\n",
    "_STRING_ESC_INNER: _STRING_INNER /(?<!\\\\)(\\\\\\\\)*?/\n",
    "\n",
    "ESCAPED_STRING : \"\\\"\" _STRING_ESC_INNER \"\\\"\"\n",
    "                | \"'\" _STRING_ESC_INNER \"'\"\n",
    "\n",
    "string: ESCAPED_STRING\n",
    "\n",
    "_NEWLINE: NEWLINE\n",
    "\n",
    "TRUE: \"True\"\n",
    "FALSE: \"False\"\n",
    "\n",
    "// inline version of bools in cases we dont need to save the value\n",
    "_TRUE: \"True\"\n",
    "_FALSE: \"False\"\n",
    "\n",
    "bool: TRUE | FALSE\n",
    "int: INT\n",
    "   | \"-\" INT -> int_neg\n",
    "float: FLOAT\n",
    "   | \"-\" FLOAT -> float_neg\n",
    "\n",
    "// basic terms\n",
    "\n",
    "relation_name: CNAME\n",
    "agg_name: CNAME\n",
    "var_name: CNAME\n",
    "free_var_name : CNAME\n",
    "\n",
    "?const_term: string\n",
    "        | float\n",
    "        | int\n",
    "        | bool\n",
    "        | \"$\" var_name\n",
    "\n",
    "aggregated_free_var: (agg_name \"(\" free_var_name \")\")\n",
    "\n",
    "\n",
    "?term: const_term\n",
    "  | free_var_name\n",
    "  | aggregated_free_var\n",
    "     \n",
    "\n",
    "\n",
    "?decl_term: \"str\" -> decl_string\n",
    "        | \"float\" -> decl_float\n",
    "        | \"int\" -> decl_int\n",
    "        | \"bool\" -> decl_bool\n",
    "\n",
    "\n",
    "// lists of terms and relations\n",
    "\n",
    "free_var_name_list: free_var_name (\",\" free_var_name)*\n",
    "decl_term_list: decl_term (\",\" decl_term)*\n",
    "\n",
    "term_list: term (\",\" term)*\n",
    "\n",
    "relation: relation_name \"(\" term_list \")\"\n",
    "ie_relation: relation_name \"(\" term_list \")\" \"->\" \"(\" term_list \")\"\n",
    "\n",
    "// rules\n",
    "\n",
    "\n",
    "?rule_body_relation: relation\n",
    "                   | ie_relation\n",
    "\n",
    "rule_head: relation_name \"(\" term_list \")\"\n",
    "\n",
    "rule_body_relation_list: rule_body_relation (\",\" rule_body_relation)*\n",
    "\n",
    "rule: rule_head \"<-\" rule_body_relation_list\n",
    "\n",
    "// statements \n",
    "\n",
    "relation_declaration: \"new\" relation_name \"(\" decl_term_list \")\"\n",
    "add_fact: relation_name \"(\" term_list \")\"\n",
    "        | \"+\" relation_name \"(\" term_list \")\"\n",
    "\n",
    "remove_fact: \"-\" relation_name \"(\" term_list \")\" \n",
    "\n",
    "query: \"?\" relation_name \"(\" term_list \")\"\n",
    "\n",
    "assignment: var_name \"=\" const_term\n",
    "        | var_name \"=\" var_name\n",
    "        | var_name \"=\" \"read\" \"(\" string \")\" -> read_assignment\n",
    "        | var_name \"=\" \"read\" \"(\" var_name \")\" -> read_assignment\n",
    "\n",
    "?statement: relation_declaration\n",
    "          | add_fact\n",
    "          | remove_fact\n",
    "          | rule\n",
    "          | query\n",
    "          | assignment\n",
    "\n",
    "start: (_NEWLINE)* (statement (_NEWLINE)+)* (statement)?\n",
    "\"\"\""
   ]
  },
  {
   "cell_type": "code",
   "execution_count": null,
   "metadata": {},
   "outputs": [],
   "source": [
    "SpannerlogParser = Lark(SpannerlogGrammar, parser='lalr')\n"
   ]
  },
  {
   "cell_type": "markdown",
   "metadata": {},
   "source": [
    "## Manipulating the AST"
   ]
  },
  {
   "cell_type": "code",
   "execution_count": null,
   "metadata": {},
   "outputs": [],
   "source": [
    "#| export\n",
    "import itertools\n",
    "def lark_to_nx_aux(tree,node_id,g,counter):\n",
    "    if isinstance(tree, Token):\n",
    "        g.add_node(node_id,val=tree.value)\n",
    "    elif isinstance(tree, Tree):\n",
    "        if len(tree.children) == 0:\n",
    "            node_key = \"val\"\n",
    "        else:\n",
    "            node_key = \"type\"\n",
    "        if isinstance(tree.data,Token):\n",
    "            node_val = tree.data.value\n",
    "        else:\n",
    "            node_val = tree.data\n",
    "        g.add_node(node_id,**{node_key:node_val})\n",
    "        for i,child in enumerate(tree.children):\n",
    "            child_id = next(counter)\n",
    "            g.add_edge(node_id,child_id,idx=i)\n",
    "            lark_to_nx_aux(child,child_id,g,counter)\n",
    "            \n",
    "\n",
    "\n",
    "def lark_to_nx(t):\n",
    "    \"\"\"turn a lark tree into a networkx digraph\n",
    "    data of inner nodes is saved under a key 'type'\n",
    "    data of leaves is saved under a key 'val'\n",
    "\n",
    "    Args:\n",
    "        t (lark.Tree): lark tree\n",
    "\n",
    "    Returns:\n",
    "        nx.Digraph: the nx graph\n",
    "    \"\"\"\n",
    "    g = nx.DiGraph()\n",
    "    counter = itertools.count()\n",
    "    lark_to_nx_aux(t,next(counter),g,counter)\n",
    "    return g\n",
    "    \n",
    "\n",
    "\n"
   ]
  },
  {
   "cell_type": "code",
   "execution_count": null,
   "metadata": {},
   "outputs": [],
   "source": [
    "#| export\n",
    "def parse_spannerlog(spannerlog_code: str, # code to parse\n",
    "    start='start', # start symbol to parse from \n",
    "    split_statements=False # whether to split the code into multiple statements, only makes sense if parsing from the start\n",
    "    ):\n",
    "    parser = Lark(SpannerlogGrammar, parser='lalr',start=start)\n",
    "    tree = parser.parse(spannerlog_code)\n",
    "\n",
    "    if split_statements:\n",
    "        statement_trees = tree.children\n",
    "        nx_graphs = [lark_to_nx(s) for s in statement_trees]\n",
    "        return list(zip(nx_graphs,statement_trees))\n",
    "    else: \n",
    "        return lark_to_nx(tree),tree\n",
    "    "
   ]
  },
  {
   "cell_type": "code",
   "execution_count": null,
   "metadata": {},
   "outputs": [
    {
     "data": {
      "text/html": [
       "<img src=\"https://mermaid.ink/img/CmZsb3djaGFydCBUQgowWyIwCnR5cGU9I3F1b3Q7cmVsYXRpb25fZGVjbGFyYXRpb24jcXVvdDsiXQoxWyIxCnR5cGU9I3F1b3Q7cmVsYXRpb25fbmFtZSNxdW90OyJdCjJbIjIKdmFsPSNxdW90O2JvZHkxI3F1b3Q7Il0KM1siMwp0eXBlPSNxdW90O2RlY2xfdGVybV9saXN0I3F1b3Q7Il0KNFsiNAp2YWw9I3F1b3Q7ZGVjbF9zdHJpbmcjcXVvdDsiXQo1WyI1CnZhbD0jcXVvdDtkZWNsX3N0cmluZyNxdW90OyJdCjAgLS0+fCJpZHg9MCJ8IDEKMCAtLT58ImlkeD0xInwgMwoxIC0tPnwiaWR4PTAifCAyCjMgLS0+fCJpZHg9MCJ8IDQKMyAtLT58ImlkeD0xInwgNQo=\"/>"
      ],
      "text/plain": [
       "<IPython.core.display.Image object>"
      ]
     },
     "metadata": {},
     "output_type": "display_data"
    },
    {
     "data": {
      "text/html": [
       "<img src=\"https://mermaid.ink/img/CmZsb3djaGFydCBUQgowWyIwCnR5cGU9I3F1b3Q7cnVsZSNxdW90OyJdCjFbIjEKdHlwZT0jcXVvdDtydWxlX2hlYWQjcXVvdDsiXQoyWyIyCnR5cGU9I3F1b3Q7cmVsYXRpb25fbmFtZSNxdW90OyJdCjNbIjMKdmFsPSNxdW90O2hlYWQjcXVvdDsiXQo0WyI0CnR5cGU9I3F1b3Q7dGVybV9saXN0I3F1b3Q7Il0KNVsiNQp0eXBlPSNxdW90O2ZyZWVfdmFyX25hbWUjcXVvdDsiXQo2WyI2CnZhbD0jcXVvdDtYI3F1b3Q7Il0KN1siNwp0eXBlPSNxdW90O2ZyZWVfdmFyX25hbWUjcXVvdDsiXQo4WyI4CnZhbD0jcXVvdDtZI3F1b3Q7Il0KOVsiOQp0eXBlPSNxdW90O2ZyZWVfdmFyX25hbWUjcXVvdDsiXQoxMFsiMTAKdmFsPSNxdW90O1cjcXVvdDsiXQoxMVsiMTEKdHlwZT0jcXVvdDtydWxlX2JvZHlfcmVsYXRpb25fbGlzdCNxdW90OyJdCjEyWyIxMgp0eXBlPSNxdW90O3JlbGF0aW9uI3F1b3Q7Il0KMTNbIjEzCnR5cGU9I3F1b3Q7cmVsYXRpb25fbmFtZSNxdW90OyJdCjE0WyIxNAp2YWw9I3F1b3Q7Ym9keTEjcXVvdDsiXQoxNVsiMTUKdHlwZT0jcXVvdDt0ZXJtX2xpc3QjcXVvdDsiXQoxNlsiMTYKdHlwZT0jcXVvdDtmcmVlX3Zhcl9uYW1lI3F1b3Q7Il0KMTdbIjE3CnZhbD0jcXVvdDtYI3F1b3Q7Il0KMThbIjE4CnR5cGU9I3F1b3Q7ZnJlZV92YXJfbmFtZSNxdW90OyJdCjE5WyIxOQp2YWw9I3F1b3Q7WiNxdW90OyJdCjIwWyIyMAp0eXBlPSNxdW90O3JlbGF0aW9uI3F1b3Q7Il0KMjFbIjIxCnR5cGU9I3F1b3Q7cmVsYXRpb25fbmFtZSNxdW90OyJdCjIyWyIyMgp2YWw9I3F1b3Q7Ym9keTIjcXVvdDsiXQoyM1siMjMKdHlwZT0jcXVvdDt0ZXJtX2xpc3QjcXVvdDsiXQoyNFsiMjQKdHlwZT0jcXVvdDtmcmVlX3Zhcl9uYW1lI3F1b3Q7Il0KMjVbIjI1CnZhbD0jcXVvdDtaI3F1b3Q7Il0KMjZbIjI2CnR5cGU9I3F1b3Q7ZnJlZV92YXJfbmFtZSNxdW90OyJdCjI3WyIyNwp2YWw9I3F1b3Q7WSNxdW90OyJdCjI4WyIyOAp0eXBlPSNxdW90O2llX3JlbGF0aW9uI3F1b3Q7Il0KMjlbIjI5CnR5cGU9I3F1b3Q7cmVsYXRpb25fbmFtZSNxdW90OyJdCjMwWyIzMAp2YWw9I3F1b3Q7aWVfMSNxdW90OyJdCjMxWyIzMQp0eXBlPSNxdW90O3Rlcm1fbGlzdCNxdW90OyJdCjMyWyIzMgp0eXBlPSNxdW90O2ZyZWVfdmFyX25hbWUjcXVvdDsiXQozM1siMzMKdmFsPSNxdW90O1gjcXVvdDsiXQozNFsiMzQKdHlwZT0jcXVvdDtmcmVlX3Zhcl9uYW1lI3F1b3Q7Il0KMzVbIjM1CnZhbD0jcXVvdDtZI3F1b3Q7Il0KMzZbIjM2CnR5cGU9I3F1b3Q7ZnJlZV92YXJfbmFtZSNxdW90OyJdCjM3WyIzNwp2YWw9I3F1b3Q7WiNxdW90OyJdCjM4WyIzOAp0eXBlPSNxdW90O3Rlcm1fbGlzdCNxdW90OyJdCjM5WyIzOQp0eXBlPSNxdW90O2ZyZWVfdmFyX25hbWUjcXVvdDsiXQo0MFsiNDAKdmFsPSNxdW90O1cjcXVvdDsiXQowIC0tPnwiaWR4PTAifCAxCjAgLS0+fCJpZHg9MSJ8IDExCjEgLS0+fCJpZHg9MCJ8IDIKMSAtLT58ImlkeD0xInwgNAoyIC0tPnwiaWR4PTAifCAzCjQgLS0+fCJpZHg9MCJ8IDUKNCAtLT58ImlkeD0xInwgNwo0IC0tPnwiaWR4PTIifCA5CjUgLS0+fCJpZHg9MCJ8IDYKNyAtLT58ImlkeD0wInwgOAo5IC0tPnwiaWR4PTAifCAxMAoxMSAtLT58ImlkeD0wInwgMTIKMTEgLS0+fCJpZHg9MSJ8IDIwCjExIC0tPnwiaWR4PTIifCAyOAoxMiAtLT58ImlkeD0wInwgMTMKMTIgLS0+fCJpZHg9MSJ8IDE1CjEzIC0tPnwiaWR4PTAifCAxNAoxNSAtLT58ImlkeD0wInwgMTYKMTUgLS0+fCJpZHg9MSJ8IDE4CjE2IC0tPnwiaWR4PTAifCAxNwoxOCAtLT58ImlkeD0wInwgMTkKMjAgLS0+fCJpZHg9MCJ8IDIxCjIwIC0tPnwiaWR4PTEifCAyMwoyMSAtLT58ImlkeD0wInwgMjIKMjMgLS0+fCJpZHg9MCJ8IDI0CjIzIC0tPnwiaWR4PTEifCAyNgoyNCAtLT58ImlkeD0wInwgMjUKMjYgLS0+fCJpZHg9MCJ8IDI3CjI4IC0tPnwiaWR4PTAifCAyOQoyOCAtLT58ImlkeD0xInwgMzEKMjggLS0+fCJpZHg9MiJ8IDM4CjI5IC0tPnwiaWR4PTAifCAzMAozMSAtLT58ImlkeD0wInwgMzIKMzEgLS0+fCJpZHg9MSJ8IDM0CjMxIC0tPnwiaWR4PTIifCAzNgozMiAtLT58ImlkeD0wInwgMzMKMzQgLS0+fCJpZHg9MCJ8IDM1CjM2IC0tPnwiaWR4PTAifCAzNwozOCAtLT58ImlkeD0wInwgMzkKMzkgLS0+fCJpZHg9MCJ8IDQwCg==\"/>"
      ],
      "text/plain": [
       "<IPython.core.display.Image object>"
      ]
     },
     "metadata": {},
     "output_type": "display_data"
    },
    {
     "data": {
      "text/html": [
       "<img src=\"https://mermaid.ink/img/CmZsb3djaGFydCBUQgowWyIwCnR5cGU9I3F1b3Q7cnVsZSNxdW90OyJdCjFbIjEKdHlwZT0jcXVvdDtydWxlX2hlYWQjcXVvdDsiXQoyWyIyCnR5cGU9I3F1b3Q7cmVsYXRpb25fbmFtZSNxdW90OyJdCjNbIjMKdmFsPSNxdW90O2hlYWQjcXVvdDsiXQo0WyI0CnR5cGU9I3F1b3Q7dGVybV9saXN0I3F1b3Q7Il0KNVsiNQp0eXBlPSNxdW90O2ZyZWVfdmFyX25hbWUjcXVvdDsiXQo2WyI2CnZhbD0jcXVvdDtYI3F1b3Q7Il0KN1siNwp0eXBlPSNxdW90O2FnZ3JlZ2F0ZWRfZnJlZV92YXIjcXVvdDsiXQo4WyI4CnR5cGU9I3F1b3Q7YWdnX25hbWUjcXVvdDsiXQo5WyI5CnZhbD0jcXVvdDttaW4jcXVvdDsiXQoxMFsiMTAKdHlwZT0jcXVvdDtmcmVlX3Zhcl9uYW1lI3F1b3Q7Il0KMTFbIjExCnZhbD0jcXVvdDtZI3F1b3Q7Il0KMTJbIjEyCnR5cGU9I3F1b3Q7cnVsZV9ib2R5X3JlbGF0aW9uX2xpc3QjcXVvdDsiXQoxM1siMTMKdHlwZT0jcXVvdDtyZWxhdGlvbiNxdW90OyJdCjE0WyIxNAp0eXBlPSNxdW90O3JlbGF0aW9uX25hbWUjcXVvdDsiXQoxNVsiMTUKdmFsPSNxdW90O2JvZHkxI3F1b3Q7Il0KMTZbIjE2CnR5cGU9I3F1b3Q7dGVybV9saXN0I3F1b3Q7Il0KMTdbIjE3CnR5cGU9I3F1b3Q7ZnJlZV92YXJfbmFtZSNxdW90OyJdCjE4WyIxOAp2YWw9I3F1b3Q7WCNxdW90OyJdCjE5WyIxOQp0eXBlPSNxdW90O2ZyZWVfdmFyX25hbWUjcXVvdDsiXQoyMFsiMjAKdmFsPSNxdW90O1kjcXVvdDsiXQowIC0tPnwiaWR4PTAifCAxCjAgLS0+fCJpZHg9MSJ8IDEyCjEgLS0+fCJpZHg9MCJ8IDIKMSAtLT58ImlkeD0xInwgNAoyIC0tPnwiaWR4PTAifCAzCjQgLS0+fCJpZHg9MCJ8IDUKNCAtLT58ImlkeD0xInwgNwo1IC0tPnwiaWR4PTAifCA2CjcgLS0+fCJpZHg9MCJ8IDgKNyAtLT58ImlkeD0xInwgMTAKOCAtLT58ImlkeD0wInwgOQoxMCAtLT58ImlkeD0wInwgMTEKMTIgLS0+fCJpZHg9MCJ8IDEzCjEzIC0tPnwiaWR4PTAifCAxNAoxMyAtLT58ImlkeD0xInwgMTYKMTQgLS0+fCJpZHg9MCJ8IDE1CjE2IC0tPnwiaWR4PTAifCAxNwoxNiAtLT58ImlkeD0xInwgMTkKMTcgLS0+fCJpZHg9MCJ8IDE4CjE5IC0tPnwiaWR4PTAifCAyMAo=\"/>"
      ],
      "text/plain": [
       "<IPython.core.display.Image object>"
      ]
     },
     "metadata": {},
     "output_type": "display_data"
    }
   ],
   "source": [
    "gs = parse_spannerlog(\"\"\"\n",
    "new body1(str,str)\n",
    "head(X,Y,W)<-body1(X,Z),body2(Z,Y),ie_1(X,Y,Z)->(W)\n",
    "head(X,min(Y))<-body1(X,Y)\n",
    "\"\"\",split_statements=True)\n",
    "\n",
    "for nx_tree,lark_tree in gs:\n",
    "    draw(nx_tree)"
   ]
  },
  {
   "cell_type": "code",
   "execution_count": null,
   "metadata": {},
   "outputs": [],
   "source": [
    "#| export\n",
    "from lark.reconstruct import Reconstructor\n",
    "def reconstruct(tree):\n",
    "    parser = Lark(SpannerlogGrammar, parser='lalr',start='start',maybe_placeholders=False)\n",
    "    return Reconstructor(parser).reconstruct(tree)"
   ]
  },
  {
   "cell_type": "code",
   "execution_count": null,
   "metadata": {},
   "outputs": [],
   "source": [
    "assert reconstruct(gs[0][1]) == 'new body1(str,str)'\n",
    "assert reconstruct(gs[1][1]) == 'head(X,Y,W)<-body1(X,Z),body2(Z,Y),ie_1(X,Y,Z)->(W)'"
   ]
  },
  {
   "cell_type": "markdown",
   "metadata": {},
   "source": [
    "## Grammar Tests Utils"
   ]
  },
  {
   "cell_type": "code",
   "execution_count": null,
   "metadata": {},
   "outputs": [],
   "source": [
    "# testing utils\n",
    "def tree_to_json(node):\n",
    "    logger.debug(f'casting the following lark node to json: {node}')\n",
    "    if isinstance(node, Token):\n",
    "        return node.value\n",
    "    if isinstance(node, Tree):\n",
    "        type = node.data\n",
    "        if isinstance(type,Token):\n",
    "            type = type.value\n",
    "    elif hasattr(node, 'type'):\n",
    "        type = node.type.value\n",
    "    else:\n",
    "        type = node.type\n",
    "    if len(node.children) == 1:\n",
    "        return {type: tree_to_json(node.children[0])}\n",
    "    else:\n",
    "        return {type: [tree_to_json(child) for child in node.children]}\n",
    "\n",
    "def tree_to_yaml(node):\n",
    "    return yaml.dump(tree_to_json(node))\n",
    "\n",
    "def assert_grammar(start,text,expected_yaml=None):\n",
    "    nx_tree,lark_tree = parse_spannerlog(text,start=start,split_statements=False)\n",
    "    yaml_tree = tree_to_yaml(lark_tree)\n",
    "    json_tree = tree_to_json(lark_tree)\n",
    "    if expected_yaml is None:\n",
    "        print(yaml_tree)\n",
    "    else:\n",
    "        expected = yaml.safe_load(expected_yaml)\n",
    "        assert json_tree == expected, f'got unexpected parse results\\n{yaml_tree}\\nexpected\\n{expected_yaml}'\n",
    "    return nx_tree,lark_tree\n"
   ]
  },
  {
   "cell_type": "code",
   "execution_count": null,
   "metadata": {},
   "outputs": [
    {
     "data": {
      "text/plain": [
       "True"
      ]
     },
     "execution_count": null,
     "metadata": {},
     "output_type": "execute_result"
    }
   ],
   "source": [
    "isinstance(lark_tree,Tree)"
   ]
  },
  {
   "cell_type": "code",
   "execution_count": null,
   "metadata": {},
   "outputs": [
    {
     "data": {
      "text/plain": [
       "Token('RULE', 'rule')"
      ]
     },
     "execution_count": null,
     "metadata": {},
     "output_type": "execute_result"
    }
   ],
   "source": [
    "lark_tree.data"
   ]
  },
  {
   "cell_type": "code",
   "execution_count": null,
   "metadata": {},
   "outputs": [
    {
     "name": "stdout",
     "output_type": "stream",
     "text": [
      "rule:\n",
      "- rule_head:\n",
      "  - relation_name: head\n",
      "  - term_list:\n",
      "    - free_var_name: X\n",
      "    - free_var_name: Y\n",
      "    - free_var_name: W\n",
      "- rule_body_relation_list:\n",
      "  - relation:\n",
      "    - relation_name: body1\n",
      "    - term_list:\n",
      "      - free_var_name: X\n",
      "      - free_var_name: Z\n",
      "  - relation:\n",
      "    - relation_name: body2\n",
      "    - term_list:\n",
      "      - free_var_name: Z\n",
      "      - free_var_name: Y\n",
      "  - ie_relation:\n",
      "    - relation_name: ie_1\n",
      "    - term_list:\n",
      "      - free_var_name: X\n",
      "      - free_var_name: Y\n",
      "      - free_var_name: Z\n",
      "    - term_list:\n",
      "        free_var_name: W\n",
      "\n"
     ]
    }
   ],
   "source": [
    "nx_tree,lark_tree = parse_spannerlog('head(X,Y,W)<-body1(X,Z),body2(Z,Y),ie_1(X,Y,Z)->(W)',start='rule',split_statements=False)\n",
    "tree_to_json(lark_tree)\n",
    "print(tree_to_yaml(lark_tree))"
   ]
  },
  {
   "cell_type": "markdown",
   "metadata": {},
   "source": [
    "## Grammar Tests"
   ]
  },
  {
   "cell_type": "code",
   "execution_count": null,
   "metadata": {},
   "outputs": [
    {
     "name": "stdout",
     "output_type": "stream",
     "text": [
      "start:\n",
      "- assignment:\n",
      "  - var_name: a\n",
      "  - float: '3.5'\n",
      "- assignment:\n",
      "  - var_name: b\n",
      "  - var_name: c\n",
      "- assignment:\n",
      "  - var_name: a\n",
      "  - string: '\"hello world\"'\n",
      "- assignment:\n",
      "  - var_name: a\n",
      "  - string: '''hello world'''\n",
      "- assignment:\n",
      "  - var_name: a\n",
      "  - string: '\"hello world\"'\n",
      "\n"
     ]
    }
   ],
   "source": [
    "tree = assert_grammar(\n",
    "      'start',\n",
    "      '''\n",
    "a=3.5\n",
    "b=c\n",
    "a=\"hello world\"\n",
    "a='hello world'\n",
    "a=\"hello \\\n",
    "world\"\n",
    "      ''',\n",
    "    )\n",
    "\n",
    "#TODO from here make tests with all new primitive types in micropasses\n",
    "# Bool, Float, Int, String negative int negative float\n",
    "# TODO add schema merging to utils and use schema utils for type consistency checks"
   ]
  },
  {
   "cell_type": "code",
   "execution_count": null,
   "metadata": {},
   "outputs": [],
   "source": [
    "tree = assert_grammar(\n",
    "    'start',\n",
    "    \"\"\"\n",
    "    B(1, \"2\", -3.5,False)\n",
    "    \"\"\",\n",
    "    \"\"\"\n",
    "start:\n",
    "  add_fact:\n",
    "  - relation_name: B\n",
    "  - term_list:\n",
    "    - int: '1'\n",
    "    - string: '\"2\"'\n",
    "    - float_neg: '3.5'\n",
    "    - bool: 'False'\n",
    "\n",
    "    \"\"\"\n",
    ")\n",
    "\n"
   ]
  },
  {
   "cell_type": "code",
   "execution_count": null,
   "metadata": {},
   "outputs": [],
   "source": [
    "tree = assert_grammar(\n",
    "      'rule',\n",
    "      'head(X,Y,W)<-body1(X,-1),body2(z,-3.5),ie_1(X,$a,Z)->(W)',\n",
    "\"\"\"\n",
    "rule:\n",
    "- rule_head:\n",
    "  - relation_name: head\n",
    "  - term_list:\n",
    "    - free_var_name: X\n",
    "    - free_var_name: Y\n",
    "    - free_var_name: W\n",
    "- rule_body_relation_list:\n",
    "  - relation:\n",
    "    - relation_name: body1\n",
    "    - term_list:\n",
    "      - free_var_name: X\n",
    "      - int_neg: '1'\n",
    "  - relation:\n",
    "    - relation_name: body2\n",
    "    - term_list:\n",
    "      - free_var_name: z\n",
    "      - float_neg: '3.5'\n",
    "  - ie_relation:\n",
    "    - relation_name: ie_1\n",
    "    - term_list:\n",
    "      - free_var_name: X\n",
    "      - var_name: a\n",
    "      - free_var_name: Z\n",
    "    - term_list:\n",
    "        free_var_name: W\"\"\"\n",
    "    )\n"
   ]
  },
  {
   "cell_type": "code",
   "execution_count": null,
   "metadata": {},
   "outputs": [],
   "source": [
    "tree = assert_grammar(\n",
    "      'rule',\n",
    "      'head(X,Y,W)<-body1(X,Z),body2(Z,Y),ie_1(X,Y,Z)->(W)',\n",
    "    '''\n",
    "  rule:\n",
    "  - rule_head:\n",
    "    - relation_name: head\n",
    "    - term_list:\n",
    "      - free_var_name: X\n",
    "      - free_var_name: Y\n",
    "      - free_var_name: W\n",
    "  - rule_body_relation_list:\n",
    "    - relation:\n",
    "      - relation_name: body1\n",
    "      - term_list:\n",
    "        - free_var_name: X\n",
    "        - free_var_name: Z\n",
    "    - relation:\n",
    "      - relation_name: body2\n",
    "      - term_list:\n",
    "        - free_var_name: Z\n",
    "        - free_var_name: Y\n",
    "    - ie_relation:\n",
    "      - relation_name: ie_1\n",
    "      - term_list:\n",
    "        - free_var_name: X\n",
    "        - free_var_name: Y\n",
    "        - free_var_name: Z\n",
    "      - term_list:\n",
    "          free_var_name: W\n",
    "  ''')"
   ]
  },
  {
   "cell_type": "code",
   "execution_count": null,
   "metadata": {},
   "outputs": [],
   "source": [
    "tree = assert_grammar(\n",
    "    'rule',\n",
    "    'head(X,sum(Y),min(W))<-body1(X,Y,Z)',\n",
    "    \"\"\"\n",
    "rule:\n",
    "- rule_head:\n",
    "  - relation_name: head\n",
    "  - term_list:\n",
    "    - free_var_name: X\n",
    "    - aggregated_free_var:\n",
    "      - agg_name: sum\n",
    "      - free_var_name: Y\n",
    "    - aggregated_free_var:\n",
    "      - agg_name: min\n",
    "      - free_var_name: W\n",
    "- rule_body_relation_list:\n",
    "    relation:\n",
    "    - relation_name: body1\n",
    "    - term_list:\n",
    "      - free_var_name: X\n",
    "      - free_var_name: Y\n",
    "      - free_var_name: Z\n",
    "    \"\"\"\n",
    "    )"
   ]
  },
  {
   "cell_type": "code",
   "execution_count": null,
   "metadata": {},
   "outputs": [],
   "source": [
    "tree = assert_grammar(\n",
    "    'rule',\n",
    "    'head(X,sum(Y),min(W),\"s\",$x)<-body1(X,Y,Z)',\n",
    "    \"\"\"\n",
    "rule:\n",
    "- rule_head:\n",
    "  - relation_name: head\n",
    "  - term_list:\n",
    "    - free_var_name: X\n",
    "    - aggregated_free_var:\n",
    "      - agg_name: sum\n",
    "      - free_var_name: Y\n",
    "    - aggregated_free_var:\n",
    "      - agg_name: min\n",
    "      - free_var_name: W\n",
    "    - string: '\"s\"'\n",
    "    - var_name: x\n",
    "- rule_body_relation_list:\n",
    "    relation:\n",
    "    - relation_name: body1\n",
    "    - term_list:\n",
    "      - free_var_name: X\n",
    "      - free_var_name: Y\n",
    "      - free_var_name: Z\n",
    "    \"\"\"\n",
    "    )"
   ]
  },
  {
   "cell_type": "markdown",
   "metadata": {},
   "source": [
    "## Example rewritting of ast"
   ]
  },
  {
   "cell_type": "code",
   "execution_count": null,
   "metadata": {},
   "outputs": [
    {
     "data": {
      "text/html": [
       "<img src=\"https://mermaid.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\"/>"
      ],
      "text/plain": [
       "<IPython.core.display.Image object>"
      ]
     },
     "metadata": {},
     "output_type": "display_data"
    }
   ],
   "source": [
    "g,lark_t = parse_spannerlog('head(X,Y,W)<-body1(X,1),body2(1,Y),ie_1(X,Y,1)->(W)')\n",
    "for match in rewrite_iter(g,lhs='''rel[val:str=\"relation\"]->z[val:str=\"relation_name\"]->y'''):\n",
    "    print(match['y']['val'])\n",
    "draw(g,direction='LR')"
   ]
  },
  {
   "cell_type": "code",
   "execution_count": null,
   "metadata": {},
   "outputs": [
    {
     "data": {
      "text/html": [
       "<img src=\"https://mermaid.ink/img/CmZsb3djaGFydCBMUgowWyIwCnR5cGU9I3F1b3Q7c3RhcnQjcXVvdDsiXQoxWyIxCnR5cGU9I3F1b3Q7cnVsZSNxdW90OyJdCjJbIjIKdHlwZT0jcXVvdDtydWxlX2hlYWQjcXVvdDsiXQozWyIzCnR5cGU9I3F1b3Q7cmVsYXRpb25fbmFtZSNxdW90OyJdCjRbIjQKdmFsPSNxdW90O2hlYWQjcXVvdDsiXQo1WyI1CnR5cGU9I3F1b3Q7dGVybV9saXN0I3F1b3Q7LCBmcmVlX3ZhcnM9WyNxdW90O1gjcXVvdDssICNxdW90O1kjcXVvdDssICNxdW90O1cjcXVvdDtdIl0KMTJbIjEyCnR5cGU9I3F1b3Q7cnVsZV9ib2R5X3JlbGF0aW9uX2xpc3QjcXVvdDsiXQoxM1siMTMKdHlwZT0jcXVvdDtyZWxhdGlvbiNxdW90OyJdCjE0WyIxNAp0eXBlPSNxdW90O3JlbGF0aW9uX25hbWUjcXVvdDsiXQoxNVsiMTUKdmFsPSNxdW90O2JvZHkxI3F1b3Q7Il0KMTZbIjE2CnR5cGU9I3F1b3Q7dGVybV9saXN0I3F1b3Q7LCBmcmVlX3ZhcnM9WyNxdW90O1gjcXVvdDtdIl0KMTlbIjE5CnR5cGU9I3F1b3Q7aW50I3F1b3Q7Il0KMjBbIjIwCnZhbD0jcXVvdDsxI3F1b3Q7Il0KMjFbIjIxCnR5cGU9I3F1b3Q7cmVsYXRpb24jcXVvdDsiXQoyMlsiMjIKdHlwZT0jcXVvdDtyZWxhdGlvbl9uYW1lI3F1b3Q7Il0KMjNbIjIzCnZhbD0jcXVvdDtib2R5MiNxdW90OyJdCjI0WyIyNAp0eXBlPSNxdW90O3Rlcm1fbGlzdCNxdW90OywgZnJlZV92YXJzPVsjcXVvdDtZI3F1b3Q7XSJdCjI1WyIyNQp0eXBlPSNxdW90O2ludCNxdW90OyJdCjI2WyIyNgp2YWw9I3F1b3Q7MSNxdW90OyJdCjI5WyIyOQp0eXBlPSNxdW90O2llX3JlbGF0aW9uI3F1b3Q7Il0KMzBbIjMwCnR5cGU9I3F1b3Q7cmVsYXRpb25fbmFtZSNxdW90OyJdCjMxWyIzMQp2YWw9I3F1b3Q7aWVfMSNxdW90OyJdCjMyWyIzMgp0eXBlPSNxdW90O3Rlcm1fbGlzdCNxdW90OywgZnJlZV92YXJzPVsjcXVvdDtYI3F1b3Q7LCAjcXVvdDtZI3F1b3Q7XSJdCjM3WyIzNwp0eXBlPSNxdW90O2ludCNxdW90OyJdCjM4WyIzOAp2YWw9I3F1b3Q7MSNxdW90OyJdCjM5WyIzOQp0eXBlPSNxdW90O3Rlcm1fbGlzdCNxdW90OywgZnJlZV92YXJzPVsjcXVvdDtXI3F1b3Q7XSJdCjAgLS0+fCJpZHg9MCJ8IDEKMSAtLT58ImlkeD0wInwgMgoxIC0tPnwiaWR4PTEifCAxMgoyIC0tPnwiaWR4PTAifCAzCjIgLS0+fCJpZHg9MSJ8IDUKMyAtLT58ImlkeD0wInwgNAoxMiAtLT58ImlkeD0wInwgMTMKMTIgLS0+fCJpZHg9MSJ8IDIxCjEyIC0tPnwiaWR4PTIifCAyOQoxMyAtLT58ImlkeD0wInwgMTQKMTMgLS0+fCJpZHg9MSJ8IDE2CjE0IC0tPnwiaWR4PTAifCAxNQoxNiAtLT58ImlkeD0xInwgMTkKMTkgLS0+fCJpZHg9MCJ8IDIwCjIxIC0tPnwiaWR4PTAifCAyMgoyMSAtLT58ImlkeD0xInwgMjQKMjIgLS0+fCJpZHg9MCJ8IDIzCjI0IC0tPnwiaWR4PTAifCAyNQoyNSAtLT58ImlkeD0wInwgMjYKMjkgLS0+fCJpZHg9MCJ8IDMwCjI5IC0tPnwiaWR4PTEifCAzMgoyOSAtLT58ImlkeD0yInwgMzkKMzAgLS0+fCJpZHg9MCJ8IDMxCjMyIC0tPnwiaWR4PTIifCAzNwozNyAtLT58ImlkeD0wInwgMzgK\"/>"
      ],
      "text/plain": [
       "<IPython.core.display.Image object>"
      ]
     },
     "metadata": {},
     "output_type": "display_data"
    }
   ],
   "source": [
    "#TODO currently we cant get all children of a node at once, so we can't make the list of free vars using rhs\n",
    "for match in rewrite_iter(g,lhs='''terms[type=\"term_list\"]->var[type=\"free_var_name\"]->val''',\n",
    "                          p='terms[type]',):\n",
    "        free_var_list = match['terms'].get('free_vars',[])\n",
    "        free_var_list.append(match['val']['val'])\n",
    "        match['terms']['free_vars'] = free_var_list\n",
    "\n",
    "draw(g,direction='LR')\n",
    "    \n",
    "    "
   ]
  },
  {
   "cell_type": "code",
   "execution_count": null,
   "metadata": {},
   "outputs": [],
   "source": [
    "#|hide\n",
    "import nbdev; nbdev.nbdev_export()\n",
    "     "
   ]
  }
 ],
 "metadata": {
  "kernelspec": {
   "display_name": "python3",
   "language": "python",
   "name": "python3"
  }
 },
 "nbformat": 4,
 "nbformat_minor": 4
}
