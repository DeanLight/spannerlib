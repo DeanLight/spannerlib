{
 "cells": [
  {
   "cell_type": "markdown",
   "metadata": {},
   "source": [
    "# Grammar"
   ]
  },
  {
   "cell_type": "markdown",
   "metadata": {},
   "source": [
    "\n",
    "> This module contains the spannerlog grammar plus utilities that will help the developer assert that the ast he received matches the grammar\n",
    "that he expects to work with.\n",
    "\n",
    ">These asserts are useful as a general safety check, and also for finding places in the code that need to change\n",
    "should the spannerlog grammar be changed."
   ]
  },
  {
   "cell_type": "code",
   "execution_count": null,
   "metadata": {},
   "outputs": [],
   "source": [
    "#| default_exp grammar"
   ]
  },
  {
   "cell_type": "code",
   "execution_count": null,
   "metadata": {},
   "outputs": [
    {
     "name": "stdout",
     "output_type": "stream",
     "text": [
      "The autoreload extension is already loaded. To reload it, use:\n",
      "  %reload_ext autoreload\n"
     ]
    }
   ],
   "source": [
    "#| hide\n",
    "from nbdev.showdoc import show_doc\n",
    "\n",
    "%load_ext autoreload\n",
    "%autoreload 2"
   ]
  },
  {
   "cell_type": "code",
   "execution_count": null,
   "metadata": {},
   "outputs": [],
   "source": [
    "#| export\n",
    "from typing import no_type_check, Set, Sequence, Any, Callable\n",
    "from typing import Sequence, Dict\n",
    "from lark import Lark,Token, Tree, Transformer\n",
    "import yaml\n",
    "import networkx as nx\n",
    "\n",
    "import logging\n",
    "logger = logging.getLogger(__name__)\n",
    "from graph_rewrite import rewrite,rewrite_iter,draw\n",
    "\n",
    "from spannerlib.utils import checkLogs\n"
   ]
  },
  {
   "cell_type": "markdown",
   "metadata": {},
   "source": [
    "## Formal grammar"
   ]
  },
  {
   "cell_type": "code",
   "execution_count": null,
   "metadata": {},
   "outputs": [],
   "source": [
    "#| export\n",
    "SpannerlogGrammar = r\"\"\"\n",
    "// basic text types\n",
    "%import common (INT,FLOAT,CNAME,WS,WS_INLINE,NEWLINE,SH_COMMENT)\n",
    "%ignore WS_INLINE\n",
    "%ignore SH_COMMENT\n",
    "\n",
    "_LINE_OVERFLOW_ESCAPE: \"\\\\\" NEWLINE\n",
    "%ignore _LINE_OVERFLOW_ESCAPE\n",
    "\n",
    "_SEPARATOR: (WS_INLINE | _LINE_OVERFLOW_ESCAPE)+\n",
    "_STRING_INNER: /.+?/\n",
    "_STRING_ESC_INNER: _STRING_INNER /(?<!\\\\)(\\\\\\\\)*?/\n",
    "\n",
    "ESCAPED_STRING : \"\\\"\" _STRING_ESC_INNER \"\\\"\"\n",
    "                | \"'\" _STRING_ESC_INNER \"'\"\n",
    "\n",
    "string: ESCAPED_STRING\n",
    "\n",
    "_NEWLINE: NEWLINE\n",
    "\n",
    "TRUE: \"True\"\n",
    "FALSE: \"False\"\n",
    "\n",
    "// inline version of bools in cases we dont need to save the value\n",
    "_TRUE: \"True\"\n",
    "_FALSE: \"False\"\n",
    "\n",
    "bool: TRUE | FALSE\n",
    "int: INT\n",
    "   | \"-\" INT -> int_neg\n",
    "float: FLOAT\n",
    "   | \"-\" FLOAT -> float_neg\n",
    "\n",
    "// basic terms\n",
    "\n",
    "relation_name: CNAME\n",
    "agg_name: CNAME\n",
    "var_name: CNAME\n",
    "free_var_name : CNAME\n",
    "\n",
    "?const_term: string\n",
    "        | float\n",
    "        | int\n",
    "        | bool\n",
    "        | \"$\" var_name\n",
    "\n",
    "?term: const_term\n",
    "     | free_var_name\n",
    "     \n",
    "\n",
    "aggregated_free_var: (agg_name \"(\" free_var_name \")\")\n",
    "\n",
    "?decl_term: \"str\" -> decl_string\n",
    "        | \"float\" -> decl_float\n",
    "        | \"int\" -> decl_int\n",
    "        | \"bool\" -> decl_bool\n",
    "\n",
    "\n",
    "// lists of terms and relations\n",
    "\n",
    "const_term_list: const_term (\",\" const_term)*\n",
    "free_var_name_list: free_var_name (\",\" free_var_name)*\n",
    "decl_term_list: decl_term (\",\" decl_term)*\n",
    "\n",
    "term_list: term (\",\" term)*\n",
    "aggregated_free_vars_list: (free_var_name|aggregated_free_var) (\",\" (free_var_name|aggregated_free_var))*\n",
    "\n",
    "relation: relation_name \"(\" term_list \")\"\n",
    "ie_relation: relation_name \"(\" term_list \")\" \"->\" \"(\" term_list \")\"\n",
    "\n",
    "// rules\n",
    "\n",
    "\n",
    "?rule_body_relation: relation\n",
    "                   | ie_relation\n",
    "\n",
    "rule_head: relation_name \"(\" aggregated_free_vars_list \")\"\n",
    "\n",
    "rule_body_relation_list: rule_body_relation (\",\" rule_body_relation)*\n",
    "\n",
    "rule: rule_head \"<-\" rule_body_relation_list\n",
    "\n",
    "// statements \n",
    "\n",
    "relation_declaration: \"new\" relation_name \"(\" decl_term_list \")\"\n",
    "add_fact: relation_name \"(\" const_term_list \")\"\n",
    "        | relation_name \"(\" const_term_list \")\" \"<-\" _TRUE\n",
    "\n",
    "remove_fact: relation_name \"(\" const_term_list \")\" \"<-\" _FALSE\n",
    "\n",
    "query: \"?\" relation_name \"(\" term_list \")\"\n",
    "\n",
    "assignment: var_name \"=\" const_term\n",
    "        | var_name \"=\" var_name\n",
    "        | var_name \"=\" \"read\" \"(\" string \")\" -> read_assignment\n",
    "        | var_name \"=\" \"read\" \"(\" var_name \")\" -> read_assignment\n",
    "\n",
    "?statement: relation_declaration\n",
    "          | add_fact\n",
    "          | remove_fact\n",
    "          | rule\n",
    "          | query\n",
    "          | assignment\n",
    "\n",
    "start: (_NEWLINE)* (statement (_NEWLINE)+)* (statement)?\n",
    "\"\"\""
   ]
  },
  {
   "cell_type": "code",
   "execution_count": null,
   "metadata": {},
   "outputs": [],
   "source": [
    "SpannerlogParser = Lark(SpannerlogGrammar, parser='lalr')\n"
   ]
  },
  {
   "cell_type": "markdown",
   "metadata": {},
   "source": [
    "## Manipulating the AST"
   ]
  },
  {
   "cell_type": "code",
   "execution_count": null,
   "metadata": {},
   "outputs": [],
   "source": [
    "#| export\n",
    "import itertools\n",
    "def lark_to_nx_aux(tree,node_id,g,counter):\n",
    "    if isinstance(tree, Token):\n",
    "        g.add_node(node_id,val=tree.value)\n",
    "    elif isinstance(tree, Tree):\n",
    "        if len(tree.children) == 0:\n",
    "            node_key = \"val\"\n",
    "        else:\n",
    "            node_key = \"type\"\n",
    "        if isinstance(tree.data,Token):\n",
    "            node_val = tree.data.value\n",
    "        else:\n",
    "            node_val = tree.data\n",
    "        g.add_node(node_id,**{node_key:node_val})\n",
    "        for i,child in enumerate(tree.children):\n",
    "            child_id = next(counter)\n",
    "            g.add_edge(node_id,child_id,idx=i)\n",
    "            lark_to_nx_aux(child,child_id,g,counter)\n",
    "            \n",
    "\n",
    "\n",
    "def lark_to_nx(t):\n",
    "    \"\"\"turn a lark tree into a networkx digraph\n",
    "    data of inner nodes is saved under a key 'type'\n",
    "    data of leaves is saved under a key 'val'\n",
    "\n",
    "    Args:\n",
    "        t (lark.Tree): lark tree\n",
    "\n",
    "    Returns:\n",
    "        nx.Digraph: the nx graph\n",
    "    \"\"\"\n",
    "    g = nx.DiGraph()\n",
    "    counter = itertools.count()\n",
    "    lark_to_nx_aux(t,next(counter),g,counter)\n",
    "    return g\n",
    "    \n",
    "\n",
    "\n"
   ]
  },
  {
   "cell_type": "code",
   "execution_count": null,
   "metadata": {},
   "outputs": [],
   "source": [
    "#| export\n",
    "def parse_spannerlog(spannerlog_code: str, # code to parse\n",
    "    start='start', # start symbol to parse from \n",
    "    split_statements=False # whether to split the code into multiple statements, only makes sense if parsing from the start\n",
    "    ):\n",
    "    parser = Lark(SpannerlogGrammar, parser='lalr',start=start)\n",
    "    tree = parser.parse(spannerlog_code)\n",
    "\n",
    "    if split_statements:\n",
    "        statement_trees = tree.children\n",
    "        nx_graphs = [lark_to_nx(s) for s in statement_trees]\n",
    "        return list(zip(nx_graphs,statement_trees))\n",
    "    else: \n",
    "        return lark_to_nx(tree),tree\n",
    "    "
   ]
  },
  {
   "cell_type": "code",
   "execution_count": null,
   "metadata": {},
   "outputs": [
    {
     "data": {
      "text/html": [
       "<img src=\"https://mermaid.ink/img/CmZsb3djaGFydCBUQgowWyIwCnR5cGU9I3F1b3Q7cmVsYXRpb25fZGVjbGFyYXRpb24jcXVvdDsiXQoxWyIxCnR5cGU9I3F1b3Q7cmVsYXRpb25fbmFtZSNxdW90OyJdCjJbIjIKdmFsPSNxdW90O2JvZHkxI3F1b3Q7Il0KM1siMwp0eXBlPSNxdW90O2RlY2xfdGVybV9saXN0I3F1b3Q7Il0KNFsiNAp2YWw9I3F1b3Q7ZGVjbF9zdHJpbmcjcXVvdDsiXQo1WyI1CnZhbD0jcXVvdDtkZWNsX3N0cmluZyNxdW90OyJdCjAgLS0+fCJpZHg9MCJ8IDEKMCAtLT58ImlkeD0xInwgMwoxIC0tPnwiaWR4PTAifCAyCjMgLS0+fCJpZHg9MCJ8IDQKMyAtLT58ImlkeD0xInwgNQo=\"/>"
      ],
      "text/plain": [
       "<IPython.core.display.Image object>"
      ]
     },
     "metadata": {},
     "output_type": "display_data"
    },
    {
     "data": {
      "text/html": [
       "<img src=\"https://mermaid.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\"/>"
      ],
      "text/plain": [
       "<IPython.core.display.Image object>"
      ]
     },
     "metadata": {},
     "output_type": "display_data"
    },
    {
     "data": {
      "text/html": [
       "<img src=\"https://mermaid.ink/img/CmZsb3djaGFydCBUQgowWyIwCnR5cGU9I3F1b3Q7cnVsZSNxdW90OyJdCjFbIjEKdHlwZT0jcXVvdDtydWxlX2hlYWQjcXVvdDsiXQoyWyIyCnR5cGU9I3F1b3Q7cmVsYXRpb25fbmFtZSNxdW90OyJdCjNbIjMKdmFsPSNxdW90O2hlYWQjcXVvdDsiXQo0WyI0CnR5cGU9I3F1b3Q7YWdncmVnYXRlZF9mcmVlX3ZhcnNfbGlzdCNxdW90OyJdCjVbIjUKdHlwZT0jcXVvdDtmcmVlX3Zhcl9uYW1lI3F1b3Q7Il0KNlsiNgp2YWw9I3F1b3Q7WCNxdW90OyJdCjdbIjcKdHlwZT0jcXVvdDthZ2dyZWdhdGVkX2ZyZWVfdmFyI3F1b3Q7Il0KOFsiOAp0eXBlPSNxdW90O2FnZ19uYW1lI3F1b3Q7Il0KOVsiOQp2YWw9I3F1b3Q7bWluI3F1b3Q7Il0KMTBbIjEwCnR5cGU9I3F1b3Q7ZnJlZV92YXJfbmFtZSNxdW90OyJdCjExWyIxMQp2YWw9I3F1b3Q7WSNxdW90OyJdCjEyWyIxMgp0eXBlPSNxdW90O3J1bGVfYm9keV9yZWxhdGlvbl9saXN0I3F1b3Q7Il0KMTNbIjEzCnR5cGU9I3F1b3Q7cmVsYXRpb24jcXVvdDsiXQoxNFsiMTQKdHlwZT0jcXVvdDtyZWxhdGlvbl9uYW1lI3F1b3Q7Il0KMTVbIjE1CnZhbD0jcXVvdDtib2R5MSNxdW90OyJdCjE2WyIxNgp0eXBlPSNxdW90O3Rlcm1fbGlzdCNxdW90OyJdCjE3WyIxNwp0eXBlPSNxdW90O2ZyZWVfdmFyX25hbWUjcXVvdDsiXQoxOFsiMTgKdmFsPSNxdW90O1gjcXVvdDsiXQoxOVsiMTkKdHlwZT0jcXVvdDtmcmVlX3Zhcl9uYW1lI3F1b3Q7Il0KMjBbIjIwCnZhbD0jcXVvdDtZI3F1b3Q7Il0KMCAtLT58ImlkeD0wInwgMQowIC0tPnwiaWR4PTEifCAxMgoxIC0tPnwiaWR4PTAifCAyCjEgLS0+fCJpZHg9MSJ8IDQKMiAtLT58ImlkeD0wInwgMwo0IC0tPnwiaWR4PTAifCA1CjQgLS0+fCJpZHg9MSJ8IDcKNSAtLT58ImlkeD0wInwgNgo3IC0tPnwiaWR4PTAifCA4CjcgLS0+fCJpZHg9MSJ8IDEwCjggLS0+fCJpZHg9MCJ8IDkKMTAgLS0+fCJpZHg9MCJ8IDExCjEyIC0tPnwiaWR4PTAifCAxMwoxMyAtLT58ImlkeD0wInwgMTQKMTMgLS0+fCJpZHg9MSJ8IDE2CjE0IC0tPnwiaWR4PTAifCAxNQoxNiAtLT58ImlkeD0wInwgMTcKMTYgLS0+fCJpZHg9MSJ8IDE5CjE3IC0tPnwiaWR4PTAifCAxOAoxOSAtLT58ImlkeD0wInwgMjAK\"/>"
      ],
      "text/plain": [
       "<IPython.core.display.Image object>"
      ]
     },
     "metadata": {},
     "output_type": "display_data"
    }
   ],
   "source": [
    "gs = parse_spannerlog(\"\"\"\n",
    "new body1(str,str)\n",
    "head(X,Y,W)<-body1(X,Z),body2(Z,Y),ie_1(X,Y,Z)->(W)\n",
    "head(X,min(Y))<-body1(X,Y)\n",
    "\"\"\",split_statements=True)\n",
    "\n",
    "for nx_tree,lark_tree in gs:\n",
    "    draw(nx_tree)"
   ]
  },
  {
   "cell_type": "code",
   "execution_count": null,
   "metadata": {},
   "outputs": [],
   "source": [
    "#| export\n",
    "from lark.reconstruct import Reconstructor\n",
    "def reconstruct(tree):\n",
    "    parser = Lark(SpannerlogGrammar, parser='lalr',start='start',maybe_placeholders=False)\n",
    "    return Reconstructor(parser).reconstruct(tree)"
   ]
  },
  {
   "cell_type": "code",
   "execution_count": null,
   "metadata": {},
   "outputs": [],
   "source": [
    "assert reconstruct(gs[0][1]) == 'new body1(str,str)'\n",
    "assert reconstruct(gs[1][1]) == 'head(X,Y,W)<-body1(X,Z),body2(Z,Y),ie_1(X,Y,Z)->(W)'"
   ]
  },
  {
   "cell_type": "markdown",
   "metadata": {},
   "source": [
    "## Grammar Tests Utils"
   ]
  },
  {
   "cell_type": "code",
   "execution_count": null,
   "metadata": {},
   "outputs": [],
   "source": [
    "# testing utils\n",
    "def tree_to_json(node):\n",
    "    logger.debug(f'casting the following lark node to json: {node}')\n",
    "    if isinstance(node, Token):\n",
    "        return node.value\n",
    "    if isinstance(node, Tree):\n",
    "        type = node.data\n",
    "        if isinstance(type,Token):\n",
    "            type = type.value\n",
    "    elif hasattr(node, 'type'):\n",
    "        type = node.type.value\n",
    "    else:\n",
    "        type = node.type\n",
    "    if len(node.children) == 1:\n",
    "        return {type: tree_to_json(node.children[0])}\n",
    "    else:\n",
    "        return {type: [tree_to_json(child) for child in node.children]}\n",
    "\n",
    "def tree_to_yaml(node):\n",
    "    return yaml.dump(tree_to_json(node))\n",
    "\n",
    "def assert_grammar(start,text,expected_yaml=None):\n",
    "    nx_tree,lark_tree = parse_spannerlog(text,start=start,split_statements=False)\n",
    "    yaml_tree = tree_to_yaml(lark_tree)\n",
    "    json_tree = tree_to_json(lark_tree)\n",
    "    if expected_yaml is None:\n",
    "        print(yaml_tree)\n",
    "    else:\n",
    "        expected = yaml.safe_load(expected_yaml)\n",
    "        assert json_tree == expected, f'got unexpected parse results\\n{yaml}\\nexpected\\n{expected_yaml}'\n",
    "    return nx_tree,lark_tree\n"
   ]
  },
  {
   "cell_type": "code",
   "execution_count": null,
   "metadata": {},
   "outputs": [
    {
     "data": {
      "text/plain": [
       "True"
      ]
     },
     "execution_count": null,
     "metadata": {},
     "output_type": "execute_result"
    }
   ],
   "source": [
    "isinstance(lark_tree,Tree)"
   ]
  },
  {
   "cell_type": "code",
   "execution_count": null,
   "metadata": {},
   "outputs": [
    {
     "data": {
      "text/plain": [
       "Token('RULE', 'rule')"
      ]
     },
     "execution_count": null,
     "metadata": {},
     "output_type": "execute_result"
    }
   ],
   "source": [
    "lark_tree.data"
   ]
  },
  {
   "cell_type": "code",
   "execution_count": null,
   "metadata": {},
   "outputs": [
    {
     "name": "stdout",
     "output_type": "stream",
     "text": [
      "rule:\n",
      "- rule_head:\n",
      "  - relation_name: head\n",
      "  - aggregated_free_vars_list:\n",
      "    - free_var_name: X\n",
      "    - free_var_name: Y\n",
      "    - free_var_name: W\n",
      "- rule_body_relation_list:\n",
      "  - relation:\n",
      "    - relation_name: body1\n",
      "    - term_list:\n",
      "      - free_var_name: X\n",
      "      - free_var_name: Z\n",
      "  - relation:\n",
      "    - relation_name: body2\n",
      "    - term_list:\n",
      "      - free_var_name: Z\n",
      "      - free_var_name: Y\n",
      "  - ie_relation:\n",
      "    - relation_name: ie_1\n",
      "    - term_list:\n",
      "      - free_var_name: X\n",
      "      - free_var_name: Y\n",
      "      - free_var_name: Z\n",
      "    - term_list:\n",
      "        free_var_name: W\n",
      "\n"
     ]
    }
   ],
   "source": [
    "nx_tree,lark_tree = parse_spannerlog('head(X,Y,W)<-body1(X,Z),body2(Z,Y),ie_1(X,Y,Z)->(W)',start='rule',split_statements=False)\n",
    "tree_to_json(lark_tree)\n",
    "print(tree_to_yaml(lark_tree))"
   ]
  },
  {
   "cell_type": "markdown",
   "metadata": {},
   "source": [
    "## Grammar Tests"
   ]
  },
  {
   "cell_type": "code",
   "execution_count": null,
   "metadata": {},
   "outputs": [
    {
     "name": "stdout",
     "output_type": "stream",
     "text": [
      "start:\n",
      "- assignment:\n",
      "  - var_name: a\n",
      "  - float: '3.5'\n",
      "- assignment:\n",
      "  - var_name: b\n",
      "  - var_name: c\n",
      "- assignment:\n",
      "  - var_name: a\n",
      "  - string: '\"hello world\"'\n",
      "- assignment:\n",
      "  - var_name: a\n",
      "  - string: '''hello world'''\n",
      "- assignment:\n",
      "  - var_name: a\n",
      "  - string: '\"hello world\"'\n",
      "\n"
     ]
    }
   ],
   "source": [
    "tree = assert_grammar(\n",
    "      'start',\n",
    "      '''\n",
    "a=3.5\n",
    "b=c\n",
    "a=\"hello world\"\n",
    "a='hello world'\n",
    "a=\"hello \\\n",
    "world\"\n",
    "      ''',\n",
    "    )\n",
    "\n",
    "#TODO from here make tests with all new primitive types in micropasses\n",
    "# Bool, Float, Int, String negative int negative float\n",
    "# TODO add schema merging to utils and use schema utils for type consistency checks"
   ]
  },
  {
   "cell_type": "code",
   "execution_count": null,
   "metadata": {},
   "outputs": [],
   "source": [
    "tree = assert_grammar(\n",
    "      'rule',\n",
    "      'head(X,Y,W)<-body1(X,-1),body2(z,-3.5),ie_1(X,$a,Z)->(W)',\n",
    "\"\"\"\n",
    "rule:\n",
    "- rule_head:\n",
    "  - relation_name: head\n",
    "  - aggregated_free_vars_list:\n",
    "    - free_var_name: X\n",
    "    - free_var_name: Y\n",
    "    - free_var_name: W\n",
    "- rule_body_relation_list:\n",
    "  - relation:\n",
    "    - relation_name: body1\n",
    "    - term_list:\n",
    "      - free_var_name: X\n",
    "      - int_neg: '1'\n",
    "  - relation:\n",
    "    - relation_name: body2\n",
    "    - term_list:\n",
    "      - free_var_name: z\n",
    "      - float_neg: '3.5'\n",
    "  - ie_relation:\n",
    "    - relation_name: ie_1\n",
    "    - term_list:\n",
    "      - free_var_name: X\n",
    "      - var_name: a\n",
    "      - free_var_name: Z\n",
    "    - term_list:\n",
    "        free_var_name: W\"\"\"\n",
    "    )\n"
   ]
  },
  {
   "cell_type": "code",
   "execution_count": null,
   "metadata": {},
   "outputs": [],
   "source": [
    "tree = assert_grammar(\n",
    "      'rule',\n",
    "      'head(X,Y,W)<-body1(X,Z),body2(Z,Y),ie_1(X,Y,Z)->(W)',\n",
    "    '''\n",
    "  rule:\n",
    "  - rule_head:\n",
    "    - relation_name: head\n",
    "    - aggregated_free_vars_list:\n",
    "      - free_var_name: X\n",
    "      - free_var_name: Y\n",
    "      - free_var_name: W\n",
    "  - rule_body_relation_list:\n",
    "    - relation:\n",
    "      - relation_name: body1\n",
    "      - term_list:\n",
    "        - free_var_name: X\n",
    "        - free_var_name: Z\n",
    "    - relation:\n",
    "      - relation_name: body2\n",
    "      - term_list:\n",
    "        - free_var_name: Z\n",
    "        - free_var_name: Y\n",
    "    - ie_relation:\n",
    "      - relation_name: ie_1\n",
    "      - term_list:\n",
    "        - free_var_name: X\n",
    "        - free_var_name: Y\n",
    "        - free_var_name: Z\n",
    "      - term_list:\n",
    "          free_var_name: W\n",
    "  ''')"
   ]
  },
  {
   "cell_type": "code",
   "execution_count": null,
   "metadata": {},
   "outputs": [],
   "source": [
    "tree = assert_grammar(\n",
    "    'rule',\n",
    "    'head(X,sum(Y),min(W))<-body1(X,Y,Z)',\n",
    "    \"\"\"\n",
    "rule:\n",
    "- rule_head:\n",
    "  - relation_name: head\n",
    "  - aggregated_free_vars_list:\n",
    "    - free_var_name: X\n",
    "    - aggregated_free_var:\n",
    "      - agg_name: sum\n",
    "      - free_var_name: Y\n",
    "    - aggregated_free_var:\n",
    "      - agg_name: min\n",
    "      - free_var_name: W\n",
    "- rule_body_relation_list:\n",
    "    relation:\n",
    "    - relation_name: body1\n",
    "    - term_list:\n",
    "      - free_var_name: X\n",
    "      - free_var_name: Y\n",
    "      - free_var_name: Z\n",
    "    \"\"\"\n",
    "    )"
   ]
  },
  {
   "cell_type": "markdown",
   "metadata": {},
   "source": [
    "## Example rewritting of ast"
   ]
  },
  {
   "cell_type": "code",
   "execution_count": null,
   "metadata": {},
   "outputs": [
    {
     "data": {
      "text/html": [
       "<img src=\"https://mermaid.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\"/>"
      ],
      "text/plain": [
       "<IPython.core.display.Image object>"
      ]
     },
     "metadata": {},
     "output_type": "display_data"
    }
   ],
   "source": [
    "g,lark_t = parse_spannerlog('head(X,Y,W)<-body1(X,1),body2(1,Y),ie_1(X,Y,1)->(W)')\n",
    "for match in rewrite_iter(g,lhs='''rel[val:str=\"relation\"]->z[val:str=\"relation_name\"]->y'''):\n",
    "    print(match['y']['val'])\n",
    "draw(g,direction='LR')"
   ]
  },
  {
   "cell_type": "code",
   "execution_count": null,
   "metadata": {},
   "outputs": [
    {
     "data": {
      "text/html": [
       "<img src=\"https://mermaid.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\"/>"
      ],
      "text/plain": [
       "<IPython.core.display.Image object>"
      ]
     },
     "metadata": {},
     "output_type": "display_data"
    }
   ],
   "source": [
    "#TODO currently we cant get all children of a node at once, so we can't make the list of free vars using rhs\n",
    "for match in rewrite_iter(g,lhs='''terms[type=\"term_list\"]->var[type=\"free_var_name\"]->val''',\n",
    "                          p='terms[type]',):\n",
    "        free_var_list = match['terms'].get('free_vars',[])\n",
    "        free_var_list.append(match['val']['val'])\n",
    "        match['terms']['free_vars'] = free_var_list\n",
    "\n",
    "draw(g,direction='LR')\n",
    "    \n",
    "    "
   ]
  },
  {
   "cell_type": "code",
   "execution_count": null,
   "metadata": {},
   "outputs": [],
   "source": [
    "#|hide\n",
    "import nbdev; nbdev.nbdev_export()\n",
    "     "
   ]
  }
 ],
 "metadata": {
  "kernelspec": {
   "display_name": "python3",
   "language": "python",
   "name": "python3"
  }
 },
 "nbformat": 4,
 "nbformat_minor": 4
}
