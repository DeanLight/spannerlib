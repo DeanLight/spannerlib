{
 "cells": [
  {
   "cell_type": "markdown",
   "metadata": {},
   "source": [
    "# Session"
   ]
  },
  {
   "cell_type": "code",
   "execution_count": null,
   "metadata": {},
   "outputs": [],
   "source": [
    "#| default_exp session"
   ]
  },
  {
   "cell_type": "code",
   "execution_count": null,
   "metadata": {},
   "outputs": [],
   "source": [
    "#| hide\n",
    "from nbdev.showdoc import show_doc\n",
    "\n",
    "%load_ext autoreload\n",
    "%autoreload 2"
   ]
  },
  {
   "cell_type": "code",
   "execution_count": null,
   "metadata": {},
   "outputs": [],
   "source": [
    "#| export\n",
    "import csv\n",
    "\n",
    "import os\n",
    "import re\n",
    "from pathlib import Path\n",
    "from typing import Tuple, List, Union, Optional, Callable, Type, Iterable, no_type_check, Sequence\n",
    "from IPython import display\n",
    "from singleton_decorator import singleton\n",
    "from numbers import Real\n",
    "import pandas as pd\n",
    "import os\n",
    "\n",
    "import logging\n",
    "logger = logging.getLogger(__name__)\n",
    "\n",
    "from graph_rewrite import draw\n",
    "\n",
    "from spannerlib.utils import checkLogs,get_base_file_path,assert_df_equals,DefaultIEs,DefaultAGGs\n",
    "from spannerlib.grammar import parse_spannerlog,reconstruct\n",
    "from spannerlib.span import Span\n",
    "from spannerlib.data_types import (\n",
    "    _infer_relation_schema,\n",
    "     Var,\n",
    "    FreeVar,\n",
    "    RelationDefinition,\n",
    "    Relation,\n",
    "    IEFunction,\n",
    "    AGGFunction,\n",
    "    IERelation,\n",
    "    Rule,\n",
    "    pretty,\n",
    ")\n",
    "from spannerlib.engine import Engine\n",
    "\n",
    "from spannerlib.micro_passes import (\n",
    "    convert_primitive_values_to_objects,\n",
    "    CheckReservedRelationNames,\n",
    "    dereference_vars,\n",
    "    check_referenced_paths_exist,\n",
    "    inline_aggregation,\n",
    "    relations_to_dataclasses,\n",
    "    verify_referenced_relations_and_functions,\n",
    "    rules_to_dataclasses,\n",
    "    check_rule_safety,\n",
    "    consistent_free_var_types_in_rule,\n",
    "    assignments_to_name_val_tuple,\n",
    "    statement_type_and_value,\n",
    "    execute_statement,\n",
    ")\n"
   ]
  },
  {
   "cell_type": "code",
   "execution_count": null,
   "metadata": {},
   "outputs": [],
   "source": [
    "#| export\n",
    "#| hide\n",
    "\n",
    "def load_stdlib():\n",
    "    # make sure we import the modules that register the stdlib\n",
    "    import spannerlib.ie_func.json_path\n",
    "    import spannerlib.ie_func.basic \n",
    "\n",
    "\n",
    "\n"
   ]
  },
  {
   "cell_type": "markdown",
   "metadata": {},
   "source": [
    "## Session class"
   ]
  },
  {
   "cell_type": "code",
   "execution_count": null,
   "metadata": {},
   "outputs": [],
   "source": [
    "#| export\n",
    "class Session():\n",
    "    def __init__(self,register_stdlib=True,display_max_rows=10):\n",
    "        \n",
    "        self.pass_stack = [\n",
    "            convert_primitive_values_to_objects,\n",
    "            CheckReservedRelationNames('spanner_'),\n",
    "            check_referenced_paths_exist,\n",
    "            dereference_vars,\n",
    "            inline_aggregation,\n",
    "            relations_to_dataclasses,\n",
    "            verify_referenced_relations_and_functions,\n",
    "            rules_to_dataclasses,\n",
    "            check_rule_safety,\n",
    "            consistent_free_var_types_in_rule,\n",
    "            assignments_to_name_val_tuple,\n",
    "        ]\n",
    "\n",
    "        self.clear(register_stdlib=register_stdlib)\n",
    "        self.display_max_rows = display_max_rows\n",
    "\n",
    "    def clear(self,register_stdlib=True):\n",
    "        self.engine = Engine()\n",
    "        if not register_stdlib:\n",
    "            return\n",
    "        load_stdlib()\n",
    "        for ie_def in DefaultIEs().as_list():\n",
    "            self.register(*ie_def)\n",
    "        for agg_def in DefaultAGGs().as_list():\n",
    "            self.register_agg(*agg_def)\n",
    "    \n",
    "    def register(self,name,func,in_schema,out_schema):\n",
    "        ie_func_obj = IEFunction(name=name,func=func,in_schema=in_schema,out_schema=out_schema)\n",
    "        self.engine.set_ie_function(ie_func_obj)\n",
    "\n",
    "    def register_agg(self,name,func,in_schema,out_schema):\n",
    "        agg_func_obj = AGGFunction(name=name,func=func,in_schema=in_schema,out_schema=out_schema)\n",
    "        self.engine.set_agg_function(agg_func_obj)\n",
    "\n",
    "\n",
    "    def _display_result(self,result,statement_lark):\n",
    "        if result is None:\n",
    "            pass\n",
    "        elif isinstance(result,pd.DataFrame):\n",
    "            with pd.option_context('display.max_rows', self.display_max_rows):\n",
    "                display.display(reconstruct(statement_lark))\n",
    "                display.display(\n",
    "                    result.sort_values(by=list(result.columns))\n",
    "                    .reset_index(drop=True)\n",
    "                    .map(repr))\n",
    "        elif isinstance(result,bool):\n",
    "            display.display(reconstruct(statement_lark))\n",
    "            display.display(result)\n",
    "        else:\n",
    "            pass\n",
    "    \n",
    "\n",
    "\n",
    "    def parse_and_check_semantics(self,code):\n",
    "        statements = parse_spannerlog(code,split_statements=True)\n",
    "        asts = []\n",
    "        for statement_nx,statement_lark in statements:\n",
    "            ast = statement_nx\n",
    "            for pass_ in self.pass_stack:\n",
    "                try:\n",
    "                    pass_(ast,self.engine)\n",
    "                except Exception as e:\n",
    "                    raise Exception(\n",
    "                        f\"During semantic checks for statement \\n\\\"{reconstruct(statement_lark)}\\\"\\n\"\n",
    "                        f\"in pass {pass_} the following exception was raised:\\n{e}\\n\"\n",
    "                        ).with_traceback(e.__traceback__)\n",
    "            yield ast,statement_lark\n",
    "\n",
    "    def format_results(self,res):\n",
    "        if not isinstance(res,pd.DataFrame):\n",
    "            return res\n",
    "        if res.shape == (1,0):\n",
    "            return True\n",
    "        elif res.shape == (0,0):\n",
    "            return False\n",
    "        else:\n",
    "            return res.sort_values(by=list(res.columns)).reset_index(drop=True)\n",
    "\n",
    "    def plan_query(self,code):\n",
    "        statements = list(self.parse_and_check_semantics(code))\n",
    "        if len(statements) > 1:\n",
    "            raise ValueError(f\"Only one statement is allowed in plan_query, got {len(statements)}\")\n",
    "        ast,_ = statements[0]\n",
    "        statement_node = list(ast.nodes)[0]\n",
    "        node_data = ast.nodes[statement_node]\n",
    "        statement = node_data['type']\n",
    "        value = node_data['val']\n",
    "        if statement != 'query':\n",
    "            raise ValueError(f\"Expected a query statement, got {statement}\")\n",
    "\n",
    "        query_graph,root =  self.engine.plan_query(value)\n",
    "        return query_graph,root\n",
    "\n",
    "    def draw_query(self,code):\n",
    "        query_graph,root = self.plan_query(code)\n",
    "        draw(query_graph)\n",
    "\n",
    "    def execute_plan(self,query_graph,root,return_intermediate=False):\n",
    "        res,inter = self.engine.execute_plan(query_graph,root,return_intermediate=True)\n",
    "        res = self.format_results(res)\n",
    "        if return_intermediate:\n",
    "            return res,inter\n",
    "        return res\n",
    "        \n",
    "\n",
    "    def export(self,code,display_results=False,return_statements_meta=False):\n",
    "        results = []\n",
    "        statements = []\n",
    "        for clean_ast,statement_lark in self.parse_and_check_semantics(code):\n",
    "            try:\n",
    "                result = execute_statement(clean_ast,self.engine)\n",
    "                result = self.format_results(result)\n",
    "            except Exception as e:\n",
    "                raise Exception(\n",
    "                    f\"During execution of statement \\n\\\"{reconstruct(statement_lark)}\\n\\\"\"\n",
    "                    f\"the following exception was raised:\\n{e}\\n\"\n",
    "                    ).with_traceback(e.__traceback__)\n",
    "            \n",
    "            s_type,s_dataclass = statement_type_and_value(clean_ast)\n",
    "            statements.append((s_type,s_dataclass,reconstruct(statement_lark)))\n",
    "            results.append(result)\n",
    "            if display_results:\n",
    "                self._display_result(result,statement_lark)\n",
    "        \n",
    "        if len(results) == 0:\n",
    "            ret_val =  None\n",
    "        else:\n",
    "            ret_val =  results[-1]\n",
    "\n",
    "        if return_statements_meta:\n",
    "            return ret_val,statements\n",
    "        else:\n",
    "            return ret_val\n",
    "\n",
    "    def import_rel(self,name:str,data:Union[str,Path,pd.DataFrame],delim:str = None):\n",
    "        \"\"\"Imports a relation into the current session, either from a dataframe or from a csv file.\"\"\"\n",
    "        if isinstance(data, (Path,str)):\n",
    "            csv_file_name = Path(data)\n",
    "            if not csv_file_name.is_file():\n",
    "                raise IOError(\"csv file does not exist\")\n",
    "            if os.stat(csv_file_name).st_size == 0:\n",
    "                raise IOError(\"csv file is empty\")\n",
    "            data = pd.read_csv(csv_file_name, delimiter=delim)\n",
    "\n",
    "        first_row = list(data.iloc[0,:])\n",
    "        scheme = _infer_relation_schema(first_row)\n",
    "        rel_def = RelationDefinition(name=name,scheme=scheme)\n",
    "        self.engine.set_relation(rel_def)\n",
    "        self.engine.add_facts(name,data)\n",
    "\n",
    "    def import_var(self,name,value):\n",
    "        self.engine.set_var(name,value)\n",
    "        \n",
    "    def print_rules(self):\n",
    "        rules = list(self.engine.rules_to_ids.keys())\n",
    "        for rule in rules:\n",
    "            print(rule)\n",
    "        return rules\n",
    "    def remove_rule(self,rule:str):\n",
    "        self.engine.del_rule(rule)\n",
    "\n",
    "    def remove_head(self,head:str):\n",
    "        self.engine.del_head(head)\n",
    "\n",
    "    def remove_all_rules(self):\n",
    "        rules = list(self.engine.rules_to_ids.keys())\n",
    "        for rule in rules:\n",
    "            self.remove_rule(rule)\n",
    "\n",
    "    def remove_relation(self,relation:str):\n",
    "        self.engine.del_relation(relation)\n",
    "\n",
    "    def get_all_functions(self):\n",
    "        return {\n",
    "            'ie':self.engine.ie_functions.copy(),\n",
    "            'agg':self.engine.agg_functions.copy()\n",
    "        }"
   ]
  },
  {
   "cell_type": "markdown",
   "metadata": {},
   "source": [
    "### Test scaffold"
   ]
  },
  {
   "cell_type": "code",
   "execution_count": null,
   "metadata": {},
   "outputs": [],
   "source": [
    "#| export\n",
    "def test_session(\n",
    "    queries,\n",
    "    expected_outputs=None,# list of expected dfs\n",
    "    ie_funcs=None,# List of [name,func,in_scheme,out_scheme]\n",
    "    agg_funcs=None,\n",
    "    csvs=None,# List of [name,df]\n",
    "    debug=False,\n",
    "    display_results=True,\n",
    "    ):\n",
    "\n",
    "    sess=Session()\n",
    "\n",
    "    # add data\n",
    "    if csvs:\n",
    "        for name,df in csvs:\n",
    "            sess.import_rel(name,df)\n",
    "    # add ies\n",
    "    if ie_funcs:\n",
    "        for name,func,in_scheme,out_scheme in ie_funcs:\n",
    "            sess.register(name,func,in_scheme,out_scheme)\n",
    "    \n",
    "    if agg_funcs:\n",
    "        for name,func,in_scheme,out_scheme in agg_funcs:\n",
    "            sess.register_agg(name,func,in_scheme,out_scheme)\n",
    "\n",
    "    if not isinstance(queries,list):\n",
    "        queries = [queries]\n",
    "    if expected_outputs is None:\n",
    "        expected_outputs = [None]*len(queries)\n",
    "        dont_assert = True\n",
    "    else:\n",
    "        dont_assert = False\n",
    "    if not isinstance(expected_outputs,list):\n",
    "        expected_outputs = [expected_outputs]\n",
    "    for query,expected in zip(queries,expected_outputs):\n",
    "        if debug and query == queries[-1]:\n",
    "            print(query)\n",
    "            q,root = sess.plan_query(query)\n",
    "            draw(q)\n",
    "            res,inter = sess.execute_plan(q,root,return_intermediate=True)\n",
    "            return res,inter,sess\n",
    "        else:\n",
    "            res = sess.export(query,display_results=display_results)\n",
    "        # used for debugging, we return the results of the first query without expected\n",
    "        # if expected is None:\n",
    "        #     return query\n",
    "        if dont_assert:\n",
    "            continue\n",
    "        if isinstance(expected,pd.DataFrame):\n",
    "            assert_df_equals(res,expected)\n",
    "        else:\n",
    "            assert res == expected, f\"expected {expected}, got {res}\"\n",
    "    return sess\n",
    "        "
   ]
  },
  {
   "cell_type": "markdown",
   "metadata": {},
   "source": [
    "## Tests"
   ]
  },
  {
   "cell_type": "code",
   "execution_count": null,
   "metadata": {},
   "outputs": [
    {
     "data": {
      "text/html": [
       "<div>\n",
       "<style scoped>\n",
       "    .dataframe tbody tr th:only-of-type {\n",
       "        vertical-align: middle;\n",
       "    }\n",
       "\n",
       "    .dataframe tbody tr th {\n",
       "        vertical-align: top;\n",
       "    }\n",
       "\n",
       "    .dataframe thead th {\n",
       "        text-align: right;\n",
       "    }\n",
       "</style>\n",
       "<table border=\"1\" class=\"dataframe\">\n",
       "  <thead>\n",
       "    <tr style=\"text-align: right;\">\n",
       "      <th></th>\n",
       "      <th>X</th>\n",
       "    </tr>\n",
       "  </thead>\n",
       "  <tbody>\n",
       "    <tr>\n",
       "      <th>0</th>\n",
       "      <td>1</td>\n",
       "    </tr>\n",
       "  </tbody>\n",
       "</table>\n",
       "</div>"
      ],
      "text/plain": [
       "   X\n",
       "0  1"
      ]
     },
     "metadata": {},
     "output_type": "display_data"
    }
   ],
   "source": [
    "# basic export with metadata\n",
    "sess = Session()\n",
    "\n",
    "res,meta = sess.export(\"\"\"\n",
    "new A(int)\n",
    "A(1)\n",
    "?A(X)\n",
    "\"\"\",return_statements_meta=True)\n",
    "display.display(res)\n",
    "\n",
    "assert meta == [\n",
    "    ('relation_declaration',\n",
    "        RelationDefinition(name='A', scheme=[int]),\n",
    "        'new A(int)'),\n",
    " ('add_fact', Relation(name='A', terms=[1], agg=None), 'A(1)'),\n",
    " ('query', Relation(name='A', terms=[FreeVar(name='X')], agg=None), '?A(X)')]"
   ]
  },
  {
   "cell_type": "code",
   "execution_count": null,
   "metadata": {},
   "outputs": [
    {
     "name": "stdout",
     "output_type": "stream",
     "text": [
      "ancestor(X,Y) <- parent(X,Y)\n",
      "ancestor(X,Y) <- grandparent(X,Y)\n",
      "ancestor(X,Y) <- parent(X,Z),ancestor(Z,Y)\n",
      "==================================================\n",
      "ancestor(X,Y) <- grandparent(X,Y)\n",
      "ancestor(X,Y) <- parent(X,Z),ancestor(Z,Y)\n"
     ]
    }
   ],
   "source": [
    "# test rule removal\n",
    "sess = Session()\n",
    "_ = sess.export('''\n",
    "    new parent(str, str)\n",
    "    new grandparent(str, str)\n",
    "    parent(\"Liam\", \"Noah\")\n",
    "    parent(\"Noah\", \"Oliver\")\n",
    "    parent(\"James\", \"Lucas\")\n",
    "    parent(\"Noah\", \"Benjamin\")\n",
    "    parent(\"Benjamin\", \"Mason\")\n",
    "    grandparent(\"Tom\", \"Avi\")\n",
    "    ancestor(X,Y) <- parent(X,Y)\n",
    "    ancestor(X,Y) <- grandparent(X,Y)\n",
    "    ancestor(X,Y) <- parent(X,Z), ancestor(Z,Y)\n",
    "''')\n",
    "\n",
    "\n",
    "rules = sess.print_rules()\n",
    "assert rules == ['ancestor(X,Y) <- parent(X,Y)',\n",
    "'ancestor(X,Y) <- grandparent(X,Y)',\n",
    "'ancestor(X,Y) <- parent(X,Z),ancestor(Z,Y)',]\n",
    "\n",
    "sess.remove_rule(\"ancestor(X,Y) <- parent(X,Y)\")\n",
    "print(\"=\"*50)\n",
    "rules = sess.print_rules()\n",
    "assert rules == ['ancestor(X,Y) <- grandparent(X,Y)',\n",
    "'ancestor(X,Y) <- parent(X,Z),ancestor(Z,Y)',]"
   ]
  },
  {
   "cell_type": "code",
   "execution_count": null,
   "metadata": {},
   "outputs": [
    {
     "name": "stdout",
     "output_type": "stream",
     "text": [
      "ancestor(X,Y) <- parent(X,Y)\n",
      "ancestor(X,Y) <- grandparent(X,Y)\n",
      "ancestor(X,Y) <- parent(X,Z),ancestor(Z,Y)\n"
     ]
    }
   ],
   "source": [
    "# test clearing the engine\n",
    "commands = \"\"\"\n",
    "    new parent(str, str)\n",
    "    new grandparent(str, str)\n",
    "    parent(\"Liam\", \"Noah\")\n",
    "    grandparent(\"Tom\", \"Avi\")\n",
    "    ancestor(X,Y) <- parent(X,Y)\n",
    "    ancestor(X,Y) <- grandparent(X,Y)\n",
    "    ancestor(X,Y) <- parent(X,Z), ancestor(Z,Y)\n",
    "    \"\"\"\n",
    "session = Session()\n",
    "output = session.export(commands)\n",
    "session.print_rules()\n",
    "session.clear()\n",
    "assert session.print_rules() == []"
   ]
  },
  {
   "cell_type": "code",
   "execution_count": null,
   "metadata": {},
   "outputs": [
    {
     "data": {
      "text/html": [
       "<div>\n",
       "<style scoped>\n",
       "    .dataframe tbody tr th:only-of-type {\n",
       "        vertical-align: middle;\n",
       "    }\n",
       "\n",
       "    .dataframe tbody tr th {\n",
       "        vertical-align: top;\n",
       "    }\n",
       "\n",
       "    .dataframe thead th {\n",
       "        text-align: right;\n",
       "    }\n",
       "</style>\n",
       "<table border=\"1\" class=\"dataframe\">\n",
       "  <thead>\n",
       "    <tr style=\"text-align: right;\">\n",
       "      <th></th>\n",
       "      <th>X</th>\n",
       "      <th>Y</th>\n",
       "    </tr>\n",
       "  </thead>\n",
       "  <tbody>\n",
       "    <tr>\n",
       "      <th>0</th>\n",
       "      <td>abigail</td>\n",
       "      <td>chemistry</td>\n",
       "    </tr>\n",
       "    <tr>\n",
       "      <th>1</th>\n",
       "      <td>gale</td>\n",
       "      <td>operating_systems</td>\n",
       "    </tr>\n",
       "    <tr>\n",
       "      <th>2</th>\n",
       "      <td>howard</td>\n",
       "      <td>chemistry</td>\n",
       "    </tr>\n",
       "    <tr>\n",
       "      <th>3</th>\n",
       "      <td>howard</td>\n",
       "      <td>physics</td>\n",
       "    </tr>\n",
       "    <tr>\n",
       "      <th>4</th>\n",
       "      <td>jordan</td>\n",
       "      <td>chemistry</td>\n",
       "    </tr>\n",
       "  </tbody>\n",
       "</table>\n",
       "</div>"
      ],
      "text/plain": [
       "         X                  Y\n",
       "0  abigail          chemistry\n",
       "1     gale  operating_systems\n",
       "2   howard          chemistry\n",
       "3   howard            physics\n",
       "4   jordan          chemistry"
      ]
     },
     "execution_count": null,
     "metadata": {},
     "output_type": "execute_result"
    }
   ],
   "source": [
    "# importing relations from csv\n",
    "session = Session()\n",
    "session.import_rel(name=\"enrolled\",data=\"./sample_data/enrolled.csv\", delim=\",\")\n",
    "commands = \"\"\"\n",
    "enrolled(\"abigail\", \"chemistry\")\n",
    "?enrolled(X,Y)\n",
    "\"\"\"\n",
    "res = session.export(commands)\n",
    "assert_df_equals(res,pd.DataFrame([\n",
    "    [\"abigail\", \"chemistry\"],\n",
    "    [\"gale\", \"operating_systems\"],\n",
    "    [\"howard\", \"chemistry\"],\n",
    "    [\"howard\", \"physics\"],\n",
    "    [\"jordan\", \"chemistry\"]\n",
    "],columns=[\"X\",\"Y\"]))"
   ]
  },
  {
   "cell_type": "code",
   "execution_count": null,
   "metadata": {},
   "outputs": [
    {
     "data": {
      "text/html": [
       "<div>\n",
       "<style scoped>\n",
       "    .dataframe tbody tr th:only-of-type {\n",
       "        vertical-align: middle;\n",
       "    }\n",
       "\n",
       "    .dataframe tbody tr th {\n",
       "        vertical-align: top;\n",
       "    }\n",
       "\n",
       "    .dataframe thead th {\n",
       "        text-align: right;\n",
       "    }\n",
       "</style>\n",
       "<table border=\"1\" class=\"dataframe\">\n",
       "  <thead>\n",
       "    <tr style=\"text-align: right;\">\n",
       "      <th></th>\n",
       "      <th>X</th>\n",
       "      <th>Y</th>\n",
       "    </tr>\n",
       "  </thead>\n",
       "  <tbody>\n",
       "    <tr>\n",
       "      <th>0</th>\n",
       "      <td>linus</td>\n",
       "      <td>operating_systems</td>\n",
       "    </tr>\n",
       "    <tr>\n",
       "      <th>1</th>\n",
       "      <td>walter</td>\n",
       "      <td>chemistry</td>\n",
       "    </tr>\n",
       "  </tbody>\n",
       "</table>\n",
       "</div>"
      ],
      "text/plain": [
       "        X                  Y\n",
       "0   linus  operating_systems\n",
       "1  walter          chemistry"
      ]
     },
     "execution_count": null,
     "metadata": {},
     "output_type": "execute_result"
    }
   ],
   "source": [
    "# importing relations from dataframe\n",
    "session = Session()\n",
    "lecturer_df = pd.DataFrame(([[\"walter\",\"chemistry\"], [\"linus\", \"operating_systems\"]]))\n",
    "session.import_rel(\"lecturer\",lecturer_df)\n",
    "commands = \"\"\" \n",
    "?lecturer(X,Y)\n",
    "\"\"\"\n",
    "res = session.export(commands)\n",
    "assert_df_equals(res,pd.DataFrame([\n",
    "    [\"walter\",\"chemistry\"],\n",
    "    [\"linus\", \"operating_systems\"]\n",
    "],columns=[\"X\",\"Y\"]))\n"
   ]
  },
  {
   "cell_type": "code",
   "execution_count": null,
   "metadata": {},
   "outputs": [
    {
     "data": {
      "text/plain": [
       "'?GrandParent(X,\"Austin\")'"
      ]
     },
     "metadata": {},
     "output_type": "display_data"
    },
    {
     "data": {
      "text/html": [
       "<div>\n",
       "<style scoped>\n",
       "    .dataframe tbody tr th:only-of-type {\n",
       "        vertical-align: middle;\n",
       "    }\n",
       "\n",
       "    .dataframe tbody tr th {\n",
       "        vertical-align: top;\n",
       "    }\n",
       "\n",
       "    .dataframe thead th {\n",
       "        text-align: right;\n",
       "    }\n",
       "</style>\n",
       "<table border=\"1\" class=\"dataframe\">\n",
       "  <thead>\n",
       "    <tr style=\"text-align: right;\">\n",
       "      <th></th>\n",
       "      <th>X</th>\n",
       "    </tr>\n",
       "  </thead>\n",
       "  <tbody>\n",
       "    <tr>\n",
       "      <th>0</th>\n",
       "      <td>'Sam'</td>\n",
       "    </tr>\n",
       "  </tbody>\n",
       "</table>\n",
       "</div>"
      ],
      "text/plain": [
       "       X\n",
       "0  'Sam'"
      ]
     },
     "metadata": {},
     "output_type": "display_data"
    },
    {
     "data": {
      "text/plain": [
       "<__main__.Session>"
      ]
     },
     "execution_count": null,
     "metadata": {},
     "output_type": "execute_result"
    }
   ],
   "source": [
    "test_session(\n",
    "    queries = [\n",
    "        \"\"\"\n",
    "        new Parent(str, str)\n",
    "        Parent(\"Sam\", \"Noah\")\n",
    "        Parent(\"Noah\", \"Austin\")\n",
    "        Parent(\"Austin\", \"Stephen\")\n",
    "\n",
    "        GrandParent(G, C) <- Parent(G, M), Parent(M, C)\n",
    "        \"\"\",\n",
    "        \"\"\"?GrandParent(X, \"Austin\")\"\"\"\n",
    "    ],\n",
    "    expected_outputs = [\n",
    "        None,\n",
    "        pd.DataFrame({'X':['Sam']})\n",
    "    ],\n",
    "    # debug=True\n",
    "\n",
    ")\n",
    "\n"
   ]
  },
  {
   "cell_type": "code",
   "execution_count": null,
   "metadata": {},
   "outputs": [
    {
     "data": {
      "text/plain": [
       "'?FunGrandParent(X,\"Austin\",AreFun)'"
      ]
     },
     "metadata": {},
     "output_type": "display_data"
    },
    {
     "data": {
      "text/html": [
       "<div>\n",
       "<style scoped>\n",
       "    .dataframe tbody tr th:only-of-type {\n",
       "        vertical-align: middle;\n",
       "    }\n",
       "\n",
       "    .dataframe tbody tr th {\n",
       "        vertical-align: top;\n",
       "    }\n",
       "\n",
       "    .dataframe thead th {\n",
       "        text-align: right;\n",
       "    }\n",
       "</style>\n",
       "<table border=\"1\" class=\"dataframe\">\n",
       "  <thead>\n",
       "    <tr style=\"text-align: right;\">\n",
       "      <th></th>\n",
       "      <th>X</th>\n",
       "      <th>AreFun</th>\n",
       "    </tr>\n",
       "  </thead>\n",
       "  <tbody>\n",
       "    <tr>\n",
       "      <th>0</th>\n",
       "      <td>'Sam'</td>\n",
       "      <td>'yes'</td>\n",
       "    </tr>\n",
       "  </tbody>\n",
       "</table>\n",
       "</div>"
      ],
      "text/plain": [
       "       X AreFun\n",
       "0  'Sam'  'yes'"
      ]
     },
     "metadata": {},
     "output_type": "display_data"
    },
    {
     "data": {
      "text/plain": [
       "<__main__.Session>"
      ]
     },
     "execution_count": null,
     "metadata": {},
     "output_type": "execute_result"
    }
   ],
   "source": [
    "# constants in rule heads\n",
    "test_session(\n",
    "    queries = [\n",
    "        \"\"\"\n",
    "        new Parent(str, str)\n",
    "        Parent(\"Sam\", \"Noah\")\n",
    "        Parent(\"Noah\", \"Austin\")\n",
    "        Parent(\"Austin\", \"Stephen\")\n",
    "\n",
    "        GrandParent(G, C) <- Parent(G, M), Parent(M, C)\n",
    "        # all grand parents are fun\n",
    "        FunGrandParent(G,C,\"yes\")<- GrandParent(G,C)\n",
    "        \"\"\",\n",
    "        \"\"\"?FunGrandParent(X, \"Austin\",AreFun)\"\"\"\n",
    "    ],\n",
    "    expected_outputs = [\n",
    "        None,\n",
    "        pd.DataFrame([\n",
    "            [\"Sam\",\"yes\"]\n",
    "        ],columns=[\"X\",\"AreFun\"])\n",
    "    ],\n",
    "    # debug=True\n",
    "\n",
    ")\n",
    "\n"
   ]
  },
  {
   "cell_type": "code",
   "execution_count": null,
   "metadata": {},
   "outputs": [
    {
     "data": {
      "text/plain": [
       "'?string_length(Str,Len)'"
      ]
     },
     "metadata": {},
     "output_type": "display_data"
    },
    {
     "data": {
      "text/html": [
       "<div>\n",
       "<style scoped>\n",
       "    .dataframe tbody tr th:only-of-type {\n",
       "        vertical-align: middle;\n",
       "    }\n",
       "\n",
       "    .dataframe tbody tr th {\n",
       "        vertical-align: top;\n",
       "    }\n",
       "\n",
       "    .dataframe thead th {\n",
       "        text-align: right;\n",
       "    }\n",
       "</style>\n",
       "<table border=\"1\" class=\"dataframe\">\n",
       "  <thead>\n",
       "    <tr style=\"text-align: right;\">\n",
       "      <th></th>\n",
       "      <th>Str</th>\n",
       "      <th>Len</th>\n",
       "    </tr>\n",
       "  </thead>\n",
       "  <tbody>\n",
       "    <tr>\n",
       "      <th>0</th>\n",
       "      <td>'a'</td>\n",
       "      <td>1</td>\n",
       "    </tr>\n",
       "    <tr>\n",
       "      <th>1</th>\n",
       "      <td>'ab'</td>\n",
       "      <td>2</td>\n",
       "    </tr>\n",
       "    <tr>\n",
       "      <th>2</th>\n",
       "      <td>'abc'</td>\n",
       "      <td>3</td>\n",
       "    </tr>\n",
       "    <tr>\n",
       "      <th>3</th>\n",
       "      <td>'abcd'</td>\n",
       "      <td>4</td>\n",
       "    </tr>\n",
       "    <tr>\n",
       "      <th>4</th>\n",
       "      <td>'d'</td>\n",
       "      <td>1</td>\n",
       "    </tr>\n",
       "  </tbody>\n",
       "</table>\n",
       "</div>"
      ],
      "text/plain": [
       "      Str Len\n",
       "0     'a'   1\n",
       "1    'ab'   2\n",
       "2   'abc'   3\n",
       "3  'abcd'   4\n",
       "4     'd'   1"
      ]
     },
     "metadata": {},
     "output_type": "display_data"
    }
   ],
   "source": [
    "def length(string: str) -> Iterable[int]:\n",
    "        yield (len(string),)\n",
    "\n",
    "_ =test_session(\n",
    "    [\"\"\"new string(str)\n",
    "    string(\"a\")\n",
    "    string(\"d\")\n",
    "    string(\"a\")\n",
    "    string(\"ab\")\n",
    "    string(\"abc\")\n",
    "    string(\"abcd\")\n",
    "\n",
    "    string_length(Str, Len) <- string(Str), Length(Str) -> (Len)\n",
    "\n",
    "    \"\"\",\n",
    "    \"\"\"\n",
    "    ?string_length(Str, Len)\n",
    "    \"\"\"],\n",
    "    [\n",
    "        None,\n",
    "        pd.DataFrame({'Str':['a','d','ab','abc','abcd'],'Len':[1,1,2,3,4]}),\n",
    "    ],\n",
    "    ie_funcs=[\n",
    "        ['Length',length,[str],[int]]\n",
    "    ],\n",
    "    # debug=True\n",
    ")"
   ]
  },
  {
   "cell_type": "code",
   "execution_count": null,
   "metadata": {},
   "outputs": [],
   "source": [
    "def ID(string: str):\n",
    "        yield f'{string}_id',\n",
    "\n",
    "def ID2(string: str):\n",
    "        yield f'{string}_id2_z',f'{string}_id2_w'"
   ]
  },
  {
   "cell_type": "code",
   "execution_count": null,
   "metadata": {},
   "outputs": [
    {
     "data": {
      "text/plain": [
       "'?D(X,Y,Z)'"
      ]
     },
     "metadata": {},
     "output_type": "display_data"
    },
    {
     "data": {
      "text/html": [
       "<div>\n",
       "<style scoped>\n",
       "    .dataframe tbody tr th:only-of-type {\n",
       "        vertical-align: middle;\n",
       "    }\n",
       "\n",
       "    .dataframe tbody tr th {\n",
       "        vertical-align: top;\n",
       "    }\n",
       "\n",
       "    .dataframe thead th {\n",
       "        text-align: right;\n",
       "    }\n",
       "</style>\n",
       "<table border=\"1\" class=\"dataframe\">\n",
       "  <thead>\n",
       "    <tr style=\"text-align: right;\">\n",
       "      <th></th>\n",
       "      <th>X</th>\n",
       "      <th>Y</th>\n",
       "      <th>Z</th>\n",
       "    </tr>\n",
       "  </thead>\n",
       "  <tbody>\n",
       "    <tr>\n",
       "      <th>0</th>\n",
       "      <td>'1'</td>\n",
       "      <td>'2'</td>\n",
       "      <td>'1'</td>\n",
       "    </tr>\n",
       "  </tbody>\n",
       "</table>\n",
       "</div>"
      ],
      "text/plain": [
       "     X    Y    Z\n",
       "0  '1'  '2'  '1'"
      ]
     },
     "metadata": {},
     "output_type": "display_data"
    },
    {
     "data": {
      "text/plain": [
       "<__main__.Session>"
      ]
     },
     "execution_count": null,
     "metadata": {},
     "output_type": "execute_result"
    }
   ],
   "source": [
    "# empty input to ie functions\n",
    "test_session(\n",
    "        \"\"\"\n",
    "        new A(str, str)\n",
    "        new B(str, str)\n",
    "        A(\"1\", \"2\")\n",
    "        B(\"1\", \"3_id\")\n",
    "        C(X, Y) <- A(X, Y)\n",
    "        D(X, Y, X) <- C(X, Y)\n",
    "        # nothing will feed into ID but we still need output in the same schema as the first D rule\n",
    "        D(X, Y, Z) <- A(X, \"1\"), B(X, Y), ID(X) -> (Y), ID2(Y)->(Z,W)\n",
    "        ?D(X, Y, Z)\n",
    "    \"\"\",\n",
    "    pd.DataFrame([['1','2','1']],columns=['X','Y','Z']),\n",
    "    ie_funcs=[\n",
    "        ['ID',ID,[str],[str]],\n",
    "        ['ID2',ID2,[str],[str,str]]\n",
    "    ] \n",
    ")"
   ]
  },
  {
   "cell_type": "code",
   "execution_count": null,
   "metadata": {},
   "outputs": [
    {
     "data": {
      "text/plain": [
       "'?D(X,Y,Z)'"
      ]
     },
     "metadata": {},
     "output_type": "display_data"
    },
    {
     "data": {
      "text/html": [
       "<div>\n",
       "<style scoped>\n",
       "    .dataframe tbody tr th:only-of-type {\n",
       "        vertical-align: middle;\n",
       "    }\n",
       "\n",
       "    .dataframe tbody tr th {\n",
       "        vertical-align: top;\n",
       "    }\n",
       "\n",
       "    .dataframe thead th {\n",
       "        text-align: right;\n",
       "    }\n",
       "</style>\n",
       "<table border=\"1\" class=\"dataframe\">\n",
       "  <thead>\n",
       "    <tr style=\"text-align: right;\">\n",
       "      <th></th>\n",
       "      <th>X</th>\n",
       "      <th>Y</th>\n",
       "      <th>Z</th>\n",
       "    </tr>\n",
       "  </thead>\n",
       "  <tbody>\n",
       "    <tr>\n",
       "      <th>0</th>\n",
       "      <td>'1'</td>\n",
       "      <td>'1_id'</td>\n",
       "      <td>'1_id_id2_z'</td>\n",
       "    </tr>\n",
       "    <tr>\n",
       "      <th>1</th>\n",
       "      <td>'1'</td>\n",
       "      <td>'2'</td>\n",
       "      <td>'1'</td>\n",
       "    </tr>\n",
       "  </tbody>\n",
       "</table>\n",
       "</div>"
      ],
      "text/plain": [
       "     X       Y             Z\n",
       "0  '1'  '1_id'  '1_id_id2_z'\n",
       "1  '1'     '2'           '1'"
      ]
     },
     "metadata": {},
     "output_type": "display_data"
    },
    {
     "data": {
      "text/plain": [
       "<__main__.Session>"
      ]
     },
     "execution_count": null,
     "metadata": {},
     "output_type": "execute_result"
    }
   ],
   "source": [
    "#multiple ie functions\n",
    "test_session(\n",
    "        \"\"\"\n",
    "        new A(str, str)\n",
    "        new B(str, str)\n",
    "        A(\"1\", \"2\")\n",
    "        B(\"1\", \"1_id\")\n",
    "        C(X, Y) <- A(X, Y)\n",
    "        D(X, Y, X) <- C(X, Y)\n",
    "        # nothing will feed into ID but we still need output in the same schema as the first D rule\n",
    "        D(X, Y, Z) <- A(X, \"2\"), B(X, Y), ID(X) -> (Y), ID2(Y)->(Z,W)\n",
    "        ?D(X, Y, Z)\n",
    "    \"\"\",\n",
    "    pd.DataFrame([('1', '1_id', '1_id_id2_z'), ('1', '2', '1')],columns=['X','Y','Z']),\n",
    "    ie_funcs=[\n",
    "        ['ID',ID,[str],[str]],\n",
    "        ['ID2',ID2,[str],[str,str]]\n",
    "    ] \n",
    ")\n"
   ]
  },
  {
   "cell_type": "code",
   "execution_count": null,
   "metadata": {},
   "outputs": [
    {
     "data": {
      "text/plain": [
       "'?StringFromText(S)'"
      ]
     },
     "metadata": {},
     "output_type": "display_data"
    },
    {
     "data": {
      "text/html": [
       "<div>\n",
       "<style scoped>\n",
       "    .dataframe tbody tr th:only-of-type {\n",
       "        vertical-align: middle;\n",
       "    }\n",
       "\n",
       "    .dataframe tbody tr th {\n",
       "        vertical-align: top;\n",
       "    }\n",
       "\n",
       "    .dataframe thead th {\n",
       "        text-align: right;\n",
       "    }\n",
       "</style>\n",
       "<table border=\"1\" class=\"dataframe\">\n",
       "  <thead>\n",
       "    <tr style=\"text-align: right;\">\n",
       "      <th></th>\n",
       "      <th>S</th>\n",
       "    </tr>\n",
       "  </thead>\n",
       "  <tbody>\n",
       "    <tr>\n",
       "      <th>0</th>\n",
       "      <td>'he'</td>\n",
       "    </tr>\n",
       "    <tr>\n",
       "      <th>1</th>\n",
       "      <td>'hehe'</td>\n",
       "    </tr>\n",
       "  </tbody>\n",
       "</table>\n",
       "</div>"
      ],
      "text/plain": [
       "        S\n",
       "0    'he'\n",
       "1  'hehe'"
      ]
     },
     "metadata": {},
     "output_type": "display_data"
    },
    {
     "data": {
      "text/plain": [
       "'?Text(T)'"
      ]
     },
     "metadata": {},
     "output_type": "display_data"
    },
    {
     "data": {
      "text/html": [
       "<div>\n",
       "<style scoped>\n",
       "    .dataframe tbody tr th:only-of-type {\n",
       "        vertical-align: middle;\n",
       "    }\n",
       "\n",
       "    .dataframe tbody tr th {\n",
       "        vertical-align: top;\n",
       "    }\n",
       "\n",
       "    .dataframe thead th {\n",
       "        text-align: right;\n",
       "    }\n",
       "</style>\n",
       "<table border=\"1\" class=\"dataframe\">\n",
       "  <thead>\n",
       "    <tr style=\"text-align: right;\">\n",
       "      <th></th>\n",
       "      <th>T</th>\n",
       "    </tr>\n",
       "  </thead>\n",
       "  <tbody>\n",
       "    <tr>\n",
       "      <th>0</th>\n",
       "      <td>'he'</td>\n",
       "    </tr>\n",
       "    <tr>\n",
       "      <th>1</th>\n",
       "      <td>'hehe'</td>\n",
       "    </tr>\n",
       "    <tr>\n",
       "      <th>2</th>\n",
       "      <td>'ho'</td>\n",
       "    </tr>\n",
       "    <tr>\n",
       "      <th>3</th>\n",
       "      <td>'hoho'</td>\n",
       "    </tr>\n",
       "  </tbody>\n",
       "</table>\n",
       "</div>"
      ],
      "text/plain": [
       "        T\n",
       "0    'he'\n",
       "1  'hehe'\n",
       "2    'ho'\n",
       "3  'hoho'"
      ]
     },
     "metadata": {},
     "output_type": "display_data"
    },
    {
     "data": {
      "text/plain": [
       "<__main__.Session>"
      ]
     },
     "execution_count": null,
     "metadata": {},
     "output_type": "execute_result"
    }
   ],
   "source": [
    "# ie functions bounded by constants\n",
    "def split(string: str):\n",
    "    for part in string.split():\n",
    "        yield (part,)\n",
    "\n",
    "test_session(\n",
    "    [\"\"\"\n",
    "    new String(str)\n",
    "    String(\"he\")\n",
    "    String(\"hehe\")\n",
    "    Text(T) <- Split(\"he ho hehe hoho\")->(T)\n",
    "    StringFromText(S) <- String(S), Split(\"he ho hehe hoho\")->(S)\n",
    "    ?StringFromText(S)\n",
    "    \"\"\",\n",
    "    \"\"\"?Text(T)\"\"\"\n",
    "    ],\n",
    "    [\n",
    "        pd.DataFrame({'S':['he','hehe']}),\n",
    "        pd.DataFrame({'T':['he','ho','hehe','hoho']})\n",
    "    ],   \n",
    "    ie_funcs=[\n",
    "        ['Split',split,[str],[str]]\n",
    "    \n",
    "    ]\n",
    ")"
   ]
  },
  {
   "cell_type": "code",
   "execution_count": null,
   "metadata": {},
   "outputs": [
    {
     "data": {
      "text/plain": [
       "'?GrandParent(\"Sam\",\"Austin\")'"
      ]
     },
     "metadata": {},
     "output_type": "display_data"
    },
    {
     "data": {
      "text/plain": [
       "True"
      ]
     },
     "metadata": {},
     "output_type": "display_data"
    },
    {
     "data": {
      "text/plain": [
       "'?GrandParent(\"Bob\",\"Austin\")'"
      ]
     },
     "metadata": {},
     "output_type": "display_data"
    },
    {
     "data": {
      "text/plain": [
       "False"
      ]
     },
     "metadata": {},
     "output_type": "display_data"
    },
    {
     "data": {
      "text/plain": [
       "<__main__.Session>"
      ]
     },
     "execution_count": null,
     "metadata": {},
     "output_type": "execute_result"
    }
   ],
   "source": [
    "# Boolean queries\n",
    "\n",
    "test_session(\n",
    "    [\"\"\"\n",
    "    new Parent(str, str)\n",
    "    Parent(\"Sam\", \"Noah\")\n",
    "    Parent(\"Noah\", \"Austin\")\n",
    "    Parent(\"Austin\", \"Stephen\")\n",
    "    GrandParent(G, C) <- Parent(G, M), Parent(M, C)\n",
    "    ?GrandParent(\"Sam\", \"Austin\")\n",
    "    \"\"\",\n",
    "    \"\"\"?GrandParent(\"Bob\", \"Austin\")\"\"\"\n",
    "    ],\n",
    "    [\n",
    "        True,\n",
    "        False\n",
    "    ]\n",
    ")\n"
   ]
  },
  {
   "cell_type": "markdown",
   "metadata": {},
   "source": [
    "## Curr bug"
   ]
  },
  {
   "cell_type": "code",
   "execution_count": null,
   "metadata": {},
   "outputs": [
    {
     "name": "stdout",
     "output_type": "stream",
     "text": [
      "[(0, 8), (10, 12)]\n",
      "[(24, 34), (36, 38)]\n"
     ]
    },
    {
     "data": {
      "text/plain": [
       "'?AgeOf(X,Y)'"
      ]
     },
     "metadata": {},
     "output_type": "display_data"
    },
    {
     "data": {
      "text/html": [
       "<div>\n",
       "<style scoped>\n",
       "    .dataframe tbody tr th:only-of-type {\n",
       "        vertical-align: middle;\n",
       "    }\n",
       "\n",
       "    .dataframe tbody tr th {\n",
       "        vertical-align: top;\n",
       "    }\n",
       "\n",
       "    .dataframe thead th {\n",
       "        text-align: right;\n",
       "    }\n",
       "</style>\n",
       "<table border=\"1\" class=\"dataframe\">\n",
       "  <thead>\n",
       "    <tr style=\"text-align: right;\">\n",
       "      <th></th>\n",
       "      <th>X</th>\n",
       "      <th>Y</th>\n",
       "    </tr>\n",
       "  </thead>\n",
       "  <tbody>\n",
       "    <tr>\n",
       "      <th>0</th>\n",
       "      <td>'Jane Smith'</td>\n",
       "      <td>'28'</td>\n",
       "    </tr>\n",
       "    <tr>\n",
       "      <th>1</th>\n",
       "      <td>'John Doe'</td>\n",
       "      <td>'35'</td>\n",
       "    </tr>\n",
       "  </tbody>\n",
       "</table>\n",
       "</div>"
      ],
      "text/plain": [
       "              X     Y\n",
       "0  'Jane Smith'  '28'\n",
       "1    'John Doe'  '35'"
      ]
     },
     "metadata": {},
     "output_type": "display_data"
    }
   ],
   "source": [
    "# use of ie functions with variable output arity\n",
    "sess = test_session(\n",
    "    [\"\"\"\n",
    "    input_string = \"John Doe: 35 years old, Jane Smith: 28 years old\"\n",
    "    AgeOf(Name,Age) <- rgx(\"(\\w+\\s\\w+):\\s(\\d+)\",$input_string) -> (NameSpan,AgeSpan),as_str(NameSpan)->(Name),as_str(AgeSpan)->(Age)\n",
    "    \"\"\",\"\"\"\n",
    "    ?AgeOf(X,Y)\n",
    "    \"\"\"],\n",
    "    [\n",
    "        None,\n",
    "        pd.DataFrame({'X':[\"John Doe\",\"Jane Smith\"],'Y':[\"35\",\"28\"]}),\n",
    "    ],\n",
    ")"
   ]
  },
  {
   "cell_type": "code",
   "execution_count": null,
   "metadata": {},
   "outputs": [],
   "source": [
    "# q,r = sess.plan_query(\"?AgeOf(X,Y)\")\n",
    "# draw(q)"
   ]
  },
  {
   "cell_type": "code",
   "execution_count": null,
   "metadata": {},
   "outputs": [],
   "source": [
    "# sess.execute_plan(q,r,return_intermediate=True)"
   ]
  },
  {
   "cell_type": "code",
   "execution_count": null,
   "metadata": {},
   "outputs": [
    {
     "data": {
      "text/plain": [
       "'?age_description(D)'"
      ]
     },
     "metadata": {},
     "output_type": "display_data"
    },
    {
     "data": {
      "text/html": [
       "<div>\n",
       "<style scoped>\n",
       "    .dataframe tbody tr th:only-of-type {\n",
       "        vertical-align: middle;\n",
       "    }\n",
       "\n",
       "    .dataframe tbody tr th {\n",
       "        vertical-align: top;\n",
       "    }\n",
       "\n",
       "    .dataframe thead th {\n",
       "        text-align: right;\n",
       "    }\n",
       "</style>\n",
       "<table border=\"1\" class=\"dataframe\">\n",
       "  <thead>\n",
       "    <tr style=\"text-align: right;\">\n",
       "      <th></th>\n",
       "      <th>D</th>\n",
       "    </tr>\n",
       "  </thead>\n",
       "  <tbody>\n",
       "    <tr>\n",
       "      <th>0</th>\n",
       "      <td>'Jane Smith is 28 years old'</td>\n",
       "    </tr>\n",
       "    <tr>\n",
       "      <th>1</th>\n",
       "      <td>'John Doe is 35 years old'</td>\n",
       "    </tr>\n",
       "  </tbody>\n",
       "</table>\n",
       "</div>"
      ],
      "text/plain": [
       "                              D\n",
       "0  'Jane Smith is 28 years old'\n",
       "1    'John Doe is 35 years old'"
      ]
     },
     "metadata": {},
     "output_type": "display_data"
    },
    {
     "data": {
      "text/plain": [
       "<__main__.Session>"
      ]
     },
     "execution_count": null,
     "metadata": {},
     "output_type": "execute_result"
    }
   ],
   "source": [
    "def format_ie(f_string,*params):\n",
    "    yield f_string.format(*params),\n",
    "\n",
    "string_schema = lambda x: ([str]*x)\n",
    "\n",
    "test_session(\n",
    "\"\"\"\n",
    "new AgeOf(str, str)\n",
    "AgeOf(\"John Doe\", \"35\")\n",
    "AgeOf(\"Jane Smith\", \"28\")\n",
    "age_description(Desc) <- AgeOf(Name, Age), format(\"{} is {} years old\",Name,Age) -> (Desc)\n",
    "?age_description(D)\n",
    "\"\"\",\n",
    "pd.DataFrame({'D':['Jane Smith is 28 years old','John Doe is 35 years old']}),\n",
    "ie_funcs=[['format',format_ie,string_schema,[str]]]\n",
    ")"
   ]
  },
  {
   "cell_type": "code",
   "execution_count": null,
   "metadata": {},
   "outputs": [
    {
     "data": {
      "text/plain": [
       "'?total_age(X,T)'"
      ]
     },
     "metadata": {},
     "output_type": "display_data"
    },
    {
     "data": {
      "text/html": [
       "<div>\n",
       "<style scoped>\n",
       "    .dataframe tbody tr th:only-of-type {\n",
       "        vertical-align: middle;\n",
       "    }\n",
       "\n",
       "    .dataframe tbody tr th {\n",
       "        vertical-align: top;\n",
       "    }\n",
       "\n",
       "    .dataframe thead th {\n",
       "        text-align: right;\n",
       "    }\n",
       "</style>\n",
       "<table border=\"1\" class=\"dataframe\">\n",
       "  <thead>\n",
       "    <tr style=\"text-align: right;\">\n",
       "      <th></th>\n",
       "      <th>X</th>\n",
       "      <th>T</th>\n",
       "    </tr>\n",
       "  </thead>\n",
       "  <tbody>\n",
       "    <tr>\n",
       "      <th>0</th>\n",
       "      <td>'Jane Smith'</td>\n",
       "      <td>28</td>\n",
       "    </tr>\n",
       "    <tr>\n",
       "      <th>1</th>\n",
       "      <td>'John Doe'</td>\n",
       "      <td>65</td>\n",
       "    </tr>\n",
       "  </tbody>\n",
       "</table>\n",
       "</div>"
      ],
      "text/plain": [
       "              X   T\n",
       "0  'Jane Smith'  28\n",
       "1    'John Doe'  65"
      ]
     },
     "metadata": {},
     "output_type": "display_data"
    },
    {
     "data": {
      "text/plain": [
       "<__main__.Session>"
      ]
     },
     "execution_count": null,
     "metadata": {},
     "output_type": "execute_result"
    }
   ],
   "source": [
    "# test agg\n",
    "# def format_ie(f_string,*params):\n",
    "#     yield f_string.format(*params),\n",
    "\n",
    "# string_schema = lambda x: ([str]*x)\n",
    "\n",
    "test_session(\n",
    "\"\"\"\n",
    "new AgeOfKids(str, int)\n",
    "AgeOfKids(\"John Doe\", 35)\n",
    "AgeOfKids(\"John Doe\", 30)\n",
    "AgeOfKids(\"Jane Smith\", 28)\n",
    "total_age(X,sum(Y)) <- AgeOfKids(X,Y)\n",
    "?total_age(X,T)\n",
    "\"\"\",\n",
    "pd.DataFrame({'X':['John Doe','Jane Smith'],'T':[65,28]}),\n",
    ")"
   ]
  },
  {
   "cell_type": "code",
   "execution_count": null,
   "metadata": {},
   "outputs": [
    {
     "data": {
      "text/html": [
       "<div>\n",
       "<style scoped>\n",
       "    .dataframe tbody tr th:only-of-type {\n",
       "        vertical-align: middle;\n",
       "    }\n",
       "\n",
       "    .dataframe tbody tr th {\n",
       "        vertical-align: top;\n",
       "    }\n",
       "\n",
       "    .dataframe thead th {\n",
       "        text-align: right;\n",
       "    }\n",
       "</style>\n",
       "<table border=\"1\" class=\"dataframe\">\n",
       "  <thead>\n",
       "    <tr style=\"text-align: right;\">\n",
       "      <th></th>\n",
       "      <th>X</th>\n",
       "      <th>Y</th>\n",
       "    </tr>\n",
       "  </thead>\n",
       "  <tbody>\n",
       "    <tr>\n",
       "      <th>0</th>\n",
       "      <td>Jane Smith</td>\n",
       "      <td>28</td>\n",
       "    </tr>\n",
       "    <tr>\n",
       "      <th>1</th>\n",
       "      <td>John Doe</td>\n",
       "      <td>35</td>\n",
       "    </tr>\n",
       "  </tbody>\n",
       "</table>\n",
       "</div>"
      ],
      "text/plain": [
       "            X   Y\n",
       "0  Jane Smith  28\n",
       "1    John Doe  35"
      ]
     },
     "metadata": {},
     "output_type": "display_data"
    },
    {
     "data": {
      "text/html": [
       "<div>\n",
       "<style scoped>\n",
       "    .dataframe tbody tr th:only-of-type {\n",
       "        vertical-align: middle;\n",
       "    }\n",
       "\n",
       "    .dataframe tbody tr th {\n",
       "        vertical-align: top;\n",
       "    }\n",
       "\n",
       "    .dataframe thead th {\n",
       "        text-align: right;\n",
       "    }\n",
       "</style>\n",
       "<table border=\"1\" class=\"dataframe\">\n",
       "  <thead>\n",
       "    <tr style=\"text-align: right;\">\n",
       "      <th></th>\n",
       "      <th>X</th>\n",
       "      <th>Y</th>\n",
       "    </tr>\n",
       "  </thead>\n",
       "  <tbody>\n",
       "    <tr>\n",
       "      <th>0</th>\n",
       "      <td>Jane Smith</td>\n",
       "      <td>28</td>\n",
       "    </tr>\n",
       "    <tr>\n",
       "      <th>1</th>\n",
       "      <td>John Doe</td>\n",
       "      <td>30</td>\n",
       "    </tr>\n",
       "    <tr>\n",
       "      <th>2</th>\n",
       "      <td>John Doe</td>\n",
       "      <td>35</td>\n",
       "    </tr>\n",
       "  </tbody>\n",
       "</table>\n",
       "</div>"
      ],
      "text/plain": [
       "            X   Y\n",
       "0  Jane Smith  28\n",
       "1    John Doe  30\n",
       "2    John Doe  35"
      ]
     },
     "metadata": {},
     "output_type": "display_data"
    }
   ],
   "source": [
    "sess = Session()\n",
    "df1 = pd.DataFrame([['John Doe', 35],['Jane Smith', 28]],columns=['X','Y'])\n",
    "df2 = pd.DataFrame([['John Doe', 30]],columns=['X','Y'])\n",
    "\n",
    "sess.import_rel(\"AgeOfKids\",df1)\n",
    "display.display(sess.export(\"?AgeOfKids(X,Y)\"))\n",
    "sess.import_rel(\"AgeOfKids\",df2)\n",
    "display.display(sess.export(\"?AgeOfKids(X,Y)\"))"
   ]
  },
  {
   "cell_type": "code",
   "execution_count": null,
   "metadata": {},
   "outputs": [],
   "source": [
    "#|hide\n",
    "import nbdev; nbdev.nbdev_export()\n",
    "     "
   ]
  }
 ],
 "metadata": {
  "kernelspec": {
   "display_name": "python3",
   "language": "python",
   "name": "python3"
  }
 },
 "nbformat": 4,
 "nbformat_minor": 4
}
