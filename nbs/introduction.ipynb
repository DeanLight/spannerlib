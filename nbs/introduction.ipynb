{
 "cells": [
  {
   "cell_type": "markdown",
   "metadata": {},
   "source": [
    "# Introduction"
   ]
  },
  {
   "cell_type": "markdown",
   "metadata": {},
   "source": [
    ":::{.callout-note}\n",
    "this project is built with nbdev, which is a full literate programming environment built on Jupyter Notebooks. That means that every piece of documentation, including the page you’re reading now, can be accessed as interactive Jupyter notebook. <br>\n",
    "[![Open In Colab](https://colab.research.google.com/assets/colab-badge.svg)](https://colab.research.google.com/github/DeanLight/spannerlib/blob/master/nbs/introduction.ipynb)\n",
    ":::"
   ]
  },
  {
   "cell_type": "markdown",
   "metadata": {},
   "source": [
    "## Using spannerlog"
   ]
  },
  {
   "cell_type": "code",
   "execution_count": null,
   "metadata": {},
   "outputs": [],
   "source": [
    "#| hide\n",
    "# TODO split the into into sections\n",
    "\n",
    "# spannerlog is similar to datalog (also type safe)\n",
    "\n",
    "# extensions:\n",
    "# - variables for readability\n",
    "#   - including reading from files\n",
    "# - ie functions\n",
    "# - aggregations\n",
    "\n",
    "# communication between spannerlog and python\n",
    "# - calling spannerlog code programatically\n",
    "# - importing relations to spannerlog from python\n",
    "# - adding ie functions to spannerlog"
   ]
  },
  {
   "cell_type": "markdown",
   "metadata": {},
   "source": [
    "### Installation"
   ]
  },
  {
   "cell_type": "markdown",
   "metadata": {},
   "source": [
    "prerequisites:\n",
    "\n",
    "* Have [Python](https://www.python.org/downloads/) version 3.8 or above installed\n",
    "\n",
    "To download and install spannerlog run the following commands in your terminal:\n",
    "\n",
    "```bash\n",
    "git clone https://github.com/DeanLight/spannerlib\n",
    "cd spannerlib\n",
    "pip install . \n",
    "```"
   ]
  },
  {
   "cell_type": "markdown",
   "metadata": {},
   "source": [
    "Make sure you are calling the pip version of your current python environment.\n",
    "To install with another python interpreter, run"
   ]
  },
  {
   "cell_type": "markdown",
   "metadata": {},
   "source": [
    "```bash\n",
    "<path_to_python_interpreter> -m pip install .\n",
    "```"
   ]
  },
  {
   "cell_type": "markdown",
   "metadata": {},
   "source": [
    "You can also install spannerlog in the current Jupyter kernel:\n",
    "<!-- #endregion -->"
   ]
  },
  {
   "cell_type": "markdown",
   "metadata": {},
   "source": [
    "```python\n",
    "!git clone https://github.com/DeanLight/spannerlib\n",
    "!pip install spannerlib\n",
    "```"
   ]
  },
  {
   "cell_type": "markdown",
   "metadata": {},
   "source": [
    "In order to use spannerlog in jupyter notebooks, you must first load it:\n"
   ]
  },
  {
   "cell_type": "code",
   "execution_count": null,
   "metadata": {},
   "outputs": [],
   "source": [
    "#| output: false\n",
    "import spannerlib"
   ]
  },
  {
   "cell_type": "markdown",
   "metadata": {},
   "source": [
    "Importing the spannerlog library automatically loads the `%spannerlog` and `%%spannerlog` cell magics which accepts spannerlog queries as shown below.\n",
    "\n",
    "use `%spannerlog` to run a single line, and `%%spannerlog` to run a block of code:"
   ]
  },
  {
   "cell_type": "code",
   "execution_count": null,
   "metadata": {},
   "outputs": [
    {
     "name": "stdout",
     "output_type": "stream",
     "text": [
      "this is python code\n"
     ]
    }
   ],
   "source": [
    "%spannerlog new relation(str)\n",
    "print(\"this is python code\")"
   ]
  },
  {
   "cell_type": "code",
   "execution_count": null,
   "metadata": {},
   "outputs": [
    {
     "data": {
      "text/plain": [
       "'?uncle(X,Y)'"
      ]
     },
     "metadata": {},
     "output_type": "display_data"
    },
    {
     "data": {
      "text/html": [
       "<div>\n",
       "<style scoped>\n",
       "    .dataframe tbody tr th:only-of-type {\n",
       "        vertical-align: middle;\n",
       "    }\n",
       "\n",
       "    .dataframe tbody tr th {\n",
       "        vertical-align: top;\n",
       "    }\n",
       "\n",
       "    .dataframe thead th {\n",
       "        text-align: right;\n",
       "    }\n",
       "</style>\n",
       "<table border=\"1\" class=\"dataframe\">\n",
       "  <thead>\n",
       "    <tr style=\"text-align: right;\">\n",
       "      <th></th>\n",
       "      <th>X</th>\n",
       "      <th>Y</th>\n",
       "    </tr>\n",
       "  </thead>\n",
       "  <tbody>\n",
       "    <tr>\n",
       "      <th>0</th>\n",
       "      <td>bob</td>\n",
       "      <td>greg</td>\n",
       "    </tr>\n",
       "  </tbody>\n",
       "</table>\n",
       "</div>"
      ],
      "text/plain": [
       "     X     Y\n",
       "0  bob  greg"
      ]
     },
     "metadata": {},
     "output_type": "display_data"
    }
   ],
   "source": [
    "%%spannerlog\n",
    "new uncle(str, str)\n",
    "uncle(\"bob\", \"greg\")\n",
    "?uncle(X,Y)"
   ]
  },
  {
   "cell_type": "markdown",
   "metadata": {},
   "source": [
    "# Local and free variables<a class=\"anchor\" id=\"local_and_free_vars\"></a>\n",
    "\n",
    "spannerlog distinguishes two kinds of variables.\n",
    "\n",
    "The first kind are local variables. These are variables that store a single value (e.g. string). They work similarly to variables in python. A local variable must be defined via assignment before being used.\n",
    "\n",
    "A local variable name must begin with a lowercase letter or with an underscore (_), and can be continued with letters, digits and underscores\n",
    "\n",
    "Here are some examples for legal local variable names:\n",
    "* `a`\n",
    "* `a_name123`\n",
    "* `_Some_STRING`\n",
    "\n",
    "And here are some illegal local variable names:\n",
    "* `A`\n",
    "* `A_name`\n",
    "* `1_a`\n",
    "\n",
    "\n",
    "The second kind of variables are free variables. Free variables do not hold any value and are used to define relations inside [queries](#queries) and [rules](#rules). Free variables do not need to be declared or defined before being used.\n",
    "\n",
    "A free variable name must begin with an uppercase letter and can be continued with letters, digits and underscores\n",
    "\n",
    "Here are some examples for legal free variable names:\n",
    "* `A`\n",
    "* `A_name`\n",
    "\n",
    "And here are some illegal free variable names:\n",
    "* `a`\n",
    "* `a_name`\n",
    "* `_Some_STRING`\n",
    "* `1A`\n"
   ]
  },
  {
   "cell_type": "markdown",
   "metadata": {},
   "source": [
    "# Local variable assignment<a class=\"anchor\" id=\"local_var_assignment\"></a>\n",
    "spannerlog allows you to use three types of variables: strings, integers and spans.\n",
    "The assignment of a string is intuitive:"
   ]
  },
  {
   "cell_type": "code",
   "execution_count": null,
   "metadata": {},
   "outputs": [],
   "source": [
    "%%spannerlog\n",
    "b = \"bob\"\n",
    "b2 = b #r b2's value is \"bob\"\n",
    "# you can write multiline strings using a line overflow escape like in python\n",
    "b3 = \"this is a multiline  \\\n",
    "string\"\n",
    "b4 = \"this is a multiline string\" # b4 holds the same value as b3"
   ]
  },
  {
   "cell_type": "markdown",
   "metadata": {},
   "source": [
    "The assignment of integers is also very simple:"
   ]
  },
  {
   "cell_type": "code",
   "execution_count": null,
   "metadata": {},
   "outputs": [],
   "source": [
    "%%spannerlog\n",
    "n = 4\n",
    "n2 = n # n2 = 4"
   ]
  },
  {
   "cell_type": "markdown",
   "metadata": {},
   "source": [
    " A span identifies a substring of a string by specifying its bounding indices. It is constructed from two integers.\n",
    " You can assign a span value like this:"
   ]
  },
  {
   "cell_type": "code",
   "execution_count": null,
   "metadata": {},
   "outputs": [],
   "source": [
    "%%spannerlog\n",
    "span1 = [3,7)\n",
    "span2 = span1 # span2 value is [3,7)"
   ]
  },
  {
   "cell_type": "markdown",
   "metadata": {},
   "source": [
    "# Reading from a file<a class=\"anchor\" id=\"read_a_file\"></a>\n",
    "You can also perform a string assignment by reading from a file. You will need to provide a path to a file by either using a string literal or a string variable:"
   ]
  },
  {
   "cell_type": "code",
   "execution_count": null,
   "metadata": {},
   "outputs": [],
   "source": [
    "%%spannerlog\n",
    "a = read(\"../README.md\")\n",
    "b = \"../README.md\" \n",
    "c = read(b) # c holds the same string value as a"
   ]
  },
  {
   "cell_type": "markdown",
   "metadata": {},
   "source": [
    "# Declaring a relation<a class=\"anchor\" id=\"declare_relations\"></a>\n",
    "spannerlog allows you to define and query relations.\n",
    "You have to declare a relation before you can use it (unless you define it with a rule as we'll see in the \"rules\" chapter). Each term in a relation could be a string, an integer or a span. Here are some examples for declaring relations:"
   ]
  },
  {
   "cell_type": "code",
   "execution_count": null,
   "metadata": {},
   "outputs": [],
   "source": [
    "%%spannerlog\n",
    "# 'brothers' is a relation with two string terms.\n",
    "new brothers(str, str)\n",
    "# 'confused' is a relation with one string term.\n",
    "new confused(str)\n",
    "# 'animal' is a relation with one string term and one span term \n",
    "new animal(str, span)\n",
    "# 'scores' is a relation with one string term and one int term\n",
    "new scores(str, int)"
   ]
  },
  {
   "cell_type": "markdown",
   "metadata": {},
   "source": [
    "Whenever a relation is defined, a corresponding empty table is created in the database. <br>\n",
    "The table has the same name as the relation, and its number of columns is equal to the number of variables in the relation."
   ]
  },
  {
   "cell_type": "markdown",
   "metadata": {},
   "source": [
    "# Facts<a class=\"anchor\" id=\"facts\"></a>\n",
    "spannerlog is an extension of Datalog, a declarative logic programming language. In Datalog you can declare \"facts\", essentially adding tuples to a relation. To do it you use the following syntax:\n",
    "\n",
    "```\n",
    "relation_name(term_1,term_2,...term_3)\n",
    "```\n",
    "\n",
    "or\n",
    "\n",
    "```\n",
    "relation_name(term_1,term_2,...term_3) <- True\n",
    "```\n",
    "\n",
    "where each `term` is either a constant or a local variable that is from the same variable type that was declared for `relation_name` at the same location.\n",
    "\n",
    "For example:"
   ]
  },
  {
   "cell_type": "code",
   "execution_count": null,
   "metadata": {},
   "outputs": [],
   "source": [
    "%%spannerlog\n",
    "# first declare the relation that you want to use\n",
    "new noun(str, span)\n",
    "# now you can add facts (tuples) to that relation\n",
    "# this span indicates that a noun \"Life\" can be found at indexes 0 to 3\n",
    "noun(\"Life finds a way\", [0,4)) \n",
    "# another example\n",
    "new sisters(str, str)\n",
    "sisters(\"alice\", \"rin\") <- True\n",
    "# sisters([0,4), \"rin\") # illegal as [0,4) is not a string"
   ]
  },
  {
   "cell_type": "markdown",
   "metadata": {},
   "source": [
    "You could also remove a fact using a similar syntax:\n",
    "\n",
    "```relation_name(term_1,term_2,...term_3) <- False```\n",
    "\n",
    "if a fact that you try to remove does not exist, the remove fact statement will be silently ignored\n",
    "\n",
    "\n",
    "```python\n",
    "%%spannerlog\n",
    "new goals(str, int)\n",
    "goals(\"kronovi\", 10)\n",
    "goals(\"kronovi\", 10) <- False  # 'goals' relation is now empty\n",
    "goals(\"kronovi\", 10) <- False  # this statement does nothing\n",
    "```"
   ]
  },
  {
   "cell_type": "markdown",
   "metadata": {},
   "source": [
    "When adding or removing facts from a relation, the relation's corresponding table in the database gets updated respectively"
   ]
  },
  {
   "cell_type": "markdown",
   "metadata": {},
   "source": [
    "# Rules<a class=\"anchor\" id=\"rules\"></a>\n",
    "Datalog allows you to deduce new tuples for a relation.\n",
    "spannerlog includes this feature as well:"
   ]
  },
  {
   "cell_type": "code",
   "execution_count": null,
   "metadata": {},
   "outputs": [],
   "source": [
    "%%spannerlog\n",
    "new parent(str ,str)\n",
    "parent(\"bob\", \"greg\")\n",
    "parent(\"greg\", \"alice\")\n",
    "# now add a rule that deduces that bob is a grandparent of alice\n",
    "grandparent(X,Z) <- parent(X,Y), parent(Y,Z) # ',' is a short hand to the 'and' operator"
   ]
  },
  {
   "cell_type": "markdown",
   "metadata": {},
   "source": [
    "spannerlog also supports recursive rules:"
   ]
  },
  {
   "cell_type": "code",
   "execution_count": null,
   "metadata": {},
   "outputs": [
    {
     "data": {
      "text/plain": [
       "'?ancestor(\"Liam\",X)'"
      ]
     },
     "metadata": {},
     "output_type": "display_data"
    },
    {
     "data": {
      "text/html": [
       "<div>\n",
       "<style scoped>\n",
       "    .dataframe tbody tr th:only-of-type {\n",
       "        vertical-align: middle;\n",
       "    }\n",
       "\n",
       "    .dataframe tbody tr th {\n",
       "        vertical-align: top;\n",
       "    }\n",
       "\n",
       "    .dataframe thead th {\n",
       "        text-align: right;\n",
       "    }\n",
       "</style>\n",
       "<table border=\"1\" class=\"dataframe\">\n",
       "  <thead>\n",
       "    <tr style=\"text-align: right;\">\n",
       "      <th></th>\n",
       "      <th>X</th>\n",
       "    </tr>\n",
       "  </thead>\n",
       "  <tbody>\n",
       "    <tr>\n",
       "      <th>2</th>\n",
       "      <td>Noah</td>\n",
       "    </tr>\n",
       "    <tr>\n",
       "      <th>8</th>\n",
       "      <td>Oliver</td>\n",
       "    </tr>\n",
       "    <tr>\n",
       "      <th>9</th>\n",
       "      <td>Benjamin</td>\n",
       "    </tr>\n",
       "    <tr>\n",
       "      <th>10</th>\n",
       "      <td>Mason</td>\n",
       "    </tr>\n",
       "  </tbody>\n",
       "</table>\n",
       "</div>"
      ],
      "text/plain": [
       "           X\n",
       "2       Noah\n",
       "8     Oliver\n",
       "9   Benjamin\n",
       "10     Mason"
      ]
     },
     "metadata": {},
     "output_type": "display_data"
    },
    {
     "data": {
      "text/plain": [
       "'?ancestor(X,\"Mason\")'"
      ]
     },
     "metadata": {},
     "output_type": "display_data"
    },
    {
     "data": {
      "text/html": [
       "<div>\n",
       "<style scoped>\n",
       "    .dataframe tbody tr th:only-of-type {\n",
       "        vertical-align: middle;\n",
       "    }\n",
       "\n",
       "    .dataframe tbody tr th {\n",
       "        vertical-align: top;\n",
       "    }\n",
       "\n",
       "    .dataframe thead th {\n",
       "        text-align: right;\n",
       "    }\n",
       "</style>\n",
       "<table border=\"1\" class=\"dataframe\">\n",
       "  <thead>\n",
       "    <tr style=\"text-align: right;\">\n",
       "      <th></th>\n",
       "      <th>X</th>\n",
       "    </tr>\n",
       "  </thead>\n",
       "  <tbody>\n",
       "    <tr>\n",
       "      <th>6</th>\n",
       "      <td>Benjamin</td>\n",
       "    </tr>\n",
       "    <tr>\n",
       "      <th>10</th>\n",
       "      <td>Liam</td>\n",
       "    </tr>\n",
       "    <tr>\n",
       "      <th>11</th>\n",
       "      <td>Noah</td>\n",
       "    </tr>\n",
       "  </tbody>\n",
       "</table>\n",
       "</div>"
      ],
      "text/plain": [
       "           X\n",
       "6   Benjamin\n",
       "10      Liam\n",
       "11      Noah"
      ]
     },
     "metadata": {},
     "output_type": "display_data"
    },
    {
     "data": {
      "text/plain": [
       "'?ancestor(\"Mason\",X)'"
      ]
     },
     "metadata": {},
     "output_type": "display_data"
    },
    {
     "data": {
      "text/html": [
       "<div>\n",
       "<style scoped>\n",
       "    .dataframe tbody tr th:only-of-type {\n",
       "        vertical-align: middle;\n",
       "    }\n",
       "\n",
       "    .dataframe tbody tr th {\n",
       "        vertical-align: top;\n",
       "    }\n",
       "\n",
       "    .dataframe thead th {\n",
       "        text-align: right;\n",
       "    }\n",
       "</style>\n",
       "<table border=\"1\" class=\"dataframe\">\n",
       "  <thead>\n",
       "    <tr style=\"text-align: right;\">\n",
       "      <th></th>\n",
       "      <th>X</th>\n",
       "    </tr>\n",
       "  </thead>\n",
       "  <tbody>\n",
       "  </tbody>\n",
       "</table>\n",
       "</div>"
      ],
      "text/plain": [
       "Empty DataFrame\n",
       "Columns: [X]\n",
       "Index: []"
      ]
     },
     "metadata": {},
     "output_type": "display_data"
    }
   ],
   "source": [
    "%%spannerlog\n",
    "parent(\"Liam\", \"Noah\")\n",
    "parent(\"Noah\", \"Oliver\")\n",
    "parent(\"James\", \"Lucas\")\n",
    "parent(\"Noah\", \"Benjamin\")\n",
    "parent(\"Benjamin\", \"Mason\")\n",
    "ancestor(X,Y) <- parent(X,Y)\n",
    "# This is a recursive rule\n",
    "ancestor(X,Y) <- parent(X,Z), ancestor(Z,Y)\n",
    "\n",
    "# Queries are explained in the next section\n",
    "?ancestor(\"Liam\", X)\n",
    "?ancestor(X, \"Mason\")\n",
    "?ancestor(\"Mason\", X)"
   ]
  },
  {
   "cell_type": "markdown",
   "metadata": {},
   "source": [
    "You could also remove a rule via the session:\n",
    "\n",
    "```magic_session.remove_rule(rule_to_delete)```\n",
    "\n",
    "note: the rule must be written exactly as it appears in the output of `print_all_rules`"
   ]
  },
  {
   "cell_type": "code",
   "execution_count": null,
   "metadata": {},
   "outputs": [
    {
     "data": {
      "text/plain": [
       "'?ancestor(X,Y)'"
      ]
     },
     "metadata": {},
     "output_type": "display_data"
    },
    {
     "data": {
      "text/html": [
       "<div>\n",
       "<style scoped>\n",
       "    .dataframe tbody tr th:only-of-type {\n",
       "        vertical-align: middle;\n",
       "    }\n",
       "\n",
       "    .dataframe tbody tr th {\n",
       "        vertical-align: top;\n",
       "    }\n",
       "\n",
       "    .dataframe thead th {\n",
       "        text-align: right;\n",
       "    }\n",
       "</style>\n",
       "<table border=\"1\" class=\"dataframe\">\n",
       "  <thead>\n",
       "    <tr style=\"text-align: right;\">\n",
       "      <th></th>\n",
       "      <th>X</th>\n",
       "      <th>Y</th>\n",
       "    </tr>\n",
       "  </thead>\n",
       "  <tbody>\n",
       "    <tr>\n",
       "      <th>0</th>\n",
       "      <td>bob</td>\n",
       "      <td>greg</td>\n",
       "    </tr>\n",
       "    <tr>\n",
       "      <th>1</th>\n",
       "      <td>greg</td>\n",
       "      <td>alice</td>\n",
       "    </tr>\n",
       "    <tr>\n",
       "      <th>2</th>\n",
       "      <td>Liam</td>\n",
       "      <td>Noah</td>\n",
       "    </tr>\n",
       "    <tr>\n",
       "      <th>3</th>\n",
       "      <td>Noah</td>\n",
       "      <td>Oliver</td>\n",
       "    </tr>\n",
       "    <tr>\n",
       "      <th>4</th>\n",
       "      <td>James</td>\n",
       "      <td>Lucas</td>\n",
       "    </tr>\n",
       "    <tr>\n",
       "      <th>5</th>\n",
       "      <td>Noah</td>\n",
       "      <td>Benjamin</td>\n",
       "    </tr>\n",
       "    <tr>\n",
       "      <th>6</th>\n",
       "      <td>Benjamin</td>\n",
       "      <td>Mason</td>\n",
       "    </tr>\n",
       "    <tr>\n",
       "      <th>7</th>\n",
       "      <td>bob</td>\n",
       "      <td>alice</td>\n",
       "    </tr>\n",
       "    <tr>\n",
       "      <th>8</th>\n",
       "      <td>Liam</td>\n",
       "      <td>Oliver</td>\n",
       "    </tr>\n",
       "    <tr>\n",
       "      <th>9</th>\n",
       "      <td>Liam</td>\n",
       "      <td>Benjamin</td>\n",
       "    </tr>\n",
       "    <tr>\n",
       "      <th>10</th>\n",
       "      <td>Liam</td>\n",
       "      <td>Mason</td>\n",
       "    </tr>\n",
       "    <tr>\n",
       "      <th>11</th>\n",
       "      <td>Noah</td>\n",
       "      <td>Mason</td>\n",
       "    </tr>\n",
       "    <tr>\n",
       "      <th>12</th>\n",
       "      <td>Drake</td>\n",
       "      <td>Josh</td>\n",
       "    </tr>\n",
       "  </tbody>\n",
       "</table>\n",
       "</div>"
      ],
      "text/plain": [
       "           X         Y\n",
       "0        bob      greg\n",
       "1       greg     alice\n",
       "2       Liam      Noah\n",
       "3       Noah    Oliver\n",
       "4      James     Lucas\n",
       "5       Noah  Benjamin\n",
       "6   Benjamin     Mason\n",
       "7        bob     alice\n",
       "8       Liam    Oliver\n",
       "9       Liam  Benjamin\n",
       "10      Liam     Mason\n",
       "11      Noah     Mason\n",
       "12     Drake      Josh"
      ]
     },
     "metadata": {},
     "output_type": "display_data"
    }
   ],
   "source": [
    "%%spannerlog\n",
    "confused(\"Josh\")\n",
    "brothers(\"Drake\", \"Josh\")\n",
    "\n",
    "# oops! this rule was added by mistake!\n",
    "ancestor(X, Y) <- brothers(X, Y), confused(Y)\n",
    "\n",
    "?ancestor(X,Y)"
   ]
  },
  {
   "cell_type": "code",
   "execution_count": null,
   "metadata": {},
   "outputs": [
    {
     "name": "stdout",
     "output_type": "stream",
     "text": [
      "before:\n",
      "grandparent(X,Z) <- parent(X,Y),parent(Y,Z)\n",
      "ancestor(X,Y) <- parent(X,Y)\n",
      "ancestor(X,Y) <- parent(X,Z),ancestor(Z,Y)\n",
      "ancestor(X,Y) <- brothers(X,Y),confused(Y)\n",
      "after:\n",
      "grandparent(X,Z) <- parent(X,Y),parent(Y,Z)\n",
      "ancestor(X,Y) <- parent(X,Y)\n",
      "ancestor(X,Y) <- parent(X,Z),ancestor(Z,Y)\n"
     ]
    }
   ],
   "source": [
    "from spannerlib import MagicSession\n",
    "magic_session = MagicSession().session# TODO change this to getmagic and setmagic functions\n",
    "print (\"before:\")\n",
    "_ = magic_session.print_rules()\n",
    "magic_session.remove_rule(\"ancestor(X,Y) <- brothers(X,Y),confused(Y)\")\n",
    "\n",
    "print (\"after:\")\n",
    "_ = magic_session.print_rules()\n"
   ]
  },
  {
   "cell_type": "markdown",
   "metadata": {},
   "source": [
    "Currently, to remove a rule, you must give the exact code string that is printed by the session, whitespaces and different variable names are not recognized."
   ]
  },
  {
   "cell_type": "code",
   "execution_count": null,
   "metadata": {},
   "outputs": [
    {
     "data": {
      "text/plain": [
       "'?ancestor(X,Y)'"
      ]
     },
     "metadata": {},
     "output_type": "display_data"
    },
    {
     "data": {
      "text/html": [
       "<div>\n",
       "<style scoped>\n",
       "    .dataframe tbody tr th:only-of-type {\n",
       "        vertical-align: middle;\n",
       "    }\n",
       "\n",
       "    .dataframe tbody tr th {\n",
       "        vertical-align: top;\n",
       "    }\n",
       "\n",
       "    .dataframe thead th {\n",
       "        text-align: right;\n",
       "    }\n",
       "</style>\n",
       "<table border=\"1\" class=\"dataframe\">\n",
       "  <thead>\n",
       "    <tr style=\"text-align: right;\">\n",
       "      <th></th>\n",
       "      <th>X</th>\n",
       "      <th>Y</th>\n",
       "    </tr>\n",
       "  </thead>\n",
       "  <tbody>\n",
       "    <tr>\n",
       "      <th>0</th>\n",
       "      <td>bob</td>\n",
       "      <td>greg</td>\n",
       "    </tr>\n",
       "    <tr>\n",
       "      <th>1</th>\n",
       "      <td>greg</td>\n",
       "      <td>alice</td>\n",
       "    </tr>\n",
       "    <tr>\n",
       "      <th>2</th>\n",
       "      <td>Liam</td>\n",
       "      <td>Noah</td>\n",
       "    </tr>\n",
       "    <tr>\n",
       "      <th>3</th>\n",
       "      <td>Noah</td>\n",
       "      <td>Oliver</td>\n",
       "    </tr>\n",
       "    <tr>\n",
       "      <th>4</th>\n",
       "      <td>James</td>\n",
       "      <td>Lucas</td>\n",
       "    </tr>\n",
       "    <tr>\n",
       "      <th>5</th>\n",
       "      <td>Noah</td>\n",
       "      <td>Benjamin</td>\n",
       "    </tr>\n",
       "    <tr>\n",
       "      <th>6</th>\n",
       "      <td>Benjamin</td>\n",
       "      <td>Mason</td>\n",
       "    </tr>\n",
       "    <tr>\n",
       "      <th>7</th>\n",
       "      <td>bob</td>\n",
       "      <td>alice</td>\n",
       "    </tr>\n",
       "    <tr>\n",
       "      <th>8</th>\n",
       "      <td>Liam</td>\n",
       "      <td>Oliver</td>\n",
       "    </tr>\n",
       "    <tr>\n",
       "      <th>9</th>\n",
       "      <td>Liam</td>\n",
       "      <td>Benjamin</td>\n",
       "    </tr>\n",
       "    <tr>\n",
       "      <th>10</th>\n",
       "      <td>Liam</td>\n",
       "      <td>Mason</td>\n",
       "    </tr>\n",
       "    <tr>\n",
       "      <th>11</th>\n",
       "      <td>Noah</td>\n",
       "      <td>Mason</td>\n",
       "    </tr>\n",
       "  </tbody>\n",
       "</table>\n",
       "</div>"
      ],
      "text/plain": [
       "           X         Y\n",
       "0        bob      greg\n",
       "1       greg     alice\n",
       "2       Liam      Noah\n",
       "3       Noah    Oliver\n",
       "4      James     Lucas\n",
       "5       Noah  Benjamin\n",
       "6   Benjamin     Mason\n",
       "7        bob     alice\n",
       "8       Liam    Oliver\n",
       "9       Liam  Benjamin\n",
       "10      Liam     Mason\n",
       "11      Noah     Mason"
      ]
     },
     "metadata": {},
     "output_type": "display_data"
    }
   ],
   "source": [
    "%%spannerlog\n",
    "?ancestor(X,Y)"
   ]
  },
  {
   "cell_type": "markdown",
   "metadata": {},
   "source": [
    "success! the rule was deleted - Drake and Josh are no longer part of the `?ancestor` query result"
   ]
  },
  {
   "cell_type": "markdown",
   "metadata": {},
   "source": [
    "In addition you can use `remove_all_rules` to remove all the rules (it won't affect the facts).<br>\n",
    "You can pass rule head paraemetr to remove all the rules related to it."
   ]
  },
  {
   "cell_type": "code",
   "execution_count": null,
   "metadata": {},
   "outputs": [
    {
     "name": "stdout",
     "output_type": "stream",
     "text": [
      "after removing all rules:\n"
     ]
    },
    {
     "ename": "Exception",
     "evalue": "During execution of statement \n\"?parent(X,Y)\n\"the following exception was raised:\nSource parent not in G\n",
     "output_type": "error",
     "traceback": [
      "\u001b[0;31m---------------------------------------------------------------------------\u001b[0m",
      "\u001b[0;31mNodeNotFound\u001b[0m                              Traceback (most recent call last)",
      "File \u001b[0;32m~/tdk/spannerlib/spannerlib/session.py:183\u001b[0m, in \u001b[0;36mSession.export\u001b[0;34m(self, code, display_results)\u001b[0m\n\u001b[1;32m    182\u001b[0m \u001b[38;5;28;01mtry\u001b[39;00m:\n\u001b[0;32m--> 183\u001b[0m     result \u001b[38;5;241m=\u001b[39m \u001b[43mexecute_statement\u001b[49m\u001b[43m(\u001b[49m\u001b[43mclean_ast\u001b[49m\u001b[43m,\u001b[49m\u001b[38;5;28;43mself\u001b[39;49m\u001b[38;5;241;43m.\u001b[39;49m\u001b[43mengine\u001b[49m\u001b[43m)\u001b[49m\n\u001b[1;32m    184\u001b[0m     result \u001b[38;5;241m=\u001b[39m \u001b[38;5;28mself\u001b[39m\u001b[38;5;241m.\u001b[39mhandle_boolean_results(result)\n",
      "File \u001b[0;32m~/tdk/spannerlib/spannerlib/micro_passes.py:421\u001b[0m, in \u001b[0;36mexecute_statement\u001b[0;34m(ast, engine)\u001b[0m\n\u001b[1;32m    420\u001b[0m \u001b[38;5;28;01mcase\u001b[39;00m \u001b[38;5;124m'\u001b[39m\u001b[38;5;124mquery\u001b[39m\u001b[38;5;124m'\u001b[39m:\n\u001b[0;32m--> 421\u001b[0m     \u001b[38;5;28;01mreturn\u001b[39;00m \u001b[43mengine\u001b[49m\u001b[38;5;241;43m.\u001b[39;49m\u001b[43mrun_query\u001b[49m\u001b[43m(\u001b[49m\u001b[43mvalue\u001b[49m\u001b[43m)\u001b[49m\n\u001b[1;32m    422\u001b[0m \u001b[38;5;28;01mcase\u001b[39;00m\u001b[38;5;250m \u001b[39m\u001b[38;5;28;01m_\u001b[39;00m:\n",
      "File \u001b[0;32m~/tdk/spannerlib/spannerlib/engine.py:241\u001b[0m, in \u001b[0;36mEngine.run_query\u001b[0;34m(self, q, rewrites, return_intermediate)\u001b[0m\n\u001b[1;32m    240\u001b[0m \u001b[38;5;28;01mdef\u001b[39;00m \u001b[38;5;21mrun_query\u001b[39m(\u001b[38;5;28mself\u001b[39m,q:Relation,rewrites\u001b[38;5;241m=\u001b[39m\u001b[38;5;28;01mNone\u001b[39;00m,return_intermediate\u001b[38;5;241m=\u001b[39m\u001b[38;5;28;01mFalse\u001b[39;00m):\n\u001b[0;32m--> 241\u001b[0m     query_graph,root_node \u001b[38;5;241m=\u001b[39m \u001b[38;5;28;43mself\u001b[39;49m\u001b[38;5;241;43m.\u001b[39;49m\u001b[43mplan_query\u001b[49m\u001b[43m(\u001b[49m\u001b[43mq\u001b[49m\u001b[43m,\u001b[49m\u001b[43mrewrites\u001b[49m\u001b[43m)\u001b[49m\n\u001b[1;32m    242\u001b[0m     \u001b[38;5;28;01mreturn\u001b[39;00m \u001b[38;5;28mself\u001b[39m\u001b[38;5;241m.\u001b[39mexecute_plan(query_graph,root_node,return_intermediate\u001b[38;5;241m=\u001b[39mreturn_intermediate)\n",
      "File \u001b[0;32m~/tdk/spannerlib/spannerlib/engine.py:223\u001b[0m, in \u001b[0;36mEngine.plan_query\u001b[0;34m(self, q_rel, rewrites)\u001b[0m\n\u001b[1;32m    222\u001b[0m root_node \u001b[38;5;241m=\u001b[39m q_rel\u001b[38;5;241m.\u001b[39mname\n\u001b[0;32m--> 223\u001b[0m connected_nodes \u001b[38;5;241m=\u001b[39m \u001b[38;5;28mlist\u001b[39m(\u001b[43mnx\u001b[49m\u001b[38;5;241;43m.\u001b[39;49m\u001b[43mshortest_path\u001b[49m\u001b[43m(\u001b[49m\u001b[43mquery_graph\u001b[49m\u001b[43m,\u001b[49m\u001b[43mroot_node\u001b[49m\u001b[43m)\u001b[49m\u001b[38;5;241m.\u001b[39mkeys())\n\u001b[1;32m    224\u001b[0m query_graph \u001b[38;5;241m=\u001b[39m nx\u001b[38;5;241m.\u001b[39mDiGraph(nx\u001b[38;5;241m.\u001b[39msubgraph(query_graph,connected_nodes))\n",
      "File \u001b[0;32m<class 'networkx.utils.decorators.argmap'> compilation 4:3\u001b[0m, in \u001b[0;36margmap_shortest_path_1\u001b[0;34m(G, source, target, weight, method, backend, **backend_kwargs)\u001b[0m\n\u001b[1;32m      2\u001b[0m \u001b[38;5;28;01mimport\u001b[39;00m \u001b[38;5;21;01mcollections\u001b[39;00m\n\u001b[0;32m----> 3\u001b[0m \u001b[38;5;28;01mimport\u001b[39;00m \u001b[38;5;21;01mgzip\u001b[39;00m\n\u001b[1;32m      4\u001b[0m \u001b[38;5;28;01mimport\u001b[39;00m \u001b[38;5;21;01minspect\u001b[39;00m\n",
      "File \u001b[0;32m~/miniconda3/envs/span/lib/python3.11/site-packages/networkx/utils/backends.py:633\u001b[0m, in \u001b[0;36m_dispatchable.__call__\u001b[0;34m(self, backend, *args, **kwargs)\u001b[0m\n\u001b[1;32m    631\u001b[0m \u001b[38;5;28;01mif\u001b[39;00m \u001b[38;5;129;01mnot\u001b[39;00m backends:\n\u001b[1;32m    632\u001b[0m     \u001b[38;5;66;03m# Fast path if no backends are installed\u001b[39;00m\n\u001b[0;32m--> 633\u001b[0m     \u001b[38;5;28;01mreturn\u001b[39;00m \u001b[38;5;28;43mself\u001b[39;49m\u001b[38;5;241;43m.\u001b[39;49m\u001b[43morig_func\u001b[49m\u001b[43m(\u001b[49m\u001b[38;5;241;43m*\u001b[39;49m\u001b[43margs\u001b[49m\u001b[43m,\u001b[49m\u001b[43m \u001b[49m\u001b[38;5;241;43m*\u001b[39;49m\u001b[38;5;241;43m*\u001b[39;49m\u001b[43mkwargs\u001b[49m\u001b[43m)\u001b[49m\n\u001b[1;32m    635\u001b[0m \u001b[38;5;66;03m# Use `backend_name` in this function instead of `backend`\u001b[39;00m\n",
      "File \u001b[0;32m~/miniconda3/envs/span/lib/python3.11/site-packages/networkx/algorithms/shortest_paths/generic.py:174\u001b[0m, in \u001b[0;36mshortest_path\u001b[0;34m(G, source, target, weight, method)\u001b[0m\n\u001b[1;32m    173\u001b[0m \u001b[38;5;28;01mif\u001b[39;00m method \u001b[38;5;241m==\u001b[39m \u001b[38;5;124m\"\u001b[39m\u001b[38;5;124munweighted\u001b[39m\u001b[38;5;124m\"\u001b[39m:\n\u001b[0;32m--> 174\u001b[0m     paths \u001b[38;5;241m=\u001b[39m \u001b[43mnx\u001b[49m\u001b[38;5;241;43m.\u001b[39;49m\u001b[43msingle_source_shortest_path\u001b[49m\u001b[43m(\u001b[49m\u001b[43mG\u001b[49m\u001b[43m,\u001b[49m\u001b[43m \u001b[49m\u001b[43msource\u001b[49m\u001b[43m)\u001b[49m\n\u001b[1;32m    175\u001b[0m \u001b[38;5;28;01melif\u001b[39;00m method \u001b[38;5;241m==\u001b[39m \u001b[38;5;124m\"\u001b[39m\u001b[38;5;124mdijkstra\u001b[39m\u001b[38;5;124m\"\u001b[39m:\n",
      "File \u001b[0;32m<class 'networkx.utils.decorators.argmap'> compilation 8:3\u001b[0m, in \u001b[0;36margmap_single_source_shortest_path_5\u001b[0;34m(G, source, cutoff, backend, **backend_kwargs)\u001b[0m\n\u001b[1;32m      2\u001b[0m \u001b[38;5;28;01mimport\u001b[39;00m \u001b[38;5;21;01mcollections\u001b[39;00m\n\u001b[0;32m----> 3\u001b[0m \u001b[38;5;28;01mimport\u001b[39;00m \u001b[38;5;21;01mgzip\u001b[39;00m\n\u001b[1;32m      4\u001b[0m \u001b[38;5;28;01mimport\u001b[39;00m \u001b[38;5;21;01minspect\u001b[39;00m\n",
      "File \u001b[0;32m~/miniconda3/envs/span/lib/python3.11/site-packages/networkx/utils/backends.py:633\u001b[0m, in \u001b[0;36m_dispatchable.__call__\u001b[0;34m(self, backend, *args, **kwargs)\u001b[0m\n\u001b[1;32m    631\u001b[0m \u001b[38;5;28;01mif\u001b[39;00m \u001b[38;5;129;01mnot\u001b[39;00m backends:\n\u001b[1;32m    632\u001b[0m     \u001b[38;5;66;03m# Fast path if no backends are installed\u001b[39;00m\n\u001b[0;32m--> 633\u001b[0m     \u001b[38;5;28;01mreturn\u001b[39;00m \u001b[38;5;28;43mself\u001b[39;49m\u001b[38;5;241;43m.\u001b[39;49m\u001b[43morig_func\u001b[49m\u001b[43m(\u001b[49m\u001b[38;5;241;43m*\u001b[39;49m\u001b[43margs\u001b[49m\u001b[43m,\u001b[49m\u001b[43m \u001b[49m\u001b[38;5;241;43m*\u001b[39;49m\u001b[38;5;241;43m*\u001b[39;49m\u001b[43mkwargs\u001b[49m\u001b[43m)\u001b[49m\n\u001b[1;32m    635\u001b[0m \u001b[38;5;66;03m# Use `backend_name` in this function instead of `backend`\u001b[39;00m\n",
      "File \u001b[0;32m~/miniconda3/envs/span/lib/python3.11/site-packages/networkx/algorithms/shortest_paths/unweighted.py:357\u001b[0m, in \u001b[0;36msingle_source_shortest_path\u001b[0;34m(G, source, cutoff)\u001b[0m\n\u001b[1;32m    356\u001b[0m \u001b[38;5;28;01mif\u001b[39;00m source \u001b[38;5;129;01mnot\u001b[39;00m \u001b[38;5;129;01min\u001b[39;00m G:\n\u001b[0;32m--> 357\u001b[0m     \u001b[38;5;28;01mraise\u001b[39;00m nx\u001b[38;5;241m.\u001b[39mNodeNotFound(\u001b[38;5;124mf\u001b[39m\u001b[38;5;124m\"\u001b[39m\u001b[38;5;124mSource \u001b[39m\u001b[38;5;132;01m{\u001b[39;00msource\u001b[38;5;132;01m}\u001b[39;00m\u001b[38;5;124m not in G\u001b[39m\u001b[38;5;124m\"\u001b[39m)\n\u001b[1;32m    359\u001b[0m \u001b[38;5;28;01mdef\u001b[39;00m \u001b[38;5;21mjoin\u001b[39m(p1, p2):\n",
      "\u001b[0;31mNodeNotFound\u001b[0m: Source parent not in G",
      "\nDuring handling of the above exception, another exception occurred:\n",
      "\u001b[0;31mException\u001b[0m                                 Traceback (most recent call last)",
      "Cell \u001b[0;32mIn[17], line 6\u001b[0m\n\u001b[1;32m      3\u001b[0m magic_session\u001b[38;5;241m.\u001b[39mprint_rules()\n\u001b[1;32m      5\u001b[0m \u001b[38;5;66;03m# facts are not affected...\u001b[39;00m\n\u001b[0;32m----> 6\u001b[0m \u001b[43mget_ipython\u001b[49m\u001b[43m(\u001b[49m\u001b[43m)\u001b[49m\u001b[38;5;241;43m.\u001b[39;49m\u001b[43mrun_line_magic\u001b[49m\u001b[43m(\u001b[49m\u001b[38;5;124;43m'\u001b[39;49m\u001b[38;5;124;43mspannerlog\u001b[39;49m\u001b[38;5;124;43m'\u001b[39;49m\u001b[43m,\u001b[49m\u001b[43m \u001b[49m\u001b[38;5;124;43m'\u001b[39;49m\u001b[38;5;124;43m?parent(X, Y)\u001b[39;49m\u001b[38;5;124;43m'\u001b[39;49m\u001b[43m)\u001b[49m\n",
      "File \u001b[0;32m~/miniconda3/envs/span/lib/python3.11/site-packages/IPython/core/interactiveshell.py:2480\u001b[0m, in \u001b[0;36mInteractiveShell.run_line_magic\u001b[0;34m(self, magic_name, line, _stack_depth)\u001b[0m\n\u001b[1;32m   2478\u001b[0m     kwargs[\u001b[38;5;124m'\u001b[39m\u001b[38;5;124mlocal_ns\u001b[39m\u001b[38;5;124m'\u001b[39m] \u001b[38;5;241m=\u001b[39m \u001b[38;5;28mself\u001b[39m\u001b[38;5;241m.\u001b[39mget_local_scope(stack_depth)\n\u001b[1;32m   2479\u001b[0m \u001b[38;5;28;01mwith\u001b[39;00m \u001b[38;5;28mself\u001b[39m\u001b[38;5;241m.\u001b[39mbuiltin_trap:\n\u001b[0;32m-> 2480\u001b[0m     result \u001b[38;5;241m=\u001b[39m \u001b[43mfn\u001b[49m\u001b[43m(\u001b[49m\u001b[38;5;241;43m*\u001b[39;49m\u001b[43margs\u001b[49m\u001b[43m,\u001b[49m\u001b[43m \u001b[49m\u001b[38;5;241;43m*\u001b[39;49m\u001b[38;5;241;43m*\u001b[39;49m\u001b[43mkwargs\u001b[49m\u001b[43m)\u001b[49m\n\u001b[1;32m   2482\u001b[0m \u001b[38;5;66;03m# The code below prevents the output from being displayed\u001b[39;00m\n\u001b[1;32m   2483\u001b[0m \u001b[38;5;66;03m# when using magics with decorator @output_can_be_silenced\u001b[39;00m\n\u001b[1;32m   2484\u001b[0m \u001b[38;5;66;03m# when the last Python token in the expression is a ';'.\u001b[39;00m\n\u001b[1;32m   2485\u001b[0m \u001b[38;5;28;01mif\u001b[39;00m \u001b[38;5;28mgetattr\u001b[39m(fn, magic\u001b[38;5;241m.\u001b[39mMAGIC_OUTPUT_CAN_BE_SILENCED, \u001b[38;5;28;01mFalse\u001b[39;00m):\n",
      "File \u001b[0;32m~/tdk/spannerlib/spannerlib/magic.py:35\u001b[0m, in \u001b[0;36mspannerlogMagic.spannerlog\u001b[0;34m(self, line, cell)\u001b[0m\n\u001b[1;32m     31\u001b[0m magic_session \u001b[38;5;241m=\u001b[39m MagicSession()\u001b[38;5;241m.\u001b[39msession\n\u001b[1;32m     33\u001b[0m code \u001b[38;5;241m=\u001b[39m cell \u001b[38;5;28;01mif\u001b[39;00m cell \u001b[38;5;28;01melse\u001b[39;00m line\n\u001b[0;32m---> 35\u001b[0m _ \u001b[38;5;241m=\u001b[39m \u001b[43mmagic_session\u001b[49m\u001b[38;5;241;43m.\u001b[39;49m\u001b[43mexport\u001b[49m\u001b[43m(\u001b[49m\u001b[43mcode\u001b[49m\u001b[43m,\u001b[49m\u001b[43mdisplay_results\u001b[49m\u001b[38;5;241;43m=\u001b[39;49m\u001b[38;5;28;43;01mTrue\u001b[39;49;00m\u001b[43m)\u001b[49m\n",
      "File \u001b[0;32m~/tdk/spannerlib/spannerlib/session.py:186\u001b[0m, in \u001b[0;36mSession.export\u001b[0;34m(self, code, display_results)\u001b[0m\n\u001b[1;32m    184\u001b[0m     result \u001b[38;5;241m=\u001b[39m \u001b[38;5;28mself\u001b[39m\u001b[38;5;241m.\u001b[39mhandle_boolean_results(result)\n\u001b[1;32m    185\u001b[0m \u001b[38;5;28;01mexcept\u001b[39;00m \u001b[38;5;167;01mException\u001b[39;00m \u001b[38;5;28;01mas\u001b[39;00m e:\n\u001b[0;32m--> 186\u001b[0m     \u001b[38;5;28;01mraise\u001b[39;00m \u001b[38;5;167;01mException\u001b[39;00m(\n\u001b[1;32m    187\u001b[0m         \u001b[38;5;124mf\u001b[39m\u001b[38;5;124m\"\u001b[39m\u001b[38;5;124mDuring execution of statement \u001b[39m\u001b[38;5;130;01m\\n\u001b[39;00m\u001b[38;5;130;01m\\\"\u001b[39;00m\u001b[38;5;132;01m{\u001b[39;00mreconstruct(statement_lark)\u001b[38;5;132;01m}\u001b[39;00m\u001b[38;5;130;01m\\n\u001b[39;00m\u001b[38;5;130;01m\\\"\u001b[39;00m\u001b[38;5;124m\"\u001b[39m\n\u001b[1;32m    188\u001b[0m         \u001b[38;5;124mf\u001b[39m\u001b[38;5;124m\"\u001b[39m\u001b[38;5;124mthe following exception was raised:\u001b[39m\u001b[38;5;130;01m\\n\u001b[39;00m\u001b[38;5;132;01m{\u001b[39;00me\u001b[38;5;132;01m}\u001b[39;00m\u001b[38;5;130;01m\\n\u001b[39;00m\u001b[38;5;124m\"\u001b[39m\n\u001b[1;32m    189\u001b[0m         )\u001b[38;5;241m.\u001b[39mwith_traceback(e\u001b[38;5;241m.\u001b[39m__traceback__)\n\u001b[1;32m    190\u001b[0m results\u001b[38;5;241m.\u001b[39mappend(result)\n\u001b[1;32m    191\u001b[0m \u001b[38;5;28;01mif\u001b[39;00m display_results:\n",
      "File \u001b[0;32m~/tdk/spannerlib/spannerlib/session.py:183\u001b[0m, in \u001b[0;36mSession.export\u001b[0;34m(self, code, display_results)\u001b[0m\n\u001b[1;32m    181\u001b[0m \u001b[38;5;28;01mfor\u001b[39;00m clean_ast,statement_lark \u001b[38;5;129;01min\u001b[39;00m \u001b[38;5;28mself\u001b[39m\u001b[38;5;241m.\u001b[39mparse_and_check_semantics(code):\n\u001b[1;32m    182\u001b[0m     \u001b[38;5;28;01mtry\u001b[39;00m:\n\u001b[0;32m--> 183\u001b[0m         result \u001b[38;5;241m=\u001b[39m \u001b[43mexecute_statement\u001b[49m\u001b[43m(\u001b[49m\u001b[43mclean_ast\u001b[49m\u001b[43m,\u001b[49m\u001b[38;5;28;43mself\u001b[39;49m\u001b[38;5;241;43m.\u001b[39;49m\u001b[43mengine\u001b[49m\u001b[43m)\u001b[49m\n\u001b[1;32m    184\u001b[0m         result \u001b[38;5;241m=\u001b[39m \u001b[38;5;28mself\u001b[39m\u001b[38;5;241m.\u001b[39mhandle_boolean_results(result)\n\u001b[1;32m    185\u001b[0m     \u001b[38;5;28;01mexcept\u001b[39;00m \u001b[38;5;167;01mException\u001b[39;00m \u001b[38;5;28;01mas\u001b[39;00m e:\n",
      "File \u001b[0;32m~/tdk/spannerlib/spannerlib/micro_passes.py:421\u001b[0m, in \u001b[0;36mexecute_statement\u001b[0;34m(ast, engine)\u001b[0m\n\u001b[1;32m    419\u001b[0m     engine\u001b[38;5;241m.\u001b[39madd_rule(value)\n\u001b[1;32m    420\u001b[0m \u001b[38;5;28;01mcase\u001b[39;00m \u001b[38;5;124m'\u001b[39m\u001b[38;5;124mquery\u001b[39m\u001b[38;5;124m'\u001b[39m:\n\u001b[0;32m--> 421\u001b[0m     \u001b[38;5;28;01mreturn\u001b[39;00m \u001b[43mengine\u001b[49m\u001b[38;5;241;43m.\u001b[39;49m\u001b[43mrun_query\u001b[49m\u001b[43m(\u001b[49m\u001b[43mvalue\u001b[49m\u001b[43m)\u001b[49m\n\u001b[1;32m    422\u001b[0m \u001b[38;5;28;01mcase\u001b[39;00m\u001b[38;5;250m \u001b[39m\u001b[38;5;28;01m_\u001b[39;00m:\n\u001b[1;32m    423\u001b[0m     \u001b[38;5;28;01mraise\u001b[39;00m \u001b[38;5;167;01mValueError\u001b[39;00m(\u001b[38;5;124mf\u001b[39m\u001b[38;5;124m\"\u001b[39m\u001b[38;5;124mUnknown statement type \u001b[39m\u001b[38;5;132;01m{\u001b[39;00mstatement\u001b[38;5;132;01m}\u001b[39;00m\u001b[38;5;124m\"\u001b[39m)\n",
      "File \u001b[0;32m~/tdk/spannerlib/spannerlib/engine.py:241\u001b[0m, in \u001b[0;36mEngine.run_query\u001b[0;34m(self, q, rewrites, return_intermediate)\u001b[0m\n\u001b[1;32m    240\u001b[0m \u001b[38;5;28;01mdef\u001b[39;00m \u001b[38;5;21mrun_query\u001b[39m(\u001b[38;5;28mself\u001b[39m,q:Relation,rewrites\u001b[38;5;241m=\u001b[39m\u001b[38;5;28;01mNone\u001b[39;00m,return_intermediate\u001b[38;5;241m=\u001b[39m\u001b[38;5;28;01mFalse\u001b[39;00m):\n\u001b[0;32m--> 241\u001b[0m     query_graph,root_node \u001b[38;5;241m=\u001b[39m \u001b[38;5;28;43mself\u001b[39;49m\u001b[38;5;241;43m.\u001b[39;49m\u001b[43mplan_query\u001b[49m\u001b[43m(\u001b[49m\u001b[43mq\u001b[49m\u001b[43m,\u001b[49m\u001b[43mrewrites\u001b[49m\u001b[43m)\u001b[49m\n\u001b[1;32m    242\u001b[0m     \u001b[38;5;28;01mreturn\u001b[39;00m \u001b[38;5;28mself\u001b[39m\u001b[38;5;241m.\u001b[39mexecute_plan(query_graph,root_node,return_intermediate\u001b[38;5;241m=\u001b[39mreturn_intermediate)\n",
      "File \u001b[0;32m~/tdk/spannerlib/spannerlib/engine.py:223\u001b[0m, in \u001b[0;36mEngine.plan_query\u001b[0;34m(self, q_rel, rewrites)\u001b[0m\n\u001b[1;32m    221\u001b[0m \u001b[38;5;66;03m# get the sub term graph induced by the relation head\u001b[39;00m\n\u001b[1;32m    222\u001b[0m root_node \u001b[38;5;241m=\u001b[39m q_rel\u001b[38;5;241m.\u001b[39mname\n\u001b[0;32m--> 223\u001b[0m connected_nodes \u001b[38;5;241m=\u001b[39m \u001b[38;5;28mlist\u001b[39m(\u001b[43mnx\u001b[49m\u001b[38;5;241;43m.\u001b[39;49m\u001b[43mshortest_path\u001b[49m\u001b[43m(\u001b[49m\u001b[43mquery_graph\u001b[49m\u001b[43m,\u001b[49m\u001b[43mroot_node\u001b[49m\u001b[43m)\u001b[49m\u001b[38;5;241m.\u001b[39mkeys())\n\u001b[1;32m    224\u001b[0m query_graph \u001b[38;5;241m=\u001b[39m nx\u001b[38;5;241m.\u001b[39mDiGraph(nx\u001b[38;5;241m.\u001b[39msubgraph(query_graph,connected_nodes))\n\u001b[1;32m    226\u001b[0m \u001b[38;5;66;03m# add selects renames etc based on the query relation\u001b[39;00m\n",
      "File \u001b[0;32m<class 'networkx.utils.decorators.argmap'> compilation 4:3\u001b[0m, in \u001b[0;36margmap_shortest_path_1\u001b[0;34m(G, source, target, weight, method, backend, **backend_kwargs)\u001b[0m\n\u001b[1;32m      1\u001b[0m \u001b[38;5;28;01mimport\u001b[39;00m \u001b[38;5;21;01mbz2\u001b[39;00m\n\u001b[1;32m      2\u001b[0m \u001b[38;5;28;01mimport\u001b[39;00m \u001b[38;5;21;01mcollections\u001b[39;00m\n\u001b[0;32m----> 3\u001b[0m \u001b[38;5;28;01mimport\u001b[39;00m \u001b[38;5;21;01mgzip\u001b[39;00m\n\u001b[1;32m      4\u001b[0m \u001b[38;5;28;01mimport\u001b[39;00m \u001b[38;5;21;01minspect\u001b[39;00m\n\u001b[1;32m      5\u001b[0m \u001b[38;5;28;01mimport\u001b[39;00m \u001b[38;5;21;01mitertools\u001b[39;00m\n",
      "File \u001b[0;32m~/miniconda3/envs/span/lib/python3.11/site-packages/networkx/utils/backends.py:633\u001b[0m, in \u001b[0;36m_dispatchable.__call__\u001b[0;34m(self, backend, *args, **kwargs)\u001b[0m\n\u001b[1;32m    628\u001b[0m \u001b[38;5;250m\u001b[39m\u001b[38;5;124;03m\"\"\"Returns the result of the original function, or the backend function if\u001b[39;00m\n\u001b[1;32m    629\u001b[0m \u001b[38;5;124;03mthe backend is specified and that backend implements `func`.\"\"\"\u001b[39;00m\n\u001b[1;32m    631\u001b[0m \u001b[38;5;28;01mif\u001b[39;00m \u001b[38;5;129;01mnot\u001b[39;00m backends:\n\u001b[1;32m    632\u001b[0m     \u001b[38;5;66;03m# Fast path if no backends are installed\u001b[39;00m\n\u001b[0;32m--> 633\u001b[0m     \u001b[38;5;28;01mreturn\u001b[39;00m \u001b[38;5;28;43mself\u001b[39;49m\u001b[38;5;241;43m.\u001b[39;49m\u001b[43morig_func\u001b[49m\u001b[43m(\u001b[49m\u001b[38;5;241;43m*\u001b[39;49m\u001b[43margs\u001b[49m\u001b[43m,\u001b[49m\u001b[43m \u001b[49m\u001b[38;5;241;43m*\u001b[39;49m\u001b[38;5;241;43m*\u001b[39;49m\u001b[43mkwargs\u001b[49m\u001b[43m)\u001b[49m\n\u001b[1;32m    635\u001b[0m \u001b[38;5;66;03m# Use `backend_name` in this function instead of `backend`\u001b[39;00m\n\u001b[1;32m    636\u001b[0m backend_name \u001b[38;5;241m=\u001b[39m backend\n",
      "File \u001b[0;32m~/miniconda3/envs/span/lib/python3.11/site-packages/networkx/algorithms/shortest_paths/generic.py:174\u001b[0m, in \u001b[0;36mshortest_path\u001b[0;34m(G, source, target, weight, method)\u001b[0m\n\u001b[1;32m    171\u001b[0m \u001b[38;5;28;01mif\u001b[39;00m target \u001b[38;5;129;01mis\u001b[39;00m \u001b[38;5;28;01mNone\u001b[39;00m:\n\u001b[1;32m    172\u001b[0m     \u001b[38;5;66;03m# Find paths to all nodes accessible from the source.\u001b[39;00m\n\u001b[1;32m    173\u001b[0m     \u001b[38;5;28;01mif\u001b[39;00m method \u001b[38;5;241m==\u001b[39m \u001b[38;5;124m\"\u001b[39m\u001b[38;5;124munweighted\u001b[39m\u001b[38;5;124m\"\u001b[39m:\n\u001b[0;32m--> 174\u001b[0m         paths \u001b[38;5;241m=\u001b[39m \u001b[43mnx\u001b[49m\u001b[38;5;241;43m.\u001b[39;49m\u001b[43msingle_source_shortest_path\u001b[49m\u001b[43m(\u001b[49m\u001b[43mG\u001b[49m\u001b[43m,\u001b[49m\u001b[43m \u001b[49m\u001b[43msource\u001b[49m\u001b[43m)\u001b[49m\n\u001b[1;32m    175\u001b[0m     \u001b[38;5;28;01melif\u001b[39;00m method \u001b[38;5;241m==\u001b[39m \u001b[38;5;124m\"\u001b[39m\u001b[38;5;124mdijkstra\u001b[39m\u001b[38;5;124m\"\u001b[39m:\n\u001b[1;32m    176\u001b[0m         paths \u001b[38;5;241m=\u001b[39m nx\u001b[38;5;241m.\u001b[39msingle_source_dijkstra_path(G, source, weight\u001b[38;5;241m=\u001b[39mweight)\n",
      "File \u001b[0;32m<class 'networkx.utils.decorators.argmap'> compilation 8:3\u001b[0m, in \u001b[0;36margmap_single_source_shortest_path_5\u001b[0;34m(G, source, cutoff, backend, **backend_kwargs)\u001b[0m\n\u001b[1;32m      1\u001b[0m \u001b[38;5;28;01mimport\u001b[39;00m \u001b[38;5;21;01mbz2\u001b[39;00m\n\u001b[1;32m      2\u001b[0m \u001b[38;5;28;01mimport\u001b[39;00m \u001b[38;5;21;01mcollections\u001b[39;00m\n\u001b[0;32m----> 3\u001b[0m \u001b[38;5;28;01mimport\u001b[39;00m \u001b[38;5;21;01mgzip\u001b[39;00m\n\u001b[1;32m      4\u001b[0m \u001b[38;5;28;01mimport\u001b[39;00m \u001b[38;5;21;01minspect\u001b[39;00m\n\u001b[1;32m      5\u001b[0m \u001b[38;5;28;01mimport\u001b[39;00m \u001b[38;5;21;01mitertools\u001b[39;00m\n",
      "File \u001b[0;32m~/miniconda3/envs/span/lib/python3.11/site-packages/networkx/utils/backends.py:633\u001b[0m, in \u001b[0;36m_dispatchable.__call__\u001b[0;34m(self, backend, *args, **kwargs)\u001b[0m\n\u001b[1;32m    628\u001b[0m \u001b[38;5;250m\u001b[39m\u001b[38;5;124;03m\"\"\"Returns the result of the original function, or the backend function if\u001b[39;00m\n\u001b[1;32m    629\u001b[0m \u001b[38;5;124;03mthe backend is specified and that backend implements `func`.\"\"\"\u001b[39;00m\n\u001b[1;32m    631\u001b[0m \u001b[38;5;28;01mif\u001b[39;00m \u001b[38;5;129;01mnot\u001b[39;00m backends:\n\u001b[1;32m    632\u001b[0m     \u001b[38;5;66;03m# Fast path if no backends are installed\u001b[39;00m\n\u001b[0;32m--> 633\u001b[0m     \u001b[38;5;28;01mreturn\u001b[39;00m \u001b[38;5;28;43mself\u001b[39;49m\u001b[38;5;241;43m.\u001b[39;49m\u001b[43morig_func\u001b[49m\u001b[43m(\u001b[49m\u001b[38;5;241;43m*\u001b[39;49m\u001b[43margs\u001b[49m\u001b[43m,\u001b[49m\u001b[43m \u001b[49m\u001b[38;5;241;43m*\u001b[39;49m\u001b[38;5;241;43m*\u001b[39;49m\u001b[43mkwargs\u001b[49m\u001b[43m)\u001b[49m\n\u001b[1;32m    635\u001b[0m \u001b[38;5;66;03m# Use `backend_name` in this function instead of `backend`\u001b[39;00m\n\u001b[1;32m    636\u001b[0m backend_name \u001b[38;5;241m=\u001b[39m backend\n",
      "File \u001b[0;32m~/miniconda3/envs/span/lib/python3.11/site-packages/networkx/algorithms/shortest_paths/unweighted.py:357\u001b[0m, in \u001b[0;36msingle_source_shortest_path\u001b[0;34m(G, source, cutoff)\u001b[0m\n\u001b[1;32m    320\u001b[0m \u001b[38;5;250m\u001b[39m\u001b[38;5;124;03m\"\"\"Compute shortest path between source\u001b[39;00m\n\u001b[1;32m    321\u001b[0m \u001b[38;5;124;03mand all other nodes reachable from source.\u001b[39;00m\n\u001b[1;32m    322\u001b[0m \n\u001b[0;32m   (...)\u001b[0m\n\u001b[1;32m    354\u001b[0m \u001b[38;5;124;03mshortest_path\u001b[39;00m\n\u001b[1;32m    355\u001b[0m \u001b[38;5;124;03m\"\"\"\u001b[39;00m\n\u001b[1;32m    356\u001b[0m \u001b[38;5;28;01mif\u001b[39;00m source \u001b[38;5;129;01mnot\u001b[39;00m \u001b[38;5;129;01min\u001b[39;00m G:\n\u001b[0;32m--> 357\u001b[0m     \u001b[38;5;28;01mraise\u001b[39;00m nx\u001b[38;5;241m.\u001b[39mNodeNotFound(\u001b[38;5;124mf\u001b[39m\u001b[38;5;124m\"\u001b[39m\u001b[38;5;124mSource \u001b[39m\u001b[38;5;132;01m{\u001b[39;00msource\u001b[38;5;132;01m}\u001b[39;00m\u001b[38;5;124m not in G\u001b[39m\u001b[38;5;124m\"\u001b[39m)\n\u001b[1;32m    359\u001b[0m \u001b[38;5;28;01mdef\u001b[39;00m \u001b[38;5;21mjoin\u001b[39m(p1, p2):\n\u001b[1;32m    360\u001b[0m     \u001b[38;5;28;01mreturn\u001b[39;00m p1 \u001b[38;5;241m+\u001b[39m p2\n",
      "\u001b[0;31mException\u001b[0m: During execution of statement \n\"?parent(X,Y)\n\"the following exception was raised:\nSource parent not in G\n"
     ]
    }
   ],
   "source": [
    "magic_session.remove_all_rules()\n",
    "print(\"after removing all rules:\")\n",
    "magic_session.print_rules()\n",
    "\n",
    "# facts are not affected...\n",
    "%spannerlog ?parent(X, Y)\n",
    "\n",
    "\n",
    "#TODO from here debug this, we probably need to add all relations to the term graph with a rule_id that cant be removed"
   ]
  },
  {
   "cell_type": "markdown",
   "metadata": {},
   "source": [
    "# Queries<a class=\"anchor\" id=\"queries\"></a>\n",
    "A query is essentially a way to retrieve specific information from a dataset. <br>\n",
    "querying in spannerlog uses the same synatx and semantics as DataLog. <br>\n",
    "Under said semantics, we try to find all instantiations of free variables that satisfy the queried relation.\n",
    "\n",
    "You can query by using constant values, local variables and free variables:"
   ]
  },
  {
   "cell_type": "code",
   "execution_count": null,
   "metadata": {},
   "outputs": [
    {
     "name": "stdout",
     "output_type": "stream",
     "text": [
      "printing results for query 'grandfather(\"bob\", \"alice\")':\n",
      "[()]\n",
      "\n",
      "printing results for query 'grandfather(\"edward\", \"alice\")':\n",
      "[]\n",
      "\n",
      "printing results for query 'grandfather(\"george\", X)':\n",
      "   X\n",
      "-------\n",
      " alice\n",
      "  rin\n",
      "\n",
      "printing results for query 'grandfather(X, \"rin\")':\n",
      "   X\n",
      "--------\n",
      "  bob\n",
      " george\n",
      "\n",
      "printing results for query 'grandfather(X, Y)':\n",
      "   X    |   Y\n",
      "--------+-------\n",
      "  bob   | alice\n",
      "  bob   |  rin\n",
      " george | alice\n",
      " george |  rin\n",
      " edward | john\n",
      "\n",
      "printing results for query 'verb(\"Ron eats quickly.\", X)':\n",
      "   X\n",
      "--------\n",
      " [4, 8)\n",
      "\n",
      "printing results for query 'verb(X, [4, 9))':\n",
      "         X\n",
      "-------------------\n",
      " You write neatly.\n",
      "\n",
      "printing results for query 'orders(X, 4)':\n",
      "   X\n",
      "-------\n",
      "  pie\n",
      " pizza\n",
      "\n"
     ]
    }
   ],
   "source": [
    "%%spannerlog\n",
    "# first create a relation with some facts for the example\n",
    "new grandfather(str, str)\n",
    "# bob and george are the grandfathers of alice and rin\n",
    "grandfather(\"bob\", \"alice\")\n",
    "grandfather(\"bob\", \"rin\")\n",
    "grandfather(\"george\", \"alice\")\n",
    "grandfather(\"george\", \"rin\")\n",
    "# edward is the grandfather of john\n",
    "grandfather(\"edward\", \"john\")\n",
    "\n",
    "# now for the queries\n",
    "?grandfather(\"bob\", \"alice\") # returns an empty tuple () as alice is bob's grandchild\n",
    "?grandfather(\"edward\", \"alice\") # returns nothing as alice is not edward's grandchild\n",
    "?grandfather(\"george\", X) # returns \"rin\" and \"alice\" as both rin\n",
    "# and alice are george's grandchildren\n",
    "?grandfather(X, \"rin\") # returns \"bob\" and \"george\" (rin's grandfathers)\n",
    "?grandfather(X, Y) # returns all the tuples in the 'grandfather' relation\n",
    "\n",
    "new verb(str, span)\n",
    "verb(\"Ron eats quickly.\", [4,8))\n",
    "verb(\"You write neatly.\", [4,9))\n",
    "?verb(\"Ron eats quickly.\", X) # returns [4,8)\n",
    "?verb(X,[4,9)) # returns \"You write neatly.\"\n",
    "         \n",
    "new orders(str, int)\n",
    "orders(\"pie\", 4)\n",
    "orders(\"pizza\", 4)\n",
    "orders(\"cake\", 0)\n",
    "?orders(X, 4) # retutns \"pie\" and \"pizza\"         "
   ]
  },
  {
   "cell_type": "markdown",
   "metadata": {},
   "source": [
    "You may have noticed that the query\n",
    "\n",
    "```\n",
    "?grandfather(\"bob\", \"alice\")\n",
    "```\n",
    "\n",
    "returns an empty tuple. This is because of the fact that bob is alice's grandfather is true,\n",
    "our query has no free variables, which means it asks a specific factual question about the dataset. If the query is true, it means the specified condition exists in the dataset. If false, it means the condition does not exist.\n",
    "And this is why if we have a query with no free variables, we get an empty set of instantiations if its true and no such set if its false.\n",
    "\n",
    "A good example for using free variables to construct a relation is the query:\n",
    "\n",
    "```\n",
    "?grandfather(\"george\", X)\n",
    "```\n",
    "\n",
    "which finds all of george's grandchildren (`X`) and constructs a tuple for each one."
   ]
  },
  {
   "cell_type": "markdown",
   "metadata": {},
   "source": [
    "### How Rules and Queries are saved in the database?\n",
    "\n",
    "Unlike facts, which are immediately stored in the database upon their creation, rules are not computed and added to the database upon declaration. Instead, the logic of a rule is saved separately and is only evaluated when needed (lazy evaluation). When a query is made, the engine utilizes these rules to derive all potential solutions from the existing facts that would fulfill the query.\n"
   ]
  },
  {
   "cell_type": "markdown",
   "metadata": {},
   "source": [
    "# Using IE Functions"
   ]
  },
  {
   "cell_type": "markdown",
   "metadata": {},
   "source": [
    "## Functional regex formulas<a class=\"anchor\" id=\"RGX_ie\"></a>\n",
    "spannerlog contains IE functions which are registered by default.\n",
    "Let's go over a couple regex IE functions:\n",
    "\n",
    "\n",
    "```\n",
    "rgx_span(regex_input ,regex_formula)->(x_1, x_2, ...,x_n)\n",
    "```\n",
    "\n",
    "and\n",
    "\n",
    "```\n",
    "rgx_string(regex_input ,regex_formula)->(x_1, x_2, ...,x_n)\n",
    "```\n",
    "\n",
    "where:\n",
    "* `regex_input` is the string that the regex operation will be performed on\n",
    "* `regex_formula` is either a string literal or a string variable that represents your regular expression.\n",
    "* `x_1`, `x_2`, ... `x_n` can be either constant terms or free variable terms. They're used to construct the tuples of the resulting relation. the number of terms has to be the same as the number of capture groups used in `regex_formula`. If not capture groups are used, then each returned tuple includes a single, whole regex match, so only one term should be used.\n",
    "\n",
    "The only difference between the `rgx_span` and `rgx_string` ie functions, is that rgx_string returns strings, while rgx_span returns the spans of those strings. This also means that if you want to use constant terms as return values, they have to be spans if you use `rgx_span`, and strings if you use `rgx_string`\n",
    "\n",
    "For example consider the following spannerlog code:"
   ]
  },
  {
   "cell_type": "code",
   "execution_count": null,
   "metadata": {},
   "outputs": [
    {
     "name": "stdout",
     "output_type": "stream",
     "text": [
      "printing results for query 'age(X, Y)':\n",
      "     X      |   Y\n",
      "------------+-----\n",
      "  John Doe  |  35\n",
      " Jane Smith |  28\n",
      "\n",
      "printing results for query 'age_span(X, Y)':\n",
      "    X     |    Y\n",
      "----------+----------\n",
      "  [0, 8)  | [10, 12)\n",
      " [24, 34) | [36, 38)\n",
      "\n"
     ]
    }
   ],
   "source": [
    "%%spannerlog\n",
    "input_string = \"John Doe: 35 years old, Jane Smith: 28 years old\"\n",
    "regex_pattern = \"(\\w+\\s\\w+):\\s(\\d+)\"\n",
    "\n",
    "age(X,Y) <- py_rgx_string(input_string, regex_pattern) -> (X,Y)\n",
    "age_span(X,Y) <- py_rgx_span(input_string, regex_pattern) -> (X,Y)\n",
    "?age(X,Y)\n",
    "?age_span(X,Y)"
   ]
  },
  {
   "cell_type": "markdown",
   "metadata": {},
   "source": [
    "The variables X,Y in the output of the above ie functions are the matches of the capture groups used in the regex_pattern. <br>\n",
    "capture groups allow us to extract specific parts of a matched pattern in a text using regular expressions. <br>\n",
    "When you define a regular expression pattern with parentheses (), you create a capturing group"
   ]
  },
  {
   "cell_type": "markdown",
   "metadata": {},
   "source": [
    "## Creating and Registering a New IE Function<a class=\"anchor\" id=\"custom_ie\"></a>"
   ]
  },
  {
   "cell_type": "markdown",
   "metadata": {},
   "source": [
    "Using regex is nice, but what if you want to define your own IE function? <br>\n",
    "spannerlog allows you to define and use your own information extraction functions. You can use them only in rule bodies in the current version. The following is the syntax for custom IE functions:\n",
    "\n",
    "```\n",
    "func(term_1,term_2,...term_n)->(x_1, x_2, ..., x_n)\n",
    "```\n",
    "\n",
    "where:\n",
    "* `func` is a IE function that was previously defined and registered\n",
    "* `term_1`,`term_2`,...,`term_n` are the parameters for func\n",
    "* `x_1`, ... `x_n` could be any type of terms, and are used to construct tuples of the resulting relation\n",
    "\n",
    "For example:"
   ]
  },
  {
   "cell_type": "markdown",
   "metadata": {},
   "source": [
    "### IE function `get_happy`"
   ]
  },
  {
   "cell_type": "code",
   "execution_count": null,
   "metadata": {},
   "outputs": [],
   "source": [
    "import re\n",
    "from spannerlib.primitive_types import DataTypes\n",
    "\n",
    "# the function itself, which should yield an iterable of primitive types\n",
    "def get_happy(text):\n",
    "    \"\"\"\n",
    "    get the names of people who are happy in `text`\n",
    "    \"\"\"\n",
    "    compiled_rgx = re.compile(\"(\\w+) is happy\")\n",
    "    num_groups = compiled_rgx.groups\n",
    "    for match in re.finditer(compiled_rgx, text):\n",
    "        if num_groups == 0:\n",
    "            matched_strings = [match.group()]\n",
    "        else:\n",
    "            matched_strings = [group for group in match.groups()]\n",
    "        yield matched_strings\n",
    "\n",
    "# the input types, a list of primitive types\n",
    "get_happy_in_types = [DataTypes.string]\n",
    "\n",
    "# the output types, either a list of primitive types or \n",
    "# a method which expects an arity and computes the desired types based on it\n",
    "get_happy_out_types = lambda arity : arity * [DataTypes.string]\n",
    "# or: `get_happy_out_types = [DataTypes.string]`s\n",
    "\n",
    "# finally, register the function\n",
    "magic_session.register(ie_function=get_happy,\n",
    "                       ie_function_name = \"get_happy\",\n",
    "                       in_rel=get_happy_in_types,\n",
    "                       out_rel=get_happy_out_types)"
   ]
  },
  {
   "cell_type": "markdown",
   "metadata": {},
   "source": [
    "You may have noticed that when we register a custom ie function, we use `yield` instead of `return`, <br>\n",
    "and that is because part of making spanner based database systems more performant and memory efficient is to do lazy evaluation, <br>\n",
    "since building iterators in python is very simple using the generator pattern, we made the ie functions into generators to allow ie functions to also be as lazy as their author desires."
   ]
  },
  {
   "cell_type": "markdown",
   "metadata": {},
   "source": [
    "### custom IE using `get_happy`"
   ]
  },
  {
   "cell_type": "code",
   "execution_count": null,
   "metadata": {},
   "outputs": [
    {
     "name": "stdout",
     "output_type": "stream",
     "text": [
      "printing results for query 'happy_grandmother(X)':\n",
      "  X\n",
      "-----\n",
      " rin\n",
      "\n"
     ]
    }
   ],
   "source": [
    "%%spannerlog\n",
    "new grandmother(str, str)\n",
    "grandmother(\"rin\", \"alice\")\n",
    "grandmother(\"denna\", \"joel\")\n",
    "sentence = \"rin is happy, denna is sad.\"\n",
    "# note that this statement will fail as 'get_happy' is not registered as an ie_function\n",
    "happy_grandmother(X) <- grandmother(X,Z),get_happy(sentence)->(X)\n",
    "?happy_grandmother(X) # assuming get_happy returned \"rin\", also returns \"rin\""
   ]
  },
  {
   "cell_type": "markdown",
   "metadata": {},
   "source": [
    "## More information about IE functions\n",
    "* You can remove an IE function via the session:\n",
    "\n",
    "```magic_session.remove_ie_function(ie_function_name)```\n",
    "\n",
    "* If you want to remove all the registered ie functions:\n",
    "\n",
    "```magic_session.remove_all_ie_functions()```\n",
    "\n",
    "* If you register an IE function with a name that was already registered before, the old IE function will be overwitten by the new one. \n",
    "<br><br>\n",
    "* You can inspect all the registered IE functions using the following command:\n",
    "\n",
    "```magic_session.print_registered_ie_functions()```\n",
    "\n",
    "```python\n",
    "# first, let's print all functions:\n",
    "magic_session.print_registered_ie_functions()\n",
    "```"
   ]
  },
  {
   "cell_type": "markdown",
   "metadata": {},
   "source": [
    "another tremendous triumph! Coref was deleted from the registered functions"
   ]
  },
  {
   "cell_type": "markdown",
   "metadata": {},
   "source": [
    "# Additional small features<a class=\"anchor\" id=\"small_features\"></a>\n",
    "You can use line overflow escapes if you want to split your statements into multiple lines\n",
    "\n",
    "```python pycharm={\"name\": \"#%%\\n\"}\n",
    "%%spannerlog\n",
    "k \\\n",
    "= \"some \\\n",
    "string\"\n",
    "```\n",
    "\n",
    "# spannerlog program example<a class=\"anchor\" id=\"example_program\"></a>"
   ]
  },
  {
   "cell_type": "code",
   "execution_count": null,
   "metadata": {},
   "outputs": [],
   "source": [
    "import spannerlib"
   ]
  },
  {
   "cell_type": "code",
   "execution_count": null,
   "metadata": {},
   "outputs": [
    {
     "ename": "Exception",
     "evalue": "relation \"lecturer\" already has a schema",
     "output_type": "error",
     "traceback": [
      "\u001b[0;31m---------------------------------------------------------------------------\u001b[0m",
      "\u001b[0;31mException\u001b[0m                                 Traceback (most recent call last)",
      "Cell \u001b[0;32mIn[32], line 1\u001b[0m\n\u001b[0;32m----> 1\u001b[0m \u001b[43mget_ipython\u001b[49m\u001b[43m(\u001b[49m\u001b[43m)\u001b[49m\u001b[38;5;241;43m.\u001b[39;49m\u001b[43mrun_cell_magic\u001b[49m\u001b[43m(\u001b[49m\u001b[38;5;124;43m'\u001b[39;49m\u001b[38;5;124;43mspannerlog\u001b[39;49m\u001b[38;5;124;43m'\u001b[39;49m\u001b[43m,\u001b[49m\u001b[43m \u001b[49m\u001b[38;5;124;43m'\u001b[39;49m\u001b[38;5;124;43m'\u001b[39;49m\u001b[43m,\u001b[49m\u001b[43m \u001b[49m\u001b[38;5;124;43m'\u001b[39;49m\u001b[38;5;124;43mnew lecturer(str, str)\u001b[39;49m\u001b[38;5;130;43;01m\\n\u001b[39;49;00m\u001b[38;5;124;43mlecturer(\u001b[39;49m\u001b[38;5;124;43m\"\u001b[39;49m\u001b[38;5;124;43mwalter\u001b[39;49m\u001b[38;5;124;43m\"\u001b[39;49m\u001b[38;5;124;43m, \u001b[39;49m\u001b[38;5;124;43m\"\u001b[39;49m\u001b[38;5;124;43mchemistry\u001b[39;49m\u001b[38;5;124;43m\"\u001b[39;49m\u001b[38;5;124;43m)\u001b[39;49m\u001b[38;5;130;43;01m\\n\u001b[39;49;00m\u001b[38;5;124;43mlecturer(\u001b[39;49m\u001b[38;5;124;43m\"\u001b[39;49m\u001b[38;5;124;43mlinus\u001b[39;49m\u001b[38;5;124;43m\"\u001b[39;49m\u001b[38;5;124;43m, \u001b[39;49m\u001b[38;5;124;43m\"\u001b[39;49m\u001b[38;5;124;43moperation systems\u001b[39;49m\u001b[38;5;124;43m\"\u001b[39;49m\u001b[38;5;124;43m)\u001b[39;49m\u001b[38;5;130;43;01m\\n\u001b[39;49;00m\u001b[38;5;124;43mlecturer(\u001b[39;49m\u001b[38;5;124;43m\"\u001b[39;49m\u001b[38;5;124;43mrick\u001b[39;49m\u001b[38;5;124;43m\"\u001b[39;49m\u001b[38;5;124;43m, \u001b[39;49m\u001b[38;5;124;43m\"\u001b[39;49m\u001b[38;5;124;43mphysics\u001b[39;49m\u001b[38;5;124;43m\"\u001b[39;49m\u001b[38;5;124;43m)\u001b[39;49m\u001b[38;5;130;43;01m\\n\u001b[39;49;00m\u001b[38;5;130;43;01m\\n\u001b[39;49;00m\u001b[38;5;124;43mnew enrolled(str, str)\u001b[39;49m\u001b[38;5;130;43;01m\\n\u001b[39;49;00m\u001b[38;5;124;43menrolled(\u001b[39;49m\u001b[38;5;124;43m\"\u001b[39;49m\u001b[38;5;124;43mabigail\u001b[39;49m\u001b[38;5;124;43m\"\u001b[39;49m\u001b[38;5;124;43m, \u001b[39;49m\u001b[38;5;124;43m\"\u001b[39;49m\u001b[38;5;124;43mchemistry\u001b[39;49m\u001b[38;5;124;43m\"\u001b[39;49m\u001b[38;5;124;43m)\u001b[39;49m\u001b[38;5;130;43;01m\\n\u001b[39;49;00m\u001b[38;5;124;43menrolled(\u001b[39;49m\u001b[38;5;124;43m\"\u001b[39;49m\u001b[38;5;124;43mabigail\u001b[39;49m\u001b[38;5;124;43m\"\u001b[39;49m\u001b[38;5;124;43m, \u001b[39;49m\u001b[38;5;124;43m\"\u001b[39;49m\u001b[38;5;124;43moperation systems\u001b[39;49m\u001b[38;5;124;43m\"\u001b[39;49m\u001b[38;5;124;43m)\u001b[39;49m\u001b[38;5;130;43;01m\\n\u001b[39;49;00m\u001b[38;5;124;43menrolled(\u001b[39;49m\u001b[38;5;124;43m\"\u001b[39;49m\u001b[38;5;124;43mjordan\u001b[39;49m\u001b[38;5;124;43m\"\u001b[39;49m\u001b[38;5;124;43m, \u001b[39;49m\u001b[38;5;124;43m\"\u001b[39;49m\u001b[38;5;124;43mchemistry\u001b[39;49m\u001b[38;5;124;43m\"\u001b[39;49m\u001b[38;5;124;43m)\u001b[39;49m\u001b[38;5;130;43;01m\\n\u001b[39;49;00m\u001b[38;5;124;43menrolled(\u001b[39;49m\u001b[38;5;124;43m\"\u001b[39;49m\u001b[38;5;124;43mgale\u001b[39;49m\u001b[38;5;124;43m\"\u001b[39;49m\u001b[38;5;124;43m, \u001b[39;49m\u001b[38;5;124;43m\"\u001b[39;49m\u001b[38;5;124;43moperation systems\u001b[39;49m\u001b[38;5;124;43m\"\u001b[39;49m\u001b[38;5;124;43m)\u001b[39;49m\u001b[38;5;130;43;01m\\n\u001b[39;49;00m\u001b[38;5;124;43menrolled(\u001b[39;49m\u001b[38;5;124;43m\"\u001b[39;49m\u001b[38;5;124;43mhoward\u001b[39;49m\u001b[38;5;124;43m\"\u001b[39;49m\u001b[38;5;124;43m, \u001b[39;49m\u001b[38;5;124;43m\"\u001b[39;49m\u001b[38;5;124;43mchemistry\u001b[39;49m\u001b[38;5;124;43m\"\u001b[39;49m\u001b[38;5;124;43m)\u001b[39;49m\u001b[38;5;130;43;01m\\n\u001b[39;49;00m\u001b[38;5;124;43menrolled(\u001b[39;49m\u001b[38;5;124;43m\"\u001b[39;49m\u001b[38;5;124;43mhoward\u001b[39;49m\u001b[38;5;124;43m\"\u001b[39;49m\u001b[38;5;124;43m, \u001b[39;49m\u001b[38;5;124;43m\"\u001b[39;49m\u001b[38;5;124;43mphysics\u001b[39;49m\u001b[38;5;124;43m\"\u001b[39;49m\u001b[38;5;124;43m)\u001b[39;49m\u001b[38;5;130;43;01m\\n\u001b[39;49;00m\u001b[38;5;130;43;01m\\n\u001b[39;49;00m\u001b[38;5;124;43menrolled_in_chemistry(X) <- enrolled(X, \u001b[39;49m\u001b[38;5;124;43m\"\u001b[39;49m\u001b[38;5;124;43mchemistry\u001b[39;49m\u001b[38;5;124;43m\"\u001b[39;49m\u001b[38;5;124;43m)\u001b[39;49m\u001b[38;5;130;43;01m\\n\u001b[39;49;00m\u001b[38;5;124;43m?enrolled_in_chemistry(\u001b[39;49m\u001b[38;5;124;43m\"\u001b[39;49m\u001b[38;5;124;43mjordan\u001b[39;49m\u001b[38;5;124;43m\"\u001b[39;49m\u001b[38;5;124;43m) # returns empty tuple ()\u001b[39;49m\u001b[38;5;130;43;01m\\n\u001b[39;49;00m\u001b[38;5;124;43m?enrolled_in_chemistry(\u001b[39;49m\u001b[38;5;124;43m\"\u001b[39;49m\u001b[38;5;124;43mgale\u001b[39;49m\u001b[38;5;124;43m\"\u001b[39;49m\u001b[38;5;124;43m) # returns nothing\u001b[39;49m\u001b[38;5;130;43;01m\\n\u001b[39;49;00m\u001b[38;5;124;43m?enrolled_in_chemistry(X) # returns \u001b[39;49m\u001b[38;5;124;43m\"\u001b[39;49m\u001b[38;5;124;43mabigail\u001b[39;49m\u001b[38;5;124;43m\"\u001b[39;49m\u001b[38;5;124;43m, \u001b[39;49m\u001b[38;5;124;43m\"\u001b[39;49m\u001b[38;5;124;43mjordan\u001b[39;49m\u001b[38;5;124;43m\"\u001b[39;49m\u001b[38;5;124;43m and \u001b[39;49m\u001b[38;5;124;43m\"\u001b[39;49m\u001b[38;5;124;43mhoward\u001b[39;49m\u001b[38;5;124;43m\"\u001b[39;49m\u001b[38;5;130;43;01m\\n\u001b[39;49;00m\u001b[38;5;130;43;01m\\n\u001b[39;49;00m\u001b[38;5;124;43menrolled_in_physics_and_chemistry(X) <- enrolled_in_chemistry(X), enrolled(X, \u001b[39;49m\u001b[38;5;124;43m\"\u001b[39;49m\u001b[38;5;124;43mphysics\u001b[39;49m\u001b[38;5;124;43m\"\u001b[39;49m\u001b[38;5;124;43m)\u001b[39;49m\u001b[38;5;130;43;01m\\n\u001b[39;49;00m\u001b[38;5;124;43m?enrolled_in_physics_and_chemistry(X) # returns \u001b[39;49m\u001b[38;5;124;43m\"\u001b[39;49m\u001b[38;5;124;43mhoward\u001b[39;49m\u001b[38;5;124;43m\"\u001b[39;49m\u001b[38;5;130;43;01m\\n\u001b[39;49;00m\u001b[38;5;130;43;01m\\n\u001b[39;49;00m\u001b[38;5;124;43mlecturer_of(X,Z) <- lecturer(X,Y), enrolled(Z,Y)\u001b[39;49m\u001b[38;5;130;43;01m\\n\u001b[39;49;00m\u001b[38;5;124;43m?lecturer_of(X,\u001b[39;49m\u001b[38;5;124;43m\"\u001b[39;49m\u001b[38;5;124;43mabigail\u001b[39;49m\u001b[38;5;124;43m\"\u001b[39;49m\u001b[38;5;124;43m) # returns \u001b[39;49m\u001b[38;5;124;43m\"\u001b[39;49m\u001b[38;5;124;43mwalter\u001b[39;49m\u001b[38;5;124;43m\"\u001b[39;49m\u001b[38;5;124;43m and \u001b[39;49m\u001b[38;5;124;43m\"\u001b[39;49m\u001b[38;5;124;43mlinus\u001b[39;49m\u001b[38;5;124;43m\"\u001b[39;49m\u001b[38;5;130;43;01m\\n\u001b[39;49;00m\u001b[38;5;130;43;01m\\n\u001b[39;49;00m\u001b[38;5;124;43mgrade_str = \u001b[39;49m\u001b[38;5;124;43m\"\u001b[39;49m\u001b[38;5;124;43mabigail 100 jordan 80 gale 79 howard 60\u001b[39;49m\u001b[38;5;124;43m\"\u001b[39;49m\u001b[38;5;130;43;01m\\n\u001b[39;49;00m\u001b[38;5;124;43mgrade_of_chemistry_students(Student, Grade) <- \u001b[39;49m\u001b[38;5;130;43;01m\\\\\u001b[39;49;00m\u001b[38;5;130;43;01m\\n\u001b[39;49;00m\u001b[38;5;124;43mpy_rgx_string(grade_str, \u001b[39;49m\u001b[38;5;124;43m\"\u001b[39;49m\u001b[38;5;124;43m(\u001b[39;49m\u001b[38;5;130;43;01m\\\\\u001b[39;49;00m\u001b[38;5;124;43mw+).*?(\u001b[39;49m\u001b[38;5;130;43;01m\\\\\u001b[39;49;00m\u001b[38;5;124;43md+)\u001b[39;49m\u001b[38;5;124;43m\"\u001b[39;49m\u001b[38;5;124;43m)->(Student, Grade), enrolled_in_chemistry(Student)\u001b[39;49m\u001b[38;5;130;43;01m\\n\u001b[39;49;00m\u001b[38;5;124;43m?grade_of_chemistry_students(X, \u001b[39;49m\u001b[38;5;124;43m\"\u001b[39;49m\u001b[38;5;124;43m100\u001b[39;49m\u001b[38;5;124;43m\"\u001b[39;49m\u001b[38;5;124;43m) # returns \u001b[39;49m\u001b[38;5;124;43m\"\u001b[39;49m\u001b[38;5;124;43mabigail\u001b[39;49m\u001b[38;5;124;43m\"\u001b[39;49m\u001b[38;5;130;43;01m\\n\u001b[39;49;00m\u001b[38;5;124;43m'\u001b[39;49m\u001b[43m)\u001b[49m\n",
      "File \u001b[0;32m~/miniconda3/envs/bench/lib/python3.8/site-packages/IPython/core/interactiveshell.py:2478\u001b[0m, in \u001b[0;36mInteractiveShell.run_cell_magic\u001b[0;34m(self, magic_name, line, cell)\u001b[0m\n\u001b[1;32m   2476\u001b[0m \u001b[38;5;28;01mwith\u001b[39;00m \u001b[38;5;28mself\u001b[39m\u001b[38;5;241m.\u001b[39mbuiltin_trap:\n\u001b[1;32m   2477\u001b[0m     args \u001b[38;5;241m=\u001b[39m (magic_arg_s, cell)\n\u001b[0;32m-> 2478\u001b[0m     result \u001b[38;5;241m=\u001b[39m \u001b[43mfn\u001b[49m\u001b[43m(\u001b[49m\u001b[38;5;241;43m*\u001b[39;49m\u001b[43margs\u001b[49m\u001b[43m,\u001b[49m\u001b[43m \u001b[49m\u001b[38;5;241;43m*\u001b[39;49m\u001b[38;5;241;43m*\u001b[39;49m\u001b[43mkwargs\u001b[49m\u001b[43m)\u001b[49m\n\u001b[1;32m   2480\u001b[0m \u001b[38;5;66;03m# The code below prevents the output from being displayed\u001b[39;00m\n\u001b[1;32m   2481\u001b[0m \u001b[38;5;66;03m# when using magics with decodator @output_can_be_silenced\u001b[39;00m\n\u001b[1;32m   2482\u001b[0m \u001b[38;5;66;03m# when the last Python token in the expression is a ';'.\u001b[39;00m\n\u001b[1;32m   2483\u001b[0m \u001b[38;5;28;01mif\u001b[39;00m \u001b[38;5;28mgetattr\u001b[39m(fn, magic\u001b[38;5;241m.\u001b[39mMAGIC_OUTPUT_CAN_BE_SILENCED, \u001b[38;5;28;01mFalse\u001b[39;00m):\n",
      "File \u001b[0;32m~/miniconda3/envs/bench/lib/python3.8/site-packages/spannerlib/spannerlog_magic.py:20\u001b[0m, in \u001b[0;36mspannerlogMagic.spannerlog\u001b[0;34m(self, line, cell)\u001b[0m\n\u001b[1;32m     17\u001b[0m \u001b[38;5;28;01mfrom\u001b[39;00m \u001b[38;5;21;01mspannerlib\u001b[39;00m \u001b[38;5;28;01mimport\u001b[39;00m magic_session\n\u001b[1;32m     19\u001b[0m \u001b[38;5;28;01mif\u001b[39;00m cell:\n\u001b[0;32m---> 20\u001b[0m     \u001b[43mmagic_session\u001b[49m\u001b[38;5;241;43m.\u001b[39;49m\u001b[43mrun_commands\u001b[49m\u001b[43m(\u001b[49m\u001b[43mcell\u001b[49m\u001b[43m,\u001b[49m\u001b[43m \u001b[49m\u001b[43mprint_results\u001b[49m\u001b[38;5;241;43m=\u001b[39;49m\u001b[38;5;28;43;01mTrue\u001b[39;49;00m\u001b[43m)\u001b[49m\n\u001b[1;32m     21\u001b[0m \u001b[38;5;28;01melse\u001b[39;00m:\n\u001b[1;32m     22\u001b[0m     magic_session\u001b[38;5;241m.\u001b[39mrun_commands(line, print_results\u001b[38;5;241m=\u001b[39m\u001b[38;5;28;01mTrue\u001b[39;00m)\n",
      "File \u001b[0;32m~/miniconda3/envs/bench/lib/python3.8/site-packages/spannerlib/session.py:429\u001b[0m, in \u001b[0;36mrun_commands\u001b[0;34m(self, query, print_results, format_results)\u001b[0m\n\u001b[1;32m    427\u001b[0m parse_tree \u001b[38;5;241m=\u001b[39m \u001b[38;5;28mself\u001b[39m\u001b[38;5;241m.\u001b[39m_parser\u001b[38;5;241m.\u001b[39mparse(query)\n\u001b[1;32m    428\u001b[0m \u001b[38;5;28;01mfor\u001b[39;00m statement \u001b[38;5;129;01min\u001b[39;00m parse_tree\u001b[38;5;241m.\u001b[39mchildren:\n\u001b[0;32m--> 429\u001b[0m     \u001b[38;5;28;43mself\u001b[39;49m\u001b[38;5;241;43m.\u001b[39;49m\u001b[43m_run_passes\u001b[49m\u001b[43m(\u001b[49m\u001b[43mstatement\u001b[49m\u001b[43m,\u001b[49m\u001b[43m \u001b[49m\u001b[38;5;28;43mself\u001b[39;49m\u001b[38;5;241;43m.\u001b[39;49m\u001b[43m_pass_stack\u001b[49m\u001b[43m)\u001b[49m\n\u001b[1;32m    430\u001b[0m     query_result \u001b[38;5;241m=\u001b[39m \u001b[38;5;28mself\u001b[39m\u001b[38;5;241m.\u001b[39m_execution(parse_graph\u001b[38;5;241m=\u001b[39m\u001b[38;5;28mself\u001b[39m\u001b[38;5;241m.\u001b[39m_parse_graph,\n\u001b[1;32m    431\u001b[0m                                     symbol_table\u001b[38;5;241m=\u001b[39m\u001b[38;5;28mself\u001b[39m\u001b[38;5;241m.\u001b[39m_symbol_table,\n\u001b[1;32m    432\u001b[0m                                     spannerlog_engine\u001b[38;5;241m=\u001b[39m\u001b[38;5;28mself\u001b[39m\u001b[38;5;241m.\u001b[39m_engine,\n\u001b[1;32m    433\u001b[0m                                     term_graph\u001b[38;5;241m=\u001b[39m\u001b[38;5;28mself\u001b[39m\u001b[38;5;241m.\u001b[39m_term_graph)\n\u001b[1;32m    434\u001b[0m     \u001b[38;5;28;01mif\u001b[39;00m query_result \u001b[38;5;129;01mis\u001b[39;00m \u001b[38;5;129;01mnot\u001b[39;00m \u001b[38;5;28;01mNone\u001b[39;00m:\n",
      "File \u001b[0;32m~/miniconda3/envs/bench/lib/python3.8/site-packages/spannerlib/session.py:292\u001b[0m, in \u001b[0;36m_run_passes\u001b[0;34m(self, lark_tree, pass_list)\u001b[0m\n\u001b[1;32m    288\u001b[0m \u001b[38;5;28;01mfor\u001b[39;00m curr_pass \u001b[38;5;129;01min\u001b[39;00m pass_list:\n\u001b[1;32m    289\u001b[0m     curr_pass_object \u001b[38;5;241m=\u001b[39m curr_pass(parse_graph\u001b[38;5;241m=\u001b[39m\u001b[38;5;28mself\u001b[39m\u001b[38;5;241m.\u001b[39m_parse_graph,\n\u001b[1;32m    290\u001b[0m                                     symbol_table\u001b[38;5;241m=\u001b[39m\u001b[38;5;28mself\u001b[39m\u001b[38;5;241m.\u001b[39m_symbol_table,\n\u001b[1;32m    291\u001b[0m                                     term_graph\u001b[38;5;241m=\u001b[39m\u001b[38;5;28mself\u001b[39m\u001b[38;5;241m.\u001b[39m_term_graph)\n\u001b[0;32m--> 292\u001b[0m     new_tree \u001b[38;5;241m=\u001b[39m \u001b[43mcurr_pass_object\u001b[49m\u001b[38;5;241;43m.\u001b[39;49m\u001b[43mrun_pass\u001b[49m\u001b[43m(\u001b[49m\u001b[43mtree\u001b[49m\u001b[38;5;241;43m=\u001b[39;49m\u001b[43mlark_tree\u001b[49m\u001b[43m)\u001b[49m\n\u001b[1;32m    293\u001b[0m     \u001b[38;5;28;01mif\u001b[39;00m new_tree \u001b[38;5;129;01mis\u001b[39;00m \u001b[38;5;129;01mnot\u001b[39;00m \u001b[38;5;28;01mNone\u001b[39;00m:\n\u001b[1;32m    294\u001b[0m         lark_tree \u001b[38;5;241m=\u001b[39m new_tree\n",
      "File \u001b[0;32m~/miniconda3/envs/bench/lib/python3.8/site-packages/spannerlib/lark_passes.py:53\u001b[0m, in \u001b[0;36mInterpreterPass.run_pass\u001b[0;34m(self, **kwargs)\u001b[0m\n\u001b[1;32m     52\u001b[0m \u001b[38;5;28;01mdef\u001b[39;00m \u001b[38;5;21mrun_pass\u001b[39m(\u001b[38;5;28mself\u001b[39m, \u001b[38;5;241m*\u001b[39m\u001b[38;5;241m*\u001b[39mkwargs: Any) \u001b[38;5;241m-\u001b[39m\u001b[38;5;241m>\u001b[39m \u001b[38;5;28;01mNone\u001b[39;00m:\n\u001b[0;32m---> 53\u001b[0m     \u001b[38;5;28;43mself\u001b[39;49m\u001b[38;5;241;43m.\u001b[39;49m\u001b[43mvisit\u001b[49m\u001b[43m(\u001b[49m\u001b[43mget_tree\u001b[49m\u001b[43m(\u001b[49m\u001b[38;5;241;43m*\u001b[39;49m\u001b[38;5;241;43m*\u001b[39;49m\u001b[43mkwargs\u001b[49m\u001b[43m)\u001b[49m\u001b[43m)\u001b[49m\n",
      "File \u001b[0;32m~/miniconda3/envs/bench/lib/python3.8/site-packages/lark/visitors.py:381\u001b[0m, in \u001b[0;36mInterpreter.visit\u001b[0;34m(self, tree)\u001b[0m\n\u001b[1;32m    379\u001b[0m     \u001b[38;5;28;01mreturn\u001b[39;00m f\u001b[38;5;241m.\u001b[39mvisit_wrapper(f, tree\u001b[38;5;241m.\u001b[39mdata, tree\u001b[38;5;241m.\u001b[39mchildren, tree\u001b[38;5;241m.\u001b[39mmeta)\n\u001b[1;32m    380\u001b[0m \u001b[38;5;28;01melse\u001b[39;00m:\n\u001b[0;32m--> 381\u001b[0m     \u001b[38;5;28;01mreturn\u001b[39;00m \u001b[43mf\u001b[49m\u001b[43m(\u001b[49m\u001b[43mtree\u001b[49m\u001b[43m)\u001b[49m\n",
      "File \u001b[0;32m~/miniconda3/envs/bench/lib/python3.8/site-packages/spannerlib/passes_utils.py:89\u001b[0m, in \u001b[0;36munravel_lark_node.<locals>.wrapped_method\u001b[0;34m(visitor, lark_node)\u001b[0m\n\u001b[1;32m     87\u001b[0m \u001b[38;5;28;01mdef\u001b[39;00m \u001b[38;5;21mwrapped_method\u001b[39m(visitor: Any, lark_node: LarkNode) \u001b[38;5;241m-\u001b[39m\u001b[38;5;241m>\u001b[39m Any:\n\u001b[1;32m     88\u001b[0m     structured_node \u001b[38;5;241m=\u001b[39m lark_node\u001b[38;5;241m.\u001b[39mchildren[\u001b[38;5;241m0\u001b[39m]\n\u001b[0;32m---> 89\u001b[0m     \u001b[38;5;28;01mreturn\u001b[39;00m \u001b[43mfunc\u001b[49m\u001b[43m(\u001b[49m\u001b[43mvisitor\u001b[49m\u001b[43m,\u001b[49m\u001b[43m \u001b[49m\u001b[43mstructured_node\u001b[49m\u001b[43m)\u001b[49m\n",
      "File \u001b[0;32m~/miniconda3/envs/bench/lib/python3.8/site-packages/spannerlib/lark_passes.py:803\u001b[0m, in \u001b[0;36mSaveDeclaredRelationsSchemas.relation_declaration\u001b[0;34m(self, relation_decl)\u001b[0m\n\u001b[1;32m    801\u001b[0m \u001b[38;5;129m@unravel_lark_node\u001b[39m\n\u001b[1;32m    802\u001b[0m \u001b[38;5;28;01mdef\u001b[39;00m \u001b[38;5;21mrelation_declaration\u001b[39m(\u001b[38;5;28mself\u001b[39m, relation_decl: RelationDeclaration) \u001b[38;5;241m-\u001b[39m\u001b[38;5;241m>\u001b[39m \u001b[38;5;28;01mNone\u001b[39;00m:\n\u001b[0;32m--> 803\u001b[0m     \u001b[38;5;28;43mself\u001b[39;49m\u001b[38;5;241;43m.\u001b[39;49m\u001b[43msymbol_table\u001b[49m\u001b[38;5;241;43m.\u001b[39;49m\u001b[43madd_relation_schema\u001b[49m\u001b[43m(\u001b[49m\u001b[43mrelation_decl\u001b[49m\u001b[38;5;241;43m.\u001b[39;49m\u001b[43mrelation_name\u001b[49m\u001b[43m,\u001b[49m\u001b[43m \u001b[49m\u001b[43mrelation_decl\u001b[49m\u001b[38;5;241;43m.\u001b[39;49m\u001b[43mtype_list\u001b[49m\u001b[43m,\u001b[49m\u001b[43m \u001b[49m\u001b[38;5;28;43;01mFalse\u001b[39;49;00m\u001b[43m)\u001b[49m\n",
      "File \u001b[0;32m~/miniconda3/envs/bench/lib/python3.8/site-packages/spannerlib/symbol_table.py:252\u001b[0m, in \u001b[0;36mSymbolTable.add_relation_schema\u001b[0;34m(self, relation_name, schema, is_rule)\u001b[0m\n\u001b[1;32m    249\u001b[0m \u001b[38;5;28;01melse\u001b[39;00m:  \u001b[38;5;66;03m# relation definition\u001b[39;00m\n\u001b[1;32m    250\u001b[0m     \u001b[38;5;66;03m# if the relation is already defined we can't redefine her\u001b[39;00m\n\u001b[1;32m    251\u001b[0m     \u001b[38;5;28;01mif\u001b[39;00m relation_name \u001b[38;5;129;01min\u001b[39;00m \u001b[38;5;28mself\u001b[39m\u001b[38;5;241m.\u001b[39m_relation_to_schema:\n\u001b[0;32m--> 252\u001b[0m         \u001b[38;5;28;01mraise\u001b[39;00m \u001b[38;5;167;01mException\u001b[39;00m(\u001b[38;5;124mf\u001b[39m\u001b[38;5;124m'\u001b[39m\u001b[38;5;124mrelation \u001b[39m\u001b[38;5;124m\"\u001b[39m\u001b[38;5;132;01m{\u001b[39;00mrelation_name\u001b[38;5;132;01m}\u001b[39;00m\u001b[38;5;124m\"\u001b[39m\u001b[38;5;124m already has a schema\u001b[39m\u001b[38;5;124m'\u001b[39m)\n\u001b[1;32m    254\u001b[0m \u001b[38;5;28mself\u001b[39m\u001b[38;5;241m.\u001b[39m_relation_to_schema[relation_name] \u001b[38;5;241m=\u001b[39m schema\n\u001b[1;32m    255\u001b[0m \u001b[38;5;28;01mif\u001b[39;00m is_rule:\n",
      "\u001b[0;31mException\u001b[0m: relation \"lecturer\" already has a schema"
     ]
    }
   ],
   "source": [
    "%%spannerlog\n",
    "new lecturer(str, str)\n",
    "lecturer(\"walter\", \"chemistry\")\n",
    "lecturer(\"linus\", \"operation systems\")\n",
    "lecturer(\"rick\", \"physics\")\n",
    "\n",
    "new enrolled(str, str)\n",
    "enrolled(\"abigail\", \"chemistry\")\n",
    "enrolled(\"abigail\", \"operation systems\")\n",
    "enrolled(\"jordan\", \"chemistry\")\n",
    "enrolled(\"gale\", \"operation systems\")\n",
    "enrolled(\"howard\", \"chemistry\")\n",
    "enrolled(\"howard\", \"physics\")\n",
    "\n",
    "enrolled_in_chemistry(X) <- enrolled(X, \"chemistry\")\n",
    "?enrolled_in_chemistry(\"jordan\") # returns empty tuple ()\n",
    "?enrolled_in_chemistry(\"gale\") # returns nothing\n",
    "?enrolled_in_chemistry(X) # returns \"abigail\", \"jordan\" and \"howard\"\n",
    "\n",
    "enrolled_in_physics_and_chemistry(X) <- enrolled_in_chemistry(X), enrolled(X, \"physics\")\n",
    "?enrolled_in_physics_and_chemistry(X) # returns \"howard\"\n",
    "\n",
    "lecturer_of(X,Z) <- lecturer(X,Y), enrolled(Z,Y)\n",
    "?lecturer_of(X,\"abigail\") # returns \"walter\" and \"linus\"\n",
    "\n",
    "grade_str = \"abigail 100 jordan 80 gale 79 howard 60\"\n",
    "grade_of_chemistry_students(Student, Grade) <- \\\n",
    "py_rgx_string(grade_str, \"(\\w+).*?(\\d+)\")->(Student, Grade), enrolled_in_chemistry(Student)\n",
    "?grade_of_chemistry_students(X, \"100\") # returns \"abigail\""
   ]
  },
  {
   "cell_type": "markdown",
   "metadata": {},
   "source": [
    "# Useful tricks<a class=\"anchor\" id=\"Usefull tricks\"></a>\n",
    "## Matching Outputs:\n",
    "Let's write a spannerlog program that gets a table in which each row is a single string - string(str).\n",
    "<br>\n",
    "The program will create a new table in which each row is a string and its length.\n",
    "\n",
    "### First try:"
   ]
  },
  {
   "cell_type": "code",
   "execution_count": null,
   "metadata": {},
   "outputs": [],
   "source": [
    "# Step 1: implement an IE function\n",
    "def length(string):\n",
    "    #here we append the input to the output inside the ie function!\n",
    "    yield len(string), string\n",
    "\n",
    "magic_session.register(length, \"Length\", [DataTypes.string], [DataTypes.integer, DataTypes.string])\n"
   ]
  },
  {
   "cell_type": "code",
   "execution_count": null,
   "metadata": {},
   "outputs": [
    {
     "name": "stdout",
     "output_type": "stream",
     "text": [
      "printing results for query 'string_length(Str, Len)':\n",
      "  Str  |   Len\n",
      "-------+-------\n",
      "   a   |     1\n",
      "  ab   |     2\n",
      "  abc  |     3\n",
      " abcd  |     4\n",
      "\n"
     ]
    }
   ],
   "source": [
    "%%spannerlog\n",
    "# Let's test this solution:\n",
    "new string(str)\n",
    "string(\"a\")\n",
    "string(\"ab\")\n",
    "string(\"abc\")\n",
    "string(\"abcd\")\n",
    "\n",
    "string_length(Str, Len) <- string(Str), Length(Str) -> (Len, Str)\n",
    "?string_length(Str, Len)"
   ]
  },
  {
   "cell_type": "markdown",
   "metadata": {},
   "source": [
    "### It works\n",
    "Our first IE function yield the input in addition to the output. This will ensure that we will get\n",
    "the right output to his input. But, is this really necessary? Let's try another solution:\n"
   ]
  },
  {
   "cell_type": "code",
   "execution_count": null,
   "metadata": {},
   "outputs": [],
   "source": [
    "#here we don't append the input to the output inside the ie function!\n",
    "def length2(string):\n",
    "   yield len(string),\n",
    "\n",
    "# Step 2: register the function\n",
    "magic_session.register(length2, \"Length2\", [DataTypes.string], [DataTypes.integer])"
   ]
  },
  {
   "cell_type": "code",
   "execution_count": null,
   "metadata": {},
   "outputs": [
    {
     "name": "stdout",
     "output_type": "stream",
     "text": [
      "printing results for query 'string_length(Str, Len)':\n",
      "  Str  |   Len\n",
      "-------+-------\n",
      "   a   |     1\n",
      "  ab   |     2\n",
      "  abc  |     3\n",
      " abcd  |     4\n",
      "\n"
     ]
    }
   ],
   "source": [
    "%%spannerlog\n",
    "# Let's test this solution:\n",
    "new rel(str)\n",
    "rel(\"a\")\n",
    "rel(\"ab\")\n",
    "rel(\"abc\")\n",
    "rel(\"abcd\")\n",
    "\n",
    "string_length(Str, Len) <- rel(Str), Length2(Str) -> (Len)\n",
    "?string_length(Str, Len)"
   ]
  },
  {
   "cell_type": "markdown",
   "metadata": {},
   "source": [
    "### It looks good, but why?\n",
    "First we can see that the IE function yield only an output without any trace to the input. In addition, spannerlog stores all the inputs of each IE function in an input table and all the outputs in an output table.\n",
    "Then it's joining the input table with the output table. So, why we still got the right solution?\n",
    "This thanks to the fact that spannerlog stores the input bounded to it's output deductively.\n",
    "\n",
    "\n",
    "\n",
    "## Logical Operators:\n",
    "Suppose we have a table in which each row contains two strings - pair(str, str).\n",
    "Our goal is to filter all the rows that contain the same value twice.\n",
    "<br>\n",
    "In other words, we want to implement the relation **not equals (NEQ)**.\n",
    "\n",
    "We would like to have a rule such as:\n",
    "<br>\n",
    "```unique_pair(X, Y) <- pair(X, Y), X != Y```\n",
    "<br><br>\n",
    "Unfortunately spannerlog doesn't support True/False values. Therefore, we can't use ```X != Y```.\n",
    "<br>\n",
    "Our solution to this problem is to create an ie function that implements NEQ relation:"
   ]
  },
  {
   "cell_type": "code",
   "execution_count": null,
   "metadata": {},
   "outputs": [],
   "source": [
    "def NEQ(x, y):\n",
    "    if x == y:\n",
    "        # return false (empty tuple represents false)\n",
    "        yield tuple() \n",
    "    else:\n",
    "        #return true\n",
    "        yield x, y\n",
    "\n",
    "in_out_types = [DataTypes.string, DataTypes.string]\n",
    "magic_session.register(NEQ, \"NEQ\", in_out_types, in_out_types)"
   ]
  },
  {
   "cell_type": "code",
   "execution_count": null,
   "metadata": {},
   "outputs": [
    {
     "name": "stdout",
     "output_type": "stream",
     "text": [
      "printing results for query 'unique_pair(X, Y)':\n",
      "  X  |  Y\n",
      "-----+-----\n",
      " Dan | Tom\n",
      " Cat | Dog\n",
      " 123 | 321\n",
      "\n"
     ]
    }
   ],
   "source": [
    "%%spannerlog\n",
    "#Lets test this solution\n",
    "new pair(str, str)\n",
    "pair(\"Dan\", \"Tom\")\n",
    "pair(\"Cat\", \"Dog\")\n",
    "pair(\"Apple\", \"Apple\")\n",
    "pair(\"Cow\", \"Cow\")\n",
    "pair(\"123\", \"321\")\n",
    "\n",
    "unique_pair(X, Y) <- pair(X, Y), NEQ(X, Y) -> (X, Y)\n",
    "?unique_pair(X, Y)"
   ]
  },
  {
   "cell_type": "markdown",
   "metadata": {},
   "source": [
    "# Python Implementation v.s. spannerlog Implementation"
   ]
  },
  {
   "cell_type": "markdown",
   "metadata": {},
   "source": [
    "let's try to compare coding in python and coding in spannerlog.\n",
    "we are given two long strings of enrolled pairs, grades pairs.\n",
    "our goal is to find all student that are enrolled in biology and chemistry, and have a GPA = 80."
   ]
  },
  {
   "cell_type": "markdown",
   "metadata": {},
   "source": [
    "## python "
   ]
  },
  {
   "cell_type": "code",
   "execution_count": null,
   "metadata": {},
   "outputs": [
    {
     "name": "stdout",
     "output_type": "stream",
     "text": [
      "dave\n"
     ]
    }
   ],
   "source": [
    "import re\n",
    "enrolled = \"dave chemistry dave biology rem biology ram biology emilia physics roswaal chemistry roswaal biology roswaal physics\"\n",
    "grades = \"dave 80 rem 66 ram 66 roswaal 100 emilia 88\"\n",
    "\n",
    "enrolled_pairs = re.findall(r\"(\\w+).*?(\\w+)\", enrolled)\n",
    "grade_pairs = re.findall(r\"(\\w+).*?(\\d+)\", grades)\n",
    "for student1, course1 in enrolled_pairs:\n",
    "    for student2, course2 in enrolled_pairs:\n",
    "        for student3, grade in grade_pairs:\n",
    "            if (student1 == student2 == student3):\n",
    "                if (course1 == \"biology\" and course2 == \"chemistry\" and int(grade) == 80):\n",
    "                    print(student1)"
   ]
  },
  {
   "cell_type": "markdown",
   "metadata": {},
   "source": [
    "## spannerlog"
   ]
  },
  {
   "cell_type": "code",
   "execution_count": null,
   "metadata": {},
   "outputs": [
    {
     "name": "stdout",
     "output_type": "stream",
     "text": [
      "printing results for query 'interesting_student(X)':\n",
      "  X\n",
      "------\n",
      " dave\n",
      "\n"
     ]
    }
   ],
   "source": [
    "%%spannerlog\n",
    "enrolled = \"dave chemistry dave biology rem biology ram biology emilia physics roswaal chemistry roswaal biology roswaal physics\"\n",
    "grades = \"dave 80 rem 66 ram 66 roswaal 100 emilia 88\"\n",
    "\n",
    "enrolled_in(Student, Course) <- py_rgx_string(enrolled, \"(\\w+).*?(\\w+)\")->(Student, Course)\n",
    "student_grade(Student, Grade) <- py_rgx_string(grades, \"(\\w+).*?(\\d+)\") -> (Student, Grade)\n",
    "interesting_student(X) <- enrolled_in(X, \"biology\"), enrolled_in(X, \"chemistry\"), student_grade(X, \"80\")\n",
    "?interesting_student(X)"
   ]
  },
  {
   "cell_type": "markdown",
   "metadata": {},
   "source": [
    "in this case, the python implementation was long and unnatural. on the other hand, the spannerlog implementation was cleaner and allowed us to express our intentions directly, rather than dealing with annoying programming logic."
   ]
  },
  {
   "cell_type": "markdown",
   "metadata": {},
   "source": [
    "# Parsing JSON document using spannerlog"
   ]
  },
  {
   "cell_type": "markdown",
   "metadata": {},
   "source": [
    "spannerlog's JsonPath/JsonFullPath ie functions allow us to easily parse json documents using path expressions.<br>\n",
    "We will demonstrate how to use the latter. Check out the [jsonpath repo](https://github.com/json-path/JsonPath) for more information.\n",
    "\n",
    "First, we would like to remove the built-in jsonpath function, to show how we implement it from scratch:"
   ]
  },
  {
   "cell_type": "code",
   "execution_count": null,
   "metadata": {},
   "outputs": [],
   "source": [
    "magic_session.remove_ie_function(\"JsonPathFull\")"
   ]
  },
  {
   "cell_type": "markdown",
   "metadata": {},
   "source": [
    "After removing the function, implementing and registering it is as easy as:"
   ]
  },
  {
   "cell_type": "code",
   "execution_count": null,
   "metadata": {},
   "outputs": [],
   "source": [
    "import json\n",
    "from jsonpath_ng import parse\n",
    "\n",
    "def parse_match(match) -> str:\n",
    "    \"\"\"\n",
    "    @param match: a match result of json path query.\n",
    "    @return: a string that represents the match in string format.\n",
    "    \"\"\"\n",
    "    json_result = match.value\n",
    "    if type(json_result) != str:\n",
    "        # we replace for the same reason as in json_path implementation.\n",
    "        json_result = json.dumps(json_result).replace(\"\\\"\", \"'\")\n",
    "    return json_result\n",
    "\n",
    "def json_path_full(json_document: str, path_expression: str):\n",
    "    \"\"\"\n",
    "    @param json_document: The document on which we will run the path expression.\n",
    "    @param path_expression: The query to execute.\n",
    "    @return: json documents with the full results paths.\n",
    "    \"\"\"\n",
    "    json_document = json.loads(json_document.replace(\"'\", \"\\\"\"))\n",
    "    jsonpath_expr = parse(path_expression)\n",
    "    for match in jsonpath_expr.find(json_document):\n",
    "        json_result = str(match.full_path)\n",
    "        # objects in full path are separated by dots.\n",
    "        yield *json_result.split(\".\"), parse_match(match)\n",
    "\n",
    "JsonPathFull = dict(ie_function=json_path_full,\n",
    "            ie_function_name='JsonPathFull',\n",
    "            in_rel=[DataTypes.string, DataTypes.string],\n",
    "            out_rel=lambda arity: [DataTypes.string] * arity,\n",
    "            )\n",
    "\n",
    "magic_session.register(**JsonPathFull)"
   ]
  },
  {
   "cell_type": "markdown",
   "metadata": {},
   "source": [
    "And now for the usage. <br>\n",
    "Suppose we have a json document of the following format {student: {subject: grade, ...} ,...} <br>\n",
    "We want to create a rglox relation containing tuples of (student, subject, grade)."
   ]
  },
  {
   "cell_type": "code",
   "execution_count": null,
   "metadata": {},
   "outputs": [
    {
     "name": "stdout",
     "output_type": "stream",
     "text": [
      "printing results for query 'json_table(Student, Subject, Grade)':\n",
      "  Student  |      Subject      |   Grade\n",
      "-----------+-------------------+---------\n",
      "  abigail  |     chemistry     |      80\n",
      "  abigail  | operation systems |      99\n",
      "  jordan   |     chemistry     |      65\n",
      "  jordan   |      physics      |      70\n",
      "   gale    | operation systems |     100\n",
      "  howard   |     chemistry     |      90\n",
      "  howard   |      physics      |      91\n",
      "  howard   |      biology      |      92\n",
      "\n"
     ]
    }
   ],
   "source": [
    "%%spannerlog\n",
    "\n",
    "# we use strings, as spannerlog doesn't support dicts.\n",
    "json_string = \"{ \\\n",
    "                'abigail': {'chemistry': 80, 'operation systems': 99}, \\\n",
    "                'jordan':  {'chemistry': 65, 'physics': 70}, \\\n",
    "                'gale':    {'operation systems': 100}, \\\n",
    "                'howard':  {'chemistry': 90, 'physics':91, 'biology':92} \\\n",
    "                }\"\n",
    "\n",
    "# path expression is the path to the key of each grade (in our simple case it's *.*)\n",
    "# then JsonPathFull appends the full path to the value\n",
    "json_table(Student, Subject, Grade) <- JsonPathFull(json_string, \"*.*\") -> (Student, Subject, Grade)\n",
    "?json_table(Student, Subject, Grade)"
   ]
  }
 ],
 "metadata": {
  "jupytext": {
   "formats": "ipynb,md"
  },
  "kernelspec": {
   "display_name": "python3",
   "language": "python",
   "name": "python3"
  }
 },
 "nbformat": 4,
 "nbformat_minor": 4
}
