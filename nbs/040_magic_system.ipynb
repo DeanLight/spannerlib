{
 "cells": [
  {
   "cell_type": "markdown",
   "metadata": {},
   "source": [
    "# spannerlog Magic"
   ]
  },
  {
   "cell_type": "code",
   "execution_count": null,
   "metadata": {},
   "outputs": [],
   "source": [
    "#| default_exp magic"
   ]
  },
  {
   "cell_type": "code",
   "execution_count": null,
   "metadata": {},
   "outputs": [],
   "source": [
    "#| hide\n",
    "from nbdev.showdoc import show_doc\n",
    "from IPython.display import display, HTML\n",
    "%load_ext autoreload\n",
    "%autoreload 2"
   ]
  },
  {
   "cell_type": "code",
   "execution_count": null,
   "metadata": {},
   "outputs": [
    {
     "name": "stderr",
     "output_type": "stream",
     "text": [
      "[autoreload of spannerlib.span failed: Traceback (most recent call last):\n",
      "  File \"/Users/dean/miniconda3/envs/span/lib/python3.11/site-packages/IPython/extensions/autoreload.py\", line 276, in check\n",
      "    superreload(m, reload, self.old_objects)\n",
      "  File \"/Users/dean/miniconda3/envs/span/lib/python3.11/site-packages/IPython/extensions/autoreload.py\", line 475, in superreload\n",
      "    module = reload(module)\n",
      "             ^^^^^^^^^^^^^^\n",
      "  File \"/Users/dean/miniconda3/envs/span/lib/python3.11/importlib/__init__.py\", line 159, in reload\n",
      "    raise ImportError(msg.format(parent_name),\n",
      "ImportError: parent 'spannerlib' not in sys.modules\n",
      "]\n"
     ]
    }
   ],
   "source": [
    "#| export\n",
    "from typing import Optional\n",
    "import logging\n",
    "logger = logging.getLogger(__name__)\n",
    "\n",
    "from pathlib import Path\n",
    "import pandas as pd\n",
    "from IPython.core.magic import (Magics, magics_class, line_cell_magic)\n",
    "from singleton_decorator import singleton\n",
    "from spannerlib.utils import assert_df_equals\n",
    "from spannerlib.session import Session"
   ]
  },
  {
   "cell_type": "code",
   "execution_count": null,
   "metadata": {},
   "outputs": [],
   "source": [
    "#| export\n",
    "@singleton\n",
    "class _MagicSession():\n",
    "    def __init__(self):\n",
    "        self.session = Session()\n",
    "\n",
    "def get_magic_session():\n",
    "    \"\"\"Returns the session used by the magic system\n",
    "\n",
    "    Returns:\n",
    "        Session\n",
    "    \"\"\"    \n",
    "    return _MagicSession().session\n",
    "\n",
    "def set_magic_session(session: Session):\n",
    "    \"\"\"Changes the session used by the magic system to the one provided\n",
    "\n",
    "    Args:\n",
    "        session (Session): the session to use in the magic system\n",
    "    \"\"\"\n",
    "    _MagicSession().session = session\n"
   ]
  },
  {
   "cell_type": "code",
   "execution_count": null,
   "metadata": {},
   "outputs": [
    {
     "data": {
      "text/plain": [
       "<spannerlib.session.Session>"
      ]
     },
     "execution_count": null,
     "metadata": {},
     "output_type": "execute_result"
    }
   ],
   "source": [
    "sess_1 = Session()\n",
    "sess_1"
   ]
  },
  {
   "cell_type": "code",
   "execution_count": null,
   "metadata": {},
   "outputs": [],
   "source": [
    "assert get_magic_session()==get_magic_session()\n",
    "assert get_magic_session()!=sess_1\n",
    "set_magic_session(sess_1)\n",
    "assert get_magic_session()==sess_1\n",
    "\n",
    "#TODO from here add to parser, if we have curly braces try to get var name from global"
   ]
  },
  {
   "cell_type": "code",
   "execution_count": null,
   "metadata": {},
   "outputs": [],
   "source": [
    "#| export\n",
    "import argparse\n",
    "import shlex\n",
    "magic_args_parser = parser = argparse.ArgumentParser()\n",
    "parser.add_argument(\"-o\", \"--output\",type=str, help=\"write code to file\")\n",
    "parser.add_argument(\"-a\", \"--append\",type=str, help=\"append code to file\")\n",
    "\n",
    "def curly_brace_to_glob_var(line:str):\n",
    "    \"\"\"If the line is a variable name enclosed in curly braces, return the variable from the global scope\n",
    "    \"\"\"\n",
    "    if line.startswith(\"{\") and line.endswith(\"}\"):\n",
    "        var = line[1:-1]\n",
    "    else:\n",
    "        return line\n",
    "\n",
    "    if var in globals():\n",
    "        return globals()[var]\n",
    "    else:\n",
    "        raise ValueError(f\"Variable {var} not found in global scope\")\n",
    "\n",
    "def parse_options(line):\n",
    "    namespace = magic_args_parser.parse_args(shlex.split(line))\n",
    "    args_dict = namespace.__dict__\n",
    "    args_dict = {k:v for k,v in args_dict.items() if v is not None}\n",
    "    args_dict = {k:curly_brace_to_glob_var(v) for k,v in args_dict.items()}\n",
    "    return args_dict\n"
   ]
  },
  {
   "cell_type": "code",
   "execution_count": null,
   "metadata": {},
   "outputs": [],
   "source": [
    "test = \"heyyyy.txt\"\n",
    "r = parse_options(\"-o test, -a {test}\")\n",
    "assert r == {'output': 'test,', 'append': 'heyyyy.txt'}\n",
    "\n",
    "r = parse_options(\"-o test\")\n",
    "assert r == {'output': 'test'}"
   ]
  },
  {
   "cell_type": "code",
   "execution_count": null,
   "metadata": {},
   "outputs": [],
   "source": [
    "#| export\n",
    "def clean_query_lines(code)->str:\n",
    "    \"\"\"remove query lines from code by removing lines that start with '?' \"\"\"\n",
    "    code_lines = code.split('\\n')\n",
    "    non_query_lines = [line for line in code_lines if not line.startswith('?')]\n",
    "\n",
    "    # remove double empty lines\n",
    "    clean_code = []\n",
    "    for i, line in enumerate(non_query_lines):\n",
    "        if i>0 and not line and not non_query_lines[i-1]:\n",
    "            continue\n",
    "        clean_code.append(line)\n",
    "    clean_code = '\\n'.join(clean_code)\n",
    "    return clean_code\n",
    "\n",
    "@magics_class\n",
    "class spannerlogMagic(Magics):\n",
    "    @line_cell_magic\n",
    "    def spannerlog(self, line: str, cell: str) -> None:\n",
    "        # import locally to prevent circular import issues\n",
    "        magic_session = get_magic_session()\n",
    "\n",
    "        args = parse_options(line)\n",
    "\n",
    "        code = cell if cell else line\n",
    "        try:\n",
    "            _ = magic_session.export(code,display_results=True\n",
    "                # ,return_statements_meta=True\n",
    "                )\n",
    "        except Exception as e:\n",
    "            raise e from None\n",
    "\n",
    "        if 'output' in args or 'append' in args:\n",
    "            clean_code = clean_query_lines(code)\n",
    "\n",
    "        if 'output' in args:\n",
    "            out_file = Path(args['output'])\n",
    "            out_file.write_text(clean_code + '\\n')\n",
    "            \n",
    "        if 'append' in args:\n",
    "            out_file = Path(args['append'])\n",
    "            if not clean_code in out_file.read_text():\n",
    "                with open(out_file, \"a\") as f:\n",
    "                    f.write(clean_code + '\\n')\n",
    "\n",
    "def load_ipython_extension(ipython):\n",
    "    ipython.register_magics(spannerlogMagic)"
   ]
  },
  {
   "cell_type": "code",
   "execution_count": null,
   "metadata": {},
   "outputs": [
    {
     "name": "stderr",
     "output_type": "stream",
     "text": [
      "spannerlog magic loaded\n"
     ]
    }
   ],
   "source": [
    "try:\n",
    "    load_ipython_extension(get_ipython())\n",
    "    logger.warning(\"spannerlog magic loaded\")\n",
    "except (AttributeError, ImportError):\n",
    "    pass"
   ]
  },
  {
   "cell_type": "code",
   "execution_count": null,
   "metadata": {},
   "outputs": [
    {
     "data": {
      "text/plain": [
       "'?A(X)'"
      ]
     },
     "metadata": {},
     "output_type": "display_data"
    },
    {
     "data": {
      "text/html": [
       "<div>\n",
       "<style scoped>\n",
       "    .dataframe tbody tr th:only-of-type {\n",
       "        vertical-align: middle;\n",
       "    }\n",
       "\n",
       "    .dataframe tbody tr th {\n",
       "        vertical-align: top;\n",
       "    }\n",
       "\n",
       "    .dataframe thead th {\n",
       "        text-align: right;\n",
       "    }\n",
       "</style>\n",
       "<table border=\"1\" class=\"dataframe\">\n",
       "  <thead>\n",
       "    <tr style=\"text-align: right;\">\n",
       "      <th></th>\n",
       "      <th>X</th>\n",
       "    </tr>\n",
       "  </thead>\n",
       "  <tbody>\n",
       "    <tr>\n",
       "      <th>0</th>\n",
       "      <td>1</td>\n",
       "    </tr>\n",
       "  </tbody>\n",
       "</table>\n",
       "</div>"
      ],
      "text/plain": [
       "   X\n",
       "0  1"
      ]
     },
     "metadata": {},
     "output_type": "display_data"
    }
   ],
   "source": [
    "%%spannerlog\n",
    "new A(int)\n",
    "A(1)\n",
    "?A(X)"
   ]
  },
  {
   "cell_type": "code",
   "execution_count": null,
   "metadata": {},
   "outputs": [
    {
     "data": {
      "text/html": [
       "<div>\n",
       "<style scoped>\n",
       "    .dataframe tbody tr th:only-of-type {\n",
       "        vertical-align: middle;\n",
       "    }\n",
       "\n",
       "    .dataframe tbody tr th {\n",
       "        vertical-align: top;\n",
       "    }\n",
       "\n",
       "    .dataframe thead th {\n",
       "        text-align: right;\n",
       "    }\n",
       "</style>\n",
       "<table border=\"1\" class=\"dataframe\">\n",
       "  <thead>\n",
       "    <tr style=\"text-align: right;\">\n",
       "      <th></th>\n",
       "      <th>X</th>\n",
       "    </tr>\n",
       "  </thead>\n",
       "  <tbody>\n",
       "    <tr>\n",
       "      <th>0</th>\n",
       "      <td>1</td>\n",
       "    </tr>\n",
       "  </tbody>\n",
       "</table>\n",
       "</div>"
      ],
      "text/plain": [
       "   X\n",
       "0  1"
      ]
     },
     "execution_count": null,
     "metadata": {},
     "output_type": "execute_result"
    }
   ],
   "source": [
    "sesssion = get_magic_session()\n",
    "assert_df_equals(session.export(\"?A(X)\"),pd.DataFrame({'X':[1]}))"
   ]
  },
  {
   "cell_type": "code",
   "execution_count": null,
   "metadata": {},
   "outputs": [
    {
     "data": {
      "text/plain": [
       "'?A(X)'"
      ]
     },
     "metadata": {},
     "output_type": "display_data"
    },
    {
     "data": {
      "text/html": [
       "<div>\n",
       "<style scoped>\n",
       "    .dataframe tbody tr th:only-of-type {\n",
       "        vertical-align: middle;\n",
       "    }\n",
       "\n",
       "    .dataframe tbody tr th {\n",
       "        vertical-align: top;\n",
       "    }\n",
       "\n",
       "    .dataframe thead th {\n",
       "        text-align: right;\n",
       "    }\n",
       "</style>\n",
       "<table border=\"1\" class=\"dataframe\">\n",
       "  <thead>\n",
       "    <tr style=\"text-align: right;\">\n",
       "      <th></th>\n",
       "      <th>X</th>\n",
       "    </tr>\n",
       "  </thead>\n",
       "  <tbody>\n",
       "    <tr>\n",
       "      <th>0</th>\n",
       "      <td>1</td>\n",
       "    </tr>\n",
       "  </tbody>\n",
       "</table>\n",
       "</div>"
      ],
      "text/plain": [
       "   X\n",
       "0  1"
      ]
     },
     "metadata": {},
     "output_type": "display_data"
    }
   ],
   "source": [
    "%%spannerlog -o text.slog\n",
    "new A(int)\n",
    "?A(X)"
   ]
  },
  {
   "cell_type": "code",
   "execution_count": null,
   "metadata": {},
   "outputs": [],
   "source": [
    "%%spannerlog -a text.slog\n",
    "new B(int)"
   ]
  },
  {
   "cell_type": "code",
   "execution_count": null,
   "metadata": {},
   "outputs": [],
   "source": [
    "%%spannerlog -a text.slog\n",
    "new B(int)"
   ]
  },
  {
   "cell_type": "code",
   "execution_count": null,
   "metadata": {},
   "outputs": [],
   "source": [
    "assert Path('text.slog').read_text() == 'new A(int)\\n\\nnew B(int)\\n\\n'\n",
    "Path('text.slog').unlink()"
   ]
  },
  {
   "cell_type": "code",
   "execution_count": null,
   "metadata": {},
   "outputs": [],
   "source": [
    "write_to_file = 'text2.slog'"
   ]
  },
  {
   "cell_type": "code",
   "execution_count": null,
   "metadata": {},
   "outputs": [],
   "source": [
    "%%spannerlog -o {write_to_file}\n",
    "new A(int)"
   ]
  },
  {
   "cell_type": "code",
   "execution_count": null,
   "metadata": {},
   "outputs": [],
   "source": [
    "%%spannerlog -a {write_to_file}\n",
    "new B(int)"
   ]
  },
  {
   "cell_type": "code",
   "execution_count": null,
   "metadata": {},
   "outputs": [],
   "source": [
    "assert Path(write_to_file).read_text() == 'new A(int)\\n\\nnew B(int)\\n\\n'\n",
    "Path(write_to_file).unlink()"
   ]
  },
  {
   "cell_type": "code",
   "execution_count": null,
   "metadata": {},
   "outputs": [],
   "source": [
    "#|hide\n",
    "import nbdev; nbdev.nbdev_export()\n",
    "     "
   ]
  }
 ],
 "metadata": {
  "kernelspec": {
   "display_name": "python3",
   "language": "python",
   "name": "python3"
  }
 },
 "nbformat": 4,
 "nbformat_minor": 4
}
