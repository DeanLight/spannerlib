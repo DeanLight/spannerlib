{
 "cells": [
  {
   "cell_type": "markdown",
   "metadata": {},
   "source": [
    "# spannerlog Magic"
   ]
  },
  {
   "cell_type": "code",
   "execution_count": null,
   "metadata": {},
   "outputs": [],
   "source": [
    "#| default_exp magic"
   ]
  },
  {
   "cell_type": "code",
   "execution_count": null,
   "metadata": {},
   "outputs": [],
   "source": [
    "#| hide\n",
    "from nbdev.showdoc import show_doc\n",
    "from IPython.display import display, HTML\n",
    "%load_ext autoreload\n",
    "%autoreload 2"
   ]
  },
  {
   "cell_type": "code",
   "execution_count": null,
   "metadata": {},
   "outputs": [],
   "source": [
    "#| export\n",
    "from typing import Optional\n",
    "import logging\n",
    "logger = logging.getLogger(__name__)\n",
    "\n",
    "from pathlib import Path\n",
    "import pandas as pd\n",
    "from IPython.core.magic import (Magics, magics_class, line_cell_magic)\n",
    "from singleton_decorator import singleton\n",
    "from spannerlib.utils import assert_df_equals\n",
    "from spannerlib.session import Session"
   ]
  },
  {
   "cell_type": "code",
   "execution_count": null,
   "metadata": {},
   "outputs": [],
   "source": [
    "#| export\n",
    "@singleton\n",
    "class _MagicSession():\n",
    "    def __init__(self):\n",
    "        self.session = Session()\n",
    "\n",
    "def get_magic_session():\n",
    "    \"\"\"Returns the session used by the magic system\n",
    "\n",
    "    Returns:\n",
    "        Session\n",
    "    \"\"\"    \n",
    "    return _MagicSession().session\n",
    "\n",
    "def set_magic_session(session: Session):\n",
    "    \"\"\"Changes the session used by the magic system to the one provided\n",
    "\n",
    "    Args:\n",
    "        session (Session): the session to use in the magic system\n",
    "    \"\"\"\n",
    "    _MagicSession().session = session\n"
   ]
  },
  {
   "cell_type": "code",
   "execution_count": null,
   "metadata": {},
   "outputs": [
    {
     "data": {
      "text/plain": [
       "<spannerlib.session.Session>"
      ]
     },
     "execution_count": null,
     "metadata": {},
     "output_type": "execute_result"
    }
   ],
   "source": [
    "sess_1 = Session()\n",
    "sess_1"
   ]
  },
  {
   "cell_type": "code",
   "execution_count": null,
   "metadata": {},
   "outputs": [],
   "source": [
    "assert get_magic_session()==get_magic_session()\n",
    "assert get_magic_session()!=sess_1\n",
    "set_magic_session(sess_1)\n",
    "assert get_magic_session()==sess_1"
   ]
  },
  {
   "cell_type": "code",
   "execution_count": null,
   "metadata": {},
   "outputs": [
    {
     "name": "stdout",
     "output_type": "stream",
     "text": [
      "\u001b[0;31mSignature:\u001b[0m \u001b[0mx\u001b[0m\u001b[0;34m.\u001b[0m\u001b[0mwrite_text\u001b[0m\u001b[0;34m(\u001b[0m\u001b[0mdata\u001b[0m\u001b[0;34m,\u001b[0m \u001b[0mencoding\u001b[0m\u001b[0;34m=\u001b[0m\u001b[0;32mNone\u001b[0m\u001b[0;34m,\u001b[0m \u001b[0merrors\u001b[0m\u001b[0;34m=\u001b[0m\u001b[0;32mNone\u001b[0m\u001b[0;34m,\u001b[0m \u001b[0mnewline\u001b[0m\u001b[0;34m=\u001b[0m\u001b[0;32mNone\u001b[0m\u001b[0;34m)\u001b[0m\u001b[0;34m\u001b[0m\u001b[0;34m\u001b[0m\u001b[0m\n",
      "\u001b[0;31mDocstring:\u001b[0m Open the file in text mode, write to it, and close the file.\n",
      "\u001b[0;31mFile:\u001b[0m      ~/miniconda3/envs/span/lib/python3.11/pathlib.py\n",
      "\u001b[0;31mType:\u001b[0m      method"
     ]
    }
   ],
   "source": [
    "x= Path('test.txt')\n",
    "x.write_text?"
   ]
  },
  {
   "cell_type": "code",
   "execution_count": null,
   "metadata": {},
   "outputs": [],
   "source": [
    "#| export\n",
    "import argparse\n",
    "import shlex\n",
    "magic_args_parser = parser = argparse.ArgumentParser()\n",
    "parser.add_argument(\"-o\", \"--output\",type=str, help=\"write code to file\")\n",
    "parser.add_argument(\"-a\", \"--append\",type=str, help=\"append code to file\")\n",
    "\n",
    "def parse_options(line):\n",
    "    return magic_args_parser.parse_args(shlex.split(line))\n",
    "\n",
    "@magics_class\n",
    "class spannerlogMagic(Magics):\n",
    "    @line_cell_magic\n",
    "    def spannerlog(self, line: str, cell: str) -> None:\n",
    "        # import locally to prevent circular import issues\n",
    "        magic_session = get_magic_session()\n",
    "\n",
    "        args = parse_options(line)\n",
    "\n",
    "        code = cell if cell else line\n",
    "        _ = magic_session.export(code,display_results=True)\n",
    "\n",
    "        if args.output:\n",
    "            out_file = Path(args.output)\n",
    "            out_file.write_text(code + '\\n')\n",
    "            \n",
    "        if args.append:\n",
    "            out_file = Path(args.append)\n",
    "            if not code in out_file.read_text():\n",
    "                with open(out_file, \"a\") as f:\n",
    "                    f.write(code + '\\n')\n",
    "\n",
    "def load_ipython_extension(ipython):\n",
    "    ipython.register_magics(spannerlogMagic)"
   ]
  },
  {
   "cell_type": "code",
   "execution_count": null,
   "metadata": {},
   "outputs": [
    {
     "name": "stderr",
     "output_type": "stream",
     "text": [
      "spannerlog magic loaded\n"
     ]
    }
   ],
   "source": [
    "try:\n",
    "    load_ipython_extension(get_ipython())\n",
    "    logger.warning(\"spannerlog magic loaded\")\n",
    "except (AttributeError, ImportError):\n",
    "    pass"
   ]
  },
  {
   "cell_type": "code",
   "execution_count": null,
   "metadata": {},
   "outputs": [
    {
     "data": {
      "text/plain": [
       "'?A(X)'"
      ]
     },
     "metadata": {},
     "output_type": "display_data"
    },
    {
     "data": {
      "text/html": [
       "<div>\n",
       "<style scoped>\n",
       "    .dataframe tbody tr th:only-of-type {\n",
       "        vertical-align: middle;\n",
       "    }\n",
       "\n",
       "    .dataframe tbody tr th {\n",
       "        vertical-align: top;\n",
       "    }\n",
       "\n",
       "    .dataframe thead th {\n",
       "        text-align: right;\n",
       "    }\n",
       "</style>\n",
       "<table border=\"1\" class=\"dataframe\">\n",
       "  <thead>\n",
       "    <tr style=\"text-align: right;\">\n",
       "      <th></th>\n",
       "      <th>X</th>\n",
       "    </tr>\n",
       "  </thead>\n",
       "  <tbody>\n",
       "    <tr>\n",
       "      <th>0</th>\n",
       "      <td>1</td>\n",
       "    </tr>\n",
       "  </tbody>\n",
       "</table>\n",
       "</div>"
      ],
      "text/plain": [
       "   X\n",
       "0  1"
      ]
     },
     "metadata": {},
     "output_type": "display_data"
    }
   ],
   "source": [
    "%%spannerlog\n",
    "new A(int)\n",
    "A(1)\n",
    "?A(X)"
   ]
  },
  {
   "cell_type": "code",
   "execution_count": null,
   "metadata": {},
   "outputs": [
    {
     "data": {
      "text/html": [
       "<div>\n",
       "<style scoped>\n",
       "    .dataframe tbody tr th:only-of-type {\n",
       "        vertical-align: middle;\n",
       "    }\n",
       "\n",
       "    .dataframe tbody tr th {\n",
       "        vertical-align: top;\n",
       "    }\n",
       "\n",
       "    .dataframe thead th {\n",
       "        text-align: right;\n",
       "    }\n",
       "</style>\n",
       "<table border=\"1\" class=\"dataframe\">\n",
       "  <thead>\n",
       "    <tr style=\"text-align: right;\">\n",
       "      <th></th>\n",
       "      <th>X</th>\n",
       "    </tr>\n",
       "  </thead>\n",
       "  <tbody>\n",
       "    <tr>\n",
       "      <th>0</th>\n",
       "      <td>1</td>\n",
       "    </tr>\n",
       "  </tbody>\n",
       "</table>\n",
       "</div>"
      ],
      "text/plain": [
       "   X\n",
       "0  1"
      ]
     },
     "execution_count": null,
     "metadata": {},
     "output_type": "execute_result"
    }
   ],
   "source": [
    "session = get_magic_session()\n",
    "\n",
    "assert_df_equals(session.export(\"?A(X)\"),pd.DataFrame({'X':[1]}))"
   ]
  },
  {
   "cell_type": "code",
   "execution_count": null,
   "metadata": {},
   "outputs": [],
   "source": [
    "%%spannerlog -o text.slog\n",
    "new A(int)"
   ]
  },
  {
   "cell_type": "code",
   "execution_count": null,
   "metadata": {},
   "outputs": [],
   "source": [
    "%%spannerlog -a text.slog\n",
    "new B(int)"
   ]
  },
  {
   "cell_type": "code",
   "execution_count": null,
   "metadata": {},
   "outputs": [],
   "source": [
    "%%spannerlog -a text.slog\n",
    "new B(int)"
   ]
  },
  {
   "cell_type": "code",
   "execution_count": null,
   "metadata": {},
   "outputs": [],
   "source": [
    "assert Path('text.slog').read_text() == 'new A(int)\\n\\nnew B(int)\\n\\n'\n",
    "Path('text.slog').unlink()"
   ]
  },
  {
   "cell_type": "code",
   "execution_count": null,
   "metadata": {},
   "outputs": [],
   "source": [
    "#|hide\n",
    "import nbdev; nbdev.nbdev_export()\n",
    "     "
   ]
  }
 ],
 "metadata": {
  "kernelspec": {
   "display_name": "python3",
   "language": "python",
   "name": "python3"
  }
 },
 "nbformat": 4,
 "nbformat_minor": 4
}
