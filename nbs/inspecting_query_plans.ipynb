{
 "cells": [
  {
   "cell_type": "markdown",
   "metadata": {},
   "source": [
    "# View Query Plan"
   ]
  },
  {
   "cell_type": "code",
   "execution_count": null,
   "metadata": {},
   "outputs": [],
   "source": [
    "from spannerlib import get_magic_session,Span\n",
    "from graph_rewrite import draw"
   ]
  },
  {
   "cell_type": "code",
   "execution_count": null,
   "metadata": {},
   "outputs": [],
   "source": [
    "%%spannerlog\n",
    "new S(str,str)\n",
    "new T(str,str)\n",
    "\n",
    "R(x,y,z)<-S(x,y),T(x,y),rgx(x,y)->(z)."
   ]
  },
  {
   "cell_type": "code",
   "execution_count": null,
   "metadata": {},
   "outputs": [
    {
     "data": {
      "text/html": [
       "<div>\n",
       "<style scoped>\n",
       "    .dataframe tbody tr th:only-of-type {\n",
       "        vertical-align: middle;\n",
       "    }\n",
       "\n",
       "    .dataframe tbody tr th {\n",
       "        vertical-align: top;\n",
       "    }\n",
       "\n",
       "    .dataframe thead th {\n",
       "        text-align: right;\n",
       "    }\n",
       "</style>\n",
       "<table border=\"1\" class=\"dataframe\">\n",
       "  <thead>\n",
       "    <tr style=\"text-align: right;\">\n",
       "      <th></th>\n",
       "      <th>x</th>\n",
       "      <th>y</th>\n",
       "      <th>z</th>\n",
       "    </tr>\n",
       "  </thead>\n",
       "  <tbody>\n",
       "  </tbody>\n",
       "</table>\n",
       "</div>"
      ],
      "text/plain": [
       "Empty DataFrame\n",
       "Columns: [x, y, z]\n",
       "Index: []"
      ]
     },
     "execution_count": null,
     "metadata": {},
     "output_type": "execute_result"
    }
   ],
   "source": [
    "sess = get_magic_session()\n",
    "sess.export('?R(x,y,z)')"
   ]
  },
  {
   "cell_type": "code",
   "execution_count": null,
   "metadata": {},
   "outputs": [
    {
     "data": {
      "text/html": [
       "<img src=\"https://mermaid.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\"/>"
      ],
      "text/plain": [
       "<IPython.core.display.Image object>"
      ]
     },
     "metadata": {},
     "output_type": "display_data"
    }
   ],
   "source": [
    "graph,root = sess.export('?R(x,y,z)',plan_query=True,draw_query=True)"
   ]
  },
  {
   "cell_type": "code",
   "execution_count": null,
   "metadata": {},
   "outputs": [
    {
     "data": {
      "text/plain": [
       "17"
      ]
     },
     "execution_count": null,
     "metadata": {},
     "output_type": "execute_result"
    }
   ],
   "source": [
    "len(graph.nodes())"
   ]
  },
  {
   "cell_type": "code",
   "execution_count": null,
   "metadata": {},
   "outputs": [
    {
     "name": "stdout",
     "output_type": "stream",
     "text": [
      "\n",
      "flowchart TB\n",
      "S[\"S\n",
      "rel=#quot;S#quot;, rule_id={0, #quot;fact#quot;}, schema=[#quot;col_0#quot;, #quot;col_1#quot;], op=#quot;get_rel#quot;, db=DB(S, T, R)\"]\n",
      "T[\"T\n",
      "rel=#quot;T#quot;, rule_id={0, #quot;fact#quot;}, schema=[#quot;col_0#quot;, #quot;col_1#quot;], op=#quot;get_rel#quot;, db=DB(S, T, R)\"]\n",
      "R[\"R\n",
      "rel=#quot;R#quot;, rule_id={0, #quot;fact#quot;}, op=#quot;union#quot;, schema=[#quot;col_0#quot;, #quot;col_1#quot;, #quot;col_2#quot;]\"]\n",
      "0[\"0\n",
      "op=#quot;rename#quot;, schema=[#quot;x#quot;, #quot;y#quot;], rule_id={0}\"]\n",
      "1[\"1\n",
      "op=#quot;project#quot;, schema=[#quot;x#quot;, #quot;y#quot;], rule_id={0}\"]\n",
      "2[\"2\n",
      "op=#quot;rename#quot;, schema=[#quot;x#quot;, #quot;y#quot;], rule_id={0}\"]\n",
      "3[\"3\n",
      "op=#quot;project#quot;, schema=[#quot;x#quot;, #quot;y#quot;], rule_id={0}\"]\n",
      "4[\"4\n",
      "op=#quot;project#quot;, schema=[#quot;x#quot;, #quot;y#quot;], rule_id={0}\"]\n",
      "5[\"5\n",
      "op=#quot;ie_map#quot;, func=#lt;function rgx at 0x126636ac0#gt;, in_arity=2, out_arity=1, schema=[#quot;col_0#quot;, #quot;col_1#quot;, #quot;col_2#quot;], rule_id={0}, name=#quot;rgx#quot;, in_schema=[#lt;class #quot;str#quot;#gt;, (#lt;class #quot;str#quot;#gt;, #lt;class #quot;spannerlib.span.Span#quot;#gt;)], out_schema=#lt;function span_arity at 0x126769940#gt;\"]\n",
      "6[\"6\n",
      "op=#quot;rename#quot;, schema=[#quot;x#quot;, #quot;y#quot;, #quot;z#quot;], rule_id={0}\"]\n",
      "7[\"7\n",
      "op=#quot;rename#quot;, schema=[#quot;x#quot;, #quot;y#quot;, #quot;z#quot;], rule_id={0}\"]\n",
      "8[\"8\n",
      "op=#quot;project#quot;, schema=[#quot;x#quot;, #quot;y#quot;, #quot;z#quot;], rule_id={0}\"]\n",
      "9[\"9\n",
      "op=#quot;join#quot;, schema=[#quot;x#quot;, #quot;y#quot;], rule_id={0}\"]\n",
      "10[\"10\n",
      "op=#quot;join#quot;, schema=[#quot;x#quot;, #quot;y#quot;, #quot;z#quot;], rule_id={0}\"]\n",
      "11[\"11\n",
      "op=#quot;project#quot;, schema=[#quot;x#quot;, #quot;y#quot;, #quot;z#quot;], rel=#quot;_R_0#quot;, rule_id={0}\"]\n",
      "12[\"12\n",
      "op=#quot;rename#quot;, schema=[#quot;x#quot;, #quot;y#quot;, #quot;z#quot;]\"]\n",
      "13[\"13\n",
      "op=#quot;project#quot;, schema=[#quot;x#quot;, #quot;y#quot;, #quot;z#quot;]\"]\n",
      "R --> 11\n",
      "0 --> S\n",
      "1 --> 0\n",
      "2 --> T\n",
      "3 --> 2\n",
      "4 --> 9\n",
      "5 --> 4\n",
      "6 --> 5\n",
      "7 --> 6\n",
      "8 --> 7\n",
      "9 --> 1\n",
      "9 --> 3\n",
      "10 --> 9\n",
      "10 --> 8\n",
      "11 --> 10\n",
      "12 --> R\n",
      "13 --> 12\n",
      "\n"
     ]
    },
    {
     "data": {
      "text/html": [
       "<img src=\"https://mermaid.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\"/>"
      ],
      "text/plain": [
       "<IPython.core.display.Image object>"
      ]
     },
     "metadata": {},
     "output_type": "display_data"
    }
   ],
   "source": [
    "draw(graph,ret_mermaid=True)"
   ]
  }
 ],
 "metadata": {
  "kernelspec": {
   "display_name": "python3",
   "language": "python",
   "name": "python3"
  }
 },
 "nbformat": 4,
 "nbformat_minor": 4
}
