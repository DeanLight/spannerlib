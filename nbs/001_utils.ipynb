{
 "cells": [
  {
   "cell_type": "markdown",
   "metadata": {},
   "source": [
    "# Utils"
   ]
  },
  {
   "cell_type": "code",
   "execution_count": null,
   "metadata": {},
   "outputs": [],
   "source": [
    "#| default_exp utils"
   ]
  },
  {
   "cell_type": "code",
   "execution_count": null,
   "metadata": {},
   "outputs": [],
   "source": [
    "#| hide\n",
    "from nbdev.showdoc import show_doc\n",
    "from IPython.display import display, HTML\n",
    "%load_ext autoreload\n",
    "%autoreload 2"
   ]
  },
  {
   "cell_type": "code",
   "execution_count": null,
   "metadata": {},
   "outputs": [],
   "source": [
    "#TODOs\n",
    "\n",
    "# TODO make sure tutorials look good in doc preivew\n",
    "# TODO fix documentation for all modules\n",
    "# TODO go over all remaining todos\n",
    "# TODO remove all corenlp mentions\n",
    "# TODO move rust regex module to a different repo"
   ]
  },
  {
   "cell_type": "code",
   "execution_count": null,
   "metadata": {},
   "outputs": [],
   "source": [
    "#| export\n",
    "import sys\n",
    "import shlex\n",
    "import psutil\n",
    "import requests\n",
    "import git\n",
    "from dotenv import load_dotenv\n",
    "import os\n",
    "from pathlib import Path\n",
    "import pandas as pd\n",
    "import git\n",
    "from configparser import ConfigParser\n",
    "from subprocess import Popen, PIPE\n",
    "from sys import platform\n",
    "from threading import Timer\n",
    "from typing import no_type_check, get_type_hints, Iterable, Any, Optional, Callable\n",
    "from fastcore.basics import patch\n",
    "import itertools\n",
    "from singleton_decorator import singleton\n",
    "import networkx as nx\n",
    "from contextlib import contextmanager\n",
    "\n",
    "import logging\n",
    "logger = logging.getLogger(__name__)\n",
    "\n",
    "from numbers import Real\n",
    "from spannerlib.span import Span"
   ]
  },
  {
   "cell_type": "markdown",
   "metadata": {},
   "source": [
    "## Default registires"
   ]
  },
  {
   "cell_type": "code",
   "execution_count": null,
   "metadata": {},
   "outputs": [],
   "source": [
    "#| export\n",
    "@singleton\n",
    "class DefaultIEs():\n",
    "    def __init__(self):\n",
    "        self.ies = {}\n",
    "    def add(self,*ie):\n",
    "        assert len(ie) == 4, f\"add should be called with 4 args: name, func, in schema, outschema\"\n",
    "        name = ie[0]\n",
    "        self.ies[name] = ie\n",
    "    def get(self,name:str):\n",
    "        return self.ies[name]\n",
    "    def remove(self,name):\n",
    "        del self.ies[name]\n",
    "    def as_list(self):\n",
    "        return list(self.ies.values())\n",
    "\n",
    "@singleton\n",
    "class DefaultAGGs():\n",
    "    def __init__(self):\n",
    "        self.ies = {}\n",
    "    def add(self,*ie):\n",
    "        assert len(ie) == 4, f\"add should be called with 4 args: name, func, in schema, outschema\"\n",
    "        name = ie[0]\n",
    "        self.ies[name] = ie\n",
    "    def get(self,name:str):\n",
    "        return self.ies[name]\n",
    "    def remove(self,name):\n",
    "        del self.ies[name]\n",
    "    def as_list(self):\n",
    "        return list(self.ies.values())"
   ]
  },
  {
   "cell_type": "code",
   "execution_count": null,
   "metadata": {},
   "outputs": [],
   "source": [
    "#| export\n",
    "def _visualize_type(obj):\n",
    "    if isinstance(obj,tuple):\n",
    "        return tuple([type.__name__ for type in obj])\n",
    "    else:\n",
    "        return obj.__name__\n",
    "\n",
    "def _visualize_registration_params(obj):\n",
    "    if callable(obj):\n",
    "        return obj.__name__\n",
    "    elif isinstance(obj,list):\n",
    "        return [_visualize_type(type) for type in obj]\n",
    "    else:\n",
    "        return obj\n",
    "\n",
    "def _align_df_left(df):\n",
    "    return (df.style\n",
    "            .set_properties(**{'text-align': 'left'})\n",
    "            .set_table_styles([{'selector': 'th', 'props': [('text-align', 'left')]}])\n",
    "    )\n",
    "\n",
    "def visualize_callback_df():\n",
    "    \"\"\"returns a dataframe summerising the registered callbacks\"\"\"\n",
    "    to_concat = []\n",
    "    ie_callbacks = pd.DataFrame(DefaultIEs().as_list(),columns=['name','function','input_schema','output_schema'])\n",
    "    if len(ie_callbacks) > 0:\n",
    "        ie_callbacks['type']='IE Function'\n",
    "        to_concat.append(ie_callbacks)\n",
    "\n",
    "    agg_callbacks = pd.DataFrame(DefaultAGGs().as_list(),columns=['name','function','input_schema','output_schema'])\n",
    "    if len(agg_callbacks) > 0:\n",
    "        agg_callbacks['type']='Aggregation Function'\n",
    "        to_concat.append(agg_callbacks)\n",
    "\n",
    "    df = pd.concat(to_concat).reset_index(drop=True)\n",
    "    df = df.map(_visualize_registration_params)\n",
    "    df = _align_df_left(df)\n",
    "    return df.set_caption('Registered Callbacks')"
   ]
  },
  {
   "cell_type": "markdown",
   "metadata": {},
   "source": [
    "## typing utils"
   ]
  },
  {
   "cell_type": "code",
   "execution_count": null,
   "metadata": {},
   "outputs": [],
   "source": [
    "#| export\n",
    "def schema_match(schema,expected,ignore_types=None):\n",
    "    \"\"\"checks if\"\"\"\n",
    "    if len(schema) != len(expected):\n",
    "        return False\n",
    "    if ignore_types is None:\n",
    "        ignore_types = []\n",
    "    for x,y in zip(schema,expected):\n",
    "        if x in ignore_types:\n",
    "            continue\n",
    "        if not issubclass(x,y):\n",
    "            return False\n",
    "    return True\n",
    "\n",
    "\n",
    "def is_of_schema(relation,schema,ignore_types=None):\n",
    "    \"\"\"checks if a relation is of a given schema\"\"\"\n",
    "    try:\n",
    "        if len(relation) != len(schema):\n",
    "            return False\n",
    "        if ignore_types is None:\n",
    "            ignore_types = []\n",
    "        for x,y in zip(relation,schema):\n",
    "            if type(x) in ignore_types:\n",
    "                continue\n",
    "            if not isinstance(x,y):\n",
    "                return False\n",
    "        return True\n",
    "    except Exception as e:\n",
    "        logger.error(f\"Got Error when computing:\\n\"\n",
    "                     f\"is_of_scehma({relation},{schema})\\n\"\n",
    "                     f\"Error: {e}\")\n",
    "        raise e\n",
    "\n",
    "def type_merge(type1,type2):\n",
    "    if issubclass(type1,type2):\n",
    "        return type1\n",
    "    elif issubclass(type2,type1):\n",
    "        return type2\n",
    "    else:\n",
    "        raise ValueError(f\"Trying to merge types {type1},{type2}, types are incompatible\")\n",
    "\n",
    "def schema_merge(schema1,schema2):\n",
    "    \"\"\"merges two schemas, taking the stricter type between the two for each index\"\"\"\n",
    "    if len(schema1) != len(schema2):\n",
    "        raise ValueError(f\"Trying to merge schemas {schema1},{schema2} schemas must be of the same length\")\n",
    "    \n",
    "    new_schema = [type_merge(x,y) for x,y in zip(schema1,schema2)]\n",
    "    return new_schema\n"
   ]
  },
  {
   "cell_type": "code",
   "execution_count": null,
   "metadata": {},
   "outputs": [],
   "source": [
    "assert schema_match([Span,Span,Span],[Span,Span,(str,Span)])\n",
    "assert not schema_match([Span,Span,str],[Span,Span,Span])\n",
    "assert is_of_schema([Span('aa',0,1),Span('aa',1,2),'a'],[Span,Span,str])\n",
    "\n",
    "assert is_of_schema([1.4,2,None],[Real,Real,object])\n",
    "\n",
    "assert schema_merge([Span,Span,str],[Span,Span,str]) == [Span,Span,str]\n",
    "assert schema_merge([Span,Span,str],[Span,Span,object]) == [Span,Span,str]\n",
    "\n",
    "assert is_of_schema([1.4,2,\"he\"],[Real,Real,Real],ignore_types=[str])"
   ]
  },
  {
   "cell_type": "code",
   "execution_count": null,
   "metadata": {},
   "outputs": [
    {
     "data": {
      "text/plain": [
       "str"
      ]
     },
     "execution_count": null,
     "metadata": {},
     "output_type": "execute_result"
    }
   ],
   "source": [
    "type(\"he\")"
   ]
  },
  {
   "cell_type": "markdown",
   "metadata": {},
   "source": [
    "## Test utils"
   ]
  },
  {
   "cell_type": "code",
   "execution_count": null,
   "metadata": {},
   "outputs": [],
   "source": [
    "#| export\n",
    "def df_to_list(df):\n",
    "    return df.to_dict(orient='records')"
   ]
  },
  {
   "cell_type": "code",
   "execution_count": null,
   "metadata": {},
   "outputs": [],
   "source": [
    "#| export\n",
    "def serialize_tree(g):\n",
    "    root = next(nx.topological_sort(g))\n",
    "    return nx.tree_data(g,root) \n",
    "\n",
    "\n",
    "def serialize_graph(g):\n",
    "    return list(g.nodes(data=True)),list(g.edges(data=True))\n"
   ]
  },
  {
   "cell_type": "code",
   "execution_count": null,
   "metadata": {},
   "outputs": [],
   "source": [
    "#| export\n",
    "def serialize_df_values(df):\n",
    "    return set(df.itertuples(index=False,name=None))\n",
    "\n",
    "def assert_df(df,values,columns=None):\n",
    "    if columns is not None:\n",
    "        assert list(df.columns)==columns, f\"columns not equal: {list(df.columns)} != {columns}\"\n",
    "    assert serialize_df_values(df)==set(values) , f\"values: {serialize_df_values(df)} != {values}\"\n",
    "\n",
    "def span_to_str(span):\n",
    "    if isinstance(span,Span):\n",
    "        return span.as_str()\n",
    "    else:\n",
    "        return str(span)\n",
    "\n",
    "def assert_df_equals(df1,df2):\n",
    "\n",
    "    df1 = df1.map(span_to_str)\n",
    "    df2 = df2.map(span_to_str)\n",
    "\n",
    "    assert list(df1.columns)==list(df2.columns), f\"columns not equal: {list(df1.columns)} != {list(df2.columns)}\"\n",
    "    vals1 = serialize_df_values(df1)\n",
    "    vals2 = serialize_df_values(df2) \n",
    "    assert vals1==vals2 , (\n",
    "        f\"values: {vals1} != {vals2}\\n\"\n",
    "        f\"values only in df1: {vals1-vals2}\\n\"\n",
    "        f\"values only in df2: {vals2-vals1}\"\n",
    "    )\n",
    "    return df1"
   ]
  },
  {
   "cell_type": "code",
   "execution_count": null,
   "metadata": {},
   "outputs": [],
   "source": [
    "assert serialize_df_values(pd.DataFrame([[1,2],[3,4]],columns=['a','b'])) == {(1, 2), (3, 4)}\n",
    "\n",
    "assert_df(pd.DataFrame([(1,2),(3,4)],columns=['a','b']),{(1, 2), (3, 4)},['a','b'])\n"
   ]
  },
  {
   "cell_type": "code",
   "execution_count": null,
   "metadata": {},
   "outputs": [
    {
     "data": {
      "text/html": [
       "<div>\n",
       "<style scoped>\n",
       "    .dataframe tbody tr th:only-of-type {\n",
       "        vertical-align: middle;\n",
       "    }\n",
       "\n",
       "    .dataframe tbody tr th {\n",
       "        vertical-align: top;\n",
       "    }\n",
       "\n",
       "    .dataframe thead th {\n",
       "        text-align: right;\n",
       "    }\n",
       "</style>\n",
       "<table border=\"1\" class=\"dataframe\">\n",
       "  <thead>\n",
       "    <tr style=\"text-align: right;\">\n",
       "      <th></th>\n",
       "      <th>col_0</th>\n",
       "      <th>col_1</th>\n",
       "    </tr>\n",
       "  </thead>\n",
       "  <tbody>\n",
       "    <tr>\n",
       "      <th>0</th>\n",
       "      <td>(J, o, h, n,  , D, o, e)</td>\n",
       "      <td>(3, 5)</td>\n",
       "    </tr>\n",
       "    <tr>\n",
       "      <th>1</th>\n",
       "      <td>(J, a, n, e,  , S, m, i, t, h)</td>\n",
       "      <td>(2, 8)</td>\n",
       "    </tr>\n",
       "  </tbody>\n",
       "</table>\n",
       "</div>"
      ],
      "text/plain": [
       "                            col_0   col_1\n",
       "0        (J, o, h, n,  , D, o, e)  (3, 5)\n",
       "1  (J, a, n, e,  , S, m, i, t, h)  (2, 8)"
      ]
     },
     "execution_count": null,
     "metadata": {},
     "output_type": "execute_result"
    }
   ],
   "source": [
    "# Span dataframes\n",
    "text = \"John Doe: 35 years old, Jane Smith: 28 years old\"\n",
    "span_df = pd.DataFrame([\n",
    "    [Span(text,0,8),Span(text,10,12)],\n",
    "    [Span(text,24,34),Span(text,36,38)]],\n",
    "    columns=['col_0','col_1']\n",
    ")\n",
    "span_df"
   ]
  },
  {
   "cell_type": "code",
   "execution_count": null,
   "metadata": {},
   "outputs": [
    {
     "data": {
      "text/html": [
       "<div>\n",
       "<style scoped>\n",
       "    .dataframe tbody tr th:only-of-type {\n",
       "        vertical-align: middle;\n",
       "    }\n",
       "\n",
       "    .dataframe tbody tr th {\n",
       "        vertical-align: top;\n",
       "    }\n",
       "\n",
       "    .dataframe thead th {\n",
       "        text-align: right;\n",
       "    }\n",
       "</style>\n",
       "<table border=\"1\" class=\"dataframe\">\n",
       "  <thead>\n",
       "    <tr style=\"text-align: right;\">\n",
       "      <th></th>\n",
       "      <th>col_0</th>\n",
       "      <th>col_1</th>\n",
       "    </tr>\n",
       "  </thead>\n",
       "  <tbody>\n",
       "    <tr>\n",
       "      <th>0</th>\n",
       "      <td>John Doe</td>\n",
       "      <td>35</td>\n",
       "    </tr>\n",
       "    <tr>\n",
       "      <th>1</th>\n",
       "      <td>Jane Smith</td>\n",
       "      <td>28</td>\n",
       "    </tr>\n",
       "  </tbody>\n",
       "</table>\n",
       "</div>"
      ],
      "text/plain": [
       "        col_0 col_1\n",
       "0    John Doe    35\n",
       "1  Jane Smith    28"
      ]
     },
     "execution_count": null,
     "metadata": {},
     "output_type": "execute_result"
    }
   ],
   "source": [
    "converted_df = span_df.map(lambda x: x.as_str())\n",
    "converted_df"
   ]
  },
  {
   "cell_type": "code",
   "execution_count": null,
   "metadata": {},
   "outputs": [
    {
     "data": {
      "text/html": [
       "<div>\n",
       "<style scoped>\n",
       "    .dataframe tbody tr th:only-of-type {\n",
       "        vertical-align: middle;\n",
       "    }\n",
       "\n",
       "    .dataframe tbody tr th {\n",
       "        vertical-align: top;\n",
       "    }\n",
       "\n",
       "    .dataframe thead th {\n",
       "        text-align: right;\n",
       "    }\n",
       "</style>\n",
       "<table border=\"1\" class=\"dataframe\">\n",
       "  <thead>\n",
       "    <tr style=\"text-align: right;\">\n",
       "      <th></th>\n",
       "      <th>col_0</th>\n",
       "      <th>col_1</th>\n",
       "    </tr>\n",
       "  </thead>\n",
       "  <tbody>\n",
       "    <tr>\n",
       "      <th>0</th>\n",
       "      <td>John Doe</td>\n",
       "      <td>35</td>\n",
       "    </tr>\n",
       "    <tr>\n",
       "      <th>1</th>\n",
       "      <td>Jane Smith</td>\n",
       "      <td>28</td>\n",
       "    </tr>\n",
       "  </tbody>\n",
       "</table>\n",
       "</div>"
      ],
      "text/plain": [
       "        col_0 col_1\n",
       "0    John Doe    35\n",
       "1  Jane Smith    28"
      ]
     },
     "execution_count": null,
     "metadata": {},
     "output_type": "execute_result"
    }
   ],
   "source": [
    "str_df = pd.DataFrame([\n",
    "    ['John Doe','35'],\n",
    "    ['Jane Smith','28']],\n",
    "    columns=['col_0','col_1']\n",
    "    )\n",
    "str_df"
   ]
  },
  {
   "cell_type": "code",
   "execution_count": null,
   "metadata": {},
   "outputs": [
    {
     "data": {
      "text/html": [
       "<div>\n",
       "<style scoped>\n",
       "    .dataframe tbody tr th:only-of-type {\n",
       "        vertical-align: middle;\n",
       "    }\n",
       "\n",
       "    .dataframe tbody tr th {\n",
       "        vertical-align: top;\n",
       "    }\n",
       "\n",
       "    .dataframe thead th {\n",
       "        text-align: right;\n",
       "    }\n",
       "</style>\n",
       "<table border=\"1\" class=\"dataframe\">\n",
       "  <thead>\n",
       "    <tr style=\"text-align: right;\">\n",
       "      <th></th>\n",
       "      <th>col_0</th>\n",
       "      <th>col_1</th>\n",
       "    </tr>\n",
       "  </thead>\n",
       "  <tbody>\n",
       "    <tr>\n",
       "      <th>0</th>\n",
       "      <td>John Doe</td>\n",
       "      <td>35</td>\n",
       "    </tr>\n",
       "    <tr>\n",
       "      <th>1</th>\n",
       "      <td>Jane Smith</td>\n",
       "      <td>28</td>\n",
       "    </tr>\n",
       "  </tbody>\n",
       "</table>\n",
       "</div>"
      ],
      "text/plain": [
       "        col_0 col_1\n",
       "0    John Doe    35\n",
       "1  Jane Smith    28"
      ]
     },
     "execution_count": null,
     "metadata": {},
     "output_type": "execute_result"
    }
   ],
   "source": [
    "assert_df_equals(converted_df,str_df)"
   ]
  },
  {
   "cell_type": "code",
   "execution_count": null,
   "metadata": {},
   "outputs": [
    {
     "data": {
      "text/html": [
       "<div>\n",
       "<style scoped>\n",
       "    .dataframe tbody tr th:only-of-type {\n",
       "        vertical-align: middle;\n",
       "    }\n",
       "\n",
       "    .dataframe tbody tr th {\n",
       "        vertical-align: top;\n",
       "    }\n",
       "\n",
       "    .dataframe thead th {\n",
       "        text-align: right;\n",
       "    }\n",
       "</style>\n",
       "<table border=\"1\" class=\"dataframe\">\n",
       "  <thead>\n",
       "    <tr style=\"text-align: right;\">\n",
       "      <th></th>\n",
       "      <th>col_0</th>\n",
       "      <th>col_1</th>\n",
       "    </tr>\n",
       "  </thead>\n",
       "  <tbody>\n",
       "    <tr>\n",
       "      <th>0</th>\n",
       "      <td>John Doe</td>\n",
       "      <td>35</td>\n",
       "    </tr>\n",
       "    <tr>\n",
       "      <th>1</th>\n",
       "      <td>Jane Smith</td>\n",
       "      <td>28</td>\n",
       "    </tr>\n",
       "  </tbody>\n",
       "</table>\n",
       "</div>"
      ],
      "text/plain": [
       "        col_0 col_1\n",
       "0    John Doe    35\n",
       "1  Jane Smith    28"
      ]
     },
     "execution_count": null,
     "metadata": {},
     "output_type": "execute_result"
    }
   ],
   "source": [
    "assert_df_equals(span_df,str_df)"
   ]
  },
  {
   "cell_type": "code",
   "execution_count": null,
   "metadata": {},
   "outputs": [],
   "source": [
    "#| export\n",
    "from contextlib import contextmanager\n",
    "import logging\n",
    "\n",
    "@contextmanager\n",
    "def checkLogs(level: int=logging.DEBUG, name :str='__main__', toFile=None):\n",
    "    \"\"\"context manager for temporarily changing logging levels. used for debugging purposes\n",
    "\n",
    "    Args:\n",
    "        level (logging.Level: optional): logging level to change the logger to. Defaults to logging.DEBUG.\n",
    "        name (str: optional): module name to raise logging level for. Defaults to root logger\n",
    "        toFile (Path: optional): File to output logs to. Defaults to None\n",
    "        \n",
    "\n",
    "    Yields:\n",
    "        [logging.Logger]: the logger object that we raised the level of\n",
    "    \"\"\"\n",
    "    logger = logging.getLogger(name)\n",
    "    current_level = logger.getEffectiveLevel()\n",
    "    format = \"%(name)s - %(levelname)s - %(message)s\"\n",
    "    logger.setLevel(level)\n",
    "    if len(logger.handlers) == 0:\n",
    "        sh = logging.StreamHandler()\n",
    "        sh.setFormatter(logging.Formatter(format))\n",
    "        logger.addHandler(sh)\n",
    "    if toFile != None:\n",
    "        fh = logging.FileHandler(toFile)\n",
    "        fh.setFormatter(logging.Formatter(format))\n",
    "        logger.addHandler(fh)\n",
    "    try:\n",
    "        yield logger\n",
    "    finally:\n",
    "        logger.setLevel(current_level)\n",
    "        if toFile != None:\n",
    "            logger.removeHandler(fh)\n",
    "        if len(logger.handlers) == 1:\n",
    "            logger.handlers= []"
   ]
  },
  {
   "cell_type": "code",
   "execution_count": null,
   "metadata": {},
   "outputs": [],
   "source": [
    "#| export\n",
    "def patch_method(func : Callable, *args, **kwargs) -> None:\n",
    "    \"\"\"\n",
    "    Applies fastcore's `patch` decorator and removes `func` from `cls.__abstractsmethods__` in case <br>\n",
    "    `func` is an `abstractmethods`\n",
    "    \"\"\"\n",
    "    cls = next(iter(get_type_hints(func).values()))\n",
    "    try:\n",
    "        abstracts_needed = set(cls.__abstractmethods__)\n",
    "        abstracts_needed.discard(func.__name__)\n",
    "        cls.__abstractmethods__ = abstracts_needed\n",
    "    except AttributeError: # If the class does not inherit from an abstract class\n",
    "        pass\n",
    "    finally:\n",
    "        # Apply the original `patch` decorator\n",
    "        patch(*args, **kwargs)(func)"
   ]
  },
  {
   "cell_type": "markdown",
   "metadata": {},
   "source": [
    "## CLI utils"
   ]
  },
  {
   "cell_type": "code",
   "execution_count": null,
   "metadata": {},
   "outputs": [],
   "source": [
    "#| export\n",
    "def kill_process_and_children(process: Popen) -> None:\n",
    "    logger.info(\"~~~~ process timed out ~~~~\")\n",
    "    if process.poll() is not None:\n",
    "        ps_process = psutil.Process(process.pid)\n",
    "        for child in ps_process.children(recursive=True):  # first, kill the children :)\n",
    "            child.kill()  # not recommended in real life\n",
    "        process.kill()  # lastly, kill the process"
   ]
  },
  {
   "cell_type": "code",
   "execution_count": null,
   "metadata": {},
   "outputs": [],
   "source": [
    "#| export\n",
    "def run_cli_command(command: str, # a single command string\n",
    "                    stderr: bool = False, # if true, suppress stderr output. default: `False`\n",
    "                    # if true, spawn shell process (e.g. /bin/sh), which allows using system variables (e.g. $HOME),\n",
    "                    # but is considered a security risk (see: https://docs.python.org/3/library/subprocess.html#security-considerations)\n",
    "                    shell: bool = False, \n",
    "                    timeout: float = -1 # if positive, kill the process after `timeout` seconds. default: `-1`\n",
    "                    ) -> Iterable[str]: # string iterator\n",
    "    \"\"\"\n",
    "    This utility can be used to run any cli command, and iterate over the output.\n",
    "    \"\"\"\n",
    "    # `shlex.split` just splits the command into a list properly\n",
    "    command_list = shlex.split(command, posix=IS_POSIX)\n",
    "    stdout = PIPE  # we always use stdout\n",
    "    stderr_channel = PIPE if stderr else None\n",
    "\n",
    "    process = Popen(command_list, stdout=stdout, stderr=stderr_channel, shell=shell)\n",
    "\n",
    "    # set timer\n",
    "    if timeout > 0:\n",
    "        # set timer to kill the process\n",
    "        process_timer = Timer(timeout, kill_process_and_children, [process])\n",
    "        process_timer.start()\n",
    "\n",
    "    # get output\n",
    "    if process.stdout:\n",
    "        process.stdout.flush()\n",
    "    process_stdout, process_stderr = [s.decode(\"utf-8\") for s in process.communicate()]\n",
    "    for output in process_stdout.splitlines():\n",
    "        output = output.strip()\n",
    "        if output:\n",
    "            yield output\n",
    "\n",
    "    if stderr:\n",
    "        logger.info(f\"stderr from process {command_list[0]}: {process_stderr}\")"
   ]
  },
  {
   "cell_type": "markdown",
   "metadata": {},
   "source": [
    "## Graph utils"
   ]
  },
  {
   "cell_type": "code",
   "execution_count": null,
   "metadata": {},
   "outputs": [],
   "source": [
    "#| export\n",
    "def _biggest_int_node_name(g:nx.Graph):\n",
    "    return max([n for n in g.nodes if isinstance(n,int)],default=-1)\n",
    "\n",
    "def is_node_in_graphs(name,gs):\n",
    "    return any(name in g.nodes for g in gs)\n",
    "\n",
    "def get_new_node_name(g,prefix=None,avoid_names_from=None):\n",
    "    if avoid_names_from is None:\n",
    "        avoid_names_from = []\n",
    "    graphs_to_avoid = [g]+avoid_names_from\n",
    "    # ints\n",
    "    if prefix is None:\n",
    "        max_int = _biggest_int_node_name(g)+1\n",
    "        while is_node_in_graphs(max_int,graphs_to_avoid):\n",
    "            max_int+=1\n",
    "        return max_int\n",
    "    # strings\n",
    "    else: \n",
    "        if not is_node_in_graphs(prefix,graphs_to_avoid):\n",
    "            return prefix\n",
    "        for i in itertools.count():\n",
    "            name = f\"{prefix}_{i}\"\n",
    "            if not is_node_in_graphs(name,graphs_to_avoid):\n",
    "                return name"
   ]
  },
  {
   "cell_type": "code",
   "execution_count": null,
   "metadata": {},
   "outputs": [],
   "source": [
    "g = nx.Graph()\n",
    "g.add_node(1)\n",
    "g.add_node(2)\n",
    "g.add_node('hello')\n",
    "\n",
    "g2 = nx.Graph()\n",
    "g2.add_node(1)\n",
    "g2.add_node(2)\n",
    "g2.add_node(3)\n",
    "g2.add_node('hello_1')\n",
    "\n",
    "assert _biggest_int_node_name(g) == 2"
   ]
  },
  {
   "cell_type": "code",
   "execution_count": null,
   "metadata": {},
   "outputs": [],
   "source": [
    "assert is_node_in_graphs(3,[g,g2])\n",
    "assert not is_node_in_graphs(4,[g,g2])"
   ]
  },
  {
   "cell_type": "code",
   "execution_count": null,
   "metadata": {},
   "outputs": [],
   "source": [
    "assert get_new_node_name(g) == 3\n",
    "assert get_new_node_name(g,'hello') == 'hello_0'\n",
    "g.add_node('hello_0')\n",
    "assert get_new_node_name(g,'hello') == 'hello_1'\n",
    "assert get_new_node_name(g,'hello',avoid_names_from=[g2]) == 'hello_2'\n",
    "assert get_new_node_name(g,'world') == 'world'"
   ]
  },
  {
   "cell_type": "markdown",
   "metadata": {},
   "source": [
    "## file system utils"
   ]
  },
  {
   "cell_type": "code",
   "execution_count": null,
   "metadata": {},
   "outputs": [],
   "source": [
    "#|export\n",
    "def get_git_root(path='.'):\n",
    "\n",
    "        git_repo = git.Repo(path, search_parent_directories=True)\n",
    "        git_root = git_repo.git.rev_parse(\"--show-toplevel\")\n",
    "        return Path(git_root)"
   ]
  },
  {
   "cell_type": "code",
   "execution_count": null,
   "metadata": {},
   "outputs": [],
   "source": [
    "assert get_git_root() == Path.cwd().parent"
   ]
  },
  {
   "cell_type": "code",
   "execution_count": null,
   "metadata": {},
   "outputs": [],
   "source": [
    "#|export\n",
    "def load_env(path=None):\n",
    "    if path is None:\n",
    "        path = get_git_root() / '.env.dev'\n",
    "    load_dotenv(path)\n",
    "    logger.warning(f'Loaded env from {path.relative_to(get_git_root())}')"
   ]
  },
  {
   "cell_type": "code",
   "execution_count": null,
   "metadata": {},
   "outputs": [
    {
     "name": "stderr",
     "output_type": "stream",
     "text": [
      "Loaded env from .env.dev\n"
     ]
    }
   ],
   "source": [
    "load_env()"
   ]
  },
  {
   "cell_type": "code",
   "execution_count": null,
   "metadata": {},
   "outputs": [],
   "source": [
    "#| export\n",
    "\n",
    "def get_base_file_path() -> Path: # The absolute path of parent folder of nbs\n",
    "    return get_git_root()\n",
    "\n",
    "\n",
    "def get_lib_name() -> str:\n",
    "    setting_ini = ConfigParser()\n",
    "    setting_ini.read(get_base_file_path()/'settings.ini')\n",
    "    setting_ini = setting_ini['DEFAULT']\n",
    "    return setting_ini['lib_name']"
   ]
  },
  {
   "cell_type": "code",
   "execution_count": null,
   "metadata": {},
   "outputs": [],
   "source": [
    "#|hide\n",
    "import nbdev; nbdev.nbdev_export()\n",
    "     "
   ]
  }
 ],
 "metadata": {
  "kernelspec": {
   "display_name": "python3",
   "language": "python",
   "name": "python3"
  }
 },
 "nbformat": 4,
 "nbformat_minor": 4
}
