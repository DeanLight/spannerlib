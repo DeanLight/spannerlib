{
 "cells": [
  {
   "cell_type": "markdown",
   "metadata": {},
   "source": [
    "# Json Path"
   ]
  },
  {
   "cell_type": "markdown",
   "metadata": {},
   "source": [
    "This module contains ie functions for querying json like strings using jsonPath syntax."
   ]
  },
  {
   "cell_type": "code",
   "execution_count": null,
   "metadata": {},
   "outputs": [],
   "source": [
    "#| default_exp ie_func.json_path"
   ]
  },
  {
   "cell_type": "code",
   "execution_count": null,
   "metadata": {},
   "outputs": [],
   "source": [
    "#| hide\n",
    "from nbdev.showdoc import show_doc\n",
    "\n",
    "%load_ext autoreload\n",
    "%autoreload 2"
   ]
  },
  {
   "cell_type": "code",
   "execution_count": null,
   "metadata": {},
   "outputs": [],
   "source": [
    "#| export\n",
    "from typing import Iterable, Tuple, Any\n",
    "\n",
    "from jsonpath_ng import parse\n",
    "import json\n",
    "from spannerlib.utils import DefaultIEs,DefaultAGGs,visualize_callback_df"
   ]
  },
  {
   "cell_type": "code",
   "execution_count": null,
   "metadata": {},
   "outputs": [],
   "source": [
    "#| export\n",
    "def _parse_match(match: Any):\n",
    "    \"\"\"\n",
    "    @param match: a match result of json path query.\n",
    "    @return: a string that represents the match in string format.\n",
    "    \"\"\"\n",
    "    json_result = match.value\n",
    "    if type(json_result) != str:\n",
    "        # we replace for the same reason as in json_path implementation.\n",
    "        json_result = json.dumps(json_result).replace(\"\\\"\", \"'\")\n",
    "    return json_result"
   ]
  },
  {
   "cell_type": "code",
   "execution_count": null,
   "metadata": {},
   "outputs": [],
   "source": [
    "#| export\n",
    "def json_path(\n",
    "        json_document: str, # The document on which we will run the path expression.\n",
    "        path_expression: str # The query to execute.\n",
    "    ):\n",
    "    \"\"\"\n",
    "    Yields the matching sub-documents and the path from the document roots to the match as a tuple\n",
    "    \"\"\"\n",
    "\n",
    "    json_document = json.loads(json_document.replace(\"'\", \"\\\"\"))\n",
    "    jsonpath_expr = parse(path_expression)\n",
    "    for match in jsonpath_expr.find(json_document):\n",
    "        json_result = str(match.full_path)\n",
    "        # objects in full path are separated by dots.\n",
    "        yield json_result, _parse_match(match)"
   ]
  },
  {
   "cell_type": "code",
   "execution_count": null,
   "metadata": {},
   "outputs": [
    {
     "data": {
      "text/plain": [
       "[('foo.[0].baz', '1'), ('foo.[1].baz', '2')]"
      ]
     },
     "execution_count": null,
     "metadata": {},
     "output_type": "execute_result"
    }
   ],
   "source": [
    "list(json_path('{\"foo\": [{\"baz\": 1}, {\"baz\": 2}]}', 'foo[*].baz')) "
   ]
  },
  {
   "cell_type": "code",
   "execution_count": null,
   "metadata": {},
   "outputs": [],
   "source": [
    "#| export\n",
    "DefaultIEs().add(\n",
    "    'json_path',json_path,\n",
    "    [str,str],\n",
    "    [str,str],\n",
    ")"
   ]
  },
  {
   "cell_type": "code",
   "execution_count": null,
   "metadata": {},
   "outputs": [
    {
     "data": {
      "text/html": [
       "<style type=\"text/css\">\n",
       "#T_bb85a th {\n",
       "  text-align: left;\n",
       "}\n",
       "#T_bb85a_row0_col0, #T_bb85a_row0_col1, #T_bb85a_row0_col2, #T_bb85a_row0_col3, #T_bb85a_row0_col4 {\n",
       "  text-align: left;\n",
       "}\n",
       "</style>\n",
       "<table id=\"T_bb85a\" class=\"display nowrap\"style=\"table-layout:auto;width:auto;margin:auto;caption-side:bottom\">\n",
       "  <caption>Registered Callbacks</caption>\n",
       "  <thead>\n",
       "    <tr>\n",
       "      <th id=\"T_bb85a_level0_col0\" class=\"col_heading level0 col0\" >name</th>\n",
       "      <th id=\"T_bb85a_level0_col1\" class=\"col_heading level0 col1\" >function</th>\n",
       "      <th id=\"T_bb85a_level0_col2\" class=\"col_heading level0 col2\" >input_schema</th>\n",
       "      <th id=\"T_bb85a_level0_col3\" class=\"col_heading level0 col3\" >output_schema</th>\n",
       "      <th id=\"T_bb85a_level0_col4\" class=\"col_heading level0 col4\" >type</th>\n",
       "    </tr>\n",
       "  </thead>\n",
       "  <tbody>\n",
       "    <tr>\n",
       "      <td id=\"T_bb85a_row0_col0\" class=\"data row0 col0\" >json_path</td>\n",
       "      <td id=\"T_bb85a_row0_col1\" class=\"data row0 col1\" >json_path</td>\n",
       "      <td id=\"T_bb85a_row0_col2\" class=\"data row0 col2\" >['str', 'str']</td>\n",
       "      <td id=\"T_bb85a_row0_col3\" class=\"data row0 col3\" >['str', 'str']</td>\n",
       "      <td id=\"T_bb85a_row0_col4\" class=\"data row0 col4\" >IE Function</td>\n",
       "    </tr>\n",
       "  </tbody>\n",
       "</table>\n",
       "\n",
       "<link href=\"https://www.unpkg.com/dt_for_itables@2.0.11/dt_bundle.css\" rel=\"stylesheet\">\n",
       "<script type=\"module\">\n",
       "    import {DataTable, jQuery as $} from 'https://www.unpkg.com/dt_for_itables@2.0.11/dt_bundle.js';\n",
       "\n",
       "    document.querySelectorAll(\"#T_bb85a:not(.dataTable)\").forEach(table => {\n",
       "        // Define the table data\n",
       "        \n",
       "\n",
       "        // Define the dt_args\n",
       "        let dt_args = {\"paging\": false, \"layout\": {\"topStart\": null, \"topEnd\": null, \"bottomStart\": null, \"bottomEnd\": null}, \"display_logo_when_loading\": true, \"order\": []};\n",
       "        \n",
       "\n",
       "        \n",
       "        new DataTable(table, dt_args);\n",
       "    });\n",
       "</script>\n"
      ],
      "text/plain": [
       "<IPython.core.display.HTML object>"
      ]
     },
     "metadata": {},
     "output_type": "display_data"
    }
   ],
   "source": [
    "#| echo: false\n",
    "from itables import show\n",
    "df = visualize_callback_df()\n",
    "show(df,paging=False)"
   ]
  },
  {
   "cell_type": "code",
   "execution_count": null,
   "metadata": {},
   "outputs": [],
   "source": [
    "#|hide\n",
    "import nbdev; nbdev.nbdev_export()\n",
    "     "
   ]
  }
 ],
 "metadata": {
  "kernelspec": {
   "display_name": "python3",
   "language": "python",
   "name": "python3"
  }
 },
 "nbformat": 4,
 "nbformat_minor": 4
}
