{
 "cells": [
  {
   "cell_type": "markdown",
   "metadata": {},
   "source": [
    "# Standard library ie functions"
   ]
  },
  {
   "cell_type": "markdown",
   "metadata": {},
   "source": [
    "Here are the current standard ie functions that are registered in spannerlog sessions.\n",
    "This section is still a WIP."
   ]
  },
  {
   "cell_type": "code",
   "execution_count": null,
   "metadata": {},
   "outputs": [],
   "source": [
    "#| echo: false\n",
    "import spannerlib\n",
    "from nbdev.showdoc import show_doc\n",
    "from IPython.display import display\n"
   ]
  },
  {
   "cell_type": "code",
   "execution_count": null,
   "metadata": {},
   "outputs": [
    {
     "data": {
      "text/plain": [
       "<spannerlib.session.Session>"
      ]
     },
     "execution_count": null,
     "metadata": {},
     "output_type": "execute_result"
    }
   ],
   "source": [
    "sess = spannerlib.Session()\n",
    "sess"
   ]
  },
  {
   "cell_type": "code",
   "execution_count": null,
   "metadata": {},
   "outputs": [
    {
     "data": {
      "text/plain": [
       "{'py_rgx_span': IEFunction(name='py_rgx_span', func=<function py_rgx>, in_schema=[<class 'str'>, <class 'str'>], out_schema=<function <lambda>>),\n",
       " 'py_rgx_string': IEFunction(name='py_rgx_string', func=<function py_rgx_string>, in_schema=[<class 'str'>, <class 'str'>], out_schema=<function <lambda>>),\n",
       " 'rgx_span': IEFunction(name='rgx_span', func=<function rgx_span>, in_schema=[<class 'str'>, <class 'str'>], out_schema=<function <lambda>>),\n",
       " 'rgx_string': IEFunction(name='rgx_string', func=<function rgx_string>, in_schema=[<class 'str'>, <class 'str'>], out_schema=<function <lambda>>),\n",
       " 'rgx_span_from_file': IEFunction(name='rgx_span_from_file', func=<function rgx_span_from_file>, in_schema=[<class 'str'>, <class 'str'>], out_schema=<function <lambda>>),\n",
       " 'rgx_string_from_file': IEFunction(name='rgx_string_from_file', func=<function rgx_string_from_file>, in_schema=[<class 'str'>, <class 'str'>], out_schema=<function <lambda>>),\n",
       " 'JsonPath': IEFunction(name='JsonPath', func=<function json_path>, in_schema=[<class 'str'>, <class 'str'>], out_schema=[<class 'str'>]),\n",
       " 'JsonPathFull': IEFunction(name='JsonPathFull', func=<function json_path_full>, in_schema=[<class 'str'>, <class 'str'>], out_schema=<function <lambda>>),\n",
       " 'Tokenize': IEFunction(name='Tokenize', func=<function tokenize_wrapper>, in_schema=[<class 'str'>], out_schema=[<class 'str'>, <class 'spannerlib.span.Span'>]),\n",
       " 'SSplit': IEFunction(name='SSplit', func=<function ssplit_wrapper>, in_schema=[<class 'str'>], out_schema=[<class 'str'>]),\n",
       " 'POS': IEFunction(name='POS', func=<function pos_wrapper>, in_schema=[<class 'str'>], out_schema=[<class 'str'>, <class 'str'>, <class 'spannerlib.span.Span'>]),\n",
       " 'Lemma': IEFunction(name='Lemma', func=<function lemma_wrapper>, in_schema=[<class 'str'>], out_schema=[<class 'str'>, <class 'str'>, <class 'spannerlib.span.Span'>]),\n",
       " 'NER': IEFunction(name='NER', func=<function ner_wrapper>, in_schema=[<class 'str'>], out_schema=[<class 'str'>, <class 'str'>, <class 'spannerlib.span.Span'>]),\n",
       " 'EntityMentions': IEFunction(name='EntityMentions', func=<function entitymentions_wrapper>, in_schema=[<class 'str'>], out_schema=[<class 'int'>, <class 'int'>, <class 'int'>, <class 'int'>, <class 'str'>, <class 'int'>, <class 'int'>, <class 'str'>, <class 'str'>]),\n",
       " 'CleanXML': IEFunction(name='CleanXML', func=<function cleanxml_wrapper>, in_schema=[<class 'str'>], out_schema=[<class 'int'>, <class 'str'>, <class 'str'>, <class 'int'>, <class 'int'>]),\n",
       " 'Parse': IEFunction(name='Parse', func=<function parse_wrapper>, in_schema=[<class 'str'>], out_schema=[<class 'str'>]),\n",
       " 'DepParse': IEFunction(name='DepParse', func=<function dependency_parse_wrapper>, in_schema=[<class 'str'>], out_schema=[<class 'str'>, <class 'int'>, <class 'str'>, <class 'int'>, <class 'str'>]),\n",
       " 'Coref': IEFunction(name='Coref', func=<function coref_wrapper>, in_schema=[<class 'str'>], out_schema=[<class 'int'>, <class 'str'>, <class 'str'>, <class 'str'>, <class 'str'>, <class 'str'>, <class 'int'>, <class 'int'>, <class 'int'>, <class 'int'>, <class 'spannerlib.span.Span'>, <class 'str'>]),\n",
       " 'OpenIE': IEFunction(name='OpenIE', func=<function openie_wrapper>, in_schema=[<class 'str'>], out_schema=[<class 'str'>, <class 'spannerlib.span.Span'>, <class 'str'>, <class 'spannerlib.span.Span'>, <class 'str'>, <class 'spannerlib.span.Span'>]),\n",
       " 'KBP': IEFunction(name='KBP', func=<function kbp_wrapper>, in_schema=[<class 'str'>], out_schema=[<class 'str'>, <class 'spannerlib.span.Span'>, <class 'str'>, <class 'spannerlib.span.Span'>, <class 'str'>, <class 'spannerlib.span.Span'>]),\n",
       " 'Quote': IEFunction(name='Quote', func=<function quote_wrapper>, in_schema=[<class 'str'>], out_schema=[<class 'int'>, <class 'str'>, <class 'int'>, <class 'int'>, <class 'int'>, <class 'int'>, <class 'int'>, <class 'int'>, <class 'str'>, <class 'str'>]),\n",
       " 'Sentiment': IEFunction(name='Sentiment', func=<function sentiment_wrapper>, in_schema=[<class 'str'>], out_schema=[<class 'int'>, <class 'str'>, <class 'str'>]),\n",
       " 'TrueCase': IEFunction(name='TrueCase', func=<function truecase_wrapper>, in_schema=[<class 'str'>], out_schema=[<class 'str'>, <class 'spannerlib.span.Span'>, <class 'str'>, <class 'str'>])}"
      ]
     },
     "execution_count": null,
     "metadata": {},
     "output_type": "execute_result"
    }
   ],
   "source": [
    "sess.get_all_functions()"
   ]
  },
  {
   "cell_type": "code",
   "execution_count": null,
   "metadata": {},
   "outputs": [
    {
     "data": {
      "text/plain": [
       "'py_rgx_span'"
      ]
     },
     "metadata": {},
     "output_type": "display_data"
    },
    {
     "data": {
      "text/plain": [
       "\"in schema: [<class 'str'>, <class 'str'>]\""
      ]
     },
     "metadata": {},
     "output_type": "display_data"
    },
    {
     "data": {
      "text/plain": [
       "'out schema: <function <lambda>>'"
      ]
     },
     "metadata": {},
     "output_type": "display_data"
    },
    {
     "data": {
      "text/markdown": [
       "---\n",
       "\n",
       "[source](https://github.com/DeanLight/spannerlib/blob/master/spannerlib/ie_func/python_regex.py#LNone){target=\"_blank\" style=\"float:right; font-size:smaller\"}\n",
       "\n",
       "### py_rgx\n",
       "\n",
       ">      py_rgx (text:str, regex_pattern:str)\n",
       "\n",
       "*An IE function which runs regex using python's `re` and yields tuples of spans.\n",
       "\n",
       "@param text: The input text for the regex operation.\n",
       "@param regex_pattern: the pattern of the regex operation.\n",
       "@return: tuples of spans that represents the results.*"
      ],
      "text/plain": [
       "---\n",
       "\n",
       "[source](https://github.com/DeanLight/spannerlib/blob/master/spannerlib/ie_func/python_regex.py#LNone){target=\"_blank\" style=\"float:right; font-size:smaller\"}\n",
       "\n",
       "### py_rgx\n",
       "\n",
       ">      py_rgx (text:str, regex_pattern:str)\n",
       "\n",
       "*An IE function which runs regex using python's `re` and yields tuples of spans.\n",
       "\n",
       "@param text: The input text for the regex operation.\n",
       "@param regex_pattern: the pattern of the regex operation.\n",
       "@return: tuples of spans that represents the results.*"
      ]
     },
     "metadata": {},
     "output_type": "display_data"
    },
    {
     "data": {
      "text/plain": [
       "'=================================================='"
      ]
     },
     "metadata": {},
     "output_type": "display_data"
    },
    {
     "data": {
      "text/plain": [
       "'py_rgx_string'"
      ]
     },
     "metadata": {},
     "output_type": "display_data"
    },
    {
     "data": {
      "text/plain": [
       "\"in schema: [<class 'str'>, <class 'str'>]\""
      ]
     },
     "metadata": {},
     "output_type": "display_data"
    },
    {
     "data": {
      "text/plain": [
       "'out schema: <function <lambda>>'"
      ]
     },
     "metadata": {},
     "output_type": "display_data"
    },
    {
     "data": {
      "text/markdown": [
       "---\n",
       "\n",
       "[source](https://github.com/DeanLight/spannerlib/blob/master/spannerlib/ie_func/python_regex.py#LNone){target=\"_blank\" style=\"float:right; font-size:smaller\"}\n",
       "\n",
       "### py_rgx_string\n",
       "\n",
       ">      py_rgx_string (text:str, regex_pattern:str)\n",
       "\n",
       "*An IE function which runs regex using python's `re` and yields tuples of strings.\n",
       "\n",
       "@param text: The input text for the regex operation.\n",
       "@param regex_pattern: the pattern of the regex operation.\n",
       "@return: tuples of strings that represents the results.*"
      ],
      "text/plain": [
       "---\n",
       "\n",
       "[source](https://github.com/DeanLight/spannerlib/blob/master/spannerlib/ie_func/python_regex.py#LNone){target=\"_blank\" style=\"float:right; font-size:smaller\"}\n",
       "\n",
       "### py_rgx_string\n",
       "\n",
       ">      py_rgx_string (text:str, regex_pattern:str)\n",
       "\n",
       "*An IE function which runs regex using python's `re` and yields tuples of strings.\n",
       "\n",
       "@param text: The input text for the regex operation.\n",
       "@param regex_pattern: the pattern of the regex operation.\n",
       "@return: tuples of strings that represents the results.*"
      ]
     },
     "metadata": {},
     "output_type": "display_data"
    },
    {
     "data": {
      "text/plain": [
       "'=================================================='"
      ]
     },
     "metadata": {},
     "output_type": "display_data"
    },
    {
     "data": {
      "text/plain": [
       "'rgx_span'"
      ]
     },
     "metadata": {},
     "output_type": "display_data"
    },
    {
     "data": {
      "text/plain": [
       "\"in schema: [<class 'str'>, <class 'str'>]\""
      ]
     },
     "metadata": {},
     "output_type": "display_data"
    },
    {
     "data": {
      "text/plain": [
       "'out schema: <function <lambda>>'"
      ]
     },
     "metadata": {},
     "output_type": "display_data"
    },
    {
     "data": {
      "text/markdown": [
       "---\n",
       "\n",
       "[source](https://github.com/DeanLight/spannerlib/blob/master/spannerlib/ie_func/rust_spanner_regex.py#LNone){target=\"_blank\" style=\"float:right; font-size:smaller\"}\n",
       "\n",
       "### rgx_span\n",
       "\n",
       ">      rgx_span (text:str, regex_pattern:str)\n",
       "\n",
       "*computes the spans of all the matches of the regex pattern in the text\n",
       "\n",
       "based on the [enum-spanner-rs](https://github.com/PoDMR/enum-spanner-rs) rust package*\n",
       "\n",
       "|    | **Type** | **Details** |\n",
       "| -- | -------- | ----------- |\n",
       "| text | str | The input text for the regex operation |\n",
       "| regex_pattern | str | The pattern of the regex operation |\n",
       "| **Returns** | **Iterable** | **tuples of spans that represents the results** |"
      ],
      "text/plain": [
       "---\n",
       "\n",
       "[source](https://github.com/DeanLight/spannerlib/blob/master/spannerlib/ie_func/rust_spanner_regex.py#LNone){target=\"_blank\" style=\"float:right; font-size:smaller\"}\n",
       "\n",
       "### rgx_span\n",
       "\n",
       ">      rgx_span (text:str, regex_pattern:str)\n",
       "\n",
       "*computes the spans of all the matches of the regex pattern in the text\n",
       "\n",
       "based on the [enum-spanner-rs](https://github.com/PoDMR/enum-spanner-rs) rust package*\n",
       "\n",
       "|    | **Type** | **Details** |\n",
       "| -- | -------- | ----------- |\n",
       "| text | str | The input text for the regex operation |\n",
       "| regex_pattern | str | The pattern of the regex operation |\n",
       "| **Returns** | **Iterable** | **tuples of spans that represents the results** |"
      ]
     },
     "metadata": {},
     "output_type": "display_data"
    },
    {
     "data": {
      "text/plain": [
       "'=================================================='"
      ]
     },
     "metadata": {},
     "output_type": "display_data"
    },
    {
     "data": {
      "text/plain": [
       "'rgx_string'"
      ]
     },
     "metadata": {},
     "output_type": "display_data"
    },
    {
     "data": {
      "text/plain": [
       "\"in schema: [<class 'str'>, <class 'str'>]\""
      ]
     },
     "metadata": {},
     "output_type": "display_data"
    },
    {
     "data": {
      "text/plain": [
       "'out schema: <function <lambda>>'"
      ]
     },
     "metadata": {},
     "output_type": "display_data"
    },
    {
     "data": {
      "text/markdown": [
       "---\n",
       "\n",
       "[source](https://github.com/DeanLight/spannerlib/blob/master/spannerlib/ie_func/rust_spanner_regex.py#LNone){target=\"_blank\" style=\"float:right; font-size:smaller\"}\n",
       "\n",
       "### rgx_string\n",
       "\n",
       ">      rgx_string (text:str, regex_pattern:str)\n",
       "\n",
       "|    | **Type** | **Details** |\n",
       "| -- | -------- | ----------- |\n",
       "| text | str | The input text for the regex operation |\n",
       "| regex_pattern | str | he pattern of the regex operation |\n",
       "| **Returns** | **Iterable** | **tuples of strings that represents the results** |"
      ],
      "text/plain": [
       "---\n",
       "\n",
       "[source](https://github.com/DeanLight/spannerlib/blob/master/spannerlib/ie_func/rust_spanner_regex.py#LNone){target=\"_blank\" style=\"float:right; font-size:smaller\"}\n",
       "\n",
       "### rgx_string\n",
       "\n",
       ">      rgx_string (text:str, regex_pattern:str)\n",
       "\n",
       "|    | **Type** | **Details** |\n",
       "| -- | -------- | ----------- |\n",
       "| text | str | The input text for the regex operation |\n",
       "| regex_pattern | str | he pattern of the regex operation |\n",
       "| **Returns** | **Iterable** | **tuples of strings that represents the results** |"
      ]
     },
     "metadata": {},
     "output_type": "display_data"
    },
    {
     "data": {
      "text/plain": [
       "'=================================================='"
      ]
     },
     "metadata": {},
     "output_type": "display_data"
    },
    {
     "data": {
      "text/plain": [
       "'rgx_span_from_file'"
      ]
     },
     "metadata": {},
     "output_type": "display_data"
    },
    {
     "data": {
      "text/plain": [
       "\"in schema: [<class 'str'>, <class 'str'>]\""
      ]
     },
     "metadata": {},
     "output_type": "display_data"
    },
    {
     "data": {
      "text/plain": [
       "'out schema: <function <lambda>>'"
      ]
     },
     "metadata": {},
     "output_type": "display_data"
    },
    {
     "data": {
      "text/markdown": [
       "---\n",
       "\n",
       "[source](https://github.com/DeanLight/spannerlib/blob/master/spannerlib/ie_func/rust_spanner_regex.py#LNone){target=\"_blank\" style=\"float:right; font-size:smaller\"}\n",
       "\n",
       "### rgx_span_from_file\n",
       "\n",
       ">      rgx_span_from_file (text_file:str, regex_pattern:str)\n",
       "\n",
       "|    | **Type** | **Details** |\n",
       "| -- | -------- | ----------- |\n",
       "| text_file | str | The input file for the regex operation |\n",
       "| regex_pattern | str | The pattern of the regex operation |\n",
       "| **Returns** | **Iterable** | **tuples of spans that represents the results** |"
      ],
      "text/plain": [
       "---\n",
       "\n",
       "[source](https://github.com/DeanLight/spannerlib/blob/master/spannerlib/ie_func/rust_spanner_regex.py#LNone){target=\"_blank\" style=\"float:right; font-size:smaller\"}\n",
       "\n",
       "### rgx_span_from_file\n",
       "\n",
       ">      rgx_span_from_file (text_file:str, regex_pattern:str)\n",
       "\n",
       "|    | **Type** | **Details** |\n",
       "| -- | -------- | ----------- |\n",
       "| text_file | str | The input file for the regex operation |\n",
       "| regex_pattern | str | The pattern of the regex operation |\n",
       "| **Returns** | **Iterable** | **tuples of spans that represents the results** |"
      ]
     },
     "metadata": {},
     "output_type": "display_data"
    },
    {
     "data": {
      "text/plain": [
       "'=================================================='"
      ]
     },
     "metadata": {},
     "output_type": "display_data"
    },
    {
     "data": {
      "text/plain": [
       "'rgx_string_from_file'"
      ]
     },
     "metadata": {},
     "output_type": "display_data"
    },
    {
     "data": {
      "text/plain": [
       "\"in schema: [<class 'str'>, <class 'str'>]\""
      ]
     },
     "metadata": {},
     "output_type": "display_data"
    },
    {
     "data": {
      "text/plain": [
       "'out schema: <function <lambda>>'"
      ]
     },
     "metadata": {},
     "output_type": "display_data"
    },
    {
     "data": {
      "text/markdown": [
       "---\n",
       "\n",
       "[source](https://github.com/DeanLight/spannerlib/blob/master/spannerlib/ie_func/rust_spanner_regex.py#LNone){target=\"_blank\" style=\"float:right; font-size:smaller\"}\n",
       "\n",
       "### rgx_string_from_file\n",
       "\n",
       ">      rgx_string_from_file (text_file:str, regex_pattern:str)\n",
       "\n",
       "|    | **Type** | **Details** |\n",
       "| -- | -------- | ----------- |\n",
       "| text_file | str | The input file for the regex operation |\n",
       "| regex_pattern | str | The pattern of the regex operation |\n",
       "| **Returns** | **Iterable** | **tuples of strings that represents the results** |"
      ],
      "text/plain": [
       "---\n",
       "\n",
       "[source](https://github.com/DeanLight/spannerlib/blob/master/spannerlib/ie_func/rust_spanner_regex.py#LNone){target=\"_blank\" style=\"float:right; font-size:smaller\"}\n",
       "\n",
       "### rgx_string_from_file\n",
       "\n",
       ">      rgx_string_from_file (text_file:str, regex_pattern:str)\n",
       "\n",
       "|    | **Type** | **Details** |\n",
       "| -- | -------- | ----------- |\n",
       "| text_file | str | The input file for the regex operation |\n",
       "| regex_pattern | str | The pattern of the regex operation |\n",
       "| **Returns** | **Iterable** | **tuples of strings that represents the results** |"
      ]
     },
     "metadata": {},
     "output_type": "display_data"
    },
    {
     "data": {
      "text/plain": [
       "'=================================================='"
      ]
     },
     "metadata": {},
     "output_type": "display_data"
    },
    {
     "data": {
      "text/plain": [
       "'JsonPath'"
      ]
     },
     "metadata": {},
     "output_type": "display_data"
    },
    {
     "data": {
      "text/plain": [
       "\"in schema: [<class 'str'>, <class 'str'>]\""
      ]
     },
     "metadata": {},
     "output_type": "display_data"
    },
    {
     "data": {
      "text/plain": [
       "\"out schema: [<class 'str'>]\""
      ]
     },
     "metadata": {},
     "output_type": "display_data"
    },
    {
     "data": {
      "text/markdown": [
       "---\n",
       "\n",
       "[source](https://github.com/DeanLight/spannerlib/blob/master/spannerlib/ie_func/json_path.py#LNone){target=\"_blank\" style=\"float:right; font-size:smaller\"}\n",
       "\n",
       "### json_path\n",
       "\n",
       ">      json_path (json_document:str, path_expression:str)\n",
       "\n",
       "*@param json_document: The document on which we will run the path expression.\n",
       "@param path_expression: The query to execute.\n",
       "@return: json documents.*"
      ],
      "text/plain": [
       "---\n",
       "\n",
       "[source](https://github.com/DeanLight/spannerlib/blob/master/spannerlib/ie_func/json_path.py#LNone){target=\"_blank\" style=\"float:right; font-size:smaller\"}\n",
       "\n",
       "### json_path\n",
       "\n",
       ">      json_path (json_document:str, path_expression:str)\n",
       "\n",
       "*@param json_document: The document on which we will run the path expression.\n",
       "@param path_expression: The query to execute.\n",
       "@return: json documents.*"
      ]
     },
     "metadata": {},
     "output_type": "display_data"
    },
    {
     "data": {
      "text/plain": [
       "'=================================================='"
      ]
     },
     "metadata": {},
     "output_type": "display_data"
    },
    {
     "data": {
      "text/plain": [
       "'JsonPathFull'"
      ]
     },
     "metadata": {},
     "output_type": "display_data"
    },
    {
     "data": {
      "text/plain": [
       "\"in schema: [<class 'str'>, <class 'str'>]\""
      ]
     },
     "metadata": {},
     "output_type": "display_data"
    },
    {
     "data": {
      "text/plain": [
       "'out schema: <function <lambda>>'"
      ]
     },
     "metadata": {},
     "output_type": "display_data"
    },
    {
     "data": {
      "text/markdown": [
       "---\n",
       "\n",
       "[source](https://github.com/DeanLight/spannerlib/blob/master/spannerlib/ie_func/json_path.py#LNone){target=\"_blank\" style=\"float:right; font-size:smaller\"}\n",
       "\n",
       "### json_path_full\n",
       "\n",
       ">      json_path_full (json_document:str, path_expression:str)\n",
       "\n",
       "*@param json_document: The document on which we will run the path expression.\n",
       "@param path_expression: The query to execute.\n",
       "@return: json documents with the full results paths.*"
      ],
      "text/plain": [
       "---\n",
       "\n",
       "[source](https://github.com/DeanLight/spannerlib/blob/master/spannerlib/ie_func/json_path.py#LNone){target=\"_blank\" style=\"float:right; font-size:smaller\"}\n",
       "\n",
       "### json_path_full\n",
       "\n",
       ">      json_path_full (json_document:str, path_expression:str)\n",
       "\n",
       "*@param json_document: The document on which we will run the path expression.\n",
       "@param path_expression: The query to execute.\n",
       "@return: json documents with the full results paths.*"
      ]
     },
     "metadata": {},
     "output_type": "display_data"
    },
    {
     "data": {
      "text/plain": [
       "'=================================================='"
      ]
     },
     "metadata": {},
     "output_type": "display_data"
    },
    {
     "data": {
      "text/plain": [
       "'Tokenize'"
      ]
     },
     "metadata": {},
     "output_type": "display_data"
    },
    {
     "data": {
      "text/plain": [
       "\"in schema: [<class 'str'>]\""
      ]
     },
     "metadata": {},
     "output_type": "display_data"
    },
    {
     "data": {
      "text/plain": [
       "\"out schema: [<class 'str'>, <class 'spannerlib.span.Span'>]\""
      ]
     },
     "metadata": {},
     "output_type": "display_data"
    },
    {
     "data": {
      "text/markdown": [
       "---\n",
       "\n",
       "[source](https://github.com/DeanLight/spannerlib/blob/master/spannerlib/ie_func/nlp.py#LNone){target=\"_blank\" style=\"float:right; font-size:smaller\"}\n",
       "\n",
       "### tokenize_wrapper\n",
       "\n",
       ">      tokenize_wrapper (sentence:str)"
      ],
      "text/plain": [
       "---\n",
       "\n",
       "[source](https://github.com/DeanLight/spannerlib/blob/master/spannerlib/ie_func/nlp.py#LNone){target=\"_blank\" style=\"float:right; font-size:smaller\"}\n",
       "\n",
       "### tokenize_wrapper\n",
       "\n",
       ">      tokenize_wrapper (sentence:str)"
      ]
     },
     "metadata": {},
     "output_type": "display_data"
    },
    {
     "data": {
      "text/plain": [
       "'=================================================='"
      ]
     },
     "metadata": {},
     "output_type": "display_data"
    },
    {
     "data": {
      "text/plain": [
       "'SSplit'"
      ]
     },
     "metadata": {},
     "output_type": "display_data"
    },
    {
     "data": {
      "text/plain": [
       "\"in schema: [<class 'str'>]\""
      ]
     },
     "metadata": {},
     "output_type": "display_data"
    },
    {
     "data": {
      "text/plain": [
       "\"out schema: [<class 'str'>]\""
      ]
     },
     "metadata": {},
     "output_type": "display_data"
    },
    {
     "data": {
      "text/markdown": [
       "---\n",
       "\n",
       "[source](https://github.com/DeanLight/spannerlib/blob/master/spannerlib/ie_func/nlp.py#LNone){target=\"_blank\" style=\"float:right; font-size:smaller\"}\n",
       "\n",
       "### ssplit_wrapper\n",
       "\n",
       ">      ssplit_wrapper (sentence:str)"
      ],
      "text/plain": [
       "---\n",
       "\n",
       "[source](https://github.com/DeanLight/spannerlib/blob/master/spannerlib/ie_func/nlp.py#LNone){target=\"_blank\" style=\"float:right; font-size:smaller\"}\n",
       "\n",
       "### ssplit_wrapper\n",
       "\n",
       ">      ssplit_wrapper (sentence:str)"
      ]
     },
     "metadata": {},
     "output_type": "display_data"
    },
    {
     "data": {
      "text/plain": [
       "'=================================================='"
      ]
     },
     "metadata": {},
     "output_type": "display_data"
    },
    {
     "data": {
      "text/plain": [
       "'POS'"
      ]
     },
     "metadata": {},
     "output_type": "display_data"
    },
    {
     "data": {
      "text/plain": [
       "\"in schema: [<class 'str'>]\""
      ]
     },
     "metadata": {},
     "output_type": "display_data"
    },
    {
     "data": {
      "text/plain": [
       "\"out schema: [<class 'str'>, <class 'str'>, <class 'spannerlib.span.Span'>]\""
      ]
     },
     "metadata": {},
     "output_type": "display_data"
    },
    {
     "data": {
      "text/markdown": [
       "---\n",
       "\n",
       "[source](https://github.com/DeanLight/spannerlib/blob/master/spannerlib/ie_func/nlp.py#LNone){target=\"_blank\" style=\"float:right; font-size:smaller\"}\n",
       "\n",
       "### pos_wrapper\n",
       "\n",
       ">      pos_wrapper (sentence:str)"
      ],
      "text/plain": [
       "---\n",
       "\n",
       "[source](https://github.com/DeanLight/spannerlib/blob/master/spannerlib/ie_func/nlp.py#LNone){target=\"_blank\" style=\"float:right; font-size:smaller\"}\n",
       "\n",
       "### pos_wrapper\n",
       "\n",
       ">      pos_wrapper (sentence:str)"
      ]
     },
     "metadata": {},
     "output_type": "display_data"
    },
    {
     "data": {
      "text/plain": [
       "'=================================================='"
      ]
     },
     "metadata": {},
     "output_type": "display_data"
    },
    {
     "data": {
      "text/plain": [
       "'Lemma'"
      ]
     },
     "metadata": {},
     "output_type": "display_data"
    },
    {
     "data": {
      "text/plain": [
       "\"in schema: [<class 'str'>]\""
      ]
     },
     "metadata": {},
     "output_type": "display_data"
    },
    {
     "data": {
      "text/plain": [
       "\"out schema: [<class 'str'>, <class 'str'>, <class 'spannerlib.span.Span'>]\""
      ]
     },
     "metadata": {},
     "output_type": "display_data"
    },
    {
     "data": {
      "text/markdown": [
       "---\n",
       "\n",
       "[source](https://github.com/DeanLight/spannerlib/blob/master/spannerlib/ie_func/nlp.py#LNone){target=\"_blank\" style=\"float:right; font-size:smaller\"}\n",
       "\n",
       "### lemma_wrapper\n",
       "\n",
       ">      lemma_wrapper (sentence:str)"
      ],
      "text/plain": [
       "---\n",
       "\n",
       "[source](https://github.com/DeanLight/spannerlib/blob/master/spannerlib/ie_func/nlp.py#LNone){target=\"_blank\" style=\"float:right; font-size:smaller\"}\n",
       "\n",
       "### lemma_wrapper\n",
       "\n",
       ">      lemma_wrapper (sentence:str)"
      ]
     },
     "metadata": {},
     "output_type": "display_data"
    },
    {
     "data": {
      "text/plain": [
       "'=================================================='"
      ]
     },
     "metadata": {},
     "output_type": "display_data"
    },
    {
     "data": {
      "text/plain": [
       "'NER'"
      ]
     },
     "metadata": {},
     "output_type": "display_data"
    },
    {
     "data": {
      "text/plain": [
       "\"in schema: [<class 'str'>]\""
      ]
     },
     "metadata": {},
     "output_type": "display_data"
    },
    {
     "data": {
      "text/plain": [
       "\"out schema: [<class 'str'>, <class 'str'>, <class 'spannerlib.span.Span'>]\""
      ]
     },
     "metadata": {},
     "output_type": "display_data"
    },
    {
     "data": {
      "text/markdown": [
       "---\n",
       "\n",
       "[source](https://github.com/DeanLight/spannerlib/blob/master/spannerlib/ie_func/nlp.py#LNone){target=\"_blank\" style=\"float:right; font-size:smaller\"}\n",
       "\n",
       "### ner_wrapper\n",
       "\n",
       ">      ner_wrapper (sentence:str)"
      ],
      "text/plain": [
       "---\n",
       "\n",
       "[source](https://github.com/DeanLight/spannerlib/blob/master/spannerlib/ie_func/nlp.py#LNone){target=\"_blank\" style=\"float:right; font-size:smaller\"}\n",
       "\n",
       "### ner_wrapper\n",
       "\n",
       ">      ner_wrapper (sentence:str)"
      ]
     },
     "metadata": {},
     "output_type": "display_data"
    },
    {
     "data": {
      "text/plain": [
       "'=================================================='"
      ]
     },
     "metadata": {},
     "output_type": "display_data"
    },
    {
     "data": {
      "text/plain": [
       "'EntityMentions'"
      ]
     },
     "metadata": {},
     "output_type": "display_data"
    },
    {
     "data": {
      "text/plain": [
       "\"in schema: [<class 'str'>]\""
      ]
     },
     "metadata": {},
     "output_type": "display_data"
    },
    {
     "data": {
      "text/plain": [
       "\"out schema: [<class 'int'>, <class 'int'>, <class 'int'>, <class 'int'>, <class 'str'>, <class 'int'>, <class 'int'>, <class 'str'>, <class 'str'>]\""
      ]
     },
     "metadata": {},
     "output_type": "display_data"
    },
    {
     "data": {
      "text/markdown": [
       "---\n",
       "\n",
       "[source](https://github.com/DeanLight/spannerlib/blob/master/spannerlib/ie_func/nlp.py#LNone){target=\"_blank\" style=\"float:right; font-size:smaller\"}\n",
       "\n",
       "### entitymentions_wrapper\n",
       "\n",
       ">      entitymentions_wrapper (sentence:str)"
      ],
      "text/plain": [
       "---\n",
       "\n",
       "[source](https://github.com/DeanLight/spannerlib/blob/master/spannerlib/ie_func/nlp.py#LNone){target=\"_blank\" style=\"float:right; font-size:smaller\"}\n",
       "\n",
       "### entitymentions_wrapper\n",
       "\n",
       ">      entitymentions_wrapper (sentence:str)"
      ]
     },
     "metadata": {},
     "output_type": "display_data"
    },
    {
     "data": {
      "text/plain": [
       "'=================================================='"
      ]
     },
     "metadata": {},
     "output_type": "display_data"
    },
    {
     "data": {
      "text/plain": [
       "'CleanXML'"
      ]
     },
     "metadata": {},
     "output_type": "display_data"
    },
    {
     "data": {
      "text/plain": [
       "\"in schema: [<class 'str'>]\""
      ]
     },
     "metadata": {},
     "output_type": "display_data"
    },
    {
     "data": {
      "text/plain": [
       "\"out schema: [<class 'int'>, <class 'str'>, <class 'str'>, <class 'int'>, <class 'int'>]\""
      ]
     },
     "metadata": {},
     "output_type": "display_data"
    },
    {
     "data": {
      "text/markdown": [
       "---\n",
       "\n",
       "[source](https://github.com/DeanLight/spannerlib/blob/master/spannerlib/ie_func/nlp.py#LNone){target=\"_blank\" style=\"float:right; font-size:smaller\"}\n",
       "\n",
       "### cleanxml_wrapper\n",
       "\n",
       ">      cleanxml_wrapper (sentence:str)"
      ],
      "text/plain": [
       "---\n",
       "\n",
       "[source](https://github.com/DeanLight/spannerlib/blob/master/spannerlib/ie_func/nlp.py#LNone){target=\"_blank\" style=\"float:right; font-size:smaller\"}\n",
       "\n",
       "### cleanxml_wrapper\n",
       "\n",
       ">      cleanxml_wrapper (sentence:str)"
      ]
     },
     "metadata": {},
     "output_type": "display_data"
    },
    {
     "data": {
      "text/plain": [
       "'=================================================='"
      ]
     },
     "metadata": {},
     "output_type": "display_data"
    },
    {
     "data": {
      "text/plain": [
       "'Parse'"
      ]
     },
     "metadata": {},
     "output_type": "display_data"
    },
    {
     "data": {
      "text/plain": [
       "\"in schema: [<class 'str'>]\""
      ]
     },
     "metadata": {},
     "output_type": "display_data"
    },
    {
     "data": {
      "text/plain": [
       "\"out schema: [<class 'str'>]\""
      ]
     },
     "metadata": {},
     "output_type": "display_data"
    },
    {
     "data": {
      "text/markdown": [
       "---\n",
       "\n",
       "[source](https://github.com/DeanLight/spannerlib/blob/master/spannerlib/ie_func/nlp.py#LNone){target=\"_blank\" style=\"float:right; font-size:smaller\"}\n",
       "\n",
       "### parse_wrapper\n",
       "\n",
       ">      parse_wrapper (sentence:str)"
      ],
      "text/plain": [
       "---\n",
       "\n",
       "[source](https://github.com/DeanLight/spannerlib/blob/master/spannerlib/ie_func/nlp.py#LNone){target=\"_blank\" style=\"float:right; font-size:smaller\"}\n",
       "\n",
       "### parse_wrapper\n",
       "\n",
       ">      parse_wrapper (sentence:str)"
      ]
     },
     "metadata": {},
     "output_type": "display_data"
    },
    {
     "data": {
      "text/plain": [
       "'=================================================='"
      ]
     },
     "metadata": {},
     "output_type": "display_data"
    },
    {
     "data": {
      "text/plain": [
       "'DepParse'"
      ]
     },
     "metadata": {},
     "output_type": "display_data"
    },
    {
     "data": {
      "text/plain": [
       "\"in schema: [<class 'str'>]\""
      ]
     },
     "metadata": {},
     "output_type": "display_data"
    },
    {
     "data": {
      "text/plain": [
       "\"out schema: [<class 'str'>, <class 'int'>, <class 'str'>, <class 'int'>, <class 'str'>]\""
      ]
     },
     "metadata": {},
     "output_type": "display_data"
    },
    {
     "data": {
      "text/markdown": [
       "---\n",
       "\n",
       "[source](https://github.com/DeanLight/spannerlib/blob/master/spannerlib/ie_func/nlp.py#LNone){target=\"_blank\" style=\"float:right; font-size:smaller\"}\n",
       "\n",
       "### dependency_parse_wrapper\n",
       "\n",
       ">      dependency_parse_wrapper (sentence:str)"
      ],
      "text/plain": [
       "---\n",
       "\n",
       "[source](https://github.com/DeanLight/spannerlib/blob/master/spannerlib/ie_func/nlp.py#LNone){target=\"_blank\" style=\"float:right; font-size:smaller\"}\n",
       "\n",
       "### dependency_parse_wrapper\n",
       "\n",
       ">      dependency_parse_wrapper (sentence:str)"
      ]
     },
     "metadata": {},
     "output_type": "display_data"
    },
    {
     "data": {
      "text/plain": [
       "'=================================================='"
      ]
     },
     "metadata": {},
     "output_type": "display_data"
    },
    {
     "data": {
      "text/plain": [
       "'Coref'"
      ]
     },
     "metadata": {},
     "output_type": "display_data"
    },
    {
     "data": {
      "text/plain": [
       "\"in schema: [<class 'str'>]\""
      ]
     },
     "metadata": {},
     "output_type": "display_data"
    },
    {
     "data": {
      "text/plain": [
       "\"out schema: [<class 'int'>, <class 'str'>, <class 'str'>, <class 'str'>, <class 'str'>, <class 'str'>, <class 'int'>, <class 'int'>, <class 'int'>, <class 'int'>, <class 'spannerlib.span.Span'>, <class 'str'>]\""
      ]
     },
     "metadata": {},
     "output_type": "display_data"
    },
    {
     "data": {
      "text/markdown": [
       "---\n",
       "\n",
       "[source](https://github.com/DeanLight/spannerlib/blob/master/spannerlib/ie_func/nlp.py#LNone){target=\"_blank\" style=\"float:right; font-size:smaller\"}\n",
       "\n",
       "### coref_wrapper\n",
       "\n",
       ">      coref_wrapper (sentence:str)"
      ],
      "text/plain": [
       "---\n",
       "\n",
       "[source](https://github.com/DeanLight/spannerlib/blob/master/spannerlib/ie_func/nlp.py#LNone){target=\"_blank\" style=\"float:right; font-size:smaller\"}\n",
       "\n",
       "### coref_wrapper\n",
       "\n",
       ">      coref_wrapper (sentence:str)"
      ]
     },
     "metadata": {},
     "output_type": "display_data"
    },
    {
     "data": {
      "text/plain": [
       "'=================================================='"
      ]
     },
     "metadata": {},
     "output_type": "display_data"
    },
    {
     "data": {
      "text/plain": [
       "'OpenIE'"
      ]
     },
     "metadata": {},
     "output_type": "display_data"
    },
    {
     "data": {
      "text/plain": [
       "\"in schema: [<class 'str'>]\""
      ]
     },
     "metadata": {},
     "output_type": "display_data"
    },
    {
     "data": {
      "text/plain": [
       "\"out schema: [<class 'str'>, <class 'spannerlib.span.Span'>, <class 'str'>, <class 'spannerlib.span.Span'>, <class 'str'>, <class 'spannerlib.span.Span'>]\""
      ]
     },
     "metadata": {},
     "output_type": "display_data"
    },
    {
     "data": {
      "text/markdown": [
       "---\n",
       "\n",
       "[source](https://github.com/DeanLight/spannerlib/blob/master/spannerlib/ie_func/nlp.py#LNone){target=\"_blank\" style=\"float:right; font-size:smaller\"}\n",
       "\n",
       "### openie_wrapper\n",
       "\n",
       ">      openie_wrapper (sentence:str)"
      ],
      "text/plain": [
       "---\n",
       "\n",
       "[source](https://github.com/DeanLight/spannerlib/blob/master/spannerlib/ie_func/nlp.py#LNone){target=\"_blank\" style=\"float:right; font-size:smaller\"}\n",
       "\n",
       "### openie_wrapper\n",
       "\n",
       ">      openie_wrapper (sentence:str)"
      ]
     },
     "metadata": {},
     "output_type": "display_data"
    },
    {
     "data": {
      "text/plain": [
       "'=================================================='"
      ]
     },
     "metadata": {},
     "output_type": "display_data"
    },
    {
     "data": {
      "text/plain": [
       "'KBP'"
      ]
     },
     "metadata": {},
     "output_type": "display_data"
    },
    {
     "data": {
      "text/plain": [
       "\"in schema: [<class 'str'>]\""
      ]
     },
     "metadata": {},
     "output_type": "display_data"
    },
    {
     "data": {
      "text/plain": [
       "\"out schema: [<class 'str'>, <class 'spannerlib.span.Span'>, <class 'str'>, <class 'spannerlib.span.Span'>, <class 'str'>, <class 'spannerlib.span.Span'>]\""
      ]
     },
     "metadata": {},
     "output_type": "display_data"
    },
    {
     "data": {
      "text/markdown": [
       "---\n",
       "\n",
       "[source](https://github.com/DeanLight/spannerlib/blob/master/spannerlib/ie_func/nlp.py#LNone){target=\"_blank\" style=\"float:right; font-size:smaller\"}\n",
       "\n",
       "### kbp_wrapper\n",
       "\n",
       ">      kbp_wrapper (sentence:str)"
      ],
      "text/plain": [
       "---\n",
       "\n",
       "[source](https://github.com/DeanLight/spannerlib/blob/master/spannerlib/ie_func/nlp.py#LNone){target=\"_blank\" style=\"float:right; font-size:smaller\"}\n",
       "\n",
       "### kbp_wrapper\n",
       "\n",
       ">      kbp_wrapper (sentence:str)"
      ]
     },
     "metadata": {},
     "output_type": "display_data"
    },
    {
     "data": {
      "text/plain": [
       "'=================================================='"
      ]
     },
     "metadata": {},
     "output_type": "display_data"
    },
    {
     "data": {
      "text/plain": [
       "'Quote'"
      ]
     },
     "metadata": {},
     "output_type": "display_data"
    },
    {
     "data": {
      "text/plain": [
       "\"in schema: [<class 'str'>]\""
      ]
     },
     "metadata": {},
     "output_type": "display_data"
    },
    {
     "data": {
      "text/plain": [
       "\"out schema: [<class 'int'>, <class 'str'>, <class 'int'>, <class 'int'>, <class 'int'>, <class 'int'>, <class 'int'>, <class 'int'>, <class 'str'>, <class 'str'>]\""
      ]
     },
     "metadata": {},
     "output_type": "display_data"
    },
    {
     "data": {
      "text/markdown": [
       "---\n",
       "\n",
       "[source](https://github.com/DeanLight/spannerlib/blob/master/spannerlib/ie_func/nlp.py#LNone){target=\"_blank\" style=\"float:right; font-size:smaller\"}\n",
       "\n",
       "### quote_wrapper\n",
       "\n",
       ">      quote_wrapper (sentence:str)"
      ],
      "text/plain": [
       "---\n",
       "\n",
       "[source](https://github.com/DeanLight/spannerlib/blob/master/spannerlib/ie_func/nlp.py#LNone){target=\"_blank\" style=\"float:right; font-size:smaller\"}\n",
       "\n",
       "### quote_wrapper\n",
       "\n",
       ">      quote_wrapper (sentence:str)"
      ]
     },
     "metadata": {},
     "output_type": "display_data"
    },
    {
     "data": {
      "text/plain": [
       "'=================================================='"
      ]
     },
     "metadata": {},
     "output_type": "display_data"
    },
    {
     "data": {
      "text/plain": [
       "'Sentiment'"
      ]
     },
     "metadata": {},
     "output_type": "display_data"
    },
    {
     "data": {
      "text/plain": [
       "\"in schema: [<class 'str'>]\""
      ]
     },
     "metadata": {},
     "output_type": "display_data"
    },
    {
     "data": {
      "text/plain": [
       "\"out schema: [<class 'int'>, <class 'str'>, <class 'str'>]\""
      ]
     },
     "metadata": {},
     "output_type": "display_data"
    },
    {
     "data": {
      "text/markdown": [
       "---\n",
       "\n",
       "[source](https://github.com/DeanLight/spannerlib/blob/master/spannerlib/ie_func/nlp.py#LNone){target=\"_blank\" style=\"float:right; font-size:smaller\"}\n",
       "\n",
       "### sentiment_wrapper\n",
       "\n",
       ">      sentiment_wrapper (sentence:str)"
      ],
      "text/plain": [
       "---\n",
       "\n",
       "[source](https://github.com/DeanLight/spannerlib/blob/master/spannerlib/ie_func/nlp.py#LNone){target=\"_blank\" style=\"float:right; font-size:smaller\"}\n",
       "\n",
       "### sentiment_wrapper\n",
       "\n",
       ">      sentiment_wrapper (sentence:str)"
      ]
     },
     "metadata": {},
     "output_type": "display_data"
    },
    {
     "data": {
      "text/plain": [
       "'=================================================='"
      ]
     },
     "metadata": {},
     "output_type": "display_data"
    },
    {
     "data": {
      "text/plain": [
       "'TrueCase'"
      ]
     },
     "metadata": {},
     "output_type": "display_data"
    },
    {
     "data": {
      "text/plain": [
       "\"in schema: [<class 'str'>]\""
      ]
     },
     "metadata": {},
     "output_type": "display_data"
    },
    {
     "data": {
      "text/plain": [
       "\"out schema: [<class 'str'>, <class 'spannerlib.span.Span'>, <class 'str'>, <class 'str'>]\""
      ]
     },
     "metadata": {},
     "output_type": "display_data"
    },
    {
     "data": {
      "text/markdown": [
       "---\n",
       "\n",
       "[source](https://github.com/DeanLight/spannerlib/blob/master/spannerlib/ie_func/nlp.py#LNone){target=\"_blank\" style=\"float:right; font-size:smaller\"}\n",
       "\n",
       "### truecase_wrapper\n",
       "\n",
       ">      truecase_wrapper (sentence:str)"
      ],
      "text/plain": [
       "---\n",
       "\n",
       "[source](https://github.com/DeanLight/spannerlib/blob/master/spannerlib/ie_func/nlp.py#LNone){target=\"_blank\" style=\"float:right; font-size:smaller\"}\n",
       "\n",
       "### truecase_wrapper\n",
       "\n",
       ">      truecase_wrapper (sentence:str)"
      ]
     },
     "metadata": {},
     "output_type": "display_data"
    },
    {
     "data": {
      "text/plain": [
       "'=================================================='"
      ]
     },
     "metadata": {},
     "output_type": "display_data"
    }
   ],
   "source": [
    "\n",
    "for name,ie in spannerlib.Session().get_all_functions().items():\n",
    "    display(name)\n",
    "    display(f'in schema: {ie.in_schema}')\n",
    "    display(f'out schema: {ie.out_schema}')\n",
    "    display(show_doc(ie.func))\n",
    "    display('='*50)"
   ]
  }
 ],
 "metadata": {
  "jupytext": {
   "formats": "ipynb,md"
  },
  "kernelspec": {
   "display_name": "python3",
   "language": "python",
   "name": "python3"
  }
 },
 "nbformat": 4,
 "nbformat_minor": 4
}
