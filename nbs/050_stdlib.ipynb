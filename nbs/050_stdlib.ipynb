{
 "cells": [
  {
   "cell_type": "markdown",
   "metadata": {},
   "source": [
    "# Standard library ie functions"
   ]
  },
  {
   "cell_type": "code",
   "execution_count": null,
   "metadata": {},
   "outputs": [],
   "source": [
    "# TODO change the notebooks that define the ie functions to make their own documentation."
   ]
  },
  {
   "cell_type": "markdown",
   "metadata": {},
   "source": [
    "Here are the current standard ie functions that are registered in spannerlog sessions.\n",
    "This section is still a WIP."
   ]
  },
  {
   "cell_type": "code",
   "execution_count": null,
   "metadata": {},
   "outputs": [],
   "source": [
    "#| hide\n",
    "import spannerlib\n",
    "from nbdev.showdoc import show_doc\n",
    "from IPython.display import display\n",
    "sess = spannerlib.Session()\n",
    "all_functions = sess.get_all_functions()\n",
    "\n",
    "ie_funcs = all_functions['ie']\n",
    "agg_funcs = all_functions['agg']"
   ]
  },
  {
   "cell_type": "code",
   "execution_count": null,
   "metadata": {},
   "outputs": [
    {
     "data": {
      "text/plain": [
       "{'ie': {'JsonPath': IEFunction(name='JsonPath', func=<function json_path>, in_schema=[<class 'str'>, <class 'str'>], out_schema=[<class 'str'>]),\n",
       "  'JsonPathFull': IEFunction(name='JsonPathFull', func=<function json_path_full>, in_schema=[<class 'str'>, <class 'str'>], out_schema=<function <lambda>>),\n",
       "  'print': IEFunction(name='print', func=<function print_ie>, in_schema=<function <lambda>>, out_schema=[<class 'object'>]),\n",
       "  'rgx': IEFunction(name='rgx', func=<function rgx>, in_schema=[<class 'str'>, (<class 'str'>, <class 'spannerlib.span.Span'>)], out_schema=<function <lambda>>),\n",
       "  'rgx_split': IEFunction(name='rgx_split', func=<function rgx_split>, in_schema=[<class 'str'>, (<class 'str'>, <class 'spannerlib.span.Span'>)], out_schema=[<class 'spannerlib.span.Span'>, <class 'spannerlib.span.Span'>]),\n",
       "  'expr_eval': IEFunction(name='expr_eval', func=<function expr_eval>, in_schema=<function <lambda>>, out_schema=[<class 'object'>]),\n",
       "  'as_str': IEFunction(name='as_str', func=<function as_str>, in_schema=[<class 'object'>], out_schema=[<class 'str'>]),\n",
       "  'span_contained': IEFunction(name='span_contained', func=<function span_contained>, in_schema=[<class 'spannerlib.span.Span'>, <class 'spannerlib.span.Span'>], out_schema=[<class 'bool'>]),\n",
       "  'deconstruct_span': IEFunction(name='deconstruct_span', func=<function deconstruct_span>, in_schema=[<class 'spannerlib.span.Span'>], out_schema=[<class 'str'>, <class 'int'>, <class 'int'>]),\n",
       "  'read': IEFunction(name='read', func=<function read>, in_schema=[<class 'str'>], out_schema=[<class 'str'>]),\n",
       "  'read_span': IEFunction(name='read_span', func=<function read_span>, in_schema=[<class 'str'>], out_schema=[<class 'spannerlib.span.Span'>])},\n",
       " 'agg': {'count': AGGFunction(name='count', func='count', in_schema=[<class 'object'>], out_schema=[<class 'int'>]),\n",
       "  'sum': AGGFunction(name='sum', func='sum', in_schema=[<class 'numbers.Real'>], out_schema=[<class 'numbers.Real'>]),\n",
       "  'avg': AGGFunction(name='avg', func='avg', in_schema=[<class 'numbers.Real'>], out_schema=[<class 'numbers.Real'>]),\n",
       "  'max': AGGFunction(name='max', func='max', in_schema=[<class 'numbers.Real'>], out_schema=[<class 'numbers.Real'>]),\n",
       "  'min': AGGFunction(name='min', func='min', in_schema=[<class 'numbers.Real'>], out_schema=[<class 'numbers.Real'>])}}"
      ]
     },
     "execution_count": null,
     "metadata": {},
     "output_type": "execute_result"
    }
   ],
   "source": []
  },
  {
   "cell_type": "markdown",
   "metadata": {},
   "source": [
    "## IE functions"
   ]
  },
  {
   "cell_type": "code",
   "execution_count": null,
   "metadata": {},
   "outputs": [
    {
     "data": {
      "text/plain": [
       "'JsonPath'"
      ]
     },
     "metadata": {},
     "output_type": "display_data"
    },
    {
     "data": {
      "text/plain": [
       "\"in schema: [<class 'str'>, <class 'str'>]\""
      ]
     },
     "metadata": {},
     "output_type": "display_data"
    },
    {
     "data": {
      "text/plain": [
       "\"out schema: [<class 'str'>]\""
      ]
     },
     "metadata": {},
     "output_type": "display_data"
    },
    {
     "data": {
      "text/markdown": [
       "---\n",
       "\n",
       "[source](https://github.com/DeanLight/spannerlib/blob/master/spannerlib/ie_func/json_path.py#LNone){target=\"_blank\" style=\"float:right; font-size:smaller\"}\n",
       "\n",
       "### json_path\n",
       "\n",
       ">      json_path (json_document:str, path_expression:str)\n",
       "\n",
       "*@param json_document: The document on which we will run the path expression.\n",
       "@param path_expression: The query to execute.\n",
       "@return: json documents.*"
      ],
      "text/plain": [
       "---\n",
       "\n",
       "[source](https://github.com/DeanLight/spannerlib/blob/master/spannerlib/ie_func/json_path.py#LNone){target=\"_blank\" style=\"float:right; font-size:smaller\"}\n",
       "\n",
       "### json_path\n",
       "\n",
       ">      json_path (json_document:str, path_expression:str)\n",
       "\n",
       "*@param json_document: The document on which we will run the path expression.\n",
       "@param path_expression: The query to execute.\n",
       "@return: json documents.*"
      ]
     },
     "metadata": {},
     "output_type": "display_data"
    },
    {
     "data": {
      "text/plain": [
       "'================================================================================'"
      ]
     },
     "metadata": {},
     "output_type": "display_data"
    },
    {
     "data": {
      "text/plain": [
       "'JsonPathFull'"
      ]
     },
     "metadata": {},
     "output_type": "display_data"
    },
    {
     "data": {
      "text/plain": [
       "\"in schema: [<class 'str'>, <class 'str'>]\""
      ]
     },
     "metadata": {},
     "output_type": "display_data"
    },
    {
     "data": {
      "text/plain": [
       "'out schema: <function <lambda>>'"
      ]
     },
     "metadata": {},
     "output_type": "display_data"
    },
    {
     "data": {
      "text/markdown": [
       "---\n",
       "\n",
       "[source](https://github.com/DeanLight/spannerlib/blob/master/spannerlib/ie_func/json_path.py#LNone){target=\"_blank\" style=\"float:right; font-size:smaller\"}\n",
       "\n",
       "### json_path_full\n",
       "\n",
       ">      json_path_full (json_document:str, path_expression:str)\n",
       "\n",
       "*@param json_document: The document on which we will run the path expression.\n",
       "@param path_expression: The query to execute.\n",
       "@return: json documents with the full results paths.*"
      ],
      "text/plain": [
       "---\n",
       "\n",
       "[source](https://github.com/DeanLight/spannerlib/blob/master/spannerlib/ie_func/json_path.py#LNone){target=\"_blank\" style=\"float:right; font-size:smaller\"}\n",
       "\n",
       "### json_path_full\n",
       "\n",
       ">      json_path_full (json_document:str, path_expression:str)\n",
       "\n",
       "*@param json_document: The document on which we will run the path expression.\n",
       "@param path_expression: The query to execute.\n",
       "@return: json documents with the full results paths.*"
      ]
     },
     "metadata": {},
     "output_type": "display_data"
    },
    {
     "data": {
      "text/plain": [
       "'================================================================================'"
      ]
     },
     "metadata": {},
     "output_type": "display_data"
    },
    {
     "data": {
      "text/plain": [
       "'print'"
      ]
     },
     "metadata": {},
     "output_type": "display_data"
    },
    {
     "data": {
      "text/plain": [
       "'in schema: <function <lambda>>'"
      ]
     },
     "metadata": {},
     "output_type": "display_data"
    },
    {
     "data": {
      "text/plain": [
       "\"out schema: [<class 'object'>]\""
      ]
     },
     "metadata": {},
     "output_type": "display_data"
    },
    {
     "data": {
      "text/markdown": [
       "---\n",
       "\n",
       "[source](https://github.com/DeanLight/spannerlib/blob/master/spannerlib/ie_func/basic.py#LNone){target=\"_blank\" style=\"float:right; font-size:smaller\"}\n",
       "\n",
       "### print_ie\n",
       "\n",
       ">      print_ie (fstring, *objects)"
      ],
      "text/plain": [
       "---\n",
       "\n",
       "[source](https://github.com/DeanLight/spannerlib/blob/master/spannerlib/ie_func/basic.py#LNone){target=\"_blank\" style=\"float:right; font-size:smaller\"}\n",
       "\n",
       "### print_ie\n",
       "\n",
       ">      print_ie (fstring, *objects)"
      ]
     },
     "metadata": {},
     "output_type": "display_data"
    },
    {
     "data": {
      "text/plain": [
       "'================================================================================'"
      ]
     },
     "metadata": {},
     "output_type": "display_data"
    },
    {
     "data": {
      "text/plain": [
       "'rgx'"
      ]
     },
     "metadata": {},
     "output_type": "display_data"
    },
    {
     "data": {
      "text/plain": [
       "\"in schema: [<class 'str'>, (<class 'str'>, <class 'spannerlib.span.Span'>)]\""
      ]
     },
     "metadata": {},
     "output_type": "display_data"
    },
    {
     "data": {
      "text/plain": [
       "'out schema: <function <lambda>>'"
      ]
     },
     "metadata": {},
     "output_type": "display_data"
    },
    {
     "data": {
      "text/markdown": [
       "---\n",
       "\n",
       "[source](https://github.com/DeanLight/spannerlib/blob/master/spannerlib/ie_func/basic.py#LNone){target=\"_blank\" style=\"float:right; font-size:smaller\"}\n",
       "\n",
       "### rgx\n",
       "\n",
       ">      rgx (pattern:str, text:str)\n",
       "\n",
       "*An IE function which runs regex using python's `re` and yields tuples of strings.\n",
       "\n",
       "@param text: The input text for the regex operation.\n",
       "@param regex_pattern: the pattern of the regex operation.\n",
       "@return: tuples of strings that represents the results.*"
      ],
      "text/plain": [
       "---\n",
       "\n",
       "[source](https://github.com/DeanLight/spannerlib/blob/master/spannerlib/ie_func/basic.py#LNone){target=\"_blank\" style=\"float:right; font-size:smaller\"}\n",
       "\n",
       "### rgx\n",
       "\n",
       ">      rgx (pattern:str, text:str)\n",
       "\n",
       "*An IE function which runs regex using python's `re` and yields tuples of strings.\n",
       "\n",
       "@param text: The input text for the regex operation.\n",
       "@param regex_pattern: the pattern of the regex operation.\n",
       "@return: tuples of strings that represents the results.*"
      ]
     },
     "metadata": {},
     "output_type": "display_data"
    },
    {
     "data": {
      "text/plain": [
       "'================================================================================'"
      ]
     },
     "metadata": {},
     "output_type": "display_data"
    },
    {
     "data": {
      "text/plain": [
       "'rgx_split'"
      ]
     },
     "metadata": {},
     "output_type": "display_data"
    },
    {
     "data": {
      "text/plain": [
       "\"in schema: [<class 'str'>, (<class 'str'>, <class 'spannerlib.span.Span'>)]\""
      ]
     },
     "metadata": {},
     "output_type": "display_data"
    },
    {
     "data": {
      "text/plain": [
       "\"out schema: [<class 'spannerlib.span.Span'>, <class 'spannerlib.span.Span'>]\""
      ]
     },
     "metadata": {},
     "output_type": "display_data"
    },
    {
     "data": {
      "text/markdown": [
       "---\n",
       "\n",
       "[source](https://github.com/DeanLight/spannerlib/blob/master/spannerlib/ie_func/basic.py#LNone){target=\"_blank\" style=\"float:right; font-size:smaller\"}\n",
       "\n",
       "### rgx_split\n",
       "\n",
       ">      rgx_split (delim, text, initial_tag='Start Tag')\n",
       "\n",
       "*An IE function which given a delimeter rgx pattern and a text, \n",
       "returns tuples of spans of the form (delimeter_match, text_before_next_delimeter).\n",
       "Note that rgx pattern should not have any groups.\n",
       "\n",
       "@param delim: the delimeter pattern to use.\n",
       "@param text: the text to split\n",
       "@return: tuples of strings that represents splitting the text according to delim, \n",
       "    yields tuples of the form (delimeter_match, text_before_next_delimeter).*"
      ],
      "text/plain": [
       "---\n",
       "\n",
       "[source](https://github.com/DeanLight/spannerlib/blob/master/spannerlib/ie_func/basic.py#LNone){target=\"_blank\" style=\"float:right; font-size:smaller\"}\n",
       "\n",
       "### rgx_split\n",
       "\n",
       ">      rgx_split (delim, text, initial_tag='Start Tag')\n",
       "\n",
       "*An IE function which given a delimeter rgx pattern and a text, \n",
       "returns tuples of spans of the form (delimeter_match, text_before_next_delimeter).\n",
       "Note that rgx pattern should not have any groups.\n",
       "\n",
       "@param delim: the delimeter pattern to use.\n",
       "@param text: the text to split\n",
       "@return: tuples of strings that represents splitting the text according to delim, \n",
       "    yields tuples of the form (delimeter_match, text_before_next_delimeter).*"
      ]
     },
     "metadata": {},
     "output_type": "display_data"
    },
    {
     "data": {
      "text/plain": [
       "'================================================================================'"
      ]
     },
     "metadata": {},
     "output_type": "display_data"
    },
    {
     "data": {
      "text/plain": [
       "'expr_eval'"
      ]
     },
     "metadata": {},
     "output_type": "display_data"
    },
    {
     "data": {
      "text/plain": [
       "'in schema: <function <lambda>>'"
      ]
     },
     "metadata": {},
     "output_type": "display_data"
    },
    {
     "data": {
      "text/plain": [
       "\"out schema: [<class 'object'>]\""
      ]
     },
     "metadata": {},
     "output_type": "display_data"
    },
    {
     "data": {
      "text/markdown": [
       "---\n",
       "\n",
       "[source](https://github.com/DeanLight/spannerlib/blob/master/spannerlib/ie_func/basic.py#LNone){target=\"_blank\" style=\"float:right; font-size:smaller\"}\n",
       "\n",
       "### expr_eval\n",
       "\n",
       ">      expr_eval (template, *inputs)"
      ],
      "text/plain": [
       "---\n",
       "\n",
       "[source](https://github.com/DeanLight/spannerlib/blob/master/spannerlib/ie_func/basic.py#LNone){target=\"_blank\" style=\"float:right; font-size:smaller\"}\n",
       "\n",
       "### expr_eval\n",
       "\n",
       ">      expr_eval (template, *inputs)"
      ]
     },
     "metadata": {},
     "output_type": "display_data"
    },
    {
     "data": {
      "text/plain": [
       "'================================================================================'"
      ]
     },
     "metadata": {},
     "output_type": "display_data"
    },
    {
     "data": {
      "text/plain": [
       "'as_str'"
      ]
     },
     "metadata": {},
     "output_type": "display_data"
    },
    {
     "data": {
      "text/plain": [
       "\"in schema: [<class 'object'>]\""
      ]
     },
     "metadata": {},
     "output_type": "display_data"
    },
    {
     "data": {
      "text/plain": [
       "\"out schema: [<class 'str'>]\""
      ]
     },
     "metadata": {},
     "output_type": "display_data"
    },
    {
     "data": {
      "text/markdown": [
       "---\n",
       "\n",
       "[source](https://github.com/DeanLight/spannerlib/blob/master/spannerlib/ie_func/basic.py#LNone){target=\"_blank\" style=\"float:right; font-size:smaller\"}\n",
       "\n",
       "### as_str\n",
       "\n",
       ">      as_str (obj)"
      ],
      "text/plain": [
       "---\n",
       "\n",
       "[source](https://github.com/DeanLight/spannerlib/blob/master/spannerlib/ie_func/basic.py#LNone){target=\"_blank\" style=\"float:right; font-size:smaller\"}\n",
       "\n",
       "### as_str\n",
       "\n",
       ">      as_str (obj)"
      ]
     },
     "metadata": {},
     "output_type": "display_data"
    },
    {
     "data": {
      "text/plain": [
       "'================================================================================'"
      ]
     },
     "metadata": {},
     "output_type": "display_data"
    },
    {
     "data": {
      "text/plain": [
       "'span_contained'"
      ]
     },
     "metadata": {},
     "output_type": "display_data"
    },
    {
     "data": {
      "text/plain": [
       "\"in schema: [<class 'spannerlib.span.Span'>, <class 'spannerlib.span.Span'>]\""
      ]
     },
     "metadata": {},
     "output_type": "display_data"
    },
    {
     "data": {
      "text/plain": [
       "\"out schema: [<class 'bool'>]\""
      ]
     },
     "metadata": {},
     "output_type": "display_data"
    },
    {
     "data": {
      "text/markdown": [
       "---\n",
       "\n",
       "[source](https://github.com/DeanLight/spannerlib/blob/master/spannerlib/ie_func/basic.py#LNone){target=\"_blank\" style=\"float:right; font-size:smaller\"}\n",
       "\n",
       "### span_contained\n",
       "\n",
       ">      span_contained (s1, s2)\n",
       "\n",
       "*yield True if s1 is contained in s2, otherwise yield False\n",
       "\n",
       "Parameters:\n",
       "    span1 (span)\n",
       "    span2 (span)\n",
       "\n",
       "Returns:\n",
       "    (s1,s2) if s1 is contained in s2, otherwise returns nothing*"
      ],
      "text/plain": [
       "---\n",
       "\n",
       "[source](https://github.com/DeanLight/spannerlib/blob/master/spannerlib/ie_func/basic.py#LNone){target=\"_blank\" style=\"float:right; font-size:smaller\"}\n",
       "\n",
       "### span_contained\n",
       "\n",
       ">      span_contained (s1, s2)\n",
       "\n",
       "*yield True if s1 is contained in s2, otherwise yield False\n",
       "\n",
       "Parameters:\n",
       "    span1 (span)\n",
       "    span2 (span)\n",
       "\n",
       "Returns:\n",
       "    (s1,s2) if s1 is contained in s2, otherwise returns nothing*"
      ]
     },
     "metadata": {},
     "output_type": "display_data"
    },
    {
     "data": {
      "text/plain": [
       "'================================================================================'"
      ]
     },
     "metadata": {},
     "output_type": "display_data"
    },
    {
     "data": {
      "text/plain": [
       "'deconstruct_span'"
      ]
     },
     "metadata": {},
     "output_type": "display_data"
    },
    {
     "data": {
      "text/plain": [
       "\"in schema: [<class 'spannerlib.span.Span'>]\""
      ]
     },
     "metadata": {},
     "output_type": "display_data"
    },
    {
     "data": {
      "text/plain": [
       "\"out schema: [<class 'str'>, <class 'int'>, <class 'int'>]\""
      ]
     },
     "metadata": {},
     "output_type": "display_data"
    },
    {
     "data": {
      "text/markdown": [
       "---\n",
       "\n",
       "[source](https://github.com/DeanLight/spannerlib/blob/master/spannerlib/ie_func/basic.py#LNone){target=\"_blank\" style=\"float:right; font-size:smaller\"}\n",
       "\n",
       "### deconstruct_span\n",
       "\n",
       ">      deconstruct_span (span)\n",
       "\n",
       "*yields the doc id, start and end of the span*"
      ],
      "text/plain": [
       "---\n",
       "\n",
       "[source](https://github.com/DeanLight/spannerlib/blob/master/spannerlib/ie_func/basic.py#LNone){target=\"_blank\" style=\"float:right; font-size:smaller\"}\n",
       "\n",
       "### deconstruct_span\n",
       "\n",
       ">      deconstruct_span (span)\n",
       "\n",
       "*yields the doc id, start and end of the span*"
      ]
     },
     "metadata": {},
     "output_type": "display_data"
    },
    {
     "data": {
      "text/plain": [
       "'================================================================================'"
      ]
     },
     "metadata": {},
     "output_type": "display_data"
    },
    {
     "data": {
      "text/plain": [
       "'read'"
      ]
     },
     "metadata": {},
     "output_type": "display_data"
    },
    {
     "data": {
      "text/plain": [
       "\"in schema: [<class 'str'>]\""
      ]
     },
     "metadata": {},
     "output_type": "display_data"
    },
    {
     "data": {
      "text/plain": [
       "\"out schema: [<class 'str'>]\""
      ]
     },
     "metadata": {},
     "output_type": "display_data"
    },
    {
     "data": {
      "text/markdown": [
       "---\n",
       "\n",
       "[source](https://github.com/DeanLight/spannerlib/blob/master/spannerlib/ie_func/basic.py#LNone){target=\"_blank\" style=\"float:right; font-size:smaller\"}\n",
       "\n",
       "### read\n",
       "\n",
       ">      read (text_path)\n",
       "\n",
       "*Reads from file and return it's content.\n",
       "\n",
       "Parameters:\n",
       "    text_path (str): The path to the text file to read from.\n",
       "\n",
       "Returns:\n",
       "    str: The content of the file.*"
      ],
      "text/plain": [
       "---\n",
       "\n",
       "[source](https://github.com/DeanLight/spannerlib/blob/master/spannerlib/ie_func/basic.py#LNone){target=\"_blank\" style=\"float:right; font-size:smaller\"}\n",
       "\n",
       "### read\n",
       "\n",
       ">      read (text_path)\n",
       "\n",
       "*Reads from file and return it's content.\n",
       "\n",
       "Parameters:\n",
       "    text_path (str): The path to the text file to read from.\n",
       "\n",
       "Returns:\n",
       "    str: The content of the file.*"
      ]
     },
     "metadata": {},
     "output_type": "display_data"
    },
    {
     "data": {
      "text/plain": [
       "'================================================================================'"
      ]
     },
     "metadata": {},
     "output_type": "display_data"
    },
    {
     "data": {
      "text/plain": [
       "'read_span'"
      ]
     },
     "metadata": {},
     "output_type": "display_data"
    },
    {
     "data": {
      "text/plain": [
       "\"in schema: [<class 'str'>]\""
      ]
     },
     "metadata": {},
     "output_type": "display_data"
    },
    {
     "data": {
      "text/plain": [
       "\"out schema: [<class 'spannerlib.span.Span'>]\""
      ]
     },
     "metadata": {},
     "output_type": "display_data"
    },
    {
     "data": {
      "text/markdown": [
       "---\n",
       "\n",
       "[source](https://github.com/DeanLight/spannerlib/blob/master/spannerlib/ie_func/basic.py#LNone){target=\"_blank\" style=\"float:right; font-size:smaller\"}\n",
       "\n",
       "### read_span\n",
       "\n",
       ">      read_span (text_path)\n",
       "\n",
       "*Reads from file and return it's content.\n",
       "\n",
       "Parameters:\n",
       "    text_path (str): The path to the text file to read from.\n",
       "\n",
       "Returns:\n",
       "    str: The content of the file.*"
      ],
      "text/plain": [
       "---\n",
       "\n",
       "[source](https://github.com/DeanLight/spannerlib/blob/master/spannerlib/ie_func/basic.py#LNone){target=\"_blank\" style=\"float:right; font-size:smaller\"}\n",
       "\n",
       "### read_span\n",
       "\n",
       ">      read_span (text_path)\n",
       "\n",
       "*Reads from file and return it's content.\n",
       "\n",
       "Parameters:\n",
       "    text_path (str): The path to the text file to read from.\n",
       "\n",
       "Returns:\n",
       "    str: The content of the file.*"
      ]
     },
     "metadata": {},
     "output_type": "display_data"
    },
    {
     "data": {
      "text/plain": [
       "'================================================================================'"
      ]
     },
     "metadata": {},
     "output_type": "display_data"
    }
   ],
   "source": [
    "for name,ie in ie_funcs.items():\n",
    "    display(name)\n",
    "    display(f'in schema: {ie.in_schema}')\n",
    "    display(f'out schema: {ie.out_schema}')\n",
    "    display(show_doc(ie.func))\n",
    "    display('='*80)"
   ]
  },
  {
   "cell_type": "markdown",
   "metadata": {},
   "source": [
    "## Aggregation funcs"
   ]
  },
  {
   "cell_type": "markdown",
   "metadata": {},
   "source": [
    "Currently we support the following pandas aggregation functions:"
   ]
  },
  {
   "cell_type": "code",
   "execution_count": null,
   "metadata": {},
   "outputs": [
    {
     "data": {
      "text/plain": [
       "['count', 'sum', 'avg', 'max', 'min']"
      ]
     },
     "execution_count": null,
     "metadata": {},
     "output_type": "execute_result"
    }
   ],
   "source": [
    "pandas_aggs = [name for name,agg in agg_funcs.items() if isinstance(agg.func,str)]\n",
    "pandas_aggs    "
   ]
  }
 ],
 "metadata": {
  "jupytext": {
   "formats": "ipynb,md"
  },
  "kernelspec": {
   "display_name": "python3",
   "language": "python",
   "name": "python3"
  }
 },
 "nbformat": 4,
 "nbformat_minor": 4
}
