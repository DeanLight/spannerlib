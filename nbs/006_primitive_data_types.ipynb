{
 "cells": [
  {
   "cell_type": "markdown",
   "metadata": {},
   "source": [
    "# Primitive datatypes\n",
    "> data types used by the engine etc to encode rules relations etc"
   ]
  },
  {
   "cell_type": "code",
   "execution_count": null,
   "metadata": {},
   "outputs": [],
   "source": [
    "#| default_exp data_types"
   ]
  },
  {
   "cell_type": "code",
   "execution_count": null,
   "metadata": {},
   "outputs": [],
   "source": [
    "#| hide\n",
    "from nbdev.showdoc import show_doc\n",
    "from IPython.display import display, HTML\n",
    "%load_ext autoreload\n",
    "%autoreload 2"
   ]
  },
  {
   "cell_type": "code",
   "execution_count": null,
   "metadata": {},
   "outputs": [],
   "source": [
    "#| export\n",
    "from abc import ABC, abstractmethod\n",
    "import pytest\n",
    "from collections import defaultdict\n",
    "\n",
    "import pandas as pd\n",
    "from pathlib import Path\n",
    "from typing import no_type_check, Set, Sequence, Any,Optional,List,Callable,Dict,Union\n",
    "from pydantic import BaseModel\n",
    "import networkx as nx\n",
    "import itertools\n",
    "from graph_rewrite import draw, draw_match, rewrite, rewrite_iter\n",
    "from spannerlib.utils import serialize_graph,serialize_df_values,checkLogs,get_new_node_name\n",
    "from spannerlib.span import Span,SpanParser\n",
    "\n",
    "import logging\n",
    "logger = logging.getLogger(__name__)"
   ]
  },
  {
   "cell_type": "code",
   "execution_count": null,
   "metadata": {},
   "outputs": [],
   "source": [
    "#| export\n",
    "from enum import Enum\n",
    "from typing import Any\n",
    "from pydantic import ConfigDict\n",
    "\n",
    "\n",
    "class Var(BaseModel):\n",
    "    name: str\n",
    "    def __hash__(self):\n",
    "        return hash(self.name)\n",
    "\n",
    "class FreeVar(BaseModel):\n",
    "    name: str\n",
    "    def __hash__(self):\n",
    "        return hash(self.name)\n",
    "\n",
    "\n",
    "\n",
    "\n",
    "class RelationDefinition(BaseModel):\n",
    "    model_config = ConfigDict(arbitrary_types_allowed=True)\n",
    "    name: str\n",
    "    scheme: List\n",
    "\n",
    "class Relation(BaseModel):\n",
    "    model_config = ConfigDict(arbitrary_types_allowed=True)\n",
    "    name: str\n",
    "    terms: List\n",
    "    agg: Optional[Dict[FreeVar,str]] = None\n",
    "\n",
    "class IEFunction(BaseModel):\n",
    "    model_config = ConfigDict(arbitrary_types_allowed=True)\n",
    "    name: str\n",
    "    func: Callable\n",
    "    # either a fixed schema, or a callable that takes the expected arity and given us the schema\n",
    "    in_schema: Union[List,Callable] \n",
    "    out_schema: Union[List,Callable]\n",
    "\n",
    "\n",
    "class AGGFunction(BaseModel):\n",
    "    model_config = ConfigDict(arbitrary_types_allowed=True)\n",
    "    name: str\n",
    "    func: Union[Callable,str]\n",
    "    in_schema: List \n",
    "    out_schema: List\n",
    "\n",
    "class IERelation(BaseModel):\n",
    "    model_config = ConfigDict(arbitrary_types_allowed=True)\n",
    "    name: str\n",
    "    in_terms: List\n",
    "    out_terms: List\n",
    "    def __hash__(self):\n",
    "        hash_str = f'''{self.name}_in_{'_'.join([str(x) for x in self.in_terms])}_out_{'_'.join([str(x) for x in self.out_terms])}'''\n",
    "        return hash(hash_str)\n",
    "\n",
    "class Rule(BaseModel):\n",
    "    model_config = ConfigDict(arbitrary_types_allowed=True)\n",
    "    head: Relation\n",
    "    body: List[Union[Relation,IERelation]]"
   ]
  },
  {
   "cell_type": "code",
   "execution_count": null,
   "metadata": {},
   "outputs": [],
   "source": [
    "#| export\n",
    "def pretty(obj):\n",
    "    \"\"\"pretty printing dataclasses for user messages,\n",
    "    making them look like spannerlog code instead of python code\"\"\"\n",
    "    \n",
    "    if isinstance(obj,Span):\n",
    "        return f\"[{obj.start},{obj.end})\"\n",
    "    elif isinstance(obj,(Var,FreeVar)):\n",
    "        return obj.name\n",
    "    elif isinstance(obj,RelationDefinition):\n",
    "        return f\"{obj.name}({','.join(pretty(o) for o in obj.scheme)})\"\n",
    "    elif isinstance(obj,Relation):\n",
    "        if obj.agg:\n",
    "            pretty_terms = [f\"{obj.agg[term]}({pretty(term)})\" if (term in obj.agg) else pretty(term) for term in obj.terms]\n",
    "        else:\n",
    "            pretty_terms = [pretty(t) for t in obj.terms]\n",
    "        return f\"{obj.name}({','.join(pretty_terms)})\"\n",
    "    elif isinstance(obj,IERelation):\n",
    "        return f\"{obj.name}({','.join(pretty(o) for o in obj.in_terms)}) -> ({','.join(pretty(o) for o in obj.out_terms)})\"\n",
    "    elif isinstance(obj,IEFunction):\n",
    "        return f\"{obj.name}({','.join(pretty(o) for o in obj.in_schema)}) -> ({','.join(pretty(o) for o in obj.out_schema)})\"\n",
    "    elif isinstance(obj,Rule):\n",
    "        return f\"{pretty(obj.head)} <- {','.join(pretty(o) for o in obj.body)}\"\n",
    "    elif isinstance(obj,type):\n",
    "        return obj.__name__\n",
    "    else:\n",
    "        return str(obj)"
   ]
  },
  {
   "cell_type": "code",
   "execution_count": null,
   "metadata": {},
   "outputs": [],
   "source": [
    "rule = Rule(\n",
    "    head=Relation(name='R', terms=[FreeVar(name='X'), FreeVar(name='Y'), FreeVar(name='Z')]),\n",
    "    body=[\n",
    "        Relation(name='S', terms=[FreeVar(name='X'), Span(start=1,end=4)]),\n",
    "        IERelation(name='T', in_terms=[FreeVar(name='X'), 1], out_terms=[FreeVar(name='Y'), FreeVar(name='Z')])\n",
    "    ])\n",
    "assert pretty(rule) == 'R(X,Y,Z) <- S(X,[1,4)),T(X,1) -> (Y,Z)'"
   ]
  },
  {
   "cell_type": "code",
   "execution_count": null,
   "metadata": {},
   "outputs": [],
   "source": [
    "schema = RelationDefinition(name='R', scheme=[int, str, Span])\n",
    "assert pretty(schema) == 'R(int,str,Span)'\n",
    "ie_func_schema = IEFunction(name='f', in_schema=[int, str], out_schema=[str, Span],func=lambda x,y: (y,Span(1,2)))\n",
    "assert pretty(ie_func_schema) == 'f(int,str) -> (str,Span)'"
   ]
  },
  {
   "cell_type": "code",
   "execution_count": null,
   "metadata": {},
   "outputs": [],
   "source": [
    "agg_head = Relation(name='R', terms=[FreeVar(name='X'), FreeVar(name='Y'), FreeVar(name='Z')],agg={FreeVar(name='Y'):'sum'})\n",
    "assert pretty(agg_head) == 'R(X,sum(Y),Z)'"
   ]
  },
  {
   "cell_type": "code",
   "execution_count": null,
   "metadata": {},
   "outputs": [],
   "source": [
    "#| export\n",
    "import re\n",
    "STRING_PATTERN = re.compile(r\"^[^\\r\\n]+$\")\n",
    "\n",
    "\n",
    "def _infer_relation_schema(row) -> Sequence[type]: # Inferred type list of the given relation\n",
    "    \"\"\"\n",
    "    Guess the relation type based on the data.\n",
    "    We support both the actual types (e.g. 'Span'), and their string representation ( e.g. `\"[0,8)\"`).\n",
    "\n",
    "    **@raise** ValueError: if there is a cell inside `row` of an illegal type.\n",
    "    \"\"\"\n",
    "    relation_types = []\n",
    "    for cell in row:\n",
    "        try:\n",
    "            int(cell)  # check if the cell can be converted to integer\n",
    "            relation_types.append(int)\n",
    "        except (ValueError, TypeError):\n",
    "            if isinstance(cell, Span) or SpanParser.parse(cell):\n",
    "                relation_types.append(Span)\n",
    "            elif re.match(STRING_PATTERN, cell):\n",
    "                relation_types.append(str)\n",
    "            else:\n",
    "                raise ValueError(f\"value doesn't match any datatype: {cell}\")\n",
    "\n",
    "    return relation_types"
   ]
  },
  {
   "cell_type": "code",
   "execution_count": null,
   "metadata": {},
   "outputs": [],
   "source": [
    "assert _infer_relation_schema([1, 2, 3]) == [ int,int,int]\n",
    "assert _infer_relation_schema([1, 'a']) == [ int,str]\n",
    "assert _infer_relation_schema(['[0,1)','[0, 1)',Span(1,3)]) == [Span,Span,Span]"
   ]
  },
  {
   "cell_type": "code",
   "execution_count": null,
   "metadata": {},
   "outputs": [],
   "source": [
    "#|hide\n",
    "import nbdev; nbdev.nbdev_export()\n",
    "     "
   ]
  }
 ],
 "metadata": {
  "kernelspec": {
   "display_name": "python3",
   "language": "python",
   "name": "python3"
  }
 },
 "nbformat": 4,
 "nbformat_minor": 4
}
