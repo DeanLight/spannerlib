{
 "cells": [
  {
   "cell_type": "markdown",
   "metadata": {},
   "source": [
    "# Python Regex"
   ]
  },
  {
   "cell_type": "code",
   "execution_count": null,
   "metadata": {},
   "outputs": [],
   "source": [
    "#| default_exp ie_func.python_regex"
   ]
  },
  {
   "cell_type": "code",
   "execution_count": null,
   "metadata": {},
   "outputs": [],
   "source": [
    "#| hide\n",
    "from nbdev.showdoc import show_doc\n",
    "%load_ext autoreload\n",
    "%autoreload 2"
   ]
  },
  {
   "cell_type": "code",
   "execution_count": null,
   "metadata": {},
   "outputs": [],
   "source": [
    "#| export\n",
    "import re\n",
    "from typing import Iterable, Sequence\n",
    "\n",
    "from spannerlib.span import Span"
   ]
  },
  {
   "cell_type": "code",
   "execution_count": null,
   "metadata": {},
   "outputs": [],
   "source": [
    "#| export\n",
    "def rgx(text: str, regex_pattern: str) -> Iterable[Sequence]:\n",
    "    \"\"\"\n",
    "    An IE function which runs regex using python's `re` and yields tuples of strings.\n",
    "\n",
    "    @param text: The input text for the regex operation.\n",
    "    @param regex_pattern: the pattern of the regex operation.\n",
    "    @return: tuples of strings that represents the results.\n",
    "    \"\"\"\n",
    "    compiled_rgx = re.compile(regex_pattern)\n",
    "    num_groups = compiled_rgx.groups\n",
    "    for match in re.finditer(compiled_rgx, text):\n",
    "        if num_groups == 0:\n",
    "            matched_strings = [match.group()]\n",
    "        else:\n",
    "            matched_strings = [group for group in match.groups()]\n",
    "        yield matched_strings"
   ]
  },
  {
   "cell_type": "code",
   "execution_count": null,
   "metadata": {},
   "outputs": [],
   "source": [
    "#| export\n",
    "PYRGX_STRING = [\n",
    "    'rgx',\n",
    "    rgx,\n",
    "    [str, str],\n",
    "    lambda output_arity: [str] * output_arity\n",
    "]"
   ]
  },
  {
   "cell_type": "code",
   "execution_count": null,
   "metadata": {},
   "outputs": [],
   "source": [
    "assert list(rgx('aaaaa@bbbbbbaa@bb','(a*)@(b*)')) == [['aaaaa', 'bbbbbb'], ['aa', 'bb']]"
   ]
  },
  {
   "cell_type": "code",
   "execution_count": null,
   "metadata": {},
   "outputs": [],
   "source": [
    "#| export\n",
    "def rgx_span(text: str, regex_pattern: str) -> Iterable[Sequence]:\n",
    "    \"\"\"\n",
    "    An IE function which runs regex using python's `re` and yields tuples of spans.\n",
    "\n",
    "    @param text: The input text for the regex operation.\n",
    "    @param regex_pattern: the pattern of the regex operation.\n",
    "    @return: tuples of spans that represents the results.\n",
    "    \"\"\"\n",
    "    compiled_rgx = re.compile(regex_pattern)\n",
    "    num_groups = compiled_rgx.groups\n",
    "    if isinstance(text, Span):\n",
    "        text = text.as_str()\n",
    "    for match in re.finditer(compiled_rgx,text):\n",
    "        if num_groups == 0:\n",
    "            matched_spans = (Span(text,match.span()[0],match.span()[1]))\n",
    "        else:\n",
    "            matched_spans = [Span(text,match.span(i)[0],match.span(i)[1]) for i in range(1, num_groups + 1)]\n",
    "        yield matched_spans"
   ]
  },
  {
   "cell_type": "code",
   "execution_count": null,
   "metadata": {},
   "outputs": [],
   "source": [
    "#| export\n",
    "PYRGX = [\n",
    "    'rgx_span',\n",
    "    rgx_span,\n",
    "    [str, str],\n",
    "    lambda output_arity: [Span] * output_arity\n",
    "]"
   ]
  },
  {
   "cell_type": "code",
   "execution_count": null,
   "metadata": {},
   "outputs": [
    {
     "data": {
      "text/plain": [
       "[@doc1,0,17) \"aaaaa@bbbb...\""
      ]
     },
     "execution_count": null,
     "metadata": {},
     "output_type": "execute_result"
    }
   ],
   "source": [
    "document = Span('aaaaa@bbbbbbaa@bb',name = 'doc1')\n",
    "document"
   ]
  },
  {
   "cell_type": "code",
   "execution_count": null,
   "metadata": {},
   "outputs": [
    {
     "name": "stdout",
     "output_type": "stream",
     "text": [
      "0 12\n",
      "12 17\n"
     ]
    }
   ],
   "source": [
    "for m in re.finditer('(a*)@(b*)', 'aaaaa@bbbbbbaa@bb'):\n",
    "    print(m.span(1)[0],m.span(2)[1])"
   ]
  },
  {
   "cell_type": "code",
   "execution_count": null,
   "metadata": {},
   "outputs": [
    {
     "data": {
      "text/plain": [
       "[[[@a254e9,0,5) \"aaaaa\", [@a254e9,6,12) \"bbbbbb\"],\n",
       " [[@a254e9,12,14) \"aa\", [@a254e9,15,17) \"bb\"]]"
      ]
     },
     "execution_count": null,
     "metadata": {},
     "output_type": "execute_result"
    }
   ],
   "source": [
    "list(rgx_span(document,'(a*)@(b*)'))"
   ]
  },
  {
   "cell_type": "code",
   "execution_count": null,
   "metadata": {},
   "outputs": [
    {
     "data": {
      "text/plain": [
       "[[[@a254e9,0,5) \"aaaaa\", [@a254e9,6,12) \"bbbbbb\"],\n",
       " [[@a254e9,12,14) \"aa\", [@a254e9,15,17) \"bb\"]]"
      ]
     },
     "execution_count": null,
     "metadata": {},
     "output_type": "execute_result"
    }
   ],
   "source": [
    "assert list(rgx_span(document,'(a*)@(b*)')) == [\n",
    "    [Span(document,0,5),Span(document,6,12)],\n",
    "    [Span(document,12,14), Span(document,15,17)]]\n",
    "list(rgx_span(document,'(a*)@(b*)'))"
   ]
  },
  {
   "cell_type": "code",
   "execution_count": null,
   "metadata": {},
   "outputs": [],
   "source": [
    "#| export\n",
    "def as_str(span):\n",
    "    return [span.as_str()]\n",
    "\n",
    "AS_STRING = [\n",
    "    'as_str',\n",
    "    as_str,\n",
    "    [Span],\n",
    "    [str]\n",
    "]\n"
   ]
  },
  {
   "cell_type": "code",
   "execution_count": null,
   "metadata": {},
   "outputs": [],
   "source": [
    "#|hide\n",
    "import nbdev; nbdev.nbdev_export()\n",
    "     "
   ]
  }
 ],
 "metadata": {
  "kernelspec": {
   "display_name": "python3",
   "language": "python",
   "name": "python3"
  }
 },
 "nbformat": 4,
 "nbformat_minor": 4
}
