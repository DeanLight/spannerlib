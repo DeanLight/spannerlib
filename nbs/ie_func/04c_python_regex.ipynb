{
 "cells": [
  {
   "cell_type": "markdown",
   "metadata": {},
   "source": [
    "# Python Regex"
   ]
  },
  {
   "cell_type": "code",
   "execution_count": null,
   "metadata": {},
   "outputs": [],
   "source": [
    "#| default_exp ie_func.python_regex"
   ]
  },
  {
   "cell_type": "code",
   "execution_count": null,
   "metadata": {},
   "outputs": [],
   "source": [
    "#| hide\n",
    "from nbdev.showdoc import show_doc\n",
    "%load_ext autoreload\n",
    "%autoreload 2"
   ]
  },
  {
   "cell_type": "code",
   "execution_count": null,
   "metadata": {},
   "outputs": [],
   "source": [
    "#| export\n",
    "import re\n",
    "from typing import Iterable, Sequence\n",
    "\n",
    "from spannerlib.span import Span"
   ]
  },
  {
   "cell_type": "code",
   "execution_count": null,
   "metadata": {},
   "outputs": [],
   "source": [
    "#| export\n",
    "def py_rgx_string(text: str, regex_pattern: str) -> Iterable[Sequence]:\n",
    "    \"\"\"\n",
    "    An IE function which runs regex using python's `re` and yields tuples of strings.\n",
    "\n",
    "    @param text: The input text for the regex operation.\n",
    "    @param regex_pattern: the pattern of the regex operation.\n",
    "    @return: tuples of strings that represents the results.\n",
    "    \"\"\"\n",
    "    compiled_rgx = re.compile(regex_pattern)\n",
    "    num_groups = compiled_rgx.groups\n",
    "    for match in re.finditer(compiled_rgx, text):\n",
    "        if num_groups == 0:\n",
    "            matched_strings = [match.group()]\n",
    "        else:\n",
    "            matched_strings = [group for group in match.groups()]\n",
    "        yield matched_strings"
   ]
  },
  {
   "cell_type": "code",
   "execution_count": null,
   "metadata": {},
   "outputs": [],
   "source": [
    "#| export\n",
    "PYRGX_STRING = [\n",
    "    'py_rgx_string',\n",
    "    py_rgx_string,\n",
    "    [str, str],\n",
    "    lambda output_arity: [str] * output_arity\n",
    "]"
   ]
  },
  {
   "cell_type": "code",
   "execution_count": null,
   "metadata": {},
   "outputs": [],
   "source": [
    "#| export\n",
    "def py_rgx(text: str, regex_pattern: str) -> Iterable[Sequence]:\n",
    "    \"\"\"\n",
    "    An IE function which runs regex using python's `re` and yields tuples of spans.\n",
    "\n",
    "    @param text: The input text for the regex operation.\n",
    "    @param regex_pattern: the pattern of the regex operation.\n",
    "    @return: tuples of spans that represents the results.\n",
    "    \"\"\"\n",
    "    compiled_rgx = re.compile(regex_pattern)\n",
    "    num_groups = compiled_rgx.groups\n",
    "    for match in re.finditer(compiled_rgx, text):\n",
    "        if num_groups == 0:\n",
    "            matched_spans = (Span(*match.span()))\n",
    "        else:\n",
    "            matched_spans = [Span(*match.span(i)) for i in range(1, num_groups + 1)]\n",
    "        yield matched_spans"
   ]
  },
  {
   "cell_type": "code",
   "execution_count": null,
   "metadata": {},
   "outputs": [],
   "source": [
    "#| export\n",
    "PYRGX = [\n",
    "    'py_rgx_span',\n",
    "    py_rgx,\n",
    "    [str, str],\n",
    "    lambda output_arity: [Span] * output_arity\n",
    "]"
   ]
  },
  {
   "cell_type": "code",
   "execution_count": null,
   "metadata": {},
   "outputs": [],
   "source": [
    "#|hide\n",
    "import nbdev; nbdev.nbdev_export()\n",
    "     "
   ]
  }
 ],
 "metadata": {
  "kernelspec": {
   "display_name": "python3",
   "language": "python",
   "name": "python3"
  }
 },
 "nbformat": 4,
 "nbformat_minor": 4
}
