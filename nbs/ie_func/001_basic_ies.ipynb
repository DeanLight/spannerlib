{
 "cells": [
  {
   "cell_type": "markdown",
   "metadata": {},
   "source": [
    "# Python Regex"
   ]
  },
  {
   "cell_type": "code",
   "execution_count": null,
   "metadata": {},
   "outputs": [],
   "source": [
    "#| default_exp ie_func.python_regex"
   ]
  },
  {
   "cell_type": "code",
   "execution_count": null,
   "metadata": {},
   "outputs": [],
   "source": [
    "#| hide\n",
    "from nbdev.showdoc import show_doc\n",
    "%load_ext autoreload\n",
    "%autoreload 2"
   ]
  },
  {
   "cell_type": "code",
   "execution_count": null,
   "metadata": {},
   "outputs": [],
   "source": [
    "#| export\n",
    "import re\n",
    "from typing import Iterable, Sequence\n",
    "\n",
    "from spannerlib.span import Span"
   ]
  },
  {
   "cell_type": "code",
   "execution_count": null,
   "metadata": {},
   "outputs": [],
   "source": [
    "# TODO add booleans to the type system\n"
   ]
  },
  {
   "cell_type": "code",
   "execution_count": null,
   "metadata": {},
   "outputs": [],
   "source": [
    "#| export\n",
    "def rgx(pattern: str, text: str) -> Iterable[Sequence]:\n",
    "    \"\"\"\n",
    "    An IE function which runs regex using python's `re` and yields tuples of strings.\n",
    "\n",
    "    @param text: The input text for the regex operation.\n",
    "    @param regex_pattern: the pattern of the regex operation.\n",
    "    @return: tuples of strings that represents the results.\n",
    "    \"\"\"\n",
    "    text = Span(text)\n",
    "    compiled_rgx = re.compile(pattern)\n",
    "    num_groups = compiled_rgx.groups\n",
    "    if num_groups == 0:\n",
    "        for match in re.finditer(compiled_rgx, str(text)):\n",
    "            i,j = match.span()\n",
    "            yield (text[i:j])\n",
    "    else:\n",
    "        for match in re.finditer(compiled_rgx, str(text)):\n",
    "            indices = (match.span(i) for i in range(1,num_groups+1))\n",
    "            yield tuple([text[i:j] for i,j in indices])\n",
    "\n",
    "PYRGX =[\n",
    "    'rgx',\n",
    "    rgx,\n",
    "    [str, str],\n",
    "    lambda arity: [str]*arity\n",
    "]\n"
   ]
  },
  {
   "cell_type": "code",
   "execution_count": null,
   "metadata": {},
   "outputs": [
    {
     "data": {
      "text/plain": [
       "[([@a254e9,0,12) \"aaaaa@bbbb...\",\n",
       "  [@a254e9,0,5) \"aaaaa\",\n",
       "  [@a254e9,6,12) \"bbbbbb\"),\n",
       " ([@a254e9,12,17) \"aa@bb\", [@a254e9,12,14) \"aa\", [@a254e9,15,17) \"bb\")]"
      ]
     },
     "execution_count": null,
     "metadata": {},
     "output_type": "execute_result"
    }
   ],
   "source": [
    "text = \"aaaaa@bbbbbbaa@bb\"\n",
    "pattern = '(?P<c>(?P<a>a*)@(?P<b>b*))'\n",
    "assert list(rgx(pattern,text)) == [\n",
    "    ('aaaaa@bbbbbb', 'aaaaa', 'bbbbbb'),\n",
    "    ('aa@bb', 'aa', 'bb')\n",
    "]\n",
    "list(rgx(pattern,text))"
   ]
  },
  {
   "cell_type": "code",
   "execution_count": null,
   "metadata": {},
   "outputs": [
    {
     "data": {
      "text/plain": [
       "[([@a254e9,0,12) \"aaaaa@bbbb...\",), ([@a254e9,12,17) \"aa@bb\",)]"
      ]
     },
     "execution_count": null,
     "metadata": {},
     "output_type": "execute_result"
    }
   ],
   "source": [
    "text = \"aaaaa@bbbbbbaa@bb\"\n",
    "pattern = '((?:a*)@(?:b*))'\n",
    "assert list(rgx(pattern,text)) == [\n",
    "    ('aaaaa@bbbbbb',),\n",
    "    ('aa@bb',)\n",
    "]\n",
    "list(rgx(pattern,text))"
   ]
  },
  {
   "cell_type": "code",
   "execution_count": null,
   "metadata": {},
   "outputs": [
    {
     "data": {
      "text/plain": [
       "[@doc1,0,20) \"dddaaaaa@b...\""
      ]
     },
     "execution_count": null,
     "metadata": {},
     "output_type": "execute_result"
    }
   ],
   "source": [
    "document = Span('dddaaaaa@bbbbbbaa@bb',name = 'doc1')\n",
    "document"
   ]
  },
  {
   "cell_type": "code",
   "execution_count": null,
   "metadata": {},
   "outputs": [
    {
     "data": {
      "text/plain": [
       "[([@doc1,3,8) \"aaaaa\", [@doc1,9,15) \"bbbbbb\"),\n",
       " ([@doc1,15,17) \"aa\", [@doc1,18,20) \"bb\")]"
      ]
     },
     "execution_count": null,
     "metadata": {},
     "output_type": "execute_result"
    }
   ],
   "source": [
    "list(rgx('(a*)@(b*)',document))"
   ]
  },
  {
   "cell_type": "code",
   "execution_count": null,
   "metadata": {},
   "outputs": [
    {
     "data": {
      "text/plain": [
       "[([@doc1,3,8) \"aaaaa\", [@doc1,9,15) \"bbbbbb\"),\n",
       " ([@doc1,15,17) \"aa\", [@doc1,18,20) \"bb\")]"
      ]
     },
     "execution_count": null,
     "metadata": {},
     "output_type": "execute_result"
    }
   ],
   "source": [
    "assert list(rgx('(a*)@(b*)',document)) == [\n",
    "    (Span(document,3,8),Span(document,9,15)),\n",
    "    (Span(document,15,17), Span(document,18,20))]\n",
    "list(rgx('(a*)@(b*)',document))"
   ]
  },
  {
   "cell_type": "code",
   "execution_count": null,
   "metadata": {},
   "outputs": [],
   "source": [
    "sub_doc = document.slice(3,None)\n",
    "assert list(rgx(sub_doc,'(a*)@(b*)')) == list(rgx(document,'(a*)@(b*)'))\n"
   ]
  },
  {
   "cell_type": "code",
   "execution_count": null,
   "metadata": {},
   "outputs": [
    {
     "data": {
      "text/plain": [
       "[([@c1d7fe,0,8) \"John Doe\", [@c1d7fe,10,12) \"35\"),\n",
       " ([@c1d7fe,24,34) \"Jane Smith\", [@c1d7fe,36,38) \"28\")]"
      ]
     },
     "execution_count": null,
     "metadata": {},
     "output_type": "execute_result"
    }
   ],
   "source": []
  },
  {
   "cell_type": "code",
   "execution_count": null,
   "metadata": {},
   "outputs": [],
   "source": [
    "#| export\n",
    "def as_str(span):\n",
    "    yield str(span),\n",
    "\n",
    "AS_STRING = [\n",
    "    'as_str',\n",
    "    as_str,\n",
    "    [Span],\n",
    "    [str]\n",
    "]\n"
   ]
  },
  {
   "cell_type": "code",
   "execution_count": null,
   "metadata": {},
   "outputs": [],
   "source": [
    "#|hide\n",
    "import nbdev; nbdev.nbdev_export()\n",
    "     "
   ]
  }
 ],
 "metadata": {
  "kernelspec": {
   "display_name": "python3",
   "language": "python",
   "name": "python3"
  }
 },
 "nbformat": 4,
 "nbformat_minor": 4
}
