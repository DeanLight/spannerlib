{
 "cells": [
  {
   "cell_type": "markdown",
   "metadata": {},
   "source": [
    "# Python Regex"
   ]
  },
  {
   "cell_type": "code",
   "execution_count": null,
   "metadata": {},
   "outputs": [],
   "source": [
    "#| default_exp ie_func.basic"
   ]
  },
  {
   "cell_type": "code",
   "execution_count": null,
   "metadata": {},
   "outputs": [
    {
     "name": "stdout",
     "output_type": "stream",
     "text": [
      "The autoreload extension is already loaded. To reload it, use:\n",
      "  %reload_ext autoreload\n"
     ]
    }
   ],
   "source": [
    "#| hide\n",
    "from nbdev.showdoc import show_doc\n",
    "%load_ext autoreload\n",
    "%autoreload 2"
   ]
  },
  {
   "cell_type": "code",
   "execution_count": null,
   "metadata": {},
   "outputs": [],
   "source": [
    "#| export\n",
    "import re\n",
    "from typing import Iterable, Sequence\n",
    "from numbers import Real\n",
    "from pathlib import Path\n",
    "\n",
    "from spannerlib.span import Span\n",
    "from spannerlib.utils import DefaultIEs,DefaultAGGs"
   ]
  },
  {
   "cell_type": "markdown",
   "metadata": {},
   "source": [
    "## Debugging utilities"
   ]
  },
  {
   "cell_type": "code",
   "execution_count": null,
   "metadata": {},
   "outputs": [],
   "source": [
    "#| export\n",
    "def print_ie(fstring,*objects):\n",
    "    res = fstring.format(*objects)\n",
    "    print(res)\n",
    "    yield res\n",
    "\n",
    "DefaultIEs().add(\n",
    "    \"print\",\n",
    "    print_ie,\n",
    "    lambda len: [object]*len,\n",
    "    [object]\n",
    ")"
   ]
  },
  {
   "cell_type": "markdown",
   "metadata": {},
   "source": [
    "## Basic Aggs"
   ]
  },
  {
   "cell_type": "code",
   "execution_count": null,
   "metadata": {},
   "outputs": [],
   "source": [
    "#| export\n",
    "DefaultAGGs().add('count','count',[object],[int])\n",
    "DefaultAGGs().add('sum','sum',[Real],[Real])\n",
    "DefaultAGGs().add('avg','avg',[Real],[Real])\n",
    "DefaultAGGs().add('max','max',[Real],[Real])\n",
    "DefaultAGGs().add('min','min',[Real],[Real])"
   ]
  },
  {
   "cell_type": "markdown",
   "metadata": {},
   "source": [
    "## rgx"
   ]
  },
  {
   "cell_type": "code",
   "execution_count": null,
   "metadata": {},
   "outputs": [],
   "source": [
    "#| export\n",
    "\n",
    "def rgx(pattern: str, text: str) -> Iterable[Sequence]:\n",
    "    \"\"\"\n",
    "    An IE function which runs regex using python's `re` and yields tuples of strings.\n",
    "\n",
    "    @param text: The input text for the regex operation.\n",
    "    @param regex_pattern: the pattern of the regex operation.\n",
    "    @return: tuples of strings that represents the results.\n",
    "    \"\"\"\n",
    "    text = Span(text)\n",
    "    compiled_rgx = re.compile(pattern)\n",
    "    num_groups = compiled_rgx.groups\n",
    "    if num_groups == 0:\n",
    "        for match in re.finditer(compiled_rgx, str(text)):\n",
    "            i,j = match.span()\n",
    "            yield (text[i:j])\n",
    "    else:\n",
    "        for match in re.finditer(compiled_rgx, str(text)):\n",
    "            indices = list((match.span(i) for i in range(1,num_groups+1)))\n",
    "            yield tuple([text[i:j] for i,j in indices])\n",
    "\n",
    "DefaultIEs().add(\n",
    "    'rgx',\n",
    "    rgx,\n",
    "    [str, (str,Span)],\n",
    "    lambda arity: [Span]*arity\n",
    ")\n"
   ]
  },
  {
   "cell_type": "code",
   "execution_count": null,
   "metadata": {},
   "outputs": [
    {
     "name": "stdout",
     "output_type": "stream",
     "text": [
      "[(0, 12), (0, 5), (6, 12)]\n",
      "[(12, 17), (12, 14), (15, 17)]\n"
     ]
    }
   ],
   "source": [
    "text = \"aaaaa@bbbbbbaa@bb\"\n",
    "pattern = '(?P<c>(?P<a>a*)@(?P<b>b*))'\n",
    "assert list(rgx(pattern,text)) == [\n",
    "    ('aaaaa@bbbbbb', 'aaaaa', 'bbbbbb'),\n",
    "    ('aa@bb', 'aa', 'bb')\n",
    "]"
   ]
  },
  {
   "cell_type": "code",
   "execution_count": null,
   "metadata": {},
   "outputs": [
    {
     "name": "stdout",
     "output_type": "stream",
     "text": [
      "[(0, 12)]\n",
      "[(12, 17)]\n",
      "[(0, 12)]\n",
      "[(12, 17)]\n"
     ]
    },
    {
     "data": {
      "text/plain": [
       "[([@a254e9,0,12) \"aaaaa@bbbb...\",), ([@a254e9,12,17) \"aa@bb\",)]"
      ]
     },
     "execution_count": null,
     "metadata": {},
     "output_type": "execute_result"
    }
   ],
   "source": [
    "text = \"aaaaa@bbbbbbaa@bb\"\n",
    "pattern = '((?:a*)@(?:b*))'\n",
    "assert list(rgx(pattern,text)) == [\n",
    "    ('aaaaa@bbbbbb',),\n",
    "    ('aa@bb',)\n",
    "]\n",
    "list(rgx(pattern,text))"
   ]
  },
  {
   "cell_type": "code",
   "execution_count": null,
   "metadata": {},
   "outputs": [
    {
     "data": {
      "text/plain": [
       "[@doc1,0,20) \"dddaaaaa@b...\""
      ]
     },
     "execution_count": null,
     "metadata": {},
     "output_type": "execute_result"
    }
   ],
   "source": [
    "document = Span('dddaaaaa@bbbbbbaa@bb',name = 'doc1')\n",
    "document"
   ]
  },
  {
   "cell_type": "code",
   "execution_count": null,
   "metadata": {},
   "outputs": [
    {
     "name": "stdout",
     "output_type": "stream",
     "text": [
      "[(3, 8), (9, 15)]\n",
      "[(15, 17), (18, 20)]\n"
     ]
    },
    {
     "data": {
      "text/plain": [
       "[([@doc1,3,8) \"aaaaa\", [@doc1,9,15) \"bbbbbb\"),\n",
       " ([@doc1,15,17) \"aa\", [@doc1,18,20) \"bb\")]"
      ]
     },
     "execution_count": null,
     "metadata": {},
     "output_type": "execute_result"
    }
   ],
   "source": [
    "list(rgx('(a*)@(b*)',document))"
   ]
  },
  {
   "cell_type": "code",
   "execution_count": null,
   "metadata": {},
   "outputs": [
    {
     "name": "stdout",
     "output_type": "stream",
     "text": [
      "[(3, 8), (9, 15)]\n",
      "[(15, 17), (18, 20)]\n",
      "[(3, 8), (9, 15)]\n",
      "[(15, 17), (18, 20)]\n"
     ]
    },
    {
     "data": {
      "text/plain": [
       "[([@doc1,3,8) \"aaaaa\", [@doc1,9,15) \"bbbbbb\"),\n",
       " ([@doc1,15,17) \"aa\", [@doc1,18,20) \"bb\")]"
      ]
     },
     "execution_count": null,
     "metadata": {},
     "output_type": "execute_result"
    }
   ],
   "source": [
    "assert list(rgx('(a*)@(b*)',document)) == [\n",
    "    (Span(document,3,8),Span(document,9,15)),\n",
    "    (Span(document,15,17), Span(document,18,20))]\n",
    "list(rgx('(a*)@(b*)',document))"
   ]
  },
  {
   "cell_type": "code",
   "execution_count": null,
   "metadata": {},
   "outputs": [
    {
     "name": "stdout",
     "output_type": "stream",
     "text": [
      "[(0, 5), (6, 12)]\n",
      "[(12, 14), (15, 17)]\n",
      "[(3, 8), (9, 15)]\n",
      "[(15, 17), (18, 20)]\n"
     ]
    }
   ],
   "source": [
    "sub_doc = document.slice(3,None)\n",
    "assert list(rgx('(a*)@(b*)',sub_doc)) == list(rgx('(a*)@(b*)',document))\n"
   ]
  },
  {
   "cell_type": "markdown",
   "metadata": {},
   "source": [
    "## rgx split"
   ]
  },
  {
   "cell_type": "code",
   "execution_count": null,
   "metadata": {},
   "outputs": [],
   "source": [
    "#| export\n",
    "def rgx_split(delim,text,initial_tag=\"Start Tag\"):\n",
    "    \"\"\"\n",
    "    An IE function which given a delimeter rgx pattern and a text, \n",
    "    returns tuples of spans of the form (delimeter_match, text_before_next_delimeter).\n",
    "    Note that rgx pattern should not have any groups.\n",
    "\n",
    "    @param delim: the delimeter pattern to use.\n",
    "    @param text: the text to split\n",
    "    @return: tuples of strings that represents splitting the text according to delim, \n",
    "        yields tuples of the form (delimeter_match, text_before_next_delimeter).\n",
    "    \"\"\"\n",
    "    delim_iter = rgx(delim,text)\n",
    "    text = Span(text)\n",
    "    try:\n",
    "        first_span = next(delim_iter)\n",
    "        if first_span.start != 0:\n",
    "            yield(initial_tag,text[:first_span.start])\n",
    "    except StopIteration:\n",
    "        return\n",
    "    prev_span = first_span\n",
    "    for next_span in delim_iter:\n",
    "        yield (prev_span, text[prev_span.end:next_span.start])\n",
    "        prev_span = next_span\n",
    "\n",
    "    yield (prev_span, text[prev_span.end:])\n",
    "\n",
    "DefaultIEs().add(\n",
    "    'rgx_split',\n",
    "    rgx_split,\n",
    "    [str, (str,Span)],\n",
    "    [Span,Span],\n",
    ")\n"
   ]
  },
  {
   "cell_type": "code",
   "execution_count": null,
   "metadata": {},
   "outputs": [],
   "source": [
    "assert list(rgx_split('a|x','bbbannnnxdddaca')) == [\n",
    "    ('Start Tag', 'bbb'),\n",
    "    ('a', 'nnnn'),\n",
    "    ('x', 'ddd'),\n",
    "    ('a', 'c'),\n",
    "    ('a', '')]\n",
    "\n",
    "assert list(rgx_split('a|x','abbbannnnxdddaca')) == [\n",
    "    ('a', 'bbb'),\n",
    "    ('a', 'nnnn'),\n",
    "    ('x', 'ddd'),\n",
    "    ('a', 'c'),\n",
    "    ('a', '')]\n"
   ]
  },
  {
   "cell_type": "markdown",
   "metadata": {},
   "source": [
    "## Expression eval"
   ]
  },
  {
   "cell_type": "code",
   "execution_count": null,
   "metadata": {},
   "outputs": [],
   "source": [
    "#| export\n",
    "def expr_eval(template,*inputs):\n",
    "    try:\n",
    "        expr = template.format(*[f'arg_{i}' for i in range(len(inputs))])\n",
    "    except (KeyError,IndexError):\n",
    "        raise ValueError(f\"Invalid expression template {template} for inputs {inputs}\\n\"\n",
    "                f\"make sure the expression template has only numerical indices and the number of inputs match the number of indices\")\n",
    "    yield eval(expr,None,{f'arg_{i}':arg for i,arg in enumerate(inputs)})\n",
    "\n",
    "DefaultIEs().add(\n",
    "    'expr_eval',\n",
    "    expr_eval,\n",
    "    lambda arity: [object]*arity,\n",
    "    [object]\n",
    ")"
   ]
  },
  {
   "cell_type": "code",
   "execution_count": null,
   "metadata": {},
   "outputs": [],
   "source": [
    "assert next(expr_eval('{0} + {1}',1,2)) == 3"
   ]
  },
  {
   "cell_type": "code",
   "execution_count": null,
   "metadata": {},
   "outputs": [],
   "source": [
    "a = Span('aaaa',1,3)\n",
    "b = Span('bbbb',3,4)"
   ]
  },
  {
   "cell_type": "code",
   "execution_count": null,
   "metadata": {},
   "outputs": [],
   "source": [
    "assert next(expr_eval('{0}.end == {1}.start',a,b))\n",
    "assert not next(expr_eval('{0}.doc == {1}.doc',a,b))\n",
    "assert next(expr_eval('({0}.doc != {1}.doc) & ({0}.end == {1}.start)',a,b))"
   ]
  },
  {
   "cell_type": "markdown",
   "metadata": {},
   "source": [
    "## Span operations"
   ]
  },
  {
   "cell_type": "code",
   "execution_count": null,
   "metadata": {},
   "outputs": [],
   "source": [
    "#| export\n",
    "def as_str(obj):\n",
    "    yield str(obj),\n",
    "\n",
    "DefaultIEs().add(\n",
    "    'as_str',\n",
    "    as_str,\n",
    "    [object],\n",
    "    [str]\n",
    ")\n"
   ]
  },
  {
   "cell_type": "code",
   "execution_count": null,
   "metadata": {},
   "outputs": [],
   "source": [
    "#| export\n",
    "def span_contained(s1, s2):\n",
    "    \"\"\"\n",
    "    yield True if s1 is contained in s2, otherwise yield False\n",
    "\n",
    "    Parameters:\n",
    "        span1 (span)\n",
    "        span2 (span)\n",
    "\n",
    "    Returns:\n",
    "        (s1,s2) if s1 is contained in s2, otherwise returns nothing\n",
    "    \"\"\"\n",
    "    if s1.doc == s2.doc and s1.start >= s2.start and s1.end <= s2.end:\n",
    "        yield True\n",
    "    else:\n",
    "        yield False\n",
    "\n",
    "DefaultIEs().add(\n",
    "    'span_contained',\n",
    "    span_contained,\n",
    "    [Span,Span],\n",
    "    [bool]\n",
    ")"
   ]
  },
  {
   "cell_type": "code",
   "execution_count": null,
   "metadata": {},
   "outputs": [],
   "source": [
    "# usage example\n",
    "doc1 = Span('hello darkness my old friend',name='doc1')\n",
    "doc2 = Span('I come to talk to you again',name='doc2')\n",
    "\n",
    "span1 = Span(doc1,1, 10)\n",
    "span2 = Span(doc1,0, 11)\n",
    "span3 = Span(doc1,2, 12)\n",
    "span4 = Span(doc2,3,5)\n",
    "\n",
    "\n",
    "\n",
    "assert list(span_contained(span1,span2)) == [True]\n",
    "assert list(span_contained(span2,span1)) == [False]\n",
    "assert list(span_contained(span1,span3)) == [False]\n",
    "assert list(span_contained(span1,span4)) == [False]"
   ]
  },
  {
   "cell_type": "code",
   "execution_count": null,
   "metadata": {},
   "outputs": [],
   "source": [
    "#| export\n",
    "def deconstruct_span(span):\n",
    "    \"\"\"\n",
    "    yields the doc id, start and end of the span\n",
    "    \"\"\"\n",
    "    yield span.name, span.start, span.end\n",
    "\n",
    "DefaultIEs().add(\n",
    "    'deconstruct_span',\n",
    "    deconstruct_span,\n",
    "    [Span],\n",
    "    [str,int,int]\n",
    ")"
   ]
  },
  {
   "cell_type": "code",
   "execution_count": null,
   "metadata": {},
   "outputs": [],
   "source": [
    "doc = Span('hello darkness my old friend',name='doc1')\n",
    "doc2 = Span('I come to talk to you again')\n",
    "\n",
    "assert list(deconstruct_span(doc)) == [('doc1', 0, 28)]\n",
    "assert list(deconstruct_span(doc2))== [('f8f5e8', 0, 27)]"
   ]
  },
  {
   "cell_type": "code",
   "execution_count": null,
   "metadata": {},
   "outputs": [],
   "source": [
    "#| export\n",
    "def read(text_path):\n",
    "    \"\"\"\n",
    "    Reads from file and return it's content.\n",
    "\n",
    "    Parameters:\n",
    "        text_path (str): The path to the text file to read from.\n",
    "\n",
    "    Returns:\n",
    "        str: The content of the file.\n",
    "    \"\"\"\n",
    "    yield Path(text_path).read_text()\n",
    "\n",
    "\n",
    "def read_span(text_path):\n",
    "    \"\"\"\n",
    "    Reads from file and return it's content.\n",
    "\n",
    "    Parameters:\n",
    "        text_path (str): The path to the text file to read from.\n",
    "\n",
    "    Returns:\n",
    "        str: The content of the file.\n",
    "    \"\"\"\n",
    "    yield Span(Path(text_path).read_text(),name=text_path)\n",
    "\n",
    "DefaultIEs().add(\n",
    "    'read',\n",
    "    read,\n",
    "    [str],\n",
    "    [str]\n",
    ")\n",
    "\n",
    "DefaultIEs().add(\n",
    "    'read_span',\n",
    "    read_span,\n",
    "    [str],\n",
    "    [Span]\n",
    ")"
   ]
  },
  {
   "cell_type": "code",
   "execution_count": null,
   "metadata": {},
   "outputs": [
    {
     "data": {
      "text/plain": [
       "[@sample1.txt,0,28) \"hello dark...\""
      ]
     },
     "execution_count": null,
     "metadata": {},
     "output_type": "execute_result"
    }
   ],
   "source": [
    "\n",
    "path = Path('sample1.txt')\n",
    "path.write_text('hello darkness my old friend')\n",
    "text = list(read('sample1.txt'))[0]\n",
    "text_span = list(read_span('sample1.txt'))[0]\n",
    "\n",
    "path.unlink()\n",
    "\n",
    "assert text == \"hello darkness my old friend\"\n",
    "assert text_span == text\n",
    "text_span"
   ]
  },
  {
   "cell_type": "code",
   "execution_count": null,
   "metadata": {},
   "outputs": [],
   "source": [
    "#|hide\n",
    "import nbdev; nbdev.nbdev_export()\n",
    "     "
   ]
  }
 ],
 "metadata": {
  "kernelspec": {
   "display_name": "python3",
   "language": "python",
   "name": "python3"
  }
 },
 "nbformat": 4,
 "nbformat_minor": 4
}
