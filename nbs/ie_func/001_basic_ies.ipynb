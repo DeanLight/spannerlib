{
 "cells": [
  {
   "cell_type": "markdown",
   "metadata": {},
   "source": [
    "# Python Regex"
   ]
  },
  {
   "cell_type": "code",
   "execution_count": null,
   "metadata": {},
   "outputs": [],
   "source": [
    "#| default_exp ie_func.python_regex"
   ]
  },
  {
   "cell_type": "code",
   "execution_count": null,
   "metadata": {},
   "outputs": [],
   "source": [
    "#| hide\n",
    "from nbdev.showdoc import show_doc\n",
    "%load_ext autoreload\n",
    "%autoreload 2"
   ]
  },
  {
   "cell_type": "code",
   "execution_count": null,
   "metadata": {},
   "outputs": [],
   "source": [
    "#| export\n",
    "import re\n",
    "from typing import Iterable, Sequence\n",
    "\n",
    "from spannerlib.span import Span"
   ]
  },
  {
   "cell_type": "markdown",
   "metadata": {},
   "source": [
    "## rgx"
   ]
  },
  {
   "cell_type": "code",
   "execution_count": null,
   "metadata": {},
   "outputs": [],
   "source": [
    "#| export\n",
    "\n",
    "def rgx(pattern: str, text: str) -> Iterable[Sequence]:\n",
    "    \"\"\"\n",
    "    An IE function which runs regex using python's `re` and yields tuples of strings.\n",
    "\n",
    "    @param text: The input text for the regex operation.\n",
    "    @param regex_pattern: the pattern of the regex operation.\n",
    "    @return: tuples of strings that represents the results.\n",
    "    \"\"\"\n",
    "    text = Span(text)\n",
    "    compiled_rgx = re.compile(pattern)\n",
    "    num_groups = compiled_rgx.groups\n",
    "    if num_groups == 0:\n",
    "        for match in re.finditer(compiled_rgx, str(text)):\n",
    "            i,j = match.span()\n",
    "            yield (text[i:j])\n",
    "    else:\n",
    "        for match in re.finditer(compiled_rgx, str(text)):\n",
    "            indices = (match.span(i) for i in range(1,num_groups+1))\n",
    "            yield tuple([text[i:j] for i,j in indices])\n",
    "\n",
    "PYRGX =[\n",
    "    'rgx',\n",
    "    rgx,\n",
    "    [str, str],\n",
    "    lambda arity: [str]*arity\n",
    "]\n"
   ]
  },
  {
   "cell_type": "code",
   "execution_count": null,
   "metadata": {},
   "outputs": [
    {
     "data": {
      "text/plain": [
       "[([@a254e9,0,12) \"aaaaa@bbbb...\",\n",
       "  [@a254e9,0,5) \"aaaaa\",\n",
       "  [@a254e9,6,12) \"bbbbbb\"),\n",
       " ([@a254e9,12,17) \"aa@bb\", [@a254e9,12,14) \"aa\", [@a254e9,15,17) \"bb\")]"
      ]
     },
     "execution_count": null,
     "metadata": {},
     "output_type": "execute_result"
    }
   ],
   "source": [
    "text = \"aaaaa@bbbbbbaa@bb\"\n",
    "pattern = '(?P<c>(?P<a>a*)@(?P<b>b*))'\n",
    "assert list(rgx(pattern,text)) == [\n",
    "    ('aaaaa@bbbbbb', 'aaaaa', 'bbbbbb'),\n",
    "    ('aa@bb', 'aa', 'bb')\n",
    "]\n",
    "list(rgx(pattern,text))"
   ]
  },
  {
   "cell_type": "code",
   "execution_count": null,
   "metadata": {},
   "outputs": [
    {
     "data": {
      "text/plain": [
       "[([@a254e9,0,12) \"aaaaa@bbbb...\",), ([@a254e9,12,17) \"aa@bb\",)]"
      ]
     },
     "execution_count": null,
     "metadata": {},
     "output_type": "execute_result"
    }
   ],
   "source": [
    "text = \"aaaaa@bbbbbbaa@bb\"\n",
    "pattern = '((?:a*)@(?:b*))'\n",
    "assert list(rgx(pattern,text)) == [\n",
    "    ('aaaaa@bbbbbb',),\n",
    "    ('aa@bb',)\n",
    "]\n",
    "list(rgx(pattern,text))"
   ]
  },
  {
   "cell_type": "code",
   "execution_count": null,
   "metadata": {},
   "outputs": [
    {
     "data": {
      "text/plain": [
       "[@doc1,0,20) \"dddaaaaa@b...\""
      ]
     },
     "execution_count": null,
     "metadata": {},
     "output_type": "execute_result"
    }
   ],
   "source": [
    "document = Span('dddaaaaa@bbbbbbaa@bb',name = 'doc1')\n",
    "document"
   ]
  },
  {
   "cell_type": "code",
   "execution_count": null,
   "metadata": {},
   "outputs": [
    {
     "data": {
      "text/plain": [
       "[([@doc1,3,8) \"aaaaa\", [@doc1,9,15) \"bbbbbb\"),\n",
       " ([@doc1,15,17) \"aa\", [@doc1,18,20) \"bb\")]"
      ]
     },
     "execution_count": null,
     "metadata": {},
     "output_type": "execute_result"
    }
   ],
   "source": [
    "list(rgx('(a*)@(b*)',document))"
   ]
  },
  {
   "cell_type": "code",
   "execution_count": null,
   "metadata": {},
   "outputs": [
    {
     "data": {
      "text/plain": [
       "[([@doc1,3,8) \"aaaaa\", [@doc1,9,15) \"bbbbbb\"),\n",
       " ([@doc1,15,17) \"aa\", [@doc1,18,20) \"bb\")]"
      ]
     },
     "execution_count": null,
     "metadata": {},
     "output_type": "execute_result"
    }
   ],
   "source": [
    "assert list(rgx('(a*)@(b*)',document)) == [\n",
    "    (Span(document,3,8),Span(document,9,15)),\n",
    "    (Span(document,15,17), Span(document,18,20))]\n",
    "list(rgx('(a*)@(b*)',document))"
   ]
  },
  {
   "cell_type": "code",
   "execution_count": null,
   "metadata": {},
   "outputs": [],
   "source": [
    "sub_doc = document.slice(3,None)\n",
    "assert list(rgx(sub_doc,'(a*)@(b*)')) == list(rgx(document,'(a*)@(b*)'))\n"
   ]
  },
  {
   "cell_type": "markdown",
   "metadata": {},
   "source": [
    "## rgx split"
   ]
  },
  {
   "cell_type": "code",
   "execution_count": null,
   "metadata": {},
   "outputs": [],
   "source": [
    "#| export\n",
    "def rgx_split(delim,text,initial_tag=\"Start Tag\"):\n",
    "    \"\"\"\n",
    "    An IE function which given a delimeter rgx pattern and a text, \n",
    "    returns tuples of spans of the form (delimeter_match, text_before_next_delimeter).\n",
    "    Note that rgx pattern should not have any groups.\n",
    "\n",
    "    @param delim: the delimeter pattern to use.\n",
    "    @param text: the text to split\n",
    "    @return: tuples of strings that represents splitting the text according to delim, \n",
    "        yields tuples of the form (delimeter_match, text_before_next_delimeter).\n",
    "    \"\"\"\n",
    "    delim_iter = rgx(delim,text)\n",
    "    try:\n",
    "        first_span = next(delim_iter)\n",
    "        if first_span.start != 0:\n",
    "            yield(initial_tag,text[:first_span.start])\n",
    "    except StopIteration:\n",
    "        return\n",
    "    prev_span = first_span\n",
    "    for next_span in delim_iter:\n",
    "        yield (prev_span, text[prev_span.end:next_span.start])\n",
    "        prev_span = next_span\n",
    "\n",
    "    yield (prev_span, text[prev_span.end:])\n",
    "\n",
    "PYRGX_SPLIT =[\n",
    "    'rgx_split',\n",
    "    rgx_split,\n",
    "    [str, str],\n",
    "    [Span,Span],\n",
    "]\n"
   ]
  },
  {
   "cell_type": "code",
   "execution_count": null,
   "metadata": {},
   "outputs": [],
   "source": [
    "assert list(rgx_split('a|x','bbbannnnxdddaca')) == [\n",
    "    ('Start Tag', 'bbb'),\n",
    "    ('a', 'nnnn'),\n",
    "    ('x', 'ddd'),\n",
    "    ('a', 'c'),\n",
    "    ('a', '')]\n",
    "\n",
    "assert list(rgx_split('a|x','abbbannnnxdddaca')) == [\n",
    "    ('a', 'bbb'),\n",
    "    ('a', 'nnnn'),\n",
    "    ('x', 'ddd'),\n",
    "    ('a', 'c'),\n",
    "    ('a', '')]\n"
   ]
  },
  {
   "cell_type": "markdown",
   "metadata": {},
   "source": [
    "## Span to string"
   ]
  },
  {
   "cell_type": "code",
   "execution_count": null,
   "metadata": {},
   "outputs": [],
   "source": [
    "#| export\n",
    "def as_str(span):\n",
    "    yield str(span),\n",
    "\n",
    "AS_STRING = [\n",
    "    'as_str',\n",
    "    as_str,\n",
    "    [Span],\n",
    "    [str]\n",
    "]\n"
   ]
  },
  {
   "cell_type": "markdown",
   "metadata": {},
   "source": [
    "## Expression eval"
   ]
  },
  {
   "cell_type": "code",
   "execution_count": null,
   "metadata": {},
   "outputs": [
    {
     "name": "stdout",
     "output_type": "stream",
     "text": [
      "\u001b[0;31mSignature:\u001b[0m \u001b[0meval\u001b[0m\u001b[0;34m(\u001b[0m\u001b[0msource\u001b[0m\u001b[0;34m,\u001b[0m \u001b[0mglobals\u001b[0m\u001b[0;34m=\u001b[0m\u001b[0;32mNone\u001b[0m\u001b[0;34m,\u001b[0m \u001b[0mlocals\u001b[0m\u001b[0;34m=\u001b[0m\u001b[0;32mNone\u001b[0m\u001b[0;34m,\u001b[0m \u001b[0;34m/\u001b[0m\u001b[0;34m)\u001b[0m\u001b[0;34m\u001b[0m\u001b[0;34m\u001b[0m\u001b[0m\n",
      "\u001b[0;31mDocstring:\u001b[0m\n",
      "Evaluate the given source in the context of globals and locals.\n",
      "\n",
      "The source may be a string representing a Python expression\n",
      "or a code object as returned by compile().\n",
      "The globals must be a dictionary and locals can be any mapping,\n",
      "defaulting to the current globals and locals.\n",
      "If only globals is given, locals defaults to it.\n",
      "\u001b[0;31mType:\u001b[0m      builtin_function_or_method"
     ]
    }
   ],
   "source": [
    "eval"
   ]
  },
  {
   "cell_type": "code",
   "execution_count": null,
   "metadata": {},
   "outputs": [],
   "source": [
    "#| export\n",
    "def expr_eval(template,*inputs):\n",
    "    try:\n",
    "        expr = template.format(*[f'arg_{i}' for i in range(len(inputs))])\n",
    "    except (KeyError,IndexError):\n",
    "        raise ValueError(f\"Invalid expression template {template} for inputs {inputs}\\n\"\n",
    "                f\"make sure the expression template has only numerical indices and the number of inputs match the number of indices\")\n",
    "    yield eval(expr,None,{f'arg_{i}':arg for i,arg in enumerate(inputs)})\n",
    "\n",
    "EXPR_EVAL = [\n",
    "    'expr_eval',\n",
    "    expr_eval,\n",
    "    lambda arity: [object]*arity,\n",
    "    [object]\n",
    "]"
   ]
  },
  {
   "cell_type": "code",
   "execution_count": null,
   "metadata": {},
   "outputs": [],
   "source": [
    "assert next(expr_eval('{0} + {1}',1,2)) == 3"
   ]
  },
  {
   "cell_type": "code",
   "execution_count": null,
   "metadata": {},
   "outputs": [],
   "source": [
    "a = Span('aaaa',1,3)\n",
    "b = Span('bbbb',3,4)"
   ]
  },
  {
   "cell_type": "code",
   "execution_count": null,
   "metadata": {},
   "outputs": [],
   "source": [
    "assert next(expr_eval('{0}.end == {1}.start',a,b))\n",
    "assert not next(expr_eval('{0}.doc == {1}.doc',a,b))\n",
    "assert next(expr_eval('({0}.doc != {1}.doc) & ({0}.end == {1}.start)',a,b))"
   ]
  },
  {
   "cell_type": "code",
   "execution_count": null,
   "metadata": {},
   "outputs": [],
   "source": [
    "#|hide\n",
    "import nbdev; nbdev.nbdev_export()\n",
    "     "
   ]
  }
 ],
 "metadata": {
  "kernelspec": {
   "display_name": "python3",
   "language": "python",
   "name": "python3"
  }
 },
 "nbformat": 4,
 "nbformat_minor": 4
}
