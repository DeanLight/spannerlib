{
 "cells": [
  {
   "cell_type": "markdown",
   "metadata": {},
   "source": [
    "# nlp\n",
    "\n",
    "this module supports nlp methods. for documentation:\n",
    "https://stanfordnlp.github.io/CoreNLP/index.html\n",
    "we are aware that starting the engine inside each method affects efficiency.\n",
    "still, don't set `core_nlp_engine` as a global variable,\n",
    "because that way, the java processes will not be killed."
   ]
  },
  {
   "cell_type": "code",
   "execution_count": null,
   "metadata": {},
   "outputs": [],
   "source": [
    "#| default_exp ie_func.nlp"
   ]
  },
  {
   "cell_type": "code",
   "execution_count": null,
   "metadata": {},
   "outputs": [],
   "source": [
    "#| hide\n",
    "from nbdev.showdoc import show_doc\n",
    "%load_ext autoreload\n",
    "%autoreload 2"
   ]
  },
  {
   "cell_type": "code",
   "execution_count": null,
   "metadata": {},
   "outputs": [],
   "source": [
    "#| export\n",
    "import json\n",
    "import logging\n",
    "from io import BytesIO\n",
    "from os import popen\n",
    "from pathlib import Path\n",
    "from typing import Iterator\n",
    "from zipfile import ZipFile\n",
    "import os\n",
    "import configparser\n",
    "\n",
    "import jdk\n",
    "from spanner_nlp.StanfordCoreNLP import StanfordCoreNLP\n",
    "\n",
    "from spannerlib.utils import download_file_from_google_drive, get_base_file_path, get_lib_name\n",
    "from spannerlib.span import Span"
   ]
  },
  {
   "cell_type": "code",
   "execution_count": null,
   "metadata": {},
   "outputs": [],
   "source": [
    "#| export\n",
    "JAVA_MIN_VERSION = 1.8\n",
    "\n",
    "NLP_URL = \"https://drive.google.com/u/0/uc?export=download&id=1QixGiHD2mHKuJtB69GHDQA0wTyXtHzjl\"\n",
    "NLP_DIR_NAME = 'stanford-corenlp-4.1.0'\n",
    "CURR_DIR = get_base_file_path()/get_lib_name()\n",
    "NLP_DIR_PATH = str(CURR_DIR / NLP_DIR_NAME)\n",
    "JAVA_DOWNLOADER = \"install-jdk\"\n",
    "_USER_DIR = Path.home()\n",
    "INSTALLATION_PATH = _USER_DIR / \".jre\"\n",
    "\n",
    "STANFORD_ZIP_GOOGLE_DRIVE_ID = \"1QixGiHD2mHKuJtB69GHDQA0wTyXtHzjl\"\n",
    "STANFORD_ZIP_NAME = \"stanford-corenlp-4.1.0.zip\"\n",
    "STANFORD_ZIP_PATH = CURR_DIR / STANFORD_ZIP_NAME"
   ]
  },
  {
   "cell_type": "code",
   "execution_count": null,
   "metadata": {},
   "outputs": [],
   "source": [
    "#| export\n",
    "logger = logging.getLogger(__name__)"
   ]
  },
  {
   "cell_type": "code",
   "execution_count": null,
   "metadata": {},
   "outputs": [],
   "source": [
    "#| export\n",
    "def _is_installed_nlp() -> bool:\n",
    "    return Path(NLP_DIR_PATH).is_dir()"
   ]
  },
  {
   "cell_type": "code",
   "execution_count": null,
   "metadata": {},
   "outputs": [],
   "source": [
    "#| export\n",
    "def _install_nlp() -> None:\n",
    "    logger.info(f\"Installing {NLP_DIR_NAME} into {CURR_DIR}.\")\n",
    "    if not STANFORD_ZIP_PATH.is_file():\n",
    "        logger.info(f\"downloading {STANFORD_ZIP_NAME}...\")\n",
    "        download_file_from_google_drive(STANFORD_ZIP_GOOGLE_DRIVE_ID, STANFORD_ZIP_PATH)\n",
    "    with open(STANFORD_ZIP_PATH, \"rb\") as zipresp:\n",
    "        with ZipFile(BytesIO(zipresp.read())) as zfile:\n",
    "            logging.info(f\"Extracting files from the zip folder...\")\n",
    "            zfile.extractall(CURR_DIR)\n",
    "\n",
    "    logging.info(\"installation completed.\")"
   ]
  },
  {
   "cell_type": "code",
   "execution_count": null,
   "metadata": {},
   "outputs": [],
   "source": [
    "#| export\n",
    "def _is_installed_java() -> bool:\n",
    "    version = popen(\n",
    "        \"java -version 2>&1 | grep 'version' 2>&1 | awk -F\\\\\\\" '{ split($2,a,\\\".\\\"); print a[1]\\\".\\\"a[2]}'\").read()\n",
    "\n",
    "    if len(version) != 0 and float(version) >= JAVA_MIN_VERSION:\n",
    "        return True\n",
    "\n",
    "    return Path(INSTALLATION_PATH).is_dir()"
   ]
  },
  {
   "cell_type": "code",
   "execution_count": null,
   "metadata": {},
   "outputs": [],
   "source": [
    "#| export\n",
    "def _run_installation() -> None:\n",
    "    if not _is_installed_nlp():\n",
    "        _install_nlp()\n",
    "        assert _is_installed_nlp()\n",
    "    if not _is_installed_java():\n",
    "        logging.info(f\"Installing JRE into {INSTALLATION_PATH}.\")\n",
    "        jdk.install('8', jre=True)\n",
    "        if _is_installed_java():\n",
    "            logging.info(\"installation completed.\")\n",
    "        else:\n",
    "            raise IOError(\"installation failed\")"
   ]
  },
  {
   "cell_type": "code",
   "execution_count": null,
   "metadata": {},
   "outputs": [],
   "source": [
    "#| export\n",
    "CoreNLPEngine = None\n",
    "def download_and_install_nlp():\n",
    "    global CoreNLPEngine\n",
    "    try:\n",
    "        _run_installation()\n",
    "        CoreNLPEngine = StanfordCoreNLP(NLP_DIR_PATH)\n",
    "    except Exception as e:\n",
    "        logger.error(f\"Installation NLP failed {e}\")"
   ]
  },
  {
   "cell_type": "code",
   "execution_count": null,
   "metadata": {},
   "outputs": [
    {
     "name": "stderr",
     "output_type": "stream",
     "text": [
      "Installation NLP failed File is not a zip file\n"
     ]
    }
   ],
   "source": [
    "# download_and_install_nlp()"
   ]
  },
  {
   "cell_type": "code",
   "execution_count": null,
   "metadata": {},
   "outputs": [],
   "source": [
    "#| export\n",
    "def tokenize_wrapper(sentence: str) -> Iterator:\n",
    "    for token in CoreNLPEngine.tokenize(sentence):\n",
    "        yield token[\"token\"], token[\"span\"]"
   ]
  },
  {
   "cell_type": "code",
   "execution_count": null,
   "metadata": {},
   "outputs": [],
   "source": [
    "#| export\n",
    "Tokenize = [\n",
    "    'Tokenize',\n",
    "    tokenize_wrapper,\n",
    "    [str],\n",
    "    [str, Span]\n",
    "]"
   ]
  },
  {
   "cell_type": "code",
   "execution_count": null,
   "metadata": {},
   "outputs": [],
   "source": [
    "#| export\n",
    "def ssplit_wrapper(sentence: str) -> Iterator:\n",
    "    for s in CoreNLPEngine.ssplit(sentence):\n",
    "        yield s,"
   ]
  },
  {
   "cell_type": "code",
   "execution_count": null,
   "metadata": {},
   "outputs": [],
   "source": [
    "#| export\n",
    "SSplit = [\n",
    "    'SSplit',\n",
    "    ssplit_wrapper,\n",
    "    [str],\n",
    "    [str]\n",
    "]"
   ]
  },
  {
   "cell_type": "code",
   "execution_count": null,
   "metadata": {},
   "outputs": [],
   "source": [
    "#| export\n",
    "def pos_wrapper(sentence: str) -> Iterator:\n",
    "    for res in CoreNLPEngine.pos(sentence):\n",
    "        yield res[\"token\"], res[\"pos\"], res[\"span\"]"
   ]
  },
  {
   "cell_type": "code",
   "execution_count": null,
   "metadata": {},
   "outputs": [],
   "source": [
    "#| export\n",
    "POS = [\n",
    "    'POS',\n",
    "    pos_wrapper,\n",
    "    [str],\n",
    "    [str, str, Span]\n",
    "]"
   ]
  },
  {
   "cell_type": "code",
   "execution_count": null,
   "metadata": {},
   "outputs": [],
   "source": [
    "#| export\n",
    "def lemma_wrapper(sentence: str) -> Iterator:\n",
    "    for res in CoreNLPEngine.lemma(sentence):\n",
    "        yield res[\"token\"], res[\"lemma\"], res[\"span\"]"
   ]
  },
  {
   "cell_type": "code",
   "execution_count": null,
   "metadata": {},
   "outputs": [],
   "source": [
    "#| export\n",
    "Lemma = [\n",
    "    'Lemma',\n",
    "    lemma_wrapper,\n",
    "    [str],\n",
    "    [str, str, Span]\n",
    "]"
   ]
  },
  {
   "cell_type": "code",
   "execution_count": null,
   "metadata": {},
   "outputs": [],
   "source": [
    "#| export\n",
    "def ner_wrapper(sentence: str) -> Iterator:\n",
    "    for res in CoreNLPEngine.ner(sentence):\n",
    "        if res[\"ner\"] != 'O':\n",
    "            yield res[\"token\"], res[\"ner\"], res[\"span\"]"
   ]
  },
  {
   "cell_type": "code",
   "execution_count": null,
   "metadata": {},
   "outputs": [],
   "source": [
    "#| export\n",
    "NER = [\n",
    "    'NER',\n",
    "    ner_wrapper,\n",
    "    [str],\n",
    "    [str, str, Span]\n",
    "\n",
    "]"
   ]
  },
  {
   "cell_type": "code",
   "execution_count": null,
   "metadata": {},
   "outputs": [],
   "source": [
    "#| export\n",
    "def entitymentions_wrapper(sentence: str) -> Iterator:\n",
    "    for res in CoreNLPEngine.entitymentions(sentence):\n",
    "        confidence = json.dumps(res[\"nerConfidences\"]).replace(\"\\\"\", \"'\")\n",
    "        yield (res[\"docTokenBegin\"], res[\"docTokenEnd\"], res[\"tokenBegin\"], res[\"tokenEnd\"], res[\"text\"],\n",
    "               res[\"characterOffsetBegin\"], res[\"characterOffsetEnd\"], res[\"ner\"], confidence)"
   ]
  },
  {
   "cell_type": "code",
   "execution_count": null,
   "metadata": {},
   "outputs": [],
   "source": [
    "#| export\n",
    "EntityMentions = [\n",
    "    'EntityMentions',\n",
    "    entitymentions_wrapper,\n",
    "    [str],\n",
    "    [int, int, int, int, str, int, int, str, str]\n",
    "]"
   ]
  },
  {
   "cell_type": "code",
   "execution_count": null,
   "metadata": {},
   "outputs": [],
   "source": [
    "#| export\n",
    "def cleanxml_wrapper(sentence: str) -> Iterator:\n",
    "    for res in CoreNLPEngine.cleanxml(sentence)[\"tokens\"]:\n",
    "        yield res['index'], res['word'], res['originalText'], res['characterOffsetBegin'], res['characterOffsetEnd']"
   ]
  },
  {
   "cell_type": "code",
   "execution_count": null,
   "metadata": {},
   "outputs": [],
   "source": [
    "#| export\n",
    "CleanXML = [\n",
    "    'CleanXML',\n",
    "    cleanxml_wrapper,\n",
    "    [str],\n",
    "    [int, str, str, int, int]\n",
    "]"
   ]
  },
  {
   "cell_type": "code",
   "execution_count": null,
   "metadata": {},
   "outputs": [],
   "source": [
    "#| export\n",
    "def parse_wrapper(sentence: str) -> Iterator:\n",
    "    for res in CoreNLPEngine.parse(sentence):\n",
    "        # note #1: this yields a tuple\n",
    "        # note #2: we replace the newlines with `<nl> because it is difficult to tell the results apart otherwise\n",
    "        yield res.replace(\"\\n\", \"<nl>\").replace(\"\\r\", \"\"),"
   ]
  },
  {
   "cell_type": "code",
   "execution_count": null,
   "metadata": {},
   "outputs": [],
   "source": [
    "#| export\n",
    "Parse = [\n",
    "    'Parse',\n",
    "    parse_wrapper,\n",
    "    [str],\n",
    "    [str]\n",
    "]"
   ]
  },
  {
   "cell_type": "code",
   "execution_count": null,
   "metadata": {},
   "outputs": [],
   "source": [
    "#| export\n",
    "def dependency_parse_wrapper(sentence: str) -> Iterator:\n",
    "    for res in CoreNLPEngine.dependency_parse(sentence):\n",
    "        yield res['dep'], res['governor'], res['governorGloss'], res['dependent'], res['dependentGloss']"
   ]
  },
  {
   "cell_type": "code",
   "execution_count": null,
   "metadata": {},
   "outputs": [],
   "source": [
    "#| export\n",
    "DepParse = [\n",
    "    'DepParse',\n",
    "    dependency_parse_wrapper,\n",
    "    [str],\n",
    "    [str, int, str, int, str]\n",
    "]"
   ]
  },
  {
   "cell_type": "code",
   "execution_count": null,
   "metadata": {},
   "outputs": [],
   "source": [
    "#| export\n",
    "def coref_wrapper(sentence: str) -> Iterator:\n",
    "    for res in CoreNLPEngine.coref(sentence):\n",
    "        yield (res['id'], res['text'], res['type'], res['number'], res['gender'], res['animacy'], res['startIndex'],\n",
    "               res['endIndex'], res['headIndex'], res['sentNum'],\n",
    "               tuple(res['position']), str(res['isRepresentativeMention']))"
   ]
  },
  {
   "cell_type": "code",
   "execution_count": null,
   "metadata": {},
   "outputs": [],
   "source": [
    "#| export\n",
    "Coref = [\n",
    "    'Coref',\n",
    "    coref_wrapper,\n",
    "    [str],\n",
    "    [int, str, str, str, str, str, int, int, int, int, Span, str]\n",
    "]"
   ]
  },
  {
   "cell_type": "code",
   "execution_count": null,
   "metadata": {},
   "outputs": [],
   "source": [
    "#| export\n",
    "def openie_wrapper(sentence: str) -> Iterator:\n",
    "    for lst in CoreNLPEngine.openie(sentence):\n",
    "        for res in lst:\n",
    "            yield (res['subject'], tuple(res['subjectSpan']), res['relation'], tuple(res['relationSpan']),\n",
    "                   res['object'], tuple(res['objectSpan']))"
   ]
  },
  {
   "cell_type": "code",
   "execution_count": null,
   "metadata": {},
   "outputs": [],
   "source": [
    "#| export\n",
    "OpenIE = [\n",
    "    'OpenIE',\n",
    "    openie_wrapper,\n",
    "    [str],\n",
    "    [str, Span, str, Span, str, Span]\n",
    "]"
   ]
  },
  {
   "cell_type": "code",
   "execution_count": null,
   "metadata": {},
   "outputs": [],
   "source": [
    "#| export\n",
    "def kbp_wrapper(sentence: str) -> Iterator:\n",
    "    for lst in CoreNLPEngine.kbp(sentence):\n",
    "        for res in lst:\n",
    "            yield (res['subject'], tuple(res['subjectSpan']), res['relation'], tuple(res['relationSpan']),\n",
    "                   res['object'], tuple(res['objectSpan']))"
   ]
  },
  {
   "cell_type": "code",
   "execution_count": null,
   "metadata": {},
   "outputs": [],
   "source": [
    "#| export\n",
    "KBP = [\n",
    "    'KBP',\n",
    "    kbp_wrapper,\n",
    "    [str],\n",
    "    [str, Span, str, Span, str, Span]\n",
    "]"
   ]
  },
  {
   "cell_type": "code",
   "execution_count": null,
   "metadata": {},
   "outputs": [],
   "source": [
    "#| export\n",
    "def quote_wrapper(sentence: str) -> Iterator:\n",
    "    for res in CoreNLPEngine.quote(sentence):\n",
    "        yield (res['id'], res['text'], res['beginIndex'], res['endIndex'], res['beginToken'], res['endToken'],\n",
    "               res['beginSentence'], res['endSentence'], res['speaker'], res['canonicalSpeaker'])"
   ]
  },
  {
   "cell_type": "code",
   "execution_count": null,
   "metadata": {},
   "outputs": [],
   "source": [
    "#| export\n",
    "Quote = [\n",
    "    'Quote',\n",
    "    quote_wrapper,\n",
    "    [str],\n",
    "    [int, str, int, int, int, int, int, int, str, str]\n",
    "]"
   ]
  },
  {
   "cell_type": "code",
   "execution_count": null,
   "metadata": {},
   "outputs": [],
   "source": [
    "#| export\n",
    "# currently ignoring sentimentTree\n",
    "def sentiment_wrapper(sentence: str) -> Iterator:\n",
    "    for res in CoreNLPEngine.sentiment(sentence):\n",
    "        yield int(res['sentimentValue']), res['sentiment'], json.dumps(res['sentimentDistribution'])"
   ]
  },
  {
   "cell_type": "code",
   "execution_count": null,
   "metadata": {},
   "outputs": [],
   "source": [
    "#| export\n",
    "Sentiment = [\n",
    "    'Sentiment',\n",
    "    sentiment_wrapper,\n",
    "    [str],\n",
    "    [int, str, str]\n",
    "]"
   ]
  },
  {
   "cell_type": "code",
   "execution_count": null,
   "metadata": {},
   "outputs": [],
   "source": [
    "#| export\n",
    "def truecase_wrapper(sentence: str) -> Iterator:\n",
    "    for res in CoreNLPEngine.truecase(sentence):\n",
    "        yield res['token'], res['span'], res['truecase'], res['truecaseText']"
   ]
  },
  {
   "cell_type": "code",
   "execution_count": null,
   "metadata": {},
   "outputs": [],
   "source": [
    "#| export\n",
    "TrueCase = [\n",
    "    'TrueCase',\n",
    "    truecase_wrapper,\n",
    "    [str],\n",
    "    [str, Span, str, str]\n",
    "]"
   ]
  },
  {
   "cell_type": "code",
   "execution_count": null,
   "metadata": {},
   "outputs": [],
   "source": [
    "#|hide\n",
    "import nbdev; nbdev.nbdev_export()\n",
    "     "
   ]
  }
 ],
 "metadata": {
  "kernelspec": {
   "display_name": "python3",
   "language": "python",
   "name": "python3"
  }
 },
 "nbformat": 4,
 "nbformat_minor": 4
}
