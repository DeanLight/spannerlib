{
 "cells": [
  {
   "cell_type": "markdown",
   "metadata": {},
   "source": [
    "# Spans\n",
    "> Span class and how to interface it with pandas"
   ]
  },
  {
   "cell_type": "code",
   "execution_count": null,
   "metadata": {},
   "outputs": [],
   "source": [
    "#| default_exp span"
   ]
  },
  {
   "cell_type": "code",
   "execution_count": null,
   "metadata": {},
   "outputs": [],
   "source": [
    "#| hide\n",
    "from nbdev.showdoc import show_doc\n",
    "\n",
    "%load_ext autoreload\n",
    "%autoreload 2"
   ]
  },
  {
   "cell_type": "code",
   "execution_count": null,
   "metadata": {},
   "outputs": [],
   "source": [
    "#| export\n",
    "from abc import ABC, abstractmethod\n",
    "import pytest\n",
    "from pathlib import Path\n",
    "import pandas as pd\n",
    "from pathlib import Path\n",
    "from typing import no_type_check, Set, Sequence, Any,Optional,List,Callable,Dict,Union\n",
    "from pydantic import BaseModel\n",
    "\n",
    "pd.options.future.infer_string = True\n"
   ]
  },
  {
   "cell_type": "markdown",
   "metadata": {},
   "source": [
    "I followed [this guide](https://itnext.io/guide-to-pandas-extension-types-and-how-to-create-your-own-3b213d689c86) on how to make extension types for pandas"
   ]
  },
  {
   "cell_type": "code",
   "execution_count": null,
   "metadata": {},
   "outputs": [],
   "source": [
    "#| export\n",
    "import hashlib\n",
    "\n",
    "def small_hash(txt,length=6):\n",
    "    \"\"\"A function that returns a small hash of a string\n",
    "\n",
    "    Args:\n",
    "        txt (_type_): string to hash\n",
    "        length (int, optional): length of hash. Defaults to 6.\n",
    "\n",
    "    Returns:\n",
    "        _type_: _description_\n",
    "    \"\"\"\n",
    "    return hashlib.sha1(txt.encode()).hexdigest()[:length]"
   ]
  },
  {
   "cell_type": "code",
   "execution_count": null,
   "metadata": {},
   "outputs": [],
   "source": [
    "#| export\n",
    "SPAN_REPR_FORMAT = '''[@{doc},{start},{end}) \"{text}\"'''\n",
    "SPAN_TEXT_HEAD_NUM = 10\n",
    "\n",
    "def set_span_repr_format(format=None,head:int=None):\n",
    "    \"\"\"\n",
    "    Sets the representation format for spans and the number of characters to display in the span text.\n",
    "\n",
    "    Parameters:\n",
    "        format (str, optional): The representation format for spans. Defaults to None.\n",
    "        head (int, optional): The number of characters to display in the span text. Defaults to None.\n",
    "    \"\"\"\n",
    "    global SPAN_REPR_FORMAT, SPAN_TEXT_HEAD_NUM\n",
    "    if format is not None:\n",
    "        SPAN_REPR_FORMAT = format\n",
    "    if head is not None:\n",
    "        SPAN_TEXT_HEAD_NUM = head\n",
    "\n",
    "def get_span_repr_format() -> str:\n",
    "    \"\"\"\n",
    "    Returns the span representation format.\n",
    "\n",
    "    Returns:\n",
    "        (the span representation format, the number of characters to display in the span text)\n",
    "    \"\"\"\n",
    "    return SPAN_REPR_FORMAT, SPAN_TEXT_HEAD_NUM\n"
   ]
  },
  {
   "cell_type": "code",
   "execution_count": null,
   "metadata": {},
   "outputs": [],
   "source": [
    "#| export\n",
    "from enum import Enum\n",
    "from typing import Any\n",
    "from pydantic import ConfigDict\n",
    "from collections import UserString\n",
    "# TODO from here turn all code into having spanner act as a string with slicing, change the display option to use repr\n",
    "# and add a note on it in the tutorial and the tests here\n",
    "\n",
    "# we will have an ie function that casts a span to its string for viewing while developing - TODO\n",
    "\n",
    "# whether we get a document as a string or as a file, we assume that it remains immutable throughout the process - TODO explain\n",
    "# a user can access the original document through the span interface (currently we dont do disk caching etc so it will just be a string and not a document class) - TODO explain\n",
    "\n",
    "class Span(UserString):\n",
    "    def __init__(self,doc,start=None,end=None,name=None):\n",
    "        if isinstance(doc,Span):\n",
    "            father = doc\n",
    "            sub_span = doc.slice(start,end)\n",
    "            self.doc = sub_span.doc\n",
    "            self.start = sub_span.start\n",
    "            self.end = sub_span.end\n",
    "            self.name = sub_span.name\n",
    "        \n",
    "        else:\n",
    "            if isinstance(doc,Path):\n",
    "                self.doc = doc.read_text()\n",
    "                self.name = doc.name\n",
    "            else:\n",
    "                if name is None:\n",
    "                    name = small_hash(doc)\n",
    "                self.name = name\n",
    "                self.doc = doc\n",
    "                \n",
    "            if start is None:\n",
    "                start = 0\n",
    "            if end is None:\n",
    "                end = len(self.doc)\n",
    "            self.start = start\n",
    "            self.end = end\n",
    "\n",
    "\n",
    "        super().__init__(self.as_str())\n",
    "\n",
    "\n",
    "    def __getitem__(self, key):\n",
    "        if isinstance(key, slice):\n",
    "            return self.slice(key.start,key.stop)\n",
    "        return self.doc[self.start+key]\n",
    "    \n",
    "    def slice(self, start=None,end=None):\n",
    "        if start is None:\n",
    "            start = 0\n",
    "        if end is None:\n",
    "            end = len(self)\n",
    "        if start < 0 or end < 0:\n",
    "            raise ValueError(f'Negative indices not supported, got start: {start}, end: {end}')\n",
    "        if start > end:\n",
    "            raise ValueError(f'Start index greater than end index, got start: {start}, end: {end}')\n",
    "        if end > len(self):\n",
    "            raise ValueError(f'End index greater than length of span, got end: {end}, length: {len(self)}')\n",
    "        return Span(self.doc,self.start+start,self.start+end,name=self.name)\n",
    "\n",
    "    # @property\n",
    "    # def data(self):\n",
    "    #     return str(self)\n",
    "    \n",
    "    def __repr__(self):\n",
    "        f_string,head_num = get_span_repr_format()\n",
    "        text = self.doc[self.start:self.end]\n",
    "        if len(text) > head_num:\n",
    "            text = text[:head_num] + '...'\n",
    "        return SPAN_REPR_FORMAT.format(doc=self.name,start=self.start,end=self.end,text=text)\n",
    "\n",
    "    def __len__(self):\n",
    "        return self.end-self.start\n",
    "\n",
    "    def __str__(self):\n",
    "        return self.as_str()\n",
    "\n",
    "    def as_str(self):\n",
    "        return self.doc[self.start:self.end]\n",
    "    \n",
    "    # # used for sorting `Span`s in dataframes\n",
    "    def __hash__(self) -> int:\n",
    "        return hash((self.doc,self.start, self.end))\n",
    "\n",
    "    def __lt__(self, other) -> bool:\n",
    "        return (self.doc, self.start, self.end) < (other.doc, other.start, other.end)\n",
    "\n",
    "    def __eq__(self, value: object) -> bool:\n",
    "        if isinstance(value, Span):\n",
    "            return self.start == value.start and self.end == value.end and self.doc == value.doc\n",
    "        elif isinstance(value, str):\n",
    "            return self.as_str() == value\n",
    "        else:\n",
    "            return False\n",
    "\n",
    "    def as_tuple(self):\n",
    "        return (self.doc,self.start, self.end)\n",
    "\n",
    "    @classmethod\n",
    "    def from_val(cls,val):\n",
    "        if isinstance(val,Span):\n",
    "            return val\n",
    "        if isinstance(val, (list, tuple)) and len(val) == 3:\n",
    "            return Span(doc=val[0],start=val[1], end=val[2])\n",
    "        raise ValueError('Invalid value to create Vector from: {}'.format(val))\n",
    "    \n",
    "\n",
    "\n",
    "def ie(s:Span)->(int,int):\n",
    "    return s.start,s.end"
   ]
  },
  {
   "cell_type": "code",
   "execution_count": null,
   "metadata": {},
   "outputs": [
    {
     "data": {
      "text/plain": [
       "False"
      ]
     },
     "execution_count": null,
     "metadata": {},
     "output_type": "execute_result"
    }
   ],
   "source": [
    "# TODO from here, change df assert equals to make span and strings equal even in sets of tuples\n",
    "from spannerlib.utils import serialize_df_values\n",
    "{(Span(\"aa\",0,2),)} == {(\"aa\",)}"
   ]
  },
  {
   "cell_type": "code",
   "execution_count": null,
   "metadata": {},
   "outputs": [
    {
     "data": {
      "text/plain": [
       "True"
      ]
     },
     "execution_count": null,
     "metadata": {},
     "output_type": "execute_result"
    }
   ],
   "source": [
    "Span(\"aa\",0,2) == \"aa\""
   ]
  },
  {
   "cell_type": "code",
   "execution_count": null,
   "metadata": {},
   "outputs": [
    {
     "data": {
      "text/html": [
       "<div>\n",
       "<style scoped>\n",
       "    .dataframe tbody tr th:only-of-type {\n",
       "        vertical-align: middle;\n",
       "    }\n",
       "\n",
       "    .dataframe tbody tr th {\n",
       "        vertical-align: top;\n",
       "    }\n",
       "\n",
       "    .dataframe thead th {\n",
       "        text-align: right;\n",
       "    }\n",
       "</style>\n",
       "<table border=\"1\" class=\"dataframe\">\n",
       "  <thead>\n",
       "    <tr style=\"text-align: right;\">\n",
       "      <th></th>\n",
       "      <th>span</th>\n",
       "      <th>num</th>\n",
       "    </tr>\n",
       "  </thead>\n",
       "  <tbody>\n",
       "    <tr>\n",
       "      <th>0</th>\n",
       "      <td>(h, e, l, l, o)</td>\n",
       "      <td>1</td>\n",
       "    </tr>\n",
       "    <tr>\n",
       "      <th>1</th>\n",
       "      <td>(w, o, r, l, d)</td>\n",
       "      <td>2</td>\n",
       "    </tr>\n",
       "    <tr>\n",
       "      <th>2</th>\n",
       "      <td>(w, o, r, l, d)</td>\n",
       "      <td>3</td>\n",
       "    </tr>\n",
       "  </tbody>\n",
       "</table>\n",
       "</div>"
      ],
      "text/plain": [
       "              span  num\n",
       "0  (h, e, l, l, o)    1\n",
       "1  (w, o, r, l, d)    2\n",
       "2  (w, o, r, l, d)    3"
      ]
     },
     "execution_count": null,
     "metadata": {},
     "output_type": "execute_result"
    }
   ],
   "source": [
    "doc = 'world'\n",
    "df = pd.DataFrame([\n",
    "    [Span('hello',0,5),1],\n",
    "    [Span(doc,0,5),2],\n",
    "    [Span(doc,0,5),3],\n",
    "], columns=['span','num'])\n",
    "df"
   ]
  },
  {
   "cell_type": "code",
   "execution_count": null,
   "metadata": {},
   "outputs": [
    {
     "data": {
      "text/html": [
       "<div>\n",
       "<style scoped>\n",
       "    .dataframe tbody tr th:only-of-type {\n",
       "        vertical-align: middle;\n",
       "    }\n",
       "\n",
       "    .dataframe tbody tr th {\n",
       "        vertical-align: top;\n",
       "    }\n",
       "\n",
       "    .dataframe thead th {\n",
       "        text-align: right;\n",
       "    }\n",
       "</style>\n",
       "<table border=\"1\" class=\"dataframe\">\n",
       "  <thead>\n",
       "    <tr style=\"text-align: right;\">\n",
       "      <th></th>\n",
       "      <th>span</th>\n",
       "      <th>num</th>\n",
       "    </tr>\n",
       "  </thead>\n",
       "  <tbody>\n",
       "    <tr>\n",
       "      <th>0</th>\n",
       "      <td>hello</td>\n",
       "      <td>1</td>\n",
       "    </tr>\n",
       "    <tr>\n",
       "      <th>1</th>\n",
       "      <td>world</td>\n",
       "      <td>2</td>\n",
       "    </tr>\n",
       "    <tr>\n",
       "      <th>2</th>\n",
       "      <td>world</td>\n",
       "      <td>3</td>\n",
       "    </tr>\n",
       "  </tbody>\n",
       "</table>\n",
       "</div>"
      ],
      "text/plain": [
       "    span  num\n",
       "0  hello    1\n",
       "1  world    2\n",
       "2  world    3"
      ]
     },
     "execution_count": null,
     "metadata": {},
     "output_type": "execute_result"
    }
   ],
   "source": [
    "doc = 'world'\n",
    "df = pd.DataFrame([\n",
    "    ['hello',1],\n",
    "    ['world',2],\n",
    "    ['world',3],\n",
    "], columns=['span','num'])\n",
    "df"
   ]
  },
  {
   "cell_type": "code",
   "execution_count": null,
   "metadata": {},
   "outputs": [
    {
     "data": {
      "text/html": [
       "<div>\n",
       "<style scoped>\n",
       "    .dataframe tbody tr th:only-of-type {\n",
       "        vertical-align: middle;\n",
       "    }\n",
       "\n",
       "    .dataframe tbody tr th {\n",
       "        vertical-align: top;\n",
       "    }\n",
       "\n",
       "    .dataframe thead th {\n",
       "        text-align: right;\n",
       "    }\n",
       "</style>\n",
       "<table border=\"1\" class=\"dataframe\">\n",
       "  <thead>\n",
       "    <tr style=\"text-align: right;\">\n",
       "      <th></th>\n",
       "      <th>num</th>\n",
       "    </tr>\n",
       "    <tr>\n",
       "      <th>span</th>\n",
       "      <th></th>\n",
       "    </tr>\n",
       "  </thead>\n",
       "  <tbody>\n",
       "    <tr>\n",
       "      <th>hello</th>\n",
       "      <td>1</td>\n",
       "    </tr>\n",
       "    <tr>\n",
       "      <th>world</th>\n",
       "      <td>5</td>\n",
       "    </tr>\n",
       "  </tbody>\n",
       "</table>\n",
       "</div>"
      ],
      "text/plain": [
       "       num\n",
       "span      \n",
       "hello    1\n",
       "world    5"
      ]
     },
     "execution_count": null,
     "metadata": {},
     "output_type": "execute_result"
    }
   ],
   "source": [
    "#TODO from here, ok so We need union types and to make the span class print prettily\n",
    "df.groupby('span').sum()"
   ]
  },
  {
   "cell_type": "code",
   "execution_count": null,
   "metadata": {},
   "outputs": [],
   "source": [
    "string = \"hello stranger\"\n",
    "short_string = \"hi\""
   ]
  },
  {
   "cell_type": "code",
   "execution_count": null,
   "metadata": {},
   "outputs": [
    {
     "data": {
      "text/plain": [
       "[@doc,0,14) \"hello stra...\""
      ]
     },
     "metadata": {},
     "output_type": "display_data"
    }
   ],
   "source": [
    "s = Span(string,0,len(string),name ='doc')\n",
    "display(s)"
   ]
  },
  {
   "cell_type": "code",
   "execution_count": null,
   "metadata": {},
   "outputs": [
    {
     "data": {
      "text/html": [
       "<div>\n",
       "<style scoped>\n",
       "    .dataframe tbody tr th:only-of-type {\n",
       "        vertical-align: middle;\n",
       "    }\n",
       "\n",
       "    .dataframe tbody tr th {\n",
       "        vertical-align: top;\n",
       "    }\n",
       "\n",
       "    .dataframe thead th {\n",
       "        text-align: right;\n",
       "    }\n",
       "</style>\n",
       "<table border=\"1\" class=\"dataframe\">\n",
       "  <thead>\n",
       "    <tr style=\"text-align: right;\">\n",
       "      <th></th>\n",
       "      <th>span</th>\n",
       "    </tr>\n",
       "  </thead>\n",
       "  <tbody>\n",
       "    <tr>\n",
       "      <th>0</th>\n",
       "      <td>(h, e, l, l, o,  , s, t, r, a, n, g, e, r)</td>\n",
       "    </tr>\n",
       "  </tbody>\n",
       "</table>\n",
       "</div>"
      ],
      "text/plain": [
       "                                         span\n",
       "0  (h, e, l, l, o,  , s, t, r, a, n, g, e, r)"
      ]
     },
     "execution_count": null,
     "metadata": {},
     "output_type": "execute_result"
    }
   ],
   "source": [
    "pd.DataFrame({'span':[s]})"
   ]
  },
  {
   "cell_type": "code",
   "execution_count": null,
   "metadata": {},
   "outputs": [
    {
     "data": {
      "text/html": [
       "<div>\n",
       "<style scoped>\n",
       "    .dataframe tbody tr th:only-of-type {\n",
       "        vertical-align: middle;\n",
       "    }\n",
       "\n",
       "    .dataframe tbody tr th {\n",
       "        vertical-align: top;\n",
       "    }\n",
       "\n",
       "    .dataframe thead th {\n",
       "        text-align: right;\n",
       "    }\n",
       "</style>\n",
       "<table border=\"1\" class=\"dataframe\">\n",
       "  <thead>\n",
       "    <tr style=\"text-align: right;\">\n",
       "      <th></th>\n",
       "      <th>span</th>\n",
       "    </tr>\n",
       "  </thead>\n",
       "  <tbody>\n",
       "    <tr>\n",
       "      <th>0</th>\n",
       "      <td>[@doc,0,14) \"hello stra...\"</td>\n",
       "    </tr>\n",
       "  </tbody>\n",
       "</table>\n",
       "</div>"
      ],
      "text/plain": [
       "                          span\n",
       "0  [@doc,0,14) \"hello stra...\""
      ]
     },
     "execution_count": null,
     "metadata": {},
     "output_type": "execute_result"
    }
   ],
   "source": [
    "df = pd.DataFrame({'span':[s]}).map(repr)\n",
    "df"
   ]
  },
  {
   "cell_type": "code",
   "execution_count": null,
   "metadata": {},
   "outputs": [
    {
     "data": {
      "text/plain": [
       "[@c22b5f,0,2) \"hi\""
      ]
     },
     "metadata": {},
     "output_type": "display_data"
    }
   ],
   "source": [
    "s2 = Span(short_string)\n",
    "display(s2)"
   ]
  },
  {
   "cell_type": "code",
   "execution_count": null,
   "metadata": {},
   "outputs": [],
   "source": [
    "assert s == 'hello stranger'\n",
    "assert s[0:5] == 'hello'\n",
    "assert not s == s[0:5]\n",
    "assert f\"{s[0:5].as_str()} darkness\" == 'hello darkness'\n",
    "assert s[0:5][1:4] == 'ell'"
   ]
  },
  {
   "cell_type": "markdown",
   "metadata": {},
   "source": [
    "## Pandas extesniondtype"
   ]
  },
  {
   "cell_type": "code",
   "execution_count": null,
   "metadata": {},
   "outputs": [],
   "source": [
    "# #| export\n",
    "# import numpy as np\n",
    "# import pandas as pd\n",
    "# from pandas.core.dtypes.dtypes import PandasExtensionDtype\n",
    "# from pandas.api.extensions import ExtensionArray, ExtensionScalarOpsMixin, register_extension_dtype\n",
    "\n",
    "# @register_extension_dtype\n",
    "# class SpanDtype(PandasExtensionDtype):\n",
    "#     \"\"\"\n",
    "#     Class to describe the custom Vector data type\n",
    "#     \"\"\"\n",
    "#     type = Span       # Scalar type for data\n",
    "#     name = 'span'     # String identifying the data type name \n",
    "\n",
    "#     @classmethod\n",
    "#     def construct_array_type(cls):\n",
    "#         \"\"\"\n",
    "#         Return array type associated with this dtype\n",
    "#         \"\"\"\n",
    "#         return SpanArray\n",
    "\n",
    "#     def __str__(self):\n",
    "#         return self.name"
   ]
  },
  {
   "cell_type": "code",
   "execution_count": null,
   "metadata": {},
   "outputs": [
    {
     "name": "stderr",
     "output_type": "stream",
     "text": [
      "/var/folders/v1/7y5rg0zx123dwr59mqm0fmlr0000gn/T/ipykernel_81330/498711026.py:1: FutureWarning: factorize with argument that is not not a Series, Index, ExtensionArray, or np.ndarray is deprecated and will raise in a future version.\n",
      "  pd.factorize([1,2,3,3])\n"
     ]
    },
    {
     "data": {
      "text/plain": [
       "(array([0, 1, 2, 2]), array([1, 2, 3]))"
      ]
     },
     "execution_count": null,
     "metadata": {},
     "output_type": "execute_result"
    }
   ],
   "source": [
    "pd.factorize([1,2,3,3])"
   ]
  },
  {
   "cell_type": "code",
   "execution_count": null,
   "metadata": {},
   "outputs": [],
   "source": [
    "# #| export\n",
    "# class SpanArray(ExtensionScalarOpsMixin, ExtensionArray):\n",
    "#     \"\"\"\n",
    "#     Custom Extension Array type for an array of Vectors\n",
    "#     Needs to define:\n",
    "#     - Associated Dtype it is used with\n",
    "#     - How to construct array from sequence of scalars\n",
    "#     - How data is stored and accessed\n",
    "#     - Any custom array methods\n",
    "#     \"\"\"\n",
    "\n",
    "#     def __init__(self,doc_values, start_values, end_values, copy=False):\n",
    "#         \"\"\"\n",
    "#         Initialise array of vectors from component X and Y values \n",
    "#         (Allows efficient initialisation from existing lists/arrays)\n",
    "#         :param start_values: Sequence/array of vector x-component values\n",
    "#         :param end_values: Sequence/array of vector y-component values\n",
    "#         \"\"\"\n",
    "#         self.doc_values = np.array(doc_values, dtype=object, copy=copy)\n",
    "#         self.start_values = np.array(start_values, dtype=np.int64, copy=copy)\n",
    "#         self.end_values = np.array(end_values, dtype=np.int64, copy=copy)\n",
    "\n",
    "\n",
    "#     @classmethod\n",
    "#     def _from_sequence(cls, scalars, *, dtype=None, copy=False):\n",
    "#         \"\"\"\n",
    "#         Construct a new ExtensionArray from a sequence of scalars. \n",
    "#         Each element will be an instance of the scalar type for this array,\n",
    "#         or be converted into this type in this method.\n",
    "#         \"\"\"\n",
    "#         # Construct new array from sequence of values (Unzip vectors into x and y components)\n",
    "#         doc_values, start_values, end_values = zip(*[Span.from_val(val).as_tuple() for val in scalars])\n",
    "#         return SpanArray(doc_values,start_values, end_values, copy=copy)\n",
    "\n",
    "#     # @classmethod\n",
    "#     # def _from_factorized(cls, values, original):\n",
    "#     #     \"\"\"\n",
    "#     #     Reconstruct an ExtensionArray from a factorized array.\n",
    "#     #     \"\"\"\n",
    "#     #     raise NotImplementedError\n",
    "\n",
    "#     # def _values_for_factorize(self):\n",
    "#     #     \"\"\"\n",
    "#     #     Return values (array of scalars) for factorizing\n",
    "#     #     \"\"\"\n",
    "#     #     return np.array(\n",
    "#     #         [hash(self[i]) for i in range(len(self))], dtype=object\n",
    "#     #     ) ,np.nan\n",
    "\n",
    "\n",
    "#     @classmethod\n",
    "#     def from_vectors(cls, vectors):\n",
    "#         \"\"\"\n",
    "#         Construct array from sequence of values (vectors)\n",
    "#         Can be provided as Vector instances or list/tuple like (x, y) pairs\n",
    "#         \"\"\"\n",
    "#         return cls._from_sequence(vectors)\n",
    "\n",
    "#     @classmethod\n",
    "#     def _concat_same_type(cls, to_concat):\n",
    "#         \"\"\"\n",
    "#         Concatenate multiple arrays of this dtype\n",
    "#         \"\"\"\n",
    "#         return SpanArray(\n",
    "#             np.concatenate([arr.doc_values for arr in to_concat]),\n",
    "#             np.concatenate([arr.start_values for arr in to_concat]),\n",
    "#             np.concatenate([arr.end_values for arr in to_concat]),\n",
    "#         )\n",
    "\n",
    "#     @property\n",
    "#     def dtype(self):\n",
    "#         \"\"\"\n",
    "#         Return Dtype instance (not class) associated with this Array\n",
    "#         \"\"\"\n",
    "#         return SpanDtype()\n",
    "\n",
    "#     @property\n",
    "#     def nbytes(self):\n",
    "#         \"\"\"\n",
    "#         The number of bytes needed to store this object in memory.\n",
    "#         \"\"\"\n",
    "#         return self.doc_values.nbytes + self.start_values.nbytes + self.end_values.nbytes\n",
    "\n",
    "#     def __getitem__(self, item):\n",
    "#         \"\"\"\n",
    "#         Retrieve single item or slice\n",
    "#         \"\"\"\n",
    "#         if isinstance(item, int):\n",
    "#             # Get single vector\n",
    "#             return Span(self.doc_values[item],self.start_values[item], self.end_values[item])\n",
    "\n",
    "#         else:\n",
    "#             # Get subset from slice  or boolean array\n",
    "#             return SpanArray(self.doc_values[item],self.start_values[item], self.end_values[item])\n",
    "\n",
    "#     def __eq__(self, other):\n",
    "#         \"\"\"\n",
    "#         Perform element-wise equality with a given vector value\n",
    "#         \"\"\"\n",
    "#         if isinstance(other, (pd.Index, pd.Series, pd.DataFrame)):\n",
    "#             return NotImplemented\n",
    "\n",
    "#         return (self.doc_values == other[0]) & (self.start_values == other[1]) & (self.end_values == other[2])\n",
    "\n",
    "#     def __len__(self):\n",
    "#         return self.start_values.size\n",
    "\n",
    "#     def isna(self):\n",
    "#         \"\"\"\n",
    "#         Returns a 1-D array indicating if each value is missing\n",
    "#         \"\"\"\n",
    "#         return np.isnan(self.start_values)\n",
    "\n",
    "#     def take(self, indices, *, allow_fill=False, fill_value=None):\n",
    "#         \"\"\"\n",
    "#         Take element from array using positional indexing\n",
    "#         \"\"\"\n",
    "#         from pandas.core.algorithms import take\n",
    "#         if allow_fill and fill_value is None:\n",
    "#             fill_value = self.dtype.na_value\n",
    "\n",
    "#         doc_result = take(self.doc_values, indices, fill_value=fill_value, allow_fill=allow_fill)\n",
    "#         start_result = take(self.start_values, indices, fill_value=fill_value, allow_fill=allow_fill)\n",
    "#         end_result = take(self.end_values, indices, fill_value=fill_value, allow_fill=allow_fill)\n",
    "#         return SpanArray(doc_result, start_result, end_result)\n",
    "\n",
    "#     def copy(self):\n",
    "#         \"\"\"\n",
    "#         Return copy of array\n",
    "#         \"\"\"\n",
    "#         return SpanArray(np.copy(self.doc_values), np.copy(self.start_values), np.copy(self.end_values))\n",
    "\n",
    "# # Register operator overloads using logic defined in Vector class\n",
    "# SpanArray._add_comparison_ops()"
   ]
  },
  {
   "cell_type": "code",
   "execution_count": null,
   "metadata": {},
   "outputs": [],
   "source": [
    "# doc = 'world'\n",
    "# s = SpanArray.from_vectors([Span('hello',0,5),Span(doc,0,5),Span(doc,0,5)])\n",
    "# s"
   ]
  },
  {
   "cell_type": "code",
   "execution_count": null,
   "metadata": {},
   "outputs": [
    {
     "data": {
      "text/html": [
       "<div>\n",
       "<style scoped>\n",
       "    .dataframe tbody tr th:only-of-type {\n",
       "        vertical-align: middle;\n",
       "    }\n",
       "\n",
       "    .dataframe tbody tr th {\n",
       "        vertical-align: top;\n",
       "    }\n",
       "\n",
       "    .dataframe thead th {\n",
       "        text-align: right;\n",
       "    }\n",
       "</style>\n",
       "<table border=\"1\" class=\"dataframe\">\n",
       "  <thead>\n",
       "    <tr style=\"text-align: right;\">\n",
       "      <th></th>\n",
       "      <th>span</th>\n",
       "    </tr>\n",
       "  </thead>\n",
       "  <tbody>\n",
       "    <tr>\n",
       "      <th>0</th>\n",
       "      <td>[@doc,0,14) \"hello stra...\"</td>\n",
       "    </tr>\n",
       "  </tbody>\n",
       "</table>\n",
       "</div>"
      ],
      "text/plain": [
       "                          span\n",
       "0  [@doc,0,14) \"hello stra...\""
      ]
     },
     "execution_count": null,
     "metadata": {},
     "output_type": "execute_result"
    }
   ],
   "source": [
    "df.sort_values(by=list(df.columns))"
   ]
  },
  {
   "cell_type": "code",
   "execution_count": null,
   "metadata": {},
   "outputs": [],
   "source": [
    "# s._values_for_factorize()"
   ]
  },
  {
   "cell_type": "code",
   "execution_count": null,
   "metadata": {},
   "outputs": [
    {
     "name": "stdout",
     "output_type": "stream",
     "text": [
      "<class 'pandas.core.frame.DataFrame'>\n",
      "RangeIndex: 3 entries, 0 to 2\n",
      "Data columns (total 2 columns):\n",
      " #   Column  Non-Null Count  Dtype \n",
      "---  ------  --------------  ----- \n",
      " 0   span    3 non-null      object\n",
      " 1   num     3 non-null      int64 \n",
      "dtypes: int64(1), object(1)\n",
      "memory usage: 180.0+ bytes\n"
     ]
    }
   ],
   "source": [
    "doc = 'world'\n",
    "df = pd.DataFrame([\n",
    "    [Span('hello',0,5),1],\n",
    "    [Span(doc,0,5),2],\n",
    "    [Span(doc,0,5),3],\n",
    "], columns=['span','num'])\n",
    "\n",
    "\n",
    "df.info()"
   ]
  },
  {
   "cell_type": "code",
   "execution_count": null,
   "metadata": {},
   "outputs": [
    {
     "data": {
      "text/html": [
       "<div>\n",
       "<style scoped>\n",
       "    .dataframe tbody tr th:only-of-type {\n",
       "        vertical-align: middle;\n",
       "    }\n",
       "\n",
       "    .dataframe tbody tr th {\n",
       "        vertical-align: top;\n",
       "    }\n",
       "\n",
       "    .dataframe thead th {\n",
       "        text-align: right;\n",
       "    }\n",
       "</style>\n",
       "<table border=\"1\" class=\"dataframe\">\n",
       "  <thead>\n",
       "    <tr style=\"text-align: right;\">\n",
       "      <th></th>\n",
       "      <th>num</th>\n",
       "    </tr>\n",
       "    <tr>\n",
       "      <th>span</th>\n",
       "      <th></th>\n",
       "    </tr>\n",
       "  </thead>\n",
       "  <tbody>\n",
       "    <tr>\n",
       "      <th>(h, e, l, l, o)</th>\n",
       "      <td>1</td>\n",
       "    </tr>\n",
       "    <tr>\n",
       "      <th>(w, o, r, l, d)</th>\n",
       "      <td>5</td>\n",
       "    </tr>\n",
       "  </tbody>\n",
       "</table>\n",
       "</div>"
      ],
      "text/plain": [
       "                 num\n",
       "span                \n",
       "(h, e, l, l, o)    1\n",
       "(w, o, r, l, d)    5"
      ]
     },
     "execution_count": null,
     "metadata": {},
     "output_type": "execute_result"
    }
   ],
   "source": [
    "df.groupby('span').agg({'num':'sum'})"
   ]
  },
  {
   "cell_type": "code",
   "execution_count": null,
   "metadata": {},
   "outputs": [
    {
     "data": {
      "text/plain": [
       "True"
      ]
     },
     "execution_count": null,
     "metadata": {},
     "output_type": "execute_result"
    }
   ],
   "source": [
    "hash(Span(doc,0,5)) == hash(Span(doc,0,5))"
   ]
  },
  {
   "cell_type": "code",
   "execution_count": null,
   "metadata": {},
   "outputs": [],
   "source": [
    "#|hide\n",
    "import nbdev; nbdev.nbdev_export()\n",
    "     "
   ]
  }
 ],
 "metadata": {
  "kernelspec": {
   "display_name": "python3",
   "language": "python",
   "name": "python3"
  }
 },
 "nbformat": 4,
 "nbformat_minor": 4
}
