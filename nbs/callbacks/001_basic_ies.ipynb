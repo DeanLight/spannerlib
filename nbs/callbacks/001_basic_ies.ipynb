{
 "cells": [
  {
   "cell_type": "markdown",
   "metadata": {},
   "source": [
    "# Basic Callbacks"
   ]
  },
  {
   "cell_type": "code",
   "execution_count": null,
   "metadata": {},
   "outputs": [],
   "source": [
    "#| default_exp ie_func.basic"
   ]
  },
  {
   "cell_type": "code",
   "execution_count": null,
   "metadata": {},
   "outputs": [],
   "source": [
    "#| hide\n",
    "from nbdev.showdoc import show_doc\n",
    "%load_ext autoreload\n",
    "%autoreload 2"
   ]
  },
  {
   "cell_type": "code",
   "execution_count": null,
   "metadata": {},
   "outputs": [],
   "source": [
    "#| export\n",
    "import re\n",
    "from typing import Iterable, Sequence,Union\n",
    "from numbers import Real\n",
    "from pathlib import Path\n",
    "\n",
    "from spannerlib.span import Span\n",
    "from spannerlib.utils import DefaultIEs,DefaultAGGs,visualize_callback_df"
   ]
  },
  {
   "cell_type": "markdown",
   "metadata": {},
   "source": [
    "## Variable schema utils"
   ]
  },
  {
   "cell_type": "code",
   "execution_count": null,
   "metadata": {},
   "outputs": [],
   "source": [
    "#| export\n",
    "def span_arity(arity):\n",
    "    \"\"\"return a schema of Spans with given arity\"\"\"\n",
    "    return [Span]*arity\n",
    "\n",
    "def str_arity(arity):\n",
    "    \"\"\"return a schema of strings with given arity\"\"\"\n",
    "    return [str]*arity\n",
    "\n",
    "def object_arity(arity):\n",
    "    \"\"\"return a schema of objects with given arity\"\"\"\n",
    "    return [object]*arity"
   ]
  },
  {
   "cell_type": "markdown",
   "metadata": {},
   "source": [
    "## Debugging IEs"
   ]
  },
  {
   "cell_type": "code",
   "execution_count": null,
   "metadata": {},
   "outputs": [],
   "source": [
    "#| export\n",
    "def print_ie(\n",
    "        fstring, # the format string used to print the objects\n",
    "        *objects, # the objects to be printed\n",
    "    ):\n",
    "    \"\"\"\n",
    "    prints the objects using the format string fstring to the console\n",
    "    used for debugging.\n",
    "    \"\"\"\n",
    "    res = fstring.format(*objects)\n",
    "    print(res)\n",
    "    return [res]\n",
    "\n",
    "DefaultIEs().add(\n",
    "    \"print\",\n",
    "    print_ie,\n",
    "    object_arity,\n",
    "    [object]\n",
    ")"
   ]
  },
  {
   "cell_type": "code",
   "execution_count": null,
   "metadata": {},
   "outputs": [
    {
     "name": "stdout",
     "output_type": "stream",
     "text": [
      "Hello, world!\n",
      "Hello, {'complicated': 'object'}\n"
     ]
    }
   ],
   "source": [
    "_ = print_ie(\"Hello, {}!\", \"world\")\n",
    "_ = print_ie(\"Hello, {!r}\", {'complicated': 'object'})"
   ]
  },
  {
   "cell_type": "markdown",
   "metadata": {},
   "source": [
    "## regex functions"
   ]
  },
  {
   "cell_type": "code",
   "execution_count": null,
   "metadata": {},
   "outputs": [],
   "source": [
    "#| export\n",
    "\n",
    "def rgx(pattern: str, # the regex pattern to be matched\n",
    "    text: Union[str,Span], # the text to be matched on, can be either a string or a span.\n",
    "    ):\n",
    "    \"\"\"\n",
    "    An IE function which runs regex using python's `re` and \n",
    "    yields tuples of spans according to the number of capture groups in the pattern.\n",
    "    capture groups are ordered by their starting position in the pattern.\n",
    "    In the case of no capture groups, the function yields a single span of the entire match.\n",
    "    \"\"\"\n",
    "    text = Span(text)\n",
    "    compiled_rgx = re.compile(pattern)\n",
    "    num_groups = compiled_rgx.groups\n",
    "    if num_groups == 0:\n",
    "        for match in re.finditer(compiled_rgx, str(text)):\n",
    "            i,j = match.span()\n",
    "            yield (text[i:j])\n",
    "    else:\n",
    "        for match in re.finditer(compiled_rgx, str(text)):\n",
    "            indices = list((match.span(i) for i in range(1,num_groups+1)))\n",
    "            yield tuple([text[i:j] for i,j in indices])\n",
    "\n",
    "\n",
    "\n",
    "DefaultIEs().add(\n",
    "    'rgx',\n",
    "    rgx,\n",
    "    [str, (str,Span)],\n",
    "    span_arity\n",
    ")\n"
   ]
  },
  {
   "cell_type": "code",
   "execution_count": null,
   "metadata": {},
   "outputs": [],
   "source": [
    "text = \"aaaaa@bbbbbbaa@bb\"\n",
    "pattern = '(?P<c>(?P<a>a*)@(?P<b>b*))'\n",
    "assert list(rgx(pattern,text)) == [\n",
    "    ('aaaaa@bbbbbb', 'aaaaa', 'bbbbbb'),\n",
    "    ('aa@bb', 'aa', 'bb')\n",
    "]"
   ]
  },
  {
   "cell_type": "code",
   "execution_count": null,
   "metadata": {},
   "outputs": [
    {
     "data": {
      "text/plain": [
       "[([@a254e9,0,12) \"aaaaa@bbbb...\",), ([@a254e9,12,17) \"aa@bb\",)]"
      ]
     },
     "execution_count": null,
     "metadata": {},
     "output_type": "execute_result"
    }
   ],
   "source": [
    "text = \"aaaaa@bbbbbbaa@bb\"\n",
    "# anonymous groups are not captured, so we return the entire match\n",
    "pattern = '((?:a*)@(?:b*))'\n",
    "assert list(rgx(pattern,text)) == [\n",
    "    ('aaaaa@bbbbbb',),\n",
    "    ('aa@bb',)\n",
    "]\n",
    "list(rgx(pattern,text))"
   ]
  },
  {
   "cell_type": "code",
   "execution_count": null,
   "metadata": {},
   "outputs": [
    {
     "data": {
      "text/plain": [
       "[@doc1,0,20) \"dddaaaaa@b...\""
      ]
     },
     "execution_count": null,
     "metadata": {},
     "output_type": "execute_result"
    }
   ],
   "source": [
    "document = Span('dddaaaaa@bbbbbbaa@bb',name = 'doc1')\n",
    "document"
   ]
  },
  {
   "cell_type": "code",
   "execution_count": null,
   "metadata": {},
   "outputs": [
    {
     "data": {
      "text/plain": [
       "[([@doc1,3,8) \"aaaaa\", [@doc1,9,15) \"bbbbbb\"),\n",
       " ([@doc1,15,17) \"aa\", [@doc1,18,20) \"bb\")]"
      ]
     },
     "execution_count": null,
     "metadata": {},
     "output_type": "execute_result"
    }
   ],
   "source": [
    "list(rgx('(a*)@(b*)',document))"
   ]
  },
  {
   "cell_type": "code",
   "execution_count": null,
   "metadata": {},
   "outputs": [
    {
     "data": {
      "text/plain": [
       "[([@doc1,3,8) \"aaaaa\", [@doc1,9,15) \"bbbbbb\"),\n",
       " ([@doc1,15,17) \"aa\", [@doc1,18,20) \"bb\")]"
      ]
     },
     "execution_count": null,
     "metadata": {},
     "output_type": "execute_result"
    }
   ],
   "source": [
    "assert list(rgx('(a*)@(b*)',document)) == [\n",
    "    (Span(document,3,8),Span(document,9,15)),\n",
    "    (Span(document,15,17), Span(document,18,20))]\n",
    "list(rgx('(a*)@(b*)',document))"
   ]
  },
  {
   "cell_type": "code",
   "execution_count": null,
   "metadata": {},
   "outputs": [],
   "source": [
    "sub_doc = document.slice(3,None)\n",
    "assert list(rgx('(a*)@(b*)',sub_doc)) == list(rgx('(a*)@(b*)',document))\n"
   ]
  },
  {
   "cell_type": "code",
   "execution_count": null,
   "metadata": {},
   "outputs": [],
   "source": [
    "#| export\n",
    "def rgx_split(delim, # the delimeter pattern to split on\n",
    "    text, # the text to be split, can be either string or Span\n",
    "    initial_tag=\"Start Tag\" # the tag to be used incase the first split is not at the start of the text\n",
    "    ):\n",
    "    \"\"\"\n",
    "    An IE function which given a delimeter rgx pattern and a text, \n",
    "    returns tuples of spans of the form (delimeter_match, text_before_next_delimeter).\n",
    "    Note that rgx pattern should not have any groups.\n",
    "    \"\"\"\n",
    "    delim_iter = rgx(delim,text)\n",
    "    text = Span(text)\n",
    "    try:\n",
    "        first_span = next(delim_iter)\n",
    "        if first_span.start != 0:\n",
    "            yield(Span(initial_tag),text[:first_span.start])\n",
    "    except StopIteration:\n",
    "        return\n",
    "    prev_span = first_span\n",
    "    for next_span in delim_iter:\n",
    "        yield (prev_span, text[prev_span.end:next_span.start])\n",
    "        prev_span = next_span\n",
    "\n",
    "    yield (prev_span, text[prev_span.end:])\n",
    "\n",
    "DefaultIEs().add(\n",
    "    'rgx_split',\n",
    "    rgx_split,\n",
    "    [str, (str,Span)],\n",
    "    [Span,Span],\n",
    ")\n"
   ]
  },
  {
   "cell_type": "code",
   "execution_count": null,
   "metadata": {},
   "outputs": [],
   "source": [
    "assert list(rgx_split('a|x','bbbannnnxdddaca')) == [\n",
    "    ('Start Tag', 'bbb'),\n",
    "    ('a', 'nnnn'),\n",
    "    ('x', 'ddd'),\n",
    "    ('a', 'c'),\n",
    "    ('a', '')]\n",
    "\n",
    "assert list(rgx_split('a|x','abbbannnnxdddaca')) == [\n",
    "    ('a', 'bbb'),\n",
    "    ('a', 'nnnn'),\n",
    "    ('x', 'ddd'),\n",
    "    ('a', 'c'),\n",
    "    ('a', '')]\n"
   ]
  },
  {
   "cell_type": "code",
   "execution_count": null,
   "metadata": {},
   "outputs": [],
   "source": [
    "#| export\n",
    "def rgx_is_match(delim, # the delimeter pattern to split on\n",
    "    text, # the text to be split, can be either string or Span\n",
    "    ):\n",
    "    \"\"\"\n",
    "    An IE function which given a delimeter rgx pattern and a text, \n",
    "    returns True if any match is found, False otherwise.\n",
    "    \"\"\"\n",
    "    for _ in rgx(delim,text):\n",
    "        return [True]\n",
    "    return [False]\n",
    "\n",
    "DefaultIEs().add(\n",
    "    'rgx_is_match',\n",
    "    rgx_is_match,\n",
    "    [str, (str,Span)],\n",
    "    [bool],\n",
    ")\n"
   ]
  },
  {
   "cell_type": "code",
   "execution_count": null,
   "metadata": {},
   "outputs": [],
   "source": [
    "assert rgx_is_match('(a*)@(b*)',document) == [True]\n",
    "assert rgx_is_match('(a*)@(e+)',document) == [False]"
   ]
  },
  {
   "cell_type": "markdown",
   "metadata": {},
   "source": [
    "## Expression eval"
   ]
  },
  {
   "cell_type": "code",
   "execution_count": null,
   "metadata": {},
   "outputs": [],
   "source": [
    "#| export\n",
    "def expr_eval(template, # The expression template to be evaluated. \n",
    "    *inputs, # the inputs to be substituted in the template\n",
    "    ):\n",
    "    \"\"\"\n",
    "    Evaluate an expression template with the given inputs. \n",
    "    The template should contain numerical indices that correspond to the positions of the inputs.\n",
    "\n",
    "    Returns:\n",
    "        The result of evaluating the expression template with the given inputs.\n",
    "\n",
    "    Raises:\n",
    "        ValueError: If the expression template is invalid or the number of inputs does not match\n",
    "                    the number of indices in the template.\n",
    "    \"\"\"\n",
    "    try:\n",
    "        expr = template.format(*[f'arg_{i}' for i in range(len(inputs))])\n",
    "    except (KeyError, IndexError):\n",
    "        raise ValueError(f\"Invalid expression template {template} for inputs {inputs}\\n\"\n",
    "                         f\"Make sure the expression template has only numerical indices and the number of inputs match the number of indices\")\n",
    "    yield eval(expr, None, {f'arg_{i}': arg for i, arg in enumerate(inputs)})\n",
    "\n",
    "DefaultIEs().add(\n",
    "    'expr_eval',\n",
    "    expr_eval,\n",
    "    object_arity,\n",
    "    [object]\n",
    ")"
   ]
  },
  {
   "cell_type": "code",
   "execution_count": null,
   "metadata": {},
   "outputs": [],
   "source": [
    "assert next(expr_eval('{0} + {1}',1,2)) == 3"
   ]
  },
  {
   "cell_type": "code",
   "execution_count": null,
   "metadata": {},
   "outputs": [],
   "source": [
    "a = Span('aaaa',1,3)\n",
    "b = Span('bbbb',3,4)"
   ]
  },
  {
   "cell_type": "code",
   "execution_count": null,
   "metadata": {},
   "outputs": [],
   "source": [
    "assert next(expr_eval('{0}.end == {1}.start',a,b))\n",
    "assert not next(expr_eval('{0}.doc == {1}.doc',a,b))\n",
    "assert next(expr_eval('({0}.doc != {1}.doc) & ({0}.end == {1}.start)',a,b))"
   ]
  },
  {
   "cell_type": "code",
   "execution_count": null,
   "metadata": {},
   "outputs": [],
   "source": [
    "#| export\n",
    "def not_ie(val):\n",
    "    \"\"\"\n",
    "    An IE function which negates the input value.\n",
    "    \"\"\"\n",
    "    return [(not val)]\n",
    "\n",
    "DefaultIEs().add(\n",
    "    'not',\n",
    "    not_ie,\n",
    "    [bool],\n",
    "    [bool]\n",
    ")"
   ]
  },
  {
   "cell_type": "code",
   "execution_count": null,
   "metadata": {},
   "outputs": [],
   "source": [
    "assert not_ie(True) == [False]\n",
    "assert not_ie(False) == [True]"
   ]
  },
  {
   "cell_type": "markdown",
   "metadata": {},
   "source": [
    "## Span operations"
   ]
  },
  {
   "cell_type": "code",
   "execution_count": null,
   "metadata": {},
   "outputs": [],
   "source": [
    "#| export\n",
    "def as_str(obj):\n",
    "    \"\"\"casts objects to strings\"\"\"\n",
    "    yield str(obj),\n",
    "\n",
    "DefaultIEs().add(\n",
    "    'as_str',\n",
    "    as_str,\n",
    "    [object],\n",
    "    [str]\n",
    ")\n"
   ]
  },
  {
   "cell_type": "code",
   "execution_count": null,
   "metadata": {},
   "outputs": [],
   "source": [
    "#| export\n",
    "def span_contained(s1, s2):\n",
    "    \"\"\"yields True if s1 is contained in s2, otherwise yield False\"\"\"\n",
    "    if s1.doc == s2.doc and s1.start >= s2.start and s1.end <= s2.end:\n",
    "        yield True\n",
    "    else:\n",
    "        yield False\n",
    "\n",
    "DefaultIEs().add(\n",
    "    'span_contained',\n",
    "    span_contained,\n",
    "    [Span,Span],\n",
    "    [bool]\n",
    ")"
   ]
  },
  {
   "cell_type": "code",
   "execution_count": null,
   "metadata": {},
   "outputs": [],
   "source": [
    "# usage example\n",
    "doc1 = Span('hello darkness my old friend',name='doc1')\n",
    "doc2 = Span('I come to talk to you again',name='doc2')\n",
    "\n",
    "span1 = Span(doc1,1, 10)\n",
    "span2 = Span(doc1,0, 11)\n",
    "span3 = Span(doc1,2, 12)\n",
    "span4 = Span(doc2,3,5)\n",
    "\n",
    "\n",
    "\n",
    "assert list(span_contained(span1,span2)) == [True]\n",
    "assert list(span_contained(span2,span1)) == [False]\n",
    "assert list(span_contained(span1,span3)) == [False]\n",
    "assert list(span_contained(span1,span4)) == [False]"
   ]
  },
  {
   "cell_type": "code",
   "execution_count": null,
   "metadata": {},
   "outputs": [],
   "source": [
    "#| export\n",
    "def deconstruct_span(span):\n",
    "    \"\"\"yields the doc id, start and end of the span\"\"\"\n",
    "    yield span.name, span.start, span.end\n",
    "\n",
    "DefaultIEs().add(\n",
    "    'deconstruct_span',\n",
    "    deconstruct_span,\n",
    "    [Span],\n",
    "    [str,int,int]\n",
    ")"
   ]
  },
  {
   "cell_type": "code",
   "execution_count": null,
   "metadata": {},
   "outputs": [],
   "source": [
    "doc = Span('hello darkness my old friend',name='doc1')\n",
    "doc2 = Span('I come to talk to you again')\n",
    "\n",
    "assert list(deconstruct_span(doc)) == [('doc1', 0, 28)]\n",
    "assert list(deconstruct_span(doc2))== [('f8f5e8', 0, 27)]"
   ]
  },
  {
   "cell_type": "code",
   "execution_count": null,
   "metadata": {},
   "outputs": [],
   "source": [
    "#| export\n",
    "def read(text_path, # the path to the text file to read from\n",
    "    ):\n",
    "    \"\"\"Reads from file and return it's content as a string\"\"\"\n",
    "    yield Path(text_path).read_text()"
   ]
  },
  {
   "cell_type": "code",
   "execution_count": null,
   "metadata": {},
   "outputs": [],
   "source": [
    "#| export\n",
    "def read_span(\n",
    "    text_path, # the path to the text file to read from\n",
    "    ):\n",
    "    \"\"\"Reads from file and return it's content, as a span with the name of the file as the doc id.\n",
    "    \"\"\"\n",
    "    yield Span(Path(text_path).read_text(),name=text_path)"
   ]
  },
  {
   "cell_type": "code",
   "execution_count": null,
   "metadata": {},
   "outputs": [],
   "source": [
    "#| export\n",
    "DefaultIEs().add(\n",
    "    'read',\n",
    "    read,\n",
    "    [str],\n",
    "    [str]\n",
    ")\n",
    "\n",
    "DefaultIEs().add(\n",
    "    'read_span',\n",
    "    read_span,\n",
    "    [str],\n",
    "    [Span]\n",
    ")"
   ]
  },
  {
   "cell_type": "code",
   "execution_count": null,
   "metadata": {},
   "outputs": [
    {
     "data": {
      "text/plain": [
       "[@sample1.txt,0,28) \"hello dark...\""
      ]
     },
     "execution_count": null,
     "metadata": {},
     "output_type": "execute_result"
    }
   ],
   "source": [
    "path = Path('sample1.txt')\n",
    "path.write_text('hello darkness my old friend')\n",
    "text = list(read('sample1.txt'))[0]\n",
    "text_span = list(read_span('sample1.txt'))[0]\n",
    "\n",
    "path.unlink()\n",
    "\n",
    "assert text == \"hello darkness my old friend\"\n",
    "assert text_span == text\n",
    "text_span"
   ]
  },
  {
   "cell_type": "markdown",
   "metadata": {},
   "source": [
    "## Basic Aggs"
   ]
  },
  {
   "cell_type": "markdown",
   "metadata": {},
   "source": [
    "Spannerlib also supports some pandas aggregation functions"
   ]
  },
  {
   "cell_type": "code",
   "execution_count": null,
   "metadata": {},
   "outputs": [],
   "source": [
    "#| exports\n",
    "DefaultAGGs().add('count','count',[object],[int])\n",
    "DefaultAGGs().add('sum','sum',[Real],[Real])\n",
    "DefaultAGGs().add('avg','avg',[Real],[Real])\n",
    "DefaultAGGs().add('max','max',[Real],[Real])\n",
    "DefaultAGGs().add('min','min',[Real],[Real])"
   ]
  },
  {
   "cell_type": "markdown",
   "metadata": {},
   "source": [
    "## Callback names and Schemas\n",
    "\n"
   ]
  },
  {
   "cell_type": "code",
   "execution_count": null,
   "metadata": {},
   "outputs": [],
   "source": [
    "#| hide\n",
    "from itables import show"
   ]
  },
  {
   "cell_type": "code",
   "execution_count": null,
   "metadata": {},
   "outputs": [
    {
     "data": {
      "text/html": [
       "<style type=\"text/css\">\n",
       "#T_93fbd th {\n",
       "  text-align: left;\n",
       "}\n",
       "#T_93fbd_row0_col0, #T_93fbd_row0_col1, #T_93fbd_row0_col2, #T_93fbd_row0_col3, #T_93fbd_row0_col4, #T_93fbd_row1_col0, #T_93fbd_row1_col1, #T_93fbd_row1_col2, #T_93fbd_row1_col3, #T_93fbd_row1_col4, #T_93fbd_row2_col0, #T_93fbd_row2_col1, #T_93fbd_row2_col2, #T_93fbd_row2_col3, #T_93fbd_row2_col4, #T_93fbd_row3_col0, #T_93fbd_row3_col1, #T_93fbd_row3_col2, #T_93fbd_row3_col3, #T_93fbd_row3_col4, #T_93fbd_row4_col0, #T_93fbd_row4_col1, #T_93fbd_row4_col2, #T_93fbd_row4_col3, #T_93fbd_row4_col4, #T_93fbd_row5_col0, #T_93fbd_row5_col1, #T_93fbd_row5_col2, #T_93fbd_row5_col3, #T_93fbd_row5_col4, #T_93fbd_row6_col0, #T_93fbd_row6_col1, #T_93fbd_row6_col2, #T_93fbd_row6_col3, #T_93fbd_row6_col4, #T_93fbd_row7_col0, #T_93fbd_row7_col1, #T_93fbd_row7_col2, #T_93fbd_row7_col3, #T_93fbd_row7_col4, #T_93fbd_row8_col0, #T_93fbd_row8_col1, #T_93fbd_row8_col2, #T_93fbd_row8_col3, #T_93fbd_row8_col4, #T_93fbd_row9_col0, #T_93fbd_row9_col1, #T_93fbd_row9_col2, #T_93fbd_row9_col3, #T_93fbd_row9_col4, #T_93fbd_row10_col0, #T_93fbd_row10_col1, #T_93fbd_row10_col2, #T_93fbd_row10_col3, #T_93fbd_row10_col4, #T_93fbd_row11_col0, #T_93fbd_row11_col1, #T_93fbd_row11_col2, #T_93fbd_row11_col3, #T_93fbd_row11_col4, #T_93fbd_row12_col0, #T_93fbd_row12_col1, #T_93fbd_row12_col2, #T_93fbd_row12_col3, #T_93fbd_row12_col4, #T_93fbd_row13_col0, #T_93fbd_row13_col1, #T_93fbd_row13_col2, #T_93fbd_row13_col3, #T_93fbd_row13_col4, #T_93fbd_row14_col0, #T_93fbd_row14_col1, #T_93fbd_row14_col2, #T_93fbd_row14_col3, #T_93fbd_row14_col4, #T_93fbd_row15_col0, #T_93fbd_row15_col1, #T_93fbd_row15_col2, #T_93fbd_row15_col3, #T_93fbd_row15_col4 {\n",
       "  text-align: left;\n",
       "}\n",
       "</style>\n",
       "<table id=\"T_93fbd\" class=\"display nowrap\"style=\"table-layout:auto;width:auto;margin:auto;caption-side:bottom\">\n",
       "  <caption>Registered Callbacks</caption>\n",
       "  <thead>\n",
       "    <tr>\n",
       "      <th id=\"T_93fbd_level0_col0\" class=\"col_heading level0 col0\" >name</th>\n",
       "      <th id=\"T_93fbd_level0_col1\" class=\"col_heading level0 col1\" >function</th>\n",
       "      <th id=\"T_93fbd_level0_col2\" class=\"col_heading level0 col2\" >input_schema</th>\n",
       "      <th id=\"T_93fbd_level0_col3\" class=\"col_heading level0 col3\" >output_schema</th>\n",
       "      <th id=\"T_93fbd_level0_col4\" class=\"col_heading level0 col4\" >type</th>\n",
       "    </tr>\n",
       "  </thead>\n",
       "  <tbody>\n",
       "    <tr>\n",
       "      <td id=\"T_93fbd_row0_col0\" class=\"data row0 col0\" >print</td>\n",
       "      <td id=\"T_93fbd_row0_col1\" class=\"data row0 col1\" >print_ie</td>\n",
       "      <td id=\"T_93fbd_row0_col2\" class=\"data row0 col2\" >object_arity</td>\n",
       "      <td id=\"T_93fbd_row0_col3\" class=\"data row0 col3\" >['object']</td>\n",
       "      <td id=\"T_93fbd_row0_col4\" class=\"data row0 col4\" >IE Function</td>\n",
       "    </tr>\n",
       "    <tr>\n",
       "      <td id=\"T_93fbd_row1_col0\" class=\"data row1 col0\" >rgx</td>\n",
       "      <td id=\"T_93fbd_row1_col1\" class=\"data row1 col1\" >rgx</td>\n",
       "      <td id=\"T_93fbd_row1_col2\" class=\"data row1 col2\" >['str', ('str', 'Span')]</td>\n",
       "      <td id=\"T_93fbd_row1_col3\" class=\"data row1 col3\" >span_arity</td>\n",
       "      <td id=\"T_93fbd_row1_col4\" class=\"data row1 col4\" >IE Function</td>\n",
       "    </tr>\n",
       "    <tr>\n",
       "      <td id=\"T_93fbd_row2_col0\" class=\"data row2 col0\" >rgx_split</td>\n",
       "      <td id=\"T_93fbd_row2_col1\" class=\"data row2 col1\" >rgx_split</td>\n",
       "      <td id=\"T_93fbd_row2_col2\" class=\"data row2 col2\" >['str', ('str', 'Span')]</td>\n",
       "      <td id=\"T_93fbd_row2_col3\" class=\"data row2 col3\" >['Span', 'Span']</td>\n",
       "      <td id=\"T_93fbd_row2_col4\" class=\"data row2 col4\" >IE Function</td>\n",
       "    </tr>\n",
       "    <tr>\n",
       "      <td id=\"T_93fbd_row3_col0\" class=\"data row3 col0\" >rgx_is_match</td>\n",
       "      <td id=\"T_93fbd_row3_col1\" class=\"data row3 col1\" >rgx_is_match</td>\n",
       "      <td id=\"T_93fbd_row3_col2\" class=\"data row3 col2\" >['str', ('str', 'Span')]</td>\n",
       "      <td id=\"T_93fbd_row3_col3\" class=\"data row3 col3\" >['bool']</td>\n",
       "      <td id=\"T_93fbd_row3_col4\" class=\"data row3 col4\" >IE Function</td>\n",
       "    </tr>\n",
       "    <tr>\n",
       "      <td id=\"T_93fbd_row4_col0\" class=\"data row4 col0\" >expr_eval</td>\n",
       "      <td id=\"T_93fbd_row4_col1\" class=\"data row4 col1\" >expr_eval</td>\n",
       "      <td id=\"T_93fbd_row4_col2\" class=\"data row4 col2\" >object_arity</td>\n",
       "      <td id=\"T_93fbd_row4_col3\" class=\"data row4 col3\" >['object']</td>\n",
       "      <td id=\"T_93fbd_row4_col4\" class=\"data row4 col4\" >IE Function</td>\n",
       "    </tr>\n",
       "    <tr>\n",
       "      <td id=\"T_93fbd_row5_col0\" class=\"data row5 col0\" >not</td>\n",
       "      <td id=\"T_93fbd_row5_col1\" class=\"data row5 col1\" >not_ie</td>\n",
       "      <td id=\"T_93fbd_row5_col2\" class=\"data row5 col2\" >['bool']</td>\n",
       "      <td id=\"T_93fbd_row5_col3\" class=\"data row5 col3\" >['bool']</td>\n",
       "      <td id=\"T_93fbd_row5_col4\" class=\"data row5 col4\" >IE Function</td>\n",
       "    </tr>\n",
       "    <tr>\n",
       "      <td id=\"T_93fbd_row6_col0\" class=\"data row6 col0\" >as_str</td>\n",
       "      <td id=\"T_93fbd_row6_col1\" class=\"data row6 col1\" >as_str</td>\n",
       "      <td id=\"T_93fbd_row6_col2\" class=\"data row6 col2\" >['object']</td>\n",
       "      <td id=\"T_93fbd_row6_col3\" class=\"data row6 col3\" >['str']</td>\n",
       "      <td id=\"T_93fbd_row6_col4\" class=\"data row6 col4\" >IE Function</td>\n",
       "    </tr>\n",
       "    <tr>\n",
       "      <td id=\"T_93fbd_row7_col0\" class=\"data row7 col0\" >span_contained</td>\n",
       "      <td id=\"T_93fbd_row7_col1\" class=\"data row7 col1\" >span_contained</td>\n",
       "      <td id=\"T_93fbd_row7_col2\" class=\"data row7 col2\" >['Span', 'Span']</td>\n",
       "      <td id=\"T_93fbd_row7_col3\" class=\"data row7 col3\" >['bool']</td>\n",
       "      <td id=\"T_93fbd_row7_col4\" class=\"data row7 col4\" >IE Function</td>\n",
       "    </tr>\n",
       "    <tr>\n",
       "      <td id=\"T_93fbd_row8_col0\" class=\"data row8 col0\" >deconstruct_span</td>\n",
       "      <td id=\"T_93fbd_row8_col1\" class=\"data row8 col1\" >deconstruct_span</td>\n",
       "      <td id=\"T_93fbd_row8_col2\" class=\"data row8 col2\" >['Span']</td>\n",
       "      <td id=\"T_93fbd_row8_col3\" class=\"data row8 col3\" >['str', 'int', 'int']</td>\n",
       "      <td id=\"T_93fbd_row8_col4\" class=\"data row8 col4\" >IE Function</td>\n",
       "    </tr>\n",
       "    <tr>\n",
       "      <td id=\"T_93fbd_row9_col0\" class=\"data row9 col0\" >read</td>\n",
       "      <td id=\"T_93fbd_row9_col1\" class=\"data row9 col1\" >read</td>\n",
       "      <td id=\"T_93fbd_row9_col2\" class=\"data row9 col2\" >['str']</td>\n",
       "      <td id=\"T_93fbd_row9_col3\" class=\"data row9 col3\" >['str']</td>\n",
       "      <td id=\"T_93fbd_row9_col4\" class=\"data row9 col4\" >IE Function</td>\n",
       "    </tr>\n",
       "    <tr>\n",
       "      <td id=\"T_93fbd_row10_col0\" class=\"data row10 col0\" >read_span</td>\n",
       "      <td id=\"T_93fbd_row10_col1\" class=\"data row10 col1\" >read_span</td>\n",
       "      <td id=\"T_93fbd_row10_col2\" class=\"data row10 col2\" >['str']</td>\n",
       "      <td id=\"T_93fbd_row10_col3\" class=\"data row10 col3\" >['Span']</td>\n",
       "      <td id=\"T_93fbd_row10_col4\" class=\"data row10 col4\" >IE Function</td>\n",
       "    </tr>\n",
       "    <tr>\n",
       "      <td id=\"T_93fbd_row11_col0\" class=\"data row11 col0\" >count</td>\n",
       "      <td id=\"T_93fbd_row11_col1\" class=\"data row11 col1\" >count</td>\n",
       "      <td id=\"T_93fbd_row11_col2\" class=\"data row11 col2\" >['object']</td>\n",
       "      <td id=\"T_93fbd_row11_col3\" class=\"data row11 col3\" >['int']</td>\n",
       "      <td id=\"T_93fbd_row11_col4\" class=\"data row11 col4\" >Aggregation Function</td>\n",
       "    </tr>\n",
       "    <tr>\n",
       "      <td id=\"T_93fbd_row12_col0\" class=\"data row12 col0\" >sum</td>\n",
       "      <td id=\"T_93fbd_row12_col1\" class=\"data row12 col1\" >sum</td>\n",
       "      <td id=\"T_93fbd_row12_col2\" class=\"data row12 col2\" >['Real']</td>\n",
       "      <td id=\"T_93fbd_row12_col3\" class=\"data row12 col3\" >['Real']</td>\n",
       "      <td id=\"T_93fbd_row12_col4\" class=\"data row12 col4\" >Aggregation Function</td>\n",
       "    </tr>\n",
       "    <tr>\n",
       "      <td id=\"T_93fbd_row13_col0\" class=\"data row13 col0\" >avg</td>\n",
       "      <td id=\"T_93fbd_row13_col1\" class=\"data row13 col1\" >avg</td>\n",
       "      <td id=\"T_93fbd_row13_col2\" class=\"data row13 col2\" >['Real']</td>\n",
       "      <td id=\"T_93fbd_row13_col3\" class=\"data row13 col3\" >['Real']</td>\n",
       "      <td id=\"T_93fbd_row13_col4\" class=\"data row13 col4\" >Aggregation Function</td>\n",
       "    </tr>\n",
       "    <tr>\n",
       "      <td id=\"T_93fbd_row14_col0\" class=\"data row14 col0\" >max</td>\n",
       "      <td id=\"T_93fbd_row14_col1\" class=\"data row14 col1\" >max</td>\n",
       "      <td id=\"T_93fbd_row14_col2\" class=\"data row14 col2\" >['Real']</td>\n",
       "      <td id=\"T_93fbd_row14_col3\" class=\"data row14 col3\" >['Real']</td>\n",
       "      <td id=\"T_93fbd_row14_col4\" class=\"data row14 col4\" >Aggregation Function</td>\n",
       "    </tr>\n",
       "    <tr>\n",
       "      <td id=\"T_93fbd_row15_col0\" class=\"data row15 col0\" >min</td>\n",
       "      <td id=\"T_93fbd_row15_col1\" class=\"data row15 col1\" >min</td>\n",
       "      <td id=\"T_93fbd_row15_col2\" class=\"data row15 col2\" >['Real']</td>\n",
       "      <td id=\"T_93fbd_row15_col3\" class=\"data row15 col3\" >['Real']</td>\n",
       "      <td id=\"T_93fbd_row15_col4\" class=\"data row15 col4\" >Aggregation Function</td>\n",
       "    </tr>\n",
       "  </tbody>\n",
       "</table>\n",
       "\n",
       "<link href=\"https://www.unpkg.com/dt_for_itables@2.0.11/dt_bundle.css\" rel=\"stylesheet\">\n",
       "<script type=\"module\">\n",
       "    import {DataTable, jQuery as $} from 'https://www.unpkg.com/dt_for_itables@2.0.11/dt_bundle.js';\n",
       "\n",
       "    document.querySelectorAll(\"#T_93fbd:not(.dataTable)\").forEach(table => {\n",
       "        // Define the table data\n",
       "        \n",
       "\n",
       "        // Define the dt_args\n",
       "        let dt_args = {\"paging\": false, \"layout\": {\"topStart\": \"pageLength\", \"topEnd\": \"search\", \"bottomStart\": \"info\", \"bottomEnd\": \"paging\"}, \"display_logo_when_loading\": true, \"order\": []};\n",
       "        \n",
       "\n",
       "        \n",
       "        new DataTable(table, dt_args);\n",
       "    });\n",
       "</script>\n"
      ],
      "text/plain": [
       "<IPython.core.display.HTML object>"
      ]
     },
     "metadata": {},
     "output_type": "display_data"
    }
   ],
   "source": [
    "#| echo: false\n",
    "df = visualize_callback_df()\n",
    "show(df,paging=False)"
   ]
  },
  {
   "cell_type": "code",
   "execution_count": null,
   "metadata": {},
   "outputs": [],
   "source": [
    "#|hide\n",
    "import nbdev; nbdev.nbdev_export()\n",
    "     "
   ]
  }
 ],
 "metadata": {
  "kernelspec": {
   "display_name": "python3",
   "language": "python",
   "name": "python3"
  }
 },
 "nbformat": 4,
 "nbformat_minor": 4
}
