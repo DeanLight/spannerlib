{
 "cells": [
  {
   "cell_type": "markdown",
   "metadata": {},
   "source": [
    "# Optimizations Passes\n",
    "> This file contains implementation of passes that optimize the term graph structure."
   ]
  },
  {
   "cell_type": "markdown",
   "metadata": {},
   "source": [
    "::: {.callout-note}\n",
    "Note that these passes depend on the structure of the term graph!\n",
    ":::"
   ]
  },
  {
   "cell_type": "code",
   "execution_count": null,
   "metadata": {},
   "outputs": [],
   "source": [
    "#| default_exp opt"
   ]
  },
  {
   "cell_type": "code",
   "execution_count": null,
   "metadata": {},
   "outputs": [],
   "source": [
    "#| hide\n",
    "from __future__ import annotations"
   ]
  },
  {
   "cell_type": "code",
   "execution_count": null,
   "metadata": {},
   "outputs": [],
   "source": [
    "#| hide\n",
    "from nbdev.showdoc import show_doc\n",
    "from IPython.display import display, HTML\n",
    "%load_ext autoreload\n",
    "%autoreload 2"
   ]
  },
  {
   "cell_type": "code",
   "execution_count": null,
   "metadata": {},
   "outputs": [],
   "source": [
    "#| export\n",
    "# TODO imports"
   ]
  },
  {
   "cell_type": "code",
   "execution_count": null,
   "metadata": {},
   "outputs": [],
   "source": [
    "# TODO here we will implement query optimizations as graph rewriting rules\n",
    "\n",
    "# Then we will add optimization capabilities to the engine/session probably engine with an interface to session\n",
    "\n",
    "# we will have 2 types of optimizations:\n",
    "# global optimizations\n",
    "    # applied to the term graph after every new rule is added\n",
    "    # need to make sure that they dont break under adding/removing rules\n",
    "# query specific optimizations\n",
    "    # only added to the query graph\n",
    "    # dont have the restriction of global optimizations\n",
    "\n",
    "# optimizations will look like the form of graph rewriting rules in the micro passes, meaning they are of the form:\n",
    "    # F:(g,engine)->g\n",
    "    "
   ]
  },
  {
   "cell_type": "code",
   "execution_count": null,
   "metadata": {},
   "outputs": [],
   "source": [
    "# TODO\n",
    "# to get started, implement the following 2 optimization passes and make sure that all tests in the package pass if you apply them by default \n",
    "# when creating a new session object \n",
    "\n",
    "# prune uncessary projects and renames\n",
    "    # whenever there is a project/rename node whose input in a node with the same schema, merge them\n",
    "# remove useless body clauses\n",
    "    # for example `A(X) <- B(X), C(Y)` can be simplified to `A(X) <- B(X)`  this is unless they want to not derive anything if C is empty\n",
    "    # note that this is not like A(X) <- B(X), C(1), in which case we will derive if 1 is in C and not else. This could be a usefull data dependant switch case pattern we might want to use\n",
    "    # so whenever you have a non constant body clause that has a variable that is not used by any other body or head clause, remove it"
   ]
  },
  {
   "cell_type": "code",
   "execution_count": null,
   "metadata": {},
   "outputs": [],
   "source": [
    "#|hide\n",
    "import nbdev; nbdev.nbdev_export()\n",
    "     "
   ]
  }
 ],
 "metadata": {
  "kernelspec": {
   "display_name": "python3",
   "language": "python",
   "name": "python3"
  }
 },
 "nbformat": 4,
 "nbformat_minor": 4
}
