{
 "cells": [
  {
   "cell_type": "markdown",
   "metadata": {},
   "source": [
    "# Term Graphs\n",
    "> Term graphs that encode logic of rules as graphs over RA operators and ie function executions"
   ]
  },
  {
   "cell_type": "code",
   "execution_count": null,
   "metadata": {},
   "outputs": [],
   "source": [
    "#| default_exp term_graph"
   ]
  },
  {
   "cell_type": "code",
   "execution_count": null,
   "metadata": {},
   "outputs": [],
   "source": [
    "#| hide\n",
    "from nbdev.showdoc import show_doc\n",
    "\n",
    "%load_ext autoreload\n",
    "%autoreload 2"
   ]
  },
  {
   "cell_type": "code",
   "execution_count": null,
   "metadata": {},
   "outputs": [],
   "source": [
    "#| export\n",
    "\n",
    "from IPython.display import display\n",
    "import pandas as pd\n",
    "import os\n",
    "import networkx as nx\n",
    "import itertools\n",
    "import logging\n",
    "import pytest\n",
    "from collections import defaultdict\n",
    "logger = logging.getLogger(__name__)\n",
    "\n",
    "from graph_rewrite import draw\n",
    "\n",
    "from spannerlib.utils import checkLogs,serialize_df_values,serialize_graph,get_new_node_name\n",
    "from spannerlib.span import Span\n",
    "from spannerlib.ra import equalConstTheta,equalColTheta\n",
    "from spannerlib.data_types import (\n",
    "    _infer_relation_schema,\n",
    "    Var,\n",
    "    FreeVar,\n",
    "    RelationDefinition,\n",
    "    Relation,\n",
    "    IEFunction,\n",
    "    IERelation,\n",
    "    Rule,\n",
    "    pretty,\n",
    ")\n",
    "\n",
    "from spannerlib.ra import _col_names\n"
   ]
  },
  {
   "cell_type": "markdown",
   "metadata": {},
   "source": [
    "Here we have functions for manipulating rules into term graphs"
   ]
  },
  {
   "cell_type": "markdown",
   "metadata": {},
   "source": [
    "### Adding constant terms to term graph"
   ]
  },
  {
   "cell_type": "code",
   "execution_count": null,
   "metadata": {},
   "outputs": [],
   "source": [
    "#| export\n",
    "\n",
    "# utils for forming schema\n",
    "\n",
    "def _rename_schema(old_schema,pos_val_tuples):\n",
    "    try:\n",
    "        new_schema  = old_schema.copy()\n",
    "        for pos,val in pos_val_tuples:\n",
    "            new_schema[pos] = val\n",
    "    except KeyError as e:\n",
    "        logger.error(f\"Error renaming schema {old_schema} with position values {pos_val_tuples}: {e}\")\n",
    "    return new_schema\n",
    "\n",
    "def _join_schema(schema1,schema2):\n",
    "\n",
    "    new_schema = schema1.copy()\n",
    "    for s in schema2:\n",
    "        if s not in new_schema:\n",
    "            new_schema.append(s)\n",
    "    return new_schema"
   ]
  },
  {
   "cell_type": "code",
   "execution_count": null,
   "metadata": {},
   "outputs": [],
   "source": [
    "#| export\n",
    "def add_select_constants(g,source,terms):\n",
    "    \"\"\"\n",
    "    adds a select node as a father to source, with the constant terms defined in terms\n",
    "    if no constant terms are defined, does nothing\n",
    "    returns the select node if it was added or the source node if not\n",
    "\n",
    "\n",
    "    Example - R(X,3):\n",
    "    source <- select(theta(col1=3))\n",
    "    \"\"\"\n",
    "    need_select = any(not isinstance(term,FreeVar) for term in terms)\n",
    "    if not need_select:\n",
    "        return source\n",
    "    \n",
    "    select_pos_val = list()\n",
    "    for i,term in enumerate(terms):\n",
    "        if not isinstance(term,FreeVar):\n",
    "            select_pos_val.append((i,term))\n",
    "    \n",
    "    select_name = get_new_node_name(g)\n",
    "    schema = g.nodes[source]['schema']\n",
    "    g.add_node(select_name, op='select',theta=equalConstTheta(*select_pos_val),schema=schema)\n",
    "    g.add_edge(select_name,source)\n",
    "    return select_name\n",
    "\n",
    "def add_select_col_eq(g,source,terms):\n",
    "    \"\"\"\n",
    "    add nodes to filter source to include equality constraints between columns with the same free var\n",
    "    if no such constraints are defined, does nothing \n",
    "    returns the top most node if it was added or the source node if not\n",
    "\n",
    "    Example - R(X,Y,X):\n",
    "    source <- select(theta(col1=col3))\n",
    "    return project\n",
    "    \"\"\"\n",
    "    \n",
    "    # compute first position of each free var and store duplicates positions\n",
    "    first_positions = {}\n",
    "    duplicate_positions = defaultdict(list)\n",
    "    for i,term in enumerate(terms):\n",
    "        if isinstance(term,FreeVar):\n",
    "            if term.name in first_positions:\n",
    "                duplicate_positions[term.name].append(i)\n",
    "            else:\n",
    "                first_positions[term.name] = i\n",
    "\n",
    "    # if no duplicates do nothing\n",
    "    if len(duplicate_positions) == 0:\n",
    "        return source\n",
    "\n",
    "    # add equality constraints\n",
    "    equality_constraints = []\n",
    "    for duplicate_var,positions in duplicate_positions.items():\n",
    "        i = first_positions[duplicate_var]\n",
    "        for j in positions:\n",
    "            equality_constraints.append((i,j))\n",
    "\n",
    "\n",
    "    # override name so that select node remains the topmost node\n",
    "    select_node = get_new_node_name(g)\n",
    "    schema = g.nodes[source]['schema']\n",
    "    g.add_node(select_node, op='select',theta=equalColTheta(*equality_constraints),schema=schema)\n",
    "    g.add_edge(select_node,source)\n",
    "\n",
    "    return select_node\n",
    "\n",
    "\n",
    "def add_project_uniq_free_vars(g,source,terms):\n",
    "    \"\"\"\n",
    "    add a rename and a project node to leave only the first appearance of each free var in a relation\n",
    "    returns the project node if it was added or the source node if not\n",
    "\n",
    "    Example - R(X,Y,X,3):\n",
    "    source <- rename(names=[(1,X),(2,Y),(3,_F3),(4,_F4)]) <- project([X,Y])\n",
    "    return project\n",
    "    \"\"\"\n",
    "    seen_vars = []\n",
    "    uniq_names = []\n",
    "    for i,term in enumerate(terms):\n",
    "        if isinstance(term,FreeVar) and term.name not in seen_vars:\n",
    "            seen_vars.append(term.name)\n",
    "            uniq_names.append(term.name)\n",
    "        else:\n",
    "            uniq_names.append(f'_F{i}')\n",
    "\n",
    "    top_node = source\n",
    "    # rename  to have unique names\n",
    "    rename_node = get_new_node_name(g)\n",
    "    \n",
    "    source_schema = g.nodes[source]['schema'].copy()\n",
    "    schema = _rename_schema(source_schema,list(enumerate(uniq_names)))\n",
    "\n",
    "    g.add_node(rename_node, op='rename',schema=schema)\n",
    "    g.add_edge(rename_node,top_node)\n",
    "    top_node = rename_node\n",
    "    # project to keep only the first appearance of each free var\n",
    "    project_node = get_new_node_name(g)\n",
    "    g.add_node(project_node, op='project',schema=list(seen_vars))\n",
    "    g.add_edge(project_node,top_node)\n",
    "\n",
    "    return project_node\n",
    "\n",
    "def add_product_constants(g,source,terms):\n",
    "    \"\"\"\n",
    "    adds a product node as a father to source, with the constant terms defined in terms\n",
    "    if no constant terms are defined, does nothing\n",
    "    returns the product node if it was added or the source not if not\n",
    "\n",
    "    Example - F(X,3,Y,4)->(Z):\n",
    "    source                       <- product() <- project([X,_C1,Y,_C2])\n",
    "    get_const({'_C1':3,'_C2':4}) <- \n",
    "\n",
    "    example 2 - F(3,4)->(Z):\n",
    "        get_const({'_C1':3,'_C2':4})\n",
    "\n",
    "\n",
    "    \"\"\"\n",
    "    has_consts = any(not isinstance(term,FreeVar) for term in terms)\n",
    "    has_vars = any(isinstance(term,FreeVar) for term in terms)\n",
    "    if has_vars and not has_consts:\n",
    "        return source\n",
    "    \n",
    "\n",
    "    product_pos_val = list()\n",
    "    for i,term in enumerate(terms):\n",
    "        if not isinstance(term,FreeVar):\n",
    "            product_pos_val.append((i,term))\n",
    "    \n",
    "    const_dict = {f'_C{i}':val for i,val in product_pos_val}\n",
    "\n",
    "    const_node = get_new_node_name(g)\n",
    "    g.add_node(const_node, op='get_const',const_dict = const_dict,schema=list(const_dict.keys()))\n",
    "\n",
    "    if has_consts and not has_vars:\n",
    "        return const_node\n",
    "\n",
    "\n",
    "    product_node = get_new_node_name(g)\n",
    "    g.add_node(product_node, op='product',schema=g.nodes[source]['schema'] + g.nodes[const_node]['schema'])\n",
    "    g.add_edge(product_node,source)\n",
    "    g.add_edge(product_node,const_node)\n",
    "\n",
    "    project_node = get_new_node_name(g)\n",
    "    project_order = []\n",
    "    for i,term in enumerate(terms):\n",
    "        if isinstance(term,FreeVar):\n",
    "            project_order.append(term.name)\n",
    "        else:\n",
    "            project_order.append(f'_C{i}')\n",
    "    g.add_node(project_node, op='project',schema=project_order)\n",
    "    g.add_edge(project_node,product_node)\n",
    "    \n",
    "    return project_node\n",
    "\n"
   ]
  },
  {
   "cell_type": "markdown",
   "metadata": {},
   "source": [
    "#### Tests"
   ]
  },
  {
   "cell_type": "code",
   "execution_count": null,
   "metadata": {},
   "outputs": [
    {
     "data": {
      "text/html": [
       "<img src=\"https://mermaid.ink/img/CmZsb3djaGFydCBUQgpBWyJBCnNjaGVtYT1bI3F1b3Q7WCNxdW90OywgI3F1b3Q7WSNxdW90O10iXQowWyIwCm9wPSNxdW90O3NlbGVjdCNxdW90OywgdGhldGE9VGhldGEoY29sXzA9MSksIHNjaGVtYT1bI3F1b3Q7WCNxdW90OywgI3F1b3Q7WSNxdW90O10iXQowIC0tPiBBCg==\"/>"
      ],
      "text/plain": [
       "<IPython.core.display.Image object>"
      ]
     },
     "metadata": {},
     "output_type": "display_data"
    },
    {
     "data": {
      "text/html": [
       "<img src=\"https://mermaid.ink/img/CmZsb3djaGFydCBUQgpBWyJBCnNjaGVtYT1bI3F1b3Q7WCNxdW90OywgI3F1b3Q7WSNxdW90O10iXQowWyIwCm9wPSNxdW90O3NlbGVjdCNxdW90OywgdGhldGE9VGhldGEoY29sXzA9Y29sXzIsIGNvbF8wPWNvbF8zKSwgc2NoZW1hPVsjcXVvdDtYI3F1b3Q7LCAjcXVvdDtZI3F1b3Q7XSJdCjAgLS0+IEEK\"/>"
      ],
      "text/plain": [
       "<IPython.core.display.Image object>"
      ]
     },
     "metadata": {},
     "output_type": "display_data"
    },
    {
     "data": {
      "text/html": [
       "<img src=\"https://mermaid.ink/img/CmZsb3djaGFydCBUQgpBWyJBCnNjaGVtYT1bI3F1b3Q7WCNxdW90OywgI3F1b3Q7WSNxdW90O10iXQowWyIwCm9wPSNxdW90O3JlbmFtZSNxdW90Oywgc2NoZW1hPVsjcXVvdDtYI3F1b3Q7LCAjcXVvdDtZI3F1b3Q7XSJdCjFbIjEKb3A9I3F1b3Q7cHJvamVjdCNxdW90Oywgc2NoZW1hPVsjcXVvdDtYI3F1b3Q7LCAjcXVvdDtZI3F1b3Q7XSJdCjAgLS0+IEEKMSAtLT4gMAo=\"/>"
      ],
      "text/plain": [
       "<IPython.core.display.Image object>"
      ]
     },
     "metadata": {},
     "output_type": "display_data"
    },
    {
     "data": {
      "text/html": [
       "<img src=\"https://mermaid.ink/img/CmZsb3djaGFydCBUQgpBWyJBCnNjaGVtYT1bI3F1b3Q7WCNxdW90OywgI3F1b3Q7WSNxdW90OywgI3F1b3Q7WiNxdW90O10iXQowWyIwCm9wPSNxdW90O3JlbmFtZSNxdW90Oywgc2NoZW1hPVsjcXVvdDtYI3F1b3Q7LCAjcXVvdDtZI3F1b3Q7LCAjcXVvdDtfRjIjcXVvdDtdIl0KMVsiMQpvcD0jcXVvdDtwcm9qZWN0I3F1b3Q7LCBzY2hlbWE9WyNxdW90O1gjcXVvdDssICNxdW90O1kjcXVvdDtdIl0KMCAtLT4gQQoxIC0tPiAwCg==\"/>"
      ],
      "text/plain": [
       "<IPython.core.display.Image object>"
      ]
     },
     "metadata": {},
     "output_type": "display_data"
    },
    {
     "data": {
      "text/html": [
       "<img src=\"https://mermaid.ink/img/CmZsb3djaGFydCBUQgpBWyJBCnNjaGVtYT1bI3F1b3Q7WCNxdW90OywgI3F1b3Q7WSNxdW90OywgI3F1b3Q7WiNxdW90OywgI3F1b3Q7VCNxdW90O10iXQowWyIwCm9wPSNxdW90O3JlbmFtZSNxdW90Oywgc2NoZW1hPVsjcXVvdDtYI3F1b3Q7LCAjcXVvdDtZI3F1b3Q7LCAjcXVvdDtfRjIjcXVvdDssICNxdW90O19GMyNxdW90O10iXQoxWyIxCm9wPSNxdW90O3Byb2plY3QjcXVvdDssIHNjaGVtYT1bI3F1b3Q7WCNxdW90OywgI3F1b3Q7WSNxdW90O10iXQowIC0tPiBBCjEgLS0+IDAK\"/>"
      ],
      "text/plain": [
       "<IPython.core.display.Image object>"
      ]
     },
     "metadata": {},
     "output_type": "display_data"
    },
    {
     "data": {
      "text/html": [
       "<img src=\"https://mermaid.ink/img/CmZsb3djaGFydCBUQgpBWyJBCnNjaGVtYT1bI3F1b3Q7WCNxdW90OywgI3F1b3Q7WSNxdW90OywgI3F1b3Q7WiNxdW90O10iXQowWyIwCm9wPSNxdW90O2dldF9jb25zdCNxdW90OywgY29uc3RfZGljdD17I3F1b3Q7X0MxI3F1b3Q7OiAxLCAjcXVvdDtfQzMjcXVvdDs6IDJ9LCBzY2hlbWE9WyNxdW90O19DMSNxdW90OywgI3F1b3Q7X0MzI3F1b3Q7XSJdCjFbIjEKb3A9I3F1b3Q7cHJvZHVjdCNxdW90Oywgc2NoZW1hPVsjcXVvdDtYI3F1b3Q7LCAjcXVvdDtZI3F1b3Q7LCAjcXVvdDtaI3F1b3Q7LCAjcXVvdDtfQzEjcXVvdDssICNxdW90O19DMyNxdW90O10iXQoyWyIyCm9wPSNxdW90O3Byb2plY3QjcXVvdDssIHNjaGVtYT1bI3F1b3Q7WCNxdW90OywgI3F1b3Q7X0MxI3F1b3Q7LCAjcXVvdDtZI3F1b3Q7LCAjcXVvdDtfQzMjcXVvdDtdIl0KMSAtLT4gQQoxIC0tPiAwCjIgLS0+IDEK\"/>"
      ],
      "text/plain": [
       "<IPython.core.display.Image object>"
      ]
     },
     "metadata": {},
     "output_type": "display_data"
    },
    {
     "data": {
      "text/html": [
       "<img src=\"https://mermaid.ink/img/CmZsb3djaGFydCBUQgowWyIwCm9wPSNxdW90O2dldF9jb25zdCNxdW90OywgY29uc3RfZGljdD17I3F1b3Q7X0MwI3F1b3Q7OiAxLCAjcXVvdDtfQzEjcXVvdDs6IDIsICNxdW90O19DMiNxdW90OzogM30sIHNjaGVtYT1bI3F1b3Q7X0MwI3F1b3Q7LCAjcXVvdDtfQzEjcXVvdDssICNxdW90O19DMiNxdW90O10iXQo=\"/>"
      ],
      "text/plain": [
       "<IPython.core.display.Image object>"
      ]
     },
     "metadata": {},
     "output_type": "display_data"
    }
   ],
   "source": [
    "# constants\n",
    "g = nx.DiGraph()\n",
    "g.add_node('A',schema=['X','Y'])\n",
    "\n",
    "add_select_constants(g,'A',[1,FreeVar(name='X')])\n",
    "draw(g)\n",
    "\n",
    "# equal free vars\n",
    "g = nx.DiGraph()\n",
    "g.add_node('A',schema=['X','Y'])\n",
    "\n",
    "add_select_col_eq(g,'A',[FreeVar(name='X'),FreeVar(name='Y'),FreeVar(name='X'),FreeVar(name='X')])\n",
    "draw(g)\n",
    "\n",
    "# project uniq free vars - no need \n",
    "g = nx.DiGraph()\n",
    "g.add_node('A',schema=['X','Y'])\n",
    "\n",
    "add_project_uniq_free_vars(g,'A',[FreeVar(name='X'),FreeVar(name='Y')])\n",
    "draw(g)\n",
    "\n",
    "# project uniq free vars - constants \n",
    "g = nx.DiGraph()\n",
    "g.add_node('A',schema=['X','Y','Z'])\n",
    "\n",
    "\n",
    "add_project_uniq_free_vars(g,'A',[FreeVar(name='X'),FreeVar(name='Y'),2])\n",
    "draw(g)\n",
    "\n",
    "# project uniq free vars\n",
    "g = nx.DiGraph()\n",
    "g.add_node('A',schema=['X','Y','Z','T'])\n",
    "\n",
    "add_project_uniq_free_vars(g,'A',[FreeVar(name='X'),FreeVar(name='Y'),FreeVar(name='X'),1])\n",
    "draw(g)\n",
    "\n",
    "g = nx.DiGraph()\n",
    "g.add_node('A',schema=['X','Y','Z'])\n",
    "\n",
    "add_product_constants(g,'A',[FreeVar(name='X'),1,FreeVar(name='Y'),2])\n",
    "draw(g)\n",
    "\n",
    "g = nx.DiGraph()\n",
    "\n",
    "add_product_constants(g,None,[1,2,3])\n",
    "draw(g)"
   ]
  },
  {
   "cell_type": "markdown",
   "metadata": {},
   "source": [
    "### Adding body relations"
   ]
  },
  {
   "cell_type": "code",
   "execution_count": null,
   "metadata": {},
   "outputs": [],
   "source": [
    "#| export\n",
    "def mask_terms(terms,mask):\n",
    "    if mask is None:\n",
    "        return terms\n",
    "    if not len(mask) == len(terms):\n",
    "        raise ValueError(f'mask_constant_select should have the same length as the relation terms, got terms={terms},mask={mask}')\n",
    "    return [term if not mask[i] else FreeVar(name='_F{i}') for i,term in enumerate(terms)]\n",
    "\n",
    "def add_relation(g,terms,name=None,source=None,mask_constant_select=None):\n",
    "    \"\"\"\n",
    "    adds a relation to the graph\n",
    "    WLOG a relation of the form R(X,Y,const)\n",
    "    should be of the abstract form get(R)<-rename(0:X,1:Y)<-select(2:const)<-project([X,Y])\n",
    "    if source is not None, source replaces get(R)\n",
    "    returns (top most node, bottom most node) \n",
    "    \"\"\"\n",
    "    if source is None:\n",
    "        rel_schema = _col_names(len(terms))\n",
    "        g.add_node(name,rel=name,schema=rel_schema)\n",
    "        source = name\n",
    "        rename_node = get_new_node_name(g)\n",
    "\n",
    "        # rename_schema = _rename_schema(rel_schema,[(i,term.name) for i,term in enumerate(terms) if isinstance(term,FreeVar)])\n",
    "        # g.add_node(rename_node, op='rename',schema=rename_schema)\n",
    "        # g.add_edge(rename_node,source)\n",
    "        # source = rename_node\n",
    "\n",
    "    # select on constant terms\n",
    "    select_constant_terms = mask_terms(terms,mask_constant_select)\n",
    "    select_node = add_select_constants(g,source,select_constant_terms)\n",
    "\n",
    "    # add select on equal free vars assignments for freevars with the same name\n",
    "    select_node = add_select_col_eq(g,select_node,terms)\n",
    "\n",
    "    project_node = add_project_uniq_free_vars(g,select_node,terms)\n",
    "\n",
    "    \n",
    "    return (project_node,source)\n",
    "\n"
   ]
  },
  {
   "cell_type": "code",
   "execution_count": null,
   "metadata": {},
   "outputs": [],
   "source": [
    "#| export\n",
    "def add_ie_relation(g,rel):\n",
    "    \"\"\"\n",
    "    adds an ie relation to the graph\n",
    "    WLOG a relation of the form f(X,Y,c1)->(Z,X,c2)\n",
    "    should be of the abstract form \n",
    "    project(X,Y)          <- product()<-project([X,Y,_C2])<-ie_map(f)<-select(col_5==c2)<-select(col_0==col_4)<-rename(0:X,1:Y,3:Z)<-project([X,Y,Z])\n",
    "    get_const({'_C2':c1}) <-\n",
    "    returns (top most node, bottom most node)\n",
    "    \"\"\"\n",
    "    ie_has_variable_inputs = any(isinstance(term,FreeVar) for term in rel.in_terms)\n",
    "    if ie_has_variable_inputs:\n",
    "        project_input_vars = get_new_node_name(g)\n",
    "        schema = [term.name for term in rel.in_terms if isinstance(term,FreeVar)]\n",
    "        g.add_node(project_input_vars, op='project',schema=schema)\n",
    "    else:\n",
    "        project_input_vars = None\n",
    "    product_node = add_product_constants(g,project_input_vars,rel.in_terms)\n",
    "    ie_map_node = get_new_node_name(g)\n",
    "\n",
    "    combined_schema = _col_names(len(rel.in_terms)+len(rel.out_terms))\n",
    "\n",
    "    g.add_node(ie_map_node, op='ie_map',func=rel.name,\n",
    "        in_arity=len(rel.in_terms),\n",
    "        out_arity=len(rel.out_terms),\n",
    "        schema=combined_schema)\n",
    "    g.add_edge(ie_map_node,product_node)\n",
    "    # we will get combined input+output relation from the ie map so now we reason based on it\n",
    "\n",
    "    combined_terms = rel.in_terms+rel.out_terms\n",
    "    # TODO add a naive rename node to rename the output variables so we can join input and output\n",
    "    rename_node = get_new_node_name(g)\n",
    "\n",
    "    rename_schema = _rename_schema(combined_schema,[(i,term.name) for i,term in enumerate(combined_terms) if isinstance(term,FreeVar)])\n",
    "    g.add_node(rename_node, op='rename',schema=rename_schema)\n",
    "    g.add_edge(rename_node,ie_map_node)\n",
    "\n",
    "    \n",
    "    # we only need to select on the output constants, since the input constants where generated via the product\n",
    "    # so we mask the input terms\n",
    "    mask_input_constants = [True]*len(rel.in_terms)+[False]*len(rel.out_terms)\n",
    "    top_node,_ = add_relation(g,terms=combined_terms,source=rename_node,mask_constant_select=mask_input_constants)\n",
    "\n",
    "    return top_node,project_input_vars\n"
   ]
  },
  {
   "cell_type": "markdown",
   "metadata": {},
   "source": [
    "#### Tests"
   ]
  },
  {
   "cell_type": "code",
   "execution_count": null,
   "metadata": {},
   "outputs": [
    {
     "data": {
      "text/html": [
       "<img src=\"https://mermaid.ink/img/CmZsb3djaGFydCBUQgpSWyJSCnJlbD0jcXVvdDtSI3F1b3Q7LCBzY2hlbWE9WyNxdW90O2NvbF8wI3F1b3Q7LCAjcXVvdDtjb2xfMSNxdW90OywgI3F1b3Q7Y29sXzIjcXVvdDtdIl0KMFsiMApvcD0jcXVvdDtzZWxlY3QjcXVvdDssIHRoZXRhPVRoZXRhKGNvbF8yPTEpLCBzY2hlbWE9WyNxdW90O2NvbF8wI3F1b3Q7LCAjcXVvdDtjb2xfMSNxdW90OywgI3F1b3Q7Y29sXzIjcXVvdDtdIl0KMVsiMQpvcD0jcXVvdDtyZW5hbWUjcXVvdDssIHNjaGVtYT1bI3F1b3Q7WCNxdW90OywgI3F1b3Q7WSNxdW90OywgI3F1b3Q7X0YyI3F1b3Q7XSJdCjJbIjIKb3A9I3F1b3Q7cHJvamVjdCNxdW90Oywgc2NoZW1hPVsjcXVvdDtYI3F1b3Q7LCAjcXVvdDtZI3F1b3Q7XSJdCjAgLS0+IFIKMSAtLT4gMAoyIC0tPiAxCg==\"/>"
      ],
      "text/plain": [
       "<IPython.core.display.Image object>"
      ]
     },
     "metadata": {},
     "output_type": "display_data"
    },
    {
     "data": {
      "text/plain": [
       "([('R', {'rel': 'R', 'schema': ['col_0', 'col_1', 'col_2']}),\n",
       "  (0,\n",
       "   {'op': 'select',\n",
       "    'theta': Theta(col_2=1),\n",
       "    'schema': ['col_0', 'col_1', 'col_2']}),\n",
       "  (1, {'op': 'rename', 'schema': ['X', 'Y', '_F2']}),\n",
       "  (2, {'op': 'project', 'schema': ['X', 'Y']})],\n",
       " [(0, 'R', {}), (1, 0, {}), (2, 1, {})])"
      ]
     },
     "execution_count": null,
     "metadata": {},
     "output_type": "execute_result"
    }
   ],
   "source": [
    "g=nx.DiGraph()\n",
    "add_relation(g,name='R',terms=[FreeVar(name='X'),FreeVar(name='Y'),1])\n",
    "draw(g)\n",
    "serialize_graph(g)\n",
    "# assert serialize_graph(g) == ([('R', {'rel': 'R'}),\n",
    "#   (0, {'op': 'rename', 'names': [(0, 'X'), (1, 'Y')]}),\n",
    "#   (1, {'op': 'select', 'theta': equalConstTheta((2,1))}),\n",
    "#   (2, {'op': 'rename', 'names': [(0, 'X'), (1, 'Y'), (2, '_F2')]}),\n",
    "#   (3, {'op': 'project', 'on': ['X', 'Y']})],\n",
    "#  [(0, 'R', {}), (1, 0, {}), (2, 1, {}), (3, 2, {})])\n",
    "\n",
    "# TODO add cases with free vars with the same name\n"
   ]
  },
  {
   "cell_type": "code",
   "execution_count": null,
   "metadata": {},
   "outputs": [
    {
     "data": {
      "text/html": [
       "<img src=\"https://mermaid.ink/img/CmZsb3djaGFydCBUQgpSWyJSCnJlbD0jcXVvdDtSI3F1b3Q7LCBzY2hlbWE9WyNxdW90O2NvbF8wI3F1b3Q7LCAjcXVvdDtjb2xfMSNxdW90O10iXQowWyIwCm9wPSNxdW90O3JlbmFtZSNxdW90Oywgc2NoZW1hPVsjcXVvdDtYI3F1b3Q7LCAjcXVvdDtZI3F1b3Q7XSJdCjFbIjEKb3A9I3F1b3Q7cHJvamVjdCNxdW90Oywgc2NoZW1hPVsjcXVvdDtYI3F1b3Q7LCAjcXVvdDtZI3F1b3Q7XSJdCjAgLS0+IFIKMSAtLT4gMAo=\"/>"
      ],
      "text/plain": [
       "<IPython.core.display.Image object>"
      ]
     },
     "metadata": {},
     "output_type": "display_data"
    },
    {
     "data": {
      "text/plain": [
       "([('R', {'rel': 'R', 'schema': ['col_0', 'col_1']}),\n",
       "  (0, {'op': 'rename', 'schema': ['X', 'Y']}),\n",
       "  (1, {'op': 'project', 'schema': ['X', 'Y']})],\n",
       " [(0, 'R', {}), (1, 0, {})])"
      ]
     },
     "execution_count": null,
     "metadata": {},
     "output_type": "execute_result"
    }
   ],
   "source": [
    "\n",
    "g=nx.DiGraph()\n",
    "add_relation(g,name='R',terms=[FreeVar(name='X'),FreeVar(name='Y')])\n",
    "draw(g)\n",
    "serialize_graph(g)\n",
    "# assert serialize_graph(g) == ([('R', {'rel': 'R'}), (0, {'op': 'rename', 'names': [(0, 'X'), (1, 'Y')]})],\n",
    "#  [(0, 'R', {})])\n",
    "\n"
   ]
  },
  {
   "cell_type": "code",
   "execution_count": null,
   "metadata": {},
   "outputs": [
    {
     "data": {
      "text/html": [
       "<img src=\"https://mermaid.ink/img/CmZsb3djaGFydCBUQgpSWyJSCnJlbD0jcXVvdDtSI3F1b3Q7LCBzY2hlbWE9WyNxdW90O2NvbF8wI3F1b3Q7LCAjcXVvdDtjb2xfMSNxdW90O10iXQowWyIwCm9wPSNxdW90O3NlbGVjdCNxdW90OywgdGhldGE9VGhldGEoY29sXzA9Y29sXzEpLCBzY2hlbWE9WyNxdW90O2NvbF8wI3F1b3Q7LCAjcXVvdDtjb2xfMSNxdW90O10iXQoxWyIxCm9wPSNxdW90O3JlbmFtZSNxdW90Oywgc2NoZW1hPVsjcXVvdDtYI3F1b3Q7LCAjcXVvdDtfRjEjcXVvdDtdIl0KMlsiMgpvcD0jcXVvdDtwcm9qZWN0I3F1b3Q7LCBzY2hlbWE9WyNxdW90O1gjcXVvdDtdIl0KMCAtLT4gUgoxIC0tPiAwCjIgLS0+IDEK\"/>"
      ],
      "text/plain": [
       "<IPython.core.display.Image object>"
      ]
     },
     "metadata": {},
     "output_type": "display_data"
    },
    {
     "data": {
      "text/plain": [
       "([('R', {'rel': 'R', 'schema': ['col_0', 'col_1']}),\n",
       "  (0,\n",
       "   {'op': 'select',\n",
       "    'theta': Theta(col_0=col_1),\n",
       "    'schema': ['col_0', 'col_1']}),\n",
       "  (1, {'op': 'rename', 'schema': ['X', '_F1']}),\n",
       "  (2, {'op': 'project', 'schema': ['X']})],\n",
       " [(0, 'R', {}), (1, 0, {}), (2, 1, {})])"
      ]
     },
     "execution_count": null,
     "metadata": {},
     "output_type": "execute_result"
    }
   ],
   "source": [
    "\n",
    "g=nx.DiGraph()\n",
    "add_relation(g,name='R',terms=[FreeVar(name='X'),FreeVar(name='X')])\n",
    "draw(g)\n",
    "serialize_graph(g)\n",
    "# assert serialize_graph(g) == ([('R', {'rel': 'R'}), (0, {'op': 'rename', 'names': [(0, 'X'), (1, 'Y')]})],\n",
    "#  [(0, 'R', {})])\n",
    "\n"
   ]
  },
  {
   "cell_type": "code",
   "execution_count": null,
   "metadata": {},
   "outputs": [
    {
     "data": {
      "text/html": [
       "<img src=\"https://mermaid.ink/img/CmZsb3djaGFydCBUQgpSWyJSCnJlbD0jcXVvdDtSI3F1b3Q7LCBzY2hlbWE9WyNxdW90O2NvbF8wI3F1b3Q7LCAjcXVvdDtjb2xfMSNxdW90OywgI3F1b3Q7Y29sXzIjcXVvdDssICNxdW90O2NvbF8zI3F1b3Q7LCAjcXVvdDtjb2xfNCNxdW90OywgI3F1b3Q7Y29sXzUjcXVvdDssICNxdW90O2NvbF82I3F1b3Q7XSJdCjBbIjAKb3A9I3F1b3Q7c2VsZWN0I3F1b3Q7LCB0aGV0YT1UaGV0YShjb2xfMT0zLCBjb2xfNj0yKSwgc2NoZW1hPVsjcXVvdDtjb2xfMCNxdW90OywgI3F1b3Q7Y29sXzEjcXVvdDssICNxdW90O2NvbF8yI3F1b3Q7LCAjcXVvdDtjb2xfMyNxdW90OywgI3F1b3Q7Y29sXzQjcXVvdDssICNxdW90O2NvbF81I3F1b3Q7LCAjcXVvdDtjb2xfNiNxdW90O10iXQoxWyIxCm9wPSNxdW90O3NlbGVjdCNxdW90OywgdGhldGE9VGhldGEoY29sXzA9Y29sXzMsIGNvbF8wPWNvbF80LCBjb2xfMj1jb2xfNSksIHNjaGVtYT1bI3F1b3Q7Y29sXzAjcXVvdDssICNxdW90O2NvbF8xI3F1b3Q7LCAjcXVvdDtjb2xfMiNxdW90OywgI3F1b3Q7Y29sXzMjcXVvdDssICNxdW90O2NvbF80I3F1b3Q7LCAjcXVvdDtjb2xfNSNxdW90OywgI3F1b3Q7Y29sXzYjcXVvdDtdIl0KMlsiMgpvcD0jcXVvdDtyZW5hbWUjcXVvdDssIHNjaGVtYT1bI3F1b3Q7WCNxdW90OywgI3F1b3Q7X0YxI3F1b3Q7LCAjcXVvdDtZI3F1b3Q7LCAjcXVvdDtfRjMjcXVvdDssICNxdW90O19GNCNxdW90OywgI3F1b3Q7X0Y1I3F1b3Q7LCAjcXVvdDtfRjYjcXVvdDtdIl0KM1siMwpvcD0jcXVvdDtwcm9qZWN0I3F1b3Q7LCBzY2hlbWE9WyNxdW90O1gjcXVvdDssICNxdW90O1kjcXVvdDtdIl0KMCAtLT4gUgoxIC0tPiAwCjIgLS0+IDEKMyAtLT4gMgo=\"/>"
      ],
      "text/plain": [
       "<IPython.core.display.Image object>"
      ]
     },
     "metadata": {},
     "output_type": "display_data"
    }
   ],
   "source": [
    "\n",
    "g=nx.DiGraph()\n",
    "add_relation(g,name='R',terms=[FreeVar(name='X'),3,FreeVar(name='Y'),FreeVar(name='X'),FreeVar(name='X'),FreeVar(name='Y'),2])\n",
    "draw(g)\n",
    "# assert serialize_graph(g) == ([('R', {'rel': 'R'}),\n",
    "#   (0,\n",
    "#    {'op': 'rename',\n",
    "#     'names': [(0, 'X'), (2, 'Y'), (3, 'X'), (4, 'X'), (5, 'Y')]}),\n",
    "#   (1, {'op': 'select', 'theta': equalConstTheta((1,3),(6,2))}),\n",
    "#   (2, {'op': 'select', 'theta': equalColTheta((0,3),(0,4),(2,5))}),\n",
    "#   (3,\n",
    "#    {'op': 'rename', 'names': [(0, 'X'),(1, '_F1'),(2, 'Y'),(3, '_F3'),(4, '_F4'),(5, '_F5'),(6, '_F6')]}),\n",
    "#   (4, {'op': 'project', 'on': ['X', 'Y']})],\n",
    "#  [(0, 'R', {}), (1, 0, {}), (2, 1, {}), (3, 2, {}), (4, 3, {})])\n"
   ]
  },
  {
   "cell_type": "code",
   "execution_count": null,
   "metadata": {},
   "outputs": [
    {
     "data": {
      "text/html": [
       "<img src=\"https://mermaid.ink/img/CmZsb3djaGFydCBUQgowWyIwCm9wPSNxdW90O3Byb2plY3QjcXVvdDssIHNjaGVtYT1bI3F1b3Q7WCNxdW90OywgI3F1b3Q7WSNxdW90O10iXQoxWyIxCm9wPSNxdW90O2dldF9jb25zdCNxdW90OywgY29uc3RfZGljdD17I3F1b3Q7X0MyI3F1b3Q7OiAxfSwgc2NoZW1hPVsjcXVvdDtfQzIjcXVvdDtdIl0KMlsiMgpvcD0jcXVvdDtwcm9kdWN0I3F1b3Q7LCBzY2hlbWE9WyNxdW90O1gjcXVvdDssICNxdW90O1kjcXVvdDssICNxdW90O19DMiNxdW90O10iXQozWyIzCm9wPSNxdW90O3Byb2plY3QjcXVvdDssIHNjaGVtYT1bI3F1b3Q7WCNxdW90OywgI3F1b3Q7WSNxdW90OywgI3F1b3Q7X0MyI3F1b3Q7XSJdCjRbIjQKb3A9I3F1b3Q7aWVfbWFwI3F1b3Q7LCBmdW5jPSNxdW90O2YjcXVvdDssIGluX2FyaXR5PTMsIG91dF9hcml0eT0zLCBzY2hlbWE9WyNxdW90O2NvbF8wI3F1b3Q7LCAjcXVvdDtjb2xfMSNxdW90OywgI3F1b3Q7Y29sXzIjcXVvdDssICNxdW90O2NvbF8zI3F1b3Q7LCAjcXVvdDtjb2xfNCNxdW90OywgI3F1b3Q7Y29sXzUjcXVvdDtdIl0KNVsiNQpvcD0jcXVvdDtyZW5hbWUjcXVvdDssIHNjaGVtYT1bI3F1b3Q7WCNxdW90OywgI3F1b3Q7WSNxdW90OywgI3F1b3Q7Y29sXzIjcXVvdDssICNxdW90O1ojcXVvdDssICNxdW90O1gjcXVvdDssICNxdW90O2NvbF81I3F1b3Q7XSJdCjZbIjYKb3A9I3F1b3Q7c2VsZWN0I3F1b3Q7LCB0aGV0YT1UaGV0YShjb2xfNT0yKSwgc2NoZW1hPVsjcXVvdDtYI3F1b3Q7LCAjcXVvdDtZI3F1b3Q7LCAjcXVvdDtjb2xfMiNxdW90OywgI3F1b3Q7WiNxdW90OywgI3F1b3Q7WCNxdW90OywgI3F1b3Q7Y29sXzUjcXVvdDtdIl0KN1siNwpvcD0jcXVvdDtzZWxlY3QjcXVvdDssIHRoZXRhPVRoZXRhKGNvbF8wPWNvbF80KSwgc2NoZW1hPVsjcXVvdDtYI3F1b3Q7LCAjcXVvdDtZI3F1b3Q7LCAjcXVvdDtjb2xfMiNxdW90OywgI3F1b3Q7WiNxdW90OywgI3F1b3Q7WCNxdW90OywgI3F1b3Q7Y29sXzUjcXVvdDtdIl0KOFsiOApvcD0jcXVvdDtyZW5hbWUjcXVvdDssIHNjaGVtYT1bI3F1b3Q7WCNxdW90OywgI3F1b3Q7WSNxdW90OywgI3F1b3Q7X0YyI3F1b3Q7LCAjcXVvdDtaI3F1b3Q7LCAjcXVvdDtfRjQjcXVvdDssICNxdW90O19GNSNxdW90O10iXQo5WyI5Cm9wPSNxdW90O3Byb2plY3QjcXVvdDssIHNjaGVtYT1bI3F1b3Q7WCNxdW90OywgI3F1b3Q7WSNxdW90OywgI3F1b3Q7WiNxdW90O10iXQoyIC0tPiAwCjIgLS0+IDEKMyAtLT4gMgo0IC0tPiAzCjUgLS0+IDQKNiAtLT4gNQo3IC0tPiA2CjggLS0+IDcKOSAtLT4gOAo=\"/>"
      ],
      "text/plain": [
       "<IPython.core.display.Image object>"
      ]
     },
     "metadata": {},
     "output_type": "display_data"
    }
   ],
   "source": [
    "g=nx.DiGraph()\n",
    "add_ie_relation(g,IERelation(name='f',in_terms=[FreeVar(name='X'),FreeVar(name='Y'),1],out_terms=[FreeVar(name='Z'),FreeVar(name='X'),2]))\n",
    "draw(g)\n",
    "# assert serialize_graph(g) == ([(0, {'op': 'project', 'on': ['X', 'Y']}),\n",
    "#   (1, {'op': 'get_const', 'const_dict': {'_C2': 1}}),\n",
    "#   (2, {'op': 'product'}),\n",
    "#   (3, {'op': 'project', 'on': ['X', 'Y', '_C2']}),\n",
    "#   (4,\n",
    "#    {'op': 'ie_map',\n",
    "#     'func': 'f',\n",
    "#     'in_arity': 3,\n",
    "#     'out_arity':3}),\n",
    "#   (5, {'op': 'select', 'theta': equalConstTheta((5, 2))}),\n",
    "#   (6, {'op': 'select', 'theta': equalColTheta((0,4))}),\n",
    "#   (7, {'op': 'rename', 'names': [(0, 'X'),\n",
    "#      (1, 'Y'),\n",
    "#      (2, '_F2'),\n",
    "#      (3, 'Z'),\n",
    "#      (4, '_F4'),\n",
    "#      (5, '_F5')]}),\n",
    "#   (8, {'op': 'project', 'on': ['X', 'Y', 'Z']})],\n",
    "#  [(2, 0, {}),\n",
    "#   (2, 1, {}),\n",
    "#   (3, 2, {}),\n",
    "#   (4, 3, {}),\n",
    "#   (5, 4, {}),\n",
    "#   (6, 5, {}),\n",
    "#   (7, 6, {}),\n",
    "#   (8, 7, {})])"
   ]
  },
  {
   "cell_type": "code",
   "execution_count": null,
   "metadata": {},
   "outputs": [
    {
     "data": {
      "text/html": [
       "<img src=\"https://mermaid.ink/img/CmZsb3djaGFydCBUQgowWyIwCm9wPSNxdW90O2dldF9jb25zdCNxdW90OywgY29uc3RfZGljdD17I3F1b3Q7X0MwI3F1b3Q7OiAxLCAjcXVvdDtfQzEjcXVvdDs6IDIsICNxdW90O19DMiNxdW90OzogM30sIHNjaGVtYT1bI3F1b3Q7X0MwI3F1b3Q7LCAjcXVvdDtfQzEjcXVvdDssICNxdW90O19DMiNxdW90O10iXQoxWyIxCm9wPSNxdW90O2llX21hcCNxdW90OywgZnVuYz0jcXVvdDtmI3F1b3Q7LCBpbl9hcml0eT0zLCBvdXRfYXJpdHk9Mywgc2NoZW1hPVsjcXVvdDtjb2xfMCNxdW90OywgI3F1b3Q7Y29sXzEjcXVvdDssICNxdW90O2NvbF8yI3F1b3Q7LCAjcXVvdDtjb2xfMyNxdW90OywgI3F1b3Q7Y29sXzQjcXVvdDssICNxdW90O2NvbF81I3F1b3Q7XSJdCjJbIjIKb3A9I3F1b3Q7cmVuYW1lI3F1b3Q7LCBzY2hlbWE9WyNxdW90O2NvbF8wI3F1b3Q7LCAjcXVvdDtjb2xfMSNxdW90OywgI3F1b3Q7Y29sXzIjcXVvdDssICNxdW90O1ojcXVvdDssICNxdW90O1gjcXVvdDssICNxdW90O2NvbF81I3F1b3Q7XSJdCjNbIjMKb3A9I3F1b3Q7c2VsZWN0I3F1b3Q7LCB0aGV0YT1UaGV0YShjb2xfNT0yKSwgc2NoZW1hPVsjcXVvdDtjb2xfMCNxdW90OywgI3F1b3Q7Y29sXzEjcXVvdDssICNxdW90O2NvbF8yI3F1b3Q7LCAjcXVvdDtaI3F1b3Q7LCAjcXVvdDtYI3F1b3Q7LCAjcXVvdDtjb2xfNSNxdW90O10iXQo0WyI0Cm9wPSNxdW90O3JlbmFtZSNxdW90Oywgc2NoZW1hPVsjcXVvdDtfRjAjcXVvdDssICNxdW90O19GMSNxdW90OywgI3F1b3Q7X0YyI3F1b3Q7LCAjcXVvdDtaI3F1b3Q7LCAjcXVvdDtYI3F1b3Q7LCAjcXVvdDtfRjUjcXVvdDtdIl0KNVsiNQpvcD0jcXVvdDtwcm9qZWN0I3F1b3Q7LCBzY2hlbWE9WyNxdW90O1ojcXVvdDssICNxdW90O1gjcXVvdDtdIl0KMSAtLT4gMAoyIC0tPiAxCjMgLS0+IDIKNCAtLT4gMwo1IC0tPiA0Cg==\"/>"
      ],
      "text/plain": [
       "<IPython.core.display.Image object>"
      ]
     },
     "metadata": {},
     "output_type": "display_data"
    },
    {
     "data": {
      "text/plain": [
       "(5, None)"
      ]
     },
     "execution_count": null,
     "metadata": {},
     "output_type": "execute_result"
    }
   ],
   "source": [
    "g=nx.DiGraph()\n",
    "top,bottom = add_ie_relation(g,IERelation(name='f',in_terms=[1,2,3],out_terms=[FreeVar(name='Z'),FreeVar(name='X'),2]))\n",
    "draw(g)\n",
    "serialize_graph(g) == ([(0, {'op': 'get_const', 'const_dict': {'_C0': 1, '_C1': 2, '_C2': 3}}),\n",
    "  (1, {'op': 'ie_map', 'func': 'f', 'in_arity': 3,'out_arity':3}),\n",
    "  (2, {'op': 'select', 'theta': equalConstTheta((5,2))}),\n",
    "  (3, {'op': 'rename', 'names': [(3, 'Z'), (4, 'X')]}),\n",
    "  (4, {'op': 'project', 'on': ['Z', 'X']})],\n",
    " [(1, 0, {}), (2, 1, {}), (3, 2, {}), (4, 3, {})])\n",
    "top,bottom"
   ]
  },
  {
   "cell_type": "markdown",
   "metadata": {},
   "source": [
    "### Computing bounding order of rules"
   ]
  },
  {
   "cell_type": "code",
   "execution_count": null,
   "metadata": {},
   "outputs": [],
   "source": [
    "#| export\n",
    "def get_bounding_order(rule:Rule):\n",
    "    \"\"\"Get an order of evaluation for the body of a rule\n",
    "    this is a very naive ordering that can be heavily optimized\"\"\"\n",
    "\n",
    "    # we start with all relations since they can be bound at once\n",
    "    order = list()\n",
    "    bounded_vars = set()\n",
    "    for rel in rule.body:\n",
    "        if isinstance(rel,Relation):\n",
    "            order.append(rel)\n",
    "            for term in rel.terms:\n",
    "                if isinstance(term,FreeVar):\n",
    "                    bounded_vars.add(term)\n",
    "\n",
    "    unordered_ierelations = {rel for rel in rule.body if isinstance(rel,IERelation)}\n",
    "    while len(unordered_ierelations) > 0:\n",
    "        for ie_rel in unordered_ierelations:\n",
    "            in_free_vars = {term for term in ie_rel.in_terms if isinstance(term,FreeVar)}\n",
    "            if in_free_vars.issubset(bounded_vars):\n",
    "                order.append(ie_rel)\n",
    "                out_free_vars = {term for term in ie_rel.out_terms if isinstance(term,FreeVar)}\n",
    "                bounded_vars = bounded_vars.union(out_free_vars)\n",
    "                unordered_ierelations.remove(ie_rel)\n",
    "                break\n",
    "\n",
    "    return order"
   ]
  },
  {
   "cell_type": "code",
   "execution_count": null,
   "metadata": {},
   "outputs": [
    {
     "name": "stdout",
     "output_type": "stream",
     "text": [
      "R(X,Y,Z) <- T2(X,Y) -> (W,Z),T(X,1) -> (Y,Z),S(X,[1,4)),S2(X,A,B)\n"
     ]
    },
    {
     "data": {
      "text/plain": [
       "[Relation(name='S', terms=[FreeVar(name='X'), [1,4)], agg=None),\n",
       " Relation(name='S2', terms=[FreeVar(name='X'), FreeVar(name='A'), FreeVar(name='B')], agg=None),\n",
       " IERelation(name='T', in_terms=[FreeVar(name='X'), 1], out_terms=[FreeVar(name='Y'), FreeVar(name='Z')]),\n",
       " IERelation(name='T2', in_terms=[FreeVar(name='X'), FreeVar(name='Y')], out_terms=[FreeVar(name='W'), FreeVar(name='Z')])]"
      ]
     },
     "execution_count": null,
     "metadata": {},
     "output_type": "execute_result"
    }
   ],
   "source": [
    "r = Rule(\n",
    "    head=Relation(name='R', terms=[FreeVar(name='X'), FreeVar(name='Y'), FreeVar(name='Z')]),\n",
    "    body=[\n",
    "        IERelation(name='T2', in_terms=[FreeVar(name='X'), FreeVar(name='Y')], out_terms=[FreeVar(name='W'), FreeVar(name='Z')]),\n",
    "        IERelation(name='T', in_terms=[FreeVar(name='X'), 1], out_terms=[FreeVar(name='Y'), FreeVar(name='Z')]),\n",
    "        Relation(name='S', terms=[FreeVar(name='X'), Span(start=1,end=4)]),\n",
    "        Relation(name='S2', terms=[FreeVar(name='X'), FreeVar(name='A'),FreeVar(name='B')]),\n",
    "\n",
    "    ])\n",
    "\n",
    "print(pretty(r))\n",
    "\n",
    "order = get_bounding_order(r)\n",
    "assert [o.name for o in order ] == ['S','S2', 'T', 'T2']\n",
    "order"
   ]
  },
  {
   "cell_type": "markdown",
   "metadata": {},
   "source": [
    "### Adding rules "
   ]
  },
  {
   "cell_type": "code",
   "execution_count": null,
   "metadata": {},
   "outputs": [],
   "source": [
    "#| export\n",
    "def rule_to_graph(rule:Rule,rule_id):\n",
    "    \"\"\"\n",
    "    converts a rule to a graph\n",
    "    \"\"\"\n",
    "    g=nx.DiGraph()\n",
    "    body_rels = get_bounding_order(rule)\n",
    "\n",
    "    top_bottom_nodes = []\n",
    "\n",
    "    # add all body relations to the graph\n",
    "    for rel in body_rels:\n",
    "        if isinstance(rel,Relation):\n",
    "            top,bottom = add_relation(g,name=rel.name,terms=rel.terms)\n",
    "            top_bottom_nodes.append((top,bottom))\n",
    "        elif isinstance(rel,IERelation):\n",
    "            top,bottom = add_ie_relation(g,rel)\n",
    "            top_bottom_nodes.append((top,bottom))\n",
    "\n",
    "    # connect outputs of different rels via joins\n",
    "    # and connect input of ie functons into the join\n",
    "    for i,((top,bottom),rel) in enumerate(zip(top_bottom_nodes,body_rels)):\n",
    "        logger.debug(f'connecting bodies iteration {i}')\n",
    "        if i == 0:\n",
    "            prev_top = top\n",
    "            continue\n",
    "        logger.debug(f'connecting {prev_top} to {top}')\n",
    "\n",
    "        join_node_name = get_new_node_name(g)\n",
    "        g.add_node(join_node_name, op='join',schema=_join_schema(g.nodes[prev_top]['schema'],g.nodes[top]['schema']))\n",
    "        g.add_edge(join_node_name,prev_top)\n",
    "        g.add_edge(join_node_name,top)\n",
    "\n",
    "        if isinstance(rel,IERelation):\n",
    "            ie_has_variable_inputs = any(isinstance(term,FreeVar) for term in rel.in_terms)\n",
    "            if ie_has_variable_inputs:\n",
    "                logger.debug(f'adding input of ie {bottom} to join {prev_top}')\n",
    "                g.add_edge(bottom,prev_top)\n",
    "        prev_top = join_node_name\n",
    "\n",
    "    head = rule.head\n",
    "    # project all assignments into the head\n",
    "    head_project_name = get_new_node_name(g)\n",
    "    g.add_node(head_project_name, op='project', schema =[term.name for term in head.terms],rel=f'_{head.name}_{rule_id}')\n",
    "    g.add_edge(head_project_name,prev_top)\n",
    "    top_node = head_project_name\n",
    "\n",
    "    if head.agg is not None:\n",
    "        agg_node_name = get_new_node_name(g)\n",
    "        agg_mapping = {k.name:v for k,v in head.agg.items()}\n",
    "        g.add_node(agg_node_name, op='groupby',schema = g.nodes[head_project_name]['schema'],agg=agg_mapping)\n",
    "        g.add_edge(agg_node_name,top_node)\n",
    "        top_node = agg_node_name\n",
    "\n",
    "\n",
    "    # add a union for each rule for the given head\n",
    "    g.add_node(head.name,op='union',rel=head.name,schema = _col_names(len(head.terms)))\n",
    "    g.add_edge(head.name,top_node)\n",
    "\n",
    "    # add rule id for each node\n",
    "    for u in g.nodes:\n",
    "        g.nodes[u]['rule_id'] = {rule_id}\n",
    "    return g\n"
   ]
  },
  {
   "cell_type": "markdown",
   "metadata": {},
   "source": [
    "#### Test"
   ]
  },
  {
   "cell_type": "code",
   "execution_count": null,
   "metadata": {},
   "outputs": [
    {
     "name": "stdout",
     "output_type": "stream",
     "text": [
      "R(X) <- T(1,2,3) -> (X)\n",
      "R(X) <- S(X),T(1,2,3) -> (X)\n",
      "R(sum(X),count(Y)) <- S(X,Y),T(X,Y)\n"
     ]
    }
   ],
   "source": [
    "const_ie_rule = Rule(\n",
    "    head=Relation(name='R', terms=[FreeVar(name='X')]),\n",
    "    body=[\n",
    "        IERelation(name='T', in_terms=[1, 2, 3], out_terms=[FreeVar(name='X')]),\n",
    "        \n",
    "    ])\n",
    "print(pretty(const_ie_rule))\n",
    "\n",
    "const_ie_rule2 = Rule(\n",
    "    head=Relation(name='R', terms=[FreeVar(name='X')]),\n",
    "    body=[\n",
    "        Relation(name='S', terms=[FreeVar(name='X')]),\n",
    "        IERelation(name='T', in_terms=[1, 2, 3], out_terms=[FreeVar(name='X')]),\n",
    "        \n",
    "    ])\n",
    "print(pretty(const_ie_rule2))\n",
    "\n",
    "aggregate_rule = Rule(\n",
    "    head=Relation(name='R', terms=[FreeVar(name='X'),FreeVar(name='Y')],agg={FreeVar(name='X'):'sum',FreeVar(name='Y'):'count'}),\n",
    "    body=[\n",
    "        Relation(name='S', terms=[FreeVar(name='X'), FreeVar(name='Y')]),\n",
    "        Relation(name='T', terms=[FreeVar(name='X'), FreeVar(name='Y')]),\n",
    "        \n",
    "    ])\n",
    "print(pretty(aggregate_rule))\n"
   ]
  },
  {
   "cell_type": "code",
   "execution_count": null,
   "metadata": {},
   "outputs": [
    {
     "data": {
      "text/html": [
       "<img src=\"https://mermaid.ink/img/CmZsb3djaGFydCBUQgpTWyJTCnJlbD0jcXVvdDtTI3F1b3Q7LCBzY2hlbWE9WyNxdW90O2NvbF8wI3F1b3Q7LCAjcXVvdDtjb2xfMSNxdW90O10sIHJ1bGVfaWQ9ezB9Il0KMFsiMApvcD0jcXVvdDtyZW5hbWUjcXVvdDssIHNjaGVtYT1bI3F1b3Q7WCNxdW90OywgI3F1b3Q7WSNxdW90O10sIHJ1bGVfaWQ9ezB9Il0KMVsiMQpvcD0jcXVvdDtwcm9qZWN0I3F1b3Q7LCBzY2hlbWE9WyNxdW90O1gjcXVvdDssICNxdW90O1kjcXVvdDtdLCBydWxlX2lkPXswfSJdClRbIlQKcmVsPSNxdW90O1QjcXVvdDssIHNjaGVtYT1bI3F1b3Q7Y29sXzAjcXVvdDssICNxdW90O2NvbF8xI3F1b3Q7XSwgcnVsZV9pZD17MH0iXQoyWyIyCm9wPSNxdW90O3JlbmFtZSNxdW90Oywgc2NoZW1hPVsjcXVvdDtYI3F1b3Q7LCAjcXVvdDtZI3F1b3Q7XSwgcnVsZV9pZD17MH0iXQozWyIzCm9wPSNxdW90O3Byb2plY3QjcXVvdDssIHNjaGVtYT1bI3F1b3Q7WCNxdW90OywgI3F1b3Q7WSNxdW90O10sIHJ1bGVfaWQ9ezB9Il0KNFsiNApvcD0jcXVvdDtqb2luI3F1b3Q7LCBzY2hlbWE9WyNxdW90O1gjcXVvdDssICNxdW90O1kjcXVvdDtdLCBydWxlX2lkPXswfSJdCjVbIjUKb3A9I3F1b3Q7cHJvamVjdCNxdW90Oywgc2NoZW1hPVsjcXVvdDtYI3F1b3Q7LCAjcXVvdDtZI3F1b3Q7XSwgcmVsPSNxdW90O19SXzAjcXVvdDssIHJ1bGVfaWQ9ezB9Il0KNlsiNgpvcD0jcXVvdDtncm91cGJ5I3F1b3Q7LCBzY2hlbWE9WyNxdW90O1gjcXVvdDssICNxdW90O1kjcXVvdDtdLCBhZ2c9eyNxdW90O1gjcXVvdDs6ICNxdW90O3N1bSNxdW90OywgI3F1b3Q7WSNxdW90OzogI3F1b3Q7Y291bnQjcXVvdDt9LCBydWxlX2lkPXswfSJdClJbIlIKb3A9I3F1b3Q7dW5pb24jcXVvdDssIHJlbD0jcXVvdDtSI3F1b3Q7LCBzY2hlbWE9WyNxdW90O2NvbF8wI3F1b3Q7LCAjcXVvdDtjb2xfMSNxdW90O10sIHJ1bGVfaWQ9ezB9Il0KMCAtLT4gUwoxIC0tPiAwCjIgLS0+IFQKMyAtLT4gMgo0IC0tPiAxCjQgLS0+IDMKNSAtLT4gNAo2IC0tPiA1ClIgLS0+IDYK\"/>"
      ],
      "text/plain": [
       "<IPython.core.display.Image object>"
      ]
     },
     "metadata": {},
     "output_type": "display_data"
    }
   ],
   "source": [
    "g = rule_to_graph(aggregate_rule,0)\n",
    "draw(g)\n"
   ]
  },
  {
   "cell_type": "code",
   "execution_count": null,
   "metadata": {},
   "outputs": [
    {
     "name": "stderr",
     "output_type": "stream",
     "text": [
      "__main__ - DEBUG - connecting bodies iteration 0\n",
      "__main__ - DEBUG - connecting bodies iteration 1\n",
      "__main__ - DEBUG - connecting 1 to 6\n"
     ]
    },
    {
     "data": {
      "text/html": [
       "<img src=\"https://mermaid.ink/img/CmZsb3djaGFydCBUQgpTWyJTCnJlbD0jcXVvdDtTI3F1b3Q7LCBzY2hlbWE9WyNxdW90O2NvbF8wI3F1b3Q7XSwgcnVsZV9pZD17MH0iXQowWyIwCm9wPSNxdW90O3JlbmFtZSNxdW90Oywgc2NoZW1hPVsjcXVvdDtYI3F1b3Q7XSwgcnVsZV9pZD17MH0iXQoxWyIxCm9wPSNxdW90O3Byb2plY3QjcXVvdDssIHNjaGVtYT1bI3F1b3Q7WCNxdW90O10sIHJ1bGVfaWQ9ezB9Il0KMlsiMgpvcD0jcXVvdDtnZXRfY29uc3QjcXVvdDssIGNvbnN0X2RpY3Q9eyNxdW90O19DMCNxdW90OzogMSwgI3F1b3Q7X0MxI3F1b3Q7OiAyLCAjcXVvdDtfQzIjcXVvdDs6IDN9LCBzY2hlbWE9WyNxdW90O19DMCNxdW90OywgI3F1b3Q7X0MxI3F1b3Q7LCAjcXVvdDtfQzIjcXVvdDtdLCBydWxlX2lkPXswfSJdCjNbIjMKb3A9I3F1b3Q7aWVfbWFwI3F1b3Q7LCBmdW5jPSNxdW90O1QjcXVvdDssIGluX2FyaXR5PTMsIG91dF9hcml0eT0xLCBzY2hlbWE9WyNxdW90O2NvbF8wI3F1b3Q7LCAjcXVvdDtjb2xfMSNxdW90OywgI3F1b3Q7Y29sXzIjcXVvdDssICNxdW90O2NvbF8zI3F1b3Q7XSwgcnVsZV9pZD17MH0iXQo0WyI0Cm9wPSNxdW90O3JlbmFtZSNxdW90Oywgc2NoZW1hPVsjcXVvdDtjb2xfMCNxdW90OywgI3F1b3Q7Y29sXzEjcXVvdDssICNxdW90O2NvbF8yI3F1b3Q7LCAjcXVvdDtYI3F1b3Q7XSwgcnVsZV9pZD17MH0iXQo1WyI1Cm9wPSNxdW90O3JlbmFtZSNxdW90Oywgc2NoZW1hPVsjcXVvdDtfRjAjcXVvdDssICNxdW90O19GMSNxdW90OywgI3F1b3Q7X0YyI3F1b3Q7LCAjcXVvdDtYI3F1b3Q7XSwgcnVsZV9pZD17MH0iXQo2WyI2Cm9wPSNxdW90O3Byb2plY3QjcXVvdDssIHNjaGVtYT1bI3F1b3Q7WCNxdW90O10sIHJ1bGVfaWQ9ezB9Il0KN1siNwpvcD0jcXVvdDtqb2luI3F1b3Q7LCBzY2hlbWE9WyNxdW90O1gjcXVvdDtdLCBydWxlX2lkPXswfSJdCjhbIjgKb3A9I3F1b3Q7cHJvamVjdCNxdW90Oywgc2NoZW1hPVsjcXVvdDtYI3F1b3Q7XSwgcmVsPSNxdW90O19SXzAjcXVvdDssIHJ1bGVfaWQ9ezB9Il0KUlsiUgpvcD0jcXVvdDt1bmlvbiNxdW90OywgcmVsPSNxdW90O1IjcXVvdDssIHNjaGVtYT1bI3F1b3Q7Y29sXzAjcXVvdDtdLCBydWxlX2lkPXswfSJdCjAgLS0+IFMKMSAtLT4gMAozIC0tPiAyCjQgLS0+IDMKNSAtLT4gNAo2IC0tPiA1CjcgLS0+IDEKNyAtLT4gNgo4IC0tPiA3ClIgLS0+IDgK\"/>"
      ],
      "text/plain": [
       "<IPython.core.display.Image object>"
      ]
     },
     "metadata": {},
     "output_type": "display_data"
    },
    {
     "data": {
      "text/plain": [
       "([('S', {'rel': 'S', 'schema': ['col_0'], 'rule_id': {0}}),\n",
       "  (0, {'op': 'rename', 'schema': ['X'], 'rule_id': {0}}),\n",
       "  (1, {'op': 'project', 'schema': ['X'], 'rule_id': {0}}),\n",
       "  (2,\n",
       "   {'op': 'get_const',\n",
       "    'const_dict': {'_C0': 1, '_C1': 2, '_C2': 3},\n",
       "    'schema': ['_C0', '_C1', '_C2'],\n",
       "    'rule_id': {0}}),\n",
       "  (3,\n",
       "   {'op': 'ie_map',\n",
       "    'func': 'T',\n",
       "    'in_arity': 3,\n",
       "    'out_arity': 1,\n",
       "    'schema': ['col_0', 'col_1', 'col_2', 'col_3'],\n",
       "    'rule_id': {0}}),\n",
       "  (4,\n",
       "   {'op': 'rename',\n",
       "    'schema': ['col_0', 'col_1', 'col_2', 'X'],\n",
       "    'rule_id': {0}}),\n",
       "  (5, {'op': 'rename', 'schema': ['_F0', '_F1', '_F2', 'X'], 'rule_id': {0}}),\n",
       "  (6, {'op': 'project', 'schema': ['X'], 'rule_id': {0}}),\n",
       "  (7, {'op': 'join', 'schema': ['X'], 'rule_id': {0}}),\n",
       "  (8, {'op': 'project', 'schema': ['X'], 'rel': '_R_0', 'rule_id': {0}}),\n",
       "  ('R', {'op': 'union', 'rel': 'R', 'schema': ['col_0'], 'rule_id': {0}})],\n",
       " [(0, 'S', {}),\n",
       "  (1, 0, {}),\n",
       "  (3, 2, {}),\n",
       "  (4, 3, {}),\n",
       "  (5, 4, {}),\n",
       "  (6, 5, {}),\n",
       "  (7, 1, {}),\n",
       "  (7, 6, {}),\n",
       "  (8, 7, {}),\n",
       "  ('R', 8, {})])"
      ]
     },
     "execution_count": null,
     "metadata": {},
     "output_type": "execute_result"
    }
   ],
   "source": [
    "with checkLogs():\n",
    "  g = rule_to_graph(const_ie_rule2,0)\n",
    "draw(g)\n",
    "serialize_graph(g)\n"
   ]
  },
  {
   "cell_type": "code",
   "execution_count": null,
   "metadata": {},
   "outputs": [
    {
     "data": {
      "text/html": [
       "<img src=\"https://mermaid.ink/img/CmZsb3djaGFydCBUQgowWyIwCm9wPSNxdW90O2dldF9jb25zdCNxdW90OywgY29uc3RfZGljdD17I3F1b3Q7X0MwI3F1b3Q7OiAxLCAjcXVvdDtfQzEjcXVvdDs6IDIsICNxdW90O19DMiNxdW90OzogM30sIHNjaGVtYT1bI3F1b3Q7X0MwI3F1b3Q7LCAjcXVvdDtfQzEjcXVvdDssICNxdW90O19DMiNxdW90O10sIHJ1bGVfaWQ9ezB9Il0KMVsiMQpvcD0jcXVvdDtpZV9tYXAjcXVvdDssIGZ1bmM9I3F1b3Q7VCNxdW90OywgaW5fYXJpdHk9Mywgb3V0X2FyaXR5PTEsIHNjaGVtYT1bI3F1b3Q7Y29sXzAjcXVvdDssICNxdW90O2NvbF8xI3F1b3Q7LCAjcXVvdDtjb2xfMiNxdW90OywgI3F1b3Q7Y29sXzMjcXVvdDtdLCBydWxlX2lkPXswfSJdCjJbIjIKb3A9I3F1b3Q7cmVuYW1lI3F1b3Q7LCBzY2hlbWE9WyNxdW90O2NvbF8wI3F1b3Q7LCAjcXVvdDtjb2xfMSNxdW90OywgI3F1b3Q7Y29sXzIjcXVvdDssICNxdW90O1gjcXVvdDtdLCBydWxlX2lkPXswfSJdCjNbIjMKb3A9I3F1b3Q7cmVuYW1lI3F1b3Q7LCBzY2hlbWE9WyNxdW90O19GMCNxdW90OywgI3F1b3Q7X0YxI3F1b3Q7LCAjcXVvdDtfRjIjcXVvdDssICNxdW90O1gjcXVvdDtdLCBydWxlX2lkPXswfSJdCjRbIjQKb3A9I3F1b3Q7cHJvamVjdCNxdW90Oywgc2NoZW1hPVsjcXVvdDtYI3F1b3Q7XSwgcnVsZV9pZD17MH0iXQo1WyI1Cm9wPSNxdW90O3Byb2plY3QjcXVvdDssIHNjaGVtYT1bI3F1b3Q7WCNxdW90O10sIHJlbD0jcXVvdDtfUl8wI3F1b3Q7LCBydWxlX2lkPXswfSJdClJbIlIKb3A9I3F1b3Q7dW5pb24jcXVvdDssIHJlbD0jcXVvdDtSI3F1b3Q7LCBzY2hlbWE9WyNxdW90O2NvbF8wI3F1b3Q7XSwgcnVsZV9pZD17MH0iXQoxIC0tPiAwCjIgLS0+IDEKMyAtLT4gMgo0IC0tPiAzCjUgLS0+IDQKUiAtLT4gNQo=\"/>"
      ],
      "text/plain": [
       "<IPython.core.display.Image object>"
      ]
     },
     "metadata": {},
     "output_type": "display_data"
    }
   ],
   "source": [
    "g = rule_to_graph(const_ie_rule,0)\n",
    "draw(g)\n",
    "# assert serialize_graph(g) == ([(0,\n",
    "#    {'op': 'get_const',\n",
    "#     'const_dict': {'_C0': 1, '_C1': 2, '_C2': 3},\n",
    "#     'rule_id': {0}}),\n",
    "#   (1, {'op': 'ie_map', 'func': 'T', 'in_arity': 3,'out_arity':1, 'rule_id': {0}}),\n",
    "#   (2, {'op': 'rename', 'names': [(3, 'X')], 'rule_id': {0}}),\n",
    "#   (3, {'op': 'project', 'on': ['X'], 'rule_id': {0}}),\n",
    "#   (4, {'op': 'project', 'on': ['X'], 'rel': '_R_0', 'rule_id': {0}}),\n",
    "#   ('R', {'op': 'union', 'rel': 'R', 'rule_id': {0}})],\n",
    "#  [(1, 0, {}), (2, 1, {}), (3, 2, {}), (4, 3, {}), ('R', 4, {})])"
   ]
  },
  {
   "cell_type": "code",
   "execution_count": null,
   "metadata": {},
   "outputs": [
    {
     "name": "stdout",
     "output_type": "stream",
     "text": [
      "R(X,Y,Z) <- T2(X,Y) -> (W,Z),T(X,1) -> (Y,Z),S(X,[1,4)),S2(X,A,B)\n"
     ]
    },
    {
     "data": {
      "text/html": [
       "<img src=\"https://mermaid.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\"/>"
      ],
      "text/plain": [
       "<IPython.core.display.Image object>"
      ]
     },
     "metadata": {},
     "output_type": "display_data"
    }
   ],
   "source": [
    "g = rule_to_graph(r,0)\n",
    "print(pretty(r))\n",
    "draw(g)\n",
    "# assert serialize_graph(g) == ([('S', {'rel': 'S', 'rule_id': {0}}),\n",
    "#   (0, {'op': 'rename', 'names': [(0, 'X')], 'rule_id': {0}}),\n",
    "#   (1, {'op': 'select', 'theta': equalConstTheta((1,Span(1,4))), 'rule_id': {0}}),\n",
    "#   (2, {'op': 'project', 'on': ['X'], 'rule_id': {0}}),\n",
    "#   ('S2', {'rel': 'S2', 'rule_id': {0}}),\n",
    "#   (3,\n",
    "#    {'op': 'rename', 'names': [(0, 'X'), (1, 'A'), (2, 'B')], 'rule_id': {0}}),\n",
    "#   (4, {'op': 'project', 'on': ['X'], 'rule_id': {0}}),\n",
    "#   (5, {'op': 'get_const', 'const_dict': {'_C1': 1}, 'rule_id': {0}}),\n",
    "#   (6, {'op': 'product', 'rule_id': {0}}),\n",
    "#   (7, {'op': 'project', 'on': ['X', '_C1'], 'rule_id': {0}}),\n",
    "#   (8, {'op': 'ie_map', 'func': 'T', 'rule_id': {0},'in_arity': 2,'out_arity':2}),\n",
    "#   (9,\n",
    "#    {'op': 'rename', 'names': [(0, 'X'), (2, 'Y'), (3, 'Z')], 'rule_id': {0}}),\n",
    "#   (10, {'op': 'project', 'on': ['X', 'Y', 'Z'], 'rule_id': {0}}),\n",
    "#   (11, {'op': 'project', 'on': ['X', 'Y'], 'rule_id': {0}}),\n",
    "#   (12, {'op': 'ie_map', 'func': 'T2', 'rule_id': {0},'in_arity': 2,'out_arity':2}),\n",
    "#   (13,\n",
    "#    {'op': 'rename',\n",
    "#     'names': [(0, 'X'), (1, 'Y'), (2, 'W'), (3, 'Z')],\n",
    "#     'rule_id': {0}}),\n",
    "#   (14, {'op': 'project', 'on': ['X', 'Y', 'W', 'Z'], 'rule_id': {0}}),\n",
    "#   (15, {'op': 'join', 'rule_id': {0}}),\n",
    "#   (16, {'op': 'join', 'rule_id': {0}}),\n",
    "#   (17, {'op': 'join', 'rule_id': {0}}),\n",
    "#   (18,\n",
    "#    {'op': 'project', 'on': ['X', 'Y', 'Z'], 'rel': '_R_0', 'rule_id': {0}}),\n",
    "#   ('R', {'op': 'union', 'rel': 'R', 'rule_id': {0}})],\n",
    "#  [(0, 'S', {}),\n",
    "#   (1, 0, {}),\n",
    "#   (2, 1, {}),\n",
    "#   (3, 'S2', {}),\n",
    "#   (4, 15, {}),\n",
    "#   (6, 4, {}),\n",
    "#   (6, 5, {}),\n",
    "#   (7, 6, {}),\n",
    "#   (8, 7, {}),\n",
    "#   (9, 8, {}),\n",
    "#   (10, 9, {}),\n",
    "#   (11, 16, {}),\n",
    "#   (12, 11, {}),\n",
    "#   (13, 12, {}),\n",
    "#   (14, 13, {}),\n",
    "#   (15, 2, {}),\n",
    "#   (15, 3, {}),\n",
    "#   (16, 15, {}),\n",
    "#   (16, 10, {}),\n",
    "#   (17, 16, {}),\n",
    "#   (17, 14, {}),\n",
    "#   (18, 17, {}),\n",
    "#   ('R', 18, {})])"
   ]
  },
  {
   "cell_type": "markdown",
   "metadata": {},
   "source": [
    "### Compose term graphs"
   ]
  },
  {
   "cell_type": "code",
   "execution_count": null,
   "metadata": {},
   "outputs": [],
   "source": [
    "#| export\n",
    "def graph_compose(g1,g2,mapping_dict,debug=False):\n",
    "    \"\"\"compose two graphs with a mapping dict\"\"\"\n",
    "    # if there is a node in g2 that is renamed but has a name collision with an existing node that is not renamed, we will rename the existing node to a uniq name\n",
    "    # making new names into a digraph is a dirty hack, TODO resolve this\n",
    "    save_new_names= nx.DiGraph()\n",
    "    original_mapping_dict = mapping_dict.copy()\n",
    "    for u2 in g2.nodes():\n",
    "        if u2 not in mapping_dict and u2 in g1.nodes():\n",
    "            mapping_dict[u2] = get_new_node_name(g2,avoid_names_from=[g1,save_new_names])\n",
    "            save_new_names.add_node(mapping_dict[u2])\n",
    "    if debug:\n",
    "        return mapping_dict\n",
    "    g2 = nx.relabel_nodes(g2,mapping_dict,copy=True)\n",
    "\n",
    "    merged_graph = nx.compose(g1,g2)\n",
    "    for old_name,new_name in original_mapping_dict.items():\n",
    "        rule_ids1 = g1.nodes[old_name].get('rule_id',set())\n",
    "        rule_ids2 = g2.nodes[new_name].get('rule_id',set())\n",
    "        merged_rule_ids = rule_ids1.union(rule_ids2)\n",
    "        merged_graph.nodes[new_name]['rule_id'] = merged_rule_ids\n",
    "\n",
    "\n",
    "\n",
    "    return merged_graph\n"
   ]
  },
  {
   "cell_type": "markdown",
   "metadata": {},
   "source": [
    "#### Test"
   ]
  },
  {
   "cell_type": "code",
   "execution_count": null,
   "metadata": {},
   "outputs": [
    {
     "name": "stdout",
     "output_type": "stream",
     "text": [
      "R(X,Y) <- S(X,Y),S2(X,A,1)\n",
      "R(X,Y) <- S(X,Y)\n",
      "R2(X,Y) <- S3(X,Y),S2(X,A,1)\n"
     ]
    }
   ],
   "source": [
    "r1 = Rule(\n",
    "    head=Relation(name='R', terms=[FreeVar(name='X'), FreeVar(name='Y')]),\n",
    "    body=[\n",
    "        Relation(name='S', terms=[FreeVar(name='X'),FreeVar(name='Y')]),\n",
    "        Relation(name='S2', terms=[FreeVar(name='X'), FreeVar(name='A'),1]),\n",
    "    ])\n",
    "\n",
    "r2 = Rule(\n",
    "    head=Relation(name='R', terms=[FreeVar(name='X'), FreeVar(name='Y')]),\n",
    "    body=[\n",
    "        Relation(name='S', terms=[FreeVar(name='X'),FreeVar(name='Y')]),\n",
    "    ])\n",
    "\n",
    "r3 = Rule(\n",
    "    head=Relation(name='R2', terms=[FreeVar(name='X'), FreeVar(name='Y')]),\n",
    "    body=[\n",
    "        Relation(name='S3', terms=[FreeVar(name='X'),FreeVar(name='Y')]),\n",
    "        Relation(name='S2', terms=[FreeVar(name='X'), FreeVar(name='A'),1]),\n",
    "    ])\n",
    "rules = [r1,r2,r3]\n",
    "for r in rules:\n",
    "    print(pretty(r))\n",
    "t1,t2,t3 = [rule_to_graph(r,i) for i,r in enumerate(rules)]"
   ]
  },
  {
   "cell_type": "code",
   "execution_count": null,
   "metadata": {},
   "outputs": [
    {
     "data": {
      "text/html": [
       "<img src=\"https://mermaid.ink/img/CmZsb3djaGFydCBUQgpTWyJTCnJlbD0jcXVvdDtTI3F1b3Q7LCBzY2hlbWE9WyNxdW90O2NvbF8wI3F1b3Q7LCAjcXVvdDtjb2xfMSNxdW90O10sIHJ1bGVfaWQ9ezB9Il0KMFsiMApvcD0jcXVvdDtyZW5hbWUjcXVvdDssIHNjaGVtYT1bI3F1b3Q7WCNxdW90OywgI3F1b3Q7WSNxdW90O10sIHJ1bGVfaWQ9ezB9Il0KMVsiMQpvcD0jcXVvdDtwcm9qZWN0I3F1b3Q7LCBzY2hlbWE9WyNxdW90O1gjcXVvdDssICNxdW90O1kjcXVvdDtdLCBydWxlX2lkPXswfSJdClMyWyJTMgpyZWw9I3F1b3Q7UzIjcXVvdDssIHNjaGVtYT1bI3F1b3Q7Y29sXzAjcXVvdDssICNxdW90O2NvbF8xI3F1b3Q7LCAjcXVvdDtjb2xfMiNxdW90O10sIHJ1bGVfaWQ9ezB9Il0KMlsiMgpvcD0jcXVvdDtzZWxlY3QjcXVvdDssIHRoZXRhPVRoZXRhKGNvbF8yPTEpLCBzY2hlbWE9WyNxdW90O2NvbF8wI3F1b3Q7LCAjcXVvdDtjb2xfMSNxdW90OywgI3F1b3Q7Y29sXzIjcXVvdDtdLCBydWxlX2lkPXswfSJdCjNbIjMKb3A9I3F1b3Q7cmVuYW1lI3F1b3Q7LCBzY2hlbWE9WyNxdW90O1gjcXVvdDssICNxdW90O0EjcXVvdDssICNxdW90O19GMiNxdW90O10sIHJ1bGVfaWQ9ezB9Il0KNFsiNApvcD0jcXVvdDtwcm9qZWN0I3F1b3Q7LCBzY2hlbWE9WyNxdW90O1gjcXVvdDssICNxdW90O0EjcXVvdDtdLCBydWxlX2lkPXswfSJdCjVbIjUKb3A9I3F1b3Q7am9pbiNxdW90Oywgc2NoZW1hPVsjcXVvdDtYI3F1b3Q7LCAjcXVvdDtZI3F1b3Q7LCAjcXVvdDtBI3F1b3Q7XSwgcnVsZV9pZD17MH0iXQo2WyI2Cm9wPSNxdW90O3Byb2plY3QjcXVvdDssIHNjaGVtYT1bI3F1b3Q7WCNxdW90OywgI3F1b3Q7WSNxdW90O10sIHJlbD0jcXVvdDtfUl8wI3F1b3Q7LCBydWxlX2lkPXswfSJdClJbIlIKb3A9I3F1b3Q7dW5pb24jcXVvdDssIHJlbD0jcXVvdDtSI3F1b3Q7LCBzY2hlbWE9WyNxdW90O2NvbF8wI3F1b3Q7LCAjcXVvdDtjb2xfMSNxdW90O10sIHJ1bGVfaWQ9ezB9Il0KMCAtLT4gUwoxIC0tPiAwCjIgLS0+IFMyCjMgLS0+IDIKNCAtLT4gMwo1IC0tPiAxCjUgLS0+IDQKNiAtLT4gNQpSIC0tPiA2Cg==\"/>"
      ],
      "text/plain": [
       "<IPython.core.display.Image object>"
      ]
     },
     "metadata": {},
     "output_type": "display_data"
    },
    {
     "data": {
      "text/html": [
       "<img src=\"https://mermaid.ink/img/CmZsb3djaGFydCBUQgpTWyJTCnJlbD0jcXVvdDtTI3F1b3Q7LCBzY2hlbWE9WyNxdW90O2NvbF8wI3F1b3Q7LCAjcXVvdDtjb2xfMSNxdW90O10sIHJ1bGVfaWQ9ezF9Il0KMFsiMApvcD0jcXVvdDtyZW5hbWUjcXVvdDssIHNjaGVtYT1bI3F1b3Q7WCNxdW90OywgI3F1b3Q7WSNxdW90O10sIHJ1bGVfaWQ9ezF9Il0KMVsiMQpvcD0jcXVvdDtwcm9qZWN0I3F1b3Q7LCBzY2hlbWE9WyNxdW90O1gjcXVvdDssICNxdW90O1kjcXVvdDtdLCBydWxlX2lkPXsxfSJdCjJbIjIKb3A9I3F1b3Q7cHJvamVjdCNxdW90Oywgc2NoZW1hPVsjcXVvdDtYI3F1b3Q7LCAjcXVvdDtZI3F1b3Q7XSwgcmVsPSNxdW90O19SXzEjcXVvdDssIHJ1bGVfaWQ9ezF9Il0KUlsiUgpvcD0jcXVvdDt1bmlvbiNxdW90OywgcmVsPSNxdW90O1IjcXVvdDssIHNjaGVtYT1bI3F1b3Q7Y29sXzAjcXVvdDssICNxdW90O2NvbF8xI3F1b3Q7XSwgcnVsZV9pZD17MX0iXQowIC0tPiBTCjEgLS0+IDAKMiAtLT4gMQpSIC0tPiAyCg==\"/>"
      ],
      "text/plain": [
       "<IPython.core.display.Image object>"
      ]
     },
     "metadata": {},
     "output_type": "display_data"
    },
    {
     "data": {
      "text/html": [
       "<img src=\"https://mermaid.ink/img/CmZsb3djaGFydCBUQgpTM1siUzMKcmVsPSNxdW90O1MzI3F1b3Q7LCBzY2hlbWE9WyNxdW90O2NvbF8wI3F1b3Q7LCAjcXVvdDtjb2xfMSNxdW90O10sIHJ1bGVfaWQ9ezJ9Il0KMFsiMApvcD0jcXVvdDtyZW5hbWUjcXVvdDssIHNjaGVtYT1bI3F1b3Q7WCNxdW90OywgI3F1b3Q7WSNxdW90O10sIHJ1bGVfaWQ9ezJ9Il0KMVsiMQpvcD0jcXVvdDtwcm9qZWN0I3F1b3Q7LCBzY2hlbWE9WyNxdW90O1gjcXVvdDssICNxdW90O1kjcXVvdDtdLCBydWxlX2lkPXsyfSJdClMyWyJTMgpyZWw9I3F1b3Q7UzIjcXVvdDssIHNjaGVtYT1bI3F1b3Q7Y29sXzAjcXVvdDssICNxdW90O2NvbF8xI3F1b3Q7LCAjcXVvdDtjb2xfMiNxdW90O10sIHJ1bGVfaWQ9ezJ9Il0KMlsiMgpvcD0jcXVvdDtzZWxlY3QjcXVvdDssIHRoZXRhPVRoZXRhKGNvbF8yPTEpLCBzY2hlbWE9WyNxdW90O2NvbF8wI3F1b3Q7LCAjcXVvdDtjb2xfMSNxdW90OywgI3F1b3Q7Y29sXzIjcXVvdDtdLCBydWxlX2lkPXsyfSJdCjNbIjMKb3A9I3F1b3Q7cmVuYW1lI3F1b3Q7LCBzY2hlbWE9WyNxdW90O1gjcXVvdDssICNxdW90O0EjcXVvdDssICNxdW90O19GMiNxdW90O10sIHJ1bGVfaWQ9ezJ9Il0KNFsiNApvcD0jcXVvdDtwcm9qZWN0I3F1b3Q7LCBzY2hlbWE9WyNxdW90O1gjcXVvdDssICNxdW90O0EjcXVvdDtdLCBydWxlX2lkPXsyfSJdCjVbIjUKb3A9I3F1b3Q7am9pbiNxdW90Oywgc2NoZW1hPVsjcXVvdDtYI3F1b3Q7LCAjcXVvdDtZI3F1b3Q7LCAjcXVvdDtBI3F1b3Q7XSwgcnVsZV9pZD17Mn0iXQo2WyI2Cm9wPSNxdW90O3Byb2plY3QjcXVvdDssIHNjaGVtYT1bI3F1b3Q7WCNxdW90OywgI3F1b3Q7WSNxdW90O10sIHJlbD0jcXVvdDtfUjJfMiNxdW90OywgcnVsZV9pZD17Mn0iXQpSMlsiUjIKb3A9I3F1b3Q7dW5pb24jcXVvdDssIHJlbD0jcXVvdDtSMiNxdW90Oywgc2NoZW1hPVsjcXVvdDtjb2xfMCNxdW90OywgI3F1b3Q7Y29sXzEjcXVvdDtdLCBydWxlX2lkPXsyfSJdCjAgLS0+IFMzCjEgLS0+IDAKMiAtLT4gUzIKMyAtLT4gMgo0IC0tPiAzCjUgLS0+IDEKNSAtLT4gNAo2IC0tPiA1ClIyIC0tPiA2Cg==\"/>"
      ],
      "text/plain": [
       "<IPython.core.display.Image object>"
      ]
     },
     "metadata": {},
     "output_type": "display_data"
    }
   ],
   "source": [
    "draw(t1)\n",
    "draw(t2)\n",
    "draw(t3)"
   ]
  },
  {
   "cell_type": "code",
   "execution_count": null,
   "metadata": {},
   "outputs": [
    {
     "data": {
      "text/html": [
       "<img src=\"https://mermaid.ink/img/CmZsb3djaGFydCBUQgpTWyJTCnJlbD0jcXVvdDtTI3F1b3Q7LCBzY2hlbWE9WyNxdW90O2NvbF8wI3F1b3Q7LCAjcXVvdDtjb2xfMSNxdW90O10sIHJ1bGVfaWQ9ezAsIDF9Il0KMFsiMApvcD0jcXVvdDtyZW5hbWUjcXVvdDssIHNjaGVtYT1bI3F1b3Q7WCNxdW90OywgI3F1b3Q7WSNxdW90O10sIHJ1bGVfaWQ9ezAsIDF9Il0KMVsiMQpvcD0jcXVvdDtwcm9qZWN0I3F1b3Q7LCBzY2hlbWE9WyNxdW90O1gjcXVvdDssICNxdW90O1kjcXVvdDtdLCBydWxlX2lkPXswfSJdClMyWyJTMgpyZWw9I3F1b3Q7UzIjcXVvdDssIHNjaGVtYT1bI3F1b3Q7Y29sXzAjcXVvdDssICNxdW90O2NvbF8xI3F1b3Q7LCAjcXVvdDtjb2xfMiNxdW90O10sIHJ1bGVfaWQ9ezB9Il0KMlsiMgpvcD0jcXVvdDtzZWxlY3QjcXVvdDssIHRoZXRhPVRoZXRhKGNvbF8yPTEpLCBzY2hlbWE9WyNxdW90O2NvbF8wI3F1b3Q7LCAjcXVvdDtjb2xfMSNxdW90OywgI3F1b3Q7Y29sXzIjcXVvdDtdLCBydWxlX2lkPXswfSJdCjNbIjMKb3A9I3F1b3Q7cmVuYW1lI3F1b3Q7LCBzY2hlbWE9WyNxdW90O1gjcXVvdDssICNxdW90O0EjcXVvdDssICNxdW90O19GMiNxdW90O10sIHJ1bGVfaWQ9ezB9Il0KNFsiNApvcD0jcXVvdDtwcm9qZWN0I3F1b3Q7LCBzY2hlbWE9WyNxdW90O1gjcXVvdDssICNxdW90O0EjcXVvdDtdLCBydWxlX2lkPXswfSJdCjVbIjUKb3A9I3F1b3Q7am9pbiNxdW90Oywgc2NoZW1hPVsjcXVvdDtYI3F1b3Q7LCAjcXVvdDtZI3F1b3Q7LCAjcXVvdDtBI3F1b3Q7XSwgcnVsZV9pZD17MH0iXQo2WyI2Cm9wPSNxdW90O3Byb2plY3QjcXVvdDssIHNjaGVtYT1bI3F1b3Q7WCNxdW90OywgI3F1b3Q7WSNxdW90O10sIHJlbD0jcXVvdDtfUl8wI3F1b3Q7LCBydWxlX2lkPXswfSJdClJbIlIKb3A9I3F1b3Q7dW5pb24jcXVvdDssIHJlbD0jcXVvdDtSI3F1b3Q7LCBzY2hlbWE9WyNxdW90O2NvbF8wI3F1b3Q7LCAjcXVvdDtjb2xfMSNxdW90O10sIHJ1bGVfaWQ9ezAsIDF9Il0KN1siNwpvcD0jcXVvdDtwcm9qZWN0I3F1b3Q7LCBzY2hlbWE9WyNxdW90O1gjcXVvdDssICNxdW90O1kjcXVvdDtdLCBydWxlX2lkPXsxfSJdCjhbIjgKb3A9I3F1b3Q7cHJvamVjdCNxdW90Oywgc2NoZW1hPVsjcXVvdDtYI3F1b3Q7LCAjcXVvdDtZI3F1b3Q7XSwgcmVsPSNxdW90O19SXzEjcXVvdDssIHJ1bGVfaWQ9ezF9Il0KMCAtLT4gUwoxIC0tPiAwCjIgLS0+IFMyCjMgLS0+IDIKNCAtLT4gMwo1IC0tPiAxCjUgLS0+IDQKNiAtLT4gNQpSIC0tPiA2ClIgLS0+IDgKNyAtLT4gMAo4IC0tPiA3Cg==\"/>"
      ],
      "text/plain": [
       "<IPython.core.display.Image object>"
      ]
     },
     "metadata": {},
     "output_type": "display_data"
    }
   ],
   "source": [
    "m= graph_compose(t1,t2,\n",
    "    mapping_dict = {'S':'S','R':'R',0:0}) \n",
    "draw(m)"
   ]
  },
  {
   "cell_type": "markdown",
   "metadata": {},
   "source": [
    "### Merge term graphs"
   ]
  },
  {
   "cell_type": "code",
   "execution_count": null,
   "metadata": {},
   "outputs": [],
   "source": [
    "#| export\n",
    "def merge_term_graphs_pair(g1,g2,exclude_props = ['label'],debug=False):\n",
    "    \"\"\"merge two term graphs into one term graph\n",
    "    when talking about term graphs, 2 nodes if their data is identical and all of their children are identical\n",
    "    but we would also like to merge rules for the same head, so we will also nodes that have the same 'rel' attribute\n",
    "    \"\"\"\n",
    "\n",
    "    def _are_nodes_equal(g1,u1,g2,u2):\n",
    "\n",
    "        u1_data = g1.nodes[u1]\n",
    "        u2_data = g2.nodes[u2]\n",
    "        \n",
    "        if 'rel' in u1_data and 'rel' in u2_data:\n",
    "            return u1_data['rel'] == u2_data['rel']\n",
    "\n",
    "\n",
    "        \n",
    "        return False\n",
    "        # TODO this old code tries to merge nodes, but then its hard to remember which belong to which rules so we only merge\n",
    "        # so we will do this merging per query\n",
    "        u1_clean_data = {k:v for k,v in u1_data.items() if k not in exclude_props}\n",
    "        u2_clean_data = {k:v for k,v in u2_data.items() if k not in exclude_props}\n",
    "\n",
    "        are_equal = u1_clean_data == u2_clean_data and all(v2 in node_mappings for v2 in g2.successors(u2))\n",
    "        return are_equal\n",
    "        \n",
    "\n",
    "    # we will check for each node in g2 if it has a node in g1 which is it's equal.\n",
    "    # and save that in a mapping\n",
    "    node_mappings=dict()# g2 node name to g1 node name\n",
    "    # we use the fact that g2 is going to be acyclic to travers it in postorder\n",
    "    for u2 in nx.dfs_postorder_nodes(g2):\n",
    "        for u1 in g1.nodes():\n",
    "            if _are_nodes_equal(g1,u1,g2,u2):\n",
    "                node_mappings[u2] = u1\n",
    "                break\n",
    "\n",
    "\n",
    "\n",
    "    if debug:\n",
    "        return node_mappings\n",
    "    else:\n",
    "        return graph_compose(g1,g2,node_mappings)\n",
    "\n",
    "\n",
    "\n",
    "def merge_term_graphs(gs,exclude_props = ['label'],debug=False):\n",
    "    \"\"\"merge a list of term graphs into one term graph\n",
    "    \"\"\"\n",
    "    merge = gs[0]\n",
    "    for g in gs[1:-1]:\n",
    "        merge = merge_term_graphs_pair(merge,g,exclude_props,debug=False)\n",
    "    # if debug, we run debug only on the last merge so we can iteratively debug a list of merges\n",
    "    return merge_term_graphs_pair(merge,gs[-1],exclude_props,debug=debug)\n"
   ]
  },
  {
   "cell_type": "markdown",
   "metadata": {},
   "source": [
    "#### Tests"
   ]
  },
  {
   "cell_type": "code",
   "execution_count": null,
   "metadata": {},
   "outputs": [],
   "source": [
    "r1 = Rule(\n",
    "    head=Relation(name='A', terms=[FreeVar(name='X'), FreeVar(name='Y')]),\n",
    "    body=[\n",
    "        Relation(name='B', terms=[FreeVar(name='X'),FreeVar(name='Y')]),\n",
    "    ])\n",
    "\n",
    "r2 = Rule(\n",
    "    head=Relation(name='A', terms=[FreeVar(name='X'), FreeVar(name='Y')]),\n",
    "    body=[\n",
    "        Relation(name='C', terms=[FreeVar(name='X'),FreeVar(name='Y')]),\n",
    "    ])\n",
    "\n",
    "r3 = Rule(\n",
    "    head=Relation(name='B', terms=[FreeVar(name='X'), FreeVar(name='Y')]),\n",
    "    body=[\n",
    "        Relation(name='D', terms=[FreeVar(name='X'),FreeVar(name='Y')]),\n",
    "    ])\n",
    "\n",
    "r4 = Rule(\n",
    "    head=Relation(name='B', terms=[FreeVar(name='X'), FreeVar(name='Y')]),\n",
    "    body=[\n",
    "        Relation(name='A', terms=[FreeVar(name='X'),FreeVar(name='Y')]),\n",
    "    ])\n",
    "\n"
   ]
  },
  {
   "cell_type": "code",
   "execution_count": null,
   "metadata": {},
   "outputs": [
    {
     "name": "stdout",
     "output_type": "stream",
     "text": [
      "['A(X,Y) <- B(X,Y)', 'A(X,Y) <- C(X,Y)', 'B(X,Y) <- D(X,Y)', 'B(X,Y) <- A(X,Y)']\n"
     ]
    },
    {
     "data": {
      "text/html": [
       "<img src=\"https://mermaid.ink/img/CmZsb3djaGFydCBUQgpCWyJCCnJlbD0jcXVvdDtCI3F1b3Q7LCBzY2hlbWE9WyNxdW90O2NvbF8wI3F1b3Q7LCAjcXVvdDtjb2xfMSNxdW90O10sIHJ1bGVfaWQ9ezB9Il0KMFsiMApvcD0jcXVvdDtyZW5hbWUjcXVvdDssIHNjaGVtYT1bI3F1b3Q7WCNxdW90OywgI3F1b3Q7WSNxdW90O10sIHJ1bGVfaWQ9ezB9Il0KMVsiMQpvcD0jcXVvdDtwcm9qZWN0I3F1b3Q7LCBzY2hlbWE9WyNxdW90O1gjcXVvdDssICNxdW90O1kjcXVvdDtdLCBydWxlX2lkPXswfSJdCjJbIjIKb3A9I3F1b3Q7cHJvamVjdCNxdW90Oywgc2NoZW1hPVsjcXVvdDtYI3F1b3Q7LCAjcXVvdDtZI3F1b3Q7XSwgcmVsPSNxdW90O19BXzAjcXVvdDssIHJ1bGVfaWQ9ezB9Il0KQVsiQQpvcD0jcXVvdDt1bmlvbiNxdW90OywgcmVsPSNxdW90O0EjcXVvdDssIHNjaGVtYT1bI3F1b3Q7Y29sXzAjcXVvdDssICNxdW90O2NvbF8xI3F1b3Q7XSwgcnVsZV9pZD17MH0iXQowIC0tPiBCCjEgLS0+IDAKMiAtLT4gMQpBIC0tPiAyCg==\"/>"
      ],
      "text/plain": [
       "<IPython.core.display.Image object>"
      ]
     },
     "metadata": {},
     "output_type": "display_data"
    },
    {
     "data": {
      "text/html": [
       "<img src=\"https://mermaid.ink/img/CmZsb3djaGFydCBUQgpDWyJDCnJlbD0jcXVvdDtDI3F1b3Q7LCBzY2hlbWE9WyNxdW90O2NvbF8wI3F1b3Q7LCAjcXVvdDtjb2xfMSNxdW90O10sIHJ1bGVfaWQ9ezB9Il0KMFsiMApvcD0jcXVvdDtyZW5hbWUjcXVvdDssIHNjaGVtYT1bI3F1b3Q7WCNxdW90OywgI3F1b3Q7WSNxdW90O10sIHJ1bGVfaWQ9ezB9Il0KMVsiMQpvcD0jcXVvdDtwcm9qZWN0I3F1b3Q7LCBzY2hlbWE9WyNxdW90O1gjcXVvdDssICNxdW90O1kjcXVvdDtdLCBydWxlX2lkPXswfSJdCjJbIjIKb3A9I3F1b3Q7cHJvamVjdCNxdW90Oywgc2NoZW1hPVsjcXVvdDtYI3F1b3Q7LCAjcXVvdDtZI3F1b3Q7XSwgcmVsPSNxdW90O19BXzAjcXVvdDssIHJ1bGVfaWQ9ezB9Il0KQVsiQQpvcD0jcXVvdDt1bmlvbiNxdW90OywgcmVsPSNxdW90O0EjcXVvdDssIHNjaGVtYT1bI3F1b3Q7Y29sXzAjcXVvdDssICNxdW90O2NvbF8xI3F1b3Q7XSwgcnVsZV9pZD17MH0iXQowIC0tPiBDCjEgLS0+IDAKMiAtLT4gMQpBIC0tPiAyCg==\"/>"
      ],
      "text/plain": [
       "<IPython.core.display.Image object>"
      ]
     },
     "metadata": {},
     "output_type": "display_data"
    },
    {
     "data": {
      "text/html": [
       "<img src=\"https://mermaid.ink/img/CmZsb3djaGFydCBUQgpEWyJECnJlbD0jcXVvdDtEI3F1b3Q7LCBzY2hlbWE9WyNxdW90O2NvbF8wI3F1b3Q7LCAjcXVvdDtjb2xfMSNxdW90O10sIHJ1bGVfaWQ9ezB9Il0KMFsiMApvcD0jcXVvdDtyZW5hbWUjcXVvdDssIHNjaGVtYT1bI3F1b3Q7WCNxdW90OywgI3F1b3Q7WSNxdW90O10sIHJ1bGVfaWQ9ezB9Il0KMVsiMQpvcD0jcXVvdDtwcm9qZWN0I3F1b3Q7LCBzY2hlbWE9WyNxdW90O1gjcXVvdDssICNxdW90O1kjcXVvdDtdLCBydWxlX2lkPXswfSJdCjJbIjIKb3A9I3F1b3Q7cHJvamVjdCNxdW90Oywgc2NoZW1hPVsjcXVvdDtYI3F1b3Q7LCAjcXVvdDtZI3F1b3Q7XSwgcmVsPSNxdW90O19CXzAjcXVvdDssIHJ1bGVfaWQ9ezB9Il0KQlsiQgpvcD0jcXVvdDt1bmlvbiNxdW90OywgcmVsPSNxdW90O0IjcXVvdDssIHNjaGVtYT1bI3F1b3Q7Y29sXzAjcXVvdDssICNxdW90O2NvbF8xI3F1b3Q7XSwgcnVsZV9pZD17MH0iXQowIC0tPiBECjEgLS0+IDAKMiAtLT4gMQpCIC0tPiAyCg==\"/>"
      ],
      "text/plain": [
       "<IPython.core.display.Image object>"
      ]
     },
     "metadata": {},
     "output_type": "display_data"
    },
    {
     "data": {
      "text/html": [
       "<img src=\"https://mermaid.ink/img/CmZsb3djaGFydCBUQgpBWyJBCnJlbD0jcXVvdDtBI3F1b3Q7LCBzY2hlbWE9WyNxdW90O2NvbF8wI3F1b3Q7LCAjcXVvdDtjb2xfMSNxdW90O10sIHJ1bGVfaWQ9ezB9Il0KMFsiMApvcD0jcXVvdDtyZW5hbWUjcXVvdDssIHNjaGVtYT1bI3F1b3Q7WCNxdW90OywgI3F1b3Q7WSNxdW90O10sIHJ1bGVfaWQ9ezB9Il0KMVsiMQpvcD0jcXVvdDtwcm9qZWN0I3F1b3Q7LCBzY2hlbWE9WyNxdW90O1gjcXVvdDssICNxdW90O1kjcXVvdDtdLCBydWxlX2lkPXswfSJdCjJbIjIKb3A9I3F1b3Q7cHJvamVjdCNxdW90Oywgc2NoZW1hPVsjcXVvdDtYI3F1b3Q7LCAjcXVvdDtZI3F1b3Q7XSwgcmVsPSNxdW90O19CXzAjcXVvdDssIHJ1bGVfaWQ9ezB9Il0KQlsiQgpvcD0jcXVvdDt1bmlvbiNxdW90OywgcmVsPSNxdW90O0IjcXVvdDssIHNjaGVtYT1bI3F1b3Q7Y29sXzAjcXVvdDssICNxdW90O2NvbF8xI3F1b3Q7XSwgcnVsZV9pZD17MH0iXQowIC0tPiBBCjEgLS0+IDAKMiAtLT4gMQpCIC0tPiAyCg==\"/>"
      ],
      "text/plain": [
       "<IPython.core.display.Image object>"
      ]
     },
     "metadata": {},
     "output_type": "display_data"
    }
   ],
   "source": [
    "rules = [r1,r2,r3,r4]\n",
    "print([pretty(r) for r in rules])\n",
    "for r in rules:\n",
    "    draw(rule_to_graph(r,0))\n"
   ]
  },
  {
   "cell_type": "code",
   "execution_count": null,
   "metadata": {},
   "outputs": [
    {
     "data": {
      "text/html": [
       "<img src=\"https://mermaid.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\"/>"
      ],
      "text/plain": [
       "<IPython.core.display.Image object>"
      ]
     },
     "metadata": {},
     "output_type": "display_data"
    },
    {
     "data": {
      "text/plain": [
       "([('B',\n",
       "   {'rel': 'B',\n",
       "    'schema': ['col_0', 'col_1'],\n",
       "    'rule_id': {0, 2, 3},\n",
       "    'op': 'union'}),\n",
       "  (0, {'op': 'rename', 'schema': ['X', 'Y'], 'rule_id': {0}}),\n",
       "  (1, {'op': 'project', 'schema': ['X', 'Y'], 'rule_id': {0}}),\n",
       "  (2, {'op': 'project', 'schema': ['X', 'Y'], 'rel': '_A_0', 'rule_id': {0}}),\n",
       "  ('A',\n",
       "   {'op': 'union',\n",
       "    'rel': 'A',\n",
       "    'schema': ['col_0', 'col_1'],\n",
       "    'rule_id': {0, 1, 3}}),\n",
       "  ('C', {'rel': 'C', 'schema': ['col_0', 'col_1'], 'rule_id': {1}}),\n",
       "  (3, {'op': 'rename', 'schema': ['X', 'Y'], 'rule_id': {1}}),\n",
       "  (4, {'op': 'project', 'schema': ['X', 'Y'], 'rule_id': {1}}),\n",
       "  (5, {'op': 'project', 'schema': ['X', 'Y'], 'rel': '_A_1', 'rule_id': {1}}),\n",
       "  ('D', {'rel': 'D', 'schema': ['col_0', 'col_1'], 'rule_id': {2}}),\n",
       "  (6, {'op': 'rename', 'schema': ['X', 'Y'], 'rule_id': {2}}),\n",
       "  (7, {'op': 'project', 'schema': ['X', 'Y'], 'rule_id': {2}}),\n",
       "  (8, {'op': 'project', 'schema': ['X', 'Y'], 'rel': '_B_2', 'rule_id': {2}}),\n",
       "  (9, {'op': 'rename', 'schema': ['X', 'Y'], 'rule_id': {3}}),\n",
       "  (10, {'op': 'project', 'schema': ['X', 'Y'], 'rule_id': {3}}),\n",
       "  (11,\n",
       "   {'op': 'project', 'schema': ['X', 'Y'], 'rel': '_B_3', 'rule_id': {3}})],\n",
       " [('B', 8, {}),\n",
       "  ('B', 11, {}),\n",
       "  (0, 'B', {}),\n",
       "  (1, 0, {}),\n",
       "  (2, 1, {}),\n",
       "  ('A', 2, {}),\n",
       "  ('A', 5, {}),\n",
       "  (3, 'C', {}),\n",
       "  (4, 3, {}),\n",
       "  (5, 4, {}),\n",
       "  (6, 'D', {}),\n",
       "  (7, 6, {}),\n",
       "  (8, 7, {}),\n",
       "  (9, 'A', {}),\n",
       "  (10, 9, {}),\n",
       "  (11, 10, {})])"
      ]
     },
     "execution_count": null,
     "metadata": {},
     "output_type": "execute_result"
    }
   ],
   "source": [
    "m = merge_term_graphs([rule_to_graph(r,i) for i,r in enumerate(rules)])\n",
    "draw(m)\n",
    "serialize_graph(m)\n",
    "# assert serialize_graph(m) == ([('B', {'op': 'union', 'rel': 'B', 'rule_id': {0, 2, 3}}),\n",
    "#   (0, {'op': 'rename', 'names': [(0, 'X'), (1, 'Y')], 'rule_id': {0}}),\n",
    "#   (1, {'op': 'project', 'on': ['X', 'Y'], 'rel': '_A_0', 'rule_id': {0}}),\n",
    "#   ('A', { 'rel': 'A', 'rule_id': {0, 1, 3}}),\n",
    "#   ('C', { 'rel': 'C', 'rule_id': {1}}),\n",
    "#   (2, {'op': 'rename', 'names': [(0, 'X'), (1, 'Y')], 'rule_id': {1}}),\n",
    "#   (3, {'op': 'project', 'on': ['X', 'Y'], 'rel': '_A_1', 'rule_id': {1}}),\n",
    "#   ('D', { 'rel': 'D', 'rule_id': {2}}),\n",
    "#   (4, {'op': 'rename', 'names': [(0, 'X'), (1, 'Y')], 'rule_id': {2}}),\n",
    "#   (5, {'op': 'project', 'on': ['X', 'Y'], 'rel': '_B_2', 'rule_id': {2}}),\n",
    "#   (6, {'op': 'rename', 'names': [(0, 'X'), (1, 'Y')], 'rule_id': {3}}),\n",
    "#   (7, {'op': 'project', 'on': ['X', 'Y'], 'rel': '_B_3', 'rule_id': {3}})],\n",
    "#  [('B', 5, {}),\n",
    "#   ('B', 7, {}),\n",
    "#   (0, 'B', {}),\n",
    "#   (1, 0, {}),\n",
    "#   ('A', 1, {}),\n",
    "#   ('A', 3, {}),\n",
    "#   (2, 'C', {}),\n",
    "#   (3, 2, {}),\n",
    "#   (4, 'D', {}),\n",
    "#   (5, 4, {}),\n",
    "#   (6, 'A', {}),\n",
    "#   (7, 6, {})])"
   ]
  },
  {
   "cell_type": "code",
   "execution_count": null,
   "metadata": {},
   "outputs": [
    {
     "data": {
      "text/html": [
       "<img src=\"https://mermaid.ink/img/CmZsb3djaGFydCBUQgpTWyJTCnJlbD0jcXVvdDtTI3F1b3Q7LCBzY2hlbWE9WyNxdW90O2NvbF8wI3F1b3Q7LCAjcXVvdDtjb2xfMSNxdW90O10sIHJ1bGVfaWQ9ezAsIDF9Il0KMFsiMApvcD0jcXVvdDtyZW5hbWUjcXVvdDssIHNjaGVtYT1bI3F1b3Q7WCNxdW90OywgI3F1b3Q7WSNxdW90O10sIHJ1bGVfaWQ9ezB9Il0KMVsiMQpvcD0jcXVvdDtwcm9qZWN0I3F1b3Q7LCBzY2hlbWE9WyNxdW90O1gjcXVvdDssICNxdW90O1kjcXVvdDtdLCBydWxlX2lkPXswfSJdClMyWyJTMgpyZWw9I3F1b3Q7UzIjcXVvdDssIHNjaGVtYT1bI3F1b3Q7Y29sXzAjcXVvdDssICNxdW90O2NvbF8xI3F1b3Q7LCAjcXVvdDtjb2xfMiNxdW90O10sIHJ1bGVfaWQ9ezB9Il0KMlsiMgpvcD0jcXVvdDtzZWxlY3QjcXVvdDssIHRoZXRhPVRoZXRhKGNvbF8yPTEpLCBzY2hlbWE9WyNxdW90O2NvbF8wI3F1b3Q7LCAjcXVvdDtjb2xfMSNxdW90OywgI3F1b3Q7Y29sXzIjcXVvdDtdLCBydWxlX2lkPXswfSJdCjNbIjMKb3A9I3F1b3Q7cmVuYW1lI3F1b3Q7LCBzY2hlbWE9WyNxdW90O1gjcXVvdDssICNxdW90O0EjcXVvdDssICNxdW90O19GMiNxdW90O10sIHJ1bGVfaWQ9ezB9Il0KNFsiNApvcD0jcXVvdDtwcm9qZWN0I3F1b3Q7LCBzY2hlbWE9WyNxdW90O1gjcXVvdDssICNxdW90O0EjcXVvdDtdLCBydWxlX2lkPXswfSJdCjVbIjUKb3A9I3F1b3Q7am9pbiNxdW90Oywgc2NoZW1hPVsjcXVvdDtYI3F1b3Q7LCAjcXVvdDtZI3F1b3Q7LCAjcXVvdDtBI3F1b3Q7XSwgcnVsZV9pZD17MH0iXQo2WyI2Cm9wPSNxdW90O3Byb2plY3QjcXVvdDssIHNjaGVtYT1bI3F1b3Q7WCNxdW90OywgI3F1b3Q7WSNxdW90O10sIHJlbD0jcXVvdDtfUl8wI3F1b3Q7LCBydWxlX2lkPXswfSJdClJbIlIKb3A9I3F1b3Q7dW5pb24jcXVvdDssIHJlbD0jcXVvdDtSI3F1b3Q7LCBzY2hlbWE9WyNxdW90O2NvbF8wI3F1b3Q7LCAjcXVvdDtjb2xfMSNxdW90O10sIHJ1bGVfaWQ9ezAsIDF9Il0KN1siNwpvcD0jcXVvdDtyZW5hbWUjcXVvdDssIHNjaGVtYT1bI3F1b3Q7WCNxdW90OywgI3F1b3Q7WSNxdW90O10sIHJ1bGVfaWQ9ezF9Il0KOFsiOApvcD0jcXVvdDtwcm9qZWN0I3F1b3Q7LCBzY2hlbWE9WyNxdW90O1gjcXVvdDssICNxdW90O1kjcXVvdDtdLCBydWxlX2lkPXsxfSJdCjlbIjkKb3A9I3F1b3Q7cHJvamVjdCNxdW90Oywgc2NoZW1hPVsjcXVvdDtYI3F1b3Q7LCAjcXVvdDtZI3F1b3Q7XSwgcmVsPSNxdW90O19SXzEjcXVvdDssIHJ1bGVfaWQ9ezF9Il0KMCAtLT4gUwoxIC0tPiAwCjIgLS0+IFMyCjMgLS0+IDIKNCAtLT4gMwo1IC0tPiAxCjUgLS0+IDQKNiAtLT4gNQpSIC0tPiA2ClIgLS0+IDkKNyAtLT4gUwo4IC0tPiA3CjkgLS0+IDgK\"/>"
      ],
      "text/plain": [
       "<IPython.core.display.Image object>"
      ]
     },
     "metadata": {},
     "output_type": "display_data"
    }
   ],
   "source": [
    "m = merge_term_graphs([t1,t2])\n",
    "draw(m)\n",
    "# assert serialize_graph(m) == ([('S', { 'rel': 'S', 'rule_id': {0, 1}}),\n",
    "#   (0, {'op': 'rename', 'names': [(0, 'X'), (1, 'Y')], 'rule_id': {0}}),\n",
    "#   ('S2', { 'rel': 'S2', 'rule_id': {0}}),\n",
    "#   (1, {'op': 'rename', 'names': [(0, 'X'), (1, 'A')], 'rule_id': {0}}),\n",
    "#   (2, {'op': 'select', 'theta': [(2, 1)], 'rule_id': {0}}),\n",
    "#   (3, {'op': 'join', 'rule_id': {0}}),\n",
    "#   (4, {'op': 'project', 'on': ['X', 'Y'], 'rel': '_R_0', 'rule_id': {0}}),\n",
    "#   ('R', {'op': 'union', 'rel': 'R', 'rule_id': {0, 1}}),\n",
    "#   (5, {'op': 'rename', 'names': [(0, 'X'), (1, 'Y')], 'rule_id': {1}}),\n",
    "#   (6, {'op': 'project', 'on': ['X', 'Y'], 'rel': '_R_1', 'rule_id': {1}})],\n",
    "#  [(0, 'S', {}),\n",
    "#   (1, 'S2', {}),\n",
    "#   (2, 1, {}),\n",
    "#   (3, 0, {}),\n",
    "#   (3, 2, {}),\n",
    "#   (4, 3, {}),\n",
    "#   ('R', 4, {}),\n",
    "#   ('R', 6, {}),\n",
    "#   (5, 'S', {}),\n",
    "#   (6, 5, {})])"
   ]
  },
  {
   "cell_type": "code",
   "execution_count": null,
   "metadata": {},
   "outputs": [
    {
     "data": {
      "text/html": [
       "<img src=\"https://mermaid.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\"/>"
      ],
      "text/plain": [
       "<IPython.core.display.Image object>"
      ]
     },
     "metadata": {},
     "output_type": "display_data"
    }
   ],
   "source": [
    "m = merge_term_graphs([t1,t3])\n",
    "draw(m)\n",
    "# assert serialize_graph(m) == ([('S', { 'rel': 'S', 'rule_id': {0}}),\n",
    "#   (0, {'op': 'rename', 'names': [(0, 'X'), (1, 'Y')], 'rule_id': {0}}),\n",
    "#   ('S2', { 'rel': 'S2', 'rule_id': {0, 2}}),\n",
    "#   (1, {'op': 'rename', 'names': [(0, 'X'), (1, 'A')], 'rule_id': {0}}),\n",
    "#   (2, {'op': 'select', 'theta': [(2, 1)], 'rule_id': {0}}),\n",
    "#   (3, {'op': 'join', 'rule_id': {0}}),\n",
    "#   (4, {'op': 'project', 'on': ['X', 'Y'], 'rel': '_R_0', 'rule_id': {0}}),\n",
    "#   ('R', {'op': 'union', 'rel': 'R', 'rule_id': {0}}),\n",
    "#   ('S3', { 'rel': 'S3', 'rule_id': {2}}),\n",
    "#   (5, {'op': 'rename', 'names': [(0, 'X'), (1, 'Y')], 'rule_id': {2}}),\n",
    "#   (6, {'op': 'rename', 'names': [(0, 'X'), (1, 'A')], 'rule_id': {2}}),\n",
    "#   (7, {'op': 'select', 'theta': [(2, 1)], 'rule_id': {2}}),\n",
    "#   (8, {'op': 'join', 'rule_id': {2}}),\n",
    "#   (9, {'op': 'project', 'on': ['X', 'Y'], 'rel': '_R2_2', 'rule_id': {2}}),\n",
    "#   ('R2', {'op': 'union', 'rel': 'R2', 'rule_id': {2}})],\n",
    "#  [(0, 'S', {}),\n",
    "#   (1, 'S2', {}),\n",
    "#   (2, 1, {}),\n",
    "#   (3, 0, {}),\n",
    "#   (3, 2, {}),\n",
    "#   (4, 3, {}),\n",
    "#   ('R', 4, {}),\n",
    "#   (5, 'S3', {}),\n",
    "#   (6, 'S2', {}),\n",
    "#   (7, 6, {}),\n",
    "#   (8, 5, {}),\n",
    "#   (8, 7, {}),\n",
    "#   (9, 8, {}),\n",
    "#   ('R2', 9, {})])"
   ]
  },
  {
   "cell_type": "code",
   "execution_count": null,
   "metadata": {},
   "outputs": [
    {
     "data": {
      "text/html": [
       "<img src=\"https://mermaid.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\"/>"
      ],
      "text/plain": [
       "<IPython.core.display.Image object>"
      ]
     },
     "metadata": {},
     "output_type": "display_data"
    }
   ],
   "source": [
    "m = merge_term_graphs([t1,t2,t3])\n",
    "draw(m)\n",
    "# assert serialize_graph(m) == ([('S', { 'rel': 'S', 'rule_id': {0, 1}}),\n",
    "#   (0, {'op': 'rename', 'names': [(0, 'X'), (1, 'Y')], 'rule_id': {0}}),\n",
    "#   ('S2', { 'rel': 'S2', 'rule_id': {0, 2}}),\n",
    "#   (1, {'op': 'rename', 'names': [(0, 'X'), (1, 'A')], 'rule_id': {0}}),\n",
    "#   (2, {'op': 'select', 'theta': [(2, 1)], 'rule_id': {0}}),\n",
    "#   (3, {'op': 'join', 'rule_id': {0}}),\n",
    "#   (4, {'op': 'project', 'on': ['X', 'Y'], 'rel': '_R_0', 'rule_id': {0}}),\n",
    "#   ('R', {'op': 'union', 'rel': 'R', 'rule_id': {0, 1}}),\n",
    "#   (5, {'op': 'rename', 'names': [(0, 'X'), (1, 'Y')], 'rule_id': {1}}),\n",
    "#   (6, {'op': 'project', 'on': ['X', 'Y'], 'rel': '_R_1', 'rule_id': {1}}),\n",
    "#   ('S3', { 'rel': 'S3', 'rule_id': {2}}),\n",
    "#   (7, {'op': 'rename', 'names': [(0, 'X'), (1, 'Y')], 'rule_id': {2}}),\n",
    "#   (8, {'op': 'rename', 'names': [(0, 'X'), (1, 'A')], 'rule_id': {2}}),\n",
    "#   (9, {'op': 'select', 'theta': [(2, 1)], 'rule_id': {2}}),\n",
    "#   (10, {'op': 'join', 'rule_id': {2}}),\n",
    "#   (11, {'op': 'project', 'on': ['X', 'Y'], 'rel': '_R2_2', 'rule_id': {2}}),\n",
    "#   ('R2', {'op': 'union', 'rel': 'R2', 'rule_id': {2}})],\n",
    "#  [(0, 'S', {}),\n",
    "#   (1, 'S2', {}),\n",
    "#   (2, 1, {}),\n",
    "#   (3, 0, {}),\n",
    "#   (3, 2, {}),\n",
    "#   (4, 3, {}),\n",
    "#   ('R', 4, {}),\n",
    "#   ('R', 6, {}),\n",
    "#   (5, 'S', {}),\n",
    "#   (6, 5, {}),\n",
    "#   (7, 'S3', {}),\n",
    "#   (8, 'S2', {}),\n",
    "#   (9, 8, {}),\n",
    "#   (10, 7, {}),\n",
    "#   (10, 9, {}),\n",
    "#   (11, 10, {}),\n",
    "#   ('R2', 11, {})])"
   ]
  },
  {
   "cell_type": "code",
   "execution_count": null,
   "metadata": {},
   "outputs": [],
   "source": [
    "# TODO correct commented out tests once we see that the execution is correct"
   ]
  },
  {
   "cell_type": "code",
   "execution_count": null,
   "metadata": {},
   "outputs": [],
   "source": [
    "#|hide\n",
    "import nbdev; nbdev.nbdev_export()\n",
    "     "
   ]
  }
 ],
 "metadata": {
  "kernelspec": {
   "display_name": "python3",
   "language": "python",
   "name": "python3"
  }
 },
 "nbformat": 4,
 "nbformat_minor": 4
}
