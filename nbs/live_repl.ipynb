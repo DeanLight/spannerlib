{
 "cells": [
  {
   "cell_type": "markdown",
   "metadata": {},
   "source": [
    "# Try it yourself!"
   ]
  },
  {
   "cell_type": "code",
   "execution_count": null,
   "metadata": {},
   "outputs": [],
   "source": [
    "#TODO remove this"
   ]
  },
  {
   "cell_type": "markdown",
   "metadata": {},
   "source": [
    "## Live REPL for spannerlog\n",
    "\n",
    "You don't need to install anything to start using `spannerlog`; we offer a live REPL right here on this webpage! This feature allows you to interactively run code and see the results instantly. This is a great way to try out the library and get a feel for what it's like to work with spannerlog.\n",
    "\n",
    "\n",
    "\n",
    "### Example Code Snippets\n",
    "\n",
    "Here are a few example code snippets that you can run in the live REPL to get started:\n",
    "\n",
    "```python\n",
    "%%spannerlog\n",
    "enrolled = \"dave chemistry dave biology rem biology ram biology emilia physics roswaal chemistry roswaal biology roswaal physics\"\n",
    "grades = \"dave 80 rem 66 ram 66 roswaal 100 emilia 88\"\n",
    "\n",
    "enrolled_in(Student, Course) <- py_rgx_string(enrolled, \"(\\w+).*?(\\w+)\")->(Student, Course)\n",
    "student_grade(Student, Grade) <- py_rgx_string(grades, \"(\\w+).*?(\\d+)\") -> (Student, Grade)\n",
    "interesting_student(X) <- enrolled_in(X, \"biology\"), enrolled_in(X, \"chemistry\"), student_grade(X, \"80\")\n",
    "?interesting_student(X)\n",
    "```\n",
    "\n",
    "```python\n",
    "%%spannerlog\n",
    "new parent(str, str)\n",
    "parent(\"Liam\", \"Noah\")\n",
    "parent(\"Noah\", \"Oliver\")\n",
    "\n",
    "ancestor(X,Y) <- parent(X,Y)\n",
    "ancestor(X,Y) <- parent(X,Z), ancestor(Z,Y)\n",
    "\n",
    "?ancestor(Ancestor, Descendant)\n",
    "```"
   ]
  },
  {
   "cell_type": "code",
   "execution_count": null,
   "metadata": {},
   "outputs": [
    {
     "data": {
      "text/html": [
       "\n",
       "<iframe\n",
       "  src=\"https://deanlight.github.io/spanner-workbench-live-repl/repl/index.html?toolbar=1&kernel=xeus-python&code=import%20spannerlog\"\n",
       "  height = 800\n",
       "  width = 740\n",
       "  ></iframe>\n"
      ],
      "text/plain": [
       "<IPython.core.display.HTML object>"
      ]
     },
     "metadata": {},
     "output_type": "display_data"
    }
   ],
   "source": [
    "#| exec_doc\n",
    "#| echo:false\n",
    "from IPython.display import HTML\n",
    "\n",
    "html_code = \"\"\"\n",
    "<iframe\n",
    "  src=\"https://deanlight.github.io/spanner-workbench-live-repl/repl/index.html?toolbar=1&kernel=xeus-python&code=import%20spannerlog\"\n",
    "  height = 700\n",
    "  width = 740\n",
    "  ></iframe>\n",
    "\"\"\"\n",
    "\n",
    "display(HTML(html_code))\n"
   ]
  }
 ],
 "metadata": {
  "kernelspec": {
   "display_name": "python3",
   "language": "python",
   "name": "python3"
  }
 },
 "nbformat": 4,
 "nbformat_minor": 2
}
