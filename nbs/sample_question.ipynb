{
 "cells": [
  {
   "cell_type": "markdown",
   "metadata": {},
   "source": [
    "After familiarizing yourself with the syntax of spannerlog, <br>\n",
    "let's explore another example that highlights the power of this declarative language. <br>\n",
    "given a story.txt file which contains in between its lines parent-child information, the information is provided as follows: <br>\n",
    "1- X is the parent/father of Y <br>\n",
    "2- Y is the child/daughter of X\n",
    "\n",
    "The story also has some last names.\n",
    "The task is to identify the last name of all individuals.\n",
    "It's important to note that you don't have access to individual last names, but you can deduce them by constructing family trees based on the information provided in the story.\n",
    "\n",
    "Here is the first line of the story as an example:\n",
    "```plaintext\n",
    "Once upon a time, there was a little girl named Aria Walker. Aria is the daughter of Owen.\n",
    "```\n",
    "What you should deduce from this line is that Owen is the parent of Aria as it matches the first template of provided information (Y is the daughter of X), <br>\n",
    "and since Aria's name was given along with her lastname, <br>\n",
    "you should also conclude that Owen's last name is also Walker.\n",
    "\n",
    "Take a couple of minutes to think a solution for this problem.\n",
    "---\n",
    "\n",
    "Now that you understand the complexity of deducing last names based on family trees and extracting the parent-child relationships using Python, <br>\n",
    "let us show you how easily we can do that by incorporating spannerlog into the equation.\n"
   ]
  },
  {
   "cell_type": "code",
   "execution_count": null,
   "metadata": {},
   "outputs": [],
   "source": [
    "from spannerlib import get_magic_session,Span\n",
    "\n",
    "sess = get_magic_session()\n",
    "\n",
    "story = Span(\"\"\"\n",
    "Once upon a time, there was a little girl named Aria Walker. Aria is the daughter of Owen. Owen was a kind and caring father who adored his daughter's laughter and curiosity.\n",
    "In the neighboring town, there lived a cheerful boy named Eliana. Eliana's eyes sparkled with innocence, Owen is the father of Eliana.\n",
    "Owen cherished every moment spent with Eliana, teaching her valuable life lessons and nurturing her dreams.\n",
    "One sunny day, Aria gave birth to a wonderful girl called Mila. Mila is the daughter of Aria, Aria, watched over her with unwavering love and pride.\n",
    "Aria and Mila formed an instant bond, becoming the best of friends and had a blossoming friendship.\n",
    "\n",
    "As the years passed, Mila grew into a confident young girl, thanks to the support and encouragement of her mother, Aria. Mila, in turn,\n",
    "became a caring sibling to her little brother,Owen is the father of Caleb. Their bond was unbreakable,\n",
    "and they shared countless adventures together under the watchful eyes of their mother.\n",
    "\n",
    "Across the village, there lived a young girl named Lila. Lila was a spirited and curious child, Lila is the daughter of Benjamin, she was\n",
    "always seeking new adventures in the world around her. \n",
    "Her father, Benjamin Smith, was a wise and gentle man who cherished his daughter's laughter and inquisitive nature.\n",
    "Benjamin had another child, Daniel is the child of Benjamin, Yaer is the parent of Benjamin.\n",
    "\"\"\",name='story')\n",
    "\n",
    "sess.import_var(\"story\", story)"
   ]
  },
  {
   "cell_type": "code",
   "execution_count": null,
   "metadata": {},
   "outputs": [
    {
     "data": {
      "text/plain": [
       "'?parent(X,Y)'"
      ]
     },
     "metadata": {},
     "output_type": "display_data"
    },
    {
     "data": {
      "text/html": [
       "<style type=\"text/css\">\n",
       "#T_a8e05_row0_col0, #T_a8e05_row0_col1, #T_a8e05_row1_col0, #T_a8e05_row1_col1, #T_a8e05_row2_col0, #T_a8e05_row2_col1, #T_a8e05_row3_col0, #T_a8e05_row3_col1, #T_a8e05_row4_col0, #T_a8e05_row4_col1, #T_a8e05_row5_col0, #T_a8e05_row5_col1, #T_a8e05_row6_col0, #T_a8e05_row6_col1 {\n",
       "  overflow-wrap: break-word;\n",
       "  max-width: 800px;\n",
       "  text-align: left;\n",
       "}\n",
       "</style>\n",
       "<table id=\"T_a8e05\">\n",
       "  <thead>\n",
       "    <tr>\n",
       "      <th class=\"blank level0\" >&nbsp;</th>\n",
       "      <th id=\"T_a8e05_level0_col0\" class=\"col_heading level0 col0\" >X</th>\n",
       "      <th id=\"T_a8e05_level0_col1\" class=\"col_heading level0 col1\" >Y</th>\n",
       "    </tr>\n",
       "  </thead>\n",
       "  <tbody>\n",
       "    <tr>\n",
       "      <th id=\"T_a8e05_level0_row0\" class=\"row_heading level0 row0\" >0</th>\n",
       "      <td id=\"T_a8e05_row0_col0\" class=\"data row0 col0\" >[@story,86,90) \"Owen\"</td>\n",
       "      <td id=\"T_a8e05_row0_col1\" class=\"data row0 col1\" >[@story,62,66) \"Aria\"</td>\n",
       "    </tr>\n",
       "    <tr>\n",
       "      <th id=\"T_a8e05_level0_row1\" class=\"row_heading level0 row1\" >1</th>\n",
       "      <td id=\"T_a8e05_row1_col0\" class=\"data row1 col0\" >[@story,281,285) \"Owen\"</td>\n",
       "      <td id=\"T_a8e05_row1_col1\" class=\"data row1 col1\" >[@story,303,309) \"Eliana\"</td>\n",
       "    </tr>\n",
       "    <tr>\n",
       "      <th id=\"T_a8e05_level0_row2\" class=\"row_heading level0 row2\" >2</th>\n",
       "      <td id=\"T_a8e05_row2_col0\" class=\"data row2 col0\" >[@story,507,511) \"Aria\"</td>\n",
       "      <td id=\"T_a8e05_row2_col1\" class=\"data row2 col1\" >[@story,483,487) \"Mila\"</td>\n",
       "    </tr>\n",
       "    <tr>\n",
       "      <th id=\"T_a8e05_level0_row3\" class=\"row_heading level0 row3\" >3</th>\n",
       "      <td id=\"T_a8e05_row3_col0\" class=\"data row3 col0\" >[@story,851,855) \"Owen\"</td>\n",
       "      <td id=\"T_a8e05_row3_col1\" class=\"data row3 col1\" >[@story,873,878) \"Caleb\"</td>\n",
       "    </tr>\n",
       "    <tr>\n",
       "      <th id=\"T_a8e05_level0_row4\" class=\"row_heading level0 row4\" >4</th>\n",
       "      <td id=\"T_a8e05_row4_col0\" class=\"data row4 col0\" >[@story,1116,1124) \"Benjamin\"</td>\n",
       "      <td id=\"T_a8e05_row4_col1\" class=\"data row4 col1\" >[@story,1092,1096) \"Lila\"</td>\n",
       "    </tr>\n",
       "    <tr>\n",
       "      <th id=\"T_a8e05_level0_row5\" class=\"row_heading level0 row5\" >5</th>\n",
       "      <td id=\"T_a8e05_row5_col0\" class=\"data row5 col0\" >[@story,1357,1365) \"Benjamin\"</td>\n",
       "      <td id=\"T_a8e05_row5_col1\" class=\"data row5 col1\" >[@story,1334,1340) \"Daniel\"</td>\n",
       "    </tr>\n",
       "    <tr>\n",
       "      <th id=\"T_a8e05_level0_row6\" class=\"row_heading level0 row6\" >6</th>\n",
       "      <td id=\"T_a8e05_row6_col0\" class=\"data row6 col0\" >[@story,1367,1371) \"Yaer\"</td>\n",
       "      <td id=\"T_a8e05_row6_col1\" class=\"data row6 col1\" >[@story,1389,1397) \"Benjamin\"</td>\n",
       "    </tr>\n",
       "  </tbody>\n",
       "</table>\n"
      ],
      "text/plain": [
       "<pandas.io.formats.style.Styler>"
      ]
     },
     "metadata": {},
     "output_type": "display_data"
    },
    {
     "data": {
      "text/plain": [
       "'?lastname(X,Y)'"
      ]
     },
     "metadata": {},
     "output_type": "display_data"
    },
    {
     "data": {
      "text/html": [
       "<style type=\"text/css\">\n",
       "#T_7afea_row0_col0, #T_7afea_row0_col1, #T_7afea_row1_col0, #T_7afea_row1_col1 {\n",
       "  overflow-wrap: break-word;\n",
       "  max-width: 800px;\n",
       "  text-align: left;\n",
       "}\n",
       "</style>\n",
       "<table id=\"T_7afea\">\n",
       "  <thead>\n",
       "    <tr>\n",
       "      <th class=\"blank level0\" >&nbsp;</th>\n",
       "      <th id=\"T_7afea_level0_col0\" class=\"col_heading level0 col0\" >X</th>\n",
       "      <th id=\"T_7afea_level0_col1\" class=\"col_heading level0 col1\" >Y</th>\n",
       "    </tr>\n",
       "  </thead>\n",
       "  <tbody>\n",
       "    <tr>\n",
       "      <th id=\"T_7afea_level0_row0\" class=\"row_heading level0 row0\" >0</th>\n",
       "      <td id=\"T_7afea_row0_col0\" class=\"data row0 col0\" >[@story,49,53) \"Aria\"</td>\n",
       "      <td id=\"T_7afea_row0_col1\" class=\"data row0 col1\" >[@story,54,60) \"Walker\"</td>\n",
       "    </tr>\n",
       "    <tr>\n",
       "      <th id=\"T_7afea_level0_row1\" class=\"row_heading level0 row1\" >1</th>\n",
       "      <td id=\"T_7afea_row1_col0\" class=\"data row1 col0\" >[@story,1202,1210) \"Benjamin\"</td>\n",
       "      <td id=\"T_7afea_row1_col1\" class=\"data row1 col1\" >[@story,1211,1216) \"Smith\"</td>\n",
       "    </tr>\n",
       "  </tbody>\n",
       "</table>\n"
      ],
      "text/plain": [
       "<pandas.io.formats.style.Styler>"
      ]
     },
     "metadata": {},
     "output_type": "display_data"
    }
   ],
   "source": [
    "%%spannerlog\n",
    "parent(X,Y) <- rgx(\"(\\w+)\\s+is\\s+the\\s+daughter\\s+of\\s+(\\w+)\",$story) -> (Y,X)\n",
    "parent(X,Y) <- rgx(\"(\\w+)\\s+is\\s+the\\s+child\\s+of\\s+(\\w+)\",$story) -> (Y,X)\n",
    "parent(X,Y) <- rgx(\"(\\w+)\\s+is\\s+the\\s+parent\\s+of\\s+(\\w+)\",$story) -> (X,Y)\n",
    "parent(X,Y) <- rgx(\"(\\w+)\\s+is\\s+the\\s+father\\s+of\\s+(\\w+)\",$story) -> (X,Y)\n",
    "lastname(X,Y)<-rgx(\"([A-Z][a-z]+)\\s([A-Z][a-z]+)\",$story) -> (X,Y)\n",
    "?parent(X,Y)\n",
    "?lastname(X,Y)"
   ]
  },
  {
   "cell_type": "markdown",
   "metadata": {},
   "source": [
    "## Deducing Last Names Based on Family Trees with spannerlog\n",
    "\n",
    "The following spannerlog code provides a simple yet powerful way to deduce the last name of each person based on the family tree information extracted to the parent relation."
   ]
  },
  {
   "cell_type": "code",
   "execution_count": null,
   "metadata": {},
   "outputs": [
    {
     "data": {
      "text/plain": [
       "'?Family(X,Y)'"
      ]
     },
     "metadata": {},
     "output_type": "display_data"
    },
    {
     "data": {
      "text/html": [
       "<style type=\"text/css\">\n",
       "#T_af4de_row0_col0, #T_af4de_row0_col1, #T_af4de_row1_col0, #T_af4de_row1_col1 {\n",
       "  overflow-wrap: break-word;\n",
       "  max-width: 800px;\n",
       "  text-align: left;\n",
       "}\n",
       "</style>\n",
       "<table id=\"T_af4de\">\n",
       "  <thead>\n",
       "    <tr>\n",
       "      <th class=\"blank level0\" >&nbsp;</th>\n",
       "      <th id=\"T_af4de_level0_col0\" class=\"col_heading level0 col0\" >X</th>\n",
       "      <th id=\"T_af4de_level0_col1\" class=\"col_heading level0 col1\" >Y</th>\n",
       "    </tr>\n",
       "  </thead>\n",
       "  <tbody>\n",
       "    <tr>\n",
       "      <th id=\"T_af4de_level0_row0\" class=\"row_heading level0 row0\" >0</th>\n",
       "      <td id=\"T_af4de_row0_col0\" class=\"data row0 col0\" >[@story,54,60) \"Walker\"</td>\n",
       "      <td id=\"T_af4de_row0_col1\" class=\"data row0 col1\" >[@story,49,53) \"Aria\"</td>\n",
       "    </tr>\n",
       "    <tr>\n",
       "      <th id=\"T_af4de_level0_row1\" class=\"row_heading level0 row1\" >1</th>\n",
       "      <td id=\"T_af4de_row1_col0\" class=\"data row1 col0\" >[@story,1211,1216) \"Smith\"</td>\n",
       "      <td id=\"T_af4de_row1_col1\" class=\"data row1 col1\" >[@story,1202,1210) \"Benjamin\"</td>\n",
       "    </tr>\n",
       "  </tbody>\n",
       "</table>\n"
      ],
      "text/plain": [
       "<pandas.io.formats.style.Styler>"
      ]
     },
     "metadata": {},
     "output_type": "display_data"
    }
   ],
   "source": [
    "%%spannerlog\n",
    "Family(X,Y) <- lastname(Y,X)\n",
    "Family(X,Y) <- Family(X,Z), parent(Y,Z)\n",
    "Family(X,Y) <- Family(X,Z), parent(Z,Y)\n",
    "?Family(X,Y)"
   ]
  }
 ],
 "metadata": {
  "kernelspec": {
   "display_name": "python3",
   "language": "python",
   "name": "python3"
  }
 },
 "nbformat": 4,
 "nbformat_minor": 2
}
