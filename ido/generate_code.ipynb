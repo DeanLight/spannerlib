{
 "cells": [
  {
   "cell_type": "code",
   "execution_count": 28,
   "metadata": {},
   "outputs": [],
   "source": [
    "from spannerlib import get_magic_session,Span\n",
    "from graph_rewrite import draw"
   ]
  },
  {
   "cell_type": "code",
   "execution_count": 29,
   "metadata": {},
   "outputs": [],
   "source": [
    "%%spannerlog\n",
    "new Parent(str,str)\n",
    "\n",
    "Ancestor(x,y)<-Parent(x,y).\n",
    "Ancestor(x,y)<-Parent(x,z),Ancestor(z,y).\n",
    "\n",
    "#numDescendants(X,count(Y)) <- Ancestor(X,Y).\n",
    "\n"
   ]
  },
  {
   "cell_type": "code",
   "execution_count": 30,
   "metadata": {},
   "outputs": [],
   "source": [
    "sess = get_magic_session()"
   ]
  },
  {
   "cell_type": "code",
   "execution_count": 31,
   "metadata": {},
   "outputs": [
    {
     "data": {
      "text/html": [
       "<img src=\"https://mermaid.ink/img/CmZsb3djaGFydCBUQgpQYXJlbnRbIlBhcmVudApyZWw9I3F1b3Q7UGFyZW50I3F1b3Q7LCBydWxlX2lkPXsjcXVvdDtmYWN0I3F1b3Q7LCAwLCAxfSwgc2NoZW1hPVsjcXVvdDtjb2xfMCNxdW90OywgI3F1b3Q7Y29sXzEjcXVvdDtdLCBvcD0jcXVvdDtnZXRfcmVsI3F1b3Q7LCBkYj1EQihQYXJlbnQsIEFuY2VzdG9yKSJdCkFuY2VzdG9yWyJBbmNlc3RvcgpyZWw9I3F1b3Q7QW5jZXN0b3IjcXVvdDssIHJ1bGVfaWQ9eyNxdW90O2ZhY3QjcXVvdDssIDAsIDF9LCBvcD0jcXVvdDt1bmlvbiNxdW90Oywgc2NoZW1hPVsjcXVvdDtjb2xfMCNxdW90OywgI3F1b3Q7Y29sXzEjcXVvdDtdIl0KMFsiMApvcD0jcXVvdDtyZW5hbWUjcXVvdDssIHNjaGVtYT1bI3F1b3Q7eCNxdW90OywgI3F1b3Q7eSNxdW90O10sIHJ1bGVfaWQ9ezB9Il0KMVsiMQpvcD0jcXVvdDtwcm9qZWN0I3F1b3Q7LCBzY2hlbWE9WyNxdW90O3gjcXVvdDssICNxdW90O3kjcXVvdDtdLCBydWxlX2lkPXswfSJdCjJbIjIKb3A9I3F1b3Q7cHJvamVjdCNxdW90Oywgc2NoZW1hPVsjcXVvdDt4I3F1b3Q7LCAjcXVvdDt5I3F1b3Q7XSwgcmVsPSNxdW90O19BbmNlc3Rvcl8wI3F1b3Q7LCBydWxlX2lkPXswfSJdCjZbIjYKb3A9I3F1b3Q7cmVuYW1lI3F1b3Q7LCBzY2hlbWE9WyNxdW90O3gjcXVvdDssICNxdW90O3ojcXVvdDtdLCBydWxlX2lkPXsxfSJdCjdbIjcKb3A9I3F1b3Q7cHJvamVjdCNxdW90Oywgc2NoZW1hPVsjcXVvdDt4I3F1b3Q7LCAjcXVvdDt6I3F1b3Q7XSwgcnVsZV9pZD17MX0iXQo4WyI4Cm9wPSNxdW90O3JlbmFtZSNxdW90Oywgc2NoZW1hPVsjcXVvdDt6I3F1b3Q7LCAjcXVvdDt5I3F1b3Q7XSwgcnVsZV9pZD17MX0iXQozWyIzCm9wPSNxdW90O3Byb2plY3QjcXVvdDssIHNjaGVtYT1bI3F1b3Q7eiNxdW90OywgI3F1b3Q7eSNxdW90O10sIHJ1bGVfaWQ9ezF9Il0KNFsiNApvcD0jcXVvdDtqb2luI3F1b3Q7LCBzY2hlbWE9WyNxdW90O3gjcXVvdDssICNxdW90O3ojcXVvdDssICNxdW90O3kjcXVvdDtdLCBydWxlX2lkPXsxfSJdCjVbIjUKb3A9I3F1b3Q7cHJvamVjdCNxdW90Oywgc2NoZW1hPVsjcXVvdDt4I3F1b3Q7LCAjcXVvdDt5I3F1b3Q7XSwgcmVsPSNxdW90O19BbmNlc3Rvcl8xI3F1b3Q7LCBydWxlX2lkPXsxfSJdCjlbIjkKb3A9I3F1b3Q7cmVuYW1lI3F1b3Q7LCBzY2hlbWE9WyNxdW90O3gjcXVvdDssICNxdW90O3kjcXVvdDtdIl0KMTBbIjEwCm9wPSNxdW90O3Byb2plY3QjcXVvdDssIHNjaGVtYT1bI3F1b3Q7eCNxdW90OywgI3F1b3Q7eSNxdW90O10iXQpBbmNlc3RvciAtLT4gMgpBbmNlc3RvciAtLT4gNQowIC0tPiBQYXJlbnQKMSAtLT4gMAoyIC0tPiAxCjYgLS0+IFBhcmVudAo3IC0tPiA2CjggLS0+IEFuY2VzdG9yCjMgLS0+IDgKNCAtLT4gNwo0IC0tPiAzCjUgLS0+IDQKOSAtLT4gQW5jZXN0b3IKMTAgLS0+IDkK\"/>"
      ],
      "text/plain": [
       "<IPython.core.display.Image object>"
      ]
     },
     "metadata": {},
     "output_type": "display_data"
    }
   ],
   "source": [
    "graph,root = sess.export('?Ancestor(x,y)',plan_query=True,draw_query=True)"
   ]
  },
  {
   "cell_type": "code",
   "execution_count": null,
   "metadata": {},
   "outputs": [],
   "source": []
  },
  {
   "cell_type": "code",
   "execution_count": null,
   "metadata": {},
   "outputs": [],
   "source": []
  },
  {
   "cell_type": "code",
   "execution_count": 32,
   "metadata": {},
   "outputs": [
    {
     "name": "stdout",
     "output_type": "stream",
     "text": [
      "('Parent', {'rel': 'Parent', 'rule_id': {'fact', 0, 1}, 'schema': ['col_0', 'col_1'], 'op': 'get_rel', 'db': DB(Parent, Ancestor)})\n",
      "('Ancestor', {'rel': 'Ancestor', 'rule_id': {'fact', 0, 1}, 'op': 'union', 'schema': ['col_0', 'col_1']})\n",
      "(0, {'op': 'rename', 'schema': ['x', 'y'], 'rule_id': {0}})\n",
      "(1, {'op': 'project', 'schema': ['x', 'y'], 'rule_id': {0}})\n",
      "(2, {'op': 'project', 'schema': ['x', 'y'], 'rel': '_Ancestor_0', 'rule_id': {0}})\n",
      "(6, {'op': 'rename', 'schema': ['x', 'z'], 'rule_id': {1}})\n",
      "(7, {'op': 'project', 'schema': ['x', 'z'], 'rule_id': {1}})\n",
      "(8, {'op': 'rename', 'schema': ['z', 'y'], 'rule_id': {1}})\n",
      "(3, {'op': 'project', 'schema': ['z', 'y'], 'rule_id': {1}})\n",
      "(4, {'op': 'join', 'schema': ['x', 'z', 'y'], 'rule_id': {1}})\n",
      "(5, {'op': 'project', 'schema': ['x', 'y'], 'rel': '_Ancestor_1', 'rule_id': {1}})\n",
      "(9, {'op': 'rename', 'schema': ['x', 'y']})\n",
      "(10, {'op': 'project', 'schema': ['x', 'y']})\n"
     ]
    }
   ],
   "source": [
    "g_r = graph.reverse()\n",
    "\n",
    "def find_sources(graph):\n",
    "    return [node for node in graph.nodes() if graph.in_degree(node) == 0]\n",
    "\n",
    "sources = find_sources(g_r)\n",
    "for node in g_r.nodes(data=True):\n",
    "    print(node)"
   ]
  },
  {
   "cell_type": "code",
   "execution_count": 33,
   "metadata": {},
   "outputs": [
    {
     "name": "stdout",
     "output_type": "stream",
     "text": [
      "\n",
      "flowchart TB\n",
      "Parent[\"Parent\n",
      "rel=#quot;Parent#quot;, rule_id={#quot;fact#quot;, 0, 1}, schema=[#quot;col_0#quot;, #quot;col_1#quot;], op=#quot;get_rel#quot;, db=DB(Parent, Ancestor)\"]\n",
      "Ancestor[\"Ancestor\n",
      "rel=#quot;Ancestor#quot;, rule_id={#quot;fact#quot;, 0, 1}, op=#quot;union#quot;, schema=[#quot;col_0#quot;, #quot;col_1#quot;]\"]\n",
      "0[\"0\n",
      "op=#quot;rename#quot;, schema=[#quot;x#quot;, #quot;y#quot;], rule_id={0}\"]\n",
      "1[\"1\n",
      "op=#quot;project#quot;, schema=[#quot;x#quot;, #quot;y#quot;], rule_id={0}\"]\n",
      "2[\"2\n",
      "op=#quot;project#quot;, schema=[#quot;x#quot;, #quot;y#quot;], rel=#quot;_Ancestor_0#quot;, rule_id={0}\"]\n",
      "6[\"6\n",
      "op=#quot;rename#quot;, schema=[#quot;x#quot;, #quot;z#quot;], rule_id={1}\"]\n",
      "7[\"7\n",
      "op=#quot;project#quot;, schema=[#quot;x#quot;, #quot;z#quot;], rule_id={1}\"]\n",
      "8[\"8\n",
      "op=#quot;rename#quot;, schema=[#quot;z#quot;, #quot;y#quot;], rule_id={1}\"]\n",
      "3[\"3\n",
      "op=#quot;project#quot;, schema=[#quot;z#quot;, #quot;y#quot;], rule_id={1}\"]\n",
      "4[\"4\n",
      "op=#quot;join#quot;, schema=[#quot;x#quot;, #quot;z#quot;, #quot;y#quot;], rule_id={1}\"]\n",
      "5[\"5\n",
      "op=#quot;project#quot;, schema=[#quot;x#quot;, #quot;y#quot;], rel=#quot;_Ancestor_1#quot;, rule_id={1}\"]\n",
      "9[\"9\n",
      "op=#quot;rename#quot;, schema=[#quot;x#quot;, #quot;y#quot;]\"]\n",
      "10[\"10\n",
      "op=#quot;project#quot;, schema=[#quot;x#quot;, #quot;y#quot;]\"]\n",
      "Parent --> 0\n",
      "Parent --> 6\n",
      "Ancestor --> 8\n",
      "Ancestor --> 9\n",
      "0 --> 1\n",
      "1 --> 2\n",
      "2 --> Ancestor\n",
      "6 --> 7\n",
      "7 --> 4\n",
      "8 --> 3\n",
      "3 --> 4\n",
      "4 --> 5\n",
      "5 --> Ancestor\n",
      "9 --> 10\n",
      "\n"
     ]
    },
    {
     "data": {
      "text/html": [
       "<img src=\"https://mermaid.ink/img/CmZsb3djaGFydCBUQgpQYXJlbnRbIlBhcmVudApyZWw9I3F1b3Q7UGFyZW50I3F1b3Q7LCBydWxlX2lkPXsjcXVvdDtmYWN0I3F1b3Q7LCAwLCAxfSwgc2NoZW1hPVsjcXVvdDtjb2xfMCNxdW90OywgI3F1b3Q7Y29sXzEjcXVvdDtdLCBvcD0jcXVvdDtnZXRfcmVsI3F1b3Q7LCBkYj1EQihQYXJlbnQsIEFuY2VzdG9yKSJdCkFuY2VzdG9yWyJBbmNlc3RvcgpyZWw9I3F1b3Q7QW5jZXN0b3IjcXVvdDssIHJ1bGVfaWQ9eyNxdW90O2ZhY3QjcXVvdDssIDAsIDF9LCBvcD0jcXVvdDt1bmlvbiNxdW90Oywgc2NoZW1hPVsjcXVvdDtjb2xfMCNxdW90OywgI3F1b3Q7Y29sXzEjcXVvdDtdIl0KMFsiMApvcD0jcXVvdDtyZW5hbWUjcXVvdDssIHNjaGVtYT1bI3F1b3Q7eCNxdW90OywgI3F1b3Q7eSNxdW90O10sIHJ1bGVfaWQ9ezB9Il0KMVsiMQpvcD0jcXVvdDtwcm9qZWN0I3F1b3Q7LCBzY2hlbWE9WyNxdW90O3gjcXVvdDssICNxdW90O3kjcXVvdDtdLCBydWxlX2lkPXswfSJdCjJbIjIKb3A9I3F1b3Q7cHJvamVjdCNxdW90Oywgc2NoZW1hPVsjcXVvdDt4I3F1b3Q7LCAjcXVvdDt5I3F1b3Q7XSwgcmVsPSNxdW90O19BbmNlc3Rvcl8wI3F1b3Q7LCBydWxlX2lkPXswfSJdCjZbIjYKb3A9I3F1b3Q7cmVuYW1lI3F1b3Q7LCBzY2hlbWE9WyNxdW90O3gjcXVvdDssICNxdW90O3ojcXVvdDtdLCBydWxlX2lkPXsxfSJdCjdbIjcKb3A9I3F1b3Q7cHJvamVjdCNxdW90Oywgc2NoZW1hPVsjcXVvdDt4I3F1b3Q7LCAjcXVvdDt6I3F1b3Q7XSwgcnVsZV9pZD17MX0iXQo4WyI4Cm9wPSNxdW90O3JlbmFtZSNxdW90Oywgc2NoZW1hPVsjcXVvdDt6I3F1b3Q7LCAjcXVvdDt5I3F1b3Q7XSwgcnVsZV9pZD17MX0iXQozWyIzCm9wPSNxdW90O3Byb2plY3QjcXVvdDssIHNjaGVtYT1bI3F1b3Q7eiNxdW90OywgI3F1b3Q7eSNxdW90O10sIHJ1bGVfaWQ9ezF9Il0KNFsiNApvcD0jcXVvdDtqb2luI3F1b3Q7LCBzY2hlbWE9WyNxdW90O3gjcXVvdDssICNxdW90O3ojcXVvdDssICNxdW90O3kjcXVvdDtdLCBydWxlX2lkPXsxfSJdCjVbIjUKb3A9I3F1b3Q7cHJvamVjdCNxdW90Oywgc2NoZW1hPVsjcXVvdDt4I3F1b3Q7LCAjcXVvdDt5I3F1b3Q7XSwgcmVsPSNxdW90O19BbmNlc3Rvcl8xI3F1b3Q7LCBydWxlX2lkPXsxfSJdCjlbIjkKb3A9I3F1b3Q7cmVuYW1lI3F1b3Q7LCBzY2hlbWE9WyNxdW90O3gjcXVvdDssICNxdW90O3kjcXVvdDtdIl0KMTBbIjEwCm9wPSNxdW90O3Byb2plY3QjcXVvdDssIHNjaGVtYT1bI3F1b3Q7eCNxdW90OywgI3F1b3Q7eSNxdW90O10iXQpQYXJlbnQgLS0+IDAKUGFyZW50IC0tPiA2CkFuY2VzdG9yIC0tPiA4CkFuY2VzdG9yIC0tPiA5CjAgLS0+IDEKMSAtLT4gMgoyIC0tPiBBbmNlc3Rvcgo2IC0tPiA3CjcgLS0+IDQKOCAtLT4gMwozIC0tPiA0CjQgLS0+IDUKNSAtLT4gQW5jZXN0b3IKOSAtLT4gMTAK\"/>"
      ],
      "text/plain": [
       "<IPython.core.display.Image object>"
      ]
     },
     "metadata": {},
     "output_type": "display_data"
    }
   ],
   "source": [
    "draw(g_r, ret_mermaid=True)"
   ]
  },
  {
   "cell_type": "code",
   "execution_count": null,
   "metadata": {},
   "outputs": [],
   "source": []
  },
  {
   "cell_type": "code",
   "execution_count": 34,
   "metadata": {},
   "outputs": [],
   "source": [
    "import networkx as nx\n",
    "from jinja2 import Template\n",
    "\n",
    "with open ('dataflow.template') as f:\n",
    "    template = Template(f.read())\n"
   ]
  },
  {
   "cell_type": "code",
   "execution_count": 35,
   "metadata": {},
   "outputs": [],
   "source": [
    "PYTHON_RUST_TYPES = {\n",
    "    \"<class 'str'>\": 'String'\n",
    "}"
   ]
  },
  {
   "cell_type": "code",
   "execution_count": 36,
   "metadata": {},
   "outputs": [
    {
     "data": {
      "text/plain": [
       "'(String, String)'"
      ]
     },
     "execution_count": 36,
     "metadata": {},
     "output_type": "execute_result"
    }
   ],
   "source": [
    "def get_input_scheme(node):\n",
    "    types_list = [PYTHON_RUST_TYPES[str(x)] for x in sess.engine.Relation_defs[node].scheme]\n",
    "    return f\"({', '.join(types_list)})\"\n",
    "\n",
    "sources_data = {}\n",
    "\n",
    "for source in sources:\n",
    "    sources_data[source] = {\n",
    "        'name': source,\n",
    "        'scheme': get_input_scheme(source)\n",
    "    }\n",
    "\n",
    "sources_data['Parent']['scheme']\n",
    "    "
   ]
  },
  {
   "cell_type": "code",
   "execution_count": 37,
   "metadata": {},
   "outputs": [],
   "source": [
    "c = nx.recursive_simple_cycles(g_r)\n",
    "c = c[0]\n",
    "# nx.topological_sort(g_r)\n",
    "c\n",
    "\n",
    "def find_anchor_of_cycle(graph, cycle):\n",
    "    # TODO: Change to node with edge to egress node (outside of the circle)\n",
    "    for node in cycle:\n",
    "        if graph.nodes[node]['op'] == 'union':\n",
    "            return node\n",
    "\n",
    "anchor = find_anchor_of_cycle(g_r, c)\n"
   ]
  },
  {
   "cell_type": "code",
   "execution_count": 38,
   "metadata": {},
   "outputs": [],
   "source": [
    "def change_node_key(G, old_key, new_key):\n",
    "    # Add a new node with the new key, and copy the attributes of the old node\n",
    "    G.add_node(new_key, **G.nodes[old_key])\n",
    "    \n",
    "    # Reconnect the edges from the old node to the new node\n",
    "    for neighbor in G.neighbors(old_key):\n",
    "        G.add_edge(new_key, neighbor)\n",
    "    \n",
    "    # If it's a directed graph, also handle incoming edges\n",
    "    if G.is_directed():\n",
    "        for predecessor in G.predecessors(old_key):\n",
    "            G.add_edge(predecessor, new_key)\n",
    "    \n",
    "    # Remove the old node\n",
    "    G.remove_node(old_key)"
   ]
  },
  {
   "cell_type": "code",
   "execution_count": 39,
   "metadata": {},
   "outputs": [],
   "source": [
    "def get_cycles(graph):\n",
    "    cycles = nx.recursive_simple_cycles(graph)\n",
    "    cycle_dicts = dict()\n",
    "    \n",
    "    for cycle in cycles:\n",
    "        anchor = find_anchor_of_cycle(graph, cycle)\n",
    "        cycle_dicts[anchor] = graph.subgraph(cycle).copy()\n",
    "        \n",
    "    return cycle_dicts"
   ]
  },
  {
   "cell_type": "code",
   "execution_count": 40,
   "metadata": {},
   "outputs": [],
   "source": [
    "def find_ingress_nodes(graph, cycle):\n",
    "    #TODO: Check why I need to do insert anchor to scope.\n",
    "    '''returns all nodes that have an edge to the cycle that is not part of the cycle'''\n",
    "    ingress_nodes = []\n",
    "    for node in cycle:\n",
    "        if type(node) == str and 'iter' in node:\n",
    "            node = node.split('_')[1]\n",
    "        for pred in graph.pred[node]:\n",
    "            if pred not in cycle:\n",
    "                ingress_nodes.append(pred)\n",
    "    return ingress_nodes\n",
    "\n",
    "\n"
   ]
  },
  {
   "cell_type": "code",
   "execution_count": 41,
   "metadata": {},
   "outputs": [
    {
     "name": "stdout",
     "output_type": "stream",
     "text": [
      "7\n"
     ]
    }
   ],
   "source": [
    "def reduced_graph(graph):\n",
    "    '''Returned a reduced graph with the cycle nodes removed but the anchor node'''\n",
    "    cycles = get_cycles(graph)\n",
    "    reduced = graph.copy()\n",
    "\n",
    "    for anchor, cycle in cycles.items():\n",
    "        cycle_nodes = [node for node in cycle if node != anchor]\n",
    "        change_node_key(cycle, anchor, f\"iter_{anchor}\")\n",
    "\n",
    "        reduced.remove_nodes_from(cycle_nodes)    \n",
    "        reduced.nodes[anchor]['anchor'] = True\n",
    "\n",
    "        # find edges that connect to the cycle and connect them to the anchor\n",
    "        for node in cycle_nodes:\n",
    "            for p_node in graph.predecessors(node):\n",
    "                if p_node not in cycle_nodes and p_node != anchor:\n",
    "                    print(p_node)\n",
    "                    reduced.add_edge(p_node, anchor)\n",
    "                    \n",
    "    \n",
    "    return reduced, cycles\n",
    "\n",
    "reduced, cycles = reduced_graph(g_r)\n"
   ]
  },
  {
   "cell_type": "code",
   "execution_count": null,
   "metadata": {},
   "outputs": [],
   "source": []
  },
  {
   "cell_type": "code",
   "execution_count": 42,
   "metadata": {},
   "outputs": [],
   "source": [
    "def get_node_schema(graph, node):\n",
    "    return f\"({', '.join(graph.nodes[node]['schema'])})\"\n"
   ]
  },
  {
   "cell_type": "code",
   "execution_count": 43,
   "metadata": {},
   "outputs": [],
   "source": [
    "def get_common_cols(graph, node1, node2):\n",
    "    return list(set(graph.nodes[node1]['schema']) & set(graph.nodes[node2]['schema']))\n",
    "def get_diff_cols(graph, node1, node2):\n",
    "    return list(set(graph.nodes[node1]['schema']) ^ set(graph.nodes[node2]['schema']))\n",
    "def get_minus_cols(graph, node1, common_cols):\n",
    "    return list(set(graph.nodes[node1]['schema']) - set(common_cols))\n",
    "\n"
   ]
  },
  {
   "cell_type": "code",
   "execution_count": 44,
   "metadata": {},
   "outputs": [],
   "source": [
    "def get_join_code(graph, node, anchor=None, in_iterate=False):\n",
    "    prev_nodes = list(graph.pred[node])\n",
    "    if len(prev_nodes) != 2:\n",
    "        raise ValueError(\"Node is not 2-join: \", node)\n",
    "    join1, join2 = list(graph.pred[node])\n",
    "    out_node_str = f\"node_{node}\"\n",
    "    join1_str = f\"node_{join1}\"\n",
    "    join2_str = f\"node_{join2}\"\n",
    "    \n",
    "    if in_iterate:\n",
    "        if node == anchor:\n",
    "            out_node_str = anchor\n",
    "        if join1 == anchor:\n",
    "            join1_str = join1\n",
    "        if join2 == anchor:\n",
    "            join2_str = join2\n",
    "    \n",
    "    common_cols = get_common_cols(graph, join1, join2)\n",
    "    join1_common = get_minus_cols(graph, join1, common_cols)\n",
    "    join2_common = get_minus_cols(graph, join2, common_cols)\n",
    "\n",
    "    common_schema = f\"({','.join(common_cols)})\" if len(common_cols)> 1 else common_cols[0]\n",
    "    join1_common_schema = f\"({','.join(join1_common)})\" if len(join1_common)> 1 else join1_common[0]\n",
    "    join2_common_schema = f\"({','.join(join2_common)})\" if len(join2_common)> 1 else join2_common[0]\n",
    "\n",
    "    return f\"\"\"let {out_node_str} = {join1_str}.map(|{get_node_schema(graph, join1)}| ({common_schema}, {join1_common_schema}))\n",
    "            .join(&{join2_str}.map(|{get_node_schema(graph, join2)}| ({common_schema}, {join2_common_schema})))\n",
    "            .map(|({common_schema}, ({join1_common_schema}, {join2_common_schema}))| ({get_node_schema(graph, node)}));\"\"\"\n"
   ]
  },
  {
   "cell_type": "code",
   "execution_count": 45,
   "metadata": {},
   "outputs": [],
   "source": [
    "def get_union_code(graph, node, anchor=None, in_iterate=False):\n",
    "    preds = list(graph.pred[node])\n",
    "    prev_node1_str = f\"node_{preds[0]}\"\n",
    "    node_str = f\"node_{node}\"\n",
    "    if in_iterate:\n",
    "        if preds[0] == anchor:\n",
    "            prev_node1_str = anchor\n",
    "        if node == anchor:\n",
    "            node_str = anchor\n",
    "    if len(preds) == 1:\n",
    "        return f\"let {node_str} = node_{prev_node1_str};\"\n",
    "    elif len(preds) == 2:\n",
    "        prev_node2_str = f\"node_{preds[1]}\"\n",
    "        if in_iterate and preds[1] == anchor:\n",
    "            prev_node2_str = anchor\n",
    "        return f\"let {node_str} = {prev_node1_str}.concat(&{prev_node2_str});\""
   ]
  },
  {
   "cell_type": "code",
   "execution_count": 46,
   "metadata": {},
   "outputs": [],
   "source": [
    "def generate_code(graph, node, anchor=None, in_iterate=False):\n",
    "    gr_node = graph.nodes[node] \n",
    "    schema = get_node_schema(graph, node)\n",
    "    code = None\n",
    "    prev_nodes = list(graph.pred[node])\n",
    "    if prev_nodes:\n",
    "        prev_node_str = f\"node_{prev_nodes[0]}\"\n",
    "    \n",
    "    node_str = f\"node_{node}\"\n",
    "    if in_iterate:\n",
    "        if prev_nodes and prev_nodes[0] == anchor:\n",
    "            prev_node_str = anchor\n",
    "        if node == anchor:\n",
    "            node_str = anchor\n",
    "\n",
    "    if gr_node['op'] == 'get_rel':\n",
    "        code = f\"let {node_str} = input_{node}.to_collection(scope);\"\n",
    "    if gr_node['op'] == 'rename':\n",
    "        code = f\"let {node_str} = {prev_node_str}.map(|{schema}| {schema});\"\n",
    "    elif gr_node['op'] == 'project':\n",
    "        if prev_nodes:\n",
    "            prev_schema = get_node_schema(graph, prev_nodes[0])\n",
    "            code = f\"let {node_str} = {prev_node_str}.map(|{prev_schema}| {schema});\"\n",
    "    elif gr_node['op'] == 'join':\n",
    "        code = get_join_code(graph, node, anchor=anchor, in_iterate=in_iterate)\n",
    "    elif gr_node['op'] == 'select':\n",
    "        #TODO: Implement select code, based on Theta type, and inputs.\n",
    "        code = \"//place holder for select node for node {node}\" \n",
    "    elif gr_node['op'] == 'union':\n",
    "        code = get_union_code(graph, node , in_iterate=in_iterate, anchor=anchor)\n",
    "    \n",
    "    return code\n"
   ]
  },
  {
   "cell_type": "code",
   "execution_count": 47,
   "metadata": {},
   "outputs": [],
   "source": [
    "with open ('iterate.template') as f:\n",
    "    iterate_template = Template(f.read())"
   ]
  },
  {
   "cell_type": "code",
   "execution_count": 48,
   "metadata": {},
   "outputs": [],
   "source": [
    "def find_egress_node(graph, cycle, anchor):\n",
    "    '''find a node that the anchor has an edge to it but it is not part of the cycle'''\n",
    "    for node in graph.successors(anchor):\n",
    "        if node not in cycle.nodes:\n",
    "            return node\n"
   ]
  },
  {
   "cell_type": "code",
   "execution_count": 49,
   "metadata": {},
   "outputs": [],
   "source": [
    "#TODO: Change ancestor node to iterator_id\n",
    "def traverse_cycle(graph, cycle, anchor):\n",
    "    '''create a list of nodes for traversing the cylce\n",
    "    (a direct edge must exist between adjucent nodes in the list)\n",
    "    The anchor node must be the last node in the list.\n",
    "    '''\n",
    "    temp_node = anchor\n",
    "    cycle_order = []\n",
    "    while len(cycle_order) < len(cycle):\n",
    "        cycle_order += list(cycle.successors(temp_node))\n",
    "        temp_node = cycle_order[-1]\n",
    "    return cycle_order\n",
    "\n"
   ]
  },
  {
   "cell_type": "code",
   "execution_count": 50,
   "metadata": {},
   "outputs": [
    {
     "name": "stdout",
     "output_type": "stream",
     "text": [
      "7\n",
      "Parent\n",
      "0\n",
      "6\n",
      "1\n",
      "7\n",
      "2\n",
      "Ancestor\n",
      "9\n",
      "10\n"
     ]
    }
   ],
   "source": [
    "reduced, cycles = reduced_graph(g_r)\n",
    "for node in list(nx.topological_sort(reduced)):\n",
    "    print (node)\n"
   ]
  },
  {
   "cell_type": "code",
   "execution_count": 51,
   "metadata": {},
   "outputs": [
    {
     "data": {
      "text/html": [
       "<img src=\"https://mermaid.ink/img/CmZsb3djaGFydCBUQgozWyIzCm9wPSNxdW90O3Byb2plY3QjcXVvdDssIHNjaGVtYT1bI3F1b3Q7eiNxdW90OywgI3F1b3Q7eSNxdW90O10sIHJ1bGVfaWQ9ezF9Il0KNFsiNApvcD0jcXVvdDtqb2luI3F1b3Q7LCBzY2hlbWE9WyNxdW90O3gjcXVvdDssICNxdW90O3ojcXVvdDssICNxdW90O3kjcXVvdDtdLCBydWxlX2lkPXsxfSJdCjVbIjUKb3A9I3F1b3Q7cHJvamVjdCNxdW90Oywgc2NoZW1hPVsjcXVvdDt4I3F1b3Q7LCAjcXVvdDt5I3F1b3Q7XSwgcmVsPSNxdW90O19BbmNlc3Rvcl8xI3F1b3Q7LCBydWxlX2lkPXsxfSJdCjhbIjgKb3A9I3F1b3Q7cmVuYW1lI3F1b3Q7LCBzY2hlbWE9WyNxdW90O3ojcXVvdDssICNxdW90O3kjcXVvdDtdLCBydWxlX2lkPXsxfSJdCml0ZXJfQW5jZXN0b3JbIml0ZXJfQW5jZXN0b3IKcmVsPSNxdW90O0FuY2VzdG9yI3F1b3Q7LCBydWxlX2lkPXsjcXVvdDtmYWN0I3F1b3Q7LCAwLCAxfSwgb3A9I3F1b3Q7dW5pb24jcXVvdDssIHNjaGVtYT1bI3F1b3Q7Y29sXzAjcXVvdDssICNxdW90O2NvbF8xI3F1b3Q7XSJdCjMgLS0+IDgKNCAtLT4gMwo1IC0tPiA0CjggLS0+IGl0ZXJfQW5jZXN0b3IKaXRlcl9BbmNlc3RvciAtLT4gNQo=\"/>"
      ],
      "text/plain": [
       "<IPython.core.display.Image object>"
      ]
     },
     "metadata": {},
     "output_type": "display_data"
    }
   ],
   "source": [
    "_, cycles = reduced_graph(graph)\n",
    "draw(cycles['Ancestor'])"
   ]
  },
  {
   "cell_type": "code",
   "execution_count": 52,
   "metadata": {},
   "outputs": [
    {
     "name": "stdout",
     "output_type": "stream",
     "text": [
      "7\n"
     ]
    },
    {
     "data": {
      "text/html": [
       "<img src=\"https://mermaid.ink/img/CmZsb3djaGFydCBUQgoyWyIyCm9wPSNxdW90O3Byb2plY3QjcXVvdDssIHNjaGVtYT1bI3F1b3Q7eCNxdW90OywgI3F1b3Q7eSNxdW90O10sIHJlbD0jcXVvdDtfQW5jZXN0b3JfMCNxdW90OywgcnVsZV9pZD17MH0iXQo3WyI3Cm9wPSNxdW90O3Byb2plY3QjcXVvdDssIHNjaGVtYT1bI3F1b3Q7eCNxdW90OywgI3F1b3Q7eiNxdW90O10sIHJ1bGVfaWQ9ezF9Il0KOFsiOApvcD0jcXVvdDtyZW5hbWUjcXVvdDssIHNjaGVtYT1bI3F1b3Q7eiNxdW90OywgI3F1b3Q7eSNxdW90O10sIHJ1bGVfaWQ9ezF9Il0KM1siMwpvcD0jcXVvdDtwcm9qZWN0I3F1b3Q7LCBzY2hlbWE9WyNxdW90O3ojcXVvdDssICNxdW90O3kjcXVvdDtdLCBydWxlX2lkPXsxfSJdCjRbIjQKb3A9I3F1b3Q7am9pbiNxdW90Oywgc2NoZW1hPVsjcXVvdDt4I3F1b3Q7LCAjcXVvdDt6I3F1b3Q7LCAjcXVvdDt5I3F1b3Q7XSwgcnVsZV9pZD17MX0iXQo1WyI1Cm9wPSNxdW90O3Byb2plY3QjcXVvdDssIHNjaGVtYT1bI3F1b3Q7eCNxdW90OywgI3F1b3Q7eSNxdW90O10sIHJlbD0jcXVvdDtfQW5jZXN0b3JfMSNxdW90OywgcnVsZV9pZD17MX0iXQppdGVyX0FuY2VzdG9yWyJpdGVyX0FuY2VzdG9yCnJlbD0jcXVvdDtBbmNlc3RvciNxdW90OywgcnVsZV9pZD17I3F1b3Q7ZmFjdCNxdW90OywgMCwgMX0sIG9wPSNxdW90O3VuaW9uI3F1b3Q7LCBzY2hlbWE9WyNxdW90O2NvbF8wI3F1b3Q7LCAjcXVvdDtjb2xfMSNxdW90O10iXQoyIC0tPiBpdGVyX0FuY2VzdG9yCjcgLS0+IDQKOCAtLT4gMwozIC0tPiA0CjQgLS0+IDUKNSAtLT4gaXRlcl9BbmNlc3RvcgppdGVyX0FuY2VzdG9yIC0tPiA4Cg==\"/>"
      ],
      "text/plain": [
       "<IPython.core.display.Image object>"
      ]
     },
     "metadata": {},
     "output_type": "display_data"
    }
   ],
   "source": [
    "def create_iter_graph(graph, cycle, anchor):\n",
    "    ingress = find_ingress_nodes(graph, cycle)\n",
    "    iter_graph = graph.subgraph(list(cycle.nodes)+(ingress)).copy()\n",
    "    change_node_key(iter_graph, anchor, f\"iter_{anchor}\")    \n",
    "    reduced.nodes[anchor]['anchor'] = True\n",
    "    return iter_graph\n",
    "_, cycles = reduced_graph(g_r)\n",
    "draw(create_iter_graph(g_r, cycles['Ancestor'], 'Ancestor'))"
   ]
  },
  {
   "cell_type": "code",
   "execution_count": 55,
   "metadata": {},
   "outputs": [
    {
     "name": "stdout",
     "output_type": "stream",
     "text": [
      "7\n",
      "Ancestor\n",
      "[8, 3, 4, 5, 'iter_Ancestor']\n"
     ]
    }
   ],
   "source": [
    "def generate_graph_code(graph):\n",
    "    flow_code = dict()\n",
    "    reduced, cycles = reduced_graph(graph)\n",
    "    for node in list(nx.topological_sort(reduced)):\n",
    "        if node in cycles.keys():\n",
    "            iter_graph = create_iter_graph(g_r, cycles[node], node)\n",
    "            anchor_code = generate_code(reduced, node)\n",
    "            cycle_code = {}\n",
    "            cycle_order = traverse_cycle(graph, cycles[node], f\"iter_{node}\")\n",
    "            print(cycle_order)\n",
    "            for cycle_node in cycle_order:\n",
    "                cycle_code[cycle_node] = generate_code(iter_graph, cycle_node, anchor=f\"iter_{node}\", in_iterate=True)\n",
    "            flow_code[node] = iterate_template.render({\n",
    "                    'ingress_nodes': find_ingress_nodes(g_r, list(cycles[node].nodes)),\n",
    "                    'anchor': anchor,\n",
    "                    'cycle_flow': cycle_order,\n",
    "                    'flow_code': cycle_code,\n",
    "                    'anchor_code': anchor_code\n",
    "                })\n",
    "        else:\n",
    "            flow_code[node] = generate_code(g_r, node)\n",
    "    return flow_code\n",
    "\n",
    "flow_code = generate_graph_code(g_r)"
   ]
  },
  {
   "cell_type": "markdown",
   "metadata": {},
   "source": [
    "Insights form Ancestors query:\n",
    "- Any node from outside that is being used inside should be entered to the scope at the begining of the scope:\n",
    "```rust\n",
    "    let node = node.enter(&iterate.scope());   \n",
    "```\n",
    "- the last row should be what suppose to be the union and should end with calling to the distinct() funciton (without semicol at the end to return it)\n"
   ]
  },
  {
   "cell_type": "code",
   "execution_count": 54,
   "metadata": {},
   "outputs": [],
   "source": [
    "file_content=template.render(sources=sources_data, flow_code=flow_code, top_sort=list(nx.topological_sort(reduced)))\n",
    "with open('dataflow.rs', 'w') as f:\n",
    "    f.write(file_content)\n"
   ]
  },
  {
   "cell_type": "code",
   "execution_count": null,
   "metadata": {},
   "outputs": [],
   "source": []
  }
 ],
 "metadata": {
  "kernelspec": {
   "display_name": "Python 3",
   "language": "python",
   "name": "python3"
  },
  "language_info": {
   "codemirror_mode": {
    "name": "ipython",
    "version": 3
   },
   "file_extension": ".py",
   "mimetype": "text/x-python",
   "name": "python",
   "nbconvert_exporter": "python",
   "pygments_lexer": "ipython3",
   "version": "3.10.12"
  }
 },
 "nbformat": 4,
 "nbformat_minor": 2
}
