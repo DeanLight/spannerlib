{
 "cells": [
  {
   "cell_type": "code",
   "execution_count": 1,
   "metadata": {},
   "outputs": [],
   "source": [
    "from spannerlib import get_magic_session,Span\n",
    "from graph_rewrite import draw"
   ]
  },
  {
   "cell_type": "code",
   "execution_count": 2,
   "metadata": {},
   "outputs": [],
   "source": [
    "%%spannerlog\n",
    "#new Parent(str,str)\n",
    "\n",
    "#Ancestor(x,y)<-Parent(x,y).\n",
    "#Ancestor(x,y)<-Parent(x,z),Ancestor(z,y).\n",
    "\n",
    "        new B(int)\n",
    "        new C(int, int)\n",
    "        B(2)\n",
    "        C(1, 4)\n",
    "        C(2, 5)\n",
    "        A(X) <- B(X), C(X, 5).\n",
    "\n",
    "\n",
    "#numDescendants(X,count(Y)) <- Ancestor(X,Y).\n",
    "\n"
   ]
  },
  {
   "cell_type": "code",
   "execution_count": 3,
   "metadata": {},
   "outputs": [],
   "source": [
    "sess = get_magic_session()"
   ]
  },
  {
   "cell_type": "code",
   "execution_count": 4,
   "metadata": {},
   "outputs": [
    {
     "data": {
      "text/html": [
       "<img src=\"https://mermaid.ink/img/CmZsb3djaGFydCBUQgpCWyJCCnJlbD0jcXVvdDtCI3F1b3Q7LCBydWxlX2lkPXswLCAjcXVvdDtmYWN0I3F1b3Q7fSwgc2NoZW1hPVsjcXVvdDtjb2xfMCNxdW90O10sIG9wPSNxdW90O2dldF9yZWwjcXVvdDssIGRiPURCKEIsIEMsIEEpIl0KQ1siQwpyZWw9I3F1b3Q7QyNxdW90OywgcnVsZV9pZD17MCwgI3F1b3Q7ZmFjdCNxdW90O30sIHNjaGVtYT1bI3F1b3Q7Y29sXzAjcXVvdDssICNxdW90O2NvbF8xI3F1b3Q7XSwgb3A9I3F1b3Q7Z2V0X3JlbCNxdW90OywgZGI9REIoQiwgQywgQSkiXQpBWyJBCnJlbD0jcXVvdDtBI3F1b3Q7LCBydWxlX2lkPXswLCAjcXVvdDtmYWN0I3F1b3Q7fSwgb3A9I3F1b3Q7dW5pb24jcXVvdDssIHNjaGVtYT1bI3F1b3Q7Y29sXzAjcXVvdDtdIl0KMFsiMApvcD0jcXVvdDtyZW5hbWUjcXVvdDssIHNjaGVtYT1bI3F1b3Q7WCNxdW90O10sIHJ1bGVfaWQ9ezB9Il0KMVsiMQpvcD0jcXVvdDtwcm9qZWN0I3F1b3Q7LCBzY2hlbWE9WyNxdW90O1gjcXVvdDtdLCBydWxlX2lkPXswfSJdCjJbIjIKb3A9I3F1b3Q7c2VsZWN0I3F1b3Q7LCB0aGV0YT1UaGV0YShjb2xfMT01KSwgc2NoZW1hPVsjcXVvdDtjb2xfMCNxdW90OywgI3F1b3Q7Y29sXzEjcXVvdDtdLCBydWxlX2lkPXswfSJdCjNbIjMKb3A9I3F1b3Q7cmVuYW1lI3F1b3Q7LCBzY2hlbWE9WyNxdW90O1gjcXVvdDssICNxdW90O19GMSNxdW90O10sIHJ1bGVfaWQ9ezB9Il0KNFsiNApvcD0jcXVvdDtwcm9qZWN0I3F1b3Q7LCBzY2hlbWE9WyNxdW90O1gjcXVvdDtdLCBydWxlX2lkPXswfSJdCjVbIjUKb3A9I3F1b3Q7am9pbiNxdW90Oywgc2NoZW1hPVsjcXVvdDtYI3F1b3Q7XSwgcnVsZV9pZD17MH0iXQo2WyI2Cm9wPSNxdW90O3Byb2plY3QjcXVvdDssIHNjaGVtYT1bI3F1b3Q7WCNxdW90O10sIHJlbD0jcXVvdDtfQV8wI3F1b3Q7LCBydWxlX2lkPXswfSJdCjdbIjcKb3A9I3F1b3Q7cmVuYW1lI3F1b3Q7LCBzY2hlbWE9WyNxdW90O1gjcXVvdDtdIl0KOFsiOApvcD0jcXVvdDtwcm9qZWN0I3F1b3Q7LCBzY2hlbWE9WyNxdW90O1gjcXVvdDtdIl0KQSAtLT4gNgowIC0tPiBCCjEgLS0+IDAKMiAtLT4gQwozIC0tPiAyCjQgLS0+IDMKNSAtLT4gMQo1IC0tPiA0CjYgLS0+IDUKNyAtLT4gQQo4IC0tPiA3Cg==\"/>"
      ],
      "text/plain": [
       "<IPython.core.display.Image object>"
      ]
     },
     "metadata": {},
     "output_type": "display_data"
    }
   ],
   "source": [
    "graph,root = sess.export(\"?A(X)\",plan_query=True,draw_query=True)"
   ]
  },
  {
   "cell_type": "code",
   "execution_count": 5,
   "metadata": {},
   "outputs": [
    {
     "name": "stdout",
     "output_type": "stream",
     "text": [
      "('B', {'rel': 'B', 'rule_id': {0, 'fact'}, 'schema': ['col_0'], 'op': 'get_rel', 'db': DB(B, C, A)})\n",
      "('C', {'rel': 'C', 'rule_id': {0, 'fact'}, 'schema': ['col_0', 'col_1'], 'op': 'get_rel', 'db': DB(B, C, A)})\n",
      "('A', {'rel': 'A', 'rule_id': {0, 'fact'}, 'op': 'union', 'schema': ['col_0']})\n",
      "(0, {'op': 'rename', 'schema': ['X'], 'rule_id': {0}})\n",
      "(1, {'op': 'project', 'schema': ['X'], 'rule_id': {0}})\n",
      "(2, {'op': 'select', 'theta': Theta(col_1=5), 'schema': ['col_0', 'col_1'], 'rule_id': {0}})\n",
      "(3, {'op': 'rename', 'schema': ['X', '_F1'], 'rule_id': {0}})\n",
      "(4, {'op': 'project', 'schema': ['X'], 'rule_id': {0}})\n",
      "(5, {'op': 'join', 'schema': ['X'], 'rule_id': {0}})\n",
      "(6, {'op': 'project', 'schema': ['X'], 'rel': '_A_0', 'rule_id': {0}})\n",
      "(7, {'op': 'rename', 'schema': ['X']})\n",
      "(8, {'op': 'project', 'schema': ['X']})\n"
     ]
    }
   ],
   "source": [
    "g_r = graph.reverse()\n",
    "\n",
    "def find_sources(graph):\n",
    "    return [node for node in graph.nodes() if graph.in_degree(node) == 0]\n",
    "\n",
    "sources = find_sources(g_r)\n",
    "for node in g_r.nodes(data=True):\n",
    "    print(node)"
   ]
  },
  {
   "cell_type": "code",
   "execution_count": 6,
   "metadata": {},
   "outputs": [
    {
     "data": {
      "text/html": [
       "<img src=\"https://mermaid.ink/img/CmZsb3djaGFydCBUQgpCWyJCCnJlbD0jcXVvdDtCI3F1b3Q7LCBydWxlX2lkPXswLCAjcXVvdDtmYWN0I3F1b3Q7fSwgc2NoZW1hPVsjcXVvdDtjb2xfMCNxdW90O10sIG9wPSNxdW90O2dldF9yZWwjcXVvdDssIGRiPURCKEIsIEMsIEEpIl0KQ1siQwpyZWw9I3F1b3Q7QyNxdW90OywgcnVsZV9pZD17MCwgI3F1b3Q7ZmFjdCNxdW90O30sIHNjaGVtYT1bI3F1b3Q7Y29sXzAjcXVvdDssICNxdW90O2NvbF8xI3F1b3Q7XSwgb3A9I3F1b3Q7Z2V0X3JlbCNxdW90OywgZGI9REIoQiwgQywgQSkiXQpBWyJBCnJlbD0jcXVvdDtBI3F1b3Q7LCBydWxlX2lkPXswLCAjcXVvdDtmYWN0I3F1b3Q7fSwgb3A9I3F1b3Q7dW5pb24jcXVvdDssIHNjaGVtYT1bI3F1b3Q7Y29sXzAjcXVvdDtdIl0KMFsiMApvcD0jcXVvdDtyZW5hbWUjcXVvdDssIHNjaGVtYT1bI3F1b3Q7WCNxdW90O10sIHJ1bGVfaWQ9ezB9Il0KMVsiMQpvcD0jcXVvdDtwcm9qZWN0I3F1b3Q7LCBzY2hlbWE9WyNxdW90O1gjcXVvdDtdLCBydWxlX2lkPXswfSJdCjJbIjIKb3A9I3F1b3Q7c2VsZWN0I3F1b3Q7LCB0aGV0YT1UaGV0YShjb2xfMT01KSwgc2NoZW1hPVsjcXVvdDtjb2xfMCNxdW90OywgI3F1b3Q7Y29sXzEjcXVvdDtdLCBydWxlX2lkPXswfSJdCjNbIjMKb3A9I3F1b3Q7cmVuYW1lI3F1b3Q7LCBzY2hlbWE9WyNxdW90O1gjcXVvdDssICNxdW90O19GMSNxdW90O10sIHJ1bGVfaWQ9ezB9Il0KNFsiNApvcD0jcXVvdDtwcm9qZWN0I3F1b3Q7LCBzY2hlbWE9WyNxdW90O1gjcXVvdDtdLCBydWxlX2lkPXswfSJdCjVbIjUKb3A9I3F1b3Q7am9pbiNxdW90Oywgc2NoZW1hPVsjcXVvdDtYI3F1b3Q7XSwgcnVsZV9pZD17MH0iXQo2WyI2Cm9wPSNxdW90O3Byb2plY3QjcXVvdDssIHNjaGVtYT1bI3F1b3Q7WCNxdW90O10sIHJlbD0jcXVvdDtfQV8wI3F1b3Q7LCBydWxlX2lkPXswfSJdCjdbIjcKb3A9I3F1b3Q7cmVuYW1lI3F1b3Q7LCBzY2hlbWE9WyNxdW90O1gjcXVvdDtdIl0KOFsiOApvcD0jcXVvdDtwcm9qZWN0I3F1b3Q7LCBzY2hlbWE9WyNxdW90O1gjcXVvdDtdIl0KQiAtLT4gMApDIC0tPiAyCkEgLS0+IDcKMCAtLT4gMQoxIC0tPiA1CjIgLS0+IDMKMyAtLT4gNAo0IC0tPiA1CjUgLS0+IDYKNiAtLT4gQQo3IC0tPiA4Cg==\"/>"
      ],
      "text/plain": [
       "<IPython.core.display.Image object>"
      ]
     },
     "metadata": {},
     "output_type": "display_data"
    }
   ],
   "source": [
    "draw(g_r)"
   ]
  },
  {
   "cell_type": "code",
   "execution_count": 7,
   "metadata": {},
   "outputs": [],
   "source": [
    "import networkx as nx\n",
    "from jinja2 import Template\n",
    "\n",
    "with open ('dataflow.template') as f:\n",
    "    template = Template(f.read())\n"
   ]
  },
  {
   "cell_type": "code",
   "execution_count": 8,
   "metadata": {},
   "outputs": [],
   "source": [
    "PYTHON_RUST_TYPES = {\n",
    "    \"<class 'str'>\": 'String',\n",
    "    \"<class 'int'>\": 'i32'\n",
    "}"
   ]
  },
  {
   "cell_type": "code",
   "execution_count": 9,
   "metadata": {},
   "outputs": [],
   "source": [
    "def get_input_scheme(node):\n",
    "    types_list = [PYTHON_RUST_TYPES[str(x)] for x in sess.engine.Relation_defs[node].scheme]\n",
    "    return f\"({', '.join(types_list)})\"\n",
    "\n",
    "sources_data = {}\n",
    "\n",
    "for source in sources:\n",
    "    sources_data[source] = {\n",
    "        'name': source,\n",
    "        'scheme': get_input_scheme(source)\n",
    "    }\n",
    "    "
   ]
  },
  {
   "cell_type": "code",
   "execution_count": 10,
   "metadata": {},
   "outputs": [],
   "source": [
    "\n",
    "def find_anchor_of_cycle(graph, cycle):\n",
    "    # TODO: Change to node with edge to egress node (outside of the circle)\n",
    "    for node in cycle:\n",
    "        if graph.nodes[node]['op'] == 'union':\n",
    "            return node"
   ]
  },
  {
   "cell_type": "code",
   "execution_count": 11,
   "metadata": {},
   "outputs": [],
   "source": [
    "def change_node_key(G, old_key, new_key):\n",
    "    # Add a new node with the new key, and copy the attributes of the old node\n",
    "    G.add_node(new_key, **G.nodes[old_key])\n",
    "    \n",
    "    # Reconnect the edges from the old node to the new node\n",
    "    for neighbor in G.neighbors(old_key):\n",
    "        G.add_edge(new_key, neighbor)\n",
    "    \n",
    "    # If it's a directed graph, also handle incoming edges\n",
    "    if G.is_directed():\n",
    "        for predecessor in G.predecessors(old_key):\n",
    "            G.add_edge(predecessor, new_key)\n",
    "    \n",
    "    # Remove the old node\n",
    "    G.remove_node(old_key)"
   ]
  },
  {
   "cell_type": "code",
   "execution_count": 12,
   "metadata": {},
   "outputs": [],
   "source": [
    "def get_cycles(graph):\n",
    "    cycles = nx.recursive_simple_cycles(graph)\n",
    "    cycle_dicts = dict()\n",
    "    \n",
    "    for cycle in cycles:\n",
    "        anchor = find_anchor_of_cycle(graph, cycle)\n",
    "        cycle_dicts[anchor] = graph.subgraph(cycle).copy()\n",
    "        \n",
    "    return cycle_dicts"
   ]
  },
  {
   "cell_type": "code",
   "execution_count": 13,
   "metadata": {},
   "outputs": [],
   "source": [
    "def find_ingress_nodes(graph, cycle, anchor=None):\n",
    "    '''returns all nodes that have an edge to the cycle that is not part of the cycle'''\n",
    "    ingress_nodes = []\n",
    "    for node in cycle:\n",
    "        if type(node) == str and 'iter' in node:\n",
    "            node = node.split('_')[1]\n",
    "        for pred in graph.pred[node]:\n",
    "            if pred not in cycle and 'anchor' not in graph.nodes[pred]:\n",
    "                ingress_nodes.append(pred)\n",
    "    return ingress_nodes\n",
    "\n",
    "\n"
   ]
  },
  {
   "cell_type": "code",
   "execution_count": 14,
   "metadata": {},
   "outputs": [],
   "source": [
    "def reduced_graph(graph):\n",
    "    '''Returned a reduced graph with the cycle nodes removed but the anchor node'''\n",
    "    cycles = get_cycles(graph)\n",
    "    reduced = graph.copy()\n",
    "\n",
    "    for anchor, cycle in cycles.items():\n",
    "        cycle_nodes = [node for node in cycle if node != anchor]\n",
    "        change_node_key(cycle, anchor, f\"iter_{anchor}\")\n",
    "\n",
    "        reduced.remove_nodes_from(cycle_nodes)    \n",
    "        reduced.nodes[anchor]['anchor'] = True\n",
    "        graph.nodes[anchor]['anchor'] = True\n",
    "\n",
    "        # find edges that connect to the cycle and connect them to the anchor\n",
    "        for node in cycle_nodes:\n",
    "            for p_node in graph.predecessors(node):\n",
    "                if p_node not in cycle_nodes and p_node != anchor:\n",
    "                    print(p_node)\n",
    "                    reduced.add_edge(p_node, anchor)\n",
    "                    \n",
    "    \n",
    "    return reduced, cycles\n",
    "\n",
    "reduced, cycles = reduced_graph(g_r)\n"
   ]
  },
  {
   "cell_type": "code",
   "execution_count": 15,
   "metadata": {},
   "outputs": [],
   "source": [
    "def get_node_schema(graph, node):\n",
    "    schema = graph.nodes[node]['schema']\n",
    "    if len(schema) > 1:\n",
    "        return f\"({', '.join(schema)})\"\n",
    "    else:\n",
    "        return schema[0]\n"
   ]
  },
  {
   "cell_type": "code",
   "execution_count": 16,
   "metadata": {},
   "outputs": [],
   "source": [
    "from spannerlib.ra import equalConstTheta, equalColTheta\n"
   ]
  },
  {
   "cell_type": "code",
   "execution_count": 17,
   "metadata": {},
   "outputs": [
    {
     "data": {
      "text/html": [
       "<img src=\"https://mermaid.ink/img/CmZsb3djaGFydCBUQgpCWyJCCnJlbD0jcXVvdDtCI3F1b3Q7LCBydWxlX2lkPXswLCAjcXVvdDtmYWN0I3F1b3Q7fSwgc2NoZW1hPVsjcXVvdDtjb2xfMCNxdW90O10sIG9wPSNxdW90O2dldF9yZWwjcXVvdDssIGRiPURCKEIsIEMsIEEpIl0KQ1siQwpyZWw9I3F1b3Q7QyNxdW90OywgcnVsZV9pZD17MCwgI3F1b3Q7ZmFjdCNxdW90O30sIHNjaGVtYT1bI3F1b3Q7Y29sXzAjcXVvdDssICNxdW90O2NvbF8xI3F1b3Q7XSwgb3A9I3F1b3Q7Z2V0X3JlbCNxdW90OywgZGI9REIoQiwgQywgQSkiXQpBWyJBCnJlbD0jcXVvdDtBI3F1b3Q7LCBydWxlX2lkPXswLCAjcXVvdDtmYWN0I3F1b3Q7fSwgb3A9I3F1b3Q7dW5pb24jcXVvdDssIHNjaGVtYT1bI3F1b3Q7Y29sXzAjcXVvdDtdIl0KMFsiMApvcD0jcXVvdDtyZW5hbWUjcXVvdDssIHNjaGVtYT1bI3F1b3Q7WCNxdW90O10sIHJ1bGVfaWQ9ezB9Il0KMVsiMQpvcD0jcXVvdDtwcm9qZWN0I3F1b3Q7LCBzY2hlbWE9WyNxdW90O1gjcXVvdDtdLCBydWxlX2lkPXswfSJdCjJbIjIKb3A9I3F1b3Q7c2VsZWN0I3F1b3Q7LCB0aGV0YT1UaGV0YShjb2xfMT01KSwgc2NoZW1hPVsjcXVvdDtjb2xfMCNxdW90OywgI3F1b3Q7Y29sXzEjcXVvdDtdLCBydWxlX2lkPXswfSJdCjNbIjMKb3A9I3F1b3Q7cmVuYW1lI3F1b3Q7LCBzY2hlbWE9WyNxdW90O1gjcXVvdDssICNxdW90O19GMSNxdW90O10sIHJ1bGVfaWQ9ezB9Il0KNFsiNApvcD0jcXVvdDtwcm9qZWN0I3F1b3Q7LCBzY2hlbWE9WyNxdW90O1gjcXVvdDtdLCBydWxlX2lkPXswfSJdCjVbIjUKb3A9I3F1b3Q7am9pbiNxdW90Oywgc2NoZW1hPVsjcXVvdDtYI3F1b3Q7XSwgcnVsZV9pZD17MH0iXQo2WyI2Cm9wPSNxdW90O3Byb2plY3QjcXVvdDssIHNjaGVtYT1bI3F1b3Q7WCNxdW90O10sIHJlbD0jcXVvdDtfQV8wI3F1b3Q7LCBydWxlX2lkPXswfSJdCjdbIjcKb3A9I3F1b3Q7cmVuYW1lI3F1b3Q7LCBzY2hlbWE9WyNxdW90O1gjcXVvdDtdIl0KOFsiOApvcD0jcXVvdDtwcm9qZWN0I3F1b3Q7LCBzY2hlbWE9WyNxdW90O1gjcXVvdDtdIl0KQiAtLT4gMApDIC0tPiAyCkEgLS0+IDcKMCAtLT4gMQoxIC0tPiA1CjIgLS0+IDMKMyAtLT4gNAo0IC0tPiA1CjUgLS0+IDYKNiAtLT4gQQo3IC0tPiA4Cg==\"/>"
      ],
      "text/plain": [
       "<IPython.core.display.Image object>"
      ]
     },
     "metadata": {},
     "output_type": "display_data"
    }
   ],
   "source": [
    "\n",
    "draw(reduced)"
   ]
  },
  {
   "cell_type": "code",
   "execution_count": 18,
   "metadata": {},
   "outputs": [],
   "source": [
    "def get_common_cols(graph, node1, node2):\n",
    "    return list(set(graph.nodes[node1]['schema']) & set(graph.nodes[node2]['schema']))\n",
    "def get_diff_cols(graph, node1, node2):\n",
    "    return list(set(graph.nodes[node1]['schema']) ^ set(graph.nodes[node2]['schema']))\n",
    "def get_minus_cols(graph, node1, common_cols):\n",
    "    return list(set(graph.nodes[node1]['schema']) - set(common_cols))\n",
    "\n"
   ]
  },
  {
   "cell_type": "code",
   "execution_count": 19,
   "metadata": {},
   "outputs": [],
   "source": [
    "def get_join_code(graph, node, anchor=None, in_iterate=False):\n",
    "    prev_nodes = list(graph.pred[node])\n",
    "    if len(prev_nodes) != 2:\n",
    "        raise ValueError(\"Node is not 2-join: \", node)\n",
    "    join1, join2 = list(graph.pred[node])\n",
    "    out_node_str = f\"node_{node}\"\n",
    "    join1_str = f\"node_{join1}\"\n",
    "    join2_str = f\"node_{join2}\"\n",
    "    \n",
    "    if in_iterate:\n",
    "        if node == anchor:\n",
    "            out_node_str = anchor\n",
    "        if join1 == anchor:\n",
    "            join1_str = join1\n",
    "        if join2 == anchor:\n",
    "            join2_str = join2\n",
    "    \n",
    "    def get_col_schema(cols):\n",
    "        if not cols:\n",
    "            return \"0\"\n",
    "        if len(cols) > 1:\n",
    "            return f\"({','.join(common_cols)})\"\n",
    "        else:\n",
    "            return cols[0]\n",
    "\n",
    "    common_cols = get_common_cols(graph, join1, join2)\n",
    "    common_schema = get_col_schema(common_cols)\n",
    "\n",
    "    join1_uncommon_schema = get_col_schema(get_minus_cols(graph, join1, common_cols))\n",
    "    join2_uncommon_schema = get_col_schema(get_minus_cols(graph, join2, common_cols))\n",
    "    out_join1_uncommon_schema = join1_uncommon_schema if (not join1_uncommon_schema == '0') else '_'\n",
    "    out_join2_uncommon_schema = join2_uncommon_schema if (not join2_uncommon_schema == '0') else '_'\n",
    "\n",
    "    return f\"\"\"let {out_node_str} = {join1_str}.map(|{get_node_schema(graph, join1)}| ({common_schema}, {join1_uncommon_schema}))\n",
    "            .join(&{join2_str}.map(|{get_node_schema(graph, join2)}| ({common_schema}, {join2_uncommon_schema})))\n",
    "            .map(|({common_schema}, ({out_join1_uncommon_schema}, {out_join2_uncommon_schema}))| ({get_node_schema(graph, node)}));\"\"\"\n"
   ]
  },
  {
   "cell_type": "code",
   "execution_count": 20,
   "metadata": {},
   "outputs": [],
   "source": [
    "def get_union_code(graph, node, anchor=None, in_iterate=False):\n",
    "    preds = list(graph.pred[node])\n",
    "    prev_node1_str = f\"node_{preds[0]}\"\n",
    "    node_str = f\"node_{node}\"\n",
    "    if in_iterate:\n",
    "        if preds[0] == anchor:\n",
    "            prev_node1_str = anchor\n",
    "        if node == anchor:\n",
    "            node_str = anchor\n",
    "    if len(preds) == 1:\n",
    "        return f\"let {node_str} = {prev_node1_str};\"\n",
    "    elif len(preds) == 2:\n",
    "        prev_node2_str = f\"node_{preds[1]}\"\n",
    "        if in_iterate and preds[1] == anchor:\n",
    "            prev_node2_str = anchor\n",
    "        return f\"let {node_str} = {prev_node1_str}.concat(&{prev_node2_str});\""
   ]
  },
  {
   "cell_type": "code",
   "execution_count": 21,
   "metadata": {},
   "outputs": [],
   "source": [
    "def generate_code(graph, node, anchor=None, in_iterate=False):\n",
    "    gr_node = graph.nodes[node] \n",
    "    schema = get_node_schema(graph, node)\n",
    "    code = None\n",
    "    prev_nodes = list(graph.pred[node])\n",
    "    if prev_nodes:\n",
    "        prev_node_str = f\"node_{prev_nodes[0]}\"\n",
    "    \n",
    "    node_str = f\"node_{node}\"\n",
    "    if in_iterate:\n",
    "        if prev_nodes and prev_nodes[0] == anchor:\n",
    "            prev_node_str = anchor\n",
    "        if node == anchor:\n",
    "            node_str = anchor\n",
    "\n",
    "    if gr_node['op'] == 'get_rel':\n",
    "        code = f\"let {node_str} = input_{node}.to_collection(scope);\"\n",
    "    if gr_node['op'] == 'rename':\n",
    "        code = f\"let {node_str} = {prev_node_str}.map(|{schema}| {schema});\"\n",
    "    elif gr_node['op'] == 'project':\n",
    "        if prev_nodes:\n",
    "            prev_schema = get_node_schema(graph, prev_nodes[0])\n",
    "            code = f\"let {node_str} = {prev_node_str}.map(|{prev_schema}| {schema});\"\n",
    "    elif gr_node['op'] == 'join':\n",
    "        code = get_join_code(graph, node, anchor=anchor, in_iterate=in_iterate)\n",
    "    elif gr_node['op'] == 'select':        \n",
    "        theta = gr_node['theta']\n",
    "        preds = \"\"\n",
    "        if isinstance(theta, equalConstTheta):\n",
    "            preds = [f\"col_{pos} == {val}\" for pos, val in theta.pos_val_tuples] \n",
    "        elif isinstance(theta, equalColTheta):\n",
    "            preds = [f\"col_{pos1} == col_{pos2}\" for pos1, pos2 in theta.col_pos_tuples] \n",
    "        code = f\"let {node_str} = {prev_node_str}.filter(|&{get_node_schema(graph, prev_nodes[0])}| {' && '.join(preds)});\"\n",
    "    elif gr_node['op'] == 'union':\n",
    "        code = get_union_code(graph, node , in_iterate=in_iterate, anchor=anchor)\n",
    "    \n",
    "    return code\n"
   ]
  },
  {
   "cell_type": "code",
   "execution_count": 22,
   "metadata": {},
   "outputs": [],
   "source": [
    "with open ('iterate.template') as f:\n",
    "    iterate_template = Template(f.read())"
   ]
  },
  {
   "cell_type": "code",
   "execution_count": 23,
   "metadata": {},
   "outputs": [],
   "source": [
    "def find_egress_node(graph, cycle, anchor):\n",
    "    '''find a node that the anchor has an edge to it but it is not part of the cycle'''\n",
    "    for node in graph.successors(anchor):\n",
    "        if node not in cycle.nodes:\n",
    "            return node\n"
   ]
  },
  {
   "cell_type": "code",
   "execution_count": 24,
   "metadata": {},
   "outputs": [],
   "source": [
    "def traverse_cycle(graph, cycle, anchor):\n",
    "    '''create a list of nodes for traversing the cylce\n",
    "    (a direct edge must exist between adjucent nodes in the list)\n",
    "    The anchor node must be the last node in the list.\n",
    "    '''\n",
    "    temp_node = anchor\n",
    "    cycle_order = []\n",
    "    while len(cycle_order) < len(cycle):\n",
    "        cycle_order += list(cycle.successors(temp_node))\n",
    "        temp_node = cycle_order[-1]\n",
    "    return cycle_order\n",
    "\n"
   ]
  },
  {
   "cell_type": "code",
   "execution_count": 25,
   "metadata": {},
   "outputs": [
    {
     "name": "stdout",
     "output_type": "stream",
     "text": [
      "B\n",
      "C\n",
      "0\n",
      "2\n",
      "1\n",
      "3\n",
      "4\n",
      "5\n",
      "6\n",
      "A\n",
      "7\n",
      "8\n"
     ]
    }
   ],
   "source": [
    "reduced, cycles = reduced_graph(g_r)\n",
    "for node in list(nx.topological_sort(reduced)):\n",
    "    print (node)\n"
   ]
  },
  {
   "cell_type": "code",
   "execution_count": 26,
   "metadata": {},
   "outputs": [],
   "source": [
    "_, cycles = reduced_graph(graph)\n"
   ]
  },
  {
   "cell_type": "code",
   "execution_count": 27,
   "metadata": {},
   "outputs": [],
   "source": [
    "def create_iter_graph(graph, cycle, anchor):\n",
    "    ingress = find_ingress_nodes(graph, cycle, anchor)\n",
    "    iter_graph = graph.subgraph(list(cycle.nodes)+(ingress)).copy()\n",
    "    change_node_key(iter_graph, anchor, f\"iter_{anchor}\")    \n",
    "    iter_graph.nodes[f\"iter_{anchor}\"]['anchor'] = True\n",
    "    return iter_graph\n",
    "_, cycles = reduced_graph(g_r)\n",
    "#draw(create_iter_graph(g_r, cycles['Ancestor'], 'Ancestor'))"
   ]
  },
  {
   "cell_type": "code",
   "execution_count": 28,
   "metadata": {},
   "outputs": [],
   "source": [
    "def generate_graph_code(graph):\n",
    "    flow_code = dict()\n",
    "    reduced, cycles = reduced_graph(graph)\n",
    "    for node in list(nx.topological_sort(reduced)):\n",
    "        if node in cycles.keys():\n",
    "            iter_graph = create_iter_graph(g_r, cycles[node], node)\n",
    "            anchor_code = generate_code(reduced, node)\n",
    "            cycle_code = {}\n",
    "            cycle_order = traverse_cycle(graph, cycles[node], f\"iter_{node}\")\n",
    "            for cycle_node in cycle_order:\n",
    "                cycle_code[cycle_node] = generate_code(iter_graph, cycle_node, anchor=f\"iter_{node}\", in_iterate=True)\n",
    "            flow_code[node] = iterate_template.render({\n",
    "                    'ingress_nodes': find_ingress_nodes(g_r, list(cycles[node].nodes), node),\n",
    "                    'anchor': node,\n",
    "                    'cycle_flow': cycle_order,\n",
    "                    'flow_code': cycle_code,\n",
    "                    'anchor_code': anchor_code\n",
    "                })\n",
    "        else:\n",
    "            flow_code[node] = generate_code(g_r, node)\n",
    "    return flow_code\n",
    "\n",
    "flow_code = generate_graph_code(g_r)"
   ]
  },
  {
   "cell_type": "code",
   "execution_count": null,
   "metadata": {},
   "outputs": [],
   "source": []
  },
  {
   "cell_type": "markdown",
   "metadata": {},
   "source": [
    "Insights form Ancestors query:\n",
    "- Any node from outside that is being used inside should be entered to the scope at the begining of the scope:\n",
    "```rust\n",
    "    let node = node.enter(&iterate.scope());   \n",
    "```\n",
    "- the last row should be what suppose to be the union and should end with calling to the distinct() funciton (without semicol at the end to return it)\n"
   ]
  },
  {
   "cell_type": "code",
   "execution_count": 29,
   "metadata": {},
   "outputs": [],
   "source": [
    "file_content=template.render(sources=sources_data, flow_code=flow_code, top_sort=list(nx.topological_sort(reduced)))\n",
    "with open('dataflow.rs', 'w') as f:\n",
    "    f.write(file_content)\n"
   ]
  },
  {
   "cell_type": "code",
   "execution_count": null,
   "metadata": {},
   "outputs": [],
   "source": []
  }
 ],
 "metadata": {
  "kernelspec": {
   "display_name": "Python 3",
   "language": "python",
   "name": "python3"
  },
  "language_info": {
   "codemirror_mode": {
    "name": "ipython",
    "version": 3
   },
   "file_extension": ".py",
   "mimetype": "text/x-python",
   "name": "python",
   "nbconvert_exporter": "python",
   "pygments_lexer": "ipython3",
   "version": "3.10.12"
  }
 },
 "nbformat": 4,
 "nbformat_minor": 2
}
