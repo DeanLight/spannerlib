{
 "cells": [
  {
   "cell_type": "code",
   "execution_count": 86,
   "metadata": {},
   "outputs": [],
   "source": [
    "from spannerlib import get_magic_session,Span\n",
    "from graph_rewrite import draw"
   ]
  },
  {
   "cell_type": "code",
   "execution_count": 87,
   "metadata": {},
   "outputs": [],
   "source": [
    "%%spannerlog\n",
    "#new Parent(str,str)\n",
    "#\n",
    "#Ancestor(x,y)<-Parent(x,y).\n",
    "#Ancestor(x,y)<-Parent(x,z),Ancestor(z,y).\n",
    "new rel(int)\n",
    "    +rel(8)\n",
    "    rel(16)\n",
    "    -rel(16)\n",
    "    rel(32)\n",
    "    rel(16)\n",
    "    -rel(32)\n",
    "    \n",
    "            \n",
    "\n",
    "\n",
    "\n",
    "#numDescendants(X,count(Y)) <- Ancestor(X,Y).\n",
    "\n"
   ]
  },
  {
   "cell_type": "code",
   "execution_count": 88,
   "metadata": {},
   "outputs": [],
   "source": [
    "sess = get_magic_session()"
   ]
  },
  {
   "cell_type": "code",
   "execution_count": 89,
   "metadata": {},
   "outputs": [
    {
     "data": {
      "text/html": [
       "<img src=\"https://mermaid.ink/img/CmZsb3djaGFydCBUQgpBWyJBCnJlbD0jcXVvdDtBI3F1b3Q7LCBydWxlX2lkPXsjcXVvdDtmYWN0I3F1b3Q7fSwgb3A9I3F1b3Q7Z2V0X3JlbCNxdW90OywgZGI9REIoQSksIHNjaGVtYT1bI3F1b3Q7Y29sXzAjcXVvdDtdIl0KMFsiMApvcD0jcXVvdDtzZWxlY3QjcXVvdDssIHRoZXRhPVRoZXRhKGNvbF8wPTIpLCBzY2hlbWE9WyNxdW90O2NvbF8wI3F1b3Q7XSJdCjFbIjEKb3A9I3F1b3Q7cmVuYW1lI3F1b3Q7LCBzY2hlbWE9WyNxdW90O19GMCNxdW90O10iXQoyWyIyCm9wPSNxdW90O3Byb2plY3QjcXVvdDssIHNjaGVtYT1bXSJdCjAgLS0+IEEKMSAtLT4gMAoyIC0tPiAxCg==\"/>"
      ],
      "text/plain": [
       "<IPython.core.display.Image object>"
      ]
     },
     "metadata": {},
     "output_type": "display_data"
    }
   ],
   "source": [
    "graph,root = sess.export(\"?rel(X)\",plan_query=True,draw_query=True)"
   ]
  },
  {
   "cell_type": "code",
   "execution_count": 90,
   "metadata": {},
   "outputs": [],
   "source": [
    "g_r = graph.reverse()\n",
    "\n",
    "def find_sources(graph):\n",
    "    return [node for node in graph.nodes() if graph.in_degree(node) == 0]\n",
    "\n",
    "def find_output(graph):\n",
    "    outputs = [node for node in graph.nodes() if graph.out_degree(node) == 0]\n",
    "    if len(outputs) != 1:\n",
    "        raise(\"There can only be one output node to the graph\")\n",
    "    return outputs[0]\n"
   ]
  },
  {
   "cell_type": "code",
   "execution_count": 91,
   "metadata": {},
   "outputs": [
    {
     "data": {
      "text/html": [
       "<img src=\"https://mermaid.ink/img/CmZsb3djaGFydCBUQgpBWyJBCnJlbD0jcXVvdDtBI3F1b3Q7LCBydWxlX2lkPXsjcXVvdDtmYWN0I3F1b3Q7fSwgb3A9I3F1b3Q7Z2V0X3JlbCNxdW90OywgZGI9REIoQSksIHNjaGVtYT1bI3F1b3Q7Y29sXzAjcXVvdDtdIl0KMFsiMApvcD0jcXVvdDtzZWxlY3QjcXVvdDssIHRoZXRhPVRoZXRhKGNvbF8wPTIpLCBzY2hlbWE9WyNxdW90O2NvbF8wI3F1b3Q7XSJdCjFbIjEKb3A9I3F1b3Q7cmVuYW1lI3F1b3Q7LCBzY2hlbWE9WyNxdW90O19GMCNxdW90O10iXQoyWyIyCm9wPSNxdW90O3Byb2plY3QjcXVvdDssIHNjaGVtYT1bXSJdCkEgLS0+IDAKMCAtLT4gMQoxIC0tPiAyCg==\"/>"
      ],
      "text/plain": [
       "<IPython.core.display.Image object>"
      ]
     },
     "metadata": {},
     "output_type": "display_data"
    }
   ],
   "source": [
    "draw(g_r)"
   ]
  },
  {
   "cell_type": "code",
   "execution_count": 92,
   "metadata": {},
   "outputs": [],
   "source": [
    "import networkx as nx\n",
    "from jinja2 import Template,Environment, FileSystemLoader\n",
    "\n",
    "env = Environment(loader=FileSystemLoader('templates'))\n",
    "\n",
    "template = env.get_template('dataflow.template')\n",
    "\n"
   ]
  },
  {
   "cell_type": "code",
   "execution_count": 93,
   "metadata": {},
   "outputs": [],
   "source": [
    "PYTHON_RUST_TYPES = {\n",
    "    \"<class 'str'>\": 'String',\n",
    "    \"<class 'int'>\": 'i32'\n",
    "}"
   ]
  },
  {
   "cell_type": "code",
   "execution_count": 94,
   "metadata": {},
   "outputs": [],
   "source": [
    "def get_input_scheme(node):\n",
    "    types_list = [PYTHON_RUST_TYPES[str(x)] for x in sess.engine.Relation_defs[node].scheme]\n",
    "    if len(types_list) > 1:\n",
    "        return f\"({', '.join(types_list)})\"\n",
    "    if len(types_list) == 1:\n",
    "        return types_list[0]\n",
    "\n",
    "\n",
    "def get_sources_data(graph):\n",
    "    return {source: {'name': source, 'scheme': get_input_scheme(source)} for source in find_sources(graph)}\n"
   ]
  },
  {
   "cell_type": "code",
   "execution_count": 95,
   "metadata": {},
   "outputs": [],
   "source": [
    "\n",
    "def find_anchor_of_cycle(graph, cycle):\n",
    "    # TODO: Change to node with edge to egress node (outside of the circle)\n",
    "    for node in cycle:\n",
    "        if graph.nodes[node]['op'] == 'union':\n",
    "            return node"
   ]
  },
  {
   "cell_type": "code",
   "execution_count": 96,
   "metadata": {},
   "outputs": [],
   "source": [
    "def change_node_key(G, old_key, new_key):\n",
    "    # Add a new node with the new key, and copy the attributes of the old node\n",
    "    G.add_node(new_key, **G.nodes[old_key])\n",
    "    \n",
    "    # Reconnect the edges from the old node to the new node\n",
    "    for neighbor in G.neighbors(old_key):\n",
    "        G.add_edge(new_key, neighbor)\n",
    "    \n",
    "    # If it's a directed graph, also handle incoming edges\n",
    "    if G.is_directed():\n",
    "        for predecessor in G.predecessors(old_key):\n",
    "            G.add_edge(predecessor, new_key)\n",
    "    \n",
    "    # Remove the old node\n",
    "    G.remove_node(old_key)"
   ]
  },
  {
   "cell_type": "code",
   "execution_count": 97,
   "metadata": {},
   "outputs": [],
   "source": [
    "def get_cycles(graph):\n",
    "    cycles = nx.recursive_simple_cycles(graph)\n",
    "    cycle_dicts = dict()\n",
    "    \n",
    "    for cycle in cycles:\n",
    "        anchor = find_anchor_of_cycle(graph, cycle)\n",
    "        cycle_dicts[anchor] = graph.subgraph(cycle).copy()\n",
    "        \n",
    "    return cycle_dicts"
   ]
  },
  {
   "cell_type": "code",
   "execution_count": 98,
   "metadata": {},
   "outputs": [],
   "source": [
    "def find_ingress_nodes(graph, cycle, anchor=None):\n",
    "    '''returns all nodes that have an edge to the cycle that is not part of the cycle'''\n",
    "    ingress_nodes = []\n",
    "    for node in cycle:\n",
    "        if type(node) == str and 'iter' in node:\n",
    "            node = node.split('_')[1]\n",
    "        for pred in graph.pred[node]:\n",
    "            if pred not in cycle and 'anchor' not in graph.nodes[pred]:\n",
    "                ingress_nodes.append(pred)\n",
    "    return ingress_nodes\n",
    "\n",
    "\n"
   ]
  },
  {
   "cell_type": "code",
   "execution_count": 99,
   "metadata": {},
   "outputs": [],
   "source": [
    "def reduced_graph(graph):\n",
    "    '''Returned a reduced graph with the cycle nodes removed but the anchor node'''\n",
    "    cycles = get_cycles(graph)\n",
    "    reduced = graph.copy()\n",
    "\n",
    "    for anchor, cycle in cycles.items():\n",
    "        cycle_nodes = [node for node in cycle if node != anchor]\n",
    "        change_node_key(cycle, anchor, f\"iter_{anchor}\")\n",
    "\n",
    "        reduced.remove_nodes_from(cycle_nodes)    \n",
    "        reduced.nodes[anchor]['anchor'] = True\n",
    "        graph.nodes[anchor]['anchor'] = True\n",
    "\n",
    "        # find edges that connect to the cycle and connect them to the anchor\n",
    "        for node in cycle_nodes:\n",
    "            for p_node in graph.predecessors(node):\n",
    "                if p_node not in cycle_nodes and p_node != anchor:\n",
    "                    print(p_node)\n",
    "                    reduced.add_edge(p_node, anchor)\n",
    "                    \n",
    "    \n",
    "    return reduced, cycles"
   ]
  },
  {
   "cell_type": "code",
   "execution_count": 100,
   "metadata": {},
   "outputs": [],
   "source": [
    "def get_node_schema(graph, node):\n",
    "    schema = graph.nodes[node]['schema']\n",
    "    if len(schema) > 1:\n",
    "        return f\"({', '.join(schema)})\"\n",
    "    \n",
    "    if len(schema ) == 0:\n",
    "        return \"()\"\n",
    "    return schema[0]\n"
   ]
  },
  {
   "cell_type": "code",
   "execution_count": 101,
   "metadata": {},
   "outputs": [],
   "source": [
    "from spannerlib.ra import equalConstTheta, equalColTheta\n"
   ]
  },
  {
   "cell_type": "code",
   "execution_count": 102,
   "metadata": {},
   "outputs": [],
   "source": [
    "def get_common_cols(graph, node1, node2):\n",
    "    return list(set(graph.nodes[node1]['schema']) & set(graph.nodes[node2]['schema']))\n",
    "def get_diff_cols(graph, node1, node2):\n",
    "    return list(set(graph.nodes[node1]['schema']) ^ set(graph.nodes[node2]['schema']))\n",
    "def get_minus_cols(graph, node1, common_cols):\n",
    "    return list(set(graph.nodes[node1]['schema']) - set(common_cols))\n",
    "\n"
   ]
  },
  {
   "cell_type": "code",
   "execution_count": 103,
   "metadata": {},
   "outputs": [],
   "source": [
    "def get_join_code(graph, node, anchor=None, in_iterate=False):\n",
    "    prev_nodes = list(graph.pred[node])\n",
    "    if len(prev_nodes) != 2:\n",
    "        raise ValueError(\"Node is not 2-join: \", node)\n",
    "    join1, join2 = list(graph.pred[node])\n",
    "    out_node_str = f\"node_{node}\"\n",
    "    join1_str = f\"node_{join1}\"\n",
    "    join2_str = f\"node_{join2}\"\n",
    "    \n",
    "    if in_iterate:\n",
    "        if node == anchor:\n",
    "            out_node_str = anchor\n",
    "        if join1 == anchor:\n",
    "            join1_str = join1\n",
    "        if join2 == anchor:\n",
    "            join2_str = join2\n",
    "    \n",
    "    def get_col_schema(cols):\n",
    "        if not cols:\n",
    "            return \"0\"\n",
    "        if len(cols) > 1:\n",
    "            return f\"({','.join(common_cols)})\"\n",
    "        else:\n",
    "            return cols[0]\n",
    "\n",
    "    common_cols = get_common_cols(graph, join1, join2)\n",
    "    common_schema = get_col_schema(common_cols)\n",
    "\n",
    "    join1_uncommon_schema = get_col_schema(get_minus_cols(graph, join1, common_cols))\n",
    "    join2_uncommon_schema = get_col_schema(get_minus_cols(graph, join2, common_cols))\n",
    "    out_join1_uncommon_schema = join1_uncommon_schema if (not join1_uncommon_schema == '0') else '_'\n",
    "    out_join2_uncommon_schema = join2_uncommon_schema if (not join2_uncommon_schema == '0') else '_'\n",
    "\n",
    "    return f\"\"\"let {out_node_str} = {join1_str}.map(|{get_node_schema(graph, join1)}| ({common_schema}, {join1_uncommon_schema}))\n",
    "            .join(&{join2_str}.map(|{get_node_schema(graph, join2)}| ({common_schema}, {join2_uncommon_schema})))\n",
    "            .map(|({common_schema}, ({out_join1_uncommon_schema}, {out_join2_uncommon_schema}))| ({get_node_schema(graph, node)}));\"\"\"\n"
   ]
  },
  {
   "cell_type": "code",
   "execution_count": 104,
   "metadata": {},
   "outputs": [],
   "source": [
    "def get_union_code(graph, node, anchor=None, in_iterate=False):\n",
    "    preds = list(graph.pred[node])\n",
    "    prev_node1_str = f\"node_{preds[0]}\"\n",
    "    node_str = f\"node_{node}\"\n",
    "    if in_iterate:\n",
    "        if preds[0] == anchor:\n",
    "            prev_node1_str = anchor\n",
    "        if node == anchor:\n",
    "            node_str = anchor\n",
    "    if len(preds) == 1:\n",
    "        return f\"let {node_str} = {prev_node1_str};\"\n",
    "    elif len(preds) == 2:\n",
    "        prev_node2_str = f\"node_{preds[1]}\"\n",
    "        if in_iterate and preds[1] == anchor:\n",
    "            prev_node2_str = anchor\n",
    "        return f\"let {node_str} = {prev_node1_str}.concat(&{prev_node2_str});\""
   ]
  },
  {
   "cell_type": "code",
   "execution_count": 105,
   "metadata": {},
   "outputs": [],
   "source": [
    "def generate_code(graph, node, anchor=None, in_iterate=False):\n",
    "    gr_node = graph.nodes[node] \n",
    "    schema = get_node_schema(graph, node)\n",
    "    code = None\n",
    "    prev_nodes = list(graph.pred[node])\n",
    "    if prev_nodes:\n",
    "        prev_node_str = f\"node_{prev_nodes[0]}\"\n",
    "    \n",
    "    node_str = f\"node_{node}\"\n",
    "    if in_iterate:\n",
    "        if prev_nodes and prev_nodes[0] == anchor:\n",
    "            prev_node_str = anchor\n",
    "        if node == anchor:\n",
    "            node_str = anchor\n",
    "\n",
    "    if gr_node['op'] == 'get_rel':\n",
    "        code = f\"let {node_str} = input_{node}.to_collection(scope);\"\n",
    "    if gr_node['op'] == 'rename':\n",
    "        code = f\"let {node_str} = {prev_node_str}.map(|{schema}| {schema});\"\n",
    "    elif gr_node['op'] == 'project':\n",
    "        if prev_nodes:\n",
    "            prev_schema = get_node_schema(graph, prev_nodes[0])\n",
    "            code = f\"let {node_str} = {prev_node_str}.map(|{prev_schema}| {schema});\"\n",
    "    elif gr_node['op'] == 'join':\n",
    "        code = get_join_code(graph, node, anchor=anchor, in_iterate=in_iterate)\n",
    "    elif gr_node['op'] == 'select':        \n",
    "        theta = gr_node['theta']\n",
    "        preds = \"\"\n",
    "        if isinstance(theta, equalConstTheta):\n",
    "            preds = [f\"col_{pos} == {val}\" for pos, val in theta.pos_val_tuples] \n",
    "        elif isinstance(theta, equalColTheta):\n",
    "            preds = [f\"col_{pos1} == col_{pos2}\" for pos1, pos2 in theta.col_pos_tuples] \n",
    "        code = f\"let {node_str} = {prev_node_str}.filter(|&{get_node_schema(graph, prev_nodes[0])}| {' && '.join(preds)});\"\n",
    "    elif gr_node['op'] == 'union':\n",
    "        code = get_union_code(graph, node , in_iterate=in_iterate, anchor=anchor)\n",
    "    \n",
    "    return code\n"
   ]
  },
  {
   "cell_type": "code",
   "execution_count": 106,
   "metadata": {},
   "outputs": [],
   "source": [
    "iterate_template=env.get_template('iterate.template')"
   ]
  },
  {
   "cell_type": "code",
   "execution_count": 107,
   "metadata": {},
   "outputs": [],
   "source": [
    "def find_egress_node(graph, cycle, anchor):\n",
    "    '''find a node that the anchor has an edge to it but it is not part of the cycle'''\n",
    "    for node in graph.successors(anchor):\n",
    "        if node not in cycle.nodes:\n",
    "            return node\n"
   ]
  },
  {
   "cell_type": "code",
   "execution_count": 108,
   "metadata": {},
   "outputs": [],
   "source": [
    "def traverse_cycle(graph, cycle, anchor):\n",
    "    '''create a list of nodes for traversing the cylce\n",
    "    (a direct edge must exist between adjucent nodes in the list)\n",
    "    The anchor node must be the last node in the list.\n",
    "    '''\n",
    "    temp_node = anchor\n",
    "    cycle_order = []\n",
    "    while len(cycle_order) < len(cycle):\n",
    "        cycle_order += list(cycle.successors(temp_node))\n",
    "        temp_node = cycle_order[-1]\n",
    "    return cycle_order\n",
    "\n"
   ]
  },
  {
   "cell_type": "code",
   "execution_count": 109,
   "metadata": {},
   "outputs": [
    {
     "name": "stdout",
     "output_type": "stream",
     "text": [
      "A\n",
      "0\n",
      "1\n",
      "2\n"
     ]
    }
   ],
   "source": [
    "reduced, cycles = reduced_graph(g_r)\n",
    "for node in list(nx.topological_sort(reduced)):\n",
    "    print (node)\n"
   ]
  },
  {
   "cell_type": "code",
   "execution_count": 110,
   "metadata": {},
   "outputs": [],
   "source": [
    "def create_iter_graph(graph, cycle, anchor):\n",
    "    ingress = find_ingress_nodes(graph, cycle, anchor)\n",
    "    iter_graph = graph.subgraph(list(cycle.nodes)+(ingress)+[anchor]).copy()\n",
    "    change_node_key(iter_graph, anchor, f\"iter_{anchor}\")    \n",
    "    iter_graph.nodes[f\"iter_{anchor}\"]['anchor'] = True\n",
    "    return iter_graph\n",
    "#_, cycles = reduced_graph(g_r)\n",
    "#draw(create_iter_graph(g_r, cycles['Ancestor'], 'Ancestor'))"
   ]
  },
  {
   "cell_type": "code",
   "execution_count": 111,
   "metadata": {},
   "outputs": [],
   "source": [
    "def generate_graph_code(graph):\n",
    "    flow_code = dict()\n",
    "    reduced, cycles = reduced_graph(graph)\n",
    "    for node in list(nx.topological_sort(reduced)):\n",
    "        if node in cycles.keys():\n",
    "            iter_graph = create_iter_graph(g_r, cycles[node], node)\n",
    "            #TODO: need to add mut to the var decleration\n",
    "            anchor_code = generate_code(reduced, node)\n",
    "            cycle_code = {}\n",
    "            cycle_order = traverse_cycle(graph, cycles[node], f\"iter_{node}\")\n",
    "            for cycle_node in cycle_order:\n",
    "                cycle_code[cycle_node] = generate_code(iter_graph, cycle_node, anchor=f\"iter_{node}\", in_iterate=True)\n",
    "            flow_code[node] = iterate_template.render({\n",
    "                    'ingress_nodes': find_ingress_nodes(g_r, list(cycles[node].nodes), node),\n",
    "                    'anchor': node,\n",
    "                    'cycle_flow': cycle_order,\n",
    "                    'flow_code': cycle_code,\n",
    "                    'anchor_code': anchor_code\n",
    "                })\n",
    "        else:\n",
    "            flow_code[node] = generate_code(g_r, node)\n",
    "    return flow_code\n",
    "\n",
    "flow_code = generate_graph_code(g_r)"
   ]
  },
  {
   "cell_type": "code",
   "execution_count": 112,
   "metadata": {},
   "outputs": [],
   "source": [
    "def get_output_data(graph):\n",
    "    output = find_output(graph)\n",
    "    return  output, len(graph.nodes[output]['schema'])\n"
   ]
  },
  {
   "cell_type": "markdown",
   "metadata": {},
   "source": [
    "Insights form Ancestors query:\n",
    "- Any node from outside that is being used inside should be entered to the scope at the begining of the scope:\n",
    "```rust\n",
    "    let node = node.enter(&iterate.scope());   \n",
    "```\n",
    "- the last row should be what suppose to be the union and should end with calling to the distinct() funciton (without semicol at the end to return it)\n"
   ]
  },
  {
   "cell_type": "code",
   "execution_count": 113,
   "metadata": {},
   "outputs": [],
   "source": [
    "output_node, output_vars=get_output_data(reduced)\n",
    "file_content=template.render(\n",
    "    sources=get_sources_data(g_r),\n",
    "    flow_code=flow_code,\n",
    "    top_sort=list(nx.topological_sort(reduced)),\n",
    "    query_id=111,\n",
    "    output_node= output_node,\n",
    "    output_vars = output_vars\n",
    "    \n",
    "    )\n",
    "with open('dataflow.rs', 'w') as f:\n",
    "    f.write(file_content)\n"
   ]
  },
  {
   "cell_type": "code",
   "execution_count": null,
   "metadata": {},
   "outputs": [],
   "source": []
  }
 ],
 "metadata": {
  "kernelspec": {
   "display_name": "Python 3",
   "language": "python",
   "name": "python3"
  },
  "language_info": {
   "codemirror_mode": {
    "name": "ipython",
    "version": 3
   },
   "file_extension": ".py",
   "mimetype": "text/x-python",
   "name": "python",
   "nbconvert_exporter": "python",
   "pygments_lexer": "ipython3",
   "version": "3.10.12"
  }
 },
 "nbformat": 4,
 "nbformat_minor": 2
}
